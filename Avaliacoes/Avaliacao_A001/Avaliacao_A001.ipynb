{
 "cells": [
  {
   "cell_type": "markdown",
   "id": "f42567c6",
   "metadata": {},
   "source": [
    "<center> <img src=\"logo_ifba.jpg\" alt=\"jpg_python\" width=\"100\" height=\"\"> </center>\n",
    "<br><br>\n",
    "<center> <img src=\"logo_coext.jpg\" alt=\"jpg_python\" width=\"200\" height=\"\"> </center>\n",
    "<br><br>\n",
    "<div align=\"center\"><span style=\"font-size: 26px;\"><strong>Python Com Jupyter Notebook</strong></span></div><br><br>\n",
    "<center> <img src=\"python_gif.gif\" alt=\"gif_python\" width=\"80\"> </center>\n"
   ]
  },
  {
   "cell_type": "markdown",
   "id": "3b31341b",
   "metadata": {},
   "source": [
    "<div style=\"border: 2px solid black; padding: 10px; width: 100%; background-color: lightgray; display: flex; align-items: center;\">\n",
    "    <h1 style=\"color: red; text-align: center; margin: auto;\">\n",
    "        Avaliação 1: Capítulos 1 a 6\n",
    "    </h1>\n",
    "</div>\n",
    "\n",
    "<font color='red'></font>\n",
    "<a href=\"\"></a>"
   ]
  },
  {
   "cell_type": "markdown",
   "id": "79b41d7f",
   "metadata": {},
   "source": [
    "Esta é a primeira avaliação referente ao projeto de extensão **Curso de Análise de Dados com Python**. Você poderá usar células de código para testar os códigos apresentados (geralmente dados na forma de figuras). As respostas devem ser inseridas no formulário: [Avaliação 1](https://forms.gle/sRYadN4TFvNcfCBk6)"
   ]
  },
  {
   "cell_type": "markdown",
   "id": "23a5e5ca",
   "metadata": {},
   "source": [
    "### <div style=\"margin-top: -20px;\">\n",
    "<hr style=\"border: 2px solid black;\">\n",
    "\n",
    "<font color='black'><span style=\"font-size: 18px;\"><strong>Questões Objetivas</strong></span></font>\n",
    "\n",
    "<hr style=\"border: 2px solid black;\">\n",
    "</div>"
   ]
  },
  {
   "cell_type": "markdown",
   "id": "baa2b383",
   "metadata": {},
   "source": [
    "#### Questão 1"
   ]
  },
  {
   "cell_type": "markdown",
   "id": "80029892",
   "metadata": {},
   "source": [
    "Considere a célula de código a seguir:<br><br>\n",
    " <center> <img src=\"img1_av1.jpg\" alt=\"jpg_python\" width=\"700\" height=\"\"> </center><br>\n",
    " É correto afirmar que:\n",
    " \n",
    " a) Ao compilarmos tal célula será exibido em tela o valor 8.\n",
    " \n",
    " b) Ao compilarmos tal célula será exibido em tela a expressão a = 8.\n",
    " \n",
    " c) Ao compilarmos tal célula será criada uma variável que armazenará o valor $8$ correspondente à soma de 3 e 5.\n",
    " \n",
    " d) Ao compilarmos tal célula será criada uma variável do tipo float. Além disso nada será exibido como saída pois, para isso, necessitaríamos usar a função print.\n",
    " \n",
    " e) Nenhuma das alternativas anteriores está correta."
   ]
  },
  {
   "cell_type": "markdown",
   "id": "4cb0d71e",
   "metadata": {},
   "source": [
    "#### Questão 2"
   ]
  },
  {
   "cell_type": "markdown",
   "id": "7edf8def",
   "metadata": {},
   "source": [
    "Considere a célula de código a seguir:<br><br>\n",
    " <center> <img src=\"img2_av1.jpg\" alt=\"jpg_python\" width=\"700\" height=\"\"> </center><br>\n",
    " É correto afirmar que:\n",
    " \n",
    " a) O valor da variável \"a\" é 2 e este valor será exibido em tela.\n",
    " \n",
    " b) O valor da variável \"a\" é -1 e este valor será exibido em tela.\n",
    " \n",
    " c) O valor da variável \"a\" é -1 e este valor não será exibido em tela, ficando somente armazenado nesta variável.\n",
    " \n",
    " d) O valor da variável \"a\" é -1 e valor não será exibido em tela pois há um erro no código.\n",
    " \n",
    " e) Nenhuma das alternativas anteriores está correta."
   ]
  },
  {
   "cell_type": "markdown",
   "id": "c923227b",
   "metadata": {},
   "source": [
    "#### Questão 3"
   ]
  },
  {
   "cell_type": "markdown",
   "id": "d94c6f21",
   "metadata": {},
   "source": [
    "Considere a célula de código a seguir:<br><br>\n",
    " <center> <img src=\"img3_av1.jpg\" alt=\"jpg_python\" width=\"700\" height=\"\"> </center><br>\n",
    " É correto afirmar que:\n",
    " \n",
    " a) \"type\" é uma função que determina o tipo de uma variável ou objeto.\n",
    " \n",
    " b) \"type\" é uma função que determina o tipo de uma variável ou objeto. Caso a célula em questão seja compilada teremos a indicação que \"a\" é do tipo \"int\".\n",
    " \n",
    " c) \"type\" é uma função que arredondará a variável \"a\" para o inteiro 3.\n",
    " \n",
    " d) \"type\" é uma função que irá tranformar a variável \"a\", inicialmente do tipo float em uma variável do tipo \"str\".\n",
    " \n",
    " e) Nenhuma das alternativas anteriores está correta."
   ]
  },
  {
   "cell_type": "markdown",
   "id": "25387809",
   "metadata": {},
   "source": [
    "#### Questão 4"
   ]
  },
  {
   "cell_type": "markdown",
   "id": "9b480426",
   "metadata": {},
   "source": [
    "Considere a célula a seguir:<br><br>\n",
    "<center> <img src=\"img4_av1.jpg\" alt=\"jpg_python\" width=\"800\" height=\"\"> </center><br>\n",
    "Considere as afirmações a seguir:\n",
    "\n",
    "I. **a** é uma variável do tipo float.  \n",
    "II. **c1** é uma variável do tipo int.  \n",
    "III. **1_d** é uma variável do tipo int.  \n",
    "IV. Uma expressão da forma **2\\*b** resulta em um erro do tipo **SyntaxError**.  \n",
    "V. A variável **e = int(c1)** resulta em uma variável inteira.\n",
    "\n",
    "Marque a alternativa correta:\n",
    "\n",
    "a) I, II e III são afirmações verdadeiras.  \n",
    "b) I e IV são afirmações verdadeiras.  \n",
    "c) III é uma afirmação verdadeira.  \n",
    "d) Apenas duas dentre as afirmações dadas são corretas.  \n",
    "e) Nenhuma das alternativas anteriores está correta."
   ]
  },
  {
   "cell_type": "markdown",
   "id": "305c32ed",
   "metadata": {},
   "source": [
    "#### Questão 5"
   ]
  },
  {
   "cell_type": "markdown",
   "id": "7ead71ac",
   "metadata": {},
   "source": [
    "Considerando uma entrada $x = 2$, a expressão $\\frac{x^{2} + 2x}{2}$ está corretamente posta em:<br><br>\n",
    "<center> <img src=\"img5_av1.jpg\" alt=\"jpg_python\" width=\"700\" height=\"\"> </center>"
   ]
  },
  {
   "cell_type": "markdown",
   "id": "b78b4753",
   "metadata": {},
   "source": [
    "#### Questão 6"
   ]
  },
  {
   "cell_type": "markdown",
   "id": "2efe1e05",
   "metadata": {},
   "source": [
    "Considere a célula de código a seguir que visa calcular alguns múltiplos de 3:<br><br>\n",
    "<center> <img src=\"img6_av1.jpg\" alt=\"jpg_python\" width=\"700\" height=\"\"> </center><br>\n",
    "\n",
    "É correto afirmar que:\n",
    "\n",
    "a) Há exatamente um erro no código e este aponta que o \"=\" na linha \"if numero \\%3 = 0:\" deve ser repassado para \"==\".\n",
    "\n",
    "b) Além do erro exposto na alternativa \"a\" há um outro erro de indentação envolvendo o comando de impressão \"print\".\n",
    "\n",
    "c) Há exatamente um erro no código e este aponta que há um erro de tipo envolvendo o comando de impressão \"print\".\n",
    "\n",
    "d) A célula de código como está posto funcionará corretamente e irá imprimir todos os múltiplos de 3 entre 1 e 20, isto é, 3, 6, 9, 12, 15 e 18.\n",
    "\n",
    "e) Nenhuma das alternativas anteriores está correta."
   ]
  },
  {
   "cell_type": "markdown",
   "id": "3a6e9a45",
   "metadata": {},
   "source": [
    "#### Questão 7"
   ]
  },
  {
   "cell_type": "markdown",
   "id": "18a6bbea",
   "metadata": {},
   "source": [
    "Considere as células de código a seguir:<br><br>\n",
    " <center> <img src=\"img7_av1.jpg\" alt=\"jpg_python\" width=\"800\" height=\"\"> </center>"
   ]
  },
  {
   "cell_type": "markdown",
   "id": "9706c72f",
   "metadata": {},
   "source": [
    "a) Somente a célula 1 irá rodar exibindo a frase: \"Eu tenho 1.67 metros de altura.\"\n",
    "\n",
    "b) Somente a célula 2 irá rodar exibindo a frase: \"Eu tenho altura na casa dos 2.03 metros.\"\n",
    "\n",
    "c) Somente a célula 2 irá rodar exibindo a frase: \"Eu tenho altura na casa dos 2 metros.\"\n",
    "\n",
    "d) Existe uma inconsistência na célula 2 uma vez que se escolheu a variável altura que é do tipo float. Isto irá gerar um erro de tipo pois a função int() só pode ser aplicada a variáveis interias.\n",
    "\n",
    "e) Nenhuma das alternativas anteriores está correta."
   ]
  },
  {
   "cell_type": "markdown",
   "id": "cd8e3fb3",
   "metadata": {},
   "source": [
    "#### Questão 8"
   ]
  },
  {
   "cell_type": "markdown",
   "id": "87eae76c",
   "metadata": {},
   "source": [
    "Considere as células de código a seguir compiladas após a célula \"*Entrada*\":<br><br>\n",
    " <center> <img src=\"img8_av1.jpg\" alt=\"jpg_python\" width=\"800\" height=\"\"> </center>"
   ]
  },
  {
   "cell_type": "markdown",
   "id": "75b67d2f",
   "metadata": {},
   "source": [
    "É correto afirmar que:\n",
    "\n",
    "a) O código exposto na *Célula 1* irá contar todas as letras \"p\" que aparecem em 'Paralelepípedo' exibindo 3 como saída.\n",
    "\n",
    "b) O código exposto na *Célula 2* irá contar todas as letras \"e\" que aparecem em 'Paralelepípedo'. Além disso repassando **palavra.count('e')** para **palavra.count('p')** todos as letras **p** que aparecem em 'Paralelepípedo' serão contados exibindo, em qualquer caso, saída 3.\n",
    "\n",
    "c) O código exposto na *Célula 3* irá apresentar saída igual a 0 uma vez que ela exibirá a posição da primeira letra **p** de 'Paralelepípedo' que aparece na posição cuja indexação é igual a 0.\n",
    "\n",
    "d) O código exposto na *Célula 4* irá apresentar saída igual a 6 uma vez que ela exibirá a posição da primeira letra **e** de 'Paralelepípedo' que aparece na posição cuja indexação é igual a 6.\n",
    "\n",
    "e) Nenhuma das alternativas anteriores está correta."
   ]
  },
  {
   "cell_type": "markdown",
   "id": "e2268001",
   "metadata": {},
   "source": [
    "### <div style=\"margin-top: -20px;\">\n",
    "<hr style=\"border: 2px solid black;\">\n",
    "\n",
    "<font color='black'><span style=\"font-size: 18px;\"><strong>Questões Abertas</strong></span></font>\n",
    "\n",
    "<hr style=\"border: 2px solid black;\">\n",
    "</div>"
   ]
  },
  {
   "cell_type": "markdown",
   "id": "6434ea44",
   "metadata": {
    "ExecuteTime": {
     "end_time": "2023-09-16T22:03:55.660515Z",
     "start_time": "2023-09-16T22:03:55.655880Z"
    }
   },
   "source": [
    "#### Questão 9"
   ]
  },
  {
   "cell_type": "markdown",
   "id": "f3aa6d17",
   "metadata": {},
   "source": [
    "Considere o texto a seguir:\n",
    "\n",
    "*Matemática (dos termos gregos: μάθημα, transliterado máthēma, 'ciência', conhecimento' ou 'aprendizagem[1]; e μαθηματικός, transliterado mathēmatikós, 'inclinado a aprender') é a ciência do raciocínio lógico e abstrato, que estuda quantidades (teoria dos números), espaço e medidas (geometria), estruturas, variações[2] e estatística.[3][4][5] Não há, porém, uma definição consensual por parte da comunidade científica.[6][7] O trabalho matemático consiste em procurar e relacionar padrões,[8][9] de modo a formular conjecturas[10] cuja veracidade ou falsidade é provada por meio de deduções rigorosas, a partir de axiomas e definições. A matemática desenvolveu-se principalmente na Mesopotâmia, no Egito, na Grécia, na Índia e no Oriente Médio. Após a Renascença, o desenvolvimento da matemática intensificou-se na Europa, quando novas descobertas científicas levaram a um acúmulo rápido de conhecimento que dura até os dias de hoje.[11]*\n",
    "\n",
    "[link do texto](https://pt.wikipedia.org/wiki/Matem%C3%A1tica)"
   ]
  },
  {
   "cell_type": "markdown",
   "id": "59713b45",
   "metadata": {},
   "source": [
    "O texto acima está armazenado na variável \"texto\" na célula a seguir:"
   ]
  },
  {
   "cell_type": "code",
   "execution_count": null,
   "id": "a629ea1f",
   "metadata": {
    "ExecuteTime": {
     "end_time": "2023-09-17T23:11:43.078322Z",
     "start_time": "2023-09-17T23:11:43.073822Z"
    }
   },
   "outputs": [],
   "source": [
    "texto = \"Matemática (dos termos gregos: μάθημα, transliterado máthēma, 'ciência', conhecimento' ou 'aprendizagem[1]; e μαθηματικός, transliterado mathēmatikós, 'inclinado a aprender') é a ciência do raciocínio lógico e abstrato, que estuda quantidades (teoria dos números), espaço e medidas (geometria), estruturas, variações[2] e estatística.[3][4][5] Não há, porém, uma definição consensual por parte da comunidade científica.[6][7] O trabalho matemático consiste em procurar e relacionar padrões,[8][9] de modo a formular conjecturas[10] cuja veracidade ou falsidade é provada por meio de deduções rigorosas, a partir de axiomas e definições. A matemática desenvolveu-se principalmente na Mesopotâmia, no Egito, na Grécia, na Índia e no Oriente Médio. Após a Renascença, o desenvolvimento da matemática intensificou-se na Europa, quando novas descobertas científicas levaram a um acúmulo rápido de conhecimento que dura até os dias de hoje.[11]\""
   ]
  },
  {
   "cell_type": "markdown",
   "id": "26e5b0ba",
   "metadata": {},
   "source": [
    "Nas três próximas células implemente as seguintes tarefas:\n",
    "\n",
    "1. Imprima o texto\n",
    "\n",
    "2. Conte quantas vezes a palavra matemática ocorreu nele (incluindo maiúsculas e minúsculas)\n",
    "\n",
    "3. Repasse todas as palavas obtidas na tarefa \"2\" para |MATEMÁTICA| (entre barras verticais). E imprima o texto formatado.\n",
    "\n",
    "4. Coloque, na ordem, todas as células usadas em uma única célula. <u>**Esta deve ser copiada no formulário Avaliação 1 no campo correspondente à Questão 6**</u>."
   ]
  },
  {
   "cell_type": "markdown",
   "id": "f4bb1b20",
   "metadata": {},
   "source": [
    "#### Questão 10"
   ]
  },
  {
   "cell_type": "markdown",
   "id": "d86df019",
   "metadata": {},
   "source": [
    "Crie um código que exiba o resultado da divisão de todos os valores a seguir por $7$ exibindo os resultados com duas casas de precisão com arredondamento padrão: 3,4,5,6,7,8,9,10,11,12,13,14. Além disso, imprima uma saída como **\"O resultado da divisão de x por 7, com duas casas decimais é xxx.\"**."
   ]
  }
 ],
 "metadata": {
  "kernelspec": {
   "display_name": "Python 3 (ipykernel)",
   "language": "python",
   "name": "python3"
  },
  "language_info": {
   "codemirror_mode": {
    "name": "ipython",
    "version": 3
   },
   "file_extension": ".py",
   "mimetype": "text/x-python",
   "name": "python",
   "nbconvert_exporter": "python",
   "pygments_lexer": "ipython3",
   "version": "3.11.4"
  }
 },
 "nbformat": 4,
 "nbformat_minor": 5
}
