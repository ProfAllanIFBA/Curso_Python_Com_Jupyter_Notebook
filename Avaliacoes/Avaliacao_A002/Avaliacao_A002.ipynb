{
 "cells": [
  {
   "cell_type": "markdown",
   "id": "f42567c6",
   "metadata": {},
   "source": [
    "<center> <img src=\"logo_ifba.jpg\" alt=\"jpg_python\" width=\"100\" height=\"\"> </center>\n",
    "<br><br>\n",
    "<center> <img src=\"logo_coext.jpg\" alt=\"jpg_python\" width=\"200\" height=\"\"> </center>\n",
    "<br><br>\n",
    "<div align=\"center\"><span style=\"font-size: 26px;\"><strong>Python Com Jupyter Notebook</strong></span></div><br><br>\n",
    "<center> <img src=\"python_gif.gif\" alt=\"gif_python\" width=\"80\"> </center>\n"
   ]
  },
  {
   "cell_type": "markdown",
   "id": "3b31341b",
   "metadata": {},
   "source": [
    "<div style=\"border: 2px solid black; padding: 10px; width: 100%; background-color: lightgray; display: flex; align-items: center;\">\n",
    "    <h1 style=\"color: red; text-align: center; margin: auto;\">\n",
    "        Avaliação 2: Capítulos 1 a 15*\n",
    "    </h1>\n",
    "</div>\n",
    "\n",
    "<font color='red'>*Cumulativa com assuntos da Avaliação 1</font>\n",
    "\n",
    "<a href=\"\"></a>"
   ]
  },
  {
   "cell_type": "markdown",
   "id": "79b41d7f",
   "metadata": {},
   "source": [
    "Esta é a primeira avaliação referente ao projeto de extensão **Curso de Análise de Dados com Python**. Você poderá usar células de código para testar os códigos apresentados (geralmente dados na forma de figuras). As respostas devem ser inseridas no formulário: [Avaliação 2](https://forms.gle/y7bqrWV99cGH4ows6)"
   ]
  },
  {
   "cell_type": "markdown",
   "id": "23a5e5ca",
   "metadata": {},
   "source": [
    "### <div style=\"margin-top: -20px;\">\n",
    "<hr style=\"border: 2px solid black;\">\n",
    "\n",
    "<font color='black'><span style=\"font-size: 18px;\"><strong>Questões Objetivas</strong></span></font>\n",
    "\n",
    "<hr style=\"border: 2px solid black;\">\n",
    "</div>"
   ]
  },
  {
   "cell_type": "markdown",
   "id": "baa2b383",
   "metadata": {},
   "source": [
    "#### Questão 1"
   ]
  },
  {
   "cell_type": "markdown",
   "id": "e044aaec",
   "metadata": {},
   "source": [
    "Considere o código a seguir:"
   ]
  },
  {
   "cell_type": "markdown",
   "id": "5685c262",
   "metadata": {},
   "source": [
    "<center> <img src=\"img1_av2.jpg\" alt=\"jpg_python\" width=\"900\" height=\"\"> </center>"
   ]
  },
  {
   "cell_type": "markdown",
   "id": "61cf28de",
   "metadata": {},
   "source": [
    "É correto afirmar que:\n",
    "    \n",
    "a) O objeto **ESTRUTURA** é criado como um conjunto (<class 'set'>).\n",
    "\n",
    "b) O objeto **ESTRUTURA** é criado como um conjunto (<class 'set'>), mas em seguida muda para (<class 'dict'>) a ser modificado na estrutura de repetição **for**.\n",
    "\n",
    "c) O objeto **ESTRUTURA** ao se finalizar o processo pode ter seu quinto elemento consultado/impresso por meio do comando **print(ESTRUTURA[4])**.\n",
    "\n",
    "d) O objeto **ESTRUTURA** é criado como um dicionário (<class 'dict'>) e assim permanece durante todo o processo restante.\n",
    "\n",
    "e) Nenhuma das alternativas anteriores está correta.    "
   ]
  },
  {
   "cell_type": "markdown",
   "id": "4cb0d71e",
   "metadata": {},
   "source": [
    "#### Questão 2"
   ]
  },
  {
   "cell_type": "markdown",
   "id": "943c9fb0",
   "metadata": {},
   "source": [
    "O código a seguir é parte de um código maior que determinará qual presente será ganho em uma data comemorativa conforme a idade do participante das comemorações."
   ]
  },
  {
   "cell_type": "markdown",
   "id": "43d0c3b2",
   "metadata": {},
   "source": [
    "<center> <img src=\"img2_av2.jpg\" alt=\"jpg_python\" width=\"900\" height=\"\"> </center>"
   ]
  },
  {
   "cell_type": "markdown",
   "id": "79bd4743",
   "metadata": {},
   "source": [
    "É correto afirmar que:\n",
    "\n",
    "a) Indivíduos de todas as idades ganharão um dos presentes, *quebra cabeças*, *boneco de anime*, *jogo de grupo* ou *livro*.\n",
    "\n",
    "b) Um indivíduo de 10 anos ganhará um *boneco de anime*.\n",
    "\n",
    "c) Um indivíduo de 13 anos não ganhará presentes.\n",
    "\n",
    "d) Um indivíduo de 7 anos ganhará um *quebra cabeças*.\n",
    "\n",
    "e) Nenhuma das alternativas anteriores está correta."
   ]
  },
  {
   "cell_type": "markdown",
   "id": "c923227b",
   "metadata": {},
   "source": [
    "#### Questão 3"
   ]
  },
  {
   "cell_type": "markdown",
   "id": "14f4faec",
   "metadata": {},
   "source": [
    "Considere o código a seguir:"
   ]
  },
  {
   "cell_type": "markdown",
   "id": "aee031be",
   "metadata": {},
   "source": [
    "<center> <img src=\"img3_av2.jpg\" alt=\"jpg_python\" width=\"900\" height=\"\"> </center>"
   ]
  },
  {
   "cell_type": "markdown",
   "id": "956e6429",
   "metadata": {},
   "source": [
    "Com base neste código, podemos dizer que:\n",
    "\n",
    "a) A estrutura **for** percorrerá todos os valores do dicionário.\n",
    "\n",
    "b) Todos os indivíduos presentes no dicionário **nomes_idades** receberão presentes.\n",
    "\n",
    "c) Somente 'Allan' não ganhará presente.\n",
    "\n",
    "d) Há um erro de identação no código.\n",
    "\n",
    "e) Nenhuma das alternativas anteriores está correta."
   ]
  },
  {
   "cell_type": "markdown",
   "id": "25387809",
   "metadata": {},
   "source": [
    "#### Questão 4"
   ]
  },
  {
   "cell_type": "markdown",
   "id": "4d72e69a",
   "metadata": {},
   "source": [
    "Considere as funções definidas no código a seguir:"
   ]
  },
  {
   "cell_type": "markdown",
   "id": "4dbb9df7",
   "metadata": {},
   "source": [
    "<center> <img src=\"img4_av2.jpg\" alt=\"jpg_python\" width=\"900\" height=\"\"> </center>"
   ]
  },
  {
   "cell_type": "markdown",
   "id": "6e85a100",
   "metadata": {},
   "source": [
    "É correto afirmar que:\n",
    "\n",
    "a) O valor de f(2)\\*g(2) é igual a 20.\n",
    "\n",
    "b) A expressão f(2)\\*g(2) não pode ser realizada devido as saídas de f(x) e g(x) não serem compatíveis com a operação \\*.\n",
    "\n",
    "c) O valor de g(f(1)) é igual a 1.\n",
    "\n",
    "d) A expressão f(g(1)) não pode ser realizada devido as saídas de f(x) e g(x) não serem compatíveis.\n",
    "\n",
    "e) Nenhuma das alternativas anteriores está correta."
   ]
  },
  {
   "cell_type": "markdown",
   "id": "305c32ed",
   "metadata": {},
   "source": [
    "#### Questão 5"
   ]
  },
  {
   "cell_type": "markdown",
   "id": "9eae82c1",
   "metadata": {},
   "source": [
    "Considere o código a seguir:"
   ]
  },
  {
   "cell_type": "markdown",
   "id": "47671d3c",
   "metadata": {},
   "source": [
    "<center> <img src=\"img5_av2.jpg\" alt=\"jpg_python\" width=\"900\" height=\"\"> </center>"
   ]
  },
  {
   "cell_type": "markdown",
   "id": "25f972a1",
   "metadata": {},
   "source": [
    "É correto afirmar que:\n",
    "\n",
    "a) Há um erro de identação.\n",
    "\n",
    "b) O código imprimirá todos os valores da lista gerada.\n",
    "\n",
    "c) O objeto **lista** corresponde a todos os números de 1 a 100.\n",
    "\n",
    "d) O valor 13 será uma saída impressa.\n",
    "\n",
    "e) Nenhuma das alternativas anteriores está correta."
   ]
  },
  {
   "cell_type": "markdown",
   "id": "b78b4753",
   "metadata": {},
   "source": [
    "#### Questão 6"
   ]
  },
  {
   "cell_type": "markdown",
   "id": "229b53b5",
   "metadata": {},
   "source": [
    "Considere o código a seguir:"
   ]
  },
  {
   "cell_type": "markdown",
   "id": "7ef691dd",
   "metadata": {},
   "source": [
    "<center> <img src=\"img6_av2.jpg\" alt=\"jpg_python\" width=\"900\" height=\"\"> </center>"
   ]
  },
  {
   "cell_type": "markdown",
   "id": "24fa809a",
   "metadata": {},
   "source": [
    "É correto afirmar que:\n",
    "\n",
    "a) A estrutura de repetição **if** irá percorrer toda a palavra 'Araraquara' fazendo a contagem de todas as letas 'a' minúsculas \n",
    "\n",
    "b) A estrutura de condicional **if** irá percorrer toda a palavra 'Araraquara' fazendo a contagem de todas as letas 'a' minúsculas e 'A' maiúsculas.\n",
    "\n",
    "c) O método **count** será aplicado à variável palavra cujo valor é 'Araraquara' fazendo a contagem de toda letra 'a' minúscula.\n",
    "\n",
    "d) O método **count** será aplicado à variável palavra cujo valor é 'Araraquara' fazendo a contagem de toda letra 'a' minúscula e também 'A' maiúscula.\n",
    "\n",
    "e) Nenhuma das alternativas anteriores está correta."
   ]
  },
  {
   "cell_type": "markdown",
   "id": "3a6e9a45",
   "metadata": {},
   "source": [
    "#### Questão 7"
   ]
  },
  {
   "cell_type": "markdown",
   "id": "e83cf87f",
   "metadata": {},
   "source": [
    "Considere o código a seguir:"
   ]
  },
  {
   "cell_type": "markdown",
   "id": "92ffcd8a",
   "metadata": {},
   "source": [
    "<center> <img src=\"img7_av2.jpg\" alt=\"jpg_python\" width=\"900\" height=\"\"> </center>"
   ]
  },
  {
   "cell_type": "markdown",
   "id": "ab3af3b2",
   "metadata": {},
   "source": [
    "É correto afirmar que:\n",
    "\n",
    "a) O código a seguir apresentará como saída indicando o nível de uma aluno de certa turma com base em suas notas e se participou ou não de atividades extra-curriculares.\n",
    "\n",
    "b) O maior nível que um aluno pode alcançar é o excelente.\n",
    "\n",
    "c) Caso se digite um nome que não esteja presente na lista **estudantes_turma** o código apresentará um erro.\n",
    "\n",
    "d) O fato das listas **estudantes_turma**, **notas** e **atividades_extracurriculares** não apresentarem o mesmo tamanho acarretará erros na execução para alguns dos nomes presentes na lista **estudantes_turma**.\n",
    "\n",
    "e) Nenhuma das alternativas anteriores está correta."
   ]
  },
  {
   "cell_type": "markdown",
   "id": "cd8e3fb3",
   "metadata": {},
   "source": [
    "#### Questão 8"
   ]
  },
  {
   "cell_type": "markdown",
   "id": "44ec16fd",
   "metadata": {},
   "source": [
    "Considere o código a seguir:"
   ]
  },
  {
   "cell_type": "markdown",
   "id": "960c9704",
   "metadata": {},
   "source": [
    "<center> <img src=\"img8_av2.jpg\" alt=\"jpg_python\" width=\"900\" height=\"\"> </center>"
   ]
  },
  {
   "cell_type": "markdown",
   "id": "90d12f60",
   "metadata": {},
   "source": [
    "É correto afirmar que:\n",
    "\n",
    "a) O código exibirá o gráfico da função $f(x) = x^{2}$ para $x$ no conjunto $\\{1,2,3,4,5\\}$.\n",
    "\n",
    "b) O código apresenta um erro ao tentar exibir o plot do gráfico correspondente ao gráfico de $f(x) = x^{2}$ para $x$ no conjunto $\\{1,2,3,4,5\\}$. Contudo, pode-se contornar o erro substituido-se a linha **y = x\\*\\*2** por **y = [i\\*\\*2 for i in x]**.\n",
    "\n",
    "c) Ao compilar o código será apontado um erro de identação.\n",
    "\n",
    "d) O código apresenta um erro, contudo ao se substituir **x = [1,2,3,4,5]** por **x = (1,2,3,4,5)** ele exibirá o gráfico da função $f(x) = x^{2}$ para $x$ no conjunto $\\{1,2,3,4,5\\}$.\n",
    "\n",
    "e) Nenhuma das alternativas anteriores está correta."
   ]
  },
  {
   "cell_type": "markdown",
   "id": "e2268001",
   "metadata": {},
   "source": [
    "### <div style=\"margin-top: -20px;\">\n",
    "<hr style=\"border: 2px solid black;\">\n",
    "\n",
    "<font color='black'><span style=\"font-size: 18px;\"><strong>Questões Abertas</strong></span></font>\n",
    "\n",
    "<hr style=\"border: 2px solid black;\">\n",
    "</div>"
   ]
  },
  {
   "cell_type": "markdown",
   "id": "6434ea44",
   "metadata": {
    "ExecuteTime": {
     "end_time": "2023-09-16T22:03:55.660515Z",
     "start_time": "2023-09-16T22:03:55.655880Z"
    }
   },
   "source": [
    "#### Questão 9"
   ]
  },
  {
   "cell_type": "markdown",
   "id": "491fd4b1",
   "metadata": {},
   "source": [
    "Construa uma função que cadastra nome e cpf de um usuário em uma lista e uma outra que consulta os usuários cadastrados na lista anterior. A título de exemplificação:\n",
    "\n",
    "1. Cadastre \n",
    "- Maria da Silva, 123456789\n",
    "- João de Sousa, 234567891\n",
    "2. Consulte todos os usuários cadastrados\n",
    "3. Consulte\n",
    "- Maria da Silva, 123456789\n",
    "4. Remova \n",
    "- João de Sousa, 234567891"
   ]
  },
  {
   "cell_type": "markdown",
   "id": "f4bb1b20",
   "metadata": {},
   "source": [
    "#### Questão 10"
   ]
  },
  {
   "cell_type": "markdown",
   "id": "f8a65941",
   "metadata": {},
   "source": [
    "Escolha dois dos exercícios anteriores (1 ao 8) e solicite ao GPT que comente os mesmos. Insira tanto códigos como as alternativas. O que você observou? Devemos sempre recorrer ao GPT?"
   ]
  }
 ],
 "metadata": {
  "kernelspec": {
   "display_name": "Python 3 (ipykernel)",
   "language": "python",
   "name": "python3"
  },
  "language_info": {
   "codemirror_mode": {
    "name": "ipython",
    "version": 3
   },
   "file_extension": ".py",
   "mimetype": "text/x-python",
   "name": "python",
   "nbconvert_exporter": "python",
   "pygments_lexer": "ipython3",
   "version": "3.11.4"
  }
 },
 "nbformat": 4,
 "nbformat_minor": 5
}
