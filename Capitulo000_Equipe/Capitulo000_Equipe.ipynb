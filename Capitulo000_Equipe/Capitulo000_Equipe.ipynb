{
 "cells": [
  {
   "cell_type": "markdown",
   "id": "f5cb11d1",
   "metadata": {},
   "source": [
    "<br><br>\n",
    "<div align=\"center\"><span style=\"font-size: 26px;\"><strong>Equipe</strong></span></div><br><br>"
   ]
  },
  {
   "cell_type": "markdown",
   "id": "61ac1447",
   "metadata": {},
   "source": [
    "**Coordenador**: \n",
    "- Allan de Sousa Soares\n",
    "\n",
    "**Monitores Volutários (2024)**\n",
    "- Jonas Souza Pinto\n",
    "- Eduardo Alves Teixeira Costa"
   ]
  }
 ],
 "metadata": {
  "kernelspec": {
   "display_name": "Python 3 (ipykernel)",
   "language": "python",
   "name": "python3"
  },
  "language_info": {
   "codemirror_mode": {
    "name": "ipython",
    "version": 3
   },
   "file_extension": ".py",
   "mimetype": "text/x-python",
   "name": "python",
   "nbconvert_exporter": "python",
   "pygments_lexer": "ipython3",
   "version": "3.11.5"
  },
  "varInspector": {
   "cols": {
    "lenName": 16,
    "lenType": 16,
    "lenVar": 40
   },
   "kernels_config": {
    "python": {
     "delete_cmd_postfix": "",
     "delete_cmd_prefix": "del ",
     "library": "var_list.py",
     "varRefreshCmd": "print(var_dic_list())"
    },
    "r": {
     "delete_cmd_postfix": ") ",
     "delete_cmd_prefix": "rm(",
     "library": "var_list.r",
     "varRefreshCmd": "cat(var_dic_list()) "
    }
   },
   "types_to_exclude": [
    "module",
    "function",
    "builtin_function_or_method",
    "instance",
    "_Feature"
   ],
   "window_display": false
  }
 },
 "nbformat": 4,
 "nbformat_minor": 5
}
