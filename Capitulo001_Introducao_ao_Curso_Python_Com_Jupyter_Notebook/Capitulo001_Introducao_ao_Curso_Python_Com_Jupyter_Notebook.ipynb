{
 "cells": [
  {
   "cell_type": "markdown",
   "id": "c062fb64",
   "metadata": {
    "ExecuteTime": {
     "end_time": "2023-06-02T15:10:56.675328Z",
     "start_time": "2023-06-02T15:10:56.669368Z"
    }
   },
   "source": [
    "<center> <img src=\"logo_ifba.jpg\" alt=\"jpg_python\" width=\"100\" height=\"\"> </center>\n",
    "<br><br>\n",
    "<center> <img src=\"logo_coext.jpg\" alt=\"jpg_python\" width=\"200\" height=\"\"> </center>\n",
    "<br><br>\n",
    "<div align=\"center\"><span style=\"font-size: 26px;\"><strong>Python Com Jupyter Notebook</strong></span></div><br><br>\n",
    "<center><div style=\"text-align:center\">    <a href=\"https://colab.research.google.com/github/ProfAllanIFBA/Curso_Python_Com_Jupyter_Notebook/blob/main/Capitulo001_Introducao_ao_Curso_Python_Com_Jupyter_Notebook/Capitulo001_Introducao_ao_Curso_Python_Com_Jupyter_Notebook.ipynb\">Link Colab</a> \n",
    "</div><br><br></center>\n",
    "<center> <img src=\"python_gif.gif\" alt=\"gif_python\" width=\"80\"> </center>"
   ]
  },
  {
   "cell_type": "markdown",
   "id": "bb456562",
   "metadata": {
    "ExecuteTime": {
     "end_time": "2023-06-02T15:10:06.558633Z",
     "start_time": "2023-06-02T15:10:06.543696Z"
    }
   },
   "source": [
    "Este material apresenta uma explicação detalhada sobre o uso do software de programação em Python chamado Jupyter Notebook, com foco na análise de dados. Abordaremos desde estruturas básicas, como listas e dicionários, até estruturas mais complexas voltadas para a análise de dados, como pandas e seaborn, além de ferramentas destinadas à inteligência artificial.\n",
    "\n",
    "\n",
    "<font color='red'> <u>Este é um material de uso público e totalmente gratuito</u>. Contudo, eventuais edições são de responsabilidade de quem as fizer. </font>\n",
    "\n",
    "Você pode ajudar a melhorar este material!\n",
    "\n",
    "Contato e Sugestões: allansoares@ifba.edu.br.\n",
    "\n",
    "[**Equipe Executora**](https://github.com/ProfAllanIFBA/Curso_Python_Com_Jupyter_Notebook/blob/main/Capitulo000_Equipe/Capitulo000_Equipe.ipynb)"
   ]
  },
  {
   "cell_type": "markdown",
   "id": "38f49536",
   "metadata": {},
   "source": [
    "### <center> <font color='red'> Vídeo Aulas <img src=\"youtube.gif\" alt=\"jpg_python\" width=\"100\" height=\"\"> </font> </center>"
   ]
  },
  {
   "cell_type": "markdown",
   "id": "02467301",
   "metadata": {},
   "source": [
    "[Introdução ao Curso Python Com Jupyter Notebook](https://youtu.be/qyLuraDP6Bg)\n",
    "\n",
    "[Perguntas Iniciais](https://youtu.be/5mgMXCNusaE)\n",
    "\n",
    "[Ambiente de Programação Jupyter Notebook](https://youtu.be/7ph3AvVeW60)\n",
    "\n",
    "[Baixando os Arquivos do Curso Python Com Jupyter Notebook](https://youtu.be/YCEJLu-fZ-g)\n",
    "\n",
    "[Abrindo Um Arquivo Jupyter](https://youtu.be/zY1VUgBD1Fo)\n",
    "\n",
    "[Criando Um Projeto Jupyter](https://youtu.be/m-AeDx7Y8WE)\n",
    "\n",
    "[Ambiente de Programação Google Colab](https://youtu.be/mDInsKbbjQs)\n",
    "\n",
    "[Integracão Jupyter Notebook - GitHub - Google Colab](https://youtu.be/ECgrYSSzNBo)\n",
    "\n",
    "[Personalização Inicial do Jupyter Notebook](https://youtu.be/rqWrXFLSgrc)"
   ]
  },
  {
   "cell_type": "markdown",
   "id": "275201ee",
   "metadata": {},
   "source": [
    "<div style=\"border: 2px solid black; padding: 10px; width: 100%; background-color: lightgray; display: flex; align-items: center;\">\n",
    "    <h1 style=\"color: red; text-align: center; margin: auto;\">\n",
    "        Capítulo 1: Introdução ao Curso Python Com Jupyter Notebook\n",
    "    </h1>\n",
    "</div>\n",
    "\n",
    "<font color='red'></font>\n",
    "<a href=\"\"></a>"
   ]
  },
  {
   "cell_type": "markdown",
   "id": "ba631960",
   "metadata": {},
   "source": [
    "## <div style=\"margin-top: -20px;\">\n",
    "<hr style=\"border: 2px solid blue;\">\n",
    "\n",
    "<font color='blue'><span style=\"font-size: 22px;\"><strong>1.1 Perguntas Iniciais</strong></span></font>\n",
    "\n",
    "<hr style=\"border: 2px solid blue;\">\n",
    "</div>"
   ]
  },
  {
   "cell_type": "markdown",
   "id": "b89b4c91",
   "metadata": {},
   "source": [
    "#### O que é análise de dados?"
   ]
  },
  {
   "cell_type": "markdown",
   "id": "2c0bd608",
   "metadata": {},
   "source": [
    "Análise de dados é o processo de inspecionar, limpar, transformar e modelar dados com o objetivo de descobrir informações úteis, apoiar a tomada de decisões e resolver problemas."
   ]
  },
  {
   "cell_type": "markdown",
   "id": "77309818",
   "metadata": {},
   "source": [
    "#### Por que Python?"
   ]
  },
  {
   "cell_type": "markdown",
   "id": "e2ef99e3",
   "metadata": {},
   "source": [
    "O Python é uma das linguagens de programação mais populares para a análise de dados por diversas razões, incluindo:"
   ]
  },
  {
   "cell_type": "markdown",
   "id": "cf6edc4a",
   "metadata": {},
   "source": [
    "- **Grande variedade de bibliotecas especializadas:** O Python possui uma vasta biblioteca de pacotes específicos para análise de dados, como NumPy, Pandas, Matplotlib, Seaborn e Scikit-Learn, que fornecem ferramentas poderosas para visualizar, manipular e analisar dados."
   ]
  },
  {
   "cell_type": "markdown",
   "id": "674536bc",
   "metadata": {},
   "source": [
    "- **Fácil manipulação de dados:** O Python é uma linguagem fácil de aprender e usar, com uma sintaxe clara e simples. Além disso, as bibliotecas mencionadas anteriormente oferecem funções avançadas para manipulação de dados, como limpeza, transformação e agregação de dados."
   ]
  },
  {
   "cell_type": "markdown",
   "id": "0da14549",
   "metadata": {},
   "source": [
    "- **Flexibilidade:** O Python é uma linguagem muito flexível e pode ser usada em uma ampla variedade de contextos de análise de dados, incluindo aprendizado de máquina, processamento de linguagem natural, visualização de dados e análise estatística."
   ]
  },
  {
   "cell_type": "markdown",
   "id": "8940eea3",
   "metadata": {},
   "source": [
    "Mais especificamente, o Python pode ser útil para a análise de dados de várias maneiras, como:"
   ]
  },
  {
   "cell_type": "markdown",
   "id": "4692bbad",
   "metadata": {},
   "source": [
    "- **Importação e limpeza de dados:** O Python pode ser usado para importar dados de várias fontes e formatos, como arquivos CSV, JSON e Excel, e para limpar e preparar esses dados para análise."
   ]
  },
  {
   "cell_type": "markdown",
   "id": "65c3c6b2",
   "metadata": {},
   "source": [
    "- **Análise exploratória de dados:** O Python oferece bibliotecas poderosas para visualização de dados, como Matplotlib e Seaborn, que permitem a criação de gráficos e visualizações interativas para explorar e entender os dados."
   ]
  },
  {
   "cell_type": "markdown",
   "id": "306cd235",
   "metadata": {},
   "source": [
    "- **Análise estatística:** O Python possui bibliotecas especializadas para análise estatística, como Scipy e Statsmodels, que permitem a execução de testes estatísticos e a modelagem de dados."
   ]
  },
  {
   "cell_type": "markdown",
   "id": "d12f1fc9",
   "metadata": {},
   "source": [
    "- **Aprendizado de máquina:** O Python é amplamente usado em aprendizado de máquina e mineração de dados devido à sua grande variedade de bibliotecas especializadas, como Scikit-Learn e TensorFlow, que permitem a criação de modelos de aprendizado de máquina para classificação, regressão e clusterização."
   ]
  },
  {
   "cell_type": "markdown",
   "id": "08e2736e",
   "metadata": {},
   "source": [
    "## <div style=\"margin-top: -20px;\">\n",
    "<hr style=\"border: 2px solid blue;\">\n",
    "\n",
    "<font color='blue'><span style=\"font-size: 22px;\"><strong>1.2 Ambientes de Programação</strong></span></font>\n",
    "\n",
    "<hr style=\"border: 2px solid blue;\">\n",
    "</div>"
   ]
  },
  {
   "cell_type": "markdown",
   "id": "30b972ce",
   "metadata": {},
   "source": [
    "Os ambientes de programação para Python são ferramentas que facilitam o desenvolvimento de programas nessa linguagem. Eles oferecem recursos que auxiliam desde a escrita até o teste e depuração do código. Existem muitos ambientes de programação disponíveis para Python, incluindo IDEs (Integrated Development Environments) e editores de texto, cada um com suas características particulares."
   ]
  },
  {
   "cell_type": "markdown",
   "id": "8b7c8829",
   "metadata": {},
   "source": [
    "### <div style=\"margin-top: -20px;\">\n",
    "<hr style=\"border: 2px solid blue;\">\n",
    "\n",
    "<font color='blue'><span style=\"font-size: 18px;\"><strong>1.2.1 Jupyter Notebook</strong></span></font>\n",
    "\n",
    "<hr style=\"border: 2px solid blue;\">\n",
    "</div>"
   ]
  },
  {
   "cell_type": "markdown",
   "id": "8cef84df",
   "metadata": {},
   "source": [
    "O <u>Jupyter Notebook</u> é uma ferramenta popular para a análise de dados interativa e a programação científica. Ele permite que os usuários criem e compartilhem documentos que contenham código, visualizações e texto explicativo em um único ambiente. Uma grande vantagem do Jupyter é que ele suporta uma variedade de linguagens de programação, incluindo Python, R, Julia e MATLAB. Além disso, o Jupyter tem uma interface amigável para os usuários executarem e modificarem o código em etapas separadas, além de ser capaz de criar e executar blocos de código em qualquer ordem."
   ]
  },
  {
   "cell_type": "markdown",
   "id": "8e2a59e8",
   "metadata": {},
   "source": [
    "Vamos dar uma olhada no nosso primeiro exemplo de execução de código no ambiente Jupyter Notebook. A execução de um código pode ser feita pressionando o botão \"Run\" (ou utilizando a combinação de teclas \"Ctrl+Enter\")."
   ]
  },
  {
   "cell_type": "markdown",
   "id": "fb01c87a",
   "metadata": {},
   "source": [
    "#### *Exemplo: Nosso primeiro programa!*"
   ]
  },
  {
   "cell_type": "code",
   "execution_count": null,
   "id": "175a81b8",
   "metadata": {
    "ExecuteTime": {
     "end_time": "2023-08-30T01:44:48.344877Z",
     "start_time": "2023-08-30T01:44:48.312962Z"
    }
   },
   "outputs": [],
   "source": [
    "# Dados\n",
    "a = 1\n",
    "b = 1"
   ]
  },
  {
   "cell_type": "code",
   "execution_count": null,
   "id": "52cbffa1",
   "metadata": {
    "ExecuteTime": {
     "end_time": "2023-08-30T01:44:48.357998Z",
     "start_time": "2023-08-30T01:44:48.346872Z"
    }
   },
   "outputs": [],
   "source": [
    "# Variável de armazenamento da soma\n",
    "c = a + b"
   ]
  },
  {
   "cell_type": "code",
   "execution_count": null,
   "id": "d21178c8",
   "metadata": {
    "ExecuteTime": {
     "end_time": "2023-08-30T01:44:48.365977Z",
     "start_time": "2023-08-30T01:44:48.358971Z"
    }
   },
   "outputs": [],
   "source": [
    "# Imprimindo uma variável\n",
    "print(c)"
   ]
  },
  {
   "cell_type": "markdown",
   "id": "24e9e348",
   "metadata": {},
   "source": [
    "link: https://repo.anaconda.com/archive/"
   ]
  },
  {
   "cell_type": "markdown",
   "id": "e5e65b3f",
   "metadata": {},
   "source": [
    "### <div style=\"margin-top: -20px;\">\n",
    "<hr style=\"border: 2px solid blue;\">\n",
    "\n",
    "<font color='blue'><span style=\"font-size: 18px;\"><strong>1.2.2 Google Colab</strong></span></font>\n",
    "\n",
    "<hr style=\"border: 2px solid blue;\">\n",
    "</div>"
   ]
  },
  {
   "cell_type": "markdown",
   "id": "d33db172",
   "metadata": {},
   "source": [
    "O <u>Google Colab</u> é um serviço gratuito oferecido pelo Google que permite aos usuários criar e compartilhar documentos Jupyter Notebook. A grande vantagem do Colab é que ele é executado na nuvem e não requer que o usuário configure o ambiente de desenvolvimento em sua própria máquina. O Colab também tem acesso a recursos computacionais de alto desempenho, como GPUs e TPUs, que podem acelerar o treinamento de modelos de aprendizado de máquina e outras tarefas de computação intensiva."
   ]
  },
  {
   "cell_type": "markdown",
   "id": "e292c88c",
   "metadata": {},
   "source": [
    "link: https://colab.research.google.com/"
   ]
  },
  {
   "cell_type": "markdown",
   "id": "461373b2",
   "metadata": {},
   "source": [
    "### <div style=\"margin-top: -20px;\">\n",
    "<hr style=\"border: 2px solid blue;\">\n",
    "\n",
    "<font color='blue'><span style=\"font-size: 18px;\"><strong>1.2.3 Integração Jupyter Notebook - GitHub - Colab</strong></span></font>\n",
    "\n",
    "<hr style=\"border: 2px solid blue;\">\n",
    "</div>"
   ]
  },
  {
   "cell_type": "markdown",
   "id": "792622e0",
   "metadata": {},
   "source": [
    "O <u>GitHub</u> é uma plataforma de hospedagem de código-fonte que emprega o sistema de controle de versão Git. Ele possibilita que desenvolvedores armazenem seus projetos e colaborem com outros profissionais online. Fundado em 2008, o GitHub consolidou-se como uma das maiores e mais renomadas plataformas de hospedagem de código ao redor do mundo. Neste curso, uma das funcionalidades que exploraremos é o armazenamento dos notebooks no GitHub, permitindo assim o acesso direto a partir do ambiente Colab. Teremos portanto um tripé:<br><br>\n",
    "$$Jupyter Notebook \\Leftrightarrow GitHub \\Leftrightarrow Colab$$"
   ]
  },
  {
   "cell_type": "markdown",
   "id": "1a4441a0",
   "metadata": {},
   "source": [
    "## <div style=\"margin-top: -20px;\">\n",
    "<hr style=\"border: 2px solid blue;\">\n",
    "\n",
    "<font color='blue'><span style=\"font-size: 22px;\"><strong>1.3 Personalização do Jupyter Notebook</strong></span></font>\n",
    "\n",
    "<hr style=\"border: 2px solid blue;\">\n",
    "</div>"
   ]
  },
  {
   "cell_type": "markdown",
   "id": "b04e1800",
   "metadata": {},
   "source": [
    "Algumas diferenças visuais entre este arquivo e o que você está executando podem ser notadas devido a personalizações e formatações específicas que exploraremos mais adiante. Se deseja alcançar a mesma estética visual apresentada aqui, por exemplo, a disposição em seções, você pode executar as células de código que se seguem em sequência.\n",
    "\n",
    "No entanto, sugerimos que aguarde até chegarmos ao <font color='red'> **Capítulo 3 - Personalização do Ambiente Jupyter Notebook**</font>. É importante ressaltar que alguns recursos podem não funcionar adequadamente devido a diferenças nas versões do Anaconda ou, em casos mais extremos, podem até interromper o funcionamento deste software. Caso isso ocorra, a melhor solução é reinstalar o software, o que deve resolver qualquer problema. Assegure-se de que está confortável com essas operações antes de prosseguir."
   ]
  },
  {
   "cell_type": "code",
   "execution_count": null,
   "id": "fbe83ebb",
   "metadata": {
    "ExecuteTime": {
     "start_time": "2023-08-30T01:44:48.640Z"
    }
   },
   "outputs": [],
   "source": [
    "!pip install jupyter_contrib_nbextensions\n",
    "!jupyter contrib nbextension install --user"
   ]
  },
  {
   "cell_type": "code",
   "execution_count": 2,
   "id": "f51a090e",
   "metadata": {
    "ExecuteTime": {
     "end_time": "2023-11-30T19:18:05.013688Z",
     "start_time": "2023-11-30T19:18:05.007182Z"
    }
   },
   "outputs": [
    {
     "data": {
      "application/javascript": [
       "\n",
       "var nbextensions_config = {\n",
       "  'load_extensions': {\n",
       "    'addbefore/main': false,\n",
       "    'autoscroll/main': false,\n",
       "    'autosavetime/main': false,\n",
       "    'cell_filter/cell_filter': true,\n",
       "    'code_font_size/code_font_size': false,\n",
       "    'code_prettify/2to3': false,\n",
       "    'code_prettify/autopep8': false,\n",
       "    'code_prettify/code_prettify': false,\n",
       "    'code_prettify/isort': false,\n",
       "    'codefolding/edit': true,\n",
       "    'codefolding/main': true,\n",
       "    'codemirror_mode_extensions/main': false,\n",
       "    'collapsible_headings/main': true,\n",
       "    'comment-uncomment/main': false,\n",
       "    'contrib_nbextensions_help_item/main': false,\n",
       "    'datestamper/main': false,\n",
       "    'equation-numbering/main': true,\n",
       "    'execute_time/ExecuteTime': true,\n",
       "    'exercise/main': false,\n",
       "    'exercise2/main': false,\n",
       "    'export_embedded/main': true,\n",
       "    'freeze/main': true,\n",
       "    'gist_it/main': false,\n",
       "    'go_to_current_running_cell/main': false,\n",
       "    'help_panel/help_panel': false,\n",
       "    'highlight_selected_word/main': true,\n",
       "    'highlighter/highlighter': true,\n",
       "    'jupyter-js-widgets/extension': false,\n",
       "    'jupyterlab-plotly/extension': true,\n",
       "    'keyboard_shortcut_editor/main': false,\n",
       "    'load_tex_macros/main': true,\n",
       "    'livemdpreview/livemdpreview': true,\n",
       "    'limit_output/main': false,\n",
       "    'move_selected_cells/main': false,\n",
       "    'nbTranslate/main': false,\n",
       "    'nbextensions_configurator/config_menu/main': true,\n",
       "    'nbextensions_configurator/tree_tab/main': true,\n",
       "    'navigation-hotkeys/main': false,\n",
       "    'notify/notify': false,\n",
       "    'printview/main': false,\n",
       "    'python-markdown/main': false,\n",
       "    'qtconsole/qtconsole': false,\n",
       "    'rise/main': true,\n",
       "    'rubberband/main': false,\n",
       "    'runtools/main': false,\n",
       "    'ruler/edit': false,\n",
       "    'ruler/main': false,\n",
       "    'scroll_down/main': false,\n",
       "    'scratchpad/main': false,\n",
       "    'select_keymap/main': false,\n",
       "    'skill/main': false,\n",
       "    'skip-traceback/main': false,\n",
       "    'snippets/main': false,\n",
       "    'snippets_menu/main': false,\n",
       "    'spellchecker/main': false,\n",
       "    'splitcell/splitcell': false,\n",
       "    'table_beautifier/main': false,\n",
       "    'toc2/main': false,\n",
       "    'toggle_all_line_numbers/main': true,\n",
       "    'tree-filter/index': false,\n",
       "    'varInspector/main': false,\n",
       "    'zenmode/main': false\n",
       "  },\n",
       "  'menu': {\n",
       "    'jupyter-js-widgets/extension': true,\n",
       "    'jupyterlab-plotly/extension': true,\n",
       "    'nbextensions_configurator/config_menu/main': true,\n",
       "    'rise/main': true\n",
       "  }\n",
       "};\n",
       "\n",
       "Jupyter.notebook.config.update(nbextensions_config);\n"
      ],
      "text/plain": [
       "<IPython.core.display.Javascript object>"
      ]
     },
     "metadata": {},
     "output_type": "display_data"
    }
   ],
   "source": [
    "%%javascript\n",
    "\n",
    "var nbextensions_config = {\n",
    "  'load_extensions': {\n",
    "    'addbefore/main': false,\n",
    "    'autoscroll/main': false,\n",
    "    'autosavetime/main': false,\n",
    "    'cell_filter/cell_filter': true,\n",
    "    'code_font_size/code_font_size': false,\n",
    "    'code_prettify/2to3': false,\n",
    "    'code_prettify/autopep8': false,\n",
    "    'code_prettify/code_prettify': false,\n",
    "    'code_prettify/isort': false,\n",
    "    'codefolding/edit': true,\n",
    "    'codefolding/main': true,\n",
    "    'codemirror_mode_extensions/main': false,\n",
    "    'collapsible_headings/main': true,\n",
    "    'comment-uncomment/main': false,\n",
    "    'contrib_nbextensions_help_item/main': false,\n",
    "    'datestamper/main': false,\n",
    "    'equation-numbering/main': true,\n",
    "    'execute_time/ExecuteTime': true,\n",
    "    'exercise/main': false,\n",
    "    'exercise2/main': false,\n",
    "    'export_embedded/main': true,\n",
    "    'freeze/main': true,\n",
    "    'gist_it/main': false,\n",
    "    'go_to_current_running_cell/main': false,\n",
    "    'help_panel/help_panel': false,\n",
    "    'highlight_selected_word/main': true,\n",
    "    'highlighter/highlighter': true,\n",
    "    'jupyter-js-widgets/extension': false,\n",
    "    'jupyterlab-plotly/extension': true,\n",
    "    'keyboard_shortcut_editor/main': false,\n",
    "    'load_tex_macros/main': true,\n",
    "    'livemdpreview/livemdpreview': true,\n",
    "    'limit_output/main': false,\n",
    "    'move_selected_cells/main': false,\n",
    "    'nbTranslate/main': false,\n",
    "    'nbextensions_configurator/config_menu/main': true,\n",
    "    'nbextensions_configurator/tree_tab/main': true,\n",
    "    'navigation-hotkeys/main': false,\n",
    "    'notify/notify': false,\n",
    "    'printview/main': false,\n",
    "    'python-markdown/main': false,\n",
    "    'qtconsole/qtconsole': false,\n",
    "    'rise/main': true,\n",
    "    'rubberband/main': false,\n",
    "    'runtools/main': false,\n",
    "    'ruler/edit': false,\n",
    "    'ruler/main': false,\n",
    "    'scroll_down/main': false,\n",
    "    'scratchpad/main': false,\n",
    "    'select_keymap/main': false,\n",
    "    'skill/main': false,\n",
    "    'skip-traceback/main': false,\n",
    "    'snippets/main': false,\n",
    "    'snippets_menu/main': false,\n",
    "    'spellchecker/main': false,\n",
    "    'splitcell/splitcell': false,\n",
    "    'table_beautifier/main': false,\n",
    "    'toc2/main': false,\n",
    "    'toggle_all_line_numbers/main': true,\n",
    "    'tree-filter/index': false,\n",
    "    'varInspector/main': false,\n",
    "    'zenmode/main': false\n",
    "  },\n",
    "  'menu': {\n",
    "    'jupyter-js-widgets/extension': true,\n",
    "    'jupyterlab-plotly/extension': true,\n",
    "    'nbextensions_configurator/config_menu/main': true,\n",
    "    'rise/main': true\n",
    "  }\n",
    "};\n",
    "\n",
    "Jupyter.notebook.config.update(nbextensions_config);"
   ]
  },
  {
   "cell_type": "markdown",
   "id": "cf113b96",
   "metadata": {},
   "source": [
    "## <div style=\"margin-top: -20px;\">\n",
    "<hr style=\"border: 2px solid blue;\">\n",
    "\n",
    "<font color='blue'><span style=\"font-size: 22px;\"><strong>Exercícios</strong></span></font>\n",
    "\n",
    "<hr style=\"border: 2px solid blue;\">\n",
    "</div>"
   ]
  },
  {
   "cell_type": "markdown",
   "id": "08bb6925",
   "metadata": {},
   "source": [
    "Nos exercícios, indicaremos a utilização do **Jupyter Notebook**. Contudo, é possível utilizar também o **Google Colab**."
   ]
  },
  {
   "cell_type": "markdown",
   "id": "e5e143b9",
   "metadata": {},
   "source": [
    "#### Exercício 1"
   ]
  },
  {
   "cell_type": "markdown",
   "id": "a3fa892d",
   "metadata": {},
   "source": [
    "Use a célula as células a seguir para calcular diretamente o valor das expressões:\n",
    "\n",
    "a) $2 + 5$\n",
    "\n",
    "b) $3 - 5 + 6 \\cdot 2$\n",
    "\n",
    "c) $\\frac{2 + 8}{5} \\cdot 3$\n",
    "\n",
    "d) $\\frac{\\left(2^{3} - \\frac{16}{4}\\right)^{2}}{2}$\n",
    "\n",
    "*Dica: Use $*$ para calcular o produto e $**$ para calcular a potência.*"
   ]
  },
  {
   "cell_type": "code",
   "execution_count": null,
   "id": "51d25edd",
   "metadata": {},
   "outputs": [],
   "source": [
    "# a)\n",
    "\n"
   ]
  },
  {
   "cell_type": "code",
   "execution_count": null,
   "id": "be67fba6",
   "metadata": {},
   "outputs": [],
   "source": [
    "# b)\n",
    "\n"
   ]
  },
  {
   "cell_type": "code",
   "execution_count": null,
   "id": "2a4fe450",
   "metadata": {},
   "outputs": [],
   "source": [
    "# c)\n",
    "\n"
   ]
  },
  {
   "cell_type": "code",
   "execution_count": null,
   "id": "e169a2d6",
   "metadata": {},
   "outputs": [],
   "source": [
    "# d)\n",
    "\n"
   ]
  },
  {
   "cell_type": "markdown",
   "id": "1454aa7f",
   "metadata": {},
   "source": [
    "#### Exercício 2"
   ]
  },
  {
   "cell_type": "markdown",
   "id": "927f1a75",
   "metadata": {},
   "source": [
    "Armazene as expressões do **Exercício 1** utilizando as variáveis $x1$, $x2$, $x3$ e $x4$ respectivamente. Caso já tenha armazenado os resultados em variáveis no **Exercício 1** ignore este exercício."
   ]
  },
  {
   "cell_type": "code",
   "execution_count": null,
   "id": "d7455f4e",
   "metadata": {},
   "outputs": [],
   "source": [
    "# a)\n",
    "\n"
   ]
  },
  {
   "cell_type": "code",
   "execution_count": null,
   "id": "fd6fc2f3",
   "metadata": {},
   "outputs": [],
   "source": [
    "# b)\n",
    "\n"
   ]
  },
  {
   "cell_type": "code",
   "execution_count": null,
   "id": "b4b7db6f",
   "metadata": {},
   "outputs": [],
   "source": [
    "# c)\n",
    "\n"
   ]
  },
  {
   "cell_type": "code",
   "execution_count": null,
   "id": "6c51aedc",
   "metadata": {},
   "outputs": [],
   "source": [
    "# d)\n",
    "\n"
   ]
  },
  {
   "cell_type": "markdown",
   "id": "786ed8a1",
   "metadata": {},
   "source": [
    "#### Exercício 3"
   ]
  },
  {
   "cell_type": "markdown",
   "id": "aa12301d",
   "metadata": {},
   "source": [
    "Aproveitando os valores do **Exercício 2**, calcule a expressão a seguir:\n",
    "\n",
    "$$(x1 + 2\\cdot x3) - x2 \\cdot x4$$\n",
    "\n",
    "armazenando o valor de saída na variável **resultado**. Em seguida imprima o valor desta variável."
   ]
  },
  {
   "cell_type": "code",
   "execution_count": null,
   "id": "982baf48",
   "metadata": {},
   "outputs": [],
   "source": [
    "# Resposta\n",
    "\n"
   ]
  },
  {
   "cell_type": "markdown",
   "id": "44457dfe",
   "metadata": {},
   "source": [
    "### <div style=\"margin-top: -20px;\">\n",
    "<hr style=\"border: 2px solid blue;\">\n",
    "\n",
    "<font color='blue'><span style=\"font-size: 18px;\"><strong>Soluções dos Exercícios</strong></span></font>\n",
    "\n",
    "<hr style=\"border: 2px solid blue;\">\n",
    "</div>"
   ]
  },
  {
   "cell_type": "markdown",
   "id": "b3f721cd",
   "metadata": {},
   "source": [
    "#### Solução do Exercício 1"
   ]
  },
  {
   "cell_type": "code",
   "execution_count": null,
   "id": "9bfd35ff",
   "metadata": {
    "ExecuteTime": {
     "end_time": "2023-09-12T12:03:27.308086Z",
     "start_time": "2023-09-12T12:03:27.276261Z"
    }
   },
   "outputs": [],
   "source": [
    "# a)\n",
    "\n",
    "2+5"
   ]
  },
  {
   "cell_type": "code",
   "execution_count": null,
   "id": "c9fadaab",
   "metadata": {
    "ExecuteTime": {
     "end_time": "2023-09-12T12:03:44.631964Z",
     "start_time": "2023-09-12T12:03:44.627331Z"
    }
   },
   "outputs": [],
   "source": [
    "# b)\n",
    "\n",
    "3-5+6*2"
   ]
  },
  {
   "cell_type": "code",
   "execution_count": null,
   "id": "4e0c2e85",
   "metadata": {
    "ExecuteTime": {
     "end_time": "2023-09-12T12:04:12.224797Z",
     "start_time": "2023-09-12T12:04:12.219082Z"
    }
   },
   "outputs": [],
   "source": [
    "# c)\n",
    "\n",
    "((2+8)/5)*3"
   ]
  },
  {
   "cell_type": "code",
   "execution_count": null,
   "id": "9f062d3a",
   "metadata": {
    "ExecuteTime": {
     "end_time": "2023-09-12T12:04:52.872456Z",
     "start_time": "2023-09-12T12:04:52.866737Z"
    }
   },
   "outputs": [],
   "source": [
    "# d)\n",
    "\n",
    "((2**3 - 16/4)**2)/2"
   ]
  },
  {
   "cell_type": "markdown",
   "id": "2661bf39",
   "metadata": {},
   "source": [
    "#### Solução do Exercício 2"
   ]
  },
  {
   "cell_type": "code",
   "execution_count": null,
   "id": "1785933f",
   "metadata": {
    "ExecuteTime": {
     "end_time": "2023-09-12T12:06:55.783521Z",
     "start_time": "2023-09-12T12:06:55.780676Z"
    }
   },
   "outputs": [],
   "source": [
    "# a)\n",
    "\n",
    "x1 = 2+5"
   ]
  },
  {
   "cell_type": "code",
   "execution_count": null,
   "id": "d5f4daee",
   "metadata": {
    "ExecuteTime": {
     "end_time": "2023-09-12T12:06:57.015127Z",
     "start_time": "2023-09-12T12:06:57.011480Z"
    }
   },
   "outputs": [],
   "source": [
    "# b) \n",
    "\n",
    "x2 = 3-5+6*2"
   ]
  },
  {
   "cell_type": "code",
   "execution_count": null,
   "id": "a90576e7",
   "metadata": {
    "ExecuteTime": {
     "end_time": "2023-09-12T12:06:58.215117Z",
     "start_time": "2023-09-12T12:06:58.210776Z"
    }
   },
   "outputs": [],
   "source": [
    "# c)\n",
    "\n",
    "x3 = ((2+8)/5)*3"
   ]
  },
  {
   "cell_type": "code",
   "execution_count": null,
   "id": "644581a4",
   "metadata": {
    "ExecuteTime": {
     "end_time": "2023-09-12T12:06:59.342990Z",
     "start_time": "2023-09-12T12:06:59.339804Z"
    }
   },
   "outputs": [],
   "source": [
    "# d)\n",
    "\n",
    "x4 = ((2**3 - 16/4)**2)/2"
   ]
  },
  {
   "cell_type": "markdown",
   "id": "e88e70a9",
   "metadata": {},
   "source": [
    "#### Solução do Exercício 3"
   ]
  },
  {
   "cell_type": "code",
   "execution_count": null,
   "id": "82129ec5",
   "metadata": {
    "ExecuteTime": {
     "end_time": "2023-09-12T12:09:04.312971Z",
     "start_time": "2023-09-12T12:09:04.308966Z"
    }
   },
   "outputs": [],
   "source": [
    "resultado = (x1+2*x3)-x2*x4"
   ]
  },
  {
   "cell_type": "code",
   "execution_count": null,
   "id": "6dd3e8bf",
   "metadata": {
    "ExecuteTime": {
     "end_time": "2023-09-12T12:09:39.961594Z",
     "start_time": "2023-09-12T12:09:39.956169Z"
    }
   },
   "outputs": [],
   "source": [
    "print(resultado)"
   ]
  }
 ],
 "metadata": {
  "kernelspec": {
   "display_name": "Python 3 (ipykernel)",
   "language": "python",
   "name": "python3"
  },
  "language_info": {
   "codemirror_mode": {
    "name": "ipython",
    "version": 3
   },
   "file_extension": ".py",
   "mimetype": "text/x-python",
   "name": "python",
   "nbconvert_exporter": "python",
   "pygments_lexer": "ipython3",
   "version": "3.9.13"
  },
  "varInspector": {
   "cols": {
    "lenName": 16,
    "lenType": 16,
    "lenVar": 40
   },
   "kernels_config": {
    "python": {
     "delete_cmd_postfix": "",
     "delete_cmd_prefix": "del ",
     "library": "var_list.py",
     "varRefreshCmd": "print(var_dic_list())"
    },
    "r": {
     "delete_cmd_postfix": ") ",
     "delete_cmd_prefix": "rm(",
     "library": "var_list.r",
     "varRefreshCmd": "cat(var_dic_list()) "
    }
   },
   "types_to_exclude": [
    "module",
    "function",
    "builtin_function_or_method",
    "instance",
    "_Feature"
   ],
   "window_display": false
  }
 },
 "nbformat": 4,
 "nbformat_minor": 5
}
