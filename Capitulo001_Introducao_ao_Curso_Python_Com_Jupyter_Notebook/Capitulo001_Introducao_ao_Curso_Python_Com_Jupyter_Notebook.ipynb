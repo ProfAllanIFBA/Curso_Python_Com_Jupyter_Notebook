{
 "cells": [
  {
   "cell_type": "markdown",
   "id": "c062fb64",
   "metadata": {
    "ExecuteTime": {
     "end_time": "2023-06-02T15:10:56.675328Z",
     "start_time": "2023-06-02T15:10:56.669368Z"
    }
   },
   "source": [
    "<center> <img src=\"logo_ifba.jpg\" alt=\"jpg_python\" width=\"100\" height=\"\"> </center>\n",
    "<br><br>\n",
    "<center> <img src=\"logo_coext.jpg\" alt=\"jpg_python\" width=\"200\" height=\"\"> </center>\n",
    "<br><br>\n",
    "<div align=\"center\"><span style=\"font-size: 26px;\"><strong>Python Com Jupyter Notebook</strong></span></div><br><br>\n",
    "<center><div style=\"text-align:center\">    <a href=\"https://colab.research.google.com/github/ProfAllanIFBA/Curso_Python_Com_Jupyter_Notebook/blob/main/Capitulo001_Introducao_ao_Curso_Python_Com_Jupyter_Notebook/Capitulo001_Introducao_ao_Curso_Python_Com_Jupyter_Notebook.ipynb\">Link Colab</a> \n",
    "</div><br><br></center>\n",
    "<center> <img src=\"python_gif.gif\" alt=\"gif_python\" width=\"80\"> </center>"
   ]
  },
  {
   "cell_type": "markdown",
   "id": "bb456562",
   "metadata": {
    "ExecuteTime": {
     "end_time": "2023-06-02T15:10:06.558633Z",
     "start_time": "2023-06-02T15:10:06.543696Z"
    }
   },
   "source": [
    "Este material apresenta uma explicação detalhada sobre o uso do software de programação em Python chamado Jupyter Notebook, com foco na análise de dados. Abordaremos desde estruturas básicas, como listas e dicionários, até estruturas mais complexas voltadas para a análise de dados, como pandas e seaborn, além de ferramentas destinadas à inteligência artificial.\n",
    "\n",
    "\n",
    "<font color='red'> <u>Este é um material de uso público e totalmente gratuito</u>. Contudo, eventuais edições são de responsabilidade de quem as fizer. </font>\n",
    "\n",
    "Você pode ajudar a melhorar este material!\n",
    "\n",
    "Contato e Sugestões: allansoares@ifba.edu.br.\n",
    "\n",
    "[**Equipe Executora**](https://github.com/ProfAllanIFBA/Curso_Python_Com_Jupyter_Notebook/blob/main/Capitulo000_Equipe/Capitulo000_Equipe.ipynb)"
   ]
  },
  {
   "cell_type": "markdown",
   "id": "38f49536",
   "metadata": {},
   "source": [
    "### <center> <font color='red'> Vídeo Aulas <img src=\"youtube.gif\" alt=\"jpg_python\" width=\"100\" height=\"\"> </font> </center>"
   ]
  },
  {
   "cell_type": "markdown",
   "id": "02467301",
   "metadata": {},
   "source": [
    "[Introdução ao Curso Python Com Jupyter Notebook](https://youtu.be/qyLuraDP6Bg)\n",
    "\n",
    "[Perguntas Iniciais](https://youtu.be/5mgMXCNusaE)\n",
    "\n",
    "[Ambiente de Programação Jupyter Notebook](https://youtu.be/7ph3AvVeW60)\n",
    "\n",
    "[Baixando os Arquivos do Curso Python Com Jupyter Notebook](https://youtu.be/YCEJLu-fZ-g)\n",
    "\n",
    "[Abrindo Um Arquivo Jupyter](https://youtu.be/zY1VUgBD1Fo)\n",
    "\n",
    "[Criando Um Projeto Jupyter](https://youtu.be/m-AeDx7Y8WE)\n",
    "\n",
    "[Ambiente de Programação Google Colab](https://youtu.be/mDInsKbbjQs)\n",
    "\n",
    "[Integracão Jupyter Notebook - GitHub - Google Colab](https://youtu.be/ECgrYSSzNBo)\n",
    "\n",
    "[Personalização Inicial do Jupyter Notebook](https://youtu.be/rqWrXFLSgrc)"
   ]
  },
  {
   "cell_type": "markdown",
   "id": "275201ee",
   "metadata": {},
   "source": [
    "<div style=\"border: 2px solid black; padding: 10px; width: 100%; background-color: lightgray; display: flex; align-items: center;\">\n",
    "    <h1 style=\"color: red; text-align: center; margin: auto;\">\n",
    "        Capítulo 1: Introdução ao Curso Python Com Jupyter Notebook\n",
    "    </h1>\n",
    "</div>\n",
    "\n",
    "<font color='red'></font>\n",
    "<a href=\"\"></a>"
   ]
  },
  {
   "cell_type": "markdown",
   "id": "ba631960",
   "metadata": {},
   "source": [
    "## <div style=\"margin-top: -20px;\">\n",
    "<hr style=\"border: 2px solid blue;\">\n",
    "\n",
    "<font color='blue'><span style=\"font-size: 22px;\"><strong>1.1 Perguntas Iniciais</strong></span></font>\n",
    "\n",
    "<hr style=\"border: 2px solid blue;\">\n",
    "</div>"
   ]
  },
  {
   "cell_type": "markdown",
   "id": "b89b4c91",
   "metadata": {},
   "source": [
    "#### O que é análise de dados?"
   ]
  },
  {
   "cell_type": "markdown",
   "id": "2c0bd608",
   "metadata": {},
   "source": [
    "Análise de dados é o processo de inspecionar, limpar, transformar e modelar dados com o objetivo de descobrir informações úteis, apoiar a tomada de decisões e resolver problemas."
   ]
  },
  {
   "cell_type": "markdown",
   "id": "77309818",
   "metadata": {},
   "source": [
    "#### Por que Python?"
   ]
  },
  {
   "cell_type": "markdown",
   "id": "e2ef99e3",
   "metadata": {},
   "source": [
    "O Python é uma das linguagens de programação mais populares para a análise de dados por diversas razões, incluindo:"
   ]
  },
  {
   "cell_type": "markdown",
   "id": "cf6edc4a",
   "metadata": {},
   "source": [
    "- **Grande variedade de bibliotecas especializadas:** O Python possui uma vasta biblioteca de pacotes específicos para análise de dados, como NumPy, Pandas, Matplotlib, Seaborn e Scikit-Learn, que fornecem ferramentas poderosas para visualizar, manipular e analisar dados."
   ]
  },
  {
   "cell_type": "markdown",
   "id": "674536bc",
   "metadata": {},
   "source": [
    "- **Fácil manipulação de dados:** O Python é uma linguagem fácil de aprender e usar, com uma sintaxe clara e simples. Além disso, as bibliotecas mencionadas anteriormente oferecem funções avançadas para manipulação de dados, como limpeza, transformação e agregação de dados."
   ]
  },
  {
   "cell_type": "markdown",
   "id": "0da14549",
   "metadata": {},
   "source": [
    "- **Flexibilidade:** O Python é uma linguagem muito flexível e pode ser usada em uma ampla variedade de contextos de análise de dados, incluindo aprendizado de máquina, processamento de linguagem natural, visualização de dados e análise estatística."
   ]
  },
  {
   "cell_type": "markdown",
   "id": "8940eea3",
   "metadata": {},
   "source": [
    "Mais especificamente, o Python pode ser útil para a análise de dados de várias maneiras, como:"
   ]
  },
  {
   "cell_type": "markdown",
   "id": "4692bbad",
   "metadata": {},
   "source": [
    "- **Importação e limpeza de dados:** O Python pode ser usado para importar dados de várias fontes e formatos, como arquivos CSV, JSON e Excel, e para limpar e preparar esses dados para análise."
   ]
  },
  {
   "cell_type": "markdown",
   "id": "65c3c6b2",
   "metadata": {},
   "source": [
    "- **Análise exploratória de dados:** O Python oferece bibliotecas poderosas para visualização de dados, como Matplotlib e Seaborn, que permitem a criação de gráficos e visualizações interativas para explorar e entender os dados."
   ]
  },
  {
   "cell_type": "markdown",
   "id": "306cd235",
   "metadata": {},
   "source": [
    "- **Análise estatística:** O Python possui bibliotecas especializadas para análise estatística, como Scipy e Statsmodels, que permitem a execução de testes estatísticos e a modelagem de dados."
   ]
  },
  {
   "cell_type": "markdown",
   "id": "d12f1fc9",
   "metadata": {},
   "source": [
    "- **Aprendizado de máquina:** O Python é amplamente usado em aprendizado de máquina e mineração de dados devido à sua grande variedade de bibliotecas especializadas, como Scikit-Learn e TensorFlow, que permitem a criação de modelos de aprendizado de máquina para classificação, regressão e clusterização."
   ]
  },
  {
   "cell_type": "markdown",
   "id": "08e2736e",
   "metadata": {},
   "source": [
    "## <div style=\"margin-top: -20px;\">\n",
    "<hr style=\"border: 2px solid blue;\">\n",
    "\n",
    "<font color='blue'><span style=\"font-size: 22px;\"><strong>1.2 Ambientes de Programação</strong></span></font>\n",
    "\n",
    "<hr style=\"border: 2px solid blue;\">\n",
    "</div>"
   ]
  },
  {
   "cell_type": "markdown",
   "id": "30b972ce",
   "metadata": {},
   "source": [
    "Os ambientes de programação para Python são ferramentas que facilitam o desenvolvimento de programas nessa linguagem. Eles oferecem recursos que auxiliam desde a escrita até o teste e depuração do código. Existem muitos ambientes de programação disponíveis para Python, incluindo IDEs (Integrated Development Environments) e editores de texto, cada um com suas características particulares."
   ]
  },
  {
   "cell_type": "markdown",
   "id": "8b7c8829",
   "metadata": {},
   "source": [
    "### <div style=\"margin-top: -20px;\">\n",
    "<hr style=\"border: 2px solid blue;\">\n",
    "\n",
    "<font color='blue'><span style=\"font-size: 18px;\"><strong>1.2.1 Jupyter Notebook</strong></span></font>\n",
    "\n",
    "<hr style=\"border: 2px solid blue;\">\n",
    "</div>"
   ]
  },
  {
   "cell_type": "markdown",
   "id": "8cef84df",
   "metadata": {},
   "source": [
    "O <u>Jupyter Notebook</u> é uma ferramenta popular para a análise de dados interativa e a programação científica. Ele permite que os usuários criem e compartilhem documentos que contenham código, visualizações e texto explicativo em um único ambiente. Uma grande vantagem do Jupyter é que ele suporta uma variedade de linguagens de programação, incluindo Python, R, Julia e MATLAB. Além disso, o Jupyter tem uma interface amigável para os usuários executarem e modificarem o código em etapas separadas, além de ser capaz de criar e executar blocos de código em qualquer ordem."
   ]
  },
  {
   "cell_type": "markdown",
   "id": "8e2a59e8",
   "metadata": {},
   "source": [
    "Vamos dar uma olhada no nosso primeiro exemplo de execução de código no ambiente Jupyter Notebook. A execução de um código pode ser feita pressionando o botão \"Run\" (ou utilizando a combinação de teclas \"Ctrl+Enter\")."
   ]
  },
  {
   "cell_type": "markdown",
   "id": "fb01c87a",
   "metadata": {},
   "source": [
    "#### *Exemplo: Nosso primeiro programa!*"
   ]
  },
  {
   "cell_type": "code",
   "execution_count": null,
   "id": "175a81b8",
   "metadata": {
    "ExecuteTime": {
     "end_time": "2023-08-30T01:44:48.344877Z",
     "start_time": "2023-08-30T01:44:48.312962Z"
    }
   },
   "outputs": [],
   "source": [
    "# Dados\n",
    "a = 1\n",
    "b = 1"
   ]
  },
  {
   "cell_type": "code",
   "execution_count": null,
   "id": "52cbffa1",
   "metadata": {
    "ExecuteTime": {
     "end_time": "2023-08-30T01:44:48.357998Z",
     "start_time": "2023-08-30T01:44:48.346872Z"
    }
   },
   "outputs": [],
   "source": [
    "# Variável de armazenamento da soma\n",
    "c = a + b"
   ]
  },
  {
   "cell_type": "code",
   "execution_count": null,
   "id": "d21178c8",
   "metadata": {
    "ExecuteTime": {
     "end_time": "2023-08-30T01:44:48.365977Z",
     "start_time": "2023-08-30T01:44:48.358971Z"
    }
   },
   "outputs": [],
   "source": [
    "# Imprimindo uma variável\n",
    "print(c)"
   ]
  },
  {
   "cell_type": "markdown",
   "id": "24e9e348",
   "metadata": {},
   "source": [
    "link: https://repo.anaconda.com/archive/"
   ]
  },
  {
   "cell_type": "markdown",
   "id": "e5e65b3f",
   "metadata": {},
   "source": [
    "### <div style=\"margin-top: -20px;\">\n",
    "<hr style=\"border: 2px solid blue;\">\n",
    "\n",
    "<font color='blue'><span style=\"font-size: 18px;\"><strong>1.2.2 Google Colab</strong></span></font>\n",
    "\n",
    "<hr style=\"border: 2px solid blue;\">\n",
    "</div>"
   ]
  },
  {
   "cell_type": "markdown",
   "id": "d33db172",
   "metadata": {},
   "source": [
    "O <u>Google Colab</u> é um serviço gratuito oferecido pelo Google que permite aos usuários criar e compartilhar documentos Jupyter Notebook. A grande vantagem do Colab é que ele é executado na nuvem e não requer que o usuário configure o ambiente de desenvolvimento em sua própria máquina. O Colab também tem acesso a recursos computacionais de alto desempenho, como GPUs e TPUs, que podem acelerar o treinamento de modelos de aprendizado de máquina e outras tarefas de computação intensiva."
   ]
  },
  {
   "cell_type": "markdown",
   "id": "e292c88c",
   "metadata": {},
   "source": [
    "link: https://colab.research.google.com/"
   ]
  },
  {
   "cell_type": "markdown",
   "id": "461373b2",
   "metadata": {},
   "source": [
    "### <div style=\"margin-top: -20px;\">\n",
    "<hr style=\"border: 2px solid blue;\">\n",
    "\n",
    "<font color='blue'><span style=\"font-size: 18px;\"><strong>1.2.3 Integração Jupyter Notebook - GitHub - Colab</strong></span></font>\n",
    "\n",
    "<hr style=\"border: 2px solid blue;\">\n",
    "</div>"
   ]
  },
  {
   "cell_type": "markdown",
   "id": "792622e0",
   "metadata": {},
   "source": [
    "O <u>GitHub</u> é uma plataforma de hospedagem de código-fonte que emprega o sistema de controle de versão Git. Ele possibilita que desenvolvedores armazenem seus projetos e colaborem com outros profissionais online. Fundado em 2008, o GitHub consolidou-se como uma das maiores e mais renomadas plataformas de hospedagem de código ao redor do mundo. Neste curso, uma das funcionalidades que exploraremos é o armazenamento dos notebooks no GitHub, permitindo assim o acesso direto a partir do ambiente Colab. Teremos portanto um tripé:<br><br>\n",
    "$$Jupyter Notebook \\Leftrightarrow GitHub \\Leftrightarrow Colab$$"
   ]
  },
  {
   "cell_type": "markdown",
   "id": "1a4441a0",
   "metadata": {},
   "source": [
    "## <div style=\"margin-top: -20px;\">\n",
    "<hr style=\"border: 2px solid blue;\">\n",
    "\n",
    "<font color='blue'><span style=\"font-size: 22px;\"><strong>1.3 Personalização do Jupyter Notebook</strong></span></font>\n",
    "\n",
    "<hr style=\"border: 2px solid blue;\">\n",
    "</div>"
   ]
  },
  {
   "cell_type": "markdown",
   "id": "b04e1800",
   "metadata": {},
   "source": [
    "Algumas diferenças visuais entre este arquivo e o que você está executando podem ser notadas devido a personalizações e formatações específicas que exploraremos mais adiante. Se deseja alcançar a mesma estética visual apresentada aqui, por exemplo, a disposição em seções, você pode executar as células de código que se seguem em sequência.\n",
    "\n",
    "No entanto, sugerimos que aguarde até chegarmos ao <font color='red'> **Capítulo 3 - Personalização do Ambiente Jupyter Notebook**</font>. É importante ressaltar que alguns recursos podem não funcionar adequadamente devido a diferenças nas versões do Anaconda ou, em casos mais extremos, podem até interromper o funcionamento deste software. Caso isso ocorra, a melhor solução é reinstalar o software, o que deve resolver qualquer problema. Assegure-se de que está confortável com essas operações antes de prosseguir."
   ]
  },
  {
   "cell_type": "code",
   "execution_count": 2,
   "id": "fbe83ebb",
   "metadata": {
    "ExecuteTime": {
     "start_time": "2023-08-30T01:44:48.640Z"
    }
   },
   "outputs": [
    {
     "name": "stdout",
     "output_type": "stream",
     "text": [
      "Collecting jupyter_contrib_nbextensions\n",
      "  Downloading jupyter_contrib_nbextensions-0.7.0.tar.gz (23.5 MB)\n",
      "     ---------------------------------------- 0.0/23.5 MB ? eta -:--:--\n",
      "     ---------------------------------------- 0.0/23.5 MB ? eta -:--:--\n",
      "     ---------------------------------------- 0.0/23.5 MB ? eta -:--:--\n",
      "     --------------------------------------- 0.0/23.5 MB 330.3 kB/s eta 0:01:11\n",
      "     --------------------------------------- 0.1/23.5 MB 573.4 kB/s eta 0:00:41\n",
      "     ---------------------------------------- 0.3/23.5 MB 1.3 MB/s eta 0:00:18\n",
      "      --------------------------------------- 0.4/23.5 MB 1.8 MB/s eta 0:00:14\n",
      "     - -------------------------------------- 0.8/23.5 MB 2.7 MB/s eta 0:00:09\n",
      "     - -------------------------------------- 1.1/23.5 MB 3.7 MB/s eta 0:00:07\n",
      "     -- ------------------------------------- 1.6/23.5 MB 4.4 MB/s eta 0:00:05\n",
      "     --- ------------------------------------ 1.9/23.5 MB 5.0 MB/s eta 0:00:05\n",
      "     ---- ----------------------------------- 2.6/23.5 MB 5.4 MB/s eta 0:00:04\n",
      "     ----- ---------------------------------- 3.2/23.5 MB 6.2 MB/s eta 0:00:04\n",
      "     ------ --------------------------------- 3.8/23.5 MB 6.7 MB/s eta 0:00:03\n",
      "     ------- -------------------------------- 4.5/23.5 MB 7.5 MB/s eta 0:00:03\n",
      "     -------- ------------------------------- 5.1/23.5 MB 7.7 MB/s eta 0:00:03\n",
      "     --------- ------------------------------ 5.9/23.5 MB 8.3 MB/s eta 0:00:03\n",
      "     ----------- ---------------------------- 6.6/23.5 MB 8.8 MB/s eta 0:00:02\n",
      "     ------------ --------------------------- 7.2/23.5 MB 9.1 MB/s eta 0:00:02\n",
      "     ------------- -------------------------- 8.0/23.5 MB 9.6 MB/s eta 0:00:02\n",
      "     -------------- ------------------------- 8.5/23.5 MB 9.6 MB/s eta 0:00:02\n",
      "     --------------- ------------------------ 9.3/23.5 MB 10.0 MB/s eta 0:00:02\n",
      "     ---------------- ---------------------- 10.0/23.5 MB 10.2 MB/s eta 0:00:02\n",
      "     ------------------ -------------------- 10.9/23.5 MB 13.4 MB/s eta 0:00:01\n",
      "     ------------------- ------------------- 11.8/23.5 MB 14.2 MB/s eta 0:00:01\n",
      "     --------------------- ----------------- 12.7/23.5 MB 15.2 MB/s eta 0:00:01\n",
      "     ---------------------- ---------------- 13.5/23.5 MB 16.0 MB/s eta 0:00:01\n",
      "     ----------------------- --------------- 14.4/23.5 MB 16.4 MB/s eta 0:00:01\n",
      "     ------------------------- ------------- 15.2/23.5 MB 16.8 MB/s eta 0:00:01\n",
      "     -------------------------- ------------ 15.7/23.5 MB 17.2 MB/s eta 0:00:01\n",
      "     -------------------------- ------------ 15.7/23.5 MB 17.2 MB/s eta 0:00:01\n",
      "     -------------------------- ------------ 15.7/23.5 MB 17.2 MB/s eta 0:00:01\n",
      "     -------------------------- ------------ 15.7/23.5 MB 17.2 MB/s eta 0:00:01\n",
      "     -------------------------- ------------ 15.7/23.5 MB 17.2 MB/s eta 0:00:01\n",
      "     -------------------------- ------------ 15.7/23.5 MB 17.2 MB/s eta 0:00:01\n",
      "     -------------------------- ------------ 15.7/23.5 MB 17.2 MB/s eta 0:00:01\n",
      "     -------------------------- ------------ 15.7/23.5 MB 17.2 MB/s eta 0:00:01\n",
      "     -------------------------- ------------ 15.8/23.5 MB 10.4 MB/s eta 0:00:01\n",
      "     --------------------------- ----------- 16.5/23.5 MB 10.2 MB/s eta 0:00:01\n",
      "     ---------------------------- ---------- 17.4/23.5 MB 10.4 MB/s eta 0:00:01\n",
      "     ------------------------------ -------- 18.2/23.5 MB 10.7 MB/s eta 0:00:01\n",
      "     ------------------------------- ------- 19.1/23.5 MB 10.7 MB/s eta 0:00:01\n",
      "     --------------------------------- ----- 20.1/23.5 MB 10.7 MB/s eta 0:00:01\n",
      "     --------------------------------- ----- 20.4/23.5 MB 10.6 MB/s eta 0:00:01\n",
      "     ----------------------------------- --- 21.3/23.5 MB 10.6 MB/s eta 0:00:01\n",
      "     ------------------------------------ -- 22.2/23.5 MB 10.6 MB/s eta 0:00:01\n",
      "     ------------------------------------- - 22.6/23.5 MB 10.2 MB/s eta 0:00:01\n",
      "     --------------------------------------  23.5/23.5 MB 10.4 MB/s eta 0:00:01\n",
      "     --------------------------------------  23.5/23.5 MB 10.4 MB/s eta 0:00:01\n",
      "     --------------------------------------  23.5/23.5 MB 10.4 MB/s eta 0:00:01\n",
      "     --------------------------------------  23.5/23.5 MB 10.4 MB/s eta 0:00:01\n",
      "     --------------------------------------  23.5/23.5 MB 10.4 MB/s eta 0:00:01\n",
      "     --------------------------------------  23.5/23.5 MB 10.4 MB/s eta 0:00:01\n",
      "     --------------------------------------  23.5/23.5 MB 10.4 MB/s eta 0:00:01\n",
      "     --------------------------------------  23.5/23.5 MB 10.4 MB/s eta 0:00:01\n",
      "     --------------------------------------  23.5/23.5 MB 10.4 MB/s eta 0:00:01\n",
      "     --------------------------------------  23.5/23.5 MB 10.4 MB/s eta 0:00:01\n",
      "     --------------------------------------  23.5/23.5 MB 10.4 MB/s eta 0:00:01\n",
      "     --------------------------------------  23.5/23.5 MB 10.4 MB/s eta 0:00:01\n",
      "     --------------------------------------  23.5/23.5 MB 10.4 MB/s eta 0:00:01\n",
      "     ---------------------------------------- 23.5/23.5 MB 6.4 MB/s eta 0:00:00\n",
      "  Preparing metadata (setup.py): started\n",
      "  Preparing metadata (setup.py): finished with status 'done'\n",
      "Requirement already satisfied: ipython_genutils in d:\\anaconda3\\lib\\site-packages (from jupyter_contrib_nbextensions) (0.2.0)\n",
      "Collecting jupyter_contrib_core>=0.3.3 (from jupyter_contrib_nbextensions)\n",
      "  Downloading jupyter_contrib_core-0.4.2.tar.gz (17 kB)\n",
      "  Preparing metadata (setup.py): started\n",
      "  Preparing metadata (setup.py): finished with status 'done'\n",
      "Requirement already satisfied: jupyter_core in d:\\anaconda3\\lib\\site-packages (from jupyter_contrib_nbextensions) (5.3.0)\n",
      "Collecting jupyter_highlight_selected_word>=0.1.1 (from jupyter_contrib_nbextensions)\n",
      "  Downloading jupyter_highlight_selected_word-0.2.0-py2.py3-none-any.whl (11 kB)\n",
      "Collecting jupyter_nbextensions_configurator>=0.4.0 (from jupyter_contrib_nbextensions)\n",
      "  Downloading jupyter_nbextensions_configurator-0.6.3-py2.py3-none-any.whl (466 kB)\n",
      "     ---------------------------------------- 0.0/466.9 kB ? eta -:--:--\n",
      "     -------------------------------------- 466.9/466.9 kB 9.7 MB/s eta 0:00:00\n",
      "Requirement already satisfied: nbconvert>=6.0 in d:\\anaconda3\\lib\\site-packages (from jupyter_contrib_nbextensions) (6.5.4)\n",
      "Requirement already satisfied: notebook>=6.0 in d:\\anaconda3\\lib\\site-packages (from jupyter_contrib_nbextensions) (6.5.4)\n",
      "Requirement already satisfied: tornado in d:\\anaconda3\\lib\\site-packages (from jupyter_contrib_nbextensions) (6.3.2)\n",
      "Requirement already satisfied: traitlets>=4.1 in d:\\anaconda3\\lib\\site-packages (from jupyter_contrib_nbextensions) (5.7.1)\n",
      "Requirement already satisfied: lxml in d:\\anaconda3\\lib\\site-packages (from jupyter_contrib_nbextensions) (4.9.3)\n",
      "Requirement already satisfied: setuptools in d:\\anaconda3\\lib\\site-packages (from jupyter_contrib_core>=0.3.3->jupyter_contrib_nbextensions) (68.0.0)\n",
      "Requirement already satisfied: pyyaml in d:\\anaconda3\\lib\\site-packages (from jupyter_nbextensions_configurator>=0.4.0->jupyter_contrib_nbextensions) (6.0)\n",
      "Requirement already satisfied: beautifulsoup4 in d:\\anaconda3\\lib\\site-packages (from nbconvert>=6.0->jupyter_contrib_nbextensions) (4.12.2)\n",
      "Requirement already satisfied: bleach in d:\\anaconda3\\lib\\site-packages (from nbconvert>=6.0->jupyter_contrib_nbextensions) (4.1.0)\n",
      "Requirement already satisfied: defusedxml in d:\\anaconda3\\lib\\site-packages (from nbconvert>=6.0->jupyter_contrib_nbextensions) (0.7.1)\n",
      "Requirement already satisfied: entrypoints>=0.2.2 in d:\\anaconda3\\lib\\site-packages (from nbconvert>=6.0->jupyter_contrib_nbextensions) (0.4)\n",
      "Requirement already satisfied: jinja2>=3.0 in d:\\anaconda3\\lib\\site-packages (from nbconvert>=6.0->jupyter_contrib_nbextensions) (3.1.2)\n",
      "Requirement already satisfied: jupyterlab-pygments in d:\\anaconda3\\lib\\site-packages (from nbconvert>=6.0->jupyter_contrib_nbextensions) (0.1.2)\n",
      "Requirement already satisfied: MarkupSafe>=2.0 in d:\\anaconda3\\lib\\site-packages (from nbconvert>=6.0->jupyter_contrib_nbextensions) (2.1.1)\n",
      "Requirement already satisfied: mistune<2,>=0.8.1 in d:\\anaconda3\\lib\\site-packages (from nbconvert>=6.0->jupyter_contrib_nbextensions) (0.8.4)\n",
      "Requirement already satisfied: nbclient>=0.5.0 in d:\\anaconda3\\lib\\site-packages (from nbconvert>=6.0->jupyter_contrib_nbextensions) (0.5.13)\n",
      "Requirement already satisfied: nbformat>=5.1 in d:\\anaconda3\\lib\\site-packages (from nbconvert>=6.0->jupyter_contrib_nbextensions) (5.9.2)\n",
      "Requirement already satisfied: packaging in d:\\anaconda3\\lib\\site-packages (from nbconvert>=6.0->jupyter_contrib_nbextensions) (23.1)\n",
      "Requirement already satisfied: pandocfilters>=1.4.1 in d:\\anaconda3\\lib\\site-packages (from nbconvert>=6.0->jupyter_contrib_nbextensions) (1.5.0)\n",
      "Requirement already satisfied: pygments>=2.4.1 in d:\\anaconda3\\lib\\site-packages (from nbconvert>=6.0->jupyter_contrib_nbextensions) (2.15.1)\n",
      "Requirement already satisfied: tinycss2 in d:\\anaconda3\\lib\\site-packages (from nbconvert>=6.0->jupyter_contrib_nbextensions) (1.2.1)\n",
      "Requirement already satisfied: platformdirs>=2.5 in d:\\anaconda3\\lib\\site-packages (from jupyter_core->jupyter_contrib_nbextensions) (3.10.0)\n",
      "Requirement already satisfied: pywin32>=300 in d:\\anaconda3\\lib\\site-packages (from jupyter_core->jupyter_contrib_nbextensions) (305.1)\n",
      "Requirement already satisfied: pyzmq>=17 in d:\\anaconda3\\lib\\site-packages (from notebook>=6.0->jupyter_contrib_nbextensions) (23.2.0)\n",
      "Requirement already satisfied: argon2-cffi in d:\\anaconda3\\lib\\site-packages (from notebook>=6.0->jupyter_contrib_nbextensions) (21.3.0)\n",
      "Requirement already satisfied: jupyter-client>=5.3.4 in d:\\anaconda3\\lib\\site-packages (from notebook>=6.0->jupyter_contrib_nbextensions) (7.4.9)\n",
      "Requirement already satisfied: nest-asyncio>=1.5 in d:\\anaconda3\\lib\\site-packages (from notebook>=6.0->jupyter_contrib_nbextensions) (1.5.6)\n",
      "Requirement already satisfied: ipykernel in d:\\anaconda3\\lib\\site-packages (from notebook>=6.0->jupyter_contrib_nbextensions) (6.25.0)\n",
      "Requirement already satisfied: Send2Trash>=1.8.0 in d:\\anaconda3\\lib\\site-packages (from notebook>=6.0->jupyter_contrib_nbextensions) (1.8.0)\n",
      "Requirement already satisfied: terminado>=0.8.3 in d:\\anaconda3\\lib\\site-packages (from notebook>=6.0->jupyter_contrib_nbextensions) (0.17.1)\n",
      "Requirement already satisfied: prometheus-client in d:\\anaconda3\\lib\\site-packages (from notebook>=6.0->jupyter_contrib_nbextensions) (0.14.1)\n",
      "Requirement already satisfied: nbclassic>=0.4.7 in d:\\anaconda3\\lib\\site-packages (from notebook>=6.0->jupyter_contrib_nbextensions) (0.5.5)\n",
      "Requirement already satisfied: python-dateutil>=2.8.2 in d:\\anaconda3\\lib\\site-packages (from jupyter-client>=5.3.4->notebook>=6.0->jupyter_contrib_nbextensions) (2.8.2)\n",
      "Requirement already satisfied: jupyter-server>=1.8 in d:\\anaconda3\\lib\\site-packages (from nbclassic>=0.4.7->notebook>=6.0->jupyter_contrib_nbextensions) (1.23.4)\n",
      "Requirement already satisfied: notebook-shim>=0.1.0 in d:\\anaconda3\\lib\\site-packages (from nbclassic>=0.4.7->notebook>=6.0->jupyter_contrib_nbextensions) (0.2.2)\n",
      "Requirement already satisfied: fastjsonschema in d:\\anaconda3\\lib\\site-packages (from nbformat>=5.1->nbconvert>=6.0->jupyter_contrib_nbextensions) (2.16.2)\n",
      "Requirement already satisfied: jsonschema>=2.6 in d:\\anaconda3\\lib\\site-packages (from nbformat>=5.1->nbconvert>=6.0->jupyter_contrib_nbextensions) (4.17.3)\n",
      "Requirement already satisfied: pywinpty>=1.1.0 in d:\\anaconda3\\lib\\site-packages (from terminado>=0.8.3->notebook>=6.0->jupyter_contrib_nbextensions) (2.0.10)\n",
      "Requirement already satisfied: argon2-cffi-bindings in d:\\anaconda3\\lib\\site-packages (from argon2-cffi->notebook>=6.0->jupyter_contrib_nbextensions) (21.2.0)\n",
      "Requirement already satisfied: soupsieve>1.2 in d:\\anaconda3\\lib\\site-packages (from beautifulsoup4->nbconvert>=6.0->jupyter_contrib_nbextensions) (2.4)\n",
      "Requirement already satisfied: six>=1.9.0 in d:\\anaconda3\\lib\\site-packages (from bleach->nbconvert>=6.0->jupyter_contrib_nbextensions) (1.16.0)\n",
      "Requirement already satisfied: webencodings in d:\\anaconda3\\lib\\site-packages (from bleach->nbconvert>=6.0->jupyter_contrib_nbextensions) (0.5.1)\n",
      "Requirement already satisfied: comm>=0.1.1 in d:\\anaconda3\\lib\\site-packages (from ipykernel->notebook>=6.0->jupyter_contrib_nbextensions) (0.1.2)\n",
      "Requirement already satisfied: debugpy>=1.6.5 in d:\\anaconda3\\lib\\site-packages (from ipykernel->notebook>=6.0->jupyter_contrib_nbextensions) (1.6.7)\n",
      "Requirement already satisfied: ipython>=7.23.1 in d:\\anaconda3\\lib\\site-packages (from ipykernel->notebook>=6.0->jupyter_contrib_nbextensions) (8.15.0)\n",
      "Requirement already satisfied: matplotlib-inline>=0.1 in d:\\anaconda3\\lib\\site-packages (from ipykernel->notebook>=6.0->jupyter_contrib_nbextensions) (0.1.6)\n",
      "Requirement already satisfied: psutil in d:\\anaconda3\\lib\\site-packages (from ipykernel->notebook>=6.0->jupyter_contrib_nbextensions) (5.9.0)\n",
      "Requirement already satisfied: backcall in d:\\anaconda3\\lib\\site-packages (from ipython>=7.23.1->ipykernel->notebook>=6.0->jupyter_contrib_nbextensions) (0.2.0)\n",
      "Requirement already satisfied: decorator in d:\\anaconda3\\lib\\site-packages (from ipython>=7.23.1->ipykernel->notebook>=6.0->jupyter_contrib_nbextensions) (5.1.1)\n",
      "Requirement already satisfied: jedi>=0.16 in d:\\anaconda3\\lib\\site-packages (from ipython>=7.23.1->ipykernel->notebook>=6.0->jupyter_contrib_nbextensions) (0.18.1)\n",
      "Requirement already satisfied: pickleshare in d:\\anaconda3\\lib\\site-packages (from ipython>=7.23.1->ipykernel->notebook>=6.0->jupyter_contrib_nbextensions) (0.7.5)\n",
      "Requirement already satisfied: prompt-toolkit!=3.0.37,<3.1.0,>=3.0.30 in d:\\anaconda3\\lib\\site-packages (from ipython>=7.23.1->ipykernel->notebook>=6.0->jupyter_contrib_nbextensions) (3.0.36)\n",
      "Requirement already satisfied: stack-data in d:\\anaconda3\\lib\\site-packages (from ipython>=7.23.1->ipykernel->notebook>=6.0->jupyter_contrib_nbextensions) (0.2.0)\n",
      "Requirement already satisfied: colorama in d:\\anaconda3\\lib\\site-packages (from ipython>=7.23.1->ipykernel->notebook>=6.0->jupyter_contrib_nbextensions) (0.4.6)\n",
      "Requirement already satisfied: attrs>=17.4.0 in d:\\anaconda3\\lib\\site-packages (from jsonschema>=2.6->nbformat>=5.1->nbconvert>=6.0->jupyter_contrib_nbextensions) (22.1.0)\n",
      "Requirement already satisfied: pyrsistent!=0.17.0,!=0.17.1,!=0.17.2,>=0.14.0 in d:\\anaconda3\\lib\\site-packages (from jsonschema>=2.6->nbformat>=5.1->nbconvert>=6.0->jupyter_contrib_nbextensions) (0.18.0)\n",
      "Requirement already satisfied: anyio<4,>=3.1.0 in d:\\anaconda3\\lib\\site-packages (from jupyter-server>=1.8->nbclassic>=0.4.7->notebook>=6.0->jupyter_contrib_nbextensions) (3.5.0)\n",
      "Requirement already satisfied: websocket-client in d:\\anaconda3\\lib\\site-packages (from jupyter-server>=1.8->nbclassic>=0.4.7->notebook>=6.0->jupyter_contrib_nbextensions) (0.58.0)\n",
      "Requirement already satisfied: cffi>=1.0.1 in d:\\anaconda3\\lib\\site-packages (from argon2-cffi-bindings->argon2-cffi->notebook>=6.0->jupyter_contrib_nbextensions) (1.15.1)\n",
      "Requirement already satisfied: idna>=2.8 in d:\\anaconda3\\lib\\site-packages (from anyio<4,>=3.1.0->jupyter-server>=1.8->nbclassic>=0.4.7->notebook>=6.0->jupyter_contrib_nbextensions) (3.4)\n",
      "Requirement already satisfied: sniffio>=1.1 in d:\\anaconda3\\lib\\site-packages (from anyio<4,>=3.1.0->jupyter-server>=1.8->nbclassic>=0.4.7->notebook>=6.0->jupyter_contrib_nbextensions) (1.2.0)\n",
      "Requirement already satisfied: pycparser in d:\\anaconda3\\lib\\site-packages (from cffi>=1.0.1->argon2-cffi-bindings->argon2-cffi->notebook>=6.0->jupyter_contrib_nbextensions) (2.21)\n",
      "Requirement already satisfied: parso<0.9.0,>=0.8.0 in d:\\anaconda3\\lib\\site-packages (from jedi>=0.16->ipython>=7.23.1->ipykernel->notebook>=6.0->jupyter_contrib_nbextensions) (0.8.3)\n",
      "Requirement already satisfied: wcwidth in d:\\anaconda3\\lib\\site-packages (from prompt-toolkit!=3.0.37,<3.1.0,>=3.0.30->ipython>=7.23.1->ipykernel->notebook>=6.0->jupyter_contrib_nbextensions) (0.2.5)\n",
      "Requirement already satisfied: executing in d:\\anaconda3\\lib\\site-packages (from stack-data->ipython>=7.23.1->ipykernel->notebook>=6.0->jupyter_contrib_nbextensions) (0.8.3)\n",
      "Requirement already satisfied: asttokens in d:\\anaconda3\\lib\\site-packages (from stack-data->ipython>=7.23.1->ipykernel->notebook>=6.0->jupyter_contrib_nbextensions) (2.0.5)\n",
      "Requirement already satisfied: pure-eval in d:\\anaconda3\\lib\\site-packages (from stack-data->ipython>=7.23.1->ipykernel->notebook>=6.0->jupyter_contrib_nbextensions) (0.2.2)\n",
      "Building wheels for collected packages: jupyter_contrib_nbextensions, jupyter_contrib_core\n",
      "  Building wheel for jupyter_contrib_nbextensions (setup.py): started\n",
      "  Building wheel for jupyter_contrib_nbextensions (setup.py): finished with status 'done'\n",
      "  Created wheel for jupyter_contrib_nbextensions: filename=jupyter_contrib_nbextensions-0.7.0-py2.py3-none-any.whl size=23428802 sha256=515f243121b0281d65806fff684d8f477ab96f12bb4382c5eff9bacb907a09ba\n",
      "  Stored in directory: c:\\users\\allan\\appdata\\local\\pip\\cache\\wheels\\cd\\25\\fe\\cb6f3e82f5b1921b0157ac9e32adb2e54806ec1befc446be21\n",
      "  Building wheel for jupyter_contrib_core (setup.py): started\n",
      "  Building wheel for jupyter_contrib_core (setup.py): finished with status 'done'\n",
      "  Created wheel for jupyter_contrib_core: filename=jupyter_contrib_core-0.4.2-py2.py3-none-any.whl size=17498 sha256=c7d5e9abbc03eb18aa3a224328b219388b03542495ca6c4b5600203a1c1aa74a\n",
      "  Stored in directory: c:\\users\\allan\\appdata\\local\\pip\\cache\\wheels\\37\\c3\\18\\be7a983c1120f15dc0c2d1cb9c33749871a93b034185e00ced\n",
      "Successfully built jupyter_contrib_nbextensions jupyter_contrib_core\n",
      "Installing collected packages: jupyter_highlight_selected_word, jupyter_contrib_core, jupyter_nbextensions_configurator, jupyter_contrib_nbextensions\n",
      "Successfully installed jupyter_contrib_core-0.4.2 jupyter_contrib_nbextensions-0.7.0 jupyter_highlight_selected_word-0.2.0 jupyter_nbextensions_configurator-0.6.3\n"
     ]
    },
    {
     "name": "stderr",
     "output_type": "stream",
     "text": [
      "[I 09:04:46 InstallContribNbextensionsApp] jupyter contrib nbextension install --user\n",
      "[I 09:04:46 InstallContribNbextensionsApp] Installing jupyter_contrib_nbextensions nbextension files to jupyter data directory\n",
      "[I 09:04:46 InstallContribNbextensionsApp] Installing D:\\Anaconda3\\Lib\\site-packages\\jupyter_contrib_nbextensions\\nbextensions\\addbefore -> addbefore\n",
      "[I 09:04:46 InstallContribNbextensionsApp] Making directory: C:\\Users\\Allan\\AppData\\Roaming\\jupyter\\nbextensions\\addbefore\\\n",
      "[I 09:04:46 InstallContribNbextensionsApp] Copying: D:\\Anaconda3\\Lib\\site-packages\\jupyter_contrib_nbextensions\\nbextensions\\addbefore\\addbefore.yaml -> C:\\Users\\Allan\\AppData\\Roaming\\jupyter\\nbextensions\\addbefore\\addbefore.yaml\n",
      "[I 09:04:46 InstallContribNbextensionsApp] Copying: D:\\Anaconda3\\Lib\\site-packages\\jupyter_contrib_nbextensions\\nbextensions\\addbefore\\icon.png -> C:\\Users\\Allan\\AppData\\Roaming\\jupyter\\nbextensions\\addbefore\\icon.png\n",
      "[I 09:04:46 InstallContribNbextensionsApp] Copying: D:\\Anaconda3\\Lib\\site-packages\\jupyter_contrib_nbextensions\\nbextensions\\addbefore\\main.js -> C:\\Users\\Allan\\AppData\\Roaming\\jupyter\\nbextensions\\addbefore\\main.js\n",
      "[I 09:04:46 InstallContribNbextensionsApp] Copying: D:\\Anaconda3\\Lib\\site-packages\\jupyter_contrib_nbextensions\\nbextensions\\addbefore\\readme.md -> C:\\Users\\Allan\\AppData\\Roaming\\jupyter\\nbextensions\\addbefore\\readme.md\n",
      "[I 09:04:46 InstallContribNbextensionsApp] - Validating: ok\n",
      "[I 09:04:46 InstallContribNbextensionsApp] Installing D:\\Anaconda3\\Lib\\site-packages\\jupyter_contrib_nbextensions\\nbextensions\\autosavetime -> autosavetime\n",
      "[I 09:04:46 InstallContribNbextensionsApp] Making directory: C:\\Users\\Allan\\AppData\\Roaming\\jupyter\\nbextensions\\autosavetime\\\n",
      "[I 09:04:46 InstallContribNbextensionsApp] Copying: D:\\Anaconda3\\Lib\\site-packages\\jupyter_contrib_nbextensions\\nbextensions\\autosavetime\\autosavetime.yaml -> C:\\Users\\Allan\\AppData\\Roaming\\jupyter\\nbextensions\\autosavetime\\autosavetime.yaml\n",
      "[I 09:04:46 InstallContribNbextensionsApp] Copying: D:\\Anaconda3\\Lib\\site-packages\\jupyter_contrib_nbextensions\\nbextensions\\autosavetime\\icon.png -> C:\\Users\\Allan\\AppData\\Roaming\\jupyter\\nbextensions\\autosavetime\\icon.png\n",
      "[I 09:04:46 InstallContribNbextensionsApp] Copying: D:\\Anaconda3\\Lib\\site-packages\\jupyter_contrib_nbextensions\\nbextensions\\autosavetime\\main.js -> C:\\Users\\Allan\\AppData\\Roaming\\jupyter\\nbextensions\\autosavetime\\main.js\n",
      "[I 09:04:46 InstallContribNbextensionsApp] Copying: D:\\Anaconda3\\Lib\\site-packages\\jupyter_contrib_nbextensions\\nbextensions\\autosavetime\\README.md -> C:\\Users\\Allan\\AppData\\Roaming\\jupyter\\nbextensions\\autosavetime\\README.md\n",
      "[I 09:04:46 InstallContribNbextensionsApp] - Validating: ok\n",
      "[I 09:04:46 InstallContribNbextensionsApp] Installing D:\\Anaconda3\\Lib\\site-packages\\jupyter_contrib_nbextensions\\nbextensions\\autoscroll -> autoscroll\n",
      "[I 09:04:46 InstallContribNbextensionsApp] Making directory: C:\\Users\\Allan\\AppData\\Roaming\\jupyter\\nbextensions\\autoscroll\\\n",
      "[I 09:04:46 InstallContribNbextensionsApp] Copying: D:\\Anaconda3\\Lib\\site-packages\\jupyter_contrib_nbextensions\\nbextensions\\autoscroll\\autoscroll.yaml -> C:\\Users\\Allan\\AppData\\Roaming\\jupyter\\nbextensions\\autoscroll\\autoscroll.yaml\n",
      "[I 09:04:46 InstallContribNbextensionsApp] Copying: D:\\Anaconda3\\Lib\\site-packages\\jupyter_contrib_nbextensions\\nbextensions\\autoscroll\\icon.png -> C:\\Users\\Allan\\AppData\\Roaming\\jupyter\\nbextensions\\autoscroll\\icon.png\n",
      "[I 09:04:46 InstallContribNbextensionsApp] Copying: D:\\Anaconda3\\Lib\\site-packages\\jupyter_contrib_nbextensions\\nbextensions\\autoscroll\\main.js -> C:\\Users\\Allan\\AppData\\Roaming\\jupyter\\nbextensions\\autoscroll\\main.js\n",
      "[I 09:04:46 InstallContribNbextensionsApp] Copying: D:\\Anaconda3\\Lib\\site-packages\\jupyter_contrib_nbextensions\\nbextensions\\autoscroll\\README.md -> C:\\Users\\Allan\\AppData\\Roaming\\jupyter\\nbextensions\\autoscroll\\README.md\n",
      "[I 09:04:46 InstallContribNbextensionsApp] - Validating: ok\n",
      "[I 09:04:46 InstallContribNbextensionsApp] Installing D:\\Anaconda3\\Lib\\site-packages\\jupyter_contrib_nbextensions\\nbextensions\\cell_filter -> cell_filter\n",
      "[I 09:04:46 InstallContribNbextensionsApp] Making directory: C:\\Users\\Allan\\AppData\\Roaming\\jupyter\\nbextensions\\cell_filter\\\n",
      "[I 09:04:46 InstallContribNbextensionsApp] Copying: D:\\Anaconda3\\Lib\\site-packages\\jupyter_contrib_nbextensions\\nbextensions\\cell_filter\\cell_filter.js -> C:\\Users\\Allan\\AppData\\Roaming\\jupyter\\nbextensions\\cell_filter\\cell_filter.js\n",
      "[I 09:04:46 InstallContribNbextensionsApp] Copying: D:\\Anaconda3\\Lib\\site-packages\\jupyter_contrib_nbextensions\\nbextensions\\cell_filter\\cell_filter.yml -> C:\\Users\\Allan\\AppData\\Roaming\\jupyter\\nbextensions\\cell_filter\\cell_filter.yml\n",
      "[I 09:04:46 InstallContribNbextensionsApp] Copying: D:\\Anaconda3\\Lib\\site-packages\\jupyter_contrib_nbextensions\\nbextensions\\cell_filter\\README.md -> C:\\Users\\Allan\\AppData\\Roaming\\jupyter\\nbextensions\\cell_filter\\README.md\n",
      "[I 09:04:46 InstallContribNbextensionsApp] - Validating: ok\n",
      "[I 09:04:46 InstallContribNbextensionsApp] Installing D:\\Anaconda3\\Lib\\site-packages\\jupyter_contrib_nbextensions\\nbextensions\\codefolding -> codefolding\n",
      "[I 09:04:46 InstallContribNbextensionsApp] Making directory: C:\\Users\\Allan\\AppData\\Roaming\\jupyter\\nbextensions\\codefolding\\\n",
      "[I 09:04:46 InstallContribNbextensionsApp] Copying: D:\\Anaconda3\\Lib\\site-packages\\jupyter_contrib_nbextensions\\nbextensions\\codefolding\\blockcomment-fold.js -> C:\\Users\\Allan\\AppData\\Roaming\\jupyter\\nbextensions\\codefolding\\blockcomment-fold.js\n",
      "[I 09:04:46 InstallContribNbextensionsApp] Copying: D:\\Anaconda3\\Lib\\site-packages\\jupyter_contrib_nbextensions\\nbextensions\\codefolding\\codefolding.yaml -> C:\\Users\\Allan\\AppData\\Roaming\\jupyter\\nbextensions\\codefolding\\codefolding.yaml\n",
      "[I 09:04:46 InstallContribNbextensionsApp] Copying: D:\\Anaconda3\\Lib\\site-packages\\jupyter_contrib_nbextensions\\nbextensions\\codefolding\\codefolding_editor.png -> C:\\Users\\Allan\\AppData\\Roaming\\jupyter\\nbextensions\\codefolding\\codefolding_editor.png\n",
      "[I 09:04:46 InstallContribNbextensionsApp] Copying: D:\\Anaconda3\\Lib\\site-packages\\jupyter_contrib_nbextensions\\nbextensions\\codefolding\\codefolding_editor.yaml -> C:\\Users\\Allan\\AppData\\Roaming\\jupyter\\nbextensions\\codefolding\\codefolding_editor.yaml\n",
      "[I 09:04:46 InstallContribNbextensionsApp] Copying: D:\\Anaconda3\\Lib\\site-packages\\jupyter_contrib_nbextensions\\nbextensions\\codefolding\\codefolding_firstline_folded.png -> C:\\Users\\Allan\\AppData\\Roaming\\jupyter\\nbextensions\\codefolding\\codefolding_firstline_folded.png\n",
      "[I 09:04:46 InstallContribNbextensionsApp] Copying: D:\\Anaconda3\\Lib\\site-packages\\jupyter_contrib_nbextensions\\nbextensions\\codefolding\\codefolding_firstline_unfolded.png -> C:\\Users\\Allan\\AppData\\Roaming\\jupyter\\nbextensions\\codefolding\\codefolding_firstline_unfolded.png\n",
      "[I 09:04:46 InstallContribNbextensionsApp] Copying: D:\\Anaconda3\\Lib\\site-packages\\jupyter_contrib_nbextensions\\nbextensions\\codefolding\\codefolding_indent_folded_1.png -> C:\\Users\\Allan\\AppData\\Roaming\\jupyter\\nbextensions\\codefolding\\codefolding_indent_folded_1.png\n",
      "[I 09:04:46 InstallContribNbextensionsApp] Copying: D:\\Anaconda3\\Lib\\site-packages\\jupyter_contrib_nbextensions\\nbextensions\\codefolding\\codefolding_indent_folded_2.png -> C:\\Users\\Allan\\AppData\\Roaming\\jupyter\\nbextensions\\codefolding\\codefolding_indent_folded_2.png\n",
      "[I 09:04:46 InstallContribNbextensionsApp] Copying: D:\\Anaconda3\\Lib\\site-packages\\jupyter_contrib_nbextensions\\nbextensions\\codefolding\\codefolding_indent_unfolded.png -> C:\\Users\\Allan\\AppData\\Roaming\\jupyter\\nbextensions\\codefolding\\codefolding_indent_unfolded.png\n",
      "[I 09:04:46 InstallContribNbextensionsApp] Copying: D:\\Anaconda3\\Lib\\site-packages\\jupyter_contrib_nbextensions\\nbextensions\\codefolding\\edit.js -> C:\\Users\\Allan\\AppData\\Roaming\\jupyter\\nbextensions\\codefolding\\edit.js\n",
      "[I 09:04:46 InstallContribNbextensionsApp] Copying: D:\\Anaconda3\\Lib\\site-packages\\jupyter_contrib_nbextensions\\nbextensions\\codefolding\\firstline-fold.js -> C:\\Users\\Allan\\AppData\\Roaming\\jupyter\\nbextensions\\codefolding\\firstline-fold.js\n",
      "[I 09:04:46 InstallContribNbextensionsApp] Copying: D:\\Anaconda3\\Lib\\site-packages\\jupyter_contrib_nbextensions\\nbextensions\\codefolding\\foldgutter.css -> C:\\Users\\Allan\\AppData\\Roaming\\jupyter\\nbextensions\\codefolding\\foldgutter.css\n",
      "[I 09:04:46 InstallContribNbextensionsApp] Copying: D:\\Anaconda3\\Lib\\site-packages\\jupyter_contrib_nbextensions\\nbextensions\\codefolding\\icon.png -> C:\\Users\\Allan\\AppData\\Roaming\\jupyter\\nbextensions\\codefolding\\icon.png\n",
      "[I 09:04:46 InstallContribNbextensionsApp] Copying: D:\\Anaconda3\\Lib\\site-packages\\jupyter_contrib_nbextensions\\nbextensions\\codefolding\\magic-fold.js -> C:\\Users\\Allan\\AppData\\Roaming\\jupyter\\nbextensions\\codefolding\\magic-fold.js\n",
      "[I 09:04:46 InstallContribNbextensionsApp] Copying: D:\\Anaconda3\\Lib\\site-packages\\jupyter_contrib_nbextensions\\nbextensions\\codefolding\\magic-folded.png -> C:\\Users\\Allan\\AppData\\Roaming\\jupyter\\nbextensions\\codefolding\\magic-folded.png\n",
      "[I 09:04:46 InstallContribNbextensionsApp] Copying: D:\\Anaconda3\\Lib\\site-packages\\jupyter_contrib_nbextensions\\nbextensions\\codefolding\\magic-unfolded.png -> C:\\Users\\Allan\\AppData\\Roaming\\jupyter\\nbextensions\\codefolding\\magic-unfolded.png\n",
      "[I 09:04:46 InstallContribNbextensionsApp] Copying: D:\\Anaconda3\\Lib\\site-packages\\jupyter_contrib_nbextensions\\nbextensions\\codefolding\\main.js -> C:\\Users\\Allan\\AppData\\Roaming\\jupyter\\nbextensions\\codefolding\\main.js\n",
      "[I 09:04:46 InstallContribNbextensionsApp] Copying: D:\\Anaconda3\\Lib\\site-packages\\jupyter_contrib_nbextensions\\nbextensions\\codefolding\\readme.md -> C:\\Users\\Allan\\AppData\\Roaming\\jupyter\\nbextensions\\codefolding\\readme.md\n",
      "[I 09:04:46 InstallContribNbextensionsApp] - Validating: ok\n",
      "[I 09:04:46 InstallContribNbextensionsApp] Installing D:\\Anaconda3\\Lib\\site-packages\\jupyter_contrib_nbextensions\\nbextensions\\codefolding -> codefolding\n",
      "[I 09:04:46 InstallContribNbextensionsApp] Up to date: C:\\Users\\Allan\\AppData\\Roaming\\jupyter\\nbextensions\\codefolding\\blockcomment-fold.js\n",
      "[I 09:04:46 InstallContribNbextensionsApp] Up to date: C:\\Users\\Allan\\AppData\\Roaming\\jupyter\\nbextensions\\codefolding\\codefolding.yaml\n",
      "[I 09:04:46 InstallContribNbextensionsApp] Up to date: C:\\Users\\Allan\\AppData\\Roaming\\jupyter\\nbextensions\\codefolding\\codefolding_editor.png\n",
      "[I 09:04:46 InstallContribNbextensionsApp] Up to date: C:\\Users\\Allan\\AppData\\Roaming\\jupyter\\nbextensions\\codefolding\\codefolding_editor.yaml\n",
      "[I 09:04:46 InstallContribNbextensionsApp] Up to date: C:\\Users\\Allan\\AppData\\Roaming\\jupyter\\nbextensions\\codefolding\\codefolding_firstline_folded.png\n",
      "[I 09:04:46 InstallContribNbextensionsApp] Up to date: C:\\Users\\Allan\\AppData\\Roaming\\jupyter\\nbextensions\\codefolding\\codefolding_firstline_unfolded.png\n",
      "[I 09:04:46 InstallContribNbextensionsApp] Up to date: C:\\Users\\Allan\\AppData\\Roaming\\jupyter\\nbextensions\\codefolding\\codefolding_indent_folded_1.png\n",
      "[I 09:04:46 InstallContribNbextensionsApp] Up to date: C:\\Users\\Allan\\AppData\\Roaming\\jupyter\\nbextensions\\codefolding\\codefolding_indent_folded_2.png\n",
      "[I 09:04:46 InstallContribNbextensionsApp] Up to date: C:\\Users\\Allan\\AppData\\Roaming\\jupyter\\nbextensions\\codefolding\\codefolding_indent_unfolded.png\n",
      "[I 09:04:46 InstallContribNbextensionsApp] Up to date: C:\\Users\\Allan\\AppData\\Roaming\\jupyter\\nbextensions\\codefolding\\edit.js\n",
      "[I 09:04:46 InstallContribNbextensionsApp] Up to date: C:\\Users\\Allan\\AppData\\Roaming\\jupyter\\nbextensions\\codefolding\\firstline-fold.js\n",
      "[I 09:04:46 InstallContribNbextensionsApp] Up to date: C:\\Users\\Allan\\AppData\\Roaming\\jupyter\\nbextensions\\codefolding\\foldgutter.css\n",
      "[I 09:04:46 InstallContribNbextensionsApp] Up to date: C:\\Users\\Allan\\AppData\\Roaming\\jupyter\\nbextensions\\codefolding\\icon.png\n",
      "[I 09:04:46 InstallContribNbextensionsApp] Up to date: C:\\Users\\Allan\\AppData\\Roaming\\jupyter\\nbextensions\\codefolding\\magic-fold.js\n",
      "[I 09:04:46 InstallContribNbextensionsApp] Up to date: C:\\Users\\Allan\\AppData\\Roaming\\jupyter\\nbextensions\\codefolding\\magic-folded.png\n",
      "[I 09:04:46 InstallContribNbextensionsApp] Up to date: C:\\Users\\Allan\\AppData\\Roaming\\jupyter\\nbextensions\\codefolding\\magic-unfolded.png\n",
      "[I 09:04:46 InstallContribNbextensionsApp] Up to date: C:\\Users\\Allan\\AppData\\Roaming\\jupyter\\nbextensions\\codefolding\\main.js\n",
      "[I 09:04:46 InstallContribNbextensionsApp] Up to date: C:\\Users\\Allan\\AppData\\Roaming\\jupyter\\nbextensions\\codefolding\\readme.md\n",
      "[I 09:04:46 InstallContribNbextensionsApp] - Validating: ok\n",
      "[I 09:04:46 InstallContribNbextensionsApp] Installing D:\\Anaconda3\\Lib\\site-packages\\jupyter_contrib_nbextensions\\nbextensions\\codemirror_mode_extensions -> codemirror_mode_extensions\n",
      "[I 09:04:46 InstallContribNbextensionsApp] Making directory: C:\\Users\\Allan\\AppData\\Roaming\\jupyter\\nbextensions\\codemirror_mode_extensions\\\n",
      "[I 09:04:46 InstallContribNbextensionsApp] Copying: D:\\Anaconda3\\Lib\\site-packages\\jupyter_contrib_nbextensions\\nbextensions\\codemirror_mode_extensions\\codemirror_mode_extensions.yaml -> C:\\Users\\Allan\\AppData\\Roaming\\jupyter\\nbextensions\\codemirror_mode_extensions\\codemirror_mode_extensions.yaml\n",
      "[I 09:04:46 InstallContribNbextensionsApp] Copying: D:\\Anaconda3\\Lib\\site-packages\\jupyter_contrib_nbextensions\\nbextensions\\codemirror_mode_extensions\\main.js -> C:\\Users\\Allan\\AppData\\Roaming\\jupyter\\nbextensions\\codemirror_mode_extensions\\main.js\n",
      "[I 09:04:46 InstallContribNbextensionsApp] - Validating: ok\n",
      "[I 09:04:46 InstallContribNbextensionsApp] Installing D:\\Anaconda3\\Lib\\site-packages\\jupyter_contrib_nbextensions\\nbextensions\\code_font_size -> code_font_size\n",
      "[I 09:04:46 InstallContribNbextensionsApp] Making directory: C:\\Users\\Allan\\AppData\\Roaming\\jupyter\\nbextensions\\code_font_size\\\n",
      "[I 09:04:46 InstallContribNbextensionsApp] Copying: D:\\Anaconda3\\Lib\\site-packages\\jupyter_contrib_nbextensions\\nbextensions\\code_font_size\\code_font_size.js -> C:\\Users\\Allan\\AppData\\Roaming\\jupyter\\nbextensions\\code_font_size\\code_font_size.js\n",
      "[I 09:04:46 InstallContribNbextensionsApp] Copying: D:\\Anaconda3\\Lib\\site-packages\\jupyter_contrib_nbextensions\\nbextensions\\code_font_size\\code_font_size.yaml -> C:\\Users\\Allan\\AppData\\Roaming\\jupyter\\nbextensions\\code_font_size\\code_font_size.yaml\n",
      "[I 09:04:46 InstallContribNbextensionsApp] Copying: D:\\Anaconda3\\Lib\\site-packages\\jupyter_contrib_nbextensions\\nbextensions\\code_font_size\\README.md -> C:\\Users\\Allan\\AppData\\Roaming\\jupyter\\nbextensions\\code_font_size\\README.md\n",
      "[I 09:04:46 InstallContribNbextensionsApp] - Validating: ok\n",
      "[I 09:04:46 InstallContribNbextensionsApp] Installing D:\\Anaconda3\\Lib\\site-packages\\jupyter_contrib_nbextensions\\nbextensions\\code_prettify -> code_prettify\n",
      "[I 09:04:46 InstallContribNbextensionsApp] Making directory: C:\\Users\\Allan\\AppData\\Roaming\\jupyter\\nbextensions\\code_prettify\\\n",
      "[I 09:04:46 InstallContribNbextensionsApp] Copying: D:\\Anaconda3\\Lib\\site-packages\\jupyter_contrib_nbextensions\\nbextensions\\code_prettify\\2to3.js -> C:\\Users\\Allan\\AppData\\Roaming\\jupyter\\nbextensions\\code_prettify\\2to3.js\n",
      "[I 09:04:46 InstallContribNbextensionsApp] Copying: D:\\Anaconda3\\Lib\\site-packages\\jupyter_contrib_nbextensions\\nbextensions\\code_prettify\\2to3.yaml -> C:\\Users\\Allan\\AppData\\Roaming\\jupyter\\nbextensions\\code_prettify\\2to3.yaml\n",
      "[I 09:04:46 InstallContribNbextensionsApp] Copying: D:\\Anaconda3\\Lib\\site-packages\\jupyter_contrib_nbextensions\\nbextensions\\code_prettify\\autopep8.js -> C:\\Users\\Allan\\AppData\\Roaming\\jupyter\\nbextensions\\code_prettify\\autopep8.js\n",
      "[I 09:04:46 InstallContribNbextensionsApp] Copying: D:\\Anaconda3\\Lib\\site-packages\\jupyter_contrib_nbextensions\\nbextensions\\code_prettify\\autopep8.yaml -> C:\\Users\\Allan\\AppData\\Roaming\\jupyter\\nbextensions\\code_prettify\\autopep8.yaml\n",
      "[I 09:04:46 InstallContribNbextensionsApp] Copying: D:\\Anaconda3\\Lib\\site-packages\\jupyter_contrib_nbextensions\\nbextensions\\code_prettify\\code_prettify.js -> C:\\Users\\Allan\\AppData\\Roaming\\jupyter\\nbextensions\\code_prettify\\code_prettify.js\n",
      "[I 09:04:46 InstallContribNbextensionsApp] Copying: D:\\Anaconda3\\Lib\\site-packages\\jupyter_contrib_nbextensions\\nbextensions\\code_prettify\\code_prettify.yaml -> C:\\Users\\Allan\\AppData\\Roaming\\jupyter\\nbextensions\\code_prettify\\code_prettify.yaml\n",
      "[I 09:04:46 InstallContribNbextensionsApp] Copying: D:\\Anaconda3\\Lib\\site-packages\\jupyter_contrib_nbextensions\\nbextensions\\code_prettify\\demo-jv.gif -> C:\\Users\\Allan\\AppData\\Roaming\\jupyter\\nbextensions\\code_prettify\\demo-jv.gif\n",
      "[I 09:04:46 InstallContribNbextensionsApp] Copying: D:\\Anaconda3\\Lib\\site-packages\\jupyter_contrib_nbextensions\\nbextensions\\code_prettify\\demo-py.gif -> C:\\Users\\Allan\\AppData\\Roaming\\jupyter\\nbextensions\\code_prettify\\demo-py.gif\n",
      "[I 09:04:46 InstallContribNbextensionsApp] Copying: D:\\Anaconda3\\Lib\\site-packages\\jupyter_contrib_nbextensions\\nbextensions\\code_prettify\\demo-R.gif -> C:\\Users\\Allan\\AppData\\Roaming\\jupyter\\nbextensions\\code_prettify\\demo-R.gif\n",
      "[I 09:04:46 InstallContribNbextensionsApp] Copying: D:\\Anaconda3\\Lib\\site-packages\\jupyter_contrib_nbextensions\\nbextensions\\code_prettify\\demo_2to3.gif -> C:\\Users\\Allan\\AppData\\Roaming\\jupyter\\nbextensions\\code_prettify\\demo_2to3.gif\n",
      "[I 09:04:46 InstallContribNbextensionsApp] Copying: D:\\Anaconda3\\Lib\\site-packages\\jupyter_contrib_nbextensions\\nbextensions\\code_prettify\\isort.js -> C:\\Users\\Allan\\AppData\\Roaming\\jupyter\\nbextensions\\code_prettify\\isort.js\n",
      "[I 09:04:46 InstallContribNbextensionsApp] Copying: D:\\Anaconda3\\Lib\\site-packages\\jupyter_contrib_nbextensions\\nbextensions\\code_prettify\\isort.yaml -> C:\\Users\\Allan\\AppData\\Roaming\\jupyter\\nbextensions\\code_prettify\\isort.yaml\n",
      "[I 09:04:46 InstallContribNbextensionsApp] Copying: D:\\Anaconda3\\Lib\\site-packages\\jupyter_contrib_nbextensions\\nbextensions\\code_prettify\\kernel_exec_on_cell.js -> C:\\Users\\Allan\\AppData\\Roaming\\jupyter\\nbextensions\\code_prettify\\kernel_exec_on_cell.js\n",
      "[I 09:04:46 InstallContribNbextensionsApp] Copying: D:\\Anaconda3\\Lib\\site-packages\\jupyter_contrib_nbextensions\\nbextensions\\code_prettify\\README.md -> C:\\Users\\Allan\\AppData\\Roaming\\jupyter\\nbextensions\\code_prettify\\README.md\n",
      "[I 09:04:46 InstallContribNbextensionsApp] Copying: D:\\Anaconda3\\Lib\\site-packages\\jupyter_contrib_nbextensions\\nbextensions\\code_prettify\\README_2to3.md -> C:\\Users\\Allan\\AppData\\Roaming\\jupyter\\nbextensions\\code_prettify\\README_2to3.md\n",
      "[I 09:04:46 InstallContribNbextensionsApp] Copying: D:\\Anaconda3\\Lib\\site-packages\\jupyter_contrib_nbextensions\\nbextensions\\code_prettify\\README_autopep8.md -> C:\\Users\\Allan\\AppData\\Roaming\\jupyter\\nbextensions\\code_prettify\\README_autopep8.md\n",
      "[I 09:04:46 InstallContribNbextensionsApp] Copying: D:\\Anaconda3\\Lib\\site-packages\\jupyter_contrib_nbextensions\\nbextensions\\code_prettify\\README_code_prettify.md -> C:\\Users\\Allan\\AppData\\Roaming\\jupyter\\nbextensions\\code_prettify\\README_code_prettify.md\n",
      "[I 09:04:46 InstallContribNbextensionsApp] Copying: D:\\Anaconda3\\Lib\\site-packages\\jupyter_contrib_nbextensions\\nbextensions\\code_prettify\\README_isort.md -> C:\\Users\\Allan\\AppData\\Roaming\\jupyter\\nbextensions\\code_prettify\\README_isort.md\n",
      "[I 09:04:46 InstallContribNbextensionsApp] - Validating: ok\n",
      "[I 09:04:46 InstallContribNbextensionsApp] Installing D:\\Anaconda3\\Lib\\site-packages\\jupyter_contrib_nbextensions\\nbextensions\\code_prettify -> code_prettify\n",
      "[I 09:04:46 InstallContribNbextensionsApp] Up to date: C:\\Users\\Allan\\AppData\\Roaming\\jupyter\\nbextensions\\code_prettify\\2to3.js\n",
      "[I 09:04:46 InstallContribNbextensionsApp] Up to date: C:\\Users\\Allan\\AppData\\Roaming\\jupyter\\nbextensions\\code_prettify\\2to3.yaml\n",
      "[I 09:04:46 InstallContribNbextensionsApp] Up to date: C:\\Users\\Allan\\AppData\\Roaming\\jupyter\\nbextensions\\code_prettify\\autopep8.js\n",
      "[I 09:04:46 InstallContribNbextensionsApp] Up to date: C:\\Users\\Allan\\AppData\\Roaming\\jupyter\\nbextensions\\code_prettify\\autopep8.yaml\n",
      "[I 09:04:46 InstallContribNbextensionsApp] Up to date: C:\\Users\\Allan\\AppData\\Roaming\\jupyter\\nbextensions\\code_prettify\\code_prettify.js\n",
      "[I 09:04:46 InstallContribNbextensionsApp] Up to date: C:\\Users\\Allan\\AppData\\Roaming\\jupyter\\nbextensions\\code_prettify\\code_prettify.yaml\n",
      "[I 09:04:46 InstallContribNbextensionsApp] Up to date: C:\\Users\\Allan\\AppData\\Roaming\\jupyter\\nbextensions\\code_prettify\\demo-jv.gif\n",
      "[I 09:04:46 InstallContribNbextensionsApp] Up to date: C:\\Users\\Allan\\AppData\\Roaming\\jupyter\\nbextensions\\code_prettify\\demo-py.gif\n",
      "[I 09:04:46 InstallContribNbextensionsApp] Up to date: C:\\Users\\Allan\\AppData\\Roaming\\jupyter\\nbextensions\\code_prettify\\demo-R.gif\n",
      "[I 09:04:46 InstallContribNbextensionsApp] Up to date: C:\\Users\\Allan\\AppData\\Roaming\\jupyter\\nbextensions\\code_prettify\\demo_2to3.gif\n",
      "[I 09:04:46 InstallContribNbextensionsApp] Up to date: C:\\Users\\Allan\\AppData\\Roaming\\jupyter\\nbextensions\\code_prettify\\isort.js\n",
      "[I 09:04:46 InstallContribNbextensionsApp] Up to date: C:\\Users\\Allan\\AppData\\Roaming\\jupyter\\nbextensions\\code_prettify\\isort.yaml\n",
      "[I 09:04:46 InstallContribNbextensionsApp] Up to date: C:\\Users\\Allan\\AppData\\Roaming\\jupyter\\nbextensions\\code_prettify\\kernel_exec_on_cell.js\n",
      "[I 09:04:46 InstallContribNbextensionsApp] Up to date: C:\\Users\\Allan\\AppData\\Roaming\\jupyter\\nbextensions\\code_prettify\\README.md\n",
      "[I 09:04:46 InstallContribNbextensionsApp] Up to date: C:\\Users\\Allan\\AppData\\Roaming\\jupyter\\nbextensions\\code_prettify\\README_2to3.md\n",
      "[I 09:04:46 InstallContribNbextensionsApp] Up to date: C:\\Users\\Allan\\AppData\\Roaming\\jupyter\\nbextensions\\code_prettify\\README_autopep8.md\n",
      "[I 09:04:46 InstallContribNbextensionsApp] Up to date: C:\\Users\\Allan\\AppData\\Roaming\\jupyter\\nbextensions\\code_prettify\\README_code_prettify.md\n",
      "[I 09:04:46 InstallContribNbextensionsApp] Up to date: C:\\Users\\Allan\\AppData\\Roaming\\jupyter\\nbextensions\\code_prettify\\README_isort.md\n",
      "[I 09:04:46 InstallContribNbextensionsApp] - Validating: ok\n",
      "[I 09:04:46 InstallContribNbextensionsApp] Installing D:\\Anaconda3\\Lib\\site-packages\\jupyter_contrib_nbextensions\\nbextensions\\code_prettify -> code_prettify\n",
      "[I 09:04:46 InstallContribNbextensionsApp] Up to date: C:\\Users\\Allan\\AppData\\Roaming\\jupyter\\nbextensions\\code_prettify\\2to3.js\n",
      "[I 09:04:46 InstallContribNbextensionsApp] Up to date: C:\\Users\\Allan\\AppData\\Roaming\\jupyter\\nbextensions\\code_prettify\\2to3.yaml\n",
      "[I 09:04:46 InstallContribNbextensionsApp] Up to date: C:\\Users\\Allan\\AppData\\Roaming\\jupyter\\nbextensions\\code_prettify\\autopep8.js\n",
      "[I 09:04:46 InstallContribNbextensionsApp] Up to date: C:\\Users\\Allan\\AppData\\Roaming\\jupyter\\nbextensions\\code_prettify\\autopep8.yaml\n",
      "[I 09:04:46 InstallContribNbextensionsApp] Up to date: C:\\Users\\Allan\\AppData\\Roaming\\jupyter\\nbextensions\\code_prettify\\code_prettify.js\n",
      "[I 09:04:46 InstallContribNbextensionsApp] Up to date: C:\\Users\\Allan\\AppData\\Roaming\\jupyter\\nbextensions\\code_prettify\\code_prettify.yaml\n",
      "[I 09:04:46 InstallContribNbextensionsApp] Up to date: C:\\Users\\Allan\\AppData\\Roaming\\jupyter\\nbextensions\\code_prettify\\demo-jv.gif\n",
      "[I 09:04:46 InstallContribNbextensionsApp] Up to date: C:\\Users\\Allan\\AppData\\Roaming\\jupyter\\nbextensions\\code_prettify\\demo-py.gif\n",
      "[I 09:04:46 InstallContribNbextensionsApp] Up to date: C:\\Users\\Allan\\AppData\\Roaming\\jupyter\\nbextensions\\code_prettify\\demo-R.gif\n",
      "[I 09:04:46 InstallContribNbextensionsApp] Up to date: C:\\Users\\Allan\\AppData\\Roaming\\jupyter\\nbextensions\\code_prettify\\demo_2to3.gif\n",
      "[I 09:04:46 InstallContribNbextensionsApp] Up to date: C:\\Users\\Allan\\AppData\\Roaming\\jupyter\\nbextensions\\code_prettify\\isort.js\n",
      "[I 09:04:46 InstallContribNbextensionsApp] Up to date: C:\\Users\\Allan\\AppData\\Roaming\\jupyter\\nbextensions\\code_prettify\\isort.yaml\n",
      "[I 09:04:46 InstallContribNbextensionsApp] Up to date: C:\\Users\\Allan\\AppData\\Roaming\\jupyter\\nbextensions\\code_prettify\\kernel_exec_on_cell.js\n",
      "[I 09:04:46 InstallContribNbextensionsApp] Up to date: C:\\Users\\Allan\\AppData\\Roaming\\jupyter\\nbextensions\\code_prettify\\README.md\n",
      "[I 09:04:46 InstallContribNbextensionsApp] Up to date: C:\\Users\\Allan\\AppData\\Roaming\\jupyter\\nbextensions\\code_prettify\\README_2to3.md\n",
      "[I 09:04:46 InstallContribNbextensionsApp] Up to date: C:\\Users\\Allan\\AppData\\Roaming\\jupyter\\nbextensions\\code_prettify\\README_autopep8.md\n",
      "[I 09:04:46 InstallContribNbextensionsApp] Up to date: C:\\Users\\Allan\\AppData\\Roaming\\jupyter\\nbextensions\\code_prettify\\README_code_prettify.md\n",
      "[I 09:04:46 InstallContribNbextensionsApp] Up to date: C:\\Users\\Allan\\AppData\\Roaming\\jupyter\\nbextensions\\code_prettify\\README_isort.md\n",
      "[I 09:04:46 InstallContribNbextensionsApp] - Validating: ok\n",
      "[I 09:04:46 InstallContribNbextensionsApp] Installing D:\\Anaconda3\\Lib\\site-packages\\jupyter_contrib_nbextensions\\nbextensions\\code_prettify -> code_prettify\n",
      "[I 09:04:46 InstallContribNbextensionsApp] Up to date: C:\\Users\\Allan\\AppData\\Roaming\\jupyter\\nbextensions\\code_prettify\\2to3.js\n",
      "[I 09:04:46 InstallContribNbextensionsApp] Up to date: C:\\Users\\Allan\\AppData\\Roaming\\jupyter\\nbextensions\\code_prettify\\2to3.yaml\n",
      "[I 09:04:46 InstallContribNbextensionsApp] Up to date: C:\\Users\\Allan\\AppData\\Roaming\\jupyter\\nbextensions\\code_prettify\\autopep8.js\n",
      "[I 09:04:46 InstallContribNbextensionsApp] Up to date: C:\\Users\\Allan\\AppData\\Roaming\\jupyter\\nbextensions\\code_prettify\\autopep8.yaml\n",
      "[I 09:04:46 InstallContribNbextensionsApp] Up to date: C:\\Users\\Allan\\AppData\\Roaming\\jupyter\\nbextensions\\code_prettify\\code_prettify.js\n",
      "[I 09:04:46 InstallContribNbextensionsApp] Up to date: C:\\Users\\Allan\\AppData\\Roaming\\jupyter\\nbextensions\\code_prettify\\code_prettify.yaml\n",
      "[I 09:04:46 InstallContribNbextensionsApp] Up to date: C:\\Users\\Allan\\AppData\\Roaming\\jupyter\\nbextensions\\code_prettify\\demo-jv.gif\n",
      "[I 09:04:46 InstallContribNbextensionsApp] Up to date: C:\\Users\\Allan\\AppData\\Roaming\\jupyter\\nbextensions\\code_prettify\\demo-py.gif\n",
      "[I 09:04:46 InstallContribNbextensionsApp] Up to date: C:\\Users\\Allan\\AppData\\Roaming\\jupyter\\nbextensions\\code_prettify\\demo-R.gif\n",
      "[I 09:04:46 InstallContribNbextensionsApp] Up to date: C:\\Users\\Allan\\AppData\\Roaming\\jupyter\\nbextensions\\code_prettify\\demo_2to3.gif\n",
      "[I 09:04:46 InstallContribNbextensionsApp] Up to date: C:\\Users\\Allan\\AppData\\Roaming\\jupyter\\nbextensions\\code_prettify\\isort.js\n",
      "[I 09:04:46 InstallContribNbextensionsApp] Up to date: C:\\Users\\Allan\\AppData\\Roaming\\jupyter\\nbextensions\\code_prettify\\isort.yaml\n",
      "[I 09:04:46 InstallContribNbextensionsApp] Up to date: C:\\Users\\Allan\\AppData\\Roaming\\jupyter\\nbextensions\\code_prettify\\kernel_exec_on_cell.js\n",
      "[I 09:04:46 InstallContribNbextensionsApp] Up to date: C:\\Users\\Allan\\AppData\\Roaming\\jupyter\\nbextensions\\code_prettify\\README.md\n",
      "[I 09:04:46 InstallContribNbextensionsApp] Up to date: C:\\Users\\Allan\\AppData\\Roaming\\jupyter\\nbextensions\\code_prettify\\README_2to3.md\n",
      "[I 09:04:46 InstallContribNbextensionsApp] Up to date: C:\\Users\\Allan\\AppData\\Roaming\\jupyter\\nbextensions\\code_prettify\\README_autopep8.md\n",
      "[I 09:04:46 InstallContribNbextensionsApp] Up to date: C:\\Users\\Allan\\AppData\\Roaming\\jupyter\\nbextensions\\code_prettify\\README_code_prettify.md\n",
      "[I 09:04:46 InstallContribNbextensionsApp] Up to date: C:\\Users\\Allan\\AppData\\Roaming\\jupyter\\nbextensions\\code_prettify\\README_isort.md\n",
      "[I 09:04:46 InstallContribNbextensionsApp] - Validating: ok\n",
      "[I 09:04:46 InstallContribNbextensionsApp] Installing D:\\Anaconda3\\Lib\\site-packages\\jupyter_contrib_nbextensions\\nbextensions\\collapsible_headings -> collapsible_headings\n",
      "[I 09:04:46 InstallContribNbextensionsApp] Making directory: C:\\Users\\Allan\\AppData\\Roaming\\jupyter\\nbextensions\\collapsible_headings\\\n",
      "[I 09:04:46 InstallContribNbextensionsApp] Copying: D:\\Anaconda3\\Lib\\site-packages\\jupyter_contrib_nbextensions\\nbextensions\\collapsible_headings\\collapsible_headings.yaml -> C:\\Users\\Allan\\AppData\\Roaming\\jupyter\\nbextensions\\collapsible_headings\\collapsible_headings.yaml\n",
      "[I 09:04:46 InstallContribNbextensionsApp] Copying: D:\\Anaconda3\\Lib\\site-packages\\jupyter_contrib_nbextensions\\nbextensions\\collapsible_headings\\icon.png -> C:\\Users\\Allan\\AppData\\Roaming\\jupyter\\nbextensions\\collapsible_headings\\icon.png\n",
      "[I 09:04:46 InstallContribNbextensionsApp] Copying: D:\\Anaconda3\\Lib\\site-packages\\jupyter_contrib_nbextensions\\nbextensions\\collapsible_headings\\main.css -> C:\\Users\\Allan\\AppData\\Roaming\\jupyter\\nbextensions\\collapsible_headings\\main.css\n",
      "[I 09:04:46 InstallContribNbextensionsApp] Copying: D:\\Anaconda3\\Lib\\site-packages\\jupyter_contrib_nbextensions\\nbextensions\\collapsible_headings\\main.js -> C:\\Users\\Allan\\AppData\\Roaming\\jupyter\\nbextensions\\collapsible_headings\\main.js\n",
      "[I 09:04:46 InstallContribNbextensionsApp] Copying: D:\\Anaconda3\\Lib\\site-packages\\jupyter_contrib_nbextensions\\nbextensions\\collapsible_headings\\readme.md -> C:\\Users\\Allan\\AppData\\Roaming\\jupyter\\nbextensions\\collapsible_headings\\readme.md\n",
      "[I 09:04:46 InstallContribNbextensionsApp] Copying: D:\\Anaconda3\\Lib\\site-packages\\jupyter_contrib_nbextensions\\nbextensions\\collapsible_headings\\screenshot.png -> C:\\Users\\Allan\\AppData\\Roaming\\jupyter\\nbextensions\\collapsible_headings\\screenshot.png\n",
      "[I 09:04:46 InstallContribNbextensionsApp] - Validating: ok\n",
      "[I 09:04:46 InstallContribNbextensionsApp] Installing D:\\Anaconda3\\Lib\\site-packages\\jupyter_contrib_nbextensions\\nbextensions\\comment-uncomment -> comment-uncomment\n",
      "[I 09:04:46 InstallContribNbextensionsApp] Making directory: C:\\Users\\Allan\\AppData\\Roaming\\jupyter\\nbextensions\\comment-uncomment\\\n",
      "[I 09:04:46 InstallContribNbextensionsApp] Copying: D:\\Anaconda3\\Lib\\site-packages\\jupyter_contrib_nbextensions\\nbextensions\\comment-uncomment\\comment-uncomment.yaml -> C:\\Users\\Allan\\AppData\\Roaming\\jupyter\\nbextensions\\comment-uncomment\\comment-uncomment.yaml\n",
      "[I 09:04:46 InstallContribNbextensionsApp] Copying: D:\\Anaconda3\\Lib\\site-packages\\jupyter_contrib_nbextensions\\nbextensions\\comment-uncomment\\icon.png -> C:\\Users\\Allan\\AppData\\Roaming\\jupyter\\nbextensions\\comment-uncomment\\icon.png\n",
      "[I 09:04:46 InstallContribNbextensionsApp] Copying: D:\\Anaconda3\\Lib\\site-packages\\jupyter_contrib_nbextensions\\nbextensions\\comment-uncomment\\main.js -> C:\\Users\\Allan\\AppData\\Roaming\\jupyter\\nbextensions\\comment-uncomment\\main.js\n",
      "[I 09:04:46 InstallContribNbextensionsApp] Copying: D:\\Anaconda3\\Lib\\site-packages\\jupyter_contrib_nbextensions\\nbextensions\\comment-uncomment\\readme.md -> C:\\Users\\Allan\\AppData\\Roaming\\jupyter\\nbextensions\\comment-uncomment\\readme.md\n",
      "[I 09:04:46 InstallContribNbextensionsApp] - Validating: ok\n",
      "[I 09:04:46 InstallContribNbextensionsApp] Installing D:\\Anaconda3\\Lib\\site-packages\\jupyter_contrib_nbextensions\\nbextensions\\contrib_nbextensions_help_item -> contrib_nbextensions_help_item\n",
      "[I 09:04:46 InstallContribNbextensionsApp] Making directory: C:\\Users\\Allan\\AppData\\Roaming\\jupyter\\nbextensions\\contrib_nbextensions_help_item\\\n",
      "[I 09:04:46 InstallContribNbextensionsApp] Copying: D:\\Anaconda3\\Lib\\site-packages\\jupyter_contrib_nbextensions\\nbextensions\\contrib_nbextensions_help_item\\contrib_nbextensions_help_item.yaml -> C:\\Users\\Allan\\AppData\\Roaming\\jupyter\\nbextensions\\contrib_nbextensions_help_item\\contrib_nbextensions_help_item.yaml\n",
      "[I 09:04:46 InstallContribNbextensionsApp] Copying: D:\\Anaconda3\\Lib\\site-packages\\jupyter_contrib_nbextensions\\nbextensions\\contrib_nbextensions_help_item\\main.js -> C:\\Users\\Allan\\AppData\\Roaming\\jupyter\\nbextensions\\contrib_nbextensions_help_item\\main.js\n",
      "[I 09:04:46 InstallContribNbextensionsApp] Copying: D:\\Anaconda3\\Lib\\site-packages\\jupyter_contrib_nbextensions\\nbextensions\\contrib_nbextensions_help_item\\README.md -> C:\\Users\\Allan\\AppData\\Roaming\\jupyter\\nbextensions\\contrib_nbextensions_help_item\\README.md\n",
      "[I 09:04:46 InstallContribNbextensionsApp] - Validating: ok\n",
      "[I 09:04:46 InstallContribNbextensionsApp] Installing D:\\Anaconda3\\Lib\\site-packages\\jupyter_contrib_nbextensions\\nbextensions\\datestamper -> datestamper\n",
      "[I 09:04:46 InstallContribNbextensionsApp] Making directory: C:\\Users\\Allan\\AppData\\Roaming\\jupyter\\nbextensions\\datestamper\\\n",
      "[I 09:04:46 InstallContribNbextensionsApp] Copying: D:\\Anaconda3\\Lib\\site-packages\\jupyter_contrib_nbextensions\\nbextensions\\datestamper\\icon.png -> C:\\Users\\Allan\\AppData\\Roaming\\jupyter\\nbextensions\\datestamper\\icon.png\n",
      "[I 09:04:46 InstallContribNbextensionsApp] Copying: D:\\Anaconda3\\Lib\\site-packages\\jupyter_contrib_nbextensions\\nbextensions\\datestamper\\main.js -> C:\\Users\\Allan\\AppData\\Roaming\\jupyter\\nbextensions\\datestamper\\main.js\n",
      "[I 09:04:46 InstallContribNbextensionsApp] Copying: D:\\Anaconda3\\Lib\\site-packages\\jupyter_contrib_nbextensions\\nbextensions\\datestamper\\main.yaml -> C:\\Users\\Allan\\AppData\\Roaming\\jupyter\\nbextensions\\datestamper\\main.yaml\n",
      "[I 09:04:46 InstallContribNbextensionsApp] Copying: D:\\Anaconda3\\Lib\\site-packages\\jupyter_contrib_nbextensions\\nbextensions\\datestamper\\readme.md -> C:\\Users\\Allan\\AppData\\Roaming\\jupyter\\nbextensions\\datestamper\\readme.md\n",
      "[I 09:04:46 InstallContribNbextensionsApp] - Validating: ok\n",
      "[I 09:04:46 InstallContribNbextensionsApp] Installing D:\\Anaconda3\\Lib\\site-packages\\jupyter_contrib_nbextensions\\nbextensions\\equation-numbering -> equation-numbering\n",
      "[I 09:04:46 InstallContribNbextensionsApp] Making directory: C:\\Users\\Allan\\AppData\\Roaming\\jupyter\\nbextensions\\equation-numbering\\\n",
      "[I 09:04:46 InstallContribNbextensionsApp] Copying: D:\\Anaconda3\\Lib\\site-packages\\jupyter_contrib_nbextensions\\nbextensions\\equation-numbering\\button.png -> C:\\Users\\Allan\\AppData\\Roaming\\jupyter\\nbextensions\\equation-numbering\\button.png\n",
      "[I 09:04:46 InstallContribNbextensionsApp] Copying: D:\\Anaconda3\\Lib\\site-packages\\jupyter_contrib_nbextensions\\nbextensions\\equation-numbering\\icon.png -> C:\\Users\\Allan\\AppData\\Roaming\\jupyter\\nbextensions\\equation-numbering\\icon.png\n",
      "[I 09:04:46 InstallContribNbextensionsApp] Copying: D:\\Anaconda3\\Lib\\site-packages\\jupyter_contrib_nbextensions\\nbextensions\\equation-numbering\\info.yaml -> C:\\Users\\Allan\\AppData\\Roaming\\jupyter\\nbextensions\\equation-numbering\\info.yaml\n",
      "[I 09:04:46 InstallContribNbextensionsApp] Copying: D:\\Anaconda3\\Lib\\site-packages\\jupyter_contrib_nbextensions\\nbextensions\\equation-numbering\\main.js -> C:\\Users\\Allan\\AppData\\Roaming\\jupyter\\nbextensions\\equation-numbering\\main.js\n",
      "[I 09:04:46 InstallContribNbextensionsApp] Copying: D:\\Anaconda3\\Lib\\site-packages\\jupyter_contrib_nbextensions\\nbextensions\\equation-numbering\\readme.md -> C:\\Users\\Allan\\AppData\\Roaming\\jupyter\\nbextensions\\equation-numbering\\readme.md\n",
      "[I 09:04:46 InstallContribNbextensionsApp] - Validating: ok\n",
      "[I 09:04:46 InstallContribNbextensionsApp] Installing D:\\Anaconda3\\Lib\\site-packages\\jupyter_contrib_nbextensions\\nbextensions\\execute_time -> execute_time\n",
      "[I 09:04:46 InstallContribNbextensionsApp] Making directory: C:\\Users\\Allan\\AppData\\Roaming\\jupyter\\nbextensions\\execute_time\\\n",
      "[I 09:04:46 InstallContribNbextensionsApp] Copying: D:\\Anaconda3\\Lib\\site-packages\\jupyter_contrib_nbextensions\\nbextensions\\execute_time\\ExecuteTime.css -> C:\\Users\\Allan\\AppData\\Roaming\\jupyter\\nbextensions\\execute_time\\ExecuteTime.css\n",
      "[I 09:04:46 InstallContribNbextensionsApp] Copying: D:\\Anaconda3\\Lib\\site-packages\\jupyter_contrib_nbextensions\\nbextensions\\execute_time\\ExecuteTime.js -> C:\\Users\\Allan\\AppData\\Roaming\\jupyter\\nbextensions\\execute_time\\ExecuteTime.js\n",
      "[I 09:04:46 InstallContribNbextensionsApp] Copying: D:\\Anaconda3\\Lib\\site-packages\\jupyter_contrib_nbextensions\\nbextensions\\execute_time\\ExecuteTime.yaml -> C:\\Users\\Allan\\AppData\\Roaming\\jupyter\\nbextensions\\execute_time\\ExecuteTime.yaml\n",
      "[I 09:04:46 InstallContribNbextensionsApp] Copying: D:\\Anaconda3\\Lib\\site-packages\\jupyter_contrib_nbextensions\\nbextensions\\execute_time\\execution-timings-box.png -> C:\\Users\\Allan\\AppData\\Roaming\\jupyter\\nbextensions\\execute_time\\execution-timings-box.png\n",
      "[I 09:04:46 InstallContribNbextensionsApp] Copying: D:\\Anaconda3\\Lib\\site-packages\\jupyter_contrib_nbextensions\\nbextensions\\execute_time\\execution-timings-menu.png -> C:\\Users\\Allan\\AppData\\Roaming\\jupyter\\nbextensions\\execute_time\\execution-timings-menu.png\n",
      "[I 09:04:46 InstallContribNbextensionsApp] Copying: D:\\Anaconda3\\Lib\\site-packages\\jupyter_contrib_nbextensions\\nbextensions\\execute_time\\icon.png -> C:\\Users\\Allan\\AppData\\Roaming\\jupyter\\nbextensions\\execute_time\\icon.png\n",
      "[I 09:04:46 InstallContribNbextensionsApp] Copying: D:\\Anaconda3\\Lib\\site-packages\\jupyter_contrib_nbextensions\\nbextensions\\execute_time\\readme.md -> C:\\Users\\Allan\\AppData\\Roaming\\jupyter\\nbextensions\\execute_time\\readme.md\n",
      "[I 09:04:46 InstallContribNbextensionsApp] - Validating: ok\n",
      "[I 09:04:46 InstallContribNbextensionsApp] Installing D:\\Anaconda3\\Lib\\site-packages\\jupyter_contrib_nbextensions\\nbextensions\\execution_dependencies -> execution_dependencies\n",
      "[I 09:04:46 InstallContribNbextensionsApp] Making directory: C:\\Users\\Allan\\AppData\\Roaming\\jupyter\\nbextensions\\execution_dependencies\\\n",
      "[I 09:04:46 InstallContribNbextensionsApp] Copying: D:\\Anaconda3\\Lib\\site-packages\\jupyter_contrib_nbextensions\\nbextensions\\execution_dependencies\\execution_dependencies.js -> C:\\Users\\Allan\\AppData\\Roaming\\jupyter\\nbextensions\\execution_dependencies\\execution_dependencies.js\n",
      "[I 09:04:46 InstallContribNbextensionsApp] Copying: D:\\Anaconda3\\Lib\\site-packages\\jupyter_contrib_nbextensions\\nbextensions\\execution_dependencies\\execution_dependencies.yml -> C:\\Users\\Allan\\AppData\\Roaming\\jupyter\\nbextensions\\execution_dependencies\\execution_dependencies.yml\n",
      "[I 09:04:46 InstallContribNbextensionsApp] Copying: D:\\Anaconda3\\Lib\\site-packages\\jupyter_contrib_nbextensions\\nbextensions\\execution_dependencies\\README.md -> C:\\Users\\Allan\\AppData\\Roaming\\jupyter\\nbextensions\\execution_dependencies\\README.md\n",
      "[I 09:04:46 InstallContribNbextensionsApp] - Validating: ok\n",
      "[I 09:04:46 InstallContribNbextensionsApp] Installing D:\\Anaconda3\\Lib\\site-packages\\jupyter_contrib_nbextensions\\nbextensions\\exercise -> exercise\n",
      "[I 09:04:46 InstallContribNbextensionsApp] Making directory: C:\\Users\\Allan\\AppData\\Roaming\\jupyter\\nbextensions\\exercise\\\n",
      "[I 09:04:46 InstallContribNbextensionsApp] Copying: D:\\Anaconda3\\Lib\\site-packages\\jupyter_contrib_nbextensions\\nbextensions\\exercise\\exercise.yaml -> C:\\Users\\Allan\\AppData\\Roaming\\jupyter\\nbextensions\\exercise\\exercise.yaml\n",
      "[I 09:04:46 InstallContribNbextensionsApp] Copying: D:\\Anaconda3\\Lib\\site-packages\\jupyter_contrib_nbextensions\\nbextensions\\exercise\\history.md -> C:\\Users\\Allan\\AppData\\Roaming\\jupyter\\nbextensions\\exercise\\history.md\n",
      "[I 09:04:46 InstallContribNbextensionsApp] Copying: D:\\Anaconda3\\Lib\\site-packages\\jupyter_contrib_nbextensions\\nbextensions\\exercise\\icon.png -> C:\\Users\\Allan\\AppData\\Roaming\\jupyter\\nbextensions\\exercise\\icon.png\n",
      "[I 09:04:46 InstallContribNbextensionsApp] Copying: D:\\Anaconda3\\Lib\\site-packages\\jupyter_contrib_nbextensions\\nbextensions\\exercise\\image.gif -> C:\\Users\\Allan\\AppData\\Roaming\\jupyter\\nbextensions\\exercise\\image.gif\n",
      "[I 09:04:46 InstallContribNbextensionsApp] Copying: D:\\Anaconda3\\Lib\\site-packages\\jupyter_contrib_nbextensions\\nbextensions\\exercise\\main.css -> C:\\Users\\Allan\\AppData\\Roaming\\jupyter\\nbextensions\\exercise\\main.css\n",
      "[I 09:04:46 InstallContribNbextensionsApp] Copying: D:\\Anaconda3\\Lib\\site-packages\\jupyter_contrib_nbextensions\\nbextensions\\exercise\\main.js -> C:\\Users\\Allan\\AppData\\Roaming\\jupyter\\nbextensions\\exercise\\main.js\n",
      "[I 09:04:46 InstallContribNbextensionsApp] Copying: D:\\Anaconda3\\Lib\\site-packages\\jupyter_contrib_nbextensions\\nbextensions\\exercise\\readme.md -> C:\\Users\\Allan\\AppData\\Roaming\\jupyter\\nbextensions\\exercise\\readme.md\n",
      "[I 09:04:46 InstallContribNbextensionsApp] - Validating: ok\n",
      "[I 09:04:46 InstallContribNbextensionsApp] Installing D:\\Anaconda3\\Lib\\site-packages\\jupyter_contrib_nbextensions\\nbextensions\\exercise2 -> exercise2\n",
      "[I 09:04:46 InstallContribNbextensionsApp] Making directory: C:\\Users\\Allan\\AppData\\Roaming\\jupyter\\nbextensions\\exercise2\\\n",
      "[I 09:04:46 InstallContribNbextensionsApp] Copying: D:\\Anaconda3\\Lib\\site-packages\\jupyter_contrib_nbextensions\\nbextensions\\exercise2\\exercise2.yaml -> C:\\Users\\Allan\\AppData\\Roaming\\jupyter\\nbextensions\\exercise2\\exercise2.yaml\n",
      "[I 09:04:46 InstallContribNbextensionsApp] Copying: D:\\Anaconda3\\Lib\\site-packages\\jupyter_contrib_nbextensions\\nbextensions\\exercise2\\icon.png -> C:\\Users\\Allan\\AppData\\Roaming\\jupyter\\nbextensions\\exercise2\\icon.png\n",
      "[I 09:04:46 InstallContribNbextensionsApp] Copying: D:\\Anaconda3\\Lib\\site-packages\\jupyter_contrib_nbextensions\\nbextensions\\exercise2\\image.gif -> C:\\Users\\Allan\\AppData\\Roaming\\jupyter\\nbextensions\\exercise2\\image.gif\n",
      "[I 09:04:46 InstallContribNbextensionsApp] Copying: D:\\Anaconda3\\Lib\\site-packages\\jupyter_contrib_nbextensions\\nbextensions\\exercise2\\main.css -> C:\\Users\\Allan\\AppData\\Roaming\\jupyter\\nbextensions\\exercise2\\main.css\n",
      "[I 09:04:46 InstallContribNbextensionsApp] Copying: D:\\Anaconda3\\Lib\\site-packages\\jupyter_contrib_nbextensions\\nbextensions\\exercise2\\main.js -> C:\\Users\\Allan\\AppData\\Roaming\\jupyter\\nbextensions\\exercise2\\main.js\n",
      "[I 09:04:46 InstallContribNbextensionsApp] Copying: D:\\Anaconda3\\Lib\\site-packages\\jupyter_contrib_nbextensions\\nbextensions\\exercise2\\readme.md -> C:\\Users\\Allan\\AppData\\Roaming\\jupyter\\nbextensions\\exercise2\\readme.md\n",
      "[I 09:04:46 InstallContribNbextensionsApp] - Validating: ok\n",
      "[I 09:04:46 InstallContribNbextensionsApp] Installing D:\\Anaconda3\\Lib\\site-packages\\jupyter_contrib_nbextensions\\nbextensions\\export_embedded -> export_embedded\n",
      "[I 09:04:46 InstallContribNbextensionsApp] Making directory: C:\\Users\\Allan\\AppData\\Roaming\\jupyter\\nbextensions\\export_embedded\\\n",
      "[I 09:04:46 InstallContribNbextensionsApp] Copying: D:\\Anaconda3\\Lib\\site-packages\\jupyter_contrib_nbextensions\\nbextensions\\export_embedded\\export_embedded.yaml -> C:\\Users\\Allan\\AppData\\Roaming\\jupyter\\nbextensions\\export_embedded\\export_embedded.yaml\n",
      "[I 09:04:46 InstallContribNbextensionsApp] Copying: D:\\Anaconda3\\Lib\\site-packages\\jupyter_contrib_nbextensions\\nbextensions\\export_embedded\\icon.png -> C:\\Users\\Allan\\AppData\\Roaming\\jupyter\\nbextensions\\export_embedded\\icon.png\n",
      "[I 09:04:46 InstallContribNbextensionsApp] Copying: D:\\Anaconda3\\Lib\\site-packages\\jupyter_contrib_nbextensions\\nbextensions\\export_embedded\\main.js -> C:\\Users\\Allan\\AppData\\Roaming\\jupyter\\nbextensions\\export_embedded\\main.js\n",
      "[I 09:04:46 InstallContribNbextensionsApp] Copying: D:\\Anaconda3\\Lib\\site-packages\\jupyter_contrib_nbextensions\\nbextensions\\export_embedded\\readme.md -> C:\\Users\\Allan\\AppData\\Roaming\\jupyter\\nbextensions\\export_embedded\\readme.md\n",
      "[I 09:04:46 InstallContribNbextensionsApp] - Validating: ok\n",
      "[I 09:04:46 InstallContribNbextensionsApp] Installing D:\\Anaconda3\\Lib\\site-packages\\jupyter_contrib_nbextensions\\nbextensions\\freeze -> freeze\n",
      "[I 09:04:46 InstallContribNbextensionsApp] Making directory: C:\\Users\\Allan\\AppData\\Roaming\\jupyter\\nbextensions\\freeze\\\n",
      "[I 09:04:46 InstallContribNbextensionsApp] Copying: D:\\Anaconda3\\Lib\\site-packages\\jupyter_contrib_nbextensions\\nbextensions\\freeze\\config.yaml -> C:\\Users\\Allan\\AppData\\Roaming\\jupyter\\nbextensions\\freeze\\config.yaml\n",
      "[I 09:04:46 InstallContribNbextensionsApp] Copying: D:\\Anaconda3\\Lib\\site-packages\\jupyter_contrib_nbextensions\\nbextensions\\freeze\\icon.png -> C:\\Users\\Allan\\AppData\\Roaming\\jupyter\\nbextensions\\freeze\\icon.png\n",
      "[I 09:04:46 InstallContribNbextensionsApp] Copying: D:\\Anaconda3\\Lib\\site-packages\\jupyter_contrib_nbextensions\\nbextensions\\freeze\\main.js -> C:\\Users\\Allan\\AppData\\Roaming\\jupyter\\nbextensions\\freeze\\main.js\n",
      "[I 09:04:46 InstallContribNbextensionsApp] Copying: D:\\Anaconda3\\Lib\\site-packages\\jupyter_contrib_nbextensions\\nbextensions\\freeze\\readme.md -> C:\\Users\\Allan\\AppData\\Roaming\\jupyter\\nbextensions\\freeze\\readme.md\n",
      "[I 09:04:46 InstallContribNbextensionsApp] - Validating: ok\n",
      "[I 09:04:46 InstallContribNbextensionsApp] Installing D:\\Anaconda3\\Lib\\site-packages\\jupyter_contrib_nbextensions\\nbextensions\\gist_it -> gist_it\n",
      "[I 09:04:46 InstallContribNbextensionsApp] Making directory: C:\\Users\\Allan\\AppData\\Roaming\\jupyter\\nbextensions\\gist_it\\\n",
      "[I 09:04:46 InstallContribNbextensionsApp] Copying: D:\\Anaconda3\\Lib\\site-packages\\jupyter_contrib_nbextensions\\nbextensions\\gist_it\\gist_it.yaml -> C:\\Users\\Allan\\AppData\\Roaming\\jupyter\\nbextensions\\gist_it\\gist_it.yaml\n",
      "[I 09:04:46 InstallContribNbextensionsApp] Copying: D:\\Anaconda3\\Lib\\site-packages\\jupyter_contrib_nbextensions\\nbextensions\\gist_it\\icon.png -> C:\\Users\\Allan\\AppData\\Roaming\\jupyter\\nbextensions\\gist_it\\icon.png\n",
      "[I 09:04:46 InstallContribNbextensionsApp] Copying: D:\\Anaconda3\\Lib\\site-packages\\jupyter_contrib_nbextensions\\nbextensions\\gist_it\\main.js -> C:\\Users\\Allan\\AppData\\Roaming\\jupyter\\nbextensions\\gist_it\\main.js\n",
      "[I 09:04:46 InstallContribNbextensionsApp] Copying: D:\\Anaconda3\\Lib\\site-packages\\jupyter_contrib_nbextensions\\nbextensions\\gist_it\\readme.md -> C:\\Users\\Allan\\AppData\\Roaming\\jupyter\\nbextensions\\gist_it\\readme.md\n",
      "[I 09:04:46 InstallContribNbextensionsApp] - Validating: ok\n",
      "[I 09:04:46 InstallContribNbextensionsApp] Installing D:\\Anaconda3\\Lib\\site-packages\\jupyter_contrib_nbextensions\\nbextensions\\go_to_current_running_cell -> go_to_current_running_cell\n",
      "[I 09:04:46 InstallContribNbextensionsApp] Making directory: C:\\Users\\Allan\\AppData\\Roaming\\jupyter\\nbextensions\\go_to_current_running_cell\\\n",
      "[I 09:04:46 InstallContribNbextensionsApp] Copying: D:\\Anaconda3\\Lib\\site-packages\\jupyter_contrib_nbextensions\\nbextensions\\go_to_current_running_cell\\anchor.png -> C:\\Users\\Allan\\AppData\\Roaming\\jupyter\\nbextensions\\go_to_current_running_cell\\anchor.png\n",
      "[I 09:04:46 InstallContribNbextensionsApp] Copying: D:\\Anaconda3\\Lib\\site-packages\\jupyter_contrib_nbextensions\\nbextensions\\go_to_current_running_cell\\auto_focus.gif -> C:\\Users\\Allan\\AppData\\Roaming\\jupyter\\nbextensions\\go_to_current_running_cell\\auto_focus.gif\n",
      "[I 09:04:46 InstallContribNbextensionsApp] Copying: D:\\Anaconda3\\Lib\\site-packages\\jupyter_contrib_nbextensions\\nbextensions\\go_to_current_running_cell\\eye.png -> C:\\Users\\Allan\\AppData\\Roaming\\jupyter\\nbextensions\\go_to_current_running_cell\\eye.png\n",
      "[I 09:04:46 InstallContribNbextensionsApp] Copying: D:\\Anaconda3\\Lib\\site-packages\\jupyter_contrib_nbextensions\\nbextensions\\go_to_current_running_cell\\go_to_current_running_cell.yaml -> C:\\Users\\Allan\\AppData\\Roaming\\jupyter\\nbextensions\\go_to_current_running_cell\\go_to_current_running_cell.yaml\n",
      "[I 09:04:46 InstallContribNbextensionsApp] Copying: D:\\Anaconda3\\Lib\\site-packages\\jupyter_contrib_nbextensions\\nbextensions\\go_to_current_running_cell\\jump_to_cell.gif -> C:\\Users\\Allan\\AppData\\Roaming\\jupyter\\nbextensions\\go_to_current_running_cell\\jump_to_cell.gif\n",
      "[I 09:04:46 InstallContribNbextensionsApp] Copying: D:\\Anaconda3\\Lib\\site-packages\\jupyter_contrib_nbextensions\\nbextensions\\go_to_current_running_cell\\main.js -> C:\\Users\\Allan\\AppData\\Roaming\\jupyter\\nbextensions\\go_to_current_running_cell\\main.js\n",
      "[I 09:04:46 InstallContribNbextensionsApp] Copying: D:\\Anaconda3\\Lib\\site-packages\\jupyter_contrib_nbextensions\\nbextensions\\go_to_current_running_cell\\README.md -> C:\\Users\\Allan\\AppData\\Roaming\\jupyter\\nbextensions\\go_to_current_running_cell\\README.md\n",
      "[I 09:04:46 InstallContribNbextensionsApp] - Validating: ok\n",
      "[I 09:04:46 InstallContribNbextensionsApp] Installing D:\\Anaconda3\\Lib\\site-packages\\jupyter_contrib_nbextensions\\nbextensions\\help_panel -> help_panel\n",
      "[I 09:04:46 InstallContribNbextensionsApp] Making directory: C:\\Users\\Allan\\AppData\\Roaming\\jupyter\\nbextensions\\help_panel\\\n",
      "[I 09:04:46 InstallContribNbextensionsApp] Copying: D:\\Anaconda3\\Lib\\site-packages\\jupyter_contrib_nbextensions\\nbextensions\\help_panel\\help_panel.css -> C:\\Users\\Allan\\AppData\\Roaming\\jupyter\\nbextensions\\help_panel\\help_panel.css\n",
      "[I 09:04:46 InstallContribNbextensionsApp] Copying: D:\\Anaconda3\\Lib\\site-packages\\jupyter_contrib_nbextensions\\nbextensions\\help_panel\\help_panel.js -> C:\\Users\\Allan\\AppData\\Roaming\\jupyter\\nbextensions\\help_panel\\help_panel.js\n",
      "[I 09:04:46 InstallContribNbextensionsApp] Copying: D:\\Anaconda3\\Lib\\site-packages\\jupyter_contrib_nbextensions\\nbextensions\\help_panel\\help_panel.yaml -> C:\\Users\\Allan\\AppData\\Roaming\\jupyter\\nbextensions\\help_panel\\help_panel.yaml\n",
      "[I 09:04:46 InstallContribNbextensionsApp] Copying: D:\\Anaconda3\\Lib\\site-packages\\jupyter_contrib_nbextensions\\nbextensions\\help_panel\\help_panel_ext.png -> C:\\Users\\Allan\\AppData\\Roaming\\jupyter\\nbextensions\\help_panel\\help_panel_ext.png\n",
      "[I 09:04:46 InstallContribNbextensionsApp] Copying: D:\\Anaconda3\\Lib\\site-packages\\jupyter_contrib_nbextensions\\nbextensions\\help_panel\\help_panel_ext_fullscreen.png -> C:\\Users\\Allan\\AppData\\Roaming\\jupyter\\nbextensions\\help_panel\\help_panel_ext_fullscreen.png\n",
      "[I 09:04:46 InstallContribNbextensionsApp] Copying: D:\\Anaconda3\\Lib\\site-packages\\jupyter_contrib_nbextensions\\nbextensions\\help_panel\\icon.png -> C:\\Users\\Allan\\AppData\\Roaming\\jupyter\\nbextensions\\help_panel\\icon.png\n",
      "[I 09:04:46 InstallContribNbextensionsApp] Copying: D:\\Anaconda3\\Lib\\site-packages\\jupyter_contrib_nbextensions\\nbextensions\\help_panel\\readme.md -> C:\\Users\\Allan\\AppData\\Roaming\\jupyter\\nbextensions\\help_panel\\readme.md\n",
      "[I 09:04:46 InstallContribNbextensionsApp] Making directory: C:\\Users\\Allan\\AppData\\Roaming\\jupyter\\nbextensions\\help_panel\\img\n",
      "[I 09:04:46 InstallContribNbextensionsApp] Copying: D:\\Anaconda3\\Lib\\site-packages\\jupyter_contrib_nbextensions\\nbextensions\\help_panel\\img\\handle-v.png -> C:\\Users\\Allan\\AppData\\Roaming\\jupyter\\nbextensions\\help_panel\\img\\handle-v.png\n",
      "[I 09:04:46 InstallContribNbextensionsApp] - Validating: ok\n",
      "[I 09:04:46 InstallContribNbextensionsApp] Installing D:\\Anaconda3\\Lib\\site-packages\\jupyter_contrib_nbextensions\\nbextensions\\hide_header -> hide_header\n",
      "[I 09:04:46 InstallContribNbextensionsApp] Making directory: C:\\Users\\Allan\\AppData\\Roaming\\jupyter\\nbextensions\\hide_header\\\n",
      "[I 09:04:46 InstallContribNbextensionsApp] Copying: D:\\Anaconda3\\Lib\\site-packages\\jupyter_contrib_nbextensions\\nbextensions\\hide_header\\hide_header.yaml -> C:\\Users\\Allan\\AppData\\Roaming\\jupyter\\nbextensions\\hide_header\\hide_header.yaml\n",
      "[I 09:04:46 InstallContribNbextensionsApp] Copying: D:\\Anaconda3\\Lib\\site-packages\\jupyter_contrib_nbextensions\\nbextensions\\hide_header\\main.js -> C:\\Users\\Allan\\AppData\\Roaming\\jupyter\\nbextensions\\hide_header\\main.js\n",
      "[I 09:04:46 InstallContribNbextensionsApp] Copying: D:\\Anaconda3\\Lib\\site-packages\\jupyter_contrib_nbextensions\\nbextensions\\hide_header\\README.md -> C:\\Users\\Allan\\AppData\\Roaming\\jupyter\\nbextensions\\hide_header\\README.md\n",
      "[I 09:04:46 InstallContribNbextensionsApp] - Validating: ok\n",
      "[I 09:04:46 InstallContribNbextensionsApp] Installing D:\\Anaconda3\\Lib\\site-packages\\jupyter_contrib_nbextensions\\nbextensions\\hide_input -> hide_input\n",
      "[I 09:04:46 InstallContribNbextensionsApp] Making directory: C:\\Users\\Allan\\AppData\\Roaming\\jupyter\\nbextensions\\hide_input\\\n",
      "[I 09:04:46 InstallContribNbextensionsApp] Copying: D:\\Anaconda3\\Lib\\site-packages\\jupyter_contrib_nbextensions\\nbextensions\\hide_input\\hide-input.yaml -> C:\\Users\\Allan\\AppData\\Roaming\\jupyter\\nbextensions\\hide_input\\hide-input.yaml\n",
      "[I 09:04:46 InstallContribNbextensionsApp] Copying: D:\\Anaconda3\\Lib\\site-packages\\jupyter_contrib_nbextensions\\nbextensions\\hide_input\\icon.png -> C:\\Users\\Allan\\AppData\\Roaming\\jupyter\\nbextensions\\hide_input\\icon.png\n",
      "[I 09:04:46 InstallContribNbextensionsApp] Copying: D:\\Anaconda3\\Lib\\site-packages\\jupyter_contrib_nbextensions\\nbextensions\\hide_input\\main.js -> C:\\Users\\Allan\\AppData\\Roaming\\jupyter\\nbextensions\\hide_input\\main.js\n",
      "[I 09:04:46 InstallContribNbextensionsApp] Copying: D:\\Anaconda3\\Lib\\site-packages\\jupyter_contrib_nbextensions\\nbextensions\\hide_input\\readme.md -> C:\\Users\\Allan\\AppData\\Roaming\\jupyter\\nbextensions\\hide_input\\readme.md\n",
      "[I 09:04:46 InstallContribNbextensionsApp] - Validating: ok\n",
      "[I 09:04:46 InstallContribNbextensionsApp] Installing D:\\Anaconda3\\Lib\\site-packages\\jupyter_contrib_nbextensions\\nbextensions\\hide_input_all -> hide_input_all\n",
      "[I 09:04:46 InstallContribNbextensionsApp] Making directory: C:\\Users\\Allan\\AppData\\Roaming\\jupyter\\nbextensions\\hide_input_all\\\n",
      "[I 09:04:46 InstallContribNbextensionsApp] Copying: D:\\Anaconda3\\Lib\\site-packages\\jupyter_contrib_nbextensions\\nbextensions\\hide_input_all\\hide_input_all.yaml -> C:\\Users\\Allan\\AppData\\Roaming\\jupyter\\nbextensions\\hide_input_all\\hide_input_all.yaml\n",
      "[I 09:04:46 InstallContribNbextensionsApp] Copying: D:\\Anaconda3\\Lib\\site-packages\\jupyter_contrib_nbextensions\\nbextensions\\hide_input_all\\hide_input_all_hide.png -> C:\\Users\\Allan\\AppData\\Roaming\\jupyter\\nbextensions\\hide_input_all\\hide_input_all_hide.png\n",
      "[I 09:04:46 InstallContribNbextensionsApp] Copying: D:\\Anaconda3\\Lib\\site-packages\\jupyter_contrib_nbextensions\\nbextensions\\hide_input_all\\hide_input_all_show.png -> C:\\Users\\Allan\\AppData\\Roaming\\jupyter\\nbextensions\\hide_input_all\\hide_input_all_show.png\n",
      "[I 09:04:46 InstallContribNbextensionsApp] Copying: D:\\Anaconda3\\Lib\\site-packages\\jupyter_contrib_nbextensions\\nbextensions\\hide_input_all\\icon.png -> C:\\Users\\Allan\\AppData\\Roaming\\jupyter\\nbextensions\\hide_input_all\\icon.png\n",
      "[I 09:04:46 InstallContribNbextensionsApp] Copying: D:\\Anaconda3\\Lib\\site-packages\\jupyter_contrib_nbextensions\\nbextensions\\hide_input_all\\main.js -> C:\\Users\\Allan\\AppData\\Roaming\\jupyter\\nbextensions\\hide_input_all\\main.js\n",
      "[I 09:04:46 InstallContribNbextensionsApp] Copying: D:\\Anaconda3\\Lib\\site-packages\\jupyter_contrib_nbextensions\\nbextensions\\hide_input_all\\readme.md -> C:\\Users\\Allan\\AppData\\Roaming\\jupyter\\nbextensions\\hide_input_all\\readme.md\n",
      "[I 09:04:46 InstallContribNbextensionsApp] - Validating: ok\n",
      "[I 09:04:46 InstallContribNbextensionsApp] Installing D:\\Anaconda3\\Lib\\site-packages\\jupyter_contrib_nbextensions\\nbextensions\\highlighter -> highlighter\n",
      "[I 09:04:46 InstallContribNbextensionsApp] Making directory: C:\\Users\\Allan\\AppData\\Roaming\\jupyter\\nbextensions\\highlighter\\\n",
      "[I 09:04:46 InstallContribNbextensionsApp] Copying: D:\\Anaconda3\\Lib\\site-packages\\jupyter_contrib_nbextensions\\nbextensions\\highlighter\\demo_highlighter.html -> C:\\Users\\Allan\\AppData\\Roaming\\jupyter\\nbextensions\\highlighter\\demo_highlighter.html\n",
      "[I 09:04:46 InstallContribNbextensionsApp] Copying: D:\\Anaconda3\\Lib\\site-packages\\jupyter_contrib_nbextensions\\nbextensions\\highlighter\\demo_highlighter.ipynb -> C:\\Users\\Allan\\AppData\\Roaming\\jupyter\\nbextensions\\highlighter\\demo_highlighter.ipynb\n",
      "[I 09:04:46 InstallContribNbextensionsApp] Copying: D:\\Anaconda3\\Lib\\site-packages\\jupyter_contrib_nbextensions\\nbextensions\\highlighter\\export_highlights.html -> C:\\Users\\Allan\\AppData\\Roaming\\jupyter\\nbextensions\\highlighter\\export_highlights.html\n",
      "[I 09:04:46 InstallContribNbextensionsApp] Copying: D:\\Anaconda3\\Lib\\site-packages\\jupyter_contrib_nbextensions\\nbextensions\\highlighter\\export_highlights.ipynb -> C:\\Users\\Allan\\AppData\\Roaming\\jupyter\\nbextensions\\highlighter\\export_highlights.ipynb\n",
      "[I 09:04:46 InstallContribNbextensionsApp] Copying: D:\\Anaconda3\\Lib\\site-packages\\jupyter_contrib_nbextensions\\nbextensions\\highlighter\\export_highlights.pdf -> C:\\Users\\Allan\\AppData\\Roaming\\jupyter\\nbextensions\\highlighter\\export_highlights.pdf\n",
      "[I 09:04:46 InstallContribNbextensionsApp] Copying: D:\\Anaconda3\\Lib\\site-packages\\jupyter_contrib_nbextensions\\nbextensions\\highlighter\\export_highlights.tex -> C:\\Users\\Allan\\AppData\\Roaming\\jupyter\\nbextensions\\highlighter\\export_highlights.tex\n",
      "[I 09:04:46 InstallContribNbextensionsApp] Copying: D:\\Anaconda3\\Lib\\site-packages\\jupyter_contrib_nbextensions\\nbextensions\\highlighter\\highlighter.css -> C:\\Users\\Allan\\AppData\\Roaming\\jupyter\\nbextensions\\highlighter\\highlighter.css\n",
      "[I 09:04:46 InstallContribNbextensionsApp] Copying: D:\\Anaconda3\\Lib\\site-packages\\jupyter_contrib_nbextensions\\nbextensions\\highlighter\\highlighter.js -> C:\\Users\\Allan\\AppData\\Roaming\\jupyter\\nbextensions\\highlighter\\highlighter.js\n",
      "[I 09:04:46 InstallContribNbextensionsApp] Copying: D:\\Anaconda3\\Lib\\site-packages\\jupyter_contrib_nbextensions\\nbextensions\\highlighter\\highlighter.yaml -> C:\\Users\\Allan\\AppData\\Roaming\\jupyter\\nbextensions\\highlighter\\highlighter.yaml\n",
      "[I 09:04:46 InstallContribNbextensionsApp] Copying: D:\\Anaconda3\\Lib\\site-packages\\jupyter_contrib_nbextensions\\nbextensions\\highlighter\\icon.png -> C:\\Users\\Allan\\AppData\\Roaming\\jupyter\\nbextensions\\highlighter\\icon.png\n",
      "[I 09:04:46 InstallContribNbextensionsApp] Copying: D:\\Anaconda3\\Lib\\site-packages\\jupyter_contrib_nbextensions\\nbextensions\\highlighter\\image.gif -> C:\\Users\\Allan\\AppData\\Roaming\\jupyter\\nbextensions\\highlighter\\image.gif\n",
      "[I 09:04:46 InstallContribNbextensionsApp] Copying: D:\\Anaconda3\\Lib\\site-packages\\jupyter_contrib_nbextensions\\nbextensions\\highlighter\\readme.md -> C:\\Users\\Allan\\AppData\\Roaming\\jupyter\\nbextensions\\highlighter\\readme.md\n",
      "[I 09:04:46 InstallContribNbextensionsApp] Copying: D:\\Anaconda3\\Lib\\site-packages\\jupyter_contrib_nbextensions\\nbextensions\\highlighter\\tst_highlights.html -> C:\\Users\\Allan\\AppData\\Roaming\\jupyter\\nbextensions\\highlighter\\tst_highlights.html\n",
      "[I 09:04:46 InstallContribNbextensionsApp] Copying: D:\\Anaconda3\\Lib\\site-packages\\jupyter_contrib_nbextensions\\nbextensions\\highlighter\\tst_highlights.ipynb -> C:\\Users\\Allan\\AppData\\Roaming\\jupyter\\nbextensions\\highlighter\\tst_highlights.ipynb\n",
      "[I 09:04:46 InstallContribNbextensionsApp] Copying: D:\\Anaconda3\\Lib\\site-packages\\jupyter_contrib_nbextensions\\nbextensions\\highlighter\\tst_highlights.pdf -> C:\\Users\\Allan\\AppData\\Roaming\\jupyter\\nbextensions\\highlighter\\tst_highlights.pdf\n",
      "[I 09:04:46 InstallContribNbextensionsApp] Copying: D:\\Anaconda3\\Lib\\site-packages\\jupyter_contrib_nbextensions\\nbextensions\\highlighter\\tst_highlights.tex -> C:\\Users\\Allan\\AppData\\Roaming\\jupyter\\nbextensions\\highlighter\\tst_highlights.tex\n",
      "[I 09:04:46 InstallContribNbextensionsApp] - Validating: ok\n",
      "[I 09:04:46 InstallContribNbextensionsApp] Installing D:\\Anaconda3\\Lib\\site-packages\\jupyter_contrib_nbextensions\\nbextensions\\hinterland -> hinterland\n",
      "[I 09:04:46 InstallContribNbextensionsApp] Making directory: C:\\Users\\Allan\\AppData\\Roaming\\jupyter\\nbextensions\\hinterland\\\n",
      "[I 09:04:46 InstallContribNbextensionsApp] Copying: D:\\Anaconda3\\Lib\\site-packages\\jupyter_contrib_nbextensions\\nbextensions\\hinterland\\hinterland.js -> C:\\Users\\Allan\\AppData\\Roaming\\jupyter\\nbextensions\\hinterland\\hinterland.js\n",
      "[I 09:04:46 InstallContribNbextensionsApp] Copying: D:\\Anaconda3\\Lib\\site-packages\\jupyter_contrib_nbextensions\\nbextensions\\hinterland\\hinterland.yaml -> C:\\Users\\Allan\\AppData\\Roaming\\jupyter\\nbextensions\\hinterland\\hinterland.yaml\n",
      "[I 09:04:46 InstallContribNbextensionsApp] Copying: D:\\Anaconda3\\Lib\\site-packages\\jupyter_contrib_nbextensions\\nbextensions\\hinterland\\README.md -> C:\\Users\\Allan\\AppData\\Roaming\\jupyter\\nbextensions\\hinterland\\README.md\n",
      "[I 09:04:46 InstallContribNbextensionsApp] - Validating: ok\n",
      "[I 09:04:46 InstallContribNbextensionsApp] Installing D:\\Anaconda3\\Lib\\site-packages\\jupyter_contrib_nbextensions\\nbextensions\\init_cell -> init_cell\n",
      "[I 09:04:46 InstallContribNbextensionsApp] Making directory: C:\\Users\\Allan\\AppData\\Roaming\\jupyter\\nbextensions\\init_cell\\\n",
      "[I 09:04:46 InstallContribNbextensionsApp] Copying: D:\\Anaconda3\\Lib\\site-packages\\jupyter_contrib_nbextensions\\nbextensions\\init_cell\\cell_toolbar_menu.png -> C:\\Users\\Allan\\AppData\\Roaming\\jupyter\\nbextensions\\init_cell\\cell_toolbar_menu.png\n",
      "[I 09:04:46 InstallContribNbextensionsApp] Copying: D:\\Anaconda3\\Lib\\site-packages\\jupyter_contrib_nbextensions\\nbextensions\\init_cell\\icon.png -> C:\\Users\\Allan\\AppData\\Roaming\\jupyter\\nbextensions\\init_cell\\icon.png\n",
      "[I 09:04:46 InstallContribNbextensionsApp] Copying: D:\\Anaconda3\\Lib\\site-packages\\jupyter_contrib_nbextensions\\nbextensions\\init_cell\\init_cell.yaml -> C:\\Users\\Allan\\AppData\\Roaming\\jupyter\\nbextensions\\init_cell\\init_cell.yaml\n",
      "[I 09:04:46 InstallContribNbextensionsApp] Copying: D:\\Anaconda3\\Lib\\site-packages\\jupyter_contrib_nbextensions\\nbextensions\\init_cell\\main.js -> C:\\Users\\Allan\\AppData\\Roaming\\jupyter\\nbextensions\\init_cell\\main.js\n",
      "[I 09:04:46 InstallContribNbextensionsApp] Copying: D:\\Anaconda3\\Lib\\site-packages\\jupyter_contrib_nbextensions\\nbextensions\\init_cell\\README.md -> C:\\Users\\Allan\\AppData\\Roaming\\jupyter\\nbextensions\\init_cell\\README.md\n",
      "[I 09:04:46 InstallContribNbextensionsApp] - Validating: ok\n",
      "[I 09:04:46 InstallContribNbextensionsApp] Installing D:\\Anaconda3\\Lib\\site-packages\\jupyter_contrib_nbextensions\\nbextensions\\keyboard_shortcut_editor -> keyboard_shortcut_editor\n",
      "[I 09:04:46 InstallContribNbextensionsApp] Making directory: C:\\Users\\Allan\\AppData\\Roaming\\jupyter\\nbextensions\\keyboard_shortcut_editor\\\n",
      "[I 09:04:46 InstallContribNbextensionsApp] Copying: D:\\Anaconda3\\Lib\\site-packages\\jupyter_contrib_nbextensions\\nbextensions\\keyboard_shortcut_editor\\icon.png -> C:\\Users\\Allan\\AppData\\Roaming\\jupyter\\nbextensions\\keyboard_shortcut_editor\\icon.png\n",
      "[I 09:04:46 InstallContribNbextensionsApp] Copying: D:\\Anaconda3\\Lib\\site-packages\\jupyter_contrib_nbextensions\\nbextensions\\keyboard_shortcut_editor\\keyboard_shortcut_editor.yaml -> C:\\Users\\Allan\\AppData\\Roaming\\jupyter\\nbextensions\\keyboard_shortcut_editor\\keyboard_shortcut_editor.yaml\n",
      "[I 09:04:46 InstallContribNbextensionsApp] Copying: D:\\Anaconda3\\Lib\\site-packages\\jupyter_contrib_nbextensions\\nbextensions\\keyboard_shortcut_editor\\kse_components.js -> C:\\Users\\Allan\\AppData\\Roaming\\jupyter\\nbextensions\\keyboard_shortcut_editor\\kse_components.js\n",
      "[I 09:04:46 InstallContribNbextensionsApp] Copying: D:\\Anaconda3\\Lib\\site-packages\\jupyter_contrib_nbextensions\\nbextensions\\keyboard_shortcut_editor\\main.css -> C:\\Users\\Allan\\AppData\\Roaming\\jupyter\\nbextensions\\keyboard_shortcut_editor\\main.css\n",
      "[I 09:04:46 InstallContribNbextensionsApp] Copying: D:\\Anaconda3\\Lib\\site-packages\\jupyter_contrib_nbextensions\\nbextensions\\keyboard_shortcut_editor\\main.js -> C:\\Users\\Allan\\AppData\\Roaming\\jupyter\\nbextensions\\keyboard_shortcut_editor\\main.js\n",
      "[I 09:04:46 InstallContribNbextensionsApp] Copying: D:\\Anaconda3\\Lib\\site-packages\\jupyter_contrib_nbextensions\\nbextensions\\keyboard_shortcut_editor\\quickhelp_shim.js -> C:\\Users\\Allan\\AppData\\Roaming\\jupyter\\nbextensions\\keyboard_shortcut_editor\\quickhelp_shim.js\n",
      "[I 09:04:46 InstallContribNbextensionsApp] Copying: D:\\Anaconda3\\Lib\\site-packages\\jupyter_contrib_nbextensions\\nbextensions\\keyboard_shortcut_editor\\README.md -> C:\\Users\\Allan\\AppData\\Roaming\\jupyter\\nbextensions\\keyboard_shortcut_editor\\README.md\n",
      "[I 09:04:46 InstallContribNbextensionsApp] Copying: D:\\Anaconda3\\Lib\\site-packages\\jupyter_contrib_nbextensions\\nbextensions\\keyboard_shortcut_editor\\readme_add_new_link.png -> C:\\Users\\Allan\\AppData\\Roaming\\jupyter\\nbextensions\\keyboard_shortcut_editor\\readme_add_new_link.png\n",
      "[I 09:04:46 InstallContribNbextensionsApp] Copying: D:\\Anaconda3\\Lib\\site-packages\\jupyter_contrib_nbextensions\\nbextensions\\keyboard_shortcut_editor\\readme_add_new_select_action.png -> C:\\Users\\Allan\\AppData\\Roaming\\jupyter\\nbextensions\\keyboard_shortcut_editor\\readme_add_new_select_action.png\n",
      "[I 09:04:46 InstallContribNbextensionsApp] Copying: D:\\Anaconda3\\Lib\\site-packages\\jupyter_contrib_nbextensions\\nbextensions\\keyboard_shortcut_editor\\readme_comma.png -> C:\\Users\\Allan\\AppData\\Roaming\\jupyter\\nbextensions\\keyboard_shortcut_editor\\readme_comma.png\n",
      "[I 09:04:46 InstallContribNbextensionsApp] Copying: D:\\Anaconda3\\Lib\\site-packages\\jupyter_contrib_nbextensions\\nbextensions\\keyboard_shortcut_editor\\readme_conflict.png -> C:\\Users\\Allan\\AppData\\Roaming\\jupyter\\nbextensions\\keyboard_shortcut_editor\\readme_conflict.png\n",
      "[I 09:04:46 InstallContribNbextensionsApp] Copying: D:\\Anaconda3\\Lib\\site-packages\\jupyter_contrib_nbextensions\\nbextensions\\keyboard_shortcut_editor\\readme_dropdown.png -> C:\\Users\\Allan\\AppData\\Roaming\\jupyter\\nbextensions\\keyboard_shortcut_editor\\readme_dropdown.png\n",
      "[I 09:04:46 InstallContribNbextensionsApp] Copying: D:\\Anaconda3\\Lib\\site-packages\\jupyter_contrib_nbextensions\\nbextensions\\keyboard_shortcut_editor\\readme_menu_item.png -> C:\\Users\\Allan\\AppData\\Roaming\\jupyter\\nbextensions\\keyboard_shortcut_editor\\readme_menu_item.png\n",
      "[I 09:04:46 InstallContribNbextensionsApp] Copying: D:\\Anaconda3\\Lib\\site-packages\\jupyter_contrib_nbextensions\\nbextensions\\keyboard_shortcut_editor\\readme_reset_disabled.png -> C:\\Users\\Allan\\AppData\\Roaming\\jupyter\\nbextensions\\keyboard_shortcut_editor\\readme_reset_disabled.png\n",
      "[I 09:04:46 InstallContribNbextensionsApp] Copying: D:\\Anaconda3\\Lib\\site-packages\\jupyter_contrib_nbextensions\\nbextensions\\keyboard_shortcut_editor\\readme_shortcut_editor_blank.png -> C:\\Users\\Allan\\AppData\\Roaming\\jupyter\\nbextensions\\keyboard_shortcut_editor\\readme_shortcut_editor_blank.png\n",
      "[I 09:04:46 InstallContribNbextensionsApp] Copying: D:\\Anaconda3\\Lib\\site-packages\\jupyter_contrib_nbextensions\\nbextensions\\keyboard_shortcut_editor\\readme_shortcut_editor_success.png -> C:\\Users\\Allan\\AppData\\Roaming\\jupyter\\nbextensions\\keyboard_shortcut_editor\\readme_shortcut_editor_success.png\n",
      "[I 09:04:47 InstallContribNbextensionsApp] Copying: D:\\Anaconda3\\Lib\\site-packages\\jupyter_contrib_nbextensions\\nbextensions\\keyboard_shortcut_editor\\readme_undefined_key.png -> C:\\Users\\Allan\\AppData\\Roaming\\jupyter\\nbextensions\\keyboard_shortcut_editor\\readme_undefined_key.png\n",
      "[I 09:04:47 InstallContribNbextensionsApp] - Validating: ok\n",
      "[I 09:04:47 InstallContribNbextensionsApp] Installing D:\\Anaconda3\\Lib\\site-packages\\jupyter_contrib_nbextensions\\nbextensions\\limit_output -> limit_output\n",
      "[I 09:04:47 InstallContribNbextensionsApp] Making directory: C:\\Users\\Allan\\AppData\\Roaming\\jupyter\\nbextensions\\limit_output\\\n",
      "[I 09:04:47 InstallContribNbextensionsApp] Copying: D:\\Anaconda3\\Lib\\site-packages\\jupyter_contrib_nbextensions\\nbextensions\\limit_output\\icon.png -> C:\\Users\\Allan\\AppData\\Roaming\\jupyter\\nbextensions\\limit_output\\icon.png\n",
      "[I 09:04:47 InstallContribNbextensionsApp] Copying: D:\\Anaconda3\\Lib\\site-packages\\jupyter_contrib_nbextensions\\nbextensions\\limit_output\\limit-output.yaml -> C:\\Users\\Allan\\AppData\\Roaming\\jupyter\\nbextensions\\limit_output\\limit-output.yaml\n",
      "[I 09:04:47 InstallContribNbextensionsApp] Copying: D:\\Anaconda3\\Lib\\site-packages\\jupyter_contrib_nbextensions\\nbextensions\\limit_output\\main.js -> C:\\Users\\Allan\\AppData\\Roaming\\jupyter\\nbextensions\\limit_output\\main.js\n",
      "[I 09:04:47 InstallContribNbextensionsApp] Copying: D:\\Anaconda3\\Lib\\site-packages\\jupyter_contrib_nbextensions\\nbextensions\\limit_output\\readme.md -> C:\\Users\\Allan\\AppData\\Roaming\\jupyter\\nbextensions\\limit_output\\readme.md\n",
      "[I 09:04:47 InstallContribNbextensionsApp] - Validating: ok\n",
      "[I 09:04:47 InstallContribNbextensionsApp] Installing D:\\Anaconda3\\Lib\\site-packages\\jupyter_contrib_nbextensions\\nbextensions\\livemdpreview -> livemdpreview\n",
      "[I 09:04:47 InstallContribNbextensionsApp] Making directory: C:\\Users\\Allan\\AppData\\Roaming\\jupyter\\nbextensions\\livemdpreview\\\n",
      "[I 09:04:47 InstallContribNbextensionsApp] Copying: D:\\Anaconda3\\Lib\\site-packages\\jupyter_contrib_nbextensions\\nbextensions\\livemdpreview\\livemdpreview.js -> C:\\Users\\Allan\\AppData\\Roaming\\jupyter\\nbextensions\\livemdpreview\\livemdpreview.js\n",
      "[I 09:04:47 InstallContribNbextensionsApp] Copying: D:\\Anaconda3\\Lib\\site-packages\\jupyter_contrib_nbextensions\\nbextensions\\livemdpreview\\livemdpreview.yml -> C:\\Users\\Allan\\AppData\\Roaming\\jupyter\\nbextensions\\livemdpreview\\livemdpreview.yml\n",
      "[I 09:04:47 InstallContribNbextensionsApp] - Validating: ok\n",
      "[I 09:04:47 InstallContribNbextensionsApp] Installing D:\\Anaconda3\\Lib\\site-packages\\jupyter_contrib_nbextensions\\nbextensions\\load_tex_macros -> load_tex_macros\n",
      "[I 09:04:47 InstallContribNbextensionsApp] Making directory: C:\\Users\\Allan\\AppData\\Roaming\\jupyter\\nbextensions\\load_tex_macros\\\n",
      "[I 09:04:47 InstallContribNbextensionsApp] Copying: D:\\Anaconda3\\Lib\\site-packages\\jupyter_contrib_nbextensions\\nbextensions\\load_tex_macros\\icon.png -> C:\\Users\\Allan\\AppData\\Roaming\\jupyter\\nbextensions\\load_tex_macros\\icon.png\n",
      "[I 09:04:47 InstallContribNbextensionsApp] Copying: D:\\Anaconda3\\Lib\\site-packages\\jupyter_contrib_nbextensions\\nbextensions\\load_tex_macros\\load_tex_macros.yaml -> C:\\Users\\Allan\\AppData\\Roaming\\jupyter\\nbextensions\\load_tex_macros\\load_tex_macros.yaml\n",
      "[I 09:04:47 InstallContribNbextensionsApp] Copying: D:\\Anaconda3\\Lib\\site-packages\\jupyter_contrib_nbextensions\\nbextensions\\load_tex_macros\\main.js -> C:\\Users\\Allan\\AppData\\Roaming\\jupyter\\nbextensions\\load_tex_macros\\main.js\n",
      "[I 09:04:47 InstallContribNbextensionsApp] Copying: D:\\Anaconda3\\Lib\\site-packages\\jupyter_contrib_nbextensions\\nbextensions\\load_tex_macros\\readme.md -> C:\\Users\\Allan\\AppData\\Roaming\\jupyter\\nbextensions\\load_tex_macros\\readme.md\n",
      "[I 09:04:47 InstallContribNbextensionsApp] - Validating: ok\n",
      "[I 09:04:47 InstallContribNbextensionsApp] Installing D:\\Anaconda3\\Lib\\site-packages\\jupyter_contrib_nbextensions\\nbextensions\\move_selected_cells -> move_selected_cells\n",
      "[I 09:04:47 InstallContribNbextensionsApp] Making directory: C:\\Users\\Allan\\AppData\\Roaming\\jupyter\\nbextensions\\move_selected_cells\\\n",
      "[I 09:04:47 InstallContribNbextensionsApp] Copying: D:\\Anaconda3\\Lib\\site-packages\\jupyter_contrib_nbextensions\\nbextensions\\move_selected_cells\\main.js -> C:\\Users\\Allan\\AppData\\Roaming\\jupyter\\nbextensions\\move_selected_cells\\main.js\n",
      "[I 09:04:47 InstallContribNbextensionsApp] Copying: D:\\Anaconda3\\Lib\\site-packages\\jupyter_contrib_nbextensions\\nbextensions\\move_selected_cells\\move_selected_cells.yaml -> C:\\Users\\Allan\\AppData\\Roaming\\jupyter\\nbextensions\\move_selected_cells\\move_selected_cells.yaml\n",
      "[I 09:04:47 InstallContribNbextensionsApp] Copying: D:\\Anaconda3\\Lib\\site-packages\\jupyter_contrib_nbextensions\\nbextensions\\move_selected_cells\\README.md -> C:\\Users\\Allan\\AppData\\Roaming\\jupyter\\nbextensions\\move_selected_cells\\README.md\n",
      "[I 09:04:47 InstallContribNbextensionsApp] - Validating: ok\n",
      "[I 09:04:47 InstallContribNbextensionsApp] Installing D:\\Anaconda3\\Lib\\site-packages\\jupyter_contrib_nbextensions\\nbextensions\\navigation-hotkeys -> navigation-hotkeys\n",
      "[I 09:04:47 InstallContribNbextensionsApp] Making directory: C:\\Users\\Allan\\AppData\\Roaming\\jupyter\\nbextensions\\navigation-hotkeys\\\n",
      "[I 09:04:47 InstallContribNbextensionsApp] Copying: D:\\Anaconda3\\Lib\\site-packages\\jupyter_contrib_nbextensions\\nbextensions\\navigation-hotkeys\\hotkeys.yaml -> C:\\Users\\Allan\\AppData\\Roaming\\jupyter\\nbextensions\\navigation-hotkeys\\hotkeys.yaml\n",
      "[I 09:04:47 InstallContribNbextensionsApp] Copying: D:\\Anaconda3\\Lib\\site-packages\\jupyter_contrib_nbextensions\\nbextensions\\navigation-hotkeys\\icon.png -> C:\\Users\\Allan\\AppData\\Roaming\\jupyter\\nbextensions\\navigation-hotkeys\\icon.png\n",
      "[I 09:04:47 InstallContribNbextensionsApp] Copying: D:\\Anaconda3\\Lib\\site-packages\\jupyter_contrib_nbextensions\\nbextensions\\navigation-hotkeys\\main.js -> C:\\Users\\Allan\\AppData\\Roaming\\jupyter\\nbextensions\\navigation-hotkeys\\main.js\n",
      "[I 09:04:47 InstallContribNbextensionsApp] Copying: D:\\Anaconda3\\Lib\\site-packages\\jupyter_contrib_nbextensions\\nbextensions\\navigation-hotkeys\\readme.md -> C:\\Users\\Allan\\AppData\\Roaming\\jupyter\\nbextensions\\navigation-hotkeys\\readme.md\n",
      "[I 09:04:47 InstallContribNbextensionsApp] - Validating: ok\n",
      "[I 09:04:47 InstallContribNbextensionsApp] Installing D:\\Anaconda3\\Lib\\site-packages\\jupyter_contrib_nbextensions\\nbextensions\\nbTranslate -> nbTranslate\n",
      "[I 09:04:47 InstallContribNbextensionsApp] Making directory: C:\\Users\\Allan\\AppData\\Roaming\\jupyter\\nbextensions\\nbTranslate\\\n",
      "[I 09:04:47 InstallContribNbextensionsApp] Copying: D:\\Anaconda3\\Lib\\site-packages\\jupyter_contrib_nbextensions\\nbextensions\\nbTranslate\\demo1.gif -> C:\\Users\\Allan\\AppData\\Roaming\\jupyter\\nbextensions\\nbTranslate\\demo1.gif\n",
      "[I 09:04:47 InstallContribNbextensionsApp] Copying: D:\\Anaconda3\\Lib\\site-packages\\jupyter_contrib_nbextensions\\nbextensions\\nbTranslate\\demo2.gif -> C:\\Users\\Allan\\AppData\\Roaming\\jupyter\\nbextensions\\nbTranslate\\demo2.gif\n",
      "[I 09:04:47 InstallContribNbextensionsApp] Copying: D:\\Anaconda3\\Lib\\site-packages\\jupyter_contrib_nbextensions\\nbextensions\\nbTranslate\\languages.js -> C:\\Users\\Allan\\AppData\\Roaming\\jupyter\\nbextensions\\nbTranslate\\languages.js\n",
      "[I 09:04:47 InstallContribNbextensionsApp] Copying: D:\\Anaconda3\\Lib\\site-packages\\jupyter_contrib_nbextensions\\nbextensions\\nbTranslate\\main.js -> C:\\Users\\Allan\\AppData\\Roaming\\jupyter\\nbextensions\\nbTranslate\\main.js\n",
      "[I 09:04:47 InstallContribNbextensionsApp] Copying: D:\\Anaconda3\\Lib\\site-packages\\jupyter_contrib_nbextensions\\nbextensions\\nbTranslate\\mutils.js -> C:\\Users\\Allan\\AppData\\Roaming\\jupyter\\nbextensions\\nbTranslate\\mutils.js\n",
      "[I 09:04:47 InstallContribNbextensionsApp] Copying: D:\\Anaconda3\\Lib\\site-packages\\jupyter_contrib_nbextensions\\nbextensions\\nbTranslate\\nbTranslate.js -> C:\\Users\\Allan\\AppData\\Roaming\\jupyter\\nbextensions\\nbTranslate\\nbTranslate.js\n",
      "[I 09:04:47 InstallContribNbextensionsApp] Copying: D:\\Anaconda3\\Lib\\site-packages\\jupyter_contrib_nbextensions\\nbextensions\\nbTranslate\\nbTranslate.yaml -> C:\\Users\\Allan\\AppData\\Roaming\\jupyter\\nbextensions\\nbTranslate\\nbTranslate.yaml\n",
      "[I 09:04:47 InstallContribNbextensionsApp] Copying: D:\\Anaconda3\\Lib\\site-packages\\jupyter_contrib_nbextensions\\nbextensions\\nbTranslate\\README.md -> C:\\Users\\Allan\\AppData\\Roaming\\jupyter\\nbextensions\\nbTranslate\\README.md\n",
      "[I 09:04:47 InstallContribNbextensionsApp] - Validating: ok\n",
      "[I 09:04:47 InstallContribNbextensionsApp] Installing D:\\Anaconda3\\Lib\\site-packages\\jupyter_contrib_nbextensions\\nbextensions\\notify -> notify\n",
      "[I 09:04:47 InstallContribNbextensionsApp] Making directory: C:\\Users\\Allan\\AppData\\Roaming\\jupyter\\nbextensions\\notify\\\n",
      "[I 09:04:47 InstallContribNbextensionsApp] Copying: D:\\Anaconda3\\Lib\\site-packages\\jupyter_contrib_nbextensions\\nbextensions\\notify\\notification.png -> C:\\Users\\Allan\\AppData\\Roaming\\jupyter\\nbextensions\\notify\\notification.png\n",
      "[I 09:04:47 InstallContribNbextensionsApp] Copying: D:\\Anaconda3\\Lib\\site-packages\\jupyter_contrib_nbextensions\\nbextensions\\notify\\notify.js -> C:\\Users\\Allan\\AppData\\Roaming\\jupyter\\nbextensions\\notify\\notify.js\n",
      "[I 09:04:47 InstallContribNbextensionsApp] Copying: D:\\Anaconda3\\Lib\\site-packages\\jupyter_contrib_nbextensions\\nbextensions\\notify\\notify.mp3 -> C:\\Users\\Allan\\AppData\\Roaming\\jupyter\\nbextensions\\notify\\notify.mp3\n",
      "[I 09:04:47 InstallContribNbextensionsApp] Copying: D:\\Anaconda3\\Lib\\site-packages\\jupyter_contrib_nbextensions\\nbextensions\\notify\\notify.yaml -> C:\\Users\\Allan\\AppData\\Roaming\\jupyter\\nbextensions\\notify\\notify.yaml\n",
      "[I 09:04:47 InstallContribNbextensionsApp] Copying: D:\\Anaconda3\\Lib\\site-packages\\jupyter_contrib_nbextensions\\nbextensions\\notify\\readme.md -> C:\\Users\\Allan\\AppData\\Roaming\\jupyter\\nbextensions\\notify\\readme.md\n",
      "[I 09:04:47 InstallContribNbextensionsApp] - Validating: ok\n",
      "[I 09:04:47 InstallContribNbextensionsApp] Installing D:\\Anaconda3\\Lib\\site-packages\\jupyter_contrib_nbextensions\\nbextensions\\printview -> printview\n",
      "[I 09:04:47 InstallContribNbextensionsApp] Making directory: C:\\Users\\Allan\\AppData\\Roaming\\jupyter\\nbextensions\\printview\\\n",
      "[I 09:04:47 InstallContribNbextensionsApp] Copying: D:\\Anaconda3\\Lib\\site-packages\\jupyter_contrib_nbextensions\\nbextensions\\printview\\icon.png -> C:\\Users\\Allan\\AppData\\Roaming\\jupyter\\nbextensions\\printview\\icon.png\n",
      "[I 09:04:47 InstallContribNbextensionsApp] Copying: D:\\Anaconda3\\Lib\\site-packages\\jupyter_contrib_nbextensions\\nbextensions\\printview\\main.js -> C:\\Users\\Allan\\AppData\\Roaming\\jupyter\\nbextensions\\printview\\main.js\n",
      "[I 09:04:47 InstallContribNbextensionsApp] Copying: D:\\Anaconda3\\Lib\\site-packages\\jupyter_contrib_nbextensions\\nbextensions\\printview\\printview-button.png -> C:\\Users\\Allan\\AppData\\Roaming\\jupyter\\nbextensions\\printview\\printview-button.png\n",
      "[I 09:04:47 InstallContribNbextensionsApp] Copying: D:\\Anaconda3\\Lib\\site-packages\\jupyter_contrib_nbextensions\\nbextensions\\printview\\printview.yaml -> C:\\Users\\Allan\\AppData\\Roaming\\jupyter\\nbextensions\\printview\\printview.yaml\n",
      "[I 09:04:47 InstallContribNbextensionsApp] Copying: D:\\Anaconda3\\Lib\\site-packages\\jupyter_contrib_nbextensions\\nbextensions\\printview\\readme.md -> C:\\Users\\Allan\\AppData\\Roaming\\jupyter\\nbextensions\\printview\\readme.md\n",
      "[I 09:04:47 InstallContribNbextensionsApp] - Validating: ok\n",
      "[I 09:04:47 InstallContribNbextensionsApp] Installing D:\\Anaconda3\\Lib\\site-packages\\jupyter_contrib_nbextensions\\nbextensions\\python-markdown -> python-markdown\n",
      "[I 09:04:47 InstallContribNbextensionsApp] Making directory: C:\\Users\\Allan\\AppData\\Roaming\\jupyter\\nbextensions\\python-markdown\\\n",
      "[I 09:04:47 InstallContribNbextensionsApp] Copying: D:\\Anaconda3\\Lib\\site-packages\\jupyter_contrib_nbextensions\\nbextensions\\python-markdown\\main.css -> C:\\Users\\Allan\\AppData\\Roaming\\jupyter\\nbextensions\\python-markdown\\main.css\n",
      "[I 09:04:47 InstallContribNbextensionsApp] Copying: D:\\Anaconda3\\Lib\\site-packages\\jupyter_contrib_nbextensions\\nbextensions\\python-markdown\\main.js -> C:\\Users\\Allan\\AppData\\Roaming\\jupyter\\nbextensions\\python-markdown\\main.js\n",
      "[I 09:04:47 InstallContribNbextensionsApp] Copying: D:\\Anaconda3\\Lib\\site-packages\\jupyter_contrib_nbextensions\\nbextensions\\python-markdown\\python-markdown-post.png -> C:\\Users\\Allan\\AppData\\Roaming\\jupyter\\nbextensions\\python-markdown\\python-markdown-post.png\n",
      "[I 09:04:47 InstallContribNbextensionsApp] Copying: D:\\Anaconda3\\Lib\\site-packages\\jupyter_contrib_nbextensions\\nbextensions\\python-markdown\\python-markdown-pre.png -> C:\\Users\\Allan\\AppData\\Roaming\\jupyter\\nbextensions\\python-markdown\\python-markdown-pre.png\n",
      "[I 09:04:47 InstallContribNbextensionsApp] Copying: D:\\Anaconda3\\Lib\\site-packages\\jupyter_contrib_nbextensions\\nbextensions\\python-markdown\\python-markdown.png -> C:\\Users\\Allan\\AppData\\Roaming\\jupyter\\nbextensions\\python-markdown\\python-markdown.png\n",
      "[I 09:04:47 InstallContribNbextensionsApp] Copying: D:\\Anaconda3\\Lib\\site-packages\\jupyter_contrib_nbextensions\\nbextensions\\python-markdown\\python-markdown.yaml -> C:\\Users\\Allan\\AppData\\Roaming\\jupyter\\nbextensions\\python-markdown\\python-markdown.yaml\n",
      "[I 09:04:47 InstallContribNbextensionsApp] Copying: D:\\Anaconda3\\Lib\\site-packages\\jupyter_contrib_nbextensions\\nbextensions\\python-markdown\\readme.md -> C:\\Users\\Allan\\AppData\\Roaming\\jupyter\\nbextensions\\python-markdown\\readme.md\n",
      "[I 09:04:47 InstallContribNbextensionsApp] Copying: D:\\Anaconda3\\Lib\\site-packages\\jupyter_contrib_nbextensions\\nbextensions\\python-markdown\\trusted.png -> C:\\Users\\Allan\\AppData\\Roaming\\jupyter\\nbextensions\\python-markdown\\trusted.png\n",
      "[I 09:04:47 InstallContribNbextensionsApp] Copying: D:\\Anaconda3\\Lib\\site-packages\\jupyter_contrib_nbextensions\\nbextensions\\python-markdown\\untrusted.png -> C:\\Users\\Allan\\AppData\\Roaming\\jupyter\\nbextensions\\python-markdown\\untrusted.png\n",
      "[I 09:04:47 InstallContribNbextensionsApp] - Validating: ok\n",
      "[I 09:04:47 InstallContribNbextensionsApp] Installing D:\\Anaconda3\\Lib\\site-packages\\jupyter_contrib_nbextensions\\nbextensions\\qtconsole -> qtconsole\n",
      "[I 09:04:47 InstallContribNbextensionsApp] Making directory: C:\\Users\\Allan\\AppData\\Roaming\\jupyter\\nbextensions\\qtconsole\\\n",
      "[I 09:04:47 InstallContribNbextensionsApp] Copying: D:\\Anaconda3\\Lib\\site-packages\\jupyter_contrib_nbextensions\\nbextensions\\qtconsole\\qtconsole.js -> C:\\Users\\Allan\\AppData\\Roaming\\jupyter\\nbextensions\\qtconsole\\qtconsole.js\n",
      "[I 09:04:47 InstallContribNbextensionsApp] Copying: D:\\Anaconda3\\Lib\\site-packages\\jupyter_contrib_nbextensions\\nbextensions\\qtconsole\\qtconsole.yaml -> C:\\Users\\Allan\\AppData\\Roaming\\jupyter\\nbextensions\\qtconsole\\qtconsole.yaml\n",
      "[I 09:04:47 InstallContribNbextensionsApp] Copying: D:\\Anaconda3\\Lib\\site-packages\\jupyter_contrib_nbextensions\\nbextensions\\qtconsole\\README.md -> C:\\Users\\Allan\\AppData\\Roaming\\jupyter\\nbextensions\\qtconsole\\README.md\n",
      "[I 09:04:47 InstallContribNbextensionsApp] - Validating: ok\n",
      "[I 09:04:47 InstallContribNbextensionsApp] Installing D:\\Anaconda3\\Lib\\site-packages\\jupyter_contrib_nbextensions\\nbextensions\\rubberband -> rubberband\n",
      "[I 09:04:47 InstallContribNbextensionsApp] Making directory: C:\\Users\\Allan\\AppData\\Roaming\\jupyter\\nbextensions\\rubberband\\\n",
      "[I 09:04:47 InstallContribNbextensionsApp] Copying: D:\\Anaconda3\\Lib\\site-packages\\jupyter_contrib_nbextensions\\nbextensions\\rubberband\\icon.png -> C:\\Users\\Allan\\AppData\\Roaming\\jupyter\\nbextensions\\rubberband\\icon.png\n",
      "[I 09:04:47 InstallContribNbextensionsApp] Copying: D:\\Anaconda3\\Lib\\site-packages\\jupyter_contrib_nbextensions\\nbextensions\\rubberband\\main.css -> C:\\Users\\Allan\\AppData\\Roaming\\jupyter\\nbextensions\\rubberband\\main.css\n",
      "[I 09:04:47 InstallContribNbextensionsApp] Copying: D:\\Anaconda3\\Lib\\site-packages\\jupyter_contrib_nbextensions\\nbextensions\\rubberband\\main.js -> C:\\Users\\Allan\\AppData\\Roaming\\jupyter\\nbextensions\\rubberband\\main.js\n",
      "[I 09:04:47 InstallContribNbextensionsApp] Copying: D:\\Anaconda3\\Lib\\site-packages\\jupyter_contrib_nbextensions\\nbextensions\\rubberband\\readme.md -> C:\\Users\\Allan\\AppData\\Roaming\\jupyter\\nbextensions\\rubberband\\readme.md\n",
      "[I 09:04:47 InstallContribNbextensionsApp] Copying: D:\\Anaconda3\\Lib\\site-packages\\jupyter_contrib_nbextensions\\nbextensions\\rubberband\\rubberband.yaml -> C:\\Users\\Allan\\AppData\\Roaming\\jupyter\\nbextensions\\rubberband\\rubberband.yaml\n",
      "[I 09:04:47 InstallContribNbextensionsApp] - Validating: ok\n",
      "[I 09:04:47 InstallContribNbextensionsApp] Installing D:\\Anaconda3\\Lib\\site-packages\\jupyter_contrib_nbextensions\\nbextensions\\ruler -> ruler\n",
      "[I 09:04:47 InstallContribNbextensionsApp] Making directory: C:\\Users\\Allan\\AppData\\Roaming\\jupyter\\nbextensions\\ruler\\\n",
      "[I 09:04:47 InstallContribNbextensionsApp] Copying: D:\\Anaconda3\\Lib\\site-packages\\jupyter_contrib_nbextensions\\nbextensions\\ruler\\edit.js -> C:\\Users\\Allan\\AppData\\Roaming\\jupyter\\nbextensions\\ruler\\edit.js\n",
      "[I 09:04:47 InstallContribNbextensionsApp] Copying: D:\\Anaconda3\\Lib\\site-packages\\jupyter_contrib_nbextensions\\nbextensions\\ruler\\icon.png -> C:\\Users\\Allan\\AppData\\Roaming\\jupyter\\nbextensions\\ruler\\icon.png\n",
      "[I 09:04:47 InstallContribNbextensionsApp] Copying: D:\\Anaconda3\\Lib\\site-packages\\jupyter_contrib_nbextensions\\nbextensions\\ruler\\main.js -> C:\\Users\\Allan\\AppData\\Roaming\\jupyter\\nbextensions\\ruler\\main.js\n",
      "[I 09:04:47 InstallContribNbextensionsApp] Copying: D:\\Anaconda3\\Lib\\site-packages\\jupyter_contrib_nbextensions\\nbextensions\\ruler\\readme.md -> C:\\Users\\Allan\\AppData\\Roaming\\jupyter\\nbextensions\\ruler\\readme.md\n",
      "[I 09:04:47 InstallContribNbextensionsApp] Copying: D:\\Anaconda3\\Lib\\site-packages\\jupyter_contrib_nbextensions\\nbextensions\\ruler\\ruler.yaml -> C:\\Users\\Allan\\AppData\\Roaming\\jupyter\\nbextensions\\ruler\\ruler.yaml\n",
      "[I 09:04:47 InstallContribNbextensionsApp] Copying: D:\\Anaconda3\\Lib\\site-packages\\jupyter_contrib_nbextensions\\nbextensions\\ruler\\ruler_editor.yaml -> C:\\Users\\Allan\\AppData\\Roaming\\jupyter\\nbextensions\\ruler\\ruler_editor.yaml\n",
      "[I 09:04:47 InstallContribNbextensionsApp] - Validating: ok\n",
      "[I 09:04:47 InstallContribNbextensionsApp] Installing D:\\Anaconda3\\Lib\\site-packages\\jupyter_contrib_nbextensions\\nbextensions\\ruler -> ruler\n",
      "[I 09:04:47 InstallContribNbextensionsApp] Up to date: C:\\Users\\Allan\\AppData\\Roaming\\jupyter\\nbextensions\\ruler\\edit.js\n",
      "[I 09:04:47 InstallContribNbextensionsApp] Up to date: C:\\Users\\Allan\\AppData\\Roaming\\jupyter\\nbextensions\\ruler\\icon.png\n",
      "[I 09:04:47 InstallContribNbextensionsApp] Up to date: C:\\Users\\Allan\\AppData\\Roaming\\jupyter\\nbextensions\\ruler\\main.js\n",
      "[I 09:04:47 InstallContribNbextensionsApp] Up to date: C:\\Users\\Allan\\AppData\\Roaming\\jupyter\\nbextensions\\ruler\\readme.md\n",
      "[I 09:04:47 InstallContribNbextensionsApp] Up to date: C:\\Users\\Allan\\AppData\\Roaming\\jupyter\\nbextensions\\ruler\\ruler.yaml\n",
      "[I 09:04:47 InstallContribNbextensionsApp] Up to date: C:\\Users\\Allan\\AppData\\Roaming\\jupyter\\nbextensions\\ruler\\ruler_editor.yaml\n",
      "[I 09:04:47 InstallContribNbextensionsApp] - Validating: ok\n",
      "[I 09:04:47 InstallContribNbextensionsApp] Installing D:\\Anaconda3\\Lib\\site-packages\\jupyter_contrib_nbextensions\\nbextensions\\runtools -> runtools\n",
      "[I 09:04:47 InstallContribNbextensionsApp] Making directory: C:\\Users\\Allan\\AppData\\Roaming\\jupyter\\nbextensions\\runtools\\\n",
      "[I 09:04:47 InstallContribNbextensionsApp] Copying: D:\\Anaconda3\\Lib\\site-packages\\jupyter_contrib_nbextensions\\nbextensions\\runtools\\annotations.odg -> C:\\Users\\Allan\\AppData\\Roaming\\jupyter\\nbextensions\\runtools\\annotations.odg\n",
      "[I 09:04:47 InstallContribNbextensionsApp] Copying: D:\\Anaconda3\\Lib\\site-packages\\jupyter_contrib_nbextensions\\nbextensions\\runtools\\cellstate.js -> C:\\Users\\Allan\\AppData\\Roaming\\jupyter\\nbextensions\\runtools\\cellstate.js\n",
      "[I 09:04:47 InstallContribNbextensionsApp] Copying: D:\\Anaconda3\\Lib\\site-packages\\jupyter_contrib_nbextensions\\nbextensions\\runtools\\demo.gif -> C:\\Users\\Allan\\AppData\\Roaming\\jupyter\\nbextensions\\runtools\\demo.gif\n",
      "[I 09:04:47 InstallContribNbextensionsApp] Copying: D:\\Anaconda3\\Lib\\site-packages\\jupyter_contrib_nbextensions\\nbextensions\\runtools\\gutter.css -> C:\\Users\\Allan\\AppData\\Roaming\\jupyter\\nbextensions\\runtools\\gutter.css\n",
      "[I 09:04:47 InstallContribNbextensionsApp] Copying: D:\\Anaconda3\\Lib\\site-packages\\jupyter_contrib_nbextensions\\nbextensions\\runtools\\icon.png -> C:\\Users\\Allan\\AppData\\Roaming\\jupyter\\nbextensions\\runtools\\icon.png\n",
      "[I 09:04:47 InstallContribNbextensionsApp] Copying: D:\\Anaconda3\\Lib\\site-packages\\jupyter_contrib_nbextensions\\nbextensions\\runtools\\main.css -> C:\\Users\\Allan\\AppData\\Roaming\\jupyter\\nbextensions\\runtools\\main.css\n",
      "[I 09:04:47 InstallContribNbextensionsApp] Copying: D:\\Anaconda3\\Lib\\site-packages\\jupyter_contrib_nbextensions\\nbextensions\\runtools\\main.js -> C:\\Users\\Allan\\AppData\\Roaming\\jupyter\\nbextensions\\runtools\\main.js\n",
      "[I 09:04:47 InstallContribNbextensionsApp] Copying: D:\\Anaconda3\\Lib\\site-packages\\jupyter_contrib_nbextensions\\nbextensions\\runtools\\readme.md -> C:\\Users\\Allan\\AppData\\Roaming\\jupyter\\nbextensions\\runtools\\readme.md\n",
      "[I 09:04:47 InstallContribNbextensionsApp] Copying: D:\\Anaconda3\\Lib\\site-packages\\jupyter_contrib_nbextensions\\nbextensions\\runtools\\runtools.yaml -> C:\\Users\\Allan\\AppData\\Roaming\\jupyter\\nbextensions\\runtools\\runtools.yaml\n",
      "[I 09:04:47 InstallContribNbextensionsApp] Copying: D:\\Anaconda3\\Lib\\site-packages\\jupyter_contrib_nbextensions\\nbextensions\\runtools\\runtools_execute.png -> C:\\Users\\Allan\\AppData\\Roaming\\jupyter\\nbextensions\\runtools\\runtools_execute.png\n",
      "[I 09:04:47 InstallContribNbextensionsApp] Copying: D:\\Anaconda3\\Lib\\site-packages\\jupyter_contrib_nbextensions\\nbextensions\\runtools\\runtools_lock.png -> C:\\Users\\Allan\\AppData\\Roaming\\jupyter\\nbextensions\\runtools\\runtools_lock.png\n",
      "[I 09:04:47 InstallContribNbextensionsApp] Copying: D:\\Anaconda3\\Lib\\site-packages\\jupyter_contrib_nbextensions\\nbextensions\\runtools\\runtools_marker.png -> C:\\Users\\Allan\\AppData\\Roaming\\jupyter\\nbextensions\\runtools\\runtools_marker.png\n",
      "[I 09:04:47 InstallContribNbextensionsApp] Copying: D:\\Anaconda3\\Lib\\site-packages\\jupyter_contrib_nbextensions\\nbextensions\\runtools\\runtools_nb.png -> C:\\Users\\Allan\\AppData\\Roaming\\jupyter\\nbextensions\\runtools\\runtools_nb.png\n",
      "[I 09:04:47 InstallContribNbextensionsApp] Copying: D:\\Anaconda3\\Lib\\site-packages\\jupyter_contrib_nbextensions\\nbextensions\\runtools\\runtools_show_hide.png -> C:\\Users\\Allan\\AppData\\Roaming\\jupyter\\nbextensions\\runtools\\runtools_show_hide.png\n",
      "[I 09:04:47 InstallContribNbextensionsApp] - Validating: ok\n",
      "[I 09:04:47 InstallContribNbextensionsApp] Installing D:\\Anaconda3\\Lib\\site-packages\\jupyter_contrib_nbextensions\\nbextensions\\scratchpad -> scratchpad\n",
      "[I 09:04:47 InstallContribNbextensionsApp] Making directory: C:\\Users\\Allan\\AppData\\Roaming\\jupyter\\nbextensions\\scratchpad\\\n",
      "[I 09:04:47 InstallContribNbextensionsApp] Copying: D:\\Anaconda3\\Lib\\site-packages\\jupyter_contrib_nbextensions\\nbextensions\\scratchpad\\demo.gif -> C:\\Users\\Allan\\AppData\\Roaming\\jupyter\\nbextensions\\scratchpad\\demo.gif\n",
      "[I 09:04:47 InstallContribNbextensionsApp] Copying: D:\\Anaconda3\\Lib\\site-packages\\jupyter_contrib_nbextensions\\nbextensions\\scratchpad\\LICENSE -> C:\\Users\\Allan\\AppData\\Roaming\\jupyter\\nbextensions\\scratchpad\\LICENSE\n",
      "[I 09:04:47 InstallContribNbextensionsApp] Copying: D:\\Anaconda3\\Lib\\site-packages\\jupyter_contrib_nbextensions\\nbextensions\\scratchpad\\main.js -> C:\\Users\\Allan\\AppData\\Roaming\\jupyter\\nbextensions\\scratchpad\\main.js\n",
      "[I 09:04:47 InstallContribNbextensionsApp] Copying: D:\\Anaconda3\\Lib\\site-packages\\jupyter_contrib_nbextensions\\nbextensions\\scratchpad\\README.md -> C:\\Users\\Allan\\AppData\\Roaming\\jupyter\\nbextensions\\scratchpad\\README.md\n",
      "[I 09:04:47 InstallContribNbextensionsApp] Copying: D:\\Anaconda3\\Lib\\site-packages\\jupyter_contrib_nbextensions\\nbextensions\\scratchpad\\scratchpad.css -> C:\\Users\\Allan\\AppData\\Roaming\\jupyter\\nbextensions\\scratchpad\\scratchpad.css\n",
      "[I 09:04:47 InstallContribNbextensionsApp] Copying: D:\\Anaconda3\\Lib\\site-packages\\jupyter_contrib_nbextensions\\nbextensions\\scratchpad\\scratchpad.yaml -> C:\\Users\\Allan\\AppData\\Roaming\\jupyter\\nbextensions\\scratchpad\\scratchpad.yaml\n",
      "[I 09:04:47 InstallContribNbextensionsApp] - Validating: ok\n",
      "[I 09:04:47 InstallContribNbextensionsApp] Installing D:\\Anaconda3\\Lib\\site-packages\\jupyter_contrib_nbextensions\\nbextensions\\scroll_down -> scroll_down\n",
      "[I 09:04:47 InstallContribNbextensionsApp] Making directory: C:\\Users\\Allan\\AppData\\Roaming\\jupyter\\nbextensions\\scroll_down\\\n",
      "[I 09:04:47 InstallContribNbextensionsApp] Copying: D:\\Anaconda3\\Lib\\site-packages\\jupyter_contrib_nbextensions\\nbextensions\\scroll_down\\config.yaml -> C:\\Users\\Allan\\AppData\\Roaming\\jupyter\\nbextensions\\scroll_down\\config.yaml\n",
      "[I 09:04:47 InstallContribNbextensionsApp] Copying: D:\\Anaconda3\\Lib\\site-packages\\jupyter_contrib_nbextensions\\nbextensions\\scroll_down\\icon.png -> C:\\Users\\Allan\\AppData\\Roaming\\jupyter\\nbextensions\\scroll_down\\icon.png\n",
      "[I 09:04:47 InstallContribNbextensionsApp] Copying: D:\\Anaconda3\\Lib\\site-packages\\jupyter_contrib_nbextensions\\nbextensions\\scroll_down\\main.js -> C:\\Users\\Allan\\AppData\\Roaming\\jupyter\\nbextensions\\scroll_down\\main.js\n",
      "[I 09:04:47 InstallContribNbextensionsApp] Copying: D:\\Anaconda3\\Lib\\site-packages\\jupyter_contrib_nbextensions\\nbextensions\\scroll_down\\readme.md -> C:\\Users\\Allan\\AppData\\Roaming\\jupyter\\nbextensions\\scroll_down\\readme.md\n",
      "[I 09:04:47 InstallContribNbextensionsApp] - Validating: ok\n",
      "[I 09:04:47 InstallContribNbextensionsApp] Installing D:\\Anaconda3\\Lib\\site-packages\\jupyter_contrib_nbextensions\\nbextensions\\select_keymap -> select_keymap\n",
      "[I 09:04:47 InstallContribNbextensionsApp] Making directory: C:\\Users\\Allan\\AppData\\Roaming\\jupyter\\nbextensions\\select_keymap\\\n",
      "[I 09:04:47 InstallContribNbextensionsApp] Copying: D:\\Anaconda3\\Lib\\site-packages\\jupyter_contrib_nbextensions\\nbextensions\\select_keymap\\main.js -> C:\\Users\\Allan\\AppData\\Roaming\\jupyter\\nbextensions\\select_keymap\\main.js\n",
      "[I 09:04:47 InstallContribNbextensionsApp] Copying: D:\\Anaconda3\\Lib\\site-packages\\jupyter_contrib_nbextensions\\nbextensions\\select_keymap\\README.md -> C:\\Users\\Allan\\AppData\\Roaming\\jupyter\\nbextensions\\select_keymap\\README.md\n",
      "[I 09:04:47 InstallContribNbextensionsApp] Copying: D:\\Anaconda3\\Lib\\site-packages\\jupyter_contrib_nbextensions\\nbextensions\\select_keymap\\select_keymap.png -> C:\\Users\\Allan\\AppData\\Roaming\\jupyter\\nbextensions\\select_keymap\\select_keymap.png\n",
      "[I 09:04:47 InstallContribNbextensionsApp] Copying: D:\\Anaconda3\\Lib\\site-packages\\jupyter_contrib_nbextensions\\nbextensions\\select_keymap\\select_keymap.yaml -> C:\\Users\\Allan\\AppData\\Roaming\\jupyter\\nbextensions\\select_keymap\\select_keymap.yaml\n",
      "[I 09:04:47 InstallContribNbextensionsApp] - Validating: ok\n",
      "[I 09:04:47 InstallContribNbextensionsApp] Installing D:\\Anaconda3\\Lib\\site-packages\\jupyter_contrib_nbextensions\\nbextensions\\skill -> skill\n",
      "[I 09:04:47 InstallContribNbextensionsApp] Making directory: C:\\Users\\Allan\\AppData\\Roaming\\jupyter\\nbextensions\\skill\\\n",
      "[I 09:04:47 InstallContribNbextensionsApp] Copying: D:\\Anaconda3\\Lib\\site-packages\\jupyter_contrib_nbextensions\\nbextensions\\skill\\main.js -> C:\\Users\\Allan\\AppData\\Roaming\\jupyter\\nbextensions\\skill\\main.js\n",
      "[I 09:04:47 InstallContribNbextensionsApp] Copying: D:\\Anaconda3\\Lib\\site-packages\\jupyter_contrib_nbextensions\\nbextensions\\skill\\README.md -> C:\\Users\\Allan\\AppData\\Roaming\\jupyter\\nbextensions\\skill\\README.md\n",
      "[I 09:04:47 InstallContribNbextensionsApp] Copying: D:\\Anaconda3\\Lib\\site-packages\\jupyter_contrib_nbextensions\\nbextensions\\skill\\skill.js -> C:\\Users\\Allan\\AppData\\Roaming\\jupyter\\nbextensions\\skill\\skill.js\n",
      "[I 09:04:47 InstallContribNbextensionsApp] Copying: D:\\Anaconda3\\Lib\\site-packages\\jupyter_contrib_nbextensions\\nbextensions\\skill\\skill.yaml -> C:\\Users\\Allan\\AppData\\Roaming\\jupyter\\nbextensions\\skill\\skill.yaml\n",
      "[I 09:04:47 InstallContribNbextensionsApp] - Validating: ok\n",
      "[I 09:04:47 InstallContribNbextensionsApp] Installing D:\\Anaconda3\\Lib\\site-packages\\jupyter_contrib_nbextensions\\nbextensions\\skip-traceback -> skip-traceback\n",
      "[I 09:04:47 InstallContribNbextensionsApp] Making directory: C:\\Users\\Allan\\AppData\\Roaming\\jupyter\\nbextensions\\skip-traceback\\\n",
      "[I 09:04:47 InstallContribNbextensionsApp] Copying: D:\\Anaconda3\\Lib\\site-packages\\jupyter_contrib_nbextensions\\nbextensions\\skip-traceback\\icon.png -> C:\\Users\\Allan\\AppData\\Roaming\\jupyter\\nbextensions\\skip-traceback\\icon.png\n",
      "[I 09:04:47 InstallContribNbextensionsApp] Copying: D:\\Anaconda3\\Lib\\site-packages\\jupyter_contrib_nbextensions\\nbextensions\\skip-traceback\\main.js -> C:\\Users\\Allan\\AppData\\Roaming\\jupyter\\nbextensions\\skip-traceback\\main.js\n",
      "[I 09:04:47 InstallContribNbextensionsApp] Copying: D:\\Anaconda3\\Lib\\site-packages\\jupyter_contrib_nbextensions\\nbextensions\\skip-traceback\\readme.md -> C:\\Users\\Allan\\AppData\\Roaming\\jupyter\\nbextensions\\skip-traceback\\readme.md\n",
      "[I 09:04:47 InstallContribNbextensionsApp] Copying: D:\\Anaconda3\\Lib\\site-packages\\jupyter_contrib_nbextensions\\nbextensions\\skip-traceback\\skip-traceback.png -> C:\\Users\\Allan\\AppData\\Roaming\\jupyter\\nbextensions\\skip-traceback\\skip-traceback.png\n",
      "[I 09:04:47 InstallContribNbextensionsApp] Copying: D:\\Anaconda3\\Lib\\site-packages\\jupyter_contrib_nbextensions\\nbextensions\\skip-traceback\\skip-traceback.yaml -> C:\\Users\\Allan\\AppData\\Roaming\\jupyter\\nbextensions\\skip-traceback\\skip-traceback.yaml\n",
      "[I 09:04:47 InstallContribNbextensionsApp] Copying: D:\\Anaconda3\\Lib\\site-packages\\jupyter_contrib_nbextensions\\nbextensions\\skip-traceback\\traceback.png -> C:\\Users\\Allan\\AppData\\Roaming\\jupyter\\nbextensions\\skip-traceback\\traceback.png\n",
      "[I 09:04:47 InstallContribNbextensionsApp] - Validating: ok\n",
      "[I 09:04:47 InstallContribNbextensionsApp] Installing D:\\Anaconda3\\Lib\\site-packages\\jupyter_contrib_nbextensions\\nbextensions\\snippets -> snippets\n",
      "[I 09:04:47 InstallContribNbextensionsApp] Making directory: C:\\Users\\Allan\\AppData\\Roaming\\jupyter\\nbextensions\\snippets\\\n",
      "[I 09:04:47 InstallContribNbextensionsApp] Copying: D:\\Anaconda3\\Lib\\site-packages\\jupyter_contrib_nbextensions\\nbextensions\\snippets\\main.js -> C:\\Users\\Allan\\AppData\\Roaming\\jupyter\\nbextensions\\snippets\\main.js\n",
      "[I 09:04:47 InstallContribNbextensionsApp] Copying: D:\\Anaconda3\\Lib\\site-packages\\jupyter_contrib_nbextensions\\nbextensions\\snippets\\README.md -> C:\\Users\\Allan\\AppData\\Roaming\\jupyter\\nbextensions\\snippets\\README.md\n",
      "[I 09:04:47 InstallContribNbextensionsApp] Copying: D:\\Anaconda3\\Lib\\site-packages\\jupyter_contrib_nbextensions\\nbextensions\\snippets\\snippets-demo.gif -> C:\\Users\\Allan\\AppData\\Roaming\\jupyter\\nbextensions\\snippets\\snippets-demo.gif\n",
      "[I 09:04:47 InstallContribNbextensionsApp] Copying: D:\\Anaconda3\\Lib\\site-packages\\jupyter_contrib_nbextensions\\nbextensions\\snippets\\snippets.json -> C:\\Users\\Allan\\AppData\\Roaming\\jupyter\\nbextensions\\snippets\\snippets.json\n",
      "[I 09:04:47 InstallContribNbextensionsApp] Copying: D:\\Anaconda3\\Lib\\site-packages\\jupyter_contrib_nbextensions\\nbextensions\\snippets\\snippets.yaml -> C:\\Users\\Allan\\AppData\\Roaming\\jupyter\\nbextensions\\snippets\\snippets.yaml\n",
      "[I 09:04:47 InstallContribNbextensionsApp] - Validating: ok\n",
      "[I 09:04:47 InstallContribNbextensionsApp] Installing D:\\Anaconda3\\Lib\\site-packages\\jupyter_contrib_nbextensions\\nbextensions\\snippets_menu -> snippets_menu\n",
      "[I 09:04:47 InstallContribNbextensionsApp] Making directory: C:\\Users\\Allan\\AppData\\Roaming\\jupyter\\nbextensions\\snippets_menu\\\n",
      "[I 09:04:47 InstallContribNbextensionsApp] Copying: D:\\Anaconda3\\Lib\\site-packages\\jupyter_contrib_nbextensions\\nbextensions\\snippets_menu\\config.yaml -> C:\\Users\\Allan\\AppData\\Roaming\\jupyter\\nbextensions\\snippets_menu\\config.yaml\n",
      "[I 09:04:47 InstallContribNbextensionsApp] Copying: D:\\Anaconda3\\Lib\\site-packages\\jupyter_contrib_nbextensions\\nbextensions\\snippets_menu\\examples_for_custom.js -> C:\\Users\\Allan\\AppData\\Roaming\\jupyter\\nbextensions\\snippets_menu\\examples_for_custom.js\n",
      "[I 09:04:47 InstallContribNbextensionsApp] Copying: D:\\Anaconda3\\Lib\\site-packages\\jupyter_contrib_nbextensions\\nbextensions\\snippets_menu\\main.js -> C:\\Users\\Allan\\AppData\\Roaming\\jupyter\\nbextensions\\snippets_menu\\main.js\n",
      "[I 09:04:47 InstallContribNbextensionsApp] Copying: D:\\Anaconda3\\Lib\\site-packages\\jupyter_contrib_nbextensions\\nbextensions\\snippets_menu\\readme.md -> C:\\Users\\Allan\\AppData\\Roaming\\jupyter\\nbextensions\\snippets_menu\\readme.md\n",
      "[I 09:04:47 InstallContribNbextensionsApp] Copying: D:\\Anaconda3\\Lib\\site-packages\\jupyter_contrib_nbextensions\\nbextensions\\snippets_menu\\screenshot1.png -> C:\\Users\\Allan\\AppData\\Roaming\\jupyter\\nbextensions\\snippets_menu\\screenshot1.png\n",
      "[I 09:04:47 InstallContribNbextensionsApp] Copying: D:\\Anaconda3\\Lib\\site-packages\\jupyter_contrib_nbextensions\\nbextensions\\snippets_menu\\screenshot2.png -> C:\\Users\\Allan\\AppData\\Roaming\\jupyter\\nbextensions\\snippets_menu\\screenshot2.png\n",
      "[I 09:04:47 InstallContribNbextensionsApp] Copying: D:\\Anaconda3\\Lib\\site-packages\\jupyter_contrib_nbextensions\\nbextensions\\snippets_menu\\screenshot3.png -> C:\\Users\\Allan\\AppData\\Roaming\\jupyter\\nbextensions\\snippets_menu\\screenshot3.png\n",
      "[I 09:04:47 InstallContribNbextensionsApp] Copying: D:\\Anaconda3\\Lib\\site-packages\\jupyter_contrib_nbextensions\\nbextensions\\snippets_menu\\snippets_menu.css -> C:\\Users\\Allan\\AppData\\Roaming\\jupyter\\nbextensions\\snippets_menu\\snippets_menu.css\n",
      "[I 09:04:47 InstallContribNbextensionsApp] Copying: D:\\Anaconda3\\Lib\\site-packages\\jupyter_contrib_nbextensions\\nbextensions\\snippets_menu\\snippets_submenu_markdown.js -> C:\\Users\\Allan\\AppData\\Roaming\\jupyter\\nbextensions\\snippets_menu\\snippets_submenu_markdown.js\n",
      "[I 09:04:47 InstallContribNbextensionsApp] Copying: D:\\Anaconda3\\Lib\\site-packages\\jupyter_contrib_nbextensions\\nbextensions\\snippets_menu\\snippets_submenu_python.js -> C:\\Users\\Allan\\AppData\\Roaming\\jupyter\\nbextensions\\snippets_menu\\snippets_submenu_python.js\n",
      "[I 09:04:47 InstallContribNbextensionsApp] Copying: D:\\Anaconda3\\Lib\\site-packages\\jupyter_contrib_nbextensions\\nbextensions\\snippets_menu\\thumbnail.png -> C:\\Users\\Allan\\AppData\\Roaming\\jupyter\\nbextensions\\snippets_menu\\thumbnail.png\n",
      "[I 09:04:47 InstallContribNbextensionsApp] Making directory: C:\\Users\\Allan\\AppData\\Roaming\\jupyter\\nbextensions\\snippets_menu\\snippets_submenus_python\n",
      "[I 09:04:47 InstallContribNbextensionsApp] Copying: D:\\Anaconda3\\Lib\\site-packages\\jupyter_contrib_nbextensions\\nbextensions\\snippets_menu\\snippets_submenus_python\\astropy.js -> C:\\Users\\Allan\\AppData\\Roaming\\jupyter\\nbextensions\\snippets_menu\\snippets_submenus_python\\astropy.js\n",
      "[I 09:04:47 InstallContribNbextensionsApp] Copying: D:\\Anaconda3\\Lib\\site-packages\\jupyter_contrib_nbextensions\\nbextensions\\snippets_menu\\snippets_submenus_python\\h5py.js -> C:\\Users\\Allan\\AppData\\Roaming\\jupyter\\nbextensions\\snippets_menu\\snippets_submenus_python\\h5py.js\n",
      "[I 09:04:47 InstallContribNbextensionsApp] Copying: D:\\Anaconda3\\Lib\\site-packages\\jupyter_contrib_nbextensions\\nbextensions\\snippets_menu\\snippets_submenus_python\\matplotlib.js -> C:\\Users\\Allan\\AppData\\Roaming\\jupyter\\nbextensions\\snippets_menu\\snippets_submenus_python\\matplotlib.js\n",
      "[I 09:04:47 InstallContribNbextensionsApp] Copying: D:\\Anaconda3\\Lib\\site-packages\\jupyter_contrib_nbextensions\\nbextensions\\snippets_menu\\snippets_submenus_python\\numba.js -> C:\\Users\\Allan\\AppData\\Roaming\\jupyter\\nbextensions\\snippets_menu\\snippets_submenus_python\\numba.js\n",
      "[I 09:04:47 InstallContribNbextensionsApp] Copying: D:\\Anaconda3\\Lib\\site-packages\\jupyter_contrib_nbextensions\\nbextensions\\snippets_menu\\snippets_submenus_python\\numpy.js -> C:\\Users\\Allan\\AppData\\Roaming\\jupyter\\nbextensions\\snippets_menu\\snippets_submenus_python\\numpy.js\n",
      "[I 09:04:47 InstallContribNbextensionsApp] Copying: D:\\Anaconda3\\Lib\\site-packages\\jupyter_contrib_nbextensions\\nbextensions\\snippets_menu\\snippets_submenus_python\\numpy_polynomial.js -> C:\\Users\\Allan\\AppData\\Roaming\\jupyter\\nbextensions\\snippets_menu\\snippets_submenus_python\\numpy_polynomial.js\n",
      "[I 09:04:47 InstallContribNbextensionsApp] Copying: D:\\Anaconda3\\Lib\\site-packages\\jupyter_contrib_nbextensions\\nbextensions\\snippets_menu\\snippets_submenus_python\\numpy_ufuncs.js -> C:\\Users\\Allan\\AppData\\Roaming\\jupyter\\nbextensions\\snippets_menu\\snippets_submenus_python\\numpy_ufuncs.js\n",
      "[I 09:04:47 InstallContribNbextensionsApp] Copying: D:\\Anaconda3\\Lib\\site-packages\\jupyter_contrib_nbextensions\\nbextensions\\snippets_menu\\snippets_submenus_python\\pandas.js -> C:\\Users\\Allan\\AppData\\Roaming\\jupyter\\nbextensions\\snippets_menu\\snippets_submenus_python\\pandas.js\n",
      "[I 09:04:47 InstallContribNbextensionsApp] Copying: D:\\Anaconda3\\Lib\\site-packages\\jupyter_contrib_nbextensions\\nbextensions\\snippets_menu\\snippets_submenus_python\\python.js -> C:\\Users\\Allan\\AppData\\Roaming\\jupyter\\nbextensions\\snippets_menu\\snippets_submenus_python\\python.js\n",
      "[I 09:04:47 InstallContribNbextensionsApp] Copying: D:\\Anaconda3\\Lib\\site-packages\\jupyter_contrib_nbextensions\\nbextensions\\snippets_menu\\snippets_submenus_python\\python_regex.js -> C:\\Users\\Allan\\AppData\\Roaming\\jupyter\\nbextensions\\snippets_menu\\snippets_submenus_python\\python_regex.js\n",
      "[I 09:04:47 InstallContribNbextensionsApp] Copying: D:\\Anaconda3\\Lib\\site-packages\\jupyter_contrib_nbextensions\\nbextensions\\snippets_menu\\snippets_submenus_python\\scipy.js -> C:\\Users\\Allan\\AppData\\Roaming\\jupyter\\nbextensions\\snippets_menu\\snippets_submenus_python\\scipy.js\n",
      "[I 09:04:47 InstallContribNbextensionsApp] Copying: D:\\Anaconda3\\Lib\\site-packages\\jupyter_contrib_nbextensions\\nbextensions\\snippets_menu\\snippets_submenus_python\\scipy_constants.js -> C:\\Users\\Allan\\AppData\\Roaming\\jupyter\\nbextensions\\snippets_menu\\snippets_submenus_python\\scipy_constants.js\n",
      "[I 09:04:47 InstallContribNbextensionsApp] Copying: D:\\Anaconda3\\Lib\\site-packages\\jupyter_contrib_nbextensions\\nbextensions\\snippets_menu\\snippets_submenus_python\\scipy_special.js -> C:\\Users\\Allan\\AppData\\Roaming\\jupyter\\nbextensions\\snippets_menu\\snippets_submenus_python\\scipy_special.js\n",
      "[I 09:04:47 InstallContribNbextensionsApp] Copying: D:\\Anaconda3\\Lib\\site-packages\\jupyter_contrib_nbextensions\\nbextensions\\snippets_menu\\snippets_submenus_python\\sympy.js -> C:\\Users\\Allan\\AppData\\Roaming\\jupyter\\nbextensions\\snippets_menu\\snippets_submenus_python\\sympy.js\n",
      "[I 09:04:47 InstallContribNbextensionsApp] Copying: D:\\Anaconda3\\Lib\\site-packages\\jupyter_contrib_nbextensions\\nbextensions\\snippets_menu\\snippets_submenus_python\\sympy_assumptions.js -> C:\\Users\\Allan\\AppData\\Roaming\\jupyter\\nbextensions\\snippets_menu\\snippets_submenus_python\\sympy_assumptions.js\n",
      "[I 09:04:47 InstallContribNbextensionsApp] Copying: D:\\Anaconda3\\Lib\\site-packages\\jupyter_contrib_nbextensions\\nbextensions\\snippets_menu\\snippets_submenus_python\\sympy_functions.js -> C:\\Users\\Allan\\AppData\\Roaming\\jupyter\\nbextensions\\snippets_menu\\snippets_submenus_python\\sympy_functions.js\n",
      "[I 09:04:47 InstallContribNbextensionsApp] - Validating: ok\n",
      "[I 09:04:47 InstallContribNbextensionsApp] Installing D:\\Anaconda3\\Lib\\site-packages\\jupyter_contrib_nbextensions\\nbextensions\\spellchecker -> spellchecker\n",
      "[I 09:04:47 InstallContribNbextensionsApp] Making directory: C:\\Users\\Allan\\AppData\\Roaming\\jupyter\\nbextensions\\spellchecker\\\n",
      "[I 09:04:47 InstallContribNbextensionsApp] Copying: D:\\Anaconda3\\Lib\\site-packages\\jupyter_contrib_nbextensions\\nbextensions\\spellchecker\\config.yaml -> C:\\Users\\Allan\\AppData\\Roaming\\jupyter\\nbextensions\\spellchecker\\config.yaml\n",
      "[I 09:04:47 InstallContribNbextensionsApp] Copying: D:\\Anaconda3\\Lib\\site-packages\\jupyter_contrib_nbextensions\\nbextensions\\spellchecker\\download_new_dict.py -> C:\\Users\\Allan\\AppData\\Roaming\\jupyter\\nbextensions\\spellchecker\\download_new_dict.py\n",
      "[I 09:04:47 InstallContribNbextensionsApp] Copying: D:\\Anaconda3\\Lib\\site-packages\\jupyter_contrib_nbextensions\\nbextensions\\spellchecker\\main.css -> C:\\Users\\Allan\\AppData\\Roaming\\jupyter\\nbextensions\\spellchecker\\main.css\n",
      "[I 09:04:47 InstallContribNbextensionsApp] Copying: D:\\Anaconda3\\Lib\\site-packages\\jupyter_contrib_nbextensions\\nbextensions\\spellchecker\\main.js -> C:\\Users\\Allan\\AppData\\Roaming\\jupyter\\nbextensions\\spellchecker\\main.js\n",
      "[I 09:04:47 InstallContribNbextensionsApp] Copying: D:\\Anaconda3\\Lib\\site-packages\\jupyter_contrib_nbextensions\\nbextensions\\spellchecker\\README.md -> C:\\Users\\Allan\\AppData\\Roaming\\jupyter\\nbextensions\\spellchecker\\README.md\n",
      "[I 09:04:47 InstallContribNbextensionsApp] Copying: D:\\Anaconda3\\Lib\\site-packages\\jupyter_contrib_nbextensions\\nbextensions\\spellchecker\\screenshot.png -> C:\\Users\\Allan\\AppData\\Roaming\\jupyter\\nbextensions\\spellchecker\\screenshot.png\n",
      "[I 09:04:47 InstallContribNbextensionsApp] Making directory: C:\\Users\\Allan\\AppData\\Roaming\\jupyter\\nbextensions\\spellchecker\\typo\n",
      "[I 09:04:47 InstallContribNbextensionsApp] Copying: D:\\Anaconda3\\Lib\\site-packages\\jupyter_contrib_nbextensions\\nbextensions\\spellchecker\\typo\\LICENSE.txt -> C:\\Users\\Allan\\AppData\\Roaming\\jupyter\\nbextensions\\spellchecker\\typo\\LICENSE.txt\n",
      "[I 09:04:47 InstallContribNbextensionsApp] Copying: D:\\Anaconda3\\Lib\\site-packages\\jupyter_contrib_nbextensions\\nbextensions\\spellchecker\\typo\\typo.js -> C:\\Users\\Allan\\AppData\\Roaming\\jupyter\\nbextensions\\spellchecker\\typo\\typo.js\n",
      "[I 09:04:47 InstallContribNbextensionsApp] Making directory: C:\\Users\\Allan\\AppData\\Roaming\\jupyter\\nbextensions\\spellchecker\\__pycache__\n",
      "[I 09:04:47 InstallContribNbextensionsApp] Copying: D:\\Anaconda3\\Lib\\site-packages\\jupyter_contrib_nbextensions\\nbextensions\\spellchecker\\__pycache__\\download_new_dict.cpython-311.pyc -> C:\\Users\\Allan\\AppData\\Roaming\\jupyter\\nbextensions\\spellchecker\\__pycache__\\download_new_dict.cpython-311.pyc\n",
      "[I 09:04:47 InstallContribNbextensionsApp] - Validating: ok\n",
      "[I 09:04:47 InstallContribNbextensionsApp] Installing D:\\Anaconda3\\Lib\\site-packages\\jupyter_contrib_nbextensions\\nbextensions\\splitcell -> splitcell\n",
      "[I 09:04:47 InstallContribNbextensionsApp] Making directory: C:\\Users\\Allan\\AppData\\Roaming\\jupyter\\nbextensions\\splitcell\\\n",
      "[I 09:04:47 InstallContribNbextensionsApp] Copying: D:\\Anaconda3\\Lib\\site-packages\\jupyter_contrib_nbextensions\\nbextensions\\splitcell\\icon.png -> C:\\Users\\Allan\\AppData\\Roaming\\jupyter\\nbextensions\\splitcell\\icon.png\n",
      "[I 09:04:47 InstallContribNbextensionsApp] Copying: D:\\Anaconda3\\Lib\\site-packages\\jupyter_contrib_nbextensions\\nbextensions\\splitcell\\readme.md -> C:\\Users\\Allan\\AppData\\Roaming\\jupyter\\nbextensions\\splitcell\\readme.md\n",
      "[I 09:04:47 InstallContribNbextensionsApp] Copying: D:\\Anaconda3\\Lib\\site-packages\\jupyter_contrib_nbextensions\\nbextensions\\splitcell\\splitcell.js -> C:\\Users\\Allan\\AppData\\Roaming\\jupyter\\nbextensions\\splitcell\\splitcell.js\n",
      "[I 09:04:47 InstallContribNbextensionsApp] Copying: D:\\Anaconda3\\Lib\\site-packages\\jupyter_contrib_nbextensions\\nbextensions\\splitcell\\splitcell.yaml -> C:\\Users\\Allan\\AppData\\Roaming\\jupyter\\nbextensions\\splitcell\\splitcell.yaml\n",
      "[I 09:04:47 InstallContribNbextensionsApp] - Validating: ok\n",
      "[I 09:04:47 InstallContribNbextensionsApp] Installing D:\\Anaconda3\\Lib\\site-packages\\jupyter_contrib_nbextensions\\nbextensions\\table_beautifier -> table_beautifier\n",
      "[I 09:04:47 InstallContribNbextensionsApp] Making directory: C:\\Users\\Allan\\AppData\\Roaming\\jupyter\\nbextensions\\table_beautifier\\\n",
      "[I 09:04:47 InstallContribNbextensionsApp] Copying: D:\\Anaconda3\\Lib\\site-packages\\jupyter_contrib_nbextensions\\nbextensions\\table_beautifier\\main.css -> C:\\Users\\Allan\\AppData\\Roaming\\jupyter\\nbextensions\\table_beautifier\\main.css\n",
      "[I 09:04:47 InstallContribNbextensionsApp] Copying: D:\\Anaconda3\\Lib\\site-packages\\jupyter_contrib_nbextensions\\nbextensions\\table_beautifier\\main.js -> C:\\Users\\Allan\\AppData\\Roaming\\jupyter\\nbextensions\\table_beautifier\\main.js\n",
      "[I 09:04:47 InstallContribNbextensionsApp] Copying: D:\\Anaconda3\\Lib\\site-packages\\jupyter_contrib_nbextensions\\nbextensions\\table_beautifier\\README.md -> C:\\Users\\Allan\\AppData\\Roaming\\jupyter\\nbextensions\\table_beautifier\\README.md\n",
      "[I 09:04:47 InstallContribNbextensionsApp] Copying: D:\\Anaconda3\\Lib\\site-packages\\jupyter_contrib_nbextensions\\nbextensions\\table_beautifier\\table_beautifier.yaml -> C:\\Users\\Allan\\AppData\\Roaming\\jupyter\\nbextensions\\table_beautifier\\table_beautifier.yaml\n",
      "[I 09:04:47 InstallContribNbextensionsApp] - Validating: ok\n",
      "[I 09:04:47 InstallContribNbextensionsApp] Installing D:\\Anaconda3\\Lib\\site-packages\\jupyter_contrib_nbextensions\\nbextensions\\toc2 -> toc2\n",
      "[I 09:04:47 InstallContribNbextensionsApp] Making directory: C:\\Users\\Allan\\AppData\\Roaming\\jupyter\\nbextensions\\toc2\\\n",
      "[I 09:04:47 InstallContribNbextensionsApp] Copying: D:\\Anaconda3\\Lib\\site-packages\\jupyter_contrib_nbextensions\\nbextensions\\toc2\\demo.gif -> C:\\Users\\Allan\\AppData\\Roaming\\jupyter\\nbextensions\\toc2\\demo.gif\n",
      "[I 09:04:47 InstallContribNbextensionsApp] Copying: D:\\Anaconda3\\Lib\\site-packages\\jupyter_contrib_nbextensions\\nbextensions\\toc2\\demo2.gif -> C:\\Users\\Allan\\AppData\\Roaming\\jupyter\\nbextensions\\toc2\\demo2.gif\n",
      "[I 09:04:47 InstallContribNbextensionsApp] Copying: D:\\Anaconda3\\Lib\\site-packages\\jupyter_contrib_nbextensions\\nbextensions\\toc2\\demo3.gif -> C:\\Users\\Allan\\AppData\\Roaming\\jupyter\\nbextensions\\toc2\\demo3.gif\n",
      "[I 09:04:47 InstallContribNbextensionsApp] Copying: D:\\Anaconda3\\Lib\\site-packages\\jupyter_contrib_nbextensions\\nbextensions\\toc2\\demo_dark.png -> C:\\Users\\Allan\\AppData\\Roaming\\jupyter\\nbextensions\\toc2\\demo_dark.png\n",
      "[I 09:04:47 InstallContribNbextensionsApp] Copying: D:\\Anaconda3\\Lib\\site-packages\\jupyter_contrib_nbextensions\\nbextensions\\toc2\\icon.png -> C:\\Users\\Allan\\AppData\\Roaming\\jupyter\\nbextensions\\toc2\\icon.png\n",
      "[I 09:04:47 InstallContribNbextensionsApp] Copying: D:\\Anaconda3\\Lib\\site-packages\\jupyter_contrib_nbextensions\\nbextensions\\toc2\\image.png -> C:\\Users\\Allan\\AppData\\Roaming\\jupyter\\nbextensions\\toc2\\image.png\n",
      "[I 09:04:47 InstallContribNbextensionsApp] Copying: D:\\Anaconda3\\Lib\\site-packages\\jupyter_contrib_nbextensions\\nbextensions\\toc2\\main.css -> C:\\Users\\Allan\\AppData\\Roaming\\jupyter\\nbextensions\\toc2\\main.css\n",
      "[I 09:04:47 InstallContribNbextensionsApp] Copying: D:\\Anaconda3\\Lib\\site-packages\\jupyter_contrib_nbextensions\\nbextensions\\toc2\\main.js -> C:\\Users\\Allan\\AppData\\Roaming\\jupyter\\nbextensions\\toc2\\main.js\n",
      "[I 09:04:47 InstallContribNbextensionsApp] Copying: D:\\Anaconda3\\Lib\\site-packages\\jupyter_contrib_nbextensions\\nbextensions\\toc2\\README.md -> C:\\Users\\Allan\\AppData\\Roaming\\jupyter\\nbextensions\\toc2\\README.md\n",
      "[I 09:04:47 InstallContribNbextensionsApp] Copying: D:\\Anaconda3\\Lib\\site-packages\\jupyter_contrib_nbextensions\\nbextensions\\toc2\\toc2.js -> C:\\Users\\Allan\\AppData\\Roaming\\jupyter\\nbextensions\\toc2\\toc2.js\n",
      "[I 09:04:47 InstallContribNbextensionsApp] Copying: D:\\Anaconda3\\Lib\\site-packages\\jupyter_contrib_nbextensions\\nbextensions\\toc2\\toc2.yaml -> C:\\Users\\Allan\\AppData\\Roaming\\jupyter\\nbextensions\\toc2\\toc2.yaml\n",
      "[I 09:04:47 InstallContribNbextensionsApp] - Validating: ok\n",
      "[I 09:04:47 InstallContribNbextensionsApp] Installing D:\\Anaconda3\\Lib\\site-packages\\jupyter_contrib_nbextensions\\nbextensions\\toggle_all_line_numbers -> toggle_all_line_numbers\n",
      "[I 09:04:47 InstallContribNbextensionsApp] Making directory: C:\\Users\\Allan\\AppData\\Roaming\\jupyter\\nbextensions\\toggle_all_line_numbers\\\n",
      "[I 09:04:47 InstallContribNbextensionsApp] Copying: D:\\Anaconda3\\Lib\\site-packages\\jupyter_contrib_nbextensions\\nbextensions\\toggle_all_line_numbers\\icon.png -> C:\\Users\\Allan\\AppData\\Roaming\\jupyter\\nbextensions\\toggle_all_line_numbers\\icon.png\n",
      "[I 09:04:47 InstallContribNbextensionsApp] Copying: D:\\Anaconda3\\Lib\\site-packages\\jupyter_contrib_nbextensions\\nbextensions\\toggle_all_line_numbers\\main.js -> C:\\Users\\Allan\\AppData\\Roaming\\jupyter\\nbextensions\\toggle_all_line_numbers\\main.js\n",
      "[I 09:04:47 InstallContribNbextensionsApp] Copying: D:\\Anaconda3\\Lib\\site-packages\\jupyter_contrib_nbextensions\\nbextensions\\toggle_all_line_numbers\\main.yaml -> C:\\Users\\Allan\\AppData\\Roaming\\jupyter\\nbextensions\\toggle_all_line_numbers\\main.yaml\n",
      "[I 09:04:47 InstallContribNbextensionsApp] Copying: D:\\Anaconda3\\Lib\\site-packages\\jupyter_contrib_nbextensions\\nbextensions\\toggle_all_line_numbers\\readme.md -> C:\\Users\\Allan\\AppData\\Roaming\\jupyter\\nbextensions\\toggle_all_line_numbers\\readme.md\n",
      "[I 09:04:47 InstallContribNbextensionsApp] - Validating: ok\n",
      "[I 09:04:47 InstallContribNbextensionsApp] Installing D:\\Anaconda3\\Lib\\site-packages\\jupyter_contrib_nbextensions\\nbextensions\\tree-filter -> tree-filter\n",
      "[I 09:04:47 InstallContribNbextensionsApp] Making directory: C:\\Users\\Allan\\AppData\\Roaming\\jupyter\\nbextensions\\tree-filter\\\n",
      "[I 09:04:47 InstallContribNbextensionsApp] Copying: D:\\Anaconda3\\Lib\\site-packages\\jupyter_contrib_nbextensions\\nbextensions\\tree-filter\\demo.gif -> C:\\Users\\Allan\\AppData\\Roaming\\jupyter\\nbextensions\\tree-filter\\demo.gif\n",
      "[I 09:04:47 InstallContribNbextensionsApp] Copying: D:\\Anaconda3\\Lib\\site-packages\\jupyter_contrib_nbextensions\\nbextensions\\tree-filter\\index.js -> C:\\Users\\Allan\\AppData\\Roaming\\jupyter\\nbextensions\\tree-filter\\index.js\n",
      "[I 09:04:47 InstallContribNbextensionsApp] Copying: D:\\Anaconda3\\Lib\\site-packages\\jupyter_contrib_nbextensions\\nbextensions\\tree-filter\\readme.md -> C:\\Users\\Allan\\AppData\\Roaming\\jupyter\\nbextensions\\tree-filter\\readme.md\n",
      "[I 09:04:47 InstallContribNbextensionsApp] Copying: D:\\Anaconda3\\Lib\\site-packages\\jupyter_contrib_nbextensions\\nbextensions\\tree-filter\\tree-filter.yaml -> C:\\Users\\Allan\\AppData\\Roaming\\jupyter\\nbextensions\\tree-filter\\tree-filter.yaml\n",
      "[I 09:04:47 InstallContribNbextensionsApp] - Validating: ok\n",
      "[I 09:04:47 InstallContribNbextensionsApp] Installing D:\\Anaconda3\\Lib\\site-packages\\jupyter_contrib_nbextensions\\nbextensions\\varInspector -> varInspector\n",
      "[I 09:04:47 InstallContribNbextensionsApp] Making directory: C:\\Users\\Allan\\AppData\\Roaming\\jupyter\\nbextensions\\varInspector\\\n",
      "[I 09:04:47 InstallContribNbextensionsApp] Copying: D:\\Anaconda3\\Lib\\site-packages\\jupyter_contrib_nbextensions\\nbextensions\\varInspector\\demo.gif -> C:\\Users\\Allan\\AppData\\Roaming\\jupyter\\nbextensions\\varInspector\\demo.gif\n",
      "[I 09:04:47 InstallContribNbextensionsApp] Copying: D:\\Anaconda3\\Lib\\site-packages\\jupyter_contrib_nbextensions\\nbextensions\\varInspector\\icon.png -> C:\\Users\\Allan\\AppData\\Roaming\\jupyter\\nbextensions\\varInspector\\icon.png\n",
      "[I 09:04:47 InstallContribNbextensionsApp] Copying: D:\\Anaconda3\\Lib\\site-packages\\jupyter_contrib_nbextensions\\nbextensions\\varInspector\\jquery.tablesorter.min.js -> C:\\Users\\Allan\\AppData\\Roaming\\jupyter\\nbextensions\\varInspector\\jquery.tablesorter.min.js\n",
      "[I 09:04:47 InstallContribNbextensionsApp] Copying: D:\\Anaconda3\\Lib\\site-packages\\jupyter_contrib_nbextensions\\nbextensions\\varInspector\\main.css -> C:\\Users\\Allan\\AppData\\Roaming\\jupyter\\nbextensions\\varInspector\\main.css\n",
      "[I 09:04:47 InstallContribNbextensionsApp] Copying: D:\\Anaconda3\\Lib\\site-packages\\jupyter_contrib_nbextensions\\nbextensions\\varInspector\\main.js -> C:\\Users\\Allan\\AppData\\Roaming\\jupyter\\nbextensions\\varInspector\\main.js\n",
      "[I 09:04:47 InstallContribNbextensionsApp] Copying: D:\\Anaconda3\\Lib\\site-packages\\jupyter_contrib_nbextensions\\nbextensions\\varInspector\\README.md -> C:\\Users\\Allan\\AppData\\Roaming\\jupyter\\nbextensions\\varInspector\\README.md\n",
      "[I 09:04:47 InstallContribNbextensionsApp] Copying: D:\\Anaconda3\\Lib\\site-packages\\jupyter_contrib_nbextensions\\nbextensions\\varInspector\\tablesorter_LICENSE.txt -> C:\\Users\\Allan\\AppData\\Roaming\\jupyter\\nbextensions\\varInspector\\tablesorter_LICENSE.txt\n",
      "[I 09:04:47 InstallContribNbextensionsApp] Copying: D:\\Anaconda3\\Lib\\site-packages\\jupyter_contrib_nbextensions\\nbextensions\\varInspector\\varInspector.yaml -> C:\\Users\\Allan\\AppData\\Roaming\\jupyter\\nbextensions\\varInspector\\varInspector.yaml\n",
      "[I 09:04:47 InstallContribNbextensionsApp] Copying: D:\\Anaconda3\\Lib\\site-packages\\jupyter_contrib_nbextensions\\nbextensions\\varInspector\\var_list.py -> C:\\Users\\Allan\\AppData\\Roaming\\jupyter\\nbextensions\\varInspector\\var_list.py\n",
      "[I 09:04:47 InstallContribNbextensionsApp] Copying: D:\\Anaconda3\\Lib\\site-packages\\jupyter_contrib_nbextensions\\nbextensions\\varInspector\\var_list.r -> C:\\Users\\Allan\\AppData\\Roaming\\jupyter\\nbextensions\\varInspector\\var_list.r\n",
      "[I 09:04:47 InstallContribNbextensionsApp] Making directory: C:\\Users\\Allan\\AppData\\Roaming\\jupyter\\nbextensions\\varInspector\\__pycache__\n",
      "[I 09:04:47 InstallContribNbextensionsApp] Copying: D:\\Anaconda3\\Lib\\site-packages\\jupyter_contrib_nbextensions\\nbextensions\\varInspector\\__pycache__\\var_list.cpython-311.pyc -> C:\\Users\\Allan\\AppData\\Roaming\\jupyter\\nbextensions\\varInspector\\__pycache__\\var_list.cpython-311.pyc\n",
      "[I 09:04:47 InstallContribNbextensionsApp] - Validating: ok\n",
      "[I 09:04:47 InstallContribNbextensionsApp] Installing D:\\Anaconda3\\Lib\\site-packages\\jupyter_contrib_nbextensions\\nbextensions\\zenmode -> zenmode\n",
      "[I 09:04:47 InstallContribNbextensionsApp] Making directory: C:\\Users\\Allan\\AppData\\Roaming\\jupyter\\nbextensions\\zenmode\\\n",
      "[I 09:04:47 InstallContribNbextensionsApp] Copying: D:\\Anaconda3\\Lib\\site-packages\\jupyter_contrib_nbextensions\\nbextensions\\zenmode\\main.css -> C:\\Users\\Allan\\AppData\\Roaming\\jupyter\\nbextensions\\zenmode\\main.css\n",
      "[I 09:04:47 InstallContribNbextensionsApp] Copying: D:\\Anaconda3\\Lib\\site-packages\\jupyter_contrib_nbextensions\\nbextensions\\zenmode\\main.js -> C:\\Users\\Allan\\AppData\\Roaming\\jupyter\\nbextensions\\zenmode\\main.js\n",
      "[I 09:04:47 InstallContribNbextensionsApp] Copying: D:\\Anaconda3\\Lib\\site-packages\\jupyter_contrib_nbextensions\\nbextensions\\zenmode\\README.md -> C:\\Users\\Allan\\AppData\\Roaming\\jupyter\\nbextensions\\zenmode\\README.md\n",
      "[I 09:04:47 InstallContribNbextensionsApp] Copying: D:\\Anaconda3\\Lib\\site-packages\\jupyter_contrib_nbextensions\\nbextensions\\zenmode\\zenmode.yaml -> C:\\Users\\Allan\\AppData\\Roaming\\jupyter\\nbextensions\\zenmode\\zenmode.yaml\n",
      "[I 09:04:47 InstallContribNbextensionsApp] Making directory: C:\\Users\\Allan\\AppData\\Roaming\\jupyter\\nbextensions\\zenmode\\images\n",
      "[I 09:04:47 InstallContribNbextensionsApp] Copying: D:\\Anaconda3\\Lib\\site-packages\\jupyter_contrib_nbextensions\\nbextensions\\zenmode\\images\\back1.jpg -> C:\\Users\\Allan\\AppData\\Roaming\\jupyter\\nbextensions\\zenmode\\images\\back1.jpg\n",
      "[I 09:04:47 InstallContribNbextensionsApp] Copying: D:\\Anaconda3\\Lib\\site-packages\\jupyter_contrib_nbextensions\\nbextensions\\zenmode\\images\\back11.jpg -> C:\\Users\\Allan\\AppData\\Roaming\\jupyter\\nbextensions\\zenmode\\images\\back11.jpg\n",
      "[I 09:04:47 InstallContribNbextensionsApp] Copying: D:\\Anaconda3\\Lib\\site-packages\\jupyter_contrib_nbextensions\\nbextensions\\zenmode\\images\\back12.jpg -> C:\\Users\\Allan\\AppData\\Roaming\\jupyter\\nbextensions\\zenmode\\images\\back12.jpg\n",
      "[I 09:04:47 InstallContribNbextensionsApp] Copying: D:\\Anaconda3\\Lib\\site-packages\\jupyter_contrib_nbextensions\\nbextensions\\zenmode\\images\\back2.jpg -> C:\\Users\\Allan\\AppData\\Roaming\\jupyter\\nbextensions\\zenmode\\images\\back2.jpg\n",
      "[I 09:04:47 InstallContribNbextensionsApp] Copying: D:\\Anaconda3\\Lib\\site-packages\\jupyter_contrib_nbextensions\\nbextensions\\zenmode\\images\\back21.jpg -> C:\\Users\\Allan\\AppData\\Roaming\\jupyter\\nbextensions\\zenmode\\images\\back21.jpg\n",
      "[I 09:04:47 InstallContribNbextensionsApp] Copying: D:\\Anaconda3\\Lib\\site-packages\\jupyter_contrib_nbextensions\\nbextensions\\zenmode\\images\\back22.jpg -> C:\\Users\\Allan\\AppData\\Roaming\\jupyter\\nbextensions\\zenmode\\images\\back22.jpg\n",
      "[I 09:04:47 InstallContribNbextensionsApp] Copying: D:\\Anaconda3\\Lib\\site-packages\\jupyter_contrib_nbextensions\\nbextensions\\zenmode\\images\\back3.jpg -> C:\\Users\\Allan\\AppData\\Roaming\\jupyter\\nbextensions\\zenmode\\images\\back3.jpg\n",
      "[I 09:04:47 InstallContribNbextensionsApp] Copying: D:\\Anaconda3\\Lib\\site-packages\\jupyter_contrib_nbextensions\\nbextensions\\zenmode\\images\\ipynblogo0.png -> C:\\Users\\Allan\\AppData\\Roaming\\jupyter\\nbextensions\\zenmode\\images\\ipynblogo0.png\n",
      "[I 09:04:47 InstallContribNbextensionsApp] Copying: D:\\Anaconda3\\Lib\\site-packages\\jupyter_contrib_nbextensions\\nbextensions\\zenmode\\images\\ipynblogo1.png -> C:\\Users\\Allan\\AppData\\Roaming\\jupyter\\nbextensions\\zenmode\\images\\ipynblogo1.png\n",
      "[I 09:04:47 InstallContribNbextensionsApp] - Validating: ok\n",
      "[I 09:04:47 InstallContribNbextensionsApp] Installing D:\\Anaconda3\\Lib\\site-packages\\jupyter_highlight_selected_word\\static\\highlight_selected_word -> highlight_selected_word\n",
      "[I 09:04:47 InstallContribNbextensionsApp] Making directory: C:\\Users\\Allan\\AppData\\Roaming\\jupyter\\nbextensions\\highlight_selected_word\\\n",
      "[I 09:04:47 InstallContribNbextensionsApp] Copying: D:\\Anaconda3\\Lib\\site-packages\\jupyter_highlight_selected_word\\static\\highlight_selected_word\\configurator.yaml -> C:\\Users\\Allan\\AppData\\Roaming\\jupyter\\nbextensions\\highlight_selected_word\\configurator.yaml\n",
      "[I 09:04:47 InstallContribNbextensionsApp] Copying: D:\\Anaconda3\\Lib\\site-packages\\jupyter_highlight_selected_word\\static\\highlight_selected_word\\main.js -> C:\\Users\\Allan\\AppData\\Roaming\\jupyter\\nbextensions\\highlight_selected_word\\main.js\n",
      "[I 09:04:47 InstallContribNbextensionsApp] Copying: D:\\Anaconda3\\Lib\\site-packages\\jupyter_highlight_selected_word\\static\\highlight_selected_word\\README.md -> C:\\Users\\Allan\\AppData\\Roaming\\jupyter\\nbextensions\\highlight_selected_word\\README.md\n",
      "[I 09:04:47 InstallContribNbextensionsApp] - Validating: ok\n",
      "[I 09:04:47 InstallContribNbextensionsApp] Installing jupyter_contrib_nbextensions items to config in C:\\Users\\Allan\\.jupyter\n",
      "Enabling: jupyter_nbextensions_configurator\n",
      "- Writing config: C:\\Users\\Allan\\.jupyter\n",
      "    - Validating...\n",
      "      jupyter_nbextensions_configurator 0.6.3 ok\n",
      "Enabling notebook nbextension nbextensions_configurator/config_menu/main...\n",
      "Enabling tree nbextension nbextensions_configurator/tree_tab/main...\n",
      "[I 09:04:47 InstallContribNbextensionsApp] Enabling notebook extension contrib_nbextensions_help_item/main...\n",
      "[I 09:04:47 InstallContribNbextensionsApp]       - Validating: ok\n",
      "[I 09:04:47 InstallContribNbextensionsApp] - Editing config: C:\\Users\\Allan\\.jupyter\\jupyter_nbconvert_config.json\n",
      "[I 09:04:47 InstallContribNbextensionsApp] --  Configuring nbconvert template path\n",
      "[I 09:04:47 InstallContribNbextensionsApp] --  Configuring nbconvert preprocessors\n",
      "[I 09:04:47 InstallContribNbextensionsApp] - Writing config: C:\\Users\\Allan\\.jupyter\\jupyter_nbconvert_config.json\n",
      "[I 09:04:47 InstallContribNbextensionsApp] --  Writing updated config file C:\\Users\\Allan\\.jupyter\\jupyter_nbconvert_config.json\n"
     ]
    }
   ],
   "source": [
    "!pip install jupyter_contrib_nbextensions\n",
    "!jupyter contrib nbextension install --user"
   ]
  },
  {
   "cell_type": "code",
   "execution_count": 3,
   "id": "f51a090e",
   "metadata": {
    "ExecuteTime": {
     "end_time": "2023-11-30T19:18:05.013688Z",
     "start_time": "2023-11-30T19:18:05.007182Z"
    }
   },
   "outputs": [
    {
     "data": {
      "application/javascript": [
       "\n",
       "var nbextensions_config = {\n",
       "  'load_extensions': {\n",
       "    'addbefore/main': false,\n",
       "    'autoscroll/main': false,\n",
       "    'autosavetime/main': false,\n",
       "    'cell_filter/cell_filter': true,\n",
       "    'code_font_size/code_font_size': false,\n",
       "    'code_prettify/2to3': false,\n",
       "    'code_prettify/autopep8': false,\n",
       "    'code_prettify/code_prettify': false,\n",
       "    'code_prettify/isort': false,\n",
       "    'codefolding/edit': true,\n",
       "    'codefolding/main': true,\n",
       "    'codemirror_mode_extensions/main': false,\n",
       "    'collapsible_headings/main': true,\n",
       "    'comment-uncomment/main': false,\n",
       "    'contrib_nbextensions_help_item/main': false,\n",
       "    'datestamper/main': false,\n",
       "    'equation-numbering/main': true,\n",
       "    'execute_time/ExecuteTime': true,\n",
       "    'exercise/main': false,\n",
       "    'exercise2/main': false,\n",
       "    'export_embedded/main': true,\n",
       "    'freeze/main': true,\n",
       "    'gist_it/main': false,\n",
       "    'go_to_current_running_cell/main': false,\n",
       "    'help_panel/help_panel': false,\n",
       "    'highlight_selected_word/main': true,\n",
       "    'highlighter/highlighter': true,\n",
       "    'jupyter-js-widgets/extension': false,\n",
       "    'jupyterlab-plotly/extension': true,\n",
       "    'keyboard_shortcut_editor/main': false,\n",
       "    'load_tex_macros/main': true,\n",
       "    'livemdpreview/livemdpreview': true,\n",
       "    'limit_output/main': false,\n",
       "    'move_selected_cells/main': false,\n",
       "    'nbTranslate/main': false,\n",
       "    'nbextensions_configurator/config_menu/main': true,\n",
       "    'nbextensions_configurator/tree_tab/main': true,\n",
       "    'navigation-hotkeys/main': false,\n",
       "    'notify/notify': false,\n",
       "    'printview/main': false,\n",
       "    'python-markdown/main': false,\n",
       "    'qtconsole/qtconsole': false,\n",
       "    'rise/main': true,\n",
       "    'rubberband/main': false,\n",
       "    'runtools/main': false,\n",
       "    'ruler/edit': false,\n",
       "    'ruler/main': false,\n",
       "    'scroll_down/main': false,\n",
       "    'scratchpad/main': false,\n",
       "    'select_keymap/main': false,\n",
       "    'skill/main': false,\n",
       "    'skip-traceback/main': false,\n",
       "    'snippets/main': false,\n",
       "    'snippets_menu/main': false,\n",
       "    'spellchecker/main': false,\n",
       "    'splitcell/splitcell': false,\n",
       "    'table_beautifier/main': false,\n",
       "    'toc2/main': false,\n",
       "    'toggle_all_line_numbers/main': true,\n",
       "    'tree-filter/index': false,\n",
       "    'varInspector/main': false,\n",
       "    'zenmode/main': false\n",
       "  },\n",
       "  'menu': {\n",
       "    'jupyter-js-widgets/extension': true,\n",
       "    'jupyterlab-plotly/extension': true,\n",
       "    'nbextensions_configurator/config_menu/main': true,\n",
       "    'rise/main': true\n",
       "  }\n",
       "};\n",
       "\n",
       "Jupyter.notebook.config.update(nbextensions_config);\n"
      ],
      "text/plain": [
       "<IPython.core.display.Javascript object>"
      ]
     },
     "metadata": {},
     "output_type": "display_data"
    }
   ],
   "source": [
    "%%javascript\n",
    "\n",
    "var nbextensions_config = {\n",
    "  'load_extensions': {\n",
    "    'addbefore/main': false,\n",
    "    'autoscroll/main': false,\n",
    "    'autosavetime/main': false,\n",
    "    'cell_filter/cell_filter': true,\n",
    "    'code_font_size/code_font_size': false,\n",
    "    'code_prettify/2to3': false,\n",
    "    'code_prettify/autopep8': false,\n",
    "    'code_prettify/code_prettify': false,\n",
    "    'code_prettify/isort': false,\n",
    "    'codefolding/edit': true,\n",
    "    'codefolding/main': true,\n",
    "    'codemirror_mode_extensions/main': false,\n",
    "    'collapsible_headings/main': true,\n",
    "    'comment-uncomment/main': false,\n",
    "    'contrib_nbextensions_help_item/main': false,\n",
    "    'datestamper/main': false,\n",
    "    'equation-numbering/main': true,\n",
    "    'execute_time/ExecuteTime': true,\n",
    "    'exercise/main': false,\n",
    "    'exercise2/main': false,\n",
    "    'export_embedded/main': true,\n",
    "    'freeze/main': true,\n",
    "    'gist_it/main': false,\n",
    "    'go_to_current_running_cell/main': false,\n",
    "    'help_panel/help_panel': false,\n",
    "    'highlight_selected_word/main': true,\n",
    "    'highlighter/highlighter': true,\n",
    "    'jupyter-js-widgets/extension': false,\n",
    "    'jupyterlab-plotly/extension': true,\n",
    "    'keyboard_shortcut_editor/main': false,\n",
    "    'load_tex_macros/main': true,\n",
    "    'livemdpreview/livemdpreview': true,\n",
    "    'limit_output/main': false,\n",
    "    'move_selected_cells/main': false,\n",
    "    'nbTranslate/main': false,\n",
    "    'nbextensions_configurator/config_menu/main': true,\n",
    "    'nbextensions_configurator/tree_tab/main': true,\n",
    "    'navigation-hotkeys/main': false,\n",
    "    'notify/notify': false,\n",
    "    'printview/main': false,\n",
    "    'python-markdown/main': false,\n",
    "    'qtconsole/qtconsole': false,\n",
    "    'rise/main': true,\n",
    "    'rubberband/main': false,\n",
    "    'runtools/main': false,\n",
    "    'ruler/edit': false,\n",
    "    'ruler/main': false,\n",
    "    'scroll_down/main': false,\n",
    "    'scratchpad/main': false,\n",
    "    'select_keymap/main': false,\n",
    "    'skill/main': false,\n",
    "    'skip-traceback/main': false,\n",
    "    'snippets/main': false,\n",
    "    'snippets_menu/main': false,\n",
    "    'spellchecker/main': false,\n",
    "    'splitcell/splitcell': false,\n",
    "    'table_beautifier/main': false,\n",
    "    'toc2/main': false,\n",
    "    'toggle_all_line_numbers/main': true,\n",
    "    'tree-filter/index': false,\n",
    "    'varInspector/main': false,\n",
    "    'zenmode/main': false\n",
    "  },\n",
    "  'menu': {\n",
    "    'jupyter-js-widgets/extension': true,\n",
    "    'jupyterlab-plotly/extension': true,\n",
    "    'nbextensions_configurator/config_menu/main': true,\n",
    "    'rise/main': true\n",
    "  }\n",
    "};\n",
    "\n",
    "Jupyter.notebook.config.update(nbextensions_config);"
   ]
  },
  {
   "cell_type": "markdown",
   "id": "cf113b96",
   "metadata": {},
   "source": [
    "## <div style=\"margin-top: -20px;\">\n",
    "<hr style=\"border: 2px solid blue;\">\n",
    "\n",
    "<font color='blue'><span style=\"font-size: 22px;\"><strong>Exercícios</strong></span></font>\n",
    "\n",
    "<hr style=\"border: 2px solid blue;\">\n",
    "</div>"
   ]
  },
  {
   "cell_type": "markdown",
   "id": "08bb6925",
   "metadata": {},
   "source": [
    "Nos exercícios, indicaremos a utilização do **Jupyter Notebook**. Contudo, é possível utilizar também o **Google Colab**."
   ]
  },
  {
   "cell_type": "markdown",
   "id": "e5e143b9",
   "metadata": {},
   "source": [
    "#### Exercício 1"
   ]
  },
  {
   "cell_type": "markdown",
   "id": "a3fa892d",
   "metadata": {},
   "source": [
    "Use a célula as células a seguir para calcular diretamente o valor das expressões:\n",
    "\n",
    "a) $2 + 5$\n",
    "\n",
    "b) $3 - 5 + 6 \\cdot 2$\n",
    "\n",
    "c) $\\frac{2 + 8}{5} \\cdot 3$\n",
    "\n",
    "d) $\\frac{\\left(2^{3} - \\frac{16}{4}\\right)^{2}}{2}$\n",
    "\n",
    "*Dica: Use $*$ para calcular o produto e $**$ para calcular a potência.*"
   ]
  },
  {
   "cell_type": "code",
   "execution_count": null,
   "id": "51d25edd",
   "metadata": {},
   "outputs": [],
   "source": [
    "# a)\n",
    "\n"
   ]
  },
  {
   "cell_type": "code",
   "execution_count": null,
   "id": "be67fba6",
   "metadata": {},
   "outputs": [],
   "source": [
    "# b)\n",
    "\n"
   ]
  },
  {
   "cell_type": "code",
   "execution_count": null,
   "id": "2a4fe450",
   "metadata": {},
   "outputs": [],
   "source": [
    "# c)\n",
    "\n"
   ]
  },
  {
   "cell_type": "code",
   "execution_count": null,
   "id": "e169a2d6",
   "metadata": {},
   "outputs": [],
   "source": [
    "# d)\n",
    "\n"
   ]
  },
  {
   "cell_type": "markdown",
   "id": "1454aa7f",
   "metadata": {},
   "source": [
    "#### Exercício 2"
   ]
  },
  {
   "cell_type": "markdown",
   "id": "927f1a75",
   "metadata": {},
   "source": [
    "Armazene as expressões do **Exercício 1** utilizando as variáveis $x1$, $x2$, $x3$ e $x4$ respectivamente. Caso já tenha armazenado os resultados em variáveis no **Exercício 1** ignore este exercício."
   ]
  },
  {
   "cell_type": "code",
   "execution_count": null,
   "id": "d7455f4e",
   "metadata": {},
   "outputs": [],
   "source": [
    "# a)\n",
    "\n"
   ]
  },
  {
   "cell_type": "code",
   "execution_count": null,
   "id": "fd6fc2f3",
   "metadata": {},
   "outputs": [],
   "source": [
    "# b)\n",
    "\n"
   ]
  },
  {
   "cell_type": "code",
   "execution_count": null,
   "id": "b4b7db6f",
   "metadata": {},
   "outputs": [],
   "source": [
    "# c)\n",
    "\n"
   ]
  },
  {
   "cell_type": "code",
   "execution_count": null,
   "id": "6c51aedc",
   "metadata": {},
   "outputs": [],
   "source": [
    "# d)\n",
    "\n"
   ]
  },
  {
   "cell_type": "markdown",
   "id": "786ed8a1",
   "metadata": {},
   "source": [
    "#### Exercício 3"
   ]
  },
  {
   "cell_type": "markdown",
   "id": "aa12301d",
   "metadata": {},
   "source": [
    "Aproveitando os valores do **Exercício 2**, calcule a expressão a seguir:\n",
    "\n",
    "$$(x1 + 2\\cdot x3) - x2 \\cdot x4$$\n",
    "\n",
    "armazenando o valor de saída na variável **resultado**. Em seguida imprima o valor desta variável."
   ]
  },
  {
   "cell_type": "code",
   "execution_count": null,
   "id": "982baf48",
   "metadata": {},
   "outputs": [],
   "source": [
    "# Resposta\n",
    "\n"
   ]
  },
  {
   "cell_type": "markdown",
   "id": "44457dfe",
   "metadata": {},
   "source": [
    "### <div style=\"margin-top: -20px;\">\n",
    "<hr style=\"border: 2px solid blue;\">\n",
    "\n",
    "<font color='blue'><span style=\"font-size: 18px;\"><strong>Soluções dos Exercícios</strong></span></font>\n",
    "\n",
    "<hr style=\"border: 2px solid blue;\">\n",
    "</div>"
   ]
  },
  {
   "cell_type": "markdown",
   "id": "b3f721cd",
   "metadata": {},
   "source": [
    "#### Solução do Exercício 1"
   ]
  },
  {
   "cell_type": "code",
   "execution_count": null,
   "id": "9bfd35ff",
   "metadata": {
    "ExecuteTime": {
     "end_time": "2023-09-12T12:03:27.308086Z",
     "start_time": "2023-09-12T12:03:27.276261Z"
    }
   },
   "outputs": [],
   "source": [
    "# a)\n",
    "\n",
    "2+5"
   ]
  },
  {
   "cell_type": "code",
   "execution_count": null,
   "id": "c9fadaab",
   "metadata": {
    "ExecuteTime": {
     "end_time": "2023-09-12T12:03:44.631964Z",
     "start_time": "2023-09-12T12:03:44.627331Z"
    }
   },
   "outputs": [],
   "source": [
    "# b)\n",
    "\n",
    "3-5+6*2"
   ]
  },
  {
   "cell_type": "code",
   "execution_count": null,
   "id": "4e0c2e85",
   "metadata": {
    "ExecuteTime": {
     "end_time": "2023-09-12T12:04:12.224797Z",
     "start_time": "2023-09-12T12:04:12.219082Z"
    }
   },
   "outputs": [],
   "source": [
    "# c)\n",
    "\n",
    "((2+8)/5)*3"
   ]
  },
  {
   "cell_type": "code",
   "execution_count": null,
   "id": "9f062d3a",
   "metadata": {
    "ExecuteTime": {
     "end_time": "2023-09-12T12:04:52.872456Z",
     "start_time": "2023-09-12T12:04:52.866737Z"
    }
   },
   "outputs": [],
   "source": [
    "# d)\n",
    "\n",
    "((2**3 - 16/4)**2)/2"
   ]
  },
  {
   "cell_type": "markdown",
   "id": "2661bf39",
   "metadata": {},
   "source": [
    "#### Solução do Exercício 2"
   ]
  },
  {
   "cell_type": "code",
   "execution_count": null,
   "id": "1785933f",
   "metadata": {
    "ExecuteTime": {
     "end_time": "2023-09-12T12:06:55.783521Z",
     "start_time": "2023-09-12T12:06:55.780676Z"
    }
   },
   "outputs": [],
   "source": [
    "# a)\n",
    "\n",
    "x1 = 2+5"
   ]
  },
  {
   "cell_type": "code",
   "execution_count": null,
   "id": "d5f4daee",
   "metadata": {
    "ExecuteTime": {
     "end_time": "2023-09-12T12:06:57.015127Z",
     "start_time": "2023-09-12T12:06:57.011480Z"
    }
   },
   "outputs": [],
   "source": [
    "# b) \n",
    "\n",
    "x2 = 3-5+6*2"
   ]
  },
  {
   "cell_type": "code",
   "execution_count": null,
   "id": "a90576e7",
   "metadata": {
    "ExecuteTime": {
     "end_time": "2023-09-12T12:06:58.215117Z",
     "start_time": "2023-09-12T12:06:58.210776Z"
    }
   },
   "outputs": [],
   "source": [
    "# c)\n",
    "\n",
    "x3 = ((2+8)/5)*3"
   ]
  },
  {
   "cell_type": "code",
   "execution_count": null,
   "id": "644581a4",
   "metadata": {
    "ExecuteTime": {
     "end_time": "2023-09-12T12:06:59.342990Z",
     "start_time": "2023-09-12T12:06:59.339804Z"
    }
   },
   "outputs": [],
   "source": [
    "# d)\n",
    "\n",
    "x4 = ((2**3 - 16/4)**2)/2"
   ]
  },
  {
   "cell_type": "markdown",
   "id": "e88e70a9",
   "metadata": {},
   "source": [
    "#### Solução do Exercício 3"
   ]
  },
  {
   "cell_type": "code",
   "execution_count": null,
   "id": "82129ec5",
   "metadata": {
    "ExecuteTime": {
     "end_time": "2023-09-12T12:09:04.312971Z",
     "start_time": "2023-09-12T12:09:04.308966Z"
    }
   },
   "outputs": [],
   "source": [
    "resultado = (x1+2*x3)-x2*x4"
   ]
  },
  {
   "cell_type": "code",
   "execution_count": null,
   "id": "6dd3e8bf",
   "metadata": {
    "ExecuteTime": {
     "end_time": "2023-09-12T12:09:39.961594Z",
     "start_time": "2023-09-12T12:09:39.956169Z"
    }
   },
   "outputs": [],
   "source": [
    "print(resultado)"
   ]
  }
 ],
 "metadata": {
  "kernelspec": {
   "display_name": "Python 3 (ipykernel)",
   "language": "python",
   "name": "python3"
  },
  "language_info": {
   "codemirror_mode": {
    "name": "ipython",
    "version": 3
   },
   "file_extension": ".py",
   "mimetype": "text/x-python",
   "name": "python",
   "nbconvert_exporter": "python",
   "pygments_lexer": "ipython3",
   "version": "3.11.5"
  },
  "varInspector": {
   "cols": {
    "lenName": 16,
    "lenType": 16,
    "lenVar": 40
   },
   "kernels_config": {
    "python": {
     "delete_cmd_postfix": "",
     "delete_cmd_prefix": "del ",
     "library": "var_list.py",
     "varRefreshCmd": "print(var_dic_list())"
    },
    "r": {
     "delete_cmd_postfix": ") ",
     "delete_cmd_prefix": "rm(",
     "library": "var_list.r",
     "varRefreshCmd": "cat(var_dic_list()) "
    }
   },
   "types_to_exclude": [
    "module",
    "function",
    "builtin_function_or_method",
    "instance",
    "_Feature"
   ],
   "window_display": false
  }
 },
 "nbformat": 4,
 "nbformat_minor": 5
}
