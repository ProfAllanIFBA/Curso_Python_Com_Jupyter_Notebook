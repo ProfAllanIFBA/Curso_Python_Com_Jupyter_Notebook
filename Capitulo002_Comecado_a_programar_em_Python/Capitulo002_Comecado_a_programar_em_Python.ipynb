{
 "cells": [
  {
   "cell_type": "markdown",
   "id": "9df8585c",
   "metadata": {
    "slideshow": {
     "slide_type": "slide"
    }
   },
   "source": [
    "<center> <img src=\"logo_ifba.jpg\" alt=\"jpg_python\" width=\"100\" height=\"\"> </center>\n",
    "<br><br>\n",
    "<center> <img src=\"logo_coext.jpg\" alt=\"jpg_python\" width=\"200\" height=\"\"> </center>\n",
    "<br><br>\n",
    "<div align=\"center\"><span style=\"font-size: 26px;\"><strong>Python Com Jupyter Notebook</strong></span></div><br><br>\n",
    "<center><div style=\"text-align:center\">    <a href=\"https://colab.research.google.com/github/ProfAllanIFBA/Curso_Python_Com_Jupyter_Notebook/blob/main/Capitulo002_Comecado_a_programar_em_Python/Capitulo002_Comecado_a_programar_em_Python.ipynb\">Link Colab</a> \n",
    "</div><br><br></center>\n",
    "<center> <img src=\"python_gif.gif\" alt=\"gif_python\" width=\"80\"> </center>"
   ]
  },
  {
   "cell_type": "markdown",
   "id": "326ee360",
   "metadata": {},
   "source": [
    "Este material apresenta uma explicação detalhada sobre o uso do software de programação em Python chamado Jupyter Notebook, com foco na análise de dados. Abordaremos desde estruturas básicas, como listas e dicionários, até estruturas mais complexas voltadas para a análise de dados, como pandas e seaborn, além de ferramentas destinadas à inteligência artificial.\n",
    "\n",
    "\n",
    "<font color='red'> <u>Este é um material de uso público e totalmente gratuito</u>. Contudo, eventuais edições são de responsabilidade de quem as fizer. </font>\n",
    "\n",
    "Você pode ajudar a melhorar este material!\n",
    "\n",
    "Contato e Sugestões: allansoares@ifba.edu.br.\n",
    "\n",
    "[**Equipe Executora**](https://github.com/ProfAllanIFBA/Curso_Python_Com_Jupyter_Notebook/blob/main/Capitulo000_Equipe/Capitulo000_Equipe.ipynb)"
   ]
  },
  {
   "cell_type": "markdown",
   "id": "38f49536",
   "metadata": {},
   "source": [
    "### <center> <font color='red'> Vídeo Aulas <img src=\"youtube.gif\" alt=\"jpg_python\" width=\"100\" height=\"\"> </font> </center>"
   ]
  },
  {
   "cell_type": "markdown",
   "id": "02467301",
   "metadata": {},
   "source": [
    "[Começando Pelo Básico](https://youtu.be/IQBgaDTm4ks)\n",
    "\n",
    "[Explorando Um Código Jupyter Particionado](https://youtu.be/s0hH_TcWQTs)\n",
    "\n",
    "[Indentação em Python](https://youtu.be/UA6WqgJV8Xk)\n",
    "\n",
    "[Erros em Python](https://youtu.be/VOUo55_hG_s)\n",
    "\n",
    "[Encurtando um Código Usando  List Comprehension](https://youtu.be/aqv3uzCw1YQ)\n",
    "\n",
    "[Usando o ChatGPT em Programação](https://youtu.be/y7q5gtEFT_o)"
   ]
  },
  {
   "cell_type": "markdown",
   "id": "36e6ec44",
   "metadata": {},
   "source": [
    "<div style=\"border: 2px solid black; padding: 10px; width: 100%; background-color: lightgray; display: flex; align-items: center;\">\n",
    "    <h1 style=\"color: red; text-align: center; margin: auto;\">\n",
    "        Capítulo 2: Começando a programar em Python\n",
    "    </h1>\n",
    "</div>\n",
    "\n",
    "<font color='red'></font>\n",
    "<a href=\"\"></a>"
   ]
  },
  {
   "cell_type": "markdown",
   "id": "e050cffd",
   "metadata": {
    "slideshow": {
     "slide_type": "slide"
    }
   },
   "source": [
    "## <div style=\"margin-top: -20px;\">\n",
    "<hr style=\"border: 2px solid blue;\">\n",
    "\n",
    "<font color='blue'><span style=\"font-size: 22px;\"><strong>2.1 Começando Pelo Básico</strong></span></font>\n",
    "\n",
    "<hr style=\"border: 2px solid blue;\">\n",
    "</div>"
   ]
  },
  {
   "cell_type": "markdown",
   "id": "c21709a9",
   "metadata": {},
   "source": [
    "Uma das coisas mais frustrantes ao começar a programar em algumas linguagens é o tempo que leva para conseguir executar o primeiro programa, seja ele somar dois números ou imprimir uma mensagem de texto na tela. Pelo menos foi assim comigo em algumas linguagens. No entanto, em Python, a experiência é bem diferente. Basta clicar na célula mais \n",
    "abaixo e, em seguida, clicar em \"Run\" no menu superior."
   ]
  },
  {
   "cell_type": "code",
   "execution_count": null,
   "id": "269beaca",
   "metadata": {
    "ExecuteTime": {
     "end_time": "2023-08-29T21:05:58.360999Z",
     "start_time": "2023-08-29T21:05:58.347053Z"
    },
    "code_folding": [],
    "scrolled": true,
    "slideshow": {
     "slide_type": "slide"
    }
   },
   "outputs": [],
   "source": [
    "# Somando dois valores (clique no botão Run)\n",
    "1 + 2"
   ]
  },
  {
   "cell_type": "markdown",
   "id": "8cc94118",
   "metadata": {},
   "source": [
    "A saída **<font color='red'> Out[x]</font>** pode conter diferentes tipos de informações, dependendo do código executado na célula. Pode ser o resultado de uma expressão matemática, a resposta de uma consulta a uma API, uma visualização gráfica ou até mesmo uma mensagem de texto. Em geral, utilizamos a função **<font color='green'> print</font>** para exibir um resultado na tela. Isso se torna especialmente útil quando lidamos com variáveis armazenadas, pois o valor delas não é exibido automaticamente, a menos que sejamos específicos ao chamar sua exibição."
   ]
  },
  {
   "cell_type": "markdown",
   "id": "da070a56",
   "metadata": {},
   "source": [
    "Em Python, o símbolo **<font color='green'>#</font>** é usado para iniciar um comentário em uma linha de código. Um comentário é uma parte do código que é ignorada pelo interpretador Python e serve apenas como uma explicação ou anotação para os humanos que leem o código."
   ]
  },
  {
   "cell_type": "code",
   "execution_count": null,
   "id": "326130fe",
   "metadata": {
    "ExecuteTime": {
     "end_time": "2023-08-29T21:05:58.389930Z",
     "start_time": "2023-08-29T21:05:58.364988Z"
    },
    "slideshow": {
     "slide_type": "slide"
    }
   },
   "outputs": [],
   "source": [
    "# Amazenando a soma em uma variável (novamente, clique no botão Run)\n",
    "soma = 1+2"
   ]
  },
  {
   "cell_type": "markdown",
   "id": "a58ff668",
   "metadata": {
    "slideshow": {
     "slide_type": "subslide"
    }
   },
   "source": [
    "Note que, na execução do codigo acima nada foi nos mostrado na tela. Esperavámos uma saída \"3\", correto? Sim,  correto. O valor 3 foi armazenado na variável **soma**. Para vê-lo basta aplicar a função print."
   ]
  },
  {
   "cell_type": "code",
   "execution_count": null,
   "id": "5d2f26ef",
   "metadata": {
    "ExecuteTime": {
     "end_time": "2023-08-29T21:05:58.399884Z",
     "start_time": "2023-08-29T21:05:58.391905Z"
    },
    "slideshow": {
     "slide_type": "subslide"
    }
   },
   "outputs": [],
   "source": [
    "# Imprimindo a variável soma (não se esqueça de executar a célula acima.)\n",
    "print(soma)"
   ]
  },
  {
   "cell_type": "markdown",
   "id": "f5047ac7",
   "metadata": {},
   "source": [
    "## <div style=\"margin-top: -20px;\">\n",
    "<hr style=\"border: 2px solid blue;\">\n",
    "\n",
    "<font color='blue'><span style=\"font-size: 22px;\"><strong>2.2 Explorando Um Exemplo Dividido Em Células</strong></span></font>\n",
    "\n",
    "<hr style=\"border: 2px solid blue;\">\n",
    "</div>"
   ]
  },
  {
   "cell_type": "markdown",
   "id": "efac0d98",
   "metadata": {},
   "source": [
    "O exemplo a seguir apresenta-se dividido em células separadas."
   ]
  },
  {
   "cell_type": "markdown",
   "id": "236c6fce",
   "metadata": {},
   "source": [
    "#### *Exemplo: Código particionado*"
   ]
  },
  {
   "cell_type": "code",
   "execution_count": null,
   "id": "fa3ebb25",
   "metadata": {
    "ExecuteTime": {
     "end_time": "2023-08-29T21:05:58.407875Z",
     "start_time": "2023-08-29T21:05:58.403874Z"
    }
   },
   "outputs": [],
   "source": [
    "# Criar uma lista de números de 1 a 10\n",
    "lista_numeros = list(range(1,11))"
   ]
  },
  {
   "cell_type": "markdown",
   "id": "13371613",
   "metadata": {},
   "source": [
    "Em Python, <u>listas</u> são estruturas de dados que nos permitem armazenar e organizar informações de uma determinada maneira. Considerando a lista acima podemos, por exemplo, buscar e imprimir todos os números pares presentes nela."
   ]
  },
  {
   "cell_type": "code",
   "execution_count": null,
   "id": "a59123e5",
   "metadata": {
    "ExecuteTime": {
     "end_time": "2023-08-29T21:05:58.416838Z",
     "start_time": "2023-08-29T21:05:58.409858Z"
    }
   },
   "outputs": [],
   "source": [
    "# Imprimir a lista criada na célula acima\n",
    "print(lista_numeros)"
   ]
  },
  {
   "cell_type": "code",
   "execution_count": null,
   "id": "36081e1b",
   "metadata": {
    "ExecuteTime": {
     "end_time": "2023-08-29T21:05:58.425815Z",
     "start_time": "2023-08-29T21:05:58.419830Z"
    }
   },
   "outputs": [],
   "source": [
    "# Percorre a lista e verifica se cada número é par (observando o resto da divisão por 2)\n",
    "\n",
    "for numero in lista_numeros:    # Cria uma estrutura de repetição para percorrer a lista\n",
    "    if numero % 2 == 0: # Verifica se o número é divisível por 2, ou seja, se é par\n",
    "        print(numero)   # Imprime todos os números cujo resto da divisão por 2 seja igual a 0"
   ]
  },
  {
   "cell_type": "markdown",
   "id": "094f814e",
   "metadata": {},
   "source": [
    "Essa divisão em células facilita o entendimento das diferentes etapas do código e nos auxilia a identificar como cada parte contribui para o resultado final."
   ]
  },
  {
   "cell_type": "markdown",
   "id": "37fd935e",
   "metadata": {},
   "source": [
    "## <div style=\"margin-top: -20px;\">\n",
    "<hr style=\"border: 2px solid blue;\">\n",
    "\n",
    "<font color='blue'><span style=\"font-size: 22px;\"><strong>2.3 Indentação</strong></span></font>\n",
    "\n",
    "<hr style=\"border: 2px solid blue;\">\n",
    "</div>\n"
   ]
  },
  {
   "cell_type": "markdown",
   "id": "d6d5853b",
   "metadata": {},
   "source": [
    "Em Python, a <u>indentação</u> é um elemento fundamental da sintaxe da linguagem, e é usada para delimitar blocos de código em um programa. A indentação refere-se ao espaçamento ou recuo de um bloco de código em relação à margem esquerda da página."
   ]
  },
  {
   "cell_type": "code",
   "execution_count": null,
   "id": "8bef484b",
   "metadata": {
    "ExecuteTime": {
     "end_time": "2023-08-29T21:05:58.434791Z",
     "start_time": "2023-08-29T21:05:58.427809Z"
    },
    "code_folding": []
   },
   "outputs": [],
   "source": [
    "# Lista de valores inteiros\n",
    "lista = [1,2,3,5,6,8,10]\n",
    "\n",
    "# Percorre a lista e imprime todos os inteiros divisíveis por \n",
    "for numero in lista:    #cria uma estrutura para percorrer a lista\n",
    "if numero %2 == 0:      #percorre a lista calculando o resto da divisão por 2 \n",
    "        print(numero)   #imprime todos os número cujo resto seja igual a 2"
   ]
  },
  {
   "cell_type": "markdown",
   "id": "14a7e547",
   "metadata": {},
   "source": [
    "O código apresentado possui um problema de indentação, o que resulta em um erro de sintaxe. Observe que a estrutura de controle **<font color='green'>if</font>** está com um nível de indentação incorreto em relação ao bloco de código **<font color='green'>for</font>**, o que pode causar um erro de sintaxe. O Python utiliza a indentação para delimitar blocos de código, ou seja, para indicar quais instruções estão dentro de cada estrutura de controle (for, if, while, etc.). Quando o bloco de código do if não está corretamente indentado em relação for (código interno), o interpretador do Python não consegue compreender a estrutura do programa e retorna um erro de sintaxe."
   ]
  },
  {
   "cell_type": "markdown",
   "id": "53e479dd",
   "metadata": {},
   "source": [
    "## <div style=\"margin-top: -20px;\">\n",
    "<hr style=\"border: 2px solid blue;\">\n",
    "\n",
    "<font color='blue'><span style=\"font-size: 22px;\"><strong>2.4 Erros em Python</strong></span></font>\n",
    "\n",
    "<hr style=\"border: 2px solid blue;\">\n",
    "</div>"
   ]
  },
  {
   "cell_type": "markdown",
   "id": "b96c71ac",
   "metadata": {},
   "source": [
    "Quando um código Python é executado, o interpretador analisa cada linha em busca de erros. Se detectar problemas, ele mostra uma mensagem indicando o tipo e local do erro. Há vários erros possíveis, como de sintaxe, nomeação, tipo e lógica. Abaixo, listamos alguns erros frequentes sinalizados pelo Python:"
   ]
  },
  {
   "cell_type": "markdown",
   "id": "56d150ea",
   "metadata": {},
   "source": [
    "### Erros de sintaxe "
   ]
  },
  {
   "cell_type": "markdown",
   "id": "ab7f5a8c",
   "metadata": {},
   "source": [
    "O Python é rigoroso quanto à sintaxe correta do código. Se você esquecer de fechar um parêntese, usar uma palavra-chave de maneira incorreta ou não respeitar a indentação adequada, o Python emitirá uma mensagem de erro indicando exatamente onde ocorreu o problema."
   ]
  },
  {
   "cell_type": "code",
   "execution_count": null,
   "id": "a66681c0",
   "metadata": {
    "ExecuteTime": {
     "end_time": "2023-08-29T21:05:58.436787Z",
     "start_time": "2023-08-29T21:05:58.436787Z"
    }
   },
   "outputs": [],
   "source": [
    "# Código com erro de sintaxe\n",
    "print(1"
   ]
  },
  {
   "cell_type": "markdown",
   "id": "f18efb8b",
   "metadata": {},
   "source": [
    "### Erros de indentação "
   ]
  },
  {
   "cell_type": "markdown",
   "id": "721457bb",
   "metadata": {},
   "source": [
    "O <u>erro de indentação</u> é um tipo comum de erro em Python que ocorre quando a estruturação do código com espaços ou tabulações está incorreta. Em Python, a indentação correta é fundamental, pois ela define os blocos de código e determina a estrutura lógica do programa."
   ]
  },
  {
   "cell_type": "code",
   "execution_count": null,
   "id": "cce0bf4a",
   "metadata": {
    "ExecuteTime": {
     "end_time": "2023-08-29T21:05:58.438781Z",
     "start_time": "2023-08-29T21:05:58.438781Z"
    }
   },
   "outputs": [],
   "source": [
    "# código com erro de indetação\n",
    "numero = 4\n",
    "if numero % 2 == 0:  #verifica se o resto da divisão do 'numero' por 2 é 0\n",
    "print(numero)   #imprime o resultado"
   ]
  },
  {
   "cell_type": "markdown",
   "id": "e3ca821b",
   "metadata": {},
   "source": [
    "### Erros de nome de variável ou função"
   ]
  },
  {
   "cell_type": "markdown",
   "id": "3868cfc1",
   "metadata": {},
   "source": [
    "Se você tentar usar uma variável ou função que não foi definida anteriormente ou se referir a um nome incorreto, o Python informará que o nome não está definido ou que ocorreu uma referência não encontrada."
   ]
  },
  {
   "cell_type": "code",
   "execution_count": null,
   "id": "e797bafe",
   "metadata": {
    "ExecuteTime": {
     "end_time": "2023-08-29T21:05:58.439778Z",
     "start_time": "2023-08-29T21:05:58.439778Z"
    }
   },
   "outputs": [],
   "source": [
    "# Código chamando variável não definida\n",
    "mensagem = \"Olá, Mundo!\"\n",
    "print(menssagem)"
   ]
  },
  {
   "cell_type": "markdown",
   "id": "a88a7f18",
   "metadata": {},
   "source": [
    "### Erros de tipo"
   ]
  },
  {
   "cell_type": "markdown",
   "id": "83c2eed3",
   "metadata": {},
   "source": [
    "Python é uma linguagem de programação com tipagem dinâmica. No entanto, se você tentar realizar operações incompatíveis entre diferentes tipos de dados, como somar uma string e um número, o Python irá apontar o erro e fornecer uma mensagem explicando a incompatibilidade de tipos."
   ]
  },
  {
   "cell_type": "code",
   "execution_count": null,
   "id": "0b6607db",
   "metadata": {
    "ExecuteTime": {
     "end_time": "2023-08-29T21:05:58.441772Z",
     "start_time": "2023-08-29T21:05:58.441772Z"
    }
   },
   "outputs": [],
   "source": [
    "# Código contendo erro de tipo\n",
    "numero1 = 10\n",
    "numero2 = \"5\"\n",
    "soma = numero1 + numero2\n",
    "print(soma)"
   ]
  },
  {
   "cell_type": "markdown",
   "id": "f3a0c6ac",
   "metadata": {},
   "source": [
    "### Erros de lógica"
   ]
  },
  {
   "cell_type": "markdown",
   "id": "b1b08847",
   "metadata": {},
   "source": [
    "Esses erros ocorrem quando a lógica do código não está correta, resultando em comportamentos indesejados. Embora o Python não seja capaz de detectar automaticamente erros de lógica, ele pode auxiliar na identificação desses erros por meio de mensagens de erro ou resultados inesperados durante a execução do código. Esses erros estão entre os mais desafiadores e complexos de solucionar."
   ]
  },
  {
   "cell_type": "code",
   "execution_count": null,
   "id": "a1c69bd8",
   "metadata": {
    "ExecuteTime": {
     "end_time": "2023-08-29T21:05:58.443767Z",
     "start_time": "2023-08-29T21:05:58.443767Z"
    }
   },
   "outputs": [],
   "source": [
    "# Cálculo incorreto da média de uma lista de números\n",
    "\n",
    "numeros = [10, 20, 30, 40, 50]\n",
    "soma = 0\n",
    "i = 1\n",
    "\n",
    "for numero in numeros:\n",
    "    soma = soma + numero\n",
    "    i = i+1\n",
    "\n",
    "media = soma / i\n",
    "print(\"A média é:\", media)"
   ]
  },
  {
   "cell_type": "markdown",
   "id": "8bfbaaf8",
   "metadata": {
    "ExecuteTime": {
     "end_time": "2023-06-24T13:24:41.370319Z",
     "start_time": "2023-06-24T13:24:41.351320Z"
    }
   },
   "source": [
    "Neste exemplo, há um erro de lógica na fórmula para calcular a média. Em vez de dividir a soma pelo número total de elementos, obtido, por exemplo, usando \"len(numeros)\", o código realiza a divisão pela quantidade de vezes que o loop é executado (neste caso, o número de elementos na lista). Isso resultará em uma média incorreta. Para corrigir o erro, a fórmula correta para calcular a média seria soma / len(numeros)."
   ]
  },
  {
   "cell_type": "code",
   "execution_count": null,
   "id": "aaaf4331",
   "metadata": {
    "ExecuteTime": {
     "end_time": "2023-08-29T21:05:58.445763Z",
     "start_time": "2023-08-29T21:05:58.445763Z"
    }
   },
   "outputs": [],
   "source": [
    "# Cálculo correto da média de uma lista de números\n",
    "\n",
    "numeros = [10, 20, 30, 40, 50]\n",
    "soma = 0\n",
    "\n",
    "for numero in numeros:\n",
    "    soma = soma + numero\n",
    "\n",
    "media = soma / len(numeros)\n",
    "print(\"A média é:\", media)\n"
   ]
  },
  {
   "cell_type": "markdown",
   "id": "f3b76b2b",
   "metadata": {},
   "source": [
    "Os erros citados acima são apenas alguns do erros mais comuns. Outros erros são: **Erros de Índice**, **Erros de Atributo**, **Erros de Importação** etc..."
   ]
  },
  {
   "cell_type": "markdown",
   "id": "ac1d7f04",
   "metadata": {},
   "source": [
    "## <div style=\"margin-top: -20px;\">\n",
    "<hr style=\"border: 2px solid blue;\">\n",
    "\n",
    "<font color='blue'><span style=\"font-size: 22px;\"><strong>2.5 Encurtando os Códigos (expertise)</strong></span></font>\n",
    "\n",
    "<hr style=\"border: 2px solid blue;\">\n",
    "</div>"
   ]
  },
  {
   "cell_type": "markdown",
   "id": "63526309",
   "metadata": {},
   "source": [
    "Escrever um código mais curto pode torná-lo mais legível e eficiente em termos de tempo de processamento em muitos casos. No entanto, reduzir o tamanho do código pode ser um desafio para iniciantes na programação. Veremos esse tópico (*list comprehension*) mais a frente neste curso. Por enquanto, vamos apenas examinar o seguinte exemplo:"
   ]
  },
  {
   "cell_type": "code",
   "execution_count": null,
   "id": "6b03e33a",
   "metadata": {
    "ExecuteTime": {
     "end_time": "2023-08-29T21:05:58.447756Z",
     "start_time": "2023-08-29T21:05:58.447756Z"
    }
   },
   "outputs": [],
   "source": [
    "# Percorre a lista e verifica se cada número é par\n",
    "\n",
    "lista = list(range(1,11))\n",
    "for numero in lista:    #cria uma estrutura para percorrer a lista\n",
    "    if numero % 2 == 0:  #percorre a lista calculando o resto da divisão por 2 \n",
    "        print(numero)   #imprime todos os número cujo resto seja igual a 2"
   ]
  },
  {
   "cell_type": "code",
   "execution_count": null,
   "id": "f289c9f7",
   "metadata": {
    "ExecuteTime": {
     "end_time": "2023-08-29T21:05:58.448754Z",
     "start_time": "2023-08-29T21:05:58.448754Z"
    }
   },
   "outputs": [],
   "source": [
    "# Programa que exibe uma lista contendo todos os números pares entre 1 e 10\n",
    "\n",
    "pares = [numero for numero in range(1,11) if numero %2 == 0]\n",
    "print(pares)"
   ]
  },
  {
   "cell_type": "markdown",
   "id": "63bff5a6",
   "metadata": {},
   "source": [
    "Note que ambos códigos acima fazem essencialmente a mesma coisa, porém, com escritas diferentes. O segundo faz a mesma tarefa que o primeiro em praticamente uma linha de código."
   ]
  },
  {
   "cell_type": "markdown",
   "id": "4dd7aef5",
   "metadata": {},
   "source": [
    "## <div style=\"margin-top: -20px;\">\n",
    "<hr style=\"border: 2px solid blue;\">\n",
    "\n",
    "<font color='blue'><span style=\"font-size: 22px;\"><strong>2.6 Usando o ChatGPT </strong></span></font>\n",
    "\n",
    "<hr style=\"border: 2px solid blue;\">\n",
    "</div>"
   ]
  },
  {
   "cell_type": "markdown",
   "id": "428f3be7",
   "metadata": {},
   "source": [
    "O <u>ChatGPT</u> é um modelo de linguagem AI desenvolvido pela OpenAI, baseado na arquitetura GPT (Generative Pretrained Transformer). Ele foi treinado em uma grande quantidade de dados da internet e é capaz de gerar respostas humanas a perguntas e comandos em uma conversa."
   ]
  },
  {
   "cell_type": "markdown",
   "id": "dc433bba",
   "metadata": {},
   "source": [
    "O ChatGPT pode ser usado para uma variedade de aplicações, incluindo redação assistida, aprendizado e prática de idiomas, programação assistida por AI, tutoria em várias disciplinas, jogos de RPG e muito mais. O modelo não é perfeito e pode cometer erros ou gerar informações imprecisas. No entanto, é uma ferramenta poderosa que pode ser utilizada para ajudar nas tarefas de comunicação e criação de texto. **Esta material é um exemplo de apostila produzida por programação assistida por AI**."
   ]
  },
  {
   "cell_type": "markdown",
   "id": "7a5a7440",
   "metadata": {},
   "source": [
    "O GPT-3.5/4 (atualmente) é uma ferramenta útil para auxiliar no processo de programação. Embora não seja uma ferramenta específica de programação ela fornecer suporte e insights em diversas áreas relacionadas à programação. Aqui estão algumas maneiras que o GPT pode ser útil:"
   ]
  },
  {
   "cell_type": "markdown",
   "id": "267b5d3c",
   "metadata": {},
   "source": [
    "- **Assistência na solução de problemas:** O GPT pode ajudar a identificar e resolver problemas em seu código. Se você estiver enfrentando dificuldades em encontrar a causa de um erro ou precisar de uma abordagem para resolver um desafio específico, ele pode oferecer sugestões e direcionamentos."
   ]
  },
  {
   "cell_type": "markdown",
   "id": "ded50a23",
   "metadata": {},
   "source": [
    "- **Explicação de conceitos:** Ele pode fornecer explicações e definições claras de conceitos de programação. Se você encontrar um termo desconhecido ou precisar entender melhor um conceito específico, ele pode oferecer uma explicação detalhada para ajudar a aprimorar seu conhecimento."
   ]
  },
  {
   "cell_type": "markdown",
   "id": "8fc14ab9",
   "metadata": {},
   "source": [
    "- **Geração de código:** Ele pode gerar trechos de código com base nas instruções que você fornecer. Por exemplo, se você precisa de uma função específica ou deseja explorar uma abordagem para um problema, ele poderá ajudá-lo a criar um código inicial para você desenvolver a partir dele."
   ]
  },
  {
   "cell_type": "markdown",
   "id": "51560c35",
   "metadata": {},
   "source": [
    "- **Sugestões e boas práticas:** Ele oferecer sugestões e melhores práticas para melhorar a qualidade do seu código. Isso pode incluir otimização, organização, estruturação adequada do código, manipulação eficiente de dados e outras dicas úteis para aprimorar suas habilidades de programação."
   ]
  },
  {
   "cell_type": "markdown",
   "id": "e6d65acd",
   "metadata": {},
   "source": [
    "- **Expansão de conhecimento:** Ele pode fornecer informações e exemplos de diferentes linguagens de programação, bibliotecas e frameworks. Se você estiver interessado em aprender sobre novas tecnologias ou explorar diferentes abordagens, ele pode fornecer insights e recursos para ajudar no seu aprendizado."
   ]
  },
  {
   "cell_type": "markdown",
   "id": "d2a8837f",
   "metadata": {},
   "source": [
    "### <div style=\"margin-top: -20px;\">\n",
    "<hr style=\"border: 2px solid blue;\">\n",
    "\n",
    "<font color='blue'><span style=\"font-size: 18px;\"><strong>2.6.1 Exemplificando de Uso do Chat GPT</strong></span></font>\n",
    "\n",
    "<hr style=\"border: 2px solid blue;\">\n",
    "</div>"
   ]
  },
  {
   "cell_type": "markdown",
   "id": "1ea7c41b",
   "metadata": {},
   "source": [
    "Navegue até o endereço: https://chat.openai.com/ e inicie uma nova conversa. Por exemplo, solicite ao chat GPT os dois códigos que aparecem a seguir:"
   ]
  },
  {
   "cell_type": "code",
   "execution_count": null,
   "id": "7b3fcebc",
   "metadata": {
    "ExecuteTime": {
     "end_time": "2023-08-29T21:05:58.450748Z",
     "start_time": "2023-08-29T21:05:58.450748Z"
    }
   },
   "outputs": [],
   "source": [
    "# GPT, gostaria de um programa que imprime os números pares entre 1 e 10"
   ]
  },
  {
   "cell_type": "code",
   "execution_count": null,
   "id": "4ea35577",
   "metadata": {
    "ExecuteTime": {
     "end_time": "2023-08-29T21:05:58.452743Z",
     "start_time": "2023-08-29T21:05:58.452743Z"
    }
   },
   "outputs": [],
   "source": [
    "# GPT, gostaria de um programa que percorra uma lista imprimindo todos os números pares"
   ]
  },
  {
   "cell_type": "markdown",
   "id": "5cbf8d9f",
   "metadata": {},
   "source": [
    "#####  <div style=\"width: 50%; height: 4px; background-color: red;\"> <br> <font color='red'>Cuidado!!!</font> </div>  \n",
    "<br>"
   ]
  },
  {
   "cell_type": "markdown",
   "id": "b63e7982",
   "metadata": {},
   "source": [
    "Ao usar o ChatGPT, é importante lembrar que ele é uma ferramenta, e que você é o piloto da sua jornada de programação. Isso significa que você sempre tem controle sobre o processo de programação, e o ChatGPT está lá para ajudar a facilitar esse processo."
   ]
  },
  {
   "cell_type": "markdown",
   "id": "382a82ba",
   "metadata": {},
   "source": [
    "<div style=\"width: 50%; height: 4px; background-color: red;\"></div> "
   ]
  },
  {
   "cell_type": "markdown",
   "id": "cb26ebb2",
   "metadata": {},
   "source": [
    "## <div style=\"margin-top: -20px;\">\n",
    "<hr style=\"border: 2px solid blue;\">\n",
    "\n",
    "<font color='blue'><span style=\"font-size: 22px;\"><strong>Exercícios</strong></span></font>\n",
    "\n",
    "<hr style=\"border: 2px solid blue;\">\n",
    "</div>"
   ]
  },
  {
   "cell_type": "markdown",
   "id": "347fba9a",
   "metadata": {},
   "source": [
    "#### Exercício 1 (tente não usar o ChatGPT)"
   ]
  },
  {
   "cell_type": "markdown",
   "id": "f2d6ab54",
   "metadata": {},
   "source": [
    "Corrija os códigos a seguir removendo os erros:"
   ]
  },
  {
   "cell_type": "markdown",
   "id": "abe6368d",
   "metadata": {},
   "source": [
    "##### Código 1"
   ]
  },
  {
   "cell_type": "code",
   "execution_count": null,
   "id": "17704528",
   "metadata": {
    "ExecuteTime": {
     "end_time": "2023-09-12T12:18:32.905513Z",
     "start_time": "2023-09-12T12:18:32.901462Z"
    }
   },
   "outputs": [],
   "source": [
    "# Imprimindo a palavra casa\n",
    "\n",
    "print(\"casa\"]"
   ]
  },
  {
   "cell_type": "code",
   "execution_count": null,
   "id": "232759e1",
   "metadata": {},
   "outputs": [],
   "source": [
    "# Correção\n",
    "\n"
   ]
  },
  {
   "cell_type": "markdown",
   "id": "fe9b2dbd",
   "metadata": {},
   "source": [
    "##### Código 2"
   ]
  },
  {
   "cell_type": "code",
   "execution_count": null,
   "id": "e47d6925",
   "metadata": {},
   "outputs": [],
   "source": [
    "# Imprimindo a soma de número -3 e 4 \n",
    "\n",
    "a = -3\n",
    "b = \"4\"\n",
    "\n",
    "print(a+b)"
   ]
  },
  {
   "cell_type": "code",
   "execution_count": null,
   "id": "8b219001",
   "metadata": {},
   "outputs": [],
   "source": [
    "# Correção\n",
    "\n"
   ]
  },
  {
   "cell_type": "markdown",
   "id": "e3ab51a9",
   "metadata": {},
   "source": [
    "##### Código 3"
   ]
  },
  {
   "cell_type": "code",
   "execution_count": null,
   "id": "2f70facf",
   "metadata": {},
   "outputs": [],
   "source": [
    "# Formando o número 1335 a partir dos números 13 e 35.\n",
    "\n",
    "a = 13\n",
    "b = 35\n",
    "\n",
    "print(a+b)"
   ]
  },
  {
   "cell_type": "code",
   "execution_count": null,
   "id": "ba6421e5",
   "metadata": {},
   "outputs": [],
   "source": [
    "# Correção\n",
    "\n"
   ]
  },
  {
   "cell_type": "markdown",
   "id": "64462ebc",
   "metadata": {},
   "source": [
    "##### Código 4"
   ]
  },
  {
   "cell_type": "code",
   "execution_count": null,
   "id": "9a010c17",
   "metadata": {
    "ExecuteTime": {
     "end_time": "2023-09-12T12:23:14.798179Z",
     "start_time": "2023-09-12T12:23:14.767145Z"
    }
   },
   "outputs": [],
   "source": [
    "# Verificando se a entrada x1 é par com mensagem de saída (mude os valores de x1)\n",
    "\n",
    "x1 = 4\n",
    "\n",
    "if x1%2 == 0:\n",
    "    print(x1 é par)"
   ]
  },
  {
   "cell_type": "code",
   "execution_count": null,
   "id": "8591e97c",
   "metadata": {},
   "outputs": [],
   "source": [
    "# Correção\n",
    "\n"
   ]
  },
  {
   "cell_type": "markdown",
   "id": "7d730eb9",
   "metadata": {},
   "source": [
    "##### Código 5"
   ]
  },
  {
   "cell_type": "code",
   "execution_count": 2,
   "id": "f7c96a96",
   "metadata": {
    "ExecuteTime": {
     "end_time": "2023-09-16T12:57:00.387353Z",
     "start_time": "2023-09-16T12:57:00.382068Z"
    }
   },
   "outputs": [
    {
     "ename": "IndentationError",
     "evalue": "expected an indented block after 'if' statement on line 5 (1431305348.py, line 6)",
     "output_type": "error",
     "traceback": [
      "\u001b[1;36m  Cell \u001b[1;32mIn[2], line 6\u001b[1;36m\u001b[0m\n\u001b[1;33m    print(numero)   #imprime todos os número cujo resto seja igual a 2\u001b[0m\n\u001b[1;37m    ^\u001b[0m\n\u001b[1;31mIndentationError\u001b[0m\u001b[1;31m:\u001b[0m expected an indented block after 'if' statement on line 5\n"
     ]
    }
   ],
   "source": [
    "# Percorre a lista e verifica se cada número é par\n",
    "\n",
    "lista = list(range(1,11))\n",
    "for numero in lista:    #cria uma estrutura para percorrer a lista\n",
    "    if numero % 2 = 0:  #percorre a lista calculando o resto da divisão por 2 \n",
    "        print(numero)   #imprime todos os número cujo resto seja igual a 2"
   ]
  },
  {
   "cell_type": "code",
   "execution_count": null,
   "id": "fbd0b179",
   "metadata": {},
   "outputs": [],
   "source": [
    "# Correção\n",
    "\n"
   ]
  },
  {
   "cell_type": "markdown",
   "id": "8a6d9c12",
   "metadata": {},
   "source": [
    "#### Exercício 2"
   ]
  },
  {
   "cell_type": "markdown",
   "id": "e17ae495",
   "metadata": {},
   "source": [
    "Use o ChatGPT para corrigir os códigos apresentados no **Exercício 1** e observe as correções propostas por você. Use por exemplo, o prompt *Esse código \"códio copiado\" deu esse erro \"erro copiado\"*. O código deve ir com os comentários."
   ]
  },
  {
   "cell_type": "code",
   "execution_count": null,
   "id": "bc6128e0",
   "metadata": {},
   "outputs": [],
   "source": [
    "# Correção do Código 1\n",
    "\n"
   ]
  },
  {
   "cell_type": "code",
   "execution_count": null,
   "id": "27903824",
   "metadata": {},
   "outputs": [],
   "source": [
    "# Correção do Código 2\n",
    "\n"
   ]
  },
  {
   "cell_type": "code",
   "execution_count": null,
   "id": "81633ac2",
   "metadata": {},
   "outputs": [],
   "source": [
    "# Correção do Código 3\n",
    "\n"
   ]
  },
  {
   "cell_type": "code",
   "execution_count": null,
   "id": "ed78cff6",
   "metadata": {},
   "outputs": [],
   "source": [
    "# Correção do Código 4\n",
    "\n"
   ]
  },
  {
   "cell_type": "code",
   "execution_count": null,
   "id": "dea37b4f",
   "metadata": {},
   "outputs": [],
   "source": [
    "# Correção do Código 5\n",
    "\n"
   ]
  },
  {
   "cell_type": "markdown",
   "id": "0f2eaa52",
   "metadata": {},
   "source": [
    "### <div style=\"margin-top: -20px;\">\n",
    "<hr style=\"border: 2px solid blue;\">\n",
    "\n",
    "<font color='blue'><span style=\"font-size: 18px;\"><strong>Soluções dos Exercícios</strong></span></font>\n",
    "\n",
    "<hr style=\"border: 2px solid blue;\">\n",
    "</div>"
   ]
  },
  {
   "cell_type": "markdown",
   "id": "62f8c159",
   "metadata": {},
   "source": [
    "#### Solução do Exercício 1"
   ]
  },
  {
   "cell_type": "markdown",
   "id": "1444a64c",
   "metadata": {
    "ExecuteTime": {
     "end_time": "2023-09-12T12:32:11.906308Z",
     "start_time": "2023-09-12T12:32:11.902905Z"
    }
   },
   "source": [
    "##### Código 1"
   ]
  },
  {
   "cell_type": "markdown",
   "id": "94609e54",
   "metadata": {},
   "source": [
    "Troque o \"]\" ao final do print por \")\"."
   ]
  },
  {
   "cell_type": "code",
   "execution_count": null,
   "id": "57988095",
   "metadata": {
    "ExecuteTime": {
     "end_time": "2023-09-12T12:40:25.754359Z",
     "start_time": "2023-09-12T12:40:25.750723Z"
    }
   },
   "outputs": [],
   "source": [
    "# Imprimindo a palavra casa\n",
    "\n",
    "print(\"casa\")"
   ]
  },
  {
   "cell_type": "markdown",
   "id": "d79b83de",
   "metadata": {
    "ExecuteTime": {
     "end_time": "2023-09-12T12:32:19.745497Z",
     "start_time": "2023-09-12T12:32:19.742271Z"
    }
   },
   "source": [
    "##### Código 2"
   ]
  },
  {
   "cell_type": "markdown",
   "id": "4b7f608e",
   "metadata": {},
   "source": [
    "Retir as aspas da entrada \"4\" da variável \"b\"."
   ]
  },
  {
   "cell_type": "code",
   "execution_count": null,
   "id": "4eccd89d",
   "metadata": {
    "ExecuteTime": {
     "end_time": "2023-09-12T12:40:24.098465Z",
     "start_time": "2023-09-12T12:40:24.094308Z"
    }
   },
   "outputs": [],
   "source": [
    "# Imprimindo a soma de número -3 e 4 \n",
    "\n",
    "a = -3\n",
    "b = 4\n",
    "\n",
    "print(a+b)"
   ]
  },
  {
   "cell_type": "markdown",
   "id": "920b49e3",
   "metadata": {},
   "source": [
    "##### Código 3"
   ]
  },
  {
   "cell_type": "markdown",
   "id": "29fc7e64",
   "metadata": {},
   "source": [
    "Coloque aspas nos números $13$ e $35$ para obter a concatenação dos valores."
   ]
  },
  {
   "cell_type": "code",
   "execution_count": null,
   "id": "134c06b5",
   "metadata": {
    "ExecuteTime": {
     "end_time": "2023-09-12T12:40:22.177912Z",
     "start_time": "2023-09-12T12:40:22.174178Z"
    }
   },
   "outputs": [],
   "source": [
    "# Formando o número 1335 a partir dos números 13 e 35.\n",
    "\n",
    "a = \"13\"\n",
    "b = \"35\"\n",
    "\n",
    "print(a+b)"
   ]
  },
  {
   "cell_type": "markdown",
   "id": "c4d779f3",
   "metadata": {},
   "source": [
    "##### Código 4"
   ]
  },
  {
   "cell_type": "markdown",
   "id": "2ad66ce8",
   "metadata": {},
   "source": [
    "Coloque aspas ao redor de **x1 é par**."
   ]
  },
  {
   "cell_type": "code",
   "execution_count": null,
   "id": "68359913",
   "metadata": {
    "ExecuteTime": {
     "end_time": "2023-09-12T12:40:20.442552Z",
     "start_time": "2023-09-12T12:40:20.438900Z"
    }
   },
   "outputs": [],
   "source": [
    "# Verificando se a entrada x1 é par com mensagem de saída (mude os valores de x1)\n",
    "\n",
    "x1 = 4\n",
    "\n",
    "if x1%2 == 0:\n",
    "    print(\"x1 é par\")"
   ]
  },
  {
   "cell_type": "markdown",
   "id": "3ae36dd5",
   "metadata": {},
   "source": [
    "##### Código 5"
   ]
  },
  {
   "cell_type": "markdown",
   "id": "f555ef3d",
   "metadata": {},
   "source": [
    "Repasse o = para == na linha do **if**."
   ]
  },
  {
   "cell_type": "code",
   "execution_count": null,
   "id": "30d098cd",
   "metadata": {
    "ExecuteTime": {
     "end_time": "2023-09-12T12:40:19.085434Z",
     "start_time": "2023-09-12T12:40:19.079496Z"
    }
   },
   "outputs": [],
   "source": [
    "# Percorre a lista e verifica se cada número é divisível por 3\n",
    "\n",
    "lista = list(range(1,16))\n",
    "for numero in lista:    #cria uma estrutura para percorrer a lista\n",
    "    if numero % 3 == 0:  #percorre a lista calculando o resto da divisão por 3 \n",
    "        print(numero)   #imprime todos os número cujo resto seja igual a 3"
   ]
  },
  {
   "cell_type": "markdown",
   "id": "308d7b16",
   "metadata": {},
   "source": [
    "#### Solução do Exercício 2"
   ]
  },
  {
   "cell_type": "markdown",
   "id": "5b07b335",
   "metadata": {},
   "source": [
    "Usamos o seguite prompt:<br><br>\n",
    "<center> <img src=\"img1_cap2.jpg\" alt=\"jpg_python\" width=\"600\" height=\"\"> </center><br>\n",
    "e obtivemos a seguinte saída:<br><br>\n",
    "<center> <img src=\"img2_cap2.jpg\" alt=\"jpg_python\" width=\"600\" height=\"\"> </center><br>\n",
    "Não é fantástico? Ainda te explica o erro!"
   ]
  },
  {
   "cell_type": "markdown",
   "id": "4af25b3d",
   "metadata": {},
   "source": [
    "#####  <div style=\"width: 50%; height: 4px; background-color: red;\"> <br> <font color='red'>Cuidado!!!</font> </div>  \n",
    "<br>"
   ]
  },
  {
   "cell_type": "markdown",
   "id": "c268e120",
   "metadata": {},
   "source": [
    "Na grande maioria dos casos, ao se tratar de correção de códigos de Python de pequena extensão e que apresentam erros básicos, como sintaxe incorreta ou variáveis não definidas, o ChatGPT tem um índice de acerto que se aproxima de $100%$. Essa precisão elevada torna a ferramenta uma aliada valiosa, principalmente para programadores iniciantes ou para aqueles que estão procurando identificar e corrigir falhas pequenas, mas impactantes, em seus códigos.\n",
    "\n",
    "Entretanto, ao lidarmos com solicitações de códigos que englobam tarefas mais complexas e multifacetadas, a margem de erro aumenta significativamente. Nessas situações, podem ocorrer problemas diversos durante a execução, além da possibilidade de receber respostas que não estão alinhadas com o resultado esperado. Este cenário sublinha uma premissa importante: é fundamental que o usuário possua uma compreensão sólida sobre a lógica de programação e as especificidades da linguagem Python para poder utilizar o ChatGPT de maneira eficaz e segura.\n",
    "\n",
    "Por isso, ao fazer uso do ChatGPT no processo de desenvolvimento de software, é prudente adotar uma abordagem crítica e analítica. É aconselhável testar o código gerado em diferentes cenários e com diversos conjuntos de entradas de teste para garantir que o programa funciona conforme o esperado e atende a todos os requisitos de desempenho e segurança.\n",
    "\n",
    "Além disso, é útil lembrar que, sendo uma IA de linguagem natural, o ChatGPT pode, ocasionalmente, não compreender completamente requisitos complexos ou mal definidos. Assim, ao formular suas solicitações, procure ser tão claro e preciso quanto possível, definindo de antemão todas as variáveis envolvidas e esclarecendo o contexto e o objetivo do código que deseja criar.\n",
    "\n",
    "Em suma, enquanto o ChatGPT é uma ferramenta poderosa e útil, seu uso eficaz na programação em Python ainda requer um nível substancial de conhecimento e expertise por parte do usuário, para garantir resultados precisos e seguros."
   ]
  },
  {
   "cell_type": "markdown",
   "id": "935b84b3",
   "metadata": {},
   "source": [
    "###### Olhe o truque!"
   ]
  },
  {
   "cell_type": "markdown",
   "id": "09966346",
   "metadata": {},
   "source": [
    "O texto acima foi produzido pelo ChatGPT a partir do prompt a seguir:<br><br>\n",
    "<center> <img src=\"img3_cap2.jpg\" alt=\"jpg_python\" width=\"600\" height=\"\"> </center><br>\n",
    "E a saída caso não tenha acreditado...<br><br>\n",
    "<center> <img src=\"img4_cap2.jpg\" alt=\"jpg_python\" width=\"600\" height=\"\"> </center><br>\n",
    "\n",
    "O texto parece apresentar uma análise acertada e bem consistente. No entanto, é crucial examinar cada detalhe das informações apresentadas. Na matemática e na programação, este processo é muitas vezes facilitado pela natureza lógica e determinística dessas disciplinas. Por exemplo, se sabemos que ao inserir **a** como entrada, o resultado esperado é **b**, então qualquer output **c** que seja diferente de **b** pode ser imediatamente identificado como incorreto. Este princípio, de validação através de testes de inputs e outputs esperados, é uma estratégia fundamental na identificação e correção de erros, e sublinha a importância de se ter um entendimento claro dos resultados que se espera obter em cada parte do código."
   ]
  },
  {
   "cell_type": "markdown",
   "id": "dfb89c64",
   "metadata": {},
   "source": [
    "<div style=\"width: 50%; height: 4px; background-color: red;\"></div> "
   ]
  }
 ],
 "metadata": {
  "kernelspec": {
   "display_name": "Python 3 (ipykernel)",
   "language": "python",
   "name": "python3"
  },
  "language_info": {
   "codemirror_mode": {
    "name": "ipython",
    "version": 3
   },
   "file_extension": ".py",
   "mimetype": "text/x-python",
   "name": "python",
   "nbconvert_exporter": "python",
   "pygments_lexer": "ipython3",
   "version": "3.11.5"
  },
  "varInspector": {
   "cols": {
    "lenName": 16,
    "lenType": 16,
    "lenVar": 40
   },
   "kernels_config": {
    "python": {
     "delete_cmd_postfix": "",
     "delete_cmd_prefix": "del ",
     "library": "var_list.py",
     "varRefreshCmd": "print(var_dic_list())"
    },
    "r": {
     "delete_cmd_postfix": ") ",
     "delete_cmd_prefix": "rm(",
     "library": "var_list.r",
     "varRefreshCmd": "cat(var_dic_list()) "
    }
   },
   "types_to_exclude": [
    "module",
    "function",
    "builtin_function_or_method",
    "instance",
    "_Feature"
   ],
   "window_display": false
  }
 },
 "nbformat": 4,
 "nbformat_minor": 5
}
