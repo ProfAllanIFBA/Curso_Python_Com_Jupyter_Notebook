{
 "cells": [
  {
   "cell_type": "markdown",
   "id": "a528f222",
   "metadata": {
    "ExecuteTime": {
     "end_time": "2023-06-02T00:00:53.336839Z",
     "start_time": "2023-06-02T00:00:53.330832Z"
    },
    "slideshow": {
     "slide_type": "slide"
    }
   },
   "source": [
    "<center> <img src=\"logo_ifba.jpg\" alt=\"jpg_python\" width=\"100\" height=\"\"> </center>\n",
    "<br><br>\n",
    "<center> <img src=\"logo_coext.jpg\" alt=\"jpg_python\" width=\"200\" height=\"\"> </center>\n",
    "<br><br>\n",
    "<div align=\"center\"><span style=\"font-size: 26px;\"><strong>Python Com Jupyter Notebook</strong></span></div><br><br>\n",
    "<center><div style=\"text-align:center\">    <a href=\"https://colab.research.google.com/github/ProfAllanIFBA/Curso_Python_Com_Jupyter_Notebook/blob/main/Capitulo003_Personalizacao_do_Ambiente_Jupyter_Notebook/Capitulo003_Personalizacao_do_Ambiente_Jupyter_Notebook.ipynb\">Link Colab</a> \n",
    "</div><br><br></center>\n",
    "<center> <img src=\"python_gif.gif\" alt=\"gif_python\" width=\"80\"> </center>"
   ]
  },
  {
   "cell_type": "markdown",
   "id": "b8d1c3d2",
   "metadata": {},
   "source": [
    "Este material apresenta uma explicação detalhada sobre o uso do software de programação em Python chamado Jupyter Notebook, com foco na análise de dados. Abordaremos desde estruturas básicas, como listas e dicionários, até estruturas mais complexas voltadas para a análise de dados, como pandas e seaborn, além de ferramentas destinadas à inteligência artificial.\n",
    "\n",
    "\n",
    "<font color='red'> <u>Este é um material de uso público e totalmente gratuito</u>. Contudo, eventuais edições são de responsabilidade de quem as fizer. </font>\n",
    "\n",
    "Você pode ajudar a melhorar este material!\n",
    "\n",
    "Contato e Sugestões: allansoares@ifba.edu.br.\n",
    "\n",
    "[**Equipe Executora**](https://github.com/ProfAllanIFBA/Curso_Python_Com_Jupyter_Notebook/blob/main/Capitulo000_Equipe/Capitulo000_Equipe.ipynb)"
   ]
  },
  {
   "cell_type": "markdown",
   "id": "38f49536",
   "metadata": {},
   "source": [
    "### <center> <font color='red'> Vídeo Aulas <img src=\"youtube.gif\" alt=\"jpg_python\" width=\"100\" height=\"\"> </font> </center>"
   ]
  },
  {
   "cell_type": "markdown",
   "id": "02467301",
   "metadata": {},
   "source": [
    "[Personalização do Ambiente Jupyter Notebook](https://youtu.be/vFHQ9hzbfGo)\n",
    "\n",
    "[Inserindo Texto No Jupyter Notebook ](https://youtu.be/FYt1SI2ZZOI)\n",
    "\n",
    "[Alterando a Cor do Texto no Jupyter Notebook](https://youtu.be/_S1fHP1wd_w)\n",
    "\n",
    "[Marcações de Texto e Outras Formatacões No Jupyter Notebook](https://youtu.be/fKuedQZUCJA)\n",
    "\n",
    "[Escrita em Níveis no Jupyter Notebook](https://youtu.be/Es4sQlEPPgA)\n",
    "\n",
    "[Escrevendo em Estilo LaTex no Jupyter Notebook](https://youtu.be/cqUXeA1WWto)\n",
    "\n",
    "[Inserção de Imagens, GIFs e Hyperlinks no Jupyter Notebook](https://youtu.be/zWwbPObOYJM)\n",
    "\n",
    "[Modo Apresentação no Jupyter Notebook](https://youtu.be/FbzgNFYnMOo)\n",
    "\n",
    "[Extensões no Jupyter Notebook](https://youtu.be/AP-9zRxFypQ)\n",
    "\n",
    "[Considerações Sobre a Formatação do Texto no Google Colab](https://youtu.be/lXh62XGDZkE)"
   ]
  },
  {
   "cell_type": "markdown",
   "id": "a6f02e0f",
   "metadata": {
    "slideshow": {
     "slide_type": "slide"
    }
   },
   "source": [
    "<div style=\"border: 2px solid black; padding: 10px; width: 100%; background-color: lightgray; display: flex; align-items: center;\">\n",
    "    <h1 style=\"color: red; text-align: center; margin: auto;\">\n",
    "        Capítulo 3: Personalização do Ambiente Jupyter Notebook\n",
    "    </h1>\n",
    "</div>\n",
    "\n",
    "<font color='red'></font>\n",
    "<a href=\"\"></a>"
   ]
  },
  {
   "cell_type": "markdown",
   "id": "bcba1794",
   "metadata": {},
   "source": [
    "A personalização do ambiente Jupyter permite que você adapte a plataforma de acordo com suas necessidades individuais e preferências de codificação. Neste capítulo, exploraremos diversas maneiras de ajustar e personalizar o ambiente Jupyter para tornar seu trabalho mais eficiente e agradável."
   ]
  },
  {
   "cell_type": "markdown",
   "id": "cafdbf8d",
   "metadata": {},
   "source": [
    "Veremos como modificar as cores usando temas e também como realizar a instalação de extensões que adicionam funcionalidades úteis ao ambiente. Além disso, exploraremos a divisão do texto em seções, a visualização em forma de slide, a criação de tabelas de conteúdo e muito mais."
   ]
  },
  {
   "cell_type": "markdown",
   "id": "86d270e5",
   "metadata": {
    "slideshow": {
     "slide_type": "slide"
    }
   },
   "source": [
    "## <div style=\"margin-top: -20px;\">\n",
    "<hr style=\"border: 2px solid blue;\">\n",
    "\n",
    "<font color='blue'><span style=\"font-size: 22px;\"><strong>3.1 Personalização do Texto</strong></span></font>\n",
    "\n",
    "<hr style=\"border: 2px solid blue;\">\n",
    "</div>"
   ]
  },
  {
   "cell_type": "markdown",
   "id": "9e58ed4c",
   "metadata": {},
   "source": [
    "A personalização do texto no Jupyter Notebook é uma parte fundamental para tornar o seu trabalho mais legível, organizado e visualmente atraente. Essa personalização é realizada principalmente por meio do uso de células Markdown, que possibilitam a formatação do texto de diversas maneiras, oferecendo maior flexibilidade na apresentação e organização das informações."
   ]
  },
  {
   "cell_type": "markdown",
   "id": "7a20f2fc",
   "metadata": {},
   "source": [
    "### <div style=\"margin-top: -20px;\">\n",
    "<hr style=\"border: 2px solid blue;\">\n",
    "\n",
    "<font color='blue'><span style=\"font-size: 18px;\"><strong>3.1.1 Inserindo Um Texto</strong></span></font>\n",
    "\n",
    "<hr style=\"border: 2px solid blue;\">\n",
    "</div>"
   ]
  },
  {
   "cell_type": "markdown",
   "id": "f85821f9",
   "metadata": {},
   "source": [
    "A inserção de código ou trechos de código é realizada de forma natural no Jupyter Notebook. No entanto, para inserir texto formatado, é necessário marcar a célula como \"Markdown\" na parte central superior da interface. Para experimentar, converta a célula a seguir para o formato \"Markdown\", insira o texto desejado e pressione o botão \"Run\" ou utilize a combinação \"Ctrl+Enter\" no teclado para exibir o texto formatado."
   ]
  },
  {
   "cell_type": "code",
   "execution_count": null,
   "id": "b86c5743",
   "metadata": {
    "ExecuteTime": {
     "end_time": "2023-08-30T15:14:19.453738Z",
     "start_time": "2023-08-30T15:14:19.447754Z"
    }
   },
   "outputs": [],
   "source": []
  },
  {
   "cell_type": "markdown",
   "id": "5bad962f",
   "metadata": {},
   "source": [
    "### <div style=\"margin-top: -20px;\">\n",
    "<hr style=\"border: 2px solid blue;\">\n",
    "\n",
    "<font color='blue'><span style=\"font-size: 18px;\"><strong>3.1.2 Cor do Texto</strong></span></font>\n",
    "\n",
    "<hr style=\"border: 2px solid blue;\">\n",
    "</div>\n"
   ]
  },
  {
   "cell_type": "markdown",
   "id": "2bf0c95b",
   "metadata": {},
   "source": [
    "Podemos usar diversas cores para o texto:\n",
    "<font color='blue'>Azul</font>, \n",
    "<font color='red'>Vermelho</font>, \n",
    "<font color='green'>Verde</font>, \n",
    "<font color='black'>Preto</font>, \n",
    "<font color='gray'>Cinza</font>, \n",
    "<font color='navy'>Azul-marinho</font>, \n",
    "<font color='purple'>Roxo</font>, \n",
    "<font color='orange'>Laranja</font>, \n",
    "<font color='brown'>Marrom</font>, \n",
    "<font color='pink'>Rosa</font>, \n",
    "<font color='teal'>Verde-azulado</font>, \n",
    "<font color='magenta'>Magenta</font>, \n",
    "<font color='olive'>Verde-oliva</font>. Clique duas vezes na célula para ver a codificação ao redor do texto que deseja colorir."
   ]
  },
  {
   "cell_type": "markdown",
   "id": "a936d3c4",
   "metadata": {},
   "source": [
    "<font color='blue'> Azul</font> e <font color='red'>vermelho</font> são minhas cores favoritas."
   ]
  },
  {
   "cell_type": "markdown",
   "id": "3f6dc843",
   "metadata": {},
   "source": [
    "Uma ampla variedade de cores está disponível, além das cores comuns. Ao executar a célula abaixo, você verá uma lista de várias cores disponíveis. Digite o nome da cor desejada na caixa correspondente, abaixo da listagem de cores, e você Visualizará a tonalidade da cor escolhida."
   ]
  },
  {
   "cell_type": "code",
   "execution_count": 2,
   "id": "5a920839",
   "metadata": {
    "ExecuteTime": {
     "end_time": "2023-09-12T13:26:43.503711Z",
     "start_time": "2023-09-12T13:26:42.188551Z"
    }
   },
   "outputs": [
    {
     "name": "stdout",
     "output_type": "stream",
     "text": [
      "['aliceblue', 'antiquewhite', 'aqua', 'aquamarine', 'azure', 'beige', 'bisque', 'black', 'blanchedalmond', 'blue', 'blueviolet', 'brown', 'burlywood', 'cadetblue', 'chartreuse', 'chocolate', 'coral', 'cornflowerblue', 'cornsilk', 'crimson', 'cyan', 'darkblue', 'darkcyan', 'darkgoldenrod', 'darkgray', 'darkgreen', 'darkkhaki', 'darkmagenta', 'darkolivegreen', 'darkorange', 'darkorchid', 'darkred', 'darksalmon', 'darkseagreen', 'darkslateblue', 'darkslategray', 'darkturquoise', 'darkviolet', 'deeppink', 'deepskyblue', 'dimgray', 'dodgerblue', 'firebrick', 'floralwhite', 'forestgreen', 'fuchsia', 'gainsboro', 'ghostwhite', 'gold', 'goldenrod', 'gray', 'green', 'greenyellow', 'honeydew', 'hotpink', 'indianred', 'indigo', 'ivory', 'khaki', 'lavender', 'lavenderblush', 'lawngreen', 'lemonchiffon', 'lightblue', 'lightcoral', 'lightcyan', 'lightgoldenrodyellow', 'lightgray', 'lightgreen', 'lightpink', 'lightsalmon', 'lightseagreen', 'lightskyblue', 'lightslategray', 'lightsteelblue', 'lightyellow', 'lime', 'limegreen', 'linen', 'magenta', 'maroon', 'mediumaquamarine', 'mediumblue', 'mediumorchid', 'mediumpurple', 'mediumseagreen', 'mediumslateblue', 'mediumspringgreen', 'mediumturquoise', 'mediumvioletred', 'midnightblue', 'mintcream', 'mistyrose', 'moccasin', 'navajowhite', 'navy', 'oldlace', 'olive', 'olivedrab', 'orange', 'orangered', 'orchid', 'palegoldenrod', 'palegreen', 'paleturquoise', 'palevioletred', 'papayawhip', 'peachpuff', 'peru', 'pink', 'plum', 'powderblue', 'purple', 'red', 'rosybrown', 'royalblue', 'saddlebrown', 'salmon', 'sandybrown', 'seagreen', 'seashell', 'sienna', 'silver', 'skyblue', 'slateblue', 'slategray', 'snow', 'springgreen', 'steelblue', 'tan', 'teal', 'thistle', 'tomato', 'turquoise', 'violet', 'wheat', 'white', 'whitesmoke', 'yellow', 'yellowgreen']\n",
      "Digite o nome de uma cor: orangered\n"
     ]
    },
    {
     "data": {
      "image/png": "[encoded data removed]",
      "text/plain": [
       "<Figure size 200x200 with 1 Axes>"
      ]
     },
     "metadata": {},
     "output_type": "display_data"
    }
   ],
   "source": [
    "# Código para consulta de cores\n",
    "import matplotlib.pyplot as plt\n",
    "\n",
    "# Lista de cores\n",
    "cores = ['aliceblue', 'antiquewhite', 'aqua', 'aquamarine', 'azure', 'beige', 'bisque', 'black', 'blanchedalmond', 'blue', 'blueviolet', 'brown', 'burlywood', 'cadetblue', 'chartreuse', 'chocolate', 'coral', 'cornflowerblue', 'cornsilk', 'crimson', 'cyan', 'darkblue', 'darkcyan', 'darkgoldenrod', 'darkgray', 'darkgreen', 'darkkhaki', 'darkmagenta', 'darkolivegreen', 'darkorange', 'darkorchid', 'darkred', 'darksalmon', 'darkseagreen', 'darkslateblue', 'darkslategray', 'darkturquoise', 'darkviolet', 'deeppink', 'deepskyblue', 'dimgray', 'dodgerblue', 'firebrick', 'floralwhite', 'forestgreen', 'fuchsia', 'gainsboro', 'ghostwhite', 'gold', 'goldenrod', 'gray', 'green', 'greenyellow', 'honeydew', 'hotpink', 'indianred', 'indigo', 'ivory', 'khaki', 'lavender', 'lavenderblush', 'lawngreen', 'lemonchiffon', 'lightblue', 'lightcoral', 'lightcyan', 'lightgoldenrodyellow', 'lightgray', 'lightgreen', 'lightpink', 'lightsalmon', 'lightseagreen', 'lightskyblue', 'lightslategray', 'lightsteelblue', 'lightyellow', 'lime', 'limegreen', 'linen', 'magenta', 'maroon', 'mediumaquamarine', 'mediumblue', 'mediumorchid', 'mediumpurple', 'mediumseagreen', 'mediumslateblue', 'mediumspringgreen', 'mediumturquoise', 'mediumvioletred', 'midnightblue', 'mintcream', 'mistyrose', 'moccasin', 'navajowhite', 'navy', 'oldlace', 'olive', 'olivedrab', 'orange', 'orangered', 'orchid', 'palegoldenrod', 'palegreen', 'paleturquoise', 'palevioletred', 'papayawhip', 'peachpuff', 'peru', 'pink', 'plum', 'powderblue', 'purple', 'red', 'rosybrown', 'royalblue', 'saddlebrown', 'salmon', 'sandybrown', 'seagreen', 'seashell', 'sienna', 'silver', 'skyblue', 'slateblue', 'slategray', 'snow', 'springgreen', 'steelblue', 'tan', 'teal', 'thistle', 'tomato', 'turquoise', 'violet', 'wheat', 'white', 'whitesmoke', 'yellow', 'yellowgreen']\n",
    "\n",
    "# Exibição do nome das cores disponíveis\n",
    "print(cores)\n",
    "\n",
    "# Função para exibir a cor selecionada\n",
    "def exibir_cor():\n",
    "    cor = input(\"Digite o nome de uma cor: \")\n",
    "    \n",
    "    fig, ax = plt.subplots(figsize=(2, 2))\n",
    "    ax.axis('off')\n",
    "    ax.add_patch(plt.Rectangle((0, 0), 1, 1, color=cor))\n",
    "    plt.title(\"Cor selecionada: \" + cor)\n",
    "    plt.show()\n",
    "\n",
    "# Chama a função para exibir a cor\n",
    "exibir_cor()"
   ]
  },
  {
   "cell_type": "markdown",
   "id": "48da1185",
   "metadata": {},
   "source": [
    "### <div style=\"margin-top: -20px;\">\n",
    "<hr style=\"border: 2px solid blue;\">\n",
    "\n",
    "<font color='blue'><span style=\"font-size: 18px;\"><strong>3.1.3 Marcações de Texto e Outras Formatações</strong></span></font>\n",
    "\n",
    "<hr style=\"border: 2px solid blue;\">\n",
    "</div>"
   ]
  },
  {
   "cell_type": "markdown",
   "id": "1e914b52",
   "metadata": {},
   "source": [
    "Podemos usar diversas marcações de texto. Clique duas vezes nas células a seguir para ver a codificação."
   ]
  },
  {
   "cell_type": "markdown",
   "id": "51a25aaa",
   "metadata": {},
   "source": [
    "*Itálico*"
   ]
  },
  {
   "cell_type": "markdown",
   "id": "338d944b",
   "metadata": {},
   "source": [
    "**Negrito**"
   ]
  },
  {
   "cell_type": "markdown",
   "id": "ccbf7a01",
   "metadata": {},
   "source": [
    "***Itálico + Negrito***"
   ]
  },
  {
   "cell_type": "markdown",
   "id": "1240d78e",
   "metadata": {},
   "source": [
    "<u>Sublinhado</u>"
   ]
  },
  {
   "cell_type": "markdown",
   "id": "2682dc67",
   "metadata": {},
   "source": [
    "<center>Texto centralizado</center>"
   ]
  },
  {
   "cell_type": "markdown",
   "id": "e903be8b",
   "metadata": {},
   "source": [
    "~~Riscado~~"
   ]
  },
  {
   "cell_type": "markdown",
   "id": "f1a31cb6",
   "metadata": {},
   "source": [
    "x<sup>Sobrescrito</sup>"
   ]
  },
  {
   "cell_type": "markdown",
   "id": "a58a10e1",
   "metadata": {},
   "source": [
    "x<sub>Subscrito</sub>\n"
   ]
  },
  {
   "cell_type": "markdown",
   "id": "478b2626",
   "metadata": {},
   "source": [
    "> Bloco Principal\n",
    ">> Bloco Secundário\n",
    ">>> Bloco Terciário"
   ]
  },
  {
   "cell_type": "markdown",
   "id": "6e75a1b7",
   "metadata": {},
   "source": [
    ">> Bloco Principal"
   ]
  },
  {
   "cell_type": "markdown",
   "id": "0153f037",
   "metadata": {},
   "source": [
    "Lista Ordenada\n",
    "1. Laranja\n",
    "2. Banana\n",
    "3. Manga"
   ]
  },
  {
   "cell_type": "markdown",
   "id": "c5e49ebe",
   "metadata": {},
   "source": [
    "Lista\n",
    "\n",
    "- Laranja\n",
    "- Banana\n",
    "- Manga"
   ]
  },
  {
   "cell_type": "markdown",
   "id": "0a668d2c",
   "metadata": {},
   "source": [
    "Linha Completa (ajuste a largura e a cor)\n",
    "<hr style=\"border: 2px solid green;\">"
   ]
  },
  {
   "cell_type": "markdown",
   "id": "041152fe",
   "metadata": {},
   "source": [
    "Parte de Linha (ajuste a largura e a cor)\n",
    "<div style=\"width: 50%; height: 4px; background-color: blue;\"></div>\n"
   ]
  },
  {
   "cell_type": "markdown",
   "id": "4d39af42",
   "metadata": {},
   "source": [
    "Parte de Linha Centralizada (ajuste a largura e a cor)\n",
    "<hr style=\"width: 50%; border: 2px solid red;\">"
   ]
  },
  {
   "cell_type": "markdown",
   "id": "85f3d06d",
   "metadata": {},
   "source": [
    "Figura Repetida (ajuste a largura e a cor)\n",
    "<hr style=\"border: none; height: 75px; background: url('logo_ifba.jpg') repeat-x;\">"
   ]
  },
  {
   "cell_type": "markdown",
   "id": "e7078429",
   "metadata": {
    "ExecuteTime": {
     "end_time": "2023-06-08T00:04:34.524566Z",
     "start_time": "2023-06-08T00:04:34.514591Z"
    }
   },
   "source": [
    "Título Destacado\n",
    "<div style=\"border: 2px solid black; padding: 10px; width: 100%; background-color: lightgray;\">\n",
    "    <h1 style=\"color: red; text-align: center;\">Título</h1>\n",
    "</div>\n"
   ]
  },
  {
   "cell_type": "markdown",
   "id": "4c2b7aa6",
   "metadata": {
    "ExecuteTime": {
     "end_time": "2023-06-08T00:09:24.469085Z",
     "start_time": "2023-06-08T00:09:24.460139Z"
    }
   },
   "source": [
    "Título Destacado (alinhado verticalmente)\n",
    "<div style=\"border: 2px solid black; padding: 10px; width: 100%; background-color: lightgray; display: flex; align-items: center;\">\n",
    "    <h1 style=\"color: red; text-align: center; margin: auto;\">\n",
    "        Título\n",
    "    </h1>\n",
    "</div>\n"
   ]
  },
  {
   "cell_type": "markdown",
   "id": "46ae970a",
   "metadata": {
    "ExecuteTime": {
     "end_time": "2023-06-08T00:06:25.321537Z",
     "start_time": "2023-06-08T00:06:25.312561Z"
    }
   },
   "source": [
    "Título Destacado + Link (alinhado verticalmente) [link para o meu canal]\n",
    "<div style=\"border: 2px solid black; padding: 10px; width: 100%; background-color: lightgray; display: flex; align-items: center;\">\n",
    "    <h1 style=\"text-align: center; margin: auto;\">\n",
    "        <a href=\"https://www.youtube.com/@prof_allanIFBA\" style=\"color: red;\">Título Com Link</a>\n",
    "    </h1>\n",
    "</div>\n"
   ]
  },
  {
   "cell_type": "markdown",
   "id": "9f3df477",
   "metadata": {},
   "source": [
    "Acima listamos apenas algumas das formatações mais comuns. Em futuras atualizações deste material acrescentaremos mais."
   ]
  },
  {
   "cell_type": "markdown",
   "id": "1afa6a2e",
   "metadata": {},
   "source": [
    "#####  <div style=\"width: 50%; height: 4px; background-color: green;\"> <br> <font color='green'>Dica</font> </div>  \n",
    "<br>"
   ]
  },
  {
   "cell_type": "markdown",
   "id": "846e4167",
   "metadata": {},
   "source": [
    "Os códigos apresentados acima não precisam ser memorizados. Apenas tenha-os em um local acessível e, quando preciso, copie-os e cole-os fazendo os ajustes necessários como tamanhos, cores, alinhamento etc."
   ]
  },
  {
   "cell_type": "markdown",
   "id": "8f7b7f9d",
   "metadata": {},
   "source": [
    "<div style=\"width: 50%; height: 4px; background-color: green;\"></div> "
   ]
  },
  {
   "cell_type": "markdown",
   "id": "cdb0810a",
   "metadata": {},
   "source": [
    "## <div style=\"margin-top: -20px;\">\n",
    "<hr style=\"border: 2px solid blue;\">\n",
    "\n",
    "<font color='blue'><span style=\"font-size: 22px;\"><strong>3.2 Escrita em Níveis</strong></span></font>\n",
    "\n",
    "<hr style=\"border: 2px solid blue;\">\n",
    "</div>"
   ]
  },
  {
   "cell_type": "markdown",
   "id": "7df1a7f6",
   "metadata": {},
   "source": [
    "No Jupyter Notebook, é possível utilizar a escrita em níveis por meio dos caracteres **#, ##, ###, ####** e **#####**. Esses caracteres são empregados para criar títulos e subtítulos, conferindo uma estrutura hierárquica clara e organizada às seções e subseções do seu notebook. Este material usa bastante esta funcionalidade."
   ]
  },
  {
   "cell_type": "markdown",
   "id": "7c34ed03",
   "metadata": {},
   "source": [
    "Executando as linhas de código a seguir, você instalará no seu Jupyter Notebook a funcionalidade de ocultar seções e subseções. Após a conclusão da execução, atualize esta página ou reinicie o Jupyter Notebook para que as alterações tenham efeito."
   ]
  },
  {
   "cell_type": "code",
   "execution_count": null,
   "id": "4037b20b",
   "metadata": {
    "ExecuteTime": {
     "end_time": "2023-08-31T12:08:21.678718Z",
     "start_time": "2023-08-31T12:08:10.522488Z"
    }
   },
   "outputs": [],
   "source": [
    "# Escrita em níveis\n",
    "!pip install jupyter_contrib_nbextensions\n",
    "!jupyter contrib nbextension install --user\n",
    "!jupyter nbextension enable collapsible_headings/main"
   ]
  },
  {
   "cell_type": "markdown",
   "id": "32b6fc04",
   "metadata": {
    "slideshow": {
     "slide_type": "-"
    }
   },
   "source": [
    "## <div style=\"margin-top: -20px;\">\n",
    "<hr style=\"border: 2px solid blue;\">\n",
    "\n",
    "<font color='blue'><span style=\"font-size: 22px;\"><strong>3.3 Escrevendo em Estilo LaTex</strong></span></font>\n",
    "\n",
    "<hr style=\"border: 2px solid blue;\">\n",
    "</div>"
   ]
  },
  {
   "cell_type": "markdown",
   "id": "a3b4c3ce",
   "metadata": {},
   "source": [
    "No Jupyter Notebook, é possível escrever e renderizar fórmulas matemáticas e expressões em <u>LaTeX</u> utilizando a funcionalidade de células Markdown. O Markdown suporta a notação LaTeX, permitindo que você adicione equações matemáticas e símbolos complexos aos seus notebooks.\n",
    "\n",
    "Para escrever fórmulas matemáticas em LaTeX no Jupyter Notebook, é possível utilizar a sintaxe do LaTeX diretamente em células Markdown. Para isso, basta colocar a fórmula entre os símbolos \\\\$...\\\\$ para incluí-la dentro do próprio texto ou entre os símbolos \\\\$\\\\$...\\\\$\\\\$ para incluí-la em uma linha separada."
   ]
  },
  {
   "cell_type": "markdown",
   "id": "83b74d8d",
   "metadata": {},
   "source": [
    "#### *Exemplo: Escrita em estilo LaTex*"
   ]
  },
  {
   "cell_type": "markdown",
   "id": "de2e6f7c",
   "metadata": {},
   "source": [
    "Seguem alguns exemplos a seguir (clique duas vezes na célula a seguir para ver)."
   ]
  },
  {
   "cell_type": "markdown",
   "id": "13749dad",
   "metadata": {},
   "source": [
    "A fração $\\frac{x^{2}}{x-2}$ não recebe entrada 2."
   ]
  },
  {
   "cell_type": "markdown",
   "id": "ad639259",
   "metadata": {},
   "source": [
    "$$\\sqrt[4]{e^{x}-1}$$"
   ]
  },
  {
   "cell_type": "markdown",
   "id": "2bb15a19",
   "metadata": {},
   "source": [
    "$$\\int_{0}^{1} xsen(x) dx$$"
   ]
  },
  {
   "cell_type": "markdown",
   "id": "633b59ec",
   "metadata": {},
   "source": [
    "$$\n",
    "\\begin{array}{|c|c|c|}\n",
    "\\hline\n",
    "Indice\t    & \t x   \t& f(x)   \t\t        \\\\\n",
    "\\hline\n",
    " 0  \t\t& \t 1.0   \t& 0.765197686557967   \t\\\\\n",
    " \\hline\n",
    " 1  \t\t& \t 1.3   \t& 0.620085989561509\t    \\\\\n",
    " \\hline\n",
    " 2  \t\t& \t 1.6   \t& 0.455402167639381  \t\\\\\n",
    " \\hline\n",
    " 3  \t\t& \t 1.9   \t& 0.281818559374385    \t\\\\\n",
    " \\hline\n",
    " 4  \t\t& \t 2.2   \t& 0.110362266922174   \t\\\\\n",
    " \\hline\n",
    "\\end{array}\n",
    "$$"
   ]
  },
  {
   "cell_type": "markdown",
   "id": "1d8ead1d",
   "metadata": {},
   "source": [
    "*Vou confessar, a aceitação da escrita em LaTex foi um dos principais motivos par eu adotar o Jupyter como meu principal software mesmo o conhecendo a poucos meses (por volta de fevereiro a março de 2023)*."
   ]
  },
  {
   "cell_type": "markdown",
   "id": "20a9768c",
   "metadata": {
    "slideshow": {
     "slide_type": "slide"
    }
   },
   "source": [
    "## <div style=\"margin-top: -20px;\">\n",
    "<hr style=\"border: 2px solid blue;\">\n",
    "\n",
    "<font color='blue'><span style=\"font-size: 22px;\"><strong>3.4 Inserção de Imagens e Hyperlinks</strong></span></font>\n",
    "\n",
    "<hr style=\"border: 2px solid blue;\">\n",
    "</div>"
   ]
  },
  {
   "cell_type": "markdown",
   "id": "b9f33d65",
   "metadata": {},
   "source": [
    "O Jupyter Notebook é uma ferramenta poderosa para a criação e apresentação de documentos interativos. Além de permitir a criação de códigos e textos formatados em Markdown, o Jupyter também permite a inserção de imagens em suas células e hyperlinks."
   ]
  },
  {
   "cell_type": "markdown",
   "id": "795487ca",
   "metadata": {},
   "source": [
    "### Inserção de Imagens e GIF"
   ]
  },
  {
   "cell_type": "markdown",
   "id": "e327f626",
   "metadata": {},
   "source": [
    "Para inserir uma imagem no Jupyter, basta utilizar a tag \"**\\!\\[descrição da imagem\\](caminho/para/nome_imagem.jpg)**\" na sitax Markdown, substituindo \"descrição da imagem\" pela descrição que você deseja atribuir à imagem e \"caminho/para/imagem.jpg\" pelo caminho do arquivo de imagem que você deseja inserir. Se a imagem estiver na mesma pasta que o notebook, basta fornecer o nome do arquivo. A célula a seguir apresenta um exemplo. A utilização de um gif segue a mesma linha: \"**\\!\\[descrição do gif\\](caminho/para/nome_gif.gif)**\". As imagens e gifs ficam do mesmo tamanho que os originais."
   ]
  },
  {
   "cell_type": "markdown",
   "id": "714f53d4",
   "metadata": {},
   "source": [
    "![Mapa de Vitória da Conquista](img1_cap3.jpg)"
   ]
  },
  {
   "cell_type": "markdown",
   "id": "392da633",
   "metadata": {},
   "source": [
    "Caso queira ajustar o tamanho de uma imagem pode-se usar a codificação conforme utilizada no inicio deste capítulo (clique na célula a seguir)."
   ]
  },
  {
   "cell_type": "markdown",
   "id": "2e2ad03d",
   "metadata": {},
   "source": [
    "<center> <img src=\"img1_cap3.jpg\" alt=\"jpg_python\" width=\"500\" height=\"\"> </center>"
   ]
  },
  {
   "cell_type": "markdown",
   "id": "ff001ccb",
   "metadata": {},
   "source": [
    "<center> <img src=\"python_gif.gif\" alt=\"jpg_python\" width=\"100\" height=\"\"> </center>"
   ]
  },
  {
   "cell_type": "markdown",
   "id": "bf79afc9",
   "metadata": {},
   "source": [
    "### Hyperlinks"
   ]
  },
  {
   "cell_type": "markdown",
   "id": "50cc51e7",
   "metadata": {},
   "source": [
    "Para inserir um hyperlink no Jupyter, basta utilizar a tag [Texto do link](URL do destino) na sitax Markdown, substituindo \"Texto do link\" pelo texto que você deseja atribuir ao link e \"URL do destino\" pelo caminho do arquivo de imagem que vocêlink que se deseja inserir. A célula a seguir apresenta um exemplo."
   ]
  },
  {
   "cell_type": "markdown",
   "id": "fb80f748",
   "metadata": {},
   "source": [
    "[Link do meu canal](https://www.youtube.com/@prof_allanIFBA)"
   ]
  },
  {
   "cell_type": "markdown",
   "id": "dd677cfc",
   "metadata": {
    "slideshow": {
     "slide_type": "slide"
    }
   },
   "source": [
    "## <div style=\"margin-top: -20px;\">\n",
    "<hr style=\"border: 2px solid blue;\">\n",
    "\n",
    "<font color='blue'><span style=\"font-size: 22px;\"><strong>3.5 Modo Apresentação</strong></span></font>\n",
    "\n",
    "<hr style=\"border: 2px solid blue;\">\n",
    "</div>"
   ]
  },
  {
   "cell_type": "markdown",
   "id": "7e9fa564",
   "metadata": {
    "slideshow": {
     "slide_type": "-"
    }
   },
   "source": [
    "O <u>RISE</u> (Reveal.js - Jupyter/IPython Slideshow Extension) é uma extensão poderosa para o Jupyter Notebook que permite transformar seus notebooks em apresentações de slides interativas. Com o RISE, você pode criar e apresentar slides diretamente no ambiente do Jupyter Notebook, aproveitando a funcionalidade do notebook e adicionando recursos de apresentação envolventes."
   ]
  },
  {
   "cell_type": "markdown",
   "id": "1cee9ed1",
   "metadata": {
    "slideshow": {
     "slide_type": "slide"
    }
   },
   "source": [
    "### <div style=\"margin-top: -20px;\">\n",
    "<hr style=\"border: 2px solid blue;\">\n",
    "\n",
    "<font color='blue'><span style=\"font-size: 18px;\"><strong>3.5.1 Intalação</strong></span></font>\n",
    "\n",
    "<hr style=\"border: 2px solid blue;\">"
   ]
  },
  {
   "cell_type": "markdown",
   "id": "1691d717",
   "metadata": {},
   "source": [
    "Execute a célula a seguir e, em seguida, salve este arquivo e atualize a página. Pode ser necessário reiniciar o Jupyter Notebook."
   ]
  },
  {
   "cell_type": "code",
   "execution_count": 3,
   "id": "9b319f77",
   "metadata": {
    "ExecuteTime": {
     "end_time": "2023-08-31T13:24:05.036185Z",
     "start_time": "2023-08-31T13:23:53.971776Z"
    }
   },
   "outputs": [
    {
     "name": "stdout",
     "output_type": "stream",
     "text": [
      "Collecting rise\n",
      "  Using cached rise-5.7.1-py2.py3-none-any.whl (4.3 MB)\n",
      "Requirement already satisfied: notebook>=6.0 in d:\\anaconda3\\lib\\site-packages (from rise) (6.5.4)\n",
      "Requirement already satisfied: jinja2 in d:\\anaconda3\\lib\\site-packages (from notebook>=6.0->rise) (3.1.2)\n",
      "Requirement already satisfied: tornado>=6.1 in d:\\anaconda3\\lib\\site-packages (from notebook>=6.0->rise) (6.3.2)\n",
      "Requirement already satisfied: pyzmq>=17 in d:\\anaconda3\\lib\\site-packages (from notebook>=6.0->rise) (23.2.0)\n",
      "Requirement already satisfied: argon2-cffi in d:\\anaconda3\\lib\\site-packages (from notebook>=6.0->rise) (21.3.0)\n",
      "Requirement already satisfied: traitlets>=4.2.1 in d:\\anaconda3\\lib\\site-packages (from notebook>=6.0->rise) (5.7.1)\n",
      "Requirement already satisfied: jupyter-core>=4.6.1 in d:\\anaconda3\\lib\\site-packages (from notebook>=6.0->rise) (5.3.0)\n",
      "Requirement already satisfied: jupyter-client>=5.3.4 in d:\\anaconda3\\lib\\site-packages (from notebook>=6.0->rise) (7.4.9)\n",
      "Requirement already satisfied: ipython-genutils in d:\\anaconda3\\lib\\site-packages (from notebook>=6.0->rise) (0.2.0)\n",
      "Requirement already satisfied: nbformat in d:\\anaconda3\\lib\\site-packages (from notebook>=6.0->rise) (5.7.0)\n",
      "Requirement already satisfied: nbconvert>=5 in d:\\anaconda3\\lib\\site-packages (from notebook>=6.0->rise) (6.5.4)\n",
      "Requirement already satisfied: nest-asyncio>=1.5 in d:\\anaconda3\\lib\\site-packages (from notebook>=6.0->rise) (1.5.6)\n",
      "Requirement already satisfied: ipykernel in d:\\anaconda3\\lib\\site-packages (from notebook>=6.0->rise) (6.19.2)\n",
      "Requirement already satisfied: Send2Trash>=1.8.0 in d:\\anaconda3\\lib\\site-packages (from notebook>=6.0->rise) (1.8.0)\n",
      "Requirement already satisfied: terminado>=0.8.3 in d:\\anaconda3\\lib\\site-packages (from notebook>=6.0->rise) (0.17.1)\n",
      "Requirement already satisfied: prometheus-client in d:\\anaconda3\\lib\\site-packages (from notebook>=6.0->rise) (0.14.1)\n",
      "Requirement already satisfied: nbclassic>=0.4.7 in d:\\anaconda3\\lib\\site-packages (from notebook>=6.0->rise) (0.5.5)\n",
      "Requirement already satisfied: entrypoints in d:\\anaconda3\\lib\\site-packages (from jupyter-client>=5.3.4->notebook>=6.0->rise) (0.4)\n",
      "Requirement already satisfied: python-dateutil>=2.8.2 in d:\\anaconda3\\lib\\site-packages (from jupyter-client>=5.3.4->notebook>=6.0->rise) (2.8.2)\n",
      "Requirement already satisfied: platformdirs>=2.5 in d:\\anaconda3\\lib\\site-packages (from jupyter-core>=4.6.1->notebook>=6.0->rise) (2.5.2)\n",
      "Requirement already satisfied: pywin32>=300 in d:\\anaconda3\\lib\\site-packages (from jupyter-core>=4.6.1->notebook>=6.0->rise) (305.1)\n",
      "Requirement already satisfied: jupyter-server>=1.8 in d:\\anaconda3\\lib\\site-packages (from nbclassic>=0.4.7->notebook>=6.0->rise) (1.23.4)\n",
      "Requirement already satisfied: notebook-shim>=0.1.0 in d:\\anaconda3\\lib\\site-packages (from nbclassic>=0.4.7->notebook>=6.0->rise) (0.2.2)\n",
      "Requirement already satisfied: lxml in d:\\anaconda3\\lib\\site-packages (from nbconvert>=5->notebook>=6.0->rise) (4.9.2)\n",
      "Requirement already satisfied: beautifulsoup4 in d:\\anaconda3\\lib\\site-packages (from nbconvert>=5->notebook>=6.0->rise) (4.12.2)\n",
      "Requirement already satisfied: bleach in d:\\anaconda3\\lib\\site-packages (from nbconvert>=5->notebook>=6.0->rise) (4.1.0)\n",
      "Requirement already satisfied: defusedxml in d:\\anaconda3\\lib\\site-packages (from nbconvert>=5->notebook>=6.0->rise) (0.7.1)\n",
      "Requirement already satisfied: jupyterlab-pygments in d:\\anaconda3\\lib\\site-packages (from nbconvert>=5->notebook>=6.0->rise) (0.1.2)\n",
      "Requirement already satisfied: MarkupSafe>=2.0 in d:\\anaconda3\\lib\\site-packages (from nbconvert>=5->notebook>=6.0->rise) (2.1.1)\n",
      "Requirement already satisfied: mistune<2,>=0.8.1 in d:\\anaconda3\\lib\\site-packages (from nbconvert>=5->notebook>=6.0->rise) (0.8.4)\n",
      "Requirement already satisfied: nbclient>=0.5.0 in d:\\anaconda3\\lib\\site-packages (from nbconvert>=5->notebook>=6.0->rise) (0.5.13)\n",
      "Requirement already satisfied: packaging in d:\\anaconda3\\lib\\site-packages (from nbconvert>=5->notebook>=6.0->rise) (23.0)\n",
      "Requirement already satisfied: pandocfilters>=1.4.1 in d:\\anaconda3\\lib\\site-packages (from nbconvert>=5->notebook>=6.0->rise) (1.5.0)\n",
      "Requirement already satisfied: pygments>=2.4.1 in d:\\anaconda3\\lib\\site-packages (from nbconvert>=5->notebook>=6.0->rise) (2.15.1)\n",
      "Requirement already satisfied: tinycss2 in d:\\anaconda3\\lib\\site-packages (from nbconvert>=5->notebook>=6.0->rise) (1.2.1)\n",
      "Requirement already satisfied: fastjsonschema in d:\\anaconda3\\lib\\site-packages (from nbformat->notebook>=6.0->rise) (2.16.2)\n",
      "Requirement already satisfied: jsonschema>=2.6 in d:\\anaconda3\\lib\\site-packages (from nbformat->notebook>=6.0->rise) (4.17.3)\n",
      "Requirement already satisfied: pywinpty>=1.1.0 in d:\\anaconda3\\lib\\site-packages (from terminado>=0.8.3->notebook>=6.0->rise) (2.0.10)\n",
      "Requirement already satisfied: argon2-cffi-bindings in d:\\anaconda3\\lib\\site-packages (from argon2-cffi->notebook>=6.0->rise) (21.2.0)\n",
      "Requirement already satisfied: comm>=0.1.1 in d:\\anaconda3\\lib\\site-packages (from ipykernel->notebook>=6.0->rise) (0.1.2)\n",
      "Requirement already satisfied: debugpy>=1.0 in d:\\anaconda3\\lib\\site-packages (from ipykernel->notebook>=6.0->rise) (1.6.7)\n",
      "Requirement already satisfied: ipython>=7.23.1 in d:\\anaconda3\\lib\\site-packages (from ipykernel->notebook>=6.0->rise) (8.12.0)\n",
      "Requirement already satisfied: matplotlib-inline>=0.1 in d:\\anaconda3\\lib\\site-packages (from ipykernel->notebook>=6.0->rise) (0.1.6)\n",
      "Requirement already satisfied: psutil in d:\\anaconda3\\lib\\site-packages (from ipykernel->notebook>=6.0->rise) (5.9.0)\n",
      "Requirement already satisfied: backcall in d:\\anaconda3\\lib\\site-packages (from ipython>=7.23.1->ipykernel->notebook>=6.0->rise) (0.2.0)\n",
      "Requirement already satisfied: decorator in d:\\anaconda3\\lib\\site-packages (from ipython>=7.23.1->ipykernel->notebook>=6.0->rise) (5.1.1)\n",
      "Requirement already satisfied: jedi>=0.16 in d:\\anaconda3\\lib\\site-packages (from ipython>=7.23.1->ipykernel->notebook>=6.0->rise) (0.18.1)\n",
      "Requirement already satisfied: pickleshare in d:\\anaconda3\\lib\\site-packages (from ipython>=7.23.1->ipykernel->notebook>=6.0->rise) (0.7.5)\n",
      "Requirement already satisfied: prompt-toolkit!=3.0.37,<3.1.0,>=3.0.30 in d:\\anaconda3\\lib\\site-packages (from ipython>=7.23.1->ipykernel->notebook>=6.0->rise) (3.0.36)\n",
      "Requirement already satisfied: stack-data in d:\\anaconda3\\lib\\site-packages (from ipython>=7.23.1->ipykernel->notebook>=6.0->rise) (0.2.0)\n",
      "Requirement already satisfied: colorama in d:\\anaconda3\\lib\\site-packages (from ipython>=7.23.1->ipykernel->notebook>=6.0->rise) (0.4.6)\n",
      "Requirement already satisfied: attrs>=17.4.0 in d:\\anaconda3\\lib\\site-packages (from jsonschema>=2.6->nbformat->notebook>=6.0->rise) (22.1.0)\n",
      "Requirement already satisfied: pyrsistent!=0.17.0,!=0.17.1,!=0.17.2,>=0.14.0 in d:\\anaconda3\\lib\\site-packages (from jsonschema>=2.6->nbformat->notebook>=6.0->rise) (0.18.0)\n",
      "Requirement already satisfied: anyio<4,>=3.1.0 in d:\\anaconda3\\lib\\site-packages (from jupyter-server>=1.8->nbclassic>=0.4.7->notebook>=6.0->rise) (3.5.0)\n",
      "Requirement already satisfied: websocket-client in d:\\anaconda3\\lib\\site-packages (from jupyter-server>=1.8->nbclassic>=0.4.7->notebook>=6.0->rise) (0.58.0)\n",
      "Requirement already satisfied: six>=1.5 in d:\\anaconda3\\lib\\site-packages (from python-dateutil>=2.8.2->jupyter-client>=5.3.4->notebook>=6.0->rise) (1.16.0)\n",
      "Requirement already satisfied: cffi>=1.0.1 in d:\\anaconda3\\lib\\site-packages (from argon2-cffi-bindings->argon2-cffi->notebook>=6.0->rise) (1.15.1)\n",
      "Requirement already satisfied: soupsieve>1.2 in d:\\anaconda3\\lib\\site-packages (from beautifulsoup4->nbconvert>=5->notebook>=6.0->rise) (2.4)\n",
      "Requirement already satisfied: webencodings in d:\\anaconda3\\lib\\site-packages (from bleach->nbconvert>=5->notebook>=6.0->rise) (0.5.1)\n",
      "Requirement already satisfied: idna>=2.8 in d:\\anaconda3\\lib\\site-packages (from anyio<4,>=3.1.0->jupyter-server>=1.8->nbclassic>=0.4.7->notebook>=6.0->rise) (3.4)\n",
      "Requirement already satisfied: sniffio>=1.1 in d:\\anaconda3\\lib\\site-packages (from anyio<4,>=3.1.0->jupyter-server>=1.8->nbclassic>=0.4.7->notebook>=6.0->rise) (1.2.0)\n",
      "Requirement already satisfied: pycparser in d:\\anaconda3\\lib\\site-packages (from cffi>=1.0.1->argon2-cffi-bindings->argon2-cffi->notebook>=6.0->rise) (2.21)\n",
      "Requirement already satisfied: parso<0.9.0,>=0.8.0 in d:\\anaconda3\\lib\\site-packages (from jedi>=0.16->ipython>=7.23.1->ipykernel->notebook>=6.0->rise) (0.8.3)\n",
      "Requirement already satisfied: wcwidth in d:\\anaconda3\\lib\\site-packages (from prompt-toolkit!=3.0.37,<3.1.0,>=3.0.30->ipython>=7.23.1->ipykernel->notebook>=6.0->rise) (0.2.5)\n",
      "Requirement already satisfied: executing in d:\\anaconda3\\lib\\site-packages (from stack-data->ipython>=7.23.1->ipykernel->notebook>=6.0->rise) (0.8.3)\n",
      "Requirement already satisfied: asttokens in d:\\anaconda3\\lib\\site-packages (from stack-data->ipython>=7.23.1->ipykernel->notebook>=6.0->rise) (2.0.5)\n",
      "Requirement already satisfied: pure-eval in d:\\anaconda3\\lib\\site-packages (from stack-data->ipython>=7.23.1->ipykernel->notebook>=6.0->rise) (0.2.2)\n",
      "Installing collected packages: rise\n",
      "Successfully installed rise-5.7.1\n"
     ]
    },
    {
     "name": "stderr",
     "output_type": "stream",
     "text": [
      "Installing D:\\Anaconda3\\Lib\\site-packages\\rise\\static -> rise\n",
      "Up to date: D:\\Anaconda3\\share\\jupyter\\nbextensions\\rise\\main.css\n",
      "Up to date: D:\\Anaconda3\\share\\jupyter\\nbextensions\\rise\\main.js\n",
      "Up to date: D:\\Anaconda3\\share\\jupyter\\nbextensions\\rise\\README.md\n",
      "Up to date: D:\\Anaconda3\\share\\jupyter\\nbextensions\\rise\\rise.png\n",
      "Up to date: D:\\Anaconda3\\share\\jupyter\\nbextensions\\rise\\rise.yaml\n",
      "Up to date: D:\\Anaconda3\\share\\jupyter\\nbextensions\\rise\\reveal.js\\.travis.yml\n",
      "Up to date: D:\\Anaconda3\\share\\jupyter\\nbextensions\\rise\\reveal.js\\bower.json\n",
      "Up to date: D:\\Anaconda3\\share\\jupyter\\nbextensions\\rise\\reveal.js\\CONTRIBUTING.md\n",
      "Up to date: D:\\Anaconda3\\share\\jupyter\\nbextensions\\rise\\reveal.js\\demo.html\n",
      "Up to date: D:\\Anaconda3\\share\\jupyter\\nbextensions\\rise\\reveal.js\\gruntfile.js\n",
      "Up to date: D:\\Anaconda3\\share\\jupyter\\nbextensions\\rise\\reveal.js\\index.html\n",
      "Up to date: D:\\Anaconda3\\share\\jupyter\\nbextensions\\rise\\reveal.js\\LICENSE\n",
      "Up to date: D:\\Anaconda3\\share\\jupyter\\nbextensions\\rise\\reveal.js\\package.json\n",
      "Up to date: D:\\Anaconda3\\share\\jupyter\\nbextensions\\rise\\reveal.js\\README.md\n",
      "Up to date: D:\\Anaconda3\\share\\jupyter\\nbextensions\\rise\\reveal.js\\css\\reset.css\n",
      "Up to date: D:\\Anaconda3\\share\\jupyter\\nbextensions\\rise\\reveal.js\\css\\reveal.css\n",
      "Up to date: D:\\Anaconda3\\share\\jupyter\\nbextensions\\rise\\reveal.js\\css\\reveal.css.upstream\n",
      "Up to date: D:\\Anaconda3\\share\\jupyter\\nbextensions\\rise\\reveal.js\\css\\reveal.scss\n",
      "Up to date: D:\\Anaconda3\\share\\jupyter\\nbextensions\\rise\\reveal.js\\css\\print\\paper.css\n",
      "Up to date: D:\\Anaconda3\\share\\jupyter\\nbextensions\\rise\\reveal.js\\css\\print\\pdf.css\n",
      "Up to date: D:\\Anaconda3\\share\\jupyter\\nbextensions\\rise\\reveal.js\\css\\theme\\beige.css\n",
      "Up to date: D:\\Anaconda3\\share\\jupyter\\nbextensions\\rise\\reveal.js\\css\\theme\\beige.css.patched\n",
      "Up to date: D:\\Anaconda3\\share\\jupyter\\nbextensions\\rise\\reveal.js\\css\\theme\\black.css\n",
      "Up to date: D:\\Anaconda3\\share\\jupyter\\nbextensions\\rise\\reveal.js\\css\\theme\\black.css.patched\n",
      "Up to date: D:\\Anaconda3\\share\\jupyter\\nbextensions\\rise\\reveal.js\\css\\theme\\blood.css\n",
      "Up to date: D:\\Anaconda3\\share\\jupyter\\nbextensions\\rise\\reveal.js\\css\\theme\\blood.css.patched\n",
      "Up to date: D:\\Anaconda3\\share\\jupyter\\nbextensions\\rise\\reveal.js\\css\\theme\\league.css\n",
      "Up to date: D:\\Anaconda3\\share\\jupyter\\nbextensions\\rise\\reveal.js\\css\\theme\\league.css.patched\n",
      "Up to date: D:\\Anaconda3\\share\\jupyter\\nbextensions\\rise\\reveal.js\\css\\theme\\moon.css\n",
      "Up to date: D:\\Anaconda3\\share\\jupyter\\nbextensions\\rise\\reveal.js\\css\\theme\\moon.css.patched\n",
      "Up to date: D:\\Anaconda3\\share\\jupyter\\nbextensions\\rise\\reveal.js\\css\\theme\\night.css\n",
      "Up to date: D:\\Anaconda3\\share\\jupyter\\nbextensions\\rise\\reveal.js\\css\\theme\\night.css.patched\n",
      "Up to date: D:\\Anaconda3\\share\\jupyter\\nbextensions\\rise\\reveal.js\\css\\theme\\README.md\n",
      "Up to date: D:\\Anaconda3\\share\\jupyter\\nbextensions\\rise\\reveal.js\\css\\theme\\serif.css\n",
      "Up to date: D:\\Anaconda3\\share\\jupyter\\nbextensions\\rise\\reveal.js\\css\\theme\\serif.css.patched\n",
      "Up to date: D:\\Anaconda3\\share\\jupyter\\nbextensions\\rise\\reveal.js\\css\\theme\\simple.css\n",
      "Up to date: D:\\Anaconda3\\share\\jupyter\\nbextensions\\rise\\reveal.js\\css\\theme\\simple.css.patched\n",
      "Up to date: D:\\Anaconda3\\share\\jupyter\\nbextensions\\rise\\reveal.js\\css\\theme\\sky.css\n",
      "Up to date: D:\\Anaconda3\\share\\jupyter\\nbextensions\\rise\\reveal.js\\css\\theme\\sky.css.patched\n",
      "Up to date: D:\\Anaconda3\\share\\jupyter\\nbextensions\\rise\\reveal.js\\css\\theme\\solarized.css\n",
      "Up to date: D:\\Anaconda3\\share\\jupyter\\nbextensions\\rise\\reveal.js\\css\\theme\\solarized.css.patched\n",
      "Up to date: D:\\Anaconda3\\share\\jupyter\\nbextensions\\rise\\reveal.js\\css\\theme\\white.css\n",
      "Up to date: D:\\Anaconda3\\share\\jupyter\\nbextensions\\rise\\reveal.js\\css\\theme\\white.css.patched\n",
      "Up to date: D:\\Anaconda3\\share\\jupyter\\nbextensions\\rise\\reveal.js\\css\\theme\\source\\beige.scss\n",
      "Up to date: D:\\Anaconda3\\share\\jupyter\\nbextensions\\rise\\reveal.js\\css\\theme\\source\\black.scss\n",
      "Up to date: D:\\Anaconda3\\share\\jupyter\\nbextensions\\rise\\reveal.js\\css\\theme\\source\\blood.scss\n",
      "Up to date: D:\\Anaconda3\\share\\jupyter\\nbextensions\\rise\\reveal.js\\css\\theme\\source\\league.scss\n",
      "Up to date: D:\\Anaconda3\\share\\jupyter\\nbextensions\\rise\\reveal.js\\css\\theme\\source\\moon.scss\n",
      "Up to date: D:\\Anaconda3\\share\\jupyter\\nbextensions\\rise\\reveal.js\\css\\theme\\source\\night.scss\n",
      "Up to date: D:\\Anaconda3\\share\\jupyter\\nbextensions\\rise\\reveal.js\\css\\theme\\source\\serif.scss\n",
      "Up to date: D:\\Anaconda3\\share\\jupyter\\nbextensions\\rise\\reveal.js\\css\\theme\\source\\simple.scss\n",
      "Up to date: D:\\Anaconda3\\share\\jupyter\\nbextensions\\rise\\reveal.js\\css\\theme\\source\\sky.scss\n",
      "Up to date: D:\\Anaconda3\\share\\jupyter\\nbextensions\\rise\\reveal.js\\css\\theme\\source\\solarized.scss\n",
      "Up to date: D:\\Anaconda3\\share\\jupyter\\nbextensions\\rise\\reveal.js\\css\\theme\\source\\white.scss\n",
      "Up to date: D:\\Anaconda3\\share\\jupyter\\nbextensions\\rise\\reveal.js\\css\\theme\\template\\mixins.scss\n",
      "Up to date: D:\\Anaconda3\\share\\jupyter\\nbextensions\\rise\\reveal.js\\css\\theme\\template\\settings.scss\n",
      "Up to date: D:\\Anaconda3\\share\\jupyter\\nbextensions\\rise\\reveal.js\\css\\theme\\template\\theme.scss\n",
      "Up to date: D:\\Anaconda3\\share\\jupyter\\nbextensions\\rise\\reveal.js\\js\\reveal.js\n",
      "Up to date: D:\\Anaconda3\\share\\jupyter\\nbextensions\\rise\\reveal.js\\lib\\css\\monokai.css\n",
      "Up to date: D:\\Anaconda3\\share\\jupyter\\nbextensions\\rise\\reveal.js\\lib\\css\\zenburn.css\n",
      "Up to date: D:\\Anaconda3\\share\\jupyter\\nbextensions\\rise\\reveal.js\\lib\\font\\league-gothic\\league-gothic.css\n",
      "Up to date: D:\\Anaconda3\\share\\jupyter\\nbextensions\\rise\\reveal.js\\lib\\font\\league-gothic\\league-gothic.eot\n",
      "Up to date: D:\\Anaconda3\\share\\jupyter\\nbextensions\\rise\\reveal.js\\lib\\font\\league-gothic\\league-gothic.ttf\n",
      "Up to date: D:\\Anaconda3\\share\\jupyter\\nbextensions\\rise\\reveal.js\\lib\\font\\league-gothic\\league-gothic.woff\n",
      "Up to date: D:\\Anaconda3\\share\\jupyter\\nbextensions\\rise\\reveal.js\\lib\\font\\league-gothic\\LICENSE\n",
      "Up to date: D:\\Anaconda3\\share\\jupyter\\nbextensions\\rise\\reveal.js\\lib\\font\\source-sans-pro\\LICENSE\n",
      "Up to date: D:\\Anaconda3\\share\\jupyter\\nbextensions\\rise\\reveal.js\\lib\\font\\source-sans-pro\\source-sans-pro-italic.eot\n",
      "Up to date: D:\\Anaconda3\\share\\jupyter\\nbextensions\\rise\\reveal.js\\lib\\font\\source-sans-pro\\source-sans-pro-italic.ttf\n",
      "Up to date: D:\\Anaconda3\\share\\jupyter\\nbextensions\\rise\\reveal.js\\lib\\font\\source-sans-pro\\source-sans-pro-italic.woff\n",
      "Up to date: D:\\Anaconda3\\share\\jupyter\\nbextensions\\rise\\reveal.js\\lib\\font\\source-sans-pro\\source-sans-pro-regular.eot\n",
      "Up to date: D:\\Anaconda3\\share\\jupyter\\nbextensions\\rise\\reveal.js\\lib\\font\\source-sans-pro\\source-sans-pro-regular.ttf\n",
      "Up to date: D:\\Anaconda3\\share\\jupyter\\nbextensions\\rise\\reveal.js\\lib\\font\\source-sans-pro\\source-sans-pro-regular.woff\n",
      "Up to date: D:\\Anaconda3\\share\\jupyter\\nbextensions\\rise\\reveal.js\\lib\\font\\source-sans-pro\\source-sans-pro-semibold.eot\n",
      "Up to date: D:\\Anaconda3\\share\\jupyter\\nbextensions\\rise\\reveal.js\\lib\\font\\source-sans-pro\\source-sans-pro-semibold.ttf\n",
      "Up to date: D:\\Anaconda3\\share\\jupyter\\nbextensions\\rise\\reveal.js\\lib\\font\\source-sans-pro\\source-sans-pro-semibold.woff\n",
      "Up to date: D:\\Anaconda3\\share\\jupyter\\nbextensions\\rise\\reveal.js\\lib\\font\\source-sans-pro\\source-sans-pro-semibolditalic.eot\n",
      "Up to date: D:\\Anaconda3\\share\\jupyter\\nbextensions\\rise\\reveal.js\\lib\\font\\source-sans-pro\\source-sans-pro-semibolditalic.ttf\n",
      "Up to date: D:\\Anaconda3\\share\\jupyter\\nbextensions\\rise\\reveal.js\\lib\\font\\source-sans-pro\\source-sans-pro-semibolditalic.woff\n",
      "Up to date: D:\\Anaconda3\\share\\jupyter\\nbextensions\\rise\\reveal.js\\lib\\font\\source-sans-pro\\source-sans-pro.css\n",
      "Up to date: D:\\Anaconda3\\share\\jupyter\\nbextensions\\rise\\reveal.js\\lib\\js\\html5shiv.js\n",
      "Up to date: D:\\Anaconda3\\share\\jupyter\\nbextensions\\rise\\reveal.js\\lib\\js\\promise.js\n",
      "Up to date: D:\\Anaconda3\\share\\jupyter\\nbextensions\\rise\\reveal.js\\plugin\\highlight\\highlight.js\n",
      "Up to date: D:\\Anaconda3\\share\\jupyter\\nbextensions\\rise\\reveal.js\\plugin\\markdown\\example.html\n",
      "Up to date: D:\\Anaconda3\\share\\jupyter\\nbextensions\\rise\\reveal.js\\plugin\\markdown\\example.md\n",
      "Up to date: D:\\Anaconda3\\share\\jupyter\\nbextensions\\rise\\reveal.js\\plugin\\markdown\\markdown.js\n",
      "Up to date: D:\\Anaconda3\\share\\jupyter\\nbextensions\\rise\\reveal.js\\plugin\\markdown\\marked.js\n",
      "Up to date: D:\\Anaconda3\\share\\jupyter\\nbextensions\\rise\\reveal.js\\plugin\\math\\math.js\n",
      "Up to date: D:\\Anaconda3\\share\\jupyter\\nbextensions\\rise\\reveal.js\\plugin\\multiplex\\client.js\n",
      "Up to date: D:\\Anaconda3\\share\\jupyter\\nbextensions\\rise\\reveal.js\\plugin\\multiplex\\index.js\n",
      "Up to date: D:\\Anaconda3\\share\\jupyter\\nbextensions\\rise\\reveal.js\\plugin\\multiplex\\master.js\n",
      "Up to date: D:\\Anaconda3\\share\\jupyter\\nbextensions\\rise\\reveal.js\\plugin\\multiplex\\package.json\n",
      "Up to date: D:\\Anaconda3\\share\\jupyter\\nbextensions\\rise\\reveal.js\\plugin\\notes\\notes.html\n",
      "Up to date: D:\\Anaconda3\\share\\jupyter\\nbextensions\\rise\\reveal.js\\plugin\\notes\\notes.html.patched\n",
      "Up to date: D:\\Anaconda3\\share\\jupyter\\nbextensions\\rise\\reveal.js\\plugin\\notes\\notes.js\n",
      "Up to date: D:\\Anaconda3\\share\\jupyter\\nbextensions\\rise\\reveal.js\\plugin\\notes\\notes.js.patched\n",
      "Up to date: D:\\Anaconda3\\share\\jupyter\\nbextensions\\rise\\reveal.js\\plugin\\notes-server\\client.js\n",
      "Up to date: D:\\Anaconda3\\share\\jupyter\\nbextensions\\rise\\reveal.js\\plugin\\notes-server\\index.js\n",
      "Up to date: D:\\Anaconda3\\share\\jupyter\\nbextensions\\rise\\reveal.js\\plugin\\notes-server\\notes.html\n",
      "Up to date: D:\\Anaconda3\\share\\jupyter\\nbextensions\\rise\\reveal.js\\plugin\\print-pdf\\print-pdf.js\n",
      "Up to date: D:\\Anaconda3\\share\\jupyter\\nbextensions\\rise\\reveal.js\\plugin\\search\\search.js\n",
      "Up to date: D:\\Anaconda3\\share\\jupyter\\nbextensions\\rise\\reveal.js\\plugin\\zoom-js\\zoom.js\n",
      "Up to date: D:\\Anaconda3\\share\\jupyter\\nbextensions\\rise\\reveal.js\\test\\qunit-2.5.0.css\n",
      "Up to date: D:\\Anaconda3\\share\\jupyter\\nbextensions\\rise\\reveal.js\\test\\qunit-2.5.0.js\n",
      "Up to date: D:\\Anaconda3\\share\\jupyter\\nbextensions\\rise\\reveal.js\\test\\simple.md\n",
      "Up to date: D:\\Anaconda3\\share\\jupyter\\nbextensions\\rise\\reveal.js\\test\\test-dependencies-async.html\n",
      "Up to date: D:\\Anaconda3\\share\\jupyter\\nbextensions\\rise\\reveal.js\\test\\test-dependencies.html\n",
      "Up to date: D:\\Anaconda3\\share\\jupyter\\nbextensions\\rise\\reveal.js\\test\\test-grid-navigation.html\n",
      "Up to date: D:\\Anaconda3\\share\\jupyter\\nbextensions\\rise\\reveal.js\\test\\test-iframe-backgrounds.html\n",
      "Up to date: D:\\Anaconda3\\share\\jupyter\\nbextensions\\rise\\reveal.js\\test\\test-iframes.html\n",
      "Up to date: D:\\Anaconda3\\share\\jupyter\\nbextensions\\rise\\reveal.js\\test\\test-markdown-element-attributes.html\n",
      "Up to date: D:\\Anaconda3\\share\\jupyter\\nbextensions\\rise\\reveal.js\\test\\test-markdown-element-attributes.js\n",
      "Up to date: D:\\Anaconda3\\share\\jupyter\\nbextensions\\rise\\reveal.js\\test\\test-markdown-external.html\n",
      "Up to date: D:\\Anaconda3\\share\\jupyter\\nbextensions\\rise\\reveal.js\\test\\test-markdown-external.js\n",
      "Up to date: D:\\Anaconda3\\share\\jupyter\\nbextensions\\rise\\reveal.js\\test\\test-markdown-options.html\n",
      "Up to date: D:\\Anaconda3\\share\\jupyter\\nbextensions\\rise\\reveal.js\\test\\test-markdown-options.js\n",
      "Up to date: D:\\Anaconda3\\share\\jupyter\\nbextensions\\rise\\reveal.js\\test\\test-markdown-slide-attributes.html\n",
      "Up to date: D:\\Anaconda3\\share\\jupyter\\nbextensions\\rise\\reveal.js\\test\\test-markdown-slide-attributes.js\n",
      "Up to date: D:\\Anaconda3\\share\\jupyter\\nbextensions\\rise\\reveal.js\\test\\test-markdown.html\n",
      "Up to date: D:\\Anaconda3\\share\\jupyter\\nbextensions\\rise\\reveal.js\\test\\test-markdown.js\n",
      "Up to date: D:\\Anaconda3\\share\\jupyter\\nbextensions\\rise\\reveal.js\\test\\test-pdf.html\n",
      "Up to date: D:\\Anaconda3\\share\\jupyter\\nbextensions\\rise\\reveal.js\\test\\test-pdf.js\n",
      "Up to date: D:\\Anaconda3\\share\\jupyter\\nbextensions\\rise\\reveal.js\\test\\test-plugins.html\n",
      "Up to date: D:\\Anaconda3\\share\\jupyter\\nbextensions\\rise\\reveal.js\\test\\test-state.html\n",
      "Up to date: D:\\Anaconda3\\share\\jupyter\\nbextensions\\rise\\reveal.js\\test\\test.html\n",
      "Up to date: D:\\Anaconda3\\share\\jupyter\\nbextensions\\rise\\reveal.js\\test\\test.js\n",
      "Up to date: D:\\Anaconda3\\share\\jupyter\\nbextensions\\rise\\reveal.js\\test\\assets\\external-script-a.js\n",
      "Up to date: D:\\Anaconda3\\share\\jupyter\\nbextensions\\rise\\reveal.js\\test\\assets\\external-script-b.js\n",
      "Up to date: D:\\Anaconda3\\share\\jupyter\\nbextensions\\rise\\reveal.js\\test\\assets\\external-script-c.js\n",
      "Up to date: D:\\Anaconda3\\share\\jupyter\\nbextensions\\rise\\reveal.js\\test\\assets\\external-script-d.js\n",
      "Up to date: D:\\Anaconda3\\share\\jupyter\\nbextensions\\rise\\reveal.js\\test\\examples\\barebones.html\n",
      "Up to date: D:\\Anaconda3\\share\\jupyter\\nbextensions\\rise\\reveal.js\\test\\examples\\embedded-media.html\n",
      "Up to date: D:\\Anaconda3\\share\\jupyter\\nbextensions\\rise\\reveal.js\\test\\examples\\math.html\n",
      "Up to date: D:\\Anaconda3\\share\\jupyter\\nbextensions\\rise\\reveal.js\\test\\examples\\slide-backgrounds.html\n",
      "Up to date: D:\\Anaconda3\\share\\jupyter\\nbextensions\\rise\\reveal.js\\test\\examples\\slide-transitions.html\n",
      "Up to date: D:\\Anaconda3\\share\\jupyter\\nbextensions\\rise\\reveal.js\\test\\examples\\assets\\beeping.txt\n",
      "Up to date: D:\\Anaconda3\\share\\jupyter\\nbextensions\\rise\\reveal.js\\test\\examples\\assets\\beeping.wav\n",
      "Up to date: D:\\Anaconda3\\share\\jupyter\\nbextensions\\rise\\reveal.js\\test\\examples\\assets\\image1.png\n",
      "Up to date: D:\\Anaconda3\\share\\jupyter\\nbextensions\\rise\\reveal.js\\test\\examples\\assets\\image2.png\n",
      "Up to date: D:\\Anaconda3\\share\\jupyter\\nbextensions\\rise\\reveal.js-chalkboard\\chalkboard.js\n",
      "Up to date: D:\\Anaconda3\\share\\jupyter\\nbextensions\\rise\\reveal.js-chalkboard\\README.md\n",
      "Up to date: D:\\Anaconda3\\share\\jupyter\\nbextensions\\rise\\reveal.js-chalkboard\\img\\blackboard.png\n",
      "Up to date: D:\\Anaconda3\\share\\jupyter\\nbextensions\\rise\\reveal.js-chalkboard\\img\\boardmarker-black.png\n",
      "Up to date: D:\\Anaconda3\\share\\jupyter\\nbextensions\\rise\\reveal.js-chalkboard\\img\\boardmarker-blue.png\n",
      "Up to date: D:\\Anaconda3\\share\\jupyter\\nbextensions\\rise\\reveal.js-chalkboard\\img\\boardmarker-green.png\n",
      "Up to date: D:\\Anaconda3\\share\\jupyter\\nbextensions\\rise\\reveal.js-chalkboard\\img\\boardmarker-orange.png\n",
      "Up to date: D:\\Anaconda3\\share\\jupyter\\nbextensions\\rise\\reveal.js-chalkboard\\img\\boardmarker-purple.png\n",
      "Up to date: D:\\Anaconda3\\share\\jupyter\\nbextensions\\rise\\reveal.js-chalkboard\\img\\boardmarker-red.png\n",
      "Up to date: D:\\Anaconda3\\share\\jupyter\\nbextensions\\rise\\reveal.js-chalkboard\\img\\boardmarker-yellow.png\n",
      "Up to date: D:\\Anaconda3\\share\\jupyter\\nbextensions\\rise\\reveal.js-chalkboard\\img\\chalk-blue.png\n",
      "Up to date: D:\\Anaconda3\\share\\jupyter\\nbextensions\\rise\\reveal.js-chalkboard\\img\\chalk-green.png\n",
      "Up to date: D:\\Anaconda3\\share\\jupyter\\nbextensions\\rise\\reveal.js-chalkboard\\img\\chalk-orange.png\n",
      "Up to date: D:\\Anaconda3\\share\\jupyter\\nbextensions\\rise\\reveal.js-chalkboard\\img\\chalk-purple.png\n",
      "Up to date: D:\\Anaconda3\\share\\jupyter\\nbextensions\\rise\\reveal.js-chalkboard\\img\\chalk-red.png\n",
      "Up to date: D:\\Anaconda3\\share\\jupyter\\nbextensions\\rise\\reveal.js-chalkboard\\img\\chalk-white.png\n",
      "Up to date: D:\\Anaconda3\\share\\jupyter\\nbextensions\\rise\\reveal.js-chalkboard\\img\\chalk-yellow.png\n",
      "Up to date: D:\\Anaconda3\\share\\jupyter\\nbextensions\\rise\\reveal.js-chalkboard\\img\\sponge.png\n",
      "Up to date: D:\\Anaconda3\\share\\jupyter\\nbextensions\\rise\\reveal.js-chalkboard\\img\\whiteboard.png\n",
      "- Validating: ok\n",
      "\n",
      "    To initialize this nbextension in the browser every time the notebook (or other app) loads:\n",
      "    \n",
      "          jupyter nbextension enable rise --py --sys-prefix\n",
      "    \n"
     ]
    },
    {
     "name": "stderr",
     "output_type": "stream",
     "text": [
      "Enabling notebook extension rise/main...\n",
      "      - Validating: ok\n"
     ]
    }
   ],
   "source": [
    "!pip install rise\n",
    "!jupyter-nbextension install rise --py --sys-prefix\n",
    "!jupyter-nbextension enable rise --py --sys-prefix"
   ]
  },
  {
   "cell_type": "markdown",
   "id": "e5943eac",
   "metadata": {},
   "source": [
    "### <div style=\"margin-top: -20px;\">\n",
    "<hr style=\"border: 2px solid blue;\">\n",
    "\n",
    "<font color='blue'><span style=\"font-size: 18px;\"><strong>3.5.2 Acessando o Modo Apresentação</strong></span></font>\n",
    "\n",
    "<hr style=\"border: 2px solid blue;\">"
   ]
  },
  {
   "cell_type": "markdown",
   "id": "fb7b88eb",
   "metadata": {},
   "source": [
    "1. No menu superior, clique em \"View\" (Visualizar).\n",
    "\n",
    "2. No menu \"View\" (Visualizar), passe o cursor sobre \"Cell Toolbar\" (Barra de Ferramentas de Células) para abrir o submenu.\n",
    "\n",
    "3. No submenu \"Cell Toolbar\", clique em \"Slideshow\" para ativar a barra de ferramentas do modo de slide.\n",
    "\n",
    "4. Agora você verá uma nova lista suspensa no canto superior direito de cada célula no notebook. Clique nessa lista suspensa para selecionar um tipo de slide para cada célula. As opções incluem \"Slide\" (Slide), \"Sub-Slide\" (Subslide), \"Fragment\" (Fragmento) e outras. Logo mais apresentamos uma breve descrição de cada uma destas opções.\n",
    "\n",
    "5. Agora você está pronto para visualizar seu notebook no modo de slide. Para fazer isso, procure na barra superior um icone com o desenho de um gráfico de barras localizado no canto superior esquerdo (veja a figura a seguir). Clique nele para abrir a apresentação.\n",
    "\n",
    "<img src=\"img2_cap3.jpg\" alt=\"jpg_python\" width=\"800\" height=\"200\">\n",
    "<br></br>\n",
    "\n",
    "<u> </u> <span>A tecla F11 servirá para esconder a barra superior durante a apresentação (aperte F11 para mostrar novamente a barra). Você poderá navegar pelos slides usando as setas do teclado ou os controles de navegação que aparecerão na parte inferior direita do notebook. Para sair do modo apresentação clique no \"X\" localizado no canto superior esquerdo.\n",
    "\n",
    "\n"
   ]
  },
  {
   "cell_type": "markdown",
   "id": "7713dc91",
   "metadata": {
    "slideshow": {
     "slide_type": "-"
    }
   },
   "source": [
    "**Opcional:** Caso a instalação anterior apresente erro (caso não consida seguir os pasos 1 a 7) você poderá tentar atualizar o sistema  abra o \"Anaconda Prompt\" e digite <u>conda update -n base -c defaults conda</u>. Este comando irá atualizar o sistema. Este comando atualizará a versão do Conda no ambiente \"base\" usando as atualizações disponíveis no canal padrão \"defaults\". Isso garantirá que você tenha a versão mais recente do Conda instalada, com todas as melhorias e correções de bugs mais recentes. Espere até que toda atualização termine."
   ]
  },
  {
   "cell_type": "markdown",
   "id": "962a9fcf",
   "metadata": {
    "slideshow": {
     "slide_type": "slide"
    }
   },
   "source": [
    "### <div style=\"margin-top: -20px;\">\n",
    "<hr style=\"border: 2px solid blue;\">\n",
    "\n",
    "<font color='blue'><span style=\"font-size: 18px;\"><strong>3.5.3 Exemplo de Como Configurar Sua Apresentação</strong></span></font>\n",
    "\n",
    "<hr style=\"border: 2px solid blue;\">"
   ]
  },
  {
   "cell_type": "markdown",
   "id": "01361a49",
   "metadata": {
    "slideshow": {
     "slide_type": "notes"
    }
   },
   "source": [
    "No modo de apresentação de slides no Jupyter Notebook, você pode controlar o comportamento e a formatação dos slides usando a caixa \"Slide Type\" (Tipo de Slide), localizada no canto superior direito de cada célula. Ao clicar nessa caixa, você encontrará diferentes opções para personalizar o tipo de cada slide. A seguir apresentamos uma breve descrição das opções disponíveis em \"Slide Type\":"
   ]
  },
  {
   "cell_type": "markdown",
   "id": "4e66e438",
   "metadata": {
    "slideshow": {
     "slide_type": "slide"
    }
   },
   "source": [
    "**Slide**: Essa opção define a célula como um slide principal. Ao utilizar essa configuração, a célula será exibida como um slide separado, ideal para marcar seções principais ou tópicos principais da sua apresentação."
   ]
  },
  {
   "cell_type": "markdown",
   "id": "68020b3f",
   "metadata": {
    "slideshow": {
     "slide_type": "-"
    }
   },
   "source": [
    "**Subslide**: Ao selecionar essa opção, a célula se torna um subslide, exibido abaixo do slide principal. Os subslides são úteis quando você deseja fornecer informações adicionais ou detalhes sobre um tópico específico."
   ]
  },
  {
   "cell_type": "markdown",
   "id": "2b30bb7d",
   "metadata": {
    "slideshow": {
     "slide_type": "-"
    }
   },
   "source": [
    "**Fragment**: A opção \"Fragment\" é utilizada para dividir o conteúdo do slide em fragmentos. Cada fragmento representa uma parte do conteúdo que pode ser revelada sequencialmente à medida que você avança pelos slides. Isso é útil para criar uma apresentação passo a passo ou para destacar informações progressivamente."
   ]
  },
  {
   "cell_type": "markdown",
   "id": "a0b88138",
   "metadata": {
    "slideshow": {
     "slide_type": "slide"
    }
   },
   "source": [
    "**Skip**: Ao escolher essa opção, o slide é pulado durante a apresentação de slides. Isso é útil quando você deseja remover temporariamente um slide da visualização, sem precisar excluí-lo do notebook. Os slides marcados como \"Skip\" são ignorados durante a apresentação."
   ]
  },
  {
   "cell_type": "markdown",
   "id": "53ba6403",
   "metadata": {
    "slideshow": {
     "slide_type": "-"
    }
   },
   "source": [
    "**Notes**: A opção \"Notes\" não serão visíveis durante a apresentação. Elas são destinadas a serem usadas como notas pessoais para ajudá-lo a se preparar e ter uma referência prática durante a apresentação, mas não são visíveis para o público. Para vê-las basta sair do modo apresentação."
   ]
  },
  {
   "cell_type": "markdown",
   "id": "4dfba1bd",
   "metadata": {},
   "source": [
    "A seguir apresentamos um exemplo de apresentação usando o Jupyter Notebook. Configure no menu lateral direito escolhendo as opções "
   ]
  },
  {
   "cell_type": "markdown",
   "id": "9f6a0c49",
   "metadata": {},
   "source": [
    "#### *Exemplo: Modo Apresentação no Jupyter Notebook*"
   ]
  },
  {
   "cell_type": "markdown",
   "id": "cefaa7d0",
   "metadata": {
    "ExecuteTime": {
     "end_time": "2023-06-02T21:52:09.439186Z",
     "start_time": "2023-06-02T21:52:09.432204Z"
    },
    "slideshow": {
     "slide_type": "slide"
    }
   },
   "source": [
    "<div align=\"center\"><span style=\"font-size: 26px;\"><strong>Apresentação Com o Jupyter Notebook</strong></span></div>"
   ]
  },
  {
   "cell_type": "markdown",
   "id": "73f46f73",
   "metadata": {
    "ExecuteTime": {
     "end_time": "2023-06-02T21:49:16.001500Z",
     "start_time": "2023-06-02T21:49:15.976567Z"
    },
    "code_folding": [],
    "slideshow": {
     "slide_type": "slide"
    }
   },
   "source": [
    "<div align=\"center\"><span style=\"font-size: 26px;\"><strong>Slide</strong></span></div>"
   ]
  },
  {
   "cell_type": "code",
   "execution_count": null,
   "id": "5d4144a5",
   "metadata": {
    "ExecuteTime": {
     "end_time": "2023-08-31T13:31:32.758041Z",
     "start_time": "2023-08-31T13:31:26.671321Z"
    },
    "slideshow": {
     "slide_type": "-"
    }
   },
   "outputs": [],
   "source": [
    "!pip install matplotlib"
   ]
  },
  {
   "cell_type": "code",
   "execution_count": null,
   "id": "02fb8329",
   "metadata": {
    "ExecuteTime": {
     "end_time": "2023-08-31T13:33:53.421894Z",
     "start_time": "2023-08-31T13:33:53.062835Z"
    },
    "slideshow": {
     "slide_type": "slide"
    }
   },
   "outputs": [],
   "source": [
    "# módulos e pacotes necessários\n",
    "import matplotlib.pyplot as plt\n",
    "import numpy as np\n",
    "\n",
    "# Definindo uma função\n",
    "x = np.linspace(0, 1, 11)\n",
    "y = x**2\n",
    "\n",
    "print(x)\n",
    "print(y)"
   ]
  },
  {
   "cell_type": "markdown",
   "id": "f05597c3",
   "metadata": {
    "slideshow": {
     "slide_type": "slide"
    }
   },
   "source": [
    "<div align=\"center\"><span style=\"font-size: 26px;\"><strong>Slide Com Subslide</strong></span></div>"
   ]
  },
  {
   "cell_type": "code",
   "execution_count": null,
   "id": "1b8170b5",
   "metadata": {
    "ExecuteTime": {
     "end_time": "2023-08-31T13:33:09.195379Z",
     "start_time": "2023-08-31T13:33:09.190369Z"
    },
    "slideshow": {
     "slide_type": "-"
    }
   },
   "outputs": [],
   "source": [
    "# Definindo uma função (clique na indicação para baixo no canto inferior direito )\n",
    "import numpy as np\n",
    "\n",
    "x = np.linspace(0, 1, 11)\n",
    "y = x**2"
   ]
  },
  {
   "cell_type": "markdown",
   "id": "4b502af3",
   "metadata": {
    "slideshow": {
     "slide_type": "subslide"
    }
   },
   "source": [
    "<div align=\"center\"><span style=\"font-size: 26px;\"><strong>Subslide</strong></span></div>"
   ]
  },
  {
   "cell_type": "code",
   "execution_count": null,
   "id": "3280a0a1",
   "metadata": {
    "ExecuteTime": {
     "end_time": "2023-08-31T13:34:05.549492Z",
     "start_time": "2023-08-31T13:34:04.511084Z"
    },
    "slideshow": {
     "slide_type": "-"
    }
   },
   "outputs": [],
   "source": [
    "# Configurando o gráfico\n",
    "plt.plot(x, y)\n",
    "plt.title('Gráfico')\n",
    "plt.xlabel('x')\n",
    "plt.ylabel('y')\n",
    "plt.show()"
   ]
  },
  {
   "cell_type": "markdown",
   "id": "cbe76a4e",
   "metadata": {
    "slideshow": {
     "slide_type": "slide"
    }
   },
   "source": [
    "<div align=\"center\"><span style=\"font-size: 26px;\"><strong>Slide Com Fragmento</strong></span></div>"
   ]
  },
  {
   "cell_type": "code",
   "execution_count": null,
   "id": "396c7b0f",
   "metadata": {
    "ExecuteTime": {
     "end_time": "2023-08-31T13:34:51.508215Z",
     "start_time": "2023-08-31T13:34:51.503229Z"
    },
    "slideshow": {
     "slide_type": "-"
    }
   },
   "outputs": [],
   "source": [
    "# Definindo uma função (Aperte -> para seguir)\n",
    "import matplotlib.pyplot as plt\n",
    "import numpy as np\n",
    "\n",
    "x = np.linspace(0, 1, 11)\n",
    "y = x**2"
   ]
  },
  {
   "cell_type": "code",
   "execution_count": null,
   "id": "c0aabaac",
   "metadata": {
    "ExecuteTime": {
     "end_time": "2023-08-31T13:35:09.026757Z",
     "start_time": "2023-08-31T13:35:08.854243Z"
    },
    "slideshow": {
     "slide_type": "fragment"
    }
   },
   "outputs": [],
   "source": [
    "# Configurando o gráfico\n",
    "plt.figure(figsize=(4, 4))\n",
    "plt.plot(x, y)\n",
    "plt.title('Gráfico')\n",
    "plt.xlabel('x')\n",
    "plt.ylabel('y')\n",
    "plt.show()"
   ]
  },
  {
   "cell_type": "markdown",
   "id": "ae8b69f6",
   "metadata": {
    "slideshow": {
     "slide_type": "skip"
    }
   },
   "source": [
    "<div align=\"center\"><span style=\"font-size: 26px;\"><strong>Slide Desconsiderado</strong></span></div>"
   ]
  },
  {
   "cell_type": "code",
   "execution_count": null,
   "id": "0f5b9a69",
   "metadata": {
    "ExecuteTime": {
     "end_time": "2023-08-31T13:42:27.308032Z",
     "start_time": "2023-08-31T13:42:27.301055Z"
    },
    "slideshow": {
     "slide_type": "skip"
    }
   },
   "outputs": [],
   "source": [
    "# Outra função\n",
    "import matplotlib.pyplot as plt\n",
    "import numpy as np\n",
    "\n",
    "x = np.linspace(0, 1, 11)\n",
    "y = x**3\n",
    "\n",
    "print(x)\n",
    "print(y)"
   ]
  },
  {
   "cell_type": "markdown",
   "id": "d2634280",
   "metadata": {
    "slideshow": {
     "slide_type": "notes"
    }
   },
   "source": [
    "<div align=\"center\"><span style=\"font-size: 26px;\"><strong>Notas</strong></span></div>"
   ]
  },
  {
   "cell_type": "markdown",
   "id": "24eb3bed",
   "metadata": {
    "slideshow": {
     "slide_type": "notes"
    }
   },
   "source": [
    "\n",
    "*Lembre-se de falar das aplicações dos gráficos de uma função...*"
   ]
  },
  {
   "cell_type": "markdown",
   "id": "7a471eab",
   "metadata": {
    "slideshow": {
     "slide_type": "slide"
    }
   },
   "source": [
    "## <div style=\"margin-top: -20px;\">\n",
    "<hr style=\"border: 2px solid blue;\">\n",
    "\n",
    "<font color='blue'><span style=\"font-size: 22px;\"><strong>3.6 Extensões</strong></span></font>\n",
    "\n",
    "<hr style=\"border: 2px solid blue;\">\n",
    "</div>"
   ]
  },
  {
   "cell_type": "markdown",
   "id": "3e4e1817",
   "metadata": {},
   "source": [
    "O Jupyter Notebook oferece uma ampla variedade de extensões. Essas extensões adicionam funcionalidades extras, recursos e opções de personalização que vão além das funcionalidades padrão do Jupyter Notebook.<br><br>\n",
    "[Página Oficial: jupyter_contrib_nbextensions ](https://jupyter-contrib-nbextensions.readthedocs.io/en/latest/install.html)"
   ]
  },
  {
   "cell_type": "markdown",
   "id": "c14d63f3",
   "metadata": {},
   "source": [
    "A célula a seguir permite ligar ou desligar as extensões disponíveis. Algumas delas já estão ativadas (true), enquanto outras não estão. Para \"ativar\" uma extensão, altere seu valor lógico para \"true\" e execute o código. Para \"desativar\" uma extensão, altere seu valor lógico para \"false\" e execute o código . Aguarde alguns segundos e atualize a página pressionando F5. Em seguida, você encontrará uma breve descrição de cada extensão. Além disso, no menu 'Help' -> 'Jupyter-contrib nbextensions', você será direcionado a uma página com exemplos de uso. As extensões passam a valer para todos os notebooks existentes e criados após a ativação."
   ]
  },
  {
   "cell_type": "code",
   "execution_count": null,
   "id": "f31fce86",
   "metadata": {
    "slideshow": {
     "slide_type": "-"
    }
   },
   "outputs": [],
   "source": [
    "!pip install nbextensions"
   ]
  },
  {
   "cell_type": "code",
   "execution_count": 3,
   "id": "f5e6c4dd",
   "metadata": {
    "ExecuteTime": {
     "end_time": "2023-10-10T21:43:08.898943Z",
     "start_time": "2023-10-10T21:43:08.891962Z"
    },
    "code_folding": []
   },
   "outputs": [
    {
     "data": {
      "application/javascript": [
       "\n",
       "var nbextensions_config = {\n",
       "  'load_extensions': {\n",
       "    'addbefore/main': false,\n",
       "    'autoscroll/main': false,\n",
       "    'autosavetime/main': false,\n",
       "    'cell_filter/cell_filter': false,\n",
       "    'code_font_size/code_font_size': false,\n",
       "    'code_prettify/2to3': false,\n",
       "    'code_prettify/autopep8': false,\n",
       "    'code_prettify/code_prettify': false,\n",
       "    'code_prettify/isort': false,\n",
       "    'codefolding/edit': false,\n",
       "    'codefolding/main': false,\n",
       "    'codemirror_mode_extensions/main': false,\n",
       "    'collapsible_headings/main': true,\n",
       "    'comment-uncomment/main': false,\n",
       "    'contrib_nbextensions_help_item/main': false,\n",
       "    'datestamper/main': false,\n",
       "    'equation-numbering/main': false,\n",
       "    'execute_time/ExecuteTime': false,\n",
       "    'exercise/main': false,\n",
       "    'exercise2/main': false,\n",
       "    'export_embedded/main': true,\n",
       "    'freeze/main': true,\n",
       "    'gist_it/main': false,\n",
       "    'go_to_current_running_cell/main': false,\n",
       "    'help_panel/help_panel': false,\n",
       "    'highlight_selected_word/main': true,\n",
       "    'highlighter/highlighter': true,\n",
       "    'jupyter-js-widgets/extension': false,\n",
       "    'jupyterlab-plotly/extension': true,\n",
       "    'keyboard_shortcut_editor/main': false,\n",
       "    'load_tex_macros/main': true,\n",
       "    'livemdpreview/livemdpreview': true,\n",
       "    'limit_output/main': false,\n",
       "    'move_selected_cells/main': false,\n",
       "    'nbTranslate/main': false,\n",
       "    'nbextensions_configurator/config_menu/main': true,\n",
       "    'nbextensions_configurator/tree_tab/main': true,\n",
       "    'navigation-hotkeys/main': false,\n",
       "    'notify/notify': false,\n",
       "    'printview/main': false,\n",
       "    'python-markdown/main': false,\n",
       "    'qtconsole/qtconsole': false,\n",
       "    'rise/main': true,\n",
       "    'rubberband/main': false,\n",
       "    'runtools/main': false,\n",
       "    'ruler/edit': false,\n",
       "    'ruler/main': false,\n",
       "    'scroll_down/main': false,\n",
       "    'scratchpad/main': false,\n",
       "    'select_keymap/main': false,\n",
       "    'skill/main': false,\n",
       "    'skip-traceback/main': false,\n",
       "    'snippets/main': false,\n",
       "    'snippets_menu/main': false,\n",
       "    'spellchecker/main': false,\n",
       "    'splitcell/splitcell': false,\n",
       "    'table_beautifier/main': false,\n",
       "    'toc2/main': false,\n",
       "    'toggle_all_line_numbers/main': true,\n",
       "    'tree-filter/index': false,\n",
       "    'varInspector/main': false,\n",
       "    'zenmode/main': false\n",
       "  },\n",
       "  'menu': {\n",
       "    'jupyter-js-widgets/extension': true,\n",
       "    'jupyterlab-plotly/extension': true,\n",
       "    'nbextensions_configurator/config_menu/main': true,\n",
       "    'rise/main': true\n",
       "  }\n",
       "};\n",
       "\n",
       "Jupyter.notebook.config.update(nbextensions_config);\n"
      ],
      "text/plain": [
       "<IPython.core.display.Javascript object>"
      ]
     },
     "metadata": {},
     "output_type": "display_data"
    }
   ],
   "source": [
    "%%javascript\n",
    "\n",
    "var nbextensions_config = {\n",
    "  'load_extensions': {\n",
    "    'addbefore/main': false,\n",
    "    'autoscroll/main': false,\n",
    "    'autosavetime/main': false,\n",
    "    'cell_filter/cell_filter': false,\n",
    "    'code_font_size/code_font_size': false,\n",
    "    'code_prettify/2to3': false,\n",
    "    'code_prettify/autopep8': false,\n",
    "    'code_prettify/code_prettify': false,\n",
    "    'code_prettify/isort': false,\n",
    "    'codefolding/edit': false,\n",
    "    'codefolding/main': false,\n",
    "    'codemirror_mode_extensions/main': false,\n",
    "    'collapsible_headings/main': true,\n",
    "    'comment-uncomment/main': false,\n",
    "    'contrib_nbextensions_help_item/main': false,\n",
    "    'datestamper/main': false,\n",
    "    'equation-numbering/main': false,\n",
    "    'execute_time/ExecuteTime': false,\n",
    "    'exercise/main': false,\n",
    "    'exercise2/main': false,\n",
    "    'export_embedded/main': true,\n",
    "    'freeze/main': true,\n",
    "    'gist_it/main': false,\n",
    "    'go_to_current_running_cell/main': false,\n",
    "    'help_panel/help_panel': false,\n",
    "    'highlight_selected_word/main': true,\n",
    "    'highlighter/highlighter': true,\n",
    "    'jupyter-js-widgets/extension': false,\n",
    "    'jupyterlab-plotly/extension': true,\n",
    "    'keyboard_shortcut_editor/main': false,\n",
    "    'load_tex_macros/main': true,\n",
    "    'livemdpreview/livemdpreview': true,\n",
    "    'limit_output/main': false,\n",
    "    'move_selected_cells/main': false,\n",
    "    'nbTranslate/main': false,\n",
    "    'nbextensions_configurator/config_menu/main': true,\n",
    "    'nbextensions_configurator/tree_tab/main': true,\n",
    "    'navigation-hotkeys/main': false,\n",
    "    'notify/notify': false,\n",
    "    'printview/main': false,\n",
    "    'python-markdown/main': false,\n",
    "    'qtconsole/qtconsole': false,\n",
    "    'rise/main': true,\n",
    "    'rubberband/main': false,\n",
    "    'runtools/main': false,\n",
    "    'ruler/edit': false,\n",
    "    'ruler/main': false,\n",
    "    'scroll_down/main': false,\n",
    "    'scratchpad/main': false,\n",
    "    'select_keymap/main': false,\n",
    "    'skill/main': false,\n",
    "    'skip-traceback/main': false,\n",
    "    'snippets/main': false,\n",
    "    'snippets_menu/main': false,\n",
    "    'spellchecker/main': false,\n",
    "    'splitcell/splitcell': false,\n",
    "    'table_beautifier/main': false,\n",
    "    'toc2/main': false,\n",
    "    'toggle_all_line_numbers/main': true,\n",
    "    'tree-filter/index': false,\n",
    "    'varInspector/main': false,\n",
    "    'zenmode/main': false\n",
    "  },\n",
    "  'menu': {\n",
    "    'jupyter-js-widgets/extension': true,\n",
    "    'jupyterlab-plotly/extension': true,\n",
    "    'nbextensions_configurator/config_menu/main': true,\n",
    "    'rise/main': true\n",
    "  }\n",
    "};\n",
    "\n",
    "Jupyter.notebook.config.update(nbextensions_config);\n"
   ]
  },
  {
   "cell_type": "markdown",
   "id": "9d8a7cdd",
   "metadata": {},
   "source": [
    "## <div style=\"margin-top: -20px;\">\n",
    "<hr style=\"border: 2px solid blue;\">\n",
    "\n",
    "<font color='blue'><span style=\"font-size: 22px;\"><strong>Exercícios</strong></span></font>\n",
    "\n",
    "<hr style=\"border: 2px solid blue;\">\n",
    "</div>"
   ]
  },
  {
   "cell_type": "markdown",
   "id": "f4d36df4",
   "metadata": {
    "ExecuteTime": {
     "end_time": "2023-09-12T13:18:24.810304Z",
     "start_time": "2023-09-12T13:18:24.806018Z"
    }
   },
   "source": [
    "#### Exercício 1"
   ]
  },
  {
   "cell_type": "markdown",
   "id": "414f7a9e",
   "metadata": {},
   "source": [
    "Tente reproduzir os textos e formatações das figuras a seguir:"
   ]
  },
  {
   "cell_type": "markdown",
   "id": "66877148",
   "metadata": {},
   "source": [
    "<center> <img src=\"img3_cap3.jpg\" alt=\"jpg_python\" width=\"800\" height=\"\"> </center>"
   ]
  },
  {
   "cell_type": "markdown",
   "id": "e7c9b897",
   "metadata": {},
   "source": [
    "*Dica: Localize células com formatação semelhante, copie, cole e em seguida edite para ajustar ao que foi solicitado.*"
   ]
  },
  {
   "cell_type": "code",
   "execution_count": null,
   "id": "35a682c7",
   "metadata": {},
   "outputs": [],
   "source": []
  },
  {
   "cell_type": "code",
   "execution_count": null,
   "id": "3dc78cc2",
   "metadata": {},
   "outputs": [],
   "source": []
  },
  {
   "cell_type": "code",
   "execution_count": null,
   "id": "f2453050",
   "metadata": {},
   "outputs": [],
   "source": []
  },
  {
   "cell_type": "code",
   "execution_count": null,
   "id": "efcc3a0a",
   "metadata": {},
   "outputs": [],
   "source": []
  },
  {
   "cell_type": "code",
   "execution_count": null,
   "id": "6908e70d",
   "metadata": {},
   "outputs": [],
   "source": []
  },
  {
   "cell_type": "markdown",
   "id": "87b74982",
   "metadata": {},
   "source": [
    "#### Exercício 2"
   ]
  },
  {
   "cell_type": "markdown",
   "id": "63de37de",
   "metadata": {},
   "source": [
    "Tente resproduzir as expressões matemáticas a seguir no estilo LaTex:\n",
    "\n",
    "***Observação:*** *Requer certa habilidade com LaTex. Caso não tenha, ignore por enquanto.*"
   ]
  },
  {
   "cell_type": "markdown",
   "id": "689ed479",
   "metadata": {},
   "source": [
    "<center> <img src=\"img4_cap3.jpg\" alt=\"jpg_python\" width=\"700\" height=\"\"> </center>"
   ]
  },
  {
   "cell_type": "code",
   "execution_count": null,
   "id": "398af9b2",
   "metadata": {},
   "outputs": [],
   "source": []
  },
  {
   "cell_type": "code",
   "execution_count": null,
   "id": "94bf012a",
   "metadata": {},
   "outputs": [],
   "source": []
  },
  {
   "cell_type": "code",
   "execution_count": null,
   "id": "e0b43486",
   "metadata": {},
   "outputs": [],
   "source": []
  },
  {
   "cell_type": "code",
   "execution_count": null,
   "id": "78eee764",
   "metadata": {},
   "outputs": [],
   "source": []
  },
  {
   "cell_type": "code",
   "execution_count": null,
   "id": "311acde6",
   "metadata": {},
   "outputs": [],
   "source": []
  },
  {
   "cell_type": "code",
   "execution_count": null,
   "id": "665e7b23",
   "metadata": {},
   "outputs": [],
   "source": []
  },
  {
   "cell_type": "markdown",
   "id": "94788f50",
   "metadata": {},
   "source": [
    "#### Exercício 3"
   ]
  },
  {
   "cell_type": "markdown",
   "id": "f17a2ad7",
   "metadata": {},
   "source": [
    "Reproduza a seguinte tabela em formato no estilo LaTex:"
   ]
  },
  {
   "cell_type": "markdown",
   "id": "84a5793c",
   "metadata": {},
   "source": [
    "<center> <img src=\"img5_cap3.jpg\" alt=\"jpg_python\" width=\"350\" height=\"\"> </center>"
   ]
  },
  {
   "cell_type": "markdown",
   "id": "5e97546d",
   "metadata": {},
   "source": [
    "#### Exercício 4"
   ]
  },
  {
   "cell_type": "markdown",
   "id": "2e32fa7b",
   "metadata": {},
   "source": [
    "Capture esta tela, salve-a na pasta deste capítulo no formato **jpg**. Chame-a na célula a seguir:"
   ]
  },
  {
   "cell_type": "code",
   "execution_count": null,
   "id": "6ddcc696",
   "metadata": {},
   "outputs": [],
   "source": []
  },
  {
   "cell_type": "markdown",
   "id": "8830dfa6",
   "metadata": {},
   "source": [
    "#### Exercício 5"
   ]
  },
  {
   "cell_type": "markdown",
   "id": "2fa4038d",
   "metadata": {},
   "source": [
    "Crie um hyperlink de uma página que costuma acessar na página a seguir com a seguinte indicação: **\"Nome a sua escolha\"**."
   ]
  },
  {
   "cell_type": "markdown",
   "id": "0f1918a7",
   "metadata": {},
   "source": [
    "### <div style=\"margin-top: -20px;\">\n",
    "<hr style=\"border: 2px solid blue;\">\n",
    "\n",
    "<font color='blue'><span style=\"font-size: 18px;\"><strong>Soluções dos Exercícios</strong></span></font>\n",
    "\n",
    "<hr style=\"border: 2px solid blue;\">\n",
    "</div>"
   ]
  },
  {
   "cell_type": "markdown",
   "id": "e66dbeea",
   "metadata": {},
   "source": [
    "#### Solução do Exercício 1"
   ]
  },
  {
   "cell_type": "markdown",
   "id": "8d26d2bd",
   "metadata": {},
   "source": [
    "Clique duas vezes em cada uma das células a seguir para ver a formatação usada."
   ]
  },
  {
   "cell_type": "markdown",
   "id": "236cc499",
   "metadata": {},
   "source": [
    "a) *Olá, estou fazendo o Curso de Análise de Dados Com o Python.*"
   ]
  },
  {
   "cell_type": "markdown",
   "id": "b5877098",
   "metadata": {},
   "source": [
    "b) **Olá, estou fazendo o Curso de Análise de Dados Com o Python.**"
   ]
  },
  {
   "cell_type": "markdown",
   "id": "c6fb7805",
   "metadata": {},
   "source": [
    "c) <font color='green'>**Verde**</font> é minha cor *favorita*"
   ]
  },
  {
   "cell_type": "markdown",
   "id": "796310d9",
   "metadata": {},
   "source": [
    "d) A cor <font color='darkkhaki'>**darkkhaki**</font> tem nome <u>engraçado</u> mas eu gostei."
   ]
  },
  {
   "cell_type": "markdown",
   "id": "b0624634",
   "metadata": {},
   "source": [
    "e) \n",
    "<hr style=\"width: 50%; border: 4px solid red;\">\n",
    "<center> <font color='blue'> O IFBA é uma grande instituição. </font> </center>\n",
    "<hr style=\"width: 50%; border: 4px solid red;\">"
   ]
  },
  {
   "cell_type": "markdown",
   "id": "a047d9a3",
   "metadata": {},
   "source": [
    "#### Solução do Exercício 2"
   ]
  },
  {
   "cell_type": "markdown",
   "id": "9c8d3e36",
   "metadata": {},
   "source": [
    "Clique duas vezes em cada uma das células a seguir para ver a formatação usada."
   ]
  },
  {
   "cell_type": "markdown",
   "id": "d9a4c598",
   "metadata": {},
   "source": [
    "a) $2^{3} + 5$"
   ]
  },
  {
   "cell_type": "markdown",
   "id": "921426c1",
   "metadata": {},
   "source": [
    "b) $\\frac{3}{5+x^{2}}$"
   ]
  },
  {
   "cell_type": "markdown",
   "id": "582eb1eb",
   "metadata": {},
   "source": [
    "c) $$ x^{2} - 5x + 6 = 0$$"
   ]
  },
  {
   "cell_type": "markdown",
   "id": "e7210728",
   "metadata": {},
   "source": [
    "d) $3 \\times \\sqrt{5x_{1}}$"
   ]
  },
  {
   "cell_type": "markdown",
   "id": "4c88d212",
   "metadata": {},
   "source": [
    "e) $$\\frac{(x_{1} + 4x_{2} - 1)^{2} + 1}{4}$$"
   ]
  },
  {
   "cell_type": "markdown",
   "id": "d7d64a7a",
   "metadata": {},
   "source": [
    "f) $$\\left(\\frac{4}{5+2x} \\right)^{x + \\frac{2}{e^{x}}}$$"
   ]
  },
  {
   "cell_type": "markdown",
   "id": "a0bf8b38",
   "metadata": {},
   "source": [
    "#### Solução do Exercício 3"
   ]
  },
  {
   "cell_type": "markdown",
   "id": "5af67a5c",
   "metadata": {},
   "source": [
    "Clique duas vezes em cada uma das células a seguir para ver a formatação usada."
   ]
  },
  {
   "cell_type": "markdown",
   "id": "264310a8",
   "metadata": {},
   "source": [
    "<font color='blue'> $$\n",
    "\\begin{array}{|c|c|c|}\n",
    "\\hline\n",
    "Frutas\t    & \t Custo \\ (R\\$)   \t& Valor \\ de \\ Venda \\ (R\\$)  \t\t        \\\\\n",
    "\\hline\n",
    " Banana  \t\t    & \t 6,00   \t& 10,00   \t\\\\\n",
    " \\hline\n",
    " Laranja  \t\t    & \t 5,00   \t& 8,00\t    \\\\\n",
    " \\hline\n",
    " Pêra  \t\t        & \t 8,15   \t& 14,00  \t\\\\\n",
    " \\hline\n",
    " Uva  \t\t        & \t 7,25   \t& 13,50    \t\\\\\n",
    " \\hline\n",
    " Abacaxi  \t\t    & \t 2,5     \t& 6,00   \t\\\\\n",
    " \\hline\n",
    "\\end{array}\n",
    "$$ </font>"
   ]
  },
  {
   "cell_type": "markdown",
   "id": "3f758bd8",
   "metadata": {},
   "source": [
    "#### Solução do Exercício 4"
   ]
  },
  {
   "cell_type": "markdown",
   "id": "17134187",
   "metadata": {},
   "source": [
    "Clique duas vezes em cada uma das células a seguir para ver a formatação usada."
   ]
  },
  {
   "cell_type": "markdown",
   "id": "8d456fe0",
   "metadata": {},
   "source": [
    "<center> <img src=\"img6_cap3.jpg\" alt=\"jpg_python\" width=\"700\" height=\"\"> </center>"
   ]
  },
  {
   "cell_type": "markdown",
   "id": "59f77dbc",
   "metadata": {
    "ExecuteTime": {
     "end_time": "2023-09-12T14:16:18.022522Z",
     "start_time": "2023-09-12T14:16:18.018324Z"
    }
   },
   "source": [
    "#### Solução do Exercício 5"
   ]
  },
  {
   "cell_type": "markdown",
   "id": "7d87a30c",
   "metadata": {},
   "source": [
    "Clique duas vezes em cada uma das células a seguir para ver a formatação usada."
   ]
  },
  {
   "cell_type": "markdown",
   "id": "dcefba33",
   "metadata": {},
   "source": [
    "[Esta é minha equipe](https://github.com/Allanifba/Curso_Python_Com_Jupyter_Notebook/tree/main/Capitulo000_Equipe)"
   ]
  },
  {
   "cell_type": "markdown",
   "id": "77005db3",
   "metadata": {},
   "source": [
    "<center> <b> You have no idea what power this represents! </b> </center>"
   ]
  }
 ],
 "metadata": {
  "gist": {
   "data": {
    "description": "Arquivos Allan/Curso Básico Python Para Análise de Dados/Não Gravados/Capítulo003.ipynb",
    "public": true
   },
   "id": ""
  },
  "kernelspec": {
   "display_name": "Python 3 (ipykernel)",
   "language": "python",
   "name": "python3"
  },
  "language_info": {
   "codemirror_mode": {
    "name": "ipython",
    "version": 3
   },
   "file_extension": ".py",
   "mimetype": "text/x-python",
   "name": "python",
   "nbconvert_exporter": "python",
   "pygments_lexer": "ipython3",
   "version": "3.11.5"
  },
  "nbTranslate": {
   "displayLangs": [
    "pt"
   ],
   "hotkey": "alt-t",
   "langInMainMenu": true,
   "sourceLang": "en",
   "targetLang": "pt",
   "useGoogleTranslate": false
  },
  "toc": {
   "base_numbering": 1,
   "nav_menu": {},
   "number_sections": true,
   "sideBar": true,
   "skip_h1_title": false,
   "title_cell": "Table of Contents",
   "title_sidebar": "Contents",
   "toc_cell": false,
   "toc_position": {},
   "toc_section_display": true,
   "toc_window_display": false
  },
  "varInspector": {
   "cols": {
    "lenName": 16,
    "lenType": 16,
    "lenVar": 40
   },
   "kernels_config": {
    "python": {
     "delete_cmd_postfix": "",
     "delete_cmd_prefix": "del ",
     "library": "var_list.py",
     "varRefreshCmd": "print(var_dic_list())"
    },
    "r": {
     "delete_cmd_postfix": ") ",
     "delete_cmd_prefix": "rm(",
     "library": "var_list.r",
     "varRefreshCmd": "cat(var_dic_list()) "
    }
   },
   "types_to_exclude": [
    "module",
    "function",
    "builtin_function_or_method",
    "instance",
    "_Feature"
   ],
   "window_display": false
  }
 },
 "nbformat": 4,
 "nbformat_minor": 5
}
