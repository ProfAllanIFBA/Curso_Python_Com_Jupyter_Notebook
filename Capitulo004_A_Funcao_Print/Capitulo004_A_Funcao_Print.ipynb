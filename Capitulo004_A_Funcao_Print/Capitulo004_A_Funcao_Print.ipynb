{
 "cells": [
  {
   "cell_type": "markdown",
   "id": "1218d21f",
   "metadata": {},
   "source": [
    "<center> <img src=\"logo_ifba.jpg\" alt=\"jpg_python\" width=\"100\" height=\"\"> </center>\n",
    "<br><br>\n",
    "<center> <img src=\"logo_coext.jpg\" alt=\"jpg_python\" width=\"200\" height=\"\"> </center>\n",
    "<br><br>\n",
    "<div align=\"center\"><span style=\"font-size: 26px;\"><strong>Python Com Jupyter Notebook</strong></span></div><br><br>\n",
    "<center><div style=\"text-align:center\">    <a href=\"https://colab.research.google.com/github/ProfAllanIFBA/Curso_Python_Com_Jupyter_Notebook/blob/main/Capitulo004_A_Funcao_Print/Capitulo004_A_Funcao_Print.ipynb\">Link Colab</a> \n",
    "</div><br><br></center>\n",
    "<center> <img src=\"python_gif.gif\" alt=\"gif_python\" width=\"80\"> </center>"
   ]
  },
  {
   "cell_type": "markdown",
   "id": "cfe6f2f2",
   "metadata": {},
   "source": [
    "Este material apresenta uma explicação detalhada sobre o uso do software de programação em Python chamado Jupyter Notebook, com foco na análise de dados. Abordaremos desde estruturas básicas, como listas e dicionários, até estruturas mais complexas voltadas para a análise de dados, como pandas e seaborn, além de ferramentas destinadas à inteligência artificial.\n",
    "\n",
    "\n",
    "<font color='red'> <u>Este é um material de uso público e totalmente gratuito</u>. Contudo, eventuais edições são de responsabilidade de quem as fizer. </font>\n",
    "\n",
    "Você pode ajudar a melhorar este material!\n",
    "\n",
    "Contato e Sugestões: allansoares@ifba.edu.br.\n",
    "\n",
    "[**Equipe Executora**](https://github.com/ProfAllanIFBA/Curso_Python_Com_Jupyter_Notebook/blob/main/Capitulo000_Equipe/Capitulo000_Equipe.ipynb)"
   ]
  },
  {
   "cell_type": "markdown",
   "id": "38f49536",
   "metadata": {},
   "source": [
    "### <center> <font color='red'> Vídeo Aulas <img src=\"youtube.gif\" alt=\"jpg_python\" width=\"100\" height=\"\"> </font> </center>"
   ]
  },
  {
   "cell_type": "markdown",
   "id": "02467301",
   "metadata": {},
   "source": [
    "[A Função Print](https://youtu.be/zqXNlnZ85Rw)\n",
    "\n",
    "[Argumentos Sep e End no Python](https://youtu.be/_a7wxF7437c)"
   ]
  },
  {
   "cell_type": "markdown",
   "id": "3196a5a5",
   "metadata": {},
   "source": [
    "# \n",
    "<div style=\"border: 2px solid black; padding: 10px; width: 100%; background-color: lightgray; display: flex; align-items: center;\">\n",
    "    <h1 style=\"color: red; text-align: center; margin: auto;\">\n",
    "        Capítulo 4: A Função Print\n",
    "    </h1>\n",
    "</div>\n",
    "\n",
    "<font color='red'></font>\n",
    "<a href=\"\"></a>"
   ]
  },
  {
   "cell_type": "markdown",
   "id": "5d6a2bc2",
   "metadata": {},
   "source": [
    "A função <u>print</u> é uma das mais utilizadas em Python. Ela nos permite exibir informações na tela do computador como textos, números, variáveis, resultados de operações matemáticas etc. Por isso dedicamos um capítulo só para ela."
   ]
  },
  {
   "cell_type": "markdown",
   "id": "0a7d4e5e",
   "metadata": {},
   "source": [
    "Há várias formas de formatar a saída do comando print em Python, o que torna essa função bastante versátil. Você pode utilizar métodos como \".format()\", \"f-strings\" e \"%\" para inserir valores em meio aos seus textos. Além disso, é possível personalizar a formatação da saída utilizando argumentos como \"sep\" e \"end\"."
   ]
  },
  {
   "cell_type": "markdown",
   "id": "1082a021",
   "metadata": {},
   "source": [
    "## <div style=\"margin-top: -20px;\">\n",
    "<hr style=\"border: 2px solid blue;\">\n",
    "\n",
    "<font color='blue'><span style=\"font-size: 22px;\"><strong>4.1 Métodos e Operadores</strong></span></font>\n",
    "\n",
    "<hr style=\"border: 2px solid blue;\">\n",
    "</div>"
   ]
  },
  {
   "cell_type": "code",
   "execution_count": null,
   "id": "ef47b75c",
   "metadata": {},
   "outputs": [],
   "source": [
    "nome = 'Allan'\n",
    "print(nome)"
   ]
  },
  {
   "cell_type": "markdown",
   "id": "80ff3ab6",
   "metadata": {},
   "source": [
    "### Método .format()"
   ]
  },
  {
   "cell_type": "markdown",
   "id": "f878ecbb",
   "metadata": {},
   "source": [
    "Esse método permite formatar uma string usando espaços reservados (placeholders) e o método .format(). Os espaços reservados são definidos por chaves {} e podem ser substituídos pelos valores desejados. É possível também especificar o formato dos valores usando especificadores de formato, como <u>:d</u> para números inteiros ou :.nf para números de ponto flutuante com n casas decimais."
   ]
  },
  {
   "cell_type": "markdown",
   "id": "5fc5aa28",
   "metadata": {},
   "source": [
    "#### *Exemplo 1: Inserindo variáveis em uma frase*"
   ]
  },
  {
   "cell_type": "code",
   "execution_count": null,
   "id": "1f8bced1",
   "metadata": {
    "ExecuteTime": {
     "end_time": "2023-06-26T20:01:35.146728Z",
     "start_time": "2023-06-26T20:01:35.140786Z"
    }
   },
   "outputs": [],
   "source": [
    "# Variáveis\n",
    "nome = \"Allan\"\n",
    "idade = 39\n",
    "\n",
    "# Imprimindo variáveis em meio a uma frase usando o método \".format()\"\n",
    "print(\"Meu nome é {} eu tenho {} anos.\".format(nome, idade))"
   ]
  },
  {
   "cell_type": "markdown",
   "id": "6e117c1c",
   "metadata": {},
   "source": [
    "#### *Exemplo 2: Utilizando o especificador :d*"
   ]
  },
  {
   "cell_type": "code",
   "execution_count": null,
   "id": "63d3ac47",
   "metadata": {
    "ExecuteTime": {
     "end_time": "2023-06-26T20:01:53.513866Z",
     "start_time": "2023-06-26T20:01:53.508855Z"
    }
   },
   "outputs": [],
   "source": [
    "# Variável\n",
    "age = 39\n",
    "\n",
    "# Imprimindo a variável em meio a uma frase usando o método format e o especificador \":d\"\n",
    "print(\"Eu tenho {:d} anos.\".format(age))"
   ]
  },
  {
   "cell_type": "markdown",
   "id": "b399f7ec",
   "metadata": {},
   "source": [
    "#### *Exemplo 3: Utilizando o especificador :f*"
   ]
  },
  {
   "cell_type": "code",
   "execution_count": null,
   "id": "7f85d6a4",
   "metadata": {
    "ExecuteTime": {
     "end_time": "2023-06-26T20:02:16.681931Z",
     "start_time": "2023-06-26T20:02:16.676936Z"
    }
   },
   "outputs": [],
   "source": [
    "# Variável\n",
    "pi = 3.14159\n",
    "\n",
    "# Imprimindo a variável em meio a uma frase usando o método format e o especificador \":f\"\n",
    "print(\"O valor de pi é aproximadamente {:.2f}.\".format(pi))"
   ]
  },
  {
   "cell_type": "markdown",
   "id": "69de7d6e",
   "metadata": {},
   "source": [
    "### Método f-string"
   ]
  },
  {
   "cell_type": "markdown",
   "id": "12972314",
   "metadata": {},
   "source": [
    "Esse método foi introduzido no Python 3.6, as f-strings (format strings) permitem inserir expressões diretamente dentro de uma string precedida pelo caractere f. As variáveis e expressões dentro das chaves { } serão avaliadas e substituídas pelo seu valor."
   ]
  },
  {
   "cell_type": "markdown",
   "id": "5c2f32d3",
   "metadata": {},
   "source": [
    "#### *Exemplo: Inserindo variáveis em uma frase*"
   ]
  },
  {
   "cell_type": "code",
   "execution_count": null,
   "id": "35d8b807",
   "metadata": {
    "ExecuteTime": {
     "end_time": "2023-06-26T20:03:59.115509Z",
     "start_time": "2023-06-26T20:03:59.109551Z"
    }
   },
   "outputs": [],
   "source": [
    "# Variáveis\n",
    "nome = \"Allan\"\n",
    "idade = 39\n",
    "\n",
    "# Imprimindo variáveis em meio a uma frase usando o método \"f-string\"\n",
    "print(f\"Meu nome é {nome} e eu tenho {idade} anos.\")"
   ]
  },
  {
   "cell_type": "markdown",
   "id": "3d52a085",
   "metadata": {},
   "source": [
    "### Operador %"
   ]
  },
  {
   "cell_type": "markdown",
   "id": "8dce30dd",
   "metadata": {},
   "source": [
    "Este operador de formatação pode ser usado para formatar uma string, substituindo valores em espaços reservados. O símbolo % é seguido por um especificador de formato para cada valor que será substituído, <u>s</u> para string, <u>d</u> para inteiro e <u>f</u> float."
   ]
  },
  {
   "cell_type": "markdown",
   "id": "d872e266",
   "metadata": {},
   "source": [
    "#### *Exemplo: Inserindo diversas variáveis em uma frase*"
   ]
  },
  {
   "cell_type": "code",
   "execution_count": null,
   "id": "220fbe21",
   "metadata": {
    "ExecuteTime": {
     "end_time": "2023-06-03T00:37:39.777164Z",
     "start_time": "2023-06-03T00:37:39.772155Z"
    }
   },
   "outputs": [],
   "source": [
    "# Variáveis\n",
    "nome = \"Allan\"\n",
    "idade = 39\n",
    "altura = 1.67\n",
    "\n",
    "# Imprimindo variáveis em meio a uma frase usando o operador \"%\"\n",
    "print(\"Meu nome é %s e eu tenho %d anos e %.2f de altura.\" % (nome, idade, altura))"
   ]
  },
  {
   "cell_type": "markdown",
   "id": "45e7130d",
   "metadata": {},
   "source": [
    "## <div style=\"margin-top: -20px;\">\n",
    "<hr style=\"border: 2px solid blue;\">\n",
    "\n",
    "<font color='blue'><span style=\"font-size: 22px;\"><strong>4.2 Argumentos sep e end</strong></span></font>\n",
    "\n",
    "<hr style=\"border: 2px solid blue;\">\n",
    "</div>\n"
   ]
  },
  {
   "cell_type": "markdown",
   "id": "d7237379",
   "metadata": {},
   "source": [
    "### sep"
   ]
  },
  {
   "cell_type": "markdown",
   "id": "e02be8f6",
   "metadata": {},
   "source": [
    "O argumento <u>sep</u> é um opcional que define o separador entre os valores que estão sendo impressos. Por padrão, o valor de sep é um espaço em branco. No entanto, você pode definir um separador personalizado fornecendo um valor diferente para sep."
   ]
  },
  {
   "cell_type": "markdown",
   "id": "ce0e1da6",
   "metadata": {},
   "source": [
    "#### *Exemplo: Separando variáveis em uma frase*"
   ]
  },
  {
   "cell_type": "code",
   "execution_count": null,
   "id": "0a343547",
   "metadata": {
    "ExecuteTime": {
     "end_time": "2023-06-03T00:37:39.786136Z",
     "start_time": "2023-06-03T00:37:39.779137Z"
    }
   },
   "outputs": [],
   "source": [
    "# Variáveis\n",
    "nome = \"Allan\"\n",
    "idade = 39\n",
    "\n",
    "# Imprindo uma frase separando as variáveis presentes\n",
    "print(\"Meu nome é \", nome, \" e eu tenho \", idade, \" anos.\", sep=\"||\")"
   ]
  },
  {
   "cell_type": "markdown",
   "id": "29877814",
   "metadata": {},
   "source": [
    "### end"
   ]
  },
  {
   "cell_type": "markdown",
   "id": "3d568c8d",
   "metadata": {},
   "source": [
    "O argumento <u>end</u> é um opcional que define o caractere ou string que será adicionado ao final da linha impressa. Por padrão, o valor de end é uma quebra de linha (\"\\n\"). No entanto, você pode modificar esse comportamento atribuindo um valor diferente para end. "
   ]
  },
  {
   "cell_type": "code",
   "execution_count": null,
   "id": "637d809c",
   "metadata": {},
   "outputs": [],
   "source": [
    "print(\"Olá, mundo!\")"
   ]
  },
  {
   "cell_type": "code",
   "execution_count": null,
   "id": "2071be50",
   "metadata": {},
   "outputs": [],
   "source": [
    "print(\"Olá, \\n mundo!\")"
   ]
  },
  {
   "cell_type": "code",
   "execution_count": null,
   "id": "0df7aefd",
   "metadata": {
    "ExecuteTime": {
     "end_time": "2023-09-15T12:13:03.434638Z",
     "start_time": "2023-09-15T12:13:03.430398Z"
    }
   },
   "outputs": [],
   "source": [
    "print(\"Olá,\")\n",
    "print(\" mundo!\")"
   ]
  },
  {
   "cell_type": "markdown",
   "id": "9bda6f14",
   "metadata": {},
   "source": [
    "#### *Exemplo: Impressão sem quebra de linha*"
   ]
  },
  {
   "cell_type": "code",
   "execution_count": null,
   "id": "5524b600",
   "metadata": {
    "ExecuteTime": {
     "end_time": "2023-06-26T20:05:45.754595Z",
     "start_time": "2023-06-26T20:05:45.749607Z"
    }
   },
   "outputs": [],
   "source": [
    "# Impressão sem quebra de linha\n",
    "print(\"Olá\", end=\", \")\n",
    "print(\"mundo!\")"
   ]
  },
  {
   "cell_type": "markdown",
   "id": "f2ad56ed",
   "metadata": {},
   "source": [
    "### Atualização"
   ]
  },
  {
   "cell_type": "code",
   "execution_count": 6,
   "id": "380809b3",
   "metadata": {},
   "outputs": [
    {
     "name": "stdout",
     "output_type": "stream",
     "text": [
      "Allan \n",
      " de Sousa Soares\n"
     ]
    }
   ],
   "source": [
    "print('Allan \\n de Sousa Soares')"
   ]
  },
  {
   "cell_type": "code",
   "execution_count": 3,
   "id": "6ace1aa0",
   "metadata": {},
   "outputs": [
    {
     "name": "stdout",
     "output_type": "stream",
     "text": [
      "Allan \\n de Sousa Soares\n"
     ]
    }
   ],
   "source": [
    "print(r'Allan \\n de Sousa Soares')"
   ]
  },
  {
   "cell_type": "code",
   "execution_count": 8,
   "id": "1609bd0d",
   "metadata": {},
   "outputs": [
    {
     "name": "stdout",
     "output_type": "stream",
     "text": [
      " Minha idade é \n",
      " 10 anos.\n"
     ]
    }
   ],
   "source": [
    "idade = 10\n",
    "print(f' Minha idade é \\n {idade} anos.')"
   ]
  },
  {
   "cell_type": "code",
   "execution_count": 9,
   "id": "dc57e146",
   "metadata": {},
   "outputs": [
    {
     "name": "stdout",
     "output_type": "stream",
     "text": [
      " Minha idade é \\n 10 anos.\n"
     ]
    }
   ],
   "source": [
    "idade = 10\n",
    "print(fr' Minha idade é \\n {idade} anos.')"
   ]
  },
  {
   "cell_type": "markdown",
   "id": "dc1683fc",
   "metadata": {},
   "source": [
    "## <div style=\"margin-top: -20px;\">\n",
    "<hr style=\"border: 2px solid blue;\">\n",
    "\n",
    "<font color='blue'><span style=\"font-size: 22px;\"><strong>Exercícios</strong></span></font>\n",
    "\n",
    "<hr style=\"border: 2px solid blue;\">\n",
    "</div>"
   ]
  },
  {
   "cell_type": "markdown",
   "id": "180d2c04",
   "metadata": {},
   "source": [
    "#### Exercício 1"
   ]
  },
  {
   "cell_type": "markdown",
   "id": "de4ecfb0",
   "metadata": {},
   "source": [
    "Imprima a frase **Estou fazendo o curso Análise de Dados Com Python**."
   ]
  },
  {
   "cell_type": "code",
   "execution_count": null,
   "id": "0b781459",
   "metadata": {},
   "outputs": [],
   "source": [
    "# Sua resposta:\n",
    "\n",
    "\n"
   ]
  },
  {
   "cell_type": "markdown",
   "id": "d424946c",
   "metadata": {},
   "source": [
    "#### Exercício 2"
   ]
  },
  {
   "cell_type": "markdown",
   "id": "120d28b8",
   "metadata": {},
   "source": [
    "Imprima a frase **Maria tem 19 anos e estuda no IFBA.** de modo que sejam utilizadas as variáveis ***nome***, ***idade*** e ***instituicao*** definidas anteriormente à função print. Tente resolver este exercício de ao menos duas formas."
   ]
  },
  {
   "cell_type": "code",
   "execution_count": null,
   "id": "2bca938b",
   "metadata": {},
   "outputs": [],
   "source": [
    "# Sua resposta:\n",
    "\n",
    "\n"
   ]
  },
  {
   "cell_type": "code",
   "execution_count": null,
   "id": "f8fb972e",
   "metadata": {},
   "outputs": [],
   "source": [
    "# Sua resposta:\n",
    "\n",
    "\n"
   ]
  },
  {
   "cell_type": "markdown",
   "id": "150db914",
   "metadata": {},
   "source": [
    "#### Exercício 3"
   ]
  },
  {
   "cell_type": "markdown",
   "id": "1a60c6ee",
   "metadata": {},
   "source": [
    "imprima os dados referentes a um cadastro  **Aluno: João da Silva, Peso: 67.75671 kg, Idade: 22 anos** de modo que sejam utilizadas as variáveis ***nome***, ***peso*** e ***idade*** definidas anteriormente à função print. Além disso, exiba o peso com apenas uma casa decimal."
   ]
  },
  {
   "cell_type": "code",
   "execution_count": null,
   "id": "8277e36a",
   "metadata": {},
   "outputs": [],
   "source": [
    "# Sua resposta:\n",
    "\n",
    "\n"
   ]
  },
  {
   "cell_type": "markdown",
   "id": "4e8fb601",
   "metadata": {},
   "source": [
    "#### Exercício 4"
   ]
  },
  {
   "cell_type": "markdown",
   "id": "c06bf3ef",
   "metadata": {},
   "source": [
    "Imprima, a partir das variáveis armazenadas ***nome***, ***peso*** e ***idade***, os dados **Aluno: João da Silva, Peso: 67.75671 kg, Idade: 22 anos** de modo que apareça um e cada linha com o peso arrendondado para apenas uma casa decimal. Utilize a função print uma única vez."
   ]
  },
  {
   "cell_type": "code",
   "execution_count": null,
   "id": "d7ef8d54",
   "metadata": {},
   "outputs": [],
   "source": [
    "# Sua resposta:\n",
    "\n",
    "\n"
   ]
  },
  {
   "cell_type": "markdown",
   "id": "86d3e1e0",
   "metadata": {},
   "source": [
    "#### Exercício 5"
   ]
  },
  {
   "cell_type": "markdown",
   "id": "c0b24970",
   "metadata": {},
   "source": [
    "Compile as células de código a seguir:"
   ]
  },
  {
   "cell_type": "code",
   "execution_count": null,
   "id": "84ce85b8",
   "metadata": {
    "ExecuteTime": {
     "end_time": "2023-09-15T12:26:12.272389Z",
     "start_time": "2023-09-15T12:26:12.269047Z"
    }
   },
   "outputs": [],
   "source": [
    "parte1 = 'Sou aluno do curso de'\n",
    "parte2 = 'Análise de Dados Com Python'\n",
    "parte3 = 'ofertado pelo IFBA'"
   ]
  },
  {
   "cell_type": "code",
   "execution_count": null,
   "id": "8f5f2c5a",
   "metadata": {
    "ExecuteTime": {
     "end_time": "2023-09-15T12:26:14.609213Z",
     "start_time": "2023-09-15T12:26:14.604967Z"
    }
   },
   "outputs": [],
   "source": [
    "print(parte1)\n",
    "print(parte2)\n",
    "print(parte3)"
   ]
  },
  {
   "cell_type": "markdown",
   "id": "5d9097f3",
   "metadata": {},
   "source": [
    "Use o argumento **end** para formar a frase **Sou aluno do curso de Análise de Dados Com Python ofertado pelo IFBA** em uma mesma linha a partir dos três comandos print."
   ]
  },
  {
   "cell_type": "code",
   "execution_count": null,
   "id": "309a8476",
   "metadata": {},
   "outputs": [],
   "source": [
    "# Sua resposta\n",
    "\n",
    "\n"
   ]
  },
  {
   "cell_type": "markdown",
   "id": "b014b706",
   "metadata": {},
   "source": [
    "### <div style=\"margin-top: -20px;\">\n",
    "<hr style=\"border: 2px solid blue;\">\n",
    "\n",
    "<font color='blue'><span style=\"font-size: 18px;\"><strong>Soluções dos Exercícios</strong></span></font>\n",
    "\n",
    "<hr style=\"border: 2px solid blue;\">\n",
    "</div>"
   ]
  },
  {
   "cell_type": "markdown",
   "id": "025b9c94",
   "metadata": {},
   "source": [
    "#### Solução do Exercício 1"
   ]
  },
  {
   "cell_type": "code",
   "execution_count": null,
   "id": "3043788c",
   "metadata": {
    "ExecuteTime": {
     "end_time": "2023-09-15T11:23:39.816193Z",
     "start_time": "2023-09-15T11:23:39.812429Z"
    }
   },
   "outputs": [],
   "source": [
    "# Forma 1\n",
    "print('Estou fazendo o curso Análise de Dados Com Python.')"
   ]
  },
  {
   "cell_type": "code",
   "execution_count": null,
   "id": "decdae00",
   "metadata": {
    "ExecuteTime": {
     "end_time": "2023-09-15T11:23:40.607630Z",
     "start_time": "2023-09-15T11:23:40.604251Z"
    }
   },
   "outputs": [],
   "source": [
    "# Forma 2\n",
    "frase = 'Estou fazendo o curso Análise de Dados Com Python.'\n",
    "print(frase)"
   ]
  },
  {
   "cell_type": "markdown",
   "id": "2a41aad0",
   "metadata": {},
   "source": [
    "#### Solução do Exercício 2"
   ]
  },
  {
   "cell_type": "code",
   "execution_count": null,
   "id": "059c1f17",
   "metadata": {
    "ExecuteTime": {
     "end_time": "2023-09-15T11:09:17.188119Z",
     "start_time": "2023-09-15T11:09:17.183452Z"
    }
   },
   "outputs": [],
   "source": [
    "# Forma 1\n",
    "nome = 'Maria'\n",
    "idade = 19\n",
    "\n",
    "print(f'{nome} tem {19} anos e estuda no {instituicao}.')"
   ]
  },
  {
   "cell_type": "code",
   "execution_count": null,
   "id": "de1f856c",
   "metadata": {
    "ExecuteTime": {
     "end_time": "2023-09-15T11:09:34.572177Z",
     "start_time": "2023-09-15T11:09:34.567162Z"
    }
   },
   "outputs": [],
   "source": [
    "# Forma 2\n",
    "nome = 'Maria'\n",
    "idade = 19\n",
    "instituicao = 'IFBA'\n",
    "\n",
    "print(\"{} tem {} anos e estuda no {}.\".format(nome, idade, instituicao))"
   ]
  },
  {
   "cell_type": "code",
   "execution_count": null,
   "id": "fe1d36e5",
   "metadata": {
    "ExecuteTime": {
     "end_time": "2023-09-15T11:12:03.372434Z",
     "start_time": "2023-09-15T11:12:03.368737Z"
    }
   },
   "outputs": [],
   "source": [
    "# Forma 3\n",
    "nome = 'Maria'\n",
    "idade = 19\n",
    "print(\"%s tem %d anos e estuda no %s.\"%(nome, idade, instituicao))"
   ]
  },
  {
   "cell_type": "markdown",
   "id": "26709e61",
   "metadata": {},
   "source": [
    "#### Solução do Exercício 3"
   ]
  },
  {
   "cell_type": "code",
   "execution_count": null,
   "id": "f28c3d76",
   "metadata": {
    "ExecuteTime": {
     "end_time": "2023-09-15T11:27:02.377037Z",
     "start_time": "2023-09-15T11:27:02.372119Z"
    }
   },
   "outputs": [],
   "source": [
    "nome = 'João da Silva'\n",
    "peso = 67.75671\n",
    "idade = 22\n",
    "\n",
    "print(\"Aluno: %s, Peso: %.1f, Idade: %d anos\"%(nome, peso, idade))"
   ]
  },
  {
   "cell_type": "markdown",
   "id": "bb0993c5",
   "metadata": {},
   "source": [
    "#### Solução do Exercício 4"
   ]
  },
  {
   "cell_type": "code",
   "execution_count": null,
   "id": "8490d89a",
   "metadata": {
    "ExecuteTime": {
     "end_time": "2023-09-15T12:08:33.955653Z",
     "start_time": "2023-09-15T12:08:33.951632Z"
    }
   },
   "outputs": [],
   "source": [
    "nome = 'João da Silva'\n",
    "peso = 67.75671\n",
    "idade = 22\n",
    "\n",
    "print(\"Aluno: %s\\nPeso: %.1f\\nIdade: %d anos\"%(nome, peso, idade))"
   ]
  },
  {
   "cell_type": "markdown",
   "id": "21a63436",
   "metadata": {},
   "source": [
    "#### Solução do Exercício 5"
   ]
  },
  {
   "cell_type": "code",
   "execution_count": null,
   "id": "73fd407d",
   "metadata": {
    "ExecuteTime": {
     "end_time": "2023-09-15T12:33:46.536612Z",
     "start_time": "2023-09-15T12:33:46.532426Z"
    }
   },
   "outputs": [],
   "source": [
    "print(parte1, end = ' ')\n",
    "print(parte2, end = ' ')\n",
    "print(parte3)"
   ]
  }
 ],
 "metadata": {
  "gist": {
   "data": {
    "description": "Arquivos Allan/Curso Básico Python Para Análise de Dados/Não Gravados/Capítulo004.ipynb",
    "public": true
   },
   "id": ""
  },
  "kernelspec": {
   "display_name": "Python 3 (ipykernel)",
   "language": "python",
   "name": "python3"
  },
  "language_info": {
   "codemirror_mode": {
    "name": "ipython",
    "version": 3
   },
   "file_extension": ".py",
   "mimetype": "text/x-python",
   "name": "python",
   "nbconvert_exporter": "python",
   "pygments_lexer": "ipython3",
   "version": "3.11.5"
  },
  "varInspector": {
   "cols": {
    "lenName": 16,
    "lenType": 16,
    "lenVar": 40
   },
   "kernels_config": {
    "python": {
     "delete_cmd_postfix": "",
     "delete_cmd_prefix": "del ",
     "library": "var_list.py",
     "varRefreshCmd": "print(var_dic_list())"
    },
    "r": {
     "delete_cmd_postfix": ") ",
     "delete_cmd_prefix": "rm(",
     "library": "var_list.r",
     "varRefreshCmd": "cat(var_dic_list()) "
    }
   },
   "types_to_exclude": [
    "module",
    "function",
    "builtin_function_or_method",
    "instance",
    "_Feature"
   ],
   "window_display": false
  }
 },
 "nbformat": 4,
 "nbformat_minor": 5
}
