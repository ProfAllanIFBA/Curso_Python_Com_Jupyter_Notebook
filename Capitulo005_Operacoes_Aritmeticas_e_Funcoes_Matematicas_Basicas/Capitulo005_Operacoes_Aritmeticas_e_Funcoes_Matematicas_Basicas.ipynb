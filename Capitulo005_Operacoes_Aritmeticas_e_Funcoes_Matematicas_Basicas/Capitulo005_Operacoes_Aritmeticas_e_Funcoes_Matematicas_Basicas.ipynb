{
 "cells": [
  {
   "cell_type": "markdown",
   "id": "b42396bc",
   "metadata": {},
   "source": [
    "<center> <img src=\"logo_ifba.jpg\" alt=\"jpg_python\" width=\"100\" height=\"\"> </center>\n",
    "<br><br>\n",
    "<center> <img src=\"logo_coext.jpg\" alt=\"jpg_python\" width=\"200\" height=\"\"> </center>\n",
    "<br><br>\n",
    "<div align=\"center\"><span style=\"font-size: 26px;\"><strong>Python Com Jupyter Notebook</strong></span></div><br><br>\n",
    "<center><div style=\"text-align:center\">    <a href=\"https://colab.research.google.com/github/ProfAllanIFBA/Curso_Python_Com_Jupyter_Notebook/blob/main/Capitulo005_Operacoes_Aritmeticas_e_Funcoes_Matematicas_Basicas/Capitulo005_Operacoes_Aritmeticas_e_Funcoes_Matematicas_Basicas.ipynb\">Link Colab</a> \n",
    "</div><br><br></center>\n",
    "<center> <img src=\"python_gif.gif\" alt=\"gif_python\" width=\"80\"> </center>"
   ]
  },
  {
   "cell_type": "markdown",
   "id": "a2e2531a",
   "metadata": {},
   "source": [
    "Este material apresenta uma explicação detalhada sobre o uso do software de programação em Python chamado Jupyter Notebook, com foco na análise de dados. Abordaremos desde estruturas básicas, como listas e dicionários, até estruturas mais complexas voltadas para a análise de dados, como pandas e seaborn, além de ferramentas destinadas à inteligência artificial.\n",
    "\n",
    "\n",
    "<font color='red'> <u>Este é um material de uso público e totalmente gratuito</u>. Contudo, eventuais edições são de responsabilidade de quem as fizer. </font>\n",
    "\n",
    "Você pode ajudar a melhorar este material!\n",
    "\n",
    "Contato e Sugestões: allansoares@ifba.edu.br.\n",
    "\n",
    "[**Equipe Executora**](https://github.com/ProfAllanIFBA/Curso_Python_Com_Jupyter_Notebook/blob/main/Capitulo000_Equipe/Capitulo000_Equipe.ipynb)"
   ]
  },
  {
   "cell_type": "markdown",
   "id": "490747e9",
   "metadata": {},
   "source": [
    "### <center> <font color='red'> Vídeo Aulas <img src=\"youtube.gif\" alt=\"jpg_python\" width=\"100\" height=\"\"> </font> </center>"
   ]
  },
  {
   "cell_type": "markdown",
   "id": "38f49536",
   "metadata": {},
   "source": [
    "[OperaçõesAritméticas Básicas no Python](https://youtu.be/MNVEK06NmgA)\n",
    "\n",
    "[Ordem das Operações Aritméticas no Python](https://youtu.be/w-GP8ccySU8)\n",
    "\n",
    "[Variáveis INT e FLOAT em Python](https://youtu.be/dpM24hGrj18)\n",
    "\n",
    "[Consultando o Tipo de Uma Variável ou Objeto no Python](https://youtu.be/ZxypjennmX8)\n",
    "\n",
    "[Arredondamentos e Manipulações de Variaveis Float no Python](https://youtu.be/bB2V74OJMxE)\n",
    "\n",
    "[Trabalhando em Outras Bases no Python](https://youtu.be/Rixk5wf91A8)"
   ]
  },
  {
   "cell_type": "markdown",
   "id": "cf120cc0",
   "metadata": {},
   "source": [
    "<div style=\"border: 2px solid black; padding: 10px; width: 100%; background-color: lightgray; display: flex; align-items: center;\">\n",
    "    <h1 style=\"color: red; text-align: center; margin: auto;\">\n",
    "        Capítulo 5: Operações Aritméticas e Funções Matemáticas Básicas\n",
    "    </h1>\n",
    "</div>\n",
    "\n",
    "<font color='red'></font>\n",
    "<a href=\"\"></a>"
   ]
  },
  {
   "cell_type": "markdown",
   "id": "7325e32c",
   "metadata": {},
   "source": [
    "As operações aritméticas constituem a espinha dorsal da matemática e, consequentemente, do Python. Através delas, podemos realizar cálculos fundamentais como adição, subtração, multiplicação e divisão. No entanto, Python não se limita apenas a essas operações básicas. Ele também nos permite explorar operações mais avançadas, como exponenciação, resto de divisão e divisão inteira, ampliando ainda mais nossas possibilidades.\n",
    "\n",
    "Além das operações aritméticas, Python nos fornece uma vasta gama de funções matemáticas embutidas. Essas funções nos permitem estender nosso repertório e resolver problemas complexos com facilidade. Podemos utilizar funções matemáticas para calcular o valor absoluto de um número, extrair a raiz quadrada, arredondar valores, gerar números aleatórios e muito mais. Através dessas funcionalidades, podemos criar algoritmos sofisticados e abordar desafios matemáticos com eficiência."
   ]
  },
  {
   "cell_type": "markdown",
   "id": "56962dd8",
   "metadata": {},
   "source": [
    "## <div style=\"margin-top: -20px;\">\n",
    "<hr style=\"border: 2px solid blue;\">\n",
    "\n",
    "<font color='blue'><span style=\"font-size: 22px;\"><strong>5.1 Operações Aritméticas</strong></span></font>\n",
    "\n",
    "<hr style=\"border: 2px solid blue;\">\n",
    "</div>"
   ]
  },
  {
   "cell_type": "markdown",
   "id": "3de2ca12",
   "metadata": {},
   "source": [
    "As operações aritméticas em Python são as mesmas da matemática básica e incluem a <u>adição</u>, <u>subtração</u>, <u>multiplicação</u>, <u>divisão</u>, <u>divisão inteira (ou quociente da divisão inteira)</u>, <u>módulo (ou resto da divisão inteira)</u> e <u>potência</u>."
   ]
  },
  {
   "cell_type": "markdown",
   "id": "f0c9fb05",
   "metadata": {},
   "source": [
    "### Adição"
   ]
  },
  {
   "cell_type": "markdown",
   "id": "2b2aeec4",
   "metadata": {},
   "source": [
    "A adição de números é feita usando-se o operador \"+\"."
   ]
  },
  {
   "cell_type": "code",
   "execution_count": null,
   "id": "e744e174",
   "metadata": {
    "scrolled": true
   },
   "outputs": [],
   "source": [
    "2 + 4"
   ]
  },
  {
   "cell_type": "code",
   "execution_count": null,
   "id": "13da9914",
   "metadata": {
    "ExecuteTime": {
     "end_time": "2023-08-10T12:10:23.056142Z",
     "start_time": "2023-08-10T12:10:23.050158Z"
    }
   },
   "outputs": [],
   "source": [
    "ad = 2 + 4\n",
    "\n",
    "print(ad)"
   ]
  },
  {
   "cell_type": "code",
   "execution_count": null,
   "id": "149f5c7a",
   "metadata": {},
   "outputs": [],
   "source": [
    "print(ad+1)"
   ]
  },
  {
   "cell_type": "markdown",
   "id": "2859eef8",
   "metadata": {},
   "source": [
    "### Subtração"
   ]
  },
  {
   "cell_type": "markdown",
   "id": "9884746e",
   "metadata": {},
   "source": [
    "A subtração de números é feita usando-se o operador \"-\"."
   ]
  },
  {
   "cell_type": "code",
   "execution_count": null,
   "id": "7cf6b352",
   "metadata": {
    "ExecuteTime": {
     "end_time": "2023-06-08T15:23:47.600694Z",
     "start_time": "2023-06-08T15:23:47.595707Z"
    }
   },
   "outputs": [],
   "source": [
    "sub = 3 - 5\n",
    "\n",
    "print(sub)"
   ]
  },
  {
   "cell_type": "markdown",
   "id": "7ac465c9",
   "metadata": {},
   "source": [
    "### Multiplicação"
   ]
  },
  {
   "cell_type": "markdown",
   "id": "d9d3a72c",
   "metadata": {},
   "source": [
    "A multiplicação de números é feita usando-se o operador \"*\"."
   ]
  },
  {
   "cell_type": "code",
   "execution_count": null,
   "id": "ef160152",
   "metadata": {
    "ExecuteTime": {
     "end_time": "2023-06-08T15:23:43.168269Z",
     "start_time": "2023-06-08T15:23:43.163308Z"
    }
   },
   "outputs": [],
   "source": [
    "mult = 3*4\n",
    "\n",
    "print(mult)"
   ]
  },
  {
   "cell_type": "markdown",
   "id": "a7b4777d",
   "metadata": {},
   "source": [
    "### Divisão"
   ]
  },
  {
   "cell_type": "markdown",
   "id": "520db788",
   "metadata": {},
   "source": [
    "A divisão apresenta uma série de subfunções. A seguir apresentaremos algumas delas."
   ]
  },
  {
   "cell_type": "markdown",
   "id": "cc456f7b",
   "metadata": {},
   "source": [
    "#### Divisão Padrão"
   ]
  },
  {
   "cell_type": "markdown",
   "id": "a893c4b4",
   "metadata": {},
   "source": [
    "A divisão padrão de números é feita usando-se o operador \"/\"."
   ]
  },
  {
   "cell_type": "code",
   "execution_count": null,
   "id": "c81c9a4f",
   "metadata": {
    "ExecuteTime": {
     "end_time": "2023-06-08T15:21:36.987150Z",
     "start_time": "2023-06-08T15:21:36.982141Z"
    }
   },
   "outputs": [],
   "source": [
    "div = 19/7\n",
    "\n",
    "print(div)"
   ]
  },
  {
   "cell_type": "markdown",
   "id": "ac0e4379",
   "metadata": {},
   "source": [
    "#### Quociente da Divisão"
   ]
  },
  {
   "cell_type": "markdown",
   "id": "28f49e7b",
   "metadata": {},
   "source": [
    "O quociente da divisão de números é feita usando-se o operador \"//\"."
   ]
  },
  {
   "cell_type": "code",
   "execution_count": null,
   "id": "b25644d4",
   "metadata": {
    "ExecuteTime": {
     "end_time": "2023-06-08T15:23:04.935994Z",
     "start_time": "2023-06-08T15:23:04.930979Z"
    }
   },
   "outputs": [],
   "source": [
    "quoc = 19//7\n",
    "\n",
    "print(quoc)"
   ]
  },
  {
   "cell_type": "markdown",
   "id": "957f062e",
   "metadata": {},
   "source": [
    "#### Módulo da Divisão Inteira"
   ]
  },
  {
   "cell_type": "markdown",
   "id": "84e56c5d",
   "metadata": {},
   "source": [
    "O módulo da divisão inteira de números é feita usando-se o operador \"%\"."
   ]
  },
  {
   "cell_type": "code",
   "execution_count": null,
   "id": "f031c91e",
   "metadata": {
    "ExecuteTime": {
     "end_time": "2023-06-08T15:23:21.711244Z",
     "start_time": "2023-06-08T15:23:21.707254Z"
    }
   },
   "outputs": [],
   "source": [
    "resto = 19%7\n",
    "\n",
    "print(resto)"
   ]
  },
  {
   "cell_type": "markdown",
   "id": "2d1c4b59",
   "metadata": {},
   "source": [
    "### Potência"
   ]
  },
  {
   "cell_type": "markdown",
   "id": "841e5cfb",
   "metadata": {},
   "source": [
    "A potência de números é feita usando-se o operador \"**\"."
   ]
  },
  {
   "cell_type": "code",
   "execution_count": null,
   "id": "3890bf29",
   "metadata": {
    "ExecuteTime": {
     "end_time": "2023-06-08T15:23:29.624166Z",
     "start_time": "2023-06-08T15:23:29.619155Z"
    }
   },
   "outputs": [],
   "source": [
    "pot = 2**3        #Em outras linguagens utiliza-se '^' ao invés de '**'\n",
    "\n",
    "print(pot)"
   ]
  },
  {
   "cell_type": "markdown",
   "id": "be72c192",
   "metadata": {},
   "source": [
    "Outras operações aritméticas básicas serão apresentadas assim que necessitarmos delas."
   ]
  },
  {
   "cell_type": "markdown",
   "id": "55be496a",
   "metadata": {},
   "source": [
    "### <div style=\"margin-top: -20px;\">\n",
    "<hr style=\"border: 2px solid blue;\">\n",
    "\n",
    "<font color='blue'><span style=\"font-size: 18px;\"><strong>5.1.1 Ordem das Operações Aritméticas</strong></span></font>\n",
    "\n",
    "<hr style=\"border: 2px solid blue;\">\n",
    "</div>"
   ]
  },
  {
   "cell_type": "markdown",
   "id": "58c797c8",
   "metadata": {},
   "source": [
    "É importante observar que em Python, a ordem de precedência das operações aritméticas é a mesma da matemática básica:\n",
    "\n",
    "1. Parênteses: $()$\n",
    "2. Potenciação: $**$\n",
    "3. Multiplicação e Divisão: $*, /$\n",
    "4. Adição e Subtração: $+, -$\n",
    "\n",
    "Os colchetes e as chaves são reservados para outras funções específicas da linguagem como escrita de listas, matrizes, dicionários etc como veremos em aulas futuras. Vejamos alguns exemplos:"
   ]
  },
  {
   "cell_type": "markdown",
   "id": "2fc515da",
   "metadata": {},
   "source": [
    "#### *Exemplos: Ordenação das operações*"
   ]
  },
  {
   "cell_type": "code",
   "execution_count": null,
   "id": "934edb9b",
   "metadata": {
    "ExecuteTime": {
     "end_time": "2023-06-03T01:30:28.817449Z",
     "start_time": "2023-06-03T01:30:28.813433Z"
    }
   },
   "outputs": [],
   "source": [
    "# Expressão numérica 1\n",
    "exp1 = 1+2*3-4**2\n",
    "print(exp1)"
   ]
  },
  {
   "cell_type": "code",
   "execution_count": null,
   "id": "04f829f0",
   "metadata": {
    "ExecuteTime": {
     "end_time": "2023-06-03T01:30:28.992508Z",
     "start_time": "2023-06-03T01:30:28.988499Z"
    }
   },
   "outputs": [],
   "source": [
    "# Expressão numérica 2\n",
    "exp2 = (1+2)*3-4**2\n",
    "print(exp2)"
   ]
  },
  {
   "cell_type": "code",
   "execution_count": null,
   "id": "1f434375",
   "metadata": {
    "ExecuteTime": {
     "end_time": "2023-06-03T01:30:29.170866Z",
     "start_time": "2023-06-03T01:30:29.164909Z"
    }
   },
   "outputs": [],
   "source": [
    "# Expressão numérica 3\n",
    "exp3 = (1+2)*(3-4**2)\n",
    "print(exp3)"
   ]
  },
  {
   "cell_type": "code",
   "execution_count": null,
   "id": "c2d97180",
   "metadata": {
    "ExecuteTime": {
     "end_time": "2023-06-03T01:30:29.346036Z",
     "start_time": "2023-06-03T01:30:29.341075Z"
    }
   },
   "outputs": [],
   "source": [
    "# Expressão numérica 3\n",
    "exp3 = (1+2*3-4)**2\n",
    "print(exp3)"
   ]
  },
  {
   "cell_type": "markdown",
   "id": "e886e9b5",
   "metadata": {},
   "source": [
    "## <div style=\"margin-top: -20px;\">\n",
    "<hr style=\"border: 2px solid blue;\">\n",
    "\n",
    "<font color='blue'><span style=\"font-size: 22px;\"><strong>5.2 Variáveis int e float</strong></span></font>\n",
    "\n",
    "<hr style=\"border: 2px solid blue;\">\n",
    "</div>"
   ]
  },
  {
   "cell_type": "markdown",
   "id": "7325d47f",
   "metadata": {},
   "source": [
    "No Python, as variáveis numéricas são classificadas em dois tipos principais: \"int\" e \"float\". Cada tipo possui um comportamento distinto do outro e atendem a necessidades distintas."
   ]
  },
  {
   "cell_type": "markdown",
   "id": "a670dac3",
   "metadata": {},
   "source": [
    "### int"
   ]
  },
  {
   "cell_type": "markdown",
   "id": "c88382cd",
   "metadata": {},
   "source": [
    "O tipo <u>int</u> em Python é utilizado para representar números inteiros, ou seja, números sem casas decimais. Eles podem ser positivos, negativos ou igual a zero. Por exemplo, $1, 2, 3, -4, -5$ são exemplos de inteiros. Esses valores são digitados sem o uso do ponto decimal."
   ]
  },
  {
   "cell_type": "markdown",
   "id": "e311241d",
   "metadata": {},
   "source": [
    "#### *Exemplo: Tomando uma variável como \"int\"*"
   ]
  },
  {
   "cell_type": "code",
   "execution_count": null,
   "id": "ad5e9708",
   "metadata": {
    "ExecuteTime": {
     "end_time": "2023-06-03T01:30:30.090094Z",
     "start_time": "2023-06-03T01:30:30.085131Z"
    }
   },
   "outputs": [],
   "source": [
    "# Variável inteira (idade)\n",
    "idade = 10\n",
    "print(idade)"
   ]
  },
  {
   "cell_type": "code",
   "execution_count": null,
   "id": "242af4ab",
   "metadata": {},
   "outputs": [],
   "source": [
    "print(type(idade))"
   ]
  },
  {
   "cell_type": "markdown",
   "id": "3beb103f",
   "metadata": {},
   "source": [
    "### float"
   ]
  },
  {
   "cell_type": "markdown",
   "id": "44c2a0fd",
   "metadata": {},
   "source": [
    "Já o tipo <u>float</u> é utilizado para representar números de ponto flutuante, ou seja, números que possuem casas decimais. Os valores float podem ser positivos, negativos ou zero. Por exemplo, 1.0, 2.5, 3.1415, -4.5 são exemplos de números de ponto flutuante. Esses valores são digitados utilizando o ponto decimal para separar as casas decimais."
   ]
  },
  {
   "cell_type": "markdown",
   "id": "6c709a82",
   "metadata": {},
   "source": [
    "#### *Exemplo: Tomando uma variável como float*"
   ]
  },
  {
   "cell_type": "code",
   "execution_count": null,
   "id": "8a6e6389",
   "metadata": {
    "ExecuteTime": {
     "end_time": "2023-06-03T01:30:30.441720Z",
     "start_time": "2023-06-03T01:30:30.436757Z"
    }
   },
   "outputs": [],
   "source": [
    "# Variável float (massa, kg)\n",
    "massa = 56.75    \n",
    "print(massa)"
   ]
  },
  {
   "cell_type": "code",
   "execution_count": null,
   "id": "4e476f86",
   "metadata": {},
   "outputs": [],
   "source": [
    "print(type(massa))"
   ]
  },
  {
   "cell_type": "markdown",
   "id": "e76ae1dd",
   "metadata": {},
   "source": [
    "### <div style=\"margin-top: -20px;\">\n",
    "<hr style=\"border: 2px solid blue;\">\n",
    "\n",
    "<font color='blue'><span style=\"font-size: 18px;\"><strong>5.2.1 Comportamento das Variáveis int e float</strong></span></font>\n",
    "\n",
    "<hr style=\"border: 2px solid blue;\">\n",
    "</div>"
   ]
  },
  {
   "cell_type": "markdown",
   "id": "0d0857e9",
   "metadata": {},
   "source": [
    "Em Python, é importante distinguir entre os tipos int e float, pois eles têm comportamentos e usos diferentes. Ao compreender a diferença entre esses dois tipos numéricos, podemos utilizar corretamente as variáveis e realizar operações matemáticas de acordo com as características de cada tipo."
   ]
  },
  {
   "cell_type": "markdown",
   "id": "132d2d99",
   "metadata": {},
   "source": [
    "#### *Exemplo 1: Conversão de variável float em variável int*"
   ]
  },
  {
   "cell_type": "code",
   "execution_count": null,
   "id": "71f840c6",
   "metadata": {
    "ExecuteTime": {
     "end_time": "2023-06-03T01:30:31.001485Z",
     "start_time": "2023-06-03T01:30:30.997499Z"
    }
   },
   "outputs": [],
   "source": [
    "# Operação de float para int\n",
    "\n",
    "massa1_kg_float = 15.4\n",
    "massa1_kg_int = int(massa1_kg_float)\n",
    "\n",
    "print(massa1_kg_float)\n",
    "print(massa1_kg_int)"
   ]
  },
  {
   "cell_type": "code",
   "execution_count": null,
   "id": "30e228d3",
   "metadata": {},
   "outputs": [],
   "source": [
    "print(type(massa1_kg_float))\n",
    "print(type(massa1_kg_int))"
   ]
  },
  {
   "cell_type": "markdown",
   "id": "944cffc7",
   "metadata": {},
   "source": [
    "#### *Exemplo 2: Conversão de variável int em variável float*"
   ]
  },
  {
   "cell_type": "code",
   "execution_count": null,
   "id": "1f475092",
   "metadata": {
    "ExecuteTime": {
     "end_time": "2023-06-03T01:30:31.194384Z",
     "start_time": "2023-06-03T01:30:31.189421Z"
    }
   },
   "outputs": [],
   "source": [
    "# Operação int para float\n",
    "idade1_anos_int = 16 \n",
    "idade1_anos_float = float(idade1_anos_int)\n",
    "\n",
    "print(idade1_anos_int)\n",
    "print(idade1_anos_float)"
   ]
  },
  {
   "cell_type": "code",
   "execution_count": null,
   "id": "c4e41323",
   "metadata": {},
   "outputs": [],
   "source": [
    "print(type(idade1_anos_int))\n",
    "print(type(idade1_anos_float))"
   ]
  },
  {
   "cell_type": "markdown",
   "id": "3b56e989",
   "metadata": {},
   "source": [
    "## <div style=\"margin-top: -20px;\">\n",
    "<hr style=\"border: 2px solid blue;\">\n",
    "\n",
    "<font color='blue'><span style=\"font-size: 22px;\"><strong>5.3 Consultando o Tipo de Uma Variável ou Objeto</strong></span></font>\n",
    "\n",
    "<hr style=\"border: 2px solid blue;\">\n",
    "</div>"
   ]
  },
  {
   "cell_type": "markdown",
   "id": "44c2f6ab",
   "metadata": {},
   "source": [
    "Em muitas situações, é fundamental saber o tipo de uma variável para poder manipulá-la corretamente em etapas subsequentes do código. Conhecer o tipo da variável nos permite aplicar as operações e métodos apropriados, garantindo que nosso programa funcione de maneira adequada e eficiente. Para consultar o tipo de uma variável usaremos a função **<font color='green'>type </font>**."
   ]
  },
  {
   "cell_type": "markdown",
   "id": "4932d4aa",
   "metadata": {},
   "source": [
    "#### *Exemplo 1: Consultando o tipo de variável*"
   ]
  },
  {
   "cell_type": "code",
   "execution_count": null,
   "id": "99e9a05c",
   "metadata": {
    "ExecuteTime": {
     "end_time": "2023-06-03T01:30:31.737809Z",
     "start_time": "2023-06-03T01:30:31.732806Z"
    }
   },
   "outputs": [],
   "source": [
    "# Variáveis\n",
    "a = 12\n",
    "b = 15.5\n",
    "\n",
    "# Convertendo variáveis\n",
    "c = int(-23.51)\n",
    "d = float(14)\n",
    "\n",
    "# Imprimindo as variáveis\n",
    "print(a)\n",
    "print(b)\n",
    "print(c)\n",
    "print(d)"
   ]
  },
  {
   "cell_type": "code",
   "execution_count": null,
   "id": "dc37ee2b",
   "metadata": {
    "ExecuteTime": {
     "end_time": "2023-06-03T01:30:31.928906Z",
     "start_time": "2023-06-03T01:30:31.924915Z"
    }
   },
   "outputs": [],
   "source": [
    "# Consultando o tipo de uma variável\n",
    "print(type(a))\n",
    "print(type(b))\n",
    "print(type(c))\n",
    "print(type(d))"
   ]
  },
  {
   "cell_type": "markdown",
   "id": "fd4b71db",
   "metadata": {},
   "source": [
    "#### *Exemplo 2: Consultando o tipo de objeto*"
   ]
  },
  {
   "cell_type": "code",
   "execution_count": null,
   "id": "796862a6",
   "metadata": {
    "ExecuteTime": {
     "end_time": "2023-06-03T01:30:32.107423Z",
     "start_time": "2023-06-03T01:30:32.101452Z"
    },
    "scrolled": true
   },
   "outputs": [],
   "source": [
    "# Lista\n",
    "lista = [1,2,3,4,4]\n",
    "\n",
    "# Imprimindo uma lista\n",
    "print(lista)\n",
    "\n",
    "# Imprimindo o tipo de um objeto \n",
    "print(type(lista))"
   ]
  },
  {
   "cell_type": "code",
   "execution_count": null,
   "id": "802414eb",
   "metadata": {},
   "outputs": [],
   "source": [
    "# Conjunto\n",
    "conjunto = {1,2,3,4,4}\n",
    "\n",
    "# Imprimindo um conjunto\n",
    "print(conjunto)\n",
    "\n",
    "# Imprimindo o tipo de um objeto \n",
    "print(type(conjunto))"
   ]
  },
  {
   "cell_type": "markdown",
   "id": "04492c18",
   "metadata": {},
   "source": [
    "## <div style=\"margin-top: -20px;\">\n",
    "<hr style=\"border: 2px solid blue;\">\n",
    "\n",
    "<font color='blue'><span style=\"font-size: 22px;\"><strong>5.4 Arredondamento e Manipulação de Variáveis do tipo 'float'</strong></span></font>\n",
    "\n",
    "<hr style=\"border: 2px solid blue;\">\n",
    "</div>"
   ]
  },
  {
   "cell_type": "markdown",
   "id": "f3b75b6e",
   "metadata": {},
   "source": [
    "A variável float é amplamente utilizada para representar números reais em Python. Essa variável pode ser manipulada por meio de arredondamentos, que são operações úteis em diversas aplicações matemáticas e científicas. Em Python, existem várias funções disponíveis para realizar esses arredondamentos, dentre as quais destacamos:"
   ]
  },
  {
   "cell_type": "markdown",
   "id": "1c339673",
   "metadata": {},
   "source": [
    "#### round(x,n) "
   ]
  },
  {
   "cell_type": "markdown",
   "id": "bf17285c",
   "metadata": {},
   "source": [
    "Retorna o número com determinado número de casas decimais."
   ]
  },
  {
   "cell_type": "markdown",
   "id": "d3168f39",
   "metadata": {},
   "source": [
    "##### Exemplo: Arredondamentos"
   ]
  },
  {
   "cell_type": "code",
   "execution_count": null,
   "id": "5f1f6996",
   "metadata": {
    "ExecuteTime": {
     "end_time": "2023-06-03T01:30:37.898676Z",
     "start_time": "2023-06-03T01:30:37.892693Z"
    }
   },
   "outputs": [],
   "source": [
    "# Variável float a ser arredondada\n",
    "x = 3.372043\n",
    "\n",
    "# Arredondamento de x com zero, uma, duas e três casas decimais:\n",
    "x_0 = round(x,0)\n",
    "x_1 = round(x,1)\n",
    "x_2 = round(x,2)\n",
    "x_3 = round(x,3)\n",
    "\n",
    "# Imprimindo os valores arredondados\n",
    "print(x)\n",
    "print(x_0)\n",
    "print(x_1)\n",
    "print(x_2)\n",
    "print(x_3)"
   ]
  },
  {
   "cell_type": "markdown",
   "id": "bd104b8c",
   "metadata": {},
   "source": [
    "Para realizar outras manipulações e arredondamentos, é necessário importar o módulo math. Uma única importação desse módulo habilitará todas as funcionalidades necessárias para os exemplos a seguir. No entanto, consideraremos cada código de forma independente, o que significa que faremos a importação do módulo math em cada um deles. Abordaremos a importação de módulos em capítulos futuros"
   ]
  },
  {
   "cell_type": "markdown",
   "id": "13f2dd60",
   "metadata": {},
   "source": [
    "#### math.floor(x)"
   ]
  },
  {
   "cell_type": "markdown",
   "id": "39ae17e1",
   "metadata": {
    "ExecuteTime": {
     "end_time": "2023-06-08T21:39:21.721962Z",
     "start_time": "2023-06-08T21:39:21.700863Z"
    }
   },
   "source": [
    "Retorna o maior número inteiro menor ou igual a x."
   ]
  },
  {
   "cell_type": "markdown",
   "id": "10ecf452",
   "metadata": {},
   "source": [
    "##### Exemplo: Arredondamentos"
   ]
  },
  {
   "cell_type": "code",
   "execution_count": null,
   "id": "67a6821d",
   "metadata": {
    "ExecuteTime": {
     "end_time": "2023-09-15T13:00:06.250458Z",
     "start_time": "2023-09-15T13:00:06.245280Z"
    }
   },
   "outputs": [],
   "source": [
    "# Importando módulo necessário\n",
    "import math\n",
    "\n",
    "# Valores a serem arredondadas\n",
    "a = 1.21\n",
    "b = 1.95\n",
    "c = -3.95\n",
    "d = 2\n",
    "\n",
    "# Arredondamentos\n",
    "a_floor = math.floor(a)\n",
    "b_floor = math.floor(b)\n",
    "c_floor = math.floor(c)\n",
    "d_floor = math.floor(d)\n",
    "\n",
    "# Imprimindo os valores convertidos\n",
    "print(a_floor)\n",
    "print(b_floor)\n",
    "print(c_floor)\n",
    "print(d_floor)"
   ]
  },
  {
   "cell_type": "markdown",
   "id": "8d5da05f",
   "metadata": {},
   "source": [
    "#### math.trunc(x)"
   ]
  },
  {
   "cell_type": "markdown",
   "id": "a2f2218e",
   "metadata": {},
   "source": [
    "Retorna a parte inteira de x. Se x for positivo, retorna o maior número inteiro menor ou igual a x. Se x for negativo, retorna o menor número inteiro maior ou igual a x."
   ]
  },
  {
   "cell_type": "markdown",
   "id": "513424d1",
   "metadata": {},
   "source": [
    "##### Exemplo: Arredondamentos"
   ]
  },
  {
   "cell_type": "code",
   "execution_count": null,
   "id": "44f19b37",
   "metadata": {
    "ExecuteTime": {
     "end_time": "2023-06-03T01:30:39.092454Z",
     "start_time": "2023-06-03T01:30:39.087444Z"
    }
   },
   "outputs": [],
   "source": [
    "# Importação de módulo necessário\n",
    "import math\n",
    "\n",
    "# Variáveis a serem arredondadas\n",
    "x = 3.1\n",
    "y = 4.99\n",
    "z = -2.8\n",
    "k = -2\n",
    "\n",
    "# Arredondamentos\n",
    "x_trunc = math.trunc(x)\n",
    "y_trunc = math.trunc(y)\n",
    "z_trunc = math.trunc(x)\n",
    "k_trunc = math.trunc(k)\n",
    "\n",
    "# Imprimindo valores arredondados\n",
    "print(x_trunc)\n",
    "print(y_trunc)\n",
    "print(z_trunc)\n",
    "print(k_trunc)"
   ]
  },
  {
   "cell_type": "markdown",
   "id": "45e6aefd",
   "metadata": {},
   "source": [
    "#### math.ceil(x)"
   ]
  },
  {
   "cell_type": "markdown",
   "id": "0c3f1204",
   "metadata": {},
   "source": [
    "Retorna o menor número inteiro maior ou igual a x."
   ]
  },
  {
   "cell_type": "markdown",
   "id": "e05abded",
   "metadata": {},
   "source": [
    "##### Exemplo: Arredondamentos"
   ]
  },
  {
   "cell_type": "code",
   "execution_count": null,
   "id": "e5e5ac78",
   "metadata": {
    "ExecuteTime": {
     "end_time": "2023-06-03T01:30:39.466080Z",
     "start_time": "2023-06-03T01:30:39.461092Z"
    }
   },
   "outputs": [],
   "source": [
    "# Importando módulo necessário\n",
    "import math\n",
    "\n",
    "# Variáveis a serem arredondadas\n",
    "x = 3.1\n",
    "y = 4.99\n",
    "z = -2.8\n",
    "\n",
    "# Arredondamentos\n",
    "x_ceil = math.ceil(x)\n",
    "y_ceil = math.ceil(y)\n",
    "z_ceil = math.ceil(z)\n",
    "\n",
    "# Imprimindo os valores arredondados\n",
    "print(x_ceil)\n",
    "print(y_ceil)\n",
    "print(z_ceil)"
   ]
  },
  {
   "cell_type": "markdown",
   "id": "f9dbb4e8",
   "metadata": {},
   "source": [
    "#### math.fabs(x)"
   ]
  },
  {
   "cell_type": "markdown",
   "id": "945fa000",
   "metadata": {},
   "source": [
    "Retorna o valor absoluto de um número x."
   ]
  },
  {
   "cell_type": "markdown",
   "id": "46ff0804",
   "metadata": {},
   "source": [
    "##### Exemplo: Calculando valores absolutos"
   ]
  },
  {
   "cell_type": "code",
   "execution_count": null,
   "id": "8324ca59",
   "metadata": {
    "ExecuteTime": {
     "end_time": "2023-06-03T01:30:39.859023Z",
     "start_time": "2023-06-03T01:30:39.853065Z"
    },
    "code_folding": [],
    "scrolled": true
   },
   "outputs": [],
   "source": [
    "# Importando módulo necessário\n",
    "import math\n",
    "\n",
    "# Variáveis\n",
    "r = 0.3\n",
    "s = -1.8\n",
    "\n",
    "# Cálculos dos valores absolutos\n",
    "r_fabs = math.fabs(r)\n",
    "s_fabs = math.fabs(s)\n",
    "\n",
    "# Imprimindo os valores absolutos\n",
    "print(r_fabs)\n",
    "print(s_fabs)"
   ]
  },
  {
   "cell_type": "markdown",
   "id": "f2a51651",
   "metadata": {},
   "source": [
    "## <div style=\"margin-top: -20px;\">\n",
    "<hr style=\"border: 2px solid blue;\">\n",
    "\n",
    "<font color='blue'><span style=\"font-size: 22px;\"><strong>5.5 Trabalhando em Outras Bases</strong></span></font>\n",
    "\n",
    "<hr style=\"border: 2px solid blue;\">\n",
    "</div>"
   ]
  },
  {
   "cell_type": "markdown",
   "id": "88518286",
   "metadata": {},
   "source": [
    "A base decimal é a base numérica padrão utilizada em nosso sistema cotidiano. Os números decimais são compostos por dígitos de 0 a 9, e cada posição em um número decimal representa uma potência de 10.\n",
    "$$324_{10} = 3\\cdot10^{2} + 2\\cdot10^{1} + 4\\cdot10^{0}$$"
   ]
  },
  {
   "cell_type": "markdown",
   "id": "2bf1ade2",
   "metadata": {},
   "source": [
    "Existem outras bases numéricas importantes na programação: a base **binária**, a **base octal** e a **base hexadecimal**."
   ]
  },
  {
   "cell_type": "markdown",
   "id": "a470f270",
   "metadata": {},
   "source": [
    "### <div style=\"margin-top: -20px;\">\n",
    "<hr style=\"border: 2px solid blue;\">\n",
    "\n",
    "<font color='blue'><span style=\"font-size: 18px;\"><strong>5.5.1 Base Binária</strong></span></font>\n",
    "\n",
    "<hr style=\"border: 2px solid blue;\">\n",
    "</div>"
   ]
  },
  {
   "cell_type": "markdown",
   "id": "8be434eb",
   "metadata": {},
   "source": [
    "A base <u>binária</u> é a base numérica utilizada pelos computadores para armazenar e processar informações. Os números binários são compostos apenas pelos dígitos 0 e 1, e cada posição em um número binário representa uma potência de 2.<br><br>\n",
    "$$1101_{2} = 1\\cdot2^{3} + 1\\cdot2^{2} + 0\\cdot2^{1} + 1\\cdot2^{0} = 8 + 4 + 0 + 1 = 13_{10}$$<br>\n",
    "O numéro binário $1101$ é representado, no Python, pela string $0b1101$."
   ]
  },
  {
   "cell_type": "markdown",
   "id": "3769ac65",
   "metadata": {},
   "source": [
    "#### *Exemplo 1: Convertendo um número da base 10 para a base 2*"
   ]
  },
  {
   "cell_type": "code",
   "execution_count": null,
   "id": "4b53be10",
   "metadata": {
    "ExecuteTime": {
     "end_time": "2023-06-03T01:30:33.201896Z",
     "start_time": "2023-06-03T01:30:33.196910Z"
    }
   },
   "outputs": [],
   "source": [
    "# Valor decimal\n",
    "x_10 = 13\n",
    "\n",
    "# Conversão da base 10 para base 2\n",
    "x_2 = bin(x_10)\n",
    "\n",
    "# Imprimindo o valor convertido\n",
    "print(x_2)"
   ]
  },
  {
   "cell_type": "code",
   "execution_count": null,
   "id": "35835c66",
   "metadata": {},
   "outputs": [],
   "source": [
    "print(type(x_2))"
   ]
  },
  {
   "cell_type": "markdown",
   "id": "75c1329e",
   "metadata": {},
   "source": [
    "#### *Exemplo 2: Convertendo um número da base 2 para a base 10*"
   ]
  },
  {
   "cell_type": "code",
   "execution_count": null,
   "id": "dd5d39db",
   "metadata": {
    "ExecuteTime": {
     "end_time": "2023-06-03T01:30:33.394364Z",
     "start_time": "2023-06-03T01:30:33.388381Z"
    }
   },
   "outputs": [],
   "source": [
    "# Valor binário\n",
    "x_2 = '0b1101'\n",
    "\n",
    "# Conversão da base 2 para base 10\n",
    "x_10 = int(x_2,2)\n",
    "\n",
    "# Imprimindo o valor convertido\n",
    "print(x_10)"
   ]
  },
  {
   "cell_type": "code",
   "execution_count": null,
   "id": "4e74218b",
   "metadata": {},
   "outputs": [],
   "source": [
    "print(type(x_10))"
   ]
  },
  {
   "cell_type": "markdown",
   "id": "410953e6",
   "metadata": {},
   "source": [
    "Podemos fazer uma leve modificação no código acima para aceitar o valor binário sem o prefixo 0b."
   ]
  },
  {
   "cell_type": "code",
   "execution_count": null,
   "id": "e624c6fc",
   "metadata": {},
   "outputs": [],
   "source": [
    "# Valor binário\n",
    "x_2 = '1101'\n",
    "\n",
    "# Conversão da base 2 para base 10\n",
    "x_10 = int(x_2,2)\n",
    "\n",
    "# Imprimindo o valor convertido\n",
    "print(x_10)"
   ]
  },
  {
   "cell_type": "markdown",
   "id": "1f3b05f6",
   "metadata": {},
   "source": [
    "Consideremos o mesmo código anterior com x_2 inserido sem aspas."
   ]
  },
  {
   "cell_type": "code",
   "execution_count": null,
   "id": "4cc0f43a",
   "metadata": {},
   "outputs": [],
   "source": [
    "# Valor binário\n",
    "x_2 = 0b1101\n",
    "\n",
    "# Conversão da base 2 para base 10\n",
    "x_10 = int(x_2,2)\n",
    "\n",
    "# Imprimindo o valor convertido\n",
    "print(x_10)"
   ]
  },
  {
   "cell_type": "markdown",
   "id": "9ed4b8ac",
   "metadata": {},
   "source": [
    "### <div style=\"margin-top: -20px;\">\n",
    "<hr style=\"border: 2px solid blue;\">\n",
    "\n",
    "<font color='blue'><span style=\"font-size: 18px;\"><strong>5.5.2 Base Octal</strong></span></font>\n",
    "\n",
    "<hr style=\"border: 2px solid blue;\">\n",
    "</div>"
   ]
  },
  {
   "cell_type": "markdown",
   "id": "a7a1f24a",
   "metadata": {},
   "source": [
    "A base <u>octal</u> é uma base numérica que utiliza os dígitos de 0 a 7. Cada posição em um número octal representa uma potência de 8. <br><br>\n",
    "$$314_{8} = 3\\cdot8^{2} + 1\\cdot8^{1} + 4\\cdot8^{0} = 192 + 8 + 4 = 204_{10}$$<br>\n",
    "Ela é utilizada principalmente em sistemas de permissões de arquivos em sistemas operacionais Unix e Linux, bem como em linguagens de programação como o C e o Perl. O numéro octal $314_{8}$  é representado, no Python, pela string  $0o314$."
   ]
  },
  {
   "cell_type": "markdown",
   "id": "4320b69d",
   "metadata": {},
   "source": [
    "#### *Exemplo 1: Convertendo um número da base 10 para a base 8*"
   ]
  },
  {
   "cell_type": "code",
   "execution_count": null,
   "id": "9e630a97",
   "metadata": {
    "ExecuteTime": {
     "end_time": "2023-06-03T01:30:33.961290Z",
     "start_time": "2023-06-03T01:30:33.957310Z"
    }
   },
   "outputs": [],
   "source": [
    "# Valor decimal\n",
    "x_10 = 204\n",
    "\n",
    "# Conversão da base 10 para base 8\n",
    "y_8 = oct(x_10)\n",
    "\n",
    "# Imprindo o valor convertido\n",
    "print(y_8)"
   ]
  },
  {
   "cell_type": "markdown",
   "id": "25167cc9",
   "metadata": {},
   "source": [
    "#### *Exemplo 2: Convertendo um número da base 8 para a base 10*"
   ]
  },
  {
   "cell_type": "code",
   "execution_count": null,
   "id": "34d89323",
   "metadata": {
    "ExecuteTime": {
     "end_time": "2023-06-03T01:30:34.153209Z",
     "start_time": "2023-06-03T01:30:34.149216Z"
    }
   },
   "outputs": [],
   "source": [
    "# Valor octal\n",
    "y_8 = '0o314' # poderíamos considerar o y_8 = '314'\n",
    "\n",
    "# Conversão da base 8 para base 10\n",
    "y_10 = int(y_8,8)\n",
    "\n",
    "# Imprimindo o valor convertido\n",
    "print(y_10)"
   ]
  },
  {
   "cell_type": "markdown",
   "id": "c34e8d8e",
   "metadata": {},
   "source": [
    "### <div style=\"margin-top: -20px;\">\n",
    "<hr style=\"border: 2px solid blue;\">\n",
    "\n",
    "<font color='blue'><span style=\"font-size: 18px;\"><strong>5.5.3 Base Hexadecimal</strong></span></font>\n",
    "\n",
    "<hr style=\"border: 2px solid blue;\">\n",
    "</div>"
   ]
  },
  {
   "cell_type": "markdown",
   "id": "ab260d60",
   "metadata": {},
   "source": [
    "\n",
    "A base <u>hexadecimal</u> é uma base numérica que utiliza os dígitos de 0 a 9 e as letras de \"a\" a \"f\" (representando os valores de 10 a 15). Cada posição em um número hexadecimal representa uma potência de 16. <br><br>\n",
    "$$e3_{16} = 14\\cdot16^{1} + 3\\cdot16^{0} = 227_{10}$$<br>\n",
    "Ela é amplamente utilizada em programação, especialmente em linguagens de programação como o C, o C++, o Java e o Python, para representar cores, endereços de memória, números de porta e outros valores numéricos. O numéro hexadecimal $e3_{16}$ é representado, no Python, pela string  $0xe3$.\n",
    " ."
   ]
  },
  {
   "cell_type": "markdown",
   "id": "f53c386d",
   "metadata": {},
   "source": [
    "#### *Exemplo 1: Convertendo um número da base 10 para a base 16*"
   ]
  },
  {
   "cell_type": "code",
   "execution_count": null,
   "id": "ca6f6aa5",
   "metadata": {
    "ExecuteTime": {
     "end_time": "2023-06-03T01:30:34.738698Z",
     "start_time": "2023-06-03T01:30:34.733712Z"
    }
   },
   "outputs": [],
   "source": [
    "# Valor decimal\n",
    "x_10 = 227\n",
    "\n",
    "# Conversão da base 10 para base 16\n",
    "w_16 = hex(x_10)\n",
    "\n",
    "# Imprimindo o valor convertido\n",
    "print(w_16)"
   ]
  },
  {
   "cell_type": "markdown",
   "id": "bb1e424c",
   "metadata": {},
   "source": [
    "#### *Exemplo 2: Convertendo um número da base 16 para a base 10*"
   ]
  },
  {
   "cell_type": "code",
   "execution_count": null,
   "id": "7fa89844",
   "metadata": {
    "ExecuteTime": {
     "end_time": "2023-06-03T01:30:34.922010Z",
     "start_time": "2023-06-03T01:30:34.917046Z"
    }
   },
   "outputs": [],
   "source": [
    "# Valor hexadecimal\n",
    "w_16 = '0xe3' # poderíamos considerar w_16 = 'e3'\n",
    "\n",
    "# Conversão da base 16 para base 10\n",
    "w_10 = int(w_16,16)\n",
    "\n",
    "# Imprimindo o valor convertido\n",
    "print(w_10)"
   ]
  },
  {
   "cell_type": "markdown",
   "id": "b983dec9",
   "metadata": {},
   "source": [
    "### <div style=\"margin-top: -20px;\">\n",
    "<hr style=\"border: 2px solid blue;\">\n",
    "\n",
    "<font color='blue'><span style=\"font-size: 18px;\"><strong>5.5.4 Outras Bases</strong></span></font>\n",
    "\n",
    "<hr style=\"border: 2px solid blue;\">\n",
    "</div>"
   ]
  },
  {
   "cell_type": "markdown",
   "id": "bcd00fa4",
   "metadata": {},
   "source": [
    "Além das conversões entre as bases 2, 8 e 16 e a base 10, pode-se usar um mecanismo mais geral de conversão de uma base de 2 a 36 para uma base também de 2 a 36. A seguir apresentamos dois códigos que fazem conversões da base 10 para uma base b qualquer e de uma base b para a base 10. <font color='red'> Entendê-los neste momento, pode não ser viável. Mais adiante veremos cada uma de suas partes componentes.</font>"
   ]
  },
  {
   "cell_type": "markdown",
   "id": "c630aad4",
   "metadata": {},
   "source": [
    "#### *Exemplo 1: Convertendo da base 10 para a base b (2 a 36)*"
   ]
  },
  {
   "cell_type": "markdown",
   "id": "820a69a2",
   "metadata": {},
   "source": [
    "O programa a seguir contém algumas funções que serão abordadas com mais detalhes em capítulos futuros. Por enquanto, concentre-se na possibilidade oferecida por essas funções."
   ]
  },
  {
   "cell_type": "code",
   "execution_count": null,
   "id": "71aaae81",
   "metadata": {
    "ExecuteTime": {
     "end_time": "2023-06-03T01:30:35.515428Z",
     "start_time": "2023-06-03T01:30:35.509417Z"
    }
   },
   "outputs": [],
   "source": [
    "# Função que converte um número da base 10 para a base b\n",
    "def base_10_para_base_b(n, b):\n",
    "    digitos = \"0123456789ABCDEFGHIJKLMNOPQRSTUVWXYZ\"  # Dígitos utilizados na base\n",
    "    base_n = []  # Lista para armazenar os dígitos na base b\n",
    "    while n > 0:\n",
    "        n, dig = divmod(n, b)  # Divide o número por b e obtém o quociente e o resto\n",
    "        base_n.append(digitos[dig])  # Adiciona o dígito correspondente ao resto na lista\n",
    "    base_n.reverse()  # Inverte a ordem dos dígitos na lista\n",
    "    return ''.join(base_n)  # Retorna os dígitos na base b como uma string"
   ]
  },
  {
   "cell_type": "code",
   "execution_count": null,
   "id": "bccf3661",
   "metadata": {
    "ExecuteTime": {
     "end_time": "2023-06-03T01:30:35.713446Z",
     "start_time": "2023-06-03T01:30:35.708435Z"
    }
   },
   "outputs": [],
   "source": [
    "# Armazenando o valor correspondente à conversão do valor decimal 255 para a base 20\n",
    "x1 = base_10_para_base_b(255, 20)\n",
    "\n",
    "# Imprimindo o valor convertido\n",
    "print(x1)"
   ]
  },
  {
   "cell_type": "code",
   "execution_count": null,
   "id": "6f012b76",
   "metadata": {},
   "outputs": [],
   "source": [
    "type(x1)"
   ]
  },
  {
   "cell_type": "markdown",
   "id": "93ccbc4a",
   "metadata": {},
   "source": [
    "#### *Exemplo 2: Convertendo da base b (2 a 36) para a base 10*"
   ]
  },
  {
   "cell_type": "code",
   "execution_count": null,
   "id": "297d43df",
   "metadata": {
    "ExecuteTime": {
     "end_time": "2023-06-03T01:30:35.921963Z",
     "start_time": "2023-06-03T01:30:35.917001Z"
    }
   },
   "outputs": [],
   "source": [
    "# Função que converte um número da base b para a base 10\n",
    "def base_b_para_base_10(n, b):\n",
    "    n = reversed(n)  # Inverte o número para facilitar os cálculos\n",
    "    num = 0  # Variável para armazenar o resultado\n",
    "    for k, dig in enumerate(n):\n",
    "        if dig.isdigit():  # Verifica se o dígito é um número\n",
    "            dig = int(dig)  # Converte o dígito para inteiro\n",
    "        else:\n",
    "            dig = ord(dig.upper()) - ord('A') + 10  # Converte o dígito alfabético para inteiro\n",
    "        num += dig * pow(b, k)  # Realiza o cálculo do valor na base 10\n",
    "    return num  # Retorna o número convertido para a base 10"
   ]
  },
  {
   "cell_type": "code",
   "execution_count": null,
   "id": "2660761b",
   "metadata": {
    "ExecuteTime": {
     "end_time": "2023-06-03T01:30:36.097842Z",
     "start_time": "2023-06-03T01:30:36.092832Z"
    }
   },
   "outputs": [],
   "source": [
    "# Armazenando o valor correspondente à conversão de CF (base 20) para a base 10 \n",
    "x2 = base_b_para_base_10('CF', 20)\n",
    "\n",
    "# Imprimindo o valor convertido\n",
    "print(x2)"
   ]
  },
  {
   "cell_type": "code",
   "execution_count": null,
   "id": "1db4aaeb",
   "metadata": {},
   "outputs": [],
   "source": [
    "type(x2)"
   ]
  },
  {
   "cell_type": "markdown",
   "id": "97394c7d",
   "metadata": {},
   "source": [
    "Podemos operar com números de diferentes bases."
   ]
  },
  {
   "cell_type": "code",
   "execution_count": null,
   "id": "7b185981",
   "metadata": {
    "ExecuteTime": {
     "end_time": "2023-06-03T01:30:36.297396Z",
     "start_time": "2023-06-03T01:30:36.292393Z"
    }
   },
   "outputs": [],
   "source": [
    "# Uma possibilidade entre muitas...\n",
    "x3 = base_b_para_base_10('CF',20) + base_b_para_base_10('A1',16)\n",
    "print(x3)"
   ]
  },
  {
   "cell_type": "markdown",
   "id": "80ec444c",
   "metadata": {},
   "source": [
    "## <div style=\"margin-top: -20px;\">\n",
    "<hr style=\"border: 2px solid blue;\">\n",
    "\n",
    "<font color='blue'><span style=\"font-size: 22px;\"><strong>Exercícios</strong></span></font>\n",
    "\n",
    "<hr style=\"border: 2px solid blue;\">\n",
    "</div>"
   ]
  },
  {
   "cell_type": "markdown",
   "id": "db929a65",
   "metadata": {},
   "source": [
    "#### Exercício 1"
   ]
  },
  {
   "cell_type": "markdown",
   "id": "d033422b",
   "metadata": {},
   "source": [
    "Apresente células de código que:\n",
    "\n",
    "a) Converte x = 2.56893 para um número com duas três casas decimais.\n",
    "\n",
    "b) Converte y = 3.453 para o menor inteiro maior ou igual a y.\n",
    "\n",
    "c) Converte z = -1.5 pra o maior inteiro menor ou igual a z e, em seguida, toma o valor módulo deste último valor."
   ]
  },
  {
   "cell_type": "code",
   "execution_count": null,
   "id": "28969ad9",
   "metadata": {},
   "outputs": [],
   "source": [
    "x = 2.56893\n",
    "y = 3.453\n",
    "z = -1.5"
   ]
  },
  {
   "cell_type": "code",
   "execution_count": null,
   "id": "01e15d9c",
   "metadata": {},
   "outputs": [],
   "source": [
    "# Sua resposta\n",
    "# a)\n",
    "\n"
   ]
  },
  {
   "cell_type": "code",
   "execution_count": null,
   "id": "86add959",
   "metadata": {},
   "outputs": [],
   "source": [
    "# Sua resposta\n",
    "# b)\n",
    "\n"
   ]
  },
  {
   "cell_type": "code",
   "execution_count": null,
   "id": "bebed617",
   "metadata": {},
   "outputs": [],
   "source": [
    "# Sua resposta\n",
    "# c)\n",
    "\n"
   ]
  },
  {
   "cell_type": "markdown",
   "id": "cdabdbe2",
   "metadata": {},
   "source": [
    "#### Exercício 2"
   ]
  },
  {
   "cell_type": "markdown",
   "id": "4cefcdcf",
   "metadata": {},
   "source": [
    "Considere o código:<br><br>\n",
    "<center> <img src=\"img1_cap5.jpg\" alt=\"jpg_python\" width=\"700\" height=\"\"> </center>"
   ]
  },
  {
   "cell_type": "markdown",
   "id": "c8a1b25b",
   "metadata": {},
   "source": [
    "Sem compilar o código dado (pelo menos por enquanto), é correto afirmar que:\n",
    "\n",
    "a) A saída será 15 e esta corresponde a uma variável do tipo float.\n",
    "\n",
    "b) A saída será 15.0 e esta corresponde a uma variável do tipo float.\n",
    "\n",
    "c) A saída será 15.0 e esta corresponde a uma variável do tipo int.\n",
    "\n",
    "d) A saída será 15 e esta corresponde a uma variável do tipo int.\n",
    "\n",
    "e) Nenhuma das alternativas anteriores está correta."
   ]
  },
  {
   "cell_type": "code",
   "execution_count": null,
   "id": "d427085b",
   "metadata": {},
   "outputs": [],
   "source": [
    "# Seus testes e contas\n",
    "\n",
    "\n"
   ]
  },
  {
   "cell_type": "markdown",
   "id": "9eeb053a",
   "metadata": {},
   "source": [
    "#### Exercício 3"
   ]
  },
  {
   "cell_type": "markdown",
   "id": "079c913f",
   "metadata": {},
   "source": [
    "Considere a célula de código a seguir:"
   ]
  },
  {
   "cell_type": "code",
   "execution_count": null,
   "id": "c778c47b",
   "metadata": {
    "ExecuteTime": {
     "end_time": "2023-09-15T12:55:59.423294Z",
     "start_time": "2023-09-15T12:55:59.419460Z"
    }
   },
   "outputs": [],
   "source": [
    "a = 1\n",
    "b = 2.15\n",
    "x = {a,b}"
   ]
  },
  {
   "cell_type": "markdown",
   "id": "ca30375b",
   "metadata": {},
   "source": [
    "Sobre as variáveis **a**, **b** e **x** é correto afirmar que:\n",
    "\n",
    "a) **a** é do tipo float\n",
    "\n",
    "b) **a** e **b** são do tipo int\n",
    "\n",
    "c) **x** não é do tipo int\n",
    "\n",
    "d) **x** é do tipo list\n",
    "\n",
    "e) Nenhuma das alternativas anteriores está correta."
   ]
  },
  {
   "cell_type": "code",
   "execution_count": null,
   "id": "41bf1971",
   "metadata": {},
   "outputs": [],
   "source": [
    "# Seus testes e contas\n",
    "\n",
    "\n"
   ]
  },
  {
   "cell_type": "markdown",
   "id": "1a4a9f49",
   "metadata": {},
   "source": [
    "#### Exercício 4"
   ]
  },
  {
   "cell_type": "markdown",
   "id": "20b2b240",
   "metadata": {},
   "source": [
    "Considere as variáveis **a** e **b** na célula de código a seguir:"
   ]
  },
  {
   "cell_type": "code",
   "execution_count": null,
   "id": "856589a5",
   "metadata": {
    "ExecuteTime": {
     "end_time": "2023-09-15T13:09:05.870988Z",
     "start_time": "2023-09-15T13:09:05.866410Z"
    }
   },
   "outputs": [],
   "source": [
    "a = 1\n",
    "b = print(a+1)"
   ]
  },
  {
   "cell_type": "markdown",
   "id": "a23a1f55",
   "metadata": {},
   "source": [
    "É correto afirmar que:\n",
    "\n",
    "a) **a** e **b** são do tipo int.\n",
    "\n",
    "b) **a + b = 3**.\n",
    "\n",
    "c) **a** é do tipo int mas **b** não. Além disso se pode converter **b** para usando **int(b)** e calcular a soma **a + b**.\n",
    "\n",
    "d) **b** é do tipo str (string) e por isso não se pode somar com **a** diretamente.\n",
    "\n",
    "e) Nenhuma das alternativas anteriores está correta."
   ]
  },
  {
   "cell_type": "code",
   "execution_count": null,
   "id": "52444313",
   "metadata": {},
   "outputs": [],
   "source": [
    "# Seus testes e contas\n",
    "\n",
    "\n"
   ]
  },
  {
   "cell_type": "markdown",
   "id": "61d2d24c",
   "metadata": {},
   "source": [
    "#### Exercício 5"
   ]
  },
  {
   "cell_type": "markdown",
   "id": "f6337dbe",
   "metadata": {},
   "source": [
    "*Antes de resolver o próximo este exercício resete o Kernel. No menu superior selecione \"Kernel\" e, em seguida, \"Restart & Clear Output\". Caso esteja usando o Colab selecione a guia \"Ambiente de execução\" e, em seguida \"Reiniciar ambiente de execução.\"*"
   ]
  },
  {
   "cell_type": "markdown",
   "id": "17e5954d",
   "metadata": {},
   "source": [
    "Considere o código a seguir:<br><br>\n",
    "<center> <img src=\"img2_cap5.jpg\" alt=\"jpg_python\" width=\"700\" height=\"\"> </center>\n",
    "\n",
    "Ao executarmos este código temos que:\n",
    "\n",
    "a) **x** terá valor -1.36\n",
    "\n",
    "b) **y** terá valor -2\n",
    "\n",
    "c) **z** terá valor -1\n",
    "\n",
    "d) **w** terá valor 1\n",
    "\n",
    "e) Nenhuma das alternativas anteriores está correta."
   ]
  },
  {
   "cell_type": "code",
   "execution_count": null,
   "id": "8532b0f9",
   "metadata": {},
   "outputs": [],
   "source": [
    "# Seus testes e contas\n",
    "\n",
    "\n"
   ]
  },
  {
   "cell_type": "markdown",
   "id": "e9b55274",
   "metadata": {},
   "source": [
    "#### Exercício 6"
   ]
  },
  {
   "cell_type": "markdown",
   "id": "7e95384f",
   "metadata": {},
   "source": [
    "Observe o código a seguir:<br><br>\n",
    " <center> <img src=\"img5_cap5.jpg\" alt=\"jpg_python\" width=\"700\" height=\"\"> </center>\n",
    " \n",
    "É correto afirmar que:\n",
    "\n",
    "a) Apresentará saída igual a 2.5 uma vez que resulta, no último passo, em $\\frac{5}{2}$.\n",
    "\n",
    "b) Apresentará saída 3 uma vez que, no último passo arredonda-se 2.5 para próximo inteiro maior ou igual a ele.\n",
    "\n",
    "c) A função math.ceil irá atuar sobre y que, será divido por 2 logo em seguida resultando na saída 3.\n",
    "\n",
    "d) A função math.ceil atuará na fração $\\frac{6}{2}$ que resutará em um inteiro igual a 3 que será igual à saída final.\n",
    "\n",
    "e) Nenhuma das alternativas anteriores está correta."
   ]
  },
  {
   "cell_type": "code",
   "execution_count": null,
   "id": "b40e7737",
   "metadata": {},
   "outputs": [],
   "source": [
    "# Seus testes e contas\n",
    "\n",
    "\n"
   ]
  },
  {
   "cell_type": "markdown",
   "id": "4fc6f316",
   "metadata": {},
   "source": [
    "### <div style=\"margin-top: -20px;\">\n",
    "<hr style=\"border: 2px solid blue;\">\n",
    "\n",
    "<font color='blue'><span style=\"font-size: 18px;\"><strong>Soluções dos Exercícios</strong></span></font>\n",
    "\n",
    "<hr style=\"border: 2px solid blue;\">\n",
    "</div>"
   ]
  },
  {
   "cell_type": "markdown",
   "id": "c0113e87",
   "metadata": {},
   "source": [
    "#### Solução do Exercício 1"
   ]
  },
  {
   "cell_type": "markdown",
   "id": "34c5735b",
   "metadata": {},
   "source": [
    "Os códigos solicitados são apresentados nas células a seguir:"
   ]
  },
  {
   "cell_type": "code",
   "execution_count": null,
   "id": "c530bd56",
   "metadata": {
    "ExecuteTime": {
     "end_time": "2023-09-15T14:12:28.938509Z",
     "start_time": "2023-09-15T14:12:28.932847Z"
    }
   },
   "outputs": [],
   "source": [
    "# a)\n",
    "\n",
    "x = 2.56893\n",
    "\n",
    "x_convertido = round(x,3)\n",
    "print(x_convertido)"
   ]
  },
  {
   "cell_type": "code",
   "execution_count": null,
   "id": "b3bef359",
   "metadata": {
    "ExecuteTime": {
     "end_time": "2023-09-15T14:14:44.913161Z",
     "start_time": "2023-09-15T14:14:44.908625Z"
    }
   },
   "outputs": [],
   "source": [
    "# b)\n",
    "\n",
    "import math\n",
    "\n",
    "y = 3.453\n",
    "\n",
    "y_convertido = math.ceil(y)\n",
    "\n",
    "print(y_convertido)"
   ]
  },
  {
   "cell_type": "code",
   "execution_count": null,
   "id": "ed257fd1",
   "metadata": {
    "ExecuteTime": {
     "end_time": "2023-09-15T14:22:55.169384Z",
     "start_time": "2023-09-15T14:22:55.165132Z"
    }
   },
   "outputs": [],
   "source": [
    "# c)\n",
    "\n",
    "z = -1.5\n",
    "\n",
    "z_convertido1 =math.floor(z)\n",
    "z_convertido = math.fabs(z_convertido1)\n",
    "\n",
    "print(z_convertido)"
   ]
  },
  {
   "cell_type": "markdown",
   "id": "fb46ac3a",
   "metadata": {},
   "source": [
    "#### Solução do Exercício 2"
   ]
  },
  {
   "cell_type": "markdown",
   "id": "ed6f552d",
   "metadata": {},
   "source": [
    "A alternativa correta é a \"d\". De fato, compile a célula de código a seguir:"
   ]
  },
  {
   "cell_type": "code",
   "execution_count": null,
   "id": "c5dd13e8",
   "metadata": {
    "ExecuteTime": {
     "end_time": "2023-09-15T12:48:19.088534Z",
     "start_time": "2023-09-15T12:48:19.077917Z"
    }
   },
   "outputs": [],
   "source": [
    "idade = 15.5\n",
    "print(int(idade))\n",
    "print(type(int(idade)))"
   ]
  },
  {
   "cell_type": "markdown",
   "id": "415e2d5f",
   "metadata": {},
   "source": [
    "#### Solução do Exercício 3"
   ]
  },
  {
   "cell_type": "markdown",
   "id": "c6560eca",
   "metadata": {},
   "source": [
    "Consultemos os tipos das variáveis **a**, **b** e **x**:"
   ]
  },
  {
   "cell_type": "code",
   "execution_count": null,
   "id": "556e5f50",
   "metadata": {
    "ExecuteTime": {
     "end_time": "2023-09-15T12:56:52.752128Z",
     "start_time": "2023-09-15T12:56:52.747437Z"
    }
   },
   "outputs": [],
   "source": [
    "a = 1\n",
    "b = 2.15\n",
    "x = {a,b}\n",
    "\n",
    "print(type(a))\n",
    "print(type(b))\n",
    "print(type(x))"
   ]
  },
  {
   "cell_type": "markdown",
   "id": "81a34260",
   "metadata": {},
   "source": [
    "Portanto, a alternativa correta é a \"c\"."
   ]
  },
  {
   "cell_type": "markdown",
   "id": "3f26baf9",
   "metadata": {},
   "source": [
    "#### Solução do Exercício 4"
   ]
  },
  {
   "cell_type": "markdown",
   "id": "51c27ce1",
   "metadata": {},
   "source": [
    "Apliquemos a função type às variáveis **a** e **b**:"
   ]
  },
  {
   "cell_type": "code",
   "execution_count": null,
   "id": "1fc1ee59",
   "metadata": {
    "ExecuteTime": {
     "end_time": "2023-09-15T13:09:27.679480Z",
     "start_time": "2023-09-15T13:09:27.675334Z"
    }
   },
   "outputs": [],
   "source": [
    "a = 1\n",
    "b = print(a+1)\n",
    "\n",
    "print(type(a))\n",
    "print(type(b))"
   ]
  },
  {
   "cell_type": "markdown",
   "id": "461611db",
   "metadata": {},
   "source": [
    "Note que **b** é uma variável sem tipo. Portanto, a alternativa correta é a \"e\". Mais especificamente,\n",
    "\n",
    "a) A alternativa está incorreta porque, embora a seja de fato um int, b recebe o retorno da função print(), que é None. Portanto, b é do tipo NoneType, não int.\n",
    "\n",
    "b) A alternativa está incorreta. Primeiro, b não possui um valor numérico, já que armazena o resultado da função print() que é None. Portanto, a expressão a + b resultará em um erro.\n",
    "\n",
    "c) Esta alternativa é parcialmente verdadeira porque a é de fato um int e b não é. No entanto, o segundo ponto está errado, pois você não pode converter b para um inteiro usando int(b) porque b é None, não uma string representando um número ou qualquer valor numérico.\n",
    "\n",
    "d) A alternativa está incorreta porque, embora você não possa somar b diretamente com a, b não é do tipo str; é do tipo NoneType, pois armazena o retorno da função print().\n",
    "\n",
    "e) Essa é a alternativa correta. Nenhuma das afirmações nas alternativas anteriores está completamente correta, fazendo desta a escolha correta."
   ]
  },
  {
   "cell_type": "markdown",
   "id": "5fdc85b9",
   "metadata": {},
   "source": [
    "#### Solução do Exercício 5"
   ]
  },
  {
   "cell_type": "markdown",
   "id": "d83e336a",
   "metadata": {},
   "source": [
    "Note que as funções floor (ou math.floor), trunc e ceil não estão disponíveis para uso imediato. Para usá-las precisamos importar o módulo math que, inclusive, está indicada em suas chamadas. Sendo assim, ao resetar o Kernel no Jupyter (ou Reiniciar o ambiente de execução no Colab), não temos qualquer função não nativa como as três citadas. Somente a round funciona, porém, devido à presença das outras três a compilação apresentará erro. Acompanhe as figuras a seguir para ver os erros no Jupyter e no Colab:<br><br>\n",
    "<center> <img src=\"img3_cap5.jpg\" alt=\"jpg_python\" width=\"700\" height=\"\"> </center><br>\n",
    "\n",
    "<center> <img src=\"img4_cap5.jpg\" alt=\"jpg_python\" width=\"700\" height=\"\"> </center><br>\n",
    "\n",
    "Portanto, faz-se necessário a importação do módulo math para uso das funções floor, trunc e ceil. O código correto é dado a seguir:"
   ]
  },
  {
   "cell_type": "code",
   "execution_count": null,
   "id": "ff27b6fb",
   "metadata": {
    "ExecuteTime": {
     "end_time": "2023-09-15T13:25:17.198684Z",
     "start_time": "2023-09-15T13:25:17.193931Z"
    }
   },
   "outputs": [],
   "source": [
    "import math\n",
    "\n",
    "a = -1.365\n",
    "x = round(a,2)\n",
    "y = math.floor(a)\n",
    "z = math.trunc(a)\n",
    "w = math.ceil(a)\n",
    "\n",
    "print(x)\n",
    "print(y)\n",
    "print(z)\n",
    "print(w)"
   ]
  },
  {
   "cell_type": "markdown",
   "id": "a784f2fc",
   "metadata": {},
   "source": [
    "#### Solução do Exercício 6"
   ]
  },
  {
   "cell_type": "markdown",
   "id": "e4ede4a7",
   "metadata": {},
   "source": [
    "Considere o código comentado a seguir:"
   ]
  },
  {
   "cell_type": "code",
   "execution_count": null,
   "id": "684b7381",
   "metadata": {},
   "outputs": [],
   "source": [
    "import math\n",
    "\n",
    "a = 10.3556\n",
    "x = round(a,2)  # x será igual a 10.36\n",
    "y = (math.floor(x))/2  # y será igual a (floor de 10.36) / 2 = 10/2 = 5.0\n",
    "z = math.ceil(y/2)  # z será igual a ceil de (5.0/2) = ceil de 2.5 = 3\n",
    "\n",
    "print(z)  # Isso imprimirá 3"
   ]
  },
  {
   "cell_type": "markdown",
   "id": "585d5a4f",
   "metadata": {},
   "source": [
    "Mais explicitamente, podemos considerar acrescentar linhas para a impressão de **x** e **y**."
   ]
  },
  {
   "cell_type": "code",
   "execution_count": null,
   "id": "e42747dc",
   "metadata": {
    "ExecuteTime": {
     "end_time": "2023-09-15T14:05:08.699412Z",
     "start_time": "2023-09-15T14:05:08.694474Z"
    }
   },
   "outputs": [],
   "source": [
    "import math\n",
    "\n",
    "a = 10.3556\n",
    "x = round(a,2)\n",
    "y = (math.floor(x))/2\n",
    "z = math.ceil(y/2)\n",
    "\n",
    "print(x)\n",
    "print(y)\n",
    "print(z)"
   ]
  },
  {
   "cell_type": "markdown",
   "id": "4a989781",
   "metadata": {},
   "source": [
    "Com base na explicação acima, vamos analisar cada alternativa:\n",
    "\n",
    "a) Esta alternativa está incorreta porque, embora o resultado de $\\frac{y}{2}$ seja $\\frac{5}{2}$ ou 2.5, o código não imprime esse resultado diretamente.\n",
    "\n",
    "b) Esta alternativa está correta. O último passo do código é calcular math.ceil(y/2), que resulta em arredondar 2.5 para o próximo inteiro maior, que é 3.\n",
    "\n",
    "c) Esta alternativa é semelhante à alternativa b), mas é um pouco confusa na forma como está escrita. A função math.ceil() está de fato atuando sobre o resultado de y/2 (que é 2.5), mas a maneira como a alternativa é escrita faz parecer que y está sendo dividido por 2 após math.ceil() ser chamado, o que não é o caso. Portanto, esta alternativa está incorreta.\n",
    "\n",
    "d) Esta alternativa está incorreta porque math.ceil() não está atuando sobre a fração $\\frac{6}{2}$.\n",
    "\n",
    "e) Esta alternativa está incorreta porque a alternativa b) está correta."
   ]
  }
 ],
 "metadata": {
  "kernelspec": {
   "display_name": "Python 3 (ipykernel)",
   "language": "python",
   "name": "python3"
  },
  "language_info": {
   "codemirror_mode": {
    "name": "ipython",
    "version": 3
   },
   "file_extension": ".py",
   "mimetype": "text/x-python",
   "name": "python",
   "nbconvert_exporter": "python",
   "pygments_lexer": "ipython3",
   "version": "3.11.5"
  },
  "varInspector": {
   "cols": {
    "lenName": 16,
    "lenType": 16,
    "lenVar": 40
   },
   "kernels_config": {
    "python": {
     "delete_cmd_postfix": "",
     "delete_cmd_prefix": "del ",
     "library": "var_list.py",
     "varRefreshCmd": "print(var_dic_list())"
    },
    "r": {
     "delete_cmd_postfix": ") ",
     "delete_cmd_prefix": "rm(",
     "library": "var_list.r",
     "varRefreshCmd": "cat(var_dic_list()) "
    }
   },
   "types_to_exclude": [
    "module",
    "function",
    "builtin_function_or_method",
    "instance",
    "_Feature"
   ],
   "window_display": false
  }
 },
 "nbformat": 4,
 "nbformat_minor": 5
}
