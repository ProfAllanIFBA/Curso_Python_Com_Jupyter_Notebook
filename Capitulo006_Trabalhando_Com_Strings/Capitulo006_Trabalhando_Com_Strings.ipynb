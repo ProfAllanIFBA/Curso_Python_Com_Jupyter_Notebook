{
 "cells": [
  {
   "cell_type": "markdown",
   "id": "b42396bc",
   "metadata": {},
   "source": [
    "<center> <img src=\"logo_ifba.jpg\" alt=\"jpg_python\" width=\"100\" height=\"\"> </center>\n",
    "<br><br>\n",
    "<center> <img src=\"logo_coext.jpg\" alt=\"jpg_python\" width=\"200\" height=\"\"> </center>\n",
    "<br><br>\n",
    "<div align=\"center\"><span style=\"font-size: 26px;\"><strong>Python Com Jupyter Notebook</strong></span></div><br><br>\n",
    "<center><div style=\"text-align:center\">    <a href=\"https://colab.research.google.com/github/ProfAllanIFBA/Curso_Python_Com_Jupyter_Notebook/blob/main/Capitulo006_Trabalhando_Com_Strings/Capitulo006_Trabalhando_Com_Strings.ipynb\">Link Colab</a> \n",
    "</div><br><br></center>\n",
    "<center> <img src=\"python_gif.gif\" alt=\"gif_python\" width=\"80\"> </center>"
   ]
  },
  {
   "cell_type": "markdown",
   "id": "09aa6a8a",
   "metadata": {},
   "source": [
    "Este material apresenta uma explicação detalhada sobre o uso do software de programação em Python chamado Jupyter Notebook, com foco na análise de dados. Abordaremos desde estruturas básicas, como listas e dicionários, até estruturas mais complexas voltadas para a análise de dados, como pandas e seaborn, além de ferramentas destinadas à inteligência artificial.\n",
    "\n",
    "\n",
    "<font color='red'> <u>Este é um material de uso público e totalmente gratuito</u>. Contudo, eventuais edições são de responsabilidade de quem as fizer. </font>\n",
    "\n",
    "Você pode ajudar a melhorar este material!\n",
    "\n",
    "Contato e Sugestões: allansoares@ifba.edu.br.\n",
    "\n",
    "[**Equipe Executora**](https://github.com/Allanifba/Curso_Python_Com_Jupyter_Notebook/blob/main/Capitulo000_Equipe/Capitulo000_Equipe.ipynb)"
   ]
  },
  {
   "cell_type": "markdown",
   "id": "ebf7e46e",
   "metadata": {},
   "source": [
    "### <center> <font color='red'> Vídeo Aulas <img src=\"youtube.gif\" alt=\"jpg_python\" width=\"100\" height=\"\"> </font> </center>"
   ]
  },
  {
   "cell_type": "markdown",
   "id": "e3efead8",
   "metadata": {},
   "source": [
    "[Trabalhando Com Strings no Python](https://youtu.be/3jF0ykQrWRw)\n",
    "\n",
    "[Concatenação de Strings no Python](https://youtu.be/OEVqjXxE5o4)\n",
    "\n",
    "[Indexação de Uma String em Python](https://youtu.be/sORx6luvBdA)\n",
    "\n",
    "[Funções Built-in e Métodos Com Strings no Python - Parte 1](https://youtu.be/5zAzx1gttaY)\n",
    "\n",
    "[Funções Built-in e Métodos Com Strings no Python - Parte 2](https://youtu.be/G0XARjRs-vI)\n",
    "\n",
    "[Funções Built-in e Métodos Com Strings no Python - Parte 3](https://youtu.be/Ds1CkUAXYsg)\n",
    "\n",
    "[Funções Built-in e Métodos Com Strings no Python - Parte 4](https://youtu.be/iUqNR1MCVa0)\n",
    "\n",
    "[Funções Built-in e Métodos Com Strings no Python - Parte 5](https://youtu.be/fWS2xqMVZiY)\n",
    "\n",
    "[Consultando Atributos Funções e Métodos Associados a Um Objeto](https://youtu.be/6ISfx1uUHBM)"
   ]
  },
  {
   "cell_type": "markdown",
   "id": "cf120cc0",
   "metadata": {},
   "source": [
    "<div style=\"border: 2px solid black; padding: 10px; width: 100%; background-color: lightgray; display: flex; align-items: center;\">\n",
    "    <h1 style=\"color: red; text-align: center; margin: auto;\">\n",
    "        Capítulo 6: Trabalhando Com Strings\n",
    "    </h1>\n",
    "</div>\n",
    "\n",
    "<font color='red'></font>\n",
    "<a href=\"\"></a>"
   ]
  },
  {
   "cell_type": "markdown",
   "id": "bb155bf5",
   "metadata": {},
   "source": [
    "Uma <u>string</u> é uma sequência de caracteres, que pode incluir letras, números, símbolos e espaços em branco. As strings são comumente usadas em programação para armazenar e manipular dados textuais, como nomes, endereços, senhas, mensagens e muito mais. Elas podem ser criadas usando aspas simples ou duplas em torno do texto, e muitas linguagens de programação oferecem uma série de funções e métodos para trabalhar com strings, como concatenação, substituição, formatação e validação. Além disso, as strings podem ser comparadas e ordenadas de várias maneiras, tornando-as uma ferramenta poderosa para muitas aplicações."
   ]
  },
  {
   "cell_type": "markdown",
   "id": "5c49bb46",
   "metadata": {},
   "source": [
    "## <div style=\"margin-top: -20px;\">\n",
    "<hr style=\"border: 2px solid blue;\">\n",
    "\n",
    "<font color='blue'><span style=\"font-size: 22px;\"><strong>6.1 Exemplos Iniciais</strong></span></font>\n",
    "\n",
    "<hr style=\"border: 2px solid blue;\">\n",
    "</div>"
   ]
  },
  {
   "cell_type": "markdown",
   "id": "7d2d9ddf",
   "metadata": {},
   "source": [
    "#### *Exemplo 1: Strings*"
   ]
  },
  {
   "cell_type": "code",
   "execution_count": null,
   "id": "8375dc38",
   "metadata": {},
   "outputs": [],
   "source": [
    "# String 1\n",
    "'Professor'"
   ]
  },
  {
   "cell_type": "code",
   "execution_count": null,
   "id": "4474d8ac",
   "metadata": {},
   "outputs": [],
   "source": [
    "Professor"
   ]
  },
  {
   "cell_type": "code",
   "execution_count": null,
   "id": "7e41b017",
   "metadata": {},
   "outputs": [],
   "source": [
    "profissao = 'Professor'\n",
    "print(profissao)"
   ]
  },
  {
   "cell_type": "code",
   "execution_count": null,
   "id": "c013e888",
   "metadata": {},
   "outputs": [],
   "source": [
    "# String 2\n",
    "'ab_012'"
   ]
  },
  {
   "cell_type": "code",
   "execution_count": null,
   "id": "5a94c970",
   "metadata": {},
   "outputs": [],
   "source": [
    "# Consultando o tipo\n",
    "print(type('Professor'))"
   ]
  },
  {
   "cell_type": "code",
   "execution_count": null,
   "id": "7358f952",
   "metadata": {
    "ExecuteTime": {
     "end_time": "2023-06-06T11:35:24.644616Z",
     "start_time": "2023-06-06T11:35:24.638606Z"
    }
   },
   "outputs": [],
   "source": [
    "# Exibição em tela usando a função print\n",
    "print('Professor')"
   ]
  },
  {
   "cell_type": "markdown",
   "id": "786079a2",
   "metadata": {},
   "source": [
    "Considere as células a seguir:"
   ]
  },
  {
   "cell_type": "code",
   "execution_count": null,
   "id": "34e392ed",
   "metadata": {},
   "outputs": [],
   "source": [
    "# String 1\n",
    "'Professor'\n",
    "\n",
    "# String 2\n",
    "'ab_012'"
   ]
  },
  {
   "cell_type": "markdown",
   "id": "15039a7f",
   "metadata": {},
   "source": [
    "Ao executar esta última célula em um ambiente interativo como o Jupyter Notebook, somente o resultado da última expressão é exibido na tela. No caso mencionado, somente a string \"ab_012\" é exibida. Isso acontece porque o Jupyter Notebook mostra apenas o resultado da última expressão avaliada em cada célula. É importante notar que, se você deseja exibir todas as strings na tela, é necessário usar uma função de impressão (como print()) para cada uma delas."
   ]
  },
  {
   "cell_type": "code",
   "execution_count": null,
   "id": "59b33a9e",
   "metadata": {},
   "outputs": [],
   "source": [
    "# Impressão da string 1\n",
    "print('Professor')\n",
    "\n",
    "# Impressão da string 2\n",
    "print('ab_012')"
   ]
  },
  {
   "cell_type": "markdown",
   "id": "01285a62",
   "metadata": {},
   "source": [
    "#### *Exemplo 2: Armazenando strings*"
   ]
  },
  {
   "cell_type": "markdown",
   "id": "366bcaeb",
   "metadata": {},
   "source": [
    "Embora já tenhamos mencionado, vale reforçar que o armazenamento de variáveis é uma parte fundamental da programação, pois permite que você aloque e acesse dados na memória do computador. Em Python, você pode armazenar dados em variáveis usando a sintaxe básica de atribuição como vista a seguir:"
   ]
  },
  {
   "cell_type": "code",
   "execution_count": null,
   "id": "38b77ec0",
   "metadata": {
    "ExecuteTime": {
     "end_time": "2023-06-06T11:46:14.216491Z",
     "start_time": "2023-06-06T11:46:14.211505Z"
    }
   },
   "outputs": [],
   "source": [
    "# Armazenando variáveis\n",
    "profissao = 'Professor'\n",
    "nome = 'Allan de Sousa Soares'\n",
    "idade = '39'\n",
    "idade1 = 39  # a variável idade1 não é uma string"
   ]
  },
  {
   "cell_type": "code",
   "execution_count": null,
   "id": "168f1cda",
   "metadata": {},
   "outputs": [],
   "source": [
    "# Imprimindo as variáveis\n",
    "print(profissao)\n",
    "print(nome)\n",
    "print(idade)\n",
    "print(idade1)"
   ]
  },
  {
   "cell_type": "markdown",
   "id": "9d89858d",
   "metadata": {},
   "source": [
    "Saber o tipo de uma variável é uma habilidade fundamental na programação, e isso se aplica a várias linguagens de programação, incluindo Python. O tipo de uma variável determina o conjunto de operações que podem ser realizadas nela e como essas operações são executadas. Uma das formas de sabermos o tipo de uma variável é usarmos a função <u>type</u>."
   ]
  },
  {
   "cell_type": "code",
   "execution_count": null,
   "id": "d3aa94c9",
   "metadata": {
    "ExecuteTime": {
     "end_time": "2023-06-06T11:46:17.408525Z",
     "start_time": "2023-06-06T11:46:17.403556Z"
    }
   },
   "outputs": [],
   "source": [
    "# Consultando tipo de uma variável\n",
    "print(type(profissao))\n",
    "print(type(nome))\n",
    "print(type(idade))\n",
    "print(type(idade1))"
   ]
  },
  {
   "cell_type": "markdown",
   "id": "9d4bac5b",
   "metadata": {},
   "source": [
    "É importante ressaltar que, em Python, as variáveis são tipadas dinamicamente, o que significa que uma variável pode conter diferentes tipos de dados ao longo da execução do programa. Isso oferece flexibilidade, mas também exige atenção ao manipular variáveis para evitar comportamentos inesperados.\n",
    "<br><br>\n",
    "**Tipagem Estática**: Liguagem C<br>\n",
    "int idade = 30;<br><br>\n",
    "**Tipagem Dinâmica**: Liguagem Python<br>\n",
    "idade = 30  # Agora é um inteiro<br>\n",
    "idade = \"trinta\"  # Agora virou uma string"
   ]
  },
  {
   "cell_type": "markdown",
   "id": "535abab6",
   "metadata": {},
   "source": [
    "## <div style=\"margin-top: -20px;\">\n",
    "<hr style=\"border: 2px solid blue;\">\n",
    "\n",
    "<font color='blue'><span style=\"font-size: 22px;\"><strong>6.2 Concatenação de Strings</strong></span></font>\n",
    "\n",
    "<hr style=\"border: 2px solid blue;\">\n",
    "</div>"
   ]
  },
  {
   "cell_type": "markdown",
   "id": "707d6ad0",
   "metadata": {},
   "source": [
    "A concatenação é o processo de combinar duas ou mais strings (ou outros objetos) em uma única string. Em muitas linguagens de programação, incluindo Python, a concatenação de strings é realizada usando o operador de adição (+) ou o recurso de formatação de strings."
   ]
  },
  {
   "cell_type": "markdown",
   "id": "dacb831d",
   "metadata": {},
   "source": [
    "#### *Exemplo: Concatenando strings*"
   ]
  },
  {
   "cell_type": "code",
   "execution_count": null,
   "id": "f72da5c8",
   "metadata": {},
   "outputs": [],
   "source": [
    "# Variáveis\n",
    "profissao = 'Professor'\n",
    "nome = 'Allan de Sousa Soares'\n",
    "idade = '39'\n",
    "idade1 = 39"
   ]
  },
  {
   "cell_type": "code",
   "execution_count": null,
   "id": "cf5d4e05",
   "metadata": {},
   "outputs": [],
   "source": [
    "# Concatenação 1\n",
    "print(nome + profissao + idade)"
   ]
  },
  {
   "cell_type": "code",
   "execution_count": null,
   "id": "d5ad6525",
   "metadata": {},
   "outputs": [],
   "source": [
    "# Concatenação 2\n",
    "print(nome +', '+ profissao + ', ' + idade)"
   ]
  },
  {
   "cell_type": "code",
   "execution_count": null,
   "id": "70fc07b3",
   "metadata": {},
   "outputs": [],
   "source": [
    "# Concatenação 3 - Saltando uma linha\n",
    "print(nome+'\\n'+profissao)"
   ]
  },
  {
   "cell_type": "code",
   "execution_count": null,
   "id": "1f4f4327",
   "metadata": {},
   "outputs": [],
   "source": [
    "# Repetindo uma string com '*'\n",
    "print(profissao*2)\n",
    "print(idade*3)"
   ]
  },
  {
   "cell_type": "markdown",
   "id": "99cbd5bc",
   "metadata": {},
   "source": [
    "#####  <div style=\"width: 50%; height: 4px; background-color: red;\"> <br> <font color='red'>Cuidado!!!</font> </div>  \n",
    "<br>"
   ]
  },
  {
   "cell_type": "markdown",
   "id": "498eed5b",
   "metadata": {},
   "source": [
    "Ignorar o tipo de uma variável pode te acarretar saídas inesperadas."
   ]
  },
  {
   "cell_type": "code",
   "execution_count": null,
   "id": "013b7a5c",
   "metadata": {},
   "outputs": [],
   "source": [
    "print(idade1*3)"
   ]
  },
  {
   "cell_type": "code",
   "execution_count": null,
   "id": "14d241a5",
   "metadata": {},
   "outputs": [],
   "source": [
    "print(idade + idade1)"
   ]
  },
  {
   "cell_type": "markdown",
   "id": "6c638164",
   "metadata": {},
   "source": [
    "<div style=\"width: 50%; height: 4px; background-color: red;\"></div> "
   ]
  },
  {
   "cell_type": "markdown",
   "id": "326b5140",
   "metadata": {},
   "source": [
    "## <div style=\"margin-top: -20px;\">\n",
    "<hr style=\"border: 2px solid blue;\">\n",
    "\n",
    "<font color='blue'><span style=\"font-size: 22px;\"><strong>6.3 Indexação de Uma String</strong></span></font>\n",
    "\n",
    "<hr style=\"border: 2px solid blue;\">\n",
    "</div>"
   ]
  },
  {
   "cell_type": "markdown",
   "id": "5a8dd33d",
   "metadata": {},
   "source": [
    "A <u>indexação</u> é um recurso fundamental de muitas linguagens de programação que permite acessar elementos individuais em uma sequência, como uma string. Cada elemento da sequência é identificado por um índice numérico que indica a sua posição na sequência. É importante lembrar que a indexação começa em 0 na maioria das linguagens de programação (inclusive em Python), o que significa que o primeiro elemento em uma string terá um índice de 0, o segundo terá um índice de 1 e assim por diante."
   ]
  },
  {
   "cell_type": "markdown",
   "id": "d123d78e",
   "metadata": {},
   "source": [
    "#### *Exemplo 1: Utilizando a indexação*"
   ]
  },
  {
   "cell_type": "code",
   "execution_count": null,
   "id": "8a8aa932",
   "metadata": {},
   "outputs": [],
   "source": [
    "# Variável de exemplificação\n",
    "nome = 'Allan de Sousa Soares'\n",
    "\n",
    "# Posições A-0,l-1,l-2,a-3,n-4,_-5,d-6,e-7,_-8,S-9,o-10,u-11,s-12,a-13,_-14,S-15,o-16,a-17,r-18,e-19,s-20 "
   ]
  },
  {
   "cell_type": "code",
   "execution_count": null,
   "id": "92bb8f5c",
   "metadata": {
    "scrolled": true
   },
   "outputs": [],
   "source": [
    "# Imprimindo o n-ésimo caractere de uma string\n",
    "print(nome[2])"
   ]
  },
  {
   "cell_type": "code",
   "execution_count": null,
   "id": "7ad9cbaf",
   "metadata": {
    "scrolled": true
   },
   "outputs": [],
   "source": [
    "# Imprimindo a partir do n-ésimo caractere de uma string\n",
    "print(nome[3:])"
   ]
  },
  {
   "cell_type": "code",
   "execution_count": null,
   "id": "040a0ac1",
   "metadata": {},
   "outputs": [],
   "source": [
    "# Imprimindo os n primeiros caracteres de uma string - a indexação começou de 1\n",
    "print(nome[:7])"
   ]
  },
  {
   "cell_type": "code",
   "execution_count": null,
   "id": "bb77bc8a",
   "metadata": {},
   "outputs": [],
   "source": [
    "# Imprimindo, em ordem reversa, o n-ésimo caractere de uma string\n",
    "# a indexação negativa começa de 1, contudo, usa-se o sinal '-'' para se ter a ordem reversa\n",
    "print(nome[-5])"
   ]
  },
  {
   "cell_type": "code",
   "execution_count": null,
   "id": "7e2afe62",
   "metadata": {},
   "outputs": [],
   "source": [
    "# Imprimindo os n últimos caracteres de uma string\n",
    "print(nome[-5:])"
   ]
  },
  {
   "cell_type": "code",
   "execution_count": null,
   "id": "fb90b713",
   "metadata": {},
   "outputs": [],
   "source": [
    "# Imprimindo todos caracteres de uma string exceto os n últimos\n",
    "print(nome[:-6])"
   ]
  },
  {
   "cell_type": "code",
   "execution_count": null,
   "id": "2a5828e2",
   "metadata": {},
   "outputs": [],
   "source": [
    "# Imprimindo do n-ésimo ao (m-1)-ésimo caractere de uma string\n",
    "print(nome[2:5])"
   ]
  },
  {
   "cell_type": "code",
   "execution_count": null,
   "id": "9380ebab",
   "metadata": {},
   "outputs": [],
   "source": [
    "# Imprimindo, em ordem reversa, do n-ésimo ao (m+1)-ésimo caractere de uma string\n",
    "print(nome[-5:-2])"
   ]
  },
  {
   "cell_type": "markdown",
   "id": "0d70b18a",
   "metadata": {},
   "source": [
    "#### *Exemplo 2: Imprimindo caracteres de indexação par*"
   ]
  },
  {
   "cell_type": "code",
   "execution_count": null,
   "id": "d72838c2",
   "metadata": {},
   "outputs": [],
   "source": [
    "# Variável de exemplificação\n",
    "nome = 'Allan de Sousa Soares'\n",
    "\n",
    "i = 0\n",
    "for letra in nome:\n",
    "    if (i % 2 == 0) & (i<=len(nome)) :\n",
    "        print(nome[i])\n",
    "    i = i+1    "
   ]
  },
  {
   "cell_type": "markdown",
   "id": "4a66e8fb",
   "metadata": {},
   "source": [
    "## <div style=\"margin-top: -20px;\">\n",
    "<hr style=\"border: 2px solid blue;\">\n",
    "\n",
    "<font color='blue'><span style=\"font-size: 22px;\"><strong>6.4 Funções Nativas (Built-in) e Métodos Com Strings</strong></span></font>\n",
    "\n",
    "<hr style=\"border: 2px solid blue;\">\n",
    "</div>"
   ]
  },
  {
   "cell_type": "markdown",
   "id": "a7235a21",
   "metadata": {},
   "source": [
    "As funções <u>nativas</u> (ou <u>built-in</u>) em uma linguagem de programação são funções que já fazem parte do núcleo da linguagem e estão disponíveis para uso imediato, sem a necessidade de instalar bibliotecas ou módulos adicionais. <u>Métodos</u> são como funções, porém específicas para o objeto em questão. Vejamos agora algumas das funções e métodos mais utilizados relacionadas à strings."
   ]
  },
  {
   "cell_type": "markdown",
   "id": "579aed8c",
   "metadata": {},
   "source": [
    "### <div style=\"margin-top: -20px;\">\n",
    "<hr style=\"border: 2px solid blue;\">\n",
    "\n",
    "<font color='blue'><span style=\"font-size: 18px;\"><strong>6.4.1 Funções Nativas (Built-in) e Métodos Com Strings - Parte 1</strong></span></font>\n",
    "\n",
    "<hr style=\"border: 2px solid blue;\">\n",
    "</div>"
   ]
  },
  {
   "cell_type": "markdown",
   "id": "fcc8df61",
   "metadata": {},
   "source": [
    "#### capitalize()"
   ]
  },
  {
   "cell_type": "markdown",
   "id": "3a5edb4c",
   "metadata": {},
   "source": [
    "Esta função retorna uma cópia da string com o primeiro caractere em maiúscula e os demais em minúscula."
   ]
  },
  {
   "cell_type": "code",
   "execution_count": 1,
   "id": "59d63d47",
   "metadata": {
    "ExecuteTime": {
     "end_time": "2023-06-06T13:21:54.760089Z",
     "start_time": "2023-06-06T13:21:54.754081Z"
    }
   },
   "outputs": [
    {
     "name": "stdout",
     "output_type": "stream",
     "text": [
      "allan\n",
      "Allan\n"
     ]
    }
   ],
   "source": [
    "string = 'allan'\n",
    "string_capitalize = string.capitalize()\n",
    "\n",
    "print(string)\n",
    "print(string_capitalize)"
   ]
  },
  {
   "cell_type": "markdown",
   "id": "b99fe375",
   "metadata": {},
   "source": [
    "Para encurtar os códigos a seguir, apenas imprimiremos o valor/variável modificada associada à função em questão. Contudo, vale ressaltar que armazenar esta saída pode ser necessário caso estejamos interessados em uma utilização futura da mesma. Por exemplo, o código:\n",
    "<br><br>\n",
    "<font color='red'>\n",
    "string = 'allan'<br>\n",
    "string_capitalize = string.capitalize()<br>\n",
    "print(string.capitalize())\n",
    "</font>\n",
    "\n",
    "<font color='black'>\n",
    "<br>\n",
    "será exposto somente como:\n",
    "<br><br>  \n",
    "</font>\n",
    "\n",
    "<font color='red'>\n",
    "string = 'allan'<br>\n",
    "print(string.capitalize())<br>\n",
    "</font>\n",
    "\n",
    "Além disso, utilizaremos nomes iguais para a variável (geralmente `string = '...'`). Contudo, recomendamos usar nomes de variáveis distintos para cada célula em seus códigos. Dessa forma, evitamos a sobreposição de variáveis ao realizar mudanças sucessivas no código.\n"
   ]
  },
  {
   "cell_type": "code",
   "execution_count": null,
   "id": "c53ec837",
   "metadata": {},
   "outputs": [],
   "source": [
    "string = 'allan'\n",
    "print(string.capitalize())"
   ]
  },
  {
   "cell_type": "markdown",
   "id": "fa7b0776",
   "metadata": {},
   "source": [
    "#### casefold()"
   ]
  },
  {
   "cell_type": "markdown",
   "id": "46b4f33a",
   "metadata": {},
   "source": [
    "Retorna uma cópia da string em minúsculas, removendo as diferenças de caixa entre caracteres."
   ]
  },
  {
   "cell_type": "code",
   "execution_count": null,
   "id": "fdcc4ba9",
   "metadata": {
    "ExecuteTime": {
     "end_time": "2023-06-06T13:52:31.680973Z",
     "start_time": "2023-06-06T13:52:31.675986Z"
    }
   },
   "outputs": [],
   "source": [
    "string = 'Hello World'\n",
    "print(string.casefold())"
   ]
  },
  {
   "cell_type": "markdown",
   "id": "a22de30c",
   "metadata": {},
   "source": [
    "#### center()"
   ]
  },
  {
   "cell_type": "markdown",
   "id": "672b8655",
   "metadata": {},
   "source": [
    "Retorna uma string centralizada dentro de um determinado espaço, preenchendo os espaços restantes com caracteres específicos."
   ]
  },
  {
   "cell_type": "code",
   "execution_count": null,
   "id": "11fad4ce",
   "metadata": {
    "ExecuteTime": {
     "end_time": "2023-06-06T13:43:50.425462Z",
     "start_time": "2023-06-06T13:43:50.419482Z"
    }
   },
   "outputs": [],
   "source": [
    "string = 'Python'\n",
    "\n",
    "print(string.center(10, '-'))"
   ]
  },
  {
   "cell_type": "markdown",
   "id": "370b3713",
   "metadata": {},
   "source": [
    "#### count()"
   ]
  },
  {
   "cell_type": "markdown",
   "id": "4d2f29da",
   "metadata": {},
   "source": [
    "Conta a ocorrência de determinada substring em uma string. Diferencia letras maiúsculas de minúsculas."
   ]
  },
  {
   "cell_type": "code",
   "execution_count": 2,
   "id": "0a02ae63",
   "metadata": {
    "ExecuteTime": {
     "end_time": "2023-06-08T21:56:32.056918Z",
     "start_time": "2023-06-08T21:56:32.050929Z"
    }
   },
   "outputs": [
    {
     "name": "stdout",
     "output_type": "stream",
     "text": [
      "2\n"
     ]
    }
   ],
   "source": [
    "string = 'Araraquara'\n",
    "\n",
    "print(string.count('ar'))"
   ]
  },
  {
   "cell_type": "markdown",
   "id": "b9934e73",
   "metadata": {},
   "source": [
    "#### encode()"
   ]
  },
  {
   "cell_type": "markdown",
   "id": "96b2d84f",
   "metadata": {
    "ExecuteTime": {
     "end_time": "2023-06-08T21:57:17.295455Z",
     "start_time": "2023-06-08T21:57:17.289471Z"
    }
   },
   "source": [
    "Retorna uma versão codificada da string usando um determinado esquema de codificação."
   ]
  },
  {
   "cell_type": "code",
   "execution_count": null,
   "id": "f947d569",
   "metadata": {
    "ExecuteTime": {
     "end_time": "2023-06-06T13:44:14.528749Z",
     "start_time": "2023-06-06T13:44:14.523760Z"
    }
   },
   "outputs": [],
   "source": [
    "string = 'Olá'\n",
    "\n",
    "print(string.encode(\"utf-8\"))"
   ]
  },
  {
   "cell_type": "markdown",
   "id": "b7d14400",
   "metadata": {},
   "source": [
    "#### endswith()"
   ]
  },
  {
   "cell_type": "markdown",
   "id": "665bdef3",
   "metadata": {},
   "source": [
    "Verifica se uma string termina com determinado sufixo."
   ]
  },
  {
   "cell_type": "code",
   "execution_count": null,
   "id": "4d13038e",
   "metadata": {
    "ExecuteTime": {
     "end_time": "2023-06-06T13:44:23.751863Z",
     "start_time": "2023-06-06T13:44:23.747854Z"
    }
   },
   "outputs": [],
   "source": [
    "string = 'Allan de Sousa Soares'\n",
    "\n",
    "print(string.endswith('a'))\n",
    "print(string.endswith('es'))"
   ]
  },
  {
   "cell_type": "markdown",
   "id": "d75f5114",
   "metadata": {},
   "source": [
    "#### expandtabs()"
   ]
  },
  {
   "cell_type": "markdown",
   "id": "1d275ece",
   "metadata": {},
   "source": [
    "Retorna uma cópia da string onde os caracteres de tabulação são substituídos por espaços, de acordo com um tamanho de tabulação específico."
   ]
  },
  {
   "cell_type": "code",
   "execution_count": null,
   "id": "d5b69c01",
   "metadata": {
    "ExecuteTime": {
     "end_time": "2023-06-06T13:44:33.472745Z",
     "start_time": "2023-06-06T13:44:33.467739Z"
    }
   },
   "outputs": [],
   "source": [
    "string1 = 'Hello\\tWorld'\n",
    "string2 = 'Hello\\tWorld'\n",
    "\n",
    "print(string1)\n",
    "print(string2.expandtabs(1))"
   ]
  },
  {
   "cell_type": "code",
   "execution_count": null,
   "id": "78dab04d",
   "metadata": {},
   "outputs": [],
   "source": [
    "string1 = 'Hello\\tWorld'\n",
    "string2 = 'Hello\\tWorld'\n",
    "\n",
    "print(string1)\n",
    "print(string2.expandtabs(4))"
   ]
  },
  {
   "cell_type": "markdown",
   "id": "a4a3cbbb",
   "metadata": {},
   "source": [
    "#### find()"
   ]
  },
  {
   "cell_type": "markdown",
   "id": "e0d32dbe",
   "metadata": {},
   "source": [
    "Procura pela primeira ocorrência de determinada substring em uma string e retorna o índice na qual ela foi encontrada. Retorna -1 caso não seja verificada a ocorrência da substring."
   ]
  },
  {
   "cell_type": "code",
   "execution_count": null,
   "id": "780817aa",
   "metadata": {
    "ExecuteTime": {
     "end_time": "2023-06-06T13:44:37.961016Z",
     "start_time": "2023-06-06T13:44:37.955071Z"
    }
   },
   "outputs": [],
   "source": [
    "string = 'Araraquara'\n",
    "\n",
    "print(string.find('ar'))\n",
    "print(string.find('R'))"
   ]
  },
  {
   "cell_type": "markdown",
   "id": "642864d1",
   "metadata": {},
   "source": [
    "#### format()"
   ]
  },
  {
   "cell_type": "markdown",
   "id": "bce79352",
   "metadata": {},
   "source": [
    "Formata uma string substituindo marcadores de posição por valores específicos."
   ]
  },
  {
   "cell_type": "code",
   "execution_count": null,
   "id": "590309f5",
   "metadata": {
    "ExecuteTime": {
     "end_time": "2023-06-06T13:53:03.337297Z",
     "start_time": "2023-06-06T13:53:03.332309Z"
    }
   },
   "outputs": [],
   "source": [
    "nome = 'Allan'\n",
    "idade = 39\n",
    "\n",
    "formatted_string = \"Meu nome é {} e eu tenho {} anos de idade.\".format(nome, idade)\n",
    "print(formatted_string)"
   ]
  },
  {
   "cell_type": "markdown",
   "id": "e6fb9654",
   "metadata": {},
   "source": [
    "#### format_map()"
   ]
  },
  {
   "cell_type": "markdown",
   "id": "31116865",
   "metadata": {},
   "source": [
    "Formata uma string substituindo marcadores de posição por valores específicos usando um mapeamento fornecido."
   ]
  },
  {
   "cell_type": "code",
   "execution_count": null,
   "id": "a67d8c95",
   "metadata": {
    "ExecuteTime": {
     "end_time": "2023-06-06T13:53:14.264336Z",
     "start_time": "2023-06-06T13:53:14.259325Z"
    }
   },
   "outputs": [],
   "source": [
    "participante = {'name': 'Allan', 'age': 39} # Estrutura de dicionário - veremos logo mais\n",
    "\n",
    "format_string = 'Meu nome é {name}  e eu tenho {age} anos de idade.'.format_map(participante)\n",
    "print(format_string)"
   ]
  },
  {
   "cell_type": "markdown",
   "id": "e36358e2",
   "metadata": {},
   "source": [
    "###\n",
    "<div style=\"margin-top: -20px;\">\n",
    "<hr style=\"border: 2px solid blue;\">\n",
    "\n",
    "<font color='blue'><span style=\"font-size: 18px;\"><strong>6.4.2 Funções Nativas (Built-in) e Métodos Com Strings - Parte 2</strong></span></font>\n",
    "\n",
    "<hr style=\"border: 2px solid blue;\">\n",
    "</div>"
   ]
  },
  {
   "cell_type": "markdown",
   "id": "1624fc7c",
   "metadata": {},
   "source": [
    "#### index()"
   ]
  },
  {
   "cell_type": "markdown",
   "id": "f6773c52",
   "metadata": {},
   "source": [
    "Retorna o índice da primeira ocorrência de uma determinada substring em uma string, ou gera uma exceção ValueError se a substring não for encontrada."
   ]
  },
  {
   "cell_type": "code",
   "execution_count": null,
   "id": "dd57fb76",
   "metadata": {
    "ExecuteTime": {
     "end_time": "2023-06-06T13:46:12.385070Z",
     "start_time": "2023-06-06T13:46:12.379086Z"
    }
   },
   "outputs": [],
   "source": [
    "string = 'Hello, World!'\n",
    "\n",
    "print(string.index(\"World\"))"
   ]
  },
  {
   "cell_type": "code",
   "execution_count": null,
   "id": "8432789c",
   "metadata": {
    "ExecuteTime": {
     "end_time": "2023-06-06T13:46:13.864010Z",
     "start_time": "2023-06-06T13:46:13.843065Z"
    }
   },
   "outputs": [],
   "source": [
    "print(string.index(\"world\"))"
   ]
  },
  {
   "cell_type": "markdown",
   "id": "87985fc3",
   "metadata": {},
   "source": [
    "#### isalnum()"
   ]
  },
  {
   "cell_type": "markdown",
   "id": "576f6e95",
   "metadata": {},
   "source": [
    "Verifica a existência de somente caracteres alfanumericos em uma string.Retorna True caso encontre somente letras e números e  False caso encontre espaços, símbolos etc."
   ]
  },
  {
   "cell_type": "code",
   "execution_count": null,
   "id": "fc7963df",
   "metadata": {
    "ExecuteTime": {
     "end_time": "2023-06-06T13:46:17.634259Z",
     "start_time": "2023-06-06T13:46:17.627254Z"
    },
    "scrolled": true
   },
   "outputs": [],
   "source": [
    "string1 = 'Allan de Sousa Soares'\n",
    "string2 = 'Allan123'\n",
    "string3 = 'allan 123'\n",
    "string4 = 'ALLAN*'\n",
    "\n",
    "print(string1.isalnum())\n",
    "print(string2.isalnum())\n",
    "print(string3.isalnum())\n",
    "print(string4.isalnum())"
   ]
  },
  {
   "cell_type": "markdown",
   "id": "b9ea4e46",
   "metadata": {},
   "source": [
    "#### isalpha()"
   ]
  },
  {
   "cell_type": "markdown",
   "id": "52eae46a",
   "metadata": {},
   "source": [
    "Verifica se uma string contém apenas letras (sem espaços ou outros caracteres especiais)"
   ]
  },
  {
   "cell_type": "code",
   "execution_count": null,
   "id": "10a4fb5b",
   "metadata": {
    "ExecuteTime": {
     "end_time": "2023-06-06T13:46:21.040107Z",
     "start_time": "2023-06-06T13:46:21.036095Z"
    }
   },
   "outputs": [],
   "source": [
    "string1 = 'Allan de Sousa Soares'\n",
    "string2 = 'Allan'\n",
    "string3 = 'Allan1'\n",
    "\n",
    "print(string1.isalpha())\n",
    "print(string2.isalpha())\n",
    "print(string3.isalpha())"
   ]
  },
  {
   "cell_type": "markdown",
   "id": "4f73e150",
   "metadata": {},
   "source": [
    "#### isascii()"
   ]
  },
  {
   "cell_type": "markdown",
   "id": "397a905f",
   "metadata": {},
   "source": [
    "Verifica se todos os caracteres da string são ASCII e retorna True ou False."
   ]
  },
  {
   "cell_type": "code",
   "execution_count": null,
   "id": "73918335",
   "metadata": {
    "ExecuteTime": {
     "end_time": "2023-06-06T13:46:25.393000Z",
     "start_time": "2023-06-06T13:46:25.387016Z"
    }
   },
   "outputs": [],
   "source": [
    "string1 = 'Hello'\n",
    "string2 = 'Olá'\n",
    "\n",
    "print(string1.isascii())\n",
    "print(string2.isascii())"
   ]
  },
  {
   "cell_type": "markdown",
   "id": "9102dbd6",
   "metadata": {},
   "source": [
    "#### isdecimal()"
   ]
  },
  {
   "cell_type": "markdown",
   "id": "3e5eef6a",
   "metadata": {},
   "source": [
    "Verifica se uma string contém apenas dígitos (números) sem incluir outros digitos especiais"
   ]
  },
  {
   "cell_type": "code",
   "execution_count": null,
   "id": "488d9c4a",
   "metadata": {
    "ExecuteTime": {
     "end_time": "2023-06-06T13:46:27.346430Z",
     "start_time": "2023-06-06T13:46:27.339453Z"
    }
   },
   "outputs": [],
   "source": [
    "string1 = '1234'\n",
    "string2 = '12.34'\n",
    "string3 = '1²34'\n",
    "\n",
    "print(string1.isdecimal())\n",
    "print(string2.isdecimal())\n",
    "print(string3.isdecimal())"
   ]
  },
  {
   "cell_type": "markdown",
   "id": "fcde932b",
   "metadata": {},
   "source": [
    "#### isdigit()"
   ]
  },
  {
   "cell_type": "markdown",
   "id": "cb0cd69d",
   "metadata": {
    "ExecuteTime": {
     "end_time": "2023-06-08T22:01:55.572857Z",
     "start_time": "2023-06-08T22:01:55.563895Z"
    }
   },
   "source": [
    "Verifica se uma string contém apenas dígitos (números) incluindo sobrescritos."
   ]
  },
  {
   "cell_type": "code",
   "execution_count": null,
   "id": "e7c9eea7",
   "metadata": {
    "ExecuteTime": {
     "end_time": "2023-06-06T13:46:29.248069Z",
     "start_time": "2023-06-06T13:46:29.243073Z"
    }
   },
   "outputs": [],
   "source": [
    "string1 = '1234'\n",
    "string2 = '12.34'\n",
    "string3 = '1²34'\n",
    "\n",
    "print(string1.isdigit())\n",
    "print(string2.isdigit())\n",
    "print(string3.isdigit())"
   ]
  },
  {
   "cell_type": "markdown",
   "id": "1e6cb2fc",
   "metadata": {},
   "source": [
    "#### isidentifier()"
   ]
  },
  {
   "cell_type": "markdown",
   "id": "af2e1f9d",
   "metadata": {},
   "source": [
    "Verifica se a string é um identificador válido em Python (por exemplo, um nome de variável válido) e retorna True ou False."
   ]
  },
  {
   "cell_type": "code",
   "execution_count": null,
   "id": "1c510ca1",
   "metadata": {
    "ExecuteTime": {
     "end_time": "2023-06-06T13:48:18.033476Z",
     "start_time": "2023-06-06T13:48:18.027508Z"
    }
   },
   "outputs": [],
   "source": [
    "string1 = 'my_variable'\n",
    "string2 = '123variable'\n",
    "\n",
    "print(string1.isidentifier())\n",
    "print(string2.isidentifier())"
   ]
  },
  {
   "cell_type": "markdown",
   "id": "355232cc",
   "metadata": {},
   "source": [
    "#### islower()"
   ]
  },
  {
   "cell_type": "markdown",
   "id": "b4654a8e",
   "metadata": {},
   "source": [
    "Verifica se todos os caracteres alfabéticos (letras) na string são minúsculos. Se a string contiver pelo menos um caractere alfabético e todos os caracteres alfabéticos forem minúsculos, o método retornará True. Caso contrário, retornará False. Note que caracteres que não são alfabéticos (como números, espaços, pontuação, etc.) são basicamente ignorados na verificação."
   ]
  },
  {
   "cell_type": "code",
   "execution_count": null,
   "id": "7ca533c9",
   "metadata": {
    "ExecuteTime": {
     "end_time": "2023-06-06T13:48:24.418961Z",
     "start_time": "2023-06-06T13:48:24.411977Z"
    }
   },
   "outputs": [],
   "source": [
    "string1 = 'Allan de Sousa Soares'\n",
    "string2 = 'Allan123'\n",
    "string3 = 'allan 123'\n",
    "string4 = 'allan.123'\n",
    "string5 = 'ALLAN*'\n",
    "\n",
    "print(string1.islower())\n",
    "print(string2.islower())\n",
    "print(string3.islower())\n",
    "print(string4.islower())\n",
    "print(string5.islower())"
   ]
  },
  {
   "cell_type": "markdown",
   "id": "1894eb37",
   "metadata": {
    "ExecuteTime": {
     "end_time": "2023-06-06T12:32:21.425207Z",
     "start_time": "2023-06-06T12:32:21.419222Z"
    }
   },
   "source": [
    "#### isnumeric()"
   ]
  },
  {
   "cell_type": "markdown",
   "id": "94f98c46",
   "metadata": {},
   "source": [
    "Verifica se todos os caracteres da string são numéricos e retorna True ou False."
   ]
  },
  {
   "cell_type": "code",
   "execution_count": null,
   "id": "1d9fb8b0",
   "metadata": {
    "ExecuteTime": {
     "end_time": "2023-06-06T13:48:43.553072Z",
     "start_time": "2023-06-06T13:48:43.548082Z"
    }
   },
   "outputs": [],
   "source": [
    "string1 = '1234'\n",
    "string2 = '12.34'\n",
    "string3 = '1²34'\n",
    "\n",
    "print(string1.isnumeric())\n",
    "print(string2.isnumeric())\n",
    "print(string3.isnumeric())"
   ]
  },
  {
   "cell_type": "markdown",
   "id": "395e3bf1",
   "metadata": {},
   "source": [
    "#### isprintable()"
   ]
  },
  {
   "cell_type": "markdown",
   "id": "7ab4e728",
   "metadata": {},
   "source": [
    "Verifica se todos os caracteres da string são imprimíveis (não incluindo caracteres de controle) e retorna True ou False."
   ]
  },
  {
   "cell_type": "code",
   "execution_count": null,
   "id": "3430877e",
   "metadata": {
    "ExecuteTime": {
     "end_time": "2023-06-06T13:49:04.953212Z",
     "start_time": "2023-06-06T13:49:04.948226Z"
    }
   },
   "outputs": [],
   "source": [
    "string1 = 'Hello, World!'\n",
    "string2 = 'Hello,\\nWorld!'  # A string contém um caractere de nova linha (\"\\n\")\n",
    "\n",
    "print(string1.isprintable())\n",
    "print(string2.isprintable())"
   ]
  },
  {
   "cell_type": "code",
   "execution_count": null,
   "id": "127f0625",
   "metadata": {
    "ExecuteTime": {
     "end_time": "2023-06-06T13:49:20.584155Z",
     "start_time": "2023-06-06T13:49:20.580149Z"
    }
   },
   "outputs": [],
   "source": [
    "print(string1)\n",
    "print(string2)"
   ]
  },
  {
   "cell_type": "markdown",
   "id": "9acea8b2",
   "metadata": {},
   "source": [
    "###\n",
    "<div style=\"margin-top: -20px;\">\n",
    "<hr style=\"border: 2px solid blue;\">\n",
    "\n",
    "<font color='blue'><span style=\"font-size: 18px;\"><strong>6.4.3 Funções Nativas (Built-in) e Métodos Com Strings - Parte 3</strong></span></font>\n",
    "\n",
    "<hr style=\"border: 2px solid blue;\">\n",
    "</div>"
   ]
  },
  {
   "cell_type": "markdown",
   "id": "12ba9f94",
   "metadata": {},
   "source": [
    "#### isspace()"
   ]
  },
  {
   "cell_type": "markdown",
   "id": "759bc30a",
   "metadata": {},
   "source": [
    "Verifica se todos os espaços da string estão em branco retronando True. Caso contrário retorna False."
   ]
  },
  {
   "cell_type": "code",
   "execution_count": null,
   "id": "ef4371fe",
   "metadata": {
    "ExecuteTime": {
     "end_time": "2023-06-06T12:46:39.355876Z",
     "start_time": "2023-06-06T12:46:39.349891Z"
    }
   },
   "outputs": [],
   "source": [
    "string1 = '    '\n",
    "string2 = 'Allan'\n",
    "string3 = 'Allan '\n",
    "\n",
    "\n",
    "print(string1.isspace())\n",
    "print(string2.isspace())\n",
    "print(string3.isspace())"
   ]
  },
  {
   "cell_type": "markdown",
   "id": "2a530df3",
   "metadata": {},
   "source": [
    "#### istitle(): "
   ]
  },
  {
   "cell_type": "markdown",
   "id": "34119dd4",
   "metadata": {},
   "source": [
    "Verifica se a string está em formato de título, com a primeira letra de cada palavra em maiúscula, e retorna True ou False."
   ]
  },
  {
   "cell_type": "code",
   "execution_count": null,
   "id": "ef34f3a5",
   "metadata": {
    "ExecuteTime": {
     "end_time": "2023-06-06T13:54:32.649373Z",
     "start_time": "2023-06-06T13:54:32.644386Z"
    }
   },
   "outputs": [],
   "source": [
    "string1 = 'This Is a Title'\n",
    "string2 = 'This Is A Title'\n",
    "string3 = 'This_Is_a_Title'\n",
    "\n",
    "print(string1.istitle())\n",
    "print(string2.istitle())\n",
    "print(string3.istitle())"
   ]
  },
  {
   "cell_type": "markdown",
   "id": "f6fd024e",
   "metadata": {},
   "source": [
    "#### isupper()"
   ]
  },
  {
   "cell_type": "markdown",
   "id": "0e9f54a7",
   "metadata": {},
   "source": [
    "Verifica a não ocorrência de letras minúsculas."
   ]
  },
  {
   "cell_type": "code",
   "execution_count": null,
   "id": "f0ce951f",
   "metadata": {
    "ExecuteTime": {
     "end_time": "2023-06-06T12:50:54.300477Z",
     "start_time": "2023-06-06T12:50:54.294493Z"
    }
   },
   "outputs": [],
   "source": [
    "string1 = 'Allan'\n",
    "string2 = 'ALLAN_12'\n",
    "string3 = 'ALLAN'\n",
    "\n",
    "print(string1.isupper())\n",
    "print(string2.isupper())\n",
    "print(string3.isupper())"
   ]
  },
  {
   "cell_type": "markdown",
   "id": "fb0c84e7",
   "metadata": {},
   "source": [
    "#### join()"
   ]
  },
  {
   "cell_type": "markdown",
   "id": "b8fd6433",
   "metadata": {},
   "source": [
    "Concatena uma lista de strings em uma única string, separando cada elemento da lista por um delimitador especificado."
   ]
  },
  {
   "cell_type": "code",
   "execution_count": null,
   "id": "359450bd",
   "metadata": {
    "ExecuteTime": {
     "end_time": "2023-06-06T13:50:55.271703Z",
     "start_time": "2023-06-06T13:50:55.267691Z"
    }
   },
   "outputs": [],
   "source": [
    "nome = 'Allan de Sousa Soares'\n",
    "profissao = 'Professor'\n",
    "idade = '39'\n",
    "\n",
    "lista = [nome,profissao,idade]\n",
    "print(lista)"
   ]
  },
  {
   "cell_type": "code",
   "execution_count": null,
   "id": "4950ae69",
   "metadata": {},
   "outputs": [],
   "source": [
    "delimitador = \",\"\n",
    "ficha = delimitador.join(lista)\n",
    "print(ficha)"
   ]
  },
  {
   "cell_type": "markdown",
   "id": "62d02503",
   "metadata": {},
   "source": [
    "#### len()"
   ]
  },
  {
   "cell_type": "markdown",
   "id": "087b0de7",
   "metadata": {},
   "source": [
    "Retorna o comprimento de uma string. Espaços em branco são contados."
   ]
  },
  {
   "cell_type": "code",
   "execution_count": 1,
   "id": "951f55fa",
   "metadata": {},
   "outputs": [
    {
     "name": "stdout",
     "output_type": "stream",
     "text": [
      "21\n",
      "9\n"
     ]
    }
   ],
   "source": [
    "nome = 'Allan de Sousa Soares'\n",
    "profissao = 'Professor'\n",
    "\n",
    "print(len(nome))\n",
    "print(len(profissao))"
   ]
  },
  {
   "cell_type": "markdown",
   "id": "6fedcff5",
   "metadata": {},
   "source": [
    "#### ljust()"
   ]
  },
  {
   "cell_type": "markdown",
   "id": "50dc1dfb",
   "metadata": {},
   "source": [
    "Alinha a string à esquerda em um campo de largura especificada, preenchendo os espaços restantes com caracteres específicos."
   ]
  },
  {
   "cell_type": "code",
   "execution_count": null,
   "id": "c45ef2a3",
   "metadata": {
    "ExecuteTime": {
     "end_time": "2023-06-06T13:55:00.816074Z",
     "start_time": "2023-06-06T13:55:00.811064Z"
    }
   },
   "outputs": [],
   "source": [
    "string = 'Hello'\n",
    "\n",
    "justified_string1 = string.ljust(3, '-')\n",
    "justified_string2 = string.ljust(6, '-')\n",
    "justified_string3 = string.ljust(10, '-')\n",
    "\n",
    "print(justified_string1)\n",
    "print(justified_string2)\n",
    "print(justified_string3)"
   ]
  },
  {
   "cell_type": "markdown",
   "id": "ce879958",
   "metadata": {},
   "source": [
    "#### lower()"
   ]
  },
  {
   "cell_type": "markdown",
   "id": "f818bdb4",
   "metadata": {},
   "source": [
    "Retorna uma string com todos os caracteres minúsculos(caixa baixa)."
   ]
  },
  {
   "cell_type": "code",
   "execution_count": null,
   "id": "5b7eccbc",
   "metadata": {},
   "outputs": [],
   "source": [
    "nome1 = 'Allan'\n",
    "nome2 = 'ALLAN'\n",
    "\n",
    "print(nome1.lower())\n",
    "print(nome2.lower())"
   ]
  },
  {
   "cell_type": "markdown",
   "id": "ad9e2c99",
   "metadata": {},
   "source": [
    "#####  <div style=\"width: 50%; height: 4px; background-color: green;\"> <br> <font color='green'>Dica</font> </div>  \n",
    "<br>"
   ]
  },
  {
   "cell_type": "markdown",
   "id": "6427b0aa",
   "metadata": {},
   "source": [
    "Ao lidar com conjuntos de dados, é comum encontrarmos informações desorganizadas ou inconsistentes. Por exemplo, a mesma palavra pode aparecer em diferentes formatos, dificultando a contagem precisa de suas ocorrências. Uma solução eficaz para este problema é utilizar a combinação dos métodos .count() e .lower(). O método .lower() padroniza todas as palavras para letras minúsculas, permitindo que o método .count() obtenha uma contagem precisa, independente da forma como as palavras foram originalmente apresentadas nos dados."
   ]
  },
  {
   "cell_type": "code",
   "execution_count": null,
   "id": "53916e56",
   "metadata": {
    "ExecuteTime": {
     "end_time": "2023-09-15T19:27:44.285977Z",
     "start_time": "2023-09-15T19:27:44.281998Z"
    }
   },
   "outputs": [],
   "source": [
    "string = 'Araraquara'\n",
    "print(string.count('ar'))"
   ]
  },
  {
   "cell_type": "code",
   "execution_count": null,
   "id": "69148924",
   "metadata": {
    "ExecuteTime": {
     "end_time": "2023-09-15T19:27:45.909584Z",
     "start_time": "2023-09-15T19:27:45.905210Z"
    }
   },
   "outputs": [],
   "source": [
    "print(string.lower().count('ar'))"
   ]
  },
  {
   "cell_type": "markdown",
   "id": "7d4b3ddb",
   "metadata": {},
   "source": [
    "<div style=\"width: 50%; height: 4px; background-color: green;\"></div> "
   ]
  },
  {
   "cell_type": "markdown",
   "id": "2ab1867f",
   "metadata": {},
   "source": [
    "#### lstrip()"
   ]
  },
  {
   "cell_type": "markdown",
   "id": "9fd9ca14",
   "metadata": {},
   "source": [
    "Remove espaços em branco e caracteres específicos à esquerda da string."
   ]
  },
  {
   "cell_type": "code",
   "execution_count": null,
   "id": "88bf6653",
   "metadata": {
    "ExecuteTime": {
     "end_time": "2023-06-06T13:55:17.737457Z",
     "start_time": "2023-06-06T13:55:17.732444Z"
    }
   },
   "outputs": [],
   "source": [
    "string = '    Hello'\n",
    "\n",
    "print(string)"
   ]
  },
  {
   "cell_type": "code",
   "execution_count": null,
   "id": "c5ba3cb3",
   "metadata": {},
   "outputs": [],
   "source": [
    "stripped_string = string.lstrip()\n",
    "print(stripped_string)"
   ]
  },
  {
   "cell_type": "markdown",
   "id": "0068e63e",
   "metadata": {},
   "source": [
    "#### maketrans()"
   ]
  },
  {
   "cell_type": "markdown",
   "id": "79f11d1b",
   "metadata": {},
   "source": [
    "Retorna uma tabela de tradução para uso com a função translate(). Essa função é geralmente usada em conjunto com translate()."
   ]
  },
  {
   "cell_type": "code",
   "execution_count": null,
   "id": "3e41ad86",
   "metadata": {
    "ExecuteTime": {
     "end_time": "2023-06-06T13:56:50.321421Z",
     "start_time": "2023-06-06T13:56:50.315436Z"
    }
   },
   "outputs": [],
   "source": [
    "string = 'Hello World'\n",
    "\n",
    "translation_table = str.maketrans('aeiou', '12345')\n",
    "print(string.translate(translation_table))"
   ]
  },
  {
   "cell_type": "markdown",
   "id": "428eafff",
   "metadata": {},
   "source": [
    "#### partition()"
   ]
  },
  {
   "cell_type": "markdown",
   "id": "6ed476aa",
   "metadata": {},
   "source": [
    "Divide a string em três partes usando uma determinada substring como separador. Retorna uma tupla contendo a parte antes do separador, o separador em si e a parte após o separador."
   ]
  },
  {
   "cell_type": "code",
   "execution_count": null,
   "id": "3903babb",
   "metadata": {
    "ExecuteTime": {
     "end_time": "2023-06-06T13:57:14.801388Z",
     "start_time": "2023-06-06T13:57:14.795404Z"
    }
   },
   "outputs": [],
   "source": [
    "string1 = 'HelloWorld!'\n",
    "string2 = 'Hello World!'\n",
    "string3 = 'Hello, World!'\n",
    "\n",
    "print(string1.partition(','))\n",
    "print(string2.partition(','))\n",
    "print(string3.partition(','))"
   ]
  },
  {
   "cell_type": "markdown",
   "id": "2a34a76f",
   "metadata": {},
   "source": [
    "###\n",
    "<div style=\"margin-top: -20px;\">\n",
    "<hr style=\"border: 2px solid blue;\">\n",
    "\n",
    "<font color='blue'><span style=\"font-size: 18px;\"><strong>6.4.4 Funções Nativas (Built-in) e Métodos Com Strings - Parte 4</strong></span></font>\n",
    "\n",
    "<hr style=\"border: 2px solid blue;\">\n",
    "</div>"
   ]
  },
  {
   "cell_type": "markdown",
   "id": "5824c7d8",
   "metadata": {},
   "source": [
    "#### removeprefix()"
   ]
  },
  {
   "cell_type": "markdown",
   "id": "0213bed1",
   "metadata": {
    "ExecuteTime": {
     "end_time": "2023-06-08T22:17:21.334940Z",
     "start_time": "2023-06-08T22:17:21.327958Z"
    }
   },
   "source": [
    "Remove um prefixo especificado da string, se estiver presente."
   ]
  },
  {
   "cell_type": "code",
   "execution_count": null,
   "id": "0c405aa7",
   "metadata": {
    "ExecuteTime": {
     "end_time": "2023-06-06T14:00:33.424534Z",
     "start_time": "2023-06-06T14:00:33.419560Z"
    }
   },
   "outputs": [],
   "source": [
    "string = 'Hello, World!'\n",
    "\n",
    "print(string.removeprefix('Hello, '))"
   ]
  },
  {
   "cell_type": "code",
   "execution_count": null,
   "id": "b6087f3e",
   "metadata": {},
   "outputs": [],
   "source": [
    "print(string.removeprefix('Hel'))"
   ]
  },
  {
   "cell_type": "code",
   "execution_count": null,
   "id": "e7327ccd",
   "metadata": {
    "ExecuteTime": {
     "end_time": "2023-06-06T14:00:47.169747Z",
     "start_time": "2023-06-06T14:00:47.163764Z"
    }
   },
   "outputs": [],
   "source": [
    "# Remove apenas o prefixo\n",
    "\n",
    "print(string.removeprefix('World!'))"
   ]
  },
  {
   "cell_type": "markdown",
   "id": "3c950adb",
   "metadata": {},
   "source": [
    "#### removesuffix()"
   ]
  },
  {
   "cell_type": "markdown",
   "id": "3283a16a",
   "metadata": {},
   "source": [
    "Remove um sufixo especificado da string, se estiver presente."
   ]
  },
  {
   "cell_type": "code",
   "execution_count": null,
   "id": "ce30b848",
   "metadata": {
    "ExecuteTime": {
     "end_time": "2023-06-06T14:02:11.121048Z",
     "start_time": "2023-06-06T14:02:11.116063Z"
    }
   },
   "outputs": [],
   "source": [
    "string = 'Hello, World!'\n",
    "\n",
    "print(string.removesuffix(', World!'))"
   ]
  },
  {
   "cell_type": "code",
   "execution_count": null,
   "id": "707ae34a",
   "metadata": {
    "ExecuteTime": {
     "end_time": "2023-06-06T14:02:21.704673Z",
     "start_time": "2023-06-06T14:02:21.699682Z"
    }
   },
   "outputs": [],
   "source": [
    "# Remove apenas o sufixo\n",
    "\n",
    "print(string.removesuffix('Hello'))"
   ]
  },
  {
   "cell_type": "code",
   "execution_count": null,
   "id": "a968a302",
   "metadata": {
    "ExecuteTime": {
     "end_time": "2023-06-06T14:02:38.385101Z",
     "start_time": "2023-06-06T14:02:38.380117Z"
    }
   },
   "outputs": [],
   "source": [
    "# Remove apenas o sufixo completo\n",
    "\n",
    "print(string.removesuffix('rld!'))"
   ]
  },
  {
   "cell_type": "markdown",
   "id": "64c4e415",
   "metadata": {},
   "source": [
    "#### replace()"
   ]
  },
  {
   "cell_type": "markdown",
   "id": "df9da2b8",
   "metadata": {},
   "source": [
    "Repassa todo termo específico em uma string para outro."
   ]
  },
  {
   "cell_type": "code",
   "execution_count": null,
   "id": "fd20f809",
   "metadata": {
    "ExecuteTime": {
     "end_time": "2023-06-06T14:03:41.544637Z",
     "start_time": "2023-06-06T14:03:41.539627Z"
    }
   },
   "outputs": [],
   "source": [
    "string = 'Hello, World!'\n",
    "\n",
    "print(string.replace('World', 'Python'))"
   ]
  },
  {
   "cell_type": "markdown",
   "id": "c856bd24",
   "metadata": {},
   "source": [
    "#### rfind()"
   ]
  },
  {
   "cell_type": "markdown",
   "id": "6b9530ba",
   "metadata": {},
   "source": [
    "Retorna o índice da última ocorrência de uma determinada substring em uma string, ou -1 se a substring não for encontrada."
   ]
  },
  {
   "cell_type": "code",
   "execution_count": null,
   "id": "1810f491",
   "metadata": {
    "ExecuteTime": {
     "end_time": "2023-06-06T14:04:12.961335Z",
     "start_time": "2023-06-06T14:04:12.956324Z"
    }
   },
   "outputs": [],
   "source": [
    "string = 'Hello, World!'\n",
    " \n",
    "print(string.rfind(\"o\"))"
   ]
  },
  {
   "cell_type": "code",
   "execution_count": null,
   "id": "fbedfd6d",
   "metadata": {
    "ExecuteTime": {
     "end_time": "2023-06-06T14:05:05.176330Z",
     "start_time": "2023-06-06T14:05:05.172334Z"
    }
   },
   "outputs": [],
   "source": [
    "print(string.rfind(\"h\"))"
   ]
  },
  {
   "cell_type": "markdown",
   "id": "3bd0e3d6",
   "metadata": {},
   "source": [
    "#### rindex()"
   ]
  },
  {
   "cell_type": "markdown",
   "id": "2c708c2f",
   "metadata": {},
   "source": [
    "Retorna o índice da última ocorrência de uma determinada substring em uma string, ou gera uma exceção ValueError se a substring não for encontrada."
   ]
  },
  {
   "cell_type": "code",
   "execution_count": null,
   "id": "d3362155",
   "metadata": {
    "ExecuteTime": {
     "end_time": "2023-06-06T14:04:34.225485Z",
     "start_time": "2023-06-06T14:04:34.220504Z"
    }
   },
   "outputs": [],
   "source": [
    "string = 'Hello, World!'\n",
    "\n",
    "print(string.rindex(\"o\"))"
   ]
  },
  {
   "cell_type": "code",
   "execution_count": null,
   "id": "05022f89",
   "metadata": {
    "ExecuteTime": {
     "end_time": "2023-06-06T14:05:24.361648Z",
     "start_time": "2023-06-06T14:05:24.340698Z"
    }
   },
   "outputs": [],
   "source": [
    "print(string.rindex(\"h\"))"
   ]
  },
  {
   "cell_type": "markdown",
   "id": "0275e40a",
   "metadata": {},
   "source": [
    "#### rjust()"
   ]
  },
  {
   "cell_type": "markdown",
   "id": "a51b946d",
   "metadata": {},
   "source": [
    "Alinha a string à direita em um campo de largura especificada, preenchendo os espaços restantes com caracteres específicos."
   ]
  },
  {
   "cell_type": "code",
   "execution_count": null,
   "id": "d61df6c7",
   "metadata": {
    "ExecuteTime": {
     "end_time": "2023-06-06T14:05:43.713109Z",
     "start_time": "2023-06-06T14:05:43.709121Z"
    }
   },
   "outputs": [],
   "source": [
    "string = \"Hello\"\n",
    "\n",
    "print(string.rjust(3, '-'))\n",
    "print(string.rjust(6, '-'))\n",
    "print(string.rjust(10, '-'))"
   ]
  },
  {
   "cell_type": "markdown",
   "id": "cc5e3f66",
   "metadata": {},
   "source": [
    "#### rpartition()"
   ]
  },
  {
   "cell_type": "markdown",
   "id": "50338488",
   "metadata": {},
   "source": [
    "Divide a string em três partes usando uma determinada substring como separador, começando pela direita. Retorna uma tupla contendo a parte antes do separador, o separador em si e a parte após o separador."
   ]
  },
  {
   "cell_type": "code",
   "execution_count": null,
   "id": "e5af6913",
   "metadata": {
    "ExecuteTime": {
     "end_time": "2023-06-06T14:06:58.513282Z",
     "start_time": "2023-06-06T14:06:58.509309Z"
    }
   },
   "outputs": [],
   "source": [
    "string = 'Hello/World!'\n",
    "\n",
    "print(string.rpartition('/'))"
   ]
  },
  {
   "cell_type": "markdown",
   "id": "7a6b1bcc",
   "metadata": {},
   "source": [
    "#### rsplit()"
   ]
  },
  {
   "cell_type": "markdown",
   "id": "712c667a",
   "metadata": {},
   "source": [
    "Divide a string em uma lista de substrings usando um separador especificado, começando pela direita."
   ]
  },
  {
   "cell_type": "code",
   "execution_count": null,
   "id": "1755f08e",
   "metadata": {
    "ExecuteTime": {
     "end_time": "2023-06-06T13:05:47.557234Z",
     "start_time": "2023-06-06T13:05:47.552223Z"
    }
   },
   "outputs": [],
   "source": [
    "string = 'Hello, World!'\n",
    "\n",
    "print(string.rsplit(\",\"))"
   ]
  },
  {
   "cell_type": "markdown",
   "id": "9f58889d",
   "metadata": {},
   "source": [
    "#### rstrip()"
   ]
  },
  {
   "cell_type": "markdown",
   "id": "9c55e0bc",
   "metadata": {},
   "source": [
    "Remove espaços em branco e caracteres específicos à direita da string."
   ]
  },
  {
   "cell_type": "code",
   "execution_count": null,
   "id": "edd30cee",
   "metadata": {
    "ExecuteTime": {
     "end_time": "2023-06-06T14:08:37.770208Z",
     "start_time": "2023-06-06T14:08:37.765222Z"
    }
   },
   "outputs": [],
   "source": [
    "string1 = 'Hello,   '\n",
    "string2 = 'World!'\n",
    "\n",
    "print(string1,string2)"
   ]
  },
  {
   "cell_type": "code",
   "execution_count": null,
   "id": "74516c6d",
   "metadata": {},
   "outputs": [],
   "source": [
    "print(string1.rstrip(),string2)"
   ]
  },
  {
   "cell_type": "markdown",
   "id": "c01170c0",
   "metadata": {},
   "source": [
    "#### split()"
   ]
  },
  {
   "cell_type": "markdown",
   "id": "525a3522",
   "metadata": {},
   "source": [
    "Divide uma string sempre que aparece um elemento específico."
   ]
  },
  {
   "cell_type": "code",
   "execution_count": 1,
   "id": "1b502faa",
   "metadata": {
    "ExecuteTime": {
     "end_time": "2023-06-06T14:09:08.001894Z",
     "start_time": "2023-06-06T14:09:07.995933Z"
    }
   },
   "outputs": [
    {
     "name": "stdout",
     "output_type": "stream",
     "text": [
      "['He', '', 'o, Wor', 'd!']\n"
     ]
    }
   ],
   "source": [
    "string = 'Hello, World!'\n",
    "\n",
    "print(string.split('l'))"
   ]
  },
  {
   "cell_type": "markdown",
   "id": "af56b864",
   "metadata": {},
   "source": [
    "###\n",
    "<div style=\"margin-top: -20px;\">\n",
    "<hr style=\"border: 2px solid blue;\">\n",
    "\n",
    "<font color='blue'><span style=\"font-size: 18px;\"><strong>6.4.5 Funções Nativas (Built-in) e Métodos Com Strings - Parte 5</strong></span></font>\n",
    "\n",
    "<hr style=\"border: 2px solid blue;\">\n",
    "</div>"
   ]
  },
  {
   "cell_type": "markdown",
   "id": "353115cc",
   "metadata": {},
   "source": [
    "#### splitlines()"
   ]
  },
  {
   "cell_type": "markdown",
   "id": "83871c5a",
   "metadata": {},
   "source": [
    "Divide a string em uma lista de linhas, separadas por quebras de linha."
   ]
  },
  {
   "cell_type": "code",
   "execution_count": null,
   "id": "ad42afaa",
   "metadata": {
    "ExecuteTime": {
     "end_time": "2023-06-06T14:10:15.874091Z",
     "start_time": "2023-06-06T14:10:15.868132Z"
    }
   },
   "outputs": [],
   "source": [
    "string = \"Hello\\nWorld\"\n",
    "\n",
    "print(string)"
   ]
  },
  {
   "cell_type": "code",
   "execution_count": null,
   "id": "3644dd4e",
   "metadata": {},
   "outputs": [],
   "source": [
    "print(string.splitlines())"
   ]
  },
  {
   "cell_type": "markdown",
   "id": "0c5593a4",
   "metadata": {},
   "source": [
    "#### startswith()"
   ]
  },
  {
   "cell_type": "markdown",
   "id": "da8b7df6",
   "metadata": {},
   "source": [
    "Verifica se uma string começa com determinado prefixo."
   ]
  },
  {
   "cell_type": "code",
   "execution_count": null,
   "id": "3877f557",
   "metadata": {
    "ExecuteTime": {
     "end_time": "2023-06-06T14:10:55.881843Z",
     "start_time": "2023-06-06T14:10:55.876858Z"
    }
   },
   "outputs": [],
   "source": [
    "string = 'Hello'\n",
    "\n",
    "print(string.startswith('He'))\n",
    "print(string.startswith('he'))"
   ]
  },
  {
   "cell_type": "markdown",
   "id": "68dd0cc1",
   "metadata": {},
   "source": [
    "#### strip()"
   ]
  },
  {
   "cell_type": "markdown",
   "id": "729de887",
   "metadata": {},
   "source": [
    "Remove espaços em branco e outros caracteres especiais como tabulações e quebras de linha do início e do final de uma string."
   ]
  },
  {
   "cell_type": "code",
   "execution_count": null,
   "id": "bb22834b",
   "metadata": {
    "ExecuteTime": {
     "end_time": "2023-06-06T14:11:53.025916Z",
     "start_time": "2023-06-06T14:11:53.019932Z"
    }
   },
   "outputs": [],
   "source": [
    "texto = \"  Hello, World!  \\n\\n\\n\"\n",
    " \n",
    "print(texto)"
   ]
  },
  {
   "cell_type": "code",
   "execution_count": null,
   "id": "9a6fb8e7",
   "metadata": {},
   "outputs": [],
   "source": [
    "print(texto.strip())"
   ]
  },
  {
   "cell_type": "markdown",
   "id": "293e89df",
   "metadata": {},
   "source": [
    "#### swapcase()"
   ]
  },
  {
   "cell_type": "markdown",
   "id": "6a73b86b",
   "metadata": {},
   "source": [
    "Retorna uma cópia da string com a troca de caixa entre letras maiúsculas e minúsculas."
   ]
  },
  {
   "cell_type": "code",
   "execution_count": null,
   "id": "492b47db",
   "metadata": {
    "ExecuteTime": {
     "end_time": "2023-06-06T14:12:23.808532Z",
     "start_time": "2023-06-06T14:12:23.804508Z"
    }
   },
   "outputs": [],
   "source": [
    "string = \"Hello, World!\"\n",
    "\n",
    "print(string.swapcase())"
   ]
  },
  {
   "cell_type": "markdown",
   "id": "0209e2dc",
   "metadata": {},
   "source": [
    "#### title()"
   ]
  },
  {
   "cell_type": "markdown",
   "id": "fcc78abb",
   "metadata": {},
   "source": [
    "Converte a primeira letra de cada palavra de uma string em maiúscula e todas as outras em minúscula."
   ]
  },
  {
   "cell_type": "code",
   "execution_count": null,
   "id": "fc26c56b",
   "metadata": {
    "ExecuteTime": {
     "end_time": "2023-06-06T14:12:53.042029Z",
     "start_time": "2023-06-06T14:12:53.037043Z"
    }
   },
   "outputs": [],
   "source": [
    "titulo = 'Python com jupyter notebooK'\n",
    "print(titulo.title())"
   ]
  },
  {
   "cell_type": "markdown",
   "id": "4a660fec",
   "metadata": {},
   "source": [
    "#### translate()"
   ]
  },
  {
   "cell_type": "markdown",
   "id": "e8c1a093",
   "metadata": {
    "ExecuteTime": {
     "end_time": "2023-06-08T22:22:44.415534Z",
     "start_time": "2023-06-08T22:22:44.408529Z"
    }
   },
   "source": [
    "Retorna uma cópia da string onde determinados caracteres são substituídos de acordo com uma tabela de tradução."
   ]
  },
  {
   "cell_type": "code",
   "execution_count": null,
   "id": "920b573d",
   "metadata": {
    "ExecuteTime": {
     "end_time": "2023-06-06T14:13:03.522407Z",
     "start_time": "2023-06-06T14:13:03.516444Z"
    }
   },
   "outputs": [],
   "source": [
    "string = \"Hello, World!\"\n",
    "\n",
    "translation_table = str.maketrans(\"lo\", \"12\")"
   ]
  },
  {
   "cell_type": "code",
   "execution_count": null,
   "id": "83c5b268",
   "metadata": {},
   "outputs": [],
   "source": [
    "print(translation_table)"
   ]
  },
  {
   "cell_type": "code",
   "execution_count": null,
   "id": "cf799c32",
   "metadata": {},
   "outputs": [],
   "source": [
    "translated_string = string.translate(translation_table)\n",
    "print(translated_string)"
   ]
  },
  {
   "cell_type": "markdown",
   "id": "00dd7543",
   "metadata": {},
   "source": [
    "#### upper()"
   ]
  },
  {
   "cell_type": "markdown",
   "id": "2348ad94",
   "metadata": {},
   "source": [
    "Retorna uma string com todos os caracteres maiúsculos (caixa alta)."
   ]
  },
  {
   "cell_type": "code",
   "execution_count": null,
   "id": "9ef87cda",
   "metadata": {
    "ExecuteTime": {
     "end_time": "2023-06-06T14:13:30.690223Z",
     "start_time": "2023-06-06T14:13:30.684261Z"
    }
   },
   "outputs": [],
   "source": [
    "string = 'Allan'\n",
    "\n",
    "print(string.upper())"
   ]
  },
  {
   "cell_type": "markdown",
   "id": "f3dff056",
   "metadata": {},
   "source": [
    "#### zfill()"
   ]
  },
  {
   "cell_type": "markdown",
   "id": "681c7016",
   "metadata": {},
   "source": [
    "Preenche a string com zeros à esquerda até atingir uma largura especificada."
   ]
  },
  {
   "cell_type": "code",
   "execution_count": null,
   "id": "7a872b53",
   "metadata": {
    "ExecuteTime": {
     "end_time": "2023-06-06T14:14:01.880961Z",
     "start_time": "2023-06-06T14:14:01.876973Z"
    }
   },
   "outputs": [],
   "source": [
    "string1 = \"a\"\n",
    "string2 = \"alla\"\n",
    "string3 = \"allan\"\n",
    "\n",
    "zfilled_string1 = string1.zfill(5)\n",
    "zfilled_string2 = string2.zfill(5)\n",
    "zfilled_string3 = string3.zfill(5)\n",
    "\n",
    "print(zfilled_string1)\n",
    "print(zfilled_string2)\n",
    "print(zfilled_string3)"
   ]
  },
  {
   "cell_type": "markdown",
   "id": "ececbccd",
   "metadata": {},
   "source": [
    "##\n",
    "<div style=\"margin-top: -20px;\">\n",
    "<hr style=\"border: 2px solid blue;\">\n",
    "\n",
    "<font color='blue'><span style=\"font-size: 22px;\"><strong>6.5 Consultado atributos, funções e métodos referentes a um objeto</strong></span></font>\n",
    "\n",
    "<hr style=\"border: 2px solid blue;\">\n",
    "</div>"
   ]
  },
  {
   "cell_type": "markdown",
   "id": "a81e5a5e",
   "metadata": {},
   "source": [
    "<center> <img src=\"Mister_M.jpg\" alt=\"jpg_python\" width=\"150\" height=\"\"> </center>"
   ]
  },
  {
   "cell_type": "markdown",
   "id": "400e11e6",
   "metadata": {},
   "source": [
    "Uma forma rápida de consultarmos atributos, funções nativas e métodos é usarmos o comando **dir(objeto)**. Por exemplo, para consultarmos atributos, funções e métodos associados a uma string podemos usar o comando **dir(str)**. Para saber sobre cada um podemos recorrer ao GPT..."
   ]
  },
  {
   "cell_type": "code",
   "execution_count": null,
   "id": "b14ff618",
   "metadata": {
    "scrolled": false
   },
   "outputs": [],
   "source": [
    "dir(str)"
   ]
  },
  {
   "cell_type": "markdown",
   "id": "8f72868a",
   "metadata": {},
   "source": [
    "## <div style=\"margin-top: -20px;\">\n",
    "<hr style=\"border: 2px solid blue;\">\n",
    "\n",
    "<font color='blue'><span style=\"font-size: 22px;\"><strong>Exercícios</strong></span></font>\n",
    "\n",
    "<hr style=\"border: 2px solid blue;\">\n",
    "</div>"
   ]
  },
  {
   "cell_type": "markdown",
   "id": "839159b0",
   "metadata": {},
   "source": [
    "#### Exercício 1"
   ]
  },
  {
   "cell_type": "markdown",
   "id": "2d09b0d5",
   "metadata": {},
   "source": [
    "Usando indexação imprima a concatenação da quinta e oitava letras da palavra **sexta-feira**:"
   ]
  },
  {
   "cell_type": "code",
   "execution_count": null,
   "id": "ecf43b03",
   "metadata": {},
   "outputs": [],
   "source": [
    "# Sua resposta\n",
    "\n",
    "\n"
   ]
  },
  {
   "cell_type": "markdown",
   "id": "f639b232",
   "metadata": {},
   "source": [
    "#### Exercício 2"
   ]
  },
  {
   "cell_type": "markdown",
   "id": "634a193f",
   "metadata": {},
   "source": [
    "Formate a data 25-01-2023 dada na célula a seguir para 25/01/2023 usando a função translate."
   ]
  },
  {
   "cell_type": "code",
   "execution_count": null,
   "id": "f920e2f1",
   "metadata": {
    "ExecuteTime": {
     "end_time": "2023-09-15T14:50:34.376357Z",
     "start_time": "2023-09-15T14:50:34.373381Z"
    }
   },
   "outputs": [],
   "source": [
    "data = \"25-01-2023\""
   ]
  },
  {
   "cell_type": "code",
   "execution_count": null,
   "id": "68a592b7",
   "metadata": {},
   "outputs": [],
   "source": [
    "# Sua resposta\n",
    "\n",
    "\n"
   ]
  },
  {
   "cell_type": "markdown",
   "id": "b7b8f50c",
   "metadata": {},
   "source": [
    "#### Exercício 3"
   ]
  },
  {
   "cell_type": "markdown",
   "id": "2b4cb107",
   "metadata": {},
   "source": [
    "Considere a string **33adbafedEfeferdEsrrrsefe3aaafefA4313A**:\n",
    "\n",
    "a) Determine o total de ocorrências de ao menos uma das substrings **3a** ou **ef** na string dada.\n",
    "\n",
    "b) Determine o total de ocorrências de ao menos uma das substrings **3a** ou **ef** na string dada independete da caixa utilizada (caixa alta ou caixa baixa)."
   ]
  },
  {
   "cell_type": "code",
   "execution_count": null,
   "id": "a1382778",
   "metadata": {},
   "outputs": [],
   "source": [
    "string = \"33adbafedEfeferdEsrrrsefe3aaafefA4313A\""
   ]
  },
  {
   "cell_type": "code",
   "execution_count": null,
   "id": "808f886c",
   "metadata": {},
   "outputs": [],
   "source": [
    "# Sua resposta \n",
    "# a) \n",
    "\n"
   ]
  },
  {
   "cell_type": "code",
   "execution_count": null,
   "id": "e493210f",
   "metadata": {},
   "outputs": [],
   "source": [
    "# Sua resposta \n",
    "# b) \n",
    "\n"
   ]
  },
  {
   "cell_type": "markdown",
   "id": "94a7c039",
   "metadata": {},
   "source": [
    "*Os **Exercícios 4 e 5** a seguir pode apresentar certa dificuldade para iniciantes em programação. Caso tente e não consiga ou não entenda a solução apresentada não se preocupe pois trataremos das funcionalidades utilizadas mais a frente em neste curso.*"
   ]
  },
  {
   "cell_type": "markdown",
   "id": "f3532dee",
   "metadata": {},
   "source": [
    "#### Exercício 4"
   ]
  },
  {
   "cell_type": "markdown",
   "id": "9bfd8eae",
   "metadata": {},
   "source": [
    "Parte 1: Divida a frase **Estou fazendo o Curso de Análise de Dados com Python.** em uma lista de palavras separadas usando a função split()."
   ]
  },
  {
   "cell_type": "code",
   "execution_count": null,
   "id": "697cd4cd",
   "metadata": {},
   "outputs": [],
   "source": [
    "# Sua resposta\n",
    "\n",
    "\n"
   ]
  },
  {
   "cell_type": "markdown",
   "id": "d8b87e58",
   "metadata": {},
   "source": [
    "Parte 2: Faça uma varredura da lista criada na \"Parte 1\" imprimindo a primeira letra de cada palavra caso esta seja maiúscula. *Dica: Use os comandos for e if conforme fizemos em alguns exemplos passados*."
   ]
  },
  {
   "cell_type": "code",
   "execution_count": null,
   "id": "1812f575",
   "metadata": {},
   "outputs": [],
   "source": [
    "# Sua resposta\n",
    "\n",
    "\n"
   ]
  },
  {
   "cell_type": "markdown",
   "id": "c6868ad5",
   "metadata": {},
   "source": [
    "#### Exercício 5"
   ]
  },
  {
   "cell_type": "markdown",
   "id": "64bb1f0e",
   "metadata": {},
   "source": [
    "Determine a quantidade de letras usadas no texto:\n",
    "\n",
    "*Uma string é uma sequência de caracteres, que pode incluir letras, números, símbolos e espaços em branco. As strings são comumente usadas em programação para armazenar e manipular dados textuais, como nomes, endereços, senhas, mensagens e muito mais. Elas podem ser criadas usando aspas simples ou duplas em torno do texto, e muitas linguagens de programação oferecem uma série de funções e métodos para trabalhar com strings, como concatenação, substituição, formatação e validação. Além disso, as strings podem ser comparadas e ordenadas de várias maneiras, tornando-as uma ferramenta poderosa para muitas aplicações.*"
   ]
  },
  {
   "cell_type": "code",
   "execution_count": null,
   "id": "59fa1ccc",
   "metadata": {},
   "outputs": [],
   "source": [
    "# Sua resposta\n",
    "\n",
    "\n"
   ]
  },
  {
   "cell_type": "markdown",
   "id": "fc98d945",
   "metadata": {},
   "source": [
    "### <div style=\"margin-top: -20px;\">\n",
    "<hr style=\"border: 2px solid blue;\">\n",
    "\n",
    "<font color='blue'><span style=\"font-size: 18px;\"><strong>Soluções dos Exercícios</strong></span></font>\n",
    "\n",
    "<hr style=\"border: 2px solid blue;\">\n",
    "</div>"
   ]
  },
  {
   "cell_type": "markdown",
   "id": "865afe41",
   "metadata": {},
   "source": [
    "#### Solução do Exercício 1"
   ]
  },
  {
   "cell_type": "code",
   "execution_count": null,
   "id": "3f980f5c",
   "metadata": {
    "ExecuteTime": {
     "end_time": "2023-09-15T20:30:16.880408Z",
     "start_time": "2023-09-15T20:30:16.877085Z"
    }
   },
   "outputs": [],
   "source": [
    "# string de entrada\n",
    "dia = \"sexta-feira\"\n",
    "\n",
    "# Imprimindo a posição (indexação +1)\n",
    "print(dia[4]+dia[7])"
   ]
  },
  {
   "cell_type": "markdown",
   "id": "57aa7f1f",
   "metadata": {},
   "source": [
    "#### Solução do Exercício 2"
   ]
  },
  {
   "cell_type": "code",
   "execution_count": null,
   "id": "798297a2",
   "metadata": {
    "ExecuteTime": {
     "end_time": "2023-09-15T20:31:56.670027Z",
     "start_time": "2023-09-15T20:31:56.665896Z"
    }
   },
   "outputs": [],
   "source": [
    "# Data pré-formatada\n",
    "data = \"25-01-2023\"\n",
    "\n",
    "# Criando um dicionário para converter \"-\" para \"/\" (ignore as aspas)\n",
    "translation_table = str.maketrans('-', '/')\n",
    "\n",
    "# Formatando a data\n",
    "data_formatada = data.translate(translation_table)\n",
    "\n",
    "# Imprimindo a data formatada\n",
    "print(data_formatada)"
   ]
  },
  {
   "cell_type": "markdown",
   "id": "1d95c790",
   "metadata": {},
   "source": [
    "#### Solução do Exercício 3"
   ]
  },
  {
   "cell_type": "code",
   "execution_count": null,
   "id": "9812bfaa",
   "metadata": {
    "ExecuteTime": {
     "end_time": "2023-09-15T20:34:28.917682Z",
     "start_time": "2023-09-15T20:34:28.913343Z"
    }
   },
   "outputs": [],
   "source": [
    "# a)\n",
    "\n",
    "# string de entrada\n",
    "string = \"33adbafedEfeferdEsrrrsefe3aaafefA4313A\"\n",
    "\n",
    "# Contagem de ocorrências de cada tipo de substring\n",
    "substring1 = string.count('3a')\n",
    "substring2 = string.count('ef')\n",
    "\n",
    "# Total de ocorrências de ambas substings\n",
    "ocorrencias_totais = substring1 + substring2\n",
    "\n",
    "# Imprimindo o total de ocorrências\n",
    "print(ocorrencias_totais)"
   ]
  },
  {
   "cell_type": "code",
   "execution_count": null,
   "id": "3fdc237b",
   "metadata": {
    "ExecuteTime": {
     "end_time": "2023-09-15T15:13:11.470568Z",
     "start_time": "2023-09-15T15:13:11.466494Z"
    }
   },
   "outputs": [],
   "source": [
    "# b)\n",
    "\n",
    "# string de entrada\n",
    "string = \"33adbafedEfeferdEsrrrsefe3aaafefA4313A\"\n",
    "\n",
    "# Formatando a string de entrada em caixa baixa\n",
    "string_lower = string.lower()\n",
    "\n",
    "# Contagem de ocorrências de cada tipo de substring\n",
    "substring1 = string_lower.count('3a')\n",
    "substring2 = string_lower.count('ef')\n",
    "\n",
    "# Total de ocorrências de ambas substings\n",
    "ocorrencias_totais = substring1 + substring2\n",
    "\n",
    "# Imprimindo o total de ocorrências\n",
    "print(ocorrencias_totais)"
   ]
  },
  {
   "cell_type": "markdown",
   "id": "8076cbe8",
   "metadata": {},
   "source": [
    "#### Solução do Exercício 4"
   ]
  },
  {
   "cell_type": "code",
   "execution_count": null,
   "id": "2ce07d5f",
   "metadata": {
    "ExecuteTime": {
     "end_time": "2023-09-15T20:38:37.948854Z",
     "start_time": "2023-09-15T20:38:37.944745Z"
    },
    "scrolled": true
   },
   "outputs": [],
   "source": [
    "# Parte 1\n",
    "\n",
    "# string de entrada\n",
    "frase = \"Estou fazendo o Curso de Análise de Dados com Python\"\n",
    "\n",
    "# Gerando uma lista com todas as palavras contidas na frase de entrada\n",
    "lista_palavras = frase.split(' ')\n",
    "\n",
    "# Imprimindo a lista de palavras\n",
    "print(lista_palavras)"
   ]
  },
  {
   "cell_type": "code",
   "execution_count": null,
   "id": "4348c239",
   "metadata": {
    "ExecuteTime": {
     "end_time": "2023-09-15T15:27:36.235944Z",
     "start_time": "2023-09-15T15:27:36.231687Z"
    }
   },
   "outputs": [],
   "source": [
    "# Parte 2\n",
    "\n",
    "# Iterando sobre cada palavra da lista\n",
    "for palavra in lista_palavras:\n",
    "    # Verificando se a primeira letra de cada palavra é maiúscula\n",
    "    if palavra[0].isupper():\n",
    "        # Imprimindo a letra maiúscula\n",
    "        print(palavra[0])"
   ]
  },
  {
   "cell_type": "markdown",
   "id": "aec695a2",
   "metadata": {},
   "source": [
    "As estruturas <font color ='green'> **if** </font> e <font color ='green'> **for** </font> usadas no código acima serão tratadas nos **Capítulos 12** e **13** deste curso (dá uma olhadinha lá e volte)."
   ]
  },
  {
   "cell_type": "markdown",
   "id": "0e651dbe",
   "metadata": {},
   "source": [
    "#### Solução do Exercício 5"
   ]
  },
  {
   "cell_type": "markdown",
   "id": "b944e7ce",
   "metadata": {},
   "source": [
    "Observando o texto vemos que este apresenta os seguintes símbolos \",-.\" (ignore as aspas) além de espaços em branco. Uma ideia seria converter todas essas ocorrências em um símbolo, por exemplo \"/\" (barra). Em seguida podemos calcular a quantidade total de caracteres do texto que corresponderá à quantidade de letras e barras. Ao final, a quantidade de letras será a quantidade total de caracteres subtraída da quantidade de barras."
   ]
  },
  {
   "cell_type": "code",
   "execution_count": null,
   "id": "9dcaa6d6",
   "metadata": {
    "ExecuteTime": {
     "end_time": "2023-09-15T20:10:49.652354Z",
     "start_time": "2023-09-15T20:10:49.647022Z"
    }
   },
   "outputs": [],
   "source": [
    "# Armazenando o texto\n",
    "texto = \"Uma string é uma sequência de caracteres, que pode incluir letras, números, símbolos e espaços em branco. As strings são comumente usadas em programação para armazenar e manipular dados textuais, como nomes, endereços, senhas, mensagens e muito mais. Elas podem ser criadas usando aspas simples ou duplas em torno do texto, e muitas linguagens de programação oferecem uma série de funções e métodos para trabalhar com strings, como concatenação, substituição, formatação e validação. Além disso, as strings podem ser comparadas e ordenadas de várias maneiras, tornando-as uma ferramenta poderosa para muitas aplicações.\"\n",
    "\n",
    "# Criando um dicionário para converter \",-.\" e \" \" para /\n",
    "translation_table = str.maketrans(',-. ', '////')\n",
    "\n",
    "# Armazenando o texto modificado\n",
    "texto_modificado = texto.translate(translation_table)\n",
    "\n",
    "# Calculando as quantidades de caracteres\n",
    "tamanho_total = len(texto_modificado)\n",
    "quant_barras = texto_modificado.count('/')\n",
    "\n",
    "# Calculando a quantidade de letras\n",
    "quant_letras = tamanho_total - quant_barras\n",
    "\n",
    "# Imprimindo a quantidade de letras\n",
    "print(quant_letras)"
   ]
  },
  {
   "cell_type": "markdown",
   "id": "70310747",
   "metadata": {},
   "source": [
    "Ao avançarmos mais poderemos ver outras formas de resolver ao exercício proposto. Note que tivemos que observar o texto previamente. Em situações onde o texto não está explícito devemos recorrer a métodos para listarmos todos os caracteres especiais como .,?#* etc. Por exemplo, um código mais curto é dado de outras duas maneiras nas células a seguir:"
   ]
  },
  {
   "cell_type": "code",
   "execution_count": null,
   "id": "73ecff1e",
   "metadata": {
    "ExecuteTime": {
     "end_time": "2023-09-15T20:28:21.368021Z",
     "start_time": "2023-09-15T20:28:21.363285Z"
    }
   },
   "outputs": [],
   "source": [
    "# Armazenando o texto\n",
    "texto = \"Uma string é uma sequência de caracteres, que pode incluir letras, números, símbolos e espaços em branco. As strings são comumente usadas em programação para armazenar e manipular dados textuais, como nomes, endereços, senhas, mensagens e muito mais. Elas podem ser criadas usando aspas simples ou duplas em torno do texto, e muitas linguagens de programação oferecem uma série de funções e métodos para trabalhar com strings, como concatenação, substituição, formatação e validação. Além disso, as strings podem ser comparadas e ordenadas de várias maneiras, tornando-as uma ferramenta poderosa para muitas aplicações.\"\n",
    "\n",
    "# Definindo a quantidade inicial de letras como 0\n",
    "quant_letras = 0\n",
    "\n",
    "# Iterando sobre cada caractere no texto\n",
    "for letra in texto:\n",
    "    # Verificando se o caractere atual é uma letra (alfabético) usando o método str.isalpha\n",
    "    if letra.isalpha():\n",
    "        # Incrementando o contador de letras\n",
    "        quant_letras += 1\n",
    "\n",
    "# Imprimindo a quantidade total de letras no texto\n",
    "print(quant_letras)\n"
   ]
  },
  {
   "cell_type": "code",
   "execution_count": null,
   "id": "66750594",
   "metadata": {
    "ExecuteTime": {
     "end_time": "2023-09-15T20:21:21.938194Z",
     "start_time": "2023-09-15T20:21:21.933176Z"
    }
   },
   "outputs": [],
   "source": [
    "# Armazenando o texto\n",
    "texto = \"Uma string é uma sequência de caracteres, que pode incluir letras, números, símbolos e espaços em branco. As strings são comumente usadas em programação para armazenar e manipular dados textuais, como nomes, endereços, senhas, mensagens e muito mais. Elas podem ser criadas usando aspas simples ou duplas em torno do texto, e muitas linguagens de programação oferecem uma série de funções e métodos para trabalhar com strings, como concatenação, substituição, formatação e validação. Além disso, as strings podem ser comparadas e ordenadas de várias maneiras, tornando-as uma ferramenta poderosa para muitas aplicações.\"\n",
    "\n",
    "# Calculando a quantidade de letras (caracteres alfabéticos)\n",
    "quant_letras = sum(c.isalpha() for c in texto)\n",
    "\n",
    "# Imprimindo a quantidade total de letras no texto\n",
    "print(quant_letras)"
   ]
  }
 ],
 "metadata": {
  "kernelspec": {
   "display_name": "Python 3 (ipykernel)",
   "language": "python",
   "name": "python3"
  },
  "language_info": {
   "codemirror_mode": {
    "name": "ipython",
    "version": 3
   },
   "file_extension": ".py",
   "mimetype": "text/x-python",
   "name": "python",
   "nbconvert_exporter": "python",
   "pygments_lexer": "ipython3",
   "version": "3.9.13"
  },
  "varInspector": {
   "cols": {
    "lenName": 16,
    "lenType": 16,
    "lenVar": 40
   },
   "kernels_config": {
    "python": {
     "delete_cmd_postfix": "",
     "delete_cmd_prefix": "del ",
     "library": "var_list.py",
     "varRefreshCmd": "print(var_dic_list())"
    },
    "r": {
     "delete_cmd_postfix": ") ",
     "delete_cmd_prefix": "rm(",
     "library": "var_list.r",
     "varRefreshCmd": "cat(var_dic_list()) "
    }
   },
   "types_to_exclude": [
    "module",
    "function",
    "builtin_function_or_method",
    "instance",
    "_Feature"
   ],
   "window_display": false
  }
 },
 "nbformat": 4,
 "nbformat_minor": 5
}
