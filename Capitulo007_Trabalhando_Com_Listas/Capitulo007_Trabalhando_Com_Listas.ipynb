{
 "cells": [
  {
   "cell_type": "markdown",
   "id": "b42396bc",
   "metadata": {},
   "source": [
    "<center> <img src=\"logo_ifba.jpg\" alt=\"jpg_python\" width=\"100\" height=\"\"> </center>\n",
    "<br><br>\n",
    "<center> <img src=\"logo_coext.jpg\" alt=\"jpg_python\" width=\"200\" height=\"\"> </center>\n",
    "<br><br>\n",
    "<div align=\"center\"><span style=\"font-size: 26px;\"><strong>Python Com Jupyter Notebook</strong></span></div><br><br>\n",
    "<center><div style=\"text-align:center\">    <a href=\"https://colab.research.google.com/github/ProfAllanIFBA/Curso_Python_Com_Jupyter_Notebook/blob/main/Capitulo007_Trabalhando_Com_Listas/Capitulo007_Trabalhando_Com_Listas.ipynb\">Link Colab</a> \n",
    "</div><br><br></center>\n",
    "<center> <img src=\"python_gif.gif\" alt=\"gif_python\" width=\"80\"> </center>"
   ]
  },
  {
   "cell_type": "markdown",
   "id": "9e06a963",
   "metadata": {},
   "source": [
    "Este material apresenta uma explicação detalhada sobre o uso do software de programação em Python chamado Jupyter Notebook, com foco na análise de dados. Abordaremos desde estruturas básicas, como listas e dicionários, até estruturas mais complexas voltadas para a análise de dados, como pandas e seaborn, além de ferramentas destinadas à inteligência artificial.\n",
    "\n",
    "\n",
    "<font color='red'> <u>Este é um material de uso público e totalmente gratuito</u>. Contudo, eventuais edições são de responsabilidade de quem as fizer. </font>\n",
    "\n",
    "Você pode ajudar a melhorar este material!\n",
    "\n",
    "Contato e Sugestões: allansoares@ifba.edu.br.\n",
    "\n",
    "[**Equipe Executora**](https://github.com/ProfAllanIFBA/Curso_Python_Com_Jupyter_Notebook/blob/main/Capitulo000_Equipe/Capitulo000_Equipe.ipynb)"
   ]
  },
  {
   "cell_type": "markdown",
   "id": "4b3c0148",
   "metadata": {},
   "source": [
    "### <center> <font color='red'> Vídeo Aulas <img src=\"youtube.gif\" alt=\"jpg_python\" width=\"100\" height=\"\"> </font> </center>"
   ]
  },
  {
   "cell_type": "markdown",
   "id": "300e5c7e",
   "metadata": {},
   "source": [
    "[Exemplos Iniciais Envolvendo Listas em Python](https://youtu.be/LMYelpujX4g)\n",
    "\n",
    "[Indexação de Uma Lista em Python](https://youtu.be/ahEuV47o5cs)\n",
    "\n",
    "[Verficação de Pertinência e Concatenação de Listas no Python](https://youtu.be/aRoey8IAMcc)\n",
    "\n",
    "[Operando Elementos Internos de Listas no Python](https://youtu.be/5kunSpOE5M0)\n",
    "\n",
    "[Atribuição de Variáveis em Linha no Python  Desempacotamento](https://youtu.be/RwbPa78FQkU)\n",
    "\n",
    "[Funções Built in e Métodos Com Listas no Python - Parte 1](https://youtu.be/jpzoJEiZQew)\n",
    "\n",
    "[Funções Built in e Métodos Com Listas no Python - Parte 2](https://youtu.be/_zuKtqbQvO4)\n",
    "\n",
    "[Funções Built in e Métodos Com Listas no Python - Parte 3](https://youtu.be/O0t7Zttc-7s)"
   ]
  },
  {
   "cell_type": "markdown",
   "id": "cf120cc0",
   "metadata": {},
   "source": [
    "<div style=\"border: 2px solid black; padding: 10px; width: 100%; background-color: lightgray; display: flex; align-items: center;\">\n",
    "    <h1 style=\"color: red; text-align: center; margin: auto;\">\n",
    "        Capítulo 7: Trabalhando Com Listas\n",
    "    </h1>\n",
    "</div>\n",
    "\n",
    "<font color='red'></font>\n",
    "<a href=\"\"></a>"
   ]
  },
  {
   "cell_type": "markdown",
   "id": "293edc59",
   "metadata": {},
   "source": [
    "Uma <u>lista</u> em Python é uma estrutura de dados que permite armazenar um conjunto ordenado de elementos, podendo ser de diferentes tipos, como números, strings, booleanos, outras listas e objetos complexos. É uma das estruturas mais comuns em Python e é indicada quando precisamos armazenar uma sequência de valores mutáveis que podem ser acessados por um índice numérico. Para criar uma lista em Python, utiliza-se a sintaxe com colchetes [ ]  contendo os elementos separados por vírgula."
   ]
  },
  {
   "cell_type": "markdown",
   "id": "f4fc5ffb",
   "metadata": {},
   "source": [
    "##\n",
    "<div style=\"margin-top: -20px;\">\n",
    "<hr style=\"border: 2px solid blue;\">\n",
    "\n",
    "<font color='blue'><span style=\"font-size: 22px;\"><strong>7.1 Exemplos Iniciais</strong></span></font>\n",
    "\n",
    "<hr style=\"border: 2px solid blue;\">\n",
    "</div>"
   ]
  },
  {
   "cell_type": "markdown",
   "id": "322063b3",
   "metadata": {},
   "source": [
    "#### *Exemplo: Listas*"
   ]
  },
  {
   "cell_type": "code",
   "execution_count": null,
   "id": "cf24c658",
   "metadata": {
    "ExecuteTime": {
     "end_time": "2023-09-12T15:35:09.059018Z",
     "start_time": "2023-09-12T15:35:09.049995Z"
    }
   },
   "outputs": [],
   "source": [
    "# Listas\n",
    "nomes = ['Allan', 'Lucas', 'Osmar', 'Ravi','Breno']\n",
    "idades = [39,39,40,39,35]\n",
    "mix = ['Victor',30,True,[1,'a',[-3,'Allan']]]"
   ]
  },
  {
   "cell_type": "code",
   "execution_count": null,
   "id": "00ef5ae7",
   "metadata": {
    "ExecuteTime": {
     "end_time": "2023-09-12T15:35:09.090331Z",
     "start_time": "2023-09-12T15:35:09.061029Z"
    }
   },
   "outputs": [],
   "source": [
    "# Imprimindo as listas\n",
    "print(nomes)\n",
    "print(idades)\n",
    "print(mix)"
   ]
  },
  {
   "cell_type": "markdown",
   "id": "fb7f5ddc",
   "metadata": {},
   "source": [
    "Saber o tipo de uma variável é uma habilidade fundamental na programação, e isso se aplica a várias linguagens de programação, incluindo Python. O tipo de uma variável determina o conjunto de operações que podem ser realizadas nela e como essas operações são executadas. Uma das formas de sabermos o tipo de uma variável é usarmos a função type."
   ]
  },
  {
   "cell_type": "code",
   "execution_count": null,
   "id": "1eb2a5a4",
   "metadata": {
    "ExecuteTime": {
     "end_time": "2023-09-12T15:35:10.014702Z",
     "start_time": "2023-09-12T15:35:10.010965Z"
    }
   },
   "outputs": [],
   "source": [
    "# Consultando o tipo de variável/estrutura\n",
    "print(type(nomes))\n",
    "print(type(idades))\n",
    "print(type(mix))"
   ]
  },
  {
   "cell_type": "markdown",
   "id": "2efb06f9",
   "metadata": {},
   "source": [
    "##\n",
    "<div style=\"margin-top: -20px;\">\n",
    "<hr style=\"border: 2px solid blue;\">\n",
    "\n",
    "<font color='blue'><span style=\"font-size: 22px;\"><strong>7.2 Indexação de Uma Lista</strong></span></font>\n",
    "\n",
    "<hr style=\"border: 2px solid blue;\">\n",
    "</div>"
   ]
  },
  {
   "cell_type": "markdown",
   "id": "4c2dfe22",
   "metadata": {},
   "source": [
    "Listas em Python são indexadas, o que significa que cada elemento da lista é associado a um índice numérico. O índice é utilizado para acessar ou modificar elementos individuais da lista. O primeiro elemento da lista tem índice 0, o segundo tem índice 1 e assim por diante.\n",
    "\n"
   ]
  },
  {
   "cell_type": "markdown",
   "id": "ff83842e",
   "metadata": {},
   "source": [
    "#### *Exemplo: Utilizando a indexação*"
   ]
  },
  {
   "cell_type": "code",
   "execution_count": null,
   "id": "f72083e8",
   "metadata": {
    "ExecuteTime": {
     "end_time": "2023-09-12T15:37:22.039641Z",
     "start_time": "2023-09-12T15:37:22.036330Z"
    }
   },
   "outputs": [],
   "source": [
    "# Lista\n",
    "frutas = ['melão', 'pera', 'laranja', 'banana','morango']\n",
    "\n",
    "# melão = 0, pera = 1, laranja = 2, banana = 3, morango = 4"
   ]
  },
  {
   "cell_type": "code",
   "execution_count": null,
   "id": "19b5448f",
   "metadata": {
    "ExecuteTime": {
     "end_time": "2023-09-12T15:37:28.559047Z",
     "start_time": "2023-09-12T15:37:28.554898Z"
    }
   },
   "outputs": [],
   "source": [
    "# Imprimindo o n-ésimo elemento de uma lista \n",
    "print(frutas[2])"
   ]
  },
  {
   "cell_type": "code",
   "execution_count": null,
   "id": "b07e5c58",
   "metadata": {
    "ExecuteTime": {
     "end_time": "2023-09-12T15:37:44.617325Z",
     "start_time": "2023-09-12T15:37:44.612785Z"
    }
   },
   "outputs": [],
   "source": [
    "# Imprimindo a partir do n-ésimo elemento de uma lista\n",
    "print(frutas[2:])"
   ]
  },
  {
   "cell_type": "code",
   "execution_count": null,
   "id": "c7bb7f49",
   "metadata": {
    "ExecuteTime": {
     "end_time": "2023-09-12T15:38:32.927644Z",
     "start_time": "2023-09-12T15:38:32.923746Z"
    }
   },
   "outputs": [],
   "source": [
    "# Imprimindo os n primeiros elemetos de uma lista\n",
    "print(frutas[:2])"
   ]
  },
  {
   "cell_type": "code",
   "execution_count": null,
   "id": "4c0b3729",
   "metadata": {
    "ExecuteTime": {
     "end_time": "2023-09-12T15:39:56.775763Z",
     "start_time": "2023-09-12T15:39:56.772446Z"
    }
   },
   "outputs": [],
   "source": [
    "# Imprimindo em n-ésimo elemento de uma lista em ordem reversa \n",
    "# a indexação negativa começa de 1, contudo, usa-se o sinal '-' para se ter a ordem reversa\n",
    "print(frutas[-2])"
   ]
  },
  {
   "cell_type": "code",
   "execution_count": null,
   "id": "ff5c899d",
   "metadata": {
    "ExecuteTime": {
     "end_time": "2023-09-12T15:40:10.292080Z",
     "start_time": "2023-09-12T15:40:10.288640Z"
    }
   },
   "outputs": [],
   "source": [
    "# Imprimindo os n últimos elementos de uma lista\n",
    "print(frutas[-3:])"
   ]
  },
  {
   "cell_type": "code",
   "execution_count": null,
   "id": "dea8959b",
   "metadata": {
    "ExecuteTime": {
     "end_time": "2023-09-12T15:40:58.039218Z",
     "start_time": "2023-09-12T15:40:58.035715Z"
    }
   },
   "outputs": [],
   "source": [
    "# Imprimindo todos elementos de uma lista exceto os n últimos\n",
    "print(frutas[:-2])"
   ]
  },
  {
   "cell_type": "code",
   "execution_count": null,
   "id": "4cea8dee",
   "metadata": {
    "ExecuteTime": {
     "end_time": "2023-09-12T15:41:22.182883Z",
     "start_time": "2023-09-12T15:41:22.178450Z"
    }
   },
   "outputs": [],
   "source": [
    "# Imprimindo do n-ésimo ao m-ésimo elementos de uma lista\n",
    "print(frutas[1:4])"
   ]
  },
  {
   "cell_type": "code",
   "execution_count": null,
   "id": "3150724a",
   "metadata": {
    "ExecuteTime": {
     "end_time": "2023-09-12T15:42:13.390396Z",
     "start_time": "2023-09-12T15:42:13.386298Z"
    }
   },
   "outputs": [],
   "source": [
    "# Imprimindo, em ordem reversa, do n-ésimo ao (m+1)-ésimo elementos de uma lista\n",
    "print(frutas[-4:-1])"
   ]
  },
  {
   "cell_type": "markdown",
   "id": "b61379d8",
   "metadata": {},
   "source": [
    "#### *Exemplo: Utilizando a subindexação*"
   ]
  },
  {
   "cell_type": "markdown",
   "id": "3b4076ba",
   "metadata": {},
   "source": [
    "Em Python, listas dentro de listas são chamadas de listas aninhadas. Essas listas também são indexadas, o que significa que cada elemento de uma lista aninhada é associado a um índice numérico. Para acessar um elemento de uma lista aninhada, primeiro é necessário acessar a lista externa pelo seu índice e, em seguida, acessar a lista interna pelo seu índice."
   ]
  },
  {
   "cell_type": "code",
   "execution_count": null,
   "id": "057e1952",
   "metadata": {
    "ExecuteTime": {
     "end_time": "2023-09-12T20:46:36.679286Z",
     "start_time": "2023-09-12T20:46:36.672441Z"
    }
   },
   "outputs": [],
   "source": [
    "# Lista diversificada incluindo sublistas\n",
    "diversos = ['Casa',False,30,[1,'a',[-3,'Allan']]]"
   ]
  },
  {
   "cell_type": "code",
   "execution_count": null,
   "id": "e91600bf",
   "metadata": {
    "ExecuteTime": {
     "end_time": "2023-09-12T20:46:36.998472Z",
     "start_time": "2023-09-12T20:46:36.992442Z"
    }
   },
   "outputs": [],
   "source": [
    "# Imprimindo valores indexados\n",
    "print(diversos[0])\n",
    "print(diversos[0][2])        # Lembre-se que uma variável tipo string também é indexada\n",
    "print(diversos[3])\n",
    "print(diversos[3][0])\n",
    "print(diversos[3][1])\n",
    "print(diversos[3][2])\n",
    "print(diversos[3][2][0])\n",
    "print(diversos[3][2][1])\n",
    "print(diversos[3][2][1][3])"
   ]
  },
  {
   "cell_type": "code",
   "execution_count": null,
   "id": "f9ac60f5",
   "metadata": {
    "ExecuteTime": {
     "end_time": "2023-09-12T20:46:38.003093Z",
     "start_time": "2023-09-12T20:46:37.999434Z"
    }
   },
   "outputs": [],
   "source": [
    "# Consultando o tipo de variáveis a partir do índice\n",
    "print(type(diversos[3]))\n",
    "print(type(diversos[3][2]))\n",
    "print(type(diversos[3][2][0]))\n",
    "print(type(diversos[3][2][1]))"
   ]
  },
  {
   "cell_type": "markdown",
   "id": "5583f437",
   "metadata": {},
   "source": [
    "##\n",
    "<div style=\"margin-top: -20px;\">\n",
    "<hr style=\"border: 2px solid blue;\">\n",
    "\n",
    "<font color='blue'><span style=\"font-size: 22px;\"><strong>7.3 Operando Listas</strong></span></font>\n",
    "\n",
    "<hr style=\"border: 2px solid blue;\">\n",
    "</div>"
   ]
  },
  {
   "cell_type": "markdown",
   "id": "ae9a5929",
   "metadata": {},
   "source": [
    "###\n",
    "<div style=\"margin-top: -20px;\">\n",
    "<hr style=\"border: 2px solid blue;\">\n",
    "\n",
    "<font color='blue'><span style=\"font-size: 18px;\"><strong>7.3.1 Verificação de Pertinência e Concatenação de Listas</strong></span></font>\n",
    "\n",
    "<hr style=\"border: 2px solid blue;\">\n",
    "</div>"
   ]
  },
  {
   "cell_type": "markdown",
   "id": "7536b7ca",
   "metadata": {},
   "source": [
    "#### Operador in"
   ]
  },
  {
   "cell_type": "markdown",
   "id": "37726ecd",
   "metadata": {},
   "source": [
    "O operador in verifica se um elemento pertence a uma lista, retorando True. Caso contrário retorna False."
   ]
  },
  {
   "cell_type": "markdown",
   "id": "c2ebc1c0",
   "metadata": {},
   "source": [
    "##### Exemplo: Verificando a pertinência"
   ]
  },
  {
   "cell_type": "code",
   "execution_count": null,
   "id": "4f02af2c",
   "metadata": {
    "ExecuteTime": {
     "end_time": "2023-09-12T20:49:35.893932Z",
     "start_time": "2023-09-12T20:49:35.889295Z"
    }
   },
   "outputs": [],
   "source": [
    "# Lista\n",
    "lista = [1,-3,2,6,3]\n",
    "\n",
    "# Imprimindo resultado da consulta de pertinência\n",
    "print(-1 in lista)\n",
    "print(2 in lista)"
   ]
  },
  {
   "cell_type": "markdown",
   "id": "8166adce",
   "metadata": {},
   "source": [
    "#### Concatenando listas"
   ]
  },
  {
   "cell_type": "markdown",
   "id": "7457fbdc",
   "metadata": {},
   "source": [
    "Listas podem ser concatenadas formando novas listas."
   ]
  },
  {
   "cell_type": "markdown",
   "id": "4aec0137",
   "metadata": {},
   "source": [
    "##### Exemplo: Concatenando listas"
   ]
  },
  {
   "cell_type": "code",
   "execution_count": null,
   "id": "6247ecd0",
   "metadata": {
    "ExecuteTime": {
     "end_time": "2023-09-12T20:51:26.461035Z",
     "start_time": "2023-09-12T20:51:26.457032Z"
    }
   },
   "outputs": [],
   "source": [
    "# Listas\n",
    "lista1 = [1,-3,2,6,3]\n",
    "lista2 = [-1,2,5,6,7]\n",
    "\n",
    "# Lista resultante da concatenação das listas1 e lista2\n",
    "lista3 = lista1 + lista2\n",
    "\n",
    "# Imprimindo a lista concatenada\n",
    "print(lista3)"
   ]
  },
  {
   "cell_type": "code",
   "execution_count": null,
   "id": "d53be364",
   "metadata": {
    "ExecuteTime": {
     "end_time": "2023-09-12T20:53:17.408274Z",
     "start_time": "2023-09-12T20:53:17.404584Z"
    }
   },
   "outputs": [],
   "source": [
    "# Imprimindo resultado da consulta de pertinência\n",
    "print(-1 in lista3)\n",
    "print(2 in lista3)"
   ]
  },
  {
   "cell_type": "markdown",
   "id": "85d580e4",
   "metadata": {},
   "source": [
    "###\n",
    "<div style=\"margin-top: -20px;\">\n",
    "<hr style=\"border: 2px solid blue;\">\n",
    "\n",
    "<font color='blue'><span style=\"font-size: 18px;\"><strong>7.3.2 Operando elementos Internos de Listas </strong></span></font>\n",
    "\n",
    "<hr style=\"border: 2px solid blue;\">\n",
    "</div>"
   ]
  },
  {
   "cell_type": "markdown",
   "id": "7dbc4692",
   "metadata": {},
   "source": [
    "#### Operando elementos de duas ou mais listas"
   ]
  },
  {
   "cell_type": "markdown",
   "id": "f981ce25",
   "metadata": {},
   "source": [
    "Podemos operar elementos internos de uma mesma lista ou de listas diferentes."
   ]
  },
  {
   "cell_type": "markdown",
   "id": "df7af223",
   "metadata": {},
   "source": [
    "##### Exemplo: Operação usando elementos internos de duas listas"
   ]
  },
  {
   "cell_type": "code",
   "execution_count": null,
   "id": "90a89fe2",
   "metadata": {
    "ExecuteTime": {
     "end_time": "2023-09-12T21:06:29.931546Z",
     "start_time": "2023-09-12T21:06:29.927987Z"
    }
   },
   "outputs": [],
   "source": [
    "# Listas\n",
    "\n",
    "lista1 = [1,-3,2,6,3]\n",
    "lista2 = [-1,2,5,6,7]"
   ]
  },
  {
   "cell_type": "code",
   "execution_count": null,
   "id": "3fa63d1a",
   "metadata": {
    "ExecuteTime": {
     "end_time": "2023-09-12T21:07:05.365022Z",
     "start_time": "2023-09-12T21:07:05.361083Z"
    }
   },
   "outputs": [],
   "source": [
    "# Operando elementos internos da lista1\n",
    "x = lista1[1]**2 + lista1[3]**2\n",
    "\n",
    "# Imprimindo os resultados as operação anterior\n",
    "print(x)"
   ]
  },
  {
   "cell_type": "code",
   "execution_count": null,
   "id": "2ec6148a",
   "metadata": {
    "ExecuteTime": {
     "end_time": "2023-09-12T21:07:56.971958Z",
     "start_time": "2023-09-12T21:07:56.968034Z"
    }
   },
   "outputs": [],
   "source": [
    "# Operando elementos internos das lista1 e lista2\n",
    "y = lista1[1]**2 + lista2[1]**2\n",
    "\n",
    "# Imprimindo os resultados da operação anterior\n",
    "print(y)"
   ]
  },
  {
   "cell_type": "markdown",
   "id": "ae09928f",
   "metadata": {},
   "source": [
    "#### Atualizando Elemento"
   ]
  },
  {
   "cell_type": "markdown",
   "id": "abbb1833",
   "metadata": {},
   "source": [
    "Elementos internos de uma lista podem ser atualizados."
   ]
  },
  {
   "cell_type": "markdown",
   "id": "1954f3e7",
   "metadata": {},
   "source": [
    "##### Exemplo: Atualizando um elemento de uma lista"
   ]
  },
  {
   "cell_type": "code",
   "execution_count": null,
   "id": "30329fad",
   "metadata": {
    "ExecuteTime": {
     "end_time": "2023-09-12T21:09:16.699080Z",
     "start_time": "2023-09-12T21:09:16.695504Z"
    }
   },
   "outputs": [],
   "source": [
    "# Lista\n",
    "lista = [1,-3,2,6,3]\n",
    "\n",
    "# Imprinindo valor de de uma posição específica\n",
    "print(lista[0])"
   ]
  },
  {
   "cell_type": "code",
   "execution_count": null,
   "id": "f4a1238c",
   "metadata": {
    "ExecuteTime": {
     "end_time": "2023-09-12T21:09:53.131182Z",
     "start_time": "2023-09-12T21:09:53.127224Z"
    }
   },
   "outputs": [],
   "source": [
    "print(lista)"
   ]
  },
  {
   "cell_type": "code",
   "execution_count": null,
   "id": "5577928a",
   "metadata": {
    "ExecuteTime": {
     "end_time": "2023-09-12T21:10:00.682956Z",
     "start_time": "2023-09-12T21:10:00.679776Z"
    }
   },
   "outputs": [],
   "source": [
    "# Mudando valor de uma posição específica\n",
    "lista[0]=3\n",
    "\n",
    "# Imprimindo a lista atual\n",
    "print(lista)"
   ]
  },
  {
   "cell_type": "markdown",
   "id": "608c373a",
   "metadata": {},
   "source": [
    "#### Imprimindo elementos de uma lista"
   ]
  },
  {
   "cell_type": "markdown",
   "id": "c88a0cd6",
   "metadata": {
    "ExecuteTime": {
     "end_time": "2023-06-08T22:28:14.813729Z",
     "start_time": "2023-06-08T22:28:14.807746Z"
    }
   },
   "source": [
    "Podemos imprimir todos os itens de uma lista excluindo-se os colchetes principais."
   ]
  },
  {
   "cell_type": "markdown",
   "id": "280c9adb",
   "metadata": {},
   "source": [
    "##### Exemplo: Imprimindo elementos de uma lista separados por vírgula"
   ]
  },
  {
   "cell_type": "code",
   "execution_count": null,
   "id": "251463e7",
   "metadata": {
    "ExecuteTime": {
     "end_time": "2023-09-12T21:13:29.724872Z",
     "start_time": "2023-09-12T21:13:29.720453Z"
    }
   },
   "outputs": [],
   "source": [
    "# Lista\n",
    "lista = [-1,1,0,3]\n",
    "\n",
    "# Separando elementos de uma mesma linha por vírugla\n",
    "elementos = ', '.join(str(item) for item in lista)\n",
    "\n",
    "# Imprimindo elementos separados por vírgula\n",
    "print(elementos)"
   ]
  },
  {
   "cell_type": "markdown",
   "id": "1147ae87",
   "metadata": {},
   "source": [
    "#### Deletando uma lista ou um elemento de uma lista"
   ]
  },
  {
   "cell_type": "markdown",
   "id": "7a6f2145",
   "metadata": {
    "ExecuteTime": {
     "end_time": "2023-06-08T22:27:54.017768Z",
     "start_time": "2023-06-08T22:27:54.010762Z"
    }
   },
   "source": [
    "Podemos apagar da memória uma lista ou um de seus elementos."
   ]
  },
  {
   "cell_type": "markdown",
   "id": "e523a238",
   "metadata": {},
   "source": [
    "##### Exemplo 1: Apagando completamente uma lista"
   ]
  },
  {
   "cell_type": "code",
   "execution_count": null,
   "id": "a337dd58",
   "metadata": {
    "ExecuteTime": {
     "end_time": "2023-09-12T21:13:48.979028Z",
     "start_time": "2023-09-12T21:13:48.975917Z"
    }
   },
   "outputs": [],
   "source": [
    "# Lista\n",
    "lista = [1,-3,2,6,3]\n",
    "\n",
    "# Imprimindo uma lista\n",
    "print(lista)"
   ]
  },
  {
   "cell_type": "code",
   "execution_count": null,
   "id": "41702c2e",
   "metadata": {
    "ExecuteTime": {
     "end_time": "2023-09-12T21:14:09.235152Z",
     "start_time": "2023-09-12T21:14:09.231340Z"
    }
   },
   "outputs": [],
   "source": [
    "# Deletando uma lista\n",
    "del lista"
   ]
  },
  {
   "cell_type": "code",
   "execution_count": null,
   "id": "176e2fcd",
   "metadata": {
    "ExecuteTime": {
     "end_time": "2023-09-12T21:14:16.532906Z",
     "start_time": "2023-09-12T21:14:15.775219Z"
    }
   },
   "outputs": [],
   "source": [
    "# Tentando imprimir uma lista deletada\n",
    "print(lista)"
   ]
  },
  {
   "cell_type": "markdown",
   "id": "3d3bc612",
   "metadata": {},
   "source": [
    "##### Exemplo 2: Apagando elemento de posição específica em uma lista"
   ]
  },
  {
   "cell_type": "code",
   "execution_count": null,
   "id": "268e4d10",
   "metadata": {
    "ExecuteTime": {
     "end_time": "2023-09-12T21:15:24.709005Z",
     "start_time": "2023-09-12T21:15:24.703621Z"
    }
   },
   "outputs": [],
   "source": [
    "# lista\n",
    "lista = [1,3,4,5]\n",
    "\n",
    "# Imprimindo a lista inicial\n",
    "print(lista)\n",
    "\n",
    "# Deletando um elemento de uma posição específica\n",
    "del lista[2]\n",
    "\n",
    "# Imprimindo a lista atual\n",
    "print(lista)"
   ]
  },
  {
   "cell_type": "markdown",
   "id": "14e01c2d",
   "metadata": {},
   "source": [
    "###\n",
    "<div style=\"margin-top: -20px;\">\n",
    "<hr style=\"border: 2px solid blue;\">\n",
    "\n",
    "<font color='blue'><span style=\"font-size: 18px;\"><strong>7.3.3 Atribuição de Variáveis em Linha (Desempacotamento) </strong></span></font>\n",
    "\n",
    "<hr style=\"border: 2px solid blue;\">\n",
    "</div>"
   ]
  },
  {
   "cell_type": "markdown",
   "id": "b48a1d40",
   "metadata": {},
   "source": [
    "A atribuição em linha, também conhecida como desempacotamento, é uma característica poderosa do Python que permite a atribuição de variáveis a elementos de uma lista ou tupla numa única linha de código.\n",
    "\n",
    "Por exemplo, se você tem uma lista com dois elementos, você pode atribuir os valores destes elementos a duas variáveis diferentes numa única linha, em vez de fazer isso em duas linhas separadas."
   ]
  },
  {
   "cell_type": "markdown",
   "id": "29822df5",
   "metadata": {},
   "source": [
    "##### Exemplo: Utilizando listas para atribuição de variáveis"
   ]
  },
  {
   "cell_type": "code",
   "execution_count": null,
   "id": "c9673bc4",
   "metadata": {
    "ExecuteTime": {
     "end_time": "2023-09-12T21:22:48.212092Z",
     "start_time": "2023-09-12T21:22:48.209006Z"
    }
   },
   "outputs": [],
   "source": [
    "# coeficientes de uma equação do segundo grau ax^2 + bx + c = 0\n",
    "coeficientes = [1, -5, 6]\n",
    "\n",
    "# Atribuição de variáveis usando valores da lista\n",
    "a, b, c = coeficientes"
   ]
  },
  {
   "cell_type": "code",
   "execution_count": null,
   "id": "a1af7450",
   "metadata": {
    "ExecuteTime": {
     "end_time": "2023-09-12T21:23:01.251118Z",
     "start_time": "2023-09-12T21:23:01.247210Z"
    }
   },
   "outputs": [],
   "source": [
    "# Imprimindo as variáveis a, b e c\n",
    "print(a, b, c)"
   ]
  },
  {
   "cell_type": "code",
   "execution_count": null,
   "id": "bfded962",
   "metadata": {
    "ExecuteTime": {
     "end_time": "2023-09-12T21:23:42.811603Z",
     "start_time": "2023-09-12T21:23:42.806773Z"
    }
   },
   "outputs": [],
   "source": [
    "# Calculando o delta e raízes\n",
    "delta = b**2-4*a*c\n",
    "x1 = (-b - delta**(1/2))/(2*a)\n",
    "x2 = (-b + delta**(1/2))/(2*a)\n",
    "\n",
    "# Imprimindo as soluções\n",
    "print(f'As soluções da equação são: {x1}, {x2}.')"
   ]
  },
  {
   "cell_type": "markdown",
   "id": "b8682e3d",
   "metadata": {},
   "source": [
    "##\n",
    "<div style=\"margin-top: -20px;\">\n",
    "<hr style=\"border: 2px solid blue;\">\n",
    "\n",
    "<font color='blue'><span style=\"font-size: 22px;\"><strong>7.4 Funções Nativas (Built-in) e Métodos Com Listas</strong></span></font>\n",
    "\n",
    "<hr style=\"border: 2px solid blue;\">\n",
    "</div>"
   ]
  },
  {
   "cell_type": "markdown",
   "id": "41087c4a",
   "metadata": {},
   "source": [
    "As funções <u>nativas</u> (ou <u>built-in</u>) em uma linguagem de programação são funções que já fazem parte do núcleo da linguagem e estão disponíveis para uso imediato, sem a necessidade de instalar bibliotecas ou módulos adicionais. <u>Métodos</u> são como funções, porém específicas para o objeto em questão. Vejamos agora algumas das funções e métodos mais utilizados relacionadas à listas."
   ]
  },
  {
   "cell_type": "markdown",
   "id": "e056bd1c",
   "metadata": {},
   "source": [
    "###\n",
    "<div style=\"margin-top: -20px;\">\n",
    "<hr style=\"border: 2px solid blue;\">\n",
    "\n",
    "<font color='blue'><span style=\"font-size: 18px;\"><strong>7.4.1 Funções Nativas (Built-in) e Métodos Com Listas - Parte 1</strong></span></font>\n",
    "\n",
    "<hr style=\"border: 2px solid blue;\">\n",
    "</div>"
   ]
  },
  {
   "cell_type": "markdown",
   "id": "a771bc5a",
   "metadata": {},
   "source": [
    "#### any()"
   ]
  },
  {
   "cell_type": "markdown",
   "id": "79980d4a",
   "metadata": {},
   "source": [
    "Retorna True se pelo menos um elemento da lista for verdadeiro,isto é, 1 ou True. Caso contrário, retorna False. Em álgebra booleana o valor 1 é considerado verdadeiro equanto que um valor 0 é considerado falso."
   ]
  },
  {
   "cell_type": "code",
   "execution_count": null,
   "id": "794ad5d8",
   "metadata": {
    "ExecuteTime": {
     "end_time": "2023-09-12T21:36:16.616840Z",
     "start_time": "2023-09-12T21:36:16.612282Z"
    }
   },
   "outputs": [],
   "source": [
    "lista1 = [0,0,0,0,0]\n",
    "lista2 = [0,0,1,1,0]\n",
    "lista3 = [True,False,True]\n",
    "lista4 = [1<2,3+4==5,5-4==-1]\n",
    "\n",
    "print(any(lista1))\n",
    "print(any(lista2))\n",
    "print(any(lista3))\n",
    "print(any(lista4))"
   ]
  },
  {
   "cell_type": "markdown",
   "id": "abc96c9b",
   "metadata": {},
   "source": [
    "#### all()"
   ]
  },
  {
   "cell_type": "markdown",
   "id": "40ced5a5",
   "metadata": {},
   "source": [
    "A função all() funciona de modo semelhante à função any(), retornando True se todos os elementos da lista forem verdadeiros. Caso contrário, retorna False."
   ]
  },
  {
   "cell_type": "code",
   "execution_count": null,
   "id": "78be91c3",
   "metadata": {
    "ExecuteTime": {
     "end_time": "2023-09-12T21:37:31.468207Z",
     "start_time": "2023-09-12T21:37:31.463080Z"
    }
   },
   "outputs": [],
   "source": [
    "lista1 = [1,0,1,0,0]\n",
    "lista2 = [1,1,1,1,1]\n",
    "lista3 = [True,True,True]\n",
    "lista4 = [1<2,3+4==7,5-4==1]\n",
    "lista5 = [True,1,1+2==3]      #Lista com dados de diferentes tipos\n",
    "\n",
    "print(all(lista1))\n",
    "print(all(lista2))\n",
    "print(all(lista3))\n",
    "print(all(lista4))\n",
    "print(all(lista5))"
   ]
  },
  {
   "cell_type": "markdown",
   "id": "da350220",
   "metadata": {},
   "source": [
    "#### append()"
   ]
  },
  {
   "cell_type": "markdown",
   "id": "3a673022",
   "metadata": {},
   "source": [
    "Adiciona um elemento ao final de uma lista."
   ]
  },
  {
   "cell_type": "code",
   "execution_count": null,
   "id": "5b1089b0",
   "metadata": {
    "ExecuteTime": {
     "end_time": "2023-09-12T21:38:47.976365Z",
     "start_time": "2023-09-12T21:38:47.972225Z"
    }
   },
   "outputs": [],
   "source": [
    "lista = [1,-1,2]\n",
    "\n",
    "print(lista)"
   ]
  },
  {
   "cell_type": "code",
   "execution_count": null,
   "id": "7bdc133c",
   "metadata": {
    "ExecuteTime": {
     "end_time": "2023-09-12T21:39:01.617173Z",
     "start_time": "2023-09-12T21:39:01.612740Z"
    }
   },
   "outputs": [],
   "source": [
    "lista.append(5)\n",
    "\n",
    "print(lista)"
   ]
  },
  {
   "cell_type": "code",
   "execution_count": null,
   "id": "c6174f13",
   "metadata": {
    "ExecuteTime": {
     "end_time": "2023-09-12T21:39:28.265231Z",
     "start_time": "2023-09-12T21:39:28.261211Z"
    }
   },
   "outputs": [],
   "source": [
    "# Lista vazia\n",
    "lista2 = []\n",
    "\n",
    "print(lista2)"
   ]
  },
  {
   "cell_type": "code",
   "execution_count": null,
   "id": "e03276f3",
   "metadata": {
    "ExecuteTime": {
     "end_time": "2023-09-12T21:39:41.603252Z",
     "start_time": "2023-09-12T21:39:41.598898Z"
    }
   },
   "outputs": [],
   "source": [
    "lista2.append(3)\n",
    "\n",
    "print(lista2)"
   ]
  },
  {
   "cell_type": "markdown",
   "id": "7051d83c",
   "metadata": {},
   "source": [
    "#### clear()"
   ]
  },
  {
   "cell_type": "markdown",
   "id": "b359b8c1",
   "metadata": {},
   "source": [
    "Remove todos os elementos da lista."
   ]
  },
  {
   "cell_type": "code",
   "execution_count": null,
   "id": "754a0e77",
   "metadata": {
    "ExecuteTime": {
     "end_time": "2023-09-12T22:17:06.988870Z",
     "start_time": "2023-09-12T22:17:06.978957Z"
    }
   },
   "outputs": [],
   "source": [
    "lista = [1,-1,2]\n",
    "\n",
    "print(lista)"
   ]
  },
  {
   "cell_type": "code",
   "execution_count": null,
   "id": "e773e5dd",
   "metadata": {
    "ExecuteTime": {
     "end_time": "2023-09-12T22:17:07.161272Z",
     "start_time": "2023-09-12T22:17:07.157672Z"
    }
   },
   "outputs": [],
   "source": [
    "lista.clear()\n",
    "\n",
    "print(lista)"
   ]
  },
  {
   "cell_type": "markdown",
   "id": "c11eaf7d",
   "metadata": {},
   "source": [
    "#### copy()"
   ]
  },
  {
   "cell_type": "markdown",
   "id": "39748e8f",
   "metadata": {},
   "source": [
    "Cria uma cópia superficial da lista original. Uma cópia superficial cria um novo objeto lista, mas os elementos contidos na lista são referenciados pelos mesmos objetos presentes na lista original."
   ]
  },
  {
   "cell_type": "code",
   "execution_count": null,
   "id": "81883bb1",
   "metadata": {
    "ExecuteTime": {
     "end_time": "2023-09-12T22:17:07.671012Z",
     "start_time": "2023-09-12T22:17:07.666815Z"
    }
   },
   "outputs": [],
   "source": [
    "# Criando uma cópia da lista1 e atualizando um elemento da cópia\n",
    "lista1 = [1,-1,2]\n",
    "\n",
    "lista2 = lista1.copy()\n",
    "lista2[0] = 3\n",
    "\n",
    "print(lista1)\n",
    "print(lista2)"
   ]
  },
  {
   "cell_type": "markdown",
   "id": "e21485fa",
   "metadata": {},
   "source": [
    "\n",
    "*Quando se atribui uma lista a uma nova variável, na verdade está criando uma nova referência para a mesma lista. Isso significa que as duas variáveis apontam para o mesmo objeto na memória, e qualquer alteração feita em uma das variáveis afeta o objeto original e, portanto, todas as outras variáveis que se referem a ele. Portanto, se precisarmos criar uma cópia independente de uma lista em Python, é necessário utilizar um método específico para criar uma cópia profunda da lista, que copia todos os elementos da lista em uma nova lista. Retornemos aos exemplos anteriores.*"
   ]
  },
  {
   "cell_type": "markdown",
   "id": "aabe84eb",
   "metadata": {},
   "source": [
    "#### count()"
   ]
  },
  {
   "cell_type": "markdown",
   "id": "57a8504d",
   "metadata": {},
   "source": [
    "Retorna o número de ocorrências de um elemento na lista."
   ]
  },
  {
   "cell_type": "code",
   "execution_count": null,
   "id": "c4934633",
   "metadata": {
    "ExecuteTime": {
     "end_time": "2023-09-12T22:17:09.302369Z",
     "start_time": "2023-09-12T22:17:09.298531Z"
    }
   },
   "outputs": [],
   "source": [
    "lista = [1, 4, 3, 4, 3, 3, 4]\n",
    "\n",
    "print(lista.count(4))"
   ]
  },
  {
   "cell_type": "markdown",
   "id": "238b14e2",
   "metadata": {},
   "source": [
    "###\n",
    "<div style=\"margin-top: -20px;\">\n",
    "<hr style=\"border: 2px solid blue;\">\n",
    "\n",
    "<font color='blue'><span style=\"font-size: 18px;\"><strong>7.4.2 Funções Nativas (Built-in) e Métodos Com Listas - Parte 2</strong></span></font>\n",
    "\n",
    "<hr style=\"border: 2px solid blue;\">\n",
    "</div>"
   ]
  },
  {
   "cell_type": "markdown",
   "id": "99661feb",
   "metadata": {},
   "source": [
    "#### extend()"
   ]
  },
  {
   "cell_type": "markdown",
   "id": "7d7d5a50",
   "metadata": {},
   "source": [
    "Adiciona os elementos de uma lista ao final de outra lista."
   ]
  },
  {
   "cell_type": "code",
   "execution_count": null,
   "id": "0d7eb880",
   "metadata": {
    "ExecuteTime": {
     "end_time": "2023-09-12T22:29:34.101108Z",
     "start_time": "2023-09-12T22:29:34.090974Z"
    }
   },
   "outputs": [],
   "source": [
    "lista1 = [1,-1,2]\n",
    "lista2 = [3,-1,-2]\n",
    "\n",
    "lista1.extend(lista2)\n",
    "\n",
    "print(lista1)\n",
    "print(lista2)"
   ]
  },
  {
   "cell_type": "markdown",
   "id": "82d75316",
   "metadata": {},
   "source": [
    "#### index()"
   ]
  },
  {
   "cell_type": "markdown",
   "id": "11d874de",
   "metadata": {},
   "source": [
    "Retorna o índice da primeira ocorrência de um elemento na lista. Se o elemento não estiver na lista, retorna um erro."
   ]
  },
  {
   "cell_type": "code",
   "execution_count": null,
   "id": "48afe063",
   "metadata": {
    "ExecuteTime": {
     "end_time": "2023-09-12T22:30:41.495073Z",
     "start_time": "2023-09-12T22:30:41.490757Z"
    },
    "scrolled": true
   },
   "outputs": [],
   "source": [
    "lista = [12,10,9,34,41]\n",
    "\n",
    "print(lista.index(9))"
   ]
  },
  {
   "cell_type": "code",
   "execution_count": null,
   "id": "15b8f676",
   "metadata": {
    "ExecuteTime": {
     "end_time": "2023-09-12T22:31:04.943780Z",
     "start_time": "2023-09-12T22:31:04.156041Z"
    }
   },
   "outputs": [],
   "source": [
    "lista = [12,10,9,34,41]\n",
    "\n",
    "print(lista.index(31))"
   ]
  },
  {
   "cell_type": "markdown",
   "id": "4cbffc6b",
   "metadata": {},
   "source": [
    "#### insert()"
   ]
  },
  {
   "cell_type": "markdown",
   "id": "93c95f75",
   "metadata": {},
   "source": [
    "Insere um elemento em uma posição específica de uma lista."
   ]
  },
  {
   "cell_type": "code",
   "execution_count": null,
   "id": "1434a754",
   "metadata": {
    "ExecuteTime": {
     "end_time": "2023-09-12T22:32:17.336478Z",
     "start_time": "2023-09-12T22:32:17.331239Z"
    }
   },
   "outputs": [],
   "source": [
    "lista = [1,-1,2]\n",
    "\n",
    "print(lista)\n",
    "\n",
    "lista.insert(1, 'a') #(posição, elemento)\n",
    "\n",
    "print(lista)"
   ]
  },
  {
   "cell_type": "markdown",
   "id": "4dc33440",
   "metadata": {},
   "source": [
    "#### len()"
   ]
  },
  {
   "cell_type": "markdown",
   "id": "eeddf09c",
   "metadata": {},
   "source": [
    "Retorna o número de elementos de uma lista."
   ]
  },
  {
   "cell_type": "code",
   "execution_count": null,
   "id": "7fd6b658",
   "metadata": {
    "ExecuteTime": {
     "end_time": "2023-09-12T22:35:41.551769Z",
     "start_time": "2023-09-12T22:35:41.545469Z"
    }
   },
   "outputs": [],
   "source": [
    "lista1 = ['Allan', 'Lucas', 'Osmar', 'Ravi','Breno']\n",
    "lista2 = [39,39,40,39,35]\n",
    "lista3 = ['Victor',30,True,2+5 == 7,[1,'a',[-3,'Allan']]]\n",
    "lista4 = []\n",
    "\n",
    "print(len(lista1))\n",
    "print(len(lista2))\n",
    "print(len(lista3))\n",
    "print(len(lista4))"
   ]
  },
  {
   "cell_type": "markdown",
   "id": "64a41c92",
   "metadata": {},
   "source": [
    "Podemos aplicar a função len() a sublistas e elementos internos de uma lista."
   ]
  },
  {
   "cell_type": "code",
   "execution_count": null,
   "id": "aad3babc",
   "metadata": {
    "ExecuteTime": {
     "end_time": "2023-09-12T22:35:44.848257Z",
     "start_time": "2023-09-12T22:35:44.843728Z"
    },
    "code_folding": []
   },
   "outputs": [],
   "source": [
    "print(len(lista3[4]))\n",
    "print(len(lista3[4][2]))\n",
    "print(len(lista3[4][2][1]))"
   ]
  },
  {
   "cell_type": "markdown",
   "id": "5991a710",
   "metadata": {},
   "source": [
    "#### min() e max()"
   ]
  },
  {
   "cell_type": "markdown",
   "id": "c0bd55f3",
   "metadata": {},
   "source": [
    "Retornam, respectivamente, o menor e o maior valor de uma lista de números (int, float ou string numérica)."
   ]
  },
  {
   "cell_type": "code",
   "execution_count": null,
   "id": "114bf922",
   "metadata": {
    "ExecuteTime": {
     "end_time": "2023-09-12T22:37:26.935276Z",
     "start_time": "2023-09-12T22:37:26.929771Z"
    }
   },
   "outputs": [],
   "source": [
    "# Lista numérica\n",
    "lista1 = [1,-3,2,6,3]\n",
    "\n",
    "print(min(lista1))\n",
    "print(max(lista1))"
   ]
  },
  {
   "cell_type": "code",
   "execution_count": null,
   "id": "84a751e7",
   "metadata": {
    "ExecuteTime": {
     "end_time": "2023-09-12T22:37:59.157949Z",
     "start_time": "2023-09-12T22:37:59.154531Z"
    }
   },
   "outputs": [],
   "source": [
    "# Listas de strings numéricas (ordem numérica usual)\n",
    "lista2 =  ['1','-3','5','6','7']\n",
    "\n",
    "print(min(lista2))\n",
    "print(max(lista2))"
   ]
  },
  {
   "cell_type": "code",
   "execution_count": null,
   "id": "23a5eca2",
   "metadata": {
    "ExecuteTime": {
     "end_time": "2023-09-12T22:38:49.581755Z",
     "start_time": "2023-09-12T22:38:49.577008Z"
    }
   },
   "outputs": [],
   "source": [
    "# Listas compostas por palavras (ordem alfabética usual)\n",
    "lista3 = ['pato','rato','cobra','sapo','girafa']\n",
    "\n",
    "print(min(lista3))\n",
    "print(max(lista3))"
   ]
  },
  {
   "cell_type": "markdown",
   "id": "9d9a26ef",
   "metadata": {},
   "source": [
    "#### pop()"
   ]
  },
  {
   "cell_type": "markdown",
   "id": "5b0c6543",
   "metadata": {},
   "source": [
    "Remove o último elemento da lista e o retorna. Se um índice for especificado, remove o elemento naquela posição e o retorna."
   ]
  },
  {
   "cell_type": "code",
   "execution_count": null,
   "id": "3de35af9",
   "metadata": {
    "ExecuteTime": {
     "end_time": "2023-09-12T22:54:00.907080Z",
     "start_time": "2023-09-12T22:54:00.897583Z"
    }
   },
   "outputs": [],
   "source": [
    "lista1 = [-1,0,1,3]\n",
    "\n",
    "print(lista1.pop(1))\n",
    "\n",
    "print(lista1)"
   ]
  },
  {
   "cell_type": "markdown",
   "id": "0875986b",
   "metadata": {},
   "source": [
    "###\n",
    "<div style=\"margin-top: -20px;\">\n",
    "<hr style=\"border: 2px solid blue;\">\n",
    "\n",
    "<font color='blue'><span style=\"font-size: 18px;\"><strong>7.4.3 Funções Nativas (Built-in) e Métodos Com Listas - Parte 3</strong></span></font>\n",
    "\n",
    "<hr style=\"border: 2px solid blue;\">\n",
    "</div>"
   ]
  },
  {
   "cell_type": "markdown",
   "id": "1083983b",
   "metadata": {},
   "source": [
    "#### remove()"
   ]
  },
  {
   "cell_type": "markdown",
   "id": "280236ec",
   "metadata": {},
   "source": [
    "Remove a primeira ocorrência de um elemento em uma lista. Caso não se tenha ocorrência se retorna o erro \"ValueError: list.remove(x): x not in list\"."
   ]
  },
  {
   "cell_type": "code",
   "execution_count": null,
   "id": "f8588283",
   "metadata": {
    "ExecuteTime": {
     "end_time": "2023-09-12T23:04:23.555257Z",
     "start_time": "2023-09-12T23:04:23.550347Z"
    }
   },
   "outputs": [],
   "source": [
    "lista = [1,-1,2,1]\n",
    "\n",
    "lista.remove(1)\n",
    "\n",
    "print(lista)"
   ]
  },
  {
   "cell_type": "code",
   "execution_count": null,
   "id": "fb879c1e",
   "metadata": {
    "ExecuteTime": {
     "end_time": "2023-09-12T23:04:42.523669Z",
     "start_time": "2023-09-12T23:04:42.520122Z"
    }
   },
   "outputs": [],
   "source": [
    "lista.remove(1)\n",
    "\n",
    "print(lista)"
   ]
  },
  {
   "cell_type": "markdown",
   "id": "8fd8bad7",
   "metadata": {},
   "source": [
    "#### reverse()"
   ]
  },
  {
   "cell_type": "markdown",
   "id": "e7bb251b",
   "metadata": {},
   "source": [
    "Retorna os elementos de uma lista em ordem reversa."
   ]
  },
  {
   "cell_type": "code",
   "execution_count": null,
   "id": "fefd8731",
   "metadata": {
    "ExecuteTime": {
     "end_time": "2023-09-12T23:05:26.515395Z",
     "start_time": "2023-09-12T23:05:26.511687Z"
    }
   },
   "outputs": [],
   "source": [
    "lista = [1,-1,2,3]\n",
    "\n",
    "lista.reverse()\n",
    "\n",
    "print(lista)"
   ]
  },
  {
   "cell_type": "code",
   "execution_count": null,
   "id": "d210e1fd",
   "metadata": {
    "ExecuteTime": {
     "end_time": "2023-09-12T23:06:07.509161Z",
     "start_time": "2023-09-12T23:06:07.504308Z"
    }
   },
   "outputs": [],
   "source": [
    "lista = [1,-1,2,3]\n",
    "\n",
    "print(lista.reverse()) #Observe o valor de saída. Explicamos logo mais..."
   ]
  },
  {
   "cell_type": "markdown",
   "id": "052cc81c",
   "metadata": {},
   "source": [
    "#### sort()"
   ]
  },
  {
   "cell_type": "markdown",
   "id": "567a3d3d",
   "metadata": {},
   "source": [
    "Reordena uma lista em ordem crescente."
   ]
  },
  {
   "cell_type": "code",
   "execution_count": null,
   "id": "859cbb90",
   "metadata": {
    "ExecuteTime": {
     "end_time": "2023-09-12T23:07:01.524802Z",
     "start_time": "2023-09-12T23:07:01.520423Z"
    }
   },
   "outputs": [],
   "source": [
    "lista1 = [1,-3,2,6,3]\n",
    "lista2 = ['pato','rato','cobra']\n",
    "\n",
    "lista1.sort()\n",
    "lista2.sort()\n",
    "\n",
    "print(lista1)\n",
    "print(lista2)"
   ]
  },
  {
   "cell_type": "markdown",
   "id": "2bb799b6",
   "metadata": {},
   "source": [
    "##### <font color='red'> **Cuidado!!!** </font>"
   ]
  },
  {
   "cell_type": "code",
   "execution_count": null,
   "id": "78913768",
   "metadata": {
    "ExecuteTime": {
     "end_time": "2023-09-12T23:08:09.259674Z",
     "start_time": "2023-09-12T23:08:09.255264Z"
    }
   },
   "outputs": [],
   "source": [
    "lista3 = [0,1,2]\n",
    "lista4 = lista3\n",
    "lista3[0] = 3\n",
    "\n",
    "print(lista3)\n",
    "print(lista4)"
   ]
  },
  {
   "cell_type": "markdown",
   "id": "27a14ff2",
   "metadata": {},
   "source": [
    "*Onde foi parar lista3 original?*"
   ]
  },
  {
   "cell_type": "code",
   "execution_count": null,
   "id": "2431d845",
   "metadata": {
    "ExecuteTime": {
     "end_time": "2023-09-12T23:09:04.413731Z",
     "start_time": "2023-09-12T23:09:04.408589Z"
    }
   },
   "outputs": [],
   "source": [
    "lista5 = [1,-1,2]\n",
    "\n",
    "lista6 = lista5.sort() #Cuidado!\n",
    "print(lista5)\n",
    "print(lista6)"
   ]
  },
  {
   "cell_type": "markdown",
   "id": "463df591",
   "metadata": {},
   "source": [
    "*Por que print(lista2) resultou em 'None' e não na lista_x ordenada?*"
   ]
  },
  {
   "cell_type": "markdown",
   "id": "fa2b8e17",
   "metadata": {},
   "source": [
    "Note que ao se criar uma variável para se armazenar uma lista ou ao usar a função sort() as listas originais não estarão mais disponíveis."
   ]
  },
  {
   "cell_type": "markdown",
   "id": "35217898",
   "metadata": {},
   "source": [
    "#### sorted()"
   ]
  },
  {
   "cell_type": "markdown",
   "id": "ad7059be",
   "metadata": {},
   "source": [
    "Retorna uma lista ordenada com os elementos da lista original em ordem crescente (para números) ou alfabética."
   ]
  },
  {
   "cell_type": "code",
   "execution_count": null,
   "id": "e492df42",
   "metadata": {
    "ExecuteTime": {
     "end_time": "2023-09-12T23:10:54.910101Z",
     "start_time": "2023-09-12T23:10:54.905189Z"
    }
   },
   "outputs": [],
   "source": [
    "lista1 = ['Allan', 'Lucas', 'Osmar', 'Ravi','Breno']\n",
    "\n",
    "lista1_ord = sorted(lista1)\n",
    "\n",
    "print(lista1)\n",
    "print(lista1_ord)"
   ]
  },
  {
   "cell_type": "code",
   "execution_count": null,
   "id": "b91dc8dd",
   "metadata": {
    "ExecuteTime": {
     "end_time": "2023-06-07T16:38:27.353138Z",
     "start_time": "2023-06-07T16:38:27.346725Z"
    }
   },
   "outputs": [],
   "source": [
    "lista2 = [1,-3,2,6,3]\n",
    "\n",
    "lista2_ord = sorted(lista2)\n",
    "print(lista2)\n",
    "print(lista2_ord)"
   ]
  },
  {
   "cell_type": "markdown",
   "id": "7059c0d5",
   "metadata": {},
   "source": [
    "Note que a lista original permanece inalterada."
   ]
  },
  {
   "cell_type": "markdown",
   "id": "c57b36d0",
   "metadata": {},
   "source": [
    "#### zip()"
   ]
  },
  {
   "cell_type": "markdown",
   "id": "1695edf4",
   "metadata": {},
   "source": [
    "Combina duas ou mais listas em uma tupla de listas, onde cada tupla contém um elemento de cada tupla original."
   ]
  },
  {
   "cell_type": "code",
   "execution_count": null,
   "id": "7d876ddc",
   "metadata": {
    "ExecuteTime": {
     "end_time": "2023-09-12T23:12:52.275006Z",
     "start_time": "2023-09-12T23:12:52.271165Z"
    }
   },
   "outputs": [],
   "source": [
    "# Zipando\n",
    "lista1 = ['a', 'b', 'c']\n",
    "lista2 = [1, 2, 3]\n",
    "\n",
    "lista_combinada = list(zip(lista1, lista2))\n",
    "print(lista_combinada)"
   ]
  },
  {
   "cell_type": "code",
   "execution_count": null,
   "id": "a1f72194",
   "metadata": {
    "ExecuteTime": {
     "end_time": "2023-09-12T23:13:05.602408Z",
     "start_time": "2023-09-12T23:13:05.598326Z"
    }
   },
   "outputs": [],
   "source": [
    "print(lista1)\n",
    "print(lista2)"
   ]
  },
  {
   "cell_type": "markdown",
   "id": "8f72868a",
   "metadata": {},
   "source": [
    "## <div style=\"margin-top: -20px;\">\n",
    "<hr style=\"border: 2px solid blue;\">\n",
    "\n",
    "<font color='blue'><span style=\"font-size: 22px;\"><strong>Exercícios</strong></span></font>\n",
    "\n",
    "<hr style=\"border: 2px solid blue;\">\n",
    "</div>"
   ]
  },
  {
   "cell_type": "markdown",
   "id": "07d321c8",
   "metadata": {},
   "source": [
    "*Use, sempre que possível, a função print para apresentar uma resposta final explicada. Por exemplo, se **25** é o maior valor de uma lista exiba uma resposta final **O maior valor da lista é 25**.*"
   ]
  },
  {
   "cell_type": "markdown",
   "id": "839159b0",
   "metadata": {},
   "source": [
    "#### Exercício 1"
   ]
  },
  {
   "cell_type": "markdown",
   "id": "f90c8f6b",
   "metadata": {},
   "source": [
    "Considere a lista frutas = ['manga','laranja','goiaba','uva','pera']. Usando indexação:\n",
    "\n",
    "a) Imprima a primeira fruta da lista.\n",
    "\n",
    "b) Imprima a terceira fruta da lista.\n",
    "\n",
    "c) Imprima a segunda letra da quarta fruta.\n",
    "\n",
    "d) Crie uma nova lista cujos os elementos da lista original são estejam em ordem alfabética."
   ]
  },
  {
   "cell_type": "code",
   "execution_count": null,
   "id": "112a7275",
   "metadata": {},
   "outputs": [],
   "source": [
    "# Lista de frutas\n",
    "frutas = ['manga','laranja','goiaba','uva','pera']"
   ]
  },
  {
   "cell_type": "code",
   "execution_count": null,
   "id": "86e34813",
   "metadata": {},
   "outputs": [],
   "source": [
    "# Sua resposta\n",
    "# a)\n",
    "\n"
   ]
  },
  {
   "cell_type": "code",
   "execution_count": null,
   "id": "637f02ef",
   "metadata": {},
   "outputs": [],
   "source": [
    "# Sua resposta\n",
    "# b)\n",
    "\n"
   ]
  },
  {
   "cell_type": "code",
   "execution_count": null,
   "id": "452efa0d",
   "metadata": {},
   "outputs": [],
   "source": [
    "# Sua resposta\n",
    "# c)\n",
    "\n"
   ]
  },
  {
   "cell_type": "code",
   "execution_count": null,
   "id": "ef289894",
   "metadata": {},
   "outputs": [],
   "source": [
    "# Sua resposta\n",
    "# d)\n",
    "\n"
   ]
  },
  {
   "cell_type": "markdown",
   "id": "c6868ad5",
   "metadata": {},
   "source": [
    "#### Exercício 2"
   ]
  },
  {
   "cell_type": "markdown",
   "id": "2d4e977d",
   "metadata": {},
   "source": [
    "Considere a lista de valores \n",
    "\n",
    "[129, 17, 36, 97, 20, 144, 65, 50, 70, 108, 105, 147, 78, 81, 94, 102, 145, 93, 146, 98, 88, 115, 47, 133, 89, 19, 140, 48, 23, 38, 10, 43, 52, 28, 150, 130, 68, 60, 25, 62, 71, 91, 59, 64, 132, 5, 126, 95, 13, 114, 125, 118, 57, 148, 3, 77, 139, 99, 40, 73, 7, 142, 66, 92, 106, 74, 41, 101, 76, 119, 80, 121, 128, 107, 14, 32, 82, 8, 34, 85, 86, 137, 103, 149, 90, 15, 100, 31, 136, 124, 69, 1, 39, 113, 53, 11, 127, 2, 67, 46]\n",
    "\n",
    "a) Determine o maior elemento desta lista e sua posição (indexação).\n",
    "\n",
    "b) O remova da lista elemento obtido no item \"a\".\n",
    "\n",
    "c) Determine o valor $x$ da lista obtida no item \"b\" tal que exatamente $50$ valores são menores que ele."
   ]
  },
  {
   "cell_type": "code",
   "execution_count": null,
   "id": "69dd6514",
   "metadata": {},
   "outputs": [],
   "source": [
    "valores = [129, 17, 36, 97, 20, 144, 65, 50, 70, 108, 105, 147, 78, 81, 94, 102,\\\n",
    "           145, 93, 146, 98, 88, 115, 47, 133, 89, 19, 140, 48, 23, 38, 10, 43, 52,\\\n",
    "           28, 150, 130, 68, 60, 25, 62, 71, 91, 59, 64, 132, 5, 126, 95, 13, 114, 125,\\\n",
    "           118, 57, 148, 3, 77, 139, 99, 40, 73, 7, 142, 66, 92, 106, 74, 41, 101, 76,\\\n",
    "           119, 80, 121, 128, 107, 14, 32, 82, 8, 34, 85, 86, 137, 103, 149, 90, 15,\\\n",
    "           100, 31, 136, 124, 69, 1, 39, 113, 53, 11, 127, 2, 67, 46]"
   ]
  },
  {
   "cell_type": "code",
   "execution_count": null,
   "id": "2f96351e",
   "metadata": {},
   "outputs": [],
   "source": [
    "# Sua resposta\n",
    "# a)\n",
    "\n"
   ]
  },
  {
   "cell_type": "code",
   "execution_count": null,
   "id": "3862dfce",
   "metadata": {},
   "outputs": [],
   "source": [
    "# Sua resposta\n",
    "# b)\n",
    "\n"
   ]
  },
  {
   "cell_type": "code",
   "execution_count": null,
   "id": "14d9cfa4",
   "metadata": {},
   "outputs": [],
   "source": [
    "# Sua resposta\n",
    "# c)\n",
    "\n"
   ]
  },
  {
   "cell_type": "markdown",
   "id": "f639b232",
   "metadata": {},
   "source": [
    "#### Exercício 3"
   ]
  },
  {
   "cell_type": "markdown",
   "id": "b52d5370",
   "metadata": {},
   "source": [
    "Considere as lista de listas contendo nome, peso e altura de três mulheres:\n",
    "\n",
    "dados = [['Maria', 52, 1.50], ['Lúcia', 54, 1.49], ['Carla', 63, 1.51]]\n",
    "\n",
    "a) Imprima os nomes das três mulheres.\n",
    "\n",
    "b) Verifique que o nome Inês não pertence nenhuma das sublistas. Em seguida, insira os dados referentes à Inês, *Peso: 59*, *Altura: 1.62*.\n",
    "\n",
    "c) Calcule a média aritmética dos pesos das quatro mulheres.\n",
    "\n",
    "d) Remova os dados referentes a Lúcia e calcule a média aritmética das alturas das mulheres restantes."
   ]
  },
  {
   "cell_type": "code",
   "execution_count": null,
   "id": "8ece99ba",
   "metadata": {},
   "outputs": [],
   "source": [
    "# Sua resposta\n",
    "# a)\n"
   ]
  },
  {
   "cell_type": "code",
   "execution_count": null,
   "id": "d4271193",
   "metadata": {},
   "outputs": [],
   "source": [
    "# Sua resposta\n",
    "# b)\n"
   ]
  },
  {
   "cell_type": "code",
   "execution_count": null,
   "id": "9f83fd35",
   "metadata": {},
   "outputs": [],
   "source": [
    "# Sua resposta\n",
    "# c)\n"
   ]
  },
  {
   "cell_type": "code",
   "execution_count": null,
   "id": "ef9891c1",
   "metadata": {},
   "outputs": [],
   "source": [
    "# Sua resposta\n",
    "# d)\n"
   ]
  },
  {
   "cell_type": "markdown",
   "id": "b7b8f50c",
   "metadata": {},
   "source": [
    "#### Exercício 4"
   ]
  },
  {
   "cell_type": "markdown",
   "id": "908f7e0d",
   "metadata": {},
   "source": [
    "Considere as listas de produtos e a lista dos respectivos preços (indexação correspondente):\n",
    "\n",
    "produtos = ['Licor', 'Vinho', 'Refrigerante', 'Uísque']\n",
    "\n",
    "precos = [15.00, 27.35, 7.49, 74.99]\n",
    "\n",
    "a) Construa uma lista de tuplas contendo o produto e o preço com produtos.\n",
    "\n",
    "b) Calcule o preço médio dos produtos com duas casas decimais."
   ]
  },
  {
   "cell_type": "code",
   "execution_count": null,
   "id": "4ca5f257",
   "metadata": {},
   "outputs": [],
   "source": [
    "produtos = ['Licor', 'Vinho', 'Refrigerante', 'Uísque']\n",
    "precos = [15.00, 27.35, 7.49, 74.99]"
   ]
  },
  {
   "cell_type": "code",
   "execution_count": null,
   "id": "c6c161a0",
   "metadata": {},
   "outputs": [],
   "source": [
    "# Sua resposta\n",
    "# a)\n",
    "\n"
   ]
  },
  {
   "cell_type": "code",
   "execution_count": null,
   "id": "a3285538",
   "metadata": {},
   "outputs": [],
   "source": [
    "# Sua resposta\n",
    "# b)\n",
    "\n"
   ]
  },
  {
   "cell_type": "markdown",
   "id": "f3532dee",
   "metadata": {},
   "source": [
    "#### Exercício 5"
   ]
  },
  {
   "cell_type": "markdown",
   "id": "0c78afbe",
   "metadata": {},
   "source": [
    "Use o ChatGPT no **Exercício 4** para:\n",
    "\n",
    "a) Construir uma lista de tuplas contendo o produto e o preço com produtos ordenados em ordem alfabética.\n",
    "\n",
    "b) Construir uma lista de tuplas contendo o produto e o preço com preços ordenados em ordem crescente."
   ]
  },
  {
   "cell_type": "code",
   "execution_count": null,
   "id": "8a6ac2d4",
   "metadata": {},
   "outputs": [],
   "source": [
    "# Resposta do ChatGPT\n",
    "# a)\n",
    "\n"
   ]
  },
  {
   "cell_type": "code",
   "execution_count": null,
   "id": "eb9bea22",
   "metadata": {},
   "outputs": [],
   "source": [
    "# Resposta do ChatGPT\n",
    "# b)\n",
    "\n"
   ]
  },
  {
   "cell_type": "markdown",
   "id": "fc98d945",
   "metadata": {},
   "source": [
    "### <div style=\"margin-top: -20px;\">\n",
    "<hr style=\"border: 2px solid blue;\">\n",
    "\n",
    "<font color='blue'><span style=\"font-size: 18px;\"><strong>Soluções dos Exercícios</strong></span></font>\n",
    "\n",
    "<hr style=\"border: 2px solid blue;\">\n",
    "</div>"
   ]
  },
  {
   "cell_type": "markdown",
   "id": "865afe41",
   "metadata": {},
   "source": [
    "#### Solução do Exercício 1"
   ]
  },
  {
   "cell_type": "code",
   "execution_count": null,
   "id": "8a51de13",
   "metadata": {},
   "outputs": [],
   "source": [
    "frutas = ['manga','laranja','goiaba','uva','pera']"
   ]
  },
  {
   "cell_type": "code",
   "execution_count": null,
   "id": "976b145b",
   "metadata": {},
   "outputs": [],
   "source": [
    "# a)\n",
    "\n",
    "print(f' A primeira fruta da lista é {frutas[0]}.')"
   ]
  },
  {
   "cell_type": "code",
   "execution_count": null,
   "id": "536a21a5",
   "metadata": {},
   "outputs": [],
   "source": [
    "# b)\n",
    "\n",
    "print(f' A primeira fruta da lista é {frutas[2]}.')"
   ]
  },
  {
   "cell_type": "code",
   "execution_count": null,
   "id": "cdfb0e62",
   "metadata": {},
   "outputs": [],
   "source": [
    "# c)\n",
    "\n",
    "print(f' A segunda letra da quarta fruta da lista é {frutas[3][1]}.')"
   ]
  },
  {
   "cell_type": "code",
   "execution_count": null,
   "id": "2d292ad4",
   "metadata": {},
   "outputs": [],
   "source": [
    "# d) \n",
    "\n",
    "# Ordenando a lista de frutas em ordem alfabética\n",
    "frutas_ordenadas = sorted(frutas)\n",
    "\n",
    "print(f'A lista de frutas em ordem alfabética é {frutas_ordenadas}.')"
   ]
  },
  {
   "cell_type": "markdown",
   "id": "57aa7f1f",
   "metadata": {},
   "source": [
    "#### Solução do Exercício 2"
   ]
  },
  {
   "cell_type": "code",
   "execution_count": null,
   "id": "ae1099b9",
   "metadata": {},
   "outputs": [],
   "source": [
    "valores = [129, 17, 36, 97, 20, 144, 65, 50, 70, 108, 105, 147, 78, 81, 94, 102, 145, 93, 146, 98, 88, 115, 47, 133, 89, 19, 140, 48, 23, 38, 10, 43, 52, 28, 150, 130, 68, 60, 25, 62, 71, 91, 59, 64, 132, 5, 126, 95, 13, 114, 125, 118, 57, 148, 3, 77, 139, 99, 40, 73, 7, 142, 66, 92, 106, 74, 41, 101, 76, 119, 80, 121, 128, 107, 14, 32, 82, 8, 34, 85, 86, 137, 103, 149, 90, 15, 100, 31, 136, 124, 69, 1, 39, 113, 53, 11, 127, 2, 67, 46]"
   ]
  },
  {
   "cell_type": "code",
   "execution_count": null,
   "id": "0fe9e78c",
   "metadata": {},
   "outputs": [],
   "source": [
    "# a) \n",
    "\n",
    "# Determinando o maior valor \n",
    "maior = max(valores)\n",
    "\n",
    "# Determinando a posicao do maior valor \n",
    "posicao = valores.index(maior)\n",
    "\n",
    "# Resposta final\n",
    "print(f'O maior valor presente na lista é {maior} e sua posição é {posicao}.')"
   ]
  },
  {
   "cell_type": "code",
   "execution_count": null,
   "id": "4de3444c",
   "metadata": {},
   "outputs": [],
   "source": [
    "# b)\n",
    "\n",
    "# Removendo o maior valor obtido no item b\n",
    "valores.remove(maior)\n",
    "\n",
    "# Resposta final (a título de conferência)\n",
    "print(valores)"
   ]
  },
  {
   "cell_type": "markdown",
   "id": "befa931b",
   "metadata": {},
   "source": [
    "Uma das formas de se resolver o item \"c\" é considerarmos a lista ordenada em ordem crescente. Neste caso, basta localizarmos o item de indexação 50 (posição 51). Estando a lista ordenada este valor atenderá ao que foi solicitado."
   ]
  },
  {
   "cell_type": "code",
   "execution_count": null,
   "id": "5e55cf64",
   "metadata": {},
   "outputs": [],
   "source": [
    "# c)\n",
    "\n",
    "# Ordenando a lista em ordem crescente\n",
    "valores.sort()\n",
    "\n",
    "# Obtendo o valor da posição 51/indexação 50 da lista ordenada\n",
    "x = valores[50]\n",
    "\n",
    "print(f'O valor {x} da lista obtida no item \"b\" tal que exatamente 50 valores são menores que ele.')"
   ]
  },
  {
   "cell_type": "markdown",
   "id": "1d95c790",
   "metadata": {},
   "source": [
    "#### Solução do Exercício 3"
   ]
  },
  {
   "cell_type": "code",
   "execution_count": null,
   "id": "c9850e51",
   "metadata": {},
   "outputs": [],
   "source": [
    "dados = [['Maria', 52, 1.50], ['Lúcia', 54, 1.49], ['Carla', 63, 1.51]]"
   ]
  },
  {
   "cell_type": "code",
   "execution_count": null,
   "id": "71960159",
   "metadata": {},
   "outputs": [],
   "source": [
    "# a)\n",
    "\n",
    "# Resposta final\n",
    "print(f'As três mulheres que compõe a lista são: {dados[0][0]}, {dados[1][0]} e {dados[2][0]}')"
   ]
  },
  {
   "cell_type": "code",
   "execution_count": null,
   "id": "60d06530",
   "metadata": {},
   "outputs": [],
   "source": [
    "# b)\n",
    "\n",
    "# Verificação de pertinência\n",
    "print('Inês' in dados)"
   ]
  },
  {
   "cell_type": "code",
   "execution_count": null,
   "id": "d9aa33fc",
   "metadata": {},
   "outputs": [],
   "source": [
    "# Continuação\n",
    "\n",
    "# Resposta final\n",
    "dados.append(['Inês', 59, 1.62])\n",
    "\n",
    "# Impressão (a título de verificação)\n",
    "print(dados)"
   ]
  },
  {
   "cell_type": "code",
   "execution_count": null,
   "id": "d447416c",
   "metadata": {},
   "outputs": [],
   "source": [
    "# c)\n",
    "\n",
    "# Calculando o peso médio das mulheres listadas\n",
    "media_pesos = (dados[0][1] + dados[1][1] + dados[2][1] + dados[3][1])/4\n",
    "\n",
    "# Resposta final\n",
    "print(f'O peso médio das mulheres presentes na lista é {media_pesos}.')"
   ]
  },
  {
   "cell_type": "code",
   "execution_count": null,
   "id": "a5cf3e24",
   "metadata": {},
   "outputs": [],
   "source": [
    "# d) \n",
    "\n",
    "# Removendo o nome \"Lúcia\" da lista\n",
    "dados.remove(['Lúcia', 54, 1.49])\n",
    "\n",
    "# Impressão da nova lista (a título de verificação)\n",
    "print(dados)"
   ]
  },
  {
   "cell_type": "code",
   "execution_count": null,
   "id": "901d8818",
   "metadata": {},
   "outputs": [],
   "source": [
    "# Continuação\n",
    "\n",
    "# Calculando a média aritmética das alturas das mulheres restantes\n",
    "media_alturas = (dados[0][2] + dados[1][2] + dados[2][2])/3\n",
    "\n",
    "# Resposta final\n",
    "print(f'A altura média das mulheres, exceto Lúcia, é {media_alturas}.')"
   ]
  },
  {
   "cell_type": "markdown",
   "id": "8076cbe8",
   "metadata": {},
   "source": [
    "#### Solução do Exercício 4"
   ]
  },
  {
   "cell_type": "code",
   "execution_count": null,
   "id": "a79c37c2",
   "metadata": {},
   "outputs": [],
   "source": [
    "produtos = ['Licor', 'Vinho', 'Refrigerante', 'Uísque']\n",
    "precos = [15.00, 27.35, 7.49, 74.99]"
   ]
  },
  {
   "cell_type": "code",
   "execution_count": null,
   "id": "6ab6b1fd",
   "metadata": {},
   "outputs": [],
   "source": [
    "# a)\n",
    "\n",
    "# Construindo a lista de tuplas (produto,preço)\n",
    "prod_precos = list(zip(produtos, precos))\n",
    "\n",
    "# Imrpimindo a lista de tuplas (a título de conferência)\n",
    "print(prod_precos)"
   ]
  },
  {
   "cell_type": "code",
   "execution_count": null,
   "id": "a5f627f6",
   "metadata": {},
   "outputs": [],
   "source": [
    "# b) \n",
    "\n",
    "# Somando os preços de todos os produtos\n",
    "soma = (prod_precos[0][1] + prod_precos[1][1] + prod_precos[2][1] + prod_precos[3][1])\n",
    "\n",
    "# Calculando a média aritmética (dividindo a soma pela quantidade de produtos)\n",
    "media_precos = soma/len(produtos)\n",
    "\n",
    "# Resposta final (média aritmética arredondada)\n",
    "print(round(media_precos,2))"
   ]
  },
  {
   "cell_type": "markdown",
   "id": "0e651dbe",
   "metadata": {},
   "source": [
    "#### Solução do Exercício 5"
   ]
  },
  {
   "cell_type": "markdown",
   "id": "6811350f",
   "metadata": {},
   "source": [
    "Apenas copie o enunciado do exercício, juntamente com as listas e cole no prompt do ChatGPT:"
   ]
  },
  {
   "cell_type": "markdown",
   "id": "9c6ab93b",
   "metadata": {},
   "source": [
    "<center> <img src=\"fig7_1.jpg\" alt=\"jpg_python\" width=\"600\" height=\"\"> </center>"
   ]
  },
  {
   "cell_type": "code",
   "execution_count": null,
   "id": "68c37169",
   "metadata": {},
   "outputs": [],
   "source": [
    "# a)\n",
    "\n",
    "produtos = ['Licor', 'Vinho', 'Refrigerante', 'Uísque']\n",
    "precos = [15.00, 27.35, 7.49, 74.99]\n",
    "\n",
    "# Criando a lista de tuplas\n",
    "tuplas = list(zip(produtos, precos))\n",
    "\n",
    "# Ordenando a lista pelo nome do produto (índice 0 da tupla)\n",
    "tuplas_alfabetica = sorted(tuplas, key=lambda x: x[0])\n",
    "\n",
    "print(tuplas_alfabetica)"
   ]
  },
  {
   "cell_type": "markdown",
   "id": "178e6573",
   "metadata": {},
   "source": [
    "<center> <img src=\"fig7_2.jpg\" alt=\"jpg_python\" width=\"600\" height=\"\"> </center>"
   ]
  },
  {
   "cell_type": "code",
   "execution_count": null,
   "id": "abc77af7",
   "metadata": {},
   "outputs": [],
   "source": [
    "# Ordenando a lista pelo preço do produto (índice 1 da tupla)\n",
    "tuplas_preco = sorted(tuplas, key=lambda x: x[1])\n",
    "\n",
    "print(tuplas_preco)"
   ]
  }
 ],
 "metadata": {
  "kernelspec": {
   "display_name": "Python 3 (ipykernel)",
   "language": "python",
   "name": "python3"
  },
  "language_info": {
   "codemirror_mode": {
    "name": "ipython",
    "version": 3
   },
   "file_extension": ".py",
   "mimetype": "text/x-python",
   "name": "python",
   "nbconvert_exporter": "python",
   "pygments_lexer": "ipython3",
   "version": "3.11.5"
  },
  "varInspector": {
   "cols": {
    "lenName": 16,
    "lenType": 16,
    "lenVar": 40
   },
   "kernels_config": {
    "python": {
     "delete_cmd_postfix": "",
     "delete_cmd_prefix": "del ",
     "library": "var_list.py",
     "varRefreshCmd": "print(var_dic_list())"
    },
    "r": {
     "delete_cmd_postfix": ") ",
     "delete_cmd_prefix": "rm(",
     "library": "var_list.r",
     "varRefreshCmd": "cat(var_dic_list()) "
    }
   },
   "position": {
    "height": "166.844px",
    "left": "1058px",
    "right": "20px",
    "top": "120px",
    "width": "362px"
   },
   "types_to_exclude": [
    "module",
    "function",
    "builtin_function_or_method",
    "instance",
    "_Feature"
   ],
   "window_display": false
  }
 },
 "nbformat": 4,
 "nbformat_minor": 5
}
