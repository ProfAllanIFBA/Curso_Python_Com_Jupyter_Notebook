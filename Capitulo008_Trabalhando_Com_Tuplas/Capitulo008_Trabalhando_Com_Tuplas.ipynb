{
 "cells": [
  {
   "cell_type": "markdown",
   "id": "b42396bc",
   "metadata": {},
   "source": [
    "<center> <img src=\"logo_ifba.jpg\" alt=\"jpg_python\" width=\"100\" height=\"\"> </center>\n",
    "<br><br>\n",
    "<center> <img src=\"logo_coext.jpg\" alt=\"jpg_python\" width=\"200\" height=\"\"> </center>\n",
    "<br><br>\n",
    "<div align=\"center\"><span style=\"font-size: 26px;\"><strong>Python Com Jupyter Notebook</strong></span></div><br><br>\n",
    "<center><div style=\"text-align:center\">    <a href=\"https://colab.research.google.com/github/ProfAllanIFBA/Curso_Python_Com_Jupyter_Notebook/blob/main/Capitulo008_Trabalhando_Com_Tuplas/Capitulo008_Trabalhando_Com_Tuplas.ipynb\">Link Colab</a> \n",
    "</div><br><br></center>\n",
    "<center> <img src=\"python_gif.gif\" alt=\"gif_python\" width=\"80\"> </center>"
   ]
  },
  {
   "cell_type": "markdown",
   "id": "a993b4fc",
   "metadata": {},
   "source": [
    "Este material apresenta uma explicação detalhada sobre o uso do software de programação em Python chamado Jupyter Notebook, com foco na análise de dados. Abordaremos desde estruturas básicas, como listas e dicionários, até estruturas mais complexas voltadas para a análise de dados, como pandas e seaborn, além de ferramentas destinadas à inteligência artificial.\n",
    "\n",
    "\n",
    "<font color='red'> <u>Este é um material de uso público e totalmente gratuito</u>. Contudo, eventuais edições são de responsabilidade de quem as fizer. </font>\n",
    "\n",
    "Você pode ajudar a melhorar este material!\n",
    "\n",
    "Contato e Sugestões: allansoares@ifba.edu.br.\n",
    "\n",
    "[**Equipe Executora**](https://github.com/ProfAllanIFBA/Curso_Python_Com_Jupyter_Notebook/blob/main/Capitulo000_Equipe/Capitulo000_Equipe.ipynb)"
   ]
  },
  {
   "cell_type": "markdown",
   "id": "0b0e7d67",
   "metadata": {},
   "source": [
    "### <center> <font color='red'> Vídeo Aulas <img src=\"youtube.gif\" alt=\"jpg_python\" width=\"100\" height=\"\"> </font> </center>"
   ]
  },
  {
   "cell_type": "markdown",
   "id": "c460cf1b",
   "metadata": {},
   "source": [
    "[Exemplos Iniciais Envolvendo Tuplas em Python](https://youtu.be/JMJCnIjDGYg)\n",
    "\n",
    "[Indexação de Uma Tupla em Python](https://youtu.be/ND6M9l5xZbY)\n",
    "\n",
    "[Verficação de Pertinência e Concatenação de Listas no Python](https://youtu.be/HF-WqdHpXRE)\n",
    "\n",
    "[Operando Elementos Internos de Tuplas no Python](https://youtu.be/ZI6x6wKau3w)\n",
    "\n",
    "[Convertendo Tuplas em Listas e Listas em Tuplas no Python](https://youtu.be/4DoFGHZVTo8)\n",
    "\n",
    "[Atribuição de Variáveis em Linha Usando Tuplas no Python  (Desempacotamento)](https://youtu.be/EK-CFREIp0c)\n",
    "\n",
    "[Funções Nativas e Métodos Com Tuplas no Python - Parte 1](https://youtu.be/uTAwQMns8J0)\n",
    "\n",
    "[Funções Nativas e Métodos Com Tuplas no Python - Parte 2](https://youtu.be/XAwxjbQNkmM)"
   ]
  },
  {
   "cell_type": "markdown",
   "id": "36e6ec44",
   "metadata": {},
   "source": [
    "<div style=\"border: 2px solid black; padding: 10px; width: 100%; background-color: lightgray; display: flex; align-items: center;\">\n",
    "    <h1 style=\"color: red; text-align: center; margin: auto;\">\n",
    "        Capítulo 8: Trabalhando Com Tuplas\n",
    "    </h1>\n",
    "</div>\n",
    "\n",
    "<font color='red'></font>\n",
    "<a href=\"\"></a>"
   ]
  },
  {
   "cell_type": "markdown",
   "id": "6849f6ee",
   "metadata": {},
   "source": [
    "Uma <u>tupla</u> em Python é uma estrutura de dados semelhante a uma lista, mas com uma diferença crucial: elas são imutáveis. Isso significa que uma vez que uma tupla é criada, seus valores não podem ser alterados. Essa característica pode ser útil em muitas situações, como quando você tem um conjunto fixo de valores que não deve ser modificado ao longo do tempo."
   ]
  },
  {
   "cell_type": "markdown",
   "id": "7b408e43",
   "metadata": {},
   "source": [
    "##\n",
    "<div style=\"margin-top: -20px;\">\n",
    "<hr style=\"border: 2px solid blue;\">\n",
    "\n",
    "<font color='blue'><span style=\"font-size: 22px;\"><strong>8.1 Exemplos Inciais</strong></span></font>\n",
    "\n",
    "<hr style=\"border: 2px solid blue;\">\n",
    "</div>"
   ]
  },
  {
   "cell_type": "markdown",
   "id": "7df594a7",
   "metadata": {},
   "source": [
    "#### *Exemplos: Tuplas*"
   ]
  },
  {
   "cell_type": "code",
   "execution_count": null,
   "id": "b1e05fc6",
   "metadata": {
    "ExecuteTime": {
     "end_time": "2023-09-13T11:35:02.921281Z",
     "start_time": "2023-09-13T11:35:02.884607Z"
    }
   },
   "outputs": [],
   "source": [
    "# Tuplas\n",
    "disciplinas = ('Matemática','Física','Química','Português','Geografia','História')\n",
    "notas = (9.5,8.7,9.0,8.0,8.1,8.5)\n",
    "mix = ('Casa',10,[1,2],(-1,'3',[39,'Professor']))"
   ]
  },
  {
   "cell_type": "code",
   "execution_count": null,
   "id": "4f6f060f",
   "metadata": {
    "ExecuteTime": {
     "end_time": "2023-09-13T11:35:21.025665Z",
     "start_time": "2023-09-13T11:35:21.020116Z"
    }
   },
   "outputs": [],
   "source": [
    "# Imprimindo as tuplas\n",
    "print(disciplinas)\n",
    "print(notas)\n",
    "print(mix)"
   ]
  },
  {
   "cell_type": "code",
   "execution_count": null,
   "id": "5163fc41",
   "metadata": {
    "ExecuteTime": {
     "end_time": "2023-09-13T11:35:51.520547Z",
     "start_time": "2023-09-13T11:35:51.516230Z"
    }
   },
   "outputs": [],
   "source": [
    "# Consultando o tipo de variável/estrutura\n",
    "print(type(disciplinas))\n",
    "print(type(notas))\n",
    "print(type(mix))"
   ]
  },
  {
   "cell_type": "markdown",
   "id": "2b28df49",
   "metadata": {},
   "source": [
    "<font color='red'> Lembre-se. Tuplas são imutáveis. </font>"
   ]
  },
  {
   "cell_type": "code",
   "execution_count": null,
   "id": "8018d538",
   "metadata": {
    "ExecuteTime": {
     "end_time": "2023-09-13T11:36:50.784526Z",
     "start_time": "2023-09-13T11:36:49.923810Z"
    }
   },
   "outputs": [],
   "source": [
    "# Tuplas não comportam a função append()\n",
    "disciplinas.append('Biologia')\n",
    "print(disciplias)"
   ]
  },
  {
   "cell_type": "markdown",
   "id": "3dc02ca2",
   "metadata": {},
   "source": [
    "##\n",
    "<div style=\"margin-top: -20px;\">\n",
    "<hr style=\"border: 2px solid blue;\">\n",
    "\n",
    "<font color='blue'><span style=\"font-size: 22px;\"><strong>8.2 Indexação de Uma Tupla</strong></span></font>\n",
    "\n",
    "<hr style=\"border: 2px solid blue;\">\n",
    "</div>"
   ]
  },
  {
   "cell_type": "markdown",
   "id": "e02b7f8a",
   "metadata": {},
   "source": [
    "A indexação de uma tupla funciona semelhante à indexação de uma lista, isto é, cada elemento da tupla é associado a um índice numérico. O índice é utilizado para acessar elementos individuais da tupla. O primeiro elemento da tupla tem índice 0, o segundo tem índice 1 e assim por diante."
   ]
  },
  {
   "cell_type": "markdown",
   "id": "db92e24e",
   "metadata": {},
   "source": [
    "#### *Exemplo: Utilizando a indexação*"
   ]
  },
  {
   "cell_type": "code",
   "execution_count": null,
   "id": "23a052e0",
   "metadata": {
    "ExecuteTime": {
     "end_time": "2023-09-13T11:45:33.350099Z",
     "start_time": "2023-09-13T11:45:33.346748Z"
    }
   },
   "outputs": [],
   "source": [
    "# Tupla\n",
    "notas = (9.5,8.7,9.0,8.0,8.1,8.5)\n",
    "\n",
    "# Posições 9.5->0, 8.7->1, 9.0->2, 8.0->3, 8.1->4, 8.5->5"
   ]
  },
  {
   "cell_type": "code",
   "execution_count": null,
   "id": "44f43f48",
   "metadata": {
    "ExecuteTime": {
     "end_time": "2023-09-13T11:45:55.413103Z",
     "start_time": "2023-09-13T11:45:55.409126Z"
    }
   },
   "outputs": [],
   "source": [
    "# Imprimindo o n-ésimo elemento de uma tupla \n",
    "print(notas[2])"
   ]
  },
  {
   "cell_type": "code",
   "execution_count": null,
   "id": "f3367935",
   "metadata": {
    "ExecuteTime": {
     "end_time": "2023-09-13T11:46:03.999579Z",
     "start_time": "2023-09-13T11:46:03.995902Z"
    }
   },
   "outputs": [],
   "source": [
    "# Imprimindo a partir do n-ésimo elemento de uma tupla\n",
    "print(notas[2:])"
   ]
  },
  {
   "cell_type": "code",
   "execution_count": null,
   "id": "37a08bff",
   "metadata": {
    "ExecuteTime": {
     "end_time": "2023-09-13T11:46:27.819951Z",
     "start_time": "2023-09-13T11:46:27.815764Z"
    }
   },
   "outputs": [],
   "source": [
    "# Imprimindo os n elemetos de uma tupla - a indexação começou de 1\n",
    "print(notas[:2])"
   ]
  },
  {
   "cell_type": "code",
   "execution_count": null,
   "id": "33d90496",
   "metadata": {
    "ExecuteTime": {
     "end_time": "2023-09-13T11:47:29.036653Z",
     "start_time": "2023-09-13T11:47:29.033067Z"
    }
   },
   "outputs": [],
   "source": [
    "# Imprimindo em n-ésimo elemento de uma tupla em ordem reversa \n",
    "# a indexação negativa começa de 1, contudo, usa-se o sinal '-' para se ter a ordem reversa\n",
    "print(notas[-2])"
   ]
  },
  {
   "cell_type": "code",
   "execution_count": null,
   "id": "ac96e8a8",
   "metadata": {
    "ExecuteTime": {
     "end_time": "2023-09-13T11:47:46.004162Z",
     "start_time": "2023-09-13T11:47:45.999866Z"
    }
   },
   "outputs": [],
   "source": [
    "# Imprimindo os n últimos elementos de uma tupla\n",
    "print(notas[-3:])"
   ]
  },
  {
   "cell_type": "code",
   "execution_count": null,
   "id": "23d48b29",
   "metadata": {
    "ExecuteTime": {
     "end_time": "2023-09-13T11:48:15.861856Z",
     "start_time": "2023-09-13T11:48:15.858749Z"
    }
   },
   "outputs": [],
   "source": [
    "# Imprimindo todos elementos de uma tupla exceto os n últimos\n",
    "print(notas[:-2])"
   ]
  },
  {
   "cell_type": "code",
   "execution_count": null,
   "id": "04c75998",
   "metadata": {
    "ExecuteTime": {
     "end_time": "2023-09-13T11:49:13.837487Z",
     "start_time": "2023-09-13T11:49:13.833068Z"
    }
   },
   "outputs": [],
   "source": [
    "# Imprimindo do n-ésimo ao m-ésimo elementos de uma tupla\n",
    "print(notas[1:5])"
   ]
  },
  {
   "cell_type": "code",
   "execution_count": null,
   "id": "6a97709a",
   "metadata": {
    "ExecuteTime": {
     "end_time": "2023-09-13T11:49:29.284820Z",
     "start_time": "2023-09-13T11:49:29.280490Z"
    }
   },
   "outputs": [],
   "source": [
    "# Imprimindo, em ordem reversa, do n-ésimo ao (m+1)-ésimo elementos de uma tupla\n",
    "print(notas[-4:-1])"
   ]
  },
  {
   "cell_type": "markdown",
   "id": "f5f44b21",
   "metadata": {},
   "source": [
    "#### *Exemplo: Utilizando a subindexação*"
   ]
  },
  {
   "cell_type": "markdown",
   "id": "c92e4669",
   "metadata": {},
   "source": [
    "De modo análogo à listas podemos guardar tuplas dentro de tuplas, listas dentro de tuplas e vice-versa como estruturas aninhadas. Essas tuplas também são indexadas, o que significa que cada elemento da tupla aninhada é associado a um índice numérico. Para acessar um elemento de uma tupla aninhada, primeiro é necessário acessar a tupla externa pelo seu índice e, em seguida, acessar a tupla/lista interna pelo seu índice."
   ]
  },
  {
   "cell_type": "code",
   "execution_count": null,
   "id": "65d7613f",
   "metadata": {
    "ExecuteTime": {
     "end_time": "2023-09-13T11:57:41.181865Z",
     "start_time": "2023-09-13T11:57:41.173364Z"
    }
   },
   "outputs": [],
   "source": [
    "# Tupla mista\n",
    "mix = ('Casa',10,[1,2],(-1,'3',[39,'Professor']))"
   ]
  },
  {
   "cell_type": "code",
   "execution_count": null,
   "id": "78e94c59",
   "metadata": {
    "ExecuteTime": {
     "end_time": "2023-09-13T11:57:41.619897Z",
     "start_time": "2023-09-13T11:57:41.613760Z"
    }
   },
   "outputs": [],
   "source": [
    "# Imprimindo valores indexados\n",
    "print(mix[0])\n",
    "print(mix[0][2])    # Lembre-se que uma variável tipo string também é indexada\n",
    "print(mix[3])\n",
    "print(mix[3][0])\n",
    "print(mix[3][1])\n",
    "print(mix[3][2])\n",
    "print(mix[3][2][0])\n",
    "print(mix[3][2][1])\n",
    "print(mix[3][2][1][2])"
   ]
  },
  {
   "cell_type": "code",
   "execution_count": null,
   "id": "77398bf8",
   "metadata": {
    "ExecuteTime": {
     "end_time": "2023-09-13T11:57:42.050056Z",
     "start_time": "2023-09-13T11:57:42.045275Z"
    }
   },
   "outputs": [],
   "source": [
    "# Consultando o tipo de variáveis a partir do índice\n",
    "print(type(mix[3]))\n",
    "print(type(mix[3][0]))\n",
    "print(type(mix[3][1]))\n",
    "print(type(mix[3][2]))\n",
    "print(type(mix[3][2][0]))\n",
    "print(type(mix[3][2][1]))\n",
    "print(type(mix[3][2][1][2]))"
   ]
  },
  {
   "cell_type": "markdown",
   "id": "a3da190c",
   "metadata": {},
   "source": [
    "##\n",
    "<div style=\"margin-top: -20px;\">\n",
    "<hr style=\"border: 2px solid blue;\">\n",
    "\n",
    "<font color='blue'><span style=\"font-size: 22px;\"><strong>8.3 Operando Tuplas</strong></span></font>\n",
    "\n",
    "<hr style=\"border: 2px solid blue;\">\n",
    "</div>"
   ]
  },
  {
   "cell_type": "markdown",
   "id": "81e5080a",
   "metadata": {},
   "source": [
    "###\n",
    "<div style=\"margin-top: -20px;\">\n",
    "<hr style=\"border: 2px solid blue;\">\n",
    "\n",
    "<font color='blue'><span style=\"font-size: 18px;\"><strong>8.3.1 Verificação de Pertinência e Concatenação de Tuplas</strong></span></font>\n",
    "\n",
    "<hr style=\"border: 2px solid blue;\">\n",
    "</div>"
   ]
  },
  {
   "cell_type": "markdown",
   "id": "8b29f46d",
   "metadata": {},
   "source": [
    "#### Operador in"
   ]
  },
  {
   "cell_type": "markdown",
   "id": "d4c615b2",
   "metadata": {},
   "source": [
    "O operador <u>in</u> verifica se um elemento pertence a uma tupla, retorando True. Caso contrário retorna False."
   ]
  },
  {
   "cell_type": "markdown",
   "id": "29e4ef4d",
   "metadata": {},
   "source": [
    "##### Exemplo: Verificando a pertinência"
   ]
  },
  {
   "cell_type": "code",
   "execution_count": null,
   "id": "350cbcff",
   "metadata": {
    "ExecuteTime": {
     "end_time": "2023-09-13T11:59:29.329976Z",
     "start_time": "2023-09-13T11:59:29.325129Z"
    }
   },
   "outputs": [],
   "source": [
    "# Tupla\n",
    "tupla = (1,4,2,-6,3)\n",
    "\n",
    "# Verificando a pertinência\n",
    "print(1 in tupla)\n",
    "print(5 in tupla)"
   ]
  },
  {
   "cell_type": "markdown",
   "id": "6cfb7732",
   "metadata": {},
   "source": [
    "#### Concatenando tuplas"
   ]
  },
  {
   "cell_type": "markdown",
   "id": "6086fcf8",
   "metadata": {},
   "source": [
    "Tuplas podem ser concatenadas formando novas tuplas."
   ]
  },
  {
   "cell_type": "markdown",
   "id": "de4368da",
   "metadata": {},
   "source": [
    "##### Exemplo: Concatenando tuplas"
   ]
  },
  {
   "cell_type": "code",
   "execution_count": null,
   "id": "bafd98e6",
   "metadata": {
    "ExecuteTime": {
     "end_time": "2023-09-13T12:06:11.190879Z",
     "start_time": "2023-09-13T12:06:11.179349Z"
    }
   },
   "outputs": [],
   "source": [
    "# Tuplas\n",
    "tupla1 = (1,4,2,-6,3)\n",
    "tupla2 = (-1,2,5,6)\n",
    "\n",
    "# Concatenando as tuplas1 e tupla2\n",
    "tupla3 = tupla1 + tupla2\n",
    "\n",
    "# Imprimindo a tupla concatenada\n",
    "print(tupla3)"
   ]
  },
  {
   "cell_type": "code",
   "execution_count": null,
   "id": "b1253c84",
   "metadata": {
    "ExecuteTime": {
     "end_time": "2023-09-13T12:06:11.454434Z",
     "start_time": "2023-09-13T12:06:11.450419Z"
    }
   },
   "outputs": [],
   "source": [
    "print(tupla1)\n",
    "print(tupla2)"
   ]
  },
  {
   "cell_type": "markdown",
   "id": "e9f7a0b4",
   "metadata": {},
   "source": [
    "###\n",
    "<div style=\"margin-top: -20px;\">\n",
    "<hr style=\"border: 2px solid blue;\">\n",
    "\n",
    "<font color='blue'><span style=\"font-size: 18px;\"><strong>8.3.2 Operando Elementos Internos de Tuplas</strong></span></font>\n",
    "\n",
    "<hr style=\"border: 2px solid blue;\">\n",
    "</div>"
   ]
  },
  {
   "cell_type": "markdown",
   "id": "93f7b0e6",
   "metadata": {},
   "source": [
    "#### Operando elementos internos"
   ]
  },
  {
   "cell_type": "markdown",
   "id": "8f78fd9e",
   "metadata": {},
   "source": [
    "Podemos operar elementos internos de uma mesma tupla ou de diferentes tuplas."
   ]
  },
  {
   "cell_type": "markdown",
   "id": "492f3482",
   "metadata": {},
   "source": [
    "##### Exemplo 1: Operações aritméticas usando elementos internos de duas tuplas"
   ]
  },
  {
   "cell_type": "code",
   "execution_count": null,
   "id": "7938901a",
   "metadata": {
    "ExecuteTime": {
     "end_time": "2023-09-13T12:09:45.353097Z",
     "start_time": "2023-09-13T12:09:45.348536Z"
    }
   },
   "outputs": [],
   "source": [
    "# Tuplas\n",
    "tupla1 = (1,4,2,-6)\n",
    "tupla2 = (-1,2,5,4)\n",
    "\n",
    "# Operando elementos internos de duas tuplas\n",
    "x = tupla1[0] - tupla2[3]**2\n",
    "print(x)"
   ]
  },
  {
   "cell_type": "markdown",
   "id": "9ed1de75",
   "metadata": {},
   "source": [
    "##### Exemplo 2: Verificando elementos de uma tupla pelo índice"
   ]
  },
  {
   "cell_type": "code",
   "execution_count": null,
   "id": "97f1c855",
   "metadata": {
    "ExecuteTime": {
     "end_time": "2023-09-13T12:11:13.520224Z",
     "start_time": "2023-09-13T12:11:13.515550Z"
    }
   },
   "outputs": [],
   "source": [
    "# Tupla\n",
    "tupla = (1,4,2,-6)\n",
    "\n",
    "# Verificando valores\n",
    "print(tupla[1] == 1)\n",
    "print(tupla[1] == 4)\n",
    "print(tupla[1] == '4')"
   ]
  },
  {
   "cell_type": "markdown",
   "id": "006afc5b",
   "metadata": {},
   "source": [
    "#### Deletando uma tupla"
   ]
  },
  {
   "cell_type": "markdown",
   "id": "991a87b2",
   "metadata": {},
   "source": [
    "Podemos apagar da memória uma tupla."
   ]
  },
  {
   "cell_type": "markdown",
   "id": "9dca17f3",
   "metadata": {},
   "source": [
    "##### Exemplo: Deletando toda uma tupla"
   ]
  },
  {
   "cell_type": "code",
   "execution_count": null,
   "id": "54ea9bd8",
   "metadata": {
    "ExecuteTime": {
     "end_time": "2023-09-13T12:11:58.751326Z",
     "start_time": "2023-09-13T12:11:58.747508Z"
    }
   },
   "outputs": [],
   "source": [
    "# Tupla\n",
    "tupla = (1,4,2,-6,3)\n",
    "\n",
    "# Imprimindo\n",
    "print(tupla)"
   ]
  },
  {
   "cell_type": "code",
   "execution_count": null,
   "id": "64ad426f",
   "metadata": {
    "ExecuteTime": {
     "end_time": "2023-09-13T12:12:01.238896Z",
     "start_time": "2023-09-13T12:12:01.235853Z"
    }
   },
   "outputs": [],
   "source": [
    "# Deletando uma tupla\n",
    "del tupla"
   ]
  },
  {
   "cell_type": "code",
   "execution_count": null,
   "id": "7de8e1d5",
   "metadata": {
    "ExecuteTime": {
     "end_time": "2023-09-13T12:12:08.578526Z",
     "start_time": "2023-09-13T12:12:07.802051Z"
    },
    "scrolled": true
   },
   "outputs": [],
   "source": [
    "# Tentando imprimir uma tupla deletada\n",
    "print(tupla)"
   ]
  },
  {
   "cell_type": "markdown",
   "id": "65f0f93b",
   "metadata": {},
   "source": [
    "###\n",
    "<div style=\"margin-top: -20px;\">\n",
    "<hr style=\"border: 2px solid blue;\">\n",
    "\n",
    "<font color='blue'><span style=\"font-size: 18px;\"><strong>8.3.3 Convertendo Tuplas em Listas e Vice-Versa</strong></span></font>\n",
    "\n",
    "<hr style=\"border: 2px solid blue;\">\n",
    "</div>"
   ]
  },
  {
   "cell_type": "markdown",
   "id": "4d7b487f",
   "metadata": {},
   "source": [
    "Podemos converter tuplas em listas e listas em tuplas. Essa funcionalidade é bastante útil em muitas situações.\n",
    "\n",
    "Tuplas são imutáveis, mas listas são mutáveis. Se você precisar modificar os valores de uma coleção, uma lista é a escolha certa. Mas se você tiver um conjunto de valores que não precisam ser alterados, uma tupla é mais adequada. A conversão de tupla para lista e vice-versa permite que você alterne entre esses dois tipos de coleções conforme necessário.\n",
    "\n",
    "Algumas funções e bibliotecas em Python aceitam apenas tuplas ou listas como entrada. A conversão de tuplas para listas e vice-versa permite que você use essas funções e bibliotecas em conjuntos de dados que não estão no formato esperado.\n",
    "\n",
    "A conversão de tuplas para listas e vice-versa pode ser útil em operações de processamento de dados. Por exemplo, você pode ter uma tupla que representa uma linha de dados em um arquivo <u>CSV</u>\\* e precisar modificá-la ou transformá-la antes de gravá-la em outro arquivo. A conversão para lista pode tornar mais fácil a manipulação dos dados.\n",
    "\n",
    "CSV\\*: *Comma Separated Values*"
   ]
  },
  {
   "cell_type": "markdown",
   "id": "d422b317",
   "metadata": {},
   "source": [
    "##### Exemplo 1: Convertendo uma tupla em uma lista"
   ]
  },
  {
   "cell_type": "code",
   "execution_count": null,
   "id": "55347010",
   "metadata": {
    "ExecuteTime": {
     "end_time": "2023-09-13T12:41:10.115151Z",
     "start_time": "2023-09-13T12:41:10.103582Z"
    }
   },
   "outputs": [],
   "source": [
    "# Tupla\n",
    "tupla = (1,2,-1)\n",
    "\n",
    "# Imprimindo o tipo da variável tupla\n",
    "print(type(tupla))"
   ]
  },
  {
   "cell_type": "code",
   "execution_count": null,
   "id": "56994d76",
   "metadata": {
    "ExecuteTime": {
     "end_time": "2023-09-13T12:41:14.954111Z",
     "start_time": "2023-09-13T12:41:14.950222Z"
    }
   },
   "outputs": [],
   "source": [
    "# Imprimindo a lista\n",
    "print(tupla)"
   ]
  },
  {
   "cell_type": "code",
   "execution_count": null,
   "id": "0841f065",
   "metadata": {
    "ExecuteTime": {
     "end_time": "2023-09-13T12:41:38.666182Z",
     "start_time": "2023-09-13T12:41:38.662581Z"
    }
   },
   "outputs": [],
   "source": [
    "# Convertendo uma tupla em uma lista\n",
    "lista = list(tupla)\n",
    "\n",
    "# Imprimindo a lista\n",
    "print(lista)"
   ]
  },
  {
   "cell_type": "code",
   "execution_count": null,
   "id": "2dc38a08",
   "metadata": {
    "ExecuteTime": {
     "end_time": "2023-09-13T12:41:50.585785Z",
     "start_time": "2023-09-13T12:41:50.581529Z"
    }
   },
   "outputs": [],
   "source": [
    "# Imprimindo o tipo da variável lista\n",
    "print(type(lista))"
   ]
  },
  {
   "cell_type": "markdown",
   "id": "98d59e57",
   "metadata": {},
   "source": [
    "##### Exemplo 2: Convertendo uma lista em uma tupla"
   ]
  },
  {
   "cell_type": "code",
   "execution_count": null,
   "id": "b15badef",
   "metadata": {
    "ExecuteTime": {
     "end_time": "2023-09-13T12:42:24.129673Z",
     "start_time": "2023-09-13T12:42:24.125553Z"
    }
   },
   "outputs": [],
   "source": [
    "# Lista\n",
    "lista = [1,3,1]"
   ]
  },
  {
   "cell_type": "code",
   "execution_count": null,
   "id": "8d7434d9",
   "metadata": {
    "ExecuteTime": {
     "end_time": "2023-09-13T12:42:29.874413Z",
     "start_time": "2023-09-13T12:42:29.870586Z"
    }
   },
   "outputs": [],
   "source": [
    "# Convertendo uma lista em uma tupla\n",
    "tupla = tuple(lista)\n",
    "\n",
    "# Imprimindo a tupla\n",
    "print(tupla)"
   ]
  },
  {
   "cell_type": "code",
   "execution_count": null,
   "id": "204ce162",
   "metadata": {
    "ExecuteTime": {
     "end_time": "2023-09-13T12:42:38.434942Z",
     "start_time": "2023-09-13T12:42:38.431489Z"
    }
   },
   "outputs": [],
   "source": [
    "# Imprimindo o tipo de uma variável\n",
    "print(type(tupla))"
   ]
  },
  {
   "cell_type": "markdown",
   "id": "e7aaeb84",
   "metadata": {
    "ExecuteTime": {
     "end_time": "2023-09-13T12:14:47.669347Z",
     "start_time": "2023-09-13T12:14:47.666038Z"
    }
   },
   "source": [
    "##### Exemplo 3: \"Alterando uma tupla\""
   ]
  },
  {
   "cell_type": "code",
   "execution_count": null,
   "id": "b7d0c1ae",
   "metadata": {
    "ExecuteTime": {
     "end_time": "2023-09-13T12:43:53.803301Z",
     "start_time": "2023-09-13T12:43:53.798965Z"
    }
   },
   "outputs": [],
   "source": [
    "# Tupla\n",
    "tupla = (1,3,1)\n",
    "\n",
    "print(tupla)\n",
    "print(type(tupla))"
   ]
  },
  {
   "cell_type": "code",
   "execution_count": null,
   "id": "7f66e770",
   "metadata": {
    "ExecuteTime": {
     "end_time": "2023-09-13T12:44:13.738039Z",
     "start_time": "2023-09-13T12:44:13.734055Z"
    }
   },
   "outputs": [],
   "source": [
    "# Convertendo uma tupla em lista\n",
    "tupla_lista = list(tupla)\n",
    "\n",
    "print(tupla_lista)\n",
    "print(type(tupla_lista))"
   ]
  },
  {
   "cell_type": "code",
   "execution_count": null,
   "id": "2c48a370",
   "metadata": {
    "ExecuteTime": {
     "end_time": "2023-09-13T12:44:42.129705Z",
     "start_time": "2023-09-13T12:44:42.125691Z"
    }
   },
   "outputs": [],
   "source": [
    "# Alterando a lista associada à tupla\n",
    "tupla_lista.append(4)\n",
    "\n",
    "print(tupla_lista)"
   ]
  },
  {
   "cell_type": "code",
   "execution_count": null,
   "id": "b1b79e79",
   "metadata": {
    "ExecuteTime": {
     "end_time": "2023-09-13T12:45:21.298308Z",
     "start_time": "2023-09-13T12:45:21.294914Z"
    }
   },
   "outputs": [],
   "source": [
    "# Tupla alterada\n",
    "tupla_alterada = tuple(tupla_lista)\n",
    "\n",
    "print(tupla_alterada)"
   ]
  },
  {
   "cell_type": "markdown",
   "id": "541c1255",
   "metadata": {},
   "source": [
    "###\n",
    "<div style=\"margin-top: -20px;\">\n",
    "<hr style=\"border: 2px solid blue;\">\n",
    "\n",
    "<font color='blue'><span style=\"font-size: 18px;\"><strong>8.3.4 Atibuição de Variáveis em Linha Usando Tuplas</strong></span></font>\n",
    "\n",
    "<hr style=\"border: 2px solid blue;\">\n",
    "</div>"
   ]
  },
  {
   "cell_type": "markdown",
   "id": "09768489",
   "metadata": {},
   "source": [
    "A atribuição em linha, também conhecida como desempacotamento, é uma característica poderosa do Python que permite a atribuição de variáveis a elementos de uma lista ou tupla numa única linha de código.\n",
    "\n",
    "Por exemplo, se você tem uma tupla com três elementos, você pode atribuir os valores destes elementos a três variáveis diferentes numa única linha, em vez de fazer isso em três linhas separadas."
   ]
  },
  {
   "cell_type": "markdown",
   "id": "693e3881",
   "metadata": {},
   "source": [
    "##### Exemplo: Utilizando tuplas para atribuição de variáveis"
   ]
  },
  {
   "cell_type": "code",
   "execution_count": null,
   "id": "73db459c",
   "metadata": {
    "ExecuteTime": {
     "end_time": "2023-09-13T13:22:19.986117Z",
     "start_time": "2023-09-13T13:22:19.976155Z"
    }
   },
   "outputs": [],
   "source": [
    "# Tupla\n",
    "tupla = (1, 2, 3)\n",
    "\n",
    "# Atribuição de variáveis usando uma lista\n",
    "a, b, c = tupla\n",
    "\n",
    "# Imprimindo as variáveis a, b e c\n",
    "print(a, b, c)\n",
    "print(b)"
   ]
  },
  {
   "cell_type": "markdown",
   "id": "2c09b4b3",
   "metadata": {},
   "source": [
    "##\n",
    "<div style=\"margin-top: -20px;\">\n",
    "<hr style=\"border: 2px solid blue;\">\n",
    "\n",
    "<font color='blue'><span style=\"font-size: 22px;\"><strong>8.4 Funções Nativas (Built-in) e Métodos Com Tuplas</strong></span></font>\n",
    "\n",
    "<hr style=\"border: 2px solid blue;\">\n",
    "</div>"
   ]
  },
  {
   "cell_type": "markdown",
   "id": "453c6e41",
   "metadata": {},
   "source": [
    "As funções <u>nativas</u> (ou <u>built-in</u>) em uma linguagem de programação são funções que já fazem parte do núcleo da linguagem e estão disponíveis para uso imediato, sem a necessidade de instalar bibliotecas ou módulos adicionais. <u>Métodos</u> são como funções, porém específicas para o objeto em questão. Vejamos agora algumas das funções e métodos mais utilizados relacionadas à tuplas."
   ]
  },
  {
   "cell_type": "markdown",
   "id": "9d5472b5",
   "metadata": {},
   "source": [
    "###\n",
    "<div style=\"margin-top: -20px;\">\n",
    "<hr style=\"border: 2px solid blue;\">\n",
    "\n",
    "<font color='blue'><span style=\"font-size: 18px;\"><strong>8.4.1 Funções Nativas (Built-in) e Métodos Com Tuplas - Parte 1</strong></span></font>\n",
    "\n",
    "<hr style=\"border: 2px solid blue;\">\n",
    "</div>"
   ]
  },
  {
   "cell_type": "markdown",
   "id": "eeff96e5",
   "metadata": {},
   "source": [
    "#### all()"
   ]
  },
  {
   "cell_type": "markdown",
   "id": "5ce397a3",
   "metadata": {},
   "source": [
    "Retorna True se todos os elementos da tupla forem True, caso contrário retorna False."
   ]
  },
  {
   "cell_type": "code",
   "execution_count": null,
   "id": "78922f47",
   "metadata": {
    "ExecuteTime": {
     "end_time": "2023-09-13T13:25:28.969565Z",
     "start_time": "2023-09-13T13:25:28.964832Z"
    }
   },
   "outputs": [],
   "source": [
    "tupla1 = (True, False, True)\n",
    "tupla2 = (1, True, True)\n",
    "tupla3 = (False,False,False,False)\n",
    "\n",
    "print(all(tupla1))\n",
    "print(all(tupla2))\n",
    "print(all(tupla3))"
   ]
  },
  {
   "cell_type": "markdown",
   "id": "9044e024",
   "metadata": {},
   "source": [
    "#### any()"
   ]
  },
  {
   "cell_type": "markdown",
   "id": "a8f84476",
   "metadata": {},
   "source": [
    "Retorna True se pelo menos um elemento da tupla for True, caso contrário retorna False."
   ]
  },
  {
   "cell_type": "code",
   "execution_count": null,
   "id": "81c9cbfb",
   "metadata": {
    "ExecuteTime": {
     "end_time": "2023-09-13T13:26:06.542839Z",
     "start_time": "2023-09-13T13:26:06.537770Z"
    }
   },
   "outputs": [],
   "source": [
    "tupla1 = (True, False, True)\n",
    "tupla2 = (True, True, True)\n",
    "tupla3 = (False,False,False,False)\n",
    "\n",
    "print(any(tupla1))\n",
    "print(any(tupla2))\n",
    "print(any(tupla3))"
   ]
  },
  {
   "cell_type": "markdown",
   "id": "3970ba71",
   "metadata": {},
   "source": [
    "#### count()"
   ]
  },
  {
   "cell_type": "markdown",
   "id": "addeca90",
   "metadata": {},
   "source": [
    "Retorna o número de ocorrências de um elemento em uma tupla."
   ]
  },
  {
   "cell_type": "code",
   "execution_count": null,
   "id": "c7680290",
   "metadata": {
    "ExecuteTime": {
     "end_time": "2023-09-13T13:28:17.612471Z",
     "start_time": "2023-09-13T13:28:17.608436Z"
    }
   },
   "outputs": [],
   "source": [
    "tupla = (1, 4, 3, 4)\n",
    "\n",
    "print(tupla.count(4))"
   ]
  },
  {
   "cell_type": "markdown",
   "id": "a4f13ced",
   "metadata": {},
   "source": [
    "#### format()"
   ]
  },
  {
   "cell_type": "markdown",
   "id": "8dbb9fb1",
   "metadata": {},
   "source": [
    "Formata uma string usando valores de uma tupla."
   ]
  },
  {
   "cell_type": "code",
   "execution_count": null,
   "id": "3090300c",
   "metadata": {
    "ExecuteTime": {
     "end_time": "2023-09-13T13:29:26.693687Z",
     "start_time": "2023-09-13T13:29:26.688943Z"
    }
   },
   "outputs": [],
   "source": [
    "tupla = ('Allan', 39)\n",
    "\n",
    "mensagem = 'Meu nome é {} e tenho {} anos.'.format(*tupla)\n",
    "print(mensagem)"
   ]
  },
  {
   "cell_type": "markdown",
   "id": "319d8495",
   "metadata": {},
   "source": [
    "#### index()"
   ]
  },
  {
   "cell_type": "markdown",
   "id": "398c02f0",
   "metadata": {},
   "source": [
    "Retorna o índice da primeira ocorrência de um elemento na tupla. Se o elemento não estiver na tupla, retorna um erro."
   ]
  },
  {
   "cell_type": "code",
   "execution_count": 1,
   "id": "74cc69d7",
   "metadata": {
    "ExecuteTime": {
     "end_time": "2023-09-13T13:30:42.972115Z",
     "start_time": "2023-09-13T13:30:42.968832Z"
    }
   },
   "outputs": [
    {
     "name": "stdout",
     "output_type": "stream",
     "text": [
      "2\n"
     ]
    }
   ],
   "source": [
    "tupla1 = (1, 2, 3, 2)\n",
    "\n",
    "print(tupla1.index(3))"
   ]
  },
  {
   "cell_type": "code",
   "execution_count": 2,
   "id": "b224e71a",
   "metadata": {
    "ExecuteTime": {
     "end_time": "2023-09-13T13:31:00.087059Z",
     "start_time": "2023-09-13T13:30:59.312206Z"
    }
   },
   "outputs": [
    {
     "ename": "ValueError",
     "evalue": "tuple.index(x): x not in tuple",
     "output_type": "error",
     "traceback": [
      "\u001b[1;31m---------------------------------------------------------------------------\u001b[0m",
      "\u001b[1;31mValueError\u001b[0m                                Traceback (most recent call last)",
      "Cell \u001b[1;32mIn[2], line 3\u001b[0m\n\u001b[0;32m      1\u001b[0m tupla2 \u001b[38;5;241m=\u001b[39m (\u001b[38;5;241m1\u001b[39m, \u001b[38;5;241m-\u001b[39m\u001b[38;5;241m2\u001b[39m, \u001b[38;5;241m3\u001b[39m, \u001b[38;5;241m4\u001b[39m)\n\u001b[1;32m----> 3\u001b[0m \u001b[38;5;28mprint\u001b[39m(tupla2\u001b[38;5;241m.\u001b[39mindex(\u001b[38;5;241m2\u001b[39m))\n",
      "\u001b[1;31mValueError\u001b[0m: tuple.index(x): x not in tuple"
     ]
    }
   ],
   "source": [
    "tupla2 = (1, -2, 3, 4)\n",
    "\n",
    "print(tupla2.index(2))"
   ]
  },
  {
   "cell_type": "markdown",
   "id": "8635c959",
   "metadata": {},
   "source": [
    "###\n",
    "<div style=\"margin-top: -20px;\">\n",
    "<hr style=\"border: 2px solid blue;\">\n",
    "\n",
    "<font color='blue'><span style=\"font-size: 18px;\"><strong>8.4.2 Funções Nativas (Built-in) e Métodos Com Tuplas - Parte 2</strong></span></font>\n",
    "\n",
    "<hr style=\"border: 2px solid blue;\">\n",
    "</div>"
   ]
  },
  {
   "cell_type": "markdown",
   "id": "062136a8",
   "metadata": {},
   "source": [
    "#### len()"
   ]
  },
  {
   "cell_type": "markdown",
   "id": "172c4c75",
   "metadata": {
    "ExecuteTime": {
     "end_time": "2023-06-08T22:50:12.963121Z",
     "start_time": "2023-06-08T22:50:12.956117Z"
    }
   },
   "source": [
    "Retorna o número de elementos de uma tupla."
   ]
  },
  {
   "cell_type": "code",
   "execution_count": 3,
   "id": "4b2b1c02",
   "metadata": {
    "ExecuteTime": {
     "end_time": "2023-09-13T13:50:04.817806Z",
     "start_time": "2023-09-13T13:50:04.807026Z"
    }
   },
   "outputs": [
    {
     "name": "stdout",
     "output_type": "stream",
     "text": [
      "6\n",
      "4\n"
     ]
    }
   ],
   "source": [
    "tupla1 = ('Matemática','Física','Química','Português','Geografia','História')\n",
    "tupla2 = ('Casa',10,[1,2],(-1,'3',[39,'Professor']))\n",
    "\n",
    "print(len(tupla1))\n",
    "print(len(tupla2))"
   ]
  },
  {
   "cell_type": "markdown",
   "id": "2cd4719b",
   "metadata": {},
   "source": [
    "Podemos aplicar a função len() a subtuplas e elementos internos de uma tupla."
   ]
  },
  {
   "cell_type": "code",
   "execution_count": null,
   "id": "bef08b92",
   "metadata": {
    "ExecuteTime": {
     "end_time": "2023-09-13T13:51:49.242134Z",
     "start_time": "2023-09-13T13:51:49.237666Z"
    }
   },
   "outputs": [],
   "source": [
    "print(len(tupla1[1]))\n",
    "print(len(tupla2[3]))\n",
    "print(len(tupla2[3][2]))\n",
    "print(len(tupla2[3][2][1]))"
   ]
  },
  {
   "cell_type": "markdown",
   "id": "5ed8ad3d",
   "metadata": {},
   "source": [
    "#### min() e max()"
   ]
  },
  {
   "cell_type": "markdown",
   "id": "59641d51",
   "metadata": {},
   "source": [
    "Retornam, respectivamente, o menor e o maior valor de uma tupla de números (int, float ou string numérica)."
   ]
  },
  {
   "cell_type": "code",
   "execution_count": null,
   "id": "021fd6b1",
   "metadata": {
    "ExecuteTime": {
     "end_time": "2023-09-13T13:52:32.985482Z",
     "start_time": "2023-09-13T13:52:32.980314Z"
    }
   },
   "outputs": [],
   "source": [
    "# Coorenadas numéricas\n",
    "lista1 = (9.5,8.7,9.0,8.0,8.1,8.5)\n",
    "\n",
    "print(min(lista1))\n",
    "print(max(lista1))"
   ]
  },
  {
   "cell_type": "code",
   "execution_count": null,
   "id": "2c98defe",
   "metadata": {
    "ExecuteTime": {
     "end_time": "2023-09-13T13:54:24.377280Z",
     "start_time": "2023-09-13T13:54:24.373164Z"
    }
   },
   "outputs": [],
   "source": [
    "# Strings numéricas\n",
    "lista2 = ('9.5','8.7','9.0','8.0','8.1','8.5')\n",
    "\n",
    "print(min(lista2))\n",
    "print(max(lista2))"
   ]
  },
  {
   "cell_type": "markdown",
   "id": "d7e80433",
   "metadata": {},
   "source": [
    "#### reverse()"
   ]
  },
  {
   "cell_type": "markdown",
   "id": "0c12d1a0",
   "metadata": {},
   "source": [
    "Retorna os elementos de uma tupla em ordem reversa."
   ]
  },
  {
   "cell_type": "code",
   "execution_count": null,
   "id": "d259f2a4",
   "metadata": {
    "ExecuteTime": {
     "end_time": "2023-09-13T13:55:03.897632Z",
     "start_time": "2023-09-13T13:55:03.892988Z"
    }
   },
   "outputs": [],
   "source": [
    "tupla = (1, 2, 3)\n",
    "tupla_reversa = tuple(reversed(tupla))\n",
    "print(tupla_reversa)"
   ]
  },
  {
   "cell_type": "code",
   "execution_count": null,
   "id": "a0e07ddb",
   "metadata": {
    "ExecuteTime": {
     "end_time": "2023-09-13T13:55:11.465377Z",
     "start_time": "2023-09-13T13:55:11.461343Z"
    }
   },
   "outputs": [],
   "source": [
    "# Já falamos sobre isso em listas...\n",
    "tupla = (1, 2, 3)\n",
    "\n",
    "print(reversed(tupla))"
   ]
  },
  {
   "cell_type": "markdown",
   "id": "1e25c413",
   "metadata": {},
   "source": [
    "#### sorted()"
   ]
  },
  {
   "cell_type": "markdown",
   "id": "04afc8eb",
   "metadata": {},
   "source": [
    "Retorna uma <u>lista</u> ordenada com os elementos da <u>tupla</u> original em ordem crescente ou alfabética."
   ]
  },
  {
   "cell_type": "code",
   "execution_count": null,
   "id": "715459fc",
   "metadata": {
    "ExecuteTime": {
     "end_time": "2023-09-13T13:56:17.513423Z",
     "start_time": "2023-09-13T13:56:17.509732Z"
    }
   },
   "outputs": [],
   "source": [
    "tupla = ('Matemática','Física','Química','Português','Geografia','História')\n",
    "\n",
    "print(tupla)\n",
    "print(sorted(tupla))"
   ]
  },
  {
   "cell_type": "code",
   "execution_count": null,
   "id": "96239226",
   "metadata": {
    "ExecuteTime": {
     "end_time": "2023-09-13T13:57:48.458425Z",
     "start_time": "2023-09-13T13:57:48.453254Z"
    }
   },
   "outputs": [],
   "source": [
    "tupla_ordenada = tuple(sorted(tupla))\n",
    "print(tupla_ordenada)"
   ]
  },
  {
   "cell_type": "markdown",
   "id": "3822788f",
   "metadata": {},
   "source": [
    "#### zip()"
   ]
  },
  {
   "cell_type": "markdown",
   "id": "c1ba8b45",
   "metadata": {},
   "source": [
    "Combina duas ou mais tuplas em uma tupla de tuplas, onde cada tupla contém um elemento de cada tupla original."
   ]
  },
  {
   "cell_type": "code",
   "execution_count": null,
   "id": "71d006c9",
   "metadata": {
    "ExecuteTime": {
     "end_time": "2023-09-13T13:59:18.968581Z",
     "start_time": "2023-09-13T13:59:18.964012Z"
    }
   },
   "outputs": [],
   "source": [
    "# Zipando\n",
    "tupla1 = ('a', 'b', 'c')\n",
    "tupla2 = (1, 2, 3)\n",
    "\n",
    "tupla_combinada = tuple(zip(tupla1, tupla2))\n",
    "print(tupla_combinada)"
   ]
  },
  {
   "cell_type": "code",
   "execution_count": null,
   "id": "f89a0d7a",
   "metadata": {
    "ExecuteTime": {
     "end_time": "2023-09-13T14:00:03.730154Z",
     "start_time": "2023-09-13T14:00:03.725121Z"
    }
   },
   "outputs": [],
   "source": [
    "# Deszipando\n",
    "tupla_comb = (('a', 1), ('b', 2), ('c', 3))\n",
    "tupla1, tupla2 = zip(*tupla_comb)\n",
    "print(tupla1)\n",
    "print(tupla2)"
   ]
  },
  {
   "cell_type": "markdown",
   "id": "1fa95d62",
   "metadata": {},
   "source": [
    "## <div style=\"margin-top: -20px;\">\n",
    "<hr style=\"border: 2px solid blue;\">\n",
    "\n",
    "<font color='blue'><span style=\"font-size: 22px;\"><strong>Exercícios</strong></span></font>\n",
    "\n",
    "<hr style=\"border: 2px solid blue;\">\n",
    "</div>"
   ]
  },
  {
   "cell_type": "markdown",
   "id": "567db808",
   "metadata": {},
   "source": [
    "#### Exercício 1"
   ]
  },
  {
   "cell_type": "markdown",
   "id": "4735d49a",
   "metadata": {},
   "source": [
    "Insira uma tupla com os números de 1 a 5 e imprima na tela."
   ]
  },
  {
   "cell_type": "code",
   "execution_count": null,
   "id": "1c86e1c4",
   "metadata": {},
   "outputs": [],
   "source": [
    "# Sua resposta\n",
    "\n"
   ]
  },
  {
   "cell_type": "markdown",
   "id": "bc552fdb",
   "metadata": {},
   "source": [
    "#### Exercício 2"
   ]
  },
  {
   "cell_type": "markdown",
   "id": "1bb7a41d",
   "metadata": {},
   "source": [
    "Dada a tupla (10, 20, 30, 40, 50):\n",
    "\n",
    "a) Imprima seu terceiro elemento.\n",
    "\n",
    "b) Verifique se o valor 25 está na tupla.\n",
    "\n",
    "c) Imprima a soma do primeiro e do último elementos desta tupla."
   ]
  },
  {
   "cell_type": "code",
   "execution_count": null,
   "id": "b3cea9bc",
   "metadata": {},
   "outputs": [],
   "source": [
    "# Sua resposta\n",
    "# a) \n"
   ]
  },
  {
   "cell_type": "code",
   "execution_count": null,
   "id": "eff0164c",
   "metadata": {},
   "outputs": [],
   "source": [
    "# Sua resposta\n",
    "# b) \n"
   ]
  },
  {
   "cell_type": "code",
   "execution_count": null,
   "id": "e64195d9",
   "metadata": {},
   "outputs": [],
   "source": [
    "# Sua resposta\n",
    "# c) \n"
   ]
  },
  {
   "cell_type": "markdown",
   "id": "21c5b173",
   "metadata": {},
   "source": [
    "#### Exercício 3"
   ]
  },
  {
   "cell_type": "markdown",
   "id": "6c4a58ff",
   "metadata": {},
   "source": [
    "Considere a tupla (10, 20, 30, 40, 50).\n",
    "\n",
    "a) Verifique que o valor 60 não está na tupla.\n",
    "\n",
    "b) Contrua uma tupla a partir da tupla dada de modo que o valor 60 esteja presente nela."
   ]
  },
  {
   "cell_type": "code",
   "execution_count": null,
   "id": "03634444",
   "metadata": {},
   "outputs": [],
   "source": [
    "# Sua resposta\n",
    "# a) \n"
   ]
  },
  {
   "cell_type": "code",
   "execution_count": null,
   "id": "ffe5e578",
   "metadata": {},
   "outputs": [],
   "source": [
    "# Sua resposta\n",
    "# b) \n"
   ]
  },
  {
   "cell_type": "markdown",
   "id": "a685bd77",
   "metadata": {},
   "source": [
    "#### Exercício 4"
   ]
  },
  {
   "cell_type": "markdown",
   "id": "10ddc145",
   "metadata": {},
   "source": [
    "Considere a tupla (10, 40, 60, 90, 30).\n",
    "\n",
    "a) Verifique quais dos valores 20, 60, 50, 70 está na tupla.\n",
    "\n",
    "b) Insira os valores não presentes na tupla.\n",
    "\n",
    "c) Ordene os elementos da nova tupla em ordem crescente."
   ]
  },
  {
   "cell_type": "code",
   "execution_count": null,
   "id": "6df7ee87",
   "metadata": {},
   "outputs": [],
   "source": [
    "# Sua resposta\n",
    "# a) \n"
   ]
  },
  {
   "cell_type": "code",
   "execution_count": null,
   "id": "de104132",
   "metadata": {},
   "outputs": [],
   "source": [
    "# Sua resposta\n",
    "# b) \n"
   ]
  },
  {
   "cell_type": "code",
   "execution_count": null,
   "id": "d2b1f36f",
   "metadata": {},
   "outputs": [],
   "source": [
    "# Sua resposta\n",
    "# c) \n"
   ]
  },
  {
   "cell_type": "markdown",
   "id": "65d2a866",
   "metadata": {},
   "source": [
    "#### Exercício 5"
   ]
  },
  {
   "cell_type": "markdown",
   "id": "604deb33",
   "metadata": {},
   "source": [
    "Escreva um programa que aceite uma sequência de números separados por vírgulas e gere uma tupla com valores em ordem crescente."
   ]
  },
  {
   "cell_type": "code",
   "execution_count": null,
   "id": "52f0bf83",
   "metadata": {},
   "outputs": [],
   "source": [
    "# Sua resposta\n",
    "\n"
   ]
  },
  {
   "cell_type": "markdown",
   "id": "5121378b",
   "metadata": {},
   "source": [
    "### <div style=\"margin-top: -20px;\">\n",
    "<hr style=\"border: 2px solid blue;\">\n",
    "\n",
    "<font color='blue'><span style=\"font-size: 18px;\"><strong>Soluções dos Exercícios</strong></span></font>\n",
    "\n",
    "<hr style=\"border: 2px solid blue;\">\n",
    "</div>"
   ]
  },
  {
   "cell_type": "markdown",
   "id": "7582b411",
   "metadata": {},
   "source": [
    "#### Solução do Exercício 1"
   ]
  },
  {
   "cell_type": "code",
   "execution_count": null,
   "id": "3999e45e",
   "metadata": {},
   "outputs": [],
   "source": [
    "# Entrada\n",
    "tupla = (1,2,3,4,5)\n",
    "\n",
    "# Imprimindo a tupla\n",
    "print(tupla)"
   ]
  },
  {
   "cell_type": "markdown",
   "id": "04bc1c27",
   "metadata": {},
   "source": [
    "#### Solução do Exercício 2"
   ]
  },
  {
   "cell_type": "code",
   "execution_count": null,
   "id": "55e75f10",
   "metadata": {},
   "outputs": [],
   "source": [
    "# a)\n",
    "\n",
    "# Entrada\n",
    "tupla = (10, 20, 30, 40, 50)\n",
    "\n",
    "# Imprimindo o terceiro elemento\n",
    "print(tupla[2])"
   ]
  },
  {
   "cell_type": "code",
   "execution_count": null,
   "id": "4745598a",
   "metadata": {},
   "outputs": [],
   "source": [
    "# b)\n",
    "\n",
    "# Entrada\n",
    "tupla = (10, 20, 30, 40, 50)\n",
    "\n",
    "# Verificação de pertinência\n",
    "print(25 in tupla)"
   ]
  },
  {
   "cell_type": "code",
   "execution_count": null,
   "id": "234b828e",
   "metadata": {},
   "outputs": [],
   "source": [
    "# c)\n",
    "\n",
    "# Entrada\n",
    "tupla = (10, 20, 30, 40, 50)\n",
    "\n",
    "# Imprimindo a soma do primeiro e do último elementos da tupla\n",
    "print(tupla[0]+tupla[4])"
   ]
  },
  {
   "cell_type": "markdown",
   "id": "bf8e5166",
   "metadata": {},
   "source": [
    "#### Solução do Exercício 3"
   ]
  },
  {
   "cell_type": "code",
   "execution_count": null,
   "id": "a283ceee",
   "metadata": {},
   "outputs": [],
   "source": [
    "# a)\n",
    "\n",
    "# Entrada\n",
    "tupla = (10, 20, 30, 40, 50)\n",
    "\n",
    "# Verificação de pertinência\n",
    "print(60 in tupla)"
   ]
  },
  {
   "cell_type": "code",
   "execution_count": null,
   "id": "ed7ffecb",
   "metadata": {},
   "outputs": [],
   "source": [
    "# b) \n",
    "\n",
    "# Gerando uma lista a partir da tupla dada\n",
    "lista_tupla = list(tupla)\n",
    "\n",
    "# Fazendo a lista gerada aprender o valor 60\n",
    "lista_tupla.append(60)\n",
    "\n",
    "# Construindo uma tupla associada à lista anterior\n",
    "tupla_assoc = tuple(lista_tupla)\n",
    "\n",
    "# Imprimindo a tupla anterior\n",
    "print(tupla_assoc)"
   ]
  },
  {
   "cell_type": "markdown",
   "id": "de8da52f",
   "metadata": {},
   "source": [
    "#### Solução do Exercício 4"
   ]
  },
  {
   "cell_type": "code",
   "execution_count": null,
   "id": "3266f073",
   "metadata": {
    "scrolled": true
   },
   "outputs": [],
   "source": [
    "# a)\n",
    "\n",
    "# Entrada\n",
    "tupla = (10, 40, 60, 90, 30)\n",
    "\n",
    "# Verificações de pertinência\n",
    "print(20 in tupla)\n",
    "print(60 in tupla)\n",
    "print(50 in tupla)\n",
    "print(70 in tupla)"
   ]
  },
  {
   "cell_type": "code",
   "execution_count": null,
   "id": "af6038dd",
   "metadata": {},
   "outputs": [],
   "source": [
    "# b)\n",
    "\n",
    "# Concatenação de listas\n",
    "tupla_assoc = tupla+(20,50,70) # pode-se usar o método append 3 vezes!\n",
    "\n",
    "# Impressão da tupla gerada anteriormente\n",
    "print(tupla_assoc)"
   ]
  },
  {
   "cell_type": "code",
   "execution_count": null,
   "id": "046d9d1f",
   "metadata": {},
   "outputs": [],
   "source": [
    "# c)\n",
    "\n",
    "# Produzindo uma tupla ordenada a partir da tupla anterior\n",
    "tupla_assoc_ord = tuple(sorted(tupla_assoc))\n",
    "\n",
    "# Imprimindo a tupla anterior\n",
    "print(tupla_assoc_ord)"
   ]
  },
  {
   "cell_type": "markdown",
   "id": "da5f96e2",
   "metadata": {},
   "source": [
    "#### Solução do Exercício 5"
   ]
  },
  {
   "cell_type": "code",
   "execution_count": null,
   "id": "2328d72c",
   "metadata": {},
   "outputs": [],
   "source": [
    "# Usando a função input para entradas fornecidas pelo usuário\n",
    "valores = input('Digite números separados por vírgula: ')\n",
    "\n",
    "# Gerando uma lista a partir do dados inseridos considerando o separador ','\n",
    "lista = valores.split(\",\")\n",
    "\n",
    "# Ordenando a lista gerada anteriormente\n",
    "lista.sort()\n",
    "\n",
    "# Gerando uma tupla a partir da lista anterior\n",
    "tupla_ordenada = tuple(lista)\n",
    "print(tupla_ordenada)"
   ]
  }
 ],
 "metadata": {
  "kernelspec": {
   "display_name": "Python 3 (ipykernel)",
   "language": "python",
   "name": "python3"
  },
  "language_info": {
   "codemirror_mode": {
    "name": "ipython",
    "version": 3
   },
   "file_extension": ".py",
   "mimetype": "text/x-python",
   "name": "python",
   "nbconvert_exporter": "python",
   "pygments_lexer": "ipython3",
   "version": "3.11.5"
  },
  "varInspector": {
   "cols": {
    "lenName": 16,
    "lenType": 16,
    "lenVar": 40
   },
   "kernels_config": {
    "python": {
     "delete_cmd_postfix": "",
     "delete_cmd_prefix": "del ",
     "library": "var_list.py",
     "varRefreshCmd": "print(var_dic_list())"
    },
    "r": {
     "delete_cmd_postfix": ") ",
     "delete_cmd_prefix": "rm(",
     "library": "var_list.r",
     "varRefreshCmd": "cat(var_dic_list()) "
    }
   },
   "types_to_exclude": [
    "module",
    "function",
    "builtin_function_or_method",
    "instance",
    "_Feature"
   ],
   "window_display": false
  }
 },
 "nbformat": 4,
 "nbformat_minor": 5
}
