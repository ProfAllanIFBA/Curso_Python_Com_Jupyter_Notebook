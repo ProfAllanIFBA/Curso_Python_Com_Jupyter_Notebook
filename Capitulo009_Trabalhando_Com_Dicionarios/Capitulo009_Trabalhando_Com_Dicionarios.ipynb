{
 "cells": [
  {
   "cell_type": "markdown",
   "id": "b42396bc",
   "metadata": {},
   "source": [
    "<center> <img src=\"logo_ifba.jpg\" alt=\"jpg_python\" width=\"100\" height=\"\"> </center>\n",
    "<br><br>\n",
    "<center> <img src=\"logo_coext.jpg\" alt=\"jpg_python\" width=\"200\" height=\"\"> </center>\n",
    "<br><br>\n",
    "<div align=\"center\"><span style=\"font-size: 26px;\"><strong>Python Com Jupyter Notebook</strong></span></div><br><br>\n",
    "<center><div style=\"text-align:center\">    <a href=\"https://colab.research.google.com/github/ProfAllanIFBA/Curso_Python_Com_Jupyter_Notebook/blob/main/Capitulo009_Trabalhando_Com_Dicionarios/Capitulo009_Trabalhando_Com_Dicionarios.ipynb\">Link Colab</a> \n",
    "</div><br><br></center>\n",
    "<center> <img src=\"python_gif.gif\" alt=\"gif_python\" width=\"80\"> </center>"
   ]
  },
  {
   "cell_type": "markdown",
   "id": "a4060e3a",
   "metadata": {},
   "source": [
    "Este material apresenta uma explicação detalhada sobre o uso do software de programação em Python chamado Jupyter Notebook, com foco na análise de dados. Abordaremos desde estruturas básicas, como listas e dicionários, até estruturas mais complexas voltadas para a análise de dados, como pandas e seaborn, além de ferramentas destinadas à inteligência artificial.\n",
    "\n",
    "\n",
    "<font color='red'> <u>Este é um material de uso público e totalmente gratuito</u>. Contudo, eventuais edições são de responsabilidade de quem as fizer. </font>\n",
    "\n",
    "Você pode ajudar a melhorar este material!\n",
    "\n",
    "Contato e Sugestões: allansoares@ifba.edu.br.\n",
    "\n",
    "[**Equipe Executora**](https://github.com/ProfAllanIFBA/Curso_Python_Com_Jupyter_Notebook/blob/main/Capitulo000_Equipe/Capitulo000_Equipe.ipynb)"
   ]
  },
  {
   "cell_type": "markdown",
   "id": "84244bf2",
   "metadata": {},
   "source": [
    "### <center> <font color='red'> Vídeo Aulas <img src=\"youtube.gif\" alt=\"jpg_python\" width=\"100\" height=\"\"> </font> </center>"
   ]
  },
  {
   "cell_type": "markdown",
   "id": "bd52810e",
   "metadata": {},
   "source": [
    "[Exemplos Iniciais Envolvendo Dicionários em Python](https://youtu.be/BQb5Vc4z2-8)\n",
    "\n",
    "[Verificacãode Pertinência e Acesso a Elementos de Um Dicionário Python](https://youtu.be/yMCxg-WRhwQ)\n",
    "\n",
    "[Alterando Elementos em Um Dicinario Python](https://youtu.be/HFCggwaBlqc)\n",
    "\n",
    "[Funções Built in e Métodos Com Dicionários no Python - Parte 1](https://youtu.be/p5h1FNisZFM)\n",
    "\n",
    "[Funcões Built in e Métodos Com Dicionários no Python - Parte 2](https://youtu.be/ymg8JLDGL0c)\n",
    "\n",
    "[Funções Built in e Métodos Com Dicionários no Python - Parte 3](https://youtu.be/78Gy1nKG0ZU)"
   ]
  },
  {
   "cell_type": "markdown",
   "id": "c0c4b8a6",
   "metadata": {},
   "source": [
    "<div style=\"border: 2px solid black; padding: 10px; width: 100%; background-color: lightgray; display: flex; align-items: center;\">\n",
    "    <h1 style=\"color: red; text-align: center; margin: auto;\">\n",
    "        Capítulo 9: Trabalhando Com Dicionários\n",
    "    </h1>\n",
    "</div>\n"
   ]
  },
  {
   "cell_type": "markdown",
   "id": "7fbd5396",
   "metadata": {},
   "source": [
    "Um <u>dicionário</u> em Python é uma estrutura de dados que permite armazenar valores em pares chave:valor. É semelhante a uma lista, mas em vez de acessar os elementos por índice numérico, os elementos em um dicionário são acessados por meio de uma chave única. A sintaxe para criar um dicionário em Python é usando chaves \"{   }\" e pares chave:valor separados por vírgula."
   ]
  },
  {
   "cell_type": "markdown",
   "id": "09bbb336",
   "metadata": {},
   "source": [
    "##\n",
    "<div style=\"margin-top: -20px;\">\n",
    "<hr style=\"border: 2px solid blue;\">\n",
    "\n",
    "<font color='blue'><span style=\"font-size: 22px;\"><strong>9.1 Exemplos Inciais</strong></span></font>\n",
    "\n",
    "<hr style=\"border: 2px solid blue;\">\n",
    "</div>"
   ]
  },
  {
   "cell_type": "markdown",
   "id": "ad50c668",
   "metadata": {},
   "source": [
    "#### *Exemplo: Dicionários*"
   ]
  },
  {
   "cell_type": "code",
   "execution_count": 1,
   "id": "b1eb1b86",
   "metadata": {
    "ExecuteTime": {
     "end_time": "2023-09-14T14:35:48.367895Z",
     "start_time": "2023-09-14T14:35:48.359044Z"
    }
   },
   "outputs": [],
   "source": [
    "# Dicionários\n",
    "idades = {'Allan': 39, 'Daniela':30, 'Lara':21}\n",
    "pesos_alturas = {'Allan':(70,1.67), 'Daniela':(65,1.64), 'Lara':(54,1.68)}\n",
    "mix = {1:'Professor','Nome': 'Allan','Idade':39,'Peso/Altura/Tipo Sanguíneo':(70,1.67,'B+')}"
   ]
  },
  {
   "cell_type": "code",
   "execution_count": 2,
   "id": "cefa6f7b",
   "metadata": {
    "ExecuteTime": {
     "end_time": "2023-09-14T14:35:48.532192Z",
     "start_time": "2023-09-14T14:35:48.527206Z"
    }
   },
   "outputs": [
    {
     "name": "stdout",
     "output_type": "stream",
     "text": [
      "{'Allan': 39, 'Daniela': 30, 'Lara': 21}\n",
      "{'Allan': (70, 1.67), 'Daniela': (65, 1.64), 'Lara': (54, 1.68)}\n",
      "{1: 'Professor', 'Nome': 'Allan', 'Idade': 39, 'Peso/Altura/Tipo Sanguíneo': (70, 1.67, 'B+')}\n"
     ]
    }
   ],
   "source": [
    "# Imprimindo os dicionários\n",
    "print(idades)\n",
    "print(pesos_alturas)\n",
    "print(mix)"
   ]
  },
  {
   "cell_type": "code",
   "execution_count": 3,
   "id": "b1fce543",
   "metadata": {
    "ExecuteTime": {
     "end_time": "2023-09-14T14:35:48.675243Z",
     "start_time": "2023-09-14T14:35:48.671580Z"
    }
   },
   "outputs": [
    {
     "name": "stdout",
     "output_type": "stream",
     "text": [
      "<class 'dict'>\n",
      "<class 'dict'>\n",
      "<class 'dict'>\n"
     ]
    }
   ],
   "source": [
    "print(type(idades))\n",
    "print(type(pesos_alturas))\n",
    "print(type(mix))"
   ]
  },
  {
   "cell_type": "markdown",
   "id": "e98a970c",
   "metadata": {},
   "source": [
    "##\n",
    "<div style=\"margin-top: -20px;\">\n",
    "<hr style=\"border: 2px solid blue;\">\n",
    "\n",
    "<font color='blue'><span style=\"font-size: 22px;\"><strong>9.2 Acessando, Alterando e Adicionando Elementos a um Dicionário</strong></span></font>\n",
    "\n",
    "<hr style=\"border: 2px solid blue;\">\n",
    "</div>"
   ]
  },
  {
   "cell_type": "markdown",
   "id": "a6f8988c",
   "metadata": {},
   "source": [
    "Dicionários em Python não suportem indexação por índices numéricos como as listas ou tuplas. Em vez disso, eles usam chaves para indexar e acessar seus valores correspondentes. As chaves são geralmente strings, mas podem ser qualquer tipo de dados imutável, como tuplas e números."
   ]
  },
  {
   "cell_type": "markdown",
   "id": "6797e1d8",
   "metadata": {},
   "source": [
    "###\n",
    "<div style=\"margin-top: -20px;\">\n",
    "<hr style=\"border: 2px solid blue;\">\n",
    "\n",
    "<font color='blue'><span style=\"font-size: 18px;\"><strong>9.2.1 Verificação de Pertinência e Acesso a Elementos de Um Dicionário</strong></span></font>\n",
    "\n",
    "<hr style=\"border: 2px solid blue;\">\n",
    "</div>"
   ]
  },
  {
   "cell_type": "markdown",
   "id": "a979a5bc",
   "metadata": {},
   "source": [
    "#### Operador in"
   ]
  },
  {
   "cell_type": "markdown",
   "id": "d9a93c94",
   "metadata": {},
   "source": [
    "O operador in verifica se um elemento pertence a dicionário, retorando True. Caso contrário retorna False."
   ]
  },
  {
   "cell_type": "markdown",
   "id": "12f90bcc",
   "metadata": {},
   "source": [
    "##### Exemplo: Verificação de pertinência"
   ]
  },
  {
   "cell_type": "code",
   "execution_count": 4,
   "id": "9a63d6c4",
   "metadata": {
    "ExecuteTime": {
     "end_time": "2023-09-14T14:35:49.866763Z",
     "start_time": "2023-09-14T14:35:49.862542Z"
    }
   },
   "outputs": [
    {
     "name": "stdout",
     "output_type": "stream",
     "text": [
      "True\n",
      "False\n"
     ]
    }
   ],
   "source": [
    "# Dicionário\n",
    "idades = {'Allan': 39, 'Daniela':30, 'Lara':21}\n",
    "\n",
    "# Verificações de pertinência\n",
    "print('Allan' in idades)\n",
    "print('Helena' in idades)"
   ]
  },
  {
   "cell_type": "markdown",
   "id": "41cf978e",
   "metadata": {},
   "source": [
    "#### Acessando elementos de um dicionário"
   ]
  },
  {
   "cell_type": "markdown",
   "id": "6a4d364c",
   "metadata": {},
   "source": [
    "##### Exemplo 1: Imprimindo valor de uma chave"
   ]
  },
  {
   "cell_type": "code",
   "execution_count": 5,
   "id": "65e36eec",
   "metadata": {
    "ExecuteTime": {
     "end_time": "2023-09-14T14:35:50.411751Z",
     "start_time": "2023-09-14T14:35:50.407431Z"
    }
   },
   "outputs": [
    {
     "name": "stdout",
     "output_type": "stream",
     "text": [
      "39\n"
     ]
    }
   ],
   "source": [
    "# Dicionário\n",
    "idades = {'Allan': 39, 'Daniela':30, 'Lara':21}\n",
    "\n",
    "# Imprimindo valor de uma chave\n",
    "print(idades['Allan'])"
   ]
  },
  {
   "cell_type": "markdown",
   "id": "fd7ef068",
   "metadata": {},
   "source": [
    "##### Exemplo 2: Imprimindo valores e subvalores de uma chave"
   ]
  },
  {
   "cell_type": "markdown",
   "id": "548fed12",
   "metadata": {},
   "source": [
    "Embora dicionários não apresetem indexação numérica, elementos internos como listas e tuplas ainda apresentam. Neste caso podemos acessar uma chave cujo valor seja um item indexado."
   ]
  },
  {
   "cell_type": "code",
   "execution_count": 6,
   "id": "fac2ec52",
   "metadata": {
    "ExecuteTime": {
     "end_time": "2023-09-14T14:35:52.628248Z",
     "start_time": "2023-09-14T14:35:52.623895Z"
    }
   },
   "outputs": [
    {
     "name": "stdout",
     "output_type": "stream",
     "text": [
      "[9.0, 9.5, 9.1]\n",
      "9.1\n"
     ]
    }
   ],
   "source": [
    "# Dicionário\n",
    "notas = {'Allan':[9,8.7,10], 'Lucas':[8.9,10,8.8], 'Lara':[9.0,9.5,9.1]}\n",
    "\n",
    "# Imprimindo o valor de uma chave\n",
    "print(notas['Lara'])\n",
    "\n",
    "# Imprimindo um subvalor de uma chave\n",
    "print(notas['Lara'][2])"
   ]
  },
  {
   "cell_type": "markdown",
   "id": "d973c108",
   "metadata": {},
   "source": [
    "###\n",
    "<div style=\"margin-top: -20px;\">\n",
    "<hr style=\"border: 2px solid blue;\">\n",
    "\n",
    "<font color='blue'><span style=\"font-size: 18px;\"><strong>9.2.2 Alterando Elementos em Um Dicionário</strong></span></font>\n",
    "\n",
    "<hr style=\"border: 2px solid blue;\">\n",
    "</div>"
   ]
  },
  {
   "cell_type": "markdown",
   "id": "18e42331",
   "metadata": {},
   "source": [
    "#### Alterando o valor de uma chave em um dicionário"
   ]
  },
  {
   "cell_type": "markdown",
   "id": "c322d2cb",
   "metadata": {},
   "source": [
    "##### Exemplo: Alterando o valor de uma chave"
   ]
  },
  {
   "cell_type": "code",
   "execution_count": 7,
   "id": "379ea034",
   "metadata": {
    "ExecuteTime": {
     "end_time": "2023-09-14T14:42:07.193211Z",
     "start_time": "2023-09-14T14:42:07.183102Z"
    }
   },
   "outputs": [
    {
     "name": "stdout",
     "output_type": "stream",
     "text": [
      "{'Allan': 39, 'Daniela': 30, 'Lara': 21}\n"
     ]
    }
   ],
   "source": [
    "# Dicionário\n",
    "idades = {'Allan': 39, 'Daniela':30, 'Lara':21}\n",
    "\n",
    "# Imprimindo o dicionário (para conferência)\n",
    "print(idades)"
   ]
  },
  {
   "cell_type": "code",
   "execution_count": 8,
   "id": "318f972a",
   "metadata": {
    "ExecuteTime": {
     "end_time": "2023-09-14T14:43:33.876153Z",
     "start_time": "2023-09-14T14:43:33.873314Z"
    }
   },
   "outputs": [],
   "source": [
    "# Alterando o valor de uma chave\n",
    "idades['Allan'] = 40"
   ]
  },
  {
   "cell_type": "code",
   "execution_count": 9,
   "id": "df7fcafb",
   "metadata": {
    "ExecuteTime": {
     "end_time": "2023-09-14T14:43:43.125269Z",
     "start_time": "2023-09-14T14:43:43.122444Z"
    }
   },
   "outputs": [
    {
     "name": "stdout",
     "output_type": "stream",
     "text": [
      "{'Allan': 40, 'Daniela': 30, 'Lara': 21}\n"
     ]
    }
   ],
   "source": [
    "# Imprimindo o dicionário atualizado\n",
    "print(idades)"
   ]
  },
  {
   "cell_type": "markdown",
   "id": "34688d75",
   "metadata": {},
   "source": [
    "#### Adicionando e removendo chaves de um dicionário"
   ]
  },
  {
   "cell_type": "markdown",
   "id": "ee9ff581",
   "metadata": {},
   "source": [
    "##### Exemplo 1: Adicionando uma nova chave/valor a um dicionário"
   ]
  },
  {
   "cell_type": "code",
   "execution_count": 10,
   "id": "68a7b3d7",
   "metadata": {
    "ExecuteTime": {
     "end_time": "2023-09-14T14:44:51.214305Z",
     "start_time": "2023-09-14T14:44:51.210291Z"
    },
    "scrolled": true
   },
   "outputs": [
    {
     "name": "stdout",
     "output_type": "stream",
     "text": [
      "{'Allan': 39, 'Daniela': 30, 'Lara': 21}\n"
     ]
    }
   ],
   "source": [
    "# Dicionário\n",
    "idades = {'Allan': 39, 'Daniela':30, 'Lara':21}\n",
    "\n",
    "# Imprimindo o dicionário (para conferência)\n",
    "print(idades)"
   ]
  },
  {
   "cell_type": "code",
   "execution_count": 11,
   "id": "99553284",
   "metadata": {
    "ExecuteTime": {
     "end_time": "2023-09-14T14:45:40.510824Z",
     "start_time": "2023-09-14T14:45:40.507405Z"
    }
   },
   "outputs": [
    {
     "name": "stdout",
     "output_type": "stream",
     "text": [
      "{'Allan': 39, 'Daniela': 30, 'Lara': 21, 'Helena': 5}\n"
     ]
    }
   ],
   "source": [
    "# Acrescentando um novo item chave/valor a um dicionário\n",
    "idades['Helena'] = 5\n",
    "\n",
    "# Imprimindo o dicionário atualizado\n",
    "print(idades)"
   ]
  },
  {
   "cell_type": "markdown",
   "id": "03b2cc8a",
   "metadata": {},
   "source": [
    "##### Exemplo 2: Deletando uma chave/valor a um dicionário"
   ]
  },
  {
   "cell_type": "code",
   "execution_count": 12,
   "id": "48f60d1a",
   "metadata": {
    "ExecuteTime": {
     "end_time": "2023-09-14T14:46:01.031058Z",
     "start_time": "2023-09-14T14:46:01.026478Z"
    }
   },
   "outputs": [
    {
     "name": "stdout",
     "output_type": "stream",
     "text": [
      "{'Allan': 39, 'Daniela': 30, 'Lara': 21}\n"
     ]
    }
   ],
   "source": [
    "# Dicionário\n",
    "idades = {'Allan': 39, 'Daniela':30, 'Lara':21}\n",
    "\n",
    "# Imprimindo o dicionário (para conferência)\n",
    "print(idades)"
   ]
  },
  {
   "cell_type": "code",
   "execution_count": 13,
   "id": "0f3cd682",
   "metadata": {
    "ExecuteTime": {
     "end_time": "2023-09-14T14:46:35.135625Z",
     "start_time": "2023-09-14T14:46:35.131636Z"
    }
   },
   "outputs": [
    {
     "name": "stdout",
     "output_type": "stream",
     "text": [
      "{'Allan': 39, 'Daniela': 30}\n"
     ]
    }
   ],
   "source": [
    "# Deletando uma chave/valor de um dicionário\n",
    "del idades['Lara']\n",
    "\n",
    "# Imprimindo o dicionário atualizado\n",
    "print(idades)"
   ]
  },
  {
   "cell_type": "markdown",
   "id": "abda1f58",
   "metadata": {},
   "source": [
    "#### Deletando um dicionário"
   ]
  },
  {
   "cell_type": "markdown",
   "id": "457addd8",
   "metadata": {},
   "source": [
    "##### Exemplo: Deletando todo um dicionário"
   ]
  },
  {
   "cell_type": "code",
   "execution_count": 14,
   "id": "352c929c",
   "metadata": {
    "ExecuteTime": {
     "end_time": "2023-09-14T15:08:15.817482Z",
     "start_time": "2023-09-14T15:08:15.806111Z"
    }
   },
   "outputs": [
    {
     "name": "stdout",
     "output_type": "stream",
     "text": [
      "{'Nome': 'Marcos', 'Idade': 41}\n"
     ]
    }
   ],
   "source": [
    "# Dicionario\n",
    "dados_pessoais = {'Nome':'Marcos', 'Idade':41}\n",
    "\n",
    "# Imprimindo o dicionário\n",
    "print(dados_pessoais)"
   ]
  },
  {
   "cell_type": "code",
   "execution_count": 15,
   "id": "6c60b5b1",
   "metadata": {
    "ExecuteTime": {
     "end_time": "2023-09-14T15:08:15.977955Z",
     "start_time": "2023-09-14T15:08:15.974329Z"
    }
   },
   "outputs": [],
   "source": [
    "# Deletando o dicionário\n",
    "del dados_pessoais"
   ]
  },
  {
   "cell_type": "code",
   "execution_count": 16,
   "id": "9867d973",
   "metadata": {
    "ExecuteTime": {
     "end_time": "2023-09-14T15:08:16.917256Z",
     "start_time": "2023-09-14T15:08:16.138829Z"
    }
   },
   "outputs": [
    {
     "ename": "NameError",
     "evalue": "name 'dados_pessoais' is not defined",
     "output_type": "error",
     "traceback": [
      "\u001b[1;31m---------------------------------------------------------------------------\u001b[0m",
      "\u001b[1;31mNameError\u001b[0m                                 Traceback (most recent call last)",
      "Cell \u001b[1;32mIn[16], line 2\u001b[0m\n\u001b[0;32m      1\u001b[0m \u001b[38;5;66;03m# Tentando imprimir um dicionário deletado\u001b[39;00m\n\u001b[1;32m----> 2\u001b[0m \u001b[38;5;28mprint\u001b[39m(dados_pessoais)\n",
      "\u001b[1;31mNameError\u001b[0m: name 'dados_pessoais' is not defined"
     ]
    }
   ],
   "source": [
    "# Tentando imprimir um dicionário deletado\n",
    "print(dados_pessoais)"
   ]
  },
  {
   "cell_type": "markdown",
   "id": "1e2eb050",
   "metadata": {},
   "source": [
    "##\n",
    "<div style=\"margin-top: -20px;\">\n",
    "<hr style=\"border: 2px solid blue;\">\n",
    "\n",
    "<font color='blue'><span style=\"font-size: 22px;\"><strong>9.3 Funções Nativas (Built-in) e Métodos Com Dicionários</strong></span></font>\n",
    "\n",
    "<hr style=\"border: 2px solid blue;\">\n",
    "</div>"
   ]
  },
  {
   "cell_type": "markdown",
   "id": "c8a1342c",
   "metadata": {},
   "source": [
    "As funções <u>nativas</u> (ou <u>built-in</u>) em uma linguagem de programação são funções que já fazem parte do núcleo da linguagem e estão disponíveis para uso imediato, sem a necessidade de instalar bibliotecas ou módulos adicionais. <u>Métodos</u> são como funções, porém específicas para o objeto em questão. Vejamos agora algumas das funções e métodos mais utilizados relacionadas à dicionários."
   ]
  },
  {
   "cell_type": "markdown",
   "id": "9a5ca193",
   "metadata": {},
   "source": [
    "***Observação:*** *Algumas funções associadas à dicionários fazem uso de estruturas condicionais (<font color='red'>**Capítulo 12**</font>) e estruturas de repetição (<font color='red'>**Capítulos 13**</font> e <font color='red'>**14**</font>). Uma lida parcial nestes capítulos já é o suficiente para você entender o uso feito nos códigos a seguir.* "
   ]
  },
  {
   "cell_type": "markdown",
   "id": "3d98e227",
   "metadata": {},
   "source": [
    "###\n",
    "<div style=\"margin-top: -20px;\">\n",
    "<hr style=\"border: 2px solid blue;\">\n",
    "\n",
    "<font color='blue'><span style=\"font-size: 18px;\"><strong>9.3.1 Funções Nativas (Built-in) e Métodos Com Dicionários - Parte 1</strong></span></font>\n",
    "\n",
    "<hr style=\"border: 2px solid blue;\">\n",
    "</div>"
   ]
  },
  {
   "cell_type": "markdown",
   "id": "47a3e622",
   "metadata": {},
   "source": [
    "#### keys()"
   ]
  },
  {
   "cell_type": "markdown",
   "id": "940be292",
   "metadata": {},
   "source": [
    "Retorna uma lista com todas as chaves do dicionário."
   ]
  },
  {
   "cell_type": "code",
   "execution_count": 17,
   "id": "0fb7c6fe",
   "metadata": {
    "ExecuteTime": {
     "end_time": "2023-09-14T15:10:46.308606Z",
     "start_time": "2023-09-14T15:10:46.304914Z"
    }
   },
   "outputs": [
    {
     "name": "stdout",
     "output_type": "stream",
     "text": [
      "dict_keys(['Matemática', 'Física', 'Química'])\n"
     ]
    }
   ],
   "source": [
    "dicionario = {'Matemática': 9.1, 'Física':8.2, 'Química':9.0}\n",
    "\n",
    "print(dicionario.keys())"
   ]
  },
  {
   "cell_type": "code",
   "execution_count": 18,
   "id": "2c7bbe0b",
   "metadata": {},
   "outputs": [
    {
     "name": "stdout",
     "output_type": "stream",
     "text": [
      "['Matemática', 'Física', 'Química']\n"
     ]
    }
   ],
   "source": [
    "print(list(dicionario.keys()))"
   ]
  },
  {
   "cell_type": "markdown",
   "id": "8f2a2c01",
   "metadata": {},
   "source": [
    "#### values()"
   ]
  },
  {
   "cell_type": "markdown",
   "id": "c8d00037",
   "metadata": {},
   "source": [
    "Retorna uma lista com todos os valores do dicionário."
   ]
  },
  {
   "cell_type": "code",
   "execution_count": 19,
   "id": "dd2d17f9",
   "metadata": {
    "ExecuteTime": {
     "end_time": "2023-09-14T15:11:13.115793Z",
     "start_time": "2023-09-14T15:11:13.111403Z"
    }
   },
   "outputs": [
    {
     "name": "stdout",
     "output_type": "stream",
     "text": [
      "dict_values([9.1, 8.2, 9.0])\n"
     ]
    }
   ],
   "source": [
    "dicionario = {'Matemática': 9.1, 'Física':8.2, 'Química':9.0}\n",
    "\n",
    "print(dicionario.values())"
   ]
  },
  {
   "cell_type": "code",
   "execution_count": 20,
   "id": "ee156de6",
   "metadata": {},
   "outputs": [
    {
     "name": "stdout",
     "output_type": "stream",
     "text": [
      "[9.1, 8.2, 9.0]\n"
     ]
    }
   ],
   "source": [
    "print(list(dicionario.values()))"
   ]
  },
  {
   "cell_type": "markdown",
   "id": "cb76f213",
   "metadata": {},
   "source": [
    "#### all()"
   ]
  },
  {
   "cell_type": "markdown",
   "id": "b6a21064",
   "metadata": {},
   "source": [
    "Retorna True se todos os elementos do dicionário forem True, caso contrário retorna False."
   ]
  },
  {
   "cell_type": "code",
   "execution_count": 21,
   "id": "e1cb5fbf",
   "metadata": {
    "ExecuteTime": {
     "end_time": "2023-09-14T15:14:01.541941Z",
     "start_time": "2023-09-14T15:14:01.537813Z"
    }
   },
   "outputs": [
    {
     "name": "stdout",
     "output_type": "stream",
     "text": [
      "True\n"
     ]
    }
   ],
   "source": [
    "dicionario1 = {\"Matemática\":8.3, \"Geografia\":7.7, \"História\":7.1}\n",
    "\n",
    "situacao = all(valor > 7.0 for valor in dicionario1.values())\n",
    "print(situacao)"
   ]
  },
  {
   "cell_type": "code",
   "execution_count": 22,
   "id": "575b59fa",
   "metadata": {
    "ExecuteTime": {
     "end_time": "2023-09-14T15:14:26.260800Z",
     "start_time": "2023-09-14T15:14:26.256048Z"
    }
   },
   "outputs": [
    {
     "name": "stdout",
     "output_type": "stream",
     "text": [
      "False\n"
     ]
    }
   ],
   "source": [
    "dicionario2 = {\"Matemática\":6.0, \"Geografia\":9.0, \"História\":8.0}\n",
    "\n",
    "situacao = all(valor > 7.0 for valor in dicionario2.values())\n",
    "print(situacao)"
   ]
  },
  {
   "cell_type": "markdown",
   "id": "74491a06",
   "metadata": {},
   "source": [
    "#### any()"
   ]
  },
  {
   "cell_type": "markdown",
   "id": "5107734c",
   "metadata": {},
   "source": [
    "Retorna True se pelo menos uma chave/valor do dicionário for True, caso contrário retorna False."
   ]
  },
  {
   "cell_type": "code",
   "execution_count": 23,
   "id": "6e4c006e",
   "metadata": {
    "ExecuteTime": {
     "end_time": "2023-09-14T15:15:12.044284Z",
     "start_time": "2023-09-14T15:15:12.039515Z"
    }
   },
   "outputs": [
    {
     "name": "stdout",
     "output_type": "stream",
     "text": [
      "True\n"
     ]
    }
   ],
   "source": [
    "dicionario1 = {\"Matemática\":8.3, \"Geografia\":6.9, \"História\":7.1}\n",
    "\n",
    "situacao = any(valor > 7.0 for valor in dicionario1.values())\n",
    "print(situacao)"
   ]
  },
  {
   "cell_type": "code",
   "execution_count": 24,
   "id": "60004c21",
   "metadata": {
    "ExecuteTime": {
     "end_time": "2023-09-14T15:15:58.442341Z",
     "start_time": "2023-09-14T15:15:58.438447Z"
    }
   },
   "outputs": [
    {
     "name": "stdout",
     "output_type": "stream",
     "text": [
      "False\n"
     ]
    }
   ],
   "source": [
    "dicionario2 = {\"Matemática\":6.5, \"Geografia\":6.1, \"História\":6.3}\n",
    "\n",
    "situacao = any(valor > 7.0 for valor in dicionario2.values())\n",
    "print(situacao)"
   ]
  },
  {
   "cell_type": "markdown",
   "id": "4d71fe96",
   "metadata": {},
   "source": [
    "#### clear()"
   ]
  },
  {
   "cell_type": "markdown",
   "id": "8664382c",
   "metadata": {},
   "source": [
    "Remove todos os pares chave-valor do dicionário."
   ]
  },
  {
   "cell_type": "code",
   "execution_count": 25,
   "id": "6567b735",
   "metadata": {
    "ExecuteTime": {
     "end_time": "2023-09-14T15:16:20.316193Z",
     "start_time": "2023-09-14T15:16:20.311344Z"
    }
   },
   "outputs": [
    {
     "name": "stdout",
     "output_type": "stream",
     "text": [
      "{}\n"
     ]
    }
   ],
   "source": [
    "dicionario = {'Allan': 39, 'Daniela':30, 'Lara':21}\n",
    "dicionario.clear()\n",
    "print(dicionario)"
   ]
  },
  {
   "cell_type": "markdown",
   "id": "3c8ac8e5",
   "metadata": {},
   "source": [
    "#### copy()"
   ]
  },
  {
   "cell_type": "markdown",
   "id": "c9d07592",
   "metadata": {},
   "source": [
    "Retorna uma cópia superficial do dicionário."
   ]
  },
  {
   "cell_type": "code",
   "execution_count": 26,
   "id": "50940d11",
   "metadata": {
    "ExecuteTime": {
     "end_time": "2023-09-14T15:25:14.714226Z",
     "start_time": "2023-09-14T15:25:14.704911Z"
    }
   },
   "outputs": [
    {
     "name": "stdout",
     "output_type": "stream",
     "text": [
      "{'Matemática': 9.1, 'Física': 8.2, 'Química': 9.0}\n",
      "{'Matemática': 9.1, 'Física': 8.2, 'Química': 9.0}\n"
     ]
    }
   ],
   "source": [
    "dicionario1 = {'Matemática': 9.1, 'Física':8.2, 'Química':9.0}\n",
    "\n",
    "dicionario2 = dicionario1.copy()\n",
    "\n",
    "print(dicionario1)\n",
    "print(dicionario2)"
   ]
  },
  {
   "cell_type": "code",
   "execution_count": 27,
   "id": "a30db8c4",
   "metadata": {
    "ExecuteTime": {
     "end_time": "2023-09-14T15:25:14.883684Z",
     "start_time": "2023-09-14T15:25:14.880805Z"
    }
   },
   "outputs": [
    {
     "name": "stdout",
     "output_type": "stream",
     "text": [
      "{'Matemática': 9.1, 'Física': 8.2, 'Química': 9.0}\n",
      "{'Matemática': 9.1, 'Física': 8.2, 'Química': 9.0, 'Português': 8.0, 'História': 7.9}\n"
     ]
    }
   ],
   "source": [
    "dicionario2.update({'Português':8.0,'História':7.9})\n",
    "\n",
    "print(dicionario1)\n",
    "print(dicionario2)"
   ]
  },
  {
   "cell_type": "markdown",
   "id": "eace8f80",
   "metadata": {},
   "source": [
    "###\n",
    "<div style=\"margin-top: -20px;\">\n",
    "<hr style=\"border: 2px solid blue;\">\n",
    "\n",
    "<font color='blue'><span style=\"font-size: 18px;\"><strong>9.3.2 Funções Nativas (Built-in) e Métodos Com Dicionários - Parte 2</strong></span></font>\n",
    "\n",
    "<hr style=\"border: 2px solid blue;\">\n",
    "</div>"
   ]
  },
  {
   "cell_type": "markdown",
   "id": "8abeffc3",
   "metadata": {},
   "source": [
    "#### dict()"
   ]
  },
  {
   "cell_type": "markdown",
   "id": "eee94a8b",
   "metadata": {},
   "source": [
    "Cria um novo dicionário a partir de outra estrutura de dados. Por exemplo, você pode criar um dicionário a partir de uma lista de tuplas ou de duas listas separadas."
   ]
  },
  {
   "cell_type": "code",
   "execution_count": 28,
   "id": "03fe395a",
   "metadata": {
    "ExecuteTime": {
     "end_time": "2023-09-14T15:27:12.255718Z",
     "start_time": "2023-09-14T15:27:12.251255Z"
    }
   },
   "outputs": [
    {
     "name": "stdout",
     "output_type": "stream",
     "text": [
      "{'Janeiro': 10, 'Fevereiro': 8, 'Março': 5}\n"
     ]
    }
   ],
   "source": [
    "lista1 = [\"Janeiro\", \"Fevereiro\", \"Março\"]\n",
    "lista2 = [10, 8, 5]\n",
    "\n",
    "dicionario1 = dict(zip(lista1, lista2))\n",
    "print(dicionario1)"
   ]
  },
  {
   "cell_type": "code",
   "execution_count": 29,
   "id": "ee9b81f1",
   "metadata": {
    "ExecuteTime": {
     "end_time": "2023-09-14T15:27:49.933865Z",
     "start_time": "2023-09-14T15:27:49.928925Z"
    }
   },
   "outputs": [
    {
     "name": "stdout",
     "output_type": "stream",
     "text": [
      "{67.0: 1.67, 72.3: 1.76, 55.9: 1.61}\n"
     ]
    }
   ],
   "source": [
    "tupla = (67.0,72.3,55.9)\n",
    "lista = [1.67,1.76,1.61]\n",
    "\n",
    "dicionario = dict(zip(tupla, lista))\n",
    "print(dicionario)"
   ]
  },
  {
   "cell_type": "markdown",
   "id": "5e9c1955",
   "metadata": {},
   "source": [
    "#### fromkeys()"
   ]
  },
  {
   "cell_type": "markdown",
   "id": "cff75144",
   "metadata": {},
   "source": [
    "Cria um novo dicionário com as chaves especificadas e um valor padrão (opcional) para todas as chaves."
   ]
  },
  {
   "cell_type": "code",
   "execution_count": 30,
   "id": "478fca12",
   "metadata": {
    "ExecuteTime": {
     "end_time": "2023-09-14T15:29:26.349318Z",
     "start_time": "2023-09-14T15:29:26.345785Z"
    },
    "scrolled": false
   },
   "outputs": [
    {
     "name": "stdout",
     "output_type": "stream",
     "text": [
      "{'Janeiro': 0, 'Fevereiro': 0, 'Março': 0}\n"
     ]
    }
   ],
   "source": [
    "dicionario = [\"Janeiro\", \"Fevereiro\", \"Março\"]\n",
    "frequencias = dict.fromkeys(dicionario, 0)\n",
    "\n",
    "print(frequencias)"
   ]
  },
  {
   "cell_type": "code",
   "execution_count": 31,
   "id": "d010e2b4",
   "metadata": {
    "ExecuteTime": {
     "end_time": "2023-09-14T15:29:58.144523Z",
     "start_time": "2023-09-14T15:29:58.140967Z"
    }
   },
   "outputs": [
    {
     "name": "stdout",
     "output_type": "stream",
     "text": [
      "{'Janeiro': 10, 'Fevereiro': 0, 'Março': 0}\n"
     ]
    }
   ],
   "source": [
    "frequencias['Janeiro'] = 10\n",
    "\n",
    "print(frequencias)"
   ]
  },
  {
   "cell_type": "markdown",
   "id": "d3d00fc0",
   "metadata": {},
   "source": [
    "#### get()"
   ]
  },
  {
   "cell_type": "markdown",
   "id": "dcf3ef51",
   "metadata": {},
   "source": [
    "Retorna o valor correspondente a uma chave específica ou None se a chave não existir."
   ]
  },
  {
   "cell_type": "code",
   "execution_count": 32,
   "id": "1aa4b4d3",
   "metadata": {
    "ExecuteTime": {
     "end_time": "2023-09-14T15:30:48.653153Z",
     "start_time": "2023-09-14T15:30:48.648832Z"
    }
   },
   "outputs": [
    {
     "name": "stdout",
     "output_type": "stream",
     "text": [
      "8.2\n",
      "None\n"
     ]
    }
   ],
   "source": [
    "dicionario = {'Matemática': 9.1, 'Física':8.2, 'Química':9.0}\n",
    "\n",
    "print(dicionario.get('Física'))\n",
    "print(dicionario.get('Português'))"
   ]
  },
  {
   "cell_type": "markdown",
   "id": "a6711061",
   "metadata": {},
   "source": [
    "#### items()"
   ]
  },
  {
   "cell_type": "markdown",
   "id": "10c0b838",
   "metadata": {},
   "source": [
    "Retorna uma lista de tuplas, onde cada tupla contém uma chave e seu valor correspondente."
   ]
  },
  {
   "cell_type": "code",
   "execution_count": 33,
   "id": "2ec85203",
   "metadata": {
    "ExecuteTime": {
     "end_time": "2023-09-14T15:31:39.806573Z",
     "start_time": "2023-09-14T15:31:39.801835Z"
    }
   },
   "outputs": [
    {
     "name": "stdout",
     "output_type": "stream",
     "text": [
      "dict_items([('Matemática', 9.1), ('Física', 8.2), ('Química', 9.0)])\n"
     ]
    }
   ],
   "source": [
    "dicionario = {'Matemática': 9.1, 'Física':8.2, 'Química':9.0}\n",
    "\n",
    "print(dicionario.items())"
   ]
  },
  {
   "cell_type": "markdown",
   "id": "8c77181e",
   "metadata": {},
   "source": [
    "#### len()"
   ]
  },
  {
   "cell_type": "markdown",
   "id": "329b6537",
   "metadata": {},
   "source": [
    "Retorna o número de elementos de um dicionário."
   ]
  },
  {
   "cell_type": "code",
   "execution_count": 34,
   "id": "910c52ac",
   "metadata": {
    "ExecuteTime": {
     "end_time": "2023-09-14T15:32:38.086231Z",
     "start_time": "2023-09-14T15:32:38.082097Z"
    }
   },
   "outputs": [
    {
     "name": "stdout",
     "output_type": "stream",
     "text": [
      "3\n"
     ]
    }
   ],
   "source": [
    "dicionario = {'Matemática': 9.1, 'Física':8.2, 'Química':9.0}\n",
    "\n",
    "print(len(dicionario))"
   ]
  },
  {
   "cell_type": "markdown",
   "id": "70539180",
   "metadata": {},
   "source": [
    "#### pop()"
   ]
  },
  {
   "cell_type": "markdown",
   "id": "89f2985d",
   "metadata": {},
   "source": [
    "Remove e retorna o valor correspondente a uma chave específica. Se a chave não existir, retorna um valor padrão (se especificado) ou gera uma exceção KeyError."
   ]
  },
  {
   "cell_type": "code",
   "execution_count": 35,
   "id": "3a922f2c",
   "metadata": {
    "ExecuteTime": {
     "end_time": "2023-09-14T15:43:00.121662Z",
     "start_time": "2023-09-14T15:43:00.113455Z"
    }
   },
   "outputs": [
    {
     "name": "stdout",
     "output_type": "stream",
     "text": [
      "9.0\n"
     ]
    }
   ],
   "source": [
    "dicionario = {'Matemática': 9.1, 'Física':8.2, 'Química':9.0}\n",
    "\n",
    "nota1 = dicionario.pop('Química','None')\n",
    "print(nota1)"
   ]
  },
  {
   "cell_type": "code",
   "execution_count": 36,
   "id": "70375629",
   "metadata": {
    "ExecuteTime": {
     "end_time": "2023-09-14T15:43:00.269990Z",
     "start_time": "2023-09-14T15:43:00.266038Z"
    }
   },
   "outputs": [
    {
     "name": "stdout",
     "output_type": "stream",
     "text": [
      "None\n"
     ]
    }
   ],
   "source": [
    "nota2 = dicionario.pop('Português','None')\n",
    "print(nota2)"
   ]
  },
  {
   "cell_type": "code",
   "execution_count": 37,
   "id": "2753ff82",
   "metadata": {
    "ExecuteTime": {
     "end_time": "2023-09-14T15:43:00.444487Z",
     "start_time": "2023-09-14T15:43:00.440618Z"
    }
   },
   "outputs": [
    {
     "name": "stdout",
     "output_type": "stream",
     "text": [
      "{'Matemática': 9.1, 'Física': 8.2}\n"
     ]
    }
   ],
   "source": [
    "print(dicionario)"
   ]
  },
  {
   "cell_type": "markdown",
   "id": "c76a0e86",
   "metadata": {},
   "source": [
    "###\n",
    "<div style=\"margin-top: -20px;\">\n",
    "<hr style=\"border: 2px solid blue;\">\n",
    "\n",
    "<font color='blue'><span style=\"font-size: 18px;\"><strong>9.3.3 Funções Nativas (Built-in) e Métodos Com Dicionários - Parte 3</strong></span></font>\n",
    "\n",
    "<hr style=\"border: 2px solid blue;\">\n",
    "</div>"
   ]
  },
  {
   "cell_type": "markdown",
   "id": "a4f3632a",
   "metadata": {},
   "source": [
    "#### popitem()"
   ]
  },
  {
   "cell_type": "markdown",
   "id": "681089da",
   "metadata": {},
   "source": [
    "Remove e retorna o último item inserido em um dicionário."
   ]
  },
  {
   "cell_type": "code",
   "execution_count": 38,
   "id": "d6142ca2",
   "metadata": {
    "ExecuteTime": {
     "end_time": "2023-09-14T15:45:39.116458Z",
     "start_time": "2023-09-14T15:45:39.111524Z"
    }
   },
   "outputs": [
    {
     "name": "stdout",
     "output_type": "stream",
     "text": [
      "Chave removida: c\n",
      "Valor removido: 3\n",
      "Dicionário atualizado: {'a': 1, 'b': 2}\n"
     ]
    }
   ],
   "source": [
    "dicionario = {'a': 1, 'b': 2, 'c': 3}\n",
    "\n",
    "chave, valor = dicionario.popitem()\n",
    "\n",
    "print(\"Chave removida:\", chave)\n",
    "print(\"Valor removido:\", valor)\n",
    "\n",
    "print(\"Dicionário atualizado:\", dicionario)"
   ]
  },
  {
   "cell_type": "markdown",
   "id": "83d9e4dd",
   "metadata": {},
   "source": [
    "#### setdefault()"
   ]
  },
  {
   "cell_type": "markdown",
   "id": "77c7e432",
   "metadata": {},
   "source": [
    "Retorna o valor correspondente a uma chave específica. Se a chave não existir, adiciona a chave com um valor padrão (se especificado) e retorna esse valor."
   ]
  },
  {
   "cell_type": "code",
   "execution_count": 39,
   "id": "f9abc72f",
   "metadata": {
    "ExecuteTime": {
     "end_time": "2023-09-14T15:46:42.894151Z",
     "start_time": "2023-09-14T15:46:42.889668Z"
    }
   },
   "outputs": [
    {
     "name": "stdout",
     "output_type": "stream",
     "text": [
      "9.0\n",
      "{'Matemática': 9.1, 'Física': 8.2, 'Química': 9.0}\n"
     ]
    }
   ],
   "source": [
    "dicionario = {'Matemática': 9.1, 'Física':8.2, 'Química':9.0}\n",
    "\n",
    "chave = dicionario.setdefault('Química',None)\n",
    "\n",
    "print(chave)\n",
    "\n",
    "print(dicionario)"
   ]
  },
  {
   "cell_type": "code",
   "execution_count": 40,
   "id": "60239afc",
   "metadata": {
    "ExecuteTime": {
     "end_time": "2023-09-14T15:47:02.110273Z",
     "start_time": "2023-09-14T15:47:02.106388Z"
    }
   },
   "outputs": [
    {
     "name": "stdout",
     "output_type": "stream",
     "text": [
      "{'Matemática': 9.1, 'Física': 8.2, 'Química': 9.0, 'Português': None}\n"
     ]
    }
   ],
   "source": [
    "dicionario.setdefault('Português',None)\n",
    "\n",
    "print(dicionario)"
   ]
  },
  {
   "cell_type": "code",
   "execution_count": 41,
   "id": "eb219a41",
   "metadata": {
    "ExecuteTime": {
     "end_time": "2023-09-14T15:47:46.881532Z",
     "start_time": "2023-09-14T15:47:46.877749Z"
    }
   },
   "outputs": [
    {
     "name": "stdout",
     "output_type": "stream",
     "text": [
      "{'Matemática': 9.1, 'Física': 8.2, 'Química': 9.0, 'Português': None, 'História': 8.5}\n"
     ]
    }
   ],
   "source": [
    "dicionario.setdefault('História',8.5)\n",
    "\n",
    "print(dicionario)"
   ]
  },
  {
   "cell_type": "markdown",
   "id": "c3dee984",
   "metadata": {},
   "source": [
    "#### sorted()"
   ]
  },
  {
   "cell_type": "markdown",
   "id": "6e1ad2e4",
   "metadata": {},
   "source": [
    "Retorna uma lista ordenada das chaves do dicionário. Você pode especificar uma função de ordenação personalizada se desejar ordenar com base nos valores."
   ]
  },
  {
   "cell_type": "code",
   "execution_count": 42,
   "id": "4908b49b",
   "metadata": {
    "ExecuteTime": {
     "end_time": "2023-09-14T15:49:06.007224Z",
     "start_time": "2023-09-14T15:49:06.003001Z"
    }
   },
   "outputs": [
    {
     "name": "stdout",
     "output_type": "stream",
     "text": [
      "['Física', 'Matemática', 'Química']\n"
     ]
    }
   ],
   "source": [
    "# Ordenação com base nas chaves\n",
    "dicionario = {'Matemática': 9.1, 'Física':8.2, 'Química':9.0}\n",
    "\n",
    "materias = sorted(dicionario.keys())\n",
    "print(materias)"
   ]
  },
  {
   "cell_type": "code",
   "execution_count": 43,
   "id": "83eed6b1",
   "metadata": {
    "ExecuteTime": {
     "end_time": "2023-09-14T15:49:57.078717Z",
     "start_time": "2023-09-14T15:49:57.073791Z"
    }
   },
   "outputs": [
    {
     "name": "stdout",
     "output_type": "stream",
     "text": [
      "['Física', 'Química', 'Matemática']\n"
     ]
    }
   ],
   "source": [
    "# Ordenação com base nos valores\n",
    "valores = sorted(dicionario.keys(), key=lambda chave: dicionario[chave])\n",
    "print(valores)"
   ]
  },
  {
   "cell_type": "code",
   "execution_count": 44,
   "id": "5e64c0f4",
   "metadata": {
    "ExecuteTime": {
     "end_time": "2023-09-14T15:50:26.806986Z",
     "start_time": "2023-09-14T15:50:26.802776Z"
    }
   },
   "outputs": [
    {
     "name": "stdout",
     "output_type": "stream",
     "text": [
      "{'Matemática': 9.1, 'Física': 8.2, 'Química': 9.0}\n"
     ]
    }
   ],
   "source": [
    "# Ordenação do dicionário incial é preservada\n",
    "print(dicionario)"
   ]
  },
  {
   "cell_type": "markdown",
   "id": "69911dd7",
   "metadata": {},
   "source": [
    "Podemos, além disso, ordenar um dicionário com base em suas chaves:"
   ]
  },
  {
   "cell_type": "code",
   "execution_count": 45,
   "id": "3bee8038",
   "metadata": {},
   "outputs": [
    {
     "name": "stdout",
     "output_type": "stream",
     "text": [
      "{'Física': 8.2, 'Matemática': 9.1, 'Química': 9.0}\n"
     ]
    }
   ],
   "source": [
    "dicionario = {'Matemática': 9.1, 'Física':8.2, 'Química':9.0}\n",
    "\n",
    "# Ordenando o dicionário pelas chaves em ordem alfabética\n",
    "sorted_dic_chaves = {key: dicionario[key] for key in sorted(dicionario)}\n",
    "\n",
    "print(sorted_dic_chaves)\n"
   ]
  },
  {
   "cell_type": "markdown",
   "id": "732a8fef",
   "metadata": {},
   "source": [
    "Com uma simples modificação no código anterior podemos ordenar um dicionário com base nos valores:"
   ]
  },
  {
   "cell_type": "code",
   "execution_count": 46,
   "id": "407e5e0d",
   "metadata": {},
   "outputs": [
    {
     "name": "stdout",
     "output_type": "stream",
     "text": [
      "{'Física': 8.2, 'Química': 9.0, 'Matemática': 9.1}\n"
     ]
    }
   ],
   "source": [
    "dicionario = {'Matemática': 9.1, 'Física':8.2, 'Química':9.0}\n",
    "\n",
    "# Ordenando o dicionário pelos valores\n",
    "sorted_dic_valores = {key: value for key, value in sorted(dicionario.items(), key=lambda item: item[1])}\n",
    "\n",
    "print(sorted_dic_valores)\n"
   ]
  },
  {
   "cell_type": "markdown",
   "id": "150da914",
   "metadata": {},
   "source": [
    "#### update()"
   ]
  },
  {
   "cell_type": "markdown",
   "id": "0812e9aa",
   "metadata": {},
   "source": [
    "Adiciona ou atualiza vários pares chave-valor de uma vez."
   ]
  },
  {
   "cell_type": "code",
   "execution_count": 47,
   "id": "f906a395",
   "metadata": {
    "ExecuteTime": {
     "end_time": "2023-09-14T15:51:46.343508Z",
     "start_time": "2023-09-14T15:51:46.338355Z"
    }
   },
   "outputs": [
    {
     "name": "stdout",
     "output_type": "stream",
     "text": [
      "{'Feijão': 7.9, 'Arroz': 5.0, 'Café': 9.0}\n"
     ]
    }
   ],
   "source": [
    "dicionario = {\"Feijão\": 7.90, \"Arroz\": 5.00, \"Café\": 9.00}\n",
    "\n",
    "print(dicionario)"
   ]
  },
  {
   "cell_type": "code",
   "execution_count": 48,
   "id": "96c1c0e2",
   "metadata": {
    "ExecuteTime": {
     "end_time": "2023-09-14T15:52:16.935562Z",
     "start_time": "2023-09-14T15:52:16.932112Z"
    }
   },
   "outputs": [
    {
     "name": "stdout",
     "output_type": "stream",
     "text": [
      "{'Feijão': 7.9, 'Arroz': 5.0, 'Café': 10.0, 'Açucar': 3.9}\n"
     ]
    }
   ],
   "source": [
    "dicionario.update({\"Café\": 10.00, \"Açucar\": 3.90})\n",
    "\n",
    "print(dicionario)"
   ]
  },
  {
   "cell_type": "markdown",
   "id": "a64c2dca",
   "metadata": {},
   "source": [
    "Note que o dicionário original foi apagado da memória."
   ]
  },
  {
   "cell_type": "markdown",
   "id": "ee26baef",
   "metadata": {},
   "source": [
    "## <div style=\"margin-top: -20px;\">\n",
    "<hr style=\"border: 2px solid blue;\">\n",
    "\n",
    "<font color='blue'><span style=\"font-size: 22px;\"><strong>Exercícios</strong></span></font>\n",
    "\n",
    "<hr style=\"border: 2px solid blue;\">\n",
    "</div>"
   ]
  },
  {
   "cell_type": "markdown",
   "id": "a66fcade",
   "metadata": {},
   "source": [
    "#### Exercício 1"
   ]
  },
  {
   "cell_type": "markdown",
   "id": "28cd65fe",
   "metadata": {},
   "source": [
    "Considere o dicionário {'Allan': 39, 'Lara': 21, 'Helena': 6}.\n",
    "\n",
    "a) Exiba as chaves.\n",
    "\n",
    "b) Exiba os valores associados às chaves."
   ]
  },
  {
   "cell_type": "code",
   "execution_count": 49,
   "id": "3dfe6f31",
   "metadata": {},
   "outputs": [],
   "source": [
    "# Sua resposta\n",
    "# a)\n",
    "\n"
   ]
  },
  {
   "cell_type": "code",
   "execution_count": 50,
   "id": "ea017a74",
   "metadata": {},
   "outputs": [],
   "source": [
    "# Sua resposta\n",
    "# b)\n",
    "\n"
   ]
  },
  {
   "cell_type": "markdown",
   "id": "f3a820de",
   "metadata": {},
   "source": [
    "#### Exercício 2"
   ]
  },
  {
   "cell_type": "markdown",
   "id": "c6e361af",
   "metadata": {},
   "source": [
    "Repita o **Exercício 1** removendo as notações dict_keys e dict_values, restando somente a lista interna."
   ]
  },
  {
   "cell_type": "code",
   "execution_count": 51,
   "id": "40cd90a8",
   "metadata": {},
   "outputs": [],
   "source": [
    "# Sua resposta\n",
    "# a)\n",
    "\n"
   ]
  },
  {
   "cell_type": "code",
   "execution_count": 52,
   "id": "972c424e",
   "metadata": {},
   "outputs": [],
   "source": [
    "# Sua resposta\n",
    "# b)\n",
    "\n"
   ]
  },
  {
   "cell_type": "markdown",
   "id": "054fce9f",
   "metadata": {},
   "source": [
    "#### Exercício 3"
   ]
  },
  {
   "cell_type": "markdown",
   "id": "0e5ca27f",
   "metadata": {},
   "source": [
    "Considere as listas as listas frutas = ['Banana', 'Abacaxi', 'Melão', 'Goiaba'] e preco = [6.00, 4.50, 7.00, 5.00].\n",
    "\n",
    "a) Construa um dicionário a partir destas listas no qual as chaves são as frutas e os valores das chaves são os respectivos preços.\n",
    "\n",
    "b) Consulte o valor do melão.\n",
    "\n",
    "c) Insira a fruta maçã cujo preço é 4.00."
   ]
  },
  {
   "cell_type": "code",
   "execution_count": 53,
   "id": "307214ae",
   "metadata": {},
   "outputs": [],
   "source": [
    "# Sua resposta\n",
    "# a)\n",
    "\n"
   ]
  },
  {
   "cell_type": "code",
   "execution_count": 54,
   "id": "64aea3fb",
   "metadata": {},
   "outputs": [],
   "source": [
    "# Sua resposta\n",
    "# b)\n",
    "\n"
   ]
  },
  {
   "cell_type": "code",
   "execution_count": 55,
   "id": "24ffdaad",
   "metadata": {},
   "outputs": [],
   "source": [
    "# Sua resposta\n",
    "# c)\n",
    "\n"
   ]
  },
  {
   "cell_type": "markdown",
   "id": "a56dce9e",
   "metadata": {},
   "source": [
    "#### Exercício 4"
   ]
  },
  {
   "cell_type": "markdown",
   "id": "84ea1151",
   "metadata": {},
   "source": [
    "Considere o dicionário {'Allan': 39, 'Lara': 21, 'Helena': 6}.\n",
    "\n",
    "a) Crie um dicionario associado com chaves em ordem alfabética.\n",
    "\n",
    "b) Crie um dicionario associado com valores em ordem crescente.\n",
    "\n",
    "c) Acrescente o par chave:valor 'Daniela':30 e repita os itens 'a' e 'b'."
   ]
  },
  {
   "cell_type": "code",
   "execution_count": 56,
   "id": "916631c7",
   "metadata": {},
   "outputs": [],
   "source": [
    "# Sua resposta\n",
    "# a)\n",
    "\n"
   ]
  },
  {
   "cell_type": "code",
   "execution_count": 57,
   "id": "80cf9108",
   "metadata": {},
   "outputs": [],
   "source": [
    "# Sua resposta\n",
    "# b)\n",
    "\n"
   ]
  },
  {
   "cell_type": "code",
   "execution_count": 58,
   "id": "7654a13d",
   "metadata": {},
   "outputs": [],
   "source": [
    "# Sua resposta\n",
    "# a)\n",
    "\n"
   ]
  },
  {
   "cell_type": "markdown",
   "id": "a7f859f7",
   "metadata": {},
   "source": [
    "#### Exercício 5"
   ]
  },
  {
   "cell_type": "markdown",
   "id": "cf7d0be1",
   "metadata": {},
   "source": [
    "a) Apresente um código executável no qual o usuário possa cadastrar chaves e valores em um dicionário. Em seguida, o programa deve imprimir o dicionário com as chaves ordenadas em ordem alfabética. As chaves devem ser compostas por nomes de disciplinas (por exemplo, 'Matemática', 'Física', 'Química') e os valores devem ser numéricos, representando as notas (8.0, 7.8 e 9.0 respectivamente)."
   ]
  },
  {
   "cell_type": "code",
   "execution_count": 59,
   "id": "6793e27f",
   "metadata": {},
   "outputs": [],
   "source": [
    "# Sua resposta\n",
    "\n"
   ]
  },
  {
   "cell_type": "markdown",
   "id": "91a83b39",
   "metadata": {},
   "source": [
    "### <div style=\"margin-top: -20px;\">\n",
    "<hr style=\"border: 2px solid blue;\">\n",
    "\n",
    "<font color='blue'><span style=\"font-size: 18px;\"><strong>Soluções dos Exercícios</strong></span></font>\n",
    "\n",
    "<hr style=\"border: 2px solid blue;\">\n",
    "</div>"
   ]
  },
  {
   "cell_type": "markdown",
   "id": "5f65a154",
   "metadata": {},
   "source": [
    "#### Solução do Exercício 1"
   ]
  },
  {
   "cell_type": "code",
   "execution_count": 60,
   "id": "e826c5a8",
   "metadata": {},
   "outputs": [
    {
     "name": "stdout",
     "output_type": "stream",
     "text": [
      "dict_keys(['Allan', 'Lara', 'Helena'])\n"
     ]
    }
   ],
   "source": [
    "# a) \n",
    "\n",
    "# Entrada\n",
    "dic = {'Allan': 39, 'Lara': 21, 'Helena': 6}\n",
    "\n",
    "# Exibindo as chaves do dicionário dado\n",
    "print(dic.keys())"
   ]
  },
  {
   "cell_type": "code",
   "execution_count": 61,
   "id": "db382f52",
   "metadata": {},
   "outputs": [
    {
     "name": "stdout",
     "output_type": "stream",
     "text": [
      "<class 'dict_values'>\n"
     ]
    }
   ],
   "source": [
    "# b) \n",
    "\n",
    "# Exibindo os valores do dicionário dado\n",
    "print(type(dic.values()))"
   ]
  },
  {
   "cell_type": "markdown",
   "id": "7a49b2fd",
   "metadata": {},
   "source": [
    "#### Solução do Exercício 2"
   ]
  },
  {
   "cell_type": "code",
   "execution_count": 62,
   "id": "4910c999",
   "metadata": {},
   "outputs": [
    {
     "name": "stdout",
     "output_type": "stream",
     "text": [
      "['Allan', 'Lara', 'Helena']\n"
     ]
    }
   ],
   "source": [
    "# a)\n",
    "\n",
    "# Entrada\n",
    "dic = {'Allan': 39, 'Lara': 21, 'Helena': 6}\n",
    "\n",
    "# Criando uma lista de chaves a partir do dicionário dado\n",
    "lista_chaves = list(dic.keys())\n",
    "\n",
    "# Imprimindo a lista criada anteriormente\n",
    "print(lista_chaves)"
   ]
  },
  {
   "cell_type": "code",
   "execution_count": 63,
   "id": "fe41cb56",
   "metadata": {},
   "outputs": [
    {
     "name": "stdout",
     "output_type": "stream",
     "text": [
      "[39, 21, 6]\n"
     ]
    }
   ],
   "source": [
    "# b)\n",
    "\n",
    "# Criando uma lista de valores a partir do dicionário dado\n",
    "lista_valores = list(dic.values())\n",
    "\n",
    "# Imprimindo a lista criada anteriormente\n",
    "print(lista_valores)"
   ]
  },
  {
   "cell_type": "markdown",
   "id": "7e8e721c",
   "metadata": {},
   "source": [
    "#### Solução do Exercício 3"
   ]
  },
  {
   "cell_type": "code",
   "execution_count": 64,
   "id": "84b1e5e3",
   "metadata": {},
   "outputs": [
    {
     "name": "stdout",
     "output_type": "stream",
     "text": [
      "{'banana': 6.0, 'abacaxi': 4.5, 'melão': 7.0, 'goiaba': 5.0}\n"
     ]
    }
   ],
   "source": [
    "# a) \n",
    "\n",
    "# Listas de entrada\n",
    "frutas = ['banana', 'abacaxi', 'melão', 'goiaba']\n",
    "preco = [6.00, 4.50, 7.00, 5.00]\n",
    "\n",
    "# Construindo o dicionário a partir das listas\n",
    "dic = dict(zip(frutas, preco))\n",
    "\n",
    "# Imprimindo o dicionário\n",
    "print(dic)"
   ]
  },
  {
   "cell_type": "code",
   "execution_count": 65,
   "id": "e0ee88b9",
   "metadata": {},
   "outputs": [
    {
     "name": "stdout",
     "output_type": "stream",
     "text": [
      "7.0\n"
     ]
    }
   ],
   "source": [
    "# b)\n",
    "\n",
    "# Consultando o valor da chave melão\n",
    "print(dic['melão'])"
   ]
  },
  {
   "cell_type": "code",
   "execution_count": 66,
   "id": "89a3df84",
   "metadata": {},
   "outputs": [
    {
     "name": "stdout",
     "output_type": "stream",
     "text": [
      "{'banana': 6.0, 'abacaxi': 4.5, 'melão': 7.0, 'goiaba': 5.0, 'maçã': 4.0}\n"
     ]
    }
   ],
   "source": [
    "# Acrescentando à chave maçã ao dicionário existente\n",
    "dic['maçã'] = 4.00\n",
    "\n",
    "# Imprimindo o dicionário atual\n",
    "print(dic)"
   ]
  },
  {
   "cell_type": "markdown",
   "id": "00656e58",
   "metadata": {},
   "source": [
    "#### Solução do Exercício 4"
   ]
  },
  {
   "cell_type": "code",
   "execution_count": 67,
   "id": "735bd06a",
   "metadata": {},
   "outputs": [
    {
     "name": "stdout",
     "output_type": "stream",
     "text": [
      "{'Allan': 39, 'Helena': 6, 'Lara': 21}\n"
     ]
    }
   ],
   "source": [
    "# a)\n",
    "\n",
    "# Entrada\n",
    "dic = {'Allan': 39, 'Lara': 21, 'Helena': 6}\n",
    "\n",
    "# Ordenando o dicionário pelas chaves em ordem alfabética\n",
    "sorted_dic_chave = {key: dic[key] for key in sorted(dic)}\n",
    "\n",
    "# Imprimindo o dicionário ordenado em função das chaves\n",
    "print(sorted_dic_chave)"
   ]
  },
  {
   "cell_type": "code",
   "execution_count": 68,
   "id": "c3d62015",
   "metadata": {},
   "outputs": [
    {
     "name": "stdout",
     "output_type": "stream",
     "text": [
      "{'Helena': 6, 'Lara': 21, 'Allan': 39}\n"
     ]
    }
   ],
   "source": [
    "# b)\n",
    "\n",
    "# Ordenando o dicionário pelos valores\n",
    "sorted_dic_valores = {key: value for key, value in sorted(dic.items(), key=lambda item: item[1])}\n",
    "\n",
    "# Imprimindo o dicionário ordenado em função dos valores\n",
    "print(sorted_dic_valores)"
   ]
  },
  {
   "cell_type": "code",
   "execution_count": 69,
   "id": "dd297c55",
   "metadata": {},
   "outputs": [
    {
     "name": "stdout",
     "output_type": "stream",
     "text": [
      "{'Allan': 39, 'Daniela': 30, 'Helena': 6, 'Lara': 21}\n"
     ]
    }
   ],
   "source": [
    "# c) repassando o item 'a'\n",
    "\n",
    "dic = {'Allan': 39, 'Lara': 21, 'Helena': 6}\n",
    "\n",
    "dic['Daniela'] = 30\n",
    "\n",
    "# Ordenando o dicionário atual pelas chaves em ordem alfabética\n",
    "sorted_dic_chave = {key: dic[key] for key in sorted(dic)}\n",
    "\n",
    "# Imprimindo o dicionário atual ordenado em função das chaves\n",
    "print(sorted_dic_chave)"
   ]
  },
  {
   "cell_type": "code",
   "execution_count": 70,
   "id": "7fa8bbbc",
   "metadata": {},
   "outputs": [
    {
     "name": "stdout",
     "output_type": "stream",
     "text": [
      "{'Helena': 6, 'Lara': 21, 'Daniela': 30, 'Allan': 39}\n"
     ]
    }
   ],
   "source": [
    "# c) repassando o item 'b'\n",
    "\n",
    "# Ordenando o dicionário pelos valores\n",
    "sorted_dic_valores = {key: value for key, value in sorted(dic.items(), key=lambda item: item[1])}\n",
    "\n",
    "# Imprimindo o dicionário atual ordenado em função dos valores\n",
    "print(sorted_dic_valores)"
   ]
  },
  {
   "cell_type": "markdown",
   "id": "e3abe14a",
   "metadata": {},
   "source": [
    "#### Solução do Exercício 5"
   ]
  },
  {
   "cell_type": "code",
   "execution_count": null,
   "id": "1019d823",
   "metadata": {},
   "outputs": [],
   "source": [
    "# Forma de entrada 1\n",
    "import numpy as np\n",
    "\n",
    "# Matérias a serem cadastradas\n",
    "materia = input('Digite as matérias separadas por vírgula: ')\n",
    "\n",
    "# Notas a serem cadastradas considerando a ordem inserida na entrada\n",
    "nota = input('Digite as notas separadas por vírgula: ')\n",
    "\n",
    "# Construindo listas a partir das matérias e notas\n",
    "lista_chave = materia.split(',')\n",
    "lista_valor = nota.split(',')\n",
    "\n",
    "# Construindo o dicionário a partir das listas anteriores\n",
    "dic = dict(zip(lista_chave, lista_valor))\n",
    "\n",
    "# Ordenando o dicionário anterior pelas chaves em ordem alfabética\n",
    "sorted_dic_chave = {key: dic[key] for key in sorted(dic)}\n",
    "\n",
    "# Imprimindo o dicionário ordenado\n",
    "print(sorted_dic_chave)"
   ]
  },
  {
   "cell_type": "code",
   "execution_count": null,
   "id": "ea50a782",
   "metadata": {},
   "outputs": [],
   "source": []
  }
 ],
 "metadata": {
  "kernelspec": {
   "display_name": "Python 3 (ipykernel)",
   "language": "python",
   "name": "python3"
  },
  "language_info": {
   "codemirror_mode": {
    "name": "ipython",
    "version": 3
   },
   "file_extension": ".py",
   "mimetype": "text/x-python",
   "name": "python",
   "nbconvert_exporter": "python",
   "pygments_lexer": "ipython3",
   "version": "3.11.5"
  },
  "varInspector": {
   "cols": {
    "lenName": 16,
    "lenType": 16,
    "lenVar": 40
   },
   "kernels_config": {
    "python": {
     "delete_cmd_postfix": "",
     "delete_cmd_prefix": "del ",
     "library": "var_list.py",
     "varRefreshCmd": "print(var_dic_list())"
    },
    "r": {
     "delete_cmd_postfix": ") ",
     "delete_cmd_prefix": "rm(",
     "library": "var_list.r",
     "varRefreshCmd": "cat(var_dic_list()) "
    }
   },
   "types_to_exclude": [
    "module",
    "function",
    "builtin_function_or_method",
    "instance",
    "_Feature"
   ],
   "window_display": false
  }
 },
 "nbformat": 4,
 "nbformat_minor": 5
}
