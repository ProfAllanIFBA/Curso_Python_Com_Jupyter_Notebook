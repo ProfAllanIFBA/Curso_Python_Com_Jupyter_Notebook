{
 "cells": [
  {
   "cell_type": "markdown",
   "id": "b42396bc",
   "metadata": {},
   "source": [
    "<center> <img src=\"logo_ifba.jpg\" alt=\"jpg_python\" width=\"100\" height=\"\"> </center>\n",
    "<br><br>\n",
    "<center> <img src=\"logo_coext.jpg\" alt=\"jpg_python\" width=\"200\" height=\"\"> </center>\n",
    "<br><br>\n",
    "<div align=\"center\"><span style=\"font-size: 26px;\"><strong>Python Com Jupyter Notebook</strong></span></div><br><br>\n",
    "<center><div style=\"text-align:center\">    <a href=\"https://colab.research.google.com/github/ProfAllanIFBA/Curso_Python_Com_Jupyter_Notebook/blob/main/Capitulo010_Trabalhando_Com_Conjuntos/Capitulo010_Trabalhando_Com_Conjuntos.ipynb\">Link Colab</a> \n",
    "</div><br><br></center>\n",
    "<center> <img src=\"python_gif.gif\" alt=\"gif_python\" width=\"80\"> </center>"
   ]
  },
  {
   "cell_type": "markdown",
   "id": "76107678",
   "metadata": {},
   "source": [
    "Este material apresenta uma explicação detalhada sobre o uso do software de programação em Python chamado Jupyter Notebook, com foco na análise de dados. Abordaremos desde estruturas básicas, como listas e dicionários, até estruturas mais complexas voltadas para a análise de dados, como pandas e seaborn, além de ferramentas destinadas à inteligência artificial.\n",
    "\n",
    "\n",
    "<font color='red'> <u>Este é um material de uso público e totalmente gratuito</u>. Contudo, eventuais edições são de responsabilidade de quem as fizer. </font>\n",
    "\n",
    "Você pode ajudar a melhorar este material!\n",
    "\n",
    "Contato e Sugestões: allansoares@ifba.edu.br.\n",
    "\n",
    "[**Equipe Executora**](https://github.com/Allanifba/Curso_Python_Com_Jupyter_Notebook/blob/main/Capitulo000_Equipe/Capitulo000_Equipe.ipynb)"
   ]
  },
  {
   "cell_type": "markdown",
   "id": "21ce59e0",
   "metadata": {},
   "source": [
    "### <center> <font color='red'> Vídeo Aulas <img src=\"youtube.gif\" alt=\"jpg_python\" width=\"100\" height=\"\"> </font> </center>"
   ]
  },
  {
   "cell_type": "markdown",
   "id": "a67d285f",
   "metadata": {},
   "source": [
    "[Exemplos Iniciais Envolvendo Conjuntos em Python](https://youtu.be/x0QLXt7gTQQ)\n",
    "\n",
    "[Verificação de Pertinência, União, Intersecção e Diferença de Conjuntos Python](https://youtu.be/ltEquHn9LFM)\n",
    "\n",
    "[Converventendo Conjuntos em Listas e Tuplas e vice-versa no Python](https://youtu.be/OXqbQF-hRZ0)\n",
    "\n",
    "[Fuções Built in e Métodos Com Conjuntos no Python - Parte 1](https://youtu.be/zYwcJCPOCCc)\n",
    "\n",
    "[Funções Built in e Métodos Com Conjuntos no Python - Parte 2](https://youtu.be/BfaUZLaDSfg)\n",
    "\n",
    "[Funções Built in e Métodos Com Conjuntos no Python - Parte 3](https://youtu.be/akeiB5S-XcI)"
   ]
  },
  {
   "cell_type": "markdown",
   "id": "c0c4b8a6",
   "metadata": {},
   "source": [
    "<div style=\"border: 2px solid black; padding: 10px; width: 100%; background-color: lightgray; display: flex; align-items: center;\">\n",
    "    <h1 style=\"color: red; text-align: center; margin: auto;\">\n",
    "        Capítulo 10: Trabalhando Com Conjuntos\n",
    "    </h1>\n",
    "</div>\n"
   ]
  },
  {
   "cell_type": "markdown",
   "id": "023a0068",
   "metadata": {
    "slideshow": {
     "slide_type": "slide"
    }
   },
   "source": [
    "Em Python, um <u>conjunto</u> é uma coleção não ordenada de elementos únicos e imutáveis, representada pela sintaxe de chaves {  } ou pela função built-in set(). Os elementos em um conjunto podem ser de qualquer tipo de dados imutáveis, como números, strings e tuplas.\n",
    "\n",
    "A estrutura de conjuntos em Python tem algumas propriedades interessantes. Em primeiro lugar, os elementos em um conjunto são únicos, o que significa que não pode haver mais de um elemento com o mesmo valor no conjunto. Em segundo lugar, os elementos em um conjunto não têm ordem definida, o que significa que você não pode acessar um elemento de um conjunto por meio de um índice numérico."
   ]
  },
  {
   "cell_type": "markdown",
   "id": "1b07d533",
   "metadata": {
    "slideshow": {
     "slide_type": "slide"
    }
   },
   "source": [
    "##\n",
    "<div style=\"margin-top: -20px;\">\n",
    "<hr style=\"border: 2px solid blue;\">\n",
    "\n",
    "<font color='blue'><span style=\"font-size: 22px;\"><strong>10.1 Exemplos Inciais</strong></span></font>\n",
    "\n",
    "<hr style=\"border: 2px solid blue;\">\n",
    "</div>"
   ]
  },
  {
   "cell_type": "markdown",
   "id": "ce5c1ba1",
   "metadata": {},
   "source": [
    "#### *Exemplo: Conjuntos*"
   ]
  },
  {
   "cell_type": "code",
   "execution_count": null,
   "id": "a0024279",
   "metadata": {
    "ExecuteTime": {
     "end_time": "2023-09-14T19:31:04.433442Z",
     "start_time": "2023-09-14T19:31:04.424260Z"
    }
   },
   "outputs": [],
   "source": [
    "# Conjuntos\n",
    "A = {-1,1,2,3,7}\n",
    "B = {2,1,3,1,3}\n",
    "C = {1,'a',(1,2)}"
   ]
  },
  {
   "cell_type": "code",
   "execution_count": null,
   "id": "ec535722",
   "metadata": {
    "ExecuteTime": {
     "end_time": "2023-09-14T19:31:10.826112Z",
     "start_time": "2023-09-14T19:31:10.821435Z"
    }
   },
   "outputs": [],
   "source": [
    "# Imprimindo conjuntos\n",
    "print(A)\n",
    "print(B)\n",
    "print(C)"
   ]
  },
  {
   "cell_type": "code",
   "execution_count": null,
   "id": "08a0ff09",
   "metadata": {
    "ExecuteTime": {
     "end_time": "2023-09-14T19:31:54.960409Z",
     "start_time": "2023-09-14T19:31:54.956011Z"
    }
   },
   "outputs": [],
   "source": [
    "print(type(A))\n",
    "print(type(B))\n",
    "print(type(C))"
   ]
  },
  {
   "cell_type": "markdown",
   "id": "06550a40",
   "metadata": {},
   "source": [
    "<font color='red'>Conjuntos são imutáveis e não possuem indexação.</font>"
   ]
  },
  {
   "cell_type": "code",
   "execution_count": null,
   "id": "decdacc6",
   "metadata": {
    "ExecuteTime": {
     "end_time": "2023-09-14T19:32:33.245002Z",
     "start_time": "2023-09-14T19:32:32.462255Z"
    }
   },
   "outputs": [],
   "source": [
    "# Conjuntos não comportam a função append()\n",
    "B.append(2)\n",
    "print(B)"
   ]
  },
  {
   "cell_type": "code",
   "execution_count": null,
   "id": "c6c083bc",
   "metadata": {
    "ExecuteTime": {
     "end_time": "2023-09-14T19:33:08.767898Z",
     "start_time": "2023-09-14T19:33:08.749611Z"
    }
   },
   "outputs": [],
   "source": [
    "# Conjuntos não comportam indexação\n",
    "print(A[1])"
   ]
  },
  {
   "cell_type": "markdown",
   "id": "ce73223c",
   "metadata": {},
   "source": [
    "#### Conjuntos não podem armazenar dados ou objetos mutáveis"
   ]
  },
  {
   "cell_type": "code",
   "execution_count": null,
   "id": "1804a3f8",
   "metadata": {
    "ExecuteTime": {
     "end_time": "2023-09-14T19:33:53.209491Z",
     "start_time": "2023-09-14T19:33:53.188814Z"
    }
   },
   "outputs": [],
   "source": [
    "D = {1,2,[3,-5]}"
   ]
  },
  {
   "cell_type": "code",
   "execution_count": null,
   "id": "a3bff8b8",
   "metadata": {
    "ExecuteTime": {
     "end_time": "2023-09-14T19:34:07.494321Z",
     "start_time": "2023-09-14T19:34:07.476983Z"
    }
   },
   "outputs": [],
   "source": [
    "E = {1,2,{8,-1}}"
   ]
  },
  {
   "cell_type": "code",
   "execution_count": null,
   "id": "25a91aaf",
   "metadata": {
    "ExecuteTime": {
     "end_time": "2023-09-14T19:50:46.981383Z",
     "start_time": "2023-09-14T19:50:46.197110Z"
    }
   },
   "outputs": [],
   "source": [
    "E = {1,2,{\"Allan\": 39}}"
   ]
  },
  {
   "cell_type": "markdown",
   "id": "9b80e0e6",
   "metadata": {},
   "source": [
    "##\n",
    "<div style=\"margin-top: -20px;\">\n",
    "<hr style=\"border: 2px solid blue;\">\n",
    "\n",
    "<font color='blue'><span style=\"font-size: 22px;\"><strong>10.2 Verificação de Pertinência e Operações Básicas Com Conjuntos</strong></span></font>\n",
    "\n",
    "<hr style=\"border: 2px solid blue;\">\n",
    "</div>"
   ]
  },
  {
   "cell_type": "markdown",
   "id": "5067dfc2",
   "metadata": {},
   "source": [
    "###\n",
    "<div style=\"margin-top: -20px;\">\n",
    "<hr style=\"border: 2px solid blue;\">\n",
    "\n",
    "<font color='blue'><span style=\"font-size: 18px;\"><strong>10.2.1 Verificação de Pertinência, União, Intersecção e Diferença de Conjuntos</strong></span></font>\n",
    "\n",
    "<hr style=\"border: 2px solid blue;\">\n",
    "</div>"
   ]
  },
  {
   "cell_type": "markdown",
   "id": "1a43420d",
   "metadata": {},
   "source": [
    "#### Operador in"
   ]
  },
  {
   "cell_type": "markdown",
   "id": "996645eb",
   "metadata": {},
   "source": [
    "O operador in verifica se um elemento pertence a um conjunto, retorando True. Caso contrário retorna False."
   ]
  },
  {
   "cell_type": "markdown",
   "id": "668d6a2b",
   "metadata": {
    "ExecuteTime": {
     "end_time": "2023-06-26T21:29:57.161818Z",
     "start_time": "2023-06-26T21:29:57.157079Z"
    }
   },
   "source": [
    "##### Exemplos: Verificações de petinência"
   ]
  },
  {
   "cell_type": "code",
   "execution_count": null,
   "id": "a77d73cb",
   "metadata": {
    "ExecuteTime": {
     "end_time": "2023-09-14T19:52:34.603064Z",
     "start_time": "2023-09-14T19:52:34.597806Z"
    }
   },
   "outputs": [],
   "source": [
    "# Conjunto\n",
    "conjunto = {1,2,-3}\n",
    "\n",
    "# Imprimindo\n",
    "print(conjunto)"
   ]
  },
  {
   "cell_type": "code",
   "execution_count": null,
   "id": "a9fd8dde",
   "metadata": {
    "ExecuteTime": {
     "end_time": "2023-09-14T19:53:02.945837Z",
     "start_time": "2023-09-14T19:53:02.942463Z"
    }
   },
   "outputs": [],
   "source": [
    "# Verificação de pertinência\n",
    "print(2 in conjunto)\n",
    "print(-1 in conjunto)"
   ]
  },
  {
   "cell_type": "markdown",
   "id": "29b24cc7",
   "metadata": {},
   "source": [
    "#### União"
   ]
  },
  {
   "cell_type": "markdown",
   "id": "3277f360",
   "metadata": {},
   "source": [
    "A união de dois conjuntos retorna um novo conjunto contendo todos os elementos distintos presentes em ambos os conjuntos originais. Em Python, você pode usar o operador | ou o método union() para realizar a união de conjuntos."
   ]
  },
  {
   "cell_type": "markdown",
   "id": "dbcadbfd",
   "metadata": {},
   "source": [
    "##### Exemplo: Uniões de conjuntos"
   ]
  },
  {
   "cell_type": "code",
   "execution_count": null,
   "id": "d43b9aae",
   "metadata": {
    "ExecuteTime": {
     "end_time": "2023-09-14T19:54:25.930980Z",
     "start_time": "2023-09-14T19:54:25.925847Z"
    }
   },
   "outputs": [],
   "source": [
    "# Conjuntos\n",
    "A = {1,2,3,7}\n",
    "B = {-1,1,0,3,-3}\n",
    "C = {1,2,3}\n",
    "\n",
    "# Uniões\n",
    "D = A | B\n",
    "E = A | C\n",
    "\n",
    "# Imprimindo\n",
    "print(D)\n",
    "print(E)"
   ]
  },
  {
   "cell_type": "markdown",
   "id": "e3606236",
   "metadata": {},
   "source": [
    "#### Intesecção"
   ]
  },
  {
   "cell_type": "markdown",
   "id": "4e08a76a",
   "metadata": {},
   "source": [
    "A intersecção de dois conjuntos retorna um novo conjunto contendo apenas os elementos que estão presentes em ambos os conjuntos originais. Em Python, você pode usar o operador & ou o método intersection() para realizar a intersecção de conjuntos."
   ]
  },
  {
   "cell_type": "markdown",
   "id": "5583f77a",
   "metadata": {},
   "source": [
    "##### Exemplos: Intersecções de conjuntos"
   ]
  },
  {
   "cell_type": "code",
   "execution_count": null,
   "id": "1954f316",
   "metadata": {
    "ExecuteTime": {
     "end_time": "2023-09-14T19:56:16.731339Z",
     "start_time": "2023-09-14T19:56:16.725356Z"
    }
   },
   "outputs": [],
   "source": [
    "# Conjuntos\n",
    "A = {-1,2,3,7}\n",
    "B = {-1,1,0,3,-3}\n",
    "C = {1,2,3}\n",
    "\n",
    "# Intersecções\n",
    "D = A & B\n",
    "E = A & B & C\n",
    "\n",
    "# Imprimindo\n",
    "print(D)\n",
    "print(E)"
   ]
  },
  {
   "cell_type": "markdown",
   "id": "69117693",
   "metadata": {},
   "source": [
    "#### Diferença"
   ]
  },
  {
   "cell_type": "markdown",
   "id": "044b8503",
   "metadata": {},
   "source": [
    "A diferença entre dois conjuntos retorna um novo conjunto contendo os elementos presentes no primeiro conjunto, mas ausentes no segundo conjunto. Em Python, você pode usar o operador - ou o método difference() para realizar a diferença de conjuntos."
   ]
  },
  {
   "cell_type": "markdown",
   "id": "e7a0a4c1",
   "metadata": {},
   "source": [
    "##### Exemplo 1: Diferenças de conjuntos"
   ]
  },
  {
   "cell_type": "code",
   "execution_count": null,
   "id": "917544fb",
   "metadata": {
    "ExecuteTime": {
     "end_time": "2023-09-14T19:57:55.243155Z",
     "start_time": "2023-09-14T19:57:55.237343Z"
    }
   },
   "outputs": [],
   "source": [
    "# Conjuntos\n",
    "A = {-1,2,3,7}\n",
    "B = {-1,1,0,3,-3}\n",
    "C = {1,2,3}\n",
    "\n",
    "# Diferenças\n",
    "D = A - B\n",
    "E = A - C\n",
    "F = B - (A - C)\n",
    "\n",
    "# Imprimindo\n",
    "print(D)\n",
    "print(E)\n",
    "print(F)"
   ]
  },
  {
   "cell_type": "markdown",
   "id": "0abd8b02",
   "metadata": {},
   "source": [
    "##### Exemplo 2: Juntando tudo"
   ]
  },
  {
   "cell_type": "code",
   "execution_count": null,
   "id": "a5197753",
   "metadata": {
    "ExecuteTime": {
     "end_time": "2023-09-14T19:59:15.459590Z",
     "start_time": "2023-09-14T19:59:15.455779Z"
    }
   },
   "outputs": [],
   "source": [
    "# Expressão composta\n",
    "D = ((A-B)|C)&(A|B)\n",
    "print(D)"
   ]
  },
  {
   "cell_type": "markdown",
   "id": "12327e26",
   "metadata": {},
   "source": [
    "###\n",
    "<div style=\"margin-top: -20px;\">\n",
    "<hr style=\"border: 2px solid blue;\">\n",
    "\n",
    "<font color='blue'><span style=\"font-size: 18px;\"><strong>10.2.2 Convertendo Conjuntos em Listas/Tuplas e vice-versa</strong></span></font>\n",
    "\n",
    "<hr style=\"border: 2px solid blue;\">\n",
    "</div>"
   ]
  },
  {
   "cell_type": "markdown",
   "id": "e8b37b87",
   "metadata": {},
   "source": [
    "##### Exemplo 1: Convertendo conjunto em lista e tupla"
   ]
  },
  {
   "cell_type": "code",
   "execution_count": null,
   "id": "6343f3d1",
   "metadata": {
    "ExecuteTime": {
     "end_time": "2023-09-14T20:07:34.435647Z",
     "start_time": "2023-09-14T20:07:34.430903Z"
    }
   },
   "outputs": [],
   "source": [
    "# Conjunto a ser convertido\n",
    "conjunto = {1,2,5}\n",
    "\n",
    "# Convertendo conjunto em lista\n",
    "lista = list(conjunto)\n",
    "\n",
    "# Imprimindo\n",
    "print(lista)"
   ]
  },
  {
   "cell_type": "code",
   "execution_count": null,
   "id": "174ae0fc",
   "metadata": {
    "ExecuteTime": {
     "end_time": "2023-09-14T20:08:08.536378Z",
     "start_time": "2023-09-14T20:08:08.532163Z"
    }
   },
   "outputs": [],
   "source": [
    "# Convertendo conjunto em tupla\n",
    "tupla = tuple(conjunto)\n",
    "\n",
    "# Imprimindo\n",
    "print(tupla)"
   ]
  },
  {
   "cell_type": "code",
   "execution_count": null,
   "id": "9c720a44",
   "metadata": {
    "ExecuteTime": {
     "end_time": "2023-09-14T20:08:15.911682Z",
     "start_time": "2023-09-14T20:08:15.907494Z"
    }
   },
   "outputs": [],
   "source": [
    "# Consultando o tipo de objeto\n",
    "print(type(lista))\n",
    "print(type(tupla))"
   ]
  },
  {
   "cell_type": "markdown",
   "id": "15e484c5",
   "metadata": {},
   "source": [
    "##### Exemplo 2: Convertendo listas e tuplas em um conjunto"
   ]
  },
  {
   "cell_type": "code",
   "execution_count": null,
   "id": "2a59cce9",
   "metadata": {
    "ExecuteTime": {
     "end_time": "2023-09-14T20:27:32.086883Z",
     "start_time": "2023-09-14T20:27:32.077941Z"
    }
   },
   "outputs": [],
   "source": [
    "# Listas e tuplas a serem convertidas\n",
    "lista, tupla = [1,2,4], (1,-1,2,3)\n",
    "\n",
    "# Convertendo uma lista em um conjunto\n",
    "conjunto_lista = set(lista)\n",
    "\n",
    "# Imprimindo\n",
    "print(conjunto_lista)"
   ]
  },
  {
   "cell_type": "code",
   "execution_count": null,
   "id": "4359fc55",
   "metadata": {
    "ExecuteTime": {
     "end_time": "2023-09-14T20:27:32.258027Z",
     "start_time": "2023-09-14T20:27:32.254065Z"
    }
   },
   "outputs": [],
   "source": [
    "# Convertendo uma tupla em um conjunto\n",
    "conjunto_tupla = set(tupla)\n",
    "\n",
    "# Imprimindo\n",
    "print(conjunto_tupla)"
   ]
  },
  {
   "cell_type": "code",
   "execution_count": null,
   "id": "c108b135",
   "metadata": {
    "ExecuteTime": {
     "end_time": "2023-09-14T20:27:32.410289Z",
     "start_time": "2023-09-14T20:27:32.405636Z"
    }
   },
   "outputs": [],
   "source": [
    "# Consultando objetos convertidos\n",
    "print(type(conjunto_lista))\n",
    "print(type(conjunto_tupla))"
   ]
  },
  {
   "cell_type": "markdown",
   "id": "e4aa8a4f",
   "metadata": {},
   "source": [
    "##\n",
    "<div style=\"margin-top: -20px;\">\n",
    "<hr style=\"border: 2px solid blue;\">\n",
    "\n",
    "<font color='blue'><span style=\"font-size: 22px;\"><strong>10.3 Funções Nativas (Built-in) e Métodos Com Conjuntos</strong></span></font>\n",
    "\n",
    "<hr style=\"border: 2px solid blue;\">\n",
    "</div>"
   ]
  },
  {
   "cell_type": "markdown",
   "id": "76f14b34",
   "metadata": {},
   "source": [
    "As funções <u>nativas</u> (ou <u>built-in</u>) em uma linguagem de programação são funções que já fazem parte do núcleo da linguagem e estão disponíveis para uso imediato, sem a necessidade de instalar bibliotecas ou módulos adicionais. <u>Métodos</u> são como funções, porém específicas para o objeto em questão. Vejamos agora algumas das funções e métodos mais utilizados relacionadas à conjuntos."
   ]
  },
  {
   "cell_type": "markdown",
   "id": "d3c4139e",
   "metadata": {},
   "source": [
    "###\n",
    "<div style=\"margin-top: -20px;\">\n",
    "<hr style=\"border: 2px solid blue;\">\n",
    "\n",
    "<font color='blue'><span style=\"font-size: 18px;\"><strong>10.3.1 Funções Nativas (Built-in) e Métodos Com Conjuntos - Parte 1</strong></span></font>\n",
    "\n",
    "<hr style=\"border: 2px solid blue;\">\n",
    "</div>"
   ]
  },
  {
   "cell_type": "markdown",
   "id": "b7a23ba1",
   "metadata": {},
   "source": [
    "#### add()"
   ]
  },
  {
   "cell_type": "markdown",
   "id": "44af9874",
   "metadata": {},
   "source": [
    "Adiciona um elemento ao conjunto."
   ]
  },
  {
   "cell_type": "code",
   "execution_count": 1,
   "id": "4adca14f",
   "metadata": {
    "ExecuteTime": {
     "end_time": "2023-09-14T20:29:02.452018Z",
     "start_time": "2023-09-14T20:29:02.447531Z"
    }
   },
   "outputs": [
    {
     "name": "stdout",
     "output_type": "stream",
     "text": [
      "{1, 2, 3, 5, 7, -1}\n"
     ]
    }
   ],
   "source": [
    "A = {-1,1,2,3,7}\n",
    "\n",
    "A.add(5)\n",
    "print(A)"
   ]
  },
  {
   "cell_type": "markdown",
   "id": "92050aeb",
   "metadata": {},
   "source": [
    "#### clear()"
   ]
  },
  {
   "cell_type": "markdown",
   "id": "bb8c4b19",
   "metadata": {},
   "source": [
    "Remove todos os elementos do conjunto."
   ]
  },
  {
   "cell_type": "code",
   "execution_count": null,
   "id": "0fedc514",
   "metadata": {
    "ExecuteTime": {
     "end_time": "2023-09-14T20:29:26.762200Z",
     "start_time": "2023-09-14T20:29:26.757427Z"
    }
   },
   "outputs": [],
   "source": [
    "A = {-1,1,2,3,7}\n",
    "\n",
    "A.clear()\n",
    "print(A)"
   ]
  },
  {
   "cell_type": "markdown",
   "id": "de57d692",
   "metadata": {},
   "source": [
    "#### copy()"
   ]
  },
  {
   "cell_type": "markdown",
   "id": "5672f632",
   "metadata": {},
   "source": [
    "Cria uma cópia superficial do conjunto. Caso o conjunto em questão seja atualizado a cópia permanecerá inalterada."
   ]
  },
  {
   "cell_type": "code",
   "execution_count": 1,
   "id": "491a3599",
   "metadata": {
    "ExecuteTime": {
     "end_time": "2023-09-14T20:31:14.202662Z",
     "start_time": "2023-09-14T20:31:14.199331Z"
    }
   },
   "outputs": [
    {
     "name": "stdout",
     "output_type": "stream",
     "text": [
      "{1, 2, 5, -1}\n",
      "{1, 2, -1}\n"
     ]
    }
   ],
   "source": [
    "A = {-1,1,2}\n",
    "B = A.copy()\n",
    "A.add(5)\n",
    "\n",
    "print(A)\n",
    "print(B)"
   ]
  },
  {
   "cell_type": "markdown",
   "id": "5d17f8ce",
   "metadata": {},
   "source": [
    "#### difference()"
   ]
  },
  {
   "cell_type": "markdown",
   "id": "ed09eae8",
   "metadata": {},
   "source": [
    "Retorna a diferença entre o conjunto e um ou mais iteráveis. O conjunto original permanece inalterado."
   ]
  },
  {
   "cell_type": "code",
   "execution_count": null,
   "id": "6cd046b9",
   "metadata": {
    "ExecuteTime": {
     "end_time": "2023-09-14T20:33:17.947890Z",
     "start_time": "2023-09-14T20:33:17.942629Z"
    }
   },
   "outputs": [],
   "source": [
    "A = {-1,1,2,3,7}\n",
    "lista = [1,3,5,7]\n",
    "tupla = (2,0,3,9)\n",
    "\n",
    "B = A.difference(lista)\n",
    "C = A.difference(lista,tupla)\n",
    "\n",
    "print(A)\n",
    "print(B)\n",
    "print(C)"
   ]
  },
  {
   "cell_type": "markdown",
   "id": "beee10b9",
   "metadata": {},
   "source": [
    "#### difference_update()"
   ]
  },
  {
   "cell_type": "markdown",
   "id": "923460b9",
   "metadata": {},
   "source": [
    "Atualiza um conjunto para remover todos os elementos que estão em outros conjuntos ou iteráveis."
   ]
  },
  {
   "cell_type": "code",
   "execution_count": null,
   "id": "2d8de698",
   "metadata": {
    "ExecuteTime": {
     "end_time": "2023-09-14T20:34:57.052634Z",
     "start_time": "2023-09-14T20:34:57.048392Z"
    }
   },
   "outputs": [],
   "source": [
    "A = {-1,1,2,3,7}\n",
    "B = {-1,1,0,3,-3}\n",
    "\n",
    "A.difference_update(B)\n",
    "print(A)"
   ]
  },
  {
   "cell_type": "markdown",
   "id": "ba329d47",
   "metadata": {},
   "source": [
    "#### discard()"
   ]
  },
  {
   "cell_type": "markdown",
   "id": "e30f1260",
   "metadata": {
    "ExecuteTime": {
     "end_time": "2023-06-09T13:14:19.626990Z",
     "start_time": "2023-06-09T13:14:19.594829Z"
    }
   },
   "source": [
    "Remove um elemento do conjunto, mas não gera um erro se o elemento não estiver presente."
   ]
  },
  {
   "cell_type": "code",
   "execution_count": null,
   "id": "def3c977",
   "metadata": {
    "ExecuteTime": {
     "end_time": "2023-09-14T20:49:48.042019Z",
     "start_time": "2023-09-14T20:49:48.031397Z"
    }
   },
   "outputs": [],
   "source": [
    "A = {-1,1,2,3,7}\n",
    "\n",
    "A.discard(2)\n",
    "print(A)"
   ]
  },
  {
   "cell_type": "code",
   "execution_count": null,
   "id": "51c15c94",
   "metadata": {
    "ExecuteTime": {
     "end_time": "2023-09-14T20:49:48.242720Z",
     "start_time": "2023-09-14T20:49:48.238626Z"
    }
   },
   "outputs": [],
   "source": [
    "A.discard(4)\n",
    "print(A)"
   ]
  },
  {
   "cell_type": "markdown",
   "id": "8670bd3e",
   "metadata": {},
   "source": [
    "###\n",
    "<div style=\"margin-top: -20px;\">\n",
    "<hr style=\"border: 2px solid blue;\">\n",
    "\n",
    "<font color='blue'><span style=\"font-size: 18px;\"><strong>10.3.2 Funções Nativas (Built-in) e Métodos Com Conjuntos - Parte 2</strong></span></font>\n",
    "\n",
    "<hr style=\"border: 2px solid blue;\">\n",
    "</div>"
   ]
  },
  {
   "cell_type": "markdown",
   "id": "67e722d6",
   "metadata": {},
   "source": [
    "#### intersection()"
   ]
  },
  {
   "cell_type": "markdown",
   "id": "694354e3",
   "metadata": {},
   "source": [
    "Retorna a interseção entre o conjunto e um ou mais iteráveis. O conjunto original permanece inalterado."
   ]
  },
  {
   "cell_type": "code",
   "execution_count": null,
   "id": "3377603a",
   "metadata": {
    "ExecuteTime": {
     "end_time": "2023-09-14T20:59:19.083317Z",
     "start_time": "2023-09-14T20:59:19.071559Z"
    }
   },
   "outputs": [],
   "source": [
    "A = {-1,1,2,3,7}\n",
    "lista = [1,3,5,7]\n",
    "tupla = (-2,0,3,9)\n",
    "\n",
    "B = A.intersection(lista)\n",
    "C = A.intersection(lista,tupla)\n",
    "\n",
    "print(A)\n",
    "print(B)\n",
    "print(C)"
   ]
  },
  {
   "cell_type": "markdown",
   "id": "238b4434",
   "metadata": {},
   "source": [
    "#### intersection_update()"
   ]
  },
  {
   "cell_type": "markdown",
   "id": "675dd273",
   "metadata": {},
   "source": [
    "Atualiza um conjunto para conter apenas elementos que também estão em um outro conjunto ou iterável."
   ]
  },
  {
   "cell_type": "code",
   "execution_count": null,
   "id": "62c64c57",
   "metadata": {
    "ExecuteTime": {
     "end_time": "2023-09-14T21:00:45.956021Z",
     "start_time": "2023-09-14T21:00:45.951327Z"
    }
   },
   "outputs": [],
   "source": [
    "A = {-1,1,2,3,7}\n",
    "B = {-1,1,0,3,-3}\n",
    "\n",
    "A.intersection_update(B)\n",
    "\n",
    "print(A)\n",
    "print(B)"
   ]
  },
  {
   "cell_type": "code",
   "execution_count": null,
   "id": "005cfcf0",
   "metadata": {
    "ExecuteTime": {
     "end_time": "2023-09-14T21:01:24.020036Z",
     "start_time": "2023-09-14T21:01:24.015736Z"
    }
   },
   "outputs": [],
   "source": [
    "A = {-1,1,2,3,7}\n",
    "tupla = (1,3,5)\n",
    "\n",
    "A.intersection_update(tupla)\n",
    "\n",
    "print(A)\n",
    "print(tupla)"
   ]
  },
  {
   "cell_type": "code",
   "execution_count": null,
   "id": "448c110a",
   "metadata": {
    "ExecuteTime": {
     "end_time": "2023-09-14T21:01:51.660439Z",
     "start_time": "2023-09-14T21:01:51.655203Z"
    },
    "scrolled": true
   },
   "outputs": [],
   "source": [
    "A = {-1,1,2,3,7}\n",
    "B = {-1,1,0,3,-3}\n",
    "tupla = (1,3,4,7)\n",
    "\n",
    "A.intersection_update(tupla,B)\n",
    "print(A)"
   ]
  },
  {
   "cell_type": "markdown",
   "id": "3931a1a8",
   "metadata": {},
   "source": [
    "#### issubset()"
   ]
  },
  {
   "cell_type": "markdown",
   "id": "54f40422",
   "metadata": {},
   "source": [
    "Retorna True se o conjunto for um subconjunto do iterável."
   ]
  },
  {
   "cell_type": "code",
   "execution_count": null,
   "id": "f06f3fc6",
   "metadata": {
    "ExecuteTime": {
     "end_time": "2023-09-14T21:03:31.100690Z",
     "start_time": "2023-09-14T21:03:31.095620Z"
    }
   },
   "outputs": [],
   "source": [
    "A = {-1,1,2,3,7}\n",
    "B = {-1,1,0,3,-3}\n",
    "C = {2,1,3,1,3}\n",
    "\n",
    "print(B.issubset(A))\n",
    "print(C.issubset(A))"
   ]
  },
  {
   "cell_type": "markdown",
   "id": "86ff0e62",
   "metadata": {},
   "source": [
    "#### issuperset()"
   ]
  },
  {
   "cell_type": "markdown",
   "id": "749c0465",
   "metadata": {},
   "source": [
    "Retorna True se um conjunto ou iterável é subconjunto de um conjunto. Neste caso, considera-se um representante para cada elemento repetido em um iterável."
   ]
  },
  {
   "cell_type": "code",
   "execution_count": null,
   "id": "4927fdeb",
   "metadata": {
    "ExecuteTime": {
     "end_time": "2023-09-14T21:05:13.157279Z",
     "start_time": "2023-09-14T21:05:13.152482Z"
    }
   },
   "outputs": [],
   "source": [
    "A = {-1,1,2,3,7}\n",
    "B = {1,2,3}\n",
    "tupla = (1,3,5)\n",
    "lista = [3, 1, -1,-1]\n",
    "\n",
    "print(A.issuperset(B))\n",
    "print(A.issuperset(tupla))\n",
    "print(A.issuperset(lista))"
   ]
  },
  {
   "cell_type": "markdown",
   "id": "592a1901",
   "metadata": {},
   "source": [
    "#### isdisjoint()"
   ]
  },
  {
   "cell_type": "markdown",
   "id": "4bb39f61",
   "metadata": {},
   "source": [
    "Retorna True se o conjunto e o iterável não tiverem elementos em comum."
   ]
  },
  {
   "cell_type": "code",
   "execution_count": null,
   "id": "31fcc805",
   "metadata": {
    "ExecuteTime": {
     "end_time": "2023-09-14T21:10:33.929968Z",
     "start_time": "2023-09-14T21:10:33.925206Z"
    }
   },
   "outputs": [],
   "source": [
    "A = {-1,1,2,3,7}\n",
    "D = {-2,4,5}\n",
    "tupla = (1,3,5)\n",
    "lista = [0,4,6,8]\n",
    "\n",
    "print(A.isdisjoint(D))\n",
    "print(A.isdisjoint(tupla))\n",
    "print(A.isdisjoint(lista))"
   ]
  },
  {
   "cell_type": "markdown",
   "id": "ce8f6f54",
   "metadata": {},
   "source": [
    "#### len()"
   ]
  },
  {
   "cell_type": "markdown",
   "id": "bd95055f",
   "metadata": {},
   "source": [
    "Retorna o número de elementos no conjunto."
   ]
  },
  {
   "cell_type": "code",
   "execution_count": null,
   "id": "016a166e",
   "metadata": {
    "ExecuteTime": {
     "end_time": "2023-09-14T21:10:28.529680Z",
     "start_time": "2023-09-14T21:10:28.519534Z"
    }
   },
   "outputs": [],
   "source": [
    "A = {-1,1,2,3,7}\n",
    "B = {-1,1,5,1}\n",
    "\n",
    "print(len(A))\n",
    "print(len(B))"
   ]
  },
  {
   "cell_type": "markdown",
   "id": "beb115ff",
   "metadata": {},
   "source": [
    "###\n",
    "<div style=\"margin-top: -20px;\">\n",
    "<hr style=\"border: 2px solid blue;\">\n",
    "\n",
    "<font color='blue'><span style=\"font-size: 18px;\"><strong>10.3.3 Funções Nativas (Built-in) e Métodos Com Conjuntos - Parte 3</strong></span></font>\n",
    "\n",
    "<hr style=\"border: 2px solid blue;\">\n",
    "</div>"
   ]
  },
  {
   "cell_type": "markdown",
   "id": "64b440e5",
   "metadata": {},
   "source": [
    "#### remove()"
   ]
  },
  {
   "cell_type": "markdown",
   "id": "ef545472",
   "metadata": {},
   "source": [
    "Remove um elemento do conjunto; gera um erro KeyError se o elemento não estiver presente."
   ]
  },
  {
   "cell_type": "code",
   "execution_count": null,
   "id": "f6670841",
   "metadata": {
    "ExecuteTime": {
     "end_time": "2023-09-14T21:11:50.117328Z",
     "start_time": "2023-09-14T21:11:50.113129Z"
    },
    "scrolled": true
   },
   "outputs": [],
   "source": [
    "A = {-1,1,2,3,7}\n",
    "\n",
    "A.remove(2)\n",
    "print(A)"
   ]
  },
  {
   "cell_type": "code",
   "execution_count": null,
   "id": "0d9ea8f4",
   "metadata": {
    "ExecuteTime": {
     "end_time": "2023-09-14T21:12:05.183581Z",
     "start_time": "2023-09-14T21:12:04.408135Z"
    }
   },
   "outputs": [],
   "source": [
    "A = {-1,1,2,3,7}\n",
    "\n",
    "A.remove(4)\n",
    "print(A)"
   ]
  },
  {
   "cell_type": "markdown",
   "id": "cc0e6ffe",
   "metadata": {},
   "source": [
    "#### symmetric_difference()"
   ]
  },
  {
   "cell_type": "markdown",
   "id": "40beae49",
   "metadata": {},
   "source": [
    "Retorna a diferença simétrica entre o conjunto e um conjunto ou um iterável."
   ]
  },
  {
   "cell_type": "code",
   "execution_count": null,
   "id": "b245e54f",
   "metadata": {
    "ExecuteTime": {
     "end_time": "2023-09-14T21:14:57.900779Z",
     "start_time": "2023-09-14T21:14:57.895924Z"
    }
   },
   "outputs": [],
   "source": [
    "A = {-1,1,2,3,7}\n",
    "B = {-1,1,0,3,-3}\n",
    "lista = [1,3,5,7]\n",
    "\n",
    "C = A.symmetric_difference(B)\n",
    "D = A.symmetric_difference(lista)\n",
    "\n",
    "print(A)\n",
    "print(C)\n",
    "print(D)"
   ]
  },
  {
   "cell_type": "markdown",
   "id": "3a725f99",
   "metadata": {},
   "source": [
    "#### symmetric_difference_update()"
   ]
  },
  {
   "cell_type": "markdown",
   "id": "ae70e83a",
   "metadata": {},
   "source": [
    "Atualiza um conjunto para conter apenas elementos que estão no conjunto ou no iterável, mas não em ambos."
   ]
  },
  {
   "cell_type": "code",
   "execution_count": null,
   "id": "dd17fde2",
   "metadata": {
    "ExecuteTime": {
     "end_time": "2023-09-14T21:15:04.052389Z",
     "start_time": "2023-09-14T21:15:04.047748Z"
    }
   },
   "outputs": [],
   "source": [
    "A = {-1,1,2,3,7}\n",
    "B = {-1,1,0,3,-3}\n",
    "\n",
    "A.symmetric_difference_update(B)\n",
    "print(A)"
   ]
  },
  {
   "cell_type": "code",
   "execution_count": null,
   "id": "c02db9c4",
   "metadata": {
    "ExecuteTime": {
     "end_time": "2023-09-14T21:15:35.043741Z",
     "start_time": "2023-09-14T21:15:35.040035Z"
    }
   },
   "outputs": [],
   "source": [
    "A = {-1,1,2,3,7}\n",
    "tupla = (1,3,9)\n",
    "\n",
    "A.symmetric_difference_update(tupla)\n",
    "print(A)"
   ]
  },
  {
   "cell_type": "markdown",
   "id": "cc3d3c8c",
   "metadata": {},
   "source": [
    "#### union()"
   ]
  },
  {
   "cell_type": "markdown",
   "id": "010fc322",
   "metadata": {},
   "source": [
    "Retorna a união entre o conjunto e um ou mais iteráveis. O conjunto original permanece inalterado."
   ]
  },
  {
   "cell_type": "code",
   "execution_count": null,
   "id": "fbdbc85e",
   "metadata": {
    "ExecuteTime": {
     "end_time": "2023-09-14T21:16:09.959158Z",
     "start_time": "2023-09-14T21:16:09.954183Z"
    }
   },
   "outputs": [],
   "source": [
    "A = {-1,1,2,3,7}\n",
    "lista = [1,3,5,7]\n",
    "tupla = (-2,0,3,9)\n",
    "\n",
    "B = A.union(lista,tupla)\n",
    "print(A)\n",
    "print(B)"
   ]
  },
  {
   "cell_type": "markdown",
   "id": "50e7a1fe",
   "metadata": {},
   "source": [
    "#### update()"
   ]
  },
  {
   "cell_type": "markdown",
   "id": "c8df13ff",
   "metadata": {},
   "source": [
    "Adiciona elementos a partir de um ou mais iteráveis ao conjunto. Caso queira usar o conjunto A original futuramente é recomendável fazer uma cópia do mesmo."
   ]
  },
  {
   "cell_type": "code",
   "execution_count": null,
   "id": "1c7e58aa",
   "metadata": {
    "ExecuteTime": {
     "end_time": "2023-09-14T21:17:00.820610Z",
     "start_time": "2023-09-14T21:17:00.816634Z"
    }
   },
   "outputs": [],
   "source": [
    "A = {-1,1,2,3,7}\n",
    "lista = [1,6,7]\n",
    "tupla = (-2,1,9)\n",
    "\n",
    "A.update(lista)\n",
    "print(A)"
   ]
  },
  {
   "cell_type": "code",
   "execution_count": null,
   "id": "2e15b9cf",
   "metadata": {
    "ExecuteTime": {
     "end_time": "2023-09-14T21:17:28.037910Z",
     "start_time": "2023-09-14T21:17:28.033594Z"
    }
   },
   "outputs": [],
   "source": [
    "A = {-1,1,2,3,7}\n",
    "lista = [1,6,7]\n",
    "tupla = (-2,1,9)\n",
    "\n",
    "A.update(lista,tupla)\n",
    "print(A)"
   ]
  },
  {
   "cell_type": "markdown",
   "id": "3c0be8b4",
   "metadata": {},
   "source": [
    "## <div style=\"margin-top: -20px;\">\n",
    "<hr style=\"border: 2px solid blue;\">\n",
    "\n",
    "<font color='blue'><span style=\"font-size: 22px;\"><strong>Exercícios</strong></span></font>\n",
    "\n",
    "<hr style=\"border: 2px solid blue;\">\n",
    "</div>"
   ]
  },
  {
   "cell_type": "markdown",
   "id": "626373b6",
   "metadata": {},
   "source": [
    "#### Exercício 1"
   ]
  },
  {
   "cell_type": "markdown",
   "id": "281b870f",
   "metadata": {},
   "source": [
    "Considere o conjunto, A = {1,2,-1,0,3,6}.\n",
    "\n",
    "a) Determine se 1 pertence a A.\n",
    "\n",
    "b) Verfique de o inteiro 4 não pertence a A. Em seguida adicione-o.\n",
    "\n",
    "c) Vefique que o 3 pertence ao conjunto A (atual). Em seguida remova-o."
   ]
  },
  {
   "cell_type": "code",
   "execution_count": null,
   "id": "2fa85f7c",
   "metadata": {},
   "outputs": [],
   "source": [
    "# Sua resposta\n",
    "# a)\n"
   ]
  },
  {
   "cell_type": "code",
   "execution_count": null,
   "id": "9070b29e",
   "metadata": {},
   "outputs": [],
   "source": [
    "# Sua resposta\n",
    "# b)\n"
   ]
  },
  {
   "cell_type": "code",
   "execution_count": null,
   "id": "5bbd3602",
   "metadata": {},
   "outputs": [],
   "source": [
    "# Sua resposta\n",
    "# c)\n"
   ]
  },
  {
   "cell_type": "markdown",
   "id": "cdbd001a",
   "metadata": {},
   "source": [
    "#### Exercício 2"
   ]
  },
  {
   "cell_type": "markdown",
   "id": "4c772b31",
   "metadata": {},
   "source": [
    "Considere os conjuntos $A = \\{1,2,3\\}$, $B = \\{3,4,6\\}$, $C = \\{1,5\\}$, $D = A \\cup B$ e $U = A \\cup B \\cup C \\cup D$, em que $U$ é o conjunto universo.\n",
    "\n",
    "a) Determine $A \\cap B$.\n",
    "\n",
    "b) $D$ de forma explicita\n",
    "\n",
    "c) $E = \\overline{A} - C$\n",
    "\n",
    "d) $F = \\overline{A \\cap B} - \\overline{\\left(D \\cup \\overline{C}\\right)}$"
   ]
  },
  {
   "cell_type": "code",
   "execution_count": null,
   "id": "858dc12e",
   "metadata": {},
   "outputs": [],
   "source": [
    "# Sua resposta\n",
    "# a)\n"
   ]
  },
  {
   "cell_type": "code",
   "execution_count": null,
   "id": "1a22be81",
   "metadata": {},
   "outputs": [],
   "source": [
    "# Sua resposta\n",
    "# b)\n"
   ]
  },
  {
   "cell_type": "code",
   "execution_count": null,
   "id": "8c4b124e",
   "metadata": {},
   "outputs": [],
   "source": [
    "# Sua resposta\n",
    "# c)\n"
   ]
  },
  {
   "cell_type": "code",
   "execution_count": null,
   "id": "039139c3",
   "metadata": {},
   "outputs": [],
   "source": [
    "# Sua resposta\n",
    "# d)\n"
   ]
  },
  {
   "cell_type": "markdown",
   "id": "3df9f525",
   "metadata": {},
   "source": [
    "#### Exercício 3"
   ]
  },
  {
   "cell_type": "markdown",
   "id": "90a0d861",
   "metadata": {},
   "source": [
    "Considere os seguintes objetos Python: {1,2,3}, [1,2,5,1,7,-1] e (1,-1,0,2)\n",
    "\n",
    "a) Construa um conjunto com ao menos um dos elementos que figura em cada um dos objetos Python dados.\n",
    "\n",
    "b) Construa um conjunto com todos os elementos que estão presentes em todos os objetos Python dados.\n",
    "\n",
    "c) Constru um conjunto com todos os elementos que estao presentes no primeiro objeto Python mas não estão presentes nos demais.\n",
    "\n",
    "d) Constru um conjunto com todos os elementos que estao presentes no segunddo objeto Python mas não estão presentes nos demais."
   ]
  },
  {
   "cell_type": "code",
   "execution_count": null,
   "id": "ee05354f",
   "metadata": {},
   "outputs": [],
   "source": [
    "# Sua resposta\n",
    "# a)\n"
   ]
  },
  {
   "cell_type": "code",
   "execution_count": null,
   "id": "a78b64ad",
   "metadata": {},
   "outputs": [],
   "source": [
    "# Sua resposta\n",
    "# b)\n"
   ]
  },
  {
   "cell_type": "code",
   "execution_count": null,
   "id": "09531790",
   "metadata": {},
   "outputs": [],
   "source": [
    "# Sua resposta\n",
    "# c)\n"
   ]
  },
  {
   "cell_type": "code",
   "execution_count": null,
   "id": "1da176f8",
   "metadata": {},
   "outputs": [],
   "source": [
    "# Sua resposta\n",
    "# d)\n"
   ]
  },
  {
   "cell_type": "markdown",
   "id": "7f155366",
   "metadata": {},
   "source": [
    "#### Exercício 4"
   ]
  },
  {
   "cell_type": "markdown",
   "id": "054ac069",
   "metadata": {},
   "source": [
    "Considere o dicionário: {'Allan': 39, 'Daniela':30, 'Lara':21, 'Lucas':39}.\n",
    "\n",
    "a) Forme um conjunto com todas as chaves presentes no dicionário dado.\n",
    "\n",
    "b) Forme um conjunto com todos os valores presentes no dicionário dado."
   ]
  },
  {
   "cell_type": "code",
   "execution_count": null,
   "id": "2cb5d7fe",
   "metadata": {},
   "outputs": [],
   "source": [
    "# Sua resposta\n",
    "# a)\n"
   ]
  },
  {
   "cell_type": "code",
   "execution_count": null,
   "id": "02f05300",
   "metadata": {},
   "outputs": [],
   "source": [
    "# Sua resposta\n",
    "# b)\n"
   ]
  },
  {
   "cell_type": "markdown",
   "id": "7f09f0a6",
   "metadata": {},
   "source": [
    "### <div style=\"margin-top: -20px;\">\n",
    "<hr style=\"border: 2px solid blue;\">\n",
    "\n",
    "<font color='blue'><span style=\"font-size: 18px;\"><strong>Soluções dos Exercícios</strong></span></font>\n",
    "\n",
    "<hr style=\"border: 2px solid blue;\">\n",
    "</div>"
   ]
  },
  {
   "cell_type": "markdown",
   "id": "bd952570",
   "metadata": {},
   "source": [
    "#### Solução do Exercício 1"
   ]
  },
  {
   "cell_type": "code",
   "execution_count": null,
   "id": "73e40d88",
   "metadata": {},
   "outputs": [],
   "source": [
    "# a) \n",
    "\n",
    "# Entrada\n",
    "A = {1,2,-1,0,3,6}\n",
    "\n",
    "# Verificação de pertinência\n",
    "print(1 in A)"
   ]
  },
  {
   "cell_type": "code",
   "execution_count": null,
   "id": "86ace300",
   "metadata": {},
   "outputs": [],
   "source": [
    "# b) \n",
    "\n",
    "# Verificação de pertinência\n",
    "print(4 in A)"
   ]
  },
  {
   "cell_type": "code",
   "execution_count": null,
   "id": "00d85fe9",
   "metadata": {},
   "outputs": [],
   "source": [
    "# Continuação\n",
    "\n",
    "# Adicionando o valor 4 ao conjunto\n",
    "A.add(4)\n",
    "\n",
    "# Verificação de pertinência\n",
    "print(4 in A)"
   ]
  },
  {
   "cell_type": "code",
   "execution_count": null,
   "id": "5bbb8bd6",
   "metadata": {},
   "outputs": [],
   "source": [
    "# c)\n",
    "\n",
    "# Retirando o valor 3 do conjunto\n",
    "A.discard(3)\n",
    "\n",
    "# Verificação de pertinência\n",
    "print(3 in A)"
   ]
  },
  {
   "cell_type": "markdown",
   "id": "63d8bcd1",
   "metadata": {},
   "source": [
    "#### Solução do Exercício 2"
   ]
  },
  {
   "cell_type": "code",
   "execution_count": null,
   "id": "a7d49f9c",
   "metadata": {},
   "outputs": [],
   "source": [
    "# a)\n",
    "\n",
    "# Entradas\n",
    "A = {1,2,3}\n",
    "B = {3,4,6}\n",
    "C = {1,5}\n",
    "D = A|B\n",
    "U = A|B|C|D\n",
    "\n",
    "print(A & B)"
   ]
  },
  {
   "cell_type": "code",
   "execution_count": null,
   "id": "af4ee668",
   "metadata": {},
   "outputs": [],
   "source": [
    "# b)\n",
    "\n",
    "# Expressão objetivo\n",
    "D = A | B\n",
    "\n",
    "print(D)"
   ]
  },
  {
   "cell_type": "code",
   "execution_count": null,
   "id": "0e3f653b",
   "metadata": {},
   "outputs": [],
   "source": [
    "# c)\n",
    "\n",
    "# Parte 1 da expressão objetivo\n",
    "A_comp = U - A\n",
    "\n",
    "# Expressão objetivo\n",
    "E = A_comp - C\n",
    "\n",
    "# Impressão do conjunto E\n",
    "print(E)"
   ]
  },
  {
   "cell_type": "code",
   "execution_count": null,
   "id": "e030f1dd",
   "metadata": {},
   "outputs": [],
   "source": [
    "# d)\n",
    "\n",
    "# Expressão objetivo\n",
    "F = (U - (A&B)) - (U - (D | (U - C))) # pode-se dividir em partes como no item 'C'\n",
    "\n",
    "# Impressão do conjunto F\n",
    "print(F)"
   ]
  },
  {
   "cell_type": "markdown",
   "id": "5a413bfd",
   "metadata": {},
   "source": [
    "#### Solução do Exercício 3"
   ]
  },
  {
   "cell_type": "code",
   "execution_count": null,
   "id": "03df5981",
   "metadata": {},
   "outputs": [],
   "source": [
    "# a)\n",
    "\n",
    "# Entradas\n",
    "A = {1,2,3}\n",
    "B = [1,2,5,1,7,-1]\n",
    "C = (1,-1,0,2)\n",
    "\n",
    "# União conjunta\n",
    "conjunto1 = A.union(A,B,C)\n",
    "\n",
    "# Impressão do resultado final\n",
    "print(conjunto1)"
   ]
  },
  {
   "cell_type": "code",
   "execution_count": null,
   "id": "6b75b78d",
   "metadata": {},
   "outputs": [],
   "source": [
    "# b)\n",
    "\n",
    "# Intersecção conjunta\n",
    "conjunto2 = A.intersection(A,B,C)\n",
    "\n",
    "# Impressão do resultado final\n",
    "print(conjunto2)"
   ]
  },
  {
   "cell_type": "code",
   "execution_count": null,
   "id": "7f5bf807",
   "metadata": {},
   "outputs": [],
   "source": [
    "# c)\n",
    "\n",
    "# Diferença solicitada\n",
    "conjunto3 = A.difference(B,C)\n",
    "\n",
    "# Impressão do resultado final\n",
    "print(conjunto3)"
   ]
  },
  {
   "cell_type": "code",
   "execution_count": null,
   "id": "3e13751c",
   "metadata": {},
   "outputs": [],
   "source": [
    "# d)\n",
    "\n",
    "# Conversão da lista B em um conjunto\n",
    "B_conj = set(B)\n",
    "\n",
    "# Diferença solicitada\n",
    "conjunto4 = B_conj.difference(A,C)\n",
    "\n",
    "# Impressão do resultado final\n",
    "print(conjunto4)"
   ]
  },
  {
   "cell_type": "markdown",
   "id": "977b96cc",
   "metadata": {},
   "source": [
    "#### Solução do Exercício 4"
   ]
  },
  {
   "cell_type": "code",
   "execution_count": null,
   "id": "e0ba2cae",
   "metadata": {},
   "outputs": [],
   "source": [
    "# a)\n",
    "\n",
    "# Entrada\n",
    "dic = {'Allan': 39, 'Daniela':30, 'Lara':21, 'Lucas':39}\n",
    "\n",
    "# Lista contendo as chaves do dicionário anterior\n",
    "lista_chaves = list(dic.keys())\n",
    "\n",
    "# Conversão da lista anterior em conjunto\n",
    "conjunto_chaves = set(lista_chaves)\n",
    "\n",
    "# Impressão do conjunto anterior\n",
    "print(conjunto_chaves)"
   ]
  },
  {
   "cell_type": "code",
   "execution_count": null,
   "id": "d00c1761",
   "metadata": {},
   "outputs": [],
   "source": [
    "# b)\n",
    "\n",
    "# Entrada\n",
    "dic = {'Allan': 39, 'Daniela':30, 'Lara':21, 'Lucas':39}\n",
    "\n",
    "# Lista contendo os valores das chaves do dicionário anterior\n",
    "lista_valores = list(dic.values())\n",
    "\n",
    "# Conversão da lista anterior em conjunto\n",
    "conjunto_valores = set(lista_valores)\n",
    "\n",
    "# Impressão do conjunto anterior\n",
    "print(conjunto_valores)"
   ]
  }
 ],
 "metadata": {
  "kernelspec": {
   "display_name": "Python 3 (ipykernel)",
   "language": "python",
   "name": "python3"
  },
  "language_info": {
   "codemirror_mode": {
    "name": "ipython",
    "version": 3
   },
   "file_extension": ".py",
   "mimetype": "text/x-python",
   "name": "python",
   "nbconvert_exporter": "python",
   "pygments_lexer": "ipython3",
   "version": "3.9.13"
  },
  "varInspector": {
   "cols": {
    "lenName": 16,
    "lenType": 16,
    "lenVar": 40
   },
   "kernels_config": {
    "python": {
     "delete_cmd_postfix": "",
     "delete_cmd_prefix": "del ",
     "library": "var_list.py",
     "varRefreshCmd": "print(var_dic_list())"
    },
    "r": {
     "delete_cmd_postfix": ") ",
     "delete_cmd_prefix": "rm(",
     "library": "var_list.r",
     "varRefreshCmd": "cat(var_dic_list()) "
    }
   },
   "types_to_exclude": [
    "module",
    "function",
    "builtin_function_or_method",
    "instance",
    "_Feature"
   ],
   "window_display": false
  }
 },
 "nbformat": 4,
 "nbformat_minor": 5
}
