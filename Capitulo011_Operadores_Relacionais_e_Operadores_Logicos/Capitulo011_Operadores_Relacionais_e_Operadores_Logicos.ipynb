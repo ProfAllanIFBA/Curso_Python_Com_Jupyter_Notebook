{
 "cells": [
  {
   "cell_type": "markdown",
   "id": "b42396bc",
   "metadata": {},
   "source": [
    "<center> <img src=\"logo_ifba.jpg\" alt=\"jpg_python\" width=\"100\" height=\"\"> </center>\n",
    "<br><br>\n",
    "<center> <img src=\"logo_coext.jpg\" alt=\"jpg_python\" width=\"200\" height=\"\"> </center>\n",
    "<br><br>\n",
    "<center><div style=\"text-align:center\">    <a href=\"https://colab.research.google.com/github/ProfAllanIFBA/Curso_Python_Com_Jupyter_Notebook/blob/main/Capitulo011_Operadores_Relacionais_e_Operadores_Logicos/Capitulo011_Operadores_Relacionais_e_Operadores_Logicos.ipynb\">Link Colab</a> \n",
    "</div><br><br></center>\n",
    "<div align=\"center\"><span style=\"font-size: 26px;\"><strong>Python Com Jupyter Notebook</strong></span></div><br><br>\n",
    "<center> <img src=\"python_gif.gif\" alt=\"gif_python\" width=\"80\"> </center>"
   ]
  },
  {
   "cell_type": "markdown",
   "id": "6cc64e70",
   "metadata": {},
   "source": [
    "Este material apresenta uma explicação detalhada sobre o uso do software de programação em Python chamado Jupyter Notebook, com foco na análise de dados. Abordaremos desde estruturas básicas, como listas e dicionários, até estruturas mais complexas voltadas para a análise de dados, como pandas e seaborn, além de ferramentas destinadas à inteligência artificial.\n",
    "\n",
    "\n",
    "<font color='red'> <u>Este é um material de uso público e totalmente gratuito</u>. Contudo, eventuais edições são de responsabilidade de quem as fizer. </font>\n",
    "\n",
    "Você pode ajudar a melhorar este material!\n",
    "\n",
    "Contato e Sugestões: allansoares@ifba.edu.br.\n",
    "\n",
    "[**Equipe Executora**](https://github.com/Allanifba/Curso_Python_Com_Jupyter_Notebook/blob/main/Capitulo000_Equipe/Capitulo000_Equipe.ipynb)"
   ]
  },
  {
   "cell_type": "markdown",
   "id": "7b893593",
   "metadata": {},
   "source": [
    "### <center> <font color='red'> Vídeo Aulas <img src=\"youtube.gif\" alt=\"jpg_python\" width=\"100\" height=\"\"> </font> </center>"
   ]
  },
  {
   "cell_type": "markdown",
   "id": "7102eb24",
   "metadata": {},
   "source": [
    "[Operadores Relacionais em Python](https://youtu.be/R_7xyXyjIe8)\n",
    "\n",
    "[Operadores Lógicos em Python](https://youtu.be/wEE2yhS1dCE)"
   ]
  },
  {
   "cell_type": "markdown",
   "id": "c0c4b8a6",
   "metadata": {},
   "source": [
    "<div style=\"border: 2px solid black; padding: 10px; width: 100%; background-color: lightgray; display: flex; align-items: center;\">\n",
    "    <h1 style=\"color: red; text-align: center; margin: auto;\">\n",
    "        Capítulo 11 - Operadores Relacionais e Operadores Lógicos\n",
    "    </h1>\n",
    "</div>\n"
   ]
  },
  {
   "cell_type": "markdown",
   "id": "906103c3",
   "metadata": {},
   "source": [
    "Em Python, os operadores relacionais e operadores lógicos são ferramentas fundamentais para realizar comparações e tomar decisões em programas. Esses operadores nos permitem avaliar expressões, comparar valores e determinar a veracidade ou falsidade de uma condição."
   ]
  },
  {
   "cell_type": "markdown",
   "id": "3307aadb",
   "metadata": {},
   "source": [
    "##\n",
    "<div style=\"margin-top: -20px;\">\n",
    "<hr style=\"border: 2px solid blue;\">\n",
    "\n",
    "<font color='blue'><span style=\"font-size: 22px;\"><strong>11.1 Operadores Relacionais</strong></span></font>\n",
    "\n",
    "<hr style=\"border: 2px solid blue;\">\n",
    "</div>"
   ]
  },
  {
   "cell_type": "markdown",
   "id": "3bf6bcfc",
   "metadata": {},
   "source": [
    "Os <u>operadores relacionais</u> são utilizados para comparar valores e expressões, retornando um resultado booleano (verdadeiro ou falso). Aqui estão os operadores relacionais básicos em Python:\n",
    "\n",
    "$==$ (**igual a**): verifica se dois valores/variáveis são iguais.\n",
    "\n",
    "$!=$ (**diferente de**): verifica se dois valores/variáveis são diferentes.\n",
    "\n",
    "$<$ (**menor que**): verifica se um valor é menor que outro. (variação $<=$ **menor ou igual a**)\n",
    "\n",
    "$>$ (**maior que**): verifica se um valor é maior que outro. (variação $>=$ **maior ou igual a**)"
   ]
  },
  {
   "cell_type": "markdown",
   "id": "3f474529",
   "metadata": {},
   "source": [
    "#### *Exemplo 1: Comparando números*"
   ]
  },
  {
   "cell_type": "code",
   "execution_count": null,
   "id": "94a775e4",
   "metadata": {
    "ExecuteTime": {
     "end_time": "2023-09-18T12:09:07.379531Z",
     "start_time": "2023-09-18T12:09:07.336918Z"
    }
   },
   "outputs": [],
   "source": [
    "# Imprimindo comparações (saídas booleanas)\n",
    "print(6 == 3)\n",
    "print(4 != -4)\n",
    "print(4 > 4)\n",
    "print(3 < 5)\n",
    "print(4 >= 4)\n",
    "print(4 <= 4)"
   ]
  },
  {
   "cell_type": "markdown",
   "id": "1e7223fe",
   "metadata": {},
   "source": [
    "#### *Exemplo 2: Comparando conjuntos*"
   ]
  },
  {
   "cell_type": "markdown",
   "id": "a5765c82",
   "metadata": {},
   "source": [
    "Podemos comparar não somente números mais outros objetos como listas, tuplas, seus elementos internos etc. Podemos saber se dois conjuntos são iguais, ou diferentes, se duas palavras (strings) são diferentes ou se são a mesma. Por exemplos, a inclusão $A \\subset B$ pode ser vista como $A < B$."
   ]
  },
  {
   "cell_type": "code",
   "execution_count": null,
   "id": "a671a078",
   "metadata": {
    "ExecuteTime": {
     "end_time": "2023-09-18T12:11:58.797490Z",
     "start_time": "2023-09-18T12:11:58.792414Z"
    },
    "scrolled": true
   },
   "outputs": [],
   "source": [
    "# Conjuntos\n",
    "A = {1,2}\n",
    "B = {2,1}\n",
    "C = {1}\n",
    "D = {3}\n",
    "E = {1,3}\n",
    "\n",
    "# Imprimindo comparações de conjuntos\n",
    "print(A == B)\n",
    "print(A != E)\n",
    "print(C < A)      \n",
    "print(D < A)     \n",
    "print(A < A)\n",
    "print(A <= A)"
   ]
  },
  {
   "cell_type": "markdown",
   "id": "19de8539",
   "metadata": {},
   "source": [
    "#### *Exemplo 3: Comparando strings*"
   ]
  },
  {
   "cell_type": "markdown",
   "id": "0e6abd5d",
   "metadata": {},
   "source": [
    "Podemos comparar strings para verificar se são iguais, diferentes e até mesmo determinar se uma palavra vem antes ou depois em relação à ordem lexicográfica. Por exemplo, se uma palavra \"x\" vem antes da outra \"y\" então x<y retornará True."
   ]
  },
  {
   "cell_type": "code",
   "execution_count": null,
   "id": "1b8b8f09",
   "metadata": {
    "ExecuteTime": {
     "end_time": "2023-09-18T12:13:35.830289Z",
     "start_time": "2023-09-18T12:13:35.825142Z"
    }
   },
   "outputs": [],
   "source": [
    "# Strings\n",
    "A = 'armadilha'\n",
    "B = 'Armadilha'\n",
    "C = 'baleia'\n",
    "D = 'casa'\n",
    "\n",
    "# Imprimindo as comparações de strings\n",
    "print(A == B)\n",
    "print(A != B)\n",
    "print(A < C)\n",
    "print(C < B)"
   ]
  },
  {
   "cell_type": "markdown",
   "id": "46753fa2",
   "metadata": {},
   "source": [
    "#### *Exemplo 4: Comparando listas, objetos internos de listas e o comprimento*"
   ]
  },
  {
   "cell_type": "code",
   "execution_count": null,
   "id": "ea60ac40",
   "metadata": {
    "ExecuteTime": {
     "end_time": "2023-09-18T12:17:06.118921Z",
     "start_time": "2023-09-18T12:17:06.113527Z"
    }
   },
   "outputs": [],
   "source": [
    "# Listas a serem comparadas\n",
    "lista1 = [1,2,3]\n",
    "lista2 = [2,1,3]\n",
    "\n",
    "# Determinando os comprimentos das listas\n",
    "comp_lista1 = len(lista1)\n",
    "comp_lista2 = len(lista2)\n",
    "\n",
    "# Imprimindo comparações\n",
    "print(lista1 == lista2)\n",
    "print(lista1[0] == lista2[0])\n",
    "print(lista1[2] == lista2[2])\n",
    "print(comp_lista1 == comp_lista1)"
   ]
  },
  {
   "cell_type": "markdown",
   "id": "a2bc417c",
   "metadata": {},
   "source": [
    "##\n",
    "<div style=\"margin-top: -20px;\">\n",
    "<hr style=\"border: 2px solid blue;\">\n",
    "\n",
    "<font color='blue'><span style=\"font-size: 22px;\"><strong>11.2 Operadores Lógicos</strong></span></font>\n",
    "\n",
    "<hr style=\"border: 2px solid blue;\">\n",
    "</div>"
   ]
  },
  {
   "cell_type": "markdown",
   "id": "10782762",
   "metadata": {},
   "source": [
    "<u>Operadores lógicos </u> em Python são utilizados para combinar e avaliar expressões lógicas. Eles permitem realizar operações de lógica booleana, onde o resultado da operação é um valor booleano, ou seja, Verdadeiro (True) ou Falso (False). Os operadores lógicos disponíveis em Python são:\n",
    "\n",
    "**and** (**e**): retorna True se ambos os valores são verdadeiros.\n",
    "\n",
    "**or** (**ou**): retorna True se pelo menos um dos valores é verdadeiro.\n",
    "\n",
    "**not** (**não**): inverte o valor booleano de uma expressão."
   ]
  },
  {
   "cell_type": "markdown",
   "id": "dabb5dbb",
   "metadata": {},
   "source": [
    "#### Tabelas lógicas"
   ]
  },
  {
   "cell_type": "markdown",
   "id": "40515f6d",
   "metadata": {},
   "source": [
    "Seguem as tabelas lógicas da conjunção negação **not**, **and** e disjunção **or**:\n",
    "$$\n",
    "\\begin{array}{|c|c|c|c|c|}\n",
    "\\hline\n",
    "p\t        & \t not \\,\\, p \\\\\n",
    "\\hline\n",
    " True  \t\t& \t False   \t\\\\\n",
    " False  \t& \t True  \t\\\\\n",
    "\\hline\n",
    "\\end{array} \\,\\,\\,\n",
    "\\begin{array}{|c|c|c|c|c|}\n",
    "\\hline\n",
    "p\t        & \t q   \t    & p \\,\\, and \\,\\, q   \\\\\n",
    "\\hline\n",
    " True  \t\t& \t True   \t& True   \t\\\\\n",
    " True \t\t& \t False   \t& False\t    \\\\\n",
    " False  \t& \t True   \t& False  \t\\\\\n",
    " False  \t& \t False   \t& False    \t\\\\\n",
    "\\hline\n",
    "\\end{array} \\,\\,\\,\n",
    "\\begin{array}{|c|c|c|c|c|}\n",
    "\\hline\n",
    "p\t        & \t q   \t    & p \\,\\, or \\,\\, q   \\\\\n",
    "\\hline\n",
    " True  \t\t& \t True   \t& True   \t\\\\\n",
    " True \t\t& \t False   \t& True\t    \\\\\n",
    " False  \t& \t True   \t& True  \t\\\\\n",
    " False  \t& \t False   \t& False    \t\\\\\n",
    "\\hline\n",
    "\\end{array}\n",
    "$$"
   ]
  },
  {
   "cell_type": "markdown",
   "id": "596704c4",
   "metadata": {},
   "source": [
    "##### Exemplo 1: Cálculo do valor lógico de proposições simbólicas"
   ]
  },
  {
   "cell_type": "code",
   "execution_count": null,
   "id": "6fd82417",
   "metadata": {
    "ExecuteTime": {
     "end_time": "2023-09-18T12:30:15.071845Z",
     "start_time": "2023-09-18T12:30:15.067713Z"
    }
   },
   "outputs": [],
   "source": [
    "# Proposições\n",
    "p = 2<3\n",
    "q = 1>=4\n",
    "\n",
    "# Imprimindo os valores verdade (valores booleanos)\n",
    "print(p)\n",
    "print(q)"
   ]
  },
  {
   "cell_type": "code",
   "execution_count": null,
   "id": "979e9b4d",
   "metadata": {
    "ExecuteTime": {
     "end_time": "2023-09-18T12:31:35.197432Z",
     "start_time": "2023-09-18T12:31:35.192723Z"
    }
   },
   "outputs": [],
   "source": [
    "# Imprimindo os valores lógicos de operações lógicas\n",
    "print(not p)\n",
    "print(p and q)\n",
    "print(p or q)\n",
    "print((not p) and q)"
   ]
  },
  {
   "cell_type": "markdown",
   "id": "b8c5521d",
   "metadata": {},
   "source": [
    "#####  <div style=\"width: 50%; height: 4px; background-color: green;\"> <br> <font color='green'>Revisão de Lógica</font> </div>  \n",
    "<br>\n"
   ]
  },
  {
   "cell_type": "markdown",
   "id": "c1be25e2",
   "metadata": {},
   "source": [
    "Como podemos calcular o valor lógico da proposição $p \\rightarrow q$?"
   ]
  },
  {
   "cell_type": "markdown",
   "id": "f084dce0",
   "metadata": {},
   "source": [
    "Infelizmente não podemos calcular diretamente. Contudo, uma forma de fazermos isso é usarmos a equivalência $p \\rightarrow q \\equiv \\neg p \\vee q$. Agora ficou moleza..."
   ]
  },
  {
   "cell_type": "code",
   "execution_count": null,
   "id": "c2e7c0bd",
   "metadata": {
    "ExecuteTime": {
     "end_time": "2023-06-26T21:55:17.464909Z",
     "start_time": "2023-06-26T21:55:17.458901Z"
    }
   },
   "outputs": [],
   "source": [
    "# Proposições\n",
    "p = 2<3\n",
    "q = 1>=4\n",
    "\n",
    "# Cálculo indireto de p -> q\n",
    "print((not p) or q)"
   ]
  },
  {
   "cell_type": "markdown",
   "id": "4b671443",
   "metadata": {},
   "source": [
    "De fato, <br>\n",
    "$$p \\rightarrow q \\equiv V \\rightarrow F \\equiv F.$$"
   ]
  },
  {
   "cell_type": "markdown",
   "id": "c1b9965d",
   "metadata": {},
   "source": [
    "<div style=\"width: 50%; height: 4px; background-color: green;\"></div> "
   ]
  },
  {
   "cell_type": "markdown",
   "id": "edf2c2d4",
   "metadata": {},
   "source": [
    "##\n",
    "<div style=\"margin-top: -20px;\">\n",
    "<hr style=\"border: 2px solid blue;\">\n",
    "\n",
    "<font color='blue'><span style=\"font-size: 22px;\"><strong>11.3+ Atualização Futura</strong></span></font>\n",
    "\n",
    "<hr style=\"border: 2px solid blue;\">\n",
    "</div>"
   ]
  },
  {
   "cell_type": "markdown",
   "id": "ab4d0fff",
   "metadata": {},
   "source": [
    "Em breve, neste capítulo/material, adicionaremos uma abordagem detalhada sobre o [truth-table-generator](https://pypi.org/project/truth-table-generator/), uma ferramenta poderosa que permite criar tabelas de verdade de forma rápida e eficiente. Esta adição enriquecerá sua compreensão e habilidades em lógica e análise de proposições. Fique atento para explorar todas as funcionalidades e usos deste recurso valioso."
   ]
  },
  {
   "cell_type": "markdown",
   "id": "fb12f113",
   "metadata": {},
   "source": [
    "## <div style=\"margin-top: -20px;\">\n",
    "<hr style=\"border: 2px solid blue;\">\n",
    "\n",
    "<font color='blue'><span style=\"font-size: 22px;\"><strong>Exercícios</strong></span></font>\n",
    "\n",
    "<hr style=\"border: 2px solid blue;\">\n",
    "</div>"
   ]
  },
  {
   "cell_type": "markdown",
   "id": "b22bf332",
   "metadata": {},
   "source": [
    "#### Exercício 1"
   ]
  },
  {
   "cell_type": "markdown",
   "id": "ff653058",
   "metadata": {},
   "source": [
    "Determine o valor booleano das afirmações a seguir:\n",
    "\n",
    "a) $2 = 3$\n",
    "\n",
    "b) \"casa\" $<$ \"caso\" (comparação de strings)\n",
    "\n",
    "c) $(3+2)^2 - 5 \\geq 20$\n",
    "\n",
    "d) $\\{1,-2,4,2,-8,6\\} \\neq \\{1,2,-2,6,8,4\\}$\n",
    "\n",
    "e) $x^{2} + 2xy - y^{2} < 3(x+y)^{2}$ para $x = 1.875$ e $y = -3.15$"
   ]
  },
  {
   "cell_type": "code",
   "execution_count": null,
   "id": "a343496b",
   "metadata": {},
   "outputs": [],
   "source": [
    "# Sua resposta\n",
    "# a)\n"
   ]
  },
  {
   "cell_type": "code",
   "execution_count": null,
   "id": "ade546c5",
   "metadata": {},
   "outputs": [],
   "source": [
    "# Sua resposta\n",
    "# b)\n"
   ]
  },
  {
   "cell_type": "code",
   "execution_count": null,
   "id": "9ca51451",
   "metadata": {},
   "outputs": [],
   "source": [
    "# Sua resposta\n",
    "# c)\n"
   ]
  },
  {
   "cell_type": "code",
   "execution_count": null,
   "id": "61b1389b",
   "metadata": {},
   "outputs": [],
   "source": [
    "# Sua resposta\n",
    "# d)\n"
   ]
  },
  {
   "cell_type": "code",
   "execution_count": null,
   "id": "242ae9ce",
   "metadata": {},
   "outputs": [],
   "source": [
    "# Sua resposta\n",
    "# e)\n"
   ]
  },
  {
   "cell_type": "markdown",
   "id": "96c28c2e",
   "metadata": {},
   "source": [
    "#### Exercício 2"
   ]
  },
  {
   "cell_type": "markdown",
   "id": "d76a1587",
   "metadata": {},
   "source": [
    "Considere as afirmações $p$, $q$ e $r$ dadas a seguir:\n",
    "\n",
    "$p$: $(3-1)^{2} + \\frac{1+3^{2}}{2} > 10$ \n",
    "\n",
    "$q$: len('casarão') $\\neq$ len([-1,10,3,4,-1,0])\n",
    "\n",
    "$r$: ($True$ $and$ $True$) $or$ ($False$ $or$ $not$ $False$)\n",
    "\n",
    "Determine o valor verdade de cada uma das proposições a seguir:\n",
    "\n",
    "a) $q$\n",
    "\n",
    "b) $p$ $and$ $q$\n",
    "\n",
    "c) $not$ $r$ $or$ $p$\n",
    "\n",
    "d) $not \\, r \\, or \\, (p \\, and \\, not \\,q)$"
   ]
  },
  {
   "cell_type": "code",
   "execution_count": null,
   "id": "b7b5656f",
   "metadata": {},
   "outputs": [],
   "source": [
    "# Sua resposta\n",
    "# a)\n"
   ]
  },
  {
   "cell_type": "code",
   "execution_count": null,
   "id": "78f1100b",
   "metadata": {},
   "outputs": [],
   "source": [
    "# Sua resposta\n",
    "# b)\n"
   ]
  },
  {
   "cell_type": "code",
   "execution_count": null,
   "id": "d8f2bdce",
   "metadata": {},
   "outputs": [],
   "source": [
    "# Sua resposta\n",
    "# c)\n"
   ]
  },
  {
   "cell_type": "code",
   "execution_count": null,
   "id": "6be76245",
   "metadata": {},
   "outputs": [],
   "source": [
    "# Sua resposta\n",
    "# d)\n"
   ]
  },
  {
   "cell_type": "markdown",
   "id": "24e41698",
   "metadata": {},
   "source": [
    "### <div style=\"margin-top: -20px;\">\n",
    "<hr style=\"border: 2px solid blue;\">\n",
    "\n",
    "<font color='blue'><span style=\"font-size: 18px;\"><strong>Soluções dos Exercícios</strong></span></font>\n",
    "\n",
    "<hr style=\"border: 2px solid blue;\">\n",
    "</div>"
   ]
  },
  {
   "cell_type": "markdown",
   "id": "c356a9e4",
   "metadata": {},
   "source": [
    "#### Solução do Exercício 1"
   ]
  },
  {
   "cell_type": "code",
   "execution_count": null,
   "id": "0b866707",
   "metadata": {},
   "outputs": [],
   "source": [
    "# a) \n",
    "\n",
    "# Verificação\n",
    "print(2==3)\n"
   ]
  },
  {
   "cell_type": "code",
   "execution_count": null,
   "id": "025f3584",
   "metadata": {},
   "outputs": [],
   "source": [
    "# b)\n",
    "\n",
    "# Verificação\n",
    "print('casa' < 'caso')"
   ]
  },
  {
   "cell_type": "code",
   "execution_count": null,
   "id": "8c291f46",
   "metadata": {},
   "outputs": [],
   "source": [
    "# c) \n",
    "\n",
    "# Verificação\n",
    "print((3 + 2)**2 - 5 >= 20)"
   ]
  },
  {
   "cell_type": "code",
   "execution_count": null,
   "id": "7d6e6690",
   "metadata": {},
   "outputs": [],
   "source": [
    "# d)\n",
    "\n",
    "# Verificação\n",
    "print({1,-2,4,2,-8,6} != {1,2,-2,6,8,4})"
   ]
  },
  {
   "cell_type": "code",
   "execution_count": null,
   "id": "b0fe2ca1",
   "metadata": {},
   "outputs": [],
   "source": [
    "# e) \n",
    "\n",
    "# Entradas\n",
    "x,y = 1.875, -3.15\n",
    "\n",
    "# Verificação\n",
    "print(x**2 - 2*x*y - y**2 < 3*(x + y)**2 )"
   ]
  },
  {
   "cell_type": "markdown",
   "id": "d4af7bdf",
   "metadata": {},
   "source": [
    "#### Solução do Exercício 2"
   ]
  },
  {
   "cell_type": "code",
   "execution_count": null,
   "id": "65397559",
   "metadata": {},
   "outputs": [],
   "source": [
    "# Proposições\n",
    "p =(3-1)**2 + (1 + 3**2)/2 > 10\n",
    "q = len('casarão') != len([-1,10,3,4,-1,0])\n",
    "r = (True and True) or (False or not False)"
   ]
  },
  {
   "cell_type": "code",
   "execution_count": null,
   "id": "d8df16b3",
   "metadata": {},
   "outputs": [],
   "source": [
    "# a) \n",
    "\n",
    "# Verificação\n",
    "print(q)"
   ]
  },
  {
   "cell_type": "code",
   "execution_count": null,
   "id": "b9e5228c",
   "metadata": {},
   "outputs": [],
   "source": [
    "# b) \n",
    "\n",
    "# Verificação\n",
    "print(p and q)"
   ]
  },
  {
   "cell_type": "code",
   "execution_count": null,
   "id": "e8d7b888",
   "metadata": {},
   "outputs": [],
   "source": [
    "# c) \n",
    "\n",
    "# Verificação\n",
    "print((not r) or p)"
   ]
  },
  {
   "cell_type": "markdown",
   "id": "9bde5414",
   "metadata": {},
   "source": [
    "***Comentário adicional***: Recomenda-se colocar um parêntese em not r, muito embora a operação \"not\" precede as operações \"and\" e \"or\"."
   ]
  },
  {
   "cell_type": "code",
   "execution_count": null,
   "id": "da337148",
   "metadata": {},
   "outputs": [],
   "source": [
    "# d)\n",
    "\n",
    "# Verificação\n",
    "print(not r or (p and not q))"
   ]
  }
 ],
 "metadata": {
  "kernelspec": {
   "display_name": "Python 3 (ipykernel)",
   "language": "python",
   "name": "python3"
  },
  "language_info": {
   "codemirror_mode": {
    "name": "ipython",
    "version": 3
   },
   "file_extension": ".py",
   "mimetype": "text/x-python",
   "name": "python",
   "nbconvert_exporter": "python",
   "pygments_lexer": "ipython3",
   "version": "3.9.13"
  },
  "varInspector": {
   "cols": {
    "lenName": 16,
    "lenType": 16,
    "lenVar": 40
   },
   "kernels_config": {
    "python": {
     "delete_cmd_postfix": "",
     "delete_cmd_prefix": "del ",
     "library": "var_list.py",
     "varRefreshCmd": "print(var_dic_list())"
    },
    "r": {
     "delete_cmd_postfix": ") ",
     "delete_cmd_prefix": "rm(",
     "library": "var_list.r",
     "varRefreshCmd": "cat(var_dic_list()) "
    }
   },
   "types_to_exclude": [
    "module",
    "function",
    "builtin_function_or_method",
    "instance",
    "_Feature"
   ],
   "window_display": false
  }
 },
 "nbformat": 4,
 "nbformat_minor": 5
}
