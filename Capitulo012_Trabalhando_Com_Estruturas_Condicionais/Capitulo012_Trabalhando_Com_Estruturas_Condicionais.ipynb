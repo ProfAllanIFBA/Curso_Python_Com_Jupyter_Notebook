{
 "cells": [
  {
   "cell_type": "markdown",
   "id": "b42396bc",
   "metadata": {},
   "source": [
    "<center> <img src=\"logo_ifba.jpg\" alt=\"jpg_python\" width=\"100\" height=\"\"> </center>\n",
    "<br><br>\n",
    "<center> <img src=\"logo_coext.jpg\" alt=\"jpg_python\" width=\"200\" height=\"\"> </center>\n",
    "<br><br>\n",
    "<center><div style=\"text-align:center\">    <a href=\"https://colab.research.google.com/github/ProfAllanIFBA/Curso_Python_Com_Jupyter_Notebook/blob/main/Capitulo012_Trabalhando_Com_Estruturas_Condicionais/Capitulo012_Trabalhando_Com_Estruturas_Condicionais.ipynb\">Link Colab</a> \n",
    "</div><br><br></center>\n",
    "<div align=\"center\"><span style=\"font-size: 26px;\"><strong>Python Com Jupyter Notebook</strong></span></div><br><br>\n",
    "<center> <img src=\"python_gif.gif\" alt=\"gif_python\" width=\"80\"> </center>"
   ]
  },
  {
   "cell_type": "markdown",
   "id": "57adf8e7",
   "metadata": {},
   "source": [
    "Este material apresenta uma explicação detalhada sobre o uso do software de programação em Python chamado Jupyter Notebook, com foco na análise de dados. Abordaremos desde estruturas básicas, como listas e dicionários, até estruturas mais complexas voltadas para a análise de dados, como pandas e seaborn, além de ferramentas destinadas à inteligência artificial.\n",
    "\n",
    "\n",
    "<font color='red'> <u>Este é um material de uso público e totalmente gratuito</u>. Contudo, eventuais edições são de responsabilidade de quem as fizer. </font>\n",
    "\n",
    "Você pode ajudar a melhorar este material!\n",
    "\n",
    "Contato e Sugestões: allansoares@ifba.edu.br.\n",
    "\n",
    "[**Equipe Executora**](https://github.com/ProfAllanIFBA/Curso_Python_Com_Jupyter_Notebook/blob/main/Capitulo000_Equipe/Capitulo000_Equipe.ipynb)"
   ]
  },
  {
   "cell_type": "markdown",
   "id": "c9fd1a6d",
   "metadata": {},
   "source": [
    "### <center> <font color='red'> Vídeo Aulas <img src=\"youtube.gif\" alt=\"jpg_python\" width=\"100\" height=\"\"> </font> </center>"
   ]
  },
  {
   "cell_type": "markdown",
   "id": "335d4b28",
   "metadata": {},
   "source": [
    "[Estruturas Condicionais if, if-else, if-elif-else em Python](https://youtu.be/k01XUyW40wA)\n",
    "\n",
    "[Estruturas Condicionais Aninhadas em Python](https://youtu.be/VxA7Z3yR3Xs)"
   ]
  },
  {
   "cell_type": "markdown",
   "id": "c0c4b8a6",
   "metadata": {},
   "source": [
    "<div style=\"border: 2px solid black; padding: 10px; width: 100%; background-color: lightgray; display: flex; align-items: center;\">\n",
    "    <h1 style=\"color: red; text-align: center; margin: auto;\">\n",
    "        Capítulo 12 - Trabalhando Com Estruturas Condicionais\n",
    "    </h1>\n",
    "</div>\n",
    "\n",
    "<font color='red'></font>\n",
    "<a href=\"\"></a>"
   ]
  },
  {
   "cell_type": "markdown",
   "id": "906103c3",
   "metadata": {},
   "source": [
    "As estruturas condicionais são elementos fundamentais da programação que permitem que um programa tome decisões com base em certas condições. Essas estruturas de controle permitem que o programa execute diferentes blocos de código com base na avaliação de uma expressão booleana (verdadeira ou falsa)."
   ]
  },
  {
   "cell_type": "markdown",
   "id": "e07ee75d",
   "metadata": {},
   "source": [
    "##\n",
    "<div style=\"margin-top: -20px;\">\n",
    "<hr style=\"border: 2px solid blue;\">\n",
    "\n",
    "<font color='blue'><span style=\"font-size: 22px;\"><strong>12.1 Estruturas Condicionais if, if-else e if-elif-else</strong></span></font>\n",
    "\n",
    "<hr style=\"border: 2px solid blue;\">\n",
    "</div>"
   ]
  },
  {
   "cell_type": "markdown",
   "id": "12e43eae",
   "metadata": {},
   "source": [
    "### Estrutura if"
   ]
  },
  {
   "cell_type": "markdown",
   "id": "b045ab8e",
   "metadata": {},
   "source": [
    "O <u>if</u> é a estrutura condicional mais básica. Seu funcionamento é simples: se a condição especificada for verdadeira, o bloco de código dentro do \"if\" é executado."
   ]
  },
  {
   "cell_type": "markdown",
   "id": "3940711e",
   "metadata": {
    "ExecuteTime": {
     "end_time": "2023-06-26T21:56:44.447282Z",
     "start_time": "2023-06-26T21:56:44.444289Z"
    }
   },
   "source": [
    "#### *Exemplo: Comparando números*"
   ]
  },
  {
   "cell_type": "code",
   "execution_count": null,
   "id": "42b55ad8",
   "metadata": {
    "ExecuteTime": {
     "end_time": "2023-09-18T13:27:27.670713Z",
     "start_time": "2023-09-18T13:27:27.666264Z"
    }
   },
   "outputs": [],
   "source": [
    "# Atribuição de valores às variáveis a, b\n",
    "a = -2\n",
    "b = 5"
   ]
  },
  {
   "cell_type": "code",
   "execution_count": null,
   "id": "5c9de12f",
   "metadata": {
    "ExecuteTime": {
     "end_time": "2023-09-18T13:27:29.782753Z",
     "start_time": "2023-09-18T13:27:29.777910Z"
    }
   },
   "outputs": [],
   "source": [
    "# Estrutura condicional\n",
    "if a < b:\n",
    "    # Impresão caso a seja menor que b\n",
    "    print(f'{a} é menor que {b}.')"
   ]
  },
  {
   "cell_type": "markdown",
   "id": "9eb67f95",
   "metadata": {},
   "source": [
    "### Estrutura if-else"
   ]
  },
  {
   "cell_type": "markdown",
   "id": "73a72554",
   "metadata": {},
   "source": [
    "A estrutura <u>if-else</u> é uma extensão do \"if\". Além de especificar um bloco de código a ser executado se a condição for verdadeira, também é possível especificar um bloco de código a ser executado se a condição for falsa."
   ]
  },
  {
   "cell_type": "markdown",
   "id": "d2b507e1",
   "metadata": {},
   "source": [
    "#### *Exemplo: Verificação de maioridade penal*"
   ]
  },
  {
   "cell_type": "code",
   "execution_count": null,
   "id": "0afad929",
   "metadata": {
    "ExecuteTime": {
     "end_time": "2023-09-18T13:29:20.998409Z",
     "start_time": "2023-09-18T13:29:20.994049Z"
    }
   },
   "outputs": [],
   "source": [
    "# Atribuição de valor à variável idade\n",
    "idade = 18\n",
    "\n",
    "if idade < 18:\n",
    "    # Impressão caso idade < 18\n",
    "    print('Menor de idade.')\n",
    "else:\n",
    "    # Impressão do contrário, isto é idade >= 18\n",
    "    print(f'Maior de idade.')\n"
   ]
  },
  {
   "cell_type": "markdown",
   "id": "11d12b61",
   "metadata": {},
   "source": [
    "### Estrutura if-elif-else"
   ]
  },
  {
   "cell_type": "markdown",
   "id": "a1bee5ff",
   "metadata": {},
   "source": [
    "A estrutura <u>if-elif-else</u> é uma forma mais complexa que permite avaliar várias condições em sequência. O programa verificará as condições na ordem em que aparecem e executará o bloco de código do primeiro \"if\" ou \"elif\" cuja condição seja verdadeira. Se nenhuma das condições <u>elif</u> for verdadeira, o bloco de código <u>else</u> é executado."
   ]
  },
  {
   "cell_type": "markdown",
   "id": "ab3e972f",
   "metadata": {},
   "source": [
    "#### *Exemplo: Obrigatoriedade de votação*"
   ]
  },
  {
   "cell_type": "code",
   "execution_count": null,
   "id": "9c1a0fc6",
   "metadata": {
    "ExecuteTime": {
     "end_time": "2023-09-18T14:11:13.768063Z",
     "start_time": "2023-09-18T14:11:13.757876Z"
    }
   },
   "outputs": [],
   "source": [
    "# Atribuição de valor à variável idade\n",
    "idade = 36\n",
    "\n",
    "if idade < 16:\n",
    "    # Impressão caso idade < 16\n",
    "    print('Voto não permitido.')\n",
    "elif (idade < 18):\n",
    "    # Impressão caso idade > 16 e idade < 18\n",
    "    print('Voto opcional.')\n",
    "elif (idade <= 70):\n",
    "    # Impressão caso idade >= 18 e idade < 70\n",
    "    print('Voto obrigatório.')\n",
    "else:\n",
    "    # Impressão caso idade > 70\n",
    "    print('Voto opcional.')"
   ]
  },
  {
   "cell_type": "markdown",
   "id": "872c8df7",
   "metadata": {},
   "source": [
    "##\n",
    "<div style=\"margin-top: -40px;\">\n",
    "<hr style=\"border: 2px solid blue;\">\n",
    "\n",
    "<font color='blue'><span style=\"font-size: 22px;\"><strong>12.2 Estruturas Condicionais Aninhadas</strong></span></font>\n",
    "\n",
    "<hr style=\"border: 2px solid blue;\">\n",
    "</div>"
   ]
  },
  {
   "cell_type": "markdown",
   "id": "8c961d47",
   "metadata": {},
   "source": [
    "As estruturas condicionais aninhadas são uma técnica na programação em que você tem uma estrutura condicional dentro de outra estrutura condicional. Isso permite que você teste múltiplas condições e execute diferentes blocos de código com base em combinações específicas de condições."
   ]
  },
  {
   "cell_type": "markdown",
   "id": "3033a798",
   "metadata": {},
   "source": [
    "#### *Exemplo 1: Situação do aluno usando condicionais e condicionais aninhados*"
   ]
  },
  {
   "cell_type": "code",
   "execution_count": null,
   "id": "af35d790",
   "metadata": {
    "ExecuteTime": {
     "end_time": "2023-09-18T14:14:13.542310Z",
     "start_time": "2023-09-18T14:14:13.537957Z"
    }
   },
   "outputs": [],
   "source": [
    "# Dados acadêmicos\n",
    "nome = 'João'\n",
    "nota = 5\n",
    "\n",
    "# Estrutura condicional\n",
    "if nota < 6:\n",
    "    # Impressão caso nota < 6\n",
    "    print(f'{nome} está reprovado por nota.')\n",
    "else:\n",
    "    # Impressão do contrário (nota >= 6)\n",
    "    print(f'{nome} está com média para aprovação.')"
   ]
  },
  {
   "cell_type": "code",
   "execution_count": null,
   "id": "ff2a7241",
   "metadata": {
    "ExecuteTime": {
     "end_time": "2023-09-18T14:15:09.406817Z",
     "start_time": "2023-09-18T14:15:09.401975Z"
    }
   },
   "outputs": [],
   "source": [
    "# Dados acadêmicos\n",
    "nome = 'João'\n",
    "falta = 1\n",
    "\n",
    "# Estrutura condicional\n",
    "if falta > 20:\n",
    "    # Impressão caso falta > 20\n",
    "    print(f'{nome} está reprovado por falta.')\n",
    "else:\n",
    "    # Impressão do contrário (falta <=20)\n",
    "    print(f'{nome} está com faltas abaixo do limite.')"
   ]
  },
  {
   "cell_type": "markdown",
   "id": "3114489b",
   "metadata": {},
   "source": [
    "Vejamos agora um código que leva em conta a nota do aluno bem como o número de faltas do mesmo."
   ]
  },
  {
   "cell_type": "code",
   "execution_count": null,
   "id": "b3baf634",
   "metadata": {
    "ExecuteTime": {
     "end_time": "2023-09-18T14:17:30.399380Z",
     "start_time": "2023-09-18T14:17:30.394567Z"
    }
   },
   "outputs": [],
   "source": [
    "# Dados acadêmicos\n",
    "nome = 'João'\n",
    "nota = 8\n",
    "falta = 10\n",
    "\n",
    "# Estrutura condicional principal\n",
    "if nota < 6:\n",
    "    # Entrada caso nota < 6\n",
    "    # Estrutura condicional secundária 1 (aninhada)\n",
    "    if falta > 20:\n",
    "        # Imrpessão caso falta > 20\n",
    "        print(f'{nome} está reprovado por nota e por falta.')\n",
    "    else:\n",
    "        # Imrpessão caso falta <= 20\n",
    "        print(f'{nome} está reprovado por nota.')\n",
    "else:\n",
    "    # Entrada caso nota >= 6\n",
    "    # Estrutura condicional secundária 2 (aninhada)\n",
    "    if falta > 20:\n",
    "        # Imrpessão caso falta > 20\n",
    "        print(f'{nome} está reprovado por falta.')\n",
    "    else:\n",
    "        # Imrpessão caso falta <= 20\n",
    "        print(f'{nome} está aprovado.')"
   ]
  },
  {
   "cell_type": "markdown",
   "id": "141af2fd",
   "metadata": {},
   "source": [
    "#### *Exemplo 2: Situação do aluno usando condicionais aninhados e operadores lógicos*"
   ]
  },
  {
   "cell_type": "markdown",
   "id": "32d2bcf2",
   "metadata": {},
   "source": [
    "Vejamos alguns exemplos anteriores usando condicionais em conjunto com operadores lógicos."
   ]
  },
  {
   "cell_type": "code",
   "execution_count": null,
   "id": "95329ddd",
   "metadata": {
    "ExecuteTime": {
     "end_time": "2023-09-18T14:19:25.239154Z",
     "start_time": "2023-09-18T14:19:25.233774Z"
    }
   },
   "outputs": [],
   "source": [
    "# Dados acadêmicos\n",
    "nota = 5\n",
    "falta = 30\n",
    "nome = 'João'\n",
    "\n",
    "# Estutura condicional usando o operador lógico \"or\"\n",
    "if (nota < 6) or (falta > 20):\n",
    "    # Impressão caso nota < 6 ou falta > 20\n",
    "    print(f'{nome} está reprovado.')\n",
    "else:\n",
    "    # Impressão caso contrário (nota > 6 e falta < 20)\n",
    "    print(f'{nome} está aprovado.')"
   ]
  },
  {
   "cell_type": "markdown",
   "id": "292cd06f",
   "metadata": {},
   "source": [
    "Podemos levar em conta também o número de faltas."
   ]
  },
  {
   "cell_type": "code",
   "execution_count": null,
   "id": "14909881",
   "metadata": {
    "ExecuteTime": {
     "end_time": "2023-06-26T22:21:48.640894Z",
     "start_time": "2023-06-26T22:21:48.633913Z"
    }
   },
   "outputs": [],
   "source": [
    "# Dados acadêmicos\n",
    "nota = 5\n",
    "falta = 30\n",
    "nome = 'João'\n",
    "\n",
    "# Estrutura condicional principal com operador lógico \"or\" (ou)\n",
    "if (nota < 6) or (falta > 20):\n",
    "    # Estruturda condicional secundária com operador \"and\" (e)\n",
    "    if (nota > 6) and (falta > 20):\n",
    "        print(f'{nome} está reprovado por falta.')\n",
    "    elif (nota < 6) and (falta < 20):\n",
    "        print(f'{nome} está reprovado por nota.')\n",
    "    else:\n",
    "        print(f'{nome} está reprovado por nota e por falta.')\n",
    "else:\n",
    "    print(f'{nome} está aprovado.')"
   ]
  },
  {
   "cell_type": "markdown",
   "id": "189650c9",
   "metadata": {},
   "source": [
    "## <div style=\"margin-top: -20px;\">\n",
    "<hr style=\"border: 2px solid blue;\">\n",
    "\n",
    "<font color='blue'><span style=\"font-size: 22px;\"><strong>Exercícios</strong></span></font>\n",
    "\n",
    "<hr style=\"border: 2px solid blue;\">\n",
    "</div>"
   ]
  },
  {
   "cell_type": "markdown",
   "id": "fa57fa84",
   "metadata": {},
   "source": [
    "#### Exercício 1"
   ]
  },
  {
   "cell_type": "markdown",
   "id": "ccc8ffb2",
   "metadata": {},
   "source": [
    "Construa um código para comparar variáveis $x$ e $y$ diferentes quanto à ordem (maior que ou menor que). Teste nos pares i) $x = 2$ e $y = 4$; ii) $x = 6$ e $y = -1$."
   ]
  },
  {
   "cell_type": "code",
   "execution_count": null,
   "id": "8c5ac16b",
   "metadata": {},
   "outputs": [],
   "source": [
    "# Sua resposta\n"
   ]
  },
  {
   "cell_type": "markdown",
   "id": "cefb91d5",
   "metadata": {},
   "source": [
    "#### Exercício 2"
   ]
  },
  {
   "cell_type": "markdown",
   "id": "d18718b6",
   "metadata": {},
   "source": [
    "Construa um código apresentando a classificação indicativa de idade (variável) para programas de TV:\n",
    "\n",
    "***As classificações \"Livre\" e \"10 anos\" são recomendadas para serem exibidas em qualquer horário; de \"12 anos\" a partir das 20 horas; de \"14 anos\" após 21h; de \"16 anos\" a partir das 22h e \"18 anos\" depois de 23h.***\n",
    "\n",
    "**Fonte**: [Ministério da Justiça e Segurança Pública](https://www.gov.br/mj/pt-br/assuntos/noticias/guia-explica-a-classificacao-do-audiovisual-por-idade#:~:text=As%20classifica%C3%A7%C3%B5es%20%22Livre%22%20e%20%22,18%20anos%22%20depois%20de%2023h.)\n",
    "\n"
   ]
  },
  {
   "cell_type": "code",
   "execution_count": null,
   "id": "f4bc0c64",
   "metadata": {},
   "outputs": [],
   "source": [
    "# Sua resposta\n"
   ]
  },
  {
   "cell_type": "markdown",
   "id": "1cca7d95",
   "metadata": {},
   "source": [
    "#### Exercício 3"
   ]
  },
  {
   "cell_type": "markdown",
   "id": "8392c111",
   "metadata": {},
   "source": [
    "Construa um código para verificar se em uma palavra há duas ou mais letras de certo tipo:\n",
    "\n",
    "a) considerando as caixas alta e baixa.\n",
    "\n",
    "b) desconsiderando as caixas alta e baixa.\n",
    "\n",
    "Em todo caso, a resposta deve ser acompanhada das frases *\"Foram encontradas duas ou mais letras x na plavra y\"* ou *\"Não foram encontradas duas ou mais letras x na plavra y\"*.\n",
    "\n",
    "Teste com \"Araraquara\" e a letra \"a\" e \"Casaco\" e a letra \"c\". "
   ]
  },
  {
   "cell_type": "code",
   "execution_count": null,
   "id": "bc40f417",
   "metadata": {},
   "outputs": [],
   "source": [
    "# Sua resposta\n",
    "# a)\n",
    "\n"
   ]
  },
  {
   "cell_type": "code",
   "execution_count": null,
   "id": "785ac8c8",
   "metadata": {},
   "outputs": [],
   "source": [
    "# Sua resposta\n",
    "# b)\n",
    "\n"
   ]
  },
  {
   "cell_type": "markdown",
   "id": "8669d8ce",
   "metadata": {},
   "source": [
    "#### Exercício 4"
   ]
  },
  {
   "cell_type": "markdown",
   "id": "3c730345",
   "metadata": {},
   "source": [
    "Você está ajudando na organização de um evento escolar e precisa categorizar os estudantes com base em suas notas e envolvimento em atividades extracurriculares. As categogiras são \"Excepcional\" (mais alta), \"Excelente\", \"Bom\", \"Médio\" e \"Insatisfatório\".\n",
    "\n",
    "Você deve elaborar um código no qual o organizador deve inserir o nome do aluno para consultar sua categoria.\n",
    "\n",
    "A classificação segundo as notas é dada por:\n",
    "\n",
    "nota $\\geq 9.0$: **Excelente** <br>\n",
    "$8.0 \\leq nota < 9.0$: **Bom** <br>\n",
    "$7.0 \\leq nota < 8.0$: **Médio** <br>\n",
    "$5.0 \\leq nota < 7.0$: **Insatisfatório** <br>\n",
    "$nota \\leq 5.0$: **Sem rendimento** (independente de atividades extracurriculares)\n",
    "\n",
    "Adicionalmente, um aluno que tenha feito atividades extracurriculares terá o nível aumentado. A seguir estão as listas de alunos da turma e suas notas.\n",
    "\n",
    "estudantes_turma = [\"Ana\", \"Bruno\", \"Carlos\", \"Daniela\", \"Eduardo\", \"Fernanda\"]<br>\n",
    "notas = [95, 88, 65, 55, 45, 60]<br>\n",
    "atividades_extracurriculares = [\"Daniela\", \"Eduardo\", \"Fernanda\"]<br>\n",
    "\n"
   ]
  },
  {
   "cell_type": "code",
   "execution_count": null,
   "id": "a7694fed",
   "metadata": {},
   "outputs": [],
   "source": [
    "# Sua resposta\n",
    "\n"
   ]
  },
  {
   "cell_type": "markdown",
   "id": "c1037340",
   "metadata": {},
   "source": [
    "### <div style=\"margin-top: -20px;\">\n",
    "<hr style=\"border: 2px solid blue;\">\n",
    "\n",
    "<font color='blue'><span style=\"font-size: 18px;\"><strong>Soluções dos Exercícios</strong></span></font>\n",
    "\n",
    "<hr style=\"border: 2px solid blue;\">\n",
    "</div>"
   ]
  },
  {
   "cell_type": "markdown",
   "id": "efb6c3f7",
   "metadata": {},
   "source": [
    "#### Solução do Exercício 1"
   ]
  },
  {
   "cell_type": "code",
   "execution_count": null,
   "id": "6a41408f",
   "metadata": {},
   "outputs": [],
   "source": [
    "# Entradas\n",
    "x, y = 2,4 # Troque 2,4 por 6,-1\n",
    "\n",
    "# Condicional de comparação\n",
    "if x < y:\n",
    "    print(f'{x} é menor que {y}.')\n",
    "else:\n",
    "    print(f'{y} é menor que {x}.')"
   ]
  },
  {
   "cell_type": "markdown",
   "id": "a9768b70",
   "metadata": {},
   "source": [
    "#### Solução do Exercício 2"
   ]
  },
  {
   "cell_type": "code",
   "execution_count": null,
   "id": "eab23132",
   "metadata": {},
   "outputs": [],
   "source": [
    "# Variável\n",
    "idade = 13\n",
    "\n",
    "# Classificação segundo a idade\n",
    "\n",
    "if idade <= 10:  # Livre e 10 anos\n",
    "    print('Sem restrição de horário de exibição.')\n",
    "elif idade <= 12:  # 12 anos\n",
    "    print('Entre 20:00 e 20:59.')\n",
    "elif idade <= 14:  # 14 anos\n",
    "    print('Entre 21:00 e 21:59.')\n",
    "elif idade <= 16:  # 16 anos\n",
    "    print('Entre 22:00 e 22:59.')\n",
    "else:  # 18 anos\n",
    "    print('Após as 23:00.')"
   ]
  },
  {
   "cell_type": "markdown",
   "id": "a1da9820",
   "metadata": {},
   "source": [
    "#### Solução do Exercício 3"
   ]
  },
  {
   "cell_type": "code",
   "execution_count": null,
   "id": "a1b562c3",
   "metadata": {},
   "outputs": [],
   "source": [
    "# a)\n",
    "\n",
    "# Entradas\n",
    "palavra = 'Araraquara'\n",
    "letra = 'a'\n",
    "\n",
    "# Condicional\n",
    "if palavra.count(letra) >= 2:\n",
    "    print(f'Foram encontradas duas ou mais letras {letra} na plavra {palavra}.')\n",
    "else:\n",
    "    print(f'Não foram encontradas duas ou mais letras {letra} na plavra {palavra}.')"
   ]
  },
  {
   "cell_type": "code",
   "execution_count": null,
   "id": "87b9a347",
   "metadata": {},
   "outputs": [],
   "source": [
    "# b)\n",
    "\n",
    "# Entradas\n",
    "palavra = 'Araraquara'\n",
    "letra = 'a'\n",
    "\n",
    "# Formatações em caixa baixa\n",
    "palavra_minuscula = palavra.lower()\n",
    "letra_minuscula = letra.lower()\n",
    "\n",
    "if palavra_minuscula.count(letra_minuscula) >= 2:\n",
    "    print(f'Foram encontradas duas ou mais letras {letra} na plavra {palavra}.')\n",
    "else:\n",
    "    print(f'Não foram encontradas duas ou mais letras {letra} na plavra {palavra}.')"
   ]
  },
  {
   "cell_type": "markdown",
   "id": "0abad1aa",
   "metadata": {},
   "source": [
    "#### Solução do Exercício 4"
   ]
  },
  {
   "cell_type": "code",
   "execution_count": 1,
   "id": "b4f02aca",
   "metadata": {},
   "outputs": [
    {
     "name": "stdout",
     "output_type": "stream",
     "text": [
      "Digite o nome do aluno: Luiz\n",
      "Luiz não faz parte da turma.\n"
     ]
    }
   ],
   "source": [
    "# Dados da turma\n",
    "\n",
    "estudantes_turma = [\"Ana\", \"Bruno\", \"Carlos\", \"Daniela\", \"Eduardo\", \"Fernanda\"]\n",
    "notas = [9.5, 9.1, 6.5, 5.5, 4.5, 6.0]\n",
    "atividades_extracurriculares = [\"Bruno\", \"Daniela\", \"Eduardo\"]\n",
    "\n",
    "estudante = input('Digite o nome do aluno: ')\n",
    "\n",
    "if estudante in estudantes_turma:\n",
    "    index = estudantes_turma.index(estudante)\n",
    "    if notas[index] >= 9.0:\n",
    "            if estudante in atividades_extracurriculares:\n",
    "                print(f'{estudante} tem um nível excepcional.')\n",
    "            else:\n",
    "                print(f'{estudante} tem um nível excelente.')\n",
    "    elif notas[index] >=8.0:\n",
    "            if estudante in atividades_extracurriculares:\n",
    "                print(f'{estudante} tem um nível excelente.')\n",
    "            else:\n",
    "                print(f'{estudante} tem um nível bom.')\n",
    "    elif notas[index] >=7.0:\n",
    "            if estudante in atividades_extracurriculares:\n",
    "                print(f'{estudante} tem um nível bom.')\n",
    "            else:\n",
    "                print(f'{estudante} tem um nível médio.')\n",
    "    elif notas[index] >=5.0:\n",
    "            if estudante in atividades_extracurriculares:\n",
    "                print(f'{estudante} tem um nível médio.')\n",
    "            else:\n",
    "                print(f'{estudante} tem um nível insatisfatório.')\n",
    "        \n",
    "    else:\n",
    "            print(f'{estudante} não apresentou rendimento.')\n",
    "else:\n",
    "    print(f'{estudante} não faz parte da turma.')"
   ]
  }
 ],
 "metadata": {
  "kernelspec": {
   "display_name": "Python 3 (ipykernel)",
   "language": "python",
   "name": "python3"
  },
  "language_info": {
   "codemirror_mode": {
    "name": "ipython",
    "version": 3
   },
   "file_extension": ".py",
   "mimetype": "text/x-python",
   "name": "python",
   "nbconvert_exporter": "python",
   "pygments_lexer": "ipython3",
   "version": "3.11.5"
  },
  "varInspector": {
   "cols": {
    "lenName": 16,
    "lenType": 16,
    "lenVar": 40
   },
   "kernels_config": {
    "python": {
     "delete_cmd_postfix": "",
     "delete_cmd_prefix": "del ",
     "library": "var_list.py",
     "varRefreshCmd": "print(var_dic_list())"
    },
    "r": {
     "delete_cmd_postfix": ") ",
     "delete_cmd_prefix": "rm(",
     "library": "var_list.r",
     "varRefreshCmd": "cat(var_dic_list()) "
    }
   },
   "types_to_exclude": [
    "module",
    "function",
    "builtin_function_or_method",
    "instance",
    "_Feature"
   ],
   "window_display": false
  }
 },
 "nbformat": 4,
 "nbformat_minor": 5
}
