{
 "cells": [
  {
   "cell_type": "markdown",
   "id": "b42396bc",
   "metadata": {},
   "source": [
    "<center> <img src=\"logo_ifba.jpg\" alt=\"jpg_python\" width=\"100\" height=\"\"> </center>\n",
    "<br><br>\n",
    "<center> <img src=\"logo_coext.jpg\" alt=\"jpg_python\" width=\"200\" height=\"\"> </center>\n",
    "<br><br>\n",
    "<center><div style=\"text-align:center\">    <a href=\"https://colab.research.google.com/github/ProfAllanIFBA/Curso_Python_Com_Jupyter_Notebook/blob/main/Capitulo013_Trabalhando_Com_o_Loop_For/Capitulo013_Trabalhando_Com_o_Loop_For.ipynb\">Link Colab</a> \n",
    "</div><br><br></center>\n",
    "<div align=\"center\"><span style=\"font-size: 26px;\"><strong>Python Com Jupyter Notebook</strong></span></div><br><br>\n",
    "<center> <img src=\"python_gif.gif\" alt=\"gif_python\" width=\"80\"> </center>"
   ]
  },
  {
   "cell_type": "markdown",
   "id": "583a571e",
   "metadata": {},
   "source": [
    "Este material apresenta uma explicação detalhada sobre o uso do software de programação em Python chamado Jupyter Notebook, com foco na análise de dados. Abordaremos desde estruturas básicas, como listas e dicionários, até estruturas mais complexas voltadas para a análise de dados, como pandas e seaborn, além de ferramentas destinadas à inteligência artificial.\n",
    "\n",
    "\n",
    "<font color='red'> <u>Este é um material de uso público e totalmente gratuito</u>. Contudo, eventuais edições são de responsabilidade de quem as fizer. </font>\n",
    "\n",
    "Você pode ajudar a melhorar este material!\n",
    "\n",
    "Contato e Sugestões: allansoares@ifba.edu.br.\n",
    "\n",
    "[**Equipe Executora**](https://github.com/Allanifba/Curso_Python_Com_Jupyter_Notebook/blob/main/Capitulo000_Equipe/Capitulo000_Equipe.ipynb)"
   ]
  },
  {
   "cell_type": "markdown",
   "id": "0701cce6",
   "metadata": {},
   "source": [
    "### <center> <font color='red'> Vídeo Aulas <img src=\"youtube.gif\" alt=\"jpg_python\" width=\"100\" height=\"\"> </font> </center>"
   ]
  },
  {
   "cell_type": "markdown",
   "id": "a7bce8bb",
   "metadata": {},
   "source": [
    "[Loop For em Python](https://youtu.be/CpERnN751dI)\n",
    "\n",
    "[A Função range em Python](https://youtu.be/DVUahjirMUA)\n",
    "\n",
    "[Loop for Aninhados em Python](https://youtu.be/-spJAmTlr3c)\n",
    "\n",
    "[Loop for e Condicionais em Python](https://youtu.be/dQGtiBM8WOI)"
   ]
  },
  {
   "cell_type": "markdown",
   "id": "c0c4b8a6",
   "metadata": {},
   "source": [
    "<div style=\"border: 2px solid black; padding: 10px; width: 100%; background-color: lightgray; display: flex; align-items: center;\">\n",
    "    <h1 style=\"color: red; text-align: center; margin: auto;\">\n",
    "        Capítulo 13 - Trabalhando Com o Loop For\n",
    "    </h1>\n",
    "</div>\n",
    "\n",
    "<font color='red'></font>\n",
    "<a href=\"\"></a>\n"
   ]
  },
  {
   "cell_type": "markdown",
   "id": "906103c3",
   "metadata": {},
   "source": [
    "Os loops <u>for</u> são elementos fundamentais da programação que permitem que um programa itere sobre uma sequência de elementos. Essas estruturas de controle permitem que o programa execute repetidamente um bloco de código para cada elemento da sequência, facilitando o processamento e a manipulação dos dados.\n",
    "\n",
    "Em Python, o loop for é comumente usado para percorrer listas, strings, tuplas, dicionários e outras estruturas de dados. Cada iteração do loop executa o bloco de código associado ao elemento atual da sequência."
   ]
  },
  {
   "cell_type": "markdown",
   "id": "6131fb43",
   "metadata": {},
   "source": [
    "##\n",
    "<div style=\"margin-top: -20px;\">\n",
    "<hr style=\"border: 2px solid blue;\">\n",
    "\n",
    "<font color='blue'><span style=\"font-size: 22px;\"><strong>13.1 Loop For</strong></span></font>\n",
    "\n",
    "<hr style=\"border: 2px solid blue;\">\n",
    "</div>"
   ]
  },
  {
   "cell_type": "markdown",
   "id": "7e04f9ca",
   "metadata": {},
   "source": [
    "#### *Exemplo 1: Imprimindo elementos de uma lista*"
   ]
  },
  {
   "cell_type": "code",
   "execution_count": null,
   "id": "77d0d64b",
   "metadata": {
    "ExecuteTime": {
     "end_time": "2023-09-18T15:21:46.584376Z",
     "start_time": "2023-09-18T15:21:46.572566Z"
    }
   },
   "outputs": [],
   "source": [
    "# Imprimindo itens de uma lista\n",
    "lista = ['Allan','Osmar','Lucas']\n",
    "\n",
    "# Percorrendo a lista\n",
    "for x in lista:\n",
    "    # Imprimindo valores da lista\n",
    "    print(x)"
   ]
  },
  {
   "cell_type": "code",
   "execution_count": null,
   "id": "03625809",
   "metadata": {
    "ExecuteTime": {
     "end_time": "2023-09-18T15:21:56.815332Z",
     "start_time": "2023-09-18T15:21:56.811161Z"
    }
   },
   "outputs": [],
   "source": [
    "print(x)"
   ]
  },
  {
   "cell_type": "markdown",
   "id": "3cfacc38",
   "metadata": {},
   "source": [
    "#### *Exemplo 2: Imprimindo elementos de uma tupla*"
   ]
  },
  {
   "cell_type": "code",
   "execution_count": null,
   "id": "6946a886",
   "metadata": {
    "ExecuteTime": {
     "end_time": "2023-09-18T15:22:38.577066Z",
     "start_time": "2023-09-18T15:22:38.572161Z"
    }
   },
   "outputs": [],
   "source": [
    "# Imprimindo itens de uma tupla\n",
    "tupla = (1,-1,3,5,10)\n",
    "\n",
    "# Percorrendo a tupla\n",
    "for x in tupla:\n",
    "    # Imprimindo valores da tupla#### *Exemplo 1: Imprimindo elementos de uma lista*\n",
    "    print(x)"
   ]
  },
  {
   "cell_type": "markdown",
   "id": "c388e9a9",
   "metadata": {},
   "source": [
    "#### *Exemplo 3: Imprimindo chave/valor, chaves e valores de um dicionário*"
   ]
  },
  {
   "cell_type": "code",
   "execution_count": null,
   "id": "42a1a1cb",
   "metadata": {
    "ExecuteTime": {
     "end_time": "2023-09-18T15:24:11.183521Z",
     "start_time": "2023-09-18T15:24:11.179632Z"
    }
   },
   "outputs": [],
   "source": [
    "# Imprimindo itens de um dicionário (chave + valor)\n",
    "dicionario = {'Allan': 9.0, 'Osmar': 9.2, 'Lucas': 9.0}\n",
    "\n",
    "# Percorrendo chaves/valores de um dicionário \n",
    "for nome, nota in dicionario.items():\n",
    "    # Imprimindo chaves e valores\n",
    "    print(f\"Nome: {nome}, Nota: {nota}\")"
   ]
  },
  {
   "cell_type": "code",
   "execution_count": null,
   "id": "2610c727",
   "metadata": {
    "ExecuteTime": {
     "end_time": "2023-09-18T15:24:38.031446Z",
     "start_time": "2023-09-18T15:24:38.027108Z"
    }
   },
   "outputs": [],
   "source": [
    "# Percorrendo chaves/valores de um dicionário \n",
    "for nome, nota in dicionario.items():\n",
    "    # Imprimindo as chaves\n",
    "    print(f\"Nome: {nome}.\")"
   ]
  },
  {
   "cell_type": "code",
   "execution_count": null,
   "id": "a1013a14",
   "metadata": {
    "ExecuteTime": {
     "end_time": "2023-09-18T15:24:55.922533Z",
     "start_time": "2023-09-18T15:24:55.918545Z"
    }
   },
   "outputs": [],
   "source": [
    "# Imprimindo as chaves de um dicionário\n",
    "for nome, nota in dicionario.items():\n",
    "    # Imprimindo os valores\n",
    "    print(f'Nota: {nota}')"
   ]
  },
  {
   "cell_type": "markdown",
   "id": "de0d0979",
   "metadata": {},
   "source": [
    "#### *Exemplo 4: Imprimindo caracteres de uma string*"
   ]
  },
  {
   "cell_type": "code",
   "execution_count": null,
   "id": "fd6c4334",
   "metadata": {
    "ExecuteTime": {
     "end_time": "2023-09-18T15:25:54.737080Z",
     "start_time": "2023-09-18T15:25:54.733353Z"
    }
   },
   "outputs": [],
   "source": [
    "# String\n",
    "nome = 'Allan'\n",
    "\n",
    "# Percorrendo os caracteres da string\n",
    "for x in nome:\n",
    "    # Imprimindo os caracteres da string\n",
    "    print(x)"
   ]
  },
  {
   "cell_type": "markdown",
   "id": "d68aee4a",
   "metadata": {},
   "source": [
    "#### *Exemplo 5: Imprimindo elementos de um conjunto*"
   ]
  },
  {
   "cell_type": "code",
   "execution_count": null,
   "id": "2eca1ba4",
   "metadata": {
    "ExecuteTime": {
     "end_time": "2023-09-19T14:27:00.837040Z",
     "start_time": "2023-09-19T14:27:00.827482Z"
    }
   },
   "outputs": [],
   "source": [
    "# Conjunto\n",
    "A = {1,2,3}\n",
    "\n",
    "# Percorrendo os elementos do conjunto\n",
    "for x in A:\n",
    "    # Imprimindo os elementos do conjunto\n",
    "    print(x)"
   ]
  },
  {
   "cell_type": "markdown",
   "id": "4a5d766a",
   "metadata": {},
   "source": [
    "##\n",
    "<div style=\"margin-top: -20px;\">\n",
    "<hr style=\"border: 2px solid blue;\">\n",
    "\n",
    "<font color='blue'><span style=\"font-size: 22px;\"><strong>13.2 A Função range()</strong></span></font>\n",
    "\n",
    "<hr style=\"border: 2px solid blue;\">\n",
    "</div>"
   ]
  },
  {
   "cell_type": "markdown",
   "id": "68d3edd8",
   "metadata": {},
   "source": [
    "A função <u>range()</u> é uma função nativa do Python que gera uma sequência de números, que é comumente usada para iterar sobre loops. Esta função é extremamente útil quando você quer realizar uma ação um certo número de vezes, ou quando precisa iterar sobre uma sequência de números. Vejamos três variações interessantes da função range()."
   ]
  },
  {
   "cell_type": "markdown",
   "id": "27ff9c4e",
   "metadata": {},
   "source": [
    "### range(n)"
   ]
  },
  {
   "cell_type": "markdown",
   "id": "f56cb552",
   "metadata": {},
   "source": [
    "Quando um único argumento é passado para a função range(), ela produz uma sequência de números de $0$ a $n-1$. "
   ]
  },
  {
   "cell_type": "markdown",
   "id": "ce687c22",
   "metadata": {},
   "source": [
    "#### *Exemplo 1: Imprimindo valores inteiros*"
   ]
  },
  {
   "cell_type": "code",
   "execution_count": null,
   "id": "1887037d",
   "metadata": {
    "ExecuteTime": {
     "end_time": "2023-09-19T14:29:47.359392Z",
     "start_time": "2023-09-19T14:29:47.355588Z"
    }
   },
   "outputs": [],
   "source": [
    "# Percorrendo um conjunto de valores gerados\n",
    "for a in range(11):\n",
    "    # Imprimindo os valores visitados\n",
    "    print(a)"
   ]
  },
  {
   "cell_type": "markdown",
   "id": "009ab279",
   "metadata": {},
   "source": [
    "### range(m, n)"
   ]
  },
  {
   "cell_type": "markdown",
   "id": "fa06396b",
   "metadata": {},
   "source": [
    "Quando dois argumentos são passados, a função range() produz uma sequência de números de $m$ até $n-1$."
   ]
  },
  {
   "cell_type": "markdown",
   "id": "f60b2981",
   "metadata": {
    "ExecuteTime": {
     "end_time": "2023-06-27T10:50:42.083537Z",
     "start_time": "2023-06-27T10:50:42.079549Z"
    }
   },
   "source": [
    "#### *Exemplo 1: Imprimindo valores inteiros em um intervalo*"
   ]
  },
  {
   "cell_type": "code",
   "execution_count": null,
   "id": "c1b4d316",
   "metadata": {
    "ExecuteTime": {
     "end_time": "2023-09-19T14:31:47.135473Z",
     "start_time": "2023-09-19T14:31:47.131839Z"
    }
   },
   "outputs": [],
   "source": [
    "# imprimindo valores inteiros de 4 a 15\n",
    "for i in range(4,16):\n",
    "    print(i)"
   ]
  },
  {
   "cell_type": "markdown",
   "id": "792d1c15",
   "metadata": {},
   "source": [
    "#### *Exemplo 2: Gerando um lista de inteiros*"
   ]
  },
  {
   "cell_type": "code",
   "execution_count": null,
   "id": "fd9c8df2",
   "metadata": {
    "ExecuteTime": {
     "end_time": "2023-09-19T14:32:28.096091Z",
     "start_time": "2023-09-19T14:32:28.092377Z"
    }
   },
   "outputs": [],
   "source": [
    "# Gerando um objeto com valores inteiros variando de 4 a 15 e armazenando na variável \"a\"\n",
    "a = range(4,16)\n",
    "\n",
    "# Convertendo a variável \"a\" numa lista\n",
    "lista = list(a)\n",
    "\n",
    "# Imprimindo a lista obtida\n",
    "print(lista)"
   ]
  },
  {
   "cell_type": "code",
   "execution_count": null,
   "id": "c2b96479",
   "metadata": {
    "ExecuteTime": {
     "end_time": "2023-09-19T14:32:52.031961Z",
     "start_time": "2023-09-19T14:32:52.028896Z"
    }
   },
   "outputs": [],
   "source": [
    "# Imprimindo o objeto gerado\n",
    "print(a)"
   ]
  },
  {
   "cell_type": "code",
   "execution_count": null,
   "id": "3978af5f",
   "metadata": {
    "ExecuteTime": {
     "end_time": "2023-09-19T14:33:22.654899Z",
     "start_time": "2023-09-19T14:33:22.650667Z"
    }
   },
   "outputs": [],
   "source": [
    "print(range(4,16))"
   ]
  },
  {
   "cell_type": "markdown",
   "id": "7cb705a2",
   "metadata": {},
   "source": [
    "#### *Exemplo 3: Gerando uma lista de números pares compreendidos entre dois valores inteiros*"
   ]
  },
  {
   "cell_type": "code",
   "execution_count": null,
   "id": "ce8ca61c",
   "metadata": {
    "ExecuteTime": {
     "end_time": "2023-09-19T14:34:53.898367Z",
     "start_time": "2023-09-19T14:34:53.893923Z"
    }
   },
   "outputs": [],
   "source": [
    "# Lista vazia\n",
    "lista = []\n",
    "\n",
    "# Percorrendo um objeto com valores inteiros variando de 4 a 15\n",
    "for i in range(4,16):\n",
    "    \n",
    "    # Condicional considerado caso o resto da divisão por 2 dos valores percorridos seja 0\n",
    "    if i%2 == 0:\n",
    "        \n",
    "        # A lista criada aprende o valor percorrido i\n",
    "        lista.append(i)\n",
    "        \n",
    "# Imprime a lista com todos os valores pares visitados\n",
    "print(lista)"
   ]
  },
  {
   "cell_type": "markdown",
   "id": "ce64fb2e",
   "metadata": {},
   "source": [
    "### range(m, n, p)"
   ]
  },
  {
   "cell_type": "markdown",
   "id": "8561f35b",
   "metadata": {},
   "source": [
    "Quando três argumentos são passados, a função range() começa em $m$, termina antes de $n$, e incrementa a sequência por $p$."
   ]
  },
  {
   "cell_type": "markdown",
   "id": "9ab6fcfc",
   "metadata": {},
   "source": [
    "#### *Exemplo: Gerando uma lista de números pares compreendidos entre dois valores inteiros*"
   ]
  },
  {
   "cell_type": "code",
   "execution_count": null,
   "id": "8e6ad6dd",
   "metadata": {
    "ExecuteTime": {
     "end_time": "2023-09-19T15:26:08.671203Z",
     "start_time": "2023-09-19T15:26:08.660783Z"
    }
   },
   "outputs": [],
   "source": [
    "# Lista Vazia\n",
    "lista = []\n",
    "\n",
    "# Percorrendo um objeto com valores inteiros variando de 4 a 15 com incremento de duas unidades\n",
    "for i in range(4,16,2):\n",
    "    \n",
    "    # A lista criada aprende os valores visitados\n",
    "    lista.append(i)\n",
    "    \n",
    "# Imprimindo a lista com todos os pares entre 4 e 15\n",
    "print(lista)"
   ]
  },
  {
   "cell_type": "markdown",
   "id": "e754a3ed",
   "metadata": {},
   "source": [
    "##\n",
    "<div style=\"margin-top: -20px;\">\n",
    "<hr style=\"border: 2px solid blue;\">\n",
    "\n",
    "<font color='blue'><span style=\"font-size: 22px;\"><strong>13.3 Loops for Aninhados </strong></span></font>\n",
    "\n",
    "<hr style=\"border: 2px solid blue;\">\n",
    "</div>"
   ]
  },
  {
   "cell_type": "markdown",
   "id": "7ad1d92d",
   "metadata": {},
   "source": [
    "Os loops aninhados são uma técnica comum na programação, onde um loop é colocado dentro de outro loop. Isso cria uma série de iterações sobre múltiplos níveis, permitindo que você explore dados mais complexos, tais como listas de listas."
   ]
  },
  {
   "cell_type": "markdown",
   "id": "09fe7a4d",
   "metadata": {},
   "source": [
    "#### *Exemplo 1: Criando tuplas a partir de duas listas*"
   ]
  },
  {
   "cell_type": "code",
   "execution_count": null,
   "id": "59bc25e9",
   "metadata": {
    "ExecuteTime": {
     "end_time": "2023-09-20T13:52:01.157259Z",
     "start_time": "2023-09-20T13:52:01.146833Z"
    }
   },
   "outputs": [],
   "source": [
    "# A variável lista1 recebe uma lista de valores\n",
    "lista1 = [-5, 3, 8]\n",
    "\n",
    "# A variável lista2 recebe uma lista de valores\n",
    "lista2 = [2, 4, 5]\n",
    "\n",
    "# Loop externo que percorre cada valor de x em lista1\n",
    "for x in lista1:\n",
    "    #\n",
    "    # Loop interno que percorre cada valor de y em lista2\n",
    "    for y in lista2:\n",
    "        \n",
    "        # Imprime as tuplas (x,y)\n",
    "        print((x, y))"
   ]
  },
  {
   "cell_type": "code",
   "execution_count": null,
   "id": "4f4df4f7",
   "metadata": {
    "ExecuteTime": {
     "end_time": "2023-09-19T16:11:55.737354Z",
     "start_time": "2023-09-19T16:11:55.733683Z"
    }
   },
   "outputs": [],
   "source": [
    "# x = -5 -> (-5,2), (-5,4), (-5,5)\n",
    "# x = 3  -> (3,2), (3,4), (3,5)\n",
    "# x = 8  -> (8,2), (8,4), (8,5)"
   ]
  },
  {
   "cell_type": "markdown",
   "id": "6e61f1ee",
   "metadata": {},
   "source": [
    "#### *Exemplo 2: Imprimindo todos elementos e uma lista de listas*"
   ]
  },
  {
   "cell_type": "code",
   "execution_count": null,
   "id": "e293e589",
   "metadata": {
    "ExecuteTime": {
     "end_time": "2023-09-20T13:52:03.223720Z",
     "start_time": "2023-09-20T13:52:03.218780Z"
    }
   },
   "outputs": [],
   "source": [
    "# Primeiro, definimos uma lista de listas, que é uma lista onde cada item é outra lista\n",
    "lista_de_listas = [[1, 2, 3], [4, 5, 6], [7, 8, 9]]\n",
    "\n",
    "# O primeiro loop for está percorrendo cada \"sublista\" na lista de listas\n",
    "for lista_interna in lista_de_listas:\n",
    "    # O segundo loop for está percorrendo cada item dentro da sublista atual\n",
    "    for item in lista_interna:\n",
    "        # Aqui, nós estamos imprimindo cada item individual\n",
    "        print(item)"
   ]
  },
  {
   "cell_type": "markdown",
   "id": "a795aa4b",
   "metadata": {},
   "source": [
    "#### *Exemplo 3: Imprimindo a soma de todos elementos de uma lista de listas*"
   ]
  },
  {
   "cell_type": "code",
   "execution_count": null,
   "id": "d29f6801",
   "metadata": {
    "ExecuteTime": {
     "end_time": "2023-09-20T13:52:05.479783Z",
     "start_time": "2023-09-20T13:52:05.474823Z"
    }
   },
   "outputs": [],
   "source": [
    "# Lista de listas\n",
    "lista_de_listas = [[1, 2, 3], [4, 5, 6], [7, 8, 9]]\n",
    "\n",
    "# Variável que armazenará a soma dos elementos\n",
    "soma = 0\n",
    "\n",
    "# Novamente, o primeiro loop for está percorrendo cada sublista na lista de listas\n",
    "for lista_interna in lista_de_listas:\n",
    "    \n",
    "    # O segundo loop for está percorrendo cada item dentro da sublista atual\n",
    "    for item in lista_interna:\n",
    "        \n",
    "        # Aqui, nós estamos adicionando o valor do item atual à soma\n",
    "        soma = soma + item\n",
    "\n",
    "# Após todos os loops terem terminado, nós imprimimos a soma total\n",
    "print(\"A soma de todos os números é:\", soma)\n"
   ]
  },
  {
   "cell_type": "markdown",
   "id": "89f414b5",
   "metadata": {},
   "source": [
    "##\n",
    "<div style=\"margin-top: -20px;\">\n",
    "<hr style=\"border: 2px solid blue;\">\n",
    "\n",
    "<font color='blue'><span style=\"font-size: 22px;\"><strong>13.4 Combinando Loops For e Condicionais</strong></span></font>\n",
    "\n",
    "<hr style=\"border: 2px solid blue;\">\n",
    "</div>"
   ]
  },
  {
   "cell_type": "markdown",
   "id": "33539446",
   "metadata": {},
   "source": [
    "#### *Exemplo 1: Criando tuplas a partir de duas listas com uma condicionante*"
   ]
  },
  {
   "cell_type": "markdown",
   "id": "ae603bcd",
   "metadata": {},
   "source": [
    "O programa a seguir usa condicionais restringir a impressão de somente tuplas $(x,y)$ nas quais a condição $x > y$ é satisfeita considerando **Exemplo 1** da **Seção 13.3**. "
   ]
  },
  {
   "cell_type": "code",
   "execution_count": null,
   "id": "f92ccac3",
   "metadata": {
    "ExecuteTime": {
     "end_time": "2023-09-20T14:04:57.047965Z",
     "start_time": "2023-09-20T14:04:57.043004Z"
    }
   },
   "outputs": [],
   "source": [
    "# A variável lista1 recebe uma lista de valores\n",
    "lista1 = [-5, 3, 8]\n",
    "\n",
    "# A variável lista2 recebe uma lista de valores\n",
    "lista2 = [2, 4, 5]\n",
    "\n",
    "# Loop externo que percorre cada valor de x em lista1\n",
    "for x in lista1:\n",
    "    #\n",
    "    # Loop interno que percorre cada valor de y em lista2\n",
    "    for y in lista2:\n",
    "        \n",
    "        # Condicional que verifica se x é maior que y\n",
    "        if x > y:\n",
    "            \n",
    "            # Imprime as tuplas (x,y)\n",
    "            print((x, y))"
   ]
  },
  {
   "cell_type": "markdown",
   "id": "c8bd6dcf",
   "metadata": {},
   "source": [
    "#### *Exemplo 2: Percorrendo duas listas em sequência*"
   ]
  },
  {
   "cell_type": "markdown",
   "id": "92ac89b2",
   "metadata": {},
   "source": [
    "O programa a seguir segue a mesma linha utilizada no **Exemplo 3** da **Seção 13.3**. Nele percorreremos elementos internos de listas de listas contando o número de ocorrências de um determinado valor."
   ]
  },
  {
   "cell_type": "code",
   "execution_count": null,
   "id": "fe596652",
   "metadata": {
    "ExecuteTime": {
     "end_time": "2023-09-20T14:10:31.141983Z",
     "start_time": "2023-09-20T14:10:31.137043Z"
    }
   },
   "outputs": [],
   "source": [
    "# A variável idade1 recebe uma lista de valores\n",
    "idades1 = [18, 16, 24, 39, 18]\n",
    "\n",
    "# A variável idade2 recebe uma lista de valores\n",
    "idades2 = [32, 18, 47, 76, 24]\n",
    "\n",
    "# A variável val recebe o valor a ser contadas as ocorrências\n",
    "val = 18\n",
    "\n",
    "# Variável responsável pela contagem de ocorrências da variável val\n",
    "i = 0\n",
    "\n",
    "# Loop externo que percorre cada lista de idades\n",
    "for idades in [idades1, idades2]:\n",
    "    \n",
    "    # Loop interno que percorre cada número nas listas de idades\n",
    "    for num in idades:\n",
    "        \n",
    "        # Condicional que verifica se o número é igual ao valor especificado\n",
    "        if num == val:\n",
    "            i = i + 1  # Incrementa o contador i\n",
    "            \n",
    "# Imprime o valor final do contador i\n",
    "print(i)"
   ]
  },
  {
   "cell_type": "markdown",
   "id": "a5ea3874",
   "metadata": {},
   "source": [
    "## <div style=\"margin-top: -20px;\">\n",
    "<hr style=\"border: 2px solid blue;\">\n",
    "\n",
    "<font color='blue'><span style=\"font-size: 22px;\"><strong>Exercícios</strong></span></font>\n",
    "\n",
    "<hr style=\"border: 2px solid blue;\">\n",
    "</div>"
   ]
  },
  {
   "cell_type": "markdown",
   "id": "67c932dd",
   "metadata": {},
   "source": [
    "#### Exercício 1"
   ]
  },
  {
   "cell_type": "markdown",
   "id": "f34f7732",
   "metadata": {},
   "source": [
    "Use o loop for para imprimir:\n",
    "\n",
    "a) Todas as letras da palavra Python.\n",
    "\n",
    "b) Todos os elementos da lista [-1,0,1,4,9].\n",
    "\n",
    "c) Todos os múltiplos de 3 presentes na lista [1,2,3,4,5,6,7,8,9,10,11,12,13,14,15]."
   ]
  },
  {
   "cell_type": "code",
   "execution_count": null,
   "id": "f4e80f97",
   "metadata": {},
   "outputs": [],
   "source": [
    "# Sua resposta\n",
    "# a)\n",
    "\n"
   ]
  },
  {
   "cell_type": "code",
   "execution_count": null,
   "id": "306d65d3",
   "metadata": {},
   "outputs": [],
   "source": [
    "# Sua resposta\n",
    "# b)\n",
    "\n"
   ]
  },
  {
   "cell_type": "code",
   "execution_count": null,
   "id": "fbec8c9e",
   "metadata": {},
   "outputs": [],
   "source": [
    "# Sua resposta\n",
    "# c)\n",
    "\n"
   ]
  },
  {
   "cell_type": "markdown",
   "id": "991acfb7",
   "metadata": {},
   "source": [
    "#### Exercício 2"
   ]
  },
  {
   "cell_type": "markdown",
   "id": "2b48f458",
   "metadata": {},
   "source": [
    "Considere a lista [[0,1,2,-1],[-1,0,3,4],[2,4,5,-2],[6,-1,4,7]].\n",
    "\n",
    "a) Imprima o primeiro elemento de cada uma das sublistas.\n",
    "\n",
    "b) Imprima o primeiro elemento da primeira lista, o segundo da segunda, o terceiro da terceira e o quarto da quarta.\n",
    "\n",
    "c) Imprima o primeiro elemento da quarta lista, o segundo da terceira, o terceiro da segunda e o quarto da primeira."
   ]
  },
  {
   "cell_type": "code",
   "execution_count": null,
   "id": "33bccc11",
   "metadata": {},
   "outputs": [],
   "source": [
    "# Sua resposta\n",
    "# a)\n"
   ]
  },
  {
   "cell_type": "code",
   "execution_count": null,
   "id": "697d3b03",
   "metadata": {},
   "outputs": [],
   "source": [
    "# Sua resposta\n",
    "# b)\n"
   ]
  },
  {
   "cell_type": "code",
   "execution_count": null,
   "id": "b3853495",
   "metadata": {},
   "outputs": [],
   "source": [
    "# Sua resposta\n",
    "# c)\n"
   ]
  },
  {
   "cell_type": "markdown",
   "id": "05bfba08",
   "metadata": {},
   "source": [
    "#### Exercício 3"
   ]
  },
  {
   "cell_type": "markdown",
   "id": "4236cab4",
   "metadata": {},
   "source": [
    "Considere a lista de listas [[1, 2, -1], [3, 4,-2], [1, 2, 6]].\n",
    "\n",
    "a) Imprima o produto de todos os elementos desta lista.\n",
    "\n",
    "b) Imprima o produto de todos os termos ímpares da lista"
   ]
  },
  {
   "cell_type": "code",
   "execution_count": null,
   "id": "5128088a",
   "metadata": {},
   "outputs": [],
   "source": [
    "# Sua resposta\n",
    "# a)\n"
   ]
  },
  {
   "cell_type": "code",
   "execution_count": null,
   "id": "116d8a50",
   "metadata": {},
   "outputs": [],
   "source": [
    "# Sua resposta\n",
    "# b)\n"
   ]
  },
  {
   "cell_type": "markdown",
   "id": "2a5b2244",
   "metadata": {},
   "source": [
    "#### Exercício 4"
   ]
  },
  {
   "cell_type": "markdown",
   "id": "8b7d2644",
   "metadata": {},
   "source": [
    "Considere as listas: lista1 = [1,3,4,6,9] e lista2 = [0,2,-1,7,5,8].\n",
    "\n",
    "a) Adicione os elementos lista2 à lista 1.\n",
    "\n",
    "b) Adicione os elementos lista2 à lista 1 em ordem reversa.\n",
    "\n",
    "c) Adicione os elementos pares da lista2 à lista1 e, em seguida reoordene a lista formada em ordem decrescente."
   ]
  },
  {
   "cell_type": "code",
   "execution_count": null,
   "id": "a50f580a",
   "metadata": {},
   "outputs": [],
   "source": [
    "# Sua resposta\n",
    "# a)\n"
   ]
  },
  {
   "cell_type": "code",
   "execution_count": null,
   "id": "772e8e5f",
   "metadata": {},
   "outputs": [],
   "source": [
    "# Sua resposta\n",
    "# b)\n"
   ]
  },
  {
   "cell_type": "code",
   "execution_count": null,
   "id": "0d9a8e1a",
   "metadata": {},
   "outputs": [],
   "source": [
    "# Sua resposta\n",
    "# c)\n"
   ]
  },
  {
   "cell_type": "markdown",
   "id": "40c96997",
   "metadata": {},
   "source": [
    "### <div style=\"margin-top: -20px;\">\n",
    "<hr style=\"border: 2px solid blue;\">\n",
    "\n",
    "<font color='blue'><span style=\"font-size: 18px;\"><strong>Soluções dos Exercícios</strong></span></font>\n",
    "\n",
    "<hr style=\"border: 2px solid blue;\">\n",
    "</div>"
   ]
  },
  {
   "cell_type": "markdown",
   "id": "8fdfe64c",
   "metadata": {},
   "source": [
    "#### Solução do Exercício 1"
   ]
  },
  {
   "cell_type": "code",
   "execution_count": null,
   "id": "d647fa62",
   "metadata": {},
   "outputs": [],
   "source": [
    "# a)\n",
    "\n",
    "# Entrada\n",
    "palavra = 'Python'\n",
    "\n",
    "# Loop\n",
    "for letra in palavra:\n",
    "    print(letra)"
   ]
  },
  {
   "cell_type": "code",
   "execution_count": null,
   "id": "7cb2d823",
   "metadata": {},
   "outputs": [],
   "source": [
    "# b)\n",
    "\n",
    "# Entrada\n",
    "lista = [-1,0,1,4,9]\n",
    "\n",
    "# Loop\n",
    "for x in lista:\n",
    "    print(x)\n"
   ]
  },
  {
   "cell_type": "code",
   "execution_count": null,
   "id": "0f072256",
   "metadata": {},
   "outputs": [],
   "source": [
    "# c)\n",
    "\n",
    "# Entrada\n",
    "lista =  [1,2,3,4,5,6,7,8,9,10,11,12,13,14,15]\n",
    "\n",
    "# Loop\n",
    "for i in range(0,len(lista)+1,3):\n",
    "    print(i)"
   ]
  },
  {
   "cell_type": "code",
   "execution_count": null,
   "id": "4ccd3e28",
   "metadata": {},
   "outputs": [],
   "source": [
    "# c) Resposta alternativa (usando condicionais)\n",
    "\n",
    "# Entrada\n",
    "lista =  [1,2,3,4,5,6,7,8,9,10,11,12,13,14,15]\n",
    "\n",
    "# Loop\n",
    "for i in range(0,len(lista)+1):\n",
    "    if i%3 == 0:\n",
    "        print(i)"
   ]
  },
  {
   "cell_type": "markdown",
   "id": "1b8a58b6",
   "metadata": {},
   "source": [
    "#### Solução do Exercício 2"
   ]
  },
  {
   "cell_type": "code",
   "execution_count": null,
   "id": "de16ccbf",
   "metadata": {},
   "outputs": [],
   "source": [
    "# a)\n",
    "\n",
    "# Entrada\n",
    "lista = [[0,1,2,-1],[-1,0,3,4],[2,4,5,-2],[6,-1,4,7]]\n",
    "\n",
    "for i in range(0,len(lista)):\n",
    "    print(lista[i][0])"
   ]
  },
  {
   "cell_type": "code",
   "execution_count": null,
   "id": "260b6233",
   "metadata": {},
   "outputs": [],
   "source": [
    "# b)\n",
    "\n",
    "# Entrada\n",
    "lista = [[0,1,2,-1],[-1,0,3,4],[2,4,5,-2],[6,-1,4,7]]\n",
    "\n",
    "for i in range(0,len(lista)):\n",
    "    print(lista[i][i])"
   ]
  },
  {
   "cell_type": "code",
   "execution_count": null,
   "id": "68733bf2",
   "metadata": {},
   "outputs": [],
   "source": [
    "# c)\n",
    "\n",
    "# Entrada\n",
    "lista = [[0,1,2,-1],[-1,0,3,4],[2,4,5,-2],[6,-1,4,7]]\n",
    "\n",
    "for i in range(0,n):\n",
    "    print(lista[i][3-i])"
   ]
  },
  {
   "cell_type": "markdown",
   "id": "b071f46a",
   "metadata": {},
   "source": [
    "#### Solução do Exercício 3"
   ]
  },
  {
   "cell_type": "code",
   "execution_count": null,
   "id": "abd97aab",
   "metadata": {},
   "outputs": [],
   "source": [
    "# a)\n",
    "\n",
    "# Lista de listas\n",
    "lista_de_listas = [[1, 2, -1], [3, 4,-2], [1, 2, 6]]\n",
    "\n",
    "# Variável que armazenará a soma dos elementos\n",
    "produto = 1\n",
    "\n",
    "# Novamente, o primeiro loop for está percorrendo cada sublista na lista de listas\n",
    "for lista_interna in lista_de_listas:\n",
    "    \n",
    "    # O segundo loop for está percorrendo cada item dentro da sublista atual\n",
    "    for item in lista_interna:\n",
    "        \n",
    "        # Aqui, nós estamos adicionando o valor do item atual à soma\n",
    "        produto = produto*item\n",
    "\n",
    "# Após todos os loops terem terminado, nós imprimimos a soma total\n",
    "print(\"A soma de todos os números é:\", produto)"
   ]
  },
  {
   "cell_type": "code",
   "execution_count": null,
   "id": "f027ff21",
   "metadata": {},
   "outputs": [],
   "source": [
    "# b)\n",
    "\n",
    "# Lista de listas\n",
    "lista_de_listas = [[1, 2, -1], [3, 4,-2], [1, 2, 6]]\n",
    "\n",
    "# Variável que armazenará a soma dos elementos\n",
    "produto = 1\n",
    "\n",
    "# Novamente, o primeiro loop for está percorrendo cada sublista na lista de listas\n",
    "for lista_interna in lista_de_listas:\n",
    "    \n",
    "    # O segundo loop for está percorrendo cada item dentro da sublista atual\n",
    "    for item in lista_interna:\n",
    "        \n",
    "        # Verificando se o elemento observado é par\n",
    "        if item%2 == 1:\n",
    "            \n",
    "            # Aqui, nós estamos adicionando o valor do item atual à soma\n",
    "            produto = produto*item\n",
    "\n",
    "# Após todos os loops terem terminado, nós imprimimos a soma total\n",
    "print(\"A soma de todos os números ímpares é:\", produto)"
   ]
  },
  {
   "cell_type": "markdown",
   "id": "bce3e933",
   "metadata": {},
   "source": [
    "#### Solução do Exercício 4"
   ]
  },
  {
   "cell_type": "code",
   "execution_count": null,
   "id": "08ef1489",
   "metadata": {},
   "outputs": [],
   "source": [
    "# a) \n",
    "\n",
    "# Entradas \n",
    "lista1 = [1,3,4,6,9]\n",
    "lista2 = [0,2,-1,7,5,8]\n",
    "\n",
    "# Percorrendo a lista2\n",
    "for i in range(0,len(lista2)):\n",
    "    \n",
    "    # lista1 aprende os elementos da lista2\n",
    "    lista1.append(lista2[i])\n",
    "\n",
    "# Imprimindo a lista1\n",
    "print(lista1)"
   ]
  },
  {
   "cell_type": "code",
   "execution_count": null,
   "id": "b909d7bf",
   "metadata": {},
   "outputs": [],
   "source": [
    "# b) \n",
    "\n",
    "# Entradas \n",
    "lista1 = [1,3,4,6,9]\n",
    "lista2 = [0,2,-1,7,5,8]\n",
    "\n",
    "n = len(lista2)\n",
    "\n",
    "# Percorrendo a lista2\n",
    "for i in range(0,n):\n",
    "    \n",
    "    # lista1 aprende os elementos da lista2\n",
    "    lista1.append(lista2[(n-1)-i])\n",
    "\n",
    "# Imprimindo a lista1 ordenada\n",
    "print(lista1)"
   ]
  },
  {
   "cell_type": "code",
   "execution_count": null,
   "id": "858d1e8d",
   "metadata": {},
   "outputs": [],
   "source": [
    "# c) \n",
    "\n",
    "# Entradas \n",
    "lista1 = [1,3,4,6,9]\n",
    "lista2 = [0,2,-1,7,5,8]\n",
    "\n",
    "# Percorrendo a lista2\n",
    "for i in range(0,len(lista2)):\n",
    "    \n",
    "    # Checando se o elemento é par\n",
    "    if lista2[i] % 2 == 0:\n",
    "        \n",
    "        # lista1 aprende os elementos da lista2\n",
    "        lista1.append(lista2[i])\n",
    "\n",
    "# Ordenando a lista1 em ordem crescente\n",
    "lista1.sort()\n",
    "\n",
    "# Imprimindo a lista1\n",
    "print(lista1)"
   ]
  }
 ],
 "metadata": {
  "kernelspec": {
   "display_name": "Python 3 (ipykernel)",
   "language": "python",
   "name": "python3"
  },
  "language_info": {
   "codemirror_mode": {
    "name": "ipython",
    "version": 3
   },
   "file_extension": ".py",
   "mimetype": "text/x-python",
   "name": "python",
   "nbconvert_exporter": "python",
   "pygments_lexer": "ipython3",
   "version": "3.9.13"
  },
  "varInspector": {
   "cols": {
    "lenName": 16,
    "lenType": 16,
    "lenVar": 40
   },
   "kernels_config": {
    "python": {
     "delete_cmd_postfix": "",
     "delete_cmd_prefix": "del ",
     "library": "var_list.py",
     "varRefreshCmd": "print(var_dic_list())"
    },
    "r": {
     "delete_cmd_postfix": ") ",
     "delete_cmd_prefix": "rm(",
     "library": "var_list.r",
     "varRefreshCmd": "cat(var_dic_list()) "
    }
   },
   "types_to_exclude": [
    "module",
    "function",
    "builtin_function_or_method",
    "instance",
    "_Feature"
   ],
   "window_display": false
  }
 },
 "nbformat": 4,
 "nbformat_minor": 5
}
