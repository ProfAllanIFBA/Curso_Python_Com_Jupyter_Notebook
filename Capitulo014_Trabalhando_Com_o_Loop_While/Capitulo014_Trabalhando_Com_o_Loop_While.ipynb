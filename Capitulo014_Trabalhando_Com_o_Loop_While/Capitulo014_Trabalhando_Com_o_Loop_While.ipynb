{
 "cells": [
  {
   "cell_type": "markdown",
   "id": "b42396bc",
   "metadata": {},
   "source": [
    "<center> <img src=\"logo_ifba.jpg\" alt=\"jpg_python\" width=\"100\" height=\"\"> </center>\n",
    "<br><br>\n",
    "<center> <img src=\"logo_coext.jpg\" alt=\"jpg_python\" width=\"200\" height=\"\"> </center>\n",
    "<br><br>\n",
    "<center><div style=\"text-align:center\">    <a href=\"https://colab.research.google.com/github/ProfAllanIFBA/Curso_Python_Com_Jupyter_Notebook/blob/main/Capitulo014_Trabalhando_Com_o_Loop_While/Capitulo014_Trabalhando_Com_o_Loop_While.ipynb\">Link Colab</a> \n",
    "</div><br><br></center>\n",
    "<div align=\"center\"><span style=\"font-size: 26px;\"><strong>Python Com Jupyter Notebook</strong></span></div><br><br>\n",
    "<center> <img src=\"python_gif.gif\" alt=\"gif_python\" width=\"80\"> </center>"
   ]
  },
  {
   "cell_type": "markdown",
   "id": "6b0dd504",
   "metadata": {},
   "source": [
    "Este material apresenta uma explicação detalhada sobre o uso do software de programação em Python chamado Jupyter Notebook, com foco na análise de dados. Abordaremos desde estruturas básicas, como listas e dicionários, até estruturas mais complexas voltadas para a análise de dados, como pandas e seaborn, além de ferramentas destinadas à inteligência artificial.\n",
    "\n",
    "\n",
    "<font color='red'> <u>Este é um material de uso público e totalmente gratuito</u>. Contudo, eventuais edições são de responsabilidade de quem as fizer. </font>\n",
    "\n",
    "Você pode ajudar a melhorar este material!\n",
    "\n",
    "Contato e Sugestões: allansoares@ifba.edu.br.\n",
    "\n",
    "[**Equipe Executora**](https://github.com/ProfAllanIFBA/Curso_Python_Com_Jupyter_Notebook/blob/main/Capitulo000_Equipe/Capitulo000_Equipe.ipynb)"
   ]
  },
  {
   "cell_type": "markdown",
   "id": "daa86045",
   "metadata": {},
   "source": [
    "### <center> <font color='red'> Vídeo Aulas <img src=\"youtube.gif\" alt=\"jpg_python\" width=\"100\" height=\"\"> </font> </center>"
   ]
  },
  {
   "cell_type": "markdown",
   "id": "7915ad9a",
   "metadata": {},
   "source": [
    "[Loop while em Python](https://youtu.be/Msmol62UtbU)\n",
    "\n",
    "[Palavas Chave else e pass em Python](https://youtu.be/HNO_B3AW9G0)\n",
    "\n",
    "[Palavas Chave break e continue em Python](https://youtu.be/4yGFfzD5IHw)\n",
    "\n",
    "[Juntando Tudo Loops for e while e Condicionais em Python](https://youtu.be/pC8SFX1wa2g)"
   ]
  },
  {
   "cell_type": "markdown",
   "id": "c0c4b8a6",
   "metadata": {},
   "source": [
    "<div style=\"border: 2px solid black; padding: 10px; width: 100%; background-color: lightgray; display: flex; align-items: center;\">\n",
    "    <h1 style=\"color: red; text-align: center; margin: auto;\">\n",
    "        Capítulo 14 - Trabalhando com o Loop While\n",
    "    </h1>\n",
    "</div>\n",
    "\n",
    "<font color='red'></font>\n",
    "<a href=\"\"></a>"
   ]
  },
  {
   "cell_type": "markdown",
   "id": "906103c3",
   "metadata": {},
   "source": [
    "Os loops <u>while</u> são elementos fundamentais da programação que permitem que um programa execute repetidamente um bloco de código enquanto uma determinada condição for verdadeira. Essa estrutura de controle é especialmente útil quando não se sabe o número exato de iterações que serão necessárias."
   ]
  },
  {
   "cell_type": "markdown",
   "id": "86c1f3eb",
   "metadata": {},
   "source": [
    "##\n",
    "<div style=\"margin-top: -20px;\">\n",
    "<hr style=\"border: 2px solid blue;\">\n",
    "\n",
    "<font color='blue'><span style=\"font-size: 22px;\"><strong>14.1 Loop while</strong></span></font>\n",
    "\n",
    "<hr style=\"border: 2px solid blue;\">\n",
    "</div>"
   ]
  },
  {
   "cell_type": "markdown",
   "id": "96a05080",
   "metadata": {},
   "source": [
    "#### *Exemplo 1: Imprimindo inteiros de 0 a 9*"
   ]
  },
  {
   "cell_type": "code",
   "execution_count": null,
   "id": "71ffe1a6",
   "metadata": {
    "ExecuteTime": {
     "end_time": "2023-09-20T19:04:56.016289Z",
     "start_time": "2023-09-20T19:04:56.006392Z"
    }
   },
   "outputs": [],
   "source": [
    "# Inicializando a variável cont com o valor 0\n",
    "cont = 0\n",
    "\n",
    "# Loop while que imprime os valores de 0 a 9\n",
    "while cont < 10:\n",
    "    \n",
    "    # Imprime o valor atual de cont\n",
    "    print(cont)\n",
    "    \n",
    "    # Incrementa o valor de cont em 1\n",
    "    cont  = cont + 1"
   ]
  },
  {
   "cell_type": "markdown",
   "id": "2d591565",
   "metadata": {},
   "source": [
    "#### *Exemplo 2: Programa que imprime os n primeiros números da sequência de Fibonacci*"
   ]
  },
  {
   "cell_type": "markdown",
   "id": "3c87dfaa",
   "metadata": {},
   "source": [
    "A sequência de Fibonacci é uma sequência numérica em que cada termo subsequente é a soma dos dois termos anteriores. Ela começa com os números 0 e 1, e cada termo seguinte é obtido somando-se os dois termos anteriores. Aqui estão os primeiros termos da sequência: $0, 1, 1, 2, 3, 5, 8, 13, 21, 34, ...$"
   ]
  },
  {
   "cell_type": "code",
   "execution_count": null,
   "id": "d5d54e00",
   "metadata": {
    "ExecuteTime": {
     "end_time": "2023-09-20T19:46:06.363187Z",
     "start_time": "2023-09-20T19:46:06.354756Z"
    }
   },
   "outputs": [],
   "source": [
    "# Inicializando as variáveis a e b para gerar a sequência\n",
    "a, b = 0, 1\n",
    "\n",
    "# Loop while que imprime os primeiros 10 números da sequência de Fibonacci\n",
    "cont = 0\n",
    "\n",
    "while cont < 10:\n",
    "    print(a)\n",
    "    a = b\n",
    "    b = a + b\n",
    "    cont += 1"
   ]
  },
  {
   "cell_type": "markdown",
   "id": "2794978e",
   "metadata": {},
   "source": [
    "#### *Exemplo 3: Programa que imprime os termos da sequência de Fibonacci menores que um valor M*"
   ]
  },
  {
   "cell_type": "code",
   "execution_count": null,
   "id": "16754df4",
   "metadata": {
    "ExecuteTime": {
     "end_time": "2023-09-20T19:46:07.391595Z",
     "start_time": "2023-09-20T19:46:07.387105Z"
    }
   },
   "outputs": [],
   "source": [
    "# Inicializando as variáveis a e b para gerar a sequência\n",
    "a, b = 0, 1\n",
    "\n",
    "# Cota superior\n",
    "M = 1000\n",
    "\n",
    "while a < M:\n",
    "    print(a)\n",
    "    a, b = b, a + b"
   ]
  },
  {
   "cell_type": "markdown",
   "id": "748563b8",
   "metadata": {},
   "source": [
    "#####  <div style=\"width: 50%; height: 4px; background-color: red;\"> <br> <font color='red'>Cuidado!!!</font> </div>  \n",
    "<br>"
   ]
  },
  {
   "cell_type": "markdown",
   "id": "4f40beaf",
   "metadata": {},
   "source": [
    "A condição tem que deixar de ser verdadeira dentro do loop, senão pode travar o navegador ou mesmo o computador. Fique atento para interromper o kernel."
   ]
  },
  {
   "cell_type": "code",
   "execution_count": null,
   "id": "2389a90a",
   "metadata": {
    "ExecuteTime": {
     "end_time": "2023-09-20T19:46:12.208105Z",
     "start_time": "2023-09-20T19:46:09.635171Z"
    }
   },
   "outputs": [],
   "source": [
    "# loop interminável\n",
    "cont = 0\n",
    "\n",
    "while cont < 10:\n",
    "    print(cont)"
   ]
  },
  {
   "cell_type": "markdown",
   "id": "c646c775",
   "metadata": {},
   "source": [
    "<div style=\"width: 50%; height: 4px; background-color: red;\"></div> "
   ]
  },
  {
   "cell_type": "markdown",
   "id": "ecb98ba2",
   "metadata": {},
   "source": [
    "##\n",
    "<div style=\"margin-top: -20px;\">\n",
    "<hr style=\"border: 2px solid blue;\">\n",
    "\n",
    "<font color='blue'><span style=\"font-size: 22px;\"><strong>14.2 Uso das Palavras-Chave Else, Pass, Break e Continue</strong></span></font>\n",
    "\n",
    "<hr style=\"border: 2px solid blue;\">\n",
    "</div>"
   ]
  },
  {
   "cell_type": "markdown",
   "id": "7002a500",
   "metadata": {},
   "source": [
    "### else"
   ]
  },
  {
   "cell_type": "markdown",
   "id": "dc42d9c2",
   "metadata": {},
   "source": [
    "Em um loop while, o bloco de código associado à palavra-chave <u>else</u> é executado depois que o loop é concluído, a menos que o loop tenha sido terminado por uma instrução <u>break</u> (veremos logo mais). Isso significa que o bloco de código else é executado quando todo o loop foi iterado completamente, e não quando a condição que controla o loop se torna falsa, como pode ser o caso em outras estruturas de controle."
   ]
  },
  {
   "cell_type": "markdown",
   "id": "8cdae47b",
   "metadata": {},
   "source": [
    "#### *Exemplo: Imprimindo inteiros entre dois valores*"
   ]
  },
  {
   "cell_type": "code",
   "execution_count": null,
   "id": "639d6757",
   "metadata": {
    "ExecuteTime": {
     "end_time": "2023-09-20T20:38:21.708901Z",
     "start_time": "2023-09-20T20:38:21.703963Z"
    }
   },
   "outputs": [],
   "source": [
    "# Inicializando a variável cont_ini com o valor 8\n",
    "valor_inicial = 8\n",
    "\n",
    "# Inicializando a variável cont_fim com o valor 21\n",
    "cota_superior = 21\n",
    "\n",
    "# Loop while que imprime os valores de cont_ini até cont_fim - 1\n",
    "while valor_inicial < cota_superior:\n",
    "    \n",
    "    # Imprime o valor atual de cont_ini\n",
    "    print(valor_inicial)\n",
    "    \n",
    "    # Incrementa o valor de cont_ini\n",
    "    valor_inicial = valor_inicial + 1\n",
    "    \n",
    "else:\n",
    "    print('Valores impressos com sucesso!')"
   ]
  },
  {
   "cell_type": "markdown",
   "id": "fc636c61",
   "metadata": {},
   "source": [
    "### pass"
   ]
  },
  {
   "cell_type": "markdown",
   "id": "34277702",
   "metadata": {},
   "source": [
    "A palavra-chave <u>pass</u> é usada quando não se deseja executar nenhum código no bloco do loop ou condicional, mas é necessário ter algo presente para evitar um erro de sintaxe. Neste caso *pass* não faz nada, é simplesmente uma declaração vazia. Ele é usado quando a sintaxe exige um bloco de código, mas não há nenhuma ação específica a ser executada."
   ]
  },
  {
   "cell_type": "markdown",
   "id": "33dc36f0",
   "metadata": {},
   "source": [
    "#### *Exemplo: Imprimindo inteiros entre dois valores pulando um valor específico*"
   ]
  },
  {
   "cell_type": "code",
   "execution_count": null,
   "id": "ee64cf87",
   "metadata": {
    "ExecuteTime": {
     "end_time": "2023-09-20T20:38:19.476583Z",
     "start_time": "2023-09-20T20:38:19.465175Z"
    }
   },
   "outputs": [],
   "source": [
    "# Contador\n",
    "i = 0\n",
    "\n",
    "# Loop while \n",
    "while i < 5:\n",
    "    \n",
    "    # Condicional que verifica se o valor de i é igual a 3\n",
    "    if i == 3:\n",
    "        \n",
    "        # Caso i seja igual a 3, a instrução pass é executada, que não faz nada\n",
    "        pass\n",
    "    \n",
    "    else:\n",
    "        \n",
    "        # Caso i seja diferente de 3, o valor de i é impresso\n",
    "        print(i)\n",
    "        \n",
    "    # Atualizando o contador\n",
    "    i = i + 1\n",
    "        "
   ]
  },
  {
   "cell_type": "markdown",
   "id": "6e834da2",
   "metadata": {},
   "source": [
    "### break"
   ]
  },
  {
   "cell_type": "markdown",
   "id": "f5edd0bd",
   "metadata": {},
   "source": [
    "Dentro de um loop while, quando a condição especificada é avaliada como verdadeira, o <u>break</u> é usado para sair imediatamente do loop, ignorando qualquer código restante no bloco do loop. *break* é útil quando se deseja interromper a execução do loop com base em uma determinada condição."
   ]
  },
  {
   "cell_type": "markdown",
   "id": "b59d46da",
   "metadata": {},
   "source": [
    "#### *Exemplo 1: Somando valores até certo limite*"
   ]
  },
  {
   "cell_type": "code",
   "execution_count": null,
   "id": "cf263b83",
   "metadata": {
    "ExecuteTime": {
     "end_time": "2023-09-20T20:52:49.491607Z",
     "start_time": "2023-09-20T20:52:49.487144Z"
    }
   },
   "outputs": [],
   "source": [
    "# Inicializando a variável i com o valor 1\n",
    "i = 1\n",
    "\n",
    "# Inicializando a variável soma com o valor 0\n",
    "soma = 0\n",
    "\n",
    "# Loop while que continua até i ser maior que 100 ou até a soma ultrapassar 1000\n",
    "while i <= 100:\n",
    "    \n",
    "    # Adicionando o valor atual de i à soma\n",
    "    soma = soma + i\n",
    "    \n",
    "    # Incrementando o valor de i em 1\n",
    "    i = i + 1\n",
    "    \n",
    "    # Condicional que verifica se a soma ultrapassou 1000\n",
    "    if soma > 1000:\n",
    "        \n",
    "        # Caso a soma ultrapasse 1000, o loop é interrompido com a instrução break\n",
    "        break\n",
    "        \n",
    "\n",
    "# Imprimindo a mensagem com o número de valores somados que ultrapassaram 1000\n",
    "print(f\"A soma dos primeiros {i-1} números é {soma}.\")"
   ]
  },
  {
   "cell_type": "markdown",
   "id": "2924f8fa",
   "metadata": {
    "ExecuteTime": {
     "end_time": "2023-06-27T11:39:57.483229Z",
     "start_time": "2023-06-27T11:39:57.478243Z"
    }
   },
   "source": [
    "#### *Exemplo 2: Loop de execução indefinida exceto por condições específicas*"
   ]
  },
  {
   "cell_type": "markdown",
   "id": "0550ea95",
   "metadata": {},
   "source": [
    "A expressão <u>while True</u> é uma construção comumente usada em Python para criar um loop infinito, ou seja, um loop que continua executando indefinidamente, a menos que seja interrompido explicitamente. O True é uma constante booleana que sempre possui o valor verdadeiro."
   ]
  },
  {
   "cell_type": "code",
   "execution_count": null,
   "id": "96542b82",
   "metadata": {
    "ExecuteTime": {
     "end_time": "2023-09-20T20:57:27.351471Z",
     "start_time": "2023-09-20T20:57:22.606788Z"
    }
   },
   "outputs": [],
   "source": [
    "# Loop while que continuará indefinidamente até ser interrompido\n",
    "\n",
    "while True:\n",
    "    \n",
    "    # Solicita ao usuário que digite um número positivo (ou 's' para sair)\n",
    "    num = input('Digite um número positivo (ou s para sair): ')\n",
    "    \n",
    "    # Condicional que verifica se o usuário digitou 's' para sair\n",
    "    if num == 's':\n",
    "        \n",
    "        # Imprime uma mensagem informando que o programa foi finalizado\n",
    "        print('Programa finalizado.')\n",
    "        \n",
    "        # Interrompe o loop com a instrução break\n",
    "        break\n",
    "    \n",
    "    # Converte o valor digitado pelo usuário em um número float e calcula o quadrado\n",
    "    quadrado = float(num) ** 2\n",
    "    \n",
    "    # Imprime o resultado do quadrado do número digitado\n",
    "    print(f'O quadrado de {num} é: {quadrado}')\n"
   ]
  },
  {
   "cell_type": "markdown",
   "id": "8f2523ec",
   "metadata": {},
   "source": [
    "### continue"
   ]
  },
  {
   "cell_type": "markdown",
   "id": "ca9e5535",
   "metadata": {},
   "source": [
    "Dentro de um loop while, quando a condição especificada é avaliada como verdadeira, o *continue* é usado para encerrar a iteração atual e passar para a próxima iteração do loop. Diferentemente do *break*, o *continue* não sai completamente do loop, mas simplesmente pula o restante do bloco de código atual e inicia a próxima iteração. *continue* é útil quando se deseja ignorar certas iterações com base em uma determinada condição."
   ]
  },
  {
   "cell_type": "markdown",
   "id": "17054593",
   "metadata": {},
   "source": [
    "#### *Exemplo: Imprimindo somente inteiros ímpares*"
   ]
  },
  {
   "cell_type": "code",
   "execution_count": null,
   "id": "738fea4d",
   "metadata": {
    "ExecuteTime": {
     "end_time": "2023-09-20T21:20:46.044720Z",
     "start_time": "2023-09-20T21:20:46.036312Z"
    }
   },
   "outputs": [],
   "source": [
    "# Loop for que percorre os números de 1 a 10\n",
    "for i in range(1, 11):\n",
    "    \n",
    "    # Condicional que verifica se o número é par\n",
    "    if i % 2 == 0:\n",
    "        \n",
    "        # Se o número for par, a instrução continue é executada, pulando para a próxima iteração do loop\n",
    "        continue\n",
    "        \n",
    "    # Se o número não for par, o número é impresso\n",
    "    print(i)"
   ]
  },
  {
   "cell_type": "markdown",
   "id": "82570935",
   "metadata": {},
   "source": [
    "##\n",
    "<div style=\"margin-top: -20px;\">\n",
    "<hr style=\"border: 2px solid blue;\">\n",
    "\n",
    "<font color='blue'><span style=\"font-size: 22px;\"><strong>14.3 Combinando o Loop While, Condicionais e Loop For</strong></span></font>\n",
    "\n",
    "<hr style=\"border: 2px solid blue;\">\n",
    "</div>"
   ]
  },
  {
   "cell_type": "markdown",
   "id": "ef3253fc",
   "metadata": {},
   "source": [
    "À medida que progredimos na programação, as coisas se tornam cada vez mais interessantes. É perfeitamente possível encontrar códigos ou blocos de código que contêm loops *for* e *while*, juntamente com estruturas condicionais *if*, *if-else* ou *if-elif-else*."
   ]
  },
  {
   "cell_type": "markdown",
   "id": "f182887a",
   "metadata": {},
   "source": [
    "#### *Exemplo: Juntando tudo*"
   ]
  },
  {
   "cell_type": "code",
   "execution_count": null,
   "id": "a333cdd5",
   "metadata": {
    "ExecuteTime": {
     "end_time": "2023-09-20T21:26:26.443903Z",
     "start_time": "2023-09-20T21:26:26.437957Z"
    },
    "scrolled": false
   },
   "outputs": [],
   "source": [
    "# Exibinddo números cujo quadrado é menor que valores pares de uma lista\n",
    "\n",
    "# Lista  de números\n",
    "lista = [10, 35, 24, 90, 3]\n",
    "\n",
    "print('-------------------------------------------------------------------------------')\n",
    "for n in lista:\n",
    "    # Inicializa o contador i como 1\n",
    "    i = 1\n",
    "    \n",
    "    # Inicializa uma lista vazia para armazenar os números cujo quadrado é menor que n\n",
    "    lista_quad = []\n",
    "\n",
    "    # Verifica se n é um número par\n",
    "    if n % 2 == 0:\n",
    "        print(f'Listamos a seguir os números cujo quadrado são menores que {n}:')\n",
    "\n",
    "        # Executa um loop enquanto o quadrado de i for menor que n\n",
    "        while i ** 2 < n:\n",
    "            # Adiciona o valor de i à lista_quad\n",
    "            lista_quad.append(i)\n",
    "            # Incrementa o valor de i em 1\n",
    "            i = i + 1\n",
    "\n",
    "        # Converte os valores da lista_quad em uma string separada por vírgulas\n",
    "        resultado = lista_quad\n",
    "        \n",
    "        # Imprime os números cujo quadrado é menor que n\n",
    "        print(resultado)\n",
    "\n",
    "        print('-------------------------------------------------------------------------------')"
   ]
  },
  {
   "cell_type": "markdown",
   "id": "a5ea3874",
   "metadata": {},
   "source": [
    "## <div style=\"margin-top: -20px;\">\n",
    "<hr style=\"border: 2px solid blue;\">\n",
    "\n",
    "<font color='blue'><span style=\"font-size: 22px;\"><strong>Exercícios</strong></span></font>\n",
    "\n",
    "<hr style=\"border: 2px solid blue;\">\n",
    "</div>"
   ]
  },
  {
   "cell_type": "markdown",
   "id": "41a65a51",
   "metadata": {},
   "source": [
    "#### Exercício 1"
   ]
  },
  {
   "cell_type": "markdown",
   "id": "d312a196",
   "metadata": {},
   "source": [
    "Use o loop while para imprimir todos os elementos da tupla **tupla = (1,2,4,7,10)**."
   ]
  },
  {
   "cell_type": "code",
   "execution_count": null,
   "id": "edcfdf95",
   "metadata": {},
   "outputs": [],
   "source": [
    "# Sua resposta\n",
    "\n"
   ]
  },
  {
   "cell_type": "code",
   "execution_count": null,
   "id": "310663df",
   "metadata": {},
   "outputs": [],
   "source": []
  },
  {
   "cell_type": "markdown",
   "id": "fae6b4f5",
   "metadata": {},
   "source": [
    "#### Exercício 2"
   ]
  },
  {
   "cell_type": "markdown",
   "id": "bd6b6fc6",
   "metadata": {},
   "source": [
    "Utilize o loop while para imprimir todos os caracteres da sequência 'cdscacdax' que não sejam iguais a 'a':"
   ]
  },
  {
   "cell_type": "code",
   "execution_count": null,
   "id": "096eb947",
   "metadata": {},
   "outputs": [],
   "source": [
    "# Sua resposta\n",
    "\n"
   ]
  },
  {
   "cell_type": "markdown",
   "id": "67c932dd",
   "metadata": {},
   "source": [
    "#### Exercício 3"
   ]
  },
  {
   "cell_type": "markdown",
   "id": "f34f7732",
   "metadata": {},
   "source": [
    "Construa um código que imprime todos os números de uma lista de números até que o primeiro número negativo seja encontrado. Por exemplo, lista1 = [1,2,5,-1,4,7] e lista2 = [0,3,2,4,5,7]."
   ]
  },
  {
   "cell_type": "code",
   "execution_count": null,
   "id": "deaf4066",
   "metadata": {},
   "outputs": [],
   "source": [
    "# Sua resposta\n",
    "\n"
   ]
  },
  {
   "cell_type": "markdown",
   "id": "969856ae",
   "metadata": {},
   "source": [
    "#### Exercício 4"
   ]
  },
  {
   "cell_type": "markdown",
   "id": "0c1b86da",
   "metadata": {},
   "source": [
    "Construa um código de cadastro de nomes e cpf de pessoas até que o usuário digite **sair**. Ao final um dicionário com os nomes(chaves) e cpf(valores) deve ser exibido."
   ]
  },
  {
   "cell_type": "code",
   "execution_count": null,
   "id": "3ab51147",
   "metadata": {},
   "outputs": [],
   "source": [
    "# Sua resposta\n",
    "\n"
   ]
  },
  {
   "cell_type": "markdown",
   "id": "2bc437f4",
   "metadata": {},
   "source": [
    "#### Exercício 5"
   ]
  },
  {
   "cell_type": "markdown",
   "id": "e9f231c9",
   "metadata": {},
   "source": [
    "O código a seguir gera números inteiros entre 0 e 100:"
   ]
  },
  {
   "cell_type": "code",
   "execution_count": null,
   "id": "17ee6521",
   "metadata": {},
   "outputs": [],
   "source": [
    "# Importando o módulo random\n",
    "import random\n",
    "\n",
    "# Gerando um inteiro aleatório dentre 0, 1, 2, ..., 100\n",
    "a = random.randint(0,100)\n",
    "\n",
    "# Imprimindo o valor gerado\n",
    "print(a)"
   ]
  },
  {
   "cell_type": "markdown",
   "id": "8b2be654",
   "metadata": {},
   "source": [
    "Construa um código que sorteie e imprima valores de entre 0 e 100\n",
    "\n",
    "a) até que o primeiro valor 25 ocorra.\n",
    "\n",
    "b) até que o segundo valor 25 ocorra.\n",
    "\n",
    "c) até que o número de valores 25 sorteado seja maior que o número de 50."
   ]
  },
  {
   "cell_type": "code",
   "execution_count": null,
   "id": "612fb626",
   "metadata": {},
   "outputs": [],
   "source": [
    "# Sua resposta\n",
    "# a)\n",
    "\n"
   ]
  },
  {
   "cell_type": "code",
   "execution_count": null,
   "id": "d3b91f49",
   "metadata": {},
   "outputs": [],
   "source": [
    "# Sua resposta\n",
    "# b)\n"
   ]
  },
  {
   "cell_type": "code",
   "execution_count": null,
   "id": "4c6a1be4",
   "metadata": {},
   "outputs": [],
   "source": [
    "# Sua resposta\n",
    "# c)\n"
   ]
  },
  {
   "cell_type": "markdown",
   "id": "40c96997",
   "metadata": {},
   "source": [
    "### <div style=\"margin-top: -20px;\">\n",
    "<hr style=\"border: 2px solid blue;\">\n",
    "\n",
    "<font color='blue'><span style=\"font-size: 18px;\"><strong>Soluções dos Exercícios</strong></span></font>\n",
    "\n",
    "<hr style=\"border: 2px solid blue;\">\n",
    "</div>"
   ]
  },
  {
   "cell_type": "markdown",
   "id": "8fdfe64c",
   "metadata": {},
   "source": [
    "#### Solução do Exercício 1"
   ]
  },
  {
   "cell_type": "code",
   "execution_count": null,
   "id": "31ecc94a",
   "metadata": {},
   "outputs": [],
   "source": [
    "# Definindo uma tupla com valores\n",
    "tupla = (1, 2, 4, 7, 10)\n",
    "\n",
    "# Inicializando uma variável 'i' com 0\n",
    "i = 0\n",
    "\n",
    "# Iniciando um loop 'while' que vai continuar enquanto 'i' for menor ou igual ao índice máximo da tupla\n",
    "while i <= len(tupla) - 1:\n",
    "    # Imprimindo o valor da tupla no índice 'i'\n",
    "    print(tupla[i])\n",
    "    \n",
    "    # Incrementando 'i' em 1 para avançar para o próximo elemento da tupla na próxima iteração\n",
    "    i = i + 1"
   ]
  },
  {
   "cell_type": "markdown",
   "id": "58edde31",
   "metadata": {},
   "source": [
    "#### Solução do Exercício 2"
   ]
  },
  {
   "cell_type": "code",
   "execution_count": null,
   "id": "956330ba",
   "metadata": {},
   "outputs": [],
   "source": [
    "# Definindo uma sequência de caracteres\n",
    "sequencia = 'cdscacdax'\n",
    "\n",
    "# Inicializando uma variável 'i' com 0\n",
    "i = 0\n",
    "\n",
    "# Iniciando um loop 'while' que continuará enquanto 'i' for menor ou igual ao índice máximo da sequência\n",
    "# e o caractere na posição 'i' da sequência não for igual a 'a'\n",
    "while (i <= len(sequencia) - 1) & (sequencia[i] != 'a'):\n",
    "    # Imprimindo o caractere da sequência na posição 'i'\n",
    "    print(sequencia[i])\n",
    "    \n",
    "    # Incrementando 'i' em 1 para avançar para o próximo caractere na próxima iteração\n",
    "    i = i + 1"
   ]
  },
  {
   "cell_type": "markdown",
   "id": "32309099",
   "metadata": {},
   "source": [
    "#### Solução do Exercício 3"
   ]
  },
  {
   "cell_type": "code",
   "execution_count": null,
   "id": "220ea364",
   "metadata": {},
   "outputs": [],
   "source": [
    "# Definindo duas listas\n",
    "lista1 = [1, 2, 5, -1, 4, 7]\n",
    "lista2 = [0, 3, 2, 4, 5, 7]\n",
    "\n",
    "# Definindo a lista que será selecionada para o loop como 'lista2'\n",
    "lista = lista2\n",
    "\n",
    "# Inicializando uma variável 'i' com 0\n",
    "i = 0\n",
    "\n",
    "# Iniciando um loop 'while' que vai continuar enquanto 'i' for menor ou igual ao índice máximo da lista\n",
    "while i <= len(lista) - 1:\n",
    "    # Verificando se o elemento da lista na posição 'i' é menor que 0 (negativo)\n",
    "    if lista[i] < 0:\n",
    "        # Se o elemento for negativo, o loop é interrompido com a instrução 'break'\n",
    "        break\n",
    "    \n",
    "    # Se o elemento não for negativo, ele é impresso\n",
    "    print(lista[i])\n",
    "    \n",
    "    # Incrementando 'i' em 1 para avançar para o próximo elemento na próxima iteração\n",
    "    i = i + 1"
   ]
  },
  {
   "cell_type": "markdown",
   "id": "43ce4368",
   "metadata": {},
   "source": [
    "#### Solução do Exercício 4"
   ]
  },
  {
   "cell_type": "code",
   "execution_count": null,
   "id": "6873a64f",
   "metadata": {},
   "outputs": [],
   "source": [
    "# Cria um dicionário vazio chamado 'cadastro'\n",
    "cadastro = {}\n",
    "nome = ''\n",
    "\n",
    "# Inicia um loop infinito (True) para solicitar informações de entrada ao usuário\n",
    "while True:\n",
    "    # Solicita ao usuário que digite um nome\n",
    "    nome = input('Digite o nome: ')\n",
    "    \n",
    "    # Verifica se o nome digitado não é igual a 'sair'\n",
    "    if nome != 'sair':\n",
    "        # Se o nome não for 'sair', solicita ao usuário que digite um CPF (assumindo que o CPF é um número inteiro)\n",
    "        cpf = int(input('Digite o CPF: '))\n",
    "        \n",
    "        # Adiciona a entrada ao dicionário 'cadastro' com o nome como chave e o CPF como valor\n",
    "        cadastro[nome] = cpf\n",
    "    else:\n",
    "        # Se o nome for 'sair', encerra o loop com a instrução 'break'\n",
    "        break\n",
    "\n",
    "# Após o término do loop, imprime o dicionário 'cadastro' que contém todas as informações inseridas\n",
    "print(cadastro)\n"
   ]
  },
  {
   "cell_type": "markdown",
   "id": "db447d0f",
   "metadata": {},
   "source": [
    "#### Solução do Exercício 5"
   ]
  },
  {
   "cell_type": "code",
   "execution_count": null,
   "id": "41431ac4",
   "metadata": {},
   "outputs": [],
   "source": [
    "#a)\n",
    "\n",
    "# Importa o módulo random\n",
    "import random\n",
    "\n",
    "# Inicializa uma variável 'a' com -1\n",
    "a = -1\n",
    "\n",
    "# Inicia um loop 'while' que continuará até que 'a' seja igual a 25\n",
    "while a != 25:\n",
    "    # Gera um número aleatório no intervalo de 0 a 100 e atribui-o a 'a'\n",
    "    a = random.randint(0, 100)\n",
    "    \n",
    "    # Verifica se 'a' é igual a 25\n",
    "    if a == 25:\n",
    "        # Se 'a' for igual a 25, imprime uma mensagem indicando isso\n",
    "        print(f'{a} impresso aqui')\n",
    "    else:\n",
    "        # Se 'a' não for igual a 25, imprime o valor de 'a'\n",
    "        print(a)"
   ]
  },
  {
   "cell_type": "code",
   "execution_count": null,
   "id": "8be80b79",
   "metadata": {},
   "outputs": [],
   "source": [
    "# b)\n",
    "\n",
    "# Importa o módulo random\n",
    "import random\n",
    "\n",
    "# Inicializa uma variável 'k' com 0\n",
    "k = 0\n",
    "\n",
    "# Inicia um loop 'while' que continuará enquanto 'k' for menor que 2\n",
    "while k < 2:\n",
    "    # Gera um número aleatório no intervalo de 0 a 100 e atribui-o a 'a'\n",
    "    a = random.randint(0, 100)\n",
    "    \n",
    "    # Verifica se 'a' é igual a 25\n",
    "    if a == 25:\n",
    "        # Se 'a' for igual a 25, imprime uma mensagem indicando isso\n",
    "        print(f'{a} impresso aqui')\n",
    "        \n",
    "        # Incrementa 'k' em 1 para contar o número de vezes que 25 foi gerado\n",
    "        k = k + 1\n",
    "    else:\n",
    "        # Se 'a' não for igual a 25, imprime o valor de 'a'\n",
    "        print(a)"
   ]
  },
  {
   "cell_type": "code",
   "execution_count": null,
   "id": "4952f1f0",
   "metadata": {},
   "outputs": [],
   "source": [
    "# c)\n",
    "\n",
    "# Importa o módulo random\n",
    "import random\n",
    "\n",
    "# Inicializa duas listas vazias, 'lista_25' e 'lista_50'\n",
    "lista_25 = []\n",
    "lista_50 = []\n",
    "\n",
    "# Inicia um loop 'while' que continuará enquanto o tamanho da 'lista_25' for menor ou igual ao tamanho da 'lista_50'\n",
    "while len(lista_25) <= len(lista_50):\n",
    "    # Gera um número aleatório no intervalo de 0 a 100 e atribui-o a 'a'\n",
    "    a = random.randint(0, 100)\n",
    "    \n",
    "    # Verifica se 'a' é igual a 25 ou igual a 50\n",
    "    if (a == 25) or (a == 50):\n",
    "        # Se 'a' for igual a 25 ou igual a 50, imprime uma mensagem indicando isso\n",
    "        print(f'{a} impresso aqui')\n",
    "        \n",
    "        # Se 'a' for igual a 25, adiciona 25 à 'lista_25'\n",
    "        if a == 25:\n",
    "            lista_25.append(25)\n",
    "        # Se 'a' for igual a 50, adiciona 50 à 'lista_50'\n",
    "        else:\n",
    "            lista_50.append(50)\n",
    "    else:\n",
    "        # Se 'a' não for igual a 25 nem igual a 50, imprime o valor de 'a'\n",
    "        print(a)\n"
   ]
  }
 ],
 "metadata": {
  "kernelspec": {
   "display_name": "Python 3 (ipykernel)",
   "language": "python",
   "name": "python3"
  },
  "language_info": {
   "codemirror_mode": {
    "name": "ipython",
    "version": 3
   },
   "file_extension": ".py",
   "mimetype": "text/x-python",
   "name": "python",
   "nbconvert_exporter": "python",
   "pygments_lexer": "ipython3",
   "version": "3.11.5"
  },
  "varInspector": {
   "cols": {
    "lenName": 16,
    "lenType": 16,
    "lenVar": 40
   },
   "kernels_config": {
    "python": {
     "delete_cmd_postfix": "",
     "delete_cmd_prefix": "del ",
     "library": "var_list.py",
     "varRefreshCmd": "print(var_dic_list())"
    },
    "r": {
     "delete_cmd_postfix": ") ",
     "delete_cmd_prefix": "rm(",
     "library": "var_list.r",
     "varRefreshCmd": "cat(var_dic_list()) "
    }
   },
   "types_to_exclude": [
    "module",
    "function",
    "builtin_function_or_method",
    "instance",
    "_Feature"
   ],
   "window_display": false
  }
 },
 "nbformat": 4,
 "nbformat_minor": 5
}
