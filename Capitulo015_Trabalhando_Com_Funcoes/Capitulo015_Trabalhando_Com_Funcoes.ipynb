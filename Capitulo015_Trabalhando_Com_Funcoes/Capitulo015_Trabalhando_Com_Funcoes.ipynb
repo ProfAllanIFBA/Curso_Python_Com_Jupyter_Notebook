{
 "cells": [
  {
   "cell_type": "markdown",
   "id": "b42396bc",
   "metadata": {},
   "source": [
    "<center> <img src=\"logo_ifba.jpg\" alt=\"jpg_python\" width=\"100\" height=\"\"> </center>\n",
    "<br><br>\n",
    "<center> <img src=\"logo_coext.jpg\" alt=\"jpg_python\" width=\"200\" height=\"\"> </center>\n",
    "<br><br>\n",
    "<center><div style=\"text-align:center\">    <a href=\"https://colab.research.google.com/github/ProfAllanIFBA/Curso_Python_Com_Jupyter_Notebook/blob/main/Capitulo015_Trabalhando_Com_Funcoes/Capitulo015_Trabalhando_Com_Funcoes.ipynb\">Link Colab</a> \n",
    "</div><br><br></center>\n",
    "<div align=\"center\"><span style=\"font-size: 26px;\"><strong>Python Com Jupyter Notebook</strong></span></div><br><br>\n",
    "<center> <img src=\"python_gif.gif\" alt=\"gif_python\" width=\"80\"> </center>"
   ]
  },
  {
   "cell_type": "markdown",
   "id": "279d8589",
   "metadata": {},
   "source": [
    "Este material apresenta uma explicação detalhada sobre o uso do software de programação em Python chamado Jupyter Notebook, com foco na análise de dados. Abordaremos desde estruturas básicas, como listas e dicionários, até estruturas mais complexas voltadas para a análise de dados, como pandas e seaborn, além de ferramentas destinadas à inteligência artificial.\n",
    "\n",
    "\n",
    "<font color='red'> <u>Este é um material de uso público e totalmente gratuito</u>. Contudo, eventuais edições são de responsabilidade de quem as fizer. </font>\n",
    "\n",
    "Você pode ajudar a melhorar este material!\n",
    "\n",
    "Contato e Sugestões: allansoares@ifba.edu.br.\n",
    "\n",
    "[**Equipe Executora**](https://github.com/ProfAllanIFBA/Curso_Python_Com_Jupyter_Notebook/blob/main/Capitulo000_Equipe/Capitulo000_Equipe.ipynb)"
   ]
  },
  {
   "cell_type": "markdown",
   "id": "23aff460",
   "metadata": {},
   "source": [
    "### <center> <font color='red'> Vídeo Aulas <img src=\"youtube.gif\" alt=\"jpg_python\" width=\"100\" height=\"\"> </font> </center>"
   ]
  },
  {
   "cell_type": "markdown",
   "id": "b6bdcc1f",
   "metadata": {},
   "source": [
    "[Trabalhando Com Funções em Python](https://youtu.be/-BgBdqozp-g)\n",
    "\n",
    "[Definindo Uma Função Usando a Palavra Chave def em Python - Parte 1](https://youtu.be/260aD9pdUjs)\n",
    "\n",
    "[Definindo Uma Funcao Usando a Palavra Chave def em Python - Parte 2](https://youtu.be/JNknIRzpScg)\n",
    "\n",
    "[Definindo Uma Função Usando a Palavra Chave lambda em Python](https://youtu.be/fUYE15TGM7o)\n",
    "\n",
    "[Funções Compostas em Python](https://youtu.be/fLx5fnH2UI8)\n",
    "\n",
    "[Funções Reutilizáveis em Python](https://youtu.be/6sm1xDuOjgU)\n",
    "\n",
    "[Variáveis Locais e Variáveis Globais em Python](https://youtu.be/QbNmdnocJOg)"
   ]
  },
  {
   "cell_type": "markdown",
   "id": "c0c4b8a6",
   "metadata": {},
   "source": [
    "<div style=\"border: 2px solid black; padding: 10px; width: 100%; background-color: lightgray; display: flex; align-items: center;\">\n",
    "    <h1 style=\"color: red; text-align: center; margin: auto;\">\n",
    "        Capítulo 15 - Trabalhando Com Funções\n",
    "    </h1>\n",
    "</div>\n",
    "\n",
    "<font color='red'></font>\n",
    "<a href=\"\"></a>"
   ]
  },
  {
   "cell_type": "markdown",
   "id": "906103c3",
   "metadata": {},
   "source": [
    "<u>Funções</u> em Python são blocos de código reutilizáveis que realizam uma tarefa específica. Elas permitem que você organize e estruture seu código de maneira eficiente, evitando repetições desnecessárias. É útil pensar em uma função como uma máquina que recebe algumas <font color='green'>**entradas**</font>, realiza algum <font color='red'>**processo**</font> nessas entradas e então produz uma <font color='green'>**saída**</font>. Isso pode ser ilustrado como:\n",
    "![esquema-função](img1_cap15.jpg)\n",
    "\n",
    "  \n"
   ]
  },
  {
   "cell_type": "markdown",
   "id": "92b17444",
   "metadata": {},
   "source": [
    "##\n",
    "<div style=\"margin-top: -20px;\">\n",
    "<hr style=\"border: 2px solid blue;\">\n",
    "\n",
    "<font color='blue'><span style=\"font-size: 22px;\"><strong>15.1 Funções Utilizadas Anteriormente</strong></span></font>\n",
    "\n",
    "<hr style=\"border: 2px solid blue;\">\n",
    "</div>"
   ]
  },
  {
   "cell_type": "markdown",
   "id": "7eaaf588",
   "metadata": {},
   "source": [
    "Durante os capítulos passados, por muitas vezes, fizemos uso de funções disponíveis no próprio software Python. Vejamos algumas:"
   ]
  },
  {
   "cell_type": "markdown",
   "id": "fbe56a3a",
   "metadata": {},
   "source": [
    "#### *Exemplo: Funções frequentemente utilizadas*"
   ]
  },
  {
   "cell_type": "markdown",
   "id": "d651e59c",
   "metadata": {},
   "source": [
    "##### print()"
   ]
  },
  {
   "cell_type": "code",
   "execution_count": null,
   "id": "a858fa02",
   "metadata": {
    "ExecuteTime": {
     "end_time": "2023-09-22T21:26:48.395723Z",
     "start_time": "2023-09-22T21:26:48.386380Z"
    }
   },
   "outputs": [],
   "source": [
    "# Atribuição de uma string à variável nome\n",
    "nome = 'Allan' # Entrada\n",
    "\n",
    "# Impressão do valor armazenado na variável nome\n",
    "print(nome) # Processo + Saída"
   ]
  },
  {
   "cell_type": "markdown",
   "id": "6dc1f509",
   "metadata": {},
   "source": [
    "##### len()"
   ]
  },
  {
   "cell_type": "code",
   "execution_count": null,
   "id": "7bee0eb8",
   "metadata": {
    "ExecuteTime": {
     "end_time": "2023-09-22T21:26:48.685344Z",
     "start_time": "2023-09-22T21:26:48.680950Z"
    }
   },
   "outputs": [],
   "source": [
    "# Definição de uma tupla com os valores (1, -3, 2)\n",
    "tupla = (1, -3, 2)  # Entrada\n",
    "\n",
    "# Utilização da função len() para obter o tamanho da tupla\n",
    "tamanho = len(tupla) # Parte do processo\n",
    "\n",
    "# Impressão do valor do tamanho da tupla\n",
    "print(tamanho) # Saída       "
   ]
  },
  {
   "cell_type": "code",
   "execution_count": null,
   "id": "25b321c8",
   "metadata": {
    "ExecuteTime": {
     "end_time": "2023-09-22T21:26:48.839846Z",
     "start_time": "2023-09-22T21:26:48.832739Z"
    }
   },
   "outputs": [],
   "source": [
    "len(tupla)"
   ]
  },
  {
   "cell_type": "markdown",
   "id": "bc3e0810",
   "metadata": {
    "ExecuteTime": {
     "end_time": "2023-06-27T11:50:09.364729Z",
     "start_time": "2023-06-27T11:50:09.359730Z"
    }
   },
   "source": [
    "##### dict() e zip()"
   ]
  },
  {
   "cell_type": "code",
   "execution_count": null,
   "id": "1972d37b",
   "metadata": {
    "ExecuteTime": {
     "end_time": "2023-09-22T21:26:49.125236Z",
     "start_time": "2023-09-22T21:26:49.120742Z"
    }
   },
   "outputs": [],
   "source": [
    "# Definição da lista1 com os meses do ano\n",
    "lista1 = [\"Janeiro\", \"Fevereiro\", \"Março\"]  #Entrada 1\n",
    "\n",
    "# Definição da lista2 com valores correspondentes aos meses\n",
    "lista2 = [10, 8, 5]  #Entrada 2\n",
    "\n",
    "# Criação de um dicionário a partir das listas usando a função zip() e dict()\n",
    "dicionario1 = dict(zip(lista1, lista2))  #Parte do processo\n",
    "\n",
    "# Impressão do dicionário criado\n",
    "print(dicionario1)  #Saída\n"
   ]
  },
  {
   "cell_type": "markdown",
   "id": "86c1f3eb",
   "metadata": {},
   "source": [
    "##\n",
    "<div style=\"margin-top: -20px;\">\n",
    "<hr style=\"border: 2px solid blue;\">\n",
    "\n",
    "<font color='blue'><span style=\"font-size: 22px;\"><strong>15.2 Definindo Uma Função</strong></span></font>\n",
    "\n",
    "<hr style=\"border: 2px solid blue;\">\n",
    "</div>"
   ]
  },
  {
   "cell_type": "markdown",
   "id": "3c246212",
   "metadata": {},
   "source": [
    "Em Python, existem principalmente duas formas de definir uma função: usando a palavra-chave <u>def</u> ou usando a palavra-chave <u>lambda</u>."
   ]
  },
  {
   "cell_type": "markdown",
   "id": "71cc39fc",
   "metadata": {},
   "source": [
    "###\n",
    "<div style=\"margin-top: -20px;\">\n",
    "<hr style=\"border: 2px solid blue;\">\n",
    "\n",
    "<font color='blue'><span style=\"font-size: 18px;\"><strong>15.2.1 Definindo Uma Função Usando def</strong></span></font>\n",
    "\n",
    "<hr style=\"border: 2px solid blue;\">\n",
    "</div>"
   ]
  },
  {
   "cell_type": "markdown",
   "id": "897b44e9",
   "metadata": {},
   "source": [
    "Uma das formas mais comuns de se definir uma função em Python é usando a palavra-chave <u>def</u> seguida do nome da função e parênteses (). Dentro dos parênteses, podemos especificar quaisquer parâmetros que a função deve aceitar. Por fim, terminamos a linha com dois pontos **:**. "
   ]
  },
  {
   "cell_type": "markdown",
   "id": "398b08de",
   "metadata": {},
   "source": [
    "#### *Exemplo 1: Função para somar dois números*"
   ]
  },
  {
   "cell_type": "code",
   "execution_count": null,
   "id": "6cb57c3d",
   "metadata": {
    "ExecuteTime": {
     "end_time": "2023-09-22T21:26:52.899936Z",
     "start_time": "2023-09-22T21:26:52.896205Z"
    }
   },
   "outputs": [],
   "source": [
    "# Definição da função soma com dois parâmetros a e b\n",
    "def soma(a, b):\n",
    "    \n",
    "    # Retorno da soma dos parâmetros a e b\n",
    "    return a + b"
   ]
  },
  {
   "cell_type": "code",
   "execution_count": null,
   "id": "27c94762",
   "metadata": {
    "ExecuteTime": {
     "end_time": "2023-09-22T21:26:53.037954Z",
     "start_time": "2023-09-22T21:26:53.033225Z"
    }
   },
   "outputs": [],
   "source": [
    "soma(1,2)"
   ]
  },
  {
   "cell_type": "code",
   "execution_count": null,
   "id": "5e3784a3",
   "metadata": {
    "ExecuteTime": {
     "end_time": "2023-09-22T21:26:53.165171Z",
     "start_time": "2023-09-22T21:26:53.161006Z"
    }
   },
   "outputs": [],
   "source": [
    "# Chamada da função soma com os argumentos 1 e 2\n",
    "# O resultado da soma 1 + 2 é retornado pela função e impresso\n",
    "print(soma(1, 2))"
   ]
  },
  {
   "cell_type": "code",
   "execution_count": null,
   "id": "fbdcd500",
   "metadata": {
    "ExecuteTime": {
     "end_time": "2023-09-22T21:26:53.293472Z",
     "start_time": "2023-09-22T21:26:53.288487Z"
    }
   },
   "outputs": [],
   "source": [
    "soma(1,2)\n",
    "soma(2,3)"
   ]
  },
  {
   "cell_type": "code",
   "execution_count": null,
   "id": "ebdf5888",
   "metadata": {
    "ExecuteTime": {
     "end_time": "2023-09-22T21:26:53.438572Z",
     "start_time": "2023-09-22T21:26:53.434972Z"
    }
   },
   "outputs": [],
   "source": [
    "print(soma(1,2))\n",
    "print(soma(2,3))"
   ]
  },
  {
   "cell_type": "markdown",
   "id": "c33a9f06",
   "metadata": {},
   "source": [
    "#### *Exemplo 2: Função para calcular a potência de um número*"
   ]
  },
  {
   "cell_type": "code",
   "execution_count": null,
   "id": "d27662a3",
   "metadata": {
    "ExecuteTime": {
     "end_time": "2023-09-22T21:26:53.732692Z",
     "start_time": "2023-09-22T21:26:53.728706Z"
    }
   },
   "outputs": [],
   "source": [
    "# Definição da função pot com dois parâmetros a e n\n",
    "def pot(a, n):\n",
    "    \n",
    "    # Cálculo da potência de a elevado a n\n",
    "    p = a ** n\n",
    "    \n",
    "    # Retorno do resultado da potência\n",
    "    return p"
   ]
  },
  {
   "cell_type": "code",
   "execution_count": null,
   "id": "cc9b97c1",
   "metadata": {
    "ExecuteTime": {
     "end_time": "2023-09-22T21:26:53.876540Z",
     "start_time": "2023-09-22T21:26:53.873355Z"
    }
   },
   "outputs": [],
   "source": [
    "# Chamada da função pot com os argumentos 2 e 4\n",
    "# O resultado da potência 2^4 é retornado pela função e armazenado na variável resultado1\n",
    "resultado1 = pot(2, 4)\n",
    "\n",
    "# Impressão do valor armazenado na variável resultado1\n",
    "print(resultado1)"
   ]
  },
  {
   "cell_type": "code",
   "execution_count": null,
   "id": "d8c5f7b8",
   "metadata": {
    "ExecuteTime": {
     "end_time": "2023-09-22T21:26:54.021714Z",
     "start_time": "2023-09-22T21:26:54.017737Z"
    }
   },
   "outputs": [],
   "source": [
    "pot(3, -2)"
   ]
  },
  {
   "cell_type": "code",
   "execution_count": null,
   "id": "09bd3b76",
   "metadata": {
    "ExecuteTime": {
     "end_time": "2023-09-22T21:26:54.175098Z",
     "start_time": "2023-09-22T21:26:54.169999Z"
    }
   },
   "outputs": [],
   "source": [
    "pot(1, 5)"
   ]
  },
  {
   "cell_type": "markdown",
   "id": "7b0467fa",
   "metadata": {},
   "source": [
    "#### *Exemplo 3: Função para calcular as raízes reais de uma equação quadrática*"
   ]
  },
  {
   "cell_type": "code",
   "execution_count": null,
   "id": "e0fe4f3b",
   "metadata": {
    "ExecuteTime": {
     "end_time": "2023-09-22T21:26:54.468778Z",
     "start_time": "2023-09-22T21:26:54.464159Z"
    }
   },
   "outputs": [],
   "source": [
    "# Definição da função bhaskara com três parâmetros a, b e c: a*x**2 + b*x + c = 0\n",
    "def bhaskara(a, b, c):\n",
    "    \n",
    "    # Cálculo do valor de delta utilizando a fórmula de Bhaskara\n",
    "    delta = b ** 2 - 4 * a * c\n",
    "    \n",
    "    # Verificação se o valor de delta é maior ou igual a zero\n",
    "    if delta >= 0:\n",
    "\n",
    "        # Cálculo das raízes utilizando a fórmula de Bhaskara\n",
    "        x1 = (-b - delta ** (1 / 2)) / (2 * a)\n",
    "        x2 = (-b + delta ** (1 / 2)) / (2 * a)\n",
    "        \n",
    "        # Retorno das raízes\n",
    "        return f'As raízes são {x1} e {x2}'\n",
    "    else:\n",
    "        # Retorno de uma mensagem informando que as raízes são complexas\n",
    "        return f'Raízes complexas pois ∆ = {delta} < 0.'"
   ]
  },
  {
   "cell_type": "code",
   "execution_count": null,
   "id": "7b68f7c3",
   "metadata": {
    "ExecuteTime": {
     "end_time": "2023-09-22T21:26:54.636394Z",
     "start_time": "2023-09-22T21:26:54.632700Z"
    }
   },
   "outputs": [],
   "source": [
    "# Chamada da função bhaskara com os argumentos 1, -5, 6\n",
    "# Essa chamada representa a equação x**2 - 5*x + 6 = 0\n",
    "resultado1 = bhaskara(1, -5, 6)\n",
    "print(resultado1)"
   ]
  },
  {
   "cell_type": "code",
   "execution_count": null,
   "id": "b45a2613",
   "metadata": {
    "ExecuteTime": {
     "end_time": "2023-09-22T21:26:55.396341Z",
     "start_time": "2023-09-22T21:26:55.393202Z"
    }
   },
   "outputs": [],
   "source": [
    "# Chamada da função bhaskara com os argumentos 1, 0, 4\n",
    "# Essa chamada representa a equação x**2 + 4 = 0\n",
    "resultado2 = bhaskara(1, 0, 4)\n",
    "print(resultado2)"
   ]
  },
  {
   "cell_type": "code",
   "execution_count": null,
   "id": "7bbf5a8d",
   "metadata": {
    "ExecuteTime": {
     "end_time": "2023-09-22T21:26:55.598012Z",
     "start_time": "2023-09-22T21:26:55.593700Z"
    }
   },
   "outputs": [],
   "source": [
    "# Coeficientes\n",
    "a, b, c = 1, 0, 4\n",
    "\n",
    "# Cálculo do valor de delta utilizando a fórmula de Bhaskara\n",
    "delta = b ** 2 - 4 * a * c\n",
    "    \n",
    "# Verificação se o valor de delta é maior ou igual a zero\n",
    "if delta >= 0:\n",
    "\n",
    "    # Cálculo das raízes utilizando a fórmula de Bhaskara\n",
    "    x1 = (-b - delta ** (1 / 2)) / (2 * a)\n",
    "    x2 = (-b + delta ** (1 / 2)) / (2 * a)\n",
    "        \n",
    "    # Retorno das raízes\n",
    "    print(f'As raízes são {x1} e {x2}')\n",
    "\n",
    "else:\n",
    "    # Retorno de uma mensagem informando que as raízes são complexas\n",
    "    print(f'Raízes complexas pois ∆ = {delta} < 0.')"
   ]
  },
  {
   "cell_type": "markdown",
   "id": "d7cbf8b1",
   "metadata": {},
   "source": [
    "#### *Exemplo 4: Função para imprimir nomes de uma lista*"
   ]
  },
  {
   "cell_type": "code",
   "execution_count": null,
   "id": "e39ee76c",
   "metadata": {
    "ExecuteTime": {
     "end_time": "2023-09-22T21:26:56.308570Z",
     "start_time": "2023-09-22T21:26:56.304009Z"
    }
   },
   "outputs": [],
   "source": [
    "def listagem_nomes():\n",
    "    # Definição da lista de nomes\n",
    "    lista = ['Allan', 'Lara', 'Lucas', 'Osmar']\n",
    "    \n",
    "    # Inicialização do contador\n",
    "    i = 1\n",
    "    \n",
    "    # Loop que itera sobre cada nome na lista\n",
    "    for nome in lista:\n",
    "        # Impressão do número e nome correspondentes\n",
    "        print(f'{i} {nome}')\n",
    "        \n",
    "        # Incremento do contador\n",
    "        i = i + 1"
   ]
  },
  {
   "cell_type": "code",
   "execution_count": null,
   "id": "f2bbc309",
   "metadata": {
    "ExecuteTime": {
     "end_time": "2023-09-22T21:26:56.812798Z",
     "start_time": "2023-09-22T21:26:56.808974Z"
    }
   },
   "outputs": [],
   "source": [
    "# Chamada da função para exibir a listagem de nomes\n",
    "listagem_nomes()"
   ]
  },
  {
   "cell_type": "markdown",
   "id": "790427df",
   "metadata": {},
   "source": [
    "###\n",
    "<div style=\"margin-top: -20px;\">\n",
    "<hr style=\"border: 2px solid blue;\">\n",
    "\n",
    "<font color='blue'><span style=\"font-size: 18px;\"><strong>15.2.2 Definindo Uma Função Usando lambda</strong></span></font>\n",
    "\n",
    "<hr style=\"border: 2px solid blue;\">\n",
    "</div>"
   ]
  },
  {
   "cell_type": "markdown",
   "id": "9c8c4392",
   "metadata": {},
   "source": [
    "As funções <u>lambda</u> são chamadas de <u>funções</u> anônimas porque elas não são definidas com um nome da maneira padrão. Elas são úteis para definir funções pequenas e simples."
   ]
  },
  {
   "cell_type": "markdown",
   "id": "b0ec5d76",
   "metadata": {},
   "source": [
    "#### *Exemplo 1: Função para calcular o quadrado de um número*"
   ]
  },
  {
   "cell_type": "code",
   "execution_count": null,
   "id": "99e82403",
   "metadata": {
    "ExecuteTime": {
     "end_time": "2023-09-22T21:30:49.141616Z",
     "start_time": "2023-09-22T21:30:49.138108Z"
    }
   },
   "outputs": [],
   "source": [
    "# Definição da função lambda que calcula o quadrado de um número\n",
    "quadrado = lambda x: x ** 2"
   ]
  },
  {
   "cell_type": "code",
   "execution_count": null,
   "id": "a3ca19ed",
   "metadata": {
    "ExecuteTime": {
     "end_time": "2023-09-22T21:31:17.710192Z",
     "start_time": "2023-09-22T21:31:17.706221Z"
    }
   },
   "outputs": [],
   "source": [
    "# Chamada da função lambda para calcular o quadrado do número 3\n",
    "resultado = quadrado(3)\n",
    "\n",
    "# Impressão do resultado do cálculo\n",
    "print(resultado)"
   ]
  },
  {
   "cell_type": "code",
   "execution_count": null,
   "id": "f4c24229",
   "metadata": {
    "ExecuteTime": {
     "end_time": "2023-09-22T21:31:30.213767Z",
     "start_time": "2023-09-22T21:31:30.208704Z"
    }
   },
   "outputs": [],
   "source": [
    "quadrado(4)"
   ]
  },
  {
   "cell_type": "markdown",
   "id": "217fb9df",
   "metadata": {},
   "source": [
    "#### *Exemplo 2: Função para imprimir a primeiro caractere de uma string*"
   ]
  },
  {
   "cell_type": "code",
   "execution_count": null,
   "id": "cf8849b5",
   "metadata": {
    "ExecuteTime": {
     "end_time": "2023-09-22T21:32:47.615264Z",
     "start_time": "2023-09-22T21:32:47.611237Z"
    }
   },
   "outputs": [],
   "source": [
    "# Definição da função lambda que retorna o primeiro caractere de uma string\n",
    "primeira_letra = lambda string: string[0]"
   ]
  },
  {
   "cell_type": "code",
   "execution_count": null,
   "id": "138ac584",
   "metadata": {
    "ExecuteTime": {
     "end_time": "2023-09-22T21:33:06.405619Z",
     "start_time": "2023-09-22T21:33:06.402087Z"
    }
   },
   "outputs": [],
   "source": [
    "# Chamada da função lambda para obter o primeiro caractere da string \"Allan\"\n",
    "resultado = primeira_letra('Allan')\n",
    "\n",
    "# Impressão do resultado\n",
    "print(resultado)"
   ]
  },
  {
   "cell_type": "markdown",
   "id": "f75a4896",
   "metadata": {},
   "source": [
    "#### *Exemplo 3: Função que calcula o montante resultante de uma aplicação a juros compostos*"
   ]
  },
  {
   "cell_type": "code",
   "execution_count": null,
   "id": "77f56345",
   "metadata": {
    "ExecuteTime": {
     "end_time": "2023-09-23T13:39:00.703013Z",
     "start_time": "2023-09-23T13:39:00.694753Z"
    }
   },
   "outputs": [],
   "source": [
    "# Definição da função lambda que calcula o montante de um investimento\n",
    "M = lambda C, i, t: C * (1 + i) ** t"
   ]
  },
  {
   "cell_type": "code",
   "execution_count": null,
   "id": "22452540",
   "metadata": {
    "ExecuteTime": {
     "end_time": "2023-09-23T13:39:00.883776Z",
     "start_time": "2023-09-23T13:39:00.879129Z"
    }
   },
   "outputs": [],
   "source": [
    "# Definição das variáveis C, i e t com seus respectivos valores\n",
    "C, i, t = 100, 0.1, 3\n",
    "\n",
    "# Chamada da função lambda para calcular o montante\n",
    "montante = M(C, i, t)\n",
    "\n",
    "# Impressão do resultado do cálculo\n",
    "print(round(montante,2))"
   ]
  },
  {
   "cell_type": "code",
   "execution_count": null,
   "id": "ec8cb32b",
   "metadata": {
    "ExecuteTime": {
     "end_time": "2023-09-23T13:39:01.043036Z",
     "start_time": "2023-09-23T13:39:01.038889Z"
    }
   },
   "outputs": [],
   "source": [
    "for t in range(1,4):\n",
    "    print(round(M(C, i, t),2))"
   ]
  },
  {
   "cell_type": "markdown",
   "id": "c7f0d940",
   "metadata": {},
   "source": [
    "##\n",
    "<div style=\"margin-top: -20px;\">\n",
    "<hr style=\"border: 2px solid blue;\">\n",
    "\n",
    "<font color='blue'><span style=\"font-size: 22px;\"><strong>15.3 Composição de Funções</strong></span></font>\n",
    "\n",
    "<hr style=\"border: 2px solid blue;\">\n",
    "</div>"
   ]
  },
  {
   "cell_type": "markdown",
   "id": "d2d6a5f9",
   "metadata": {},
   "source": [
    "Apresentaremos mais alguns exeplos envolvendo funções compostas. Neste caso, teremos um processo no qual a saída de uma função serve de entrada para outra, que por sua vez poderá servir de entrada para outra até resultar em uma saída final.\n",
    "\n",
    "![esquema-função](img2_cap15.jpg)"
   ]
  },
  {
   "cell_type": "markdown",
   "id": "8804404d",
   "metadata": {},
   "source": [
    "#### *Exemplo 1: Utilizando funções compostas*"
   ]
  },
  {
   "cell_type": "code",
   "execution_count": null,
   "id": "1c0890e6",
   "metadata": {
    "ExecuteTime": {
     "end_time": "2023-09-23T13:42:29.151538Z",
     "start_time": "2023-09-23T13:42:29.147451Z"
    }
   },
   "outputs": [],
   "source": [
    "# Definição da função f que retorna o quadrado de um número\n",
    "def f(x):\n",
    "    return x ** 2\n",
    "\n",
    "# Definição da função g que retorna o inverso de um número\n",
    "def g(x):\n",
    "    return 1 / x\n",
    "\n",
    "# Definição da função h que retorna o dobro de um número mais 2\n",
    "def h(x):\n",
    "    return 2 * x + 2"
   ]
  },
  {
   "cell_type": "code",
   "execution_count": null,
   "id": "b4b7f9d5",
   "metadata": {
    "ExecuteTime": {
     "end_time": "2023-09-23T13:43:36.358419Z",
     "start_time": "2023-09-23T13:43:36.354055Z"
    }
   },
   "outputs": [],
   "source": [
    "# Impressão do resultado de f(g(2))\n",
    "print(f(g(2)))"
   ]
  },
  {
   "cell_type": "code",
   "execution_count": null,
   "id": "fc15ccec",
   "metadata": {
    "ExecuteTime": {
     "end_time": "2023-09-23T13:44:09.757717Z",
     "start_time": "2023-09-23T13:44:09.754649Z"
    }
   },
   "outputs": [],
   "source": [
    "# Impressão do resultado de f(g(h(3)))\n",
    "print(f(g(h(3))))"
   ]
  },
  {
   "cell_type": "code",
   "execution_count": null,
   "id": "9c80e25c",
   "metadata": {
    "ExecuteTime": {
     "end_time": "2023-09-23T13:44:31.109752Z",
     "start_time": "2023-09-23T13:44:31.105414Z"
    }
   },
   "outputs": [],
   "source": [
    "print(1/64)"
   ]
  },
  {
   "cell_type": "code",
   "execution_count": null,
   "id": "fbc89ee6",
   "metadata": {
    "ExecuteTime": {
     "end_time": "2023-09-23T13:44:49.642791Z",
     "start_time": "2023-09-23T13:44:48.858566Z"
    }
   },
   "outputs": [],
   "source": [
    "# Impressão do resultado de g(f(h(-1)))\n",
    "print(g(f(h(-1))))"
   ]
  },
  {
   "cell_type": "markdown",
   "id": "284eb534",
   "metadata": {},
   "source": [
    "#### *Exemplo 2: Expressão composta recorrente a partir de uma função*"
   ]
  },
  {
   "cell_type": "code",
   "execution_count": null,
   "id": "56921815",
   "metadata": {
    "ExecuteTime": {
     "end_time": "2023-09-23T13:59:01.080599Z",
     "start_time": "2023-09-23T13:59:01.071909Z"
    }
   },
   "outputs": [],
   "source": [
    "# Definição da função formula que realiza a operação a + b^2\n",
    "def formula(a, b):\n",
    "    return a + b ** 2"
   ]
  },
  {
   "cell_type": "code",
   "execution_count": null,
   "id": "df717e66",
   "metadata": {
    "ExecuteTime": {
     "end_time": "2023-09-23T13:59:01.268952Z",
     "start_time": "2023-09-23T13:59:01.263243Z"
    }
   },
   "outputs": [],
   "source": [
    "# Cálculo do resultado1 a partir de formula(a,b)\n",
    "resultado1 = formula(1, 2) - 2 * formula(1, -1) # 1 + 2**2 - 2*(1 + (-1)**2) = 5 - 2*2 = 1\n",
    "\n",
    "# Impressão do resultado1\n",
    "print(resultado1)"
   ]
  },
  {
   "cell_type": "code",
   "execution_count": null,
   "id": "fe2b0b7c",
   "metadata": {
    "ExecuteTime": {
     "end_time": "2023-09-23T13:59:01.843419Z",
     "start_time": "2023-09-23T13:59:01.839870Z"
    }
   },
   "outputs": [],
   "source": [
    "# Cálculo do resultado2 a partir de formula(a,b)\n",
    "resultado2 = formula(formula(3, 1) ** 2, formula(2, 2))\n",
    "\n",
    "# Impressão do resultado2\n",
    "print(resultado2)"
   ]
  },
  {
   "cell_type": "markdown",
   "id": "ace79fcf",
   "metadata": {},
   "source": [
    "###\n",
    "<div style=\"margin-top: -20px;\">\n",
    "<hr style=\"border: 2px solid blue;\">\n",
    "\n",
    "<font color='blue'><span style=\"font-size: 18px;\"><strong>15.3.1 Funções Reutilizáveis</strong></span></font>\n",
    "\n",
    "<hr style=\"border: 2px solid blue;\">\n",
    "</div>"
   ]
  },
  {
   "cell_type": "markdown",
   "id": "212d8051",
   "metadata": {},
   "source": [
    "#### *Exemplo: Funções com saída impressa*"
   ]
  },
  {
   "cell_type": "code",
   "execution_count": null,
   "id": "a25746e1",
   "metadata": {
    "ExecuteTime": {
     "end_time": "2023-09-23T14:02:10.037959Z",
     "start_time": "2023-09-23T14:02:10.033401Z"
    }
   },
   "outputs": [],
   "source": [
    "# Definição da função div que realiza a divisão de a por b\n",
    "def div(a, b):\n",
    "    return a / b\n",
    "\n",
    "# Definição da função prod que imprime o resultado da multiplicação de a por b\n",
    "def prod(a, b):\n",
    "    return print(a * b)"
   ]
  },
  {
   "cell_type": "code",
   "execution_count": null,
   "id": "895334dd",
   "metadata": {
    "ExecuteTime": {
     "end_time": "2023-09-23T14:02:23.936379Z",
     "start_time": "2023-09-23T14:02:23.928994Z"
    }
   },
   "outputs": [],
   "source": [
    "div(6,3)"
   ]
  },
  {
   "cell_type": "code",
   "execution_count": null,
   "id": "619a115f",
   "metadata": {
    "ExecuteTime": {
     "end_time": "2023-09-23T14:02:36.932596Z",
     "start_time": "2023-09-23T14:02:36.928450Z"
    }
   },
   "outputs": [],
   "source": [
    "prod(4,3)"
   ]
  },
  {
   "cell_type": "code",
   "execution_count": null,
   "id": "515971a1",
   "metadata": {
    "ExecuteTime": {
     "end_time": "2023-09-23T14:02:53.657468Z",
     "start_time": "2023-09-23T14:02:52.885286Z"
    }
   },
   "outputs": [],
   "source": [
    "# Cálculo do resultado utilizando as funções div e prod\n",
    "resultado = div(6, 3) + prod(4, 3)\n",
    "\n",
    "# Impressão do resultado\n",
    "print(resultado)    "
   ]
  },
  {
   "cell_type": "markdown",
   "id": "223d4060",
   "metadata": {},
   "source": [
    "Note que o erro se deve ao fato de estarmos somando duas variáveis de tipos diferentes <u>float</u> e <u>NoneType</u> (esta última advinda do print após os return). Portanto, evite colocar print diretamente na função caso queira utilizar seu resultado futuramente. E, além disso, esteja ciente do tipo de saída."
   ]
  },
  {
   "cell_type": "code",
   "execution_count": null,
   "id": "97c27c4d",
   "metadata": {
    "ExecuteTime": {
     "end_time": "2023-09-23T14:04:40.255800Z",
     "start_time": "2023-09-23T14:04:40.252129Z"
    }
   },
   "outputs": [],
   "source": [
    "print(type(div(6,3)))\n",
    "print(type(prod(4,3)))"
   ]
  },
  {
   "cell_type": "markdown",
   "id": "00039d9c",
   "metadata": {},
   "source": [
    "Neste caso, para consertar as coisas, podemos retirar o print da saída da função prod(a,b)."
   ]
  },
  {
   "cell_type": "code",
   "execution_count": null,
   "id": "8cb6950d",
   "metadata": {
    "ExecuteTime": {
     "end_time": "2023-09-23T14:31:35.588512Z",
     "start_time": "2023-09-23T14:31:35.581137Z"
    }
   },
   "outputs": [],
   "source": [
    "# Definição da função div que realiza a divisão de a por b\n",
    "def div(a, b):\n",
    "    return a / b\n",
    "\n",
    "# Definição da função prod que imprime o resultado da multiplicação de a por b\n",
    "def prod(a, b):\n",
    "    return a*b"
   ]
  },
  {
   "cell_type": "code",
   "execution_count": null,
   "id": "31c0ebcb",
   "metadata": {
    "ExecuteTime": {
     "end_time": "2023-09-23T14:31:35.813491Z",
     "start_time": "2023-09-23T14:31:35.807064Z"
    }
   },
   "outputs": [],
   "source": [
    "# Cálculo do resultado utilizando as funções div e prod\n",
    "resultado = div(6,3) + prod(4,3)\n",
    "print(resultado)"
   ]
  },
  {
   "cell_type": "markdown",
   "id": "3cc7d34a",
   "metadata": {},
   "source": [
    "##\n",
    "<div style=\"margin-top: -20px;\">\n",
    "<hr style=\"border: 2px solid blue;\">\n",
    "\n",
    "<font color='blue'><span style=\"font-size: 22px;\"><strong>15.4 Variáveis Locais e Variáveis Globais</strong></span></font>\n",
    "\n",
    "<hr style=\"border: 2px solid blue;\">\n",
    "</div>"
   ]
  },
  {
   "cell_type": "markdown",
   "id": "c7c0d82d",
   "metadata": {},
   "source": [
    "Variáveis em Python podem ser categorizadas como locais ou globais, dependendo de onde são definidas e como são acessadas."
   ]
  },
  {
   "cell_type": "markdown",
   "id": "e9819dc5",
   "metadata": {},
   "source": [
    "###\n",
    "<div style=\"margin-top: -20px;\">\n",
    "<hr style=\"border: 2px solid blue;\">\n",
    "\n",
    "<font color='blue'><span style=\"font-size: 18px;\"><strong>15.4.1 Variáveis Locais</strong></span></font>\n",
    "\n",
    "<hr style=\"border: 2px solid blue;\">\n",
    "</div>"
   ]
  },
  {
   "cell_type": "markdown",
   "id": "c4de86bd",
   "metadata": {},
   "source": [
    "<u>Variáveis locais</u> são aquelas definidas dentro de uma função. Elas só podem ser acessadas dentro dessa função, ou seja, o seu escopo é limitado à função em que são declaradas. Uma vez que a execução da função é concluída, a variável local é destruída e seu valor não é mais acessível."
   ]
  },
  {
   "cell_type": "markdown",
   "id": "4d2115e4",
   "metadata": {},
   "source": [
    "#### *Exemplo: Entendendo uma variável local*"
   ]
  },
  {
   "cell_type": "code",
   "execution_count": null,
   "id": "c84b22ed",
   "metadata": {
    "ExecuteTime": {
     "end_time": "2023-09-23T14:33:11.257867Z",
     "start_time": "2023-09-23T14:33:11.254172Z"
    }
   },
   "outputs": [],
   "source": [
    "# Definição da função minha_funcao\n",
    "def minha_funcao():\n",
    "    \n",
    "    # A variável variavel_local recebe a string \"Eu sou local!\"\n",
    "    variavel_local = \"Variável local!\"\n",
    "    \n",
    "    # O valor da variável local é impresso\n",
    "    print(variavel_local)"
   ]
  },
  {
   "cell_type": "code",
   "execution_count": null,
   "id": "81721f9a",
   "metadata": {
    "ExecuteTime": {
     "end_time": "2023-09-23T14:33:18.009948Z",
     "start_time": "2023-09-23T14:33:18.006209Z"
    }
   },
   "outputs": [],
   "source": [
    "# Chamada da função minha_funcao\n",
    "minha_funcao()"
   ]
  },
  {
   "cell_type": "code",
   "execution_count": null,
   "id": "8c9bb107",
   "metadata": {
    "ExecuteTime": {
     "end_time": "2023-09-23T14:33:30.515193Z",
     "start_time": "2023-09-23T14:33:29.758005Z"
    }
   },
   "outputs": [],
   "source": [
    "# Tentativa de imprimir uma variável local\n",
    "print(variavel_local)"
   ]
  },
  {
   "cell_type": "markdown",
   "id": "ec24c35a",
   "metadata": {},
   "source": [
    "###\n",
    "<div style=\"margin-top: -20px;\">\n",
    "<hr style=\"border: 2px solid blue;\">\n",
    "\n",
    "<font color='blue'><span style=\"font-size: 18px;\"><strong>15.4.2 Variáveis Globais</strong></span></font>\n",
    "\n",
    "<hr style=\"border: 2px solid blue;\">\n",
    "</div>"
   ]
  },
  {
   "cell_type": "markdown",
   "id": "9a8e9e8f",
   "metadata": {},
   "source": [
    "<u>Variáveis globais</u>, por outro lado, são definidas fora de todas as funções. Elas podem ser acessadas e modificadas de qualquer lugar do código, dentro ou fora das funções. Contudo, para modificá-las dentro de uma função, você precisa declarar a variável como global dentro dessa função usando a palavra-chave global. "
   ]
  },
  {
   "cell_type": "markdown",
   "id": "f20d78ab",
   "metadata": {},
   "source": [
    "#### *Exemplo 1: Variável global inalterada por ação de uma função*"
   ]
  },
  {
   "cell_type": "code",
   "execution_count": null,
   "id": "c8159cba",
   "metadata": {
    "ExecuteTime": {
     "end_time": "2023-09-23T14:35:01.164508Z",
     "start_time": "2023-09-23T14:35:01.159928Z"
    }
   },
   "outputs": [],
   "source": [
    "# Definição da variável global\n",
    "variavel_global = \"Variável global\"\n",
    "\n",
    "# Definição da função minha_funcao\n",
    "def minha_funcao():\n",
    "    # Declarando a variável global dentro da função\n",
    "    variavel_global = \"Será que modificou a global?\"\n",
    "    print(variavel_global)"
   ]
  },
  {
   "cell_type": "markdown",
   "id": "4c9e74c7",
   "metadata": {},
   "source": [
    "Repare na ordem a seguir!"
   ]
  },
  {
   "cell_type": "code",
   "execution_count": null,
   "id": "bcc5431d",
   "metadata": {
    "ExecuteTime": {
     "end_time": "2023-09-23T14:35:09.593670Z",
     "start_time": "2023-09-23T14:35:09.589588Z"
    }
   },
   "outputs": [],
   "source": [
    "# Imprimindo o valor inicial da variável global\n",
    "print(variavel_global)"
   ]
  },
  {
   "cell_type": "code",
   "execution_count": null,
   "id": "a3f0d1b8",
   "metadata": {
    "ExecuteTime": {
     "end_time": "2023-09-23T14:35:21.554114Z",
     "start_time": "2023-09-23T14:35:21.549991Z"
    }
   },
   "outputs": [],
   "source": [
    "# Chamando a função minha_funcao\n",
    "minha_funcao()"
   ]
  },
  {
   "cell_type": "code",
   "execution_count": null,
   "id": "349003ee",
   "metadata": {
    "ExecuteTime": {
     "end_time": "2023-09-23T14:35:43.834179Z",
     "start_time": "2023-09-23T14:35:43.830180Z"
    }
   },
   "outputs": [],
   "source": [
    "# Imprimindo o valor atualizado da variável global\n",
    "print(variavel_global)"
   ]
  },
  {
   "cell_type": "markdown",
   "id": "e9d0dc5e",
   "metadata": {},
   "source": [
    "Em geral, recomenda-se minimizar o uso de variáveis globais sempre que possível, pois o uso excessivo pode levar a problemas de manutenção de código e a bugs, especialmente em programas maiores e mais complexos. Isso ocorre porque as variáveis globais podem ser alteradas de qualquer lugar do código, o que pode tornar difícil rastrear onde e quando os valores estão sendo modificados. Em vez disso, é geralmente melhor passar variáveis como argumentos para funções ou usar estruturas de dados para agrupar variáveis relacionadas."
   ]
  },
  {
   "cell_type": "markdown",
   "id": "8b58e77d",
   "metadata": {},
   "source": [
    "A palavra-chave <u>global</u> em Python é usada para indicar que uma variável é global, ou seja, ela não está confinada ao escopo local de uma função, mas pode ser acessada e modificada em qualquer lugar do código. Vejamos o código anterior com a palavra chave global."
   ]
  },
  {
   "cell_type": "markdown",
   "id": "39a8b3c3",
   "metadata": {},
   "source": [
    "#### *Exemplo 2:  Variável global alterada por ação de uma função*"
   ]
  },
  {
   "cell_type": "code",
   "execution_count": null,
   "id": "e9b2cc37",
   "metadata": {
    "ExecuteTime": {
     "end_time": "2023-09-23T14:37:45.547457Z",
     "start_time": "2023-09-23T14:37:45.543125Z"
    }
   },
   "outputs": [],
   "source": [
    "# Definição da variável global\n",
    "variavel_global = \"Variável global!\"\n",
    "\n",
    "# Definição da função minha_funcao\n",
    "def minha_funcao():\n",
    "    \n",
    "    # Declarando a variável global dentro da função\n",
    "    global variavel_global\n",
    "    \n",
    "    # Modificando o valor da variável global\n",
    "    variavel_global = \"Variável global modificada.\"\n",
    "    \n",
    "    print(variavel_global)"
   ]
  },
  {
   "cell_type": "code",
   "execution_count": null,
   "id": "3a9229ff",
   "metadata": {
    "ExecuteTime": {
     "end_time": "2023-09-23T14:38:02.106948Z",
     "start_time": "2023-09-23T14:38:02.103124Z"
    }
   },
   "outputs": [],
   "source": [
    "# Imprimindo o valor inicial da variável global\n",
    "print(variavel_global)"
   ]
  },
  {
   "cell_type": "code",
   "execution_count": null,
   "id": "54d41c08",
   "metadata": {
    "ExecuteTime": {
     "end_time": "2023-09-23T14:38:08.442189Z",
     "start_time": "2023-09-23T14:38:08.437900Z"
    }
   },
   "outputs": [],
   "source": [
    "# Chamando a função minha_funcao\n",
    "minha_funcao()"
   ]
  },
  {
   "cell_type": "markdown",
   "id": "467cc1af",
   "metadata": {},
   "source": [
    "Será que a variável global foi mesmo modificada?"
   ]
  },
  {
   "cell_type": "code",
   "execution_count": null,
   "id": "ed226928",
   "metadata": {
    "ExecuteTime": {
     "end_time": "2023-09-23T14:38:27.602401Z",
     "start_time": "2023-09-23T14:38:27.599261Z"
    }
   },
   "outputs": [],
   "source": [
    "# Imprimindo o valor atualizado da variável global\n",
    "print(variavel_global)"
   ]
  }
 ],
 "metadata": {
  "kernelspec": {
   "display_name": "Python 3 (ipykernel)",
   "language": "python",
   "name": "python3"
  },
  "language_info": {
   "codemirror_mode": {
    "name": "ipython",
    "version": 3
   },
   "file_extension": ".py",
   "mimetype": "text/x-python",
   "name": "python",
   "nbconvert_exporter": "python",
   "pygments_lexer": "ipython3",
   "version": "3.11.5"
  },
  "varInspector": {
   "cols": {
    "lenName": 16,
    "lenType": 16,
    "lenVar": 40
   },
   "kernels_config": {
    "python": {
     "delete_cmd_postfix": "",
     "delete_cmd_prefix": "del ",
     "library": "var_list.py",
     "varRefreshCmd": "print(var_dic_list())"
    },
    "r": {
     "delete_cmd_postfix": ") ",
     "delete_cmd_prefix": "rm(",
     "library": "var_list.r",
     "varRefreshCmd": "cat(var_dic_list()) "
    }
   },
   "types_to_exclude": [
    "module",
    "function",
    "builtin_function_or_method",
    "instance",
    "_Feature"
   ],
   "window_display": false
  }
 },
 "nbformat": 4,
 "nbformat_minor": 5
}
