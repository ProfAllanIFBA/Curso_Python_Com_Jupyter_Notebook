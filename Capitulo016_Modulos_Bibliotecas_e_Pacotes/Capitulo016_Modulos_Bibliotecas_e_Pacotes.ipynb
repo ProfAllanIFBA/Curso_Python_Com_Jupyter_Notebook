{
 "cells": [
  {
   "cell_type": "markdown",
   "id": "b42396bc",
   "metadata": {},
   "source": [
    "<center> <img src=\"logo_ifba.jpg\" alt=\"jpg_python\" width=\"100\" height=\"\"> </center>\n",
    "<br><br>\n",
    "<center> <img src=\"logo_coext.jpg\" alt=\"jpg_python\" width=\"200\" height=\"\"> </center>\n",
    "<br><br>\n",
    "<center><div style=\"text-align:center\">    <a href=\"https://colab.research.google.com/github/ProfAllanIFBA/Curso_Python_Com_Jupyter_Notebook/blob/main/Capitulo016_Modulos_Bibliotecas_e_Pacotes/Capitulo016_Modulos_Bibliotecas_e_Pacotes.ipynb\">Link Colab</a> \n",
    "</div><br><br></center>\n",
    "<div align=\"center\"><span style=\"font-size: 26px;\"><strong>Python Com Jupyter Notebook</strong></span></div><br><br>\n",
    "<center> <img src=\"python_gif.gif\" alt=\"gif_python\" width=\"80\"> </center>"
   ]
  },
  {
   "cell_type": "markdown",
   "id": "7bd9ae4d",
   "metadata": {},
   "source": [
    "Este material apresenta uma explicação detalhada sobre o uso do software de programação em Python chamado Jupyter Notebook, com foco na análise de dados. Abordaremos desde estruturas básicas, como listas e dicionários, até estruturas mais complexas voltadas para a análise de dados, como pandas e seaborn, além de ferramentas destinadas à inteligência artificial.\n",
    "\n",
    "\n",
    "<font color='red'> <u>Este é um material de uso público e totalmente gratuito</u>. Contudo, eventuais edições são de responsabilidade de quem as fizer. </font>\n",
    "\n",
    "Você pode ajudar a melhorar este material!\n",
    "\n",
    "Contato e Sugestões: allansoares@ifba.edu.br.\n",
    "\n",
    "[**Equipe Executora**](https://github.com/ProfAllanIFBA/Curso_Python_Com_Jupyter_Notebook/blob/main/Capitulo000_Equipe/Capitulo000_Equipe.ipynb)"
   ]
  },
  {
   "cell_type": "markdown",
   "id": "db9e6c5c",
   "metadata": {},
   "source": [
    "### <center> <font color='red'> Vídeo Aulas <img src=\"youtube.gif\" alt=\"jpg_python\" width=\"100\" height=\"\"> </font> </center>"
   ]
  },
  {
   "cell_type": "markdown",
   "id": "13b5d87f",
   "metadata": {},
   "source": [
    "[Modulos em Python  - Parte 1](https://youtu.be/nSZ05GE2S5Y)\n",
    "\n",
    "[Modulos em Python  - Parte 2](https://youtu.be/Nj0BjxRnnYo)\n",
    "\n",
    "[Bibliotecas em Python - Parte 1](https://youtu.be/pIHH6sAdpbA)\n",
    "\n",
    "[Bibliotecas em Python - Parte 2](https://youtu.be/znpXlITVEJQ)\n",
    "\n",
    "[Importação de Funções Específicas em Python](https://youtu.be/ax7xjVbTLIs)\n",
    "\n",
    "[Importação de Funções Específicas e o Tempo de Execução em Python](https://youtu.be/mwES2BZOYGc)\n",
    "\n",
    "[Comando de Ajuda help no Python](https://youtu.be/Zp90JwtUGkw)\n",
    "\n",
    "[Comando de Ajuda dir no Python](https://youtu.be/uCugZ3gRTps)\n",
    "\n",
    "[Comando de Ajuda getsource no Python](https://youtu.be/cFsfrnVDc48)"
   ]
  },
  {
   "cell_type": "markdown",
   "id": "c0c4b8a6",
   "metadata": {},
   "source": [
    "<div style=\"border: 2px solid black; padding: 10px; width: 100%; background-color: lightgray; display: flex; align-items: center;\">\n",
    "    <h1 style=\"color: red; text-align: center; margin: auto;\">\n",
    "        Capítulo 16 - Módulos, Bibliotecas e Pacotes\n",
    "    </h1>\n",
    "</div>\n",
    "\n",
    "<font color='red'></font>\n",
    "<a href=\"\"></a>"
   ]
  },
  {
   "cell_type": "markdown",
   "id": "624d87a5",
   "metadata": {},
   "source": [
    "A seguir apresentaremos três conceitos essenciais para a organização e reutilização de código em Python: Módulo, Biblioteca e Pacote. Cada um tem seu próprio uso e propósito. Você usaria módulos para dividir seu código em partes menores, bibliotecas para reutilizar código em diferentes projetos e pacotes para organizar módulos e bibliotecas de maneira lógica.\n",
    "\n",
    "Aqui está uma analogia comum para entender a hierarquia entre esses termos:\n",
    "\n",
    "**Módulo:** Um arquivo individual Python, como um único livro.  \n",
    "\n",
    "**Biblioteca:** Uma coleção de módulos Python, como uma estante de livros.  \n",
    "\n",
    "**Pacote:** Um diretório de bibliotecas Python/módulos como uma sala de biblioteca contendo muitas estantes de livros."
   ]
  },
  {
   "cell_type": "markdown",
   "id": "92b17444",
   "metadata": {},
   "source": [
    "##\n",
    "<div style=\"margin-top: -20px;\">\n",
    "<hr style=\"border: 2px solid blue;\">\n",
    "\n",
    "<font color='blue'><span style=\"font-size: 22px;\"><strong>16.1 Módulos</strong></span></font>\n",
    "\n",
    "<hr style=\"border: 2px solid blue;\">\n",
    "</div>"
   ]
  },
  {
   "cell_type": "markdown",
   "id": "65fb2374",
   "metadata": {},
   "source": [
    "<u>Módulo</u> em Python é um arquivo contendo definições e instruções. A definição de um módulo permite que você organize seu código de maneira lógica. Um módulo pode definir funções, classes e variáveis. Basicamente, é uma maneira de organizar grandes códigos em arquivos menores e mais manejáveis, para tornar o código mais legível e reutilizável. Vejamos alguns exemplos de módulos."
   ]
  },
  {
   "cell_type": "markdown",
   "id": "fc634d58",
   "metadata": {},
   "source": [
    "###\n",
    "<div style=\"margin-top: -20px;\">\n",
    "<hr style=\"border: 2px solid blue;\">\n",
    "\n",
    "<font color='blue'><span style=\"font-size: 18px;\"><strong>16.1.1 Módulo math</strong></span></font>\n",
    "\n",
    "<hr style=\"border: 2px solid blue;\">\n",
    "</div>"
   ]
  },
  {
   "cell_type": "markdown",
   "id": "e1093e11",
   "metadata": {},
   "source": [
    "O módulo <u>math</u> é um dos módulos padrões no Python que fornece funções matemáticas. Este módulo não precisa ser instalado separadamente porque ele é distribuído com o Python, então você pode importá-lo diretamente em seu programa."
   ]
  },
  {
   "cell_type": "code",
   "execution_count": null,
   "id": "6def0005",
   "metadata": {
    "ExecuteTime": {
     "end_time": "2023-09-27T14:22:46.291676Z",
     "start_time": "2023-09-27T14:22:46.287850Z"
    }
   },
   "outputs": [],
   "source": [
    "# Importando o módulo math\n",
    "import math"
   ]
  },
  {
   "cell_type": "markdown",
   "id": "26e69ec8",
   "metadata": {},
   "source": [
    "Aqui estão alguns exemplos de funções disponíveis no módulo math:"
   ]
  },
  {
   "cell_type": "markdown",
   "id": "6a680010",
   "metadata": {},
   "source": [
    "#### math.sqrt(x)\n"
   ]
  },
  {
   "cell_type": "markdown",
   "id": "0c75b592",
   "metadata": {},
   "source": [
    "Esta função retorna a raiz quadrada de $x$."
   ]
  },
  {
   "cell_type": "markdown",
   "id": "7ec63d9e",
   "metadata": {},
   "source": [
    "##### Exemplo\n"
   ]
  },
  {
   "cell_type": "code",
   "execution_count": null,
   "id": "96d6941d",
   "metadata": {
    "ExecuteTime": {
     "end_time": "2023-09-27T14:18:57.861363Z",
     "start_time": "2023-09-27T14:18:57.855970Z"
    },
    "scrolled": true
   },
   "outputs": [],
   "source": [
    "# Importando o módulo math\n",
    "import math\n",
    "\n",
    "# Calculando a raiz quadrada de 16 usando a função sqrt do módulo math\n",
    "raiz_2 = math.sqrt(16)\n",
    "\n",
    "# Imprimindo o resultado da raiz quadrada\n",
    "print(raiz_2)"
   ]
  },
  {
   "cell_type": "markdown",
   "id": "aa2c0df1",
   "metadata": {},
   "source": [
    "#### math.pi, math.sin(x), math.cos(x) e math.tan(x)\n"
   ]
  },
  {
   "cell_type": "markdown",
   "id": "ea73cc91",
   "metadata": {},
   "source": [
    "Constante que fornece o valor de $\\pi$ juntamente com as funções seno, cosseno e tangente de $x$ ($x$ em radianos)"
   ]
  },
  {
   "cell_type": "markdown",
   "id": "a03a3cad",
   "metadata": {},
   "source": [
    "##### Exemplo"
   ]
  },
  {
   "cell_type": "code",
   "execution_count": null,
   "id": "e617e87b",
   "metadata": {
    "ExecuteTime": {
     "end_time": "2023-09-27T14:20:06.788568Z",
     "start_time": "2023-09-27T14:20:06.783478Z"
    }
   },
   "outputs": [],
   "source": [
    "# Importando o módulo math\n",
    "import math\n",
    "\n",
    "# Calculando o seno, o cosseno e a tangente de alguns ângulos (em radianos)\n",
    "s = math.sin(0)\n",
    "c = math.cos(math.pi)\n",
    "tg = math.tan(math.pi/4)\n",
    "\n",
    "# Imprimindo o resultado da potência\n",
    "print(s)\n",
    "print(c)\n",
    "print(tg)"
   ]
  },
  {
   "cell_type": "markdown",
   "id": "0ce44683",
   "metadata": {},
   "source": [
    "#### math.log(x,[ base])"
   ]
  },
  {
   "cell_type": "markdown",
   "id": "4eaba697",
   "metadata": {},
   "source": [
    "Esta função retorna o logaritmo natural de $x$, ou o logaritmo de $x$ na base fornecida."
   ]
  },
  {
   "cell_type": "markdown",
   "id": "3cdb23f0",
   "metadata": {},
   "source": [
    "##### Exemplo"
   ]
  },
  {
   "cell_type": "code",
   "execution_count": null,
   "id": "652fdff5",
   "metadata": {
    "ExecuteTime": {
     "end_time": "2023-09-27T14:31:58.709160Z",
     "start_time": "2023-09-27T14:31:58.704626Z"
    }
   },
   "outputs": [],
   "source": [
    "# Importando o módulo math\n",
    "import math\n",
    "\n",
    "# Calculando o logaritmo de 100 na base 10 usando a função log do módulo math\n",
    "logaritmo = math.log(105, 10)\n",
    "\n",
    "# Imprimindo o valor do logaritmo\n",
    "print(logaritmo)"
   ]
  },
  {
   "cell_type": "markdown",
   "id": "05d47508",
   "metadata": {},
   "source": [
    "Note que precisamos utilizar a palavra-chave <u>import</u> seguida do nome do módulo que desejamos importar, como vimos no início do código. Importante salientar que, uma vez que o módulo é importado, todas as suas funções ficam disponíveis para uso durante a sessão atual do interpretador Python, ou seja, enquanto o kernel estiver ativo."
   ]
  },
  {
   "cell_type": "markdown",
   "id": "e6623ffc",
   "metadata": {},
   "source": [
    "Para sabermos as funcionalidades de um módulo podemos usar o comando <u>help(módulo)</u>."
   ]
  },
  {
   "cell_type": "markdown",
   "id": "b531f1f9",
   "metadata": {},
   "source": [
    "#### Outras funções"
   ]
  },
  {
   "cell_type": "markdown",
   "id": "7d851448",
   "metadata": {},
   "source": [
    "Podemos recorrer à função <u>help()</u> para exibir a documentação do módulo math. A função help() é uma função interna do Python que fornece informações detalhadas sobre um determinado objeto ou módulo. Neste caso, estamos passando o módulo math como argumento para a função help(), o que nos permite visualizar a documentação completa do módulo math. A documentação exibida fornecerá informações sobre as funções, constantes e outras funcionalidades disponíveis no módulo math, permitindo uma melhor compreensão de como utilizá-lo."
   ]
  },
  {
   "cell_type": "code",
   "execution_count": null,
   "id": "e33de25d",
   "metadata": {
    "ExecuteTime": {
     "end_time": "2023-09-27T14:32:01.112822Z",
     "start_time": "2023-09-27T14:32:01.094894Z"
    },
    "scrolled": false
   },
   "outputs": [],
   "source": [
    "# Exibindo a documentação do módulo math\n",
    "help(math)"
   ]
  },
  {
   "cell_type": "markdown",
   "id": "6ba4316c",
   "metadata": {},
   "source": [
    "###\n",
    "<div style=\"margin-top: -20px;\">\n",
    "<hr style=\"border: 2px solid blue;\">\n",
    "\n",
    "<font color='blue'><span style=\"font-size: 18px;\"><strong>16.1.2 Módulo random</strong></span></font>\n",
    "\n",
    "<hr style=\"border: 2px solid blue;\">\n",
    "</div>"
   ]
  },
  {
   "cell_type": "markdown",
   "id": "23518049",
   "metadata": {},
   "source": [
    "O módulo <u>random</u> implementa geradores de números pseudoaleatórios para várias distribuições. Aqui estão alguns exemplos:"
   ]
  },
  {
   "cell_type": "code",
   "execution_count": null,
   "id": "bd091df1",
   "metadata": {
    "ExecuteTime": {
     "end_time": "2023-09-27T14:39:50.662803Z",
     "start_time": "2023-09-27T14:39:50.655738Z"
    }
   },
   "outputs": [],
   "source": [
    "# Importando o módulo random\n",
    "import random"
   ]
  },
  {
   "cell_type": "markdown",
   "id": "83222fe5",
   "metadata": {},
   "source": [
    "#### random.random()\n"
   ]
  },
  {
   "cell_type": "markdown",
   "id": "53c02c0e",
   "metadata": {},
   "source": [
    "Esta função gera um número de ponto flutuante aleatório no intervalo $[0.0, 1.0)$."
   ]
  },
  {
   "cell_type": "markdown",
   "id": "f13e66d7",
   "metadata": {},
   "source": [
    "##### Exemplo\n"
   ]
  },
  {
   "cell_type": "code",
   "execution_count": null,
   "id": "9d912430",
   "metadata": {
    "ExecuteTime": {
     "end_time": "2023-09-27T14:41:02.131376Z",
     "start_time": "2023-09-27T14:41:02.126731Z"
    },
    "scrolled": true
   },
   "outputs": [],
   "source": [
    "# Gerando um valor aleatório entre 0 e 1\n",
    "rand_num = random.random()\n",
    "\n",
    "# Imprimindo o valor gerado\n",
    "print(rand_num)"
   ]
  },
  {
   "cell_type": "markdown",
   "id": "7e0dcd9f",
   "metadata": {},
   "source": [
    "#### random.randint(m, n)"
   ]
  },
  {
   "cell_type": "markdown",
   "id": "d74f0ccb",
   "metadata": {},
   "source": [
    "Esta função gera um m número inteiro aleatório entre $m$ e $n$."
   ]
  },
  {
   "cell_type": "markdown",
   "id": "cf825e95",
   "metadata": {},
   "source": [
    "##### Exemplo"
   ]
  },
  {
   "cell_type": "code",
   "execution_count": null,
   "id": "31db581d",
   "metadata": {
    "ExecuteTime": {
     "end_time": "2023-09-27T14:42:17.289543Z",
     "start_time": "2023-09-27T14:42:17.286213Z"
    }
   },
   "outputs": [],
   "source": [
    "# Gerando um número inteiro aleatório entre 3 e 14\n",
    "rand_int = random.randint(3,14)\n",
    "\n",
    "# Imprimindo o número gerado\n",
    "print(rand_int)"
   ]
  },
  {
   "cell_type": "markdown",
   "id": "45eda1c4",
   "metadata": {},
   "source": [
    "### <div style=\"margin-top: -20px;\">\n",
    "<hr style=\"border: 2px solid blue;\">\n",
    "\n",
    "<font color='blue'><span style=\"font-size: 18px;\"><strong>16.1.3 Módulo datetime</strong></span></font>\n",
    "\n",
    "<hr style=\"border: 2px solid blue;\">\n",
    "</div>"
   ]
  },
  {
   "cell_type": "markdown",
   "id": "a8277313",
   "metadata": {},
   "source": [
    "O módulo <u>datetime</u> do Python oferece classes para manipulação de datas e horas. Ele contém várias funções e classes que são úteis para trabalhar com datas, horas, intervalos de tempo, e fusos horários. Aqui estão algumas das classes e funções mais comuns:"
   ]
  },
  {
   "cell_type": "code",
   "execution_count": null,
   "id": "46ab3e98",
   "metadata": {
    "ExecuteTime": {
     "end_time": "2023-09-27T14:43:01.196716Z",
     "start_time": "2023-09-27T14:43:01.193638Z"
    }
   },
   "outputs": [],
   "source": [
    "# Importando o módulo datetime com o nome dt\n",
    "import datetime as dt     #encurta o prefixo 'datetime' para 'dt'"
   ]
  },
  {
   "cell_type": "markdown",
   "id": "2ab2bfaf",
   "metadata": {},
   "source": [
    "#### datetime.date"
   ]
  },
  {
   "cell_type": "markdown",
   "id": "a3cf6294",
   "metadata": {},
   "source": [
    "Uma instância da classe (falaremos de classes em breve) date representa uma data ano-mês-dia."
   ]
  },
  {
   "cell_type": "markdown",
   "id": "b0dda068",
   "metadata": {},
   "source": [
    "##### Exemplo\n"
   ]
  },
  {
   "cell_type": "code",
   "execution_count": null,
   "id": "7c83a0bc",
   "metadata": {
    "ExecuteTime": {
     "end_time": "2023-09-27T14:44:06.803021Z",
     "start_time": "2023-09-27T14:44:06.798969Z"
    }
   },
   "outputs": [],
   "source": [
    "# Obtendo a data atual\n",
    "today = dt.date.today()\n",
    "\n",
    "# Imprimindo a data atual\n",
    "print(\"A data de hoje é:\", today)"
   ]
  },
  {
   "cell_type": "markdown",
   "id": "eaf11986",
   "metadata": {},
   "source": [
    "#### datetime.datetime"
   ]
  },
  {
   "cell_type": "markdown",
   "id": "464a6249",
   "metadata": {},
   "source": [
    "Uma instância da classe time representa um horário do dia, independente de um dia específico, e está sujeito a ajustes de fuso horário."
   ]
  },
  {
   "cell_type": "markdown",
   "id": "f714e96e",
   "metadata": {},
   "source": [
    "##### Exemplo\n"
   ]
  },
  {
   "cell_type": "code",
   "execution_count": null,
   "id": "6f181df5",
   "metadata": {
    "ExecuteTime": {
     "end_time": "2023-09-27T14:45:09.521243Z",
     "start_time": "2023-09-27T14:45:09.517910Z"
    }
   },
   "outputs": [],
   "source": [
    "# Obtendo a data e a hora atuais\n",
    "data_hora_atuais = dt.datetime.now()\n",
    "\n",
    "# Imprimindo a data e a hora atuais\n",
    "print(\"A data e horários atuais são:\", data_hora_atuais)"
   ]
  },
  {
   "cell_type": "markdown",
   "id": "4b50ac1e",
   "metadata": {},
   "source": [
    "### <div style=\"margin-top: -20px;\">\n",
    "<hr style=\"border: 2px solid blue;\">\n",
    "\n",
    "<font color='blue'><span style=\"font-size: 18px;\"><strong>16.1.4 Outros Módulos</strong></span></font>\n",
    "\n",
    "<hr style=\"border: 2px solid blue;\">\n",
    "</div>"
   ]
  },
  {
   "cell_type": "markdown",
   "id": "81dffe4a",
   "metadata": {},
   "source": [
    "A seguir apresentamos mais alguns módulos e uma breve descrição:"
   ]
  },
  {
   "cell_type": "markdown",
   "id": "8bbe43a6",
   "metadata": {},
   "source": [
    "#### csv"
   ]
  },
  {
   "cell_type": "markdown",
   "id": "5d1f9337",
   "metadata": {},
   "source": [
    "O módulo <u>csv</u> implementa classes para ler e escrever dados tabulares em formato CSV. É útil para trabalhar com dados tabulares em Python."
   ]
  },
  {
   "cell_type": "markdown",
   "id": "09bcf923",
   "metadata": {},
   "source": [
    "#### json"
   ]
  },
  {
   "cell_type": "markdown",
   "id": "2066e3f8",
   "metadata": {},
   "source": [
    "O módulo <u>json</u> fornece uma maneira fácil de codificar e decodificar dados em JSON. JSON (JavaScript Object Notation), é um formato de dados comum usado para armazenar e transportar dados.\n",
    "\n"
   ]
  },
  {
   "cell_type": "markdown",
   "id": "1ca0f8ff",
   "metadata": {},
   "source": [
    "#### os"
   ]
  },
  {
   "cell_type": "markdown",
   "id": "a7c2bb13",
   "metadata": {},
   "source": [
    "O módulo <u>os</u> fornece funções para interagir com o sistema operacional, incluindo maneiras de trabalhar com arquivos e diretórios, obter informações sobre o ambiente do sistema operacional, como variáveis de ambiente, gerenciar processos, etc.\n",
    "\n"
   ]
  },
  {
   "cell_type": "markdown",
   "id": "170e5605",
   "metadata": {},
   "source": [
    "#### sys"
   ]
  },
  {
   "cell_type": "markdown",
   "id": "b0588eda",
   "metadata": {},
   "source": [
    "O módulo <u>sys</u> fornece acesso a algumas variáveis usadas ou mantidas pelo interpretador Python e a funções que interagem fortemente com o interpretador. Pode ser usado para manipular a pilha de exceção Python e também para obter informações sobre a versão atual do Python.\n"
   ]
  },
  {
   "cell_type": "markdown",
   "id": "a5f9fd09",
   "metadata": {},
   "source": [
    "#### re"
   ]
  },
  {
   "cell_type": "markdown",
   "id": "d10d85f9",
   "metadata": {},
   "source": [
    "O módulo <u>re</u> fornece operações de correspondência de expressões regulares semelhantes às encontradas em Perl. É útil para manipulação de strings avançada."
   ]
  },
  {
   "cell_type": "markdown",
   "id": "4661ec24",
   "metadata": {},
   "source": [
    "## <div style=\"margin-top: -20px;\">\n",
    "<hr style=\"border: 2px solid blue;\">\n",
    "\n",
    "<font color='blue'><span style=\"font-size: 22px;\"><strong>16.2 Bibliotecas</strong></span></font>\n",
    "\n",
    "<hr style=\"border: 2px solid blue;\">\n",
    "</div>"
   ]
  },
  {
   "cell_type": "markdown",
   "id": "bb2a7653",
   "metadata": {},
   "source": [
    "Uma <u>biblioteca</u> em Python é uma coleção de módulos. É uma forma de agrupar módulos relacionados para que possam ser usados juntos. Uma biblioteca geralmente se concentra em uma área de interesse específica, como operações de rede, gráficos, acesso a banco de dados, etc. Exemplos de bibliotecas populares em Python incluem NumPy, Pandas, Matplotlib, etc. Vejamos algumas usadas em análise de dados."
   ]
  },
  {
   "cell_type": "markdown",
   "id": "890bc09c",
   "metadata": {},
   "source": [
    "### <div style=\"margin-top: -20px;\">\n",
    "<hr style=\"border: 2px solid blue;\">\n",
    "\n",
    "<font color='blue'><span style=\"font-size: 18px;\"><strong>16.2.1 Biblioteca numpy</strong></span></font>\n",
    "\n",
    "<hr style=\"border: 2px solid blue;\">\n",
    "</div>"
   ]
  },
  {
   "cell_type": "markdown",
   "id": "05aa3160",
   "metadata": {},
   "source": [
    "<u>NumPy</u> é uma biblioteca de Python que fornece suporte para arrays e matrizes, além de funções matemáticas para operações com essas estruturas."
   ]
  },
  {
   "cell_type": "markdown",
   "id": "94c33467",
   "metadata": {},
   "source": [
    "#### *Exemplo: Exibindo a transposta de uma matriz*\n"
   ]
  },
  {
   "cell_type": "code",
   "execution_count": null,
   "id": "4b554683",
   "metadata": {
    "ExecuteTime": {
     "end_time": "2023-09-27T15:28:52.723198Z",
     "start_time": "2023-09-27T15:28:52.591139Z"
    }
   },
   "outputs": [],
   "source": [
    "# Programa para imprimir uma matriz e sua transposta\n",
    "import numpy as np\n",
    "\n",
    "# Cria um array 2D\n",
    "matriz = np.array([[1, 2, 3], \n",
    "                   [4, 5, 6], \n",
    "                   [7, 8, 9]])\n",
    "\n",
    "print(\"Array 2D:\\n\", matriz)"
   ]
  },
  {
   "cell_type": "code",
   "execution_count": null,
   "id": "c9cfcc66",
   "metadata": {},
   "outputs": [],
   "source": [
    "# Calcula a transposta do array 2D\n",
    "print(\"Transposta do Array:\\n\", np.transpose(matriz))"
   ]
  },
  {
   "cell_type": "markdown",
   "id": "72881658",
   "metadata": {},
   "source": [
    "### <div style=\"margin-top: -20px;\">\n",
    "<hr style=\"border: 2px solid blue;\">\n",
    "\n",
    "<font color='blue'><span style=\"font-size: 18px;\"><strong>16.2.2 Biblioteca pandas</strong></span></font>\n",
    "\n",
    "<hr style=\"border: 2px solid blue;\">\n",
    "</div>"
   ]
  },
  {
   "cell_type": "markdown",
   "id": "843850ce",
   "metadata": {},
   "source": [
    "<u>Pandas</u> é uma biblioteca de Python que fornece estruturas de dados e funções de análise de dados de alto desempenho e fáceis de usar"
   ]
  },
  {
   "cell_type": "markdown",
   "id": "d9d2bed8",
   "metadata": {},
   "source": [
    "#### *Exemplo: Usando a bibliteca pandas para visualizar dados de um dicionário*\n"
   ]
  },
  {
   "cell_type": "code",
   "execution_count": null,
   "id": "bf7aa3dc",
   "metadata": {
    "ExecuteTime": {
     "end_time": "2023-09-27T15:30:51.116455Z",
     "start_time": "2023-09-27T15:30:50.583759Z"
    }
   },
   "outputs": [],
   "source": [
    "import pandas as pd\n",
    "\n",
    "data = {\n",
    "    'Nome': ['João', 'Maria', 'Pedro', 'Lucas', 'Ana'],\n",
    "    'Idade': [23, 45, 32, 19, 30],\n",
    "    'Cidade': ['São Paulo', 'Rio de Janeiro', 'Curitiba', 'Salvador', 'Brasília']\n",
    "}\n",
    "\n",
    "print(data)\n",
    "print(type(data))"
   ]
  },
  {
   "cell_type": "code",
   "execution_count": null,
   "id": "84d85a64",
   "metadata": {},
   "outputs": [],
   "source": [
    "df = pd.DataFrame(data)"
   ]
  },
  {
   "cell_type": "code",
   "execution_count": null,
   "id": "ffe37991",
   "metadata": {
    "ExecuteTime": {
     "end_time": "2023-09-27T15:31:08.540623Z",
     "start_time": "2023-09-27T15:31:08.528175Z"
    }
   },
   "outputs": [],
   "source": [
    "# Exibindo o dataframe\n",
    "df"
   ]
  },
  {
   "cell_type": "code",
   "execution_count": null,
   "id": "ac60aeca",
   "metadata": {
    "ExecuteTime": {
     "end_time": "2023-09-27T15:31:46.804053Z",
     "start_time": "2023-09-27T15:31:46.799540Z"
    }
   },
   "outputs": [],
   "source": [
    "print(df)"
   ]
  },
  {
   "cell_type": "markdown",
   "id": "4b691107",
   "metadata": {},
   "source": [
    "### <div style=\"margin-top: -20px;\">\n",
    "<hr style=\"border: 2px solid blue;\">\n",
    "\n",
    "<font color='blue'><span style=\"font-size: 18px;\"><strong>16.2.3 Biblioteca Seaborn</strong></span></font>\n",
    "\n",
    "<hr style=\"border: 2px solid blue;\">\n",
    "</div>"
   ]
  },
  {
   "cell_type": "markdown",
   "id": "df6672d9",
   "metadata": {},
   "source": [
    "<u>Seaborn</u> é uma biblioteca de Python para criação de visualizações de dados baseada no Matplotlib. Ela fornece uma interface de alto nível para desenhar gráficos estatísticos."
   ]
  },
  {
   "cell_type": "markdown",
   "id": "84bba1d2",
   "metadata": {},
   "source": [
    "#### *Exemplo: Visualização gráfica do dataset \"iris\"*\n"
   ]
  },
  {
   "cell_type": "markdown",
   "id": "d85ddbf2",
   "metadata": {},
   "source": [
    "O conjunto de dados <u>iris</u> é um conjunto de dados clássico no campo da aprendizagem de máquina e estatística. Ele contém medidas para 150 flores da espécie íris de três diferentes espécies: setosa, versicolor e virginica. Para cada flor, o conjunto de dados inclui as medidas das larguras e comprimentos das pétalas e sépalas, todas em centímetros."
   ]
  },
  {
   "cell_type": "code",
   "execution_count": null,
   "id": "7a5b8465",
   "metadata": {
    "ExecuteTime": {
     "end_time": "2023-09-27T15:43:23.414263Z",
     "start_time": "2023-09-27T15:43:18.680177Z"
    }
   },
   "outputs": [],
   "source": [
    "# Importando a biblioteca seaborn\n",
    "import seaborn as sns\n",
    "import matplotlib.pyplot as plt\n",
    "\n",
    "# Carrega um dos datasets embutidos do seaborn\n",
    "iris = sns.load_dataset('iris')\n",
    "\n",
    "# Cria um pairplot\n",
    "sns.pairplot(iris)\n",
    "\n",
    "plt.show()"
   ]
  },
  {
   "cell_type": "code",
   "execution_count": null,
   "id": "6944da91",
   "metadata": {
    "ExecuteTime": {
     "end_time": "2023-09-27T15:44:18.694596Z",
     "start_time": "2023-09-27T15:44:18.678889Z"
    },
    "scrolled": false
   },
   "outputs": [],
   "source": [
    "# Gerando um DataFrame\n",
    "tabela_iris = pd.DataFrame(iris)\n",
    "\n",
    "# Exibindo o DataFrame\n",
    "tabela_iris"
   ]
  },
  {
   "cell_type": "code",
   "execution_count": null,
   "id": "0c1a3373",
   "metadata": {
    "ExecuteTime": {
     "end_time": "2023-09-27T15:46:02.251076Z",
     "start_time": "2023-09-27T15:46:02.239689Z"
    }
   },
   "outputs": [],
   "source": [
    "# Exibindo apenas algumas colunas do DataFrame\n",
    "tabela_iris[['sepal_length','sepal_width']]"
   ]
  },
  {
   "cell_type": "markdown",
   "id": "72f4ce7e",
   "metadata": {},
   "source": [
    "### <div style=\"margin-top: -20px;\">\n",
    "<hr style=\"border: 2px solid blue;\">\n",
    "\n",
    "<font color='blue'><span style=\"font-size: 18px;\"><strong>16.2.4 Outras Bibliotecas</strong></span></font>\n",
    "\n",
    "<hr style=\"border: 2px solid blue;\">\n",
    "</div>"
   ]
  },
  {
   "cell_type": "markdown",
   "id": "037f609c",
   "metadata": {},
   "source": [
    "A seguir apresentamos mais algumas bibliotecas e uma breve descrição:"
   ]
  },
  {
   "cell_type": "markdown",
   "id": "2d2fc178",
   "metadata": {},
   "source": [
    "#### scikit-learn"
   ]
  },
  {
   "cell_type": "markdown",
   "id": "5e3ebf2c",
   "metadata": {},
   "source": [
    "A biblioteca <u>scikit-learn</u> é uma das mais populares para aprendizado de máquina em Python. Ela fornece uma seleção de algoritmos de aprendizado supervisionado e não supervisionado eficientes e fáceis de usar."
   ]
  },
  {
   "cell_type": "markdown",
   "id": "9873d803",
   "metadata": {},
   "source": [
    "#### PyTorch/TensorFlow"
   ]
  },
  {
   "cell_type": "markdown",
   "id": "19f8e9ff",
   "metadata": {},
   "source": [
    "Estas são bibliotecas para aprendizado de máquina e redes neurais profundas. <u>PyTorch</u> é mais fácil de aprender e mais intuitivo, enquanto o <u>TensorFlow</u> é uma estrutura muito poderosa usada por grandes empresas e pesquisadores."
   ]
  },
  {
   "cell_type": "markdown",
   "id": "cfcf8556",
   "metadata": {},
   "source": [
    "#### NLTK (Natural Language Toolkit)"
   ]
  },
  {
   "cell_type": "markdown",
   "id": "2a00a1b7",
   "metadata": {},
   "source": [
    "A biblioteca <u>NLTK</u> é voltada para o trabalho com texto escrito em linguagem humana. Fornecendo interfaces fáceis de usar para mais de 50 corpora e recursos lexicais, como WordNet, além de uma suíte de bibliotecas de processamento de texto para classificação, tokenização, stemming e marcação."
   ]
  },
  {
   "cell_type": "markdown",
   "id": "577b7625",
   "metadata": {},
   "source": [
    "#### Django/Flask"
   ]
  },
  {
   "cell_type": "markdown",
   "id": "de84e46d",
   "metadata": {},
   "source": [
    "Estes são frameworks para desenvolvimento web. <u>Django</u> é um framework de alto nível que promove o desenvolvimento rápido, limpo e pragmático. O <u>Flask</u>, por outro lado, é um microframework que é mais leve e fácil de aprender, ideal para projetos menores."
   ]
  },
  {
   "cell_type": "markdown",
   "id": "2afbb541",
   "metadata": {},
   "source": [
    "#### BeautifulSoup"
   ]
  },
  {
   "cell_type": "markdown",
   "id": "405f05ab",
   "metadata": {},
   "source": [
    "A biblioteca <u>BeautifulSoup</u> é voltada para a extração dados de arquivos HTML e XML. É muito útil para web scraping. Web Scraping é uma técnica utilizada para extrair informações de sites da internet. Ele realiza isso através de programas de software que simulam a navegação humana na web, com o intuito de coletar dados específicos de páginas da internet."
   ]
  },
  {
   "cell_type": "markdown",
   "id": "e975c4da",
   "metadata": {},
   "source": [
    "#### SQLAlchemy"
   ]
  },
  {
   "cell_type": "markdown",
   "id": "415b9f6e",
   "metadata": {},
   "source": [
    "A biblioteca <u>SQLAlchemy</u> fornece uma série completa de padrões de persistência empresarial, projetados para trabalho de dados eficiente e de alto desempenho em escala, com suporte para um conjunto de backends de banco de dados."
   ]
  },
  {
   "cell_type": "markdown",
   "id": "ad983f65",
   "metadata": {},
   "source": [
    "### <div style=\"margin-top: -20px;\">\n",
    "<hr style=\"border: 2px solid blue;\">\n",
    "\n",
    "<font color='blue'><span style=\"font-size: 18px;\"><strong>16.2.5 Importação de Funções Específicas de Uma Biblioteca</strong></span></font>\n",
    "\n",
    "<hr style=\"border: 2px solid blue;\">\n",
    "</div>"
   ]
  },
  {
   "cell_type": "markdown",
   "id": "7bd21353",
   "metadata": {},
   "source": [
    "A fim de otimizar nossos códigos, podemos importar funções específicas de uma biblioteca, em vez de importar a biblioteca inteira. Isso economiza memória, pois apenas as funções necessárias são carregadas."
   ]
  },
  {
   "cell_type": "markdown",
   "id": "14b6574b",
   "metadata": {},
   "source": [
    "#### *Exemplo 1: Diferentes formas de importação de funções*"
   ]
  },
  {
   "cell_type": "markdown",
   "id": "a364a9d8",
   "metadata": {
    "ExecuteTime": {
     "end_time": "2023-09-28T20:28:58.934754Z",
     "start_time": "2023-09-28T20:28:58.930925Z"
    }
   },
   "source": [
    "##### Importando um módulo (funções pré-importadas)"
   ]
  },
  {
   "cell_type": "code",
   "execution_count": null,
   "id": "6744c349",
   "metadata": {
    "ExecuteTime": {
     "end_time": "2023-09-28T20:41:31.969499Z",
     "start_time": "2023-09-28T20:41:31.839784Z"
    }
   },
   "outputs": [],
   "source": [
    "# O programa importa a biblioteca numpy com as funções pré-carregadas\n",
    "import numpy as np\n",
    "\n",
    "# Impressão do seno de pi/2\n",
    "print(np.sin(np.pi/2))"
   ]
  },
  {
   "cell_type": "code",
   "execution_count": null,
   "id": "9a5f40ea",
   "metadata": {
    "ExecuteTime": {
     "end_time": "2023-09-28T20:41:59.499693Z",
     "start_time": "2023-09-28T20:41:59.495959Z"
    }
   },
   "outputs": [],
   "source": [
    "print(np.cos(0))"
   ]
  },
  {
   "cell_type": "code",
   "execution_count": null,
   "id": "ea157a05",
   "metadata": {},
   "outputs": [],
   "source": [
    "help(np.sin)"
   ]
  },
  {
   "cell_type": "markdown",
   "id": "b444ee16",
   "metadata": {},
   "source": [
    "##### Importando somente funções específicas de uma biblioteca ou módulo"
   ]
  },
  {
   "cell_type": "markdown",
   "id": "46e6e205",
   "metadata": {},
   "source": [
    "Vamos imaginar um programa que só usaremos a constante $\\pi$ e a função seno para os cálculos."
   ]
  },
  {
   "cell_type": "code",
   "execution_count": null,
   "id": "95c41693",
   "metadata": {
    "ExecuteTime": {
     "end_time": "2023-09-28T20:44:45.629589Z",
     "start_time": "2023-09-28T20:44:45.496905Z"
    }
   },
   "outputs": [],
   "source": [
    "# Importação somente a constante pi e da função seno da biblioteca numpy\n",
    "from numpy import pi, sin, cos\n",
    "\n",
    "# Impressão do seno de pi/2\n",
    "print(sin(pi/2))"
   ]
  },
  {
   "cell_type": "code",
   "execution_count": null,
   "id": "62fa273b",
   "metadata": {
    "ExecuteTime": {
     "end_time": "2023-09-28T20:44:50.933340Z",
     "start_time": "2023-09-28T20:44:50.118519Z"
    }
   },
   "outputs": [],
   "source": [
    "print(cos(pi))"
   ]
  },
  {
   "cell_type": "code",
   "execution_count": null,
   "id": "c58031dc",
   "metadata": {
    "scrolled": true
   },
   "outputs": [],
   "source": [
    "import numpy\n",
    "help(numpy)"
   ]
  },
  {
   "cell_type": "markdown",
   "id": "351dffc1",
   "metadata": {},
   "source": [
    "##### Importando todas as funções de uma biblioteca ou módulo"
   ]
  },
  {
   "cell_type": "markdown",
   "id": "730bea0a",
   "metadata": {},
   "source": [
    "Uma forma um pouco mais radical seria importar todas as funções de uma biblioteca usando **from biblioteca import\\***."
   ]
  },
  {
   "cell_type": "code",
   "execution_count": null,
   "id": "3b94fb0c",
   "metadata": {
    "ExecuteTime": {
     "end_time": "2023-09-28T20:45:41.116214Z",
     "start_time": "2023-09-28T20:45:41.111333Z"
    }
   },
   "outputs": [],
   "source": [
    "# O programa importa todas as funções da biblioteca numpy\n",
    "from numpy import*\n",
    "\n",
    "# Programa onde usamos somente a função seno e a constante pi\n",
    "print(sin(pi/2))"
   ]
  },
  {
   "cell_type": "code",
   "execution_count": null,
   "id": "eb570899",
   "metadata": {
    "ExecuteTime": {
     "end_time": "2023-09-28T20:46:39.161736Z",
     "start_time": "2023-09-28T20:46:39.157891Z"
    }
   },
   "outputs": [],
   "source": [
    "print(round(tan(pi),4))"
   ]
  },
  {
   "cell_type": "markdown",
   "id": "dda1042b",
   "metadata": {},
   "source": [
    "Note que a forma de importação acima pode consumir mais memória uma vez que está carregando todas as funções e variáveis definidas naquela biblioteca, mesmo que você não as utilize em seu código. Além disso podemos ter conflitos de nomes se duas bibliotecas tiverem funções ou variáveis com o mesmo nome."
   ]
  },
  {
   "cell_type": "markdown",
   "id": "62ffa977",
   "metadata": {},
   "source": [
    "#### *Exemplo 2: Diferentes formas de importação de funções e o tempo de execução*"
   ]
  },
  {
   "cell_type": "code",
   "execution_count": null,
   "id": "7e64f89a",
   "metadata": {
    "ExecuteTime": {
     "end_time": "2023-09-28T21:23:05.162006Z",
     "start_time": "2023-09-28T21:23:05.159264Z"
    }
   },
   "outputs": [],
   "source": [
    "# Lista vazia para armazenar os tempos\n",
    "tempos = []"
   ]
  },
  {
   "cell_type": "markdown",
   "id": "b56ceb43",
   "metadata": {},
   "source": [
    "##### Importando um módulo (funções pré-importadas)"
   ]
  },
  {
   "cell_type": "code",
   "execution_count": null,
   "id": "033c4523",
   "metadata": {
    "ExecuteTime": {
     "end_time": "2023-09-28T21:23:06.643344Z",
     "start_time": "2023-09-28T21:23:06.638561Z"
    }
   },
   "outputs": [],
   "source": [
    "# Importando o módulo timeit\n",
    "import timeit\n",
    "\n",
    "# Inicia uma contagem de tempo para medir o tempo de execução do código abaixo\n",
    "start_time = timeit.default_timer()\n",
    "\n",
    "#---------------------------------Código---------------------------------\n",
    "# O programa importa a biblioteca numpy com as funções pré-carregadas\n",
    "import numpy as np\n",
    "\n",
    "# Impressão do seno de pi/2\n",
    "print(np.sin(np.pi/2))\n",
    "#------------------------------------------------------------------------\n",
    "\n",
    "# Imprime o tempo decorrido na execução do código acima\n",
    "elapsed1 = timeit.default_timer() - start_time\n",
    "\n",
    "# Imprime o tempo decorrido na execução do código acima\n",
    "print(f\"Tempo decorrido no programa 1: {elapsed1} segundos\")\n",
    "\n",
    "# Adiciona o tempo de execução à lista \"tempos\"\n",
    "tempos.append(elapsed1)"
   ]
  },
  {
   "cell_type": "markdown",
   "id": "583ce83d",
   "metadata": {},
   "source": [
    "##### Importando somente funções específicas de uma biblioteca ou módulo"
   ]
  },
  {
   "cell_type": "code",
   "execution_count": null,
   "id": "fc6eda62",
   "metadata": {
    "ExecuteTime": {
     "end_time": "2023-09-28T21:23:08.899048Z",
     "start_time": "2023-09-28T21:23:08.893786Z"
    }
   },
   "outputs": [],
   "source": [
    "# Importando o módulo timeit\n",
    "import timeit\n",
    "\n",
    "# Inicia uma contagem de tempo para medir o tempo de execução do código abaixo\n",
    "start_time = timeit.default_timer()\n",
    "\n",
    "#---------------------------------Código---------------------------------\n",
    "# Importação somente da constante 'pi' e da função 'sin' da biblioteca 'numpy'\n",
    "from numpy import pi, sin\n",
    "\n",
    "# Imprime o seno de pi/2\n",
    "print(sin(pi/2))\n",
    "#------------------------------------------------------------------------\n",
    "\n",
    "# Calcula o tempo decorrido no código acima\n",
    "elapsed2 = timeit.default_timer() - start_time\n",
    "\n",
    "# Imprime o tempo decorrido na execução do código acima\n",
    "print(f\"Tempo decorrido no programa 2: {elapsed2} segundos\")\n",
    "\n",
    "# Adiciona o tempo de execução à lista \"tempos\"\n",
    "tempos.append(elapsed2)\n"
   ]
  },
  {
   "cell_type": "markdown",
   "id": "c5b59a1a",
   "metadata": {},
   "source": [
    "##### Importando todas as funções de uma biblioteca ou módulo"
   ]
  },
  {
   "cell_type": "code",
   "execution_count": null,
   "id": "00d04175",
   "metadata": {
    "ExecuteTime": {
     "end_time": "2023-09-28T21:23:10.875748Z",
     "start_time": "2023-09-28T21:23:10.871308Z"
    }
   },
   "outputs": [],
   "source": [
    "# Importando o módulo timeit\n",
    "import timeit\n",
    "\n",
    "# Inicia uma contagem de tempo para medir o tempo de execução do código abaixo\n",
    "start_time = timeit.default_timer()\n",
    "\n",
    "#---------------------------------Código---------------------------------\n",
    "# O programa importa todas as funções da biblioteca numpy\n",
    "from numpy import*\n",
    "\n",
    "# Programa onde usamos somente a função seno e a constante pi\n",
    "print(sin(pi/2))\n",
    "#------------------------------------------------------------------------\n",
    "\n",
    "# Imprime o tempo decorrido na execução do código acima\n",
    "elapsed3 = timeit.default_timer() - start_time\n",
    "\n",
    "# Imprime o tempo decorrido na execução do código acima\n",
    "print(f\"Tempo decorrido no programa 3: {elapsed3} segundos\")\n",
    "\n",
    "# Adiciona o tempo de execução à lista \"tempos\"\n",
    "tempos.append(elapsed3)"
   ]
  },
  {
   "cell_type": "markdown",
   "id": "fbbb6588",
   "metadata": {},
   "source": [
    "##### Comparando as três formas de importação quanto ao tempo de execução"
   ]
  },
  {
   "cell_type": "code",
   "execution_count": null,
   "id": "24b91d32",
   "metadata": {
    "ExecuteTime": {
     "end_time": "2023-09-28T21:23:14.017724Z",
     "start_time": "2023-09-28T21:23:14.014301Z"
    }
   },
   "outputs": [],
   "source": [
    "# Imprime a lista tempos\n",
    "print(tempos)"
   ]
  },
  {
   "cell_type": "markdown",
   "id": "4ca831a8",
   "metadata": {},
   "source": [
    "O tempo de execução pode variar entre execuções individuais, mas a tendência geral normalmente permanecerá estável. Em nossa demonstração, utilizamos três diferentes abordagens de importação para ilustrar como elas podem afetar a performance e a clareza do código."
   ]
  },
  {
   "cell_type": "markdown",
   "id": "2c76d3fc",
   "metadata": {
    "ExecuteTime": {
     "end_time": "2023-07-02T22:11:36.432783Z",
     "start_time": "2023-07-02T22:11:36.427792Z"
    }
   },
   "source": [
    "## <div style=\"margin-top: -20px;\">\n",
    "<hr style=\"border: 2px solid blue;\">\n",
    "\n",
    "<font color='blue'><span style=\"font-size: 22px;\"><strong>16.3 Comandos de Ajuda no Python</strong></span></font>\n",
    "\n",
    "<hr style=\"border: 2px solid blue;\">\n",
    "</div>"
   ]
  },
  {
   "cell_type": "markdown",
   "id": "762a22ed",
   "metadata": {},
   "source": [
    "Ao trabalhar com Python, existem diversos comandos e recursos disponíveis para obter ajuda e informações sobre objetos, módulos, funções e outros elementos do código. Nesta seção, exploraremos três comandos úteis: <u>help()</u>, <u>dir()</u> e <u>getsource()</u>. Esses comandos fornecem uma maneira rápida e conveniente de obter informações, navegar na estrutura de objetos e entender a natureza dos elementos em Python."
   ]
  },
  {
   "cell_type": "markdown",
   "id": "62aa2dbc",
   "metadata": {},
   "source": [
    "### help()"
   ]
  },
  {
   "cell_type": "markdown",
   "id": "36f1a230",
   "metadata": {},
   "source": [
    "O comando <u>help()</u> é uma função embutida no Python que fornece informações detalhadas sobre um objeto, módulo, função, classe ou qualquer outro elemento do Python. Ele oferece uma maneira interativa de acessar a documentação e a ajuda disponíveis para diversos recursos. Aqui estão alguns exemplos de uso do comando help():"
   ]
  },
  {
   "cell_type": "markdown",
   "id": "93c0a838",
   "metadata": {},
   "source": [
    "#### *Exemplos*"
   ]
  },
  {
   "cell_type": "markdown",
   "id": "681f7e11",
   "metadata": {},
   "source": [
    "##### help(list)"
   ]
  },
  {
   "cell_type": "code",
   "execution_count": null,
   "id": "ad225ef2",
   "metadata": {
    "ExecuteTime": {
     "end_time": "2023-09-28T22:28:15.245401Z",
     "start_time": "2023-09-28T22:28:15.225121Z"
    }
   },
   "outputs": [],
   "source": [
    "# Obtendo informações sobre a classe list\n",
    "help(list)"
   ]
  },
  {
   "cell_type": "markdown",
   "id": "4e15ad68",
   "metadata": {},
   "source": [
    "##### help(list.append)"
   ]
  },
  {
   "cell_type": "code",
   "execution_count": null,
   "id": "58f778fc",
   "metadata": {
    "ExecuteTime": {
     "end_time": "2023-09-28T22:28:53.813433Z",
     "start_time": "2023-09-28T22:28:53.808823Z"
    }
   },
   "outputs": [],
   "source": [
    "# Obtendo informações sobre a função append aplicada a uma lista\n",
    "help(list.append)"
   ]
  },
  {
   "cell_type": "markdown",
   "id": "8cbd5acb",
   "metadata": {},
   "source": [
    "##### help(numpy)"
   ]
  },
  {
   "cell_type": "code",
   "execution_count": null,
   "id": "e9cbbaac",
   "metadata": {
    "ExecuteTime": {
     "end_time": "2023-09-28T22:30:10.280074Z",
     "start_time": "2023-09-28T22:30:08.655090Z"
    }
   },
   "outputs": [],
   "source": [
    "import numpy\n",
    "\n",
    "# Obtendo informações sobre o módulo numpy\n",
    "help(numpy)"
   ]
  },
  {
   "cell_type": "markdown",
   "id": "a3e1eb8d",
   "metadata": {},
   "source": [
    "### dir()"
   ]
  },
  {
   "cell_type": "markdown",
   "id": "fb015412",
   "metadata": {},
   "source": [
    "O comando <u>dir()</u> é usado para listar os nomes dos atributos e métodos disponíveis em um objeto. Ele retorna uma lista contendo os nomes desses elementos, permitindo explorar a estrutura e as funcionalidades de um objeto. Aqui estão alguns exemplos de uso do comando dir():"
   ]
  },
  {
   "cell_type": "markdown",
   "id": "640965ec",
   "metadata": {
    "ExecuteTime": {
     "end_time": "2023-07-02T22:20:45.319708Z",
     "start_time": "2023-07-02T22:20:45.315730Z"
    }
   },
   "source": [
    "#### *Exemplos*"
   ]
  },
  {
   "cell_type": "markdown",
   "id": "2978a313",
   "metadata": {},
   "source": [
    "##### dir(str)"
   ]
  },
  {
   "cell_type": "code",
   "execution_count": null,
   "id": "5de5df5f",
   "metadata": {
    "ExecuteTime": {
     "end_time": "2023-09-28T22:38:22.589955Z",
     "start_time": "2023-09-28T22:38:22.581484Z"
    }
   },
   "outputs": [],
   "source": [
    "# Consultando métodos e atributos da classe \"str\"\n",
    "dir(str)"
   ]
  },
  {
   "cell_type": "code",
   "execution_count": null,
   "id": "d385720e",
   "metadata": {
    "ExecuteTime": {
     "end_time": "2023-09-28T22:39:55.603573Z",
     "start_time": "2023-09-28T22:39:55.599334Z"
    }
   },
   "outputs": [],
   "source": [
    "s = \"hello world\"\n",
    "print(s.capitalize())"
   ]
  },
  {
   "cell_type": "markdown",
   "id": "e82af0bc",
   "metadata": {},
   "source": [
    "##### dir(list)"
   ]
  },
  {
   "cell_type": "code",
   "execution_count": null,
   "id": "f67fe440",
   "metadata": {
    "ExecuteTime": {
     "end_time": "2023-09-28T22:40:30.069475Z",
     "start_time": "2023-09-28T22:40:30.063259Z"
    }
   },
   "outputs": [],
   "source": [
    "# Consultando métodos e atributos da classe \"list\"\n",
    "dir(list)"
   ]
  },
  {
   "cell_type": "markdown",
   "id": "3a6813fa",
   "metadata": {},
   "source": [
    "##### dir(numpy)"
   ]
  },
  {
   "cell_type": "code",
   "execution_count": null,
   "id": "7888af19",
   "metadata": {
    "ExecuteTime": {
     "end_time": "2023-09-28T22:41:34.050727Z",
     "start_time": "2023-09-28T22:41:34.038935Z"
    }
   },
   "outputs": [],
   "source": [
    "# Consultando métodos e atributos da biblioteca \"numpy\"\n",
    "import numpy\n",
    "dir(numpy)"
   ]
  },
  {
   "cell_type": "code",
   "execution_count": null,
   "id": "60714d60",
   "metadata": {},
   "outputs": [],
   "source": [
    "help(numpy.array)"
   ]
  },
  {
   "cell_type": "markdown",
   "id": "3fd1570b",
   "metadata": {
    "ExecuteTime": {
     "end_time": "2023-09-26T21:35:04.156787Z",
     "start_time": "2023-09-26T21:35:04.153427Z"
    }
   },
   "source": [
    "### getsource()"
   ]
  },
  {
   "cell_type": "markdown",
   "id": "2c2484b8",
   "metadata": {},
   "source": [
    "Python é uma linguagem que possui muitos módulos e bibliotecas com funções predefinidas que facilitam a vida dos desenvolvedores. Em muitos casos, pode ser útil visualizar o código-fonte dessas funções para entender seu funcionamento interno ou para fins educativos. O módulo inspect do Python permite que você faça isso para funções escritas em Python.\n",
    "\n",
    "Para ver o código-fonte de uma função em particular, você pode importar o módulo <u>inspect</u> e usar a função <u>getsource</u>. No entanto, é importante observar que esta técnica se aplica apenas a funções escritas em Python. Muitas bibliotecas, especialmente as que requerem alta performance, como numpy, têm funções implementadas em linguagem C para eficiência. O código-fonte dessas funções não pode ser acessado usando a função getsource."
   ]
  },
  {
   "cell_type": "markdown",
   "id": "febc77dd",
   "metadata": {},
   "source": [
    "#### *Exemplos*"
   ]
  },
  {
   "cell_type": "markdown",
   "id": "3c032b45",
   "metadata": {},
   "source": [
    "##### Função escrita em python"
   ]
  },
  {
   "cell_type": "markdown",
   "id": "18ef3abc",
   "metadata": {},
   "source": [
    "A <u>networkx</u> é uma biblioteca Python destinada à criação, manipulação e estudo da estrutura, dinâmica e funções de redes complexas. Ela fornece ferramentas para trabalhar com estruturas de dados gráficas (nós, arestas), algoritmos padrões de grafos e métricas de visualização. Ideal para análise de redes em várias aplicações interdisciplinares. A seguir apresentamos um exemplo de utilização desta biblioteca para exibir o desenho de um grafo."
   ]
  },
  {
   "cell_type": "code",
   "execution_count": null,
   "id": "f163f209",
   "metadata": {
    "ExecuteTime": {
     "end_time": "2023-09-28T22:54:29.886539Z",
     "start_time": "2023-09-28T22:54:28.878396Z"
    }
   },
   "outputs": [],
   "source": [
    "# Importando o módulo NetworkX\n",
    "import networkx as nx\n",
    "\n",
    "# Criando um grafo\n",
    "G = nx.DiGraph()\n",
    "\n",
    "# Adicionando arestas (e vértices)\n",
    "G.add_edges_from([(1, 2), (2, 3), (1,4)])\n",
    "\n",
    "# Desenhando o grafo\n",
    "nx.draw(G, with_labels=True, node_size=100, node_color='skyblue', font_size=10)"
   ]
  },
  {
   "cell_type": "markdown",
   "id": "007a9e87",
   "metadata": {},
   "source": [
    "O código apresentado na célula a seguir nos fornece o código-fonte referente à função <u>draw</u> do módulo networkx."
   ]
  },
  {
   "cell_type": "code",
   "execution_count": null,
   "id": "ad56a235",
   "metadata": {
    "ExecuteTime": {
     "end_time": "2023-09-28T22:55:46.054910Z",
     "start_time": "2023-09-28T22:55:46.021340Z"
    }
   },
   "outputs": [],
   "source": [
    "import inspect\n",
    "import matplotlib.pyplot as plt\n",
    "\n",
    "code = inspect.getsource(plt.show) # certifique-se de chamar o módulo correspondente à função\n",
    "\n",
    "print(code)"
   ]
  },
  {
   "cell_type": "markdown",
   "id": "dbb81b09",
   "metadata": {},
   "source": [
    "##### Função não escrita em python (escritas em C)"
   ]
  },
  {
   "cell_type": "markdown",
   "id": "c51ce7a8",
   "metadata": {},
   "source": [
    "Como mencionado acima \"Muitas bibliotecas, especialmente as que requerem alta performance, como numpy, têm funções implementadas em linguagem C para eficiência. O código-fonte dessas funções não pode ser acessado usando a função getsource ou qualquer outra função do python.\" Neste caso deve-se buscar outras formas externas ao Python para obter o código fonte!"
   ]
  },
  {
   "cell_type": "code",
   "execution_count": null,
   "id": "e2e36af4",
   "metadata": {
    "ExecuteTime": {
     "end_time": "2023-09-28T22:57:11.055109Z",
     "start_time": "2023-09-28T22:57:09.578836Z"
    }
   },
   "outputs": [],
   "source": [
    "import inspect\n",
    "import numpy as np\n",
    "\n",
    "code = inspect.getsource(np.sin) # certifique-se de chamar o módulo correspondente à função\n",
    "\n",
    "print(code)"
   ]
  }
 ],
 "metadata": {
  "kernelspec": {
   "display_name": "Python 3 (ipykernel)",
   "language": "python",
   "name": "python3"
  },
  "language_info": {
   "codemirror_mode": {
    "name": "ipython",
    "version": 3
   },
   "file_extension": ".py",
   "mimetype": "text/x-python",
   "name": "python",
   "nbconvert_exporter": "python",
   "pygments_lexer": "ipython3",
   "version": "3.11.5"
  },
  "varInspector": {
   "cols": {
    "lenName": 16,
    "lenType": 16,
    "lenVar": 40
   },
   "kernels_config": {
    "python": {
     "delete_cmd_postfix": "",
     "delete_cmd_prefix": "del ",
     "library": "var_list.py",
     "varRefreshCmd": "print(var_dic_list())"
    },
    "r": {
     "delete_cmd_postfix": ") ",
     "delete_cmd_prefix": "rm(",
     "library": "var_list.r",
     "varRefreshCmd": "cat(var_dic_list()) "
    }
   },
   "types_to_exclude": [
    "module",
    "function",
    "builtin_function_or_method",
    "instance",
    "_Feature"
   ],
   "window_display": false
  }
 },
 "nbformat": 4,
 "nbformat_minor": 5
}
