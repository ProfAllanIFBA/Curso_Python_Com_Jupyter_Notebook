{
 "cells": [
  {
   "cell_type": "markdown",
   "id": "b42396bc",
   "metadata": {},
   "source": [
    "<center> <img src=\"logo_ifba.jpg\" alt=\"jpg_python\" width=\"100\" height=\"\"> </center>\n",
    "<br><br>\n",
    "<center> <img src=\"logo_coext.jpg\" alt=\"jpg_python\" width=\"200\" height=\"\"> </center>\n",
    "<br><br>\n",
    "<center><div style=\"text-align:center\">    <a href=\"https://colab.research.google.com/github/ProfAllanIFBA/Curso_Python_Com_Jupyter_Notebook/blob/main/Capitulo017_Topicos_Iniciais_Para_o_Trabalho_Com_Grandes_Volumes_de_Dados/Capitulo017_Topicos_Iniciais_Para_o_Trabalho_Com_Grandes_Volumes_de_Dados.ipynb\">Link Colab</a> \n",
    "</div><br><br></center>\n",
    "<div align=\"center\"><span style=\"font-size: 26px;\"><strong>Python Com Jupyter Notebook</strong></span></div><br><br>\n",
    "<center> <img src=\"python_gif.gif\" alt=\"gif_python\" width=\"80\"> </center>"
   ]
  },
  {
   "cell_type": "markdown",
   "id": "711bd6db",
   "metadata": {},
   "source": [
    "Este material apresenta uma explicação detalhada sobre o uso do software de programação em Python chamado Jupyter Notebook, com foco na análise de dados. Abordaremos desde estruturas básicas, como listas e dicionários, até estruturas mais complexas voltadas para a análise de dados, como pandas e seaborn, além de ferramentas destinadas à inteligência artificial.\n",
    "\n",
    "\n",
    "<font color='red'> <u>Este é um material de uso público e totalmente gratuito</u>. Contudo, eventuais edições são de responsabilidade de quem as fizer. </font>\n",
    "\n",
    "Você pode ajudar a melhorar este material!\n",
    "\n",
    "Contato e Sugestões: allansoares@ifba.edu.br.\n",
    "\n",
    "[**Equipe Executora**](https://github.com/ProfAllanIFBA/Curso_Python_Com_Jupyter_Notebook/blob/main/Capitulo000_Equipe/Capitulo000_Equipe.ipynb)"
   ]
  },
  {
   "cell_type": "markdown",
   "id": "0f7a1271",
   "metadata": {},
   "source": [
    "### <center> <font color='red'> Vídeo Aulas <img src=\"youtube.gif\" alt=\"jpg_python\" width=\"100\" height=\"\"> </font> </center>"
   ]
  },
  {
   "cell_type": "markdown",
   "id": "d7d11536",
   "metadata": {},
   "source": [
    "[Funções map, reduce e filter no Python](https://youtu.be/PHu2EbcMT0I)\n",
    "\n",
    "[Funções zip e enumerate no Python](https://youtu.be/z4Jztr_tT38)\n",
    "\n",
    "[Funções join e strip no Python](https://youtu.be/3IU01FSVrck)\n",
    "\n",
    "[List Comprehensions no Python](https://youtu.be/3HTID9LSXIo)\n",
    "\n",
    "[Dict Comprehensions no Python](https://youtu.be/y4aXktHXiuk)\n",
    "\n",
    "[Data Splitting em Python - Parte 1](https://youtu.be/qUcsdwEqyQQ)\n",
    "\n",
    "[Data Splitting em Python - Parte 2](https://youtu.be/-WMG-YAg7g8)\n",
    "\n",
    "[Tratamento de Exceções no Python](https://youtu.be/C7eiXnQ5kqo)"
   ]
  },
  {
   "cell_type": "markdown",
   "id": "c0c4b8a6",
   "metadata": {},
   "source": [
    "<div style=\"border: 2px solid black; padding: 10px; width: 100%; background-color: lightgray; display: flex; align-items: center;\">\n",
    "    <h1 style=\"color: red; text-align: center; margin: auto;\">\n",
    "        Capítulo 17 - Tópicos Iniciais Para Trabalho Com Grandes Volumes de Dados\n",
    "    </h1>\n",
    "</div>\n",
    "\n",
    "<font color='red'></font>\n",
    "<a href=\"\"></a>"
   ]
  },
  {
   "cell_type": "markdown",
   "id": "fc634d58",
   "metadata": {},
   "source": [
    "Trabalhar com grandes volumes de dados, também conhecido como Big Data, exige uma série de técnicas e ferramentas especializadas. Neste capítulo abordaremos alguns tópicos que serão úteis mais a frente."
   ]
  },
  {
   "cell_type": "markdown",
   "id": "b93ea126",
   "metadata": {},
   "source": [
    "##\n",
    "<div style=\"margin-top: -20px;\">\n",
    "<hr style=\"border: 2px solid blue;\">\n",
    "\n",
    "<font color='blue'><span style=\"font-size: 22px;\"><strong>17.1 Funções Importantes</strong></span></font>\n",
    "\n",
    "<hr style=\"border: 2px solid blue;\">\n",
    "</div>"
   ]
  },
  {
   "cell_type": "markdown",
   "id": "230722ec",
   "metadata": {},
   "source": [
    "Apresentaremos algumas funções importantes tendo em vista a análise de dados. Muitas delas já foram vistas em capítulos anteriores."
   ]
  },
  {
   "cell_type": "markdown",
   "id": "b68aab65",
   "metadata": {},
   "source": [
    "###\n",
    "<div style=\"margin-top: -20px;\">\n",
    "<hr style=\"border: 2px solid blue;\">\n",
    "\n",
    "<font color='blue'><span style=\"font-size: 18px;\"><strong>17.1.1 Função map()</strong></span></font>\n",
    "\n",
    "<hr style=\"border: 2px solid blue;\">\n",
    "</div>"
   ]
  },
  {
   "cell_type": "markdown",
   "id": "8217adc1",
   "metadata": {},
   "source": [
    "A função <u>map()</u> é uma função nativa do Python que permite aplicar uma função a todos os itens de um objeto iterável (como uma lista ou um dicionário) e retorna um objeto map. A função map() é frequentemente usada para transformações mais eficientes de listas em comparação com a utilização de loops for."
   ]
  },
  {
   "cell_type": "markdown",
   "id": "2ec11f0e",
   "metadata": {},
   "source": [
    "#### *Exemplo 1: Aplicando a função map a elementos de uma lista aplicados a uma função*"
   ]
  },
  {
   "cell_type": "code",
   "execution_count": null,
   "id": "ac4914eb",
   "metadata": {
    "ExecuteTime": {
     "end_time": "2023-10-04T14:15:36.179032Z",
     "start_time": "2023-10-04T14:15:36.169658Z"
    }
   },
   "outputs": [],
   "source": [
    "# Definindo a função \"pot\" que calcula o quadrado de um número\n",
    "def pot_2(x):\n",
    "    return x ** 2"
   ]
  },
  {
   "cell_type": "code",
   "execution_count": null,
   "id": "8f5ba2f4",
   "metadata": {
    "ExecuteTime": {
     "end_time": "2023-10-04T14:15:48.829459Z",
     "start_time": "2023-10-04T14:15:48.825124Z"
    }
   },
   "outputs": [],
   "source": [
    "# Criando uma lista de números de 1 a 10\n",
    "numeros = range(1, 11)"
   ]
  },
  {
   "cell_type": "code",
   "execution_count": null,
   "id": "ffb4adf6",
   "metadata": {
    "ExecuteTime": {
     "end_time": "2023-10-04T14:16:34.005281Z",
     "start_time": "2023-10-04T14:16:34.001092Z"
    }
   },
   "outputs": [],
   "source": [
    "# Aplicando a função \"pot\" a cada número da lista e armazenando os resultados em uma nova lista chamada \"quadrados\"\n",
    "quadrados = list(map(pot_2, numeros))\n",
    "\n",
    "# Imprimindo a lista de quadrados na saída\n",
    "print(quadrados)"
   ]
  },
  {
   "cell_type": "markdown",
   "id": "54e7eefc",
   "metadata": {},
   "source": [
    "#### *Exemplo 2: Aplicando a função map a elementos de duas tuplas*"
   ]
  },
  {
   "cell_type": "code",
   "execution_count": null,
   "id": "6c6140fe",
   "metadata": {
    "ExecuteTime": {
     "end_time": "2023-10-04T14:17:58.030484Z",
     "start_time": "2023-10-04T14:17:58.025318Z"
    }
   },
   "outputs": [],
   "source": [
    "# Calculando o IMC de quatro indivíduos\n",
    "IMC = lambda m, h: round(m/(h**2),2)"
   ]
  },
  {
   "cell_type": "code",
   "execution_count": null,
   "id": "17fc505c",
   "metadata": {
    "ExecuteTime": {
     "end_time": "2023-10-04T14:19:30.957323Z",
     "start_time": "2023-10-04T14:19:30.952294Z"
    },
    "scrolled": true
   },
   "outputs": [],
   "source": [
    "# Lista contendo as massas dos indivíduos\n",
    "m = (70,78,67,90)\n",
    "\n",
    "# lista contendo as alturas dos indivíduos\n",
    "h = (1.67,1.71,1.65,1.79)  \n",
    "\n",
    "# Tupla contendo os IMCs dos indivíduos\n",
    "tupla = tuple(map(IMC, m, h))\n",
    "\n",
    "# Imprimindo a tupla com os IMCs\n",
    "print(tupla)"
   ]
  },
  {
   "cell_type": "markdown",
   "id": "e55d2d23",
   "metadata": {},
   "source": [
    "###\n",
    "<div style=\"margin-top: -20px;\">\n",
    "<hr style=\"border: 2px solid blue;\">\n",
    "\n",
    "<font color='blue'><span style=\"font-size: 18px;\"><strong>17.1.2 Função reduce()</strong></span></font>\n",
    "\n",
    "<hr style=\"border: 2px solid blue;\">\n",
    "</div>"
   ]
  },
  {
   "cell_type": "markdown",
   "id": "9911c98c",
   "metadata": {},
   "source": [
    "A função <u>reduce()</u> é uma função não nativa do Python que permite reduzir uma sequência de elementos a um único valor, aplicando uma determinada função cumulativa a cada par de elementos consecutivos. Essa função cumulativa deve receber dois argumentos e retornar um único valor."
   ]
  },
  {
   "cell_type": "markdown",
   "id": "05d12848",
   "metadata": {},
   "source": [
    "#### *Exemplo 1: Aplicando à função reduce aos elementos de uma lista*"
   ]
  },
  {
   "cell_type": "code",
   "execution_count": null,
   "id": "52887a25",
   "metadata": {
    "ExecuteTime": {
     "end_time": "2023-10-04T14:24:07.963599Z",
     "start_time": "2023-10-04T14:24:07.959998Z"
    }
   },
   "outputs": [],
   "source": [
    "# Importando a função reduce do módulo functools\n",
    "from functools import reduce\n",
    "\n",
    "# Função cumulativa para somar dois elementos\n",
    "def soma(x, y):\n",
    "    return x + y"
   ]
  },
  {
   "cell_type": "code",
   "execution_count": null,
   "id": "f49d5cda",
   "metadata": {
    "ExecuteTime": {
     "end_time": "2023-10-04T14:24:09.363651Z",
     "start_time": "2023-10-04T14:24:09.359641Z"
    }
   },
   "outputs": [],
   "source": [
    "# Sequência de números\n",
    "numeros = [1, 2, 3, 4, 5]\n",
    "\n",
    "# Aplicando a função reduce() para somar todos os elementos da sequência\n",
    "resultado = reduce(soma, numeros)\n",
    "\n",
    "# Imprimeindo a soma dos elementos\n",
    "print(resultado)"
   ]
  },
  {
   "cell_type": "markdown",
   "id": "be8f1ade",
   "metadata": {},
   "source": [
    "#### *Exemplo 2: Aplicando condicionalmente a função reduce aos elementos de uma lista*"
   ]
  },
  {
   "cell_type": "code",
   "execution_count": null,
   "id": "f01805b0",
   "metadata": {
    "ExecuteTime": {
     "end_time": "2023-10-04T14:25:36.723579Z",
     "start_time": "2023-10-04T14:25:36.720383Z"
    }
   },
   "outputs": [],
   "source": [
    "from functools import reduce\n",
    "\n",
    "# Função cumulativa para encontrar o máximo entre dois elementos\n",
    "def maximo(x, y):\n",
    "    return x if x > y else y"
   ]
  },
  {
   "cell_type": "code",
   "execution_count": null,
   "id": "64acb12d",
   "metadata": {
    "ExecuteTime": {
     "end_time": "2023-10-04T14:26:25.716825Z",
     "start_time": "2023-10-04T14:26:25.712684Z"
    }
   },
   "outputs": [],
   "source": [
    "# Sequência de números\n",
    "numeros = [3, 8, 2, 1, 5]\n",
    "\n",
    "# Encontrando o máximo da sequência usando reduce()\n",
    "maximo_valor = reduce(maximo, numeros)\n",
    "\n",
    "# Imprimindo o valor máximo\n",
    "print(maximo_valor)"
   ]
  },
  {
   "cell_type": "markdown",
   "id": "9b8718f2",
   "metadata": {},
   "source": [
    "###\n",
    "<div style=\"margin-top: -20px;\">\n",
    "<hr style=\"border: 2px solid blue;\">\n",
    "\n",
    "<font color='blue'><span style=\"font-size: 18px;\"><strong>17.1.3 Função filter()</strong></span></font>\n",
    "\n",
    "<hr style=\"border: 2px solid blue;\">\n",
    "</div>"
   ]
  },
  {
   "cell_type": "markdown",
   "id": "86b34040",
   "metadata": {},
   "source": [
    "A função <u>filter()</u> é uma função integrada do Python que permite filtrar uma sequência de elementos com base em uma função de filtro. Essa função de filtro deve receber um único argumento e retornar um valor booleano (True ou False) indicando se o elemento deve ser incluído ou não na sequência resultante."
   ]
  },
  {
   "cell_type": "markdown",
   "id": "081ac008",
   "metadata": {},
   "source": [
    "#### *Exemplo 1: Filtrando valores pares de  uma lista de números*"
   ]
  },
  {
   "cell_type": "code",
   "execution_count": null,
   "id": "e256e304",
   "metadata": {
    "ExecuteTime": {
     "end_time": "2023-10-04T14:28:23.611869Z",
     "start_time": "2023-10-04T14:28:23.608901Z"
    }
   },
   "outputs": [],
   "source": [
    "# Função de filtro para verificar se um número é par\n",
    "def par(numero):\n",
    "    return numero % 2 == 0"
   ]
  },
  {
   "cell_type": "markdown",
   "id": "ca812760",
   "metadata": {},
   "source": [
    "Note que a função par() retorna um valor booleano. De fato, apliquemos aos valores 3 e 4:"
   ]
  },
  {
   "cell_type": "code",
   "execution_count": null,
   "id": "fea17b68",
   "metadata": {
    "ExecuteTime": {
     "end_time": "2023-10-04T14:29:09.780585Z",
     "start_time": "2023-10-04T14:29:09.776681Z"
    }
   },
   "outputs": [],
   "source": [
    "# Verificando a paridade\n",
    "print(par(3))\n",
    "print(par(4))"
   ]
  },
  {
   "cell_type": "code",
   "execution_count": null,
   "id": "eea5d6ce",
   "metadata": {
    "ExecuteTime": {
     "end_time": "2023-10-04T14:30:15.181029Z",
     "start_time": "2023-10-04T14:30:15.176414Z"
    },
    "scrolled": true
   },
   "outputs": [],
   "source": [
    "# Lista de números\n",
    "numeros = [1, 2, 3, 4, 5, 6, 7, 8, 9, 10]\n",
    "\n",
    "# Filtrando os números pares da lista usando filter()\n",
    "numeros_pares = list(filter(par, numeros))\n",
    "\n",
    "# imprimindo a lista de pares presentes na lista \"numeros\"\n",
    "print(numeros_pares)"
   ]
  },
  {
   "cell_type": "markdown",
   "id": "b2bde8bc",
   "metadata": {},
   "source": [
    "#### *Exemplo 2: Filtrando palavras de uma lista que possuem alguma letra maiúscula*"
   ]
  },
  {
   "cell_type": "code",
   "execution_count": null,
   "id": "fa3555fe",
   "metadata": {
    "ExecuteTime": {
     "end_time": "2023-10-04T14:31:53.484441Z",
     "start_time": "2023-10-04T14:31:53.479865Z"
    }
   },
   "outputs": [],
   "source": [
    "# Função de filtro para verificar se uma string contém alguma letra maiúscula\n",
    "def tem_maiuscula(texto):\n",
    "    return any(c.isupper() for c in texto)"
   ]
  },
  {
   "cell_type": "markdown",
   "id": "9e42c924",
   "metadata": {},
   "source": [
    "Note que a função par() retorna um valor booleano. De fato, apliquemos aos valores 3 e 4:"
   ]
  },
  {
   "cell_type": "code",
   "execution_count": null,
   "id": "5ed246fc",
   "metadata": {
    "ExecuteTime": {
     "end_time": "2023-10-04T14:32:22.219874Z",
     "start_time": "2023-10-04T14:32:22.216010Z"
    }
   },
   "outputs": [],
   "source": [
    "# Verificando a existência de letras maiúsculas\n",
    "print(tem_maiuscula('chatGPT'))\n",
    "print(tem_maiuscula('openai'))"
   ]
  },
  {
   "cell_type": "code",
   "execution_count": null,
   "id": "f55373e6",
   "metadata": {
    "ExecuteTime": {
     "end_time": "2023-10-04T14:33:33.220932Z",
     "start_time": "2023-10-04T14:33:33.216610Z"
    }
   },
   "outputs": [],
   "source": [
    "# Lista de strings\n",
    "strings = ['Python', 'openai', 'chatGPT', 'Inteligência Artificial']\n",
    "\n",
    "# Filtrando as strings com letras maiúsculas usando filter()\n",
    "strings_maiusculas = list(filter(tem_maiuscula, strings))\n",
    "\n",
    "# Imprimindo uma lista contendo todas as palavras maiúsculas da lista \"string\"\n",
    "print(strings_maiusculas)"
   ]
  },
  {
   "cell_type": "markdown",
   "id": "56eb7f47",
   "metadata": {},
   "source": [
    "###\n",
    "<div style=\"margin-top: -20px;\">\n",
    "<hr style=\"border: 2px solid blue;\">\n",
    "\n",
    "<font color='blue'><span style=\"font-size: 18px;\"><strong>17.1.4 Função zip()</strong></span></font>\n",
    "\n",
    "<hr style=\"border: 2px solid blue;\">\n",
    "</div>"
   ]
  },
  {
   "cell_type": "markdown",
   "id": "c3cb4433",
   "metadata": {},
   "source": [
    "A função <u>zip()</u> utiliza um iterador que produz tuplas contendo elementos correspondentes das sequências de entrada. O iterador é interrompido quando a sequência mais curta é esgotada."
   ]
  },
  {
   "cell_type": "markdown",
   "id": "37491360",
   "metadata": {},
   "source": [
    "#### *Exemplo 1: Produzindo pares ordenados a partir de duas listas*"
   ]
  },
  {
   "cell_type": "code",
   "execution_count": null,
   "id": "64465802",
   "metadata": {
    "ExecuteTime": {
     "end_time": "2023-10-04T15:11:19.356682Z",
     "start_time": "2023-10-04T15:11:19.351648Z"
    }
   },
   "outputs": [],
   "source": [
    "# Listas de números\n",
    "numeros1 = [1, 2, 3, 4, 5]\n",
    "numeros2 = [10, 20, 30, 40, 50]\n",
    "\n",
    "# Combinando as listas usando zip()\n",
    "combinados = list(zip(numeros1, numeros2))\n",
    "\n",
    "# Imprimindo valores combinados\n",
    "print(combinados)"
   ]
  },
  {
   "cell_type": "markdown",
   "id": "6919d0eb",
   "metadata": {},
   "source": [
    "#### *Exemplo 2: Produzindo ternas ordenadas a partir de três listas*"
   ]
  },
  {
   "cell_type": "code",
   "execution_count": null,
   "id": "c0a05141",
   "metadata": {
    "ExecuteTime": {
     "end_time": "2023-10-04T15:12:07.613992Z",
     "start_time": "2023-10-04T15:12:07.609006Z"
    }
   },
   "outputs": [],
   "source": [
    "# Listas de nomes, idades e alturas\n",
    "nomes = ['Ana', 'João', 'Maria']\n",
    "idades = [25, 30, 28]\n",
    "alturas = [1.65, 1.75, 1.70]\n",
    "\n",
    "# Combinando as listas usando zip()\n",
    "combinados = list(zip(nomes, idades, alturas))\n",
    "\n",
    "# Imprimindo dados combinados\n",
    "print(combinados)"
   ]
  },
  {
   "cell_type": "markdown",
   "id": "f159159e",
   "metadata": {},
   "source": [
    "#### *Exemplo 3: Prodzindo pares ordenados com caracteres de posições correspondentes em uma string*"
   ]
  },
  {
   "cell_type": "code",
   "execution_count": null,
   "id": "fc083930",
   "metadata": {
    "ExecuteTime": {
     "end_time": "2023-10-04T15:13:43.950467Z",
     "start_time": "2023-10-04T15:13:43.945863Z"
    }
   },
   "outputs": [],
   "source": [
    "# Strings\n",
    "string1 = \"Olá\"\n",
    "string2 = \"Mundo\"\n",
    "\n",
    "# Combinando as strings usando zip()\n",
    "combinados = list(zip(string1, string2))\n",
    "\n",
    "# Imprimindo letras combinadas\n",
    "print(combinados)"
   ]
  },
  {
   "cell_type": "markdown",
   "id": "9cfa8752",
   "metadata": {},
   "source": [
    "#### *Exemplo 4: Produzindo pares ordenados de chaves e de valores de um dicionário*"
   ]
  },
  {
   "cell_type": "code",
   "execution_count": null,
   "id": "aa029d58",
   "metadata": {
    "ExecuteTime": {
     "end_time": "2023-10-04T15:14:27.272370Z",
     "start_time": "2023-10-04T15:14:27.267180Z"
    }
   },
   "outputs": [],
   "source": [
    "# Criando 2 dicionários\n",
    "valores1 = {'x1':1, 'x2':2, 'x3': -2}\n",
    "valores2 = {'y1':-3, 'y2':4, 'y3': -1}\n",
    "\n",
    "# Imprimindo o dicionário 1\n",
    "print(valores1)"
   ]
  },
  {
   "cell_type": "code",
   "execution_count": null,
   "id": "eec25ca9",
   "metadata": {
    "ExecuteTime": {
     "end_time": "2023-10-04T15:15:02.757789Z",
     "start_time": "2023-10-04T15:15:02.753243Z"
    }
   },
   "outputs": [],
   "source": [
    "# Zip para unir chaves\n",
    "zip_chaves = list(zip(valores1,valores2))\n",
    "\n",
    "# Imprimindo chaves zipadas\n",
    "print(zip_chaves)"
   ]
  },
  {
   "cell_type": "code",
   "execution_count": null,
   "id": "c8bd5be7",
   "metadata": {
    "ExecuteTime": {
     "end_time": "2023-10-04T15:15:46.316762Z",
     "start_time": "2023-10-04T15:15:46.312778Z"
    },
    "scrolled": true
   },
   "outputs": [],
   "source": [
    "# Zip para unir chaves e valores\n",
    "zip_valores = list(zip(valores1.values(), valores2.values()))\n",
    "\n",
    "# Imprimindo valores zipados\n",
    "print(zip_valores)"
   ]
  },
  {
   "cell_type": "markdown",
   "id": "46e865d9",
   "metadata": {},
   "source": [
    "###\n",
    "<div style=\"margin-top: -20px;\">\n",
    "<hr style=\"border: 2px solid blue;\">\n",
    "\n",
    "<font color='blue'><span style=\"font-size: 18px;\"><strong>17.1.5 Função enumerate()</strong></span></font>\n",
    "\n",
    "<hr style=\"border: 2px solid blue;\">\n",
    "</div>"
   ]
  },
  {
   "cell_type": "markdown",
   "id": "5dc384ae",
   "metadata": {},
   "source": [
    "A função <u>enumerate()</u> é uma função integrada do Python que permite iterar sobre uma sequência ao mesmo tempo em que fornece um contador automático para cada elemento. Ela retorna um objeto iterável contendo pares (índice, elemento) para cada elemento na sequência."
   ]
  },
  {
   "cell_type": "markdown",
   "id": "b2290dc8",
   "metadata": {},
   "source": [
    "#### *Exemplo 1: Enumerando elementos de uma lista*"
   ]
  },
  {
   "cell_type": "code",
   "execution_count": null,
   "id": "70d1cd80",
   "metadata": {
    "ExecuteTime": {
     "end_time": "2023-10-04T15:17:10.142264Z",
     "start_time": "2023-10-04T15:17:10.137693Z"
    }
   },
   "outputs": [],
   "source": [
    "# Lista de frutas\n",
    "frutas = ['maçã', 'banana', 'laranja', 'manga']\n",
    "\n",
    "# Iterando sobre a lista usando enumerate()\n",
    "for indice, fruta in enumerate(frutas):\n",
    "    print(f'Índice: {indice}, Fruta: {fruta}')"
   ]
  },
  {
   "cell_type": "markdown",
   "id": "0a60ec6a",
   "metadata": {},
   "source": [
    "#### *Exemplo 2: Enumerando elementos de uma tupla com indexação não padrão (não 0 inicial)*"
   ]
  },
  {
   "cell_type": "code",
   "execution_count": null,
   "id": "211ad257",
   "metadata": {
    "ExecuteTime": {
     "end_time": "2023-10-04T15:18:25.622669Z",
     "start_time": "2023-10-04T15:18:25.618313Z"
    }
   },
   "outputs": [],
   "source": [
    "# Lista de Classificados\n",
    "candidatos = ('Lara', 'Lucas', 'Allan', 'Osmar')\n",
    "\n",
    "# Iterando sobre a lista usando enumerate()\n",
    "for posicao, candidato in enumerate(candidatos,start=1):\n",
    "    print(f'Posição: {posicao}, Candidato: {candidato}')"
   ]
  },
  {
   "cell_type": "markdown",
   "id": "e1d6a98c",
   "metadata": {},
   "source": [
    "#### *Exemplo 3: Enumerando palavras soltas em uma frase*"
   ]
  },
  {
   "cell_type": "code",
   "execution_count": null,
   "id": "d6fe7dd3",
   "metadata": {
    "ExecuteTime": {
     "end_time": "2023-10-04T15:21:30.350342Z",
     "start_time": "2023-10-04T15:21:30.345532Z"
    }
   },
   "outputs": [],
   "source": [
    "# string de entrada\n",
    "frase = 'Python é uma linguagem de programação poderosa'\n",
    "\n",
    "# Criando um dicionário com as palavras e suas posições usando enumerate()\n",
    "dicionario = {palavra: indice for indice, palavra in enumerate(frase.split(), start=1)}\n",
    "\n",
    "# Imprimindo o dicionário contendo a indexação das palavras da string \"frase\" começando de 1\n",
    "print(dicionario)"
   ]
  },
  {
   "cell_type": "markdown",
   "id": "8af14043",
   "metadata": {},
   "source": [
    "###\n",
    "<div style=\"margin-top: -20px;\">\n",
    "<hr style=\"border: 2px solid blue;\">\n",
    "\n",
    "<font color='blue'><span style=\"font-size: 18px;\"><strong>17.1.6 Função join()</strong></span></font>\n",
    "\n",
    "<hr style=\"border: 2px solid blue;\">\n",
    "</div>"
   ]
  },
  {
   "cell_type": "markdown",
   "id": "4e6c69fa",
   "metadata": {},
   "source": [
    "A função <u>join()</u> é um método de strings do Python que permite concatenar elementos de uma sequência em uma única string. Ela recebe uma sequência como argumento e retorna uma nova string, na qual os elementos da sequência são concatenados usando um separador específico."
   ]
  },
  {
   "cell_type": "markdown",
   "id": "88991239",
   "metadata": {},
   "source": [
    "#### *Exemplo 1: Formando uma frase a partir de uma lista contendo palavras*"
   ]
  },
  {
   "cell_type": "code",
   "execution_count": null,
   "id": "7deb9c45",
   "metadata": {
    "ExecuteTime": {
     "end_time": "2023-10-04T15:35:41.281108Z",
     "start_time": "2023-10-04T15:35:41.276839Z"
    }
   },
   "outputs": [],
   "source": [
    "# Lista de palavras\n",
    "palavras = ['Python', 'é', 'incrível']\n",
    "\n",
    "# Concatenando as palavras em uma única string usando join()\n",
    "frase = ' '.join(palavras)\n",
    "\n",
    "# Impressão da frase concatenada\n",
    "print(frase)"
   ]
  },
  {
   "cell_type": "code",
   "execution_count": null,
   "id": "a7455928",
   "metadata": {
    "ExecuteTime": {
     "end_time": "2023-10-04T15:35:50.402730Z",
     "start_time": "2023-10-04T15:35:50.398632Z"
    }
   },
   "outputs": [],
   "source": [
    "print(type(frase))"
   ]
  },
  {
   "cell_type": "markdown",
   "id": "3a94eb96",
   "metadata": {},
   "source": [
    "#### *Exemplo 2: Formando um número a partir valores em uma lista*"
   ]
  },
  {
   "cell_type": "code",
   "execution_count": null,
   "id": "2108325b",
   "metadata": {
    "ExecuteTime": {
     "end_time": "2023-10-04T15:38:15.211913Z",
     "start_time": "2023-10-04T15:38:15.207756Z"
    }
   },
   "outputs": [],
   "source": [
    "# Lista de números inteiros\n",
    "numeros = [1, 2, 3, 4, 5]\n",
    "\n",
    "# Concatenando os números como strings em uma única string usando join()\n",
    "numero_como_string = ''.join(str(n) for n in numeros)\n",
    "\n",
    "# Impressão do número concatenado\n",
    "print(numero_como_string)"
   ]
  },
  {
   "cell_type": "code",
   "execution_count": null,
   "id": "5c3091a5",
   "metadata": {
    "ExecuteTime": {
     "end_time": "2023-10-04T15:38:17.067328Z",
     "start_time": "2023-10-04T15:38:17.062849Z"
    }
   },
   "outputs": [],
   "source": [
    "print(type(numero_como_string))"
   ]
  },
  {
   "cell_type": "markdown",
   "id": "eb9985b4",
   "metadata": {},
   "source": [
    "#### *Exemplo 3: Formando uma frase a partir de uma lista de letras e sinais de pontuação.*"
   ]
  },
  {
   "cell_type": "code",
   "execution_count": null,
   "id": "d7ca7d12",
   "metadata": {
    "ExecuteTime": {
     "end_time": "2023-10-04T15:39:32.907417Z",
     "start_time": "2023-10-04T15:39:32.903442Z"
    }
   },
   "outputs": [],
   "source": [
    "# Lista de caracteres\n",
    "caracteres = ['H', 'e', 'l', 'l', 'o', ',', ' ', 'W', 'o', 'r', 'l', 'd', '!']\n",
    "\n",
    "# Unindo os caracteres em uma única string usando join()\n",
    "nova_string = ''.join(caracteres)\n",
    "\n",
    "# Impressã da frase concatenada\n",
    "print(nova_string)"
   ]
  },
  {
   "cell_type": "markdown",
   "id": "58a49c2b",
   "metadata": {},
   "source": [
    "###\n",
    "<div style=\"margin-top: -20px;\">\n",
    "<hr style=\"border: 2px solid blue;\">\n",
    "\n",
    "<font color='blue'><span style=\"font-size: 18px;\"><strong>17.1.7 Função strip()</strong></span></font>\n",
    "\n",
    "<hr style=\"border: 2px solid blue;\">\n",
    "</div>"
   ]
  },
  {
   "cell_type": "markdown",
   "id": "7f38a2f0",
   "metadata": {},
   "source": [
    "A função <u>strip()</u> é um método de strings no Python que remove os espaços em branco no início e no final de uma string ou caracteres indicados."
   ]
  },
  {
   "cell_type": "markdown",
   "id": "94cec3e1",
   "metadata": {},
   "source": [
    "#### *Exemplo 1: Eliminando espaços vazios no início e no fim de uma frase*"
   ]
  },
  {
   "cell_type": "code",
   "execution_count": null,
   "id": "7f14c84b",
   "metadata": {
    "ExecuteTime": {
     "end_time": "2023-10-04T15:42:11.356556Z",
     "start_time": "2023-10-04T15:42:11.352377Z"
    },
    "scrolled": true
   },
   "outputs": [],
   "source": [
    "texto = \"   Olá, mundo!   \"\n",
    "\n",
    "texto_limpo = texto.strip()\n",
    "\n",
    "print(texto)\n",
    "print(texto_limpo)"
   ]
  },
  {
   "cell_type": "markdown",
   "id": "51641b04",
   "metadata": {},
   "source": [
    "#### *Exemplo 2: Eliminando símbolos repetidos no início e no fim de uma string*"
   ]
  },
  {
   "cell_type": "code",
   "execution_count": null,
   "id": "11066448",
   "metadata": {
    "ExecuteTime": {
     "end_time": "2023-10-04T15:44:37.723905Z",
     "start_time": "2023-10-04T15:44:37.720149Z"
    }
   },
   "outputs": [],
   "source": [
    "# string com símbolos desnecessários\n",
    "string = \"***Python***\"\n",
    "\n",
    "# Limpando símbolos desnecessários\n",
    "string_limpo = string.strip(\"*\")\n",
    "\n",
    "# Imprimindo a string limpa\n",
    "print(string_limpo)"
   ]
  },
  {
   "cell_type": "markdown",
   "id": "21cee2dc",
   "metadata": {},
   "source": [
    "#### *Exemplo 3: Eliminando símbolos de um conjunto específico no início e no fim de uma string*"
   ]
  },
  {
   "cell_type": "code",
   "execution_count": null,
   "id": "85800b3a",
   "metadata": {
    "ExecuteTime": {
     "end_time": "2023-10-04T15:46:15.843605Z",
     "start_time": "2023-10-04T15:46:15.840085Z"
    }
   },
   "outputs": [],
   "source": [
    "# Texto com símbolos desnecessários\n",
    "texto = \"1#*Olá, mundo! *#1\"\n",
    "\n",
    "# Limpando o texto\n",
    "texto_limpo = texto.strip(\"*#1!\")\n",
    "\n",
    "# Imprimindo o texto limpo\n",
    "print(texto_limpo)"
   ]
  },
  {
   "cell_type": "markdown",
   "id": "92b17444",
   "metadata": {},
   "source": [
    "##\n",
    "<div style=\"margin-top: -20px;\">\n",
    "<hr style=\"border: 2px solid blue;\">\n",
    "\n",
    "<font color='blue'><span style=\"font-size: 22px;\"><strong>17.2 List and Dict Comprehensions</strong></span></font>\n",
    "\n",
    "<hr style=\"border: 2px solid blue;\">\n",
    "</div>"
   ]
  },
  {
   "cell_type": "markdown",
   "id": "676ec9ae",
   "metadata": {},
   "source": [
    "A <u>compreensão de listas e de dicionários</u>, ou <u>list and dict comprehension</u>, é uma característica poderosa do Python que permite criar listas e dicionários de maneira concisa e eficiente. Trata-se de uma ferramenta fundamental para quem trabalha com a linguagem, especialmente em aplicações que lidam com grande volume de dados, como a ciência de dados, pois pode ajudar a tornar o código mais legível e eficiente."
   ]
  },
  {
   "cell_type": "markdown",
   "id": "15af40ae",
   "metadata": {},
   "source": [
    "###\n",
    "<div style=\"margin-top: -20px;\">\n",
    "<hr style=\"border: 2px solid blue;\">\n",
    "\n",
    "<font color='blue'><span style=\"font-size: 18px;\"><strong>17.2.1 List Comprehensions</strong></span></font>\n",
    "\n",
    "<hr style=\"border: 2px solid blue;\">\n",
    "</div>"
   ]
  },
  {
   "cell_type": "markdown",
   "id": "398b08de",
   "metadata": {},
   "source": [
    "#### *Exemplo 1: Gerando uma lista de maneira usual (com indentação) vs list comprehension*"
   ]
  },
  {
   "cell_type": "markdown",
   "id": "b72e76ec",
   "metadata": {},
   "source": [
    "##### Maneira usual"
   ]
  },
  {
   "cell_type": "code",
   "execution_count": null,
   "id": "bab683bf",
   "metadata": {
    "ExecuteTime": {
     "end_time": "2023-10-05T12:59:17.313864Z",
     "start_time": "2023-10-05T12:59:17.302570Z"
    }
   },
   "outputs": [],
   "source": [
    "# Criando uma lista vazia chamada \"lista_numeros\"\n",
    "lista_numeros = []\n",
    "\n",
    "# Iterando sobre a sequência de números de 2 a 10, com incremento de 2 a cada iteração\n",
    "for x in range(2, 11, 2):\n",
    "    # Adicionando o número atual à lista \"lista_numeros\"\n",
    "    lista_numeros.append(x)\n",
    "\n",
    "# Imprimindo a lista \"lista_numeros\" na saída\n",
    "print(lista_numeros)"
   ]
  },
  {
   "cell_type": "markdown",
   "id": "49ed89da",
   "metadata": {},
   "source": [
    "##### Usando list comprehension "
   ]
  },
  {
   "cell_type": "code",
   "execution_count": null,
   "id": "d8171442",
   "metadata": {
    "ExecuteTime": {
     "end_time": "2023-10-05T13:00:56.225085Z",
     "start_time": "2023-10-05T13:00:56.220684Z"
    }
   },
   "outputs": [],
   "source": [
    "# Criando uma lista \"lista_numeros\" utilizando uma compreensão de lista\n",
    "lista_numeros = [x for x in range(2, 11, 2)]\n",
    "\n",
    "# Imprimindo a lista \"lista_numeros\" na saída\n",
    "print(lista_numeros)"
   ]
  },
  {
   "cell_type": "markdown",
   "id": "2aad8e83",
   "metadata": {},
   "source": [
    "#### *Exemplo 2: Gerando uma lista com múltiplos de 5 de maneira usual vs list comprehension*"
   ]
  },
  {
   "cell_type": "markdown",
   "id": "08756a30",
   "metadata": {},
   "source": [
    "##### Maneira usual"
   ]
  },
  {
   "cell_type": "code",
   "execution_count": null,
   "id": "f3377f2f",
   "metadata": {
    "ExecuteTime": {
     "end_time": "2023-10-05T13:02:15.201274Z",
     "start_time": "2023-10-05T13:02:15.197160Z"
    }
   },
   "outputs": [],
   "source": [
    "# Definindo uma lista \"lista_numeros\" com alguns números\n",
    "lista_numeros = [0, 12, 15, 20, 21, 27, 30]\n",
    "\n",
    "# Criando uma lista vazia chamada \"lista_multiplos\"\n",
    "lista_multiplos = []\n",
    "\n",
    "# Iterando sobre cada elemento \"x\" da lista \"lista_numeros\"\n",
    "for x in lista_numeros:\n",
    "    # Verificando se o elemento \"x\" é múltiplo de 5\n",
    "    if x % 5 == 0:\n",
    "        # Adicionando o elemento \"x\" à lista \"lista_multiplos\"\n",
    "        lista_multiplos.append(x)\n",
    "\n",
    "# Imprimindo a lista \"lista_multiplos\" na saída\n",
    "print(lista_multiplos)"
   ]
  },
  {
   "cell_type": "markdown",
   "id": "5be31d16",
   "metadata": {},
   "source": [
    "##### Usando list comprehension"
   ]
  },
  {
   "cell_type": "code",
   "execution_count": null,
   "id": "76a1c892",
   "metadata": {
    "ExecuteTime": {
     "end_time": "2023-10-05T13:04:58.940167Z",
     "start_time": "2023-10-05T13:04:58.934923Z"
    }
   },
   "outputs": [],
   "source": [
    "# Definindo uma lista \"lista_numeros\" com alguns números\n",
    "lista_numeros = [0, 12, 15, 20, 21, 27, 30]\n",
    "\n",
    "# Criando uma nova lista \"lista_multiplos\" utilizando uma compreensão de lista\n",
    "# Selecionando apenas os elementos \"x\" da lista \"lista_numeros\" que são múltiplos de 5\n",
    "lista_multiplos = [x for x in lista_numeros if x % 5 == 0]\n",
    "\n",
    "# Imprimindo a lista \"lista_multiplos\" na saída\n",
    "print(lista_multiplos)"
   ]
  },
  {
   "cell_type": "markdown",
   "id": "c138a8e7",
   "metadata": {},
   "source": [
    "#### *Exemplo 3: Gerando uma lista de palavras que começam com a letra \"m\" de maneira usual vs lista comprehension*"
   ]
  },
  {
   "cell_type": "markdown",
   "id": "07b9b5ad",
   "metadata": {},
   "source": [
    "##### Maneira usual"
   ]
  },
  {
   "cell_type": "code",
   "execution_count": null,
   "id": "d6e4f3a9",
   "metadata": {
    "ExecuteTime": {
     "end_time": "2023-10-05T13:06:44.475067Z",
     "start_time": "2023-10-05T13:06:44.469085Z"
    }
   },
   "outputs": [],
   "source": [
    "# Definindo uma lista \"lista_frutas\" com algumas frutas\n",
    "lista_frutas = [\"abacate\", \"banana\", \"melancia\", \"tomate\", \"manga\", \"melão\", \"tangerina\", \"uva\"]\n",
    "\n",
    "# Criando uma lista vazia chamada \"frutas_prefixo\"\n",
    "frutas_prefixo = []\n",
    "\n",
    "# Iterando sobre cada elemento \"x\" da lista \"lista_frutas\"\n",
    "for x in lista_frutas:\n",
    "    # Verificando se o elemento \"x\" começa com a letra 'm'\n",
    "    if x.startswith('m'):\n",
    "        # Adicionando o elemento \"x\" à lista \"frutas_prefixo\"\n",
    "        frutas_prefixo.append(x)\n",
    "\n",
    "# Imprimindo a lista \"frutas_prefixo\" na saída\n",
    "print(frutas_prefixo)"
   ]
  },
  {
   "cell_type": "markdown",
   "id": "27013944",
   "metadata": {},
   "source": [
    "##### Usando list comprehension"
   ]
  },
  {
   "cell_type": "code",
   "execution_count": null,
   "id": "f4bddbbb",
   "metadata": {
    "ExecuteTime": {
     "end_time": "2023-10-05T13:07:46.913637Z",
     "start_time": "2023-10-05T13:07:46.909013Z"
    }
   },
   "outputs": [],
   "source": [
    "# Definindo uma lista \"lista_frutas\" com algumas frutas\n",
    "lista_frutas = [\"abacate\", \"banana\", \"melancia\", \"tomate\", \"manga\", \"melão\", \"tangerina\", \"uva\"]\n",
    "\n",
    "# Criando uma nova lista \"frutas_prefixo\" utilizando uma compreensão de lista\n",
    "# Selecionando apenas as frutas \"x\" da lista \"lista_frutas\" que começam com a letra 'm'\n",
    "frutas_prefixo = [x for x in lista_frutas if x.startswith('m')]\n",
    "\n",
    "# Imprimindo a lista \"frutas_prefixo\" na saída\n",
    "print(frutas_prefixo)"
   ]
  },
  {
   "cell_type": "markdown",
   "id": "34057dfb",
   "metadata": {},
   "source": [
    "Podemos ler a segunda linha de código acima da seguinte forma: <br><br>\n",
    "**<center> Uma lista contendo cada 'x' para cada 'x' na 'lista_frutas', se 'x' começar com a letra 'm'. </center>**"
   ]
  },
  {
   "cell_type": "markdown",
   "id": "e88a2e5d",
   "metadata": {},
   "source": [
    "### <div style=\"margin-top: -20px;\">\n",
    "<hr style=\"border: 2px solid blue;\">\n",
    "\n",
    "<font color='blue'><span style=\"font-size: 18px;\"><strong>17.2.2 Dict Comprehensions</strong></span></font>\n",
    "\n",
    "<hr style=\"border: 2px solid blue;\">\n",
    "</div>"
   ]
  },
  {
   "cell_type": "markdown",
   "id": "f7edafe0",
   "metadata": {},
   "source": [
    "#### *Exemplo 1: Alterando preços de itens em um dicionário de maneira usual vs dict comprehension*"
   ]
  },
  {
   "cell_type": "markdown",
   "id": "c36a00d3",
   "metadata": {},
   "source": [
    "##### Maneira usual"
   ]
  },
  {
   "cell_type": "code",
   "execution_count": null,
   "id": "344d3f94",
   "metadata": {
    "ExecuteTime": {
     "end_time": "2023-10-05T13:42:34.700773Z",
     "start_time": "2023-10-05T13:42:34.689385Z"
    }
   },
   "outputs": [],
   "source": [
    "# Definindo um dicionário \"precos_produtos\" com os preços de alguns produtos\n",
    "precos_produtos = {\"maça\": 2.0, \"banana\": 1.5, \"laranja\": 3.0, \"uva\": 4.5}\n",
    "\n",
    "# Criando um novo dicionário \"precos_com_desconto\"\n",
    "precos_com_desconto = {}\n",
    "\n",
    "# Iterando sobre cada par chave-valor (produto, preco) do dicionário \"precos_produtos\"\n",
    "for (produto, preco) in precos_produtos.items():\n",
    "    # Aplicando um desconto de 10% (multiplicando por 0.9) e armazenando o novo preço no dicionário \"precos_com_desconto\"\n",
    "    precos_com_desconto[produto] = 0.9 * preco\n",
    "\n",
    "# Imprimindo o dicionário \"precos_com_desconto\" na saída\n",
    "print(precos_com_desconto)"
   ]
  },
  {
   "cell_type": "code",
   "execution_count": null,
   "id": "27af5bd4",
   "metadata": {
    "ExecuteTime": {
     "end_time": "2023-10-05T13:43:08.713700Z",
     "start_time": "2023-10-05T13:43:08.709428Z"
    }
   },
   "outputs": [],
   "source": [
    "print(precos_produtos)"
   ]
  },
  {
   "cell_type": "markdown",
   "id": "0ff46578",
   "metadata": {},
   "source": [
    "##### Usando dict comprehension"
   ]
  },
  {
   "cell_type": "code",
   "execution_count": null,
   "id": "07eabe35",
   "metadata": {
    "ExecuteTime": {
     "end_time": "2023-10-05T13:45:19.643124Z",
     "start_time": "2023-10-05T13:45:19.637849Z"
    }
   },
   "outputs": [],
   "source": [
    "# Definindo um dicionário \"precos_produtos\" com os preços de alguns produtos\n",
    "precos_produtos = {\"maça\": 2.0, \"banana\": 1.5, \"laranja\": 3.0, \"uva\": 4.5}\n",
    "\n",
    "# Criando um novo dicionário \"precos_com_desconto\" utilizando uma compreensão de dicionário\n",
    "# Aplicando um desconto de 10% (multiplicando por 0.9) para cada par chave-valor do dicionário \"precos_produtos\"\n",
    "precos_com_desconto = {produto: preco * 0.9 for produto, preco in precos_produtos.items()}\n",
    "\n",
    "# Imprimindo o dicionário \"precos_com_desconto\" na saída\n",
    "print(precos_com_desconto)"
   ]
  },
  {
   "cell_type": "markdown",
   "id": "d4aba32b",
   "metadata": {},
   "source": [
    "#### *Exemplo 2: Verificando a situação de um aluno de maneira usual vs dict comprehension*"
   ]
  },
  {
   "cell_type": "markdown",
   "id": "7c53ee40",
   "metadata": {},
   "source": [
    "##### Maneira usual"
   ]
  },
  {
   "cell_type": "code",
   "execution_count": null,
   "id": "1c4fefb6",
   "metadata": {
    "ExecuteTime": {
     "end_time": "2023-10-05T13:46:53.251838Z",
     "start_time": "2023-10-05T13:46:53.246154Z"
    }
   },
   "outputs": [],
   "source": [
    "# Definindo um dicionário \"notas_portugues\" com as notas dos alunos\n",
    "notas_portugues = {'Allan': 6.5, 'Lucas': 6.8, 'Lara': 10, 'Osmar': 7.0, 'Ravi': 8.7}\n",
    "\n",
    "# Iterando sobre cada par chave-valor (aluno, nota) do dicionário \"notas_portugues\"\n",
    "for (aluno, nota) in notas_portugues.items():\n",
    "    # Verificando se a nota é maior ou igual a 7.0\n",
    "    if nota >= 7.0:\n",
    "        # Imprimindo uma mensagem informando que o aluno passou direto\n",
    "        print(f'{aluno} foi aprovado.')\n",
    "    else:\n",
    "        # Imprimindo uma mensagem informando que o aluno está na final\n",
    "        print(f'{aluno} foi reprovado.')"
   ]
  },
  {
   "cell_type": "markdown",
   "id": "09998663",
   "metadata": {},
   "source": [
    "##### Usando dict comprehension"
   ]
  },
  {
   "cell_type": "code",
   "execution_count": null,
   "id": "0427b22b",
   "metadata": {
    "ExecuteTime": {
     "end_time": "2023-10-05T13:49:35.251397Z",
     "start_time": "2023-10-05T13:49:35.245993Z"
    }
   },
   "outputs": [],
   "source": [
    "# Definindo um dicionário \"notas_portugues\" com as notas dos alunos\n",
    "notas_portugues = {'Allan': 6.5, 'Lucas': 6.8, 'Lara': 10, 'Osmar': 7.0, 'Ravi': 8.7}\n",
    "\n",
    "# Criando um novo dicionário \"aluno_situacao\" utilizando uma compreensão de dicionário\n",
    "# Verificando a nota de cada aluno e atribuindo a situação (aprovado ou reprovado) ao mesmo aluno no dicionário \"aluno_situacao\"\n",
    "aluno_situacao = {aluno: ('aprovado' if nota >= 7.0 else f'reprovado') \\\n",
    "                  for (aluno, nota) in notas_portugues.items()}\n",
    "\n",
    "# Imprimindo o dicionário \"aluno_situacao\" na saída\n",
    "print(aluno_situacao)"
   ]
  },
  {
   "cell_type": "markdown",
   "id": "757eb31f",
   "metadata": {},
   "source": [
    "##\n",
    "<div style=\"margin-top: -20px;\">\n",
    "<hr style=\"border: 2px solid blue;\">\n",
    "\n",
    "<font color='blue'><span style=\"font-size: 22px;\"><strong>17.3 Data Splitting</strong></span></font>\n",
    "\n",
    "<hr style=\"border: 2px solid blue;\">\n",
    "</div>"
   ]
  },
  {
   "cell_type": "markdown",
   "id": "779f01b5",
   "metadata": {},
   "source": [
    "<u>Data Splitting</u> ou <u>divisão de dados</u> é uma técnica fundamental no processamento de dados, especialmente em aplicações de análise de dados e aprendizado de máquina. Esta abordagem consiste em dividir um conjunto de dados em dois ou mais subconjuntos, a fim de segmentar os dados de acordo com certos critérios para análise ou para treinar e testar algoritmos de aprendizado de máquina."
   ]
  },
  {
   "cell_type": "markdown",
   "id": "9af62284",
   "metadata": {},
   "source": [
    "#### *Exemplo 1: Gerando uma lista de palavras presentes em uma frase*"
   ]
  },
  {
   "cell_type": "markdown",
   "id": "6eab9aec",
   "metadata": {},
   "source": [
    "Vejamos como gerar uma lista de palavras presentes em uma frase."
   ]
  },
  {
   "cell_type": "code",
   "execution_count": null,
   "id": "7c15e238",
   "metadata": {
    "ExecuteTime": {
     "end_time": "2023-10-06T14:50:30.210683Z",
     "start_time": "2023-10-06T14:50:30.203372Z"
    }
   },
   "outputs": [],
   "source": [
    "# Definindo a função \"split_palavras\" que recebe um texto e retorna uma lista de palavras divididas a partir do espaço em branco\n",
    "def split_palavras(texto):\n",
    "    return texto.split(\" \")"
   ]
  },
  {
   "cell_type": "code",
   "execution_count": null,
   "id": "bbd577be",
   "metadata": {
    "ExecuteTime": {
     "end_time": "2023-10-06T14:50:30.365839Z",
     "start_time": "2023-10-06T14:50:30.362447Z"
    }
   },
   "outputs": [],
   "source": [
    "# Definindo um texto\n",
    "frase = \"Vejamos como dividir cada palavra desta frase.\""
   ]
  },
  {
   "cell_type": "code",
   "execution_count": null,
   "id": "85cc426b",
   "metadata": {
    "ExecuteTime": {
     "end_time": "2023-10-06T14:50:30.517607Z",
     "start_time": "2023-10-06T14:50:30.514474Z"
    }
   },
   "outputs": [],
   "source": [
    "# Chamando a função \"split_palavras\" com o texto como argumento e armazenando o resultado em uma lista chamada \"lista_palavras\"\n",
    "lista_palavras = split_palavras(frase)"
   ]
  },
  {
   "cell_type": "code",
   "execution_count": null,
   "id": "b3893563",
   "metadata": {
    "ExecuteTime": {
     "end_time": "2023-10-06T14:50:30.664569Z",
     "start_time": "2023-10-06T14:50:30.660259Z"
    }
   },
   "outputs": [],
   "source": [
    "# Imprimindo a lista \"lista_palavras\" na saída\n",
    "print(lista_palavras)"
   ]
  },
  {
   "cell_type": "markdown",
   "id": "0c9d8163",
   "metadata": {},
   "source": [
    "#### *Exemplo 2: Gerando uma lista a partir de dados em formato CSV*"
   ]
  },
  {
   "cell_type": "markdown",
   "id": "03ac62c1",
   "metadata": {},
   "source": [
    "Vejamos como gerar uma lista a partir de uma sequência de dados separados por vírgulas. Este exemplo será bastante util quando abordarmos mais a frente a manipulação de arqivos tipo CSV."
   ]
  },
  {
   "cell_type": "code",
   "execution_count": null,
   "id": "bf17092a",
   "metadata": {
    "ExecuteTime": {
     "end_time": "2023-10-06T14:50:31.104107Z",
     "start_time": "2023-10-06T14:50:31.100644Z"
    }
   },
   "outputs": [],
   "source": [
    "# Define a função \"split_dados_virgula\" que recebe uma string e a divide em uma lista, separando os elementos pelo caractere da vírgula\n",
    "def split_dados_virgula(dados):\n",
    "    return dados.split(\",\")"
   ]
  },
  {
   "cell_type": "code",
   "execution_count": null,
   "id": "150e5629",
   "metadata": {
    "ExecuteTime": {
     "end_time": "2023-10-06T14:50:31.261627Z",
     "start_time": "2023-10-06T14:50:31.257980Z"
    }
   },
   "outputs": [],
   "source": [
    "# Define uma string contendo os dados separados por vírgula\n",
    "dado = 'Allan,70,1.66,39,não'"
   ]
  },
  {
   "cell_type": "code",
   "execution_count": null,
   "id": "b4ed8ebd",
   "metadata": {
    "ExecuteTime": {
     "end_time": "2023-10-06T14:50:31.430411Z",
     "start_time": "2023-10-06T14:50:31.427189Z"
    }
   },
   "outputs": [],
   "source": [
    "# Chama a função \"split_dados_virgula\" passando a variável \"dado\" como argumento e armazena o resultado em \"lista_dado\"\n",
    "lista_dado = split_dados_virgula(dado)"
   ]
  },
  {
   "cell_type": "code",
   "execution_count": null,
   "id": "e1a04858",
   "metadata": {
    "ExecuteTime": {
     "end_time": "2023-10-06T14:50:31.583074Z",
     "start_time": "2023-10-06T14:50:31.579479Z"
    }
   },
   "outputs": [],
   "source": [
    "# Imprime a lista \"lista_dado\" na saída\n",
    "print(lista_dado)"
   ]
  },
  {
   "cell_type": "markdown",
   "id": "4f189e07",
   "metadata": {},
   "source": [
    "Poderíamos, por exemplo, calcular o IMC (Índice de Massa Corpórea) deste indivíduo. O IMC é calculando tomando-se o quociente da massa (em quilos) pelo quadrado da altura (em metros), isto é $$IMC = \\frac{m}{h^{2}}.$$"
   ]
  },
  {
   "cell_type": "code",
   "execution_count": null,
   "id": "fe02336f",
   "metadata": {
    "ExecuteTime": {
     "end_time": "2023-10-06T14:50:32.413699Z",
     "start_time": "2023-10-06T14:50:32.409861Z"
    }
   },
   "outputs": [],
   "source": [
    "# Atribui os valores de massa e altura às variáveis correspondentes\n",
    "massa, altura = float(lista_dado[1]), float(lista_dado[2])\n",
    "\n",
    "# Calcula o IMC (Índice de Massa Corporal) utilizando a fórmula massa / (altura^2)\n",
    "IMC = massa / (altura ** 2)\n",
    "\n",
    "# Imprime o valor do IMC na saída\n",
    "print(round(IMC,1))"
   ]
  },
  {
   "cell_type": "markdown",
   "id": "a1860fdb",
   "metadata": {},
   "source": [
    "Repasse este exemplo mais de uma vez. Note que já comentamos sobre a função .split() ao tratarmos de strings (<font color='red'>Capítulo 6</font>)."
   ]
  },
  {
   "cell_type": "markdown",
   "id": "00145c4a",
   "metadata": {},
   "source": [
    "#### *Exemplo 3: Calculando o IMC de indivíduos a partir de linhas de dados separados por vírgula*"
   ]
  },
  {
   "cell_type": "markdown",
   "id": "6fc2788d",
   "metadata": {},
   "source": [
    "Vamos imaginar que tenhamos mais de um indivíduo para calcularmos o IMC e que os dados estejam dispostos de modo que cada linha contenha os dados de um indivíduo particular.\n"
   ]
  },
  {
   "cell_type": "markdown",
   "id": "99decb00",
   "metadata": {},
   "source": [
    "##### Gerando uma matriz a partir de dados separados por vírgula"
   ]
  },
  {
   "cell_type": "code",
   "execution_count": null,
   "id": "62ef928f",
   "metadata": {
    "ExecuteTime": {
     "end_time": "2023-10-06T14:59:12.419055Z",
     "start_time": "2023-10-06T14:59:12.415093Z"
    },
    "scrolled": true
   },
   "outputs": [],
   "source": [
    "# Definição da string contendo os dados\n",
    "dados = 'João,70,1.66,39,não\\n\\\n",
    "Maria,67,1.65,29,não\\n\\\n",
    "Lucas,56,1.68,21,não\\n\\\n",
    "Verônica,65,1.65,sim'"
   ]
  },
  {
   "cell_type": "code",
   "execution_count": null,
   "id": "304b81d6",
   "metadata": {
    "ExecuteTime": {
     "end_time": "2023-10-06T14:59:12.827454Z",
     "start_time": "2023-10-06T14:59:12.822489Z"
    }
   },
   "outputs": [],
   "source": [
    "# Imprime a string de dados\n",
    "print(dados)"
   ]
  },
  {
   "cell_type": "code",
   "execution_count": null,
   "id": "a8e04ee4",
   "metadata": {
    "ExecuteTime": {
     "end_time": "2023-10-06T15:00:52.908501Z",
     "start_time": "2023-10-06T15:00:52.904281Z"
    }
   },
   "outputs": [],
   "source": [
    "# Definição da função \"split_dados_virgula_linha\" que recebe uma string de dados e retorna uma lista de listas com os dados divididos por vírgula\n",
    "def split_dados_virgula_linha(dados):\n",
    "    \n",
    "    # Divide a string em linhas usando o caractere de quebra de linha '\\n'\n",
    "    linhas = dados.split(\"\\n\")\n",
    "    \n",
    "    # Divide cada linha em uma lista, separando os elementos por vírgula\n",
    "    return [linha.split(\",\") for linha in linhas]"
   ]
  },
  {
   "cell_type": "code",
   "execution_count": null,
   "id": "8bdf1705",
   "metadata": {
    "ExecuteTime": {
     "end_time": "2023-10-06T15:01:21.779685Z",
     "start_time": "2023-10-06T15:01:21.776012Z"
    }
   },
   "outputs": [],
   "source": [
    "# Chama a função \"split_dados_virgula_linha\" passando a string de dados como argumento e armazena o resultado em uma lista chamada \"lista_dados\"\n",
    "lista_dados = split_dados_virgula_linha(dados)"
   ]
  },
  {
   "cell_type": "code",
   "execution_count": null,
   "id": "ccc9f077",
   "metadata": {
    "ExecuteTime": {
     "end_time": "2023-10-06T15:01:29.570855Z",
     "start_time": "2023-10-06T15:01:29.567410Z"
    }
   },
   "outputs": [],
   "source": [
    "# Imprime a lista de dados\n",
    "print(lista_dados)"
   ]
  },
  {
   "cell_type": "markdown",
   "id": "16f89f7e",
   "metadata": {},
   "source": [
    "##### Acessando colunas da matriz de dados"
   ]
  },
  {
   "cell_type": "code",
   "execution_count": null,
   "id": "f8c42cf9",
   "metadata": {
    "ExecuteTime": {
     "end_time": "2023-10-06T15:04:11.845816Z",
     "start_time": "2023-10-06T15:04:11.841661Z"
    }
   },
   "outputs": [],
   "source": [
    "# Itera sobre cada pessoa na lista de dados e imprime o nome (elemento na coluna 0)\n",
    "for pessoa in lista_dados:\n",
    "    print(pessoa[0])"
   ]
  },
  {
   "cell_type": "code",
   "execution_count": null,
   "id": "88b6737c",
   "metadata": {
    "ExecuteTime": {
     "end_time": "2023-10-06T15:05:59.980682Z",
     "start_time": "2023-10-06T15:05:59.977186Z"
    }
   },
   "outputs": [],
   "source": [
    "# Cria uma lista vazia chamada \"lista_nomes\"\n",
    "lista_nomes = []\n",
    "\n",
    "# Itera sobre cada pessoa na lista de dados e adiciona o nome (elemento na coluna 0) à lista de nomes\n",
    "for pessoa in lista_dados:\n",
    "    lista_nomes.append(pessoa[0])"
   ]
  },
  {
   "cell_type": "code",
   "execution_count": null,
   "id": "59eaadc5",
   "metadata": {
    "ExecuteTime": {
     "end_time": "2023-10-06T15:06:04.741249Z",
     "start_time": "2023-10-06T15:06:04.737131Z"
    }
   },
   "outputs": [],
   "source": [
    "# Imprime a lista de nomes\n",
    "print(lista_nomes)"
   ]
  },
  {
   "cell_type": "code",
   "execution_count": null,
   "id": "d49d2466",
   "metadata": {
    "ExecuteTime": {
     "end_time": "2023-10-06T15:07:39.389641Z",
     "start_time": "2023-10-06T15:07:39.385335Z"
    }
   },
   "outputs": [],
   "source": [
    "# Cria uma lista vazia chamada \"lista_pesos\"\n",
    "lista_pesos = []\n",
    "\n",
    "# Itera sobre cada pessoa na lista de dados e adiciona o peso (elemento na coluna 1) à lista de pesos\n",
    "for pessoa in lista_dados:\n",
    "    lista_pesos.append(pessoa[1])"
   ]
  },
  {
   "cell_type": "code",
   "execution_count": null,
   "id": "61448c3c",
   "metadata": {
    "ExecuteTime": {
     "end_time": "2023-10-06T15:07:41.990070Z",
     "start_time": "2023-10-06T15:07:41.987176Z"
    }
   },
   "outputs": [],
   "source": [
    "# Imprime a lista de pesos\n",
    "print(lista_pesos)"
   ]
  },
  {
   "cell_type": "code",
   "execution_count": null,
   "id": "55fe7a51",
   "metadata": {
    "ExecuteTime": {
     "end_time": "2023-10-06T15:08:37.798111Z",
     "start_time": "2023-10-06T15:08:37.794607Z"
    }
   },
   "outputs": [],
   "source": [
    "# Cria uma lista vazia chamada \"lista_alturas\"\n",
    "lista_alturas = []\n",
    "\n",
    "# Itera sobre cada pessoa na lista de dados e adiciona a altura\n",
    "for pessoa in lista_dados:\n",
    "    lista_alturas.append(pessoa[2])"
   ]
  },
  {
   "cell_type": "code",
   "execution_count": null,
   "id": "a57059fa",
   "metadata": {
    "ExecuteTime": {
     "end_time": "2023-10-06T15:08:40.716405Z",
     "start_time": "2023-10-06T15:08:40.712728Z"
    }
   },
   "outputs": [],
   "source": [
    "# Imprime a lista de alturas\n",
    "print(lista_alturas)"
   ]
  },
  {
   "cell_type": "markdown",
   "id": "9399910b",
   "metadata": {},
   "source": [
    "##### Calculando o IMC"
   ]
  },
  {
   "cell_type": "code",
   "execution_count": null,
   "id": "7e52e02f",
   "metadata": {
    "ExecuteTime": {
     "end_time": "2023-10-06T15:11:29.620455Z",
     "start_time": "2023-10-06T15:11:29.615772Z"
    }
   },
   "outputs": [],
   "source": [
    "# Obtém a quantidade de elementos na lista de pesos\n",
    "quantidade = len(lista_pesos)\n",
    "\n",
    "# Itera sobre os índices na faixa de 0 a quantidade\n",
    "for i in range(0, quantidade):\n",
    "    \n",
    "    # Calcula o IMC para cada pessoa e imprime o nome, peso e IMC correspondentes\n",
    "    print(f'{lista_nomes[i]} tem um IMC igual a {float(lista_pesos[i]) / (float(lista_alturas[i]) ** 2)}.')"
   ]
  },
  {
   "cell_type": "code",
   "execution_count": null,
   "id": "31ca0616",
   "metadata": {
    "ExecuteTime": {
     "end_time": "2023-10-06T15:14:02.655890Z",
     "start_time": "2023-10-06T15:14:02.652263Z"
    }
   },
   "outputs": [],
   "source": [
    "# Inicializa a variável soma como 0\n",
    "soma = 0\n",
    "\n",
    "# Itera sobre os índices na faixa de 0 a quantidade\n",
    "for i in range(0, quantidade):\n",
    "    \n",
    "    # Calcula o IMC para cada pessoa e adiciona o resultado à soma\n",
    "    soma = soma + float(lista_pesos[i]) / (float(lista_alturas[i]) ** 2)"
   ]
  },
  {
   "cell_type": "code",
   "execution_count": null,
   "id": "cd8f7149",
   "metadata": {
    "ExecuteTime": {
     "end_time": "2023-10-06T15:14:04.030126Z",
     "start_time": "2023-10-06T15:14:04.027295Z"
    }
   },
   "outputs": [],
   "source": [
    "print(soma)"
   ]
  },
  {
   "cell_type": "code",
   "execution_count": null,
   "id": "618a4f94",
   "metadata": {
    "ExecuteTime": {
     "end_time": "2023-10-06T15:14:25.215055Z",
     "start_time": "2023-10-06T15:14:25.211228Z"
    }
   },
   "outputs": [],
   "source": [
    "# Cálculo do IMC médio\n",
    "IMC_medio = soma/len(lista_pesos)\n",
    "\n",
    "# Imprimindo o IMC médio\n",
    "print(IMC_medio)"
   ]
  },
  {
   "cell_type": "markdown",
   "id": "f68215e7",
   "metadata": {},
   "source": [
    "Mais a frente veremos como obter dados em formato CSV disponíveis na internet e retirar informações dos mesmos. O exemplo acima é crucial para esta tarefa."
   ]
  },
  {
   "cell_type": "markdown",
   "id": "ef2c781f",
   "metadata": {},
   "source": [
    "##\n",
    "<div style=\"margin-top: -20px;\">\n",
    "<hr style=\"border: 2px solid blue;\">\n",
    "\n",
    "<font color='blue'><span style=\"font-size: 22px;\"><strong>17.4 Tratamento de Exceções</strong></span></font>\n",
    "\n",
    "<hr style=\"border: 2px solid blue;\">\n",
    "</div>"
   ]
  },
  {
   "cell_type": "markdown",
   "id": "c335e04f",
   "metadata": {},
   "source": [
    "<u>Exceções</u> são erros ou situações excepcionais que podem ocorrer durante a execução de um programa."
   ]
  },
  {
   "cell_type": "markdown",
   "id": "41168440",
   "metadata": {},
   "source": [
    "###\n",
    "<div style=\"margin-top: -20px;\">\n",
    "<hr style=\"border: 2px solid blue;\">\n",
    "\n",
    "<font color='blue'><span style=\"font-size: 18px;\"><strong>17.4.1 Try e Except</strong></span></font>\n",
    "\n",
    "<hr style=\"border: 2px solid blue;\">\n",
    "</div>"
   ]
  },
  {
   "cell_type": "markdown",
   "id": "74ff44de",
   "metadata": {},
   "source": [
    "A construção <u>try</u> e <u>except</u> é usada para lidar com exceções específicas que podem ser lançadas durante a execução de um bloco de código. O código que pode gerar uma exceção é colocado dentro do bloco try, e o código para lidar com a exceção é colocado dentro do bloco except. Se uma exceção for lançada no bloco try, o programa irá interromper a execução normal e pulará para o bloco except, onde o tratamento apropriado pode ser realizado."
   ]
  },
  {
   "cell_type": "markdown",
   "id": "243c0071",
   "metadata": {},
   "source": [
    "#### *Exemplo 1: Lidando com a divisão por zero*"
   ]
  },
  {
   "cell_type": "code",
   "execution_count": null,
   "id": "f404be31",
   "metadata": {
    "ExecuteTime": {
     "end_time": "2023-10-06T15:42:07.982746Z",
     "start_time": "2023-10-06T15:42:07.973287Z"
    }
   },
   "outputs": [],
   "source": [
    "def div(x,y):\n",
    "    return x/y"
   ]
  },
  {
   "cell_type": "code",
   "execution_count": null,
   "id": "f5dcde7d",
   "metadata": {
    "ExecuteTime": {
     "end_time": "2023-10-06T15:42:21.903157Z",
     "start_time": "2023-10-06T15:42:21.897500Z"
    }
   },
   "outputs": [],
   "source": [
    "print(div(10,2))\n",
    "print('Terminou.')"
   ]
  },
  {
   "cell_type": "code",
   "execution_count": null,
   "id": "d2876bae",
   "metadata": {
    "ExecuteTime": {
     "end_time": "2023-10-06T15:42:42.624357Z",
     "start_time": "2023-10-06T15:42:41.856663Z"
    }
   },
   "outputs": [],
   "source": [
    "print(div(2,0))\n",
    "print('Terminou.')"
   ]
  },
  {
   "cell_type": "code",
   "execution_count": null,
   "id": "88730587",
   "metadata": {
    "ExecuteTime": {
     "end_time": "2023-10-06T15:44:49.766209Z",
     "start_time": "2023-10-06T15:44:49.762325Z"
    }
   },
   "outputs": [],
   "source": [
    "# Definição da função \"div\" que realiza a divisão de dois números e trata a exceção de divisão por zero\n",
    "def div(x, y):\n",
    "    try:\n",
    "        return x/y  # Imprime o resultado da divisão\n",
    "    except ZeroDivisionError:  # Trata a exceção de divisão por zero\n",
    "        print(\"Erro: Divisão por zero!\")"
   ]
  },
  {
   "cell_type": "code",
   "execution_count": null,
   "id": "7f268514",
   "metadata": {
    "ExecuteTime": {
     "end_time": "2023-10-06T15:45:13.351841Z",
     "start_time": "2023-10-06T15:45:13.348375Z"
    }
   },
   "outputs": [],
   "source": [
    "# Chamada da função \"div\" com argumentos 10 e 2\n",
    "print(div(10, 2))\n",
    "print('Terminou.')"
   ]
  },
  {
   "cell_type": "code",
   "execution_count": null,
   "id": "6f93eeab",
   "metadata": {
    "ExecuteTime": {
     "end_time": "2023-10-06T15:46:38.973560Z",
     "start_time": "2023-10-06T15:46:38.969820Z"
    },
    "scrolled": true
   },
   "outputs": [],
   "source": [
    "# Chamada da função \"div\" com argumentos 2 e 0\n",
    "print(div(2,0))\n",
    "print('Terminou.')"
   ]
  },
  {
   "cell_type": "markdown",
   "id": "88173a1c",
   "metadata": {},
   "source": [
    "#### *Exemplo 2: Lidando com uma entrada não válida*"
   ]
  },
  {
   "cell_type": "code",
   "execution_count": null,
   "id": "17c64647",
   "metadata": {},
   "outputs": [],
   "source": [
    "# Loop infinito que solicita ao usuário que digite um número inteiro positivo\n",
    "while True:\n",
    "    try:\n",
    "        # Solicita ao usuário que digite positivo\n",
    "        numero = float(input(\"Digite um número positivo: \"))\n",
    "        \n",
    "        # Verifica se o número é menor ou igual a zero\n",
    "        if numero <= 0:\n",
    "            raise ValueError  # Lança uma exceção ValueError se o número for inválido\n",
    "            \n",
    "        break  # Encerra o loop caso o número seja válido\n",
    "    \n",
    "    except ValueError:\n",
    "        # Mensagem de erro caso o número seja inválido\n",
    "        print(\"Valor inválido! Digite um número positivo.\")\n",
    "\n",
    "# Imprime o número digitado pelo usuário\n",
    "print(\"Você digitou o número:\", numero)"
   ]
  },
  {
   "cell_type": "markdown",
   "id": "f1df620e",
   "metadata": {},
   "source": [
    "###\n",
    "<div style=\"margin-top: -20px;\">\n",
    "<hr style=\"border: 2px solid blue;\">\n",
    "\n",
    "<font color='blue'><span style=\"font-size: 18px;\"><strong>17.4.2 Finally</strong></span></font>\n",
    "\n",
    "<hr style=\"border: 2px solid blue;\">\n",
    "</div>"
   ]
  },
  {
   "cell_type": "markdown",
   "id": "77d837da",
   "metadata": {},
   "source": [
    "A construção <u>finally</u> é usada em conjunto com as construções try e except e permite que um bloco de código seja executado, independentemente de ocorrer ou não uma exceção. O bloco finally é sempre executado, mesmo se uma exceção for lançada e capturada pelo bloco except."
   ]
  },
  {
   "cell_type": "markdown",
   "id": "ab30d40d",
   "metadata": {},
   "source": [
    "#### *Exemplo: Divisão por zero novamente...*"
   ]
  },
  {
   "cell_type": "code",
   "execution_count": null,
   "id": "2689ecc0",
   "metadata": {
    "ExecuteTime": {
     "end_time": "2023-07-02T21:47:09.274607Z",
     "start_time": "2023-07-02T21:47:09.268624Z"
    }
   },
   "outputs": [],
   "source": [
    "# Definição da função \"div\" que realiza a divisão de dois números e trata a exceção de divisão por zero\n",
    "def div(x, y):\n",
    "    try:\n",
    "        return x/y  # Imprime o resultado da divisão\n",
    "    \n",
    "    except ZeroDivisionError:  # Trata a exceção de divisão por zero\n",
    "        print(\"Erro: Divisão por zero!\")\n",
    "        \n",
    "    finally:\n",
    "        print(\"Fim.\")  # Executado sempre após o bloco try-except, independentemente de ocorrer ou não uma exceção"
   ]
  },
  {
   "cell_type": "code",
   "execution_count": null,
   "id": "ec7d5634",
   "metadata": {
    "ExecuteTime": {
     "end_time": "2023-07-02T21:47:10.064714Z",
     "start_time": "2023-07-02T21:47:10.060705Z"
    }
   },
   "outputs": [],
   "source": [
    "# Chamada da função \"div\" com argumentos 10 e 2\n",
    "div(10, 2)"
   ]
  },
  {
   "cell_type": "code",
   "execution_count": null,
   "id": "36589adc",
   "metadata": {
    "ExecuteTime": {
     "end_time": "2023-07-02T23:10:03.194164Z",
     "start_time": "2023-07-02T23:10:03.188216Z"
    }
   },
   "outputs": [],
   "source": [
    "# Chamada da função \"div\" com argumentos 10 e 0\n",
    "div(10, 0)"
   ]
  },
  {
   "cell_type": "code",
   "execution_count": null,
   "id": "24151b62",
   "metadata": {},
   "outputs": [],
   "source": []
  }
 ],
 "metadata": {
  "kernelspec": {
   "display_name": "Python 3 (ipykernel)",
   "language": "python",
   "name": "python3"
  },
  "language_info": {
   "codemirror_mode": {
    "name": "ipython",
    "version": 3
   },
   "file_extension": ".py",
   "mimetype": "text/x-python",
   "name": "python",
   "nbconvert_exporter": "python",
   "pygments_lexer": "ipython3",
   "version": "3.11.5"
  },
  "varInspector": {
   "cols": {
    "lenName": 16,
    "lenType": 16,
    "lenVar": 40
   },
   "kernels_config": {
    "python": {
     "delete_cmd_postfix": "",
     "delete_cmd_prefix": "del ",
     "library": "var_list.py",
     "varRefreshCmd": "print(var_dic_list())"
    },
    "r": {
     "delete_cmd_postfix": ") ",
     "delete_cmd_prefix": "rm(",
     "library": "var_list.r",
     "varRefreshCmd": "cat(var_dic_list()) "
    }
   },
   "types_to_exclude": [
    "module",
    "function",
    "builtin_function_or_method",
    "instance",
    "_Feature"
   ],
   "window_display": false
  }
 },
 "nbformat": 4,
 "nbformat_minor": 5
}
