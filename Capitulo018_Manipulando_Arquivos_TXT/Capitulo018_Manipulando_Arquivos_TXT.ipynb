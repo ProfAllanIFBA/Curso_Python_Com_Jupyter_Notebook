{
 "cells": [
  {
   "cell_type": "markdown",
   "id": "a528f222",
   "metadata": {
    "ExecuteTime": {
     "end_time": "2023-06-02T00:00:53.336839Z",
     "start_time": "2023-06-02T00:00:53.330832Z"
    },
    "slideshow": {
     "slide_type": "slide"
    }
   },
   "source": [
    "<center> <img src=\"logo_ifba.jpg\" alt=\"jpg_python\" width=\"100\" height=\"\"> </center>\n",
    "<br><br>\n",
    "<center> <img src=\"logo_coext.jpg\" alt=\"jpg_python\" width=\"200\" height=\"\"> </center>\n",
    "<br><br>\n",
    "<center><div style=\"text-align:center\">    <a href=\"https://colab.research.google.com/github/ProfAllanIFBA/Curso_Python_Com_Jupyter_Notebook/blob/main/Capitulo018_Manipulando_Arquivos_TXT/Capitulo018_Manipulando_Arquivos_TXT.ipynb\">Link Colab</a> \n",
    "</div><br><br></center>\n",
    "<div align=\"center\"><span style=\"font-size: 26px;\"><strong>Python Com Jupyter Notebook</strong></span></div><br><br>\n",
    "<center> <img src=\"python_gif.gif\" alt=\"gif_python\" width=\"80\"> </center>"
   ]
  },
  {
   "cell_type": "markdown",
   "id": "8b663b9d",
   "metadata": {},
   "source": [
    "Este material apresenta uma explicação detalhada sobre o uso do software de programação em Python chamado Jupyter Notebook, com foco na análise de dados. Abordaremos desde estruturas básicas, como listas e dicionários, até estruturas mais complexas voltadas para a análise de dados, como pandas e seaborn, além de ferramentas destinadas à inteligência artificial.\n",
    "\n",
    "\n",
    "<font color='red'> <u>Este é um material de uso público e totalmente gratuito</u>. Contudo, eventuais edições são de responsabilidade de quem as fizer. </font>\n",
    "\n",
    "Você pode ajudar a melhorar este material!\n",
    "\n",
    "Contato e Sugestões: allansoares@ifba.edu.br.\n",
    "\n",
    "[**Equipe Executora**](https://github.com/ProfAllanIFBA/Curso_Python_Com_Jupyter_Notebook/blob/main/Capitulo000_Equipe/Capitulo000_Equipe.ipynb)"
   ]
  },
  {
   "cell_type": "markdown",
   "id": "557dc500",
   "metadata": {},
   "source": [
    "### <center> <font color='red'> Vídeo Aulas <img src=\"youtube.gif\" alt=\"jpg_python\" width=\"100\" height=\"\"> </font> </center>"
   ]
  },
  {
   "cell_type": "markdown",
   "id": "76e0f540",
   "metadata": {},
   "source": [
    "[Acessando um Arquivo TXT no Python](https://youtu.be/WwNGbD68rpI)\n",
    "\n",
    "[Extraindo Informações de um Arquivo TXT no Python](https://youtu.be/k3-dyiy0jRc)\n",
    "\n",
    "[Criando Um Arquivo TXT no Python](https://youtu.be/0Iov5uO1AYE)\n",
    "\n",
    "[Criação Exclusiva de Um Arquivo TXT no Python](https://youtu.be/RrsbVafIcJw)\n",
    "\n",
    "[Adicionando Dados a Um Arquivo TXT no Python](https://youtu.be/RAKNLE7eaCw)\n",
    "\n",
    "[Trabalhando Com o Bloco with na Manipulação de Arquivos TXT](https://youtu.be/AId2kwb55nE)"
   ]
  },
  {
   "cell_type": "markdown",
   "id": "a6f02e0f",
   "metadata": {
    "slideshow": {
     "slide_type": "slide"
    }
   },
   "source": [
    "<div style=\"border: 2px solid black; padding: 10px; width: 100%; background-color: lightgray; display: flex; align-items: center;\">\n",
    "    <h1 style=\"color: red; text-align: center; margin: auto;\">\n",
    "        Capítulo  18: Manipulação de Arquivos TXT\n",
    "    </h1>\n",
    "</div>\n",
    "\n",
    "<font color='red'></font>\n",
    "<a href=\"\"></a>"
   ]
  },
  {
   "cell_type": "markdown",
   "id": "727dfba5",
   "metadata": {},
   "source": [
    "Um arquivo txt é um formato que contém texto simples, sem formatações especiais, sendo utilizado para guardar dados legíveis por humanos. Ele pode ser acessado por diversos sistemas, editores e processadores de texto e é usado para armazenar informações variadas, como notas, códigos fonte e configurações de aplicativos. Devido à sua simplicidade e compatibilidade, os arquivos TXT são versáteis para criação, edição, compartilhamento e são frequentemente utilizados em programação para armazenamento de dados e registros de atividades."
   ]
  },
  {
   "cell_type": "markdown",
   "id": "bff9089a",
   "metadata": {
    "slideshow": {
     "slide_type": "slide"
    }
   },
   "source": [
    "## <div style=\"margin-top: -20px;\">\n",
    "<hr style=\"border: 2px solid blue;\">\n",
    "\n",
    "<font color='blue'><span style=\"font-size: 22px;\"><strong>18.1 Abrindo, Lendo e Fechando Um Arquivo TXT</strong></span></font>\n",
    "\n",
    "<hr style=\"border: 2px solid blue;\">\n",
    "</div>"
   ]
  },
  {
   "cell_type": "markdown",
   "id": "a3fa7567",
   "metadata": {},
   "source": [
    "Antes de manipular um arquivo, é necessário abri-lo. Para isso, utilizamos a função <u>open()</u>, especificando o caminho do arquivo e o modo de operação desejado. Existem modos para leitura, escrita, atualização e outros.\n"
   ]
  },
  {
   "cell_type": "markdown",
   "id": "f3ced0e4",
   "metadata": {},
   "source": [
    "1 - Crie um arquivo txt na mesma pasta que este aquivo Jupyter com nome \"teste.txt\". Este será o aquivo que iremos acessar o conteúdo."
   ]
  },
  {
   "cell_type": "markdown",
   "id": "efaa62ad",
   "metadata": {},
   "source": [
    "2 - No arquivo teste.txt escreva a mensagem: 'Quero ler esta mensagem. Ler e entender!'"
   ]
  },
  {
   "cell_type": "markdown",
   "id": "96ee8292",
   "metadata": {},
   "source": [
    "3 - Salve o arquivo e feche-o."
   ]
  },
  {
   "cell_type": "markdown",
   "id": "3a4b6009",
   "metadata": {},
   "source": [
    "Para acessar o conteúdo do arquivo teste.txt devemos abrí-lo com o comando <u>open(\"teste.txt\", \"r\")</u>."
   ]
  },
  {
   "cell_type": "code",
   "execution_count": null,
   "id": "1c414d1f",
   "metadata": {
    "ExecuteTime": {
     "end_time": "2023-07-02T23:26:37.114416Z",
     "start_time": "2023-07-02T23:26:37.109407Z"
    }
   },
   "outputs": [],
   "source": [
    "# Abre o arquivo \"teste.txt\" no modo de leitura\n",
    "arq = open(\"teste.txt\", \"r\") # r (read)"
   ]
  },
  {
   "cell_type": "markdown",
   "id": "794abcab",
   "metadata": {},
   "source": [
    "Uma vez que o arquivo está aberto podemos ler seu conteúdo."
   ]
  },
  {
   "cell_type": "code",
   "execution_count": null,
   "id": "e4eff321",
   "metadata": {
    "ExecuteTime": {
     "end_time": "2023-07-02T23:26:38.458193Z",
     "start_time": "2023-07-02T23:26:38.453204Z"
    }
   },
   "outputs": [],
   "source": [
    "# Lê e imprime o conteúdo do arquivo\n",
    "print(arq.read())"
   ]
  },
  {
   "cell_type": "markdown",
   "id": "728465d3",
   "metadata": {},
   "source": [
    "Se você acessou o conteúdo de um arquivo até o final, o cursor de leitura estará posicionado no final do arquivo. Isso significa que, se você tentar ler novamente o conteúdo do arquivo imediatamente após ter alcançado o final, não obterá nenhuma informação, pois o cursor de leitura já está no final do arquivo."
   ]
  },
  {
   "cell_type": "code",
   "execution_count": null,
   "id": "a1a904bd",
   "metadata": {
    "ExecuteTime": {
     "end_time": "2023-07-02T23:26:40.512981Z",
     "start_time": "2023-07-02T23:26:40.508749Z"
    }
   },
   "outputs": [],
   "source": [
    "print(arq.read())"
   ]
  },
  {
   "cell_type": "markdown",
   "id": "e1075cb3",
   "metadata": {},
   "source": [
    "Podemos voltar para o começo com o comando arq.seek(0)."
   ]
  },
  {
   "cell_type": "code",
   "execution_count": null,
   "id": "ccf2201f",
   "metadata": {
    "ExecuteTime": {
     "end_time": "2023-07-02T23:26:42.876581Z",
     "start_time": "2023-07-02T23:26:42.868605Z"
    }
   },
   "outputs": [],
   "source": [
    "# Retorna para o início do arquivo usando o método seek(0)\n",
    "arq.seek(0)"
   ]
  },
  {
   "cell_type": "code",
   "execution_count": null,
   "id": "d77c5f68",
   "metadata": {
    "ExecuteTime": {
     "end_time": "2023-07-02T23:26:44.074237Z",
     "start_time": "2023-07-02T23:26:44.068252Z"
    }
   },
   "outputs": [],
   "source": [
    "# Lê e imprime novamente o conteúdo do arquivo\n",
    "print(arq.read())"
   ]
  },
  {
   "cell_type": "markdown",
   "id": "df92db5d",
   "metadata": {},
   "source": [
    "Uma vez que tenhamos terminado de trabalhar com o arquivo, é fundamental fechá-lo corretamente. Isso é feito através do método <u>close()</u>, que libera os recursos do sistema associados ao arquivo."
   ]
  },
  {
   "cell_type": "code",
   "execution_count": null,
   "id": "783d94f5",
   "metadata": {
    "ExecuteTime": {
     "end_time": "2023-07-02T23:26:45.944069Z",
     "start_time": "2023-07-02T23:26:45.940079Z"
    }
   },
   "outputs": [],
   "source": [
    "# Fecha o arquivo corretamente utilizando o método close()\n",
    "arq.close()"
   ]
  },
  {
   "cell_type": "markdown",
   "id": "9441486e",
   "metadata": {},
   "source": [
    "Façamos a tentativa de impressão do conteúdo do arquivo \"teste.txt\""
   ]
  },
  {
   "cell_type": "code",
   "execution_count": null,
   "id": "f7e46baa",
   "metadata": {},
   "outputs": [],
   "source": [
    "# Lê e imprime novamente o conteúdo do arquivo\n",
    "print(arq.read())"
   ]
  },
  {
   "cell_type": "markdown",
   "id": "9a001f67",
   "metadata": {
    "slideshow": {
     "slide_type": "slide"
    }
   },
   "source": [
    "## <div style=\"margin-top: -20px;\">\n",
    "<hr style=\"border: 2px solid blue;\">\n",
    "\n",
    "<font color='blue'><span style=\"font-size: 22px;\"><strong>18.2 Extraindo Informações de um Arquivo TXT</strong></span></font>\n",
    "\n",
    "<hr style=\"border: 2px solid blue;\">\n",
    "</div>"
   ]
  },
  {
   "cell_type": "markdown",
   "id": "4fa1b073",
   "metadata": {},
   "source": [
    "Vejamos alguns exemplos nos quais conseguiremos extrair informações contidas em um arquivo do tipo txt."
   ]
  },
  {
   "cell_type": "markdown",
   "id": "db5d59f4",
   "metadata": {},
   "source": [
    "#### *Exemplo 1: Contando caracteres*"
   ]
  },
  {
   "cell_type": "code",
   "execution_count": null,
   "id": "596d6eb0",
   "metadata": {
    "ExecuteTime": {
     "end_time": "2023-07-02T23:26:49.488434Z",
     "start_time": "2023-07-02T23:26:49.483441Z"
    }
   },
   "outputs": [],
   "source": [
    "# Abrindo o arquivo\n",
    "arq = open(\"teste.txt\", \"r\")"
   ]
  },
  {
   "cell_type": "code",
   "execution_count": null,
   "id": "9372d6ae",
   "metadata": {
    "ExecuteTime": {
     "end_time": "2023-07-02T23:26:51.056370Z",
     "start_time": "2023-07-02T23:26:51.051408Z"
    }
   },
   "outputs": [],
   "source": [
    "# Lendo o arquivo\n",
    "print(arq.read())"
   ]
  },
  {
   "cell_type": "code",
   "execution_count": null,
   "id": "88bb82e0",
   "metadata": {
    "ExecuteTime": {
     "end_time": "2023-07-02T23:26:52.801047Z",
     "start_time": "2023-07-02T23:26:52.795046Z"
    }
   },
   "outputs": [],
   "source": [
    "# Contando o número de caracteres\n",
    "print(arq.tell())"
   ]
  },
  {
   "cell_type": "code",
   "execution_count": null,
   "id": "6beb0cff",
   "metadata": {
    "ExecuteTime": {
     "end_time": "2023-07-02T23:26:54.470911Z",
     "start_time": "2023-07-02T23:26:54.466924Z"
    }
   },
   "outputs": [],
   "source": [
    "# Fecha o arquivo corretamente utilizando o método close()\n",
    "arq.close()"
   ]
  },
  {
   "cell_type": "markdown",
   "id": "87d3d451",
   "metadata": {},
   "source": [
    "#### *Exemplo 2: Lendo os n primeiros caracteres*"
   ]
  },
  {
   "cell_type": "code",
   "execution_count": null,
   "id": "fff23794",
   "metadata": {
    "ExecuteTime": {
     "end_time": "2023-07-02T23:26:57.734566Z",
     "start_time": "2023-07-02T23:26:57.730580Z"
    }
   },
   "outputs": [],
   "source": [
    "# Abrindo o arquivo\n",
    "arq = open(\"teste.txt\", \"r\")"
   ]
  },
  {
   "cell_type": "code",
   "execution_count": null,
   "id": "fa129c9e",
   "metadata": {
    "ExecuteTime": {
     "end_time": "2023-07-02T23:26:59.233197Z",
     "start_time": "2023-07-02T23:26:59.226207Z"
    }
   },
   "outputs": [],
   "source": [
    "# Lendo o arquivo até o caractere n\n",
    "arq.read(14)     "
   ]
  },
  {
   "cell_type": "code",
   "execution_count": null,
   "id": "fff928eb",
   "metadata": {
    "ExecuteTime": {
     "end_time": "2023-07-02T23:27:00.926535Z",
     "start_time": "2023-07-02T23:27:00.910906Z"
    }
   },
   "outputs": [],
   "source": [
    "# Contando o número de caracteres\n",
    "print(arq.tell())"
   ]
  },
  {
   "cell_type": "code",
   "execution_count": null,
   "id": "2724c202",
   "metadata": {
    "ExecuteTime": {
     "end_time": "2023-07-02T23:27:02.350929Z",
     "start_time": "2023-07-02T23:27:02.345943Z"
    }
   },
   "outputs": [],
   "source": [
    "# Fecha o arquivo corretamente utilizando o método close()\n",
    "arq.close()"
   ]
  },
  {
   "cell_type": "markdown",
   "id": "109cd19e",
   "metadata": {},
   "source": [
    "#### *Exemplo 3: Contando palavras (strings separadas por espaço em branco '     ')*"
   ]
  },
  {
   "cell_type": "code",
   "execution_count": null,
   "id": "9867cf50",
   "metadata": {
    "ExecuteTime": {
     "end_time": "2023-07-02T23:27:04.630432Z",
     "start_time": "2023-07-02T23:27:04.625441Z"
    }
   },
   "outputs": [],
   "source": [
    "# Abrindo o arquivo\n",
    "arq = open(\"teste.txt\", \"r\")"
   ]
  },
  {
   "cell_type": "code",
   "execution_count": null,
   "id": "249b79f5",
   "metadata": {
    "ExecuteTime": {
     "end_time": "2023-07-02T23:27:06.141412Z",
     "start_time": "2023-07-02T23:27:06.137404Z"
    }
   },
   "outputs": [],
   "source": [
    "# Armazenando o conteúdo do arquivo na variável palavras\n",
    "mensagem = arq.read()"
   ]
  },
  {
   "cell_type": "code",
   "execution_count": null,
   "id": "ad5545f0",
   "metadata": {},
   "outputs": [],
   "source": [
    "print(mensagem)"
   ]
  },
  {
   "cell_type": "code",
   "execution_count": null,
   "id": "6f94f296",
   "metadata": {
    "ExecuteTime": {
     "end_time": "2023-07-02T23:27:07.486056Z",
     "start_time": "2023-07-02T23:27:07.481046Z"
    }
   },
   "outputs": [],
   "source": [
    "# Criando uma lista com as palavras - strings separadas por espaço em branco ' '\n",
    "lista_palavras = mensagem.split(' ')"
   ]
  },
  {
   "cell_type": "code",
   "execution_count": null,
   "id": "e7cc9a82",
   "metadata": {
    "ExecuteTime": {
     "end_time": "2023-07-02T23:27:08.717990Z",
     "start_time": "2023-07-02T23:27:08.713028Z"
    }
   },
   "outputs": [],
   "source": [
    "# Imprimindo a lista de palavras\n",
    "print(lista_palavras)"
   ]
  },
  {
   "cell_type": "code",
   "execution_count": null,
   "id": "3b1bb749",
   "metadata": {
    "ExecuteTime": {
     "end_time": "2023-07-02T23:27:10.814839Z",
     "start_time": "2023-07-02T23:27:10.809854Z"
    }
   },
   "outputs": [],
   "source": [
    "# Contando o número de palavras\n",
    "print(len(lista_palavras))"
   ]
  },
  {
   "cell_type": "code",
   "execution_count": null,
   "id": "47485222",
   "metadata": {
    "ExecuteTime": {
     "end_time": "2023-07-02T23:27:12.805457Z",
     "start_time": "2023-07-02T23:27:12.800467Z"
    }
   },
   "outputs": [],
   "source": [
    "# Fecha o arquivo corretamente utilizando o método close()\n",
    "arq.close()"
   ]
  },
  {
   "cell_type": "code",
   "execution_count": null,
   "id": "8db2cd81",
   "metadata": {},
   "outputs": [],
   "source": [
    "print(mensagem)"
   ]
  },
  {
   "cell_type": "markdown",
   "id": "dfb8a552",
   "metadata": {},
   "source": [
    "#### *Exemplo 4: Exibindo as posições de ocorrências de uma palavra*"
   ]
  },
  {
   "cell_type": "code",
   "execution_count": null,
   "id": "6b019e8b",
   "metadata": {
    "ExecuteTime": {
     "end_time": "2023-07-02T23:27:19.693459Z",
     "start_time": "2023-07-02T23:27:19.687454Z"
    }
   },
   "outputs": [],
   "source": [
    "def proc_palavra(nome_arquivo):\n",
    "    \n",
    "    # Abrindo o arquivo\n",
    "    arq = open(nome_arquivo, \"r\")\n",
    "    \n",
    "    # Armazenando o conteúdo do arquivo na variável palavras\n",
    "    mensagem = arq.read()\n",
    "    \n",
    "    # Criando uma lista com as palavras - strings separadas por espaço em branco ' '\n",
    "    lista_palavras = mensagem.split(' ')\n",
    "    \n",
    "    # Solicita ao usuário que digite a palavra a ser procurada\n",
    "    palavra_procurada = input(\"Digite a palavra a ser procurada: \")\n",
    "    \n",
    "    # Armazena a palavra original para exibir posteriormente\n",
    "    palavra_original = palavra_procurada\n",
    "    \n",
    "    # Variável para indicar se a palavra foi encontrada ou não\n",
    "    encontrou_palavra = False\n",
    "    \n",
    "    # Cria uma nova lista com todas as palavras em caixa baixa\n",
    "    lista_caixa_baixa = [palavra.lower() for palavra in lista_palavras]\n",
    "    \n",
    "    # Percorre a lista de palavras e verifica se a palavra procurada está presente\n",
    "    for cont, palavra in enumerate(lista_caixa_baixa, start=1):\n",
    "        # Remove pontuações da palavra para facilitar a comparação\n",
    "        palavra = palavra.strip(\",.!?:;\")\n",
    "        \n",
    "        # Compara a palavra atual com a palavra procurada (ignorando diferenças de caixa)\n",
    "        if palavra == palavra_procurada.lower():\n",
    "            # Exibe a mensagem informando a posição da palavra encontrada\n",
    "            print(f'A palavra \"{palavra_original}\" foi encontrada na posição {cont}.')\n",
    "            \n",
    "            # Altera a variável para indicar que a palavra foi encontrada\n",
    "            encontrou_palavra = True\n",
    "\n",
    "    # Verifica se a palavra não foi encontrada\n",
    "    if not encontrou_palavra:\n",
    "        print(f'A palavra \"{palavra_original}\" não foi encontrada na lista de palavras.')\n",
    "    \n",
    "    # Fecha o arquivo corretamente utilizando o método close()\n",
    "    arq.close()"
   ]
  },
  {
   "cell_type": "code",
   "execution_count": null,
   "id": "a987f324",
   "metadata": {
    "ExecuteTime": {
     "end_time": "2023-07-02T23:27:42.742270Z",
     "start_time": "2023-07-02T23:27:37.509114Z"
    }
   },
   "outputs": [],
   "source": [
    "# Chamdno a função \"proc_palavra\"\n",
    "proc_palavra(\"teste.txt\")"
   ]
  },
  {
   "cell_type": "markdown",
   "id": "4a9dc19f",
   "metadata": {
    "slideshow": {
     "slide_type": "slide"
    }
   },
   "source": [
    "## <div style=\"margin-top: -20px;\">\n",
    "<hr style=\"border: 2px solid blue;\">\n",
    "\n",
    "<font color='blue'><span style=\"font-size: 22px;\"><strong>18.3 Criando Um Arquivo TXT</strong></span></font>\n",
    "\n",
    "<hr style=\"border: 2px solid blue;\">\n",
    "</div>"
   ]
  },
  {
   "cell_type": "markdown",
   "id": "15311a79",
   "metadata": {},
   "source": [
    "Para criar um novo arquivo teste1.txt iremos utilizar o comando <u>open(\"teste1.txt\", \"w\")</u>. Ao terminar de editar o arquivo teste1.txt não se esqueça de fechá-lo. Do contrário a informação pode não ser salva."
   ]
  },
  {
   "cell_type": "markdown",
   "id": "cd223fd5",
   "metadata": {},
   "source": [
    "#### Parte 1"
   ]
  },
  {
   "cell_type": "markdown",
   "id": "1299e06a",
   "metadata": {},
   "source": [
    "Caso exista um arquivo com o nome \"teste1.txt\" no diretório atual, ele será sobreposto. Caso contrário, um novo arquivo será criado. Isso é válido para o modo de abertura \"w\"."
   ]
  },
  {
   "cell_type": "code",
   "execution_count": null,
   "id": "f3c30d51",
   "metadata": {
    "ExecuteTime": {
     "end_time": "2023-07-02T23:35:14.298302Z",
     "start_time": "2023-07-02T23:35:14.292319Z"
    }
   },
   "outputs": [],
   "source": [
    "# Abrindo arquivo para gravação\n",
    "arq1 = open(\"teste1.txt\", \"w\")"
   ]
  },
  {
   "cell_type": "code",
   "execution_count": null,
   "id": "8a83d220",
   "metadata": {
    "ExecuteTime": {
     "end_time": "2023-07-02T23:35:14.770095Z",
     "start_time": "2023-07-02T23:35:14.764112Z"
    }
   },
   "outputs": [],
   "source": [
    "# Gravando arquivo\n",
    "arq1.write(\"Estou escrevendo no arquivo teste1.\")"
   ]
  },
  {
   "cell_type": "code",
   "execution_count": null,
   "id": "98205f02",
   "metadata": {
    "ExecuteTime": {
     "end_time": "2023-07-02T23:35:15.377186Z",
     "start_time": "2023-07-02T23:35:15.372177Z"
    }
   },
   "outputs": [],
   "source": [
    "# Fecha o arquivo corretamente utilizando o método close()\n",
    "arq1.close()"
   ]
  },
  {
   "cell_type": "markdown",
   "id": "98e27ce5",
   "metadata": {},
   "source": [
    "Vá até a mesma pasta do arquivo atual (Capítulo018.ipynb) e veja que foi criado o arquivo teste1.txt. Abra-o e veja o conteúdo. Ou então execute a célula a seguir para ver seu conteúdo."
   ]
  },
  {
   "cell_type": "code",
   "execution_count": null,
   "id": "4330338f",
   "metadata": {
    "ExecuteTime": {
     "end_time": "2023-07-02T23:35:16.473073Z",
     "start_time": "2023-07-02T23:35:16.468086Z"
    }
   },
   "outputs": [],
   "source": [
    "# Abrindo arquivo para leitura\n",
    "arq1 = open(\"teste1.txt\", \"r\")\n",
    "\n",
    "# Lendo o arquivo\n",
    "print(arq1.read())\n",
    "\n",
    "\n",
    "# Fecha o arquivo corretamente utilizando o método close()\n",
    "arq1.close()"
   ]
  },
  {
   "cell_type": "markdown",
   "id": "0fbedbfb",
   "metadata": {},
   "source": [
    "#### Parte 2"
   ]
  },
  {
   "cell_type": "markdown",
   "id": "e0859cfa",
   "metadata": {},
   "source": [
    "Agora vamos escrever uma outra mensagem, diferente da anterior no arquivo teste1.txt e repetir os passos acima."
   ]
  },
  {
   "cell_type": "code",
   "execution_count": null,
   "id": "c20e0782",
   "metadata": {
    "ExecuteTime": {
     "end_time": "2023-07-02T23:35:20.800647Z",
     "start_time": "2023-07-02T23:35:20.795663Z"
    }
   },
   "outputs": [],
   "source": [
    "# Abrindo arquivo para gravação\n",
    "arq1 = open(\"teste1.txt\", \"w\")"
   ]
  },
  {
   "cell_type": "code",
   "execution_count": null,
   "id": "e8b1a8c5",
   "metadata": {
    "ExecuteTime": {
     "end_time": "2023-07-02T23:35:21.361636Z",
     "start_time": "2023-07-02T23:35:21.355644Z"
    }
   },
   "outputs": [],
   "source": [
    "# Gravando arquivo\n",
    "arq1.write(\"Estou escrevendo uma outra mensagem no arquivo teste1.txt.\")"
   ]
  },
  {
   "cell_type": "code",
   "execution_count": null,
   "id": "5fa9ec6a",
   "metadata": {
    "ExecuteTime": {
     "end_time": "2023-07-02T23:35:22.225473Z",
     "start_time": "2023-07-02T23:35:22.219509Z"
    }
   },
   "outputs": [],
   "source": [
    "# Fecha o arquivo corretamente utilizando o método close()\n",
    "arq1.close()"
   ]
  },
  {
   "cell_type": "markdown",
   "id": "d063a656",
   "metadata": {},
   "source": [
    "Caso tenha aberto o arquivo teste1.txt após a escrita da segunda mensagem deve ter notado que seu conteúdo antigo foi sobescrito pelo atual. Uma vez que tenha fechado um arquivo você pode acessá-lo usando o comando de leitura anterior. Vejamos:"
   ]
  },
  {
   "cell_type": "markdown",
   "id": "e6cd3764",
   "metadata": {},
   "source": [
    "#####  <div style=\"width: 50%; height: 4px; background-color: red;\"> <br> <font color='red'>Cuidado!!!</font> </div>  \n",
    "<br>"
   ]
  },
  {
   "cell_type": "markdown",
   "id": "8301391a",
   "metadata": {},
   "source": [
    "Ao utilizar o parâmetro \"w\" para criar um arquivo no Jupyter Notebook, é importante ter em mente que ele irá criar um novo arquivo ou substituir um arquivo existente. Portanto, é necessário ter cuidado ao usar o modo de escrita, pois qualquer informação anteriormente presente no arquivo será sobrescrita. Se você precisar preservar o conteúdo existente e adicionar novos dados, pode usar o modo de anexar (\"**append**\") em vez do modo de escrita. Como veremos na próxima seção, o modo de anexar adiciona novos dados ao final do arquivo, sem afetar o conteúdo anterior."
   ]
  },
  {
   "cell_type": "markdown",
   "id": "a86dc99b",
   "metadata": {},
   "source": [
    "Certifique-se de estar ciente das implicações ao utilizar o modo de escrita, principalmente se você estiver trabalhando com arquivos importantes ou com informações que não podem ser perdidas. É uma boa prática fazer backup ou criar uma cópia do arquivo original antes de realizar alterações significativas usando o modo de escrita."
   ]
  },
  {
   "cell_type": "markdown",
   "id": "f7ccea54",
   "metadata": {},
   "source": [
    "Lembre-se também de fechar corretamente o arquivo após a escrita, utilizando o método **close()**, para liberar os recursos do sistema associados ao arquivo."
   ]
  },
  {
   "cell_type": "markdown",
   "id": "c2b4e3df",
   "metadata": {},
   "source": [
    "<div style=\"width: 50%; height: 4px; background-color: red;\">"
   ]
  },
  {
   "cell_type": "markdown",
   "id": "b0378221",
   "metadata": {},
   "source": [
    "## <div style=\"margin-top: -20px;\">\n",
    "<hr style=\"border: 2px solid blue;\">\n",
    "\n",
    "<font color='blue'><span style=\"font-size: 22px;\"><strong>18.4 Criação Exclusiva de Um Arquivo TXT</strong></span></font>\n",
    "\n",
    "<hr style=\"border: 2px solid blue;\">\n",
    "</div>"
   ]
  },
  {
   "cell_type": "markdown",
   "id": "ca824ef1",
   "metadata": {},
   "source": [
    "Uma forma de evitar a sobrescrição de conteúdo ao usar o parâmetro \"w\" é utilizar o parâmetro \"x\" com o comando <u>open(\"teste.txt\", \"x\")</u>. Nesse modo, um novo arquivo será criado. Se o arquivo já existir, um erro será exibido."
   ]
  },
  {
   "cell_type": "markdown",
   "id": "ed66fba7",
   "metadata": {},
   "source": [
    "#### Parte 1"
   ]
  },
  {
   "cell_type": "markdown",
   "id": "85f31a8b",
   "metadata": {},
   "source": [
    "Criaremos um arquivo não existente o qual chamaremos de teste2.txt, adicionaremos uma informação e a acessaremos."
   ]
  },
  {
   "cell_type": "code",
   "execution_count": null,
   "id": "5fa38b1a",
   "metadata": {
    "ExecuteTime": {
     "end_time": "2023-06-12T21:48:16.453258Z",
     "start_time": "2023-06-12T21:48:16.447409Z"
    }
   },
   "outputs": [],
   "source": [
    "# Abre o arquivo \"teste2.txt\" no modo de criação (\"x\")\n",
    "arq2 = open(\"teste2.txt\", \"x\")"
   ]
  },
  {
   "cell_type": "code",
   "execution_count": null,
   "id": "c8edd6b9",
   "metadata": {
    "ExecuteTime": {
     "end_time": "2023-06-12T21:49:14.357919Z",
     "start_time": "2023-06-12T21:49:14.349802Z"
    }
   },
   "outputs": [],
   "source": [
    "# Escreve o conteúdo no arquivo\n",
    "arq2.write('Este é um arquivo novo.')"
   ]
  },
  {
   "cell_type": "code",
   "execution_count": null,
   "id": "cf4f7496",
   "metadata": {
    "ExecuteTime": {
     "end_time": "2023-06-12T21:49:43.016792Z",
     "start_time": "2023-06-12T21:49:43.011804Z"
    }
   },
   "outputs": [],
   "source": [
    "# Fecha o arquivo corretamente utilizando o método close()\n",
    "arq2.close()"
   ]
  },
  {
   "cell_type": "code",
   "execution_count": null,
   "id": "495ca4b0",
   "metadata": {
    "ExecuteTime": {
     "end_time": "2023-06-12T21:49:53.940585Z",
     "start_time": "2023-06-12T21:49:53.935414Z"
    }
   },
   "outputs": [],
   "source": [
    "# Abre o arquivo \"teste2.txt\" no modo de leitura\n",
    "arq2 = open(\"teste2.txt\", \"r\")"
   ]
  },
  {
   "cell_type": "code",
   "execution_count": null,
   "id": "16023b4c",
   "metadata": {
    "ExecuteTime": {
     "end_time": "2023-06-12T21:50:09.231930Z",
     "start_time": "2023-06-12T21:50:09.225156Z"
    }
   },
   "outputs": [],
   "source": [
    "# Lê e imprime o conteúdo do arquivo\n",
    "print(arq2.read())"
   ]
  },
  {
   "cell_type": "code",
   "execution_count": null,
   "id": "bcb2eee1",
   "metadata": {
    "ExecuteTime": {
     "end_time": "2023-06-12T21:50:25.947685Z",
     "start_time": "2023-06-12T21:50:25.943313Z"
    }
   },
   "outputs": [],
   "source": [
    "# Fecha o arquivo corretamente utilizando o método close()\n",
    "arq2.close()"
   ]
  },
  {
   "cell_type": "markdown",
   "id": "eabe106c",
   "metadata": {},
   "source": [
    "#### Parte 2"
   ]
  },
  {
   "cell_type": "markdown",
   "id": "8a7e73f5",
   "metadata": {},
   "source": [
    "Agora tentaremos re-criar o arquivo teste2.txt usando o comando open(\"teste2.txt\",\"x\")."
   ]
  },
  {
   "cell_type": "code",
   "execution_count": null,
   "id": "74018eed",
   "metadata": {
    "ExecuteTime": {
     "end_time": "2023-06-12T21:57:46.383255Z",
     "start_time": "2023-06-12T21:57:46.369295Z"
    }
   },
   "outputs": [],
   "source": [
    "# Abre o arquivo \"teste2.txt\" no modo de criação (\"x\")\n",
    "arq2_1 = open(\"teste2.txt\",\"x\")"
   ]
  },
  {
   "cell_type": "markdown",
   "id": "fcb9f242",
   "metadata": {},
   "source": [
    "Por outro lado, um arquivo novo, digamos teste3.txt não acarretaria erro algum."
   ]
  },
  {
   "cell_type": "code",
   "execution_count": null,
   "id": "3c64c179",
   "metadata": {
    "ExecuteTime": {
     "end_time": "2023-07-02T23:19:40.019481Z",
     "start_time": "2023-07-02T23:19:40.013482Z"
    }
   },
   "outputs": [],
   "source": [
    "# Abre o arquivo \"teste3.txt\" no modo de criação (\"x\")\n",
    "arq3 = open(\"teste3.txt\",\"x\")"
   ]
  },
  {
   "cell_type": "markdown",
   "id": "0e92a239",
   "metadata": {},
   "source": [
    "## <div style=\"margin-top: -20px;\">\n",
    "<hr style=\"border: 2px solid blue;\">\n",
    "\n",
    "<font color='blue'><span style=\"font-size: 22px;\"><strong>18.5 Acrescentando Informações a Um Arquivo TXT</strong></span></font>\n",
    "\n",
    "<hr style=\"border: 2px solid blue;\">\n",
    "</div>"
   ]
  },
  {
   "cell_type": "markdown",
   "id": "93abea52",
   "metadata": {},
   "source": [
    "Agora vamos acrescentar informações a um arquivo existente usando o comando <u>open(\"teste.txt\", \"a\")</u>. Ao terminar de anexar informações ao arquivo em questão, não se esqueça de fechá-lo, caso contrário, as informações adicionadas podem não ser salvas. Toda informação é adicionada ao final do arquivo."
   ]
  },
  {
   "cell_type": "markdown",
   "id": "615707b5",
   "metadata": {},
   "source": [
    "#### Parte 1"
   ]
  },
  {
   "cell_type": "markdown",
   "id": "ccc0b506",
   "metadata": {},
   "source": [
    "Vamos apenas abrir o arquivo para nos certificarmos do seu conteúdo."
   ]
  },
  {
   "cell_type": "code",
   "execution_count": null,
   "id": "964efda9",
   "metadata": {
    "ExecuteTime": {
     "end_time": "2023-06-12T21:17:49.789360Z",
     "start_time": "2023-06-12T21:17:49.783242Z"
    }
   },
   "outputs": [],
   "source": [
    "# Abre o arquivo \"teste1.txt\" no modo de leitura\n",
    "arq1 = open(\"teste1.txt\", \"r\")"
   ]
  },
  {
   "cell_type": "code",
   "execution_count": null,
   "id": "d7ca224d",
   "metadata": {
    "ExecuteTime": {
     "end_time": "2023-06-12T21:17:51.880718Z",
     "start_time": "2023-06-12T21:17:51.873836Z"
    }
   },
   "outputs": [],
   "source": [
    "# Lê e imprime o conteúdo do arquivo\n",
    "print(arq1.read())"
   ]
  },
  {
   "cell_type": "code",
   "execution_count": null,
   "id": "95f32300",
   "metadata": {
    "ExecuteTime": {
     "end_time": "2023-06-12T21:17:56.069081Z",
     "start_time": "2023-06-12T21:17:56.063423Z"
    }
   },
   "outputs": [],
   "source": [
    "# Fecha o arquivo corretamente utilizando o método close()\n",
    "arq1.close()"
   ]
  },
  {
   "cell_type": "markdown",
   "id": "d17e46c2",
   "metadata": {},
   "source": [
    "#### Parte 2"
   ]
  },
  {
   "cell_type": "markdown",
   "id": "1c62d375",
   "metadata": {},
   "source": [
    "Agora vamos abrir o arquivo para adição de informação."
   ]
  },
  {
   "cell_type": "code",
   "execution_count": null,
   "id": "a4da289d",
   "metadata": {
    "ExecuteTime": {
     "end_time": "2023-06-12T21:18:00.991792Z",
     "start_time": "2023-06-12T21:18:00.985808Z"
    }
   },
   "outputs": [],
   "source": [
    "# Abrindo o arquivo para adição de informação\n",
    "arq1 = open(\"teste1.txt\", \"a\")"
   ]
  },
  {
   "cell_type": "code",
   "execution_count": null,
   "id": "c3d1a548",
   "metadata": {
    "ExecuteTime": {
     "end_time": "2023-06-12T21:18:02.985863Z",
     "start_time": "2023-06-12T21:18:02.977861Z"
    }
   },
   "outputs": [],
   "source": [
    "# Adicionando informação a um arquivo\n",
    "arq1.write(\" Esta é uma outra informação que será adicionada à anterior.\")"
   ]
  },
  {
   "cell_type": "markdown",
   "id": "e378e5df",
   "metadata": {},
   "source": [
    "Arquivos abertos no modo \"a\" não podem ser lidos."
   ]
  },
  {
   "cell_type": "code",
   "execution_count": null,
   "id": "065cb006",
   "metadata": {
    "ExecuteTime": {
     "end_time": "2023-06-12T21:18:05.240063Z",
     "start_time": "2023-06-12T21:18:05.226101Z"
    }
   },
   "outputs": [],
   "source": [
    "# Arquivo fechado não pode ser lido\n",
    "print(arq1.read())"
   ]
  },
  {
   "cell_type": "code",
   "execution_count": null,
   "id": "10b032d4",
   "metadata": {
    "ExecuteTime": {
     "end_time": "2023-06-12T21:18:09.962762Z",
     "start_time": "2023-06-12T21:18:09.957131Z"
    }
   },
   "outputs": [],
   "source": [
    "# Fechando o arquivo para salvar a informação adicionada.\n",
    "arq1.close()"
   ]
  },
  {
   "cell_type": "markdown",
   "id": "01847a1f",
   "metadata": {},
   "source": [
    "#### Parte 3"
   ]
  },
  {
   "cell_type": "markdown",
   "id": "08a5ba09",
   "metadata": {},
   "source": [
    "Uma vez fechado o arquivo teste1.txt podemos abrí-lo e ler seu conteúdo."
   ]
  },
  {
   "cell_type": "code",
   "execution_count": null,
   "id": "026b1592",
   "metadata": {
    "ExecuteTime": {
     "end_time": "2023-06-12T21:18:12.449907Z",
     "start_time": "2023-06-12T21:18:12.442932Z"
    }
   },
   "outputs": [],
   "source": [
    "# Abre o arquivo \"teste1.txt\" no modo de leitura\n",
    "arq1 = open(\"teste1.txt\", \"r\")"
   ]
  },
  {
   "cell_type": "code",
   "execution_count": null,
   "id": "d312c526",
   "metadata": {
    "ExecuteTime": {
     "end_time": "2023-06-12T21:18:14.490665Z",
     "start_time": "2023-06-12T21:18:14.482633Z"
    }
   },
   "outputs": [],
   "source": [
    "# Lê e imprime o conteúdo do arquivo\n",
    "print(arq1.read())"
   ]
  },
  {
   "cell_type": "code",
   "execution_count": null,
   "id": "6f5aee1a",
   "metadata": {
    "ExecuteTime": {
     "end_time": "2023-06-12T21:18:37.221264Z",
     "start_time": "2023-06-12T21:18:37.214282Z"
    }
   },
   "outputs": [],
   "source": [
    "# Fecha o arquivo corretamente utilizando o método close()\n",
    "arq1.close()"
   ]
  },
  {
   "cell_type": "markdown",
   "id": "b975056f",
   "metadata": {},
   "source": [
    "## <div style=\"margin-top: -20px;\">\n",
    "<hr style=\"border: 2px solid blue;\">\n",
    "\n",
    "<font color='blue'><span style=\"font-size: 22px;\"><strong>18.6 Trabalhando Com o Bloco WITH na Manipulação de Arquivos TXT</strong></span></font>\n",
    "\n",
    "<hr style=\"border: 2px solid blue;\">\n",
    "</div>"
   ]
  },
  {
   "cell_type": "markdown",
   "id": "291bb78b",
   "metadata": {},
   "source": [
    "O bloco <u>with</u> é usado para definir um contexto em que um recurso externo é utilizado. Ele garante que o recurso seja corretamente inicializado antes de entrar no contexto e, mais importante, que seja liberado automaticamente ao sair do contexto, mesmo em caso de exceções."
   ]
  },
  {
   "cell_type": "markdown",
   "id": "dd040ca2",
   "metadata": {},
   "source": [
    "#### *Exemplo 1 (Contagem de palavras usado o bloco with - já visto anteriormente)*"
   ]
  },
  {
   "cell_type": "code",
   "execution_count": null,
   "id": "8ced5eaf",
   "metadata": {},
   "outputs": [],
   "source": [
    "# Abrindo o arquivo usando o bloco with\n",
    "with open(\"teste.txt\", \"r\") as arq:\n",
    "    \n",
    "    # Armazenando o conteúdo do arquivo na variável palavras\n",
    "    mensagem = arq.read()\n",
    "\n",
    "    # Criando uma lista com as palavras - strings separadas por espaço em branco ' '\n",
    "    lista_palavras = mensagem.split(' ')\n",
    "\n",
    "    # Imprimindo a lista de palavras\n",
    "    print(lista_palavras)\n",
    "\n",
    "    # Contando o número de palavras\n",
    "    print(len(lista_palavras))\n"
   ]
  },
  {
   "cell_type": "markdown",
   "id": "24bcabb0",
   "metadata": {},
   "source": [
    "#### *Exemplo 2 (Criando ou sobrescrevendo um arquivo com o bloco with)*"
   ]
  },
  {
   "cell_type": "code",
   "execution_count": null,
   "id": "a234ae23",
   "metadata": {},
   "outputs": [],
   "source": [
    "# Abre o arquivo \"teste4.txt\" no modo de escrita usando a instrução with\n",
    "with open(\"teste4.txt\", \"w\") as arq4:\n",
    "    # Escreve o conteúdo no arquivo\n",
    "    arq4.write('Este é nosso quarto arquivo.')\n",
    "\n",
    "# Abre o arquivo \"teste4.txt\" no modo de leitura usando a instrução with\n",
    "with open(\"teste4.txt\", \"r\") as arq4:\n",
    "    \n",
    "    # Lê o conteúdo do arquivo\n",
    "    mensagem = arq4.read()\n",
    "    \n",
    "    # Divide o conteúdo em palavras\n",
    "    lista_palavras = mensagem.split(' ')\n",
    "    \n",
    "    # Imprime a lista de palavras\n",
    "    print(lista_palavras)\n",
    "    \n",
    "    # Contando o número de palavras\n",
    "    print(len(lista_palavras))"
   ]
  },
  {
   "cell_type": "markdown",
   "id": "97d5c4d5",
   "metadata": {},
   "source": [
    "#### *Exemplo 3 (Criando um <u>novo</u> arquivo com o bloco with)*"
   ]
  },
  {
   "cell_type": "code",
   "execution_count": null,
   "id": "f5a28b33",
   "metadata": {
    "ExecuteTime": {
     "end_time": "2023-12-01T21:08:40.143746Z",
     "start_time": "2023-12-01T21:08:40.132735Z"
    }
   },
   "outputs": [],
   "source": [
    "import os\n",
    "\n",
    "# Nome do arquivo\n",
    "nome_arquivo = \"teste5.txt\"\n",
    "\n",
    "# Verifica se o arquivo já existe\n",
    "if os.path.exists(nome_arquivo):\n",
    "    print(\"O arquivo já existe. Não é possível criar um novo arquivo com o mesmo nome.\")\n",
    "    \n",
    "else:\n",
    "    # Cria um novo arquivo e escreve o conteúdo nele\n",
    "    with open(nome_arquivo, \"x\") as arq4:\n",
    "        arq4.write('Este é nosso quinto arquivo.')\n",
    "\n",
    "    # Abre o arquivo no modo de leitura e processa o conteúdo\n",
    "    with open(nome_arquivo, \"r\") as arq4:\n",
    "        mensagem = arq4.read()\n",
    "        lista_palavras = mensagem.split(' ')\n",
    "        print(lista_palavras)\n",
    "        print(len(lista_palavras))"
   ]
  },
  {
   "cell_type": "markdown",
   "id": "0673cd6a",
   "metadata": {},
   "source": [
    "## <div style=\"margin-top: -20px;\">\n",
    "<hr style=\"border: 2px solid blue;\">\n",
    "\n",
    "<font color='blue'><span style=\"font-size: 22px;\"><strong>18.7 Baixando Arquivos Diretamente do GitHub</strong></span></font>\n",
    "\n",
    "<hr style=\"border: 2px solid blue;\">\n",
    "</div>"
   ]
  },
  {
   "cell_type": "markdown",
   "id": "b545e3c0",
   "metadata": {},
   "source": [
    "Apresentaremos a seguir uma forma de obter os arquivos a serem trabalhados diretamente do github tanto no Jupyter Notebook como também via Google Colab. Isso evita que o arquivo tenha que ser baixado manualmente e colocado na pasta do projeto (ou outra qualquer) ou necessite ser posto na pasta \"content\" do projeto no Google Colab."
   ]
  },
  {
   "cell_type": "markdown",
   "id": "2f383367",
   "metadata": {
    "ExecuteTime": {
     "end_time": "2023-12-01T21:00:32.579436Z",
     "start_time": "2023-12-01T21:00:32.576084Z"
    }
   },
   "source": [
    "#### *Abertura local (Forma usual)*"
   ]
  },
  {
   "cell_type": "code",
   "execution_count": 5,
   "id": "95564641",
   "metadata": {
    "ExecuteTime": {
     "end_time": "2023-12-01T21:31:37.761530Z",
     "start_time": "2023-12-01T21:31:37.758527Z"
    }
   },
   "outputs": [],
   "source": [
    "# Abrindo o arquivo para leitura\n",
    "arq_txt = open('arquivo_github.txt', 'r')"
   ]
  },
  {
   "cell_type": "code",
   "execution_count": 6,
   "id": "14861d2a",
   "metadata": {
    "ExecuteTime": {
     "end_time": "2023-12-01T21:31:41.579386Z",
     "start_time": "2023-12-01T21:31:41.575007Z"
    }
   },
   "outputs": [
    {
     "name": "stdout",
     "output_type": "stream",
     "text": [
      "Parabéns, você conseguiu!\n"
     ]
    }
   ],
   "source": [
    "print(arq_txt.read())"
   ]
  },
  {
   "cell_type": "code",
   "execution_count": 7,
   "id": "acfb0d0c",
   "metadata": {
    "ExecuteTime": {
     "end_time": "2023-12-01T21:31:44.170266Z",
     "start_time": "2023-12-01T21:31:44.166798Z"
    }
   },
   "outputs": [],
   "source": [
    "arq_txt.close()"
   ]
  },
  {
   "cell_type": "markdown",
   "id": "4f493c5f",
   "metadata": {},
   "source": [
    "#### *Download e Abertura (Nova forma)*"
   ]
  },
  {
   "cell_type": "code",
   "execution_count": 13,
   "id": "7abe70af",
   "metadata": {
    "ExecuteTime": {
     "end_time": "2023-12-01T22:03:17.671247Z",
     "start_time": "2023-12-01T22:03:17.183283Z"
    }
   },
   "outputs": [],
   "source": [
    "import requests\n",
    "\n",
    "# URL do arquivo raw no GitHub\n",
    "url = 'https://raw.githubusercontent.com/Allanifba/Curso_Python_Com_Jupyter_Notebook/main/Capitulo018_Manipulando_Arquivos_TXT/arquivo_github.txt'\n",
    "resposta = requests.get(url)\n",
    "\n",
    "# Verificando se a requisição foi bem-sucedida\n",
    "if resposta.status_code == 200:\n",
    "    # Escrevendo o conteúdo em um arquivo local\n",
    "    with open('arquivo_github.txt', 'wb') as file:\n",
    "        file.write(resposta.content)"
   ]
  },
  {
   "cell_type": "code",
   "execution_count": 14,
   "id": "05ac9762",
   "metadata": {
    "ExecuteTime": {
     "end_time": "2023-12-01T22:03:25.658483Z",
     "start_time": "2023-12-01T22:03:25.654654Z"
    }
   },
   "outputs": [],
   "source": [
    "# Abrindo o arquivo para leitura\n",
    "arq_txt = open('arquivo_github.txt', 'r')"
   ]
  },
  {
   "cell_type": "code",
   "execution_count": 15,
   "id": "2addeb40",
   "metadata": {
    "ExecuteTime": {
     "end_time": "2023-12-01T22:03:31.482846Z",
     "start_time": "2023-12-01T22:03:31.478572Z"
    }
   },
   "outputs": [
    {
     "name": "stdout",
     "output_type": "stream",
     "text": [
      "Parabéns, você conseguiu!\n"
     ]
    }
   ],
   "source": [
    "print(arq_txt.read())"
   ]
  },
  {
   "cell_type": "code",
   "execution_count": 16,
   "id": "956b8253",
   "metadata": {
    "ExecuteTime": {
     "end_time": "2023-12-01T22:03:34.498225Z",
     "start_time": "2023-12-01T22:03:34.494379Z"
    }
   },
   "outputs": [],
   "source": [
    "arq_txt.close()"
   ]
  },
  {
   "cell_type": "code",
   "execution_count": null,
   "id": "5fee4ba9",
   "metadata": {},
   "outputs": [],
   "source": []
  }
 ],
 "metadata": {
  "kernelspec": {
   "display_name": "Python 3 (ipykernel)",
   "language": "python",
   "name": "python3"
  },
  "language_info": {
   "codemirror_mode": {
    "name": "ipython",
    "version": 3
   },
   "file_extension": ".py",
   "mimetype": "text/x-python",
   "name": "python",
   "nbconvert_exporter": "python",
   "pygments_lexer": "ipython3",
   "version": "3.11.5"
  },
  "varInspector": {
   "cols": {
    "lenName": 16,
    "lenType": 16,
    "lenVar": 40
   },
   "kernels_config": {
    "python": {
     "delete_cmd_postfix": "",
     "delete_cmd_prefix": "del ",
     "library": "var_list.py",
     "varRefreshCmd": "print(var_dic_list())"
    },
    "r": {
     "delete_cmd_postfix": ") ",
     "delete_cmd_prefix": "rm(",
     "library": "var_list.r",
     "varRefreshCmd": "cat(var_dic_list()) "
    }
   },
   "types_to_exclude": [
    "module",
    "function",
    "builtin_function_or_method",
    "instance",
    "_Feature"
   ],
   "window_display": false
  }
 },
 "nbformat": 4,
 "nbformat_minor": 5
}
