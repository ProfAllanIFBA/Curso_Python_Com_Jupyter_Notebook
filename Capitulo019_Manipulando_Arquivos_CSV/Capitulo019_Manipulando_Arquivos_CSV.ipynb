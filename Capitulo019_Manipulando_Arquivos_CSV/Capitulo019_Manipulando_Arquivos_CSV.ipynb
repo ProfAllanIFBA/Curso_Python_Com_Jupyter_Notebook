{
 "cells": [
  {
   "cell_type": "markdown",
   "id": "a528f222",
   "metadata": {
    "ExecuteTime": {
     "end_time": "2023-06-02T00:00:53.336839Z",
     "start_time": "2023-06-02T00:00:53.330832Z"
    },
    "slideshow": {
     "slide_type": "slide"
    }
   },
   "source": [
    "<center> <img src=\"logo_ifba.jpg\" alt=\"jpg_python\" width=\"100\" height=\"\"> </center>\n",
    "<br><br>\n",
    "<center> <img src=\"logo_coext.jpg\" alt=\"jpg_python\" width=\"200\" height=\"\"> </center>\n",
    "<br><br>\n",
    "<center><div style=\"text-align:center\">    <a href=\"https://colab.research.google.com/github/ProfAllanIFBA/Curso_Python_Com_Jupyter_Notebook/blob/main/Capitulo019_Manipulando_Arquivos_CSV/Capitulo019_Manipulando_Arquivos_CSV.ipynb\">Link Colab</a> \n",
    "</div><br><br></center>\n",
    "<div align=\"center\"><span style=\"font-size: 26px;\"><strong>Python Com Jupyter Notebook</strong></span></div><br><br>\n",
    "<center> <img src=\"python_gif.gif\" alt=\"gif_python\" width=\"80\"> </center>"
   ]
  },
  {
   "cell_type": "markdown",
   "id": "1abbb2f5",
   "metadata": {},
   "source": [
    "Este material apresenta uma explicação detalhada sobre o uso do software de programação em Python chamado Jupyter Notebook, com foco na análise de dados. Abordaremos desde estruturas básicas, como listas e dicionários, até estruturas mais complexas voltadas para a análise de dados, como pandas e seaborn, além de ferramentas destinadas à inteligência artificial.\n",
    "\n",
    "\n",
    "<font color='red'> <u>Este é um material de uso público e totalmente gratuito</u>. Contudo, eventuais edições são de responsabilidade de quem as fizer. </font>\n",
    "\n",
    "Você pode ajudar a melhorar este material!\n",
    "\n",
    "Contato e Sugestões: allansoares@ifba.edu.br.\n",
    "\n",
    "[**Equipe Executora**](https://github.com/ProfAllanIFBA/Curso_Python_Com_Jupyter_Notebook/blob/main/Capitulo000_Equipe/Capitulo000_Equipe.ipynb)"
   ]
  },
  {
   "cell_type": "markdown",
   "id": "a9fcb6d3",
   "metadata": {},
   "source": [
    "### <center> <font color='red'> Vídeo Aulas <img src=\"youtube.gif\" alt=\"jpg_python\" width=\"100\" height=\"\"> </font> </center>"
   ]
  },
  {
   "cell_type": "markdown",
   "id": "b09355d5",
   "metadata": {},
   "source": [
    "[Trabalhando Com Arquivos CSV no Python](https://youtu.be/_ncCDr3Y-Xg)\n",
    "\n",
    "[Extração de Informações Básicas de Arquivo CSV no Python](https://youtu.be/dTEJHy10s5k)\n",
    "\n",
    "[Extração de Informações em Formato Gráfico de Arquivo CSV no Python](https://youtu.be/bvoFQYJecDc)"
   ]
  },
  {
   "cell_type": "markdown",
   "id": "a6f02e0f",
   "metadata": {
    "slideshow": {
     "slide_type": "slide"
    }
   },
   "source": [
    "<div style=\"border: 2px solid black; padding: 10px; width: 100%; background-color: lightgray; display: flex; align-items: center;\">\n",
    "    <h1 style=\"color: red; text-align: center; margin: auto;\">\n",
    "        Capítulo  19: Manipulação de Arquivos CSV\n",
    "    </h1>\n",
    "</div>\n",
    "\n",
    "<font color='red'></font>\n",
    "<a href=\"\"></a>"
   ]
  },
  {
   "cell_type": "markdown",
   "id": "fc3a1c6b",
   "metadata": {},
   "source": [
    "Neste capítulo, abordaremos os conceitos básicos e técnicas essenciais para manipulação de arquivos <u>CSV</u> (comma-separated values / valores separados por vírgula). Os arquivos CSV são amplamente utilizados para armazenar dados tabulares, em que os valores de cada coluna são separados por vírgulas."
   ]
  },
  {
   "cell_type": "markdown",
   "id": "727dfba5",
   "metadata": {},
   "source": [
    "Assim como um arquivo TXT, um arquivo CSV pode ser aberto e lido com qualquer editor de texto ou processador de texto. No entanto, a diferença é que os dados em um arquivo CSV possuem uma estrutura organizada em colunas, o que facilita sua leitura e processamento em programas de computador."
   ]
  },
  {
   "cell_type": "markdown",
   "id": "98e148d4",
   "metadata": {
    "slideshow": {
     "slide_type": "slide"
    }
   },
   "source": [
    "## <div style=\"margin-top: -20px;\">\n",
    "<hr style=\"border: 2px solid blue;\">\n",
    "\n",
    "<font color='blue'><span style=\"font-size: 22px;\"><strong>19.1 Baixando Nosso CSV de Testes</strong></span></font>\n",
    "\n",
    "<hr style=\"border: 2px solid blue;\">\n",
    "</div>"
   ]
  },
  {
   "cell_type": "markdown",
   "id": "7e6c9f14",
   "metadata": {},
   "source": [
    "#### Plataforma Kaggle"
   ]
  },
  {
   "cell_type": "markdown",
   "id": "5fdd8c3f",
   "metadata": {},
   "source": [
    "Baixaremos nossos arquivos CSV de teste diretamente da plataforma Kaggle: https://www.kaggle.com/datasets\n",
    "\n",
    "<u>Kaggle</u> é uma plataforma online que hospeda competições de ciência de dados, oferece ferramentas de análise de dados e recursos de aprendizado de máquina, além de uma comunidade de cientistas de dados e entusiastas que compartilham seus projetos e conhecimentos. Ela foi fundada em 2010 e adquirida pelo Google em 2017. Na plataforma, os usuários podem encontrar e participar de competições de ciência de dados, criar seus próprios conjuntos de dados, publicar seus notebooks e projetos, além de acessar cursos, tutoriais e fóruns para aprender e discutir sobre ciência de dados."
   ]
  },
  {
   "cell_type": "markdown",
   "id": "1b85acc7",
   "metadata": {},
   "source": [
    "##### Arquivo de Teste"
   ]
  },
  {
   "cell_type": "markdown",
   "id": "fa6269e9",
   "metadata": {},
   "source": [
    "https://www.kaggle.com/datasets/rsadiq/salary"
   ]
  },
  {
   "cell_type": "markdown",
   "id": "53f51b5e",
   "metadata": {},
   "source": [
    "Coloque o arquivo Salary.csv no mesmo diretório que este arquivo."
   ]
  },
  {
   "cell_type": "markdown",
   "id": "0af6f1e9",
   "metadata": {},
   "source": [
    "*Caso não o link não funcione o arquivo estará disponível no mesmo diretório deste arquivo.*"
   ]
  },
  {
   "cell_type": "markdown",
   "id": "9bc7954b",
   "metadata": {},
   "source": [
    "#### Outras Plataformas Contendo Arquivos em Formato CSV"
   ]
  },
  {
   "cell_type": "markdown",
   "id": "965445b1",
   "metadata": {},
   "source": [
    "- Banco Central do Brasil: https://dadosabertos.bcb.gov.br/dataset\n",
    "\n",
    "- Ministério da Justiça: https://dados.mj.gov.br/dataset"
   ]
  },
  {
   "cell_type": "markdown",
   "id": "7f56636e",
   "metadata": {},
   "source": [
    "## <div style=\"margin-top: -20px;\">\n",
    "<hr style=\"border: 2px solid blue;\">\n",
    "\n",
    "<font color='blue'><span style=\"font-size: 22px;\"><strong>19.2 Exemplo de Extração de Informações</strong></span></font>\n",
    "\n",
    "<hr style=\"border: 2px solid blue;\">\n",
    "</div>"
   ]
  },
  {
   "cell_type": "markdown",
   "id": "9947d994",
   "metadata": {},
   "source": [
    "*Ao final de cada etapa a seguir fecharemos o arquivo **Salary.csv** para entendermos cada etapa do exemplo. Adquirindo familiaridade com os códigos você poderá repassar esses passos e fechar seu arquivo uma única vez ou um número menor de vezes. Você pode repassar o seu código a um bloco with como fizemos no Capítulo 18.*"
   ]
  },
  {
   "cell_type": "markdown",
   "id": "be98c89b",
   "metadata": {},
   "source": [
    "### <div style=\"margin-top: -20px;\">\n",
    "<hr style=\"border: 2px solid blue;\">\n",
    "\n",
    "<font color='blue'><span style=\"font-size: 18px;\"><strong>19.2.1 Extração de Informações Básicas</strong></span></font>\n",
    "\n",
    "<hr style=\"border: 2px solid blue;\">\n",
    "</div>"
   ]
  },
  {
   "cell_type": "markdown",
   "id": "a2d2ee0e",
   "metadata": {},
   "source": [
    "#### Acessando informações"
   ]
  },
  {
   "cell_type": "code",
   "execution_count": 1,
   "id": "19ea5da7",
   "metadata": {
    "ExecuteTime": {
     "end_time": "2023-12-01T19:10:16.134035Z",
     "start_time": "2023-12-01T19:10:16.126808Z"
    },
    "id": "19ea5da7",
    "slideshow": {
     "slide_type": "slide"
    }
   },
   "outputs": [],
   "source": [
    "# Abrindo o arquivo \"Salary.csv\" em modo de leitura ('r') e atribuindo o objeto de arquivo a 'arq_csv'\n",
    "arq_csv = open('Salary.csv', 'r')"
   ]
  },
  {
   "cell_type": "code",
   "execution_count": 2,
   "id": "664281a7",
   "metadata": {
    "ExecuteTime": {
     "end_time": "2023-12-01T19:10:16.802556Z",
     "start_time": "2023-12-01T19:10:16.798556Z"
    },
    "id": "664281a7",
    "slideshow": {
     "slide_type": "-"
    }
   },
   "outputs": [],
   "source": [
    "# Lendo o conteúdo completo do arquivo e armazenando na variável 'data'\n",
    "data = arq_csv.read()"
   ]
  },
  {
   "cell_type": "code",
   "execution_count": 3,
   "id": "a69d8ff6",
   "metadata": {
    "ExecuteTime": {
     "end_time": "2023-12-01T19:10:21.954231Z",
     "start_time": "2023-12-01T19:10:21.949495Z"
    },
    "id": "a69d8ff6",
    "scrolled": true,
    "slideshow": {
     "slide_type": "-"
    }
   },
   "outputs": [
    {
     "name": "stdout",
     "output_type": "stream",
     "text": [
      "YearsExperience,Salary\n",
      "1.1,39343\n",
      "1.3,46205\n",
      "1.5,37731\n",
      "2,43525\n",
      "2.2,39891\n",
      "2.9,56642\n",
      "3,60150\n",
      "3.2,54445\n",
      "3.2,64445\n",
      "3.7,57189\n",
      "3.9,63218\n",
      "4,55794\n",
      "4,56957\n",
      "4.1,57081\n",
      "4.5,61111\n",
      "4.9,67938\n",
      "5.1,66029\n",
      "5.3,83088\n",
      "5.9,81363\n",
      "6,93940\n",
      "6.8,91738\n",
      "7.1,98273\n",
      "7.9,101302\n",
      "8.2,113812\n",
      "8.7,109431\n",
      "9,105582\n",
      "9.5,116969\n",
      "9.6,112635\n",
      "10.3,122391\n",
      "10.5,121872\n",
      "11.2,127345\n",
      "11.5,126756\n",
      "12.3,128765\n",
      "12.9,135675\n",
      "13.5,139465\n",
      "\n"
     ]
    }
   ],
   "source": [
    "# Imprimindo o conteúdo do arquivo no prompt de comando\n",
    "print(data)"
   ]
  },
  {
   "cell_type": "code",
   "execution_count": 4,
   "id": "b64863dc",
   "metadata": {
    "ExecuteTime": {
     "end_time": "2023-12-01T19:10:26.514035Z",
     "start_time": "2023-12-01T19:10:26.509932Z"
    }
   },
   "outputs": [],
   "source": [
    "# Fechando o arquivo 'arq_csv'\n",
    "arq_csv.close()"
   ]
  },
  {
   "cell_type": "markdown",
   "id": "3a285464",
   "metadata": {},
   "source": [
    "#### Dividindo um arquivo csv em colunas em uma matriz"
   ]
  },
  {
   "cell_type": "markdown",
   "id": "1febd643",
   "metadata": {},
   "source": [
    "A divisão dos arquivo CSV em colunas será uma das etapas para correlacionarmos variáveis."
   ]
  },
  {
   "cell_type": "code",
   "execution_count": null,
   "id": "f82c2c95",
   "metadata": {
    "id": "f82c2c95",
    "slideshow": {
     "slide_type": "slide"
    }
   },
   "outputs": [],
   "source": [
    "# Abrindo o arquivo \"Salary.csv\" em modo de leitura ('r') e atribuindo o objeto de arquivo a 'arq_csv'\n",
    "arq_csv = open('Salary.csv', 'r')\n",
    "\n",
    "# Lendo o conteúdo completo do arquivo e armazenando na variável 'dados'\n",
    "dados = arq_csv.read()"
   ]
  },
  {
   "cell_type": "code",
   "execution_count": null,
   "id": "bced7839",
   "metadata": {
    "id": "bced7839",
    "slideshow": {
     "slide_type": "slide"
    }
   },
   "outputs": [],
   "source": [
    "# Dividindo o conteúdo em linhas com base no caractere de nova linha ('\\n') e armazenando em 'linhas'\n",
    "linhas = dados.split('\\n')"
   ]
  },
  {
   "cell_type": "code",
   "execution_count": null,
   "id": "1f591adf",
   "metadata": {},
   "outputs": [],
   "source": [
    "print(linhas)"
   ]
  },
  {
   "cell_type": "code",
   "execution_count": null,
   "id": "f4a2ea97",
   "metadata": {
    "id": "f4a2ea97",
    "slideshow": {
     "slide_type": "slide"
    }
   },
   "outputs": [],
   "source": [
    "# Criando uma lista vazia chamada 'lista_dados' para armazenar os dados completos\n",
    "lista_dados = []"
   ]
  },
  {
   "cell_type": "code",
   "execution_count": null,
   "id": "f8521396",
   "metadata": {
    "id": "f8521396",
    "slideshow": {
     "slide_type": "-"
    }
   },
   "outputs": [],
   "source": [
    "# Iterando por cada linha em 'linhas'\n",
    "for linha in linhas:\n",
    "    \n",
    "    # Dividindo cada linha em colunas com base na vírgula (\",\") e armazenando em 'split_linha'\n",
    "    split_linha = linha.split(\",\")\n",
    "    \n",
    "    # Adicionando 'split_linha' à lista 'lista_dados'\n",
    "    lista_dados.append(split_linha)"
   ]
  },
  {
   "cell_type": "code",
   "execution_count": null,
   "id": "6a33f738",
   "metadata": {
    "id": "6a33f738",
    "slideshow": {
     "slide_type": "-"
    }
   },
   "outputs": [],
   "source": [
    "# Imprimindo os dados completos\n",
    "print(lista_dados)"
   ]
  },
  {
   "cell_type": "code",
   "execution_count": null,
   "id": "51847643",
   "metadata": {
    "id": "51847643"
   },
   "outputs": [],
   "source": [
    "# Fechando o arquivo 'arq_csv'\n",
    "arq_csv.close()"
   ]
  },
  {
   "cell_type": "code",
   "execution_count": null,
   "id": "ee9de38a",
   "metadata": {},
   "outputs": [],
   "source": [
    "print(lista_dados)"
   ]
  },
  {
   "cell_type": "markdown",
   "id": "2d7d7895",
   "metadata": {},
   "source": [
    "#### Acessando elementos internos (indexação)"
   ]
  },
  {
   "cell_type": "code",
   "execution_count": null,
   "id": "e5e43b90",
   "metadata": {},
   "outputs": [],
   "source": [
    "# Abrindo o arquivo \"Salary.csv\" em modo de leitura ('r') e atribuindo o objeto de arquivo a 'arq_csv'\n",
    "arq_csv = open('Salary.csv', 'r')\n",
    "\n",
    "# Lendo o conteúdo completo do arquivo e armazenando na variável 'dados'\n",
    "dados = arq_csv.read()\n",
    "\n",
    "# Dividindo o conteúdo em linhas com base no caractere de nova linha ('\\n') e armazenando em 'linhas'\n",
    "linhas = dados.split('\\n')\n",
    "\n",
    "# Criando uma lista vazia chamada 'lista_dados' para armazenar os dados completos\n",
    "lista_dados = []\n",
    "\n",
    "# Iterando por cada linha em 'linhas'\n",
    "for linha in linhas:\n",
    "    \n",
    "    # Dividindo cada linha em colunas com base na vírgula (\",\") e armazenando em 'split_linha'\n",
    "    split_linha = linha.split(\",\")\n",
    "    \n",
    "    # Adicionando 'split_linha' à lista 'lista_dados'\n",
    "    lista_dados.append(split_linha)\n",
    "\n",
    "# Imprimindo a lista \"lista_dados\"\n",
    "print(lista_dados)"
   ]
  },
  {
   "cell_type": "code",
   "execution_count": null,
   "id": "409a088d",
   "metadata": {},
   "outputs": [],
   "source": [
    "print(lista_dados[5])"
   ]
  },
  {
   "cell_type": "code",
   "execution_count": null,
   "id": "55981b96",
   "metadata": {
    "id": "55981b96",
    "outputId": "6b120c3c-779c-4346-9925-e92bd4ca528c",
    "slideshow": {
     "slide_type": "-"
    }
   },
   "outputs": [],
   "source": [
    "# Acessando valor específico\n",
    "print(lista_dados[5][0])"
   ]
  },
  {
   "cell_type": "code",
   "execution_count": null,
   "id": "9706a5ef",
   "metadata": {},
   "outputs": [],
   "source": [
    "# Acessando valor específico\n",
    "print(lista_dados[5][1])"
   ]
  },
  {
   "cell_type": "markdown",
   "id": "e2783895",
   "metadata": {},
   "source": [
    "Saber o tipo de dado que estas saídas acima representam é muito importante para uma análise futura, um esboço gráfico etc."
   ]
  },
  {
   "cell_type": "code",
   "execution_count": null,
   "id": "95b3c3da",
   "metadata": {
    "id": "95b3c3da",
    "outputId": "1d59ab02-91c5-4943-9592-db93805c196a",
    "slideshow": {
     "slide_type": "-"
    }
   },
   "outputs": [],
   "source": [
    "# Consultando tipos de dados\n",
    "print(type(lista_dados[0][0]))    \n",
    "print(type(lista_dados[0][1]))\n",
    "print(type(lista_dados[1][1]))\n",
    "print(type(lista_dados[3][0]))"
   ]
  },
  {
   "cell_type": "code",
   "execution_count": null,
   "id": "684aa071",
   "metadata": {},
   "outputs": [],
   "source": [
    "# Fechando o arquivo 'arq_csv'\n",
    "arq_csv.close()"
   ]
  },
  {
   "cell_type": "markdown",
   "id": "345bd242",
   "metadata": {},
   "source": [
    "#### Contagem de linhas"
   ]
  },
  {
   "cell_type": "markdown",
   "id": "84a44bf2",
   "metadata": {},
   "source": [
    "A contagem de linha é fundamental para nossa análise de dados futura. Uma vez que vamos acessar os dados precisamos saber de quantos deles estamos falando."
   ]
  },
  {
   "cell_type": "code",
   "execution_count": null,
   "id": "1ee85607",
   "metadata": {},
   "outputs": [],
   "source": [
    "# Abrindo o arquivo \"Salary.csv\" em modo de leitura ('r') e atribuindo o objeto de arquivo a 'arq_csv'\n",
    "arq_csv = open('Salary.csv', 'r')\n",
    "\n",
    "# Lendo o conteúdo completo do arquivo e armazenando na variável 'dados'\n",
    "dados = arq_csv.read()\n",
    "\n",
    "# Dividindo o conteúdo em linhas com base no caractere de nova linha ('\\n') e armazenando em 'linhas'\n",
    "linhas = dados.split('\\n')\n",
    "\n",
    "# Criando uma lista vazia chamada 'lista_dados' para armazenar os dados completos\n",
    "lista_dados = []\n",
    "\n",
    "# Iterando por cada linha em 'linhas'\n",
    "for linha in linhas:\n",
    "    \n",
    "    # Dividindo cada linha em colunas com base na vírgula (\",\") e armazenando em 'split_linha'\n",
    "    split_linha = linha.split(\",\")\n",
    "    \n",
    "    # Adicionando 'split_linha' à lista 'lista_dados'\n",
    "    lista_dados.append(split_linha)"
   ]
  },
  {
   "cell_type": "code",
   "execution_count": null,
   "id": "19bba6de",
   "metadata": {},
   "outputs": [],
   "source": [
    "# Inicializando a variável 'count' com o valor zero\n",
    "count = 0\n",
    "\n",
    "# Iterando por cada linha em 'full_data'\n",
    "for linha in lista_dados:\n",
    "    count += 1   # Incrementando o valor de 'count' em 1"
   ]
  },
  {
   "cell_type": "code",
   "execution_count": null,
   "id": "1043c531",
   "metadata": {},
   "outputs": [],
   "source": [
    "# Imprimindo o valor final de 'count'\n",
    "print(count)"
   ]
  },
  {
   "cell_type": "code",
   "execution_count": null,
   "id": "7a5c7beb",
   "metadata": {},
   "outputs": [],
   "source": [
    "# Fechando o arquivo 'arq_csv'\n",
    "arq_csv.close()"
   ]
  },
  {
   "cell_type": "markdown",
   "id": "e2112e77",
   "metadata": {},
   "source": [
    "### <div style=\"margin-top: -20px;\">\n",
    "<hr style=\"border: 2px solid blue;\">\n",
    "\n",
    "<font color='blue'><span style=\"font-size: 18px;\"><strong>19.2.2 Extração de Informações em Formato Gráfico</strong></span></font>\n",
    "\n",
    "<hr style=\"border: 2px solid blue;\">\n",
    "</div>"
   ]
  },
  {
   "cell_type": "markdown",
   "id": "fa276ebc",
   "metadata": {},
   "source": [
    "#### Gerando um gráfico nas variáveis x = YearsExperience e y = Salary"
   ]
  },
  {
   "cell_type": "markdown",
   "id": "2b091dc6",
   "metadata": {},
   "source": [
    "Embora ainda não tenhamos abordado diretamente gráficos, vamos apresentar um exemplo simples de análise de dados usando um gráfico para as variáveis YearsExperience (Anos de Experiência) e Salary (Salário). Mais adiante, abordaremos a construção de gráficos com mais detalhes."
   ]
  },
  {
   "cell_type": "code",
   "execution_count": null,
   "id": "f1de661e",
   "metadata": {},
   "outputs": [],
   "source": [
    "# Abrindo o arquivo \"Salary.csv\" em modo de leitura ('r') e atribuindo o objeto de arquivo a 'arq_csv'\n",
    "arq_csv = open('Salary.csv', 'r')\n",
    "\n",
    "# Lendo o conteúdo completo do arquivo e armazenando na variável 'dados'\n",
    "dados = arq_csv.read()\n",
    "\n",
    "# Dividindo o conteúdo em linhas com base no caractere de nova linha ('\\n') e armazenando em 'linhas'\n",
    "linhas = dados.split('\\n')\n",
    "\n",
    "# Criando uma lista vazia chamada 'lista_dados' para armazenar os dados completos\n",
    "lista_dados = []\n",
    "\n",
    "# Iterando por cada linha em 'linhas'\n",
    "for linha in linhas:\n",
    "    \n",
    "    # Dividindo cada linha em colunas com base na vírgula (\",\") e armazenando em 'split_linha'\n",
    "    split_linha = linha.split(\",\")\n",
    "    \n",
    "    # Adicionando 'split_linha' à lista 'lista_dados'\n",
    "    lista_dados.append(split_linha)"
   ]
  },
  {
   "cell_type": "code",
   "execution_count": null,
   "id": "de99121f",
   "metadata": {},
   "outputs": [],
   "source": [
    "print(lista_dados)"
   ]
  },
  {
   "cell_type": "code",
   "execution_count": null,
   "id": "afebd11f",
   "metadata": {
    "id": "afebd11f",
    "slideshow": {
     "slide_type": "slide"
    }
   },
   "outputs": [],
   "source": [
    "# Criando duas listas vazias para armazenar dos dados referentes às variáveis 'YearsExperience' e 'Salary'\n",
    "x,y = [],[]\n",
    "\n",
    "# Amazenando os valores nas variáveis x e y\n",
    "for k in range(1,36):          # 37 -2 (linha de título e linha vazia)\n",
    "    x.append(lista_dados[k][0])\n",
    "    y.append(lista_dados[k][1])"
   ]
  },
  {
   "cell_type": "code",
   "execution_count": null,
   "id": "a7d607c6",
   "metadata": {
    "id": "a7d607c6",
    "outputId": "e61290d0-b50a-45bf-a9f2-0a5b954e494c",
    "slideshow": {
     "slide_type": "-"
    }
   },
   "outputs": [],
   "source": [
    "# Imprimdindo os vetores x e y (para conferência)\n",
    "print(x)\n",
    "print(y) "
   ]
  },
  {
   "cell_type": "code",
   "execution_count": null,
   "id": "344ea825",
   "metadata": {
    "code_folding": [],
    "id": "344ea825",
    "scrolled": false,
    "slideshow": {
     "slide_type": "slide"
    }
   },
   "outputs": [],
   "source": [
    "# Configurações do ambiente gráfico\n",
    "\n",
    "# Importando módulo necessário\n",
    "import matplotlib.pyplot as plt\n",
    "\n",
    "\n",
    "# Criar figura com tamanho personalizado\n",
    "plt.figure(figsize=(8, 6))\n",
    "\n",
    "# Criar gráfico de pontos\n",
    "plt.plot(x, y, '.', markersize=5, color='blue')  # Mude \".\" para *,d,-,+,x\n",
    "\n",
    "# Rótulos\n",
    "plt.title('Sálario ao Longo do Tempo')\n",
    "plt.xlabel('Anos de Experiência')\n",
    "plt.ylabel('Salário')\n",
    "\n",
    "# Ajuste automático de layout\n",
    "plt.tight_layout()\n",
    "\n",
    "# Exibição do gráfico\n",
    "plt.show()    \n"
   ]
  },
  {
   "cell_type": "markdown",
   "id": "15254392",
   "metadata": {},
   "source": [
    "##### Incrementando"
   ]
  },
  {
   "cell_type": "code",
   "execution_count": null,
   "id": "780008c7",
   "metadata": {
    "code_folding": []
   },
   "outputs": [],
   "source": [
    "# Importando módulos necessários\n",
    "import matplotlib.pyplot as plt\n",
    "import numpy as np\n",
    "\n",
    "\n",
    "# Converter as listas x e y para números float\n",
    "x = [float(value) for value in x]\n",
    "y = [float(value) for value in y]\n",
    "\n",
    "# Configurações do ambiente gráfico\n",
    "\n",
    "# Criar figura com tamanho personalizado\n",
    "plt.figure(figsize=(10, 6))\n",
    "\n",
    "# Criar gráfico de pontos\n",
    "plt.plot(x, y, '.', markersize=5, color='blue')  # Mude para *,d,-,+,x\n",
    "\n",
    "# Ajuste linear usando mínimos quadrados\n",
    "coefficients = np.polyfit(x, y, 1)\n",
    "line = np.poly1d(coefficients)\n",
    "x_values = np.linspace(min(x), max(x), 100)\n",
    "y_values = line(x_values)\n",
    "\n",
    "# Plotar a reta de ajuste\n",
    "plt.plot(x_values, y_values, color='red', label='Reta de Ajuste')\n",
    "\n",
    "# Rótulos\n",
    "plt.title('Evolução dos Salários ao Longo dos Anos')\n",
    "plt.xlabel('Anos de Experiência')\n",
    "plt.ylabel('Salário')\n",
    "\n",
    "# Adicionar legenda\n",
    "plt.legend()\n",
    "\n",
    "# Ajuste automático de layout\n",
    "plt.tight_layout()\n",
    "\n",
    "# Exibir a equação da reta no gráfico\n",
    "equation = f'y = {coefficients[0]:.2f}x + {coefficients[1]:.2f}'\n",
    "plt.text(min(x), max(y), equation, fontsize=12)\n",
    "\n",
    "# Exibição do gráfico\n",
    "plt.show()"
   ]
  },
  {
   "cell_type": "code",
   "execution_count": null,
   "id": "f3afe7ba",
   "metadata": {},
   "outputs": [],
   "source": []
  }
 ],
 "metadata": {
  "kernelspec": {
   "display_name": "Python 3 (ipykernel)",
   "language": "python",
   "name": "python3"
  },
  "language_info": {
   "codemirror_mode": {
    "name": "ipython",
    "version": 3
   },
   "file_extension": ".py",
   "mimetype": "text/x-python",
   "name": "python",
   "nbconvert_exporter": "python",
   "pygments_lexer": "ipython3",
   "version": "3.11.5"
  },
  "varInspector": {
   "cols": {
    "lenName": 16,
    "lenType": 16,
    "lenVar": 40
   },
   "kernels_config": {
    "python": {
     "delete_cmd_postfix": "",
     "delete_cmd_prefix": "del ",
     "library": "var_list.py",
     "varRefreshCmd": "print(var_dic_list())"
    },
    "r": {
     "delete_cmd_postfix": ") ",
     "delete_cmd_prefix": "rm(",
     "library": "var_list.r",
     "varRefreshCmd": "cat(var_dic_list()) "
    }
   },
   "types_to_exclude": [
    "module",
    "function",
    "builtin_function_or_method",
    "instance",
    "_Feature"
   ],
   "window_display": false
  }
 },
 "nbformat": 4,
 "nbformat_minor": 5
}
