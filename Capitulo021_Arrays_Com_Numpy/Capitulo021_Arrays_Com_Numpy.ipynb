{
 "cells": [
  {
   "cell_type": "markdown",
   "id": "b42396bc",
   "metadata": {},
   "source": [
    "<center> <img src=\"logo_ifba.jpg\" alt=\"jpg_python\" width=\"100\" height=\"\"> </center>\n",
    "<br><br>\n",
    "<center> <img src=\"logo_coext.jpg\" alt=\"jpg_python\" width=\"200\" height=\"\"> </center>\n",
    "<br><br>\n",
    "<center><div style=\"text-align:center\">    <a href=\"https://colab.research.google.com/github/ProfAllanIFBA/Curso_Python_Com_Jupyter_Notebook/blob/main/Capitulo021_Arrays_Com_Numpy/Capitulo021_Arrays_Com_Numpy.ipynb\">Link Colab</a> \n",
    "</div><br><br></center>\n",
    "<div align=\"center\"><span style=\"font-size: 26px;\"><strong>Python Com Jupyter Notebook</strong></span></div><br><br>\n",
    "<center> <img src=\"python_gif.gif\" alt=\"gif_python\" width=\"80\"> </center>"
   ]
  },
  {
   "cell_type": "markdown",
   "id": "03c0390e",
   "metadata": {},
   "source": [
    "Este material apresenta uma explicação detalhada sobre o uso do software de programação em Python chamado Jupyter Notebook, com foco na análise de dados. Abordaremos desde estruturas básicas, como listas e dicionários, até estruturas mais complexas voltadas para a análise de dados, como pandas e seaborn, além de ferramentas destinadas à inteligência artificial.\n",
    "\n",
    "\n",
    "<font color='red'> <u>Este é um material de uso público e totalmente gratuito</u>. Contudo, eventuais edições são de responsabilidade de quem as fizer. </font>\n",
    "\n",
    "Você pode ajudar a melhorar este material!\n",
    "\n",
    "Contato e Sugestões: allansoares@ifba.edu.br.\n",
    "\n",
    "[**Equipe Executora**](https://github.com/ProfAllanIFBA/Curso_Python_Com_Jupyter_Notebook/blob/main/Capitulo000_Equipe/Capitulo000_Equipe.ipynb)"
   ]
  },
  {
   "cell_type": "markdown",
   "id": "850170c5",
   "metadata": {},
   "source": [
    "### <center> <font color='red'> Vídeo Aulas <img src=\"youtube.gif\" alt=\"jpg_python\" width=\"100\" height=\"\"> </font> </center>"
   ]
  },
  {
   "cell_type": "markdown",
   "id": "2c877f7d",
   "metadata": {},
   "source": [
    "[Array Com Numpy no Python](https://youtu.be/Yyyk-kbZn3w)\n",
    "\n",
    "[Indexação de Arrays Com Numpy no Python](https://youtu.be/PjdsL5fwYII)\n",
    "\n",
    "[Opreações Básicas Com Matrizes Usando Numpy no Python](https://youtu.be/Ko8WaaIqWaE)\n",
    "\n",
    "[Funções Com Array Usando Numpy no Python - Parte 1](https://youtu.be/9hDjMA8r9_s)\n",
    "\n",
    "*Os vídeos restantes serão postados assim que possível!*"
   ]
  },
  {
   "cell_type": "markdown",
   "id": "c0c4b8a6",
   "metadata": {},
   "source": [
    "<div style=\"border: 2px solid black; padding: 10px; width: 100%; background-color: lightgray; display: flex; align-items: center;\">\n",
    "    <h1 style=\"color: red; text-align: center; margin: auto;\">\n",
    "        Capítulo 21 - Arrays Com Numpy\n",
    "    </h1>\n",
    "</div>\n",
    "\n",
    "<font color='red'></font>\n",
    "<a href=\"\"></a>"
   ]
  },
  {
   "cell_type": "markdown",
   "id": "70b5a64e",
   "metadata": {},
   "source": [
    "Os <u>arrays</u> (matrizes) da NumPy, também conhecidos como ndarrays, possuem características que os tornam mais eficientes e versáteis em comparação com as listas tradicionais do Python. Com a NumPy, você pode realizar operações aritméticas em arrays sem a necessidade de loops, o que resulta em um código mais limpo e eficiente."
   ]
  },
  {
   "cell_type": "markdown",
   "id": "8e829e72",
   "metadata": {},
   "source": [
    "## <div style=\"margin-top: -20px;\">\n",
    "<hr style=\"border: 2px solid blue;\">\n",
    "\n",
    "<font color='blue'><span style=\"font-size: 22px;\"><strong>21.1 Criação de Arrays Com NumPy</strong></span></font>\n",
    "\n",
    "<hr style=\"border: 2px solid blue;\">\n",
    "</div>"
   ]
  },
  {
   "cell_type": "markdown",
   "id": "44de1237",
   "metadata": {},
   "source": [
    "#### *Exemplo 1: Criando um vetor*"
   ]
  },
  {
   "cell_type": "code",
   "execution_count": 1,
   "id": "3e945ea3",
   "metadata": {
    "ExecuteTime": {
     "end_time": "2023-11-30T19:36:08.018234Z",
     "start_time": "2023-11-30T19:36:07.917839Z"
    }
   },
   "outputs": [],
   "source": [
    "# Importando a biblioteca numpy com prefixo simplificado np (numpy -> np)\n",
    "import numpy as np"
   ]
  },
  {
   "cell_type": "code",
   "execution_count": 2,
   "id": "42d47434",
   "metadata": {
    "ExecuteTime": {
     "end_time": "2023-11-30T19:36:57.922842Z",
     "start_time": "2023-11-30T19:36:57.919241Z"
    }
   },
   "outputs": [],
   "source": [
    "# Array criado a partir de uma lista Python\n",
    "vetor = np.array([2,6,7,5])"
   ]
  },
  {
   "cell_type": "code",
   "execution_count": 3,
   "id": "32177f71",
   "metadata": {
    "ExecuteTime": {
     "end_time": "2023-11-30T19:37:00.584238Z",
     "start_time": "2023-11-30T19:37:00.578982Z"
    }
   },
   "outputs": [
    {
     "name": "stdout",
     "output_type": "stream",
     "text": [
      "[2 6 7 5]\n"
     ]
    }
   ],
   "source": [
    "# Imprimindo a array\n",
    "print(vetor)"
   ]
  },
  {
   "cell_type": "code",
   "execution_count": 4,
   "id": "e8b0204c",
   "metadata": {
    "ExecuteTime": {
     "end_time": "2023-11-30T19:37:12.654370Z",
     "start_time": "2023-11-30T19:37:12.650851Z"
    }
   },
   "outputs": [
    {
     "name": "stdout",
     "output_type": "stream",
     "text": [
      "<class 'numpy.ndarray'>\n"
     ]
    }
   ],
   "source": [
    "# Consultando o tipo de objeto\n",
    "print(type(vetor))"
   ]
  },
  {
   "cell_type": "markdown",
   "id": "9ae17674",
   "metadata": {},
   "source": [
    "No exemplo acima a variável \"vetor\" pode ser entendido como um vetor de quatro dimensões."
   ]
  },
  {
   "cell_type": "markdown",
   "id": "67ee1bdb",
   "metadata": {},
   "source": [
    "#### *Exemplo 2: Criando uma matriz*"
   ]
  },
  {
   "cell_type": "code",
   "execution_count": 5,
   "id": "62b0b3cd",
   "metadata": {
    "ExecuteTime": {
     "end_time": "2023-11-30T19:38:18.706358Z",
     "start_time": "2023-11-30T19:38:18.701923Z"
    }
   },
   "outputs": [],
   "source": [
    "# Importando a biblioteca numpy\n",
    "import numpy as np\n",
    "\n",
    "# Array criado a partir de uma lista de listas Python\n",
    "matriz = np.array([[-1,3,4], \n",
    "                   [2,5,-1]])"
   ]
  },
  {
   "cell_type": "code",
   "execution_count": 6,
   "id": "f9750b3f",
   "metadata": {
    "ExecuteTime": {
     "end_time": "2023-11-30T19:38:20.630237Z",
     "start_time": "2023-11-30T19:38:20.625966Z"
    }
   },
   "outputs": [
    {
     "name": "stdout",
     "output_type": "stream",
     "text": [
      "[[-1  3  4]\n",
      " [ 2  5 -1]]\n"
     ]
    }
   ],
   "source": [
    "# Imprimindo a array2\n",
    "print(matriz)"
   ]
  },
  {
   "cell_type": "markdown",
   "id": "3d546e03",
   "metadata": {},
   "source": [
    "No exemplo acima a variável \"matriz\" pode ser entendido como matriz $2 \\times 3$ ($2$ linhas e $3$ colunas)."
   ]
  },
  {
   "cell_type": "code",
   "execution_count": 7,
   "id": "a50e0c59",
   "metadata": {
    "ExecuteTime": {
     "end_time": "2023-11-30T19:38:52.112194Z",
     "start_time": "2023-11-30T19:38:52.108767Z"
    }
   },
   "outputs": [
    {
     "name": "stdout",
     "output_type": "stream",
     "text": [
      "<class 'numpy.ndarray'>\n"
     ]
    }
   ],
   "source": [
    "print(type(matriz))"
   ]
  },
  {
   "cell_type": "markdown",
   "id": "8c9cd25d",
   "metadata": {},
   "source": [
    "## <div style=\"margin-top: -20px;\">\n",
    "<hr style=\"border: 2px solid blue;\">\n",
    "\n",
    "<font color='blue'><span style=\"font-size: 22px;\"><strong>21.2 Indexação de Arrays Com Numpy</strong></span></font>\n",
    "\n",
    "<hr style=\"border: 2px solid blue;\">\n",
    "</div>"
   ]
  },
  {
   "cell_type": "markdown",
   "id": "15ea8ee8",
   "metadata": {},
   "source": [
    "Assim como as listas em Python, os arrays também permitem acesso fácil aos seus elementos internos. A seguir, apresentaremos algumas formas de acessar os elementos internos de um array."
   ]
  },
  {
   "cell_type": "markdown",
   "id": "575e779e",
   "metadata": {},
   "source": [
    "#### *Exemplo 1: Acessando elementos de uma array de dimensão 1*"
   ]
  },
  {
   "cell_type": "markdown",
   "id": "2cd5374e",
   "metadata": {},
   "source": [
    "As regras para se acessar os elementos de um array de dimensão 1 são semelhantes às usadas para acessar elementos de uma lista."
   ]
  },
  {
   "cell_type": "code",
   "execution_count": 9,
   "id": "3969f14a",
   "metadata": {
    "ExecuteTime": {
     "end_time": "2023-11-30T19:41:42.139550Z",
     "start_time": "2023-11-30T19:41:42.136516Z"
    }
   },
   "outputs": [],
   "source": [
    "# Importando a biblioteca numpy com prefixo simplificado np (numpy -> np)\n",
    "import numpy as np"
   ]
  },
  {
   "cell_type": "code",
   "execution_count": 10,
   "id": "926e0702",
   "metadata": {
    "ExecuteTime": {
     "end_time": "2023-11-30T19:42:02.488828Z",
     "start_time": "2023-11-30T19:42:02.484840Z"
    }
   },
   "outputs": [],
   "source": [
    "# Array criado a partir de uma lista Python\n",
    "array = np.array([-1,3,4,5])"
   ]
  },
  {
   "cell_type": "code",
   "execution_count": 13,
   "id": "0cf78794",
   "metadata": {
    "ExecuteTime": {
     "end_time": "2023-11-30T19:42:28.144675Z",
     "start_time": "2023-11-30T19:42:28.141088Z"
    }
   },
   "outputs": [
    {
     "name": "stdout",
     "output_type": "stream",
     "text": [
      "3\n"
     ]
    }
   ],
   "source": [
    "# Imprimindo elementos de um array de dimensão 1\n",
    "print(array[1])"
   ]
  },
  {
   "cell_type": "markdown",
   "id": "78a9c312",
   "metadata": {},
   "source": [
    "#### *Exemplo 2: Acessando elementos, linhas e colunas de uma array de dimensão 2*"
   ]
  },
  {
   "cell_type": "code",
   "execution_count": 14,
   "id": "f92d5307",
   "metadata": {
    "ExecuteTime": {
     "end_time": "2023-11-30T19:42:42.320978Z",
     "start_time": "2023-11-30T19:42:42.318280Z"
    }
   },
   "outputs": [],
   "source": [
    "# Importando a biblioteca numpy\n",
    "import numpy as np"
   ]
  },
  {
   "cell_type": "code",
   "execution_count": 16,
   "id": "8d5b2c46",
   "metadata": {
    "ExecuteTime": {
     "end_time": "2023-11-30T19:43:49.204841Z",
     "start_time": "2023-11-30T19:43:49.200980Z"
    }
   },
   "outputs": [],
   "source": [
    "# Array criado a partir de uma lista de listas Python\n",
    "array = np.array([[-1,3, 4,8],\n",
    "                  [2 ,5,-1,7],\n",
    "                  [-1,9, 8,2]])"
   ]
  },
  {
   "cell_type": "code",
   "execution_count": 21,
   "id": "73c91fa1",
   "metadata": {
    "ExecuteTime": {
     "end_time": "2023-11-30T19:46:46.655119Z",
     "start_time": "2023-11-30T19:46:46.650657Z"
    }
   },
   "outputs": [
    {
     "name": "stdout",
     "output_type": "stream",
     "text": [
      "2\n"
     ]
    }
   ],
   "source": [
    "print(array.ndim)"
   ]
  },
  {
   "cell_type": "code",
   "execution_count": 17,
   "id": "72e25d1a",
   "metadata": {
    "ExecuteTime": {
     "end_time": "2023-11-30T19:44:24.832333Z",
     "start_time": "2023-11-30T19:44:24.828401Z"
    }
   },
   "outputs": [
    {
     "name": "stdout",
     "output_type": "stream",
     "text": [
      "5\n"
     ]
    }
   ],
   "source": [
    "# Imprimindo elementos\n",
    "print(array[1][1])"
   ]
  },
  {
   "cell_type": "code",
   "execution_count": 18,
   "id": "b4b898ff",
   "metadata": {
    "ExecuteTime": {
     "end_time": "2023-11-30T19:44:40.630041Z",
     "start_time": "2023-11-30T19:44:40.626127Z"
    }
   },
   "outputs": [
    {
     "name": "stdout",
     "output_type": "stream",
     "text": [
      "[-1  3  4  8]\n"
     ]
    }
   ],
   "source": [
    "# Imprimindo linhas\n",
    "print(array[0])"
   ]
  },
  {
   "cell_type": "code",
   "execution_count": 19,
   "id": "cf025673",
   "metadata": {
    "ExecuteTime": {
     "end_time": "2023-11-30T19:45:28.279815Z",
     "start_time": "2023-11-30T19:45:28.275826Z"
    }
   },
   "outputs": [
    {
     "name": "stdout",
     "output_type": "stream",
     "text": [
      "[8 7 2]\n"
     ]
    }
   ],
   "source": [
    "# Imprimindo colunas\n",
    "print(array[:,3])"
   ]
  },
  {
   "cell_type": "markdown",
   "id": "6416311f",
   "metadata": {},
   "source": [
    "#### *Exemplo 3: Acessando elementos, matrizes, linha de matrizes e coluna de matrizes de uma array 3.*"
   ]
  },
  {
   "cell_type": "code",
   "execution_count": 22,
   "id": "135e0019",
   "metadata": {
    "ExecuteTime": {
     "end_time": "2023-11-30T19:47:00.642967Z",
     "start_time": "2023-11-30T19:47:00.639500Z"
    }
   },
   "outputs": [],
   "source": [
    "# Importando a biblioteca numpy\n",
    "import numpy as np"
   ]
  },
  {
   "cell_type": "code",
   "execution_count": 23,
   "id": "3c612274",
   "metadata": {
    "ExecuteTime": {
     "end_time": "2023-11-30T19:47:01.128062Z",
     "start_time": "2023-11-30T19:47:01.124110Z"
    }
   },
   "outputs": [],
   "source": [
    "# Array criado a partir de uma lista de listas Python\n",
    "array = np.array([[[-1, 3, 2], \n",
    "                   [5, 1, -4]], [[7, -8, 9],\n",
    "                                [10, 3, 5]], [[13, 14, 1],\n",
    "                                              [10, 10, 9]]])"
   ]
  },
  {
   "cell_type": "code",
   "execution_count": 24,
   "id": "b9a81d9a",
   "metadata": {
    "ExecuteTime": {
     "end_time": "2023-11-30T19:47:09.220169Z",
     "start_time": "2023-11-30T19:47:09.212165Z"
    }
   },
   "outputs": [
    {
     "data": {
      "text/plain": [
       "3"
      ]
     },
     "execution_count": 24,
     "metadata": {},
     "output_type": "execute_result"
    }
   ],
   "source": [
    "array.ndim"
   ]
  },
  {
   "cell_type": "code",
   "execution_count": 27,
   "id": "e4c19785",
   "metadata": {
    "ExecuteTime": {
     "end_time": "2023-11-30T19:48:48.576106Z",
     "start_time": "2023-11-30T19:48:48.572877Z"
    }
   },
   "outputs": [
    {
     "name": "stdout",
     "output_type": "stream",
     "text": [
      "3\n"
     ]
    }
   ],
   "source": [
    "# Consultar um elemento específico\n",
    "element = array[1, 1, 1]\n",
    "print(element)"
   ]
  },
  {
   "cell_type": "code",
   "execution_count": 28,
   "id": "6a9069e3",
   "metadata": {
    "ExecuteTime": {
     "end_time": "2023-11-30T19:50:20.677973Z",
     "start_time": "2023-11-30T19:50:20.673878Z"
    }
   },
   "outputs": [
    {
     "name": "stdout",
     "output_type": "stream",
     "text": [
      "[[13 14  1]\n",
      " [10 10  9]]\n"
     ]
    }
   ],
   "source": [
    "# Consultar uma matriz específica\n",
    "matrix = array[2]\n",
    "print(matrix)"
   ]
  },
  {
   "cell_type": "code",
   "execution_count": 29,
   "id": "b28f06b2",
   "metadata": {
    "ExecuteTime": {
     "end_time": "2023-11-30T19:50:48.881390Z",
     "start_time": "2023-11-30T19:50:48.877401Z"
    }
   },
   "outputs": [
    {
     "name": "stdout",
     "output_type": "stream",
     "text": [
      "[13 14  1]\n"
     ]
    }
   ],
   "source": [
    "# Consultar uma linha específica em uma matriz\n",
    "row = array[2, 0]\n",
    "print(row)"
   ]
  },
  {
   "cell_type": "code",
   "execution_count": 30,
   "id": "f28175b1",
   "metadata": {
    "ExecuteTime": {
     "end_time": "2023-11-30T19:51:03.737301Z",
     "start_time": "2023-11-30T19:51:03.733756Z"
    }
   },
   "outputs": [
    {
     "name": "stdout",
     "output_type": "stream",
     "text": [
      "[1 9]\n"
     ]
    }
   ],
   "source": [
    "# Consultar uma coluna específica em uma matriz\n",
    "column = array[2, :, 2]\n",
    "print(column)"
   ]
  },
  {
   "cell_type": "code",
   "execution_count": 31,
   "id": "447d473a",
   "metadata": {
    "ExecuteTime": {
     "end_time": "2023-11-30T19:52:05.888957Z",
     "start_time": "2023-11-30T19:52:05.884567Z"
    }
   },
   "outputs": [
    {
     "name": "stdout",
     "output_type": "stream",
     "text": [
      "[ 3 -8 14]\n"
     ]
    }
   ],
   "source": [
    "# Consultar elementos de posições específicas em cada matriz\n",
    "pos_especifica = array[:, 0, 1]\n",
    "print(pos_especifica)"
   ]
  },
  {
   "cell_type": "markdown",
   "id": "e4db26d8",
   "metadata": {},
   "source": [
    "#### *Exemplo 4: Acessando multiplos indices simultaneamente (primeira camada)*"
   ]
  },
  {
   "cell_type": "markdown",
   "id": "17615249",
   "metadata": {},
   "source": [
    "Neste exemplo, exploraremos como acessar múltiplos elementos da primeira dimensão. Para um array unidimensional, um elemento da primeira dimensão corresponde a um elemento individual. Em um array bidimensional, um elemento da primeira dimensão é, na verdade, um array unidimensional, enquanto em um array tridimensional, um elemento da primeira dimensão é um array bidimensional. Essas observações são fundamentais para a manipulação eficaz de dados usando arrays NumPy de diferentes dimensões."
   ]
  },
  {
   "cell_type": "code",
   "execution_count": 32,
   "id": "fc20ebad",
   "metadata": {
    "ExecuteTime": {
     "end_time": "2023-11-30T19:53:37.430212Z",
     "start_time": "2023-11-30T19:53:37.427075Z"
    }
   },
   "outputs": [],
   "source": [
    "# Importando a biblioteca numpy com prefixo simplificado np (numpy -> np)\n",
    "import numpy as np"
   ]
  },
  {
   "cell_type": "code",
   "execution_count": 33,
   "id": "693be557",
   "metadata": {
    "ExecuteTime": {
     "end_time": "2023-11-30T19:53:41.282517Z",
     "start_time": "2023-11-30T19:53:41.279539Z"
    }
   },
   "outputs": [],
   "source": [
    "# Array de dimensão 1\n",
    "array1 = np.array([-1,3,4,5])"
   ]
  },
  {
   "cell_type": "code",
   "execution_count": 34,
   "id": "e2a27a60",
   "metadata": {
    "ExecuteTime": {
     "end_time": "2023-11-30T19:54:00.569635Z",
     "start_time": "2023-11-30T19:54:00.566505Z"
    }
   },
   "outputs": [],
   "source": [
    "# Lista de índices\n",
    "indices1 = [2,0,1]"
   ]
  },
  {
   "cell_type": "code",
   "execution_count": 35,
   "id": "bfb16d8d",
   "metadata": {
    "ExecuteTime": {
     "end_time": "2023-11-30T19:54:04.581663Z",
     "start_time": "2023-11-30T19:54:04.577665Z"
    }
   },
   "outputs": [
    {
     "name": "stdout",
     "output_type": "stream",
     "text": [
      "[ 4 -1  3]\n"
     ]
    }
   ],
   "source": [
    "# Impressão dos índices da lista indices\n",
    "print(array1[indices1])"
   ]
  },
  {
   "cell_type": "code",
   "execution_count": 36,
   "id": "23b26d87",
   "metadata": {
    "ExecuteTime": {
     "end_time": "2023-11-30T19:55:16.023543Z",
     "start_time": "2023-11-30T19:55:16.020165Z"
    }
   },
   "outputs": [],
   "source": [
    "# Array de dimensão 2\n",
    "array2 = np.array([[-1,3,4,8],\n",
    "                  [2,5,-1,7],\n",
    "                  [-1,9,8,2]])"
   ]
  },
  {
   "cell_type": "code",
   "execution_count": 39,
   "id": "40b917a7",
   "metadata": {
    "ExecuteTime": {
     "end_time": "2023-11-30T19:57:14.442336Z",
     "start_time": "2023-11-30T19:57:14.438347Z"
    }
   },
   "outputs": [
    {
     "name": "stdout",
     "output_type": "stream",
     "text": [
      "[[[-1  3  4  8]]\n",
      "\n",
      " [[ 2  5 -1  7]]]\n"
     ]
    }
   ],
   "source": [
    "# Lista de índices\n",
    "indices2 = [[0],[1]]\n",
    "\n",
    "# Impressão dos índices da lista indices\n",
    "print(array2[indices2])"
   ]
  },
  {
   "cell_type": "code",
   "execution_count": 40,
   "id": "6d4d5847",
   "metadata": {
    "ExecuteTime": {
     "end_time": "2023-11-30T19:57:18.613125Z",
     "start_time": "2023-11-30T19:57:18.609092Z"
    }
   },
   "outputs": [],
   "source": [
    "# Array de dimensão 3\n",
    "array3 = np.array([[[-1, 3, 2],\n",
    "                   [5, 1, -4]],[[7, -8, 9],\n",
    "                                [10, 3, 5]],[[13, 14, 1],\n",
    "                                             [10, 10, 9]]])"
   ]
  },
  {
   "cell_type": "code",
   "execution_count": 41,
   "id": "17e27d1e",
   "metadata": {
    "ExecuteTime": {
     "end_time": "2023-11-30T19:57:34.893650Z",
     "start_time": "2023-11-30T19:57:34.890909Z"
    }
   },
   "outputs": [],
   "source": [
    "# Lista de índices\n",
    "indices3 = [[0],[2]]"
   ]
  },
  {
   "cell_type": "code",
   "execution_count": 42,
   "id": "1e17a32f",
   "metadata": {
    "ExecuteTime": {
     "end_time": "2023-11-30T19:57:37.197933Z",
     "start_time": "2023-11-30T19:57:37.193222Z"
    }
   },
   "outputs": [
    {
     "name": "stdout",
     "output_type": "stream",
     "text": [
      "[[[[-1  3  2]\n",
      "   [ 5  1 -4]]]\n",
      "\n",
      "\n",
      " [[[13 14  1]\n",
      "   [10 10  9]]]]\n"
     ]
    }
   ],
   "source": [
    "# Impressão dos índices da lista indices\n",
    "print(array3[indices3])"
   ]
  },
  {
   "cell_type": "markdown",
   "id": "ddfaf52d",
   "metadata": {},
   "source": [
    "Exemplos em dimensões mais altas seguem o mesmo padrão apresentado acima. No entanto, inicialmente pode ser um pouco desafiador localizar elementos específicos, matrizes, submatrizes ou linhas/colunas de submatrizes, devido à complexidade adicional associada a arrays de dimensões mais altas."
   ]
  },
  {
   "cell_type": "markdown",
   "id": "daea82dd",
   "metadata": {},
   "source": [
    "## <div style=\"margin-top: -20px;\">\n",
    "<hr style=\"border: 2px solid blue;\">\n",
    "\n",
    "<font color='blue'><span style=\"font-size: 22px;\"><strong>21.3 Operações Matemáticas Básicas Com Arrays (Matrizes)</strong></span></font>\n",
    "\n",
    "<hr style=\"border: 2px solid blue;\">\n",
    "</div>"
   ]
  },
  {
   "cell_type": "markdown",
   "id": "7b48423f",
   "metadata": {},
   "source": [
    "Apresentaremos a seguir algumas das operações mais comuns realizadas com matrizes."
   ]
  },
  {
   "cell_type": "markdown",
   "id": "e278807f",
   "metadata": {},
   "source": [
    "#### *Exemplo 1: Soma e subtração de matrizes*"
   ]
  },
  {
   "cell_type": "code",
   "execution_count": 43,
   "id": "8eac3e3c",
   "metadata": {
    "ExecuteTime": {
     "end_time": "2023-11-30T20:03:23.752445Z",
     "start_time": "2023-11-30T20:03:23.748158Z"
    }
   },
   "outputs": [],
   "source": [
    "import numpy as np\n",
    "\n",
    "# Definir dois arrays de dimensão 3 (matrizes 3x3)\n",
    "matrix1 = np.array([[1, 1, 3],\n",
    "                    [4, 4, 6],\n",
    "                    [7, 8, 9]])\n",
    "\n",
    "matrix2 = np.array([[9, 3, 7],\n",
    "                    [6, -1, 4],\n",
    "                    [-3, 2, 1]])"
   ]
  },
  {
   "cell_type": "code",
   "execution_count": 44,
   "id": "0a1e166c",
   "metadata": {
    "ExecuteTime": {
     "end_time": "2023-11-30T20:03:29.018985Z",
     "start_time": "2023-11-30T20:03:29.011754Z"
    }
   },
   "outputs": [
    {
     "name": "stdout",
     "output_type": "stream",
     "text": [
      "Soma das matrizes:\n",
      "[[10  4 10]\n",
      " [10  3 10]\n",
      " [ 4 10 10]]\n"
     ]
    }
   ],
   "source": [
    "# Somar os dois arrays como se fossem matrizes\n",
    "result_sum = matrix1 + matrix2\n",
    "\n",
    "print(\"Soma das matrizes:\")\n",
    "print(result_sum)"
   ]
  },
  {
   "cell_type": "code",
   "execution_count": 45,
   "id": "68bb45b8",
   "metadata": {
    "ExecuteTime": {
     "end_time": "2023-11-30T20:03:57.057371Z",
     "start_time": "2023-11-30T20:03:57.053734Z"
    }
   },
   "outputs": [
    {
     "name": "stdout",
     "output_type": "stream",
     "text": [
      "Subtração das matrizes:\n",
      "[[-8 -2 -4]\n",
      " [-2  5  2]\n",
      " [10  6  8]]\n"
     ]
    }
   ],
   "source": [
    "# Subtraindo os dois arrays como se fossem matrizes\n",
    "result_sub = matrix1 - matrix2\n",
    "\n",
    "print(\"Subtração das matrizes:\")\n",
    "print(result_sub)"
   ]
  },
  {
   "cell_type": "markdown",
   "id": "3b5149dc",
   "metadata": {},
   "source": [
    "#### *Exemplo 2: Produto de matrizes*"
   ]
  },
  {
   "cell_type": "code",
   "execution_count": 46,
   "id": "c806fe1f",
   "metadata": {
    "ExecuteTime": {
     "end_time": "2023-11-30T20:06:48.336461Z",
     "start_time": "2023-11-30T20:06:48.333103Z"
    }
   },
   "outputs": [],
   "source": [
    "import numpy as np\n",
    "\n",
    "array1 = np.array([[1, 1], \n",
    "                   [2, 3]])\n",
    "\n",
    "array2 = np.array([[2, 3], \n",
    "                   [1, 8]])"
   ]
  },
  {
   "cell_type": "code",
   "execution_count": 47,
   "id": "a0d74012",
   "metadata": {
    "ExecuteTime": {
     "end_time": "2023-11-30T20:06:57.025383Z",
     "start_time": "2023-11-30T20:06:57.020649Z"
    }
   },
   "outputs": [
    {
     "name": "stdout",
     "output_type": "stream",
     "text": [
      "Produto das matrizes:\n",
      "[[ 3 11]\n",
      " [ 7 30]]\n"
     ]
    }
   ],
   "source": [
    "# Multiplicar os dois arrays como se fossem matrizes\n",
    "dot_product = np.dot(array1, array2)\n",
    "\n",
    "print(\"Produto das matrizes:\")\n",
    "print(dot_product)"
   ]
  },
  {
   "cell_type": "markdown",
   "id": "574ced74",
   "metadata": {},
   "source": [
    "A multiplicação dos dois arrays usando a função **np.dot()** é dada por:\n",
    "\n",
    "$$\n",
    "\\begin{bmatrix}\n",
    "a_{11} & a_{12} \\\\\n",
    "a_{21} & a_{22} \\\\\n",
    "\\end{bmatrix} \\cdot \\begin{bmatrix}\n",
    "b_{11} & b_{12} \\\\\n",
    "b_{21} & b_{22} \\\\\n",
    "\\end{bmatrix} =\n",
    "\\begin{bmatrix}\n",
    "a_{11} \\cdot b_{11} + a_{12} \\cdot b_{21} & a_{11} \\cdot b_{12} + a_{12} \\cdot b_{22} \\\\\n",
    "a_{21} \\cdot b_{11} + a_{22} \\cdot b_{21} & a_{21} \\cdot b_{12} + a_{22} \\cdot b_{22} \\\\\n",
    "\\end{bmatrix}\n",
    "$$\n",
    "\n",
    "Considerando\n",
    "\n",
    "$$\n",
    "\\begin{bmatrix}\n",
    "a_{11} & a_{12} \\\\\n",
    "a_{21} & a_{22} \\\\\n",
    "\\end{bmatrix}\n",
    "=\n",
    "\\begin{bmatrix}\n",
    "1 & 1 \\\\\n",
    "2 & 3 \\\\\n",
    "\\end{bmatrix} \\ \\ \\ e \\ \\ \\ \n",
    "\\begin{bmatrix}\n",
    "b_{11} & b_{12} \\\\\n",
    "b_{21} & b_{22} \\\\\n",
    "\\end{bmatrix}\n",
    "=\n",
    "\\begin{bmatrix}\n",
    "2 & 3 \\\\\n",
    "1 & 8 \\\\\n",
    "\\end{bmatrix}\n",
    "$$\n",
    "\n",
    "temos:\n",
    "\n",
    "$$\n",
    "\\begin{bmatrix}\n",
    "1 & 1 \\\\\n",
    "2 & 3 \\\\\n",
    "\\end{bmatrix} \\cdot \\begin{bmatrix}\n",
    "2 & 3 \\\\\n",
    "1 & 8 \\\\\n",
    "\\end{bmatrix} =\n",
    "\\begin{bmatrix}\n",
    "1 \\cdot 2 + 1 \\cdot 1 & 1 \\cdot 3 + 1 \\cdot 8 \\\\\n",
    "2 \\cdot 2 + 3 \\cdot 1 & 2 \\cdot 3 + 3 \\cdot 8 \\\\\n",
    "\\end{bmatrix}\n",
    "$$\n",
    "\n",
    "Agora, vamos calcular cada elemento da matriz resultante:\n",
    "\n",
    "$$\n",
    "\\begin{align*}\n",
    "1 \\cdot 2 + 1 \\cdot 1 & = 2 + 1 = 3 \\\\\n",
    "1 \\cdot 3 + 1 \\cdot 8 & = 3 + 8 = 11 \\\\\n",
    "2 \\cdot 2 + 3 \\cdot 1 & = 4 + 3 = 7 \\\\\n",
    "2 \\cdot 3 + 3 \\cdot 8 & = 6 + 24 = 30 \\\\\n",
    "\\end{align*}\n",
    "$$\n",
    "\n",
    "Portanto, a matriz resultante da multiplicação é:\n",
    "\n",
    "$$\n",
    "\\begin{bmatrix}\n",
    "3 & 11 \\\\\n",
    "7 & 30 \\\\\n",
    "\\end{bmatrix}\n",
    "$$\n",
    "\n",
    "Assim, a multiplicação das matrizes dadas resulta na matriz acima.\n",
    "\n"
   ]
  },
  {
   "cell_type": "markdown",
   "id": "3679d5f3",
   "metadata": {},
   "source": [
    "#### *Exemplo 3: Transposta de uma matriz*"
   ]
  },
  {
   "cell_type": "code",
   "execution_count": 49,
   "id": "43cc8b6c",
   "metadata": {
    "ExecuteTime": {
     "end_time": "2023-11-30T20:07:58.296975Z",
     "start_time": "2023-11-30T20:07:58.293142Z"
    }
   },
   "outputs": [],
   "source": [
    "import numpy as np\n",
    "\n",
    "array = np.array([[1, 2, 3], \n",
    "                  [4, 5, 6]])"
   ]
  },
  {
   "cell_type": "code",
   "execution_count": 50,
   "id": "a1462a00",
   "metadata": {
    "ExecuteTime": {
     "end_time": "2023-11-30T20:09:47.971596Z",
     "start_time": "2023-11-30T20:09:47.965442Z"
    }
   },
   "outputs": [
    {
     "name": "stdout",
     "output_type": "stream",
     "text": [
      "Matriz original:\n",
      "[[1 2 3]\n",
      " [4 5 6]]\n",
      "Matriz transposta:\n",
      "[[1 4]\n",
      " [2 5]\n",
      " [3 6]]\n"
     ]
    }
   ],
   "source": [
    "# Calcular a matriz transposta\n",
    "transposed_array = np.transpose(array)\n",
    "\n",
    "print(\"Matriz original:\")\n",
    "print(array)\n",
    "\n",
    "print(\"Matriz transposta:\")\n",
    "print(transposed_array)"
   ]
  },
  {
   "cell_type": "markdown",
   "id": "5ea2f7e2",
   "metadata": {},
   "source": [
    "#### *Exemplo 4: Inversa de matrizes*"
   ]
  },
  {
   "cell_type": "code",
   "execution_count": 51,
   "id": "3891bc1a",
   "metadata": {
    "ExecuteTime": {
     "end_time": "2023-11-30T20:11:05.280075Z",
     "start_time": "2023-11-30T20:11:05.276558Z"
    }
   },
   "outputs": [],
   "source": [
    "import numpy as np\n",
    "\n",
    "# Definir dois arrays de dimensão 2 (matrizes 2x2)\n",
    "matrix = np.array([[1, 2],\n",
    "                   [2, 3]])"
   ]
  },
  {
   "cell_type": "code",
   "execution_count": 52,
   "id": "4e14840f",
   "metadata": {
    "ExecuteTime": {
     "end_time": "2023-11-30T20:11:15.206791Z",
     "start_time": "2023-11-30T20:11:15.194019Z"
    }
   },
   "outputs": [
    {
     "name": "stdout",
     "output_type": "stream",
     "text": [
      "Matriz original:\n",
      "[[1 2]\n",
      " [2 3]]\n",
      "Matriz inversa:\n",
      "[[-3.  2.]\n",
      " [ 2. -1.]]\n"
     ]
    }
   ],
   "source": [
    "# Calcular a inversa da soma das matrizes\n",
    "result_inverse = np.linalg.inv(matrix)\n",
    "\n",
    "print(\"Matriz original:\")\n",
    "print(matrix)\n",
    "\n",
    "print(\"Matriz inversa:\")\n",
    "print(result_inverse)"
   ]
  },
  {
   "cell_type": "markdown",
   "id": "ade7f1d7",
   "metadata": {},
   "source": [
    "Testando..."
   ]
  },
  {
   "cell_type": "code",
   "execution_count": 53,
   "id": "84c5ede0",
   "metadata": {
    "ExecuteTime": {
     "end_time": "2023-11-30T20:11:34.643929Z",
     "start_time": "2023-11-30T20:11:34.615094Z"
    }
   },
   "outputs": [
    {
     "name": "stdout",
     "output_type": "stream",
     "text": [
      "[[1. 0.]\n",
      " [0. 1.]]\n"
     ]
    }
   ],
   "source": [
    "print(np.dot(matrix,result_inverse))"
   ]
  },
  {
   "cell_type": "markdown",
   "id": "7418e766",
   "metadata": {},
   "source": [
    "## <div style=\"margin-top: -20px;\">\n",
    "<hr style=\"border: 2px solid blue;\">\n",
    "\n",
    "<font color='blue'><span style=\"font-size: 22px;\"><strong>21.4 Funções Associadas a Arrays</strong></span></font>\n",
    "\n",
    "<hr style=\"border: 2px solid blue;\">\n",
    "</div>"
   ]
  },
  {
   "cell_type": "markdown",
   "id": "f931eabb",
   "metadata": {},
   "source": [
    "Apresentaremos a seguir diversas funções e exemplos associados a arrays. As funções marcadas com $^{*}$ são consideradas mais técnicas."
   ]
  },
  {
   "cell_type": "markdown",
   "id": "9074e778",
   "metadata": {},
   "source": [
    "### <div style=\"margin-top: -20px;\">\n",
    "<hr style=\"border: 2px solid blue;\">\n",
    "\n",
    "<font color='blue'><span style=\"font-size: 18px;\"><strong>21.4.1 Funções Associadas a Arrays - Parte 1</strong></span></font>\n",
    "\n",
    "<hr style=\"border: 2px solid blue;\">\n",
    "</div>"
   ]
  },
  {
   "cell_type": "markdown",
   "id": "2f6cd1a8",
   "metadata": {
    "heading_collapsed": true
   },
   "source": [
    "#### all()"
   ]
  },
  {
   "cell_type": "markdown",
   "id": "4643f281",
   "metadata": {
    "hidden": true
   },
   "source": [
    "Retorna True se todos os elementos da array satisfazem uma condição, caso contrário, retorna False."
   ]
  },
  {
   "cell_type": "code",
   "execution_count": 54,
   "id": "ae756284",
   "metadata": {
    "ExecuteTime": {
     "end_time": "2023-11-30T20:15:13.735095Z",
     "start_time": "2023-11-30T20:15:13.718592Z"
    },
    "hidden": true
   },
   "outputs": [
    {
     "name": "stdout",
     "output_type": "stream",
     "text": [
      "True\n"
     ]
    }
   ],
   "source": [
    "import numpy as np\n",
    "\n",
    "array1 = np.array([1, 2, 3, 4, 5])\n",
    "\n",
    "print(np.all(array1 > 0))"
   ]
  },
  {
   "cell_type": "code",
   "execution_count": 55,
   "id": "71d2a09d",
   "metadata": {
    "ExecuteTime": {
     "end_time": "2023-11-30T20:15:36.226791Z",
     "start_time": "2023-11-30T20:15:36.222685Z"
    },
    "hidden": true
   },
   "outputs": [
    {
     "name": "stdout",
     "output_type": "stream",
     "text": [
      "False\n"
     ]
    }
   ],
   "source": [
    "array2 = np.array([1, 2, -3, 4, 5])\n",
    "\n",
    "print(np.all(array2 > 0))"
   ]
  },
  {
   "cell_type": "markdown",
   "id": "420a6f41",
   "metadata": {
    "heading_collapsed": true
   },
   "source": [
    "#### any()"
   ]
  },
  {
   "cell_type": "markdown",
   "id": "92992d8d",
   "metadata": {
    "hidden": true
   },
   "source": [
    "Retorna True se pelo menos um elemento da array satisfaz uma condição, caso contrário, retorna False."
   ]
  },
  {
   "cell_type": "code",
   "execution_count": 56,
   "id": "0658d674",
   "metadata": {
    "ExecuteTime": {
     "end_time": "2023-11-30T20:16:02.528602Z",
     "start_time": "2023-11-30T20:16:02.524797Z"
    },
    "hidden": true
   },
   "outputs": [
    {
     "name": "stdout",
     "output_type": "stream",
     "text": [
      "True\n"
     ]
    }
   ],
   "source": [
    "import numpy as np\n",
    "\n",
    "array1 = np.array([1, 2, 3, 4, -5])\n",
    "\n",
    "print(np.any(array1 > 0))"
   ]
  },
  {
   "cell_type": "code",
   "execution_count": 57,
   "id": "5cb3d924",
   "metadata": {
    "ExecuteTime": {
     "end_time": "2023-11-30T20:16:06.832949Z",
     "start_time": "2023-11-30T20:16:06.829276Z"
    },
    "hidden": true
   },
   "outputs": [
    {
     "name": "stdout",
     "output_type": "stream",
     "text": [
      "False\n"
     ]
    }
   ],
   "source": [
    "array2 = np.array([-1, -2, -3, -4, -5])\n",
    "\n",
    "print(np.any(array2 > 0))"
   ]
  },
  {
   "cell_type": "markdown",
   "id": "b267ed1a",
   "metadata": {
    "heading_collapsed": true
   },
   "source": [
    "#### argmax()"
   ]
  },
  {
   "cell_type": "markdown",
   "id": "587a076b",
   "metadata": {
    "hidden": true
   },
   "source": [
    "Retorna o índice do maior elemento na array."
   ]
  },
  {
   "cell_type": "code",
   "execution_count": null,
   "id": "d985b76e",
   "metadata": {
    "hidden": true
   },
   "outputs": [],
   "source": [
    "import numpy as np\n",
    "\n",
    "array = np.array([10, 5, 20, 30, 15])\n",
    "\n",
    "print(np.argmax(array))"
   ]
  },
  {
   "cell_type": "code",
   "execution_count": null,
   "id": "c9d93f98",
   "metadata": {
    "hidden": true
   },
   "outputs": [],
   "source": [
    "print(array[3])"
   ]
  },
  {
   "cell_type": "markdown",
   "id": "e4a7e120",
   "metadata": {
    "heading_collapsed": true
   },
   "source": [
    "#### argmin()"
   ]
  },
  {
   "cell_type": "markdown",
   "id": "e26e5f73",
   "metadata": {
    "hidden": true
   },
   "source": [
    "Retorna o índice do menor elemento na array."
   ]
  },
  {
   "cell_type": "code",
   "execution_count": null,
   "id": "1ec21f55",
   "metadata": {
    "hidden": true
   },
   "outputs": [],
   "source": [
    "import numpy as np\n",
    "\n",
    "array = np.array([10, 5, 20, 15, 30])\n",
    "\n",
    "print(np.argmin(array))"
   ]
  },
  {
   "cell_type": "code",
   "execution_count": null,
   "id": "bbb23c1a",
   "metadata": {
    "hidden": true
   },
   "outputs": [],
   "source": [
    "print(array[1])"
   ]
  },
  {
   "cell_type": "markdown",
   "id": "56f1df9e",
   "metadata": {
    "heading_collapsed": true
   },
   "source": [
    "#### argpartition()"
   ]
  },
  {
   "cell_type": "markdown",
   "id": "909ebf18",
   "metadata": {
    "hidden": true
   },
   "source": [
    "Retorna um array de índices que particiona a array em relação a um valor específico."
   ]
  },
  {
   "cell_type": "code",
   "execution_count": null,
   "id": "23207bdc",
   "metadata": {
    "hidden": true
   },
   "outputs": [],
   "source": [
    "import numpy as np\n",
    "\n",
    "array = np.array([10, 5, 20, 15, 30]) # 5(0),10(1),15(2),20(3),30(4)\n",
    "\n",
    "indices = np.argpartition(array, 2)\n",
    "\n",
    "print(indices)"
   ]
  },
  {
   "cell_type": "markdown",
   "id": "564b6f9e",
   "metadata": {
    "hidden": true
   },
   "source": [
    "A saída [1 0 3 2 4] significa que os índices da array original foram reorganizados com base na aplicação da função argpartition do NumPy com o valor 2 como argumento.\n",
    "\n",
    "A função argpartition particiona a array de tal forma que os primeiros elementos são os menores valores (2 neste caso) em uma ordem não especificada, seguidos pelos demais elementos em qualquer ordem. Os índices resultantes são retornados como uma nova array.\n",
    "\n",
    "Aqui está uma explicação dos índices na saída [1 0 3 2 4]:\n",
    "\n",
    "- O menor valor é 5, que estava originalmente na posição 1 da array.\n",
    "- O segundo menor valor é 10, que estava originalmente na posição 0 da array.\n",
    "- O terceiro menor valor é 15, que estava originalmente na posição 3 da array.\n",
    "- O quarto menor valor é 20, que estava originalmente na posição 2 da array.\n",
    "- O quinto menor valor é 30, que estava originalmente na posição 4 da array.\n",
    "\n",
    "Portanto, a saída [1 0 3 2 4] representa os índices que correspondem à nova ordem da array após a aplicação da função argpartition. Vale ressaltar que essa função não classifica a array inteira em ordem crescente ou decrescente, mas garante que os menores valores estejam nas primeiras posições, sem especificar a ordem exata dos demais elementos. **Teste mais valores de n, no argumento (array,n), para entender!**"
   ]
  },
  {
   "cell_type": "markdown",
   "id": "2aaf9520",
   "metadata": {
    "heading_collapsed": true
   },
   "source": [
    "#### argsort()"
   ]
  },
  {
   "cell_type": "markdown",
   "id": "57613808",
   "metadata": {
    "hidden": true
   },
   "source": [
    "Retorna os índices que ordenam a array em ordem crescente."
   ]
  },
  {
   "cell_type": "code",
   "execution_count": null,
   "id": "47d681f4",
   "metadata": {
    "hidden": true
   },
   "outputs": [],
   "source": [
    "import numpy as np\n",
    "\n",
    "array = np.array([10, 5, 20, 15, 30]) # 5(0),10(1),15(2),20(3),30(4)\n",
    "\n",
    "indices = np.argsort(array)\n",
    "\n",
    "print(indices)"
   ]
  },
  {
   "cell_type": "markdown",
   "id": "abeaf11a",
   "metadata": {
    "heading_collapsed": true
   },
   "source": [
    "#### astype()"
   ]
  },
  {
   "cell_type": "markdown",
   "id": "543102f7",
   "metadata": {
    "hidden": true
   },
   "source": [
    "Retorna uma cópia da array com um tipo de dado especificado."
   ]
  },
  {
   "cell_type": "code",
   "execution_count": null,
   "id": "b90c67a9",
   "metadata": {
    "hidden": true
   },
   "outputs": [],
   "source": [
    "import numpy as np\n",
    "\n",
    "array1 = np.array([1, 2, 3, 4, 5])\n",
    "\n",
    "array1_float = array1.astype(float)\n",
    "\n",
    "print(array1)\n",
    "print(array1_float)"
   ]
  },
  {
   "cell_type": "code",
   "execution_count": null,
   "id": "cd980e92",
   "metadata": {
    "hidden": true
   },
   "outputs": [],
   "source": [
    "array2 = np.array([1.3, 2.1, 3, 4.15, 5])\n",
    "\n",
    "array2_int = array2.astype(int)\n",
    "\n",
    "print(array2)\n",
    "print(array2_int)"
   ]
  },
  {
   "cell_type": "code",
   "execution_count": null,
   "id": "06cb4717",
   "metadata": {
    "hidden": true
   },
   "outputs": [],
   "source": [
    "array3 = np.array([1.3, 2.1, 3, 4.15, 5])\n",
    "\n",
    "array3_str = array3.astype(str)\n",
    "\n",
    "print(array3)\n",
    "print(array3_str)"
   ]
  },
  {
   "cell_type": "markdown",
   "id": "cf4901ec",
   "metadata": {
    "heading_collapsed": true
   },
   "source": [
    "#### base()"
   ]
  },
  {
   "cell_type": "markdown",
   "id": "0a4aadcb",
   "metadata": {
    "hidden": true
   },
   "source": [
    "Retorna o objeto de memória subjacente da array."
   ]
  },
  {
   "cell_type": "code",
   "execution_count": null,
   "id": "d3e27e38",
   "metadata": {
    "hidden": true
   },
   "outputs": [],
   "source": [
    "import numpy as np\n",
    "\n",
    "array1 = np.array([1, 2, 3, 4, 5])"
   ]
  },
  {
   "cell_type": "code",
   "execution_count": null,
   "id": "51f53c78",
   "metadata": {
    "hidden": true
   },
   "outputs": [],
   "source": [
    "array2 = array1[1:4]  # Cria uma visualização da array1\n",
    "\n",
    "print(array2)"
   ]
  },
  {
   "cell_type": "code",
   "execution_count": null,
   "id": "ed8dfdf9",
   "metadata": {
    "hidden": true
   },
   "outputs": [],
   "source": [
    "print(array2.base)"
   ]
  },
  {
   "cell_type": "code",
   "execution_count": null,
   "id": "1aa102ab",
   "metadata": {
    "hidden": true
   },
   "outputs": [],
   "source": [
    "print(array1.base)"
   ]
  },
  {
   "cell_type": "markdown",
   "id": "97a7c0e8",
   "metadata": {
    "heading_collapsed": true
   },
   "source": [
    "#### byteswap()*"
   ]
  },
  {
   "cell_type": "markdown",
   "id": "b64d826a",
   "metadata": {
    "hidden": true
   },
   "source": [
    "Retorna uma cópia da array com a ordem dos bytes invertida. *Esta é considerada uma função mais técnica.*"
   ]
  },
  {
   "cell_type": "code",
   "execution_count": null,
   "id": "81f9bc91",
   "metadata": {
    "hidden": true
   },
   "outputs": [],
   "source": [
    "import numpy as np\n",
    "\n",
    "array = np.array([0, 1, 2, 3, 4], dtype=np.int16)\n",
    "\n",
    "array_byteswap = array.byteswap()\n",
    "\n",
    "print(array_byteswap)"
   ]
  },
  {
   "cell_type": "markdown",
   "id": "51fce157",
   "metadata": {
    "hidden": true
   },
   "source": [
    "Vamos entender a saída para cada elemento do array original:\n",
    "\n",
    "0 em int16 é representado em bytes como 00 00. Invertendo os bytes, ainda obtemos 00 00, que é 0.\n",
    "\n",
    "1 em int16 é representado como 00 01. Invertendo os bytes, obtemos 01 00, que é 256.\n",
    "\n",
    "2 em int16 é representado como 00 02. Invertendo os bytes, obtemos 02 00, que é 512.\n",
    "\n",
    "3 em int16 é representado como 00 03. Invertendo os bytes, obtemos 03 00, que é 768.\n",
    "\n",
    "4 em int16 é representado como 00 04. Invertendo os bytes, obtemos 04 00, que é 1024."
   ]
  },
  {
   "cell_type": "markdown",
   "id": "057d51a8",
   "metadata": {
    "heading_collapsed": true
   },
   "source": [
    "#### choose()"
   ]
  },
  {
   "cell_type": "markdown",
   "id": "5b0cc499",
   "metadata": {
    "hidden": true
   },
   "source": [
    "Constrói uma array a partir de uma lista de arrays selecionadas usando um índice."
   ]
  },
  {
   "cell_type": "code",
   "execution_count": null,
   "id": "901e2d16",
   "metadata": {
    "hidden": true
   },
   "outputs": [],
   "source": [
    "import numpy as np\n",
    "\n",
    "# Define os arrays de seleção\n",
    "selecao = [np.array([1, 2, 3]), np.array([4, 5, 6]), np.array([7, 8, 9])]\n",
    "\n",
    "# Define o array de índices\n",
    "indices = np.array([0, 2, 1])\n",
    "\n",
    "# Usa a função choose()\n",
    "resultado = np.choose(indices, selecao)\n",
    "\n",
    "print(resultado)"
   ]
  },
  {
   "cell_type": "markdown",
   "id": "96e273ff",
   "metadata": {
    "hidden": true
   },
   "source": [
    "Considerando índices [n$_{i_{1}}$,n$_{i_{2}}$,...,$,$n$_{i_{k}}$] seleciona-se o primeiro elemento do array $i_{1}$, o segundo elemento do array $i_{2}$,..., k-ésimo elemento do array $i_{k}$. Para entender melhor, acompanhe os próximos exemplos."
   ]
  },
  {
   "cell_type": "code",
   "execution_count": null,
   "id": "76893473",
   "metadata": {
    "hidden": true
   },
   "outputs": [],
   "source": [
    "selecao = [np.array([1, 2, 3]), np.array([4, 5, 6]), np.array([7, 8, 9])]\n",
    "\n",
    "indices = np.array([1, 1, 1])\n",
    "\n",
    "resultado1 = np.choose(indices, selecao)\n",
    "\n",
    "print(resultado1)"
   ]
  },
  {
   "cell_type": "code",
   "execution_count": null,
   "id": "07ce2f14",
   "metadata": {
    "hidden": true
   },
   "outputs": [],
   "source": [
    "selecao = [np.array([1, 2, 3]), np.array([4, 5, 6]), np.array([7, 8, 9])]\n",
    "\n",
    "indices = np.array([0, 1, 0])\n",
    "\n",
    "resultado2 = np.choose(indices, selecao)\n",
    "\n",
    "print(resultado2)"
   ]
  },
  {
   "cell_type": "markdown",
   "id": "15b00a42",
   "metadata": {
    "heading_collapsed": true
   },
   "source": [
    "### <div style=\"margin-top: -20px;\">\n",
    "<hr style=\"border: 2px solid blue;\">\n",
    "\n",
    "<font color='blue'><span style=\"font-size: 18px;\"><strong>21.4.1 Funções Associadas a Arrays - Parte 2</strong></span></font>\n",
    "\n",
    "<hr style=\"border: 2px solid blue;\">\n",
    "</div>"
   ]
  },
  {
   "cell_type": "markdown",
   "id": "2f94361f",
   "metadata": {
    "heading_collapsed": true,
    "hidden": true
   },
   "source": [
    "#### clip()"
   ]
  },
  {
   "cell_type": "markdown",
   "id": "d0c48bc8",
   "metadata": {
    "hidden": true
   },
   "source": [
    "Limita os valores da array entre um intervalo definido."
   ]
  },
  {
   "cell_type": "code",
   "execution_count": null,
   "id": "18c31a73",
   "metadata": {
    "hidden": true
   },
   "outputs": [],
   "source": [
    "import numpy as np\n",
    "\n",
    "array = np.array([1, 2, 3, 4, 5,-1])\n",
    "array_clipped = np.clip(array, 2, 4)\n",
    "print(array_clipped)"
   ]
  },
  {
   "cell_type": "markdown",
   "id": "8316ae23",
   "metadata": {
    "heading_collapsed": true,
    "hidden": true
   },
   "source": [
    "#### compress()"
   ]
  },
  {
   "cell_type": "markdown",
   "id": "30dcda2c",
   "metadata": {
    "hidden": true
   },
   "source": [
    "Retorna uma array com apenas os elementos selecionados por uma máscara booleana."
   ]
  },
  {
   "cell_type": "code",
   "execution_count": null,
   "id": "3a6f9037",
   "metadata": {
    "hidden": true
   },
   "outputs": [],
   "source": [
    "import numpy as np\n",
    "\n",
    "array = np.array([1, 2, 3, 4, 5])\n",
    "\n",
    "mask = np.array([True, False, True, False, True])\n",
    "\n",
    "array_compressed = np.compress(mask, array)\n",
    "\n",
    "print(array_compressed)"
   ]
  },
  {
   "cell_type": "markdown",
   "id": "4d821eea",
   "metadata": {
    "heading_collapsed": true,
    "hidden": true
   },
   "source": [
    "#### conj() e conjugate()"
   ]
  },
  {
   "cell_type": "markdown",
   "id": "f6074f30",
   "metadata": {
    "hidden": true
   },
   "source": [
    "Retorna o complexo conjugado de um array. O complexo conjugado de um número da forma $a + bj$ é dado por $a - bj$ e um número da forma $a - bj$ é dado por $a + bj$."
   ]
  },
  {
   "cell_type": "code",
   "execution_count": null,
   "id": "ecc4c59b",
   "metadata": {
    "hidden": true
   },
   "outputs": [],
   "source": [
    "import numpy as np\n",
    "\n",
    "array = np.array([1 + 2j, 3 - 4j, -5 + 6j])\n",
    "array_conjugate = np.conjugate(array)\n",
    "print(array_conjugate)"
   ]
  },
  {
   "cell_type": "markdown",
   "id": "20f272fc",
   "metadata": {
    "heading_collapsed": true,
    "hidden": true
   },
   "source": [
    "#### copy()"
   ]
  },
  {
   "cell_type": "markdown",
   "id": "8dd0ca2f",
   "metadata": {
    "hidden": true
   },
   "source": [
    "A função copy cria uma cópia profunda (deep copy) de uma array. A cópia é independente da array original, o que significa que qualquer modificação feita em uma das arrays não afetará a outra."
   ]
  },
  {
   "cell_type": "code",
   "execution_count": null,
   "id": "bff1f7c7",
   "metadata": {
    "hidden": true
   },
   "outputs": [],
   "source": [
    "import numpy as np\n",
    "\n",
    "array1 = np.array([1, 2, 3])\n",
    "array2 = array1.copy()\n",
    "array2[0] = 5\n",
    "\n",
    "print(array1)\n",
    "print(array2)\n"
   ]
  },
  {
   "cell_type": "markdown",
   "id": "cc46ac17",
   "metadata": {
    "heading_collapsed": true,
    "hidden": true
   },
   "source": [
    "#### ctypes()"
   ]
  },
  {
   "cell_type": "markdown",
   "id": "0917a1e9",
   "metadata": {
    "hidden": true
   },
   "source": [
    "A função ctypes retorna um objeto ctypes que permite o acesso direto aos dados de uma array como um buffer de memória bruto. Isso pode ser útil para integração com outros módulos ou bibliotecas escritas em C. *Esta é uma função mais técnica.*"
   ]
  },
  {
   "cell_type": "code",
   "execution_count": null,
   "id": "34fe12bd",
   "metadata": {
    "hidden": true
   },
   "outputs": [],
   "source": [
    "import numpy as np\n",
    "\n",
    "array = np.array([1, 2, 3], dtype=np.int32)\n",
    "ctypes_data = array.ctypes.data\n",
    "\n",
    "print(ctypes_data)"
   ]
  },
  {
   "cell_type": "markdown",
   "id": "d31510f4",
   "metadata": {
    "hidden": true
   },
   "source": [
    "O número 2184932005136 (associado ao array[1,2,3]) ou qualquer outro número que possa aparecer ao executar o código é o endereço de memória no qual o primeiro byte do array numpy está armazenado no seu sistema. Este endereço é específico para a execução atual do código e pode variar em diferentes execuções ou em diferentes sistemas/máquinas."
   ]
  },
  {
   "cell_type": "markdown",
   "id": "21b59fba",
   "metadata": {
    "heading_collapsed": true,
    "hidden": true
   },
   "source": [
    "#### cumprod()"
   ]
  },
  {
   "cell_type": "markdown",
   "id": "1f3e4d0c",
   "metadata": {
    "hidden": true
   },
   "source": [
    "A função cumprod retorna um array contendo os produtos acumulados dos elementos da array ao longo de um determinado eixo."
   ]
  },
  {
   "cell_type": "code",
   "execution_count": null,
   "id": "01e71629",
   "metadata": {
    "hidden": true
   },
   "outputs": [],
   "source": [
    "import numpy as np\n",
    "\n",
    "array = np.array([1, 2, 3, 4, 4])\n",
    "cumprod_array = np.cumprod(array)\n",
    "\n",
    "print(cumprod_array)"
   ]
  },
  {
   "cell_type": "markdown",
   "id": "b389dba1",
   "metadata": {
    "heading_collapsed": true,
    "hidden": true
   },
   "source": [
    "#### cumsum()"
   ]
  },
  {
   "cell_type": "markdown",
   "id": "832cebd0",
   "metadata": {
    "hidden": true
   },
   "source": [
    "A função cumsum retorna um array contendo as somas acumuladas dos elementos da array ao longo de um determinado eixo."
   ]
  },
  {
   "cell_type": "code",
   "execution_count": null,
   "id": "b6819b99",
   "metadata": {
    "hidden": true
   },
   "outputs": [],
   "source": [
    "import numpy as np\n",
    "\n",
    "array = np.array([1, 2, 3, 4])\n",
    "cumsum_array = np.cumsum(array)\n",
    "\n",
    "print(cumsum_array)"
   ]
  },
  {
   "cell_type": "markdown",
   "id": "08faef26",
   "metadata": {
    "heading_collapsed": true,
    "hidden": true
   },
   "source": [
    "#### data()"
   ]
  },
  {
   "cell_type": "markdown",
   "id": "239502eb",
   "metadata": {
    "hidden": true
   },
   "source": [
    "A função data retorna um buffer de memória que contém os elementos da array. *Esta é uma função mais técnica.*"
   ]
  },
  {
   "cell_type": "code",
   "execution_count": null,
   "id": "a837d3c9",
   "metadata": {
    "hidden": true
   },
   "outputs": [],
   "source": [
    "import numpy as np\n",
    "\n",
    "array = np.array([1, 2, 3], dtype=np.float64)\n",
    "array_data = array.data\n",
    "\n",
    "print(array_data)"
   ]
  },
  {
   "cell_type": "markdown",
   "id": "557922a1",
   "metadata": {
    "hidden": true
   },
   "source": [
    "A saída <memory at 0x000001FCBA869A80> é uma representação desse objeto de buffer. A parte 0x000001FCBA869A80 é um endereço de memória hexadecimal e aponta para onde, na memória, o primeiro byte do array numpy está armazenado. Assim como antes, este endereço é específico para a execução atual do código e pode variar em diferentes execuções ou em diferentes sistemas/máquinas."
   ]
  },
  {
   "cell_type": "markdown",
   "id": "5748667b",
   "metadata": {
    "heading_collapsed": true,
    "hidden": true
   },
   "source": [
    "#### diagonal()"
   ]
  },
  {
   "cell_type": "markdown",
   "id": "776b6265",
   "metadata": {
    "hidden": true
   },
   "source": [
    "A função diagonal retorna uma view dos elementos na diagonal principal de uma array."
   ]
  },
  {
   "cell_type": "code",
   "execution_count": null,
   "id": "69cd660b",
   "metadata": {
    "hidden": true
   },
   "outputs": [],
   "source": [
    "import numpy as np\n",
    "\n",
    "array = np.array([[1, 2, 3], \n",
    "                  [4, 5, 6], \n",
    "                  [7, 8, 9]])\n",
    "diagonal_array = np.diagonal(array)\n",
    "\n",
    "print(diagonal_array)"
   ]
  },
  {
   "cell_type": "code",
   "execution_count": null,
   "id": "5d153cfb",
   "metadata": {
    "hidden": true
   },
   "outputs": [],
   "source": [
    "import numpy as np\n",
    "\n",
    "array = np.array([[1, 2], \n",
    "                  [4, 5], \n",
    "                  [7, 8]])\n",
    "diagonal_array = np.diagonal(array)\n",
    "\n",
    "print(diagonal_array)"
   ]
  },
  {
   "cell_type": "markdown",
   "id": "cd33f62a",
   "metadata": {
    "heading_collapsed": true,
    "hidden": true
   },
   "source": [
    "#### dot()"
   ]
  },
  {
   "cell_type": "markdown",
   "id": "b597002f",
   "metadata": {
    "hidden": true
   },
   "source": [
    "A função dot realiza a multiplicação matricial entre duas arrays."
   ]
  },
  {
   "cell_type": "code",
   "execution_count": null,
   "id": "3235c79b",
   "metadata": {
    "hidden": true
   },
   "outputs": [],
   "source": [
    "import numpy as np\n",
    "\n",
    "array1 = np.array([[1, 1], \n",
    "                   [2, 3]])\n",
    "array2 = np.array([[2, 3], \n",
    "                   [1, 8]])\n",
    "dot_product = np.dot(array1, array2)\n",
    "\n",
    "print(dot_product)"
   ]
  },
  {
   "cell_type": "markdown",
   "id": "be85897c",
   "metadata": {
    "heading_collapsed": true
   },
   "source": [
    "### <div style=\"margin-top: -20px;\">\n",
    "<hr style=\"border: 2px solid blue;\">\n",
    "\n",
    "<font color='blue'><span style=\"font-size: 18px;\"><strong>21.4.1 Funções Associadas a Arrays - Parte 3</strong></span></font>\n",
    "\n",
    "<hr style=\"border: 2px solid blue;\">\n",
    "</div>"
   ]
  },
  {
   "cell_type": "markdown",
   "id": "94a33817",
   "metadata": {
    "heading_collapsed": true,
    "hidden": true
   },
   "source": [
    "#### dtype()"
   ]
  },
  {
   "cell_type": "markdown",
   "id": "e6938087",
   "metadata": {
    "hidden": true
   },
   "source": [
    "A função np.array() do NumPy cria um array NumPy a partir de uma sequência (como uma lista ou tupla) e permite especificar explicitamente o tipo de dados (dtype) dos elementos internos do array."
   ]
  },
  {
   "cell_type": "code",
   "execution_count": null,
   "id": "53893acc",
   "metadata": {
    "hidden": true
   },
   "outputs": [],
   "source": [
    "import numpy as np\n",
    "\n",
    "array1 = np.array([1, 2, 3], dtype=np.float64)\n",
    "array_dtype1 = array1.dtype\n",
    "\n",
    "print(array_dtype1)\n",
    "print(array1)"
   ]
  },
  {
   "cell_type": "code",
   "execution_count": null,
   "id": "def1f345",
   "metadata": {
    "hidden": true
   },
   "outputs": [],
   "source": [
    "import numpy as np\n",
    "\n",
    "array2 = np.array(['1', '2', '3'], dtype=np.float64)\n",
    "array_dtype2 = array2.dtype\n",
    "\n",
    "print(array_dtype2)\n",
    "print(array2)"
   ]
  },
  {
   "cell_type": "markdown",
   "id": "622ce02b",
   "metadata": {
    "heading_collapsed": true,
    "hidden": true
   },
   "source": [
    "#### dump()"
   ]
  },
  {
   "cell_type": "markdown",
   "id": "ea1da416",
   "metadata": {
    "hidden": true
   },
   "source": [
    "A função dump salva a array em um arquivo binário. *Esta é uma função mais técnica.*"
   ]
  },
  {
   "cell_type": "code",
   "execution_count": null,
   "id": "c85fb186",
   "metadata": {
    "hidden": true
   },
   "outputs": [],
   "source": [
    "import numpy as np\n",
    "import pickle\n",
    "\n",
    "array = np.array([1, 2, 3])\n",
    "with open('array_data.bin', 'wb') as file:\n",
    "    pickle.dump(array, file)\n"
   ]
  },
  {
   "cell_type": "markdown",
   "id": "235442b0",
   "metadata": {
    "hidden": true
   },
   "source": [
    "Podemos reinterpretar a saída com o código a seguir:"
   ]
  },
  {
   "cell_type": "code",
   "execution_count": null,
   "id": "a0df3124",
   "metadata": {
    "hidden": true
   },
   "outputs": [],
   "source": [
    "import numpy as np\n",
    "import pickle\n",
    "\n",
    "# Carregar o array NumPy a partir do arquivo binário\n",
    "with open('array_data.bin', 'rb') as file:\n",
    "    loaded_array = pickle.load(file)\n",
    "\n",
    "# Agora, 'loaded_array' contém o array NumPy original\n",
    "print(loaded_array)"
   ]
  },
  {
   "cell_type": "markdown",
   "id": "2f1c09c7",
   "metadata": {
    "heading_collapsed": true,
    "hidden": true
   },
   "source": [
    "#### fill() "
   ]
  },
  {
   "cell_type": "markdown",
   "id": "f4baff40",
   "metadata": {
    "hidden": true
   },
   "source": [
    "A função fill preenche todos os elementos da array com um valor específico."
   ]
  },
  {
   "cell_type": "code",
   "execution_count": null,
   "id": "ae299b6a",
   "metadata": {
    "hidden": true
   },
   "outputs": [],
   "source": [
    "import numpy as np\n",
    "\n",
    "array = np.array([1, 2, 3])\n",
    "array.fill(0)\n",
    "\n",
    "print(array)"
   ]
  },
  {
   "cell_type": "markdown",
   "id": "2d548492",
   "metadata": {
    "heading_collapsed": true,
    "hidden": true
   },
   "source": [
    "#### flags()"
   ]
  },
  {
   "cell_type": "markdown",
   "id": "f76a45e3",
   "metadata": {
    "hidden": true
   },
   "source": [
    "A função flags retorna um objeto que fornece informações sobre as propriedades da array, como a memória utilizada e o layout dos elementos. *Esta é uma função mais técnica.*"
   ]
  },
  {
   "cell_type": "code",
   "execution_count": null,
   "id": "1c621b4d",
   "metadata": {
    "hidden": true
   },
   "outputs": [],
   "source": [
    "import numpy as np\n",
    "\n",
    "array = np.array([1, 2, 3])\n",
    "array_flags = array.flags\n",
    "\n",
    "print(array_flags)"
   ]
  },
  {
   "cell_type": "markdown",
   "id": "83cb5367",
   "metadata": {
    "heading_collapsed": true,
    "hidden": true
   },
   "source": [
    "#### flat()"
   ]
  },
  {
   "cell_type": "markdown",
   "id": "70e522a3",
   "metadata": {
    "hidden": true
   },
   "source": [
    " A função flat retorna um iterador que percorre todos os elementos da array como se fosse um único array unidimensional."
   ]
  },
  {
   "cell_type": "code",
   "execution_count": null,
   "id": "f27df145",
   "metadata": {
    "hidden": true
   },
   "outputs": [],
   "source": [
    "import numpy as np\n",
    "\n",
    "array = np.array([[1, 2, 3], [4, 5, 6]])\n",
    "for element in array.flat:\n",
    "    print(element)\n"
   ]
  },
  {
   "cell_type": "markdown",
   "id": "b193ed1b",
   "metadata": {
    "heading_collapsed": true,
    "hidden": true
   },
   "source": [
    "#### flatten()"
   ]
  },
  {
   "cell_type": "markdown",
   "id": "14fe3d84",
   "metadata": {
    "hidden": true
   },
   "source": [
    "A função flatten retorna uma cópia da array original em uma nova array unidimensional. Os elementos são copiados na ordem da primeira dimensão, ou seja, é realizada uma achatamento completo."
   ]
  },
  {
   "cell_type": "code",
   "execution_count": null,
   "id": "2b2f1df4",
   "metadata": {
    "hidden": true
   },
   "outputs": [],
   "source": [
    "import numpy as np\n",
    "\n",
    "array = np.array([[1, 2, 3], \n",
    "                  [4, 5, 6]])\n",
    "flattened_array = array.flatten()\n",
    "print(flattened_array)"
   ]
  },
  {
   "cell_type": "markdown",
   "id": "62358a82",
   "metadata": {
    "heading_collapsed": true,
    "hidden": true
   },
   "source": [
    "#### getfield()"
   ]
  },
  {
   "cell_type": "markdown",
   "id": "d402d54a",
   "metadata": {
    "hidden": true
   },
   "source": [
    "A função getfield retorna um campo específico de cada elemento da array. O campo é especificado pelo nome do dtype."
   ]
  },
  {
   "cell_type": "code",
   "execution_count": null,
   "id": "77f60c5c",
   "metadata": {
    "hidden": true
   },
   "outputs": [],
   "source": [
    "import numpy as np\n",
    "\n",
    "array = np.array([(1, 2), (3, 4)], dtype=[('x', np.float32), ('y', np.float32)])\n",
    "x_values = array['x']\n",
    "print(x_values)\n"
   ]
  },
  {
   "cell_type": "code",
   "execution_count": null,
   "id": "a4e32ed4",
   "metadata": {
    "hidden": true
   },
   "outputs": [],
   "source": [
    "y_values = array['y']\n",
    "print(y_values)"
   ]
  },
  {
   "cell_type": "markdown",
   "id": "730a5e70",
   "metadata": {
    "hidden": true
   },
   "source": [
    "No código acima, dtype=[('x', np.float32), ('y', np.float32)] especifica que os campos 'x' e 'y' do array são do tipo float32. Você pode alterar 'np.float32' para qualquer outro tipo suportado pelo NumPy, como np.int32, np.float64, np.uint16, etc., conforme necessário para seus requisitos. Certifique-se apenas de que o tipo especificado seja compatível com os valores que você deseja armazenar no array."
   ]
  },
  {
   "cell_type": "markdown",
   "id": "5027235d",
   "metadata": {
    "heading_collapsed": true,
    "hidden": true
   },
   "source": [
    "#### imag()"
   ]
  },
  {
   "cell_type": "markdown",
   "id": "08e1c2f8",
   "metadata": {
    "hidden": true
   },
   "source": [
    "A função imag retorna a parte imaginária dos elementos da array."
   ]
  },
  {
   "cell_type": "code",
   "execution_count": null,
   "id": "561d41c4",
   "metadata": {
    "hidden": true
   },
   "outputs": [],
   "source": [
    "import numpy as np\n",
    "\n",
    "array1 = np.array([1 + 2, 3 + 4j, 5 - 6j])\n",
    "imaginary_part1 = array1.imag\n",
    "print(imaginary_part1)"
   ]
  },
  {
   "cell_type": "code",
   "execution_count": null,
   "id": "0468d260",
   "metadata": {
    "hidden": true
   },
   "outputs": [],
   "source": [
    "array2 = np.array([1, 3, 5])\n",
    "imaginary_part2 = array2.imag\n",
    "print(imaginary_part2)"
   ]
  },
  {
   "cell_type": "markdown",
   "id": "e33497e4",
   "metadata": {
    "heading_collapsed": true,
    "hidden": true
   },
   "source": [
    "#### item()"
   ]
  },
  {
   "cell_type": "markdown",
   "id": "31540a81",
   "metadata": {
    "hidden": true
   },
   "source": [
    "A função item retorna um único elemento da array como um objeto Python."
   ]
  },
  {
   "cell_type": "code",
   "execution_count": null,
   "id": "57237876",
   "metadata": {
    "hidden": true
   },
   "outputs": [],
   "source": [
    "import numpy as np\n",
    "\n",
    "array = np.array([3, -2, 4])\n",
    "first_element = array.item(0)\n",
    "print(first_element)"
   ]
  },
  {
   "cell_type": "markdown",
   "id": "e02559d3",
   "metadata": {
    "heading_collapsed": true,
    "hidden": true
   },
   "source": [
    "#### itemset()"
   ]
  },
  {
   "cell_type": "markdown",
   "id": "c8c00387",
   "metadata": {
    "hidden": true
   },
   "source": [
    "A função itemset atribui um valor a um único elemento da array."
   ]
  },
  {
   "cell_type": "code",
   "execution_count": null,
   "id": "b0e4278c",
   "metadata": {
    "hidden": true
   },
   "outputs": [],
   "source": [
    "import numpy as np\n",
    "\n",
    "array = np.array([1, 2, 3])\n",
    "array.itemset(1, -3)\n",
    "print(array) "
   ]
  },
  {
   "cell_type": "markdown",
   "id": "745868d6",
   "metadata": {
    "heading_collapsed": true
   },
   "source": [
    "### <div style=\"margin-top: -20px;\">\n",
    "<hr style=\"border: 2px solid blue;\">\n",
    "\n",
    "<font color='blue'><span style=\"font-size: 18px;\"><strong>21.4.1 Funções Associadas a Arrays - Parte 4</strong></span></font>\n",
    "\n",
    "<hr style=\"border: 2px solid blue;\">\n",
    "</div>"
   ]
  },
  {
   "cell_type": "markdown",
   "id": "4db9854a",
   "metadata": {
    "heading_collapsed": true,
    "hidden": true
   },
   "source": [
    "#### itemsize()"
   ]
  },
  {
   "cell_type": "markdown",
   "id": "063ce51b",
   "metadata": {
    "hidden": true
   },
   "source": [
    "A função itemsize retorna o número de bytes usado para armazenar cada elemento da array. *Esta é uma função mais técnica.*"
   ]
  },
  {
   "cell_type": "code",
   "execution_count": null,
   "id": "0765d45d",
   "metadata": {
    "hidden": true
   },
   "outputs": [],
   "source": [
    "import numpy as np\n",
    "\n",
    "array = np.array([1, 2, 3], dtype=np.int32)\n",
    "size_of_element = array.itemsize\n",
    "print(size_of_element)"
   ]
  },
  {
   "cell_type": "code",
   "execution_count": null,
   "id": "b85a914a",
   "metadata": {
    "hidden": true
   },
   "outputs": [],
   "source": [
    "import numpy as np\n",
    "\n",
    "array = np.array([1, 2, 3], dtype=np.float64)\n",
    "size_of_element = array.itemsize\n",
    "print(size_of_element)\n"
   ]
  },
  {
   "cell_type": "markdown",
   "id": "fd46fe02",
   "metadata": {
    "heading_collapsed": true,
    "hidden": true
   },
   "source": [
    "#### max()"
   ]
  },
  {
   "cell_type": "markdown",
   "id": "bc7f5f05",
   "metadata": {
    "hidden": true
   },
   "source": [
    "A função max retorna o valor máximo da array ou ao longo de um determinado eixo."
   ]
  },
  {
   "cell_type": "code",
   "execution_count": null,
   "id": "0814cec0",
   "metadata": {
    "hidden": true
   },
   "outputs": [],
   "source": [
    "import numpy as np\n",
    "\n",
    "array = np.array([1, 2, -3])\n",
    "maximum_value = array.max()\n",
    "print(maximum_value)"
   ]
  },
  {
   "cell_type": "code",
   "execution_count": null,
   "id": "33d14460",
   "metadata": {
    "hidden": true
   },
   "outputs": [],
   "source": [
    "matrix = np.array([[1,   8, 3],\n",
    "                   [9,  11, 7],\n",
    "                   [10,  1, 4],\n",
    "                   [-1,  2, 3]])\n",
    "maximum_values_along_axis0 = matrix.max(axis=0)\n",
    "maximum_values_along_axis1 = matrix.max(axis=1)\n",
    "\n",
    "print(\"Valor máximo ao longo do eixo 0:\", maximum_values_along_axis0)\n",
    "print(\"Valor máximo ao longo do eixo 1:\", maximum_values_along_axis1)\n"
   ]
  },
  {
   "cell_type": "markdown",
   "id": "e76c0a3d",
   "metadata": {
    "heading_collapsed": true,
    "hidden": true
   },
   "source": [
    "#### mean()"
   ]
  },
  {
   "cell_type": "markdown",
   "id": "d9c50dda",
   "metadata": {
    "hidden": true
   },
   "source": [
    "A função mean retorna a média dos elementos da array ao longo de um determinado eixo ou de toda a array."
   ]
  },
  {
   "cell_type": "code",
   "execution_count": null,
   "id": "5b71dac2",
   "metadata": {
    "hidden": true
   },
   "outputs": [],
   "source": [
    "import numpy as np\n",
    "\n",
    "array = np.array([1, 2, 3, 4, 5])\n",
    "array_mean = np.mean(array)\n",
    "print(array_mean)"
   ]
  },
  {
   "cell_type": "markdown",
   "id": "79c6c006",
   "metadata": {
    "heading_collapsed": true,
    "hidden": true
   },
   "source": [
    "#### min() "
   ]
  },
  {
   "cell_type": "markdown",
   "id": "d7f8a8c5",
   "metadata": {
    "hidden": true
   },
   "source": [
    "A função min retorna o valor mínimo da array ao longo de um determinado eixo ou de toda a array."
   ]
  },
  {
   "cell_type": "code",
   "execution_count": null,
   "id": "d7f6c3e9",
   "metadata": {
    "hidden": true
   },
   "outputs": [],
   "source": [
    "import numpy as np\n",
    "\n",
    "array = np.array([5, 3, 8, 1, 6])\n",
    "array_min = np.min(array)\n",
    "print(array_min)"
   ]
  },
  {
   "cell_type": "code",
   "execution_count": null,
   "id": "9b8dff51",
   "metadata": {
    "hidden": true
   },
   "outputs": [],
   "source": [
    "matrix = np.array([[1,   8, 3],\n",
    "                   [9,  11, 7],\n",
    "                   [10,  1, 4],\n",
    "                   [-1,  2, 3]])\n",
    "manimum_values_along_axis0 = matrix.min(axis=0)\n",
    "manimum_values_along_axis1 = matrix.min(axis=1)\n",
    "\n",
    "print(\"Valor mínimo ao longo do eixo 0:\", manimum_values_along_axis0)\n",
    "print(\"Valor mínimo ao longo do eixo 1:\", manimum_values_along_axis1)"
   ]
  },
  {
   "cell_type": "markdown",
   "id": "e6d968ad",
   "metadata": {
    "heading_collapsed": true,
    "hidden": true
   },
   "source": [
    "#### nbytes()*"
   ]
  },
  {
   "cell_type": "markdown",
   "id": "a3adc8e2",
   "metadata": {
    "hidden": true
   },
   "source": [
    "A função nbytes retorna o número total de bytes ocupados pela array. *Esta é uma função mais técnica.*"
   ]
  },
  {
   "cell_type": "code",
   "execution_count": null,
   "id": "60763676",
   "metadata": {
    "hidden": true
   },
   "outputs": [],
   "source": [
    "import numpy as np\n",
    "\n",
    "array = np.array([1, 2, 3, 4, 5], dtype=np.int32)\n",
    "array_nbytes = array.nbytes\n",
    "print(array_nbytes)\n"
   ]
  },
  {
   "cell_type": "markdown",
   "id": "2f6e1fdb",
   "metadata": {
    "heading_collapsed": true,
    "hidden": true
   },
   "source": [
    "#### ndim()"
   ]
  },
  {
   "cell_type": "markdown",
   "id": "04cac9a2",
   "metadata": {
    "hidden": true
   },
   "source": [
    "A função ndim retorna o número de dimensões (ou eixos) da array."
   ]
  },
  {
   "cell_type": "code",
   "execution_count": null,
   "id": "c7665393",
   "metadata": {
    "hidden": true
   },
   "outputs": [],
   "source": [
    "import numpy as np\n",
    "\n",
    "array1 = np.array([1, 2, 3])\n",
    "array_ndim = array1.ndim\n",
    "print(array_ndim)"
   ]
  },
  {
   "cell_type": "code",
   "execution_count": null,
   "id": "185b2b89",
   "metadata": {
    "hidden": true
   },
   "outputs": [],
   "source": [
    "array2 = np.array([[1, 2, 3], \n",
    "                  [4, 5, 6]])\n",
    "array_ndim = array.ndim\n",
    "print(array_ndim)"
   ]
  },
  {
   "cell_type": "code",
   "execution_count": null,
   "id": "a2f20269",
   "metadata": {
    "hidden": true
   },
   "outputs": [],
   "source": [
    "array_3d = np.array([[[1, 2, 3], \n",
    "                      [4, 5, 6]], [[7, 8, 9], \n",
    "                                   [10, 11, 12]]])\n",
    "array_3d_ndim = array_3d.ndim\n",
    "print(array_3d_ndim)\n"
   ]
  },
  {
   "cell_type": "markdown",
   "id": "cb0f78dd",
   "metadata": {
    "heading_collapsed": true,
    "hidden": true
   },
   "source": [
    "#### newbyteorder()*"
   ]
  },
  {
   "cell_type": "markdown",
   "id": "373e3971",
   "metadata": {
    "hidden": true
   },
   "source": [
    "A função newbyteorder retorna uma nova array com a ordem dos bytes alterada. *Esta é uma função mais técnica.*"
   ]
  },
  {
   "cell_type": "code",
   "execution_count": null,
   "id": "8e0945a2",
   "metadata": {
    "hidden": true
   },
   "outputs": [],
   "source": [
    "import numpy as np\n",
    "\n",
    "array = np.array([1, 2, 3], dtype=np.int32)\n",
    "new_byteorder_array = array.newbyteorder('big')\n",
    "print(new_byteorder_array) "
   ]
  },
  {
   "cell_type": "markdown",
   "id": "890a5dd8",
   "metadata": {
    "heading_collapsed": true,
    "hidden": true
   },
   "source": [
    "#### nonzero()"
   ]
  },
  {
   "cell_type": "markdown",
   "id": "b4782153",
   "metadata": {
    "hidden": true
   },
   "source": [
    "A função nonzero retorna um array contendo os índices dos elementos não zero."
   ]
  },
  {
   "cell_type": "code",
   "execution_count": null,
   "id": "80ea673b",
   "metadata": {
    "hidden": true
   },
   "outputs": [],
   "source": [
    "import numpy as np\n",
    "\n",
    "array = np.array([0, 2, 0, 4, 0])\n",
    "nonzero_indices = np.nonzero(array)\n",
    "print(nonzero_indices)"
   ]
  },
  {
   "cell_type": "markdown",
   "id": "97db9012",
   "metadata": {
    "heading_collapsed": true,
    "hidden": true
   },
   "source": [
    "#### partition() "
   ]
  },
  {
   "cell_type": "markdown",
   "id": "06f7a002",
   "metadata": {
    "hidden": true
   },
   "source": [
    "A função partition retorna uma nova array com os elementos rearranjados de forma que os k menores elementos estejam antes dos k maiores elementos."
   ]
  },
  {
   "cell_type": "code",
   "execution_count": null,
   "id": "e77dce2e",
   "metadata": {
    "hidden": true
   },
   "outputs": [],
   "source": [
    "import numpy as np\n",
    "\n",
    "array = np.array([3, 1, 4, 1, 5, 9, 2, 6])\n",
    "partitioned_array = np.partition(array, 1)\n",
    "print(partitioned_array)"
   ]
  },
  {
   "cell_type": "code",
   "execution_count": null,
   "id": "f040de93",
   "metadata": {
    "hidden": true
   },
   "outputs": [],
   "source": [
    "array = np.array([3, 1, 4, 1, 5, 9, 2, 6])\n",
    "partitioned_array = np.partition(array, 2)\n",
    "print(partitioned_array)"
   ]
  },
  {
   "cell_type": "code",
   "execution_count": null,
   "id": "45631170",
   "metadata": {
    "hidden": true
   },
   "outputs": [],
   "source": [
    "array = np.array([3, 1, 4, 1, 5, 9, 2, 6])\n",
    "partitioned_array = np.partition(array, 7)\n",
    "print(partitioned_array)"
   ]
  },
  {
   "cell_type": "markdown",
   "id": "d5a1b808",
   "metadata": {
    "heading_collapsed": true,
    "hidden": true
   },
   "source": [
    "#### prod()"
   ]
  },
  {
   "cell_type": "markdown",
   "id": "b136da70",
   "metadata": {
    "hidden": true
   },
   "source": [
    "A função prod retorna o produto dos elementos da array ao longo de um determinado eixo ou de toda a array."
   ]
  },
  {
   "cell_type": "code",
   "execution_count": null,
   "id": "798ba83a",
   "metadata": {
    "hidden": true
   },
   "outputs": [],
   "source": [
    "import numpy as np\n",
    "\n",
    "array = np.array([2, 3, 4])\n",
    "array_prod = np.prod(array)\n",
    "print(array_prod)"
   ]
  },
  {
   "cell_type": "code",
   "execution_count": null,
   "id": "831dcf06",
   "metadata": {
    "hidden": true
   },
   "outputs": [],
   "source": [
    "matrix = np.array([[2, 3, 4],\n",
    "                   [1, 2, 3]])\n",
    "product_along_axis0 = np.prod(matrix, axis=0)\n",
    "print(\"Produto ao longo do eixo 0:\", product_along_axis0)"
   ]
  },
  {
   "cell_type": "code",
   "execution_count": null,
   "id": "e18bf81b",
   "metadata": {
    "hidden": true
   },
   "outputs": [],
   "source": [
    "matrix = np.array([[2, 3, 4],\n",
    "                   [1, 2, 3]])\n",
    "product_along_axis0 = np.prod(matrix, axis=1)\n",
    "print(\"Produto ao longo do eixo 1:\", product_along_axis0)"
   ]
  },
  {
   "cell_type": "markdown",
   "id": "ac965efe",
   "metadata": {
    "heading_collapsed": true
   },
   "source": [
    "### <div style=\"margin-top: -20px;\">\n",
    "<hr style=\"border: 2px solid blue;\">\n",
    "\n",
    "<font color='blue'><span style=\"font-size: 18px;\"><strong>21.4.1 Funções Associadas a Arrays - Parte 5</strong></span></font>\n",
    "\n",
    "<hr style=\"border: 2px solid blue;\">\n",
    "</div>"
   ]
  },
  {
   "cell_type": "markdown",
   "id": "e4b7546b",
   "metadata": {
    "heading_collapsed": true,
    "hidden": true
   },
   "source": [
    "#### ptp()"
   ]
  },
  {
   "cell_type": "markdown",
   "id": "61cd4fb2",
   "metadata": {
    "hidden": true
   },
   "source": [
    "A função ptp retorna a amplitude dos valores (diferença entre o valor máximo e mínimo) da array ao longo de um determinado eixo ou de toda a array."
   ]
  },
  {
   "cell_type": "code",
   "execution_count": null,
   "id": "6878417a",
   "metadata": {
    "hidden": true
   },
   "outputs": [],
   "source": [
    "import numpy as np\n",
    "\n",
    "array = np.array([5, -3, 8, -1, 6])\n",
    "array_ptp = np.ptp(array)\n",
    "print(array_ptp)"
   ]
  },
  {
   "cell_type": "code",
   "execution_count": null,
   "id": "bb71d5a2",
   "metadata": {
    "hidden": true
   },
   "outputs": [],
   "source": [
    "matrix = np.array([[5, -3, 8],\n",
    "                   [1, 6, 2],\n",
    "                   [1, 3, 7]])\n",
    "ptp_along_axis0 = np.ptp(matrix, axis=0)\n",
    "print(\"Pico a Pico ao longo do eixo 0:\", ptp_along_axis0)"
   ]
  },
  {
   "cell_type": "code",
   "execution_count": null,
   "id": "24e10f6a",
   "metadata": {
    "hidden": true
   },
   "outputs": [],
   "source": [
    "matrix = np.array([[5, -3, 8],\n",
    "                   [1, 6, 2],\n",
    "                   [1, 3, 7]])\n",
    "ptp_along_axis1 = np.ptp(matrix, axis=1)\n",
    "print(\"Pico a Pico ao longo do eixo 1:\", ptp_along_axis1)"
   ]
  },
  {
   "cell_type": "markdown",
   "id": "e2700391",
   "metadata": {
    "heading_collapsed": true,
    "hidden": true
   },
   "source": [
    "#### put()"
   ]
  },
  {
   "cell_type": "markdown",
   "id": "40863ec0",
   "metadata": {
    "hidden": true
   },
   "source": [
    "A função put substitui os elementos da array pelos valores fornecidos em um array de índices."
   ]
  },
  {
   "cell_type": "code",
   "execution_count": null,
   "id": "1ac484bc",
   "metadata": {
    "hidden": true
   },
   "outputs": [],
   "source": [
    "import numpy as np\n",
    "\n",
    "array = np.array([-1, 0, 1, 2, 5])\n",
    "indices = [1, 3]\n",
    "np.put(array, indices, [10, 20])\n",
    "print(array)\n"
   ]
  },
  {
   "cell_type": "markdown",
   "id": "8c6d7dd5",
   "metadata": {
    "heading_collapsed": true,
    "hidden": true
   },
   "source": [
    "#### ravel()"
   ]
  },
  {
   "cell_type": "markdown",
   "id": "8ef5b86b",
   "metadata": {
    "hidden": true
   },
   "source": [
    "A função ravel retorna uma array unidimensional que contém os elementos da array original."
   ]
  },
  {
   "cell_type": "code",
   "execution_count": null,
   "id": "817bbd94",
   "metadata": {
    "hidden": true
   },
   "outputs": [],
   "source": [
    "import numpy as np\n",
    "\n",
    "array = np.array([[1, 2, 3], [4, 5, 6]])\n",
    "raveled_array = array.ravel()\n",
    "print(raveled_array)"
   ]
  },
  {
   "cell_type": "markdown",
   "id": "b19f5c5b",
   "metadata": {
    "heading_collapsed": true,
    "hidden": true
   },
   "source": [
    "#### real()"
   ]
  },
  {
   "cell_type": "markdown",
   "id": "9555a993",
   "metadata": {
    "hidden": true
   },
   "source": [
    "A função real retorna a parte real dos elementos da array."
   ]
  },
  {
   "cell_type": "code",
   "execution_count": null,
   "id": "bbce0ddb",
   "metadata": {
    "hidden": true
   },
   "outputs": [],
   "source": [
    "import numpy as np\n",
    "\n",
    "array = np.array([1 + 2j, -3 + 4j, 5 + 6j])\n",
    "real_part = array.real\n",
    "print(real_part)\n"
   ]
  },
  {
   "cell_type": "code",
   "execution_count": null,
   "id": "3e234348",
   "metadata": {
    "hidden": true
   },
   "outputs": [],
   "source": [
    "array = np.array([1, -3,6j])\n",
    "real_part = array.real\n",
    "print(real_part)"
   ]
  },
  {
   "cell_type": "markdown",
   "id": "03b2a777",
   "metadata": {
    "heading_collapsed": true,
    "hidden": true
   },
   "source": [
    "#### repeat()"
   ]
  },
  {
   "cell_type": "markdown",
   "id": "0cf445c7",
   "metadata": {
    "hidden": true
   },
   "source": [
    "A função repeat retorna uma nova array em que cada elemento é repetido um número especificado de vezes."
   ]
  },
  {
   "cell_type": "code",
   "execution_count": null,
   "id": "531f5592",
   "metadata": {
    "hidden": true
   },
   "outputs": [],
   "source": [
    "import numpy as np\n",
    "\n",
    "array = np.array([1, 2, 3])\n",
    "repeated_array = np.repeat(array, 3)\n",
    "print(repeated_array)"
   ]
  },
  {
   "cell_type": "markdown",
   "id": "3111396a",
   "metadata": {
    "heading_collapsed": true,
    "hidden": true
   },
   "source": [
    "#### reshape()"
   ]
  },
  {
   "cell_type": "markdown",
   "id": "62d45a3f",
   "metadata": {
    "hidden": true
   },
   "source": [
    "A função reshape retorna uma nova array com a mesma quantidade de elementos, mas com uma nova forma (dimensão) especificada."
   ]
  },
  {
   "cell_type": "code",
   "execution_count": null,
   "id": "72545ffe",
   "metadata": {
    "hidden": true
   },
   "outputs": [],
   "source": [
    "import numpy as np\n",
    "\n",
    "array = np.array([1, 2, 3, 4, 5, 6])\n",
    "reshaped_array = array.reshape((2, 3))\n",
    "print(reshaped_array)"
   ]
  },
  {
   "cell_type": "markdown",
   "id": "096b9228",
   "metadata": {
    "heading_collapsed": true,
    "hidden": true
   },
   "source": [
    "#### resize()"
   ]
  },
  {
   "cell_type": "markdown",
   "id": "9e7569e1",
   "metadata": {
    "hidden": true
   },
   "source": [
    "A função resize altera a forma (dimensão) de uma array existente, adicionando ou removendo elementos conforme necessário."
   ]
  },
  {
   "cell_type": "code",
   "execution_count": null,
   "id": "612fa612",
   "metadata": {
    "hidden": true
   },
   "outputs": [],
   "source": [
    "import numpy as np\n",
    "\n",
    "array = np.array([1, 2, 3])\n",
    "resized_array = np.resize(array, (5,))\n",
    "print(resized_array)"
   ]
  },
  {
   "cell_type": "code",
   "execution_count": null,
   "id": "27357aa9",
   "metadata": {
    "hidden": true
   },
   "outputs": [],
   "source": [
    "import numpy as np\n",
    "\n",
    "array = np.array([1, 2, 3, 4, 5])\n",
    "resized_array = np.resize(array, (3,))\n",
    "print(resized_array)"
   ]
  },
  {
   "cell_type": "markdown",
   "id": "8ffba0c6",
   "metadata": {
    "heading_collapsed": true,
    "hidden": true
   },
   "source": [
    "#### round() "
   ]
  },
  {
   "cell_type": "markdown",
   "id": "5b4cdc2e",
   "metadata": {
    "hidden": true
   },
   "source": [
    "A função round arredonda os elementos da array para o número especificado de casas decimais."
   ]
  },
  {
   "cell_type": "code",
   "execution_count": null,
   "id": "9a5ec030",
   "metadata": {
    "hidden": true
   },
   "outputs": [],
   "source": [
    "import numpy as np\n",
    "\n",
    "array = np.array([1.234, 2.567, 3.792])\n",
    "rounded_array = np.round(array, decimals=1)\n",
    "print(rounded_array)\n"
   ]
  },
  {
   "cell_type": "markdown",
   "id": "179d2067",
   "metadata": {
    "heading_collapsed": true,
    "hidden": true
   },
   "source": [
    "#### searchsorted() "
   ]
  },
  {
   "cell_type": "markdown",
   "id": "24cbcb74",
   "metadata": {
    "hidden": true
   },
   "source": [
    "A função searchsorted retorna os índices onde os elementos da array devem ser inseridos para que a ordem da array seja mantida."
   ]
  },
  {
   "cell_type": "code",
   "execution_count": null,
   "id": "9f809c30",
   "metadata": {
    "hidden": true
   },
   "outputs": [],
   "source": [
    "import numpy as np\n",
    "\n",
    "array = np.array([1, 3, 5, 7, 9])\n",
    "indices = np.searchsorted(array, [4, 8]) # [1, 3, 4, 5, 7, 9] e [1, 3, 5, 7, 8, 9]\n",
    "print(indices)"
   ]
  },
  {
   "cell_type": "markdown",
   "id": "40e101ae",
   "metadata": {
    "heading_collapsed": true,
    "hidden": true
   },
   "source": [
    "#### setflags()"
   ]
  },
  {
   "cell_type": "markdown",
   "id": "cea51001",
   "metadata": {
    "hidden": true
   },
   "source": [
    "A função setflags altera as configurações de sinalizadores (flags) de uma array."
   ]
  },
  {
   "cell_type": "code",
   "execution_count": null,
   "id": "b0da3ec4",
   "metadata": {
    "hidden": true
   },
   "outputs": [],
   "source": [
    "import numpy as np\n",
    "\n",
    "array = np.array([1, 2, 3])\n",
    "array.setflags(write=False)\n",
    "print(array.flags.writeable)"
   ]
  },
  {
   "cell_type": "code",
   "execution_count": null,
   "id": "beda4539",
   "metadata": {
    "hidden": true
   },
   "outputs": [],
   "source": [
    "# Tentativa de modificar a array\n",
    "array[0] = 10\n",
    "\n",
    "print(array)\n",
    "# Output: ValueError: assignment destination is read-only"
   ]
  },
  {
   "cell_type": "markdown",
   "id": "cea05ce4",
   "metadata": {
    "heading_collapsed": true
   },
   "source": [
    "### <div style=\"margin-top: -20px;\">\n",
    "<hr style=\"border: 2px solid blue;\">\n",
    "\n",
    "<font color='blue'><span style=\"font-size: 18px;\"><strong>21.4.1 Funções Associadas a Arrays - Parte 6</strong></span></font>\n",
    "\n",
    "<hr style=\"border: 2px solid blue;\">\n",
    "</div>"
   ]
  },
  {
   "cell_type": "markdown",
   "id": "1dac195c",
   "metadata": {
    "heading_collapsed": true,
    "hidden": true
   },
   "source": [
    "#### shape()"
   ]
  },
  {
   "cell_type": "markdown",
   "id": "f1ccbb88",
   "metadata": {
    "hidden": true
   },
   "source": [
    "A função shape retorna a forma (dimensão) da array como uma tupla de inteiros. Exemplo:"
   ]
  },
  {
   "cell_type": "code",
   "execution_count": null,
   "id": "841d4ddd",
   "metadata": {
    "hidden": true
   },
   "outputs": [],
   "source": [
    "import numpy as np\n",
    "\n",
    "array = np.array([[1, 2, 3], \n",
    "                  [4, 5, 6]])\n",
    "array_shape = array.shape\n",
    "print(array_shape)"
   ]
  },
  {
   "cell_type": "markdown",
   "id": "899e0853",
   "metadata": {
    "heading_collapsed": true,
    "hidden": true
   },
   "source": [
    "#### size()"
   ]
  },
  {
   "cell_type": "markdown",
   "id": "21c5ebb1",
   "metadata": {
    "hidden": true
   },
   "source": [
    "A função size retorna o número total de elementos da array."
   ]
  },
  {
   "cell_type": "code",
   "execution_count": null,
   "id": "e12acd27",
   "metadata": {
    "hidden": true
   },
   "outputs": [],
   "source": [
    "import numpy as np\n",
    "\n",
    "array = np.array([[1, 2, 3], \n",
    "                  [4, 5, 6]])\n",
    "array_size = array.size\n",
    "print(array_size)"
   ]
  },
  {
   "cell_type": "markdown",
   "id": "ca544cad",
   "metadata": {
    "heading_collapsed": true,
    "hidden": true
   },
   "source": [
    "#### sort()"
   ]
  },
  {
   "cell_type": "markdown",
   "id": "552c3c0e",
   "metadata": {
    "hidden": true
   },
   "source": [
    "A função sort ordena os elementos da array ao longo de um determinado eixo ou de toda a array."
   ]
  },
  {
   "cell_type": "code",
   "execution_count": null,
   "id": "b5280570",
   "metadata": {
    "hidden": true
   },
   "outputs": [],
   "source": [
    "import numpy as np\n",
    "\n",
    "array = np.array([5, 2, 8, 1, 6])\n",
    "sorted_array = np.sort(array)\n",
    "print(sorted_array)"
   ]
  },
  {
   "cell_type": "markdown",
   "id": "ab207447",
   "metadata": {
    "heading_collapsed": true,
    "hidden": true
   },
   "source": [
    "#### squeeze()"
   ]
  },
  {
   "cell_type": "markdown",
   "id": "1219a086",
   "metadata": {
    "hidden": true
   },
   "source": [
    "A função squeeze remove dimensões de tamanho 1 de uma array."
   ]
  },
  {
   "cell_type": "code",
   "execution_count": null,
   "id": "503ca305",
   "metadata": {
    "hidden": true
   },
   "outputs": [],
   "source": [
    "import numpy as np\n",
    "\n",
    "# Criar um array com dimensão 1x3x1\n",
    "array = np.array([[[1], [2], [3]]])\n",
    "\n",
    "# Usar squeeze() para remover dimensões de tamanho 1\n",
    "result = np.squeeze(array)\n",
    "\n",
    "print(\"Array original:\")\n",
    "print(array)\n",
    "print(\"Array após squeeze():\")\n",
    "print(result)\n"
   ]
  },
  {
   "cell_type": "code",
   "execution_count": null,
   "id": "66420969",
   "metadata": {
    "hidden": true
   },
   "outputs": [],
   "source": [
    "import numpy as np\n",
    "\n",
    "array = np.array([[[1,2]], [[2,-1]], [[3,5]]])\n",
    "\n",
    "result = np.squeeze(array)\n",
    "\n",
    "print(\"Array original:\")\n",
    "print(array)\n",
    "print(\"Array após squeeze():\")\n",
    "print(result)"
   ]
  },
  {
   "cell_type": "markdown",
   "id": "64e2b9af",
   "metadata": {
    "heading_collapsed": true,
    "hidden": true
   },
   "source": [
    "#### std()"
   ]
  },
  {
   "cell_type": "markdown",
   "id": "5298a3a6",
   "metadata": {
    "hidden": true
   },
   "source": [
    "A função std retorna o desvio padrão dos elementos da array ao longo de um determinado eixo ou de toda a array."
   ]
  },
  {
   "cell_type": "code",
   "execution_count": null,
   "id": "632a0045",
   "metadata": {
    "hidden": true
   },
   "outputs": [],
   "source": [
    "import numpy as np\n",
    "\n",
    "array = np.array([1, 2, 3, 4, 5])\n",
    "array_std = np.std(array)\n",
    "print(array_std)"
   ]
  },
  {
   "cell_type": "markdown",
   "id": "f3821b6f",
   "metadata": {
    "heading_collapsed": true,
    "hidden": true
   },
   "source": [
    "#### strides()"
   ]
  },
  {
   "cell_type": "markdown",
   "id": "5f2b9592",
   "metadata": {
    "hidden": true
   },
   "source": [
    "A função strides retorna uma tupla de inteiros que descreve o número de bytes que a array avança em cada dimensão. *Esta é uma função mais técnica.*"
   ]
  },
  {
   "cell_type": "code",
   "execution_count": null,
   "id": "f3f315dc",
   "metadata": {
    "hidden": true
   },
   "outputs": [],
   "source": [
    "import numpy as np\n",
    "\n",
    "array = np.array([[1, 2, 3], [4, 5, 6]])\n",
    "array_strides = array.strides\n",
    "print(array_strides)"
   ]
  },
  {
   "cell_type": "markdown",
   "id": "b67377e6",
   "metadata": {
    "heading_collapsed": true,
    "hidden": true
   },
   "source": [
    "#### sum()"
   ]
  },
  {
   "cell_type": "markdown",
   "id": "96fcb9b2",
   "metadata": {
    "hidden": true
   },
   "source": [
    "A função sum retorna a soma dos elementos da array ao longo de um determinado eixo ou de toda a array."
   ]
  },
  {
   "cell_type": "code",
   "execution_count": null,
   "id": "7a3e7649",
   "metadata": {
    "hidden": true
   },
   "outputs": [],
   "source": [
    "import numpy as np\n",
    "\n",
    "matrix = np.array([[1, 2, 3],\n",
    "                   [4, 5, 6]])\n",
    "\n",
    "# Somar ao longo do eixo 0 (soma coluna a coluna)\n",
    "sum_along_axis0 = np.sum(matrix, axis=0)\n",
    "\n",
    "# Somar ao longo do eixo 1 (soma linha a linha)\n",
    "sum_along_axis1 = np.sum(matrix, axis=1)\n",
    "\n",
    "print(\"Soma ao longo do eixo 0:\", sum_along_axis0)\n",
    "print(\"Soma ao longo do eixo 1:\", sum_along_axis1)\n"
   ]
  },
  {
   "cell_type": "markdown",
   "id": "b4e4c733",
   "metadata": {
    "heading_collapsed": true,
    "hidden": true
   },
   "source": [
    "#### swapaxes() "
   ]
  },
  {
   "cell_type": "markdown",
   "id": "3ca92046",
   "metadata": {
    "hidden": true
   },
   "source": [
    "A função swapaxes retorna uma nova array com os eixos permutados."
   ]
  },
  {
   "cell_type": "code",
   "execution_count": null,
   "id": "ff115b19",
   "metadata": {
    "hidden": true
   },
   "outputs": [],
   "source": [
    "import numpy as np\n",
    "\n",
    "array = np.array([[1, 2, 3], \n",
    "                  [4, 5, 6]])\n",
    "swapped_array = np.swapaxes(array, 0, 1)\n",
    "print(swapped_array)"
   ]
  },
  {
   "cell_type": "markdown",
   "id": "870c12c9",
   "metadata": {
    "heading_collapsed": true,
    "hidden": true
   },
   "source": [
    "#### take()"
   ]
  },
  {
   "cell_type": "markdown",
   "id": "11cf5cc5",
   "metadata": {
    "hidden": true
   },
   "source": [
    "A função take retorna uma nova array com os elementos especificados pelos índices fornecidos."
   ]
  },
  {
   "cell_type": "code",
   "execution_count": null,
   "id": "6c36f2fa",
   "metadata": {
    "hidden": true
   },
   "outputs": [],
   "source": [
    "import numpy as np\n",
    "\n",
    "array = np.array([1, -1, 3, 7, 5])\n",
    "indices = [1, 3]\n",
    "taken_array = np.take(array, indices)\n",
    "print(taken_array)"
   ]
  },
  {
   "cell_type": "markdown",
   "id": "aee2e63e",
   "metadata": {
    "heading_collapsed": true,
    "hidden": true
   },
   "source": [
    "#### tobytes()"
   ]
  },
  {
   "cell_type": "markdown",
   "id": "d81317d2",
   "metadata": {
    "hidden": true
   },
   "source": [
    "Retorna uma representação em string compacta da array. *Esta é uma função mais técnica.*"
   ]
  },
  {
   "cell_type": "code",
   "execution_count": null,
   "id": "d8b4368a",
   "metadata": {
    "hidden": true
   },
   "outputs": [],
   "source": [
    "import numpy as np\n",
    "\n",
    "array = np.array([1, 2, 3])\n",
    "array_bytes = array.tobytes()\n",
    "\n",
    "print(array_bytes)"
   ]
  },
  {
   "cell_type": "markdown",
   "id": "373ef97e",
   "metadata": {
    "heading_collapsed": true
   },
   "source": [
    "### <div style=\"margin-top: -20px;\">\n",
    "<hr style=\"border: 2px solid blue;\">\n",
    "\n",
    "<font color='blue'><span style=\"font-size: 18px;\"><strong>21.4.1 Funções Associadas a Arrays - Parte 7</strong></span></font>\n",
    "\n",
    "<hr style=\"border: 2px solid blue;\">\n",
    "</div>"
   ]
  },
  {
   "cell_type": "markdown",
   "id": "cbeba185",
   "metadata": {
    "heading_collapsed": true,
    "hidden": true
   },
   "source": [
    "#### tofile()"
   ]
  },
  {
   "cell_type": "markdown",
   "id": "cb62b87b",
   "metadata": {
    "hidden": true
   },
   "source": [
    "O método tofile grava os elementos da array em um arquivo binário."
   ]
  },
  {
   "cell_type": "code",
   "execution_count": null,
   "id": "6cf11f52",
   "metadata": {
    "hidden": true
   },
   "outputs": [],
   "source": [
    "import numpy as np\n",
    "\n",
    "array = np.array([1, 2, 3])\n",
    "array.tofile('data.bin')"
   ]
  },
  {
   "cell_type": "markdown",
   "id": "e3b02534",
   "metadata": {
    "hidden": true
   },
   "source": [
    "Acessando o arquivo:"
   ]
  },
  {
   "cell_type": "code",
   "execution_count": null,
   "id": "96fca684",
   "metadata": {
    "hidden": true
   },
   "outputs": [],
   "source": [
    "import numpy as np\n",
    "\n",
    "# Criar um array NumPy\n",
    "array = np.array([1, 2, 3])\n",
    "\n",
    "# Salvar o array em um arquivo binário\n",
    "array.tofile('data.bin')\n",
    "\n",
    "# Carregar os dados do arquivo binário em um novo array\n",
    "loaded_array = np.fromfile('data.bin', dtype=array.dtype)\n",
    "\n",
    "print(\"Dados carregados do arquivo:\")\n",
    "print(loaded_array)"
   ]
  },
  {
   "cell_type": "markdown",
   "id": "81f7f66b",
   "metadata": {
    "heading_collapsed": true,
    "hidden": true
   },
   "source": [
    "#### tolist()"
   ]
  },
  {
   "cell_type": "markdown",
   "id": "512d2cb8",
   "metadata": {
    "hidden": true
   },
   "source": [
    "O método tolist retorna uma lista Python contendo os elementos da array."
   ]
  },
  {
   "cell_type": "code",
   "execution_count": null,
   "id": "36a3c4c4",
   "metadata": {
    "hidden": true
   },
   "outputs": [],
   "source": [
    "import numpy as np\n",
    "\n",
    "array = np.array([1, 2, 3])\n",
    "array_list = array.tolist()\n",
    "\n",
    "print(array)\n",
    "print(array_list)"
   ]
  },
  {
   "cell_type": "markdown",
   "id": "f7e81f78",
   "metadata": {
    "heading_collapsed": true,
    "hidden": true
   },
   "source": [
    "#### trace()"
   ]
  },
  {
   "cell_type": "markdown",
   "id": "5993ed54",
   "metadata": {
    "hidden": true
   },
   "source": [
    "A função trace retorna a soma dos elementos da diagonal principal da array."
   ]
  },
  {
   "cell_type": "code",
   "execution_count": null,
   "id": "528950c9",
   "metadata": {
    "hidden": true
   },
   "outputs": [],
   "source": [
    "import numpy as np\n",
    "\n",
    "array = np.array([[1, 2, 3], \n",
    "                  [4, 5, 6], \n",
    "                  [7, 8, 9]])\n",
    "array_trace = np.trace(array)\n",
    "print(array_trace)\n"
   ]
  },
  {
   "cell_type": "markdown",
   "id": "e773224c",
   "metadata": {
    "heading_collapsed": true,
    "hidden": true
   },
   "source": [
    "#### transpose()"
   ]
  },
  {
   "cell_type": "markdown",
   "id": "1fbd67b6",
   "metadata": {
    "hidden": true
   },
   "source": [
    "A função transpose retorna uma nova array com os eixos permutados."
   ]
  },
  {
   "cell_type": "code",
   "execution_count": null,
   "id": "ad072e89",
   "metadata": {
    "hidden": true
   },
   "outputs": [],
   "source": [
    "import numpy as np\n",
    "\n",
    "array = np.array([[1, 2, 3], \n",
    "                  [4, 5, 6]])\n",
    "transposed_array = np.transpose(array)\n",
    "print(transposed_array)"
   ]
  },
  {
   "cell_type": "markdown",
   "id": "07aecb3c",
   "metadata": {
    "heading_collapsed": true,
    "hidden": true
   },
   "source": [
    "#### var()"
   ]
  },
  {
   "cell_type": "markdown",
   "id": "2630b662",
   "metadata": {
    "hidden": true
   },
   "source": [
    "A função var retorna a variância dos elementos da array ao longo de um determinado eixo ou de toda a array."
   ]
  },
  {
   "cell_type": "code",
   "execution_count": null,
   "id": "48eaf7a0",
   "metadata": {
    "hidden": true
   },
   "outputs": [],
   "source": [
    "import numpy as np\n",
    "\n",
    "array = np.array([1, 2, 3, 4, 5])\n",
    "array_var = np.var(array)\n",
    "print(array_var)"
   ]
  },
  {
   "cell_type": "markdown",
   "id": "8dc4e05b",
   "metadata": {
    "heading_collapsed": true,
    "hidden": true
   },
   "source": [
    "#### view()*"
   ]
  },
  {
   "cell_type": "markdown",
   "id": "46ceb484",
   "metadata": {
    "hidden": true
   },
   "source": [
    "O método view retorna uma nova array que é uma visualização (view) da array original, compartilhando os mesmos dados, mas com uma nova forma ou tipo de dado. *Este é um método mais técnico.*"
   ]
  },
  {
   "cell_type": "code",
   "execution_count": null,
   "id": "6eb398bc",
   "metadata": {
    "hidden": true
   },
   "outputs": [],
   "source": [
    "import numpy as np\n",
    "\n",
    "array = np.array([1, 2, 3])\n",
    "array_view = array.view(dtype=np.float32)\n",
    "print(array_view)"
   ]
  },
  {
   "cell_type": "code",
   "execution_count": null,
   "id": "1a6e4f5b",
   "metadata": {
    "hidden": true
   },
   "outputs": [],
   "source": [
    "array = np.array([1.0, 2.0])\n",
    "array_view = array.view(dtype=np.float32)\n",
    "print(array_view)"
   ]
  }
 ],
 "metadata": {
  "kernelspec": {
   "display_name": "Python 3 (ipykernel)",
   "language": "python",
   "name": "python3"
  },
  "language_info": {
   "codemirror_mode": {
    "name": "ipython",
    "version": 3
   },
   "file_extension": ".py",
   "mimetype": "text/x-python",
   "name": "python",
   "nbconvert_exporter": "python",
   "pygments_lexer": "ipython3",
   "version": "3.11.5"
  },
  "varInspector": {
   "cols": {
    "lenName": 16,
    "lenType": 16,
    "lenVar": 40
   },
   "kernels_config": {
    "python": {
     "delete_cmd_postfix": "",
     "delete_cmd_prefix": "del ",
     "library": "var_list.py",
     "varRefreshCmd": "print(var_dic_list())"
    },
    "r": {
     "delete_cmd_postfix": ") ",
     "delete_cmd_prefix": "rm(",
     "library": "var_list.r",
     "varRefreshCmd": "cat(var_dic_list()) "
    }
   },
   "types_to_exclude": [
    "module",
    "function",
    "builtin_function_or_method",
    "instance",
    "_Feature"
   ],
   "window_display": false
  }
 },
 "nbformat": 4,
 "nbformat_minor": 5
}
