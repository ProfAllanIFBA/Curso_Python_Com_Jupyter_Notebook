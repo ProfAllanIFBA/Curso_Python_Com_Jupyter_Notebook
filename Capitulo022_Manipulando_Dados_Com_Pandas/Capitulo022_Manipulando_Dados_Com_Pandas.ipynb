{
 "cells": [
  {
   "cell_type": "markdown",
   "id": "b42396bc",
   "metadata": {},
   "source": [
    "<center> <img src=\"logo_ifba.jpg\" alt=\"jpg_python\" width=\"100\" height=\"\"> </center>\n",
    "<br><br>\n",
    "<center> <img src=\"logo_coext.jpg\" alt=\"jpg_python\" width=\"200\" height=\"\"> </center>\n",
    "<br><br>\n",
    "<center><div style=\"text-align:center\">    <a href=\"https://colab.research.google.com/github/ProfAllanIFBA/Curso_Python_Com_Jupyter_Notebook/blob/main/Capitulo022_Manipulando_Dados_Com_Pandas/Capitulo022_Manipulando_Dados_Com_Pandas.ipynb\">Link Colab</a> \n",
    "</div><br><br></center>\n",
    "<div align=\"center\"><span style=\"font-size: 26px;\"><strong>Python Com Jupyter Notebook</strong></span></div><br><br>\n",
    "<center> <img src=\"python_gif.gif\" alt=\"gif_python\" width=\"80\"> </center>"
   ]
  },
  {
   "cell_type": "markdown",
   "id": "b6bf92b8",
   "metadata": {},
   "source": [
    "Este material apresenta uma explicação detalhada sobre o uso do software de programação em Python chamado Jupyter Notebook, com foco na análise de dados. Abordaremos desde estruturas básicas, como listas e dicionários, até estruturas mais complexas voltadas para a análise de dados, como pandas e seaborn, além de ferramentas destinadas à inteligência artificial.\n",
    "\n",
    "\n",
    "<font color='red'> <u>Este é um material de uso público e totalmente gratuito</u>. Contudo, eventuais edições são de responsabilidade de quem as fizer. </font>\n",
    "\n",
    "Você pode ajudar a melhorar este material!\n",
    "\n",
    "Contato e Sugestões: allansoares@ifba.edu.br.\n",
    "\n",
    "[**Equipe Executora**](https://github.com/Allanifba/Curso_Python_Com_Jupyter_Notebook/blob/main/Capitulo000_Equipe/Capitulo000_Equipe.ipynb)"
   ]
  },
  {
   "cell_type": "markdown",
   "id": "debae4f1",
   "metadata": {},
   "source": [
    "### <center> <font color='red'> Vídeo Aulas <img src=\"youtube.gif\" alt=\"jpg_python\" width=\"100\" height=\"\"> </font> </center>"
   ]
  },
  {
   "cell_type": "markdown",
   "id": "bd6d7ff0",
   "metadata": {},
   "source": [
    "[Biblioteca Pandas no Python](https://youtu.be/6HWRFFd8FXo)\n",
    "\n",
    "[Analisando um DataFrame com a Função Describe no Python](https://youtu.be/8NNKhidLbmE)\n",
    "\n",
    "[Criando e Analisando SubDataFrame no Python](https://youtu.be/IsObCg_SQE0)\n",
    "\n",
    "[Análise de DataFrames Utilizando Operadores Booleanos no Python](https://youtu.be/2vzyxITl3n4)\n",
    "\n",
    "[Agrupamento de Dados Utilizando Group By no Python](https://youtu.be/ohSmcBwJfuo)\n",
    "\n",
    "[Mudança de Dados Com a Função replace no Python](https://youtu.be/jd7Aqpno6Bs)\n",
    "\n",
    "[Exibindo e Alterando Dados em Um DataFrame no Python](https://youtu.be/61snhOTkqUo)\n",
    "\n",
    "[Métodos e Recursos Para Trabalhar com Dados Usando Pandas no Python - Parte 1](https://youtu.be/BKo0N015xNc)"
   ]
  },
  {
   "cell_type": "markdown",
   "id": "c0c4b8a6",
   "metadata": {},
   "source": [
    "<div style=\"border: 2px solid black; padding: 10px; width: 100%; background-color: lightgray; display: flex; align-items: center;\">\n",
    "    <h1 style=\"color: red; text-align: center; margin: auto;\">\n",
    "        Capítulo 22 - Manipulando Dados Com Pandas\n",
    "    </h1>\n",
    "</div>\n",
    "\n",
    "<font color='red'></font>\n",
    "<a href=\"\"></a>"
   ]
  },
  {
   "cell_type": "markdown",
   "id": "828e8c4d",
   "metadata": {},
   "source": [
    "<u>Pandas</u>, que é um acrônimo para Panel Data, é uma biblioteca de software criada para manipulação e análise de dados em Python. Ela fornece estruturas de dados de alto desempenho e fáceis de usar, como as DataFrames, que são essencialmente tabelas bidimensionais, e as Series, que são arrays unidimensionais. Pandas é extremamente útil quando os dados a serem analisados estão em formatos tabulares ou estruturados, como CSV, Excel ou bancos de dados SQL, pois fornece uma interface intuitiva e poderosa para manipulação e operação com esses tipos de dados."
   ]
  },
  {
   "cell_type": "markdown",
   "id": "edd45034",
   "metadata": {},
   "source": [
    "## <div style=\"margin-top: -20px;\">\n",
    "<hr style=\"border: 2px solid blue;\">\n",
    "\n",
    "<font color='blue'><span style=\"font-size: 22px;\"><strong>22.1 Construindo e Manipulando Um DataFrame</strong></span></font>\n",
    "\n",
    "<hr style=\"border: 2px solid blue;\">\n",
    "</div>"
   ]
  },
  {
   "cell_type": "markdown",
   "id": "ed72c89a",
   "metadata": {},
   "source": [
    "### <div style=\"margin-top: -20px;\">\n",
    "<hr style=\"border: 2px solid blue;\">\n",
    "\n",
    "<font color='blue'><span style=\"font-size: 18px;\"><strong>22.1.1 Instalação da Biblioteca Pandas</strong></span></font>\n",
    "\n",
    "<hr style=\"border: 2px solid blue;\">\n",
    "</div>"
   ]
  },
  {
   "cell_type": "code",
   "execution_count": null,
   "id": "b29551e5",
   "metadata": {
    "ExecuteTime": {
     "end_time": "2023-07-03T21:55:46.853935Z",
     "start_time": "2023-07-03T21:55:31.226533Z"
    }
   },
   "outputs": [],
   "source": [
    "# Instalando a biblioteca pandas\n",
    "!pip install pandas"
   ]
  },
  {
   "cell_type": "markdown",
   "id": "8f7b9a3e",
   "metadata": {},
   "source": [
    "### <div style=\"margin-top: -20px;\">\n",
    "<hr style=\"border: 2px solid blue;\">\n",
    "\n",
    "<font color='blue'><span style=\"font-size: 18px;\"><strong>22.1.2 Transformando Um Dicionário em Um Data Frame</strong></span></font>\n",
    "\n",
    "<hr style=\"border: 2px solid blue;\">\n",
    "</div>"
   ]
  },
  {
   "cell_type": "markdown",
   "id": "26d100de",
   "metadata": {},
   "source": [
    "Veremos a seguir como transformarmos dados em um formato de dicionário em um dataframe. Essa conversão é útil quando queremos analisar e manipular os dados de forma tabular, aplicar operações estatísticas e explorar diferentes funcionalidades oferecidas pelo pandas."
   ]
  },
  {
   "cell_type": "markdown",
   "id": "e82ea8cf",
   "metadata": {},
   "source": [
    "#### *Exemplo: Visualização pandas de um dicionário*"
   ]
  },
  {
   "cell_type": "code",
   "execution_count": null,
   "id": "826fa11e",
   "metadata": {
    "ExecuteTime": {
     "end_time": "2023-07-03T22:00:19.077597Z",
     "start_time": "2023-07-03T22:00:18.637952Z"
    }
   },
   "outputs": [],
   "source": [
    "# Importando a biblioteca pandas\n",
    "import pandas as pd"
   ]
  },
  {
   "cell_type": "code",
   "execution_count": null,
   "id": "b4e76cc5",
   "metadata": {},
   "outputs": [],
   "source": [
    "# Dicionário com modelos de carros e alguns dados\n",
    "carros = {'Modelo': ['Fusca', 'Gol', 'Uno', 'Celta', 'Palio'],\n",
    "          'Ano': [2000, 2004, 2006, 2010, 2013], \n",
    "          'Quilometragem': [150000, 120000, 110000, 80000, 60000], \n",
    "          'Preço': [5000, 10000, 12000, 15000, 20000]}"
   ]
  },
  {
   "cell_type": "code",
   "execution_count": null,
   "id": "0638b869",
   "metadata": {
    "ExecuteTime": {
     "end_time": "2023-07-03T22:00:19.657291Z",
     "start_time": "2023-07-03T22:00:19.657291Z"
    }
   },
   "outputs": [],
   "source": [
    "# Impressão do dicionário em formato padrão\n",
    "print(carros)"
   ]
  },
  {
   "cell_type": "code",
   "execution_count": null,
   "id": "8cd06ec5",
   "metadata": {},
   "outputs": [],
   "source": [
    "# Exibiçãoo do dicionário em formato padrão\n",
    "carros"
   ]
  },
  {
   "cell_type": "code",
   "execution_count": null,
   "id": "205bac0d",
   "metadata": {
    "ExecuteTime": {
     "end_time": "2023-07-03T22:00:19.803840Z",
     "start_time": "2023-07-03T22:00:19.763947Z"
    }
   },
   "outputs": [],
   "source": [
    "# Contruindo a tabela associada aos carros\n",
    "tabela_carros = pd.DataFrame(carros)"
   ]
  },
  {
   "cell_type": "code",
   "execution_count": null,
   "id": "5d7bd001",
   "metadata": {
    "ExecuteTime": {
     "end_time": "2023-07-03T22:00:20.705105Z",
     "start_time": "2023-07-03T22:00:20.635974Z"
    }
   },
   "outputs": [],
   "source": [
    "# Exibindo o data frame\n",
    "tabela_carros"
   ]
  },
  {
   "cell_type": "code",
   "execution_count": null,
   "id": "45c0fa45",
   "metadata": {
    "ExecuteTime": {
     "end_time": "2023-07-03T22:00:25.097952Z",
     "start_time": "2023-07-03T22:00:25.091945Z"
    },
    "scrolled": true
   },
   "outputs": [],
   "source": [
    "# Impressão do data frame usando o comando print\n",
    "print(tabela_carros)"
   ]
  },
  {
   "cell_type": "markdown",
   "id": "037f18b4",
   "metadata": {},
   "source": [
    "### <div style=\"margin-top: -20px;\">\n",
    "<hr style=\"border: 2px solid blue;\">\n",
    "\n",
    "<font color='blue'><span style=\"font-size: 18px;\"><strong>22.1.3 Exibindo Elementos de Um Data Frame</strong></span></font>\n",
    "\n",
    "<hr style=\"border: 2px solid blue;\">\n",
    "</div>"
   ]
  },
  {
   "cell_type": "markdown",
   "id": "dfdcbf29",
   "metadata": {},
   "source": [
    "#### *Exemplo 1: Consultando chaves, valores e tipos de dados de um data frame*"
   ]
  },
  {
   "cell_type": "code",
   "execution_count": null,
   "id": "63bcda24",
   "metadata": {
    "ExecuteTime": {
     "end_time": "2023-07-03T22:00:28.695968Z",
     "start_time": "2023-07-03T22:00:28.685996Z"
    }
   },
   "outputs": [],
   "source": [
    "# Importando a biblioteca pandas\n",
    "import pandas as pd\n",
    "\n",
    "# Dicionário com modelos de carros e alguns dados\n",
    "carros = {'Modelo': ['Fusca', 'Gol', 'Uno', 'Celta', 'Palio'], \n",
    "         'Ano': [2000, 2004, 2006, 2010, 2013], \n",
    "         'Quilometragem': [150000, 120000, 110000, 80000, 60000], \n",
    "         'Preço': [5000, 10000, 12000, 15000, 20000]}\n",
    "\n",
    "# Contruindo a tabela associada aos carros\n",
    "tabela_carros = pd.DataFrame(carros)\n",
    "\n",
    "# Exibindo o data frame\n",
    "tabela_carros"
   ]
  },
  {
   "cell_type": "code",
   "execution_count": null,
   "id": "98c5bd11",
   "metadata": {
    "ExecuteTime": {
     "end_time": "2023-07-03T22:00:29.513990Z",
     "start_time": "2023-07-03T22:00:29.507982Z"
    }
   },
   "outputs": [],
   "source": [
    "# Acessando os valores do dataframe\n",
    "tabela_carros.values"
   ]
  },
  {
   "cell_type": "code",
   "execution_count": null,
   "id": "4e76c055",
   "metadata": {
    "ExecuteTime": {
     "end_time": "2023-07-03T22:00:30.235920Z",
     "start_time": "2023-07-03T22:00:30.228938Z"
    }
   },
   "outputs": [],
   "source": [
    "# Obtendo os tipos de dados de cada coluna do dataframe\n",
    "tabela_carros.dtypes"
   ]
  },
  {
   "cell_type": "code",
   "execution_count": null,
   "id": "adb53d7e",
   "metadata": {
    "ExecuteTime": {
     "end_time": "2023-07-03T22:00:30.768860Z",
     "start_time": "2023-07-03T22:00:30.763850Z"
    }
   },
   "outputs": [],
   "source": [
    "# Obtendo os nomes das colunas do dataframe\n",
    "tabela_carros.columns"
   ]
  },
  {
   "cell_type": "code",
   "execution_count": null,
   "id": "d99a9612",
   "metadata": {},
   "outputs": [],
   "source": [
    "print(list(tabela_carros.columns))"
   ]
  },
  {
   "cell_type": "markdown",
   "id": "c5a33336",
   "metadata": {},
   "source": [
    "#### *Exemplo 2: Exibindo e reordenando de colunas de um data frame*"
   ]
  },
  {
   "cell_type": "code",
   "execution_count": null,
   "id": "98ab1d61",
   "metadata": {
    "ExecuteTime": {
     "end_time": "2023-07-03T22:00:32.185947Z",
     "start_time": "2023-07-03T22:00:32.179965Z"
    }
   },
   "outputs": [],
   "source": [
    "# Importando a biblioteca pandas\n",
    "import pandas as pd\n",
    "\n",
    "# Dicionário com modelos de carros e alguns dados\n",
    "carros = {'Modelo': ['Fusca', 'Gol', 'Uno', 'Celta', 'Palio'], \n",
    "         'Ano': [2000, 2004, 2006, 2010, 2013], \n",
    "         'Quilometragem': [150000, 120000, 110000, 80000, 60000], \n",
    "         'Preço': [5000, 10000, 12000, 15000, 20000]}\n",
    "\n",
    "# Contruindo a tabela associada aos carros\n",
    "tabela_carros = pd.DataFrame(carros)"
   ]
  },
  {
   "cell_type": "code",
   "execution_count": null,
   "id": "be686b3b",
   "metadata": {
    "ExecuteTime": {
     "end_time": "2023-07-03T22:00:32.908839Z",
     "start_time": "2023-07-03T22:00:32.867948Z"
    }
   },
   "outputs": [],
   "source": [
    "# Exibindo apenas as colunas 'Modelo' e 'Ano'\n",
    "tabela_carros[['Modelo', 'Preço']]"
   ]
  },
  {
   "cell_type": "code",
   "execution_count": null,
   "id": "41b19bf4",
   "metadata": {
    "ExecuteTime": {
     "end_time": "2023-07-03T22:00:33.482921Z",
     "start_time": "2023-07-03T22:00:33.467966Z"
    }
   },
   "outputs": [],
   "source": [
    "# Reordenando colunas\n",
    "tabela_carros[['Modelo', 'Preço', 'Quilometragem', 'Ano']]"
   ]
  },
  {
   "cell_type": "markdown",
   "id": "da96cb74",
   "metadata": {},
   "source": [
    "#### *Exemplo 3: Exibindo linhas de um data frame*"
   ]
  },
  {
   "cell_type": "code",
   "execution_count": null,
   "id": "3d75a809",
   "metadata": {
    "ExecuteTime": {
     "end_time": "2023-07-03T22:00:35.937928Z",
     "start_time": "2023-07-03T22:00:35.931919Z"
    }
   },
   "outputs": [],
   "source": [
    "import pandas as pd\n",
    "\n",
    "# Dicionário com modelos de carros e alguns dados\n",
    "carros = {'Modelo': ['Fusca', 'Gol', 'Uno', 'Celta', 'Palio'], \n",
    "         'Ano': [2000, 2004, 2006, 2010, 2013], \n",
    "         'Quilometragem': [150000, 120000, 110000, 80000, 60000], \n",
    "         'Preço': [5000, 10000, 12000, 15000, 20000]}\n",
    "\n",
    "# Contruindo a tabela associada aos carros\n",
    "tabela_carros = pd.DataFrame(carros)"
   ]
  },
  {
   "cell_type": "code",
   "execution_count": null,
   "id": "58918710",
   "metadata": {
    "ExecuteTime": {
     "end_time": "2023-07-03T22:00:36.629987Z",
     "start_time": "2023-07-03T22:00:36.619990Z"
    }
   },
   "outputs": [],
   "source": [
    "# Exibindo todo o data frame\n",
    "tabela_carros"
   ]
  },
  {
   "cell_type": "code",
   "execution_count": null,
   "id": "d4f3969c",
   "metadata": {},
   "outputs": [],
   "source": [
    "# Exibindo os dados referentes a uma linha\n",
    "\n",
    "linha = tabela_carros.iloc[1]\n",
    "\n",
    "pd.DataFrame(linha)"
   ]
  },
  {
   "cell_type": "code",
   "execution_count": null,
   "id": "b59d3826",
   "metadata": {
    "ExecuteTime": {
     "end_time": "2023-07-03T22:00:37.096132Z",
     "start_time": "2023-07-03T22:00:37.085022Z"
    }
   },
   "outputs": [],
   "source": [
    "# Exibindo algumas linhas do data frame\n",
    "tabela_carros[1:4]"
   ]
  },
  {
   "cell_type": "code",
   "execution_count": null,
   "id": "2779186a",
   "metadata": {
    "ExecuteTime": {
     "end_time": "2023-07-03T22:00:37.554941Z",
     "start_time": "2023-07-03T22:00:37.547963Z"
    }
   },
   "outputs": [],
   "source": [
    "# Obtendo os índices do dataframe\n",
    "tabela_carros.index"
   ]
  },
  {
   "cell_type": "code",
   "execution_count": null,
   "id": "1ba2ded0",
   "metadata": {
    "ExecuteTime": {
     "end_time": "2023-07-03T22:00:38.078927Z",
     "start_time": "2023-07-03T22:00:38.068930Z"
    }
   },
   "outputs": [],
   "source": [
    "# Filtrando o dataframe pelo índice\n",
    "tabela_carros.filter(items=[2], axis=0)"
   ]
  },
  {
   "cell_type": "markdown",
   "id": "6a1c931e",
   "metadata": {
    "ExecuteTime": {
     "end_time": "2023-06-19T22:07:53.842689Z",
     "start_time": "2023-06-19T22:07:53.834711Z"
    }
   },
   "source": [
    "### <div style=\"margin-top: -20px;\">\n",
    "<hr style=\"border: 2px solid blue;\">\n",
    "\n",
    "<font color='blue'><span style=\"font-size: 18px;\"><strong>22.1.4 Editando Um Data Frame</strong></span></font>\n",
    "\n",
    "<hr style=\"border: 2px solid blue;\">\n",
    "</div>"
   ]
  },
  {
   "cell_type": "markdown",
   "id": "1f6eb733",
   "metadata": {},
   "source": [
    "#### *Exemplo: Acrescentando novas colunas em um datraframe*"
   ]
  },
  {
   "cell_type": "code",
   "execution_count": null,
   "id": "0db7391a",
   "metadata": {
    "ExecuteTime": {
     "end_time": "2023-07-03T22:01:10.785148Z",
     "start_time": "2023-07-03T22:01:10.778160Z"
    }
   },
   "outputs": [],
   "source": [
    "import pandas as pd\n",
    "\n",
    "# Dicionário com modelos de carros e alguns dados\n",
    "carros = {\n",
    "    'Modelo': ['Fusca', 'Gol', 'Uno', 'Celta', 'Palio'],\n",
    "    'Ano': [2000, 2004, 2006, 2010, 2013],\n",
    "    'Quilometragem': [150000, 120000, 110000, 80000, 60000],\n",
    "    'Preço': [5000, 10000, 12000, 15000, 20000],\n",
    "    'Cor': ['Branco', 'Prata', 'Vermelho', 'Azul', 'Preto'],\n",
    "    'Combustível': ['Gasolina', 'Flex', 'Álcool', 'Flex', 'Flex']}\n",
    "\n",
    "# Contruindo a tabela associada aos carros\n",
    "tabela_carros = pd.DataFrame(carros)"
   ]
  },
  {
   "cell_type": "code",
   "execution_count": null,
   "id": "dfa10ca7",
   "metadata": {
    "ExecuteTime": {
     "end_time": "2023-07-03T22:01:12.811817Z",
     "start_time": "2023-07-03T22:01:12.801844Z"
    }
   },
   "outputs": [],
   "source": [
    "# Exibindo o data frame\n",
    "tabela_carros"
   ]
  },
  {
   "cell_type": "code",
   "execution_count": null,
   "id": "763608d1",
   "metadata": {
    "ExecuteTime": {
     "end_time": "2023-07-03T22:01:18.528462Z",
     "start_time": "2023-07-03T22:01:18.521477Z"
    }
   },
   "outputs": [],
   "source": [
    "# Criando outro dataframe com os mesmo dados anteriores mais um novo atributo 'Cor'\n",
    "tabela_carros = pd.DataFrame(carros, \n",
    "                columns = [ 'Modelo', 'Preço', 'Quilometragem','Cor',  'Ano'])"
   ]
  },
  {
   "cell_type": "code",
   "execution_count": null,
   "id": "652b5476",
   "metadata": {
    "ExecuteTime": {
     "end_time": "2023-07-03T22:01:20.231019Z",
     "start_time": "2023-07-03T22:01:20.226032Z"
    }
   },
   "outputs": [],
   "source": [
    "# Inserindo as cores relacionadas ao atributo 'Cor'\n",
    "tabela_carros['Cor'] = ['Preto', 'Azul', 'Vermelho', 'Prata', 'Branco']"
   ]
  },
  {
   "cell_type": "code",
   "execution_count": null,
   "id": "a2052c52",
   "metadata": {
    "ExecuteTime": {
     "end_time": "2023-07-03T22:01:21.651906Z",
     "start_time": "2023-07-03T22:01:21.641921Z"
    }
   },
   "outputs": [],
   "source": [
    "# Exibindo o data frame atualizado com o novo atributo 'Cor'\n",
    "tabela_carros"
   ]
  },
  {
   "cell_type": "code",
   "execution_count": null,
   "id": "1cc4c327",
   "metadata": {
    "ExecuteTime": {
     "end_time": "2023-07-03T22:01:23.613290Z",
     "start_time": "2023-07-03T22:01:23.609298Z"
    }
   },
   "outputs": [],
   "source": [
    "# Mudando um dado cor para '-'\n",
    "tabela_carros['Cor'] = ['Preto', 'Azul', 'Vermelho', 'Prata', '-']"
   ]
  },
  {
   "cell_type": "code",
   "execution_count": null,
   "id": "0ba50c3f",
   "metadata": {
    "ExecuteTime": {
     "end_time": "2023-07-03T22:01:24.810223Z",
     "start_time": "2023-07-03T22:01:24.801247Z"
    }
   },
   "outputs": [],
   "source": [
    "# Exibindo o data frame atualizado com a cor atualizada de 'Branco' para '-'(cor não especificada)\n",
    "tabela_carros"
   ]
  },
  {
   "cell_type": "markdown",
   "id": "e86d8c86",
   "metadata": {},
   "source": [
    "## <div style=\"margin-top: -20px;\">\n",
    "<hr style=\"border: 2px solid blue;\">\n",
    "\n",
    "<font color='blue'><span style=\"font-size: 22px;\"><strong>22.2 Analisando Dados em Um Data Frame</strong></span></font>\n",
    "\n",
    "<hr style=\"border: 2px solid blue;\">\n",
    "</div>"
   ]
  },
  {
   "cell_type": "markdown",
   "id": "1c2a2467",
   "metadata": {
    "ExecuteTime": {
     "end_time": "2023-06-19T22:35:50.854966Z",
     "start_time": "2023-06-19T22:35:50.845990Z"
    }
   },
   "source": [
    "### <div style=\"margin-top: -20px;\">\n",
    "<hr style=\"border: 2px solid blue;\">\n",
    "\n",
    "<font color='blue'><span style=\"font-size: 18px;\"><strong>22.2.1 Analisando Dados em Um Data Frame Com a Função describe()</strong></span></font>\n",
    "\n",
    "<hr style=\"border: 2px solid blue;\">\n",
    "</div>"
   ]
  },
  {
   "cell_type": "markdown",
   "id": "d151a886",
   "metadata": {},
   "source": [
    "A função <u>describe()</u> do pandas é uma ferramenta poderosa para fornecer estatísticas descritivas sobre um DataFrame. Ela calcula várias medidas estatísticas resumidas, incluindo contagem, média, desvio padrão, valores mínimo e máximo e quartis."
   ]
  },
  {
   "cell_type": "markdown",
   "id": "fb13da0b",
   "metadata": {},
   "source": [
    "#### *Exemplo 1: Exemplo básico*"
   ]
  },
  {
   "cell_type": "code",
   "execution_count": null,
   "id": "91ae69cf",
   "metadata": {
    "ExecuteTime": {
     "end_time": "2023-07-03T22:01:28.917359Z",
     "start_time": "2023-07-03T22:01:28.906364Z"
    }
   },
   "outputs": [],
   "source": [
    "# Importando a biblioteca pandas\n",
    "import pandas as pd\n",
    "\n",
    "# Dicionário com modelos de carros e alguns dados\n",
    "carros = {'Modelo': ['Fusca', 'Gol', 'Uno', 'Celta', 'Palio'], \n",
    "         'Ano': [2000, 2004, 2006, 2010, 2013], \n",
    "         'Quilometragem': [150000, 120000, 110000, 80000, 60000], \n",
    "         'Preço': [5000, 10000, 12000, 15000, 20000]}\n",
    "\n",
    "# Contruindo a tabela associada aos carros\n",
    "tabela_carros = pd.DataFrame(carros)\n",
    "\n",
    "# Exibindo o data frame\n",
    "tabela_carros"
   ]
  },
  {
   "cell_type": "code",
   "execution_count": null,
   "id": "dac16354",
   "metadata": {
    "ExecuteTime": {
     "end_time": "2023-07-03T22:01:31.695418Z",
     "start_time": "2023-07-03T22:01:31.665494Z"
    }
   },
   "outputs": [],
   "source": [
    "# Aplicando a função describe() no rótulo 'Preço'\n",
    "preco_descricao = tabela_carros['Preço'].describe()\n",
    "pd.DataFrame(preco_descricao)"
   ]
  },
  {
   "cell_type": "code",
   "execution_count": null,
   "id": "c67aa371",
   "metadata": {
    "ExecuteTime": {
     "end_time": "2023-07-03T22:01:33.836496Z",
     "start_time": "2023-07-03T22:01:33.825503Z"
    }
   },
   "outputs": [],
   "source": [
    "# Aplicando a função describe() no rótulo 'Quilometragem'\n",
    "quilometragem_descricao = tabela_carros['Quilometragem'].describe()\n",
    "pd.DataFrame(quilometragem_descricao)"
   ]
  },
  {
   "cell_type": "markdown",
   "id": "188e2135",
   "metadata": {},
   "source": [
    "#### *Exemplo 2: Visualizando dados em formato csv extraídos da net usando pandas*"
   ]
  },
  {
   "cell_type": "markdown",
   "id": "6b8ae880",
   "metadata": {},
   "source": [
    "Os dados do presente exemplo (\"Automobile.csv\") encontram-se disponíveis em https://www.kaggle.com/datasets/tawfikelmetwally/automobile-dataset. Caso ele já esteja no mesma pasta que este arquivo não recisa baixar."
   ]
  },
  {
   "cell_type": "code",
   "execution_count": null,
   "id": "e5e427c8",
   "metadata": {
    "ExecuteTime": {
     "end_time": "2023-07-03T22:02:04.176752Z",
     "start_time": "2023-07-03T22:02:04.148808Z"
    }
   },
   "outputs": [],
   "source": [
    "# Importando do arquivo a ser analisado\n",
    "tabela_auto = pd.read_csv(\"Automobile.csv\")"
   ]
  },
  {
   "cell_type": "code",
   "execution_count": null,
   "id": "7d535591",
   "metadata": {
    "ExecuteTime": {
     "end_time": "2023-07-03T22:02:05.811010Z",
     "start_time": "2023-07-03T22:02:05.797041Z"
    },
    "scrolled": true
   },
   "outputs": [],
   "source": [
    "# Exibindo algumas linhas do arquivo Automobile.csv\n",
    "tabela_auto.head()"
   ]
  },
  {
   "cell_type": "code",
   "execution_count": null,
   "id": "1ce6b089",
   "metadata": {
    "ExecuteTime": {
     "end_time": "2023-07-03T22:02:06.764711Z",
     "start_time": "2023-07-03T22:02:06.723822Z"
    }
   },
   "outputs": [],
   "source": [
    "# Aplicando a função describe() aos dados do arquivo Automobile.csv\n",
    "tabela_auto.describe()"
   ]
  },
  {
   "cell_type": "code",
   "execution_count": null,
   "id": "c88c22cf",
   "metadata": {
    "ExecuteTime": {
     "end_time": "2023-07-03T22:02:08.637696Z",
     "start_time": "2023-07-03T22:02:08.491820Z"
    },
    "scrolled": true
   },
   "outputs": [],
   "source": [
    "# Configurar o número máximo de linhas a serem exibidas\n",
    "pd.set_option('display.max_rows', None)\n",
    "tabela_auto.head(398)"
   ]
  },
  {
   "cell_type": "markdown",
   "id": "f8036319",
   "metadata": {},
   "source": [
    "#### *Exemplo 3: Obtendo o valor mais frequente de um rótulo (moda)*"
   ]
  },
  {
   "cell_type": "markdown",
   "id": "553e4d3c",
   "metadata": {},
   "source": [
    "A <u>moda</u> é um conceito estatístico que representa o valor ou valores que ocorrem com maior frequência em um conjunto de dados. Em outras palavras, a moda é o valor mais comum ou popular em um conjunto de observações. É uma medida de tendência central que complementa outras medidas como média e mediana."
   ]
  },
  {
   "cell_type": "code",
   "execution_count": null,
   "id": "58d4e20f",
   "metadata": {
    "ExecuteTime": {
     "end_time": "2023-07-03T22:02:10.918521Z",
     "start_time": "2023-07-03T22:02:10.772851Z"
    },
    "code_folding": []
   },
   "outputs": [],
   "source": [
    "# Importando do arquivo a ser analisado\n",
    "tabela_auto = pd.read_csv(\"Automobile.csv\")\n",
    "\n",
    "# Configurar o número máximo de linhas do arquivo 'Automobile,csv' a serem exibidas\n",
    "pd.set_option('display.max_rows', None)\n",
    "\n",
    "\n",
    "# Lendo n linhas do arquivo Automobile\n",
    "tabela_auto.head(398)"
   ]
  },
  {
   "cell_type": "code",
   "execution_count": null,
   "id": "56dacdba",
   "metadata": {
    "ExecuteTime": {
     "end_time": "2023-07-03T22:02:11.736880Z",
     "start_time": "2023-07-03T22:02:11.726903Z"
    }
   },
   "outputs": [],
   "source": [
    "# Aplicando a função describe() somente ao rótulo 'cylinders'\n",
    "cylinders = tabela_auto['cylinders'].describe()\n",
    "pd.DataFrame(cylinders)"
   ]
  },
  {
   "cell_type": "code",
   "execution_count": null,
   "id": "b6b62923",
   "metadata": {
    "ExecuteTime": {
     "end_time": "2023-07-03T22:02:12.358767Z",
     "start_time": "2023-07-03T22:02:12.349814Z"
    }
   },
   "outputs": [],
   "source": [
    "# Exibindo as quantidades de cilindros de cada tipo\n",
    "quant_cylinders = tabela_auto['cylinders'].value_counts()\n",
    "pd.DataFrame(quant_cylinders)"
   ]
  },
  {
   "cell_type": "code",
   "execution_count": null,
   "id": "6619b4cc",
   "metadata": {
    "ExecuteTime": {
     "end_time": "2023-07-03T22:02:12.875179Z",
     "start_time": "2023-07-03T22:02:12.869194Z"
    }
   },
   "outputs": [],
   "source": [
    "# Extraímos a quantidade de cilindros mais frequente (moda)\n",
    "moda_cylinders = tabela_auto['cylinders'].value_counts().index[0]\n",
    "print(moda_cylinders)"
   ]
  },
  {
   "cell_type": "code",
   "execution_count": null,
   "id": "ae61cd26",
   "metadata": {
    "ExecuteTime": {
     "end_time": "2023-07-03T22:02:13.578809Z",
     "start_time": "2023-07-03T22:02:13.572825Z"
    }
   },
   "outputs": [],
   "source": [
    "# Extraímos a segunda maior quantidade de cilindros mais frequente\n",
    "moda_cylinders = tabela_auto['cylinders'].value_counts().index[2]\n",
    "print(moda_cylinders)"
   ]
  },
  {
   "cell_type": "markdown",
   "id": "7d895080",
   "metadata": {},
   "source": [
    "*Note que a moda pode não ser tão representativa quanto outras medidas de tendência central, como a média e a mediana, especialmente em distribuições assimétricas ou quando há valores extremos. É importante ter em mente que a moda é sensível à frequência dos valores, mas não leva em consideração a magnitude dos mesmos. Portanto, é essencial avaliar o contexto e os objetivos da análise estatística ao escolher a medida mais adequada de tendência central.*"
   ]
  },
  {
   "cell_type": "markdown",
   "id": "41478978",
   "metadata": {
    "ExecuteTime": {
     "end_time": "2023-06-20T14:05:44.530417Z",
     "start_time": "2023-06-20T14:05:44.525453Z"
    }
   },
   "source": [
    "### <div style=\"margin-top: -20px;\">\n",
    "<hr style=\"border: 2px solid blue;\">\n",
    "\n",
    "<font color='blue'><span style=\"font-size: 18px;\"><strong>22.2.2 Criando e Analisando Subdataframes</strong></span></font>\n",
    "\n",
    "<hr style=\"border: 2px solid blue;\">\n",
    "</div>"
   ]
  },
  {
   "cell_type": "markdown",
   "id": "399e2116",
   "metadata": {},
   "source": [
    "Podemos criar subdataframes a partir de um dataframe original para extrair e trabalhar com partes específicas dos dados. Essa abordagem é útil quando desejamos segmentar o conjunto de dados com base em determinados critérios ou filtrar apenas as informações relevantes para uma análise específica."
   ]
  },
  {
   "cell_type": "markdown",
   "id": "6cade57a",
   "metadata": {
    "ExecuteTime": {
     "end_time": "2023-06-20T15:04:53.568602Z",
     "start_time": "2023-06-20T15:04:53.563839Z"
    }
   },
   "source": [
    "#### *Exemplo 1: Filtrando linhas com ocorrências de determinado valor de um rótulo* "
   ]
  },
  {
   "cell_type": "code",
   "execution_count": null,
   "id": "7eb1e6e3",
   "metadata": {},
   "outputs": [],
   "source": [
    "# Importando do arquivo a ser analisado\n",
    "tabela_auto = pd.read_csv(\"Automobile.csv\")\n",
    "\n",
    "# Configurar o número máximo de linhas do arquivo 'Automobile,csv' a serem exibidas\n",
    "pd.set_option('display.max_rows', None)\n",
    "\n",
    "\n",
    "# Lendo n linhas do arquivo Automobile\n",
    "tabela_auto.head(398)"
   ]
  },
  {
   "cell_type": "code",
   "execution_count": null,
   "id": "af9090e7",
   "metadata": {
    "ExecuteTime": {
     "end_time": "2023-07-03T22:02:16.056435Z",
     "start_time": "2023-07-03T22:02:16.029488Z"
    }
   },
   "outputs": [],
   "source": [
    "# Procurando um valor específico de 'horsepower' (saída booleana)\n",
    "tabela_auto['horsepower'].isin([150.0])"
   ]
  },
  {
   "cell_type": "code",
   "execution_count": null,
   "id": "646dd717",
   "metadata": {
    "ExecuteTime": {
     "end_time": "2023-07-03T22:02:16.819761Z",
     "start_time": "2023-07-03T22:02:16.797820Z"
    }
   },
   "outputs": [],
   "source": [
    "# Procurando linhas contendo um valor específico de 'horsepower'\n",
    "tabela_auto[tabela_auto['horsepower'].isin([150.0])]"
   ]
  },
  {
   "cell_type": "code",
   "execution_count": null,
   "id": "33c3aec6",
   "metadata": {
    "ExecuteTime": {
     "end_time": "2023-07-03T22:02:17.537675Z",
     "start_time": "2023-07-03T22:02:17.516730Z"
    }
   },
   "outputs": [],
   "source": [
    "# Procurando linhas contendo dois valores específicos de 'horsepower'\n",
    "tabela_auto[tabela_auto['horsepower'].isin([150.0,170.0])]"
   ]
  },
  {
   "cell_type": "code",
   "execution_count": null,
   "id": "99d03586",
   "metadata": {
    "ExecuteTime": {
     "end_time": "2023-07-03T22:02:18.622776Z",
     "start_time": "2023-07-03T22:02:18.605861Z"
    }
   },
   "outputs": [],
   "source": [
    "# Exibindo as 15 primeiras linhas contendo dois valores específicos de 'horsepower'\n",
    "tabela_auto[tabela_auto['horsepower'].isin([150.0,170.0])][:15]"
   ]
  },
  {
   "cell_type": "code",
   "execution_count": null,
   "id": "7938d2f6",
   "metadata": {
    "ExecuteTime": {
     "end_time": "2023-07-03T22:02:22.093762Z",
     "start_time": "2023-07-03T22:02:22.076785Z"
    }
   },
   "outputs": [],
   "source": [
    "# Exibindo da linha 6 à linha 15 contendo dois valores específicos de 'horsepower'\n",
    "tabela_auto[tabela_auto['horsepower'].isin([150.0,170.0])][5:15]"
   ]
  },
  {
   "cell_type": "markdown",
   "id": "e39596a5",
   "metadata": {},
   "source": [
    "#### *Exemplo 2: Filtando linhas por intervalo de dados*"
   ]
  },
  {
   "cell_type": "code",
   "execution_count": null,
   "id": "09c4ef22",
   "metadata": {
    "ExecuteTime": {
     "end_time": "2023-07-03T22:02:26.133374Z",
     "start_time": "2023-07-03T22:02:25.988846Z"
    }
   },
   "outputs": [],
   "source": [
    "# Importando do arquivo a ser analisado\n",
    "tabela_auto = pd.read_csv(\"Automobile.csv\")\n",
    "\n",
    "# Configurar o número máximo de linhas do arquivo 'Automobile,csv' a serem exibidas\n",
    "pd.set_option('display.max_rows', None)\n",
    "\n",
    "\n",
    "# Lendo n linhas do arquivo Automobile\n",
    "tabela_auto.head(398)"
   ]
  },
  {
   "cell_type": "code",
   "execution_count": null,
   "id": "e1f8afdb",
   "metadata": {
    "ExecuteTime": {
     "end_time": "2023-07-03T22:02:27.984708Z",
     "start_time": "2023-07-03T22:02:27.974729Z"
    },
    "scrolled": true
   },
   "outputs": [],
   "source": [
    "# Aplicando a função describe() somente ao rótulo 'cylinders'\n",
    "acceleration = tabela_auto['acceleration'].describe()\n",
    "pd.DataFrame(acceleration)"
   ]
  },
  {
   "cell_type": "code",
   "execution_count": null,
   "id": "25e9bbe4",
   "metadata": {
    "ExecuteTime": {
     "end_time": "2023-07-03T22:02:29.268807Z",
     "start_time": "2023-07-03T22:02:29.261815Z"
    }
   },
   "outputs": [],
   "source": [
    "# Geramos um novo dataframe apenas com o intervalo de aceleração entre 10.0 e 12.0\n",
    "tabela_auto2 = tabela_auto.query('10.0 < acceleration < 12.0')"
   ]
  },
  {
   "cell_type": "code",
   "execution_count": null,
   "id": "d49aa647",
   "metadata": {
    "ExecuteTime": {
     "end_time": "2023-07-03T22:02:30.112786Z",
     "start_time": "2023-07-03T22:02:30.094813Z"
    }
   },
   "outputs": [],
   "source": [
    "pd.DataFrame(tabela_auto2)"
   ]
  },
  {
   "cell_type": "code",
   "execution_count": null,
   "id": "473de4db",
   "metadata": {
    "ExecuteTime": {
     "end_time": "2023-07-03T22:02:31.272787Z",
     "start_time": "2023-07-03T22:02:31.261837Z"
    }
   },
   "outputs": [],
   "source": [
    "# Aplicando a função describe ao rótulo 'mpg' da 'tabela_auto2'\n",
    "pd.DataFrame(tabela_auto2['mpg'].describe())      "
   ]
  },
  {
   "cell_type": "code",
   "execution_count": null,
   "id": "1d821f14",
   "metadata": {
    "ExecuteTime": {
     "end_time": "2023-07-03T22:02:32.340806Z",
     "start_time": "2023-07-03T22:02:32.333808Z"
    }
   },
   "outputs": [],
   "source": [
    "# Gerando um subdataframe a partir da 'tabela_auto2' tal que displacement < 350\n",
    "tabela_auto3 = tabela_auto2.query('displacement < 350')"
   ]
  },
  {
   "cell_type": "code",
   "execution_count": null,
   "id": "7edb41d7",
   "metadata": {
    "ExecuteTime": {
     "end_time": "2023-07-03T22:02:32.964742Z",
     "start_time": "2023-07-03T22:02:32.949751Z"
    }
   },
   "outputs": [],
   "source": [
    "pd.DataFrame(tabela_auto3)"
   ]
  },
  {
   "cell_type": "code",
   "execution_count": null,
   "id": "424e1751",
   "metadata": {
    "ExecuteTime": {
     "end_time": "2023-07-03T22:02:33.784790Z",
     "start_time": "2023-07-03T22:02:33.773819Z"
    },
    "scrolled": true
   },
   "outputs": [],
   "source": [
    "# Aplicando a função describe ao rótulo 'mpg' da 'tabela_auto3'\n",
    "pd.DataFrame(tabela_auto3['mpg'].describe())"
   ]
  },
  {
   "cell_type": "markdown",
   "id": "009b6e11",
   "metadata": {},
   "source": [
    "#### *Exemplo 3: Filtrando um dataframe por string*"
   ]
  },
  {
   "cell_type": "code",
   "execution_count": null,
   "id": "71abb7aa",
   "metadata": {
    "ExecuteTime": {
     "end_time": "2023-07-03T22:02:35.474260Z",
     "start_time": "2023-07-03T22:02:35.333843Z"
    }
   },
   "outputs": [],
   "source": [
    "# Importando do arquivo a ser analisado\n",
    "tabela_auto = pd.read_csv(\"Automobile.csv\")\n",
    "\n",
    "# Configurar o número máximo de linhas do arquivo 'Automobile,csv' a serem exibidas\n",
    "pd.set_option('display.max_rows', None)\n",
    "\n",
    "\n",
    "# Lendo n linhas do arquivo Automobile\n",
    "tabela_auto.head(398)"
   ]
  },
  {
   "cell_type": "code",
   "execution_count": null,
   "id": "216282a4",
   "metadata": {
    "ExecuteTime": {
     "end_time": "2023-07-03T22:02:36.496558Z",
     "start_time": "2023-07-03T22:02:36.391959Z"
    }
   },
   "outputs": [],
   "source": [
    "# Filtramos o dataframe pela coluna origin com valores que iniciam com as letras 'usa'\n",
    "tabela_auto[tabela_auto.origin.str.startswith('usa')]"
   ]
  },
  {
   "cell_type": "markdown",
   "id": "9530fdcc",
   "metadata": {},
   "source": [
    "### <div style=\"margin-top: -20px;\">\n",
    "<hr style=\"border: 2px solid blue;\">\n",
    "\n",
    "<font color='blue'><span style=\"font-size: 18px;\"><strong>22.2.3 Análise Envolvendo Operadores Booleanos</strong></span></font>\n",
    "\n",
    "<hr style=\"border: 2px solid blue;\">\n",
    "</div>"
   ]
  },
  {
   "cell_type": "markdown",
   "id": "4f215c36",
   "metadata": {
    "ExecuteTime": {
     "end_time": "2023-06-20T15:36:45.893386Z",
     "start_time": "2023-06-20T15:36:45.888374Z"
    }
   },
   "source": [
    "#### *Exemplo 1: Filtragem booleana envolvendo valores numéricos*"
   ]
  },
  {
   "cell_type": "code",
   "execution_count": null,
   "id": "4dbc1cb0",
   "metadata": {
    "ExecuteTime": {
     "end_time": "2023-07-03T22:02:39.079790Z",
     "start_time": "2023-07-03T22:02:38.926829Z"
    }
   },
   "outputs": [],
   "source": [
    "# Importando do arquivo a ser analisado\n",
    "tabela_auto = pd.read_csv(\"Automobile.csv\")\n",
    "\n",
    "# Configurar o número máximo de linhas do arquivo 'Automobile,csv' a serem exibidas\n",
    "pd.set_option('display.max_rows', None)\n",
    "\n",
    "\n",
    "# Lendo n linhas do arquivo Automobile\n",
    "tabela_auto.head(398)"
   ]
  },
  {
   "cell_type": "code",
   "execution_count": null,
   "id": "bb3390de",
   "metadata": {
    "ExecuteTime": {
     "end_time": "2023-07-03T22:02:39.776707Z",
     "start_time": "2023-07-03T22:02:39.760748Z"
    }
   },
   "outputs": [],
   "source": [
    "# Exibindo os n primeiros carros de 4 cilindros ou 150 cavalos de potência\n",
    "tabela_cy_hp = tabela_auto[(tabela_auto.cylinders == 4) | (tabela_auto.horsepower == 150) ].head(10)\n",
    "pd.DataFrame(tabela_cy_hp)"
   ]
  },
  {
   "cell_type": "code",
   "execution_count": null,
   "id": "e4f621f0",
   "metadata": {
    "ExecuteTime": {
     "end_time": "2023-07-03T22:02:40.774741Z",
     "start_time": "2023-07-03T22:02:40.759762Z"
    }
   },
   "outputs": [],
   "source": [
    "# Exibindo os n primeiros carros de 4 cilindros e 150 cavalos de potência\n",
    "tabela_cy_hp = tabela_auto[(tabela_auto.cylinders == 4) & (tabela_auto.horsepower == 150) ].head(10)\n",
    "pd.DataFrame(tabela_cy_hp)"
   ]
  },
  {
   "cell_type": "code",
   "execution_count": null,
   "id": "45c5b556",
   "metadata": {
    "ExecuteTime": {
     "end_time": "2023-07-03T22:02:41.592112Z",
     "start_time": "2023-07-03T22:02:41.575865Z"
    }
   },
   "outputs": [],
   "source": [
    "# Exibindo os n primeiros carros de 4 cilindros e que não tenham 150 cavalos de potência\n",
    "tabela_cy_hp = tabela_auto[(tabela_auto.cylinders == 8) & (tabela_auto.horsepower != 150) ].head(10)\n",
    "pd.DataFrame(tabela_cy_hp)"
   ]
  },
  {
   "cell_type": "code",
   "execution_count": null,
   "id": "bca6e79a",
   "metadata": {
    "ExecuteTime": {
     "end_time": "2023-07-03T22:02:42.496699Z",
     "start_time": "2023-07-03T22:02:42.479721Z"
    }
   },
   "outputs": [],
   "source": [
    "# Exibindo os n primeiros carros de 4 ou menos cilindros que tenham 90 ou mais cavalos de potência\n",
    "tabela_cy_hp = tabela_auto[(tabela_auto.cylinders <= 4) & (tabela_auto.horsepower >=90) ].head(10)\n",
    "pd.DataFrame(tabela_cy_hp)"
   ]
  },
  {
   "cell_type": "markdown",
   "id": "a1407d42",
   "metadata": {
    "ExecuteTime": {
     "end_time": "2023-06-20T15:42:40.860501Z",
     "start_time": "2023-06-20T15:42:40.856488Z"
    }
   },
   "source": [
    "#### *Exemplo 2: Filtragem boolenana envolvendo string e valores numéricos*"
   ]
  },
  {
   "cell_type": "code",
   "execution_count": null,
   "id": "81bdb6d5",
   "metadata": {
    "ExecuteTime": {
     "end_time": "2023-07-03T22:02:44.284926Z",
     "start_time": "2023-07-03T22:02:44.143779Z"
    }
   },
   "outputs": [],
   "source": [
    "# Importando do arquivo a ser analisado\n",
    "tabela_auto = pd.read_csv(\"Automobile.csv\")\n",
    "\n",
    "# Configurar o número máximo de linhas do arquivo 'Automobile,csv' a serem exibidas\n",
    "pd.set_option('display.max_rows', None)\n",
    "\n",
    "\n",
    "# Lendo n linhas do arquivo Automobile\n",
    "tabela_auto.head(398)"
   ]
  },
  {
   "cell_type": "code",
   "execution_count": null,
   "id": "121ab4b7",
   "metadata": {
    "ExecuteTime": {
     "end_time": "2023-07-03T22:02:45.182427Z",
     "start_time": "2023-07-03T22:02:45.145526Z"
    }
   },
   "outputs": [],
   "source": [
    "# Filtramos o dataframe pela coluna origin com valores que iniciam com as letras 'usa' e tem 4 cilindros\n",
    "tabela_auto[(tabela_auto.origin.str.startswith('usa')) & (tabela_auto.cylinders == 4)]"
   ]
  },
  {
   "cell_type": "markdown",
   "id": "3cf4c76a",
   "metadata": {},
   "source": [
    "#### *Exemplo 3: Aplicando Multiplos Filtros*"
   ]
  },
  {
   "cell_type": "code",
   "execution_count": null,
   "id": "58e82287",
   "metadata": {
    "ExecuteTime": {
     "end_time": "2023-07-03T22:02:47.516876Z",
     "start_time": "2023-07-03T22:02:47.375786Z"
    }
   },
   "outputs": [],
   "source": [
    "import pandas as pd\n",
    "\n",
    "# Importando do arquivo a ser analisado\n",
    "tabela_auto = pd.read_csv(\"Automobile.csv\")\n",
    "\n",
    "# Configurar o número máximo de linhas do arquivo 'Automobile,csv' a serem exibidas\n",
    "pd.set_option('display.max_rows', None)\n",
    "\n",
    "\n",
    "# Lendo n linhas do arquivo Automobile\n",
    "tabela_auto.head(398)"
   ]
  },
  {
   "cell_type": "code",
   "execution_count": null,
   "id": "e276d99c",
   "metadata": {
    "ExecuteTime": {
     "end_time": "2023-07-03T22:02:48.484667Z",
     "start_time": "2023-07-03T22:02:48.425840Z"
    }
   },
   "outputs": [],
   "source": [
    "# Filtramos o dataframe pela coluna origin com valores que iniciam com as letras 'usa' ou 'japan' e tem 4 cilindros\n",
    "filtro1 = tabela_auto.origin.str.startswith('usa')\n",
    "filtro2 = tabela_auto.origin.str.startswith('japan')\n",
    "filtro3 = tabela_auto.cylinders == 4\n",
    "tabela_pers = tabela_auto[(filtro1 | filtro2) & (filtro3)]\n",
    "tabela_pers"
   ]
  },
  {
   "cell_type": "code",
   "execution_count": null,
   "id": "919795fc",
   "metadata": {
    "ExecuteTime": {
     "end_time": "2023-07-03T22:02:49.347656Z",
     "start_time": "2023-07-03T22:02:49.320728Z"
    }
   },
   "outputs": [],
   "source": [
    "# Aplicando a função describe()\n",
    "tabela_pers.describe()"
   ]
  },
  {
   "cell_type": "markdown",
   "id": "27438cd4",
   "metadata": {
    "ExecuteTime": {
     "end_time": "2023-06-20T19:46:28.656314Z",
     "start_time": "2023-06-20T19:46:28.648333Z"
    }
   },
   "source": [
    "### <div style=\"margin-top: -20px;\">\n",
    "<hr style=\"border: 2px solid blue;\">\n",
    "\n",
    "<font color='blue'><span style=\"font-size: 18px;\"><strong>22.2.4 Agrupamento de Dados Com Group By</strong></span></font>\n",
    "\n",
    "<hr style=\"border: 2px solid blue;\">\n",
    "</div>"
   ]
  },
  {
   "cell_type": "markdown",
   "id": "ad8dc7a5",
   "metadata": {},
   "source": [
    "O <u>Group By</u> do Pandas é uma função que nos ajuda a agrupar e resumir os dados em um DataFrame. Com o Group By, podemos dividir os dados em grupos com base em uma ou mais colunas e realizar operações agregadas em cada grupo. Isso nos permite obter uma visão geral dos dados e explorar os relacionamentos entre as variáveis. É uma ferramenta valiosa para análise de dados complexos."
   ]
  },
  {
   "cell_type": "markdown",
   "id": "1b622f19",
   "metadata": {},
   "source": [
    "#### *Exemplo 1: Calculando a media em relação dois grupos*"
   ]
  },
  {
   "cell_type": "code",
   "execution_count": null,
   "id": "b317af9f",
   "metadata": {},
   "outputs": [],
   "source": [
    "import pandas as pd\n",
    "\n",
    "# Importando do arquivo a ser analisado\n",
    "tabela_auto = pd.read_csv(\"Automobile.csv\")\n",
    "\n",
    "# Configurar o número máximo de linhas do arquivo 'Automobile,csv' a serem exibidas\n",
    "pd.set_option('display.max_rows', None)\n",
    "\n",
    "# Lendo n linhas do arquivo Automobile\n",
    "tabela_auto.head(398)"
   ]
  },
  {
   "cell_type": "code",
   "execution_count": null,
   "id": "ae953b62",
   "metadata": {
    "ExecuteTime": {
     "end_time": "2023-07-03T22:02:53.456349Z",
     "start_time": "2023-07-03T22:02:53.442363Z"
    }
   },
   "outputs": [],
   "source": [
    "# Aplicamos o Group By para calcular a média relacionada à origem e número de cilindros\n",
    "tabela_auto[['cylinders','origin', 'acceleration']].groupby(['cylinders','origin']).mean()"
   ]
  },
  {
   "cell_type": "markdown",
   "id": "ed9b7a32",
   "metadata": {
    "ExecuteTime": {
     "end_time": "2023-06-20T20:30:35.448766Z",
     "start_time": "2023-06-20T20:30:35.443769Z"
    }
   },
   "source": [
    "#### *Exemplo 2: Calculando a media, a mediana e o devio padrão em relação dois grupos*"
   ]
  },
  {
   "cell_type": "code",
   "execution_count": null,
   "id": "c3a8b06f",
   "metadata": {
    "ExecuteTime": {
     "end_time": "2023-07-03T22:02:54.922731Z",
     "start_time": "2023-07-03T22:02:54.905800Z"
    }
   },
   "outputs": [],
   "source": [
    "import pandas as pd\n",
    "\n",
    "# Importando do arquivo a ser analisado\n",
    "tabela_auto = pd.read_csv(\"Automobile.csv\")\n",
    "\n",
    "# Configurar o número máximo de linhas do arquivo 'Automobile,csv' a serem exibidas\n",
    "pd.set_option('display.max_rows', None)\n",
    "\n",
    "# Lendo n linhas do arquivo Automobile\n",
    "tabela_auto.head(5)"
   ]
  },
  {
   "cell_type": "code",
   "execution_count": null,
   "id": "b2203319",
   "metadata": {
    "ExecuteTime": {
     "end_time": "2023-07-03T22:02:55.665684Z",
     "start_time": "2023-07-03T22:02:55.648718Z"
    }
   },
   "outputs": [],
   "source": [
    "# Aplicamos o Group By para calcular a média, mediana e o desvio padrão relacionados à origem e número de cilindros\n",
    "tabela_auto[['cylinders','origin', 'acceleration']].groupby(['cylinders','origin']).agg(['mean', 'median', 'std'])"
   ]
  },
  {
   "cell_type": "markdown",
   "id": "aa02aa14",
   "metadata": {},
   "source": [
    "#### *Exemplo 3: Calculando os quartis 25%, 50% e 75%*"
   ]
  },
  {
   "cell_type": "markdown",
   "id": "2439fc6b",
   "metadata": {},
   "source": [
    "O cálculo dos quartis apresenta uma leve modificação em relação às funções 'mean', 'median' e 'std'. Precisaremos utilizar a função rename para uma exibição final mais objetiva."
   ]
  },
  {
   "cell_type": "code",
   "execution_count": null,
   "id": "31087fb2",
   "metadata": {
    "ExecuteTime": {
     "end_time": "2023-07-03T22:02:58.362772Z",
     "start_time": "2023-07-03T22:02:58.344821Z"
    }
   },
   "outputs": [],
   "source": [
    "import pandas as pd\n",
    "\n",
    "# Importando do arquivo a ser analisado\n",
    "tabela_auto = pd.read_csv(\"Automobile.csv\")\n",
    "\n",
    "# Configurar o número máximo de linhas do arquivo 'Automobile,csv' a serem exibidas\n",
    "pd.set_option('display.max_rows', None)\n",
    "\n",
    "# Lendo n linhas do arquivo Automobile\n",
    "tabela_auto.head(10)"
   ]
  },
  {
   "cell_type": "code",
   "execution_count": null,
   "id": "17bca98f",
   "metadata": {
    "ExecuteTime": {
     "end_time": "2023-07-03T22:03:00.165733Z",
     "start_time": "2023-07-03T22:03:00.145785Z"
    }
   },
   "outputs": [],
   "source": [
    "# Código anterior sem a função rename\n",
    "tabela_auto[['name', 'origin', 'acceleration']].groupby('origin').agg({'acceleration': [lambda x: x.quantile(0.25), 'median', lambda x: x.quantile(0.75)]})\n"
   ]
  },
  {
   "cell_type": "code",
   "execution_count": null,
   "id": "844c296e",
   "metadata": {
    "ExecuteTime": {
     "end_time": "2023-07-03T22:02:59.344898Z",
     "start_time": "2023-07-03T22:02:59.320950Z"
    }
   },
   "outputs": [],
   "source": [
    "# Aplicamos o Group By para calcular os quartis 25%, 50%(mediana) e 75%\n",
    "tabela_auto[['name', 'origin', 'acceleration']].groupby('origin').agg({'acceleration': [lambda x: x.quantile(0.25), 'median', lambda x: x.quantile(0.75)]}) \\\n",
    "    .rename(columns={'<lambda_0>': 'quartil 25%', 'median': 'quartil 50%', '<lambda_1>': 'quartil 75%'}, level=1)"
   ]
  },
  {
   "cell_type": "markdown",
   "id": "ad6c1455",
   "metadata": {},
   "source": [
    "### <div style=\"margin-top: -20px;\">\n",
    "<hr style=\"border: 2px solid blue;\">\n",
    "\n",
    "<font color='blue'><span style=\"font-size: 18px;\"><strong>22.2.5 Mudança de Dados Com a Função replace()</strong></span></font>\n",
    "\n",
    "<hr style=\"border: 2px solid blue;\">\n",
    "</div>"
   ]
  },
  {
   "cell_type": "markdown",
   "id": "cbac1660",
   "metadata": {
    "ExecuteTime": {
     "end_time": "2023-06-20T20:59:12.182169Z",
     "start_time": "2023-06-20T20:59:12.177183Z"
    }
   },
   "source": [
    "#### *Exemplo 1: Repassando dados numéricos*"
   ]
  },
  {
   "cell_type": "code",
   "execution_count": null,
   "id": "6a36b13a",
   "metadata": {},
   "outputs": [],
   "source": [
    "import pandas as pd\n",
    "\n",
    "# Importando do arquivo a ser analisado\n",
    "tabela_auto = pd.read_csv(\"Automobile.csv\")\n",
    "\n",
    "# Configurar o número máximo de linhas do arquivo 'Automobile,csv' a serem exibidas\n",
    "pd.set_option('display.max_rows', None)\n",
    "\n",
    "# Lendo n linhas do arquivo Automobile\n",
    "tabela_auto.head(398)"
   ]
  },
  {
   "cell_type": "code",
   "execution_count": null,
   "id": "1f80d8a6",
   "metadata": {},
   "outputs": [],
   "source": [
    "# Substituindo os valores 70 na coluna 'model_year' por 1970\n",
    "tabela_auto['model_year'] = tabela_auto['model_year'].replace(70, 1970)\n",
    "\n",
    "# Exibindo a nota tabela_auto\n",
    "tabela_auto"
   ]
  },
  {
   "cell_type": "markdown",
   "id": "d4af72cb",
   "metadata": {
    "ExecuteTime": {
     "end_time": "2023-06-20T21:01:45.800723Z",
     "start_time": "2023-06-20T21:01:45.795738Z"
    }
   },
   "source": [
    "#### *Exemplo 2: Repassando strings*"
   ]
  },
  {
   "cell_type": "code",
   "execution_count": 2,
   "id": "6443857e",
   "metadata": {
    "ExecuteTime": {
     "end_time": "2023-07-03T22:03:04.754752Z",
     "start_time": "2023-07-03T22:03:04.737821Z"
    }
   },
   "outputs": [
    {
     "data": {
      "text/html": [
       "<div>\n",
       "<style scoped>\n",
       "    .dataframe tbody tr th:only-of-type {\n",
       "        vertical-align: middle;\n",
       "    }\n",
       "\n",
       "    .dataframe tbody tr th {\n",
       "        vertical-align: top;\n",
       "    }\n",
       "\n",
       "    .dataframe thead th {\n",
       "        text-align: right;\n",
       "    }\n",
       "</style>\n",
       "<table border=\"1\" class=\"dataframe\">\n",
       "  <thead>\n",
       "    <tr style=\"text-align: right;\">\n",
       "      <th></th>\n",
       "      <th>name</th>\n",
       "      <th>mpg</th>\n",
       "      <th>cylinders</th>\n",
       "      <th>displacement</th>\n",
       "      <th>horsepower</th>\n",
       "      <th>weight</th>\n",
       "      <th>acceleration</th>\n",
       "      <th>model_year</th>\n",
       "      <th>origin</th>\n",
       "    </tr>\n",
       "  </thead>\n",
       "  <tbody>\n",
       "    <tr>\n",
       "      <th>0</th>\n",
       "      <td>chevrolet chevelle malibu</td>\n",
       "      <td>18.0</td>\n",
       "      <td>8</td>\n",
       "      <td>307.0</td>\n",
       "      <td>130.0</td>\n",
       "      <td>3504</td>\n",
       "      <td>12.0</td>\n",
       "      <td>70</td>\n",
       "      <td>usa</td>\n",
       "    </tr>\n",
       "    <tr>\n",
       "      <th>1</th>\n",
       "      <td>buick skylark 320</td>\n",
       "      <td>15.0</td>\n",
       "      <td>8</td>\n",
       "      <td>350.0</td>\n",
       "      <td>165.0</td>\n",
       "      <td>3693</td>\n",
       "      <td>11.5</td>\n",
       "      <td>70</td>\n",
       "      <td>usa</td>\n",
       "    </tr>\n",
       "    <tr>\n",
       "      <th>2</th>\n",
       "      <td>plymouth satellite</td>\n",
       "      <td>18.0</td>\n",
       "      <td>8</td>\n",
       "      <td>318.0</td>\n",
       "      <td>150.0</td>\n",
       "      <td>3436</td>\n",
       "      <td>11.0</td>\n",
       "      <td>70</td>\n",
       "      <td>usa</td>\n",
       "    </tr>\n",
       "    <tr>\n",
       "      <th>3</th>\n",
       "      <td>amc rebel sst</td>\n",
       "      <td>16.0</td>\n",
       "      <td>8</td>\n",
       "      <td>304.0</td>\n",
       "      <td>150.0</td>\n",
       "      <td>3433</td>\n",
       "      <td>12.0</td>\n",
       "      <td>70</td>\n",
       "      <td>usa</td>\n",
       "    </tr>\n",
       "    <tr>\n",
       "      <th>4</th>\n",
       "      <td>ford torino</td>\n",
       "      <td>17.0</td>\n",
       "      <td>8</td>\n",
       "      <td>302.0</td>\n",
       "      <td>140.0</td>\n",
       "      <td>3449</td>\n",
       "      <td>10.5</td>\n",
       "      <td>70</td>\n",
       "      <td>usa</td>\n",
       "    </tr>\n",
       "  </tbody>\n",
       "</table>\n",
       "</div>"
      ],
      "text/plain": [
       "                        name   mpg  cylinders  displacement  horsepower  \\\n",
       "0  chevrolet chevelle malibu  18.0          8         307.0       130.0   \n",
       "1          buick skylark 320  15.0          8         350.0       165.0   \n",
       "2         plymouth satellite  18.0          8         318.0       150.0   \n",
       "3              amc rebel sst  16.0          8         304.0       150.0   \n",
       "4                ford torino  17.0          8         302.0       140.0   \n",
       "\n",
       "   weight  acceleration  model_year origin  \n",
       "0    3504          12.0          70    usa  \n",
       "1    3693          11.5          70    usa  \n",
       "2    3436          11.0          70    usa  \n",
       "3    3433          12.0          70    usa  \n",
       "4    3449          10.5          70    usa  "
      ]
     },
     "execution_count": 2,
     "metadata": {},
     "output_type": "execute_result"
    }
   ],
   "source": [
    "import pandas as pd\n",
    "\n",
    "# Importando do arquivo a ser analisado\n",
    "tabela_auto = pd.read_csv(\"Automobile.csv\")\n",
    "\n",
    "# Configurar o número máximo de linhas do arquivo 'Automobile,csv' a serem exibidas\n",
    "pd.set_option('display.max_rows', None)\n",
    "\n",
    "# Lendo n linhas do arquivo Automobile\n",
    "tabela_auto.head(5)"
   ]
  },
  {
   "cell_type": "code",
   "execution_count": null,
   "id": "d22fad52",
   "metadata": {
    "ExecuteTime": {
     "end_time": "2023-07-03T22:03:05.677482Z",
     "start_time": "2023-07-03T22:03:05.536828Z"
    }
   },
   "outputs": [],
   "source": [
    "# Substituindo os valores 70 na coluna 'model_year' por 1970\n",
    "tabela_auto['origin'] = tabela_auto['origin'].str.replace('usa', 'EUA')\n",
    "\n",
    "# Exibindo a nova tabela_auto\n",
    "tabela_auto"
   ]
  },
  {
   "cell_type": "markdown",
   "id": "8e613f25",
   "metadata": {},
   "source": [
    "## <div style=\"margin-top: -20px;\">\n",
    "<hr style=\"border: 2px solid blue;\">\n",
    "\n",
    "<font color='blue'><span style=\"font-size: 22px;\"><strong>22.3 Métodos e Recursos para Trabalhar com Dados</strong></span></font>\n",
    "\n",
    "<hr style=\"border: 2px solid blue;\">\n",
    "</div>"
   ]
  },
  {
   "cell_type": "markdown",
   "id": "63b16d09",
   "metadata": {},
   "source": [
    "Apresentaremos a seguir alguns dos métodos e recursos para trabalhar com análise de dados. Alguns desses métodos são mais técnicos, mas decidimos incluir um exemplo para cada um deles. Fique à vontade para ignorar aqueles que, a princípio, não parecem ter aplicação prática para você."
   ]
  },
  {
   "cell_type": "markdown",
   "id": "70e5253f",
   "metadata": {},
   "source": [
    "### <div style=\"margin-top: -20px;\">\n",
    "<hr style=\"border: 2px solid blue;\">\n",
    "\n",
    "<font color='blue'><span style=\"font-size: 18px;\"><strong>22.3.1 Métodos e Recursos para Trabalhar com Dados - Parte 1</strong></span></font>\n",
    "\n",
    "<hr style=\"border: 2px solid blue;\">\n",
    "</div>"
   ]
  },
  {
   "cell_type": "markdown",
   "id": "b48e4a18",
   "metadata": {},
   "source": [
    "#### array"
   ]
  },
  {
   "cell_type": "markdown",
   "id": "62a5908f",
   "metadata": {},
   "source": [
    "Refere-se à estrutura de dados unidimensional do Pandas chamada \"array\". É semelhante a uma Series, mas é uma estrutura subjacente sem rótulos de índice associados."
   ]
  },
  {
   "cell_type": "code",
   "execution_count": 1,
   "id": "0326ecf5",
   "metadata": {},
   "outputs": [
    {
     "name": "stdout",
     "output_type": "stream",
     "text": [
      "<IntegerArray>\n",
      "[10, 20, 30, 40]\n",
      "Length: 4, dtype: Int64\n"
     ]
    }
   ],
   "source": [
    "import pandas as pd\n",
    "\n",
    "data = [10, 20, 30, 40]\n",
    "arr = pd.array(data)\n",
    "print(arr)"
   ]
  },
  {
   "cell_type": "markdown",
   "id": "c1ff1331",
   "metadata": {},
   "source": [
    "#### arrays"
   ]
  },
  {
   "cell_type": "markdown",
   "id": "40f53489",
   "metadata": {},
   "source": [
    "Essa função é usada para criar um novo objeto \"arrays\" que encapsula várias Series em uma única estrutura de dados."
   ]
  },
  {
   "cell_type": "code",
   "execution_count": null,
   "id": "df7ee8b0",
   "metadata": {},
   "outputs": [],
   "source": [
    "import pandas as pd\n",
    "\n",
    "s1 = pd.Series([1, 2, 3])\n",
    "s2 = pd.Series([4, 5, 6])\n",
    "\n",
    "df = pd.DataFrame({'col1': s1, 'col2': s2})\n",
    "df"
   ]
  },
  {
   "cell_type": "markdown",
   "id": "3d50e88c",
   "metadata": {
    "heading_collapsed": true
   },
   "source": [
    "#### ArrowDtype"
   ]
  },
  {
   "cell_type": "markdown",
   "id": "e80edf39",
   "metadata": {
    "hidden": true
   },
   "source": [
    "O ArrowDtype é um tipo de dados do Pandas que permite a interoperabilidade com a biblioteca Apache Arrow, que é uma estrutura de dados de alto desempenho para processamento analítico de big data. Ele é usado para representar colunas de dados no Pandas que são armazenadas como objetos Arrow."
   ]
  },
  {
   "cell_type": "code",
   "execution_count": null,
   "id": "ddf16d62",
   "metadata": {
    "hidden": true
   },
   "outputs": [],
   "source": [
    "# Instalando o módulo pyarrow\n",
    "!pip install pyarrow"
   ]
  },
  {
   "cell_type": "code",
   "execution_count": null,
   "id": "74c82e6f",
   "metadata": {
    "hidden": true
   },
   "outputs": [],
   "source": [
    "import pandas as pd\n",
    "import pyarrow as pa\n",
    "\n",
    "# Criando duas colunas com tipo ArrowDtype\n",
    "data1 = pa.array([1, 2, 3], type=pa.int32())\n",
    "data2 = pa.array([4.5, 5.5, 6.5], type=pa.float64())\n",
    "df = pd.DataFrame({'coluna1': data1, 'coluna2': data2})\n",
    "df\n"
   ]
  },
  {
   "cell_type": "markdown",
   "id": "a2c4ee94",
   "metadata": {
    "heading_collapsed": true
   },
   "source": [
    "#### bdate_range"
   ]
  },
  {
   "cell_type": "markdown",
   "id": "671a22d6",
   "metadata": {
    "hidden": true
   },
   "source": [
    "A função \"bdate_range\" é usada para criar um intervalo de datas contendo apenas dias úteis (dias úteis). Ela retorna um objeto do tipo DatetimeIndex que contém as datas dentro de um período especificado."
   ]
  },
  {
   "cell_type": "code",
   "execution_count": null,
   "id": "101f0de1",
   "metadata": {
    "hidden": true
   },
   "outputs": [],
   "source": [
    "import pandas as pd\n",
    "\n",
    "daterange = pd.bdate_range(start='2023-10-01', end='2023-10-31')\n",
    "print(daterange)"
   ]
  },
  {
   "cell_type": "markdown",
   "id": "57f341ed",
   "metadata": {
    "heading_collapsed": true
   },
   "source": [
    "#### BooleanDtype"
   ]
  },
  {
   "cell_type": "markdown",
   "id": "4acb0b79",
   "metadata": {
    "hidden": true
   },
   "source": [
    "O BooleanDtype é um tipo de dados do Pandas que representa valores booleanos (verdadeiro/falso). Ele é usado para armazenar e manipular dados booleanos em uma coluna do DataFrame."
   ]
  },
  {
   "cell_type": "code",
   "execution_count": null,
   "id": "55959f51",
   "metadata": {
    "hidden": true
   },
   "outputs": [],
   "source": [
    "import pandas as pd\n",
    "\n",
    "data = {'valores': [True, False, True, False]}\n",
    "df = pd.DataFrame(data, dtype='boolean')\n",
    "df"
   ]
  },
  {
   "cell_type": "markdown",
   "id": "3e68becd",
   "metadata": {
    "heading_collapsed": true
   },
   "source": [
    "#### Categorical"
   ]
  },
  {
   "cell_type": "markdown",
   "id": "8b686d75",
   "metadata": {
    "hidden": true
   },
   "source": [
    "O Categorical é uma classe do Pandas que representa dados categóricos. Ele é usado para armazenar dados com um número limitado de valores exclusivos, como categorias ou fatores. O Categorical permite economizar memória e também oferece benefícios ao realizar operações específicas em dados categóricos."
   ]
  },
  {
   "cell_type": "code",
   "execution_count": null,
   "id": "9d5ae94b",
   "metadata": {
    "hidden": true
   },
   "outputs": [],
   "source": [
    "import pandas as pd\n",
    "\n",
    "data = {'categoria': ['A', 'B', 'A', 'C']}\n",
    "df = pd.DataFrame(data)\n",
    "df['categoria'] = pd.Categorical(df['categoria'])\n",
    "df['categoria']"
   ]
  },
  {
   "cell_type": "markdown",
   "id": "d71e1d4b",
   "metadata": {
    "heading_collapsed": true
   },
   "source": [
    "#### CategoricalDtype"
   ]
  },
  {
   "cell_type": "markdown",
   "id": "e44ebb1d",
   "metadata": {
    "hidden": true
   },
   "source": [
    "O CategoricalDtype é um tipo de dados do Pandas que define uma coluna de um DataFrame como categórica. Ele especifica que os valores da coluna devem ser interpretados como dados categóricos. É útil ao definir o tipo de uma coluna ao criar ou manipular um DataFrame."
   ]
  },
  {
   "cell_type": "code",
   "execution_count": null,
   "id": "c6de63c9",
   "metadata": {
    "hidden": true
   },
   "outputs": [],
   "source": [
    "import pandas as pd\n",
    "\n",
    "data = {'categoria': ['A', 'B', 'A', 'C']}\n",
    "df = pd.DataFrame(data, dtype=\"category\")\n",
    "print(df['categoria'])\n"
   ]
  },
  {
   "cell_type": "markdown",
   "id": "d162d7ab",
   "metadata": {
    "heading_collapsed": true
   },
   "source": [
    "#### CategoricalIndex"
   ]
  },
  {
   "cell_type": "markdown",
   "id": "46f9eef1",
   "metadata": {
    "hidden": true
   },
   "source": [
    "O CategoricalIndex é um tipo de índice do Pandas que representa um índice baseado em categorias. É semelhante a um índice regular, mas, em vez de ser baseado em valores numéricos ou de texto, é baseado em categorias definidas. É útil ao trabalhar com índices categóricos em um DataFrame."
   ]
  },
  {
   "cell_type": "code",
   "execution_count": null,
   "id": "da020af6",
   "metadata": {
    "hidden": true
   },
   "outputs": [],
   "source": [
    "import pandas as pd\n",
    "\n",
    "data = {'coluna': [1, 2, 3]}\n",
    "df = pd.DataFrame(data)\n",
    "categories = ['A', 'B', 'C']\n",
    "df = df.set_index(pd.CategoricalIndex(categories))\n",
    "df"
   ]
  },
  {
   "cell_type": "markdown",
   "id": "9116c504",
   "metadata": {
    "heading_collapsed": true
   },
   "source": [
    "#### concat"
   ]
  },
  {
   "cell_type": "markdown",
   "id": "09c99846",
   "metadata": {
    "hidden": true
   },
   "source": [
    "A função \"concat\" é usada para concatenar (juntar) objetos do Pandas ao longo de um eixo específico. Ela pode ser usada para combinar DataFrames, Series ou painéis em uma única estrutura de dados."
   ]
  },
  {
   "cell_type": "code",
   "execution_count": null,
   "id": "8f2f2440",
   "metadata": {
    "hidden": true
   },
   "outputs": [],
   "source": [
    "import pandas as pd\n",
    "\n",
    "df1 = pd.DataFrame({'A': [1, 2], 'B': [3, 4]})\n",
    "df2 = pd.DataFrame({'A': [5, 6], 'B': [7, 8]})\n",
    "result = pd.concat([df1, df2])\n",
    "result"
   ]
  },
  {
   "cell_type": "code",
   "execution_count": null,
   "id": "fc91a58a",
   "metadata": {
    "hidden": true
   },
   "outputs": [],
   "source": [
    "pd.DataFrame(df1)"
   ]
  },
  {
   "cell_type": "code",
   "execution_count": null,
   "id": "379c2779",
   "metadata": {
    "hidden": true
   },
   "outputs": [],
   "source": [
    "pd.DataFrame(df2)"
   ]
  },
  {
   "cell_type": "markdown",
   "id": "e3ed3ffc",
   "metadata": {
    "heading_collapsed": true
   },
   "source": [
    "#### core"
   ]
  },
  {
   "cell_type": "markdown",
   "id": "9fdc27d5",
   "metadata": {
    "hidden": true
   },
   "source": [
    "Refere-se ao pacote central do Pandas, que contém as principais estruturas de dados e funcionalidades da biblioteca."
   ]
  },
  {
   "cell_type": "code",
   "execution_count": null,
   "id": "36da6a09",
   "metadata": {
    "hidden": true
   },
   "outputs": [],
   "source": [
    "import pandas as pd\n",
    "from pandas.core import series\n",
    "\n",
    "data = [10, 20, 30]\n",
    "s = series.Series(data)\n",
    "print(s)"
   ]
  },
  {
   "cell_type": "markdown",
   "id": "a16edec2",
   "metadata": {
    "heading_collapsed": true
   },
   "source": [
    "### <div style=\"margin-top: -20px;\">\n",
    "<hr style=\"border: 2px solid blue;\">\n",
    "\n",
    "<font color='blue'><span style=\"font-size: 18px;\"><strong>22.3.1 Métodos e Recursos para Trabalhar com Dados - Parte 2</strong></span></font>\n",
    "\n",
    "<hr style=\"border: 2px solid blue;\">\n",
    "</div>"
   ]
  },
  {
   "cell_type": "markdown",
   "id": "56135ace",
   "metadata": {
    "heading_collapsed": true,
    "hidden": true
   },
   "source": [
    "#### crosstab"
   ]
  },
  {
   "cell_type": "markdown",
   "id": "a092b86c",
   "metadata": {
    "hidden": true
   },
   "source": [
    "A função \"crosstab\" é usada para calcular uma tabela de frequência cruzada a partir de dois ou mais fatores."
   ]
  },
  {
   "cell_type": "code",
   "execution_count": null,
   "id": "d8442ecd",
   "metadata": {
    "hidden": true
   },
   "outputs": [],
   "source": [
    "import pandas as pd\n",
    "\n",
    "data = {'A': ['A', 'B', 'A', 'B'],\n",
    "        'B': ['X', 'Y', 'Y', 'X'],\n",
    "        'Valores': [1, 2, 3, 4]}\n",
    "df = pd.DataFrame(data)\n",
    "cross_tab = pd.crosstab(df['A'], df['B'], values=df['Valores'], aggfunc='sum')\n",
    "cross_tab"
   ]
  },
  {
   "cell_type": "markdown",
   "id": "ffb69926",
   "metadata": {
    "heading_collapsed": true,
    "hidden": true
   },
   "source": [
    "#### cut"
   ]
  },
  {
   "cell_type": "markdown",
   "id": "00258ca1",
   "metadata": {
    "hidden": true
   },
   "source": [
    "A função \"cut\" é usada para dividir dados em intervalos (bins) com base em valores numéricos. Ela retorna uma nova coluna categórica indicando a qual intervalo cada valor pertence."
   ]
  },
  {
   "cell_type": "code",
   "execution_count": null,
   "id": "493ac7d9",
   "metadata": {
    "hidden": true
   },
   "outputs": [],
   "source": [
    "import pandas as pd\n",
    "\n",
    "data = {'Valores': [1, 2, 3, 4, 5, 6, 7, 8, 9, 10]}\n",
    "df = pd.DataFrame(data)\n",
    "df['Intervalos'] = pd.cut(df['Valores'], bins=[0, 3, 6, 10])\n",
    "df"
   ]
  },
  {
   "cell_type": "markdown",
   "id": "a2e1572a",
   "metadata": {
    "heading_collapsed": true,
    "hidden": true
   },
   "source": [
    "#### date_range"
   ]
  },
  {
   "cell_type": "markdown",
   "id": "90f373b3",
   "metadata": {
    "hidden": true
   },
   "source": [
    "A função \"date_range\" é usada para criar um intervalo de datas. Ela retorna um objeto do tipo DatetimeIndex que contém as datas dentro de um período especificado."
   ]
  },
  {
   "cell_type": "code",
   "execution_count": null,
   "id": "a6d169e8",
   "metadata": {
    "hidden": true
   },
   "outputs": [],
   "source": [
    "import pandas as pd\n",
    "\n",
    "daterange = pd.date_range(start='2021-01-01', end='2021-01-10')\n",
    "print(daterange)\n"
   ]
  },
  {
   "cell_type": "markdown",
   "id": "626c671a",
   "metadata": {
    "heading_collapsed": true,
    "hidden": true
   },
   "source": [
    "#### DataFrame"
   ]
  },
  {
   "cell_type": "markdown",
   "id": "9f8c0112",
   "metadata": {
    "hidden": true
   },
   "source": [
    "O DataFrame é uma estrutura de dados tabular bidimensional do Pandas, com rótulos de linha e coluna. Ele é semelhante a uma tabela de banco de dados ou uma planilha do Excel, onde os dados são organizados em colunas e linhas. É uma das principais estruturas de dados do Pandas para análise e manipulação de dados."
   ]
  },
  {
   "cell_type": "code",
   "execution_count": null,
   "id": "e666e663",
   "metadata": {
    "hidden": true
   },
   "outputs": [],
   "source": [
    "import pandas as pd\n",
    "\n",
    "data = {'Nome': ['Alice', 'Bob', 'Charlie'],\n",
    "        'Idade': [25, 30, 35]}\n",
    "df = pd.DataFrame(data)\n",
    "df"
   ]
  },
  {
   "cell_type": "markdown",
   "id": "32c05e63",
   "metadata": {
    "heading_collapsed": true,
    "hidden": true
   },
   "source": [
    "#### DateOffset"
   ]
  },
  {
   "cell_type": "markdown",
   "id": "1a08a12b",
   "metadata": {
    "hidden": true
   },
   "source": [
    "O DateOffset é uma classe do Pandas que representa um deslocamento de datas. Ele é usado para adicionar ou subtrair um período específico de datas. O DateOffset pode ser usado para realizar operações de deslocamento de datas, como adicionar um dia, um mês ou um ano a uma data específica."
   ]
  },
  {
   "cell_type": "code",
   "execution_count": null,
   "id": "b44fff68",
   "metadata": {
    "hidden": true
   },
   "outputs": [],
   "source": [
    "import pandas as pd\n",
    "\n",
    "date = pd.Timestamp('2021-01-01')\n",
    "new_date = date + pd.DateOffset(days=7)\n",
    "print(new_date)"
   ]
  },
  {
   "cell_type": "markdown",
   "id": "c493908e",
   "metadata": {
    "heading_collapsed": true,
    "hidden": true
   },
   "source": [
    "#### DatetimeIndex"
   ]
  },
  {
   "cell_type": "markdown",
   "id": "b77c2995",
   "metadata": {
    "hidden": true
   },
   "source": [
    "O DatetimeIndex é um tipo de índice do Pandas usado para representar datas e horários. Ele é criado a partir de uma coluna de datas ou horários e é usado para indexar e organizar os dados temporalmente em um DataFrame."
   ]
  },
  {
   "cell_type": "code",
   "execution_count": null,
   "id": "84efcd69",
   "metadata": {
    "hidden": true
   },
   "outputs": [],
   "source": [
    "import pandas as pd\n",
    "\n",
    "data = {'Valores': [10, 20, 30, 40]}\n",
    "dates = pd.date_range(start='2021-01-01', periods=4)\n",
    "df = pd.DataFrame(data, index=dates)\n",
    "df"
   ]
  },
  {
   "cell_type": "markdown",
   "id": "9737b6db",
   "metadata": {
    "heading_collapsed": true,
    "hidden": true
   },
   "source": [
    "#### DatetimeTZDtype"
   ]
  },
  {
   "cell_type": "markdown",
   "id": "a7294a59",
   "metadata": {
    "hidden": true
   },
   "source": [
    "O DatetimeTZDtype é um tipo de dados do Pandas que representa datas e horários com informações de fuso horário. Ele é usado para armazenar e manipular dados de data e hora com suporte a fusos horários em uma coluna do DataFrame."
   ]
  },
  {
   "cell_type": "code",
   "execution_count": null,
   "id": "a92a4fd4",
   "metadata": {
    "hidden": true
   },
   "outputs": [],
   "source": [
    "import pandas as pd\n",
    "import pytz\n",
    "\n",
    "data = {'Horário': [pd.Timestamp('2021-01-01', tz='UTC'), pd.Timestamp('2021-01-02', tz='Europe/London')]}\n",
    "df = pd.DataFrame(data)\n",
    "df['Horário'] = pd.to_datetime(df['Horário'], utc=True).astype('datetime64[ns, UTC]')\n",
    "df\n"
   ]
  },
  {
   "cell_type": "markdown",
   "id": "53f1de6c",
   "metadata": {
    "heading_collapsed": true,
    "hidden": true
   },
   "source": [
    "#### describe_option"
   ]
  },
  {
   "cell_type": "markdown",
   "id": "3683ad14",
   "metadata": {
    "hidden": true
   },
   "source": [
    "A função \"describe_option\" é usada para exibir uma descrição das opções de configuração do Pandas. Ela fornece informações sobre as configurações disponíveis e seus valores atuais."
   ]
  },
  {
   "cell_type": "code",
   "execution_count": null,
   "id": "0be3d620",
   "metadata": {
    "ExecuteTime": {
     "end_time": "2023-06-19T20:50:21.083398Z",
     "start_time": "2023-06-19T20:50:21.074456Z"
    },
    "hidden": true
   },
   "outputs": [],
   "source": [
    "import pandas as pd\n",
    "\n",
    "pd.describe_option()"
   ]
  },
  {
   "cell_type": "markdown",
   "id": "ade05e22",
   "metadata": {
    "heading_collapsed": true,
    "hidden": true
   },
   "source": [
    "#### errors"
   ]
  },
  {
   "cell_type": "markdown",
   "id": "254a6d97",
   "metadata": {
    "hidden": true
   },
   "source": [
    "Módulo do Pandas que contém constantes para especificar o comportamento ao lidar com erros durante operações de análise de dados, como conversão de tipos ou preenchimento de valores ausentes."
   ]
  },
  {
   "cell_type": "code",
   "execution_count": null,
   "id": "dee270e4",
   "metadata": {
    "hidden": true
   },
   "outputs": [],
   "source": [
    "import pandas as pd\n",
    "\n",
    "data = {'Valores': ['1', '2', 'x']}\n",
    "df = pd.DataFrame(data)\n",
    "df['Valores'] = pd.to_numeric(df['Valores'], errors='coerce')\n",
    "df"
   ]
  },
  {
   "cell_type": "markdown",
   "id": "91440077",
   "metadata": {
    "heading_collapsed": true,
    "hidden": true
   },
   "source": [
    "#### eval"
   ]
  },
  {
   "cell_type": "markdown",
   "id": "c3351e00",
   "metadata": {
    "hidden": true
   },
   "source": [
    "A função \"eval\" é usada para avaliar uma expressão de string como uma expressão de código Python válido. Ela permite realizar cálculos ou operações em colunas de um DataFrame de forma eficiente."
   ]
  },
  {
   "cell_type": "code",
   "execution_count": null,
   "id": "72cec671",
   "metadata": {
    "hidden": true
   },
   "outputs": [],
   "source": [
    "import pandas as pd\n",
    "\n",
    "data = {'A': [1, 2, 3],\n",
    "        'B': [4, 5, 6]}\n",
    "df = pd.DataFrame(data)\n",
    "result = df.eval('C = A + B')\n",
    "result"
   ]
  },
  {
   "cell_type": "markdown",
   "id": "d31322bf",
   "metadata": {
    "heading_collapsed": true
   },
   "source": [
    "### <div style=\"margin-top: -20px;\">\n",
    "<hr style=\"border: 2px solid blue;\">\n",
    "\n",
    "<font color='blue'><span style=\"font-size: 18px;\"><strong>22.3.1 Métodos e Recursos para Trabalhar com Dados - Parte 3</strong></span></font>\n",
    "\n",
    "<hr style=\"border: 2px solid blue;\">\n",
    "</div>"
   ]
  },
  {
   "cell_type": "markdown",
   "id": "c8cf59e0",
   "metadata": {
    "heading_collapsed": true,
    "hidden": true
   },
   "source": [
    "#### ExcelFile"
   ]
  },
  {
   "cell_type": "markdown",
   "id": "abe9a37e",
   "metadata": {
    "hidden": true
   },
   "source": [
    "A classe ExcelFile do Pandas é usada para representar um arquivo Excel. Ela permite ler dados de planilhas de um arquivo Excel existente."
   ]
  },
  {
   "cell_type": "code",
   "execution_count": null,
   "id": "0ef9d820",
   "metadata": {
    "hidden": true
   },
   "outputs": [],
   "source": [
    "import pandas as pd\n",
    "\n",
    "file = pd.ExcelFile('dados1.xlsx') # Caso não exista crie o arquivo dados1 e o salve na pasta deste arquivo\n",
    "df = file.parse('Planilha1')       # Crie uma planilha de nome Planilha1 no arquivo dados1\n",
    "df"
   ]
  },
  {
   "cell_type": "markdown",
   "id": "0f658a85",
   "metadata": {
    "heading_collapsed": true,
    "hidden": true
   },
   "source": [
    "#### ExcelWriter"
   ]
  },
  {
   "cell_type": "markdown",
   "id": "634b3009",
   "metadata": {
    "hidden": true
   },
   "source": [
    "A classe ExcelWriter do Pandas é usada para criar e escrever em arquivos Excel. Ela permite criar um arquivo Excel e escrever dados em diferentes planilhas."
   ]
  },
  {
   "cell_type": "code",
   "execution_count": null,
   "id": "6e3ff263",
   "metadata": {
    "hidden": true
   },
   "outputs": [],
   "source": [
    "# Cria o arquivo dados2.xlsx na mesma pasta que este arquivo\n",
    "import pandas as pd\n",
    "\n",
    "data1 = {'Coluna1': [1, 2, 3],\n",
    "         'Coluna2': [4, 5, 6]}\n",
    "df1 = pd.DataFrame(data1)\n",
    "\n",
    "data2 = {'Coluna1': ['A', 'B', 'C'],\n",
    "         'Coluna2': ['D', 'E', 'F']}\n",
    "df2 = pd.DataFrame(data2)\n",
    "\n",
    "with pd.ExcelWriter('dados2.xlsx') as writer:\n",
    "    df1.to_excel(writer, sheet_name='Planilha1')\n",
    "    df2.to_excel(writer, sheet_name='Planilha2')"
   ]
  },
  {
   "cell_type": "markdown",
   "id": "e7335279",
   "metadata": {
    "heading_collapsed": true,
    "hidden": true
   },
   "source": [
    "#### factorize"
   ]
  },
  {
   "cell_type": "markdown",
   "id": "85bf83e8",
   "metadata": {
    "hidden": true
   },
   "source": [
    "A função \"factorize\" é usada para mapear valores únicos em uma coluna para valores numéricos. Ela retorna um array de valores inteiros representando a posição de cada valor único."
   ]
  },
  {
   "cell_type": "code",
   "execution_count": null,
   "id": "9296b6eb",
   "metadata": {
    "hidden": true
   },
   "outputs": [],
   "source": [
    "import pandas as pd\n",
    "\n",
    "data = {'Categoria': ['A', 'B', 'C', 'A', 'B']}\n",
    "df = pd.DataFrame(data)\n",
    "labels, levels = pd.factorize(df['Categoria'])\n",
    "print(labels)"
   ]
  },
  {
   "cell_type": "markdown",
   "id": "e1b2572c",
   "metadata": {
    "heading_collapsed": true,
    "hidden": true
   },
   "source": [
    "#### Float32Dtype"
   ]
  },
  {
   "cell_type": "markdown",
   "id": "b260526c",
   "metadata": {
    "hidden": true
   },
   "source": [
    "Float32Dtype é um tipo de dados do Pandas que representa números de ponto flutuante de precisão simples (32 bits). Ele é usado para armazenar e manipular dados numéricos de ponto flutuante com precisão simples."
   ]
  },
  {
   "cell_type": "code",
   "execution_count": null,
   "id": "2a3fe22e",
   "metadata": {
    "hidden": true
   },
   "outputs": [],
   "source": [
    "import pandas as pd\n",
    "\n",
    "data = {'Valores': [1.23, 4.56, 7.89]}\n",
    "df = pd.DataFrame(data, dtype='float32')\n",
    "df"
   ]
  },
  {
   "cell_type": "markdown",
   "id": "ab297db2",
   "metadata": {
    "heading_collapsed": true,
    "hidden": true
   },
   "source": [
    "#### Float64Dtype"
   ]
  },
  {
   "cell_type": "markdown",
   "id": "aaf60b01",
   "metadata": {
    "hidden": true
   },
   "source": [
    "Float64Dtype é um tipo de dados do Pandas que representa números de ponto flutuante de dupla precisão (64 bits). Ele é usado para armazenar e manipular dados numéricos de ponto flutuante com alta precisão."
   ]
  },
  {
   "cell_type": "code",
   "execution_count": null,
   "id": "bff90459",
   "metadata": {
    "hidden": true
   },
   "outputs": [],
   "source": [
    "import pandas as pd\n",
    "\n",
    "data = {'Valores': [1.23, 4.56, 7.89]}\n",
    "df = pd.DataFrame(data, dtype='float64')\n",
    "df"
   ]
  },
  {
   "cell_type": "markdown",
   "id": "e7498682",
   "metadata": {
    "heading_collapsed": true,
    "hidden": true
   },
   "source": [
    "#### from_dummies"
   ]
  },
  {
   "cell_type": "markdown",
   "id": "a77635f9",
   "metadata": {
    "hidden": true
   },
   "source": [
    "A função \"from_dummies\" é usada para converter uma matriz de variáveis dummy em um DataFrame. Ela transforma as variáveis dummy de volta em suas representações originais."
   ]
  },
  {
   "cell_type": "code",
   "execution_count": null,
   "id": "d2dc6cef",
   "metadata": {
    "hidden": true
   },
   "outputs": [],
   "source": [
    "import pandas as pd\n",
    "\n",
    "data = {'A': [1, 0, 1],\n",
    "        'B': [0, 1, 1]}\n",
    "df = pd.DataFrame(data)\n",
    "result\n"
   ]
  },
  {
   "cell_type": "markdown",
   "id": "21cfa697",
   "metadata": {
    "heading_collapsed": true,
    "hidden": true
   },
   "source": [
    "#### get_dummies"
   ]
  },
  {
   "cell_type": "markdown",
   "id": "a1f37b9d",
   "metadata": {
    "hidden": true
   },
   "source": [
    "A função \"get_dummies\" é usada para converter variáveis categóricas em variáveis dummy. Ela cria colunas binárias para cada categoria presente nos dados."
   ]
  },
  {
   "cell_type": "code",
   "execution_count": null,
   "id": "87f4cde0",
   "metadata": {
    "hidden": true
   },
   "outputs": [],
   "source": [
    "import pandas as pd\n",
    "\n",
    "data = {'Categoria': ['A', 'B', 'C']}\n",
    "df = pd.DataFrame(data)\n",
    "result = pd.get_dummies(df['Categoria'])\n",
    "result"
   ]
  },
  {
   "cell_type": "markdown",
   "id": "4260186f",
   "metadata": {
    "heading_collapsed": true,
    "hidden": true
   },
   "source": [
    "#### get_option"
   ]
  },
  {
   "cell_type": "markdown",
   "id": "85c4b6d1",
   "metadata": {
    "hidden": true
   },
   "source": [
    "A função \"get_option\" é usada para obter o valor atual de uma opção de configuração do Pandas."
   ]
  },
  {
   "cell_type": "code",
   "execution_count": null,
   "id": "b85d34e9",
   "metadata": {
    "hidden": true
   },
   "outputs": [],
   "source": [
    "import pandas as pd\n",
    "\n",
    "value = pd.get_option('display.max_columns')\n",
    "print(value)"
   ]
  },
  {
   "cell_type": "markdown",
   "id": "1bdce000",
   "metadata": {
    "heading_collapsed": true,
    "hidden": true
   },
   "source": [
    "#### Grouper"
   ]
  },
  {
   "cell_type": "markdown",
   "id": "36850731",
   "metadata": {
    "hidden": true
   },
   "source": [
    "Grouper é uma classe do Pandas usada para agrupar dados com base em valores em uma ou mais colunas. Ela é útil para operações de agregação e análise de dados agrupados."
   ]
  },
  {
   "cell_type": "code",
   "execution_count": null,
   "id": "62cc2090",
   "metadata": {
    "hidden": true
   },
   "outputs": [],
   "source": [
    "import pandas as pd\n",
    "\n",
    "data = {'Grupo': ['A', 'A', 'B', 'B'],\n",
    "        'Valores': [1, 2, 3, 4]}\n",
    "df = pd.DataFrame(data)\n",
    "grouped = df.groupby(pd.Grouper(key='Grupo'))\n",
    "grouped.sum()"
   ]
  },
  {
   "cell_type": "markdown",
   "id": "a7aba7da",
   "metadata": {
    "heading_collapsed": true,
    "hidden": true
   },
   "source": [
    "#### HDFStore"
   ]
  },
  {
   "cell_type": "markdown",
   "id": "a500590b",
   "metadata": {
    "hidden": true
   },
   "source": [
    "HDFStore é uma classe do Pandas usada para armazenar e recuperar dados em formato HDF5 (Hierarchical Data Format version 5). Ele permite salvar grandes quantidades de dados de forma eficiente e oferece uma maneira conveniente de trabalhar com conjuntos de dados grandes."
   ]
  },
  {
   "cell_type": "code",
   "execution_count": null,
   "id": "ac5e091d",
   "metadata": {
    "hidden": true
   },
   "outputs": [],
   "source": [
    "import pandas as pd\n",
    "\n",
    "data = {'Valores': [1, 2, 3, 4]}\n",
    "df = pd.DataFrame(data)\n",
    "\n",
    "with pd.HDFStore('dados.h5') as store:    # Cria o arquivo dados.h5 na mesma pasta que este arquivo\n",
    "    store['dataframe'] = df\n",
    "    retrieved_df = store['dataframe']\n",
    "    retrieved_df"
   ]
  },
  {
   "cell_type": "markdown",
   "id": "cd578c4a",
   "metadata": {
    "heading_collapsed": true
   },
   "source": [
    "### <div style=\"margin-top: -20px;\">\n",
    "<hr style=\"border: 2px solid blue;\">\n",
    "\n",
    "<font color='blue'><span style=\"font-size: 18px;\"><strong>22.3.1 Métodos e Recursos para Trabalhar com Dados - Parte 4</strong></span></font>\n",
    "\n",
    "<hr style=\"border: 2px solid blue;\">\n",
    "</div>"
   ]
  },
  {
   "cell_type": "markdown",
   "id": "85f19cb5",
   "metadata": {
    "heading_collapsed": true,
    "hidden": true
   },
   "source": [
    "#### Index"
   ]
  },
  {
   "cell_type": "markdown",
   "id": "ea5c1926",
   "metadata": {
    "hidden": true
   },
   "source": [
    "Index é uma estrutura de dados do Pandas usada para representar um índice unidimensional. Ele é usado para rotular e indexar dados em uma Series ou DataFrame."
   ]
  },
  {
   "cell_type": "code",
   "execution_count": null,
   "id": "497f88b2",
   "metadata": {
    "hidden": true
   },
   "outputs": [],
   "source": [
    "import pandas as pd\n",
    "\n",
    "data = {'Valores': [10, 20, 30]}\n",
    "index = pd.Index(['A', 'B', 'C'])\n",
    "df = pd.DataFrame(data, index=index)\n",
    "df"
   ]
  },
  {
   "cell_type": "markdown",
   "id": "8d5d6825",
   "metadata": {
    "heading_collapsed": true,
    "hidden": true
   },
   "source": [
    "#### IndexSlice"
   ]
  },
  {
   "cell_type": "markdown",
   "id": "c27ceeea",
   "metadata": {
    "hidden": true
   },
   "source": [
    "IndexSlice é uma classe do Pandas usada para realizar fatiamento avançado em objetos que possuem MultiIndex. Ela permite selecionar e fatiar dados com base em valores específicos nas dimensões do índice."
   ]
  },
  {
   "cell_type": "code",
   "execution_count": null,
   "id": "7e87e015",
   "metadata": {
    "hidden": true
   },
   "outputs": [],
   "source": [
    "import pandas as pd\n",
    "\n",
    "index = pd.MultiIndex.from_product([['A', 'B'], ['X', 'Y']])\n",
    "data = pd.DataFrame({'Valores': [1, 2, 3, 4]}, index=index)\n",
    "idx = pd.IndexSlice\n",
    "sliced_data = data.loc[idx[:, 'Y'], :]\n",
    "sliced_data"
   ]
  },
  {
   "cell_type": "markdown",
   "id": "6a10cb00",
   "metadata": {
    "heading_collapsed": true,
    "hidden": true
   },
   "source": [
    "#### infer_freq"
   ]
  },
  {
   "cell_type": "markdown",
   "id": "ffcc96d9",
   "metadata": {
    "hidden": true
   },
   "source": [
    "A função \"infer_freq\" é usada para inferir a frequência predominante de uma série temporal. Ela retorna uma string representando a frequência."
   ]
  },
  {
   "cell_type": "code",
   "execution_count": null,
   "id": "40303bd8",
   "metadata": {
    "hidden": true
   },
   "outputs": [],
   "source": [
    "import pandas as pd\n",
    "\n",
    "index = pd.date_range(start='2021-01-01', end='2021-01-10', freq='D')\n",
    "print(pd.infer_freq(index))"
   ]
  },
  {
   "cell_type": "markdown",
   "id": "1863d5d9",
   "metadata": {
    "heading_collapsed": true,
    "hidden": true
   },
   "source": [
    "#### Int8Dtype"
   ]
  },
  {
   "cell_type": "markdown",
   "id": "f2bc4664",
   "metadata": {
    "hidden": true
   },
   "source": [
    "Int8Dtype é um tipo de dados do Pandas que representa números inteiros com 8 bits. Ele é usado para armazenar e manipular dados numéricos inteiros com uma faixa menor de valores possíveis."
   ]
  },
  {
   "cell_type": "code",
   "execution_count": null,
   "id": "84a49808",
   "metadata": {
    "hidden": true
   },
   "outputs": [],
   "source": [
    "import pandas as pd\n",
    "\n",
    "data = {'Valores': [10, 20, 30]}\n",
    "df = pd.DataFrame(data, dtype='int8')\n",
    "df\n"
   ]
  },
  {
   "cell_type": "markdown",
   "id": "d6f35763",
   "metadata": {
    "heading_collapsed": true,
    "hidden": true
   },
   "source": [
    "#### Int16Dtype, Int32Dtype, Int64Dtype"
   ]
  },
  {
   "cell_type": "markdown",
   "id": "3a7e7fd9",
   "metadata": {
    "hidden": true
   },
   "source": [
    "Esses são tipos de dados do Pandas que representam números inteiros com diferentes tamanhos de bits (16 bits, 32 bits, 64 bits). Eles são usados para armazenar e manipular dados numéricos inteiros com diferentes faixas de valores."
   ]
  },
  {
   "cell_type": "code",
   "execution_count": null,
   "id": "f56fc69a",
   "metadata": {
    "hidden": true
   },
   "outputs": [],
   "source": [
    "import pandas as pd\n",
    "\n",
    "data = {'Valores': [10, 20, 30]}\n",
    "df = pd.DataFrame(data, dtype='int32')\n",
    "df"
   ]
  },
  {
   "cell_type": "markdown",
   "id": "916dc648",
   "metadata": {
    "heading_collapsed": true,
    "hidden": true
   },
   "source": [
    "#### Interval"
   ]
  },
  {
   "cell_type": "markdown",
   "id": "b869b4d5",
   "metadata": {
    "hidden": true
   },
   "source": [
    "O Interval é uma classe do Pandas usada para representar um intervalo de valores. Ele é útil para segmentar e agrupar dados com base em intervalos específicos."
   ]
  },
  {
   "cell_type": "code",
   "execution_count": null,
   "id": "80f4c44f",
   "metadata": {
    "hidden": true
   },
   "outputs": [],
   "source": [
    "import pandas as pd\n",
    "\n",
    "interval = pd.Interval(0, 5)\n",
    "print(interval)"
   ]
  },
  {
   "cell_type": "markdown",
   "id": "0d1ad6cc",
   "metadata": {
    "heading_collapsed": true,
    "hidden": true
   },
   "source": [
    "#### interval_range"
   ]
  },
  {
   "cell_type": "markdown",
   "id": "2b346418",
   "metadata": {
    "hidden": true
   },
   "source": [
    "A função \"interval_range\" é usada para criar um intervalo de valores em uma sequência específica. Ela retorna um objeto do tipo IntervalIndex."
   ]
  },
  {
   "cell_type": "code",
   "execution_count": null,
   "id": "e50749e2",
   "metadata": {
    "hidden": true
   },
   "outputs": [],
   "source": [
    "import pandas as pd\n",
    "\n",
    "interval = pd.interval_range(start=0, end=10, freq=2)\n",
    "print(interval)"
   ]
  },
  {
   "cell_type": "markdown",
   "id": "a813b84c",
   "metadata": {
    "hidden": true
   },
   "source": [
    "IntervalDtype: O IntervalDtype é um tipo de dados do Pandas que define uma coluna de um DataFrame como um intervalo. Ele especifica que os valores da coluna devem ser interpretados como intervalos."
   ]
  },
  {
   "cell_type": "code",
   "execution_count": null,
   "id": "734416f2",
   "metadata": {
    "hidden": true
   },
   "outputs": [],
   "source": [
    "import pandas as pd\n",
    "\n",
    "data = {'Intervalo': [pd.Interval(0, 5), pd.Interval(5, 10)]}\n",
    "df = pd.DataFrame(data, dtype='interval')\n",
    "print(df['Intervalo'])\n"
   ]
  },
  {
   "cell_type": "markdown",
   "id": "5443079a",
   "metadata": {
    "hidden": true
   },
   "source": [
    "IntervalIndex: O IntervalIndex é um tipo de índice do Pandas usado para representar um índice baseado em intervalos. Ele é semelhante a um índice regular, mas em vez de rótulos de linha individuais, ele possui rótulos de linha representando intervalos de valores."
   ]
  },
  {
   "cell_type": "code",
   "execution_count": null,
   "id": "07fa6d71",
   "metadata": {
    "hidden": true
   },
   "outputs": [],
   "source": [
    "import pandas as pd\n",
    "\n",
    "intervals = pd.IntervalIndex.from_tuples([(0, 5), (5, 10), (10, 15)])\n",
    "data = pd.Series([10, 20, 30], index=intervals)\n",
    "print(data)\n"
   ]
  },
  {
   "cell_type": "markdown",
   "id": "fb1d6b64",
   "metadata": {
    "heading_collapsed": true,
    "hidden": true
   },
   "source": [
    "#### isna e isnull"
   ]
  },
  {
   "cell_type": "markdown",
   "id": "9f9ced4a",
   "metadata": {
    "hidden": true
   },
   "source": [
    "As funções \"isna\" e \"isnull\" são usadas para verificar se os valores em uma estrutura de dados do Pandas são valores ausentes ou nulos (\"pd.NA\", \"None\" ou \"float('nan')\")."
   ]
  },
  {
   "cell_type": "code",
   "execution_count": null,
   "id": "e3dbdb54",
   "metadata": {
    "hidden": true
   },
   "outputs": [],
   "source": [
    "import pandas as pd\n",
    "\n",
    "data = {'Valores': [1, 2, pd.NA]}\n",
    "df = pd.DataFrame(data)\n",
    "print(df['Valores'].isna())"
   ]
  },
  {
   "cell_type": "markdown",
   "id": "d74803f1",
   "metadata": {
    "heading_collapsed": true,
    "hidden": true
   },
   "source": [
    "#### json_normalize"
   ]
  },
  {
   "cell_type": "markdown",
   "id": "19d53595",
   "metadata": {
    "hidden": true
   },
   "source": [
    "A função \"json_normalize\" é usada para normalizar (flatten) dados JSON em uma estrutura tabular. Ela transforma dados JSON aninhados em uma tabela relacional."
   ]
  },
  {
   "cell_type": "code",
   "execution_count": null,
   "id": "0279675b",
   "metadata": {
    "hidden": true
   },
   "outputs": [],
   "source": [
    "import pandas as pd\n",
    "import json\n",
    "\n",
    "data = '''\n",
    "[\n",
    "    {\n",
    "        \"name\": \"John\",\n",
    "        \"age\": 30,\n",
    "        \"city\": \"New York\",\n",
    "        \"skills\": [\"Python\", \"SQL\"]\n",
    "    },\n",
    "    {\n",
    "        \"name\": \"Alice\",\n",
    "        \"age\": 25,\n",
    "        \"city\": \"San Francisco\",\n",
    "        \"skills\": [\"JavaScript\", \"HTML\"]\n",
    "    }\n",
    "]\n",
    "'''\n",
    "\n",
    "json_data = json.loads(data)\n",
    "df = pd.json_normalize(json_data)\n",
    "df\n"
   ]
  },
  {
   "cell_type": "markdown",
   "id": "f2d56379",
   "metadata": {
    "heading_collapsed": true,
    "hidden": true
   },
   "source": [
    "#### lreshape"
   ]
  },
  {
   "cell_type": "markdown",
   "id": "c6b3bcdd",
   "metadata": {
    "hidden": true
   },
   "source": [
    "A função \"lreshape\" é usada para transformar um DataFrame largo (wide) em um formato mais longo (long). Ela converte colunas em múltiplas colunas de variáveis."
   ]
  },
  {
   "cell_type": "code",
   "execution_count": null,
   "id": "bdcc4f9f",
   "metadata": {
    "hidden": true
   },
   "outputs": [],
   "source": [
    "import pandas as pd\n",
    "\n",
    "data = {\n",
    "    'id': [1, 2],\n",
    "    'A_foo': [10, 20],\n",
    "    'B_foo': [30, 40],\n",
    "    'A_bar': [50, 60],\n",
    "    'B_bar': [70, 80]\n",
    "}\n",
    "\n",
    "df = pd.DataFrame(data)\n",
    "df = pd.lreshape(df, {'foo': ['A_foo', 'B_foo'], 'bar': ['A_bar', 'B_bar']})\n",
    "df\n"
   ]
  },
  {
   "cell_type": "markdown",
   "id": "7fb125ff",
   "metadata": {
    "heading_collapsed": true
   },
   "source": [
    "### <div style=\"margin-top: -20px;\">\n",
    "<hr style=\"border: 2px solid blue;\">\n",
    "\n",
    "<font color='blue'><span style=\"font-size: 18px;\"><strong>22.3.1 Métodos e Recursos para Trabalhar com Dados - Parte 5</strong></span></font>\n",
    "\n",
    "<hr style=\"border: 2px solid blue;\">\n",
    "</div>"
   ]
  },
  {
   "cell_type": "markdown",
   "id": "3adf33b5",
   "metadata": {
    "heading_collapsed": true,
    "hidden": true
   },
   "source": [
    "#### melt"
   ]
  },
  {
   "cell_type": "markdown",
   "id": "999d8826",
   "metadata": {
    "hidden": true
   },
   "source": [
    "A função \"melt\" é usada para transformar um DataFrame de formato largo (wide) em um formato mais longo (long). Ela derrete as colunas em uma única coluna de variáveis."
   ]
  },
  {
   "cell_type": "code",
   "execution_count": null,
   "id": "e3967e02",
   "metadata": {
    "hidden": true
   },
   "outputs": [],
   "source": [
    "import pandas as pd\n",
    "\n",
    "data = {\n",
    "    'id': [1, 2],\n",
    "    'Name': ['John', 'Alice'],\n",
    "    'Maths': [90, 85],\n",
    "    'Physics': [80, 75]\n",
    "}\n",
    "\n",
    "df = pd.DataFrame(data)\n",
    "df = pd.melt(df, id_vars=['id', 'Name'], var_name='Subject', value_name='Score')\n",
    "df"
   ]
  },
  {
   "cell_type": "markdown",
   "id": "30f8ab65",
   "metadata": {
    "heading_collapsed": true,
    "hidden": true
   },
   "source": [
    "#### merge"
   ]
  },
  {
   "cell_type": "markdown",
   "id": "ee790820",
   "metadata": {
    "hidden": true
   },
   "source": [
    "A função \"merge\" é usada para combinar dois ou mais DataFrames com base em colunas comuns. Ela realiza uma junção (join) dos DataFrames usando as colunas especificadas."
   ]
  },
  {
   "cell_type": "code",
   "execution_count": null,
   "id": "680530e0",
   "metadata": {
    "hidden": true
   },
   "outputs": [],
   "source": [
    "import pandas as pd\n",
    "\n",
    "data1 = {'id': [1, 2, 3], 'Name': ['John', 'Alice', 'Bob']}\n",
    "data2 = {'id': [1, 2, 4], 'Age': [30, 25, 35]}\n",
    "\n",
    "df1 = pd.DataFrame(data1)\n",
    "df2 = pd.DataFrame(data2)\n",
    "df = pd.merge(df1, df2, on='id')\n",
    "df"
   ]
  },
  {
   "cell_type": "markdown",
   "id": "c2229ea1",
   "metadata": {
    "heading_collapsed": true,
    "hidden": true
   },
   "source": [
    "#### merge_asof"
   ]
  },
  {
   "cell_type": "markdown",
   "id": "bad65763",
   "metadata": {
    "hidden": true
   },
   "source": [
    "A função \"merge_asof\" é usada para realizar uma junção (join) entre dois DataFrames usando a correspondência mais próxima dos valores nas colunas-chave. Ela realiza a junção com base em uma comparação por intervalo."
   ]
  },
  {
   "cell_type": "code",
   "execution_count": null,
   "id": "86451455",
   "metadata": {
    "hidden": true
   },
   "outputs": [],
   "source": [
    "import pandas as pd\n",
    "\n",
    "data1 = {'time': [1, 3, 6, 9, 12], 'value': [10, 20, 30, 40, 50]}\n",
    "data2 = {'time': [1, 6, 7, 9], 'result': ['A', 'B', 'C', 'D']} # A -> 1-3, B -> 3-6, C -> 6-9, D -> 9-12\n",
    "                                                                                      \n",
    "df1 = pd.DataFrame(data1)\n",
    "df2 = pd.DataFrame(data2)\n",
    "df = pd.merge_asof(df1, df2, on='time')\n",
    "df"
   ]
  },
  {
   "cell_type": "markdown",
   "id": "adc513f7",
   "metadata": {
    "heading_collapsed": true,
    "hidden": true
   },
   "source": [
    "#### merge_ordered"
   ]
  },
  {
   "cell_type": "markdown",
   "id": "db25dd12",
   "metadata": {
    "hidden": true
   },
   "source": [
    "A função \"merge_ordered\" é usada para realizar uma junção (join) ordenada entre dois DataFrames. Ela realiza a junção mantendo a ordem dos valores nas colunas-chave."
   ]
  },
  {
   "cell_type": "code",
   "execution_count": null,
   "id": "9348f49c",
   "metadata": {
    "hidden": true
   },
   "outputs": [],
   "source": [
    "import pandas as pd\n",
    "\n",
    "data1 = {'date': ['2021-01-01', '2021-01-03', '2021-01-05'], 'value': [10, 20, 30]}\n",
    "data2 = {'date': ['2021-01-02', '2021-01-03', '2021-01-04'], 'result': ['A', 'B', 'C']}\n",
    "\n",
    "df1 = pd.DataFrame(data1)\n",
    "df2 = pd.DataFrame(data2)\n",
    "df = pd.merge_ordered(df1, df2, on='date')\n",
    "df"
   ]
  },
  {
   "cell_type": "markdown",
   "id": "1cf52c8b",
   "metadata": {
    "heading_collapsed": true,
    "hidden": true
   },
   "source": [
    "#### MultiIndex"
   ]
  },
  {
   "cell_type": "markdown",
   "id": "e3563fe4",
   "metadata": {
    "hidden": true
   },
   "source": [
    "O MultiIndex é uma estrutura de dados do Pandas que permite a criação de índices hierárquicos ou multidimensionais. Ele é usado quando você precisa rotular e organizar dados com mais de uma dimensão."
   ]
  },
  {
   "cell_type": "code",
   "execution_count": null,
   "id": "8400fd52",
   "metadata": {
    "hidden": true
   },
   "outputs": [],
   "source": [
    "import pandas as pd\n",
    "\n",
    "data = {'Valores': [10, 20, 30, 40]}\n",
    "index = pd.MultiIndex.from_tuples([('A', 1), ('A', 2), ('B', 1), ('B', 2)])\n",
    "df = pd.DataFrame(data, index=index)\n",
    "df"
   ]
  },
  {
   "cell_type": "markdown",
   "id": "b36713ca",
   "metadata": {
    "heading_collapsed": true,
    "hidden": true
   },
   "source": [
    "#### NA"
   ]
  },
  {
   "cell_type": "markdown",
   "id": "b146eef7",
   "metadata": {
    "hidden": true
   },
   "source": [
    "NA é um valor especial do Pandas usado para representar valores ausentes ou nulos em uma estrutura de dados. Ele é usado para indicar a falta de um valor válido."
   ]
  },
  {
   "cell_type": "code",
   "execution_count": null,
   "id": "8c7aee83",
   "metadata": {
    "hidden": true
   },
   "outputs": [],
   "source": [
    "import pandas as pd\n",
    "import numpy as np\n",
    "\n",
    "data = {'Valores': [1, 2, np.nan, 4]}\n",
    "df = pd.DataFrame(data)\n",
    "df"
   ]
  },
  {
   "cell_type": "markdown",
   "id": "9ef44e16",
   "metadata": {
    "heading_collapsed": true,
    "hidden": true
   },
   "source": [
    "#### NaT"
   ]
  },
  {
   "cell_type": "markdown",
   "id": "ccb40562",
   "metadata": {
    "hidden": true
   },
   "source": [
    "NaT é um valor especial do Pandas usado para representar valores ausentes ou nulos em uma coluna de data e hora. Ele é usado para indicar a falta de um valor válido em dados de data e hora."
   ]
  },
  {
   "cell_type": "code",
   "execution_count": null,
   "id": "613225b1",
   "metadata": {
    "hidden": true
   },
   "outputs": [],
   "source": [
    "import pandas as pd\n",
    "\n",
    "data = {'Datas': [pd.Timestamp('2021-01-01'), pd.NaT, pd.Timestamp('2021-01-03')]}\n",
    "df = pd.DataFrame(data)\n",
    "df"
   ]
  },
  {
   "cell_type": "markdown",
   "id": "ddfea90c",
   "metadata": {
    "heading_collapsed": true,
    "hidden": true
   },
   "source": [
    "#### NamedAgg"
   ]
  },
  {
   "cell_type": "markdown",
   "id": "dc7da8c5",
   "metadata": {
    "hidden": true
   },
   "source": [
    "NamedAgg é uma função do Pandas usada para criar colunas agregadas em um DataFrame usando agregações nomeadas. Ele permite que você especifique o nome da coluna agregada e a função de agregação a ser aplicada."
   ]
  },
  {
   "cell_type": "code",
   "execution_count": null,
   "id": "cf039c68",
   "metadata": {
    "hidden": true
   },
   "outputs": [],
   "source": [
    "import pandas as pd\n",
    "\n",
    "data = {'Grupo': ['A', 'A', 'B', 'B'],\n",
    "        'Valores': [1, 2, 3, 4]}\n",
    "df = pd.DataFrame(data)\n",
    "aggregated = df.groupby('Grupo').agg(Soma=('Valores', 'sum'), Média=('Valores', 'mean'))\n",
    "aggregated"
   ]
  },
  {
   "cell_type": "markdown",
   "id": "ac72ea55",
   "metadata": {
    "heading_collapsed": true,
    "hidden": true
   },
   "source": [
    "#### notna"
   ]
  },
  {
   "cell_type": "markdown",
   "id": "1e22e8eb",
   "metadata": {
    "hidden": true
   },
   "source": [
    "A função \"notna\" é usada para verificar se os valores em uma estrutura de dados do Pandas não são valores ausentes (NaN)."
   ]
  },
  {
   "cell_type": "code",
   "execution_count": null,
   "id": "dd61f014",
   "metadata": {
    "hidden": true
   },
   "outputs": [],
   "source": [
    "import pandas as pd\n",
    "\n",
    "data = {'Coluna1': [1, 2, None, 4],\n",
    "        'Coluna2': [5, None, 7, 8]}\n",
    "\n",
    "df = pd.DataFrame(data)\n",
    "\n",
    "# Verificar quais valores da coluna 'Coluna1' são não nulos\n",
    "is_not_null = df['Coluna1'].notna()\n",
    "\n",
    "# Filtrar o DataFrame mantendo apenas as linhas com valores não nulos na coluna 'Coluna1'\n",
    "df_filtered = df[is_not_null]\n",
    "\n",
    "# Imprimir o DataFrame filtrado\n",
    "df_filtered\n"
   ]
  },
  {
   "cell_type": "markdown",
   "id": "41c6dfa1",
   "metadata": {
    "heading_collapsed": true,
    "hidden": true
   },
   "source": [
    "#### notnull"
   ]
  },
  {
   "cell_type": "markdown",
   "id": "085fec24",
   "metadata": {
    "hidden": true
   },
   "source": [
    "A função \"notnull\" é usada para verificar se os valores em uma estrutura de dados do Pandas não são valores nulos."
   ]
  },
  {
   "cell_type": "code",
   "execution_count": null,
   "id": "1367f593",
   "metadata": {
    "hidden": true
   },
   "outputs": [],
   "source": [
    "import pandas as pd\n",
    "\n",
    "data = {'Valores': [1, 2, None, 3, None]}\n",
    "df = pd.DataFrame(data)\n",
    "df['Valores'].notnull()"
   ]
  },
  {
   "cell_type": "markdown",
   "id": "e029b816",
   "metadata": {
    "heading_collapsed": true
   },
   "source": [
    "### <div style=\"margin-top: -20px;\">\n",
    "<hr style=\"border: 2px solid blue;\">\n",
    "\n",
    "<font color='blue'><span style=\"font-size: 18px;\"><strong>22.3.1 Métodos e Recursos para Trabalhar com Dados - Parte 6</strong></span></font>\n",
    "\n",
    "<hr style=\"border: 2px solid blue;\">\n",
    "</div>"
   ]
  },
  {
   "cell_type": "markdown",
   "id": "48154fdb",
   "metadata": {
    "heading_collapsed": true,
    "hidden": true
   },
   "source": [
    "#### offsets"
   ]
  },
  {
   "cell_type": "markdown",
   "id": "483d6dc2",
   "metadata": {
    "hidden": true
   },
   "source": [
    "\"offsets\" é um módulo do Pandas que fornece classes para representar deslocamentos (offsets) de datas e horários. Ele oferece funcionalidades relacionadas a deslocamento, como deslocamento de dias úteis, semanas, meses, etc."
   ]
  },
  {
   "cell_type": "code",
   "execution_count": null,
   "id": "458f5cf2",
   "metadata": {
    "hidden": true
   },
   "outputs": [],
   "source": [
    "import pandas as pd\n",
    "\n",
    "offset = pd.offsets.BDay(3)\n",
    "date = pd.Timestamp('2021-01-01')\n",
    "new_date = date + offset\n",
    "print(new_date)"
   ]
  },
  {
   "cell_type": "markdown",
   "id": "5cc3c8bf",
   "metadata": {
    "heading_collapsed": true,
    "hidden": true
   },
   "source": [
    "#### option_context"
   ]
  },
  {
   "cell_type": "markdown",
   "id": "a468f8b1",
   "metadata": {
    "hidden": true
   },
   "source": [
    "A função \"option_context\" é usada para definir temporariamente opções de configuração do Pandas dentro de um contexto específico. Ela permite alterar opções de configuração para um bloco de código específico."
   ]
  },
  {
   "cell_type": "code",
   "execution_count": null,
   "id": "4c486f4b",
   "metadata": {
    "hidden": true
   },
   "outputs": [],
   "source": [
    "import pandas as pd\n",
    "\n",
    "with pd.option_context('display.max_columns', 10):\n",
    "    df = pd.DataFrame({'A': [1, 2, 3], 'B': [4, 5, 6], 'C': [7, 8, 9]})\n",
    "    \n",
    "df"
   ]
  },
  {
   "cell_type": "markdown",
   "id": "fc5948a8",
   "metadata": {
    "heading_collapsed": true,
    "hidden": true
   },
   "source": [
    "#### options"
   ]
  },
  {
   "cell_type": "markdown",
   "id": "0a3de8bc",
   "metadata": {
    "hidden": true
   },
   "source": [
    "A função \"options\" é usada para obter ou definir opções de configuração do Pandas. Ela permite configurar várias opções de comportamento do Pandas."
   ]
  },
  {
   "cell_type": "code",
   "execution_count": null,
   "id": "03171fc1",
   "metadata": {
    "hidden": true
   },
   "outputs": [],
   "source": [
    "import pandas as pd\n",
    "\n",
    "pd.options.display.max_columns = 10\n",
    "df = pd.DataFrame({'A': [1, 2, 3], 'B': [4, 5, 6], 'C': [7, 8, 9]})\n",
    "df"
   ]
  },
  {
   "cell_type": "markdown",
   "id": "3ef44557",
   "metadata": {
    "heading_collapsed": true,
    "hidden": true
   },
   "source": [
    "#### pandas"
   ]
  },
  {
   "cell_type": "markdown",
   "id": "fcf4dac0",
   "metadata": {
    "hidden": true
   },
   "source": [
    "\"pandas\" é o pacote Python que fornece estruturas de dados e ferramentas para análise de dados. Ele oferece as principais estruturas de dados, como DataFrame e Series, juntamente com várias funções para manipulação, análise e visualização de dados."
   ]
  },
  {
   "cell_type": "code",
   "execution_count": null,
   "id": "8173aa1e",
   "metadata": {
    "hidden": true
   },
   "outputs": [],
   "source": [
    "import pandas as pd\n",
    "\n",
    "data = {'Col1': [1, 2, 3], 'Col2': ['A', 'B', 'C']}\n",
    "df = pd.DataFrame(data)\n",
    "df"
   ]
  },
  {
   "cell_type": "code",
   "execution_count": null,
   "id": "3703e65f",
   "metadata": {
    "hidden": true
   },
   "outputs": [],
   "source": [
    "#### Perid"
   ]
  },
  {
   "cell_type": "markdown",
   "id": "ec9de739",
   "metadata": {
    "hidden": true
   },
   "source": [
    "O Period é uma classe do Pandas usada para representar um período de tempo. Ele é usado para lidar com dados temporais discretos, como um mês, um trimestre ou um ano."
   ]
  },
  {
   "cell_type": "code",
   "execution_count": null,
   "id": "0ee90bc7",
   "metadata": {
    "hidden": true
   },
   "outputs": [],
   "source": [
    "import pandas as pd\n",
    "\n",
    "period1 = pd.Period('2021-01')\n",
    "period1"
   ]
  },
  {
   "cell_type": "code",
   "execution_count": null,
   "id": "808c95a7",
   "metadata": {
    "hidden": true
   },
   "outputs": [],
   "source": [
    "import pandas as pd\n",
    "\n",
    "period2 = pd.Period('2021-01-04')\n",
    "period2"
   ]
  },
  {
   "cell_type": "code",
   "execution_count": null,
   "id": "6409977b",
   "metadata": {
    "hidden": true
   },
   "outputs": [],
   "source": [
    "import pandas as pd\n",
    "\n",
    "data = {'Período': [pd.Period('2021-01'), pd.Period('2021-02')]}\n",
    "df = pd.DataFrame(data)\n",
    "df"
   ]
  },
  {
   "cell_type": "markdown",
   "id": "ed48ba21",
   "metadata": {
    "heading_collapsed": true,
    "hidden": true
   },
   "source": [
    "#### PeriodIndex"
   ]
  },
  {
   "cell_type": "markdown",
   "id": "fc53aee1",
   "metadata": {
    "hidden": true
   },
   "source": [
    "O PeriodIndex é um tipo de índice do Pandas usado para representar um índice baseado em períodos. Ele é semelhante a um índice regular, mas em vez de rótulos de linha individuais, ele possui rótulos de linha representando períodos de tempo."
   ]
  },
  {
   "cell_type": "code",
   "execution_count": null,
   "id": "a4b2abc9",
   "metadata": {
    "hidden": true
   },
   "outputs": [],
   "source": [
    "import pandas as pd\n",
    "\n",
    "periods = pd.PeriodIndex(['2021-01', '2021-02', '2021-03'], freq='M')\n",
    "data = pd.Series([10, 20, 30], index=periods)\n",
    "print(data)"
   ]
  },
  {
   "cell_type": "markdown",
   "id": "c1aac4d6",
   "metadata": {
    "heading_collapsed": true,
    "hidden": true
   },
   "source": [
    "#### period_range"
   ]
  },
  {
   "cell_type": "markdown",
   "id": "f107e6b9",
   "metadata": {
    "hidden": true
   },
   "source": [
    "A função \"period_range\" é usada para criar um intervalo de períodos com uma frequência especificada. Ela retorna um objeto do tipo PeriodIndex que contém os períodos dentro do intervalo."
   ]
  },
  {
   "cell_type": "code",
   "execution_count": null,
   "id": "43378db1",
   "metadata": {
    "hidden": true
   },
   "outputs": [],
   "source": [
    "import pandas as pd\n",
    "\n",
    "pr = pd.period_range(start='2021-01', end='2021-12', freq='M')\n",
    "pr"
   ]
  },
  {
   "cell_type": "markdown",
   "id": "2bdc9bb5",
   "metadata": {
    "heading_collapsed": true,
    "hidden": true
   },
   "source": [
    "#### pivot"
   ]
  },
  {
   "cell_type": "markdown",
   "id": "1639858e",
   "metadata": {
    "hidden": true
   },
   "source": [
    "A função \"pivot\" é usada para reorganizar um DataFrame de formato longo (long) para formato largo (wide), usando valores em uma coluna para criar novas colunas."
   ]
  },
  {
   "cell_type": "code",
   "execution_count": null,
   "id": "728483ab",
   "metadata": {
    "hidden": true
   },
   "outputs": [],
   "source": [
    "import pandas as pd\n",
    "\n",
    "data = {'id': [1, 2, 3, 4], 'category': ['A', 'B', 'A', 'B'], 'value': [10, 20, 30, 10]}\n",
    "df = pd.DataFrame(data)\n",
    "df = df.pivot(index='id', columns='category', values='value')\n",
    "df"
   ]
  },
  {
   "cell_type": "markdown",
   "id": "384954bf",
   "metadata": {
    "heading_collapsed": true,
    "hidden": true
   },
   "source": [
    "#### pivot_table"
   ]
  },
  {
   "cell_type": "markdown",
   "id": "0f209cb1",
   "metadata": {
    "hidden": true
   },
   "source": [
    "A função \"pivot_table\" é usada para criar uma tabela dinâmica (pivot table) a partir de um DataFrame. Ela permite resumir e agregar os dados com base em valores de colunas específicas."
   ]
  },
  {
   "cell_type": "code",
   "execution_count": null,
   "id": "c4be5b87",
   "metadata": {
    "hidden": true
   },
   "outputs": [],
   "source": [
    "import pandas as pd\n",
    "\n",
    "data = {'category': ['A', 'A', 'B', 'B'],\n",
    "        'value1': [10, 20, 30, 40],\n",
    "        'value2': [50, 60, 70, 80]}\n",
    "df = pd.DataFrame(data)\n",
    "table = pd.pivot_table(df, values=['value1', 'value2'], index='category', aggfunc='sum')\n",
    "table"
   ]
  },
  {
   "cell_type": "markdown",
   "id": "9c41705c",
   "metadata": {
    "heading_collapsed": true,
    "hidden": true
   },
   "source": [
    "#### plotting"
   ]
  },
  {
   "cell_type": "markdown",
   "id": "8eae8b0a",
   "metadata": {
    "hidden": true
   },
   "source": [
    "\"plotting\" é um submódulo do Pandas que oferece recursos de plotagem de dados. Ele permite criar gráficos e visualizações a partir de dados em um DataFrame ou Series."
   ]
  },
  {
   "cell_type": "code",
   "execution_count": null,
   "id": "104f9655",
   "metadata": {
    "hidden": true
   },
   "outputs": [],
   "source": [
    "import pandas as pd\n",
    "import matplotlib.pyplot as plt\n",
    "\n",
    "data = {'x': [1, 2, 3, 4, 5], 'y': [10, 20, 30, 40, 50]}\n",
    "df = pd.DataFrame(data)\n",
    "df.plot(x='x', y='y')\n",
    "plt.show()"
   ]
  },
  {
   "cell_type": "markdown",
   "id": "7bde0b71",
   "metadata": {
    "heading_collapsed": true,
    "hidden": true
   },
   "source": [
    "#### qcut"
   ]
  },
  {
   "cell_type": "markdown",
   "id": "6d68e5fa",
   "metadata": {
    "hidden": true
   },
   "source": [
    "A função \"qcut\" é usada para discretizar (categorizar) valores em bins com base nos quantis. Ela divide os valores em intervalos de tamanhos aproximadamente iguais, com base nas quantidades especificadas."
   ]
  },
  {
   "cell_type": "code",
   "execution_count": null,
   "id": "5843ee62",
   "metadata": {
    "hidden": true
   },
   "outputs": [],
   "source": [
    "import pandas as pd\n",
    "\n",
    "data = [10, 20, 30, 40, 50, 60, 70, 80, 90, 100]\n",
    "df = pd.DataFrame(data, columns=['Values'])\n",
    "df['Bins'] = pd.qcut(df['Values'], q=3)\n",
    "df"
   ]
  },
  {
   "cell_type": "markdown",
   "id": "7dce90fe",
   "metadata": {
    "heading_collapsed": true
   },
   "source": [
    "### <div style=\"margin-top: -20px;\">\n",
    "<hr style=\"border: 2px solid blue;\">\n",
    "\n",
    "<font color='blue'><span style=\"font-size: 18px;\"><strong>22.3.1 Métodos e Recursos para Trabalhar com Dados - Parte 7</strong></span></font>\n",
    "\n",
    "<hr style=\"border: 2px solid blue;\">\n",
    "</div>"
   ]
  },
  {
   "cell_type": "markdown",
   "id": "9fbd57e5",
   "metadata": {
    "heading_collapsed": true,
    "hidden": true
   },
   "source": [
    "#### read_clipboard"
   ]
  },
  {
   "cell_type": "markdown",
   "id": "ed3396c4",
   "metadata": {
    "hidden": true
   },
   "source": [
    "A função \"read_clipboard\" é usada para ler dados a partir do conteúdo presente na área de transferência (clipboard). Ela permite copiar dados de uma fonte externa e colar diretamente no ambiente Python para serem lidos pelo Pandas."
   ]
  },
  {
   "cell_type": "code",
   "execution_count": null,
   "id": "dcb924ae",
   "metadata": {
    "hidden": true
   },
   "outputs": [],
   "source": [
    "import pandas as pd\n",
    "\n",
    "df = pd.read_clipboard() #Copie algo e depois execute esta célula.\n",
    "print(df)"
   ]
  },
  {
   "cell_type": "markdown",
   "id": "61d82502",
   "metadata": {
    "heading_collapsed": true,
    "hidden": true
   },
   "source": [
    "#### read_csv"
   ]
  },
  {
   "cell_type": "markdown",
   "id": "91956ee2",
   "metadata": {
    "hidden": true
   },
   "source": [
    "A função \"read_csv\" é usada para ler dados de um arquivo CSV (comma-separated values). Ela permite carregar dados tabulares a partir de um arquivo CSV em um DataFrame do Pandas."
   ]
  },
  {
   "cell_type": "code",
   "execution_count": null,
   "id": "b34a1315",
   "metadata": {
    "hidden": true
   },
   "outputs": [],
   "source": [
    "import pandas as pd\n",
    "\n",
    "df = pd.read_csv('Salary.csv')\n",
    "df"
   ]
  },
  {
   "cell_type": "markdown",
   "id": "73f3641c",
   "metadata": {
    "heading_collapsed": true,
    "hidden": true
   },
   "source": [
    "#### read_excel"
   ]
  },
  {
   "cell_type": "markdown",
   "id": "5ba70da4",
   "metadata": {
    "hidden": true
   },
   "source": [
    "A função \"read_excel\" é usada para ler dados de um arquivo Excel. Ela permite carregar dados de uma planilha específica em um arquivo Excel em um DataFrame do Pandas."
   ]
  },
  {
   "cell_type": "code",
   "execution_count": null,
   "id": "a77342df",
   "metadata": {
    "hidden": true
   },
   "outputs": [],
   "source": [
    "import pandas as pd\n",
    "\n",
    "df = pd.read_excel('dados1.xlsx', sheet_name='Planilha1')\n",
    "df"
   ]
  },
  {
   "cell_type": "markdown",
   "id": "d0d131b9",
   "metadata": {
    "hidden": true
   },
   "source": [
    "read_feather: A função \"read_feather\" é usada para ler dados armazenados em formato Feather. O Feather é um formato de armazenamento rápido e leve para dados tabulares."
   ]
  },
  {
   "cell_type": "code",
   "execution_count": null,
   "id": "1105d627",
   "metadata": {
    "hidden": true
   },
   "outputs": [],
   "source": [
    "# Ignore caso ja tenha instalado o pyarrow\n",
    "!pip install pyarrow"
   ]
  },
  {
   "cell_type": "code",
   "execution_count": null,
   "id": "53273474",
   "metadata": {
    "hidden": true
   },
   "outputs": [],
   "source": [
    "import pandas as pd\n",
    "\n",
    "# Crie um DataFrame de exemplo\n",
    "data = {'coluna1': [1, 2, 3, 4],\n",
    "        'coluna2': ['A', 'B', 'C', 'D']}\n",
    "df = pd.DataFrame(data)\n",
    "\n",
    "# Salve o DataFrame em um arquivo Feather\n",
    "df.to_feather('dados.feather')"
   ]
  },
  {
   "cell_type": "code",
   "execution_count": null,
   "id": "89f1bd51",
   "metadata": {
    "hidden": true
   },
   "outputs": [],
   "source": [
    "import pandas as pd\n",
    "\n",
    "df = pd.read_feather('dados.feather')\n",
    "df"
   ]
  },
  {
   "cell_type": "markdown",
   "id": "f4744464",
   "metadata": {
    "heading_collapsed": true,
    "hidden": true
   },
   "source": [
    "#### read_fwf"
   ]
  },
  {
   "cell_type": "markdown",
   "id": "f439fcc2",
   "metadata": {
    "hidden": true
   },
   "source": [
    "A função \"read_fwf\" é usada para ler dados de um arquivo de formato fixo (fixed-width format). Ela permite ler dados em que as colunas têm largura fixa, sem separadores."
   ]
  },
  {
   "cell_type": "code",
   "execution_count": null,
   "id": "bdfe4c1a",
   "metadata": {
    "hidden": true
   },
   "outputs": [],
   "source": [
    "import pandas as pd\n",
    "\n",
    "df = pd.read_fwf('teste.txt') # Caso o arquivo teste.txt não exita, crie-o, escreva algo e execute esta célula.\n",
    "df"
   ]
  },
  {
   "cell_type": "markdown",
   "id": "8f566cb1",
   "metadata": {
    "heading_collapsed": true,
    "hidden": true
   },
   "source": [
    "#### read_gbq"
   ]
  },
  {
   "cell_type": "markdown",
   "id": "cb14d2cb",
   "metadata": {
    "hidden": true
   },
   "source": [
    "A função \"read_gbq\" é usada para ler dados de uma tabela do BigQuery. Ela permite consultar e carregar dados de uma tabela do BigQuery em um DataFrame do Pandas."
   ]
  },
  {
   "cell_type": "markdown",
   "id": "94c567ef",
   "metadata": {
    "hidden": true
   },
   "source": [
    "*O código a seguir não possui um arquivo disponível. Portanto, não podemos garantir seu funcionamento correto. É possível que seja necessário instalar algum pacote ou biblioteca adicional para que o código seja executado com sucesso.*"
   ]
  },
  {
   "cell_type": "code",
   "execution_count": null,
   "id": "19fa230b",
   "metadata": {
    "ExecuteTime": {
     "end_time": "2023-06-19T14:08:13.392363Z",
     "start_time": "2023-06-19T14:08:12.798499Z"
    },
    "hidden": true
   },
   "outputs": [],
   "source": [
    "import pandas as pd\n",
    "\n",
    "query = 'SELECT * FROM tabela'\n",
    "df = pd.read_gbq(query, project_id='projeto')\n",
    "df"
   ]
  },
  {
   "cell_type": "markdown",
   "id": "3d8bc8aa",
   "metadata": {
    "heading_collapsed": true,
    "hidden": true
   },
   "source": [
    "#### read_hdf"
   ]
  },
  {
   "cell_type": "markdown",
   "id": "4dd83271",
   "metadata": {
    "hidden": true
   },
   "source": [
    "A função \"read_hdf\" é usada para ler dados de um arquivo HDF5 (Hierarchical Data Format). Ela permite carregar dados armazenados em um arquivo HDF5 em um DataFrame do Pandas."
   ]
  },
  {
   "cell_type": "code",
   "execution_count": null,
   "id": "121b6875",
   "metadata": {
    "hidden": true
   },
   "outputs": [],
   "source": [
    "import pandas as pd\n",
    "\n",
    "data = {'A': [1, 2, 3], 'B': ['foo', 'bar', 'baz']}\n",
    "df = pd.DataFrame(data)\n",
    "\n",
    "# Salvar o DataFrame em um arquivo HDF5\n",
    "df.to_hdf('dados.h5', key='data', mode='w')"
   ]
  },
  {
   "cell_type": "code",
   "execution_count": null,
   "id": "3031104f",
   "metadata": {
    "hidden": true
   },
   "outputs": [],
   "source": [
    "import pandas as pd\n",
    "\n",
    "# Ler o DataFrame do arquivo HDF5\n",
    "df = pd.read_hdf('dados.h5', key='data')\n",
    "df\n"
   ]
  },
  {
   "cell_type": "markdown",
   "id": "80801b68",
   "metadata": {
    "heading_collapsed": true,
    "hidden": true
   },
   "source": [
    "#### read_html"
   ]
  },
  {
   "cell_type": "markdown",
   "id": "d407ab83",
   "metadata": {
    "hidden": true
   },
   "source": [
    "A função \"read_html\" é usada para ler tabelas de uma página HTML. Ela permite extrair tabelas HTML de uma página da web e convertê-las em DataFrames do Pandas."
   ]
  },
  {
   "cell_type": "code",
   "execution_count": null,
   "id": "1f0e718a",
   "metadata": {
    "hidden": true
   },
   "outputs": [],
   "source": [
    "# Compile caso a próxima célula apresente tente instalar estes módulos\n",
    "!pip install html5lib\n",
    "!pip install lxml"
   ]
  },
  {
   "cell_type": "code",
   "execution_count": null,
   "id": "d3f5ccdd",
   "metadata": {
    "hidden": true
   },
   "outputs": [],
   "source": [
    "import pandas as pd\n",
    "\n",
    "url = 'https://www.w3schools.com/html/html_tables.asp'  # Substitua pela URL desejada\n",
    "\n",
    "dfs = pd.read_html(url)\n",
    "df = dfs[0]  # Supondo que a tabela desejada seja a primeira na página\n",
    "df"
   ]
  },
  {
   "cell_type": "markdown",
   "id": "20c4ff12",
   "metadata": {
    "heading_collapsed": true,
    "hidden": true
   },
   "source": [
    "#### read_json"
   ]
  },
  {
   "cell_type": "markdown",
   "id": "f4b92328",
   "metadata": {
    "hidden": true
   },
   "source": [
    "A função \"read_json\" é usada para ler dados de um arquivo JSON. Ela permite carregar dados em formato JSON em um DataFrame do Pandas."
   ]
  },
  {
   "cell_type": "code",
   "execution_count": null,
   "id": "9883f755",
   "metadata": {
    "ExecuteTime": {
     "end_time": "2023-06-19T15:11:55.469909Z",
     "start_time": "2023-06-19T15:11:55.394223Z"
    },
    "hidden": true,
    "scrolled": true
   },
   "outputs": [],
   "source": [
    "import pandas as pd\n",
    "\n",
    "df = pd.read_json('countries-table.json')\n",
    "df"
   ]
  },
  {
   "cell_type": "code",
   "execution_count": null,
   "id": "3600d63c",
   "metadata": {
    "ExecuteTime": {
     "end_time": "2023-06-19T15:12:58.269186Z",
     "start_time": "2023-06-19T15:12:57.969867Z"
    },
    "hidden": true,
    "scrolled": true
   },
   "outputs": [],
   "source": [
    "import pandas as pd\n",
    "\n",
    "# Configurar o número máximo de linhas (None representa um valor não especificado)\n",
    "pd.set_option('display.max_rows', None)\n",
    "\n",
    "# Seu código para carregar e exibir o DataFrame aqui\n",
    "import pandas as pd\n",
    "\n",
    "df = pd.read_json('countries-table.json')\n",
    "df"
   ]
  },
  {
   "cell_type": "markdown",
   "id": "cb6ea120",
   "metadata": {
    "heading_collapsed": true,
    "hidden": true
   },
   "source": [
    "#### read_orc"
   ]
  },
  {
   "cell_type": "markdown",
   "id": "6b9ff967",
   "metadata": {
    "hidden": true
   },
   "source": [
    "A função \"read_orc\" é usada para ler dados armazenados em formato ORC (Optimized Row Columnar). O formato ORC é um formato de armazenamento eficiente para dados tabulares."
   ]
  },
  {
   "cell_type": "code",
   "execution_count": null,
   "id": "8f3d9321",
   "metadata": {
    "ExecuteTime": {
     "end_time": "2023-06-19T13:45:55.853220Z",
     "start_time": "2023-06-19T13:45:50.304392Z"
    },
    "hidden": true
   },
   "outputs": [],
   "source": [
    "# Instalação extra de módulo necessário\n",
    "!pip install fastparquet"
   ]
  },
  {
   "cell_type": "code",
   "execution_count": null,
   "id": "735c25bf",
   "metadata": {
    "ExecuteTime": {
     "end_time": "2023-06-19T13:45:59.199038Z",
     "start_time": "2023-06-19T13:45:59.189062Z"
    },
    "hidden": true
   },
   "outputs": [],
   "source": [
    "import pandas as pd\n",
    "import fastparquet\n",
    "\n",
    "# Dados de exemplo\n",
    "data = {'A': [1, 2, 3], 'B': ['foo', 'bar', 'baz']}\n",
    "df = pd.DataFrame(data)\n",
    "\n",
    "# Escrever o DataFrame em um arquivo ORC\n",
    "fastparquet.write('dados.orc', df)\n",
    "\n"
   ]
  },
  {
   "cell_type": "code",
   "execution_count": null,
   "id": "42893d90",
   "metadata": {
    "ExecuteTime": {
     "end_time": "2023-06-19T13:46:03.661649Z",
     "start_time": "2023-06-19T13:46:03.596957Z"
    },
    "hidden": true
   },
   "outputs": [],
   "source": [
    "import pandas as pd\n",
    "\n",
    "df = pd.read_parquet('dados.orc', engine='fastparquet')\n",
    "df\n"
   ]
  },
  {
   "cell_type": "markdown",
   "id": "5d764fb4",
   "metadata": {
    "heading_collapsed": true,
    "hidden": true
   },
   "source": [
    "#### read_parquet"
   ]
  },
  {
   "cell_type": "markdown",
   "id": "c39a8fd3",
   "metadata": {
    "hidden": true
   },
   "source": [
    "A função \"read_parquet\" é usada para ler dados armazenados em formato Parquet. O Parquet é um formato de armazenamento eficiente para dados tabulares, otimizado para leitura rápida."
   ]
  },
  {
   "cell_type": "code",
   "execution_count": null,
   "id": "210980f3",
   "metadata": {
    "ExecuteTime": {
     "end_time": "2023-06-19T13:47:51.582609Z",
     "start_time": "2023-06-19T13:47:51.413353Z"
    },
    "hidden": true
   },
   "outputs": [],
   "source": [
    "import pandas as pd\n",
    "\n",
    "# Dados de exemplo\n",
    "data = {'A': [1, 2, 3], 'B': ['foo', 'bar', 'baz']}\n",
    "df = pd.DataFrame(data)\n",
    "\n",
    "# Salvar o DataFrame em um arquivo Parquet\n",
    "df.to_parquet('dados.parquet')"
   ]
  },
  {
   "cell_type": "code",
   "execution_count": null,
   "id": "6b1bfd80",
   "metadata": {
    "ExecuteTime": {
     "end_time": "2023-06-19T13:47:54.446628Z",
     "start_time": "2023-06-19T13:47:54.142271Z"
    },
    "hidden": true
   },
   "outputs": [],
   "source": [
    "import pandas as pd\n",
    "\n",
    "df = pd.read_parquet('dados.parquet')\n",
    "df"
   ]
  },
  {
   "cell_type": "markdown",
   "id": "79656ddb",
   "metadata": {
    "heading_collapsed": true
   },
   "source": [
    "### <div style=\"margin-top: -20px;\">\n",
    "<hr style=\"border: 2px solid blue;\">\n",
    "\n",
    "<font color='blue'><span style=\"font-size: 18px;\"><strong>22.3.1 Métodos e Recursos para Trabalhar com Dados - Parte 8</strong></span></font>\n",
    "\n",
    "<hr style=\"border: 2px solid blue;\">\n",
    "</div>"
   ]
  },
  {
   "cell_type": "markdown",
   "id": "5e3784a8",
   "metadata": {
    "heading_collapsed": true,
    "hidden": true
   },
   "source": [
    "#### read_pickle"
   ]
  },
  {
   "cell_type": "markdown",
   "id": "f0a03450",
   "metadata": {
    "hidden": true
   },
   "source": [
    "A função \"read_pickle\" é usada para ler um objeto serializado em formato pickle. Ela permite carregar um objeto previamente serializado em um DataFrame do Pandas."
   ]
  },
  {
   "cell_type": "code",
   "execution_count": null,
   "id": "91daf6bd",
   "metadata": {
    "ExecuteTime": {
     "end_time": "2023-06-19T13:49:46.830120Z",
     "start_time": "2023-06-19T13:49:46.821144Z"
    },
    "hidden": true
   },
   "outputs": [],
   "source": [
    "import pandas as pd\n",
    "\n",
    "# Dados de exemplo\n",
    "data = {'A': [1, 2, 3], 'B': ['foo', 'bar', 'baz']}\n",
    "df = pd.DataFrame(data)\n",
    "\n",
    "# Salvar o DataFrame em um arquivo pickle\n",
    "df.to_pickle('dados.pickle')"
   ]
  },
  {
   "cell_type": "code",
   "execution_count": null,
   "id": "98952472",
   "metadata": {
    "ExecuteTime": {
     "end_time": "2023-06-19T13:49:51.534493Z",
     "start_time": "2023-06-19T13:49:51.524982Z"
    },
    "hidden": true
   },
   "outputs": [],
   "source": [
    "import pandas as pd\n",
    "\n",
    "df = pd.read_pickle('dados.pickle')\n",
    "df"
   ]
  },
  {
   "cell_type": "markdown",
   "id": "7b98cae1",
   "metadata": {
    "heading_collapsed": true,
    "hidden": true
   },
   "source": [
    "#### read_sas"
   ]
  },
  {
   "cell_type": "markdown",
   "id": "ceaf38ca",
   "metadata": {
    "hidden": true
   },
   "source": [
    "A função \"read_sas\" é usada para ler dados de um arquivo SAS. Ela permite carregar dados de um arquivo SAS em um DataFrame do Pandas."
   ]
  },
  {
   "cell_type": "markdown",
   "id": "c86c2106",
   "metadata": {
    "hidden": true
   },
   "source": [
    "*O código a seguir não possui um arquivo disponível. Portanto, não podemos garantir seu funcionamento correto. É possível que seja necessário instalar algum pacote ou biblioteca adicional para que o código seja executado com sucesso.*"
   ]
  },
  {
   "cell_type": "code",
   "execution_count": null,
   "id": "cabccfb3",
   "metadata": {
    "hidden": true
   },
   "outputs": [],
   "source": [
    "import pandas as pd\n",
    "\n",
    "df = pd.read_sas('dados.sas7bdat')\n",
    "df"
   ]
  },
  {
   "cell_type": "markdown",
   "id": "e7a4083f",
   "metadata": {
    "heading_collapsed": true,
    "hidden": true
   },
   "source": [
    "#### read_spss"
   ]
  },
  {
   "cell_type": "markdown",
   "id": "6dd4eb18",
   "metadata": {
    "hidden": true
   },
   "source": [
    "A função \"read_spss\" é usada para ler dados de um arquivo SPSS. Ela permite carregar dados de um arquivo SPSS em um DataFrame do Pandas."
   ]
  },
  {
   "cell_type": "code",
   "execution_count": null,
   "id": "f357a5c5",
   "metadata": {
    "hidden": true
   },
   "outputs": [],
   "source": [
    "import pandas as pd\n",
    "\n",
    "df = pd.read_spss('dados.sav')\n",
    "df"
   ]
  },
  {
   "cell_type": "markdown",
   "id": "7355a87f",
   "metadata": {
    "heading_collapsed": true,
    "hidden": true
   },
   "source": [
    "#### read_sql"
   ]
  },
  {
   "cell_type": "markdown",
   "id": "fcfa83aa",
   "metadata": {
    "hidden": true
   },
   "source": [
    "A função \"read_sql\" é usada para executar uma consulta SQL e ler os resultados em um DataFrame do Pandas. Ela permite consultar bancos de dados relacionais e carregar os resultados em um DataFrame."
   ]
  },
  {
   "cell_type": "code",
   "execution_count": null,
   "id": "2986e766",
   "metadata": {
    "ExecuteTime": {
     "end_time": "2023-06-19T14:17:48.899830Z",
     "start_time": "2023-06-19T14:17:48.837059Z"
    },
    "hidden": true
   },
   "outputs": [],
   "source": [
    "import pandas as pd\n",
    "import sqlite3\n",
    "\n",
    "# Definir os dados de exemplo\n",
    "data = {'coluna1': [1, 2, 3], 'coluna2': ['foo', 'bar', 'baz']}\n",
    "df = pd.DataFrame(data)\n",
    "\n",
    "# Escrever o DataFrame no arquivo de banco de dados SQLite usando o contexto with\n",
    "with sqlite3.connect('database.db') as conn:\n",
    "    df.to_sql('tabela', conn, if_exists='replace', index=False)"
   ]
  },
  {
   "cell_type": "code",
   "execution_count": null,
   "id": "1333c99f",
   "metadata": {
    "ExecuteTime": {
     "end_time": "2023-06-19T14:17:50.494298Z",
     "start_time": "2023-06-19T14:17:50.484752Z"
    },
    "hidden": true
   },
   "outputs": [],
   "source": [
    "# Ler os dados do arquivo de banco de dados SQLite\n",
    "with sqlite3.connect('database.db') as conn:\n",
    "    query = 'SELECT * FROM tabela'\n",
    "    df = pd.read_sql(query, conn)\n",
    "    \n",
    "df"
   ]
  },
  {
   "cell_type": "markdown",
   "id": "c69c074b",
   "metadata": {
    "heading_collapsed": true,
    "hidden": true
   },
   "source": [
    "#### read_sql_query"
   ]
  },
  {
   "cell_type": "markdown",
   "id": "c2c77ac2",
   "metadata": {
    "hidden": true
   },
   "source": [
    "A função \"read_sql_query\" é usada para executar uma consulta SQL e ler os resultados em um DataFrame do Pandas. Ela permite consultar bancos de dados relacionais e carregar os resultados em um DataFrame."
   ]
  },
  {
   "cell_type": "code",
   "execution_count": null,
   "id": "00345b7a",
   "metadata": {
    "ExecuteTime": {
     "end_time": "2023-06-19T14:42:33.664159Z",
     "start_time": "2023-06-19T14:42:33.620253Z"
    },
    "hidden": true
   },
   "outputs": [],
   "source": [
    "import pandas as pd\n",
    "import sqlite3\n",
    "\n",
    "# Criar um DataFrame de exemplo\n",
    "data = {'Coluna1': [1, 2, 3], 'Coluna2': ['foo', 'bar', 'baz']}\n",
    "df = pd.DataFrame(data)\n",
    "\n",
    "# Inserir o DataFrame no banco de dados como uma tabela chamada \"tabela\"\n",
    "with sqlite3.connect('database.db') as conn:\n",
    "    df.to_sql('tabela1', conn)"
   ]
  },
  {
   "cell_type": "code",
   "execution_count": null,
   "id": "0f37e68a",
   "metadata": {
    "ExecuteTime": {
     "end_time": "2023-06-19T14:42:42.326857Z",
     "start_time": "2023-06-19T14:42:42.315910Z"
    },
    "hidden": true
   },
   "outputs": [],
   "source": [
    "import pandas as pd\n",
    "import sqlite3\n",
    "\n",
    "conn = sqlite3.connect('database.db')\n",
    "query = 'SELECT * FROM tabela'\n",
    "df = pd.read_sql_query(query, conn)\n",
    "df\n"
   ]
  },
  {
   "cell_type": "markdown",
   "id": "f8c18365",
   "metadata": {
    "heading_collapsed": true,
    "hidden": true
   },
   "source": [
    "#### read_stata"
   ]
  },
  {
   "cell_type": "markdown",
   "id": "85757b26",
   "metadata": {
    "hidden": true
   },
   "source": [
    "A função \"read_stata\" é usada para ler dados de um arquivo Stata. Ela permite carregar dados de um arquivo Stata em um DataFrame do Pandas."
   ]
  },
  {
   "cell_type": "markdown",
   "id": "3f7d6397",
   "metadata": {
    "hidden": true
   },
   "source": [
    "*O código a seguir não possui um arquivo disponível. Portanto, não podemos garantir seu funcionamento correto. É possível que seja necessário instalar algum pacote ou biblioteca adicional para que o código seja executado com sucesso.*"
   ]
  },
  {
   "cell_type": "code",
   "execution_count": null,
   "id": "50fa3c63",
   "metadata": {
    "ExecuteTime": {
     "end_time": "2023-06-19T14:55:31.371668Z",
     "start_time": "2023-06-19T14:55:30.564919Z"
    },
    "hidden": true
   },
   "outputs": [],
   "source": [
    "import pandas as pd\n",
    "\n",
    "df = pd.read_stata('dados.dta')\n",
    "df"
   ]
  },
  {
   "cell_type": "markdown",
   "id": "83513e08",
   "metadata": {
    "heading_collapsed": true,
    "hidden": true
   },
   "source": [
    "#### read_table"
   ]
  },
  {
   "cell_type": "markdown",
   "id": "009ff47d",
   "metadata": {
    "hidden": true
   },
   "source": [
    "A função \"read_table\" é usada para ler dados de um arquivo de formato tabular. Ela permite ler dados de um arquivo em formato tabular e carregá-los em um DataFrame do Pandas."
   ]
  },
  {
   "cell_type": "code",
   "execution_count": null,
   "id": "3338a91b",
   "metadata": {
    "ExecuteTime": {
     "end_time": "2023-06-19T15:01:19.213033Z",
     "start_time": "2023-06-19T15:01:19.204037Z"
    },
    "hidden": true
   },
   "outputs": [],
   "source": [
    "import pandas as pd\n",
    "\n",
    "df = pd.read_table('teste.txt')\n",
    "df"
   ]
  },
  {
   "cell_type": "markdown",
   "id": "914eea4a",
   "metadata": {
    "hidden": true
   },
   "source": [
    "A função \"read_xml\" é usada para ler dados de um arquivo XML. Ela permite carregar dados de um arquivo XML em um DataFrame do Pandas."
   ]
  },
  {
   "cell_type": "code",
   "execution_count": null,
   "id": "511a1c22",
   "metadata": {
    "ExecuteTime": {
     "end_time": "2023-06-19T14:59:39.599014Z",
     "start_time": "2023-06-19T14:59:39.587905Z"
    },
    "hidden": true
   },
   "outputs": [],
   "source": [
    "import pandas as pd\n",
    "\n",
    "df = pd.read_xml('dados.xml') \n",
    "df"
   ]
  },
  {
   "cell_type": "markdown",
   "id": "371a3688",
   "metadata": {
    "heading_collapsed": true,
    "hidden": true
   },
   "source": [
    "#### reset_option  "
   ]
  },
  {
   "cell_type": "markdown",
   "id": "c6be84ec",
   "metadata": {
    "hidden": true
   },
   "source": [
    "reset_option: A função \"reset_option\" é usada para redefinir uma opção de configuração do Pandas para o seu valor padrão. Ela permite restaurar uma opção de configuração modificada para o valor original."
   ]
  },
  {
   "cell_type": "code",
   "execution_count": null,
   "id": "95f3a594",
   "metadata": {
    "ExecuteTime": {
     "end_time": "2023-06-19T15:09:28.608199Z",
     "start_time": "2023-06-19T15:09:28.603211Z"
    },
    "hidden": true
   },
   "outputs": [],
   "source": [
    "import pandas as pd\n",
    "\n",
    "pd.reset_option('display.max_columns')"
   ]
  },
  {
   "cell_type": "markdown",
   "id": "b0c4ce6d",
   "metadata": {
    "heading_collapsed": true,
    "hidden": true
   },
   "source": [
    "#### Series"
   ]
  },
  {
   "cell_type": "markdown",
   "id": "1b6029b1",
   "metadata": {
    "hidden": true
   },
   "source": [
    "Series é uma estrutura de dados unidimensional do Pandas, semelhante a uma coluna em uma planilha ou uma única variável. Ela é usada para armazenar e manipular dados unidimensionais com rótulos de índice."
   ]
  },
  {
   "cell_type": "code",
   "execution_count": null,
   "id": "39b3d6e5",
   "metadata": {
    "ExecuteTime": {
     "end_time": "2023-06-19T14:45:54.202663Z",
     "start_time": "2023-06-19T14:45:54.195679Z"
    },
    "hidden": true
   },
   "outputs": [],
   "source": [
    "import pandas as pd\n",
    "\n",
    "data = [10, 20, 30, 40]\n",
    "s = pd.Series(data)\n",
    "s"
   ]
  },
  {
   "cell_type": "markdown",
   "id": "07da7293",
   "metadata": {
    "heading_collapsed": true,
    "hidden": true
   },
   "source": [
    "#### set_eng_float_format"
   ]
  },
  {
   "cell_type": "markdown",
   "id": "809af9b4",
   "metadata": {
    "hidden": true
   },
   "source": [
    "A função \"set_eng_float_format\" é usada para definir o formato de exibição para números de ponto flutuante no estilo de notação científica. Ela permite configurar o formato de exibição para números muito grandes ou pequenos."
   ]
  },
  {
   "cell_type": "code",
   "execution_count": null,
   "id": "2c4241e9",
   "metadata": {
    "ExecuteTime": {
     "end_time": "2023-06-19T15:07:54.884239Z",
     "start_time": "2023-06-19T15:07:54.874235Z"
    },
    "hidden": true
   },
   "outputs": [],
   "source": [
    "import pandas as pd\n",
    "\n",
    "# Definir o formato de exibição de números de ponto flutuante em formato de notação científica com 2 dígitos significativos\n",
    "pd.set_eng_float_format(accuracy=2)\n",
    "\n",
    "# Exemplo de DataFrame com números de ponto flutuante\n",
    "data = {'A': [0.00000123, 123456.789, 0.123456789]}\n",
    "df = pd.DataFrame(data)\n",
    "\n",
    "# Imprimir o DataFrame com o formato de exibição definido\n",
    "df\n"
   ]
  },
  {
   "cell_type": "markdown",
   "id": "a069a091",
   "metadata": {
    "heading_collapsed": true
   },
   "source": [
    "### <div style=\"margin-top: -20px;\">\n",
    "<hr style=\"border: 2px solid blue;\">\n",
    "\n",
    "<font color='blue'><span style=\"font-size: 18px;\"><strong>22.3.1 Métodos e Recursos para Trabalhar com Dados - Parte 9</strong></span></font>\n",
    "\n",
    "<hr style=\"border: 2px solid blue;\">\n",
    "</div>"
   ]
  },
  {
   "cell_type": "markdown",
   "id": "359c7f6e",
   "metadata": {
    "heading_collapsed": true,
    "hidden": true
   },
   "source": [
    "#### set_option"
   ]
  },
  {
   "cell_type": "markdown",
   "id": "827f5866",
   "metadata": {
    "hidden": true
   },
   "source": [
    "A função \"set_option\" é usada para definir opções de configuração do Pandas. Ela permite configurar várias opções de comportamento do Pandas."
   ]
  },
  {
   "cell_type": "code",
   "execution_count": null,
   "id": "56f42dd9",
   "metadata": {
    "ExecuteTime": {
     "end_time": "2023-06-19T15:12:30.870880Z",
     "start_time": "2023-06-19T15:12:30.865871Z"
    },
    "hidden": true
   },
   "outputs": [],
   "source": [
    "import pandas as pd\n",
    "\n",
    "opt = pd.set_option('display.max_columns', 10) #Veja um uso na função read_json\n",
    "print(opt)"
   ]
  },
  {
   "cell_type": "markdown",
   "id": "727f347e",
   "metadata": {
    "heading_collapsed": true,
    "hidden": true
   },
   "source": [
    "#### show_versions"
   ]
  },
  {
   "cell_type": "markdown",
   "id": "23879770",
   "metadata": {
    "hidden": true
   },
   "source": [
    "show_versions: A função \"show_versions\" é usada para exibir informações sobre as versões dos pacotes instalados no ambiente Python, incluindo o Pandas."
   ]
  },
  {
   "cell_type": "code",
   "execution_count": null,
   "id": "603bd076",
   "metadata": {
    "ExecuteTime": {
     "end_time": "2023-06-19T15:35:12.156065Z",
     "start_time": "2023-06-19T15:35:12.124150Z"
    },
    "hidden": true
   },
   "outputs": [],
   "source": [
    "import pandas as pd\n",
    "\n",
    "pd.show_versions()"
   ]
  },
  {
   "cell_type": "code",
   "execution_count": null,
   "id": "1afcaedf",
   "metadata": {
    "ExecuteTime": {
     "end_time": "2023-06-19T15:33:35.286861Z",
     "start_time": "2023-06-19T15:32:51.085576Z"
    },
    "hidden": true
   },
   "outputs": [],
   "source": [
    "# Comando para atualizar a versão pandas caso necessário.\n",
    "!pip install --upgrade pandas"
   ]
  },
  {
   "cell_type": "markdown",
   "id": "cb94afb3",
   "metadata": {
    "hidden": true
   },
   "source": [
    "Caso aparece alguma mensagem de erro, após a atualização, tente usar o comando \"pip install --upgrade pandas\" no <u>Anaconda Prompt</u>."
   ]
  },
  {
   "cell_type": "markdown",
   "id": "3305d55d",
   "metadata": {
    "heading_collapsed": true,
    "hidden": true
   },
   "source": [
    "#### SparseDtype"
   ]
  },
  {
   "cell_type": "markdown",
   "id": "53ba58c6",
   "metadata": {
    "hidden": true
   },
   "source": [
    "O SparseDtype é um tipo de dados do Pandas que representa uma versão esparça (ou seja, com valores ausentes) de outro tipo de dados. Ele é usado para economizar espaço em memória ao armazenar dados com muitos valores ausentes."
   ]
  },
  {
   "cell_type": "code",
   "execution_count": null,
   "id": "a1a83f56",
   "metadata": {
    "ExecuteTime": {
     "end_time": "2023-06-19T14:47:12.330392Z",
     "start_time": "2023-06-19T14:47:12.323411Z"
    },
    "hidden": true
   },
   "outputs": [],
   "source": [
    "import pandas as pd\n",
    "\n",
    "data = {'Valores': pd.arrays.SparseArray([1, None, None, 4], dtype=float)}\n",
    "df = pd.DataFrame(data)\n",
    "print(df['Valores'])"
   ]
  },
  {
   "cell_type": "markdown",
   "id": "470b7756",
   "metadata": {
    "heading_collapsed": true,
    "hidden": true
   },
   "source": [
    "#### StringDtype"
   ]
  },
  {
   "cell_type": "markdown",
   "id": "35c8ee36",
   "metadata": {
    "hidden": true
   },
   "source": [
    "O StringDtype é um tipo de dados do Pandas que representa dados de texto. Ele é usado para armazenar e manipular dados de texto em uma coluna do DataFrame."
   ]
  },
  {
   "cell_type": "code",
   "execution_count": null,
   "id": "05caabc4",
   "metadata": {
    "ExecuteTime": {
     "end_time": "2023-06-19T14:48:05.162357Z",
     "start_time": "2023-06-19T14:48:05.155375Z"
    },
    "hidden": true
   },
   "outputs": [],
   "source": [
    "import pandas as pd\n",
    "\n",
    "data = {'Nomes': ['Alice', 'Bob', 'Charlie']}\n",
    "df = pd.DataFrame(data, dtype='string')\n",
    "print(df['Nomes'])"
   ]
  },
  {
   "cell_type": "markdown",
   "id": "ab95f810",
   "metadata": {
    "heading_collapsed": true,
    "hidden": true
   },
   "source": [
    "#### test"
   ]
  },
  {
   "cell_type": "markdown",
   "id": "c941a179",
   "metadata": {
    "hidden": true
   },
   "source": [
    "A função \"test\" é usada para executar os testes de unidade internos do Pandas. Ela verifica a integridade e a corretude das funcionalidades do Pandas."
   ]
  },
  {
   "cell_type": "code",
   "execution_count": null,
   "id": "00ca63c6",
   "metadata": {
    "ExecuteTime": {
     "end_time": "2023-06-19T15:14:36.383683Z",
     "start_time": "2023-06-19T15:14:27.730632Z"
    },
    "hidden": true
   },
   "outputs": [],
   "source": [
    "# Módulo necessário\n",
    "!pip install hypothesis\n"
   ]
  },
  {
   "cell_type": "code",
   "execution_count": null,
   "id": "8d7af321",
   "metadata": {
    "ExecuteTime": {
     "end_time": "2023-06-19T15:17:31.725396Z",
     "start_time": "2023-06-19T15:14:38.114454Z"
    },
    "hidden": true,
    "scrolled": true
   },
   "outputs": [],
   "source": [
    "import pandas as pd\n",
    "\n",
    "pd.test()"
   ]
  },
  {
   "cell_type": "markdown",
   "id": "da0c8cfe",
   "metadata": {
    "heading_collapsed": true,
    "hidden": true
   },
   "source": [
    "#### testing"
   ]
  },
  {
   "cell_type": "markdown",
   "id": "c81b34b6",
   "metadata": {
    "hidden": true
   },
   "source": [
    "O módulo \"testing\" do Pandas fornece classes e funções para suporte a testes. Ele é usado internamente para testar o próprio Pandas e pode ser usado para testar código personalizado que utiliza o Pandas."
   ]
  },
  {
   "cell_type": "code",
   "execution_count": null,
   "id": "705fc15e",
   "metadata": {
    "ExecuteTime": {
     "end_time": "2023-06-19T15:20:25.816184Z",
     "start_time": "2023-06-19T15:20:25.810183Z"
    },
    "hidden": true
   },
   "outputs": [],
   "source": [
    "import pandas as pd\n",
    "from pandas import testing\n",
    "\n",
    "# Exemplo de uso do módulo de teste do Pandas\n",
    "data = {'col1': [1, 2, 3], 'col2': [4, 5, 6]}\n",
    "df = pd.DataFrame(data)\n",
    "testing.assert_frame_equal(df, df)"
   ]
  },
  {
   "cell_type": "markdown",
   "id": "0cf78707",
   "metadata": {
    "hidden": true
   },
   "source": [
    "*A saída para esse código seria a ausência de qualquer resultado ou mensagem. Se não houver nenhuma falha no teste, isso significa que o DataFrame df é igual a ele mesmo, conforme verificado pelo método assert_frame_equal do módulo de teste do pandas.*"
   ]
  },
  {
   "cell_type": "markdown",
   "id": "37351e3f",
   "metadata": {
    "ExecuteTime": {
     "end_time": "2023-06-19T14:48:36.087158Z",
     "start_time": "2023-06-19T14:48:36.074854Z"
    },
    "heading_collapsed": true,
    "hidden": true
   },
   "source": [
    "#### Timedelta"
   ]
  },
  {
   "cell_type": "markdown",
   "id": "087f3ffc",
   "metadata": {
    "hidden": true
   },
   "source": [
    "O Timedelta é uma classe do Pandas usada para representar uma diferença ou duração de tempo. Ele é usado para realizar cálculos e operações com dados de tempo."
   ]
  },
  {
   "cell_type": "code",
   "execution_count": null,
   "id": "dfda90a8",
   "metadata": {
    "ExecuteTime": {
     "end_time": "2023-06-19T14:48:52.848234Z",
     "start_time": "2023-06-19T14:48:52.843259Z"
    },
    "hidden": true
   },
   "outputs": [],
   "source": [
    "import pandas as pd\n",
    "\n",
    "delta = pd.Timedelta(days=7, hours=3, minutes=30)\n",
    "print(delta)"
   ]
  },
  {
   "cell_type": "markdown",
   "id": "f37dd43a",
   "metadata": {
    "heading_collapsed": true,
    "hidden": true
   },
   "source": [
    "#### TimedeltaIndex"
   ]
  },
  {
   "cell_type": "markdown",
   "id": "139ed1e5",
   "metadata": {
    "hidden": true
   },
   "source": [
    "O TimedeltaIndex é um tipo de índice do Pandas usado para representar um índice baseado em diferenças ou durações de tempo. Ele é semelhante a um índice regular, mas em vez de rótulos de linha individuais, ele possui rótulos de linha representando durações de tempo."
   ]
  },
  {
   "cell_type": "code",
   "execution_count": null,
   "id": "7aa7de16",
   "metadata": {
    "ExecuteTime": {
     "end_time": "2023-06-19T15:22:41.040201Z",
     "start_time": "2023-06-19T15:22:41.034195Z"
    },
    "hidden": true
   },
   "outputs": [],
   "source": [
    "import pandas as pd\n",
    "\n",
    "deltas = pd.timedelta_range(start='1 day', periods=3)\n",
    "data = pd.Series([10, 20, 30], index=deltas)\n",
    "print(data)"
   ]
  },
  {
   "cell_type": "markdown",
   "id": "c829920b",
   "metadata": {
    "heading_collapsed": true,
    "hidden": true
   },
   "source": [
    "#### timedelta_rang"
   ]
  },
  {
   "cell_type": "markdown",
   "id": "f5fffe5c",
   "metadata": {
    "hidden": true
   },
   "source": [
    "A função \"timedelta_range\" é usada para criar um intervalo de valores de tempo com uma frequência especificada. Ela retorna uma sequência de valores timedelta."
   ]
  },
  {
   "cell_type": "code",
   "execution_count": null,
   "id": "e7490687",
   "metadata": {
    "ExecuteTime": {
     "end_time": "2023-06-19T15:24:04.447589Z",
     "start_time": "2023-06-19T15:24:04.441602Z"
    },
    "hidden": true
   },
   "outputs": [],
   "source": [
    "import pandas as pd\n",
    "\n",
    "rng = pd.timedelta_range(start='1D', end='5D', freq='1D')\n",
    "print(rng)"
   ]
  },
  {
   "cell_type": "markdown",
   "id": "13608e1c",
   "metadata": {
    "hidden": true
   },
   "source": [
    "#### Timestamp"
   ]
  },
  {
   "cell_type": "markdown",
   "id": "b8dbda1d",
   "metadata": {
    "hidden": true
   },
   "source": [
    "O Timestamp é uma classe do Pandas usada para representar uma única data e hora. Ele é usado para manipular dados de data e hora em nível de ponto específico no tempo."
   ]
  },
  {
   "cell_type": "code",
   "execution_count": null,
   "id": "f54c1d27",
   "metadata": {
    "ExecuteTime": {
     "end_time": "2023-06-19T14:49:44.368473Z",
     "start_time": "2023-06-19T14:49:44.363486Z"
    },
    "hidden": true
   },
   "outputs": [],
   "source": [
    "import pandas as pd\n",
    "\n",
    "ts = pd.Timestamp('2021-01-01 12:00:00')\n",
    "print(ts)"
   ]
  },
  {
   "cell_type": "markdown",
   "id": "bd36667c",
   "metadata": {
    "heading_collapsed": true
   },
   "source": [
    "### <div style=\"margin-top: -20px;\">\n",
    "<hr style=\"border: 2px solid blue;\">\n",
    "\n",
    "<font color='blue'><span style=\"font-size: 18px;\"><strong>22.3.1 Métodos e Recursos para Trabalhar com Dados - Parte 10</strong></span></font>\n",
    "\n",
    "<hr style=\"border: 2px solid blue;\">\n",
    "</div>"
   ]
  },
  {
   "cell_type": "markdown",
   "id": "0b6afe1f",
   "metadata": {
    "heading_collapsed": true,
    "hidden": true
   },
   "source": [
    "#### to_datetime"
   ]
  },
  {
   "cell_type": "markdown",
   "id": "b87bf87b",
   "metadata": {
    "hidden": true
   },
   "source": [
    "to_datetime: A função \"to_datetime\" é usada para converter uma coluna em um DataFrame em valores do tipo datetime. Ela permite converter uma coluna que representa datas ou horários em um formato apropriado para cálculos e manipulações."
   ]
  },
  {
   "cell_type": "code",
   "execution_count": null,
   "id": "98ee14c5",
   "metadata": {
    "ExecuteTime": {
     "end_time": "2023-06-19T15:24:35.619334Z",
     "start_time": "2023-06-19T15:24:35.609987Z"
    },
    "hidden": true
   },
   "outputs": [],
   "source": [
    "import pandas as pd\n",
    "\n",
    "data = {'date': ['2021-01-01', '2021-01-02', '2021-01-03']}\n",
    "df = pd.DataFrame(data)\n",
    "df['date'] = pd.to_datetime(df['date'])\n",
    "df"
   ]
  },
  {
   "cell_type": "markdown",
   "id": "0b9dd3bb",
   "metadata": {
    "heading_collapsed": true,
    "hidden": true
   },
   "source": [
    "#### to_numeric"
   ]
  },
  {
   "cell_type": "markdown",
   "id": "62ce8b87",
   "metadata": {
    "hidden": true
   },
   "source": [
    "A função \"to_numeric\" é usada para converter uma coluna em um DataFrame em valores numéricos. Ela permite converter uma coluna que contém valores numéricos armazenados como strings em valores numéricos reais."
   ]
  },
  {
   "cell_type": "code",
   "execution_count": null,
   "id": "e0ce9a73",
   "metadata": {
    "ExecuteTime": {
     "end_time": "2023-06-19T15:24:39.228406Z",
     "start_time": "2023-06-19T15:24:39.218433Z"
    },
    "hidden": true
   },
   "outputs": [],
   "source": [
    "import pandas as pd\n",
    "\n",
    "data = {'col1': ['1', '2', '3']}\n",
    "df = pd.DataFrame(data)\n",
    "df['col1'] = pd.to_numeric(df['col1'])\n",
    "df"
   ]
  },
  {
   "cell_type": "markdown",
   "id": "1086eff0",
   "metadata": {
    "heading_collapsed": true,
    "hidden": true
   },
   "source": [
    "#### to_pickle"
   ]
  },
  {
   "cell_type": "markdown",
   "id": "d0bd0f23",
   "metadata": {
    "hidden": true
   },
   "source": [
    "A função \"to_pickle\" é usada para salvar um objeto do Pandas em formato pickle. Ela permite salvar um DataFrame, uma Series ou qualquer outro objeto do Pandas em um arquivo pickle para uso posterior."
   ]
  },
  {
   "cell_type": "code",
   "execution_count": null,
   "id": "2f544a40",
   "metadata": {
    "ExecuteTime": {
     "end_time": "2023-06-19T15:24:46.377770Z",
     "start_time": "2023-06-19T15:24:46.369788Z"
    },
    "hidden": true
   },
   "outputs": [],
   "source": [
    "import pandas as pd\n",
    "\n",
    "data = {'col1': [1, 2, 3], 'col2': [4, 5, 6]}\n",
    "df = pd.DataFrame(data)\n",
    "df.to_pickle('dados.pickle')"
   ]
  },
  {
   "cell_type": "markdown",
   "id": "4bc1db23",
   "metadata": {
    "heading_collapsed": true,
    "hidden": true
   },
   "source": [
    "#### to_timedelta"
   ]
  },
  {
   "cell_type": "markdown",
   "id": "97897fbc",
   "metadata": {
    "hidden": true
   },
   "source": [
    "A função \"to_timedelta\" é usada para converter uma coluna em um DataFrame em valores do tipo timedelta. Ela permite converter uma coluna que representa durações ou intervalos de tempo em um formato apropriado para cálculos e manipulações."
   ]
  },
  {
   "cell_type": "code",
   "execution_count": null,
   "id": "3d626952",
   "metadata": {
    "ExecuteTime": {
     "end_time": "2023-06-19T15:26:58.179861Z",
     "start_time": "2023-06-19T15:26:58.169888Z"
    },
    "hidden": true
   },
   "outputs": [],
   "source": [
    "import pandas as pd\n",
    "\n",
    "data = {'duration': ['1 days', '2 days', '3 days']}\n",
    "df = pd.DataFrame(data)\n",
    "df['duration'] = pd.to_timedelta(df['duration'])\n",
    "df"
   ]
  },
  {
   "cell_type": "markdown",
   "id": "f14054b5",
   "metadata": {
    "heading_collapsed": true,
    "hidden": true
   },
   "source": [
    "#### tseries"
   ]
  },
  {
   "cell_type": "markdown",
   "id": "dffefe5e",
   "metadata": {
    "hidden": true
   },
   "source": [
    "O módulo \"tseries\" do Pandas fornece classes e funções para manipulação de dados de séries temporais. Ele oferece recursos avançados para análise e manipulação de dados com base em datas e horários."
   ]
  },
  {
   "cell_type": "code",
   "execution_count": null,
   "id": "77ec6877",
   "metadata": {
    "ExecuteTime": {
     "end_time": "2023-06-19T15:27:28.064205Z",
     "start_time": "2023-06-19T15:27:28.058221Z"
    },
    "hidden": true
   },
   "outputs": [],
   "source": [
    "import pandas as pd\n",
    "\n",
    "ts = pd.Timestamp('2021-01-01')\n",
    "print(ts.year)"
   ]
  },
  {
   "cell_type": "markdown",
   "id": "906b3539",
   "metadata": {
    "heading_collapsed": true,
    "hidden": true
   },
   "source": [
    "#### UInt16Dtype, UInt32Dtype, UInt64Dtype"
   ]
  },
  {
   "cell_type": "markdown",
   "id": "a6ca1553",
   "metadata": {
    "hidden": true
   },
   "source": [
    "Esses são tipos de dados do Pandas que representam números inteiros não assinados com diferentes tamanhos de bits (16 bits, 32 bits, 64 bits). Eles são usados para armazenar e manipular dados numéricos inteiros não assinados."
   ]
  },
  {
   "cell_type": "code",
   "execution_count": null,
   "id": "ee6c344f",
   "metadata": {
    "ExecuteTime": {
     "end_time": "2023-06-19T15:02:15.902259Z",
     "start_time": "2023-06-19T15:02:15.875042Z"
    },
    "hidden": true
   },
   "outputs": [],
   "source": [
    "import pandas as pd\n",
    "\n",
    "data = {'Valores': [10, 20, 30]}\n",
    "df = pd.DataFrame(data, dtype='UInt32')\n",
    "df"
   ]
  },
  {
   "cell_type": "markdown",
   "id": "d02b39b7",
   "metadata": {
    "heading_collapsed": true,
    "hidden": true
   },
   "source": [
    "#### UInt8Dtype"
   ]
  },
  {
   "cell_type": "markdown",
   "id": "0b3dce34",
   "metadata": {
    "hidden": true
   },
   "source": [
    "UInt8Dtype é um tipo de dados do Pandas que representa números inteiros não assinados com 8 bits. Ele é usado para armazenar e manipular dados numéricos inteiros não assinados com uma faixa menor de valores possíveis."
   ]
  },
  {
   "cell_type": "code",
   "execution_count": null,
   "id": "a27e16f3",
   "metadata": {
    "ExecuteTime": {
     "end_time": "2023-06-19T15:03:46.227312Z",
     "start_time": "2023-06-19T15:03:46.218337Z"
    },
    "hidden": true
   },
   "outputs": [],
   "source": [
    "import pandas as pd\n",
    "\n",
    "data = {'Valores': [10, 20, 30]}\n",
    "df = pd.DataFrame(data, dtype='UInt8')\n",
    "df"
   ]
  },
  {
   "cell_type": "markdown",
   "id": "273933c3",
   "metadata": {
    "heading_collapsed": true,
    "hidden": true
   },
   "source": [
    "#### unique"
   ]
  },
  {
   "cell_type": "markdown",
   "id": "6372901d",
   "metadata": {
    "hidden": true
   },
   "source": [
    "A função \"unique\" é usada para obter os valores únicos em uma coluna de um DataFrame ou em uma Series. Ela retorna um array contendo os valores únicos presentes na coluna ou Series."
   ]
  },
  {
   "cell_type": "code",
   "execution_count": null,
   "id": "461a4b43",
   "metadata": {
    "ExecuteTime": {
     "end_time": "2023-06-19T15:28:17.928506Z",
     "start_time": "2023-06-19T15:28:17.921526Z"
    },
    "hidden": true
   },
   "outputs": [],
   "source": [
    "import pandas as pd\n",
    "\n",
    "data = {'col1': [1, 2, 3, 1, 2, 3]}\n",
    "df = pd.DataFrame(data)\n",
    "unique_values = df['col1'].unique()\n",
    "print(unique_values)"
   ]
  },
  {
   "cell_type": "markdown",
   "id": "8e4f3978",
   "metadata": {
    "heading_collapsed": true,
    "hidden": true
   },
   "source": [
    "#### value_counts"
   ]
  },
  {
   "cell_type": "markdown",
   "id": "e38cb0b8",
   "metadata": {
    "hidden": true
   },
   "source": [
    "A função \"value_counts\" é usada para contar a frequência de valores únicos em uma coluna de um DataFrame ou em uma Series. Ela retorna uma série que contém os valores únicos como índice e suas contagens correspondentes como valores."
   ]
  },
  {
   "cell_type": "code",
   "execution_count": null,
   "id": "d0d82a63",
   "metadata": {
    "ExecuteTime": {
     "end_time": "2023-06-19T15:31:05.882723Z",
     "start_time": "2023-06-19T15:31:05.873724Z"
    },
    "hidden": true
   },
   "outputs": [],
   "source": [
    "import pandas as pd\n",
    "\n",
    "data = {'col1': ['A', 'A', 'B', 'B', 'B']}\n",
    "df = pd.DataFrame(data)\n",
    "value_counts = df['col1'].value_counts()\n",
    "value_counts"
   ]
  }
 ],
 "metadata": {
  "kernelspec": {
   "display_name": "Python 3 (ipykernel)",
   "language": "python",
   "name": "python3"
  },
  "language_info": {
   "codemirror_mode": {
    "name": "ipython",
    "version": 3
   },
   "file_extension": ".py",
   "mimetype": "text/x-python",
   "name": "python",
   "nbconvert_exporter": "python",
   "pygments_lexer": "ipython3",
   "version": "3.9.13"
  },
  "varInspector": {
   "cols": {
    "lenName": 16,
    "lenType": 16,
    "lenVar": 40
   },
   "kernels_config": {
    "python": {
     "delete_cmd_postfix": "",
     "delete_cmd_prefix": "del ",
     "library": "var_list.py",
     "varRefreshCmd": "print(var_dic_list())"
    },
    "r": {
     "delete_cmd_postfix": ") ",
     "delete_cmd_prefix": "rm(",
     "library": "var_list.r",
     "varRefreshCmd": "cat(var_dic_list()) "
    }
   },
   "types_to_exclude": [
    "module",
    "function",
    "builtin_function_or_method",
    "instance",
    "_Feature"
   ],
   "window_display": false
  }
 },
 "nbformat": 4,
 "nbformat_minor": 5
}
