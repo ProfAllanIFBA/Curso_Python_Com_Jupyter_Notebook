{
 "cells": [
  {
   "cell_type": "markdown",
   "id": "b42396bc",
   "metadata": {},
   "source": [
    "<center> <img src=\"logo_ifba.jpg\" alt=\"jpg_python\" width=\"100\" height=\"\"> </center>\n",
    "<br><br>\n",
    "<center> <img src=\"logo_coext.jpg\" alt=\"jpg_python\" width=\"200\" height=\"\"> </center>\n",
    "<br><br>\n",
    "<center><div style=\"text-align:center\">    <a href=\"https://colab.research.google.com/github/ProfAllanIFBA/Curso_Python_Com_Jupyter_Notebook/blob/main/Capitulo024_Visualizando_Dados_Com_Seaborn/Capitulo024_Visualizando_Dados_Com_Seaborn.ipynb\">Link Colab</a> \n",
    "</div><br><br></center>\n",
    "<div align=\"center\"><span style=\"font-size: 26px;\"><strong>Python Com Jupyter Notebook</strong></span></div><br><br>\n",
    "<center> <img src=\"python_gif.gif\" alt=\"gif_python\" width=\"80\"> </center>"
   ]
  },
  {
   "cell_type": "markdown",
   "id": "b6bf92b8",
   "metadata": {},
   "source": [
    "Este material apresenta uma explicação detalhada sobre o uso do software de programação em Python chamado Jupyter Notebook, com foco na análise de dados. Abordaremos desde estruturas básicas, como listas e dicionários, até estruturas mais complexas voltadas para a análise de dados, como pandas e seaborn, além de ferramentas destinadas à inteligência artificial.\n",
    "\n",
    "\n",
    "<font color='red'> <u>Este é um material de uso público e totalmente gratuito</u>. Contudo, eventuais edições são de responsabilidade de quem as fizer. </font>\n",
    "\n",
    "Você pode ajudar a melhorar este material!\n",
    "\n",
    "Contato e Sugestões: allansoares@ifba.edu.br.\n",
    "\n",
    "[**Equipe Executora**](https://github.com/Allanifba/Curso_Python_Com_Jupyter_Notebook/blob/main/Capitulo000_Equipe/Capitulo000_Equipe.ipynb)"
   ]
  },
  {
   "cell_type": "markdown",
   "id": "debae4f1",
   "metadata": {},
   "source": [
    "### <center> <font color='red'> Vídeo Aulas <img src=\"youtube.gif\" alt=\"jpg_python\" width=\"100\" height=\"\"> </font> </center>"
   ]
  },
  {
   "cell_type": "markdown",
   "id": "c159de45",
   "metadata": {},
   "source": [
    "[Instalação do Seaborn no Python](https://youtu.be/3DfuhNO-P_0)\n",
    "\n",
    "[Datasets do Seaborn no Python](https://youtu.be/G7lOWzAsBBk)\n",
    "\n",
    "[Exploração Rápida de Diversos Gráficos do Seaborn no Python](https://youtu.be/hKpRumslHtI)\n",
    "\n",
    "[Explorando o Dataset tips do Seaborn no Python](https://youtu.be/mfFL0_sNVy0)"
   ]
  },
  {
   "cell_type": "markdown",
   "id": "c0c4b8a6",
   "metadata": {},
   "source": [
    "<div style=\"border: 2px solid black; padding: 10px; width: 100%; background-color: lightgray; display: flex; align-items: center;\">\n",
    "    <h1 style=\"color: red; text-align: center; margin: auto;\">\n",
    "        Capítulo 24 - Visualizando Dados Com Seaborn\n",
    "    </h1>\n",
    "</div>\n",
    "\n",
    "<font color='red'></font>\n",
    "<a href=\"\"></a>"
   ]
  },
  {
   "cell_type": "markdown",
   "id": "bf141300",
   "metadata": {},
   "source": [
    "O <u>Seaborn</u> é uma biblioteca de visualização de dados em Python, construída sobre o Matplotlib, oferecendo uma interface de alto nível para criar gráficos estatísticos atraentes e informativos. É amplamente utilizado na análise de dados, especialmente por sua facilidade em criar gráficos como dispersão, histogramas, barras, caixas e violinos com poucas linhas de código. Possui recursos avançados como suporte a mapas de cores personalizados e integração com a biblioteca Pandas, permitindo a criação eficiente de gráficos a partir de DataFrames."
   ]
  },
  {
   "cell_type": "markdown",
   "id": "16a74677",
   "metadata": {
    "ExecuteTime": {
     "end_time": "2023-06-27T13:01:46.311178Z",
     "start_time": "2023-06-27T13:01:46.302285Z"
    }
   },
   "source": [
    "## <div style=\"margin-top: -20px;\">\n",
    "<hr style=\"border: 2px solid blue;\">\n",
    "\n",
    "<font color='blue'><span style=\"font-size: 22px;\"><strong>24.1 Instalação da Biblioteca Seaborn</strong></span></font>\n",
    "\n",
    "<hr style=\"border: 2px solid blue;\">\n",
    "</div>"
   ]
  },
  {
   "cell_type": "markdown",
   "id": "936cc27b",
   "metadata": {
    "ExecuteTime": {
     "end_time": "2023-06-27T13:11:55.114593Z",
     "start_time": "2023-06-27T13:11:55.108099Z"
    }
   },
   "source": [
    "### <div style=\"margin-top: -20px;\">\n",
    "<hr style=\"border: 2px solid blue;\">\n",
    "\n",
    "<font color='blue'><span style=\"font-size: 18px;\"><strong>24.1.1 Instalação da Biblioteca Seaborn</strong></span></font>\n",
    "\n",
    "<hr style=\"border: 2px solid blue;\">\n",
    "</div>"
   ]
  },
  {
   "cell_type": "markdown",
   "id": "51dce0e2",
   "metadata": {},
   "source": [
    "Seaborn é uma biblioteca que não vem pré-instalada com o Jupyter Notebook e, portanto, precisa ser instalada separadamente, geralmente utilizando um gerenciador de pacotes como pip ou conda. No Jupyter a instalação pode ser feita a partir do seguinte comando:"
   ]
  },
  {
   "cell_type": "code",
   "execution_count": null,
   "id": "f736ae5f",
   "metadata": {
    "ExecuteTime": {
     "end_time": "2023-11-28T15:34:34.735082Z",
     "start_time": "2023-11-28T15:34:27.237189Z"
    }
   },
   "outputs": [],
   "source": [
    "!pip install seaborn"
   ]
  },
  {
   "cell_type": "markdown",
   "id": "6533052d",
   "metadata": {},
   "source": [
    "### <div style=\"margin-top: -20px;\">\n",
    "<hr style=\"border: 2px solid blue;\">\n",
    "\n",
    "<font color='blue'><span style=\"font-size: 18px;\"><strong>24.1.2 Bibliotecas e Comandos Associados ao Seaborn</strong></span></font>\n",
    "\n",
    "<hr style=\"border: 2px solid blue;\">\n",
    "</div>"
   ]
  },
  {
   "cell_type": "markdown",
   "id": "68a1f04e",
   "metadata": {},
   "source": [
    "Apresentamos a seguir uma série de importações e configurações iniciais que são relevantes para o uso do Seaborn juntamente com outras bibliotecas relacionadas, como NumPy, Pandas e Matplotlib."
   ]
  },
  {
   "cell_type": "code",
   "execution_count": null,
   "id": "5b091ae6",
   "metadata": {
    "ExecuteTime": {
     "end_time": "2023-11-28T15:34:36.595834Z",
     "start_time": "2023-11-28T15:34:34.737079Z"
    }
   },
   "outputs": [],
   "source": [
    "# Importações\n",
    "import random\n",
    "import numpy as np\n",
    "import pandas as pd\n",
    "import matplotlib as mat\n",
    "import matplotlib.pyplot as plt\n",
    "import seaborn as sns"
   ]
  },
  {
   "cell_type": "markdown",
   "id": "148ddf70",
   "metadata": {},
   "source": [
    "Iremos ativar o filtro de avisos para evitar que sejam exibidos avisos durante a execução do código. Isso pode ser útil para evitar a poluição da saída com mensagens de aviso irrelevantes."
   ]
  },
  {
   "cell_type": "code",
   "execution_count": null,
   "id": "c869c6fa",
   "metadata": {
    "ExecuteTime": {
     "end_time": "2023-11-28T15:34:36.601556Z",
     "start_time": "2023-11-28T15:34:36.597831Z"
    }
   },
   "outputs": [],
   "source": [
    "import warnings\n",
    "warnings.filterwarnings(\"ignore\")"
   ]
  },
  {
   "cell_type": "markdown",
   "id": "70f3b4f4",
   "metadata": {},
   "source": [
    "A linha de código a seguir é um comando específico do Jupyter Notebook ou JupyterLab que permite que os gráficos sejam exibidos diretamente na célula de saída. Isso é necessário para visualizar os gráficos criados com o Seaborn."
   ]
  },
  {
   "cell_type": "code",
   "execution_count": null,
   "id": "cf82d4b1",
   "metadata": {
    "ExecuteTime": {
     "end_time": "2023-11-28T15:34:36.621619Z",
     "start_time": "2023-11-28T15:34:36.604551Z"
    }
   },
   "outputs": [],
   "source": [
    "%matplotlib inline"
   ]
  },
  {
   "cell_type": "markdown",
   "id": "3ba9ae5f",
   "metadata": {},
   "source": [
    "#### *Exemplo: Esquentando os motores*"
   ]
  },
  {
   "cell_type": "code",
   "execution_count": null,
   "id": "8e2bf2c5",
   "metadata": {
    "ExecuteTime": {
     "end_time": "2023-11-28T15:34:36.683518Z",
     "start_time": "2023-11-28T15:34:36.623617Z"
    }
   },
   "outputs": [],
   "source": [
    "# Importando a biblioteca pandas\n",
    "import pandas as pd\n",
    "\n",
    "# Carregando o arquivo de dados CSV \"tips.csv\" e armazenando os dados no DataFrame 'tips'\n",
    "tips = pd.read_csv(\"tips.csv\")\n",
    "\n",
    "# Desligando a exibição padrão das 5 primeiras e 5 últimas linhas de um dataframe\n",
    "pd.set_option('display.max_rows', None)\n",
    "\n",
    "# Exibindo as primeiras linhas do DataFrame 'tips'\n",
    "tips.head(None)"
   ]
  },
  {
   "cell_type": "code",
   "execution_count": null,
   "id": "2bc6eb21",
   "metadata": {
    "ExecuteTime": {
     "end_time": "2023-11-28T15:34:37.454523Z",
     "start_time": "2023-11-28T15:34:36.685515Z"
    }
   },
   "outputs": [],
   "source": [
    "import pandas as pd\n",
    "import seaborn as sns\n",
    "\n",
    "tips = pd.read_csv(\"tips.csv\")\n",
    "sns.jointplot(data = tips, x = \"total_bill\", y = \"tip\", kind = 'reg')"
   ]
  },
  {
   "cell_type": "markdown",
   "id": "3d2287bf",
   "metadata": {
    "ExecuteTime": {
     "end_time": "2023-06-27T13:16:19.531600Z",
     "start_time": "2023-06-27T13:16:19.524475Z"
    }
   },
   "source": [
    "## <div style=\"margin-top: -20px;\">\n",
    "<hr style=\"border: 2px solid blue;\">\n",
    "\n",
    "<font color='blue'><span style=\"font-size: 22px;\"><strong>24.2 Explorando Datasets Disponíveis no Seaborn Com Pandas</strong></span></font>\n",
    "\n",
    "<hr style=\"border: 2px solid blue;\">\n",
    "</div>"
   ]
  },
  {
   "cell_type": "markdown",
   "id": "1ae038fe",
   "metadata": {},
   "source": [
    "O Seaborn oferece vários conjuntos de dados incorporados que podem ser acessados por meio da função load_dataset(). Esses conjuntos de dados são usados para fins educacionais e para demonstrar as funcionalidades do Seaborn. A célula a seguir apresenta os datasets disponíveis no seaborn."
   ]
  },
  {
   "cell_type": "code",
   "execution_count": null,
   "id": "8c670d17",
   "metadata": {
    "ExecuteTime": {
     "end_time": "2023-11-28T15:34:40.202755Z",
     "start_time": "2023-11-28T15:34:37.456522Z"
    }
   },
   "outputs": [],
   "source": [
    "# Importa a biblioteca Seaborn\n",
    "import seaborn as sns\n",
    "\n",
    "# Obtém a lista de conjuntos de dados disponíveis no Seaborn\n",
    "datasets = sns.get_dataset_names()  \n",
    "\n",
    "# Imprime a lista de conjuntos de dados\n",
    "print(datasets)  \n"
   ]
  },
  {
   "cell_type": "markdown",
   "id": "c0edabc6",
   "metadata": {},
   "source": [
    "O código a seguir baixará todos os dataset acima (pelo menos os disponíveis). Nos exemplos dados logo mais os datasets são importados dos seus repositórios na web."
   ]
  },
  {
   "cell_type": "code",
   "execution_count": null,
   "id": "aab5bdf9",
   "metadata": {
    "ExecuteTime": {
     "end_time": "2023-11-28T15:34:51.289469Z",
     "start_time": "2023-11-28T15:34:40.203756Z"
    }
   },
   "outputs": [],
   "source": [
    "import urllib.request\n",
    "\n",
    "datasets = ['anagrams', 'anscombe', 'attention', 'brain_networks', 'car_crashes', 'diamonds', 'dots', 'dowjones', 'exercise', 'flights', 'fmri', 'geyser', 'glue', 'healthexp', 'iris', 'mpg', 'penguins', 'planets', 'seaice', 'taxis', 'tips', 'titanic']\n",
    "\n",
    "base_url = \"https://raw.githubusercontent.com/mwaskom/seaborn-data/master/\"\n",
    "\n",
    "for dataset in datasets:\n",
    "    url = base_url + dataset + \".csv\"\n",
    "    file_name = dataset + \".csv\"\n",
    "    try:\n",
    "        urllib.request.urlretrieve(url, file_name)\n",
    "        print(f\"Dataset {dataset} baixado com sucesso!\")\n",
    "    except urllib.error.HTTPError:\n",
    "        print(f\"Dataset {dataset} não encontrado.\")\n"
   ]
  },
  {
   "cell_type": "markdown",
   "id": "1f52aa99",
   "metadata": {},
   "source": [
    "A seguir apresentaremos dataframes associados aos datasets acima bem como alguns gráficos simples relacionando algumas de suas variáveis. Na próxima seção abordaremos mais tipos de gráficos."
   ]
  },
  {
   "cell_type": "markdown",
   "id": "70f7c6d5",
   "metadata": {},
   "source": [
    "### anagrams"
   ]
  },
  {
   "cell_type": "markdown",
   "id": "c88897ff",
   "metadata": {},
   "source": [
    "O conjunto de dados <u>anagrams</u> contém informações sobre um experimento psicológico envolvendo anagramas, que são palavras ou frases formadas pela rearranjo das letras de outra palavra ou frase. O experimento consistiu em apresentar aos participantes uma série de anagramas e medir o tempo de resposta (RT) para cada anagrama.\n",
    "\n",
    "O conjunto de dados possui as seguintes colunas:\n",
    "\n",
    "- **subidr**: identificador único de cada participante.\n",
    "- **attnr**: atenção dividida ou focada\n",
    "- **num1**, **num2**, **num3**: o número de soluções possíveis para os anagramas, que variou de 1 a 3.\n",
    "\n",
    "Este conjunto de dados é útil para estudar o desempenho dos participantes no experimento de anagramas, examinar possíveis correlações entre as medidas e o tempo de resposta, ou realizar comparações entre grupos ou condições diferentes."
   ]
  },
  {
   "cell_type": "markdown",
   "id": "f311e629",
   "metadata": {},
   "source": [
    "#### Visualização Pandas"
   ]
  },
  {
   "cell_type": "code",
   "execution_count": null,
   "id": "1daa0bd3",
   "metadata": {
    "ExecuteTime": {
     "end_time": "2023-11-28T15:34:51.305644Z",
     "start_time": "2023-11-28T15:34:51.291453Z"
    },
    "scrolled": true
   },
   "outputs": [],
   "source": [
    "import pandas as pd\n",
    "\n",
    "anagrams = pd.read_csv(\"anagrams.csv\")\n",
    "anagrams.head(None)"
   ]
  },
  {
   "cell_type": "markdown",
   "id": "fd8be500",
   "metadata": {},
   "source": [
    "#### Visualização Seaborn"
   ]
  },
  {
   "cell_type": "code",
   "execution_count": null,
   "id": "2d1766b4",
   "metadata": {
    "ExecuteTime": {
     "end_time": "2023-11-28T15:34:51.489200Z",
     "start_time": "2023-11-28T15:34:51.308639Z"
    }
   },
   "outputs": [],
   "source": [
    "import seaborn as sns\n",
    "\n",
    "anagrams = sns.load_dataset(\"anagrams\")\n",
    "sns.boxplot(x=\"attnr\", y=\"num3\", data=anagrams)"
   ]
  },
  {
   "cell_type": "markdown",
   "id": "df357157",
   "metadata": {},
   "source": [
    "### anscombe"
   ]
  },
  {
   "cell_type": "markdown",
   "id": "d2ae8c47",
   "metadata": {
    "ExecuteTime": {
     "end_time": "2023-06-27T13:56:21.784037Z",
     "start_time": "2023-06-27T13:56:21.778077Z"
    }
   },
   "source": [
    "O dataset <u>anscombe</u> é um conjunto de dados que é frequentemente usado como exemplo para ilustrar a importância da visualização de dados e como diferentes conjuntos de dados podem ter estatísticas descritivas semelhantes, mesmo que sejam visualmente distintos.\n",
    "\n",
    "Ele consiste em quatro subconjuntos de dados, chamados de \"Anscombe's quartet\", criados pelo estatístico britânico Francis Anscombe. Cada subconjunto contém 11 pontos de dados com duas variáveis: \"x\" e \"y\". Essas variáveis representam as coordenadas x e y de pontos em um gráfico bidimensional.\n",
    "\n",
    "Os quatro subconjuntos de dados têm as seguintes características:\n",
    "\n",
    "**Conjunto I**: Os pontos parecem seguir uma relação linear clara. Eles variam em x de 4 a 14 e em y de aproximadamente 4 a 11.\n",
    "\n",
    "**Conjunto II**: Este conjunto também varia em x de 4 a 14, mas os valores de y são diferentes, indicando uma relação possivelmente curvilínea ou não-linear. Por exemplo, o par (x=8, y=8.14) difere de (x=8, y=6.95) no Conjunto I.\n",
    "\n",
    "**Conjunto III**: Este conjunto apresenta uma variação similar em x, mas com valores de y que parecem indicar dois grupos distintos ou a presença de outliers. Por exemplo, o ponto (x=13, y=12.74) destaca-se como um outlier.\n",
    "\n",
    "**Conjunto IV**: Este conjunto é notável porque a variável x é quase constante em 8, exceto pelo ponto (x=19, y=12.50). Este ponto age como um outlier significativo e influencia fortemente a análise de regressão.\n",
    "\n",
    "O objetivo desse conjunto de dados é destacar a importância da visualização de dados ao explorar e interpretar um conjunto de dados. Embora todos os quatro subconjuntos tenham estatísticas descritivas semelhantes, eles têm padrões e comportamentos visuais distintos, o que destaca a necessidade de análise visual além das estatísticas numéricas."
   ]
  },
  {
   "cell_type": "markdown",
   "id": "dd49d5dd",
   "metadata": {},
   "source": [
    "#### Visualização no Pandas"
   ]
  },
  {
   "cell_type": "code",
   "execution_count": null,
   "id": "cadfef75",
   "metadata": {
    "ExecuteTime": {
     "end_time": "2023-11-28T15:34:51.508656Z",
     "start_time": "2023-11-28T15:34:51.493188Z"
    }
   },
   "outputs": [],
   "source": [
    "import pandas as pd\n",
    "\n",
    "anscombe = pd.read_csv(\"anscombe.csv\")\n",
    "anscombe.head(None)"
   ]
  },
  {
   "cell_type": "markdown",
   "id": "98530ff9",
   "metadata": {},
   "source": [
    "#### Visualização Seaborn"
   ]
  },
  {
   "cell_type": "code",
   "execution_count": null,
   "id": "a7fdddc2",
   "metadata": {
    "ExecuteTime": {
     "end_time": "2023-11-28T15:34:51.818925Z",
     "start_time": "2023-11-28T15:34:51.510654Z"
    }
   },
   "outputs": [],
   "source": [
    "import seaborn as sns\n",
    "\n",
    "anscombe = sns.load_dataset(\"anscombe\")\n",
    "sns.scatterplot(x=\"x\", y=\"y\", hue=\"dataset\", data=anscombe)"
   ]
  },
  {
   "cell_type": "markdown",
   "id": "a7f2e021",
   "metadata": {},
   "source": [
    "Podemos traçar plots separados para entender melhor as variáveis de cada grupo: "
   ]
  },
  {
   "cell_type": "code",
   "execution_count": null,
   "id": "47e0f58a",
   "metadata": {
    "ExecuteTime": {
     "end_time": "2023-11-28T15:34:53.071879Z",
     "start_time": "2023-11-28T15:34:51.820922Z"
    }
   },
   "outputs": [],
   "source": [
    "import seaborn as sns\n",
    "sns.set_theme(style=\"ticks\")\n",
    "\n",
    "# Load the example dataset for Anscombe's quartet\n",
    "df = sns.load_dataset(\"anscombe\")\n",
    "\n",
    "# Show the results of a linear regression within each dataset\n",
    "sns.lmplot(\n",
    "    data=df, x=\"x\", y=\"y\", col=\"dataset\", hue=\"dataset\",\n",
    "    col_wrap=2, palette=\"muted\", ci=None,\n",
    "    height=4, scatter_kws={\"s\": 50, \"alpha\": 1}\n",
    ")"
   ]
  },
  {
   "cell_type": "markdown",
   "id": "c2c94f19",
   "metadata": {
    "heading_collapsed": true
   },
   "source": [
    "### attention"
   ]
  },
  {
   "cell_type": "markdown",
   "id": "11232f4c",
   "metadata": {
    "hidden": true
   },
   "source": [
    "O conjunto de dados <u>attention</u> é um conjunto de dados fictício que foi criado para fins educacionais e para demonstrar funcionalidades do Seaborn. Ele consiste em dados simulados de um experimento que envolveu diferentes condições de atenção e medidas de desempenho cognitivo.\n",
    "\n",
    "O conjunto de dados possui as seguintes colunas:\n",
    "\n",
    "- **subject**: identificador único de cada participante do experimento.\n",
    "- **attention**: nível de atenção, que pode assumir os valores \"high\" (alto) ou \"low\" (baixo).\n",
    "- **solutions**: número de soluções corretas encontradas por cada participante em um teste de desempenho cognitivo.\n",
    "\n",
    "Embora fictício, o conjunto de dados \"attention\" pode ser usado para exemplificar a análise de dados relacionados à atenção e desempenho cognitivo, bem como para explorar técnicas de visualização e modelagem de dados usando o Seaborn."
   ]
  },
  {
   "cell_type": "markdown",
   "id": "5e6400e0",
   "metadata": {
    "heading_collapsed": true,
    "hidden": true
   },
   "source": [
    "#### Visualização no Pandas"
   ]
  },
  {
   "cell_type": "code",
   "execution_count": null,
   "id": "efca65bd",
   "metadata": {
    "ExecuteTime": {
     "end_time": "2023-11-28T15:34:53.091649Z",
     "start_time": "2023-11-28T15:34:53.073878Z"
    },
    "hidden": true
   },
   "outputs": [],
   "source": [
    "import pandas as pd\n",
    "\n",
    "attention = pd.read_csv(\"attention.csv\")\n",
    "attention.head(None)"
   ]
  },
  {
   "cell_type": "markdown",
   "id": "641aa305",
   "metadata": {
    "heading_collapsed": true,
    "hidden": true
   },
   "source": [
    "#### Visualização Seaborn"
   ]
  },
  {
   "cell_type": "code",
   "execution_count": null,
   "id": "ab11fd78",
   "metadata": {
    "ExecuteTime": {
     "end_time": "2023-11-28T15:34:53.733865Z",
     "start_time": "2023-11-28T15:34:53.092637Z"
    },
    "hidden": true
   },
   "outputs": [],
   "source": [
    "import seaborn as sns\n",
    "\n",
    "attention = sns.load_dataset(\"attention\")\n",
    "sns.barplot(x=\"subject\", y=\"score\", hue=\"solutions\", data=attention)"
   ]
  },
  {
   "cell_type": "markdown",
   "id": "0732790d",
   "metadata": {
    "heading_collapsed": true
   },
   "source": [
    "### brain_networks"
   ]
  },
  {
   "cell_type": "markdown",
   "id": "68e0e3db",
   "metadata": {
    "hidden": true
   },
   "source": [
    "O conjunto de dados <u>brain_networks</u> é um conjunto de dados que contém informações sobre a conectividade funcional do cérebro humano. Ele representa a atividade neural medida em diferentes regiões do cérebro, chamadas de regiões de interesse (ROIs), em várias redes cerebrais.\n",
    "\n",
    "O conjunto de dados possui várias colunas, incluindo as seguintes:\n",
    "\n",
    "- **network**: identifica a rede cerebral à qual a ROI pertence.\n",
    "- **node**: identifica a ROI específica dentro da rede cerebral.\n",
    "- **hemisphere**: indica o hemisfério cerebral em que a ROI está localizada.\n",
    "- **module**: representa a modularidade da ROI, que é uma medida de sua função no contexto das redes cerebrais.\n",
    "- **strength**: indica a força da conectividade funcional da ROI.\n",
    "\n",
    "Esse conjunto de dados é frequentemente utilizado para realizar análises de conectividade cerebral, estudar a organização das redes cerebrais e explorar padrões de conectividade funcional. Ele pode ser útil para pesquisadores e profissionais que trabalham na área de neurociência e estão interessados em investigar as características e a conectividade do cérebro humano."
   ]
  },
  {
   "cell_type": "markdown",
   "id": "7d53b6fc",
   "metadata": {
    "heading_collapsed": true,
    "hidden": true
   },
   "source": [
    "#### Visualização Pandas"
   ]
  },
  {
   "cell_type": "code",
   "execution_count": null,
   "id": "8ccabe88",
   "metadata": {
    "ExecuteTime": {
     "end_time": "2023-11-28T15:34:54.621021Z",
     "start_time": "2023-11-28T15:34:53.735862Z"
    },
    "hidden": true,
    "scrolled": true
   },
   "outputs": [],
   "source": [
    "import pandas as pd\n",
    "\n",
    "# Configurar opções de exibição\n",
    "pd.set_option('display.max_rows', None)\n",
    "pd.set_option('display.max_columns', None)\n",
    "\n",
    "brain_networks = pd.read_csv(\"brain_networks.csv\")\n",
    "brain_networks.head(None)"
   ]
  },
  {
   "cell_type": "markdown",
   "id": "c0c66576",
   "metadata": {
    "heading_collapsed": true,
    "hidden": true
   },
   "source": [
    "#### Visualização Seaborn"
   ]
  },
  {
   "cell_type": "code",
   "execution_count": null,
   "id": "5502a5d2",
   "metadata": {
    "ExecuteTime": {
     "end_time": "2023-11-28T15:34:56.517832Z",
     "start_time": "2023-11-28T15:34:54.622020Z"
    },
    "hidden": true
   },
   "outputs": [],
   "source": [
    "import pandas as pd\n",
    "import seaborn as sns\n",
    "sns.set_theme()\n",
    "\n",
    "# Load the brain networks example dataset\n",
    "df = sns.load_dataset(\"brain_networks\", header=[0, 1, 2], index_col=0)\n",
    "\n",
    "# Select a subset of the networks\n",
    "used_networks = [1, 5, 6, 7, 8, 12, 13, 17]\n",
    "used_columns = (df.columns.get_level_values(\"network\")\n",
    "                          .astype(int)\n",
    "                          .isin(used_networks))\n",
    "df = df.loc[:, used_columns]\n",
    "\n",
    "# Create a categorical palette to identify the networks\n",
    "network_pal = sns.husl_palette(8, s=.45)\n",
    "network_lut = dict(zip(map(str, used_networks), network_pal))\n",
    "\n",
    "# Convert the palette to vectors that will be drawn on the side of the matrix\n",
    "networks = df.columns.get_level_values(\"network\")\n",
    "network_colors = pd.Series(networks, index=df.columns).map(network_lut)\n",
    "\n",
    "# Draw the full plot\n",
    "g = sns.clustermap(df.corr(), center=0, cmap=\"vlag\",\n",
    "                   row_colors=network_colors, col_colors=network_colors,\n",
    "                   dendrogram_ratio=(.1, .2),\n",
    "                   cbar_pos=(.02, .32, .03, .2),\n",
    "                   linewidths=.75, figsize=(12, 13))\n",
    "\n",
    "g.ax_row_dendrogram.remove()"
   ]
  },
  {
   "cell_type": "markdown",
   "id": "42d23699",
   "metadata": {
    "heading_collapsed": true
   },
   "source": [
    "### car_crashes"
   ]
  },
  {
   "cell_type": "markdown",
   "id": "959520bd",
   "metadata": {
    "hidden": true
   },
   "source": [
    "O conjunto de dados <u>car_crashes</u> contém informações sobre acidentes de carro em diferentes estados dos Estados Unidos. Ele inclui várias variáveis que descrevem as características dos acidentes e as taxas de sinistralidade em cada estado. Aqui está uma descrição detalhada das colunas presentes no conjunto de dados:\n",
    "\n",
    "- **abbrev**: A abreviação do estado onde ocorreu o acidente de carro.\n",
    "- **total**: O número total de acidentes de carro em cada estado.\n",
    "- **speeding**: O número de acidentes de carro causados pelo excesso de velocidade.\n",
    "- **alcohol**: O número de acidentes de carro relacionados ao consumo de álcool.\n",
    "- **not_distracted**: O número de acidentes de carro em que o motorista não estava distraído.\n",
    "- **no_previous**: O número de acidentes de carro em que o motorista não tinha acidentes prévios.\n",
    "- **ins_premium**: O prêmio médio do seguro de carro em cada estado.\n",
    "- **ins_losses**: As perdas médias do seguro de carro em cada estado, em dólares por veículo.\n",
    "\n",
    "Este conjunto de dados pode ser usado para analisar os fatores que contribuem para os acidentes de carro em diferentes estados, como excesso de velocidade, consumo de álcool e distração do motorista. Também pode ser usado para investigar as perdas médias do seguro de carro em cada estado."
   ]
  },
  {
   "cell_type": "markdown",
   "id": "5d41850b",
   "metadata": {
    "heading_collapsed": true,
    "hidden": true
   },
   "source": [
    "#### Visualização Pandas"
   ]
  },
  {
   "cell_type": "code",
   "execution_count": null,
   "id": "d11284de",
   "metadata": {
    "ExecuteTime": {
     "end_time": "2023-11-28T15:34:56.554375Z",
     "start_time": "2023-11-28T15:34:56.519824Z"
    },
    "hidden": true
   },
   "outputs": [],
   "source": [
    "import pandas as pd\n",
    "\n",
    "car_crashes = pd.read_csv(\"car_crashes.csv\")\n",
    "car_crashes.head(None)"
   ]
  },
  {
   "cell_type": "markdown",
   "id": "87519c42",
   "metadata": {
    "heading_collapsed": true,
    "hidden": true
   },
   "source": [
    "#### Visualização Seaborn"
   ]
  },
  {
   "cell_type": "code",
   "execution_count": null,
   "id": "15fcefef",
   "metadata": {
    "ExecuteTime": {
     "end_time": "2023-11-28T15:34:58.318333Z",
     "start_time": "2023-11-28T15:34:56.556372Z"
    },
    "hidden": true
   },
   "outputs": [],
   "source": [
    "import seaborn as sns\n",
    "\n",
    "car_crashes = sns.load_dataset(\"car_crashes\")\n",
    "sns.scatterplot(x=\"total\", y=\"alcohol\", hue=\"abbrev\", data=car_crashes)\n"
   ]
  },
  {
   "cell_type": "markdown",
   "id": "394bf4a3",
   "metadata": {
    "hidden": true
   },
   "source": [
    "Para termos uma visualização mais agradável, sem a legenda ocupando um espaço maior que o da região gráfica, podemos usar a biblioteca matplotlib."
   ]
  },
  {
   "cell_type": "code",
   "execution_count": null,
   "id": "c8158f27",
   "metadata": {
    "ExecuteTime": {
     "end_time": "2023-11-28T15:34:59.690932Z",
     "start_time": "2023-11-28T15:34:58.320330Z"
    },
    "hidden": true
   },
   "outputs": [],
   "source": [
    "import seaborn as sns\n",
    "import matplotlib.pyplot as plt\n",
    "\n",
    "car_crashes = sns.load_dataset(\"car_crashes\")\n",
    "\n",
    "# Ajustar o tamanho da fonte das legendas\n",
    "sns.set(font_scale=0.5)  # Definir o fator de escala da fonte\n",
    "\n",
    "# Aumentar a área do gráfico para alocar as legendas externamente\n",
    "plt.figure(figsize=(10, 6))  # Definir o tamanho da figura\n",
    "\n",
    "# Plotar o gráfico de dispersão com as legendas\n",
    "sns.scatterplot(x=\"total\", y=\"alcohol\", hue=\"abbrev\", data=car_crashes)\n",
    "\n",
    "# Posicionar as legendas externamente\n",
    "plt.legend(bbox_to_anchor=(1, 1.05), loc='upper left')\n",
    "\n",
    "# Exibir o gráfico\n",
    "plt.show()\n"
   ]
  },
  {
   "cell_type": "markdown",
   "id": "7e766d83",
   "metadata": {
    "heading_collapsed": true
   },
   "source": [
    "### diamonds"
   ]
  },
  {
   "cell_type": "markdown",
   "id": "e9181251",
   "metadata": {
    "hidden": true
   },
   "source": [
    "O conjunto de dados <u>diamonds</u> contém informações sobre diamantes e é comumente usado como exemplo em análises de dados e visualizações. Ele consiste em várias colunas que fornecem detalhes sobre as características dos diamantes. Abaixo está uma descrição mais detalhada das colunas do conjunto de dados:\n",
    "\n",
    "- **carat**: O peso do diamante em quilates.\n",
    "- **cut**: A qualidade do corte do diamante, representada por categorias: Fair (ruim), Good (bom), Very Good (muito bom), Premium (premium) e Ideal (ideal).\n",
    "- **color**: A cor do diamante, classificada de D (a mais alta e incolor) a J (ligeiramente amarelada).\n",
    "- **clarity**: A clareza do diamante, classificada de IF (interna perfeita) a I3 (inclusões visíveis a olho nu).\n",
    "- **depth**: A proporção entre a profundidade e a largura do diamante.\n",
    "- **table**: A largura da mesa (parte superior plana) do diamante em relação à largura total.\n",
    "- **price**: O preço do diamante em dólares americanos.\n",
    "- **x**: O comprimento do diamante em milímetros.\n",
    "- **y**: A largura do diamante em milímetros.\n",
    "- **z**: A profundidade do diamante em milímetros.\n",
    "\n",
    "\n",
    "Essas colunas fornecem informações valiosas sobre as características físicas e qualidades dos diamantes, permitindo análises e insights sobre fatores como o preço, a qualidade do corte, a cor e a clareza. O conjunto de dados \"diamonds\" é amplamente utilizado na exploração de técnicas de análise de dados, modelagem preditiva e visualização de dados relacionados a diamantes."
   ]
  },
  {
   "cell_type": "markdown",
   "id": "407a5ad6",
   "metadata": {
    "heading_collapsed": true,
    "hidden": true
   },
   "source": [
    "#### Visualização Pandas"
   ]
  },
  {
   "cell_type": "code",
   "execution_count": null,
   "id": "9abcdd1e",
   "metadata": {
    "ExecuteTime": {
     "end_time": "2023-11-28T15:34:59.764590Z",
     "start_time": "2023-11-28T15:34:59.691931Z"
    },
    "hidden": true
   },
   "outputs": [],
   "source": [
    "import pandas as pd\n",
    "\n",
    "diamonds = pd.read_csv(\"diamonds.csv\")\n",
    "diamonds.head(10)"
   ]
  },
  {
   "cell_type": "markdown",
   "id": "a4353724",
   "metadata": {
    "ExecuteTime": {
     "end_time": "2023-06-27T14:44:58.051629Z",
     "start_time": "2023-06-27T14:44:58.046256Z"
    },
    "heading_collapsed": true,
    "hidden": true
   },
   "source": [
    "#### Visualização Seaborn"
   ]
  },
  {
   "cell_type": "code",
   "execution_count": null,
   "id": "f05278f7",
   "metadata": {
    "ExecuteTime": {
     "end_time": "2023-11-28T15:35:00.644434Z",
     "start_time": "2023-11-28T15:34:59.766590Z"
    },
    "hidden": true
   },
   "outputs": [],
   "source": [
    "import seaborn as sns\n",
    "\n",
    "diamonds = sns.load_dataset(\"diamonds\")\n",
    "sns.histplot(data=diamonds, x=\"carat\", kde=True)\n"
   ]
  },
  {
   "cell_type": "code",
   "execution_count": null,
   "id": "e0e26357",
   "metadata": {
    "ExecuteTime": {
     "end_time": "2023-11-28T15:35:01.214435Z",
     "start_time": "2023-11-28T15:35:00.646455Z"
    },
    "hidden": true
   },
   "outputs": [],
   "source": [
    "import seaborn as sns\n",
    "\n",
    "diamonds = sns.load_dataset(\"diamonds\")\n",
    "sns.scatterplot(data=diamonds, x=\"carat\", y=\"price\")"
   ]
  },
  {
   "cell_type": "code",
   "execution_count": null,
   "id": "b20c4c52",
   "metadata": {
    "ExecuteTime": {
     "end_time": "2023-11-28T15:35:02.149582Z",
     "start_time": "2023-11-28T15:35:01.215428Z"
    },
    "hidden": true
   },
   "outputs": [],
   "source": [
    "import seaborn as sns\n",
    "import matplotlib as mpl\n",
    "import matplotlib.pyplot as plt\n",
    "\n",
    "sns.set_theme(style=\"ticks\")\n",
    "\n",
    "diamonds = sns.load_dataset(\"diamonds\")\n",
    "\n",
    "f, ax = plt.subplots(figsize=(7, 5))\n",
    "sns.despine(f)\n",
    "\n",
    "sns.histplot(\n",
    "    diamonds,\n",
    "    x=\"price\", hue=\"cut\",\n",
    "    multiple=\"stack\",\n",
    "    palette=\"light:m_r\",\n",
    "    edgecolor=\".3\",\n",
    "    linewidth=.5,\n",
    "    log_scale=True,\n",
    ")\n",
    "ax.xaxis.set_major_formatter(mpl.ticker.ScalarFormatter())\n",
    "ax.set_xticks([500, 1000, 2000, 5000, 10000])"
   ]
  },
  {
   "cell_type": "markdown",
   "id": "77b81a21",
   "metadata": {
    "heading_collapsed": true
   },
   "source": [
    "### dots"
   ]
  },
  {
   "cell_type": "markdown",
   "id": "e0a6f355",
   "metadata": {
    "hidden": true
   },
   "source": [
    "O dataset <u>dots</u> contém informações sobre experimentos de percepção visual realizados com pontos em um monitor. Esse conjunto de dados apresenta resultados de experimentos que medem a precisão de tempo de reação em milissegundos. Ele inclui informações sobre a coerência e a taxa de disparo de neurônios, permitindo a análise da resposta neural em diferentes condições.\n",
    "\n",
    "Aqui está uma descrição mais detalhada das colunas do dataset:\n",
    "\n",
    "- **align**: representa a direção de alinhamento dos pontos. Pode ter os valores \"dots\" (pontos alinhados verticalmente) ou \"lines\" (pontos alinhados horizontalmente).\n",
    "- **choice**: indica a escolha feita pelos participantes do experimento. Pode ser \"T1\" ou \"T2\".\n",
    "- **time**: indica o tempo em que a escolha foi feita pelos participantes, medido em milissegundos.\n",
    "- **coherence**: representa a coerência da direção dos pontos. Pode variar de 0 a 1, onde 0 indica uma direção aleatória e 1 indica uma direção consistente.\n",
    "- **firing_rate**: representa a taxa de disparo das células do cérebro em resposta aos pontos. É uma medida contínua.\n"
   ]
  },
  {
   "cell_type": "markdown",
   "id": "8c778f93",
   "metadata": {
    "heading_collapsed": true,
    "hidden": true
   },
   "source": [
    "#### Visualização Pandas"
   ]
  },
  {
   "cell_type": "code",
   "execution_count": null,
   "id": "be9f1b2e",
   "metadata": {
    "ExecuteTime": {
     "end_time": "2023-11-28T15:35:02.266744Z",
     "start_time": "2023-11-28T15:35:02.150582Z"
    },
    "hidden": true
   },
   "outputs": [],
   "source": [
    "import pandas as pd\n",
    "\n",
    "# Configurar opções de exibição\n",
    "pd.set_option('display.max_rows', None)\n",
    "pd.set_option('display.max_columns', None)\n",
    "\n",
    "dots = pd.read_csv(\"dots.csv\")\n",
    "dots.head(None)\n"
   ]
  },
  {
   "cell_type": "markdown",
   "id": "3eef91b7",
   "metadata": {
    "heading_collapsed": true,
    "hidden": true
   },
   "source": [
    "#### Visualização Seaborn"
   ]
  },
  {
   "cell_type": "code",
   "execution_count": null,
   "id": "1966a6c3",
   "metadata": {
    "ExecuteTime": {
     "end_time": "2023-11-28T15:35:10.303984Z",
     "start_time": "2023-11-28T15:35:02.267743Z"
    },
    "hidden": true
   },
   "outputs": [],
   "source": [
    "import seaborn as sns\n",
    "\n",
    "dots = sns.load_dataset(\"dots\")\n",
    "sns.lineplot(x=\"time\", y=\"firing_rate\", hue=\"coherence\", data=dots)"
   ]
  },
  {
   "cell_type": "markdown",
   "id": "7859781c",
   "metadata": {
    "heading_collapsed": true
   },
   "source": [
    "### dowjones"
   ]
  },
  {
   "cell_type": "code",
   "execution_count": null,
   "id": "5d6f05c4",
   "metadata": {
    "ExecuteTime": {
     "end_time": "2023-11-28T15:35:10.363825Z",
     "start_time": "2023-11-28T15:35:10.305981Z"
    },
    "hidden": true
   },
   "outputs": [],
   "source": [
    "import pandas as pd\n",
    "\n",
    "dowjones = pd.read_csv(\"dowjones.csv\")\n",
    "dowjones.head(None)\n"
   ]
  },
  {
   "cell_type": "markdown",
   "id": "c3a452f8",
   "metadata": {
    "heading_collapsed": true,
    "hidden": true
   },
   "source": [
    "#### Visualização Seaborn"
   ]
  },
  {
   "cell_type": "code",
   "execution_count": null,
   "id": "ace79949",
   "metadata": {
    "ExecuteTime": {
     "end_time": "2023-11-28T15:35:10.597935Z",
     "start_time": "2023-11-28T15:35:10.370833Z"
    },
    "hidden": true
   },
   "outputs": [],
   "source": [
    "import seaborn as sns\n",
    "\n",
    "dowjones = sns.load_dataset(\"dowjones\")\n",
    "sns.lineplot(x=\"Date\", y=\"Price\", data=dowjones)\n"
   ]
  },
  {
   "cell_type": "markdown",
   "id": "99415597",
   "metadata": {},
   "source": [
    "### exercise"
   ]
  },
  {
   "cell_type": "markdown",
   "id": "a5fad15f",
   "metadata": {},
   "source": [
    "O conjunto de dados <u>exercise</u> contém informações sobre o desempenho de exercícios físicos e a frequência cardíaca de um grupo de indivíduos. O conjunto de dados possui as seguintes colunas:\n",
    "\n",
    "- **id**: identificador único para cada registro\n",
    "- **time**: o tempo decorrido em minutos desde o início do exercício\n",
    "- **pulse**: a frequência cardíaca em batimentos por minuto\n",
    "- **kind**: o tipo de exercício realizado\n",
    "\n",
    "Esse conjunto de dados é útil para explorar as relações entre exercício físico e frequência cardíaca."
   ]
  },
  {
   "cell_type": "markdown",
   "id": "7b3b35bb",
   "metadata": {},
   "source": [
    "#### Visualização Pandas"
   ]
  },
  {
   "cell_type": "code",
   "execution_count": null,
   "id": "e9528a00",
   "metadata": {
    "ExecuteTime": {
     "end_time": "2023-11-28T15:35:10.619300Z",
     "start_time": "2023-11-28T15:35:10.599934Z"
    }
   },
   "outputs": [],
   "source": [
    "import pandas as pd\n",
    "\n",
    "exercise = pd.read_csv(\"exercise.csv\")\n",
    "exercise.head(None)"
   ]
  },
  {
   "cell_type": "markdown",
   "id": "ff7136a0",
   "metadata": {},
   "source": [
    "#### Visualização Seaborn"
   ]
  },
  {
   "cell_type": "code",
   "execution_count": null,
   "id": "fdb2f65c",
   "metadata": {
    "ExecuteTime": {
     "end_time": "2023-11-28T15:35:11.032157Z",
     "start_time": "2023-11-28T15:35:10.620300Z"
    }
   },
   "outputs": [],
   "source": [
    "import seaborn as sns\n",
    "\n",
    "exercise = sns.load_dataset(\"exercise\")\n",
    "sns.catplot(x=\"time\", y=\"pulse\", hue=\"kind\", data=exercise, kind=\"box\")"
   ]
  },
  {
   "cell_type": "markdown",
   "id": "0aa7dcf9",
   "metadata": {
    "heading_collapsed": true
   },
   "source": [
    "### flights"
   ]
  },
  {
   "cell_type": "markdown",
   "id": "8ab2bf9e",
   "metadata": {
    "hidden": true
   },
   "source": [
    "O conjunto de dados contém informações sobre o número de passageiros que viajaram mensalmente em diferentes anos. Ele abrange o período de janeiro de 1949 a dezembro de 1960, totalizando 12 anos de dados.\n",
    "\n",
    "As colunas do conjunto de dados são as seguintes:\n",
    "\n",
    "- **year**: o ano em que os dados foram registrados. Os anos variam de 1949 a 1960.\n",
    "- **month**: o mês em que os dados foram registrados. Cada mês é representado por seu nome completo, como \"January\" (janeiro), \"February\" (fevereiro), etc.\n",
    "- **passengers**: o número de passageiros que viajaram durante o mês e ano específicos. Essa é a variável de interesse no conjunto de dados.\n",
    "\n",
    "Esse conjunto de dados é frequentemente utilizado para análise de séries temporais e visualização de tendências sazonais."
   ]
  },
  {
   "cell_type": "markdown",
   "id": "8df9556b",
   "metadata": {
    "heading_collapsed": true,
    "hidden": true
   },
   "source": [
    "#### Visualização Pandas"
   ]
  },
  {
   "cell_type": "code",
   "execution_count": null,
   "id": "e1520325",
   "metadata": {
    "ExecuteTime": {
     "end_time": "2023-11-28T15:35:11.198811Z",
     "start_time": "2023-11-28T15:35:11.034157Z"
    },
    "hidden": true
   },
   "outputs": [],
   "source": [
    "import pandas as pd\n",
    "\n",
    "# Configurar opções de exibição\n",
    "pd.set_option('display.max_rows', None)\n",
    "pd.set_option('display.max_columns', None)\n",
    "\n",
    "\n",
    "flights = pd.read_csv(\"https://raw.githubusercontent.com/mwaskom/seaborn-data/master/flights.csv\")\n",
    "flights.head(None)\n"
   ]
  },
  {
   "cell_type": "markdown",
   "id": "ee1fc2af",
   "metadata": {
    "ExecuteTime": {
     "end_time": "2023-06-27T20:16:35.408651Z",
     "start_time": "2023-06-27T20:16:35.403661Z"
    },
    "heading_collapsed": true,
    "hidden": true
   },
   "source": [
    "#### Visualização Seaborn"
   ]
  },
  {
   "cell_type": "code",
   "execution_count": null,
   "id": "32f7a30f",
   "metadata": {
    "ExecuteTime": {
     "end_time": "2023-11-28T15:35:11.672708Z",
     "start_time": "2023-11-28T15:35:11.200807Z"
    },
    "hidden": true
   },
   "outputs": [],
   "source": [
    "import seaborn as sns\n",
    "\n",
    "flights = sns.load_dataset(\"flights\")\n",
    "sns.lineplot(x=\"year\", y=\"passengers\", hue=\"month\", data=flights)\n"
   ]
  },
  {
   "cell_type": "markdown",
   "id": "1696f6a2",
   "metadata": {
    "heading_collapsed": true
   },
   "source": [
    "### fmri"
   ]
  },
  {
   "cell_type": "markdown",
   "id": "a40d81be",
   "metadata": {
    "hidden": true
   },
   "source": [
    "O conjunto de dados <u>fmri</u> contém informações sobre ressonância magnética funcional (fMRI) de um único indivíduo durante uma tarefa de estímulo. O conjunto de dados é composto por medições de sinal fMRI em várias regiões do cérebro ao longo do tempo.\n",
    "\n",
    "As colunas do conjunto de dados são as seguintes:\n",
    "\n",
    "- **subject**: identificador único do sujeito que participou do estudo.\n",
    "- **timepoint**: o tempo decorrido desde o início do experimento, medido em segundos.\n",
    "- **region**: a região do cérebro onde as medições fMRI foram realizadas.\n",
    "- **event**: o tipo de evento que ocorreu durante a tarefa de estímulo.\n",
    "- **signal**: o valor do sinal fMRI registrado na região e tempo específicos.\n",
    "\n",
    "Esse conjunto de dados é útil para análises de neurociência e estudos sobre a resposta cerebral a estímulos específicos."
   ]
  },
  {
   "cell_type": "markdown",
   "id": "54ca356a",
   "metadata": {
    "heading_collapsed": true,
    "hidden": true
   },
   "source": [
    "#### Visualização Pandas"
   ]
  },
  {
   "cell_type": "code",
   "execution_count": null,
   "id": "30d4dac4",
   "metadata": {
    "ExecuteTime": {
     "end_time": "2023-11-28T15:35:11.770430Z",
     "start_time": "2023-11-28T15:35:11.674700Z"
    },
    "hidden": true
   },
   "outputs": [],
   "source": [
    "import pandas as pd\n",
    "\n",
    "fmri = pd.read_csv(\"fmri.csv\")\n",
    "fmri.head(None)\n"
   ]
  },
  {
   "cell_type": "markdown",
   "id": "d225bfc3",
   "metadata": {
    "ExecuteTime": {
     "end_time": "2023-06-27T20:21:30.582261Z",
     "start_time": "2023-06-27T20:21:30.577247Z"
    },
    "heading_collapsed": true,
    "hidden": true
   },
   "source": [
    "#### Visualização Seaborn"
   ]
  },
  {
   "cell_type": "code",
   "execution_count": null,
   "id": "f0403d6e",
   "metadata": {
    "ExecuteTime": {
     "end_time": "2023-11-28T15:35:12.989821Z",
     "start_time": "2023-11-28T15:35:11.771430Z"
    },
    "hidden": true
   },
   "outputs": [],
   "source": [
    "import seaborn as sns\n",
    "\n",
    "fmri = sns.load_dataset(\"fmri\")\n",
    "sns.lineplot(x=\"timepoint\", y=\"signal\", hue=\"event\", data=fmri)"
   ]
  },
  {
   "cell_type": "code",
   "execution_count": null,
   "id": "96d42471",
   "metadata": {
    "ExecuteTime": {
     "end_time": "2023-11-28T15:35:15.344336Z",
     "start_time": "2023-11-28T15:35:12.990809Z"
    },
    "hidden": true
   },
   "outputs": [],
   "source": [
    "import seaborn as sns\n",
    "sns.set_theme(style=\"darkgrid\")\n",
    "\n",
    "# Load an example dataset with long-form data\n",
    "fmri = sns.load_dataset(\"fmri\")\n",
    "\n",
    "# Plot the responses for different events and regions\n",
    "sns.lineplot(x=\"timepoint\", y=\"signal\",\n",
    "             hue=\"region\", style=\"event\",\n",
    "             data=fmri)"
   ]
  },
  {
   "cell_type": "markdown",
   "id": "6024f37e",
   "metadata": {
    "heading_collapsed": true
   },
   "source": [
    "### geyser"
   ]
  },
  {
   "cell_type": "markdown",
   "id": "0576e9f8",
   "metadata": {
    "hidden": true
   },
   "source": [
    "O conjunto de dados \"geyser\" contém informações sobre a atividade de um gêiser chamado \"Old Faithful\" no Parque Nacional de Yellowstone, Estados Unidos. O conjunto de dados registra a duração e o tempo de espera entre erupções consecutivas do gêiser.\n",
    "\n",
    "As colunas do conjunto de dados são as seguintes:\n",
    "\n",
    "- **duration**: a duração, em minutos, da erupção do gêiser.\n",
    "- **waiting**: o tempo de espera, em minutos, até a próxima erupção do gêiser.\n",
    "\n",
    "Esse conjunto de dados é útil para análises de geologia e estudos sobre fenômenos vulcânicos."
   ]
  },
  {
   "cell_type": "markdown",
   "id": "51db7c43",
   "metadata": {
    "heading_collapsed": true,
    "hidden": true
   },
   "source": [
    "#### Visualização Pandas"
   ]
  },
  {
   "cell_type": "code",
   "execution_count": null,
   "id": "3c97a415",
   "metadata": {
    "ExecuteTime": {
     "end_time": "2023-11-28T15:35:15.381263Z",
     "start_time": "2023-11-28T15:35:15.346334Z"
    },
    "hidden": true
   },
   "outputs": [],
   "source": [
    "import pandas as pd\n",
    "\n",
    "geyser = pd.read_csv(\"geyser.csv\")\n",
    "geyser.head(None)\n"
   ]
  },
  {
   "cell_type": "markdown",
   "id": "2fffa966",
   "metadata": {
    "heading_collapsed": true,
    "hidden": true
   },
   "source": [
    "#### Visualização Seaborn"
   ]
  },
  {
   "cell_type": "code",
   "execution_count": null,
   "id": "2cbbf287",
   "metadata": {
    "ExecuteTime": {
     "end_time": "2023-11-28T15:35:15.638211Z",
     "start_time": "2023-11-28T15:35:15.383261Z"
    },
    "hidden": true
   },
   "outputs": [],
   "source": [
    "import seaborn as sns\n",
    "\n",
    "geyser = sns.load_dataset(\"geyser\")\n",
    "sns.scatterplot(x=\"waiting\", y=\"duration\", data=geyser)\n"
   ]
  },
  {
   "cell_type": "markdown",
   "id": "ee25502a",
   "metadata": {
    "heading_collapsed": true
   },
   "source": [
    "### glue"
   ]
  },
  {
   "cell_type": "markdown",
   "id": "afd19f00",
   "metadata": {
    "hidden": true
   },
   "source": [
    "O conjunto de dados \"glue\" contém informações sobre a resistência à tensão de diferentes tipos de colas. O conjunto de dados registra a resistência à tensão (em libras por polegada quadrada) de colas de diferentes tipos em diferentes temperaturas.\n",
    "\n",
    "As colunas do conjunto de dados são as seguintes:\n",
    "\n",
    "- **trial**: o número do experimento ou teste.\n",
    "- **glue**: o tipo de cola utilizado no teste.\n",
    "- **temp**: a temperatura em que o teste foi realizado, em graus Fahrenheit.\n",
    "- **strength**: a resistência à tensão da cola em libras por polegada quadrada.\n",
    "\n",
    "Esse conjunto de dados é útil para análises de engenharia e estudos sobre propriedades adesivas de materiais."
   ]
  },
  {
   "cell_type": "markdown",
   "id": "0dd98f70",
   "metadata": {
    "heading_collapsed": true,
    "hidden": true
   },
   "source": [
    "#### Visualização Pandas"
   ]
  },
  {
   "cell_type": "code",
   "execution_count": null,
   "id": "08958a0e",
   "metadata": {
    "ExecuteTime": {
     "end_time": "2023-11-28T15:35:15.659467Z",
     "start_time": "2023-11-28T15:35:15.640208Z"
    },
    "hidden": true
   },
   "outputs": [],
   "source": [
    "import pandas as pd\n",
    "\n",
    "glue = pd.read_csv(\"glue.csv\")\n",
    "glue.head(None)\n"
   ]
  },
  {
   "cell_type": "markdown",
   "id": "5badf4ca",
   "metadata": {
    "heading_collapsed": true,
    "hidden": true
   },
   "source": [
    "#### Visualização Seaborn"
   ]
  },
  {
   "cell_type": "code",
   "execution_count": null,
   "id": "cbb808e9",
   "metadata": {
    "ExecuteTime": {
     "end_time": "2023-11-28T15:35:15.985701Z",
     "start_time": "2023-11-28T15:35:15.661464Z"
    },
    "hidden": true
   },
   "outputs": [],
   "source": [
    "import seaborn as sns\n",
    "import matplotlib.pyplot as plt\n",
    "\n",
    "glue = sns.load_dataset(\"glue\")\n",
    "\n",
    "# Ajustar o tamanho da figura\n",
    "plt.figure(figsize=(12, 6))\n",
    "\n",
    "# Executar o boxplot corretamente\n",
    "sns.boxplot(x=\"Model\", y=\"Score\", hue=\"Encoder\", data=glue)\n",
    "\n",
    "# Ajustar o tamanho da fonte da legenda\n",
    "plt.legend(fontsize=12)\n",
    "\n",
    "# Girar os rótulos do eixo x\n",
    "plt.xticks(rotation=45, fontsize=12)\n",
    "\n",
    "# Exibir o gráfico\n",
    "plt.show()\n"
   ]
  },
  {
   "cell_type": "markdown",
   "id": "86a40b14",
   "metadata": {
    "heading_collapsed": true
   },
   "source": [
    "### healthexp"
   ]
  },
  {
   "cell_type": "markdown",
   "id": "8754e87f",
   "metadata": {
    "hidden": true
   },
   "source": [
    "O dataset <u>healthexp</u> contém informações sobre os gastos com saúde e expectativa de vida em diversos países ao longo de vários anos. \n",
    "As colunas presentes neste dataset são as seguintes:\n",
    "\n",
    "- **Year**: Ano em que os dados foram registrados.\n",
    "- **Country**: Nome do país.\n",
    "- **Spending_USD**: Gasto total com saúde, em dólares americanos.\n",
    "- **Life_Expectancy**: Expectativa de vida no país, em anos.\n",
    "\n",
    "O dataset pode ser usado para análises e visualizações relacionadas aos gastos com saúde e expectativa de vida em diferentes países ao longo do tempo."
   ]
  },
  {
   "cell_type": "markdown",
   "id": "f17ef5b4",
   "metadata": {
    "heading_collapsed": true,
    "hidden": true
   },
   "source": [
    "#### Visualização Pandas"
   ]
  },
  {
   "cell_type": "code",
   "execution_count": null,
   "id": "9674f6d4",
   "metadata": {
    "ExecuteTime": {
     "end_time": "2023-11-28T15:35:16.033456Z",
     "start_time": "2023-11-28T15:35:15.987699Z"
    },
    "hidden": true
   },
   "outputs": [],
   "source": [
    "import pandas as pd\n",
    "\n",
    "pd.set_option('display.max_rows', None)\n",
    "pd.set_option('display.max_columns', None)\n",
    "\n",
    "healthexp = pd.read_csv(\"healthexp.csv\")\n",
    "healthexp.head(None)\n"
   ]
  },
  {
   "cell_type": "markdown",
   "id": "37c088c4",
   "metadata": {
    "heading_collapsed": true,
    "hidden": true
   },
   "source": [
    "#### Visualização Seaborn"
   ]
  },
  {
   "cell_type": "code",
   "execution_count": null,
   "id": "67c37e5a",
   "metadata": {
    "ExecuteTime": {
     "end_time": "2023-11-28T15:35:16.417390Z",
     "start_time": "2023-11-28T15:35:16.036450Z"
    },
    "hidden": true
   },
   "outputs": [],
   "source": [
    "import seaborn as sns\n",
    "\n",
    "healthexp = sns.load_dataset(\"healthexp\")\n",
    "sns.lineplot(x=\"Spending_USD\", y=\"Life_Expectancy\", hue=\"Country\", data=healthexp)\n"
   ]
  },
  {
   "cell_type": "markdown",
   "id": "a4e7a918",
   "metadata": {
    "heading_collapsed": true
   },
   "source": [
    "### iris"
   ]
  },
  {
   "cell_type": "markdown",
   "id": "02fd7d36",
   "metadata": {
    "hidden": true
   },
   "source": [
    "O conjunto de dados \"iris\" é um dos conjuntos de dados clássicos na área de aprendizado de máquina. Ele contém informações sobre diferentes medidas de comprimento e largura das pétalas e sépalas de três espécies de flores iris: setosa, versicolor e virginica.\n",
    "\n",
    "O conjunto de dados possui cinco colunas:\n",
    "\n",
    "- **sepal_length**: comprimento da sépala em centímetros\n",
    "- **sepal_width**: largura da sépala em centímetros\n",
    "- **petal_length**: comprimento da pétala em centímetros\n",
    "- **petal_width**: largura da pétala em centímetros\n",
    "- **species**: espécie da flor iris (setosa, versicolor ou virginica)\n",
    "\n",
    "Esses valores representam características das flores iris e são frequentemente usados para tarefas de classificação e visualização de dados."
   ]
  },
  {
   "cell_type": "markdown",
   "id": "0e2826e5",
   "metadata": {
    "heading_collapsed": true,
    "hidden": true
   },
   "source": [
    "#### Visualização Pandas"
   ]
  },
  {
   "cell_type": "code",
   "execution_count": null,
   "id": "67bb2392",
   "metadata": {
    "ExecuteTime": {
     "end_time": "2023-11-28T15:35:16.468976Z",
     "start_time": "2023-11-28T15:35:16.419384Z"
    },
    "hidden": true
   },
   "outputs": [],
   "source": [
    "import pandas as pd\n",
    "\n",
    "iris = pd.read_csv(\"iris.csv\")\n",
    "iris.head(None)\n"
   ]
  },
  {
   "cell_type": "markdown",
   "id": "461df822",
   "metadata": {
    "ExecuteTime": {
     "end_time": "2023-06-27T20:41:52.431516Z",
     "start_time": "2023-06-27T20:41:52.426533Z"
    },
    "heading_collapsed": true,
    "hidden": true
   },
   "source": [
    "#### Visualização Seaborn"
   ]
  },
  {
   "cell_type": "code",
   "execution_count": null,
   "id": "4eb6157c",
   "metadata": {
    "ExecuteTime": {
     "end_time": "2023-11-28T15:35:16.879871Z",
     "start_time": "2023-11-28T15:35:16.471971Z"
    },
    "hidden": true
   },
   "outputs": [],
   "source": [
    "import seaborn as sns\n",
    "\n",
    "iris = sns.load_dataset(\"iris\")\n",
    "sns.scatterplot(x=\"sepal_length\", y=\"sepal_width\", hue=\"species\", data=iris)"
   ]
  },
  {
   "cell_type": "markdown",
   "id": "c68a243d",
   "metadata": {
    "heading_collapsed": true
   },
   "source": [
    "### mpg"
   ]
  },
  {
   "cell_type": "markdown",
   "id": "756f0a2d",
   "metadata": {
    "hidden": true
   },
   "source": [
    "O conjunto de dados <u>mpg</u> contém informações sobre veículos automotivos e suas respectivas características de consumo de combustível. Ele fornece detalhes como a eficiência de combustível (milhas por galão), cilindros do motor, deslocamento do motor, potência, peso do veículo e origem.\n",
    "\n",
    "O conjunto de dados possui nove colunas:\n",
    "\n",
    "- **mpg**: eficiência de combustível em milhas por galão\n",
    "- **cylinders**: número de cilindros no motor\n",
    "- **displacement**: deslocamento do motor em polegadas cúbicas\n",
    "- **horsepower**: potência do motor em cavalos de força\n",
    "- **weight**: peso do veículo em libras\n",
    "- **acceleration**: aceleração do veículo em segundos de 0 a 60 mph\n",
    "- **model_year**: ano do modelo do veículo (representado pelos últimos dois dígitos)\n",
    "- **origin**: origem do veículo (1 - EUA, 2 - Europa, 3 - Japão)\n",
    "- **name**: nome do veículo\n",
    "\n",
    "Esses dados são úteis para análise e comparação de diferentes modelos de carros com base em sua eficiência de combustível e outras características relacionadas ao desempenho."
   ]
  },
  {
   "cell_type": "markdown",
   "id": "bea14466",
   "metadata": {
    "heading_collapsed": true,
    "hidden": true
   },
   "source": [
    "#### Visualização Pandas"
   ]
  },
  {
   "cell_type": "code",
   "execution_count": null,
   "id": "788eaf70",
   "metadata": {
    "ExecuteTime": {
     "end_time": "2023-11-28T15:35:17.013404Z",
     "start_time": "2023-11-28T15:35:16.881869Z"
    },
    "hidden": true
   },
   "outputs": [],
   "source": [
    "import pandas as pd\n",
    "\n",
    "mpg = pd.read_csv(\"mpg.csv\")\n",
    "mpg.head(None)\n"
   ]
  },
  {
   "cell_type": "markdown",
   "id": "23deef55",
   "metadata": {
    "heading_collapsed": true,
    "hidden": true
   },
   "source": [
    "#### Visualização Seaborn"
   ]
  },
  {
   "cell_type": "code",
   "execution_count": null,
   "id": "cadb492e",
   "metadata": {
    "ExecuteTime": {
     "end_time": "2023-11-28T15:35:17.429206Z",
     "start_time": "2023-11-28T15:35:17.014394Z"
    },
    "hidden": true
   },
   "outputs": [],
   "source": [
    "import seaborn as sns\n",
    "import matplotlib.pyplot as plt\n",
    "\n",
    "mpg = sns.load_dataset(\"mpg\")\n",
    "\n",
    "# Executar o scatterplot corretamente\n",
    "sns.scatterplot(x=\"horsepower\", y=\"mpg\", hue=\"origin\", data=mpg)\n",
    "\n",
    "# Ajustar o tamanho da fonte da legenda\n",
    "plt.legend(fontsize=12)\n",
    "\n",
    "# Girar os rótulos do eixo x\n",
    "plt.xticks(rotation=45, fontsize=12)\n",
    "\n",
    "# Exibir o gráfico\n",
    "plt.show# Executar o boxplot corretamente\n"
   ]
  },
  {
   "cell_type": "markdown",
   "id": "df79edc9",
   "metadata": {
    "heading_collapsed": true
   },
   "source": [
    "### penguins"
   ]
  },
  {
   "cell_type": "markdown",
   "id": "6a6b2032",
   "metadata": {
    "hidden": true
   },
   "source": [
    "O conjunto de dados \"penguins\" contém informações sobre pinguins e suas características físicas. Ele inclui detalhes como a espécie do pinguim, o comprimento do bico, a profundidade do mergulho, o comprimento das nadadeiras, o peso corporal e a região de coleta dos dados.\n",
    "\n",
    "O conjunto de dados possui sete colunas:\n",
    "\n",
    "- **species**: espécie do pinguim (Adelie, Chinstrap ou Gentoo)\n",
    "- **island**: ilha onde os dados foram coletados (Torgersen, Biscoe ou Dream)\n",
    "- **bill_length_mm**: comprimento do bico em milímetros\n",
    "- **bill_depth_mm**: profundidade do bico em milímetros\n",
    "- **flipper_length_mm**: comprimento da nadadeira em milímetros\n",
    "- **body_mass_g**: peso corporal do pinguim em gramas\n",
    "- **sex**: sexo do pinguim (Male - macho, Female - fêmea)\n",
    "\n",
    "Esses dados são úteis para estudar e comparar as características físicas dos diferentes tipos de pinguins, bem como analisar possíveis relações entre essas características e a espécie, sexo ou localização geográfica."
   ]
  },
  {
   "cell_type": "markdown",
   "id": "9517e6ec",
   "metadata": {
    "heading_collapsed": true,
    "hidden": true
   },
   "source": [
    "#### Visualização Pandas"
   ]
  },
  {
   "cell_type": "code",
   "execution_count": null,
   "id": "fb7ab420",
   "metadata": {
    "ExecuteTime": {
     "end_time": "2023-11-28T15:35:17.538999Z",
     "start_time": "2023-11-28T15:35:17.430206Z"
    },
    "hidden": true
   },
   "outputs": [],
   "source": [
    "import pandas as pd\n",
    "\n",
    "penguins = pd.read_csv(\"penguins.csv\")\n",
    "penguins.head(None)"
   ]
  },
  {
   "cell_type": "markdown",
   "id": "5d248cc0",
   "metadata": {
    "heading_collapsed": true,
    "hidden": true
   },
   "source": [
    "#### Visualização Seaborn"
   ]
  },
  {
   "cell_type": "code",
   "execution_count": null,
   "id": "207a8d84",
   "metadata": {
    "ExecuteTime": {
     "end_time": "2023-11-28T15:35:17.723255Z",
     "start_time": "2023-11-28T15:35:17.540999Z"
    },
    "hidden": true
   },
   "outputs": [],
   "source": [
    "import seaborn as sns\n",
    "\n",
    "penguins = sns.load_dataset(\"penguins\")\n",
    "sns.boxplot(x=\"species\", y=\"bill_length_mm\", data=penguins)\n"
   ]
  },
  {
   "cell_type": "code",
   "execution_count": null,
   "id": "50bc4f2f",
   "metadata": {
    "ExecuteTime": {
     "end_time": "2023-11-28T15:35:19.461754Z",
     "start_time": "2023-11-28T15:35:17.725246Z"
    },
    "hidden": true
   },
   "outputs": [],
   "source": [
    "import seaborn as sns\n",
    "\n",
    "sns.set_theme(style=\"darkgrid\")\n",
    "df = sns.load_dataset(\"penguins\")\n",
    "sns.displot(\n",
    "    df, x=\"flipper_length_mm\", col=\"species\", row=\"sex\",\n",
    "    binwidth=3, height=3, facet_kws=dict(margin_titles=True),\n",
    ")"
   ]
  },
  {
   "cell_type": "markdown",
   "id": "c934c47b",
   "metadata": {
    "heading_collapsed": true
   },
   "source": [
    "### planets"
   ]
  },
  {
   "cell_type": "markdown",
   "id": "374fc7fd",
   "metadata": {
    "hidden": true
   },
   "source": [
    "O conjunto de dados \"planets\" contém informações sobre planetas descobertos fora do nosso sistema solar (exoplanetas). Ele inclui detalhes como o nome do planeta, a massa do planeta, o período orbital, a distância média até a estrela hospedeira, o raio do planeta e o método de descoberta.\n",
    "\n",
    "O conjunto de dados possui sete colunas:\n",
    "\n",
    "- **method**: método de descoberta do exoplaneta\n",
    "- **number**: número de planetas encontrados nessa descoberta\n",
    "- **orbital_period**: período orbital do planeta em dias\n",
    "- **mass**: massa do planeta em massa de Júpiter\n",
    "- **distance**: distância média até a estrela hospedeira em parsecs\n",
    "- **year**: ano da descoberta do exoplaneta\n",
    "- **radius**: raio do planeta em raio de Júpiter (algumas observações não possuem esse valor)\n",
    "\n",
    "Esses dados são úteis para estudar a diversidade e as características dos exoplanetas descobertos até o momento, bem como analisar os métodos de descoberta mais comuns e as tendências nas observações de exoplanetas ao longo do tempo."
   ]
  },
  {
   "cell_type": "markdown",
   "id": "585476fd",
   "metadata": {
    "heading_collapsed": true,
    "hidden": true
   },
   "source": [
    "#### Visualização Pandas"
   ]
  },
  {
   "cell_type": "code",
   "execution_count": null,
   "id": "3198edb4",
   "metadata": {
    "ExecuteTime": {
     "end_time": "2023-11-28T15:35:19.619654Z",
     "start_time": "2023-11-28T15:35:19.464750Z"
    },
    "hidden": true
   },
   "outputs": [],
   "source": [
    "import pandas as pd\n",
    "\n",
    "planets = pd.read_csv(\"planets.csv\")\n",
    "planets.head(None)"
   ]
  },
  {
   "cell_type": "markdown",
   "id": "cb1d1ce9",
   "metadata": {
    "heading_collapsed": true,
    "hidden": true
   },
   "source": [
    "#### Visualização Seaborn"
   ]
  },
  {
   "cell_type": "code",
   "execution_count": null,
   "id": "737a4e55",
   "metadata": {
    "ExecuteTime": {
     "end_time": "2023-11-28T15:35:20.222644Z",
     "start_time": "2023-11-28T15:35:19.620654Z"
    },
    "hidden": true
   },
   "outputs": [],
   "source": [
    "import seaborn as sns\n",
    "\n",
    "planets = sns.load_dataset(\"planets\")\n",
    "sns.scatterplot(x=\"distance\", y=\"orbital_period\", hue=\"method\", data=planets)"
   ]
  },
  {
   "cell_type": "markdown",
   "id": "14928eb3",
   "metadata": {
    "heading_collapsed": true
   },
   "source": [
    "### seaice"
   ]
  },
  {
   "cell_type": "markdown",
   "id": "e3d3cd72",
   "metadata": {
    "hidden": true
   },
   "source": [
    "O conjunto de dados \"seaice\" contém informações sobre a extensão do gelo marinho no Ártico e no Antártico. Ele fornece dados mensais de 1978 a 2018, representando a área média coberta pelo gelo marinho em milhões de quilômetros quadrados.\n",
    "\n",
    "O conjunto de dados possui duas colunas:\n",
    "\n",
    "- **Date**: ano da observação\n",
    "- **Extent**: extensão média do gelo marinho em milhões de quilômetros quadrados\n",
    "\n",
    "Esses dados são úteis para monitorar as tendências de longo prazo no gelo marinho do Ártico e do Antártico, bem como para analisar as flutuações sazonais e interanuais na extensão e área do gelo. Essas informações são cruciais para entender as mudanças climáticas e seus efeitos nos ecossistemas polares e no clima global."
   ]
  },
  {
   "cell_type": "markdown",
   "id": "59a960d5",
   "metadata": {
    "heading_collapsed": true,
    "hidden": true
   },
   "source": [
    "#### Visualização Pandas"
   ]
  },
  {
   "cell_type": "code",
   "execution_count": null,
   "id": "19618dd8",
   "metadata": {
    "ExecuteTime": {
     "end_time": "2023-11-28T15:35:21.110264Z",
     "start_time": "2023-11-28T15:35:20.224641Z"
    },
    "hidden": true
   },
   "outputs": [],
   "source": [
    "import pandas as pd\n",
    "\n",
    "seaice = pd.read_csv(\"seaice.csv\")\n",
    "seaice.head(None)\n"
   ]
  },
  {
   "cell_type": "markdown",
   "id": "8f86a25b",
   "metadata": {
    "heading_collapsed": true,
    "hidden": true
   },
   "source": [
    "#### Visalização Seaborn"
   ]
  },
  {
   "cell_type": "code",
   "execution_count": null,
   "id": "61577deb",
   "metadata": {
    "ExecuteTime": {
     "end_time": "2023-11-28T15:35:22.623746Z",
     "start_time": "2023-11-28T15:35:21.111265Z"
    },
    "hidden": true
   },
   "outputs": [],
   "source": [
    "import seaborn as sns\n",
    "import matplotlib.pyplot as plt\n",
    "\n",
    "# Converter a coluna \"Date\" para o formato de data\n",
    "seaice[\"Date\"] = pd.to_datetime(seaice[\"Date\"])\n",
    "\n",
    "# Extrair o ano da coluna \"Date\"\n",
    "seaice[\"Year\"] = seaice[\"Date\"].dt.year\n",
    "\n",
    "# Criar o gráfico de linhas agrupado por ano\n",
    "sns.lineplot(x=\"Year\", y=\"Extent\", data=seaice)\n",
    "\n",
    "# Ajustar tamanho e girar os rótulos do eixo x\n",
    "plt.xticks(rotation=45, fontsize=10)\n",
    "\n",
    "# Ajustar tamanho dos rótulos do eixo y\n",
    "plt.yticks(fontsize=10)\n",
    "\n",
    "# Definir o título do gráfico\n",
    "plt.title(\"Variação da Extensão do Gelo Marinho\")\n",
    "\n",
    "# Exibir o gráfico\n",
    "plt.show()\n",
    "\n"
   ]
  },
  {
   "cell_type": "markdown",
   "id": "5d9cca85",
   "metadata": {
    "heading_collapsed": true
   },
   "source": [
    "### taxis"
   ]
  },
  {
   "cell_type": "markdown",
   "id": "2dd26138",
   "metadata": {
    "hidden": true
   },
   "source": [
    "Esse conjunto de dados contém informações sobre viagens de táxi em Nova York. Ele inclui detalhes como duração, distância, localização de partida e destino, sendo útil para análises de transporte e estudos sobre padrões de viagem. Aqui está uma descrição mais detalhada das colunas do conjunto de dados:\n",
    "\n",
    "- **pickup**: Data e hora do início da viagem de táxi.\n",
    "- **dropoff**: Data e hora do término da viagem de táxi.\n",
    "- **passengers**: Número de passageiros na viagem de táxi.\n",
    "- **distance**: Distância percorrida durante a viagem, em milhas.\n",
    "- **fare**: Valor da tarifa cobrada para a viagem de táxi.\n",
    "- **tip**: Valor da gorjeta dada ao motorista do táxi.\n",
    "- **tolls**: Valor dos pedágios pagos durante a viagem.\n",
    "- **total**: Total pago pela viagem de táxi, incluindo tarifa, gorjeta e pedágios.\n",
    "- **color**: Cor do táxi.\n",
    "- **payment**: Método de pagamento utilizado na viagem de táxi.\n",
    "- **pickup_zone**: Zona de onde o passageiro foi pego.\n",
    "- **dropoff_zone**: Zona onde o passageiro foi deixado.\n",
    "- **pickup_borough**: Distrito onde o passageiro foi pego.\n",
    "- **dropoff_borough**: Distrito onde o passageiro foi deixado.\n",
    "\n",
    "\n",
    "Esse conjunto de dados é  útil para análises de transporte e estudos sobre padrões de viagem."
   ]
  },
  {
   "cell_type": "markdown",
   "id": "24405a58",
   "metadata": {
    "heading_collapsed": true,
    "hidden": true
   },
   "source": [
    "#### Visualização Pandas"
   ]
  },
  {
   "cell_type": "code",
   "execution_count": null,
   "id": "9e2dc0b8",
   "metadata": {
    "ExecuteTime": {
     "end_time": "2023-11-28T15:35:24.980444Z",
     "start_time": "2023-11-28T15:35:22.625744Z"
    },
    "hidden": true
   },
   "outputs": [],
   "source": [
    "import pandas as pd\n",
    "\n",
    "taxis = pd.read_csv(\"taxis.csv\")\n",
    "taxis.head(None)\n"
   ]
  },
  {
   "cell_type": "markdown",
   "id": "e442eba3",
   "metadata": {
    "heading_collapsed": true,
    "hidden": true
   },
   "source": [
    "#### Visualização Seaborn"
   ]
  },
  {
   "cell_type": "code",
   "execution_count": null,
   "id": "e197bde0",
   "metadata": {
    "ExecuteTime": {
     "end_time": "2023-11-28T15:35:25.716464Z",
     "start_time": "2023-11-28T15:35:24.982441Z"
    },
    "hidden": true
   },
   "outputs": [],
   "source": [
    "import seaborn as sns\n",
    "\n",
    "taxis = sns.load_dataset(\"taxis\")\n",
    "sns.histplot(data=taxis, x=\"distance\", kde=True)\n"
   ]
  },
  {
   "cell_type": "markdown",
   "id": "ec877581",
   "metadata": {},
   "source": [
    "### tips"
   ]
  },
  {
   "cell_type": "markdown",
   "id": "0315d407",
   "metadata": {},
   "source": [
    "O conjunto de dados \"tips\" contém informações sobre gorjetas em restaurantes, incluindo detalhes sobre o valor da conta, valor da gorjeta, sexo do pagante, fumante ou não, dia da semana, horário do dia, número de pessoas na mesa e a região onde o restaurante está localizado. Aqui está uma descrição mais detalhada das colunas do conjunto de dados:\n",
    "\n",
    "- **total_bill**: Valor total da conta, incluindo impostos e taxas.\n",
    "- **tip**: Valor da gorjeta dada pelo cliente.\n",
    "- **sex**: Sexo do pagante da conta (masculino ou feminino).\n",
    "- **smoker**: Indicação se o pagante é fumante ou não (sim ou não).\n",
    "- **day**: Dia da semana em que a refeição foi realizada.\n",
    "- **time**: Horário do dia da refeição (almoço ou jantar).\n",
    "- **size**: Número de pessoas na mesa.\n",
    "- **region**: Região onde o restaurante está localizado.\n",
    "\n",
    "O conjunto de dados \"tips\" é útil para realizar análises estatísticas e criar visualizações interessantes com o Seaborn. Com base nos dados disponíveis, é possível investigar perguntas como: existe uma correlação entre o valor total da conta e a quantidade de gorjeta? Os fumantes tendem a dar mais ou menos gorjeta do que os não fumantes? A quantidade de gorjeta varia nos diferentes dias da semana ou horários do dia? Essas são apenas algumas das questões que podem ser exploradas com o conjunto de dados \"tips\" usando o Seaborn."
   ]
  },
  {
   "cell_type": "markdown",
   "id": "888a2b4f",
   "metadata": {},
   "source": [
    "#### Visualização Pandas"
   ]
  },
  {
   "cell_type": "code",
   "execution_count": null,
   "id": "e881e3e8",
   "metadata": {
    "ExecuteTime": {
     "end_time": "2023-11-28T15:35:25.771068Z",
     "start_time": "2023-11-28T15:35:25.717463Z"
    }
   },
   "outputs": [],
   "source": [
    "import pandas as pd\n",
    "\n",
    "tips = pd.read_csv(\"tips.csv\")\n",
    "tips.head(None)\n"
   ]
  },
  {
   "cell_type": "markdown",
   "id": "e2cea68c",
   "metadata": {},
   "source": [
    "#### Visualização Seaborn"
   ]
  },
  {
   "cell_type": "code",
   "execution_count": null,
   "id": "a3185534",
   "metadata": {
    "ExecuteTime": {
     "end_time": "2023-11-28T15:35:26.194660Z",
     "start_time": "2023-11-28T15:35:25.772067Z"
    }
   },
   "outputs": [],
   "source": [
    "import seaborn as sns\n",
    "import matplotlib.pyplot as plt\n",
    "\n",
    "tips = sns.load_dataset(\"tips\")\n",
    "\n",
    "# Criar o gráfico de barras\n",
    "sns.barplot(x=\"day\", y=\"total_bill\", hue=\"sex\", data=tips)\n",
    "\n",
    "# Ajustar tamanho dos rótulos no eixo x\n",
    "plt.xticks(fontsize=10)\n",
    "\n",
    "# Ajustar tamanho dos rótulos no eixo y\n",
    "plt.yticks(fontsize=10)\n",
    "\n",
    "# Ajustar tamanho da legenda\n",
    "plt.legend(fontsize=10)\n",
    "\n",
    "# Exibir o gráfico\n",
    "plt.show()\n",
    "\n"
   ]
  },
  {
   "cell_type": "markdown",
   "id": "74be1d3e",
   "metadata": {
    "heading_collapsed": true
   },
   "source": [
    "### titanic"
   ]
  },
  {
   "cell_type": "markdown",
   "id": "02258927",
   "metadata": {
    "hidden": true
   },
   "source": [
    "O conjunto de dados \"titanic\" contém informações sobre os passageiros do famoso navio Titanic, incluindo detalhes como idade, sexo, classe da cabine, número de irmãos/cônjuges a bordo, número de pais/filhos a bordo, tarifa paga, local de embarque e se o passageiro sobreviveu ou não ao desastre. Aqui está uma descrição mais detalhada das colunas do conjunto de dados:\n",
    "\n",
    "- **PassengerId**: Identificador único de cada passageiro.\n",
    "- **Survived**: Indicação se o passageiro sobreviveu (1) ou não (0) ao desastre.\n",
    "- **Pclass**: Classe da cabine em que o passageiro estava hospedado (1ª, 2ª ou 3ª classe).\n",
    "- **Name**: Nome do passageiro.\n",
    "- **Sex**: Sexo do passageiro (masculino ou feminino).\n",
    "- **Age**: Idade do passageiro em anos.\n",
    "- **SibSp**: Número de irmãos/cônjuges a bordo do Titanic.\n",
    "- **Parch**: Número de pais/filhos a bordo do Titanic.\n",
    "- **Ticket**: Número do bilhete do passageiro.\n",
    "- **Fare**: Tarifa paga pelo passageiro.\n",
    "- **Cabin**: Número da cabine do passageiro.\n",
    "- **Embarked**: Local de embarque do passageiro (C = Cherbourg, Q = Queenstown, S = Southampton)."
   ]
  },
  {
   "cell_type": "markdown",
   "id": "ea12c3e6",
   "metadata": {
    "heading_collapsed": true,
    "hidden": true
   },
   "source": [
    "#### Visualização Pandas"
   ]
  },
  {
   "cell_type": "code",
   "execution_count": null,
   "id": "6b1f6512",
   "metadata": {
    "ExecuteTime": {
     "end_time": "2023-11-28T15:35:26.436535Z",
     "start_time": "2023-11-28T15:35:26.196657Z"
    },
    "hidden": true
   },
   "outputs": [],
   "source": [
    "import pandas as pd\n",
    "\n",
    "titanic = pd.read_csv(\"titanic.csv\")\n",
    "titanic.head(None)\n"
   ]
  },
  {
   "cell_type": "markdown",
   "id": "c7d81023",
   "metadata": {
    "heading_collapsed": true,
    "hidden": true
   },
   "source": [
    "#### Visualização Seaborn"
   ]
  },
  {
   "cell_type": "code",
   "execution_count": null,
   "id": "8006a0a6",
   "metadata": {
    "ExecuteTime": {
     "end_time": "2023-11-28T15:35:26.889351Z",
     "start_time": "2023-11-28T15:35:26.438526Z"
    },
    "hidden": true
   },
   "outputs": [],
   "source": [
    "import seaborn as sns\n",
    "import matplotlib.pyplot as plt\n",
    "\n",
    "\n",
    "titanic = sns.load_dataset(\"titanic\")\n",
    "\n",
    "# Criar o gráfico catplot\n",
    "sns.catplot(x=\"survived\", y=\"age\", hue=\"sex\", data=titanic, kind=\"violin\")\n",
    "\n",
    "# Ajustar tamanho dos rótulos no eixo x\n",
    "plt.xticks(fontsize=10)\n",
    "\n",
    "# Ajustar tamanho dos rótulos no eixo y\n",
    "plt.yticks(fontsize=10)\n",
    "\n",
    "# Ajustar tamanho da legenda\n",
    "plt.legend(fontsize=12)\n",
    "\n",
    "# Exibir o gráfico\n",
    "plt.show()"
   ]
  },
  {
   "cell_type": "markdown",
   "id": "b3986e34",
   "metadata": {},
   "source": [
    "## <div style=\"margin-top: -20px;\">\n",
    "<hr style=\"border: 2px solid blue;\">\n",
    "\n",
    "<font color='blue'><span style=\"font-size: 22px;\"><strong>24.3 Explorando Gráficos no Seaborn</strong></span></font>\n",
    "\n",
    "<hr style=\"border: 2px solid blue;\">\n",
    "</div>"
   ]
  },
  {
   "cell_type": "markdown",
   "id": "8c1d886c",
   "metadata": {},
   "source": [
    "Embora já tenhamos visto alguns gráficos ao explorar os conjuntos de dados disponíveis no Seaborn, há muitos outros disponíveis. Nas seções a seguir, serão apresentados vários exemplos envolvendo os conjuntos de dados mencionados anteriormente."
   ]
  },
  {
   "cell_type": "markdown",
   "id": "4ef758f5",
   "metadata": {},
   "source": [
    "### <div style=\"margin-top: -20px;\">\n",
    "<hr style=\"border: 2px solid blue;\">\n",
    "\n",
    "<font color='blue'><span style=\"font-size: 18px;\"><strong>24.3.1 Exemplos de Gráficos Seaborn</strong></span></font>\n",
    "\n",
    "<hr style=\"border: 2px solid blue;\">\n",
    "</div>"
   ]
  },
  {
   "cell_type": "markdown",
   "id": "3bda9410",
   "metadata": {},
   "source": [
    "A seguir apresentaremos alguns dos gráficos disponíveis em https://seaborn.pydata.org/. Todos eles utilizam os datasets descritos anteriormente."
   ]
  },
  {
   "cell_type": "markdown",
   "id": "ce84b51a",
   "metadata": {},
   "source": [
    "#### Anscombe’s quartet"
   ]
  },
  {
   "cell_type": "code",
   "execution_count": null,
   "id": "320ae72e",
   "metadata": {
    "ExecuteTime": {
     "end_time": "2023-11-28T15:35:28.123384Z",
     "start_time": "2023-11-28T15:35:26.891348Z"
    }
   },
   "outputs": [],
   "source": [
    "import seaborn as sns\n",
    "sns.set_theme(style=\"ticks\")\n",
    "\n",
    "# Load the example dataset for Anscombe's quartet\n",
    "df = sns.load_dataset(\"anscombe\")\n",
    "\n",
    "# Show the results of a linear regression within each dataset\n",
    "sns.lmplot(\n",
    "    data=df, x=\"x\", y=\"y\", col=\"dataset\", hue=\"dataset\",\n",
    "    col_wrap=2, palette=\"muted\", ci=None,\n",
    "    height=4, scatter_kws={\"s\": 50, \"alpha\": 1}\n",
    ")"
   ]
  },
  {
   "cell_type": "markdown",
   "id": "f7b8ab8a",
   "metadata": {
    "heading_collapsed": true
   },
   "source": [
    "#### Scatterplot with multiple semantics"
   ]
  },
  {
   "cell_type": "code",
   "execution_count": null,
   "id": "41f4d123",
   "metadata": {
    "ExecuteTime": {
     "end_time": "2023-11-28T15:35:30.302326Z",
     "start_time": "2023-11-28T15:35:28.125382Z"
    },
    "hidden": true
   },
   "outputs": [],
   "source": [
    "import seaborn as sns\n",
    "import matplotlib.pyplot as plt\n",
    "sns.set_theme(style=\"whitegrid\")\n",
    "\n",
    "# Load the example diamonds dataset\n",
    "diamonds = sns.load_dataset(\"diamonds\")\n",
    "\n",
    "# Draw a scatter plot while assigning point colors and sizes to different\n",
    "# variables in the dataset\n",
    "f, ax = plt.subplots(figsize=(6.5, 6.5))\n",
    "sns.despine(f, left=True, bottom=True)\n",
    "clarity_ranking = [\"I1\", \"SI2\", \"SI1\", \"VS2\", \"VS1\", \"VVS2\", \"VVS1\", \"IF\"]\n",
    "sns.scatterplot(x=\"carat\", y=\"price\",\n",
    "                hue=\"clarity\", size=\"depth\",\n",
    "                palette=\"ch:r=-.2,d=.3_r\",\n",
    "                hue_order=clarity_ranking,\n",
    "                sizes=(1, 8), linewidth=0,\n",
    "                data=diamonds, ax=ax)"
   ]
  },
  {
   "cell_type": "markdown",
   "id": "59d46309",
   "metadata": {
    "heading_collapsed": true
   },
   "source": [
    "#### Timeseries plot with error bands"
   ]
  },
  {
   "cell_type": "code",
   "execution_count": null,
   "id": "81fe1db1",
   "metadata": {
    "ExecuteTime": {
     "end_time": "2023-11-28T15:35:32.671497Z",
     "start_time": "2023-11-28T15:35:30.304323Z"
    },
    "hidden": true
   },
   "outputs": [],
   "source": [
    "import seaborn as sns\n",
    "sns.set_theme(style=\"darkgrid\")\n",
    "\n",
    "# Load an example dataset with long-form data\n",
    "fmri = sns.load_dataset(\"fmri\")\n",
    "\n",
    "# Plot the responses for different events and regions\n",
    "sns.lineplot(x=\"timepoint\", y=\"signal\",\n",
    "             hue=\"region\", style=\"event\",\n",
    "             data=fmri)"
   ]
  },
  {
   "cell_type": "markdown",
   "id": "3ed5b6df",
   "metadata": {
    "heading_collapsed": true
   },
   "source": [
    "#### Facetting histograms by subsets of data"
   ]
  },
  {
   "cell_type": "code",
   "execution_count": null,
   "id": "a2595efb",
   "metadata": {
    "ExecuteTime": {
     "end_time": "2023-11-28T15:35:34.506081Z",
     "start_time": "2023-11-28T15:35:32.672496Z"
    },
    "hidden": true
   },
   "outputs": [],
   "source": [
    "import seaborn as sns\n",
    "\n",
    "sns.set_theme(style=\"darkgrid\")\n",
    "df = sns.load_dataset(\"penguins\")\n",
    "sns.displot(\n",
    "    df, x=\"flipper_length_mm\", col=\"species\", row=\"sex\",\n",
    "    binwidth=3, height=3, facet_kws=dict(margin_titles=True),\n",
    ")"
   ]
  },
  {
   "cell_type": "markdown",
   "id": "634a3980",
   "metadata": {
    "heading_collapsed": true
   },
   "source": [
    "#### Line plots on multiple facets"
   ]
  },
  {
   "cell_type": "code",
   "execution_count": null,
   "id": "fc823768",
   "metadata": {
    "ExecuteTime": {
     "end_time": "2023-11-28T15:35:35.408192Z",
     "start_time": "2023-11-28T15:35:34.508074Z"
    },
    "hidden": true
   },
   "outputs": [],
   "source": [
    "import seaborn as sns\n",
    "sns.set_theme(style=\"ticks\")\n",
    "\n",
    "dots = sns.load_dataset(\"dots\")\n",
    "\n",
    "# Define the palette as a list to specify exact values\n",
    "palette = sns.color_palette(\"rocket_r\")\n",
    "\n",
    "# Plot the lines on two facets\n",
    "sns.relplot(\n",
    "    data=dots,\n",
    "    x=\"time\", y=\"firing_rate\",\n",
    "    hue=\"coherence\", size=\"choice\", col=\"align\",\n",
    "    kind=\"line\", size_order=[\"T1\", \"T2\"], palette=palette,\n",
    "    height=5, aspect=.75, facet_kws=dict(sharex=False),\n",
    ")"
   ]
  },
  {
   "cell_type": "markdown",
   "id": "dfa9386a",
   "metadata": {
    "heading_collapsed": true
   },
   "source": [
    "#### Grouped barplots"
   ]
  },
  {
   "cell_type": "code",
   "execution_count": null,
   "id": "1b43f536",
   "metadata": {
    "ExecuteTime": {
     "end_time": "2023-11-28T15:35:35.925268Z",
     "start_time": "2023-11-28T15:35:35.410181Z"
    },
    "hidden": true
   },
   "outputs": [],
   "source": [
    "import seaborn as sns\n",
    "\n",
    "sns.set_theme(style=\"whitegrid\")\n",
    "\n",
    "penguins = sns.load_dataset(\"penguins\")\n",
    "\n",
    "# Draw a nested barplot by species and sex\n",
    "g = sns.catplot(\n",
    "    data=penguins, kind=\"bar\",\n",
    "    x=\"species\", y=\"body_mass_g\", hue=\"sex\",\n",
    "    palette=\"dark\", alpha=.6, height=6\n",
    ")\n",
    "g.despine(left=True)\n",
    "g.set_axis_labels(\"\", \"Body mass (g)\")\n",
    "g.legend.set_title(\"\")\n",
    "\n",
    "plt.show()"
   ]
  },
  {
   "cell_type": "markdown",
   "id": "cd2709ee",
   "metadata": {
    "heading_collapsed": true
   },
   "source": [
    "#### Grouped boxplots"
   ]
  },
  {
   "cell_type": "code",
   "execution_count": null,
   "id": "658beb82",
   "metadata": {
    "ExecuteTime": {
     "end_time": "2023-11-28T15:35:36.329656Z",
     "start_time": "2023-11-28T15:35:35.926268Z"
    },
    "hidden": true
   },
   "outputs": [],
   "source": [
    "import seaborn as sns\n",
    "\n",
    "sns.set_theme(style=\"ticks\", palette=\"pastel\")\n",
    "\n",
    "# Load the example tips dataset\n",
    "tips = sns.load_dataset(\"tips\")\n",
    "\n",
    "# Draw a nested boxplot to show bills by day and time\n",
    "sns.boxplot(x=\"day\", y=\"total_bill\",\n",
    "            hue=\"smoker\", palette=[\"m\", \"g\"],\n",
    "            data=tips)\n",
    "\n",
    "sns.despine(offset=10, trim=True)"
   ]
  },
  {
   "cell_type": "markdown",
   "id": "3e85149b",
   "metadata": {
    "heading_collapsed": true
   },
   "source": [
    "#### Grouped violinplots with split violins"
   ]
  },
  {
   "cell_type": "code",
   "execution_count": null,
   "id": "e3d090de",
   "metadata": {
    "ExecuteTime": {
     "end_time": "2023-11-28T15:35:36.601672Z",
     "start_time": "2023-11-28T15:35:36.331655Z"
    },
    "hidden": true
   },
   "outputs": [],
   "source": [
    "import seaborn as sns\n",
    "sns.set_theme(style=\"whitegrid\")\n",
    "\n",
    "# Load the example tips dataset\n",
    "tips = sns.load_dataset(\"tips\")\n",
    "\n",
    "# Draw a nested violinplot and split the violins for easier comparison\n",
    "sns.violinplot(data=tips, x=\"day\", y=\"total_bill\", hue=\"smoker\",\n",
    "               split=True, inner=\"quart\", linewidth=1,\n",
    "               palette={\"Yes\": \"b\", \"No\": \".85\"})\n",
    "sns.despine(left=True)"
   ]
  },
  {
   "cell_type": "markdown",
   "id": "8274efaf",
   "metadata": {
    "heading_collapsed": true
   },
   "source": [
    "#### Scatterplot heatmap"
   ]
  },
  {
   "cell_type": "code",
   "execution_count": null,
   "id": "0591ac53",
   "metadata": {
    "ExecuteTime": {
     "end_time": "2023-11-28T15:35:38.433128Z",
     "start_time": "2023-11-28T15:35:36.603669Z"
    },
    "hidden": true
   },
   "outputs": [],
   "source": [
    "import seaborn as sns\n",
    "sns.set_theme(style=\"whitegrid\")\n",
    "\n",
    "# Load the brain networks dataset, select subset, and collapse the multi-index\n",
    "df = sns.load_dataset(\"brain_networks\", header=[0, 1, 2], index_col=0)\n",
    "\n",
    "used_networks = [1, 5, 6, 7, 8, 12, 13, 17]\n",
    "used_columns = (df.columns\n",
    "                  .get_level_values(\"network\")\n",
    "                  .astype(int)\n",
    "                  .isin(used_networks))\n",
    "df = df.loc[:, used_columns]\n",
    "\n",
    "df.columns = df.columns.map(\"-\".join)\n",
    "\n",
    "# Compute a correlation matrix and convert to long-form\n",
    "corr_mat = df.corr().stack().reset_index(name=\"correlation\")\n",
    "\n",
    "# Draw each cell as a scatter point with varying size and color\n",
    "g = sns.relplot(\n",
    "    data=corr_mat,\n",
    "    x=\"level_0\", y=\"level_1\", hue=\"correlation\", size=\"correlation\",\n",
    "    palette=\"vlag\", hue_norm=(-1, 1), edgecolor=\".7\",\n",
    "    height=10, sizes=(50, 250), size_norm=(-.2, .8),\n",
    ")\n",
    "\n",
    "# Tweak the figure to finalize\n",
    "g.set(xlabel=\"\", ylabel=\"\", aspect=\"equal\")\n",
    "g.despine(left=True, bottom=True)\n",
    "g.ax.margins(.02)\n",
    "for label in g.ax.get_xticklabels():\n",
    "    label.set_rotation(90)\n",
    "for artist in g.legend.legendHandles:\n",
    "    artist.set_edgecolor(\".7\")"
   ]
  },
  {
   "cell_type": "markdown",
   "id": "1960cb57",
   "metadata": {
    "heading_collapsed": true
   },
   "source": [
    "#### Hexbin plot with marginal distributions"
   ]
  },
  {
   "cell_type": "code",
   "execution_count": null,
   "id": "b6112e3d",
   "metadata": {
    "ExecuteTime": {
     "end_time": "2023-11-28T15:35:39.192352Z",
     "start_time": "2023-11-28T15:35:38.435123Z"
    },
    "hidden": true
   },
   "outputs": [],
   "source": [
    "import numpy as np\n",
    "import seaborn as sns\n",
    "sns.set_theme(style=\"ticks\")\n",
    "\n",
    "rs = np.random.RandomState(11)\n",
    "x = rs.gamma(2, size=1000)\n",
    "y = -.5 * x + rs.normal(size=1000)\n",
    "\n",
    "sns.jointplot(x=x, y=y, kind=\"hex\", color=\"#4CB391\")"
   ]
  },
  {
   "cell_type": "markdown",
   "id": "6a24cadd",
   "metadata": {
    "heading_collapsed": true
   },
   "source": [
    "#### Stacked histogram on a log scale"
   ]
  },
  {
   "cell_type": "code",
   "execution_count": null,
   "id": "32cfff5c",
   "metadata": {
    "ExecuteTime": {
     "end_time": "2023-11-28T15:35:40.088696Z",
     "start_time": "2023-11-28T15:35:39.193360Z"
    },
    "hidden": true
   },
   "outputs": [],
   "source": [
    "import seaborn as sns\n",
    "import matplotlib as mpl\n",
    "import matplotlib.pyplot as plt\n",
    "\n",
    "sns.set_theme(style=\"ticks\")\n",
    "\n",
    "diamonds = sns.load_dataset(\"diamonds\")\n",
    "\n",
    "f, ax = plt.subplots(figsize=(7, 5))\n",
    "sns.despine(f)\n",
    "\n",
    "sns.histplot(\n",
    "    diamonds,\n",
    "    x=\"price\", hue=\"cut\",\n",
    "    multiple=\"stack\",\n",
    "    palette=\"light:m_r\",\n",
    "    edgecolor=\".3\",\n",
    "    linewidth=.5,\n",
    "    log_scale=True,\n",
    ")\n",
    "ax.xaxis.set_major_formatter(mpl.ticker.ScalarFormatter())\n",
    "ax.set_xticks([500, 1000, 2000, 5000, 10000])"
   ]
  },
  {
   "cell_type": "markdown",
   "id": "09a55d2d",
   "metadata": {
    "heading_collapsed": true
   },
   "source": [
    "#### Horizontal boxplot with observations"
   ]
  },
  {
   "cell_type": "code",
   "execution_count": null,
   "id": "ce3131bd",
   "metadata": {
    "ExecuteTime": {
     "end_time": "2023-11-28T15:35:40.808642Z",
     "start_time": "2023-11-28T15:35:40.090694Z"
    },
    "hidden": true
   },
   "outputs": [],
   "source": [
    "import seaborn as sns\n",
    "import matplotlib.pyplot as plt\n",
    "\n",
    "sns.set_theme(style=\"ticks\")\n",
    "\n",
    "# Initialize the figure with a logarithmic x axis\n",
    "f, ax = plt.subplots(figsize=(7, 6))\n",
    "ax.set_xscale(\"log\")\n",
    "\n",
    "# Load the example planets dataset\n",
    "planets = sns.load_dataset(\"planets\")\n",
    "\n",
    "# Plot the orbital period with horizontal boxes\n",
    "sns.boxplot(x=\"distance\", y=\"method\", data=planets,\n",
    "            whis=[0, 100], width=.6, palette=\"vlag\")\n",
    "\n",
    "# Add in points to show each observation\n",
    "sns.stripplot(x=\"distance\", y=\"method\", data=planets,\n",
    "              size=4, color=\".3\", linewidth=0)\n",
    "\n",
    "# Tweak the visual presentation\n",
    "ax.xaxis.grid(True)\n",
    "ax.set(ylabel=\"\")\n",
    "sns.despine(trim=True, left=True)"
   ]
  },
  {
   "cell_type": "markdown",
   "id": "0deb4147",
   "metadata": {
    "heading_collapsed": true
   },
   "source": [
    "#### Conditional means with observations"
   ]
  },
  {
   "cell_type": "code",
   "execution_count": null,
   "id": "6043683d",
   "metadata": {
    "ExecuteTime": {
     "end_time": "2023-11-28T15:35:41.185208Z",
     "start_time": "2023-11-28T15:35:40.810639Z"
    },
    "hidden": true
   },
   "outputs": [],
   "source": [
    "import pandas as pd\n",
    "import seaborn as sns\n",
    "import matplotlib.pyplot as plt\n",
    "\n",
    "sns.set_theme(style=\"whitegrid\")\n",
    "iris = sns.load_dataset(\"iris\")\n",
    "\n",
    "# \"Melt\" the dataset to \"long-form\" or \"tidy\" representation\n",
    "iris = pd.melt(iris, \"species\", var_name=\"measurement\")\n",
    "\n",
    "# Initialize the figure\n",
    "f, ax = plt.subplots()\n",
    "sns.despine(bottom=True, left=True)\n",
    "\n",
    "# Show each observation with a scatterplot\n",
    "sns.stripplot(\n",
    "    data=iris, x=\"value\", y=\"measurement\", hue=\"species\",\n",
    "    dodge=True, alpha=.25, zorder=1, ax=ax\n",
    ")\n",
    "\n",
    "# Show the conditional means with pointplot\n",
    "sns.pointplot(\n",
    "    data=iris, x=\"value\", y=\"measurement\", hue=\"species\",\n",
    "    join=False, dodge=.8 - .8 / 3, palette=\"dark\",\n",
    "    markers=\"d\", scale=.75, errorbar=None, ax=ax\n",
    ")\n",
    "\n",
    "# Customize the legend\n",
    "handles, labels = ax.get_legend_handles_labels()\n",
    "plt.legend(handles, labels, loc=\"lower right\", ncol=3, frameon=True, columnspacing=1, handletextpad=0)\n",
    "ax.set_ylabel(\"Body mass (g)\")\n",
    "ax.set_xlabel(\"\")\n",
    "plt.show()\n"
   ]
  },
  {
   "cell_type": "markdown",
   "id": "5aa1f9d5",
   "metadata": {
    "heading_collapsed": true
   },
   "source": [
    "#### Joint and marginal histograms"
   ]
  },
  {
   "cell_type": "code",
   "execution_count": null,
   "id": "5f6c5e5a",
   "metadata": {
    "ExecuteTime": {
     "end_time": "2023-11-28T15:35:42.102096Z",
     "start_time": "2023-11-28T15:35:41.188205Z"
    },
    "hidden": true
   },
   "outputs": [],
   "source": [
    "import seaborn as sns\n",
    "sns.set_theme(style=\"ticks\")\n",
    "\n",
    "# Load the planets dataset and initialize the figure\n",
    "planets = sns.load_dataset(\"planets\")\n",
    "g = sns.JointGrid(data=planets, x=\"year\", y=\"distance\", marginal_ticks=True)\n",
    "\n",
    "# Set a log scaling on the y axis\n",
    "g.ax_joint.set(yscale=\"log\")\n",
    "\n",
    "# Create an inset legend for the histogram colorbar\n",
    "cax = g.figure.add_axes([.15, .55, .02, .2])\n",
    "\n",
    "# Add the joint and marginal histogram plots\n",
    "g.plot_joint(\n",
    "    sns.histplot, discrete=(True, False),\n",
    "    cmap=\"light:#03012d\", pmax=.8, cbar=True, cbar_ax=cax\n",
    ")\n",
    "g.plot_marginals(sns.histplot, element=\"step\", color=\"#03012d\")"
   ]
  },
  {
   "cell_type": "markdown",
   "id": "35f95c76",
   "metadata": {
    "heading_collapsed": true
   },
   "source": [
    "#### Joint kernel density estimate"
   ]
  },
  {
   "cell_type": "code",
   "execution_count": null,
   "id": "0eed8871",
   "metadata": {
    "ExecuteTime": {
     "end_time": "2023-11-28T15:35:42.975064Z",
     "start_time": "2023-11-28T15:35:42.103095Z"
    },
    "hidden": true
   },
   "outputs": [],
   "source": [
    "import seaborn as sns\n",
    "sns.set_theme(style=\"ticks\")\n",
    "\n",
    "# Load the penguins dataset\n",
    "penguins = sns.load_dataset(\"penguins\")\n",
    "\n",
    "# Show the joint distribution using kernel density estimation\n",
    "g = sns.jointplot(\n",
    "    data=penguins,\n",
    "    x=\"bill_length_mm\", y=\"bill_depth_mm\", hue=\"species\",\n",
    "    kind=\"kde\",\n",
    ")"
   ]
  },
  {
   "cell_type": "markdown",
   "id": "85f71968",
   "metadata": {
    "heading_collapsed": true
   },
   "source": [
    "#### Overlapping densities (‘ridge plot’)"
   ]
  },
  {
   "cell_type": "code",
   "execution_count": null,
   "id": "7179e919",
   "metadata": {
    "ExecuteTime": {
     "end_time": "2023-11-28T15:35:46.256189Z",
     "start_time": "2023-11-28T15:35:42.977066Z"
    },
    "hidden": true
   },
   "outputs": [],
   "source": [
    "import numpy as np\n",
    "import pandas as pd\n",
    "import seaborn as sns\n",
    "import matplotlib.pyplot as plt\n",
    "\n",
    "# Configurar o estilo do seaborn\n",
    "sns.set_theme(style=\"white\", rc={\"axes.facecolor\": (0, 0, 0, 0)})\n",
    "\n",
    "# Criar os dados\n",
    "rs = np.random.RandomState(1979)\n",
    "x = rs.randn(500)\n",
    "g = np.tile(list(\"ABCDEFGHIJ\"), 50)\n",
    "df = pd.DataFrame(dict(x=x, g=g))\n",
    "m = df.g.map(ord)\n",
    "df[\"x\"] += m\n",
    "\n",
    "# Inicializar o objeto FacetGrid\n",
    "pal = sns.cubehelix_palette(10, rot=-.25, light=.7)\n",
    "g = sns.FacetGrid(df, row=\"g\", hue=\"g\", aspect=15, height=.5, palette=pal)\n",
    "\n",
    "# Desenhar as densidades em etapas\n",
    "g.map(sns.kdeplot, \"x\", bw_adjust=.5, clip_on=False, fill=True, alpha=1, linewidth=1.5)\n",
    "g.map(sns.kdeplot, \"x\", clip_on=False, color=\"w\", lw=2, bw_adjust=.5)\n",
    "\n",
    "# Passar color=None para refline() usa o mapeamento de cores\n",
    "g.refline(y=0, linewidth=2, linestyle=\"-\", color=None, clip_on=False)\n",
    "\n",
    "# Definir e usar uma função simples para rotular o gráfico em coordenadas do eixo\n",
    "def label(x, color, label):\n",
    "    ax = plt.gca()\n",
    "    ax.text(0, .2, label, fontweight=\"bold\", color=color, ha=\"left\", va=\"center\", transform=ax.transAxes)\n",
    "\n",
    "g.map(label, \"x\")\n",
    "\n",
    "# Ajustar a sobreposição dos subplots\n",
    "g.figure.subplots_adjust(hspace=-.25)\n",
    "\n",
    "# Remover detalhes dos eixos que não se sobrepõem bem\n",
    "g.set_titles(\"\")\n",
    "g.set(yticks=[], ylabel=\"\")\n",
    "g.despine(bottom=True, left=True)\n",
    "\n",
    "\n",
    "# Ajustar as margens do gráfico\n",
    "plt.tight_layout(rect=[0, 0, 1, 0.95])\n",
    "\n",
    "# Exibir o gráfico\n",
    "plt.show()\n"
   ]
  },
  {
   "cell_type": "markdown",
   "id": "fa82b538",
   "metadata": {
    "heading_collapsed": true
   },
   "source": [
    "#### Plotting large distributions"
   ]
  },
  {
   "cell_type": "code",
   "execution_count": null,
   "id": "3a0144bc",
   "metadata": {
    "ExecuteTime": {
     "end_time": "2023-11-28T15:35:46.619009Z",
     "start_time": "2023-11-28T15:35:46.257189Z"
    },
    "hidden": true
   },
   "outputs": [],
   "source": [
    "import seaborn as sns\n",
    "sns.set_theme(style=\"whitegrid\")\n",
    "\n",
    "diamonds = sns.load_dataset(\"diamonds\")\n",
    "clarity_ranking = [\"I1\", \"SI2\", \"SI1\", \"VS2\", \"VS1\", \"VVS2\", \"VVS1\", \"IF\"]\n",
    "\n",
    "sns.boxenplot(x=\"clarity\", y=\"carat\",\n",
    "              color=\"b\", order=clarity_ranking,\n",
    "              scale=\"linear\", data=diamonds)"
   ]
  },
  {
   "cell_type": "markdown",
   "id": "1d26990a",
   "metadata": {
    "heading_collapsed": true
   },
   "source": [
    "#### Bivariate plot with multiple elements"
   ]
  },
  {
   "cell_type": "code",
   "execution_count": null,
   "id": "6738b16f",
   "metadata": {
    "ExecuteTime": {
     "end_time": "2023-11-28T15:35:55.063506Z",
     "start_time": "2023-11-28T15:35:46.621006Z"
    },
    "hidden": true
   },
   "outputs": [],
   "source": [
    "import numpy as np\n",
    "import seaborn as sns\n",
    "import matplotlib.pyplot as plt\n",
    "sns.set_theme(style=\"dark\")\n",
    "\n",
    "# Simulate data from a bivariate Gaussian\n",
    "n = 10000\n",
    "mean = [0, 0]\n",
    "cov = [(2, .4), (.4, .2)]\n",
    "rng = np.random.RandomState(0)\n",
    "x, y = rng.multivariate_normal(mean, cov, n).T\n",
    "\n",
    "# Draw a combo histogram and scatterplot with density contours\n",
    "f, ax = plt.subplots(figsize=(6, 6))\n",
    "sns.scatterplot(x=x, y=y, s=5, color=\".15\")\n",
    "sns.histplot(x=x, y=y, bins=50, pthresh=.1, cmap=\"mako\")\n",
    "sns.kdeplot(x=x, y=y, levels=5, color=\"w\", linewidths=1)"
   ]
  },
  {
   "cell_type": "markdown",
   "id": "812da564",
   "metadata": {
    "heading_collapsed": true
   },
   "source": [
    "#### Faceted logistic regression"
   ]
  },
  {
   "cell_type": "code",
   "execution_count": null,
   "id": "a1577d9f",
   "metadata": {
    "ExecuteTime": {
     "end_time": "2023-11-28T15:36:00.855629Z",
     "start_time": "2023-11-28T15:35:55.064505Z"
    },
    "hidden": true
   },
   "outputs": [],
   "source": [
    "import seaborn as sns\n",
    "sns.set_theme(style=\"darkgrid\")\n",
    "\n",
    "# Load the example Titanic dataset\n",
    "df = sns.load_dataset(\"titanic\")\n",
    "\n",
    "# Make a custom palette with gendered colors\n",
    "pal = dict(male=\"#6495ED\", female=\"#F08080\")\n",
    "\n",
    "# Show the survival probability as a function of age and sex\n",
    "g = sns.lmplot(x=\"age\", y=\"survived\", col=\"sex\", hue=\"sex\", data=df,\n",
    "               palette=pal, y_jitter=.02, logistic=True, truncate=False)\n",
    "g.set(xlim=(0, 80), ylim=(-.05, 1.05))"
   ]
  },
  {
   "cell_type": "markdown",
   "id": "d04e8c86",
   "metadata": {
    "heading_collapsed": true
   },
   "source": [
    "#### Plotting on a large number of facets"
   ]
  },
  {
   "cell_type": "code",
   "execution_count": null,
   "id": "06269747",
   "metadata": {
    "ExecuteTime": {
     "end_time": "2023-11-28T15:36:06.423679Z",
     "start_time": "2023-11-28T15:36:00.857626Z"
    },
    "hidden": true
   },
   "outputs": [],
   "source": [
    "import numpy as np\n",
    "import pandas as pd\n",
    "import seaborn as sns\n",
    "import matplotlib.pyplot as plt\n",
    "\n",
    "sns.set_theme(style=\"ticks\")\n",
    "\n",
    "# Create a dataset with many short random walks\n",
    "rs = np.random.RandomState(4)\n",
    "pos = rs.randint(-1, 2, (20, 5)).cumsum(axis=1)\n",
    "pos -= pos[:, 0, np.newaxis]\n",
    "step = np.tile(range(5), 20)\n",
    "walk = np.repeat(range(20), 5)\n",
    "df = pd.DataFrame(np.c_[pos.flat, step, walk],\n",
    "                  columns=[\"position\", \"step\", \"walk\"])\n",
    "\n",
    "# Initialize a grid of plots with an Axes for each walk\n",
    "grid = sns.FacetGrid(df, col=\"walk\", hue=\"walk\", palette=\"tab20c\",\n",
    "                     col_wrap=4, height=1.5)\n",
    "\n",
    "# Draw a horizontal line to show the starting point\n",
    "grid.refline(y=0, linestyle=\":\")\n",
    "\n",
    "# Draw a line plot to show the trajectory of each random walk\n",
    "grid.map(plt.plot, \"step\", \"position\", marker=\"o\")\n",
    "\n",
    "# Adjust the tick positions and labels\n",
    "grid.set(xticks=np.arange(5), yticks=[-3, 3],\n",
    "         xlim=(-.5, 4.5), ylim=(-3.5, 3.5))\n",
    "\n",
    "# Adjust the arrangement of the plots\n",
    "grid.fig.tight_layout(w_pad=1)"
   ]
  },
  {
   "cell_type": "markdown",
   "id": "d9be8a03",
   "metadata": {
    "heading_collapsed": true
   },
   "source": [
    "#### Plotting a diagonal correlation matrix"
   ]
  },
  {
   "cell_type": "code",
   "execution_count": null,
   "id": "09179c1c",
   "metadata": {
    "ExecuteTime": {
     "end_time": "2023-11-28T15:36:07.078417Z",
     "start_time": "2023-11-28T15:36:06.425677Z"
    },
    "hidden": true
   },
   "outputs": [],
   "source": [
    "from string import ascii_letters\n",
    "import numpy as np\n",
    "import pandas as pd\n",
    "import seaborn as sns\n",
    "import matplotlib.pyplot as plt\n",
    "\n",
    "sns.set_theme(style=\"white\")\n",
    "\n",
    "# Generate a large random dataset\n",
    "rs = np.random.RandomState(33)\n",
    "d = pd.DataFrame(data=rs.normal(size=(100, 26)),\n",
    "                 columns=list(ascii_letters[26:]))\n",
    "\n",
    "# Compute the correlation matrix\n",
    "corr = d.corr()\n",
    "\n",
    "# Generate a mask for the upper triangle\n",
    "mask = np.triu(np.ones_like(corr, dtype=bool))\n",
    "\n",
    "# Set up the matplotlib figure\n",
    "f, ax = plt.subplots(figsize=(11, 9))\n",
    "\n",
    "# Generate a custom diverging colormap\n",
    "cmap = sns.diverging_palette(230, 20, as_cmap=True)\n",
    "\n",
    "# Draw the heatmap with the mask and correct aspect ratio\n",
    "sns.heatmap(corr, mask=mask, cmap=cmap, vmax=.3, center=0,\n",
    "            square=True, linewidths=.5, cbar_kws={\"shrink\": .5})"
   ]
  },
  {
   "cell_type": "markdown",
   "id": "2ec39260",
   "metadata": {
    "heading_collapsed": true
   },
   "source": [
    "#### Scatterplot with marginal ticks"
   ]
  },
  {
   "cell_type": "code",
   "execution_count": null,
   "id": "687201f2",
   "metadata": {
    "ExecuteTime": {
     "end_time": "2023-11-28T15:36:07.723715Z",
     "start_time": "2023-11-28T15:36:07.080425Z"
    },
    "hidden": true
   },
   "outputs": [],
   "source": [
    "import seaborn as sns\n",
    "sns.set_theme(style=\"white\", color_codes=True)\n",
    "mpg = sns.load_dataset(\"mpg\")\n",
    "\n",
    "# Use JointGrid directly to draw a custom plot\n",
    "g = sns.JointGrid(data=mpg, x=\"mpg\", y=\"acceleration\", space=0, ratio=17)\n",
    "g.plot_joint(sns.scatterplot, size=mpg[\"horsepower\"], sizes=(30, 120),\n",
    "             color=\"g\", alpha=.6, legend=False)\n",
    "g.plot_marginals(sns.rugplot, height=1, color=\"g\", alpha=.6)"
   ]
  },
  {
   "cell_type": "markdown",
   "id": "7a231fbe",
   "metadata": {
    "heading_collapsed": true
   },
   "source": [
    "#### Multiple bivariate KDE plots"
   ]
  },
  {
   "cell_type": "code",
   "execution_count": null,
   "id": "85b2844e",
   "metadata": {
    "ExecuteTime": {
     "end_time": "2023-11-28T15:36:08.150863Z",
     "start_time": "2023-11-28T15:36:07.726709Z"
    },
    "hidden": true
   },
   "outputs": [],
   "source": [
    "import seaborn as sns\n",
    "import matplotlib.pyplot as plt\n",
    "\n",
    "sns.set_theme(style=\"darkgrid\")\n",
    "iris = sns.load_dataset(\"iris\")\n",
    "\n",
    "# Set up the figure\n",
    "f, ax = plt.subplots(figsize=(8, 8))\n",
    "ax.set_aspect(\"equal\")\n",
    "\n",
    "# Draw a contour plot to represent each bivariate density\n",
    "sns.kdeplot(\n",
    "    data=iris.query(\"species != 'versicolor'\"),\n",
    "    x=\"sepal_width\",\n",
    "    y=\"sepal_length\",\n",
    "    hue=\"species\",\n",
    "    thresh=.1,\n",
    ")"
   ]
  },
  {
   "cell_type": "markdown",
   "id": "19d7a277",
   "metadata": {
    "heading_collapsed": true
   },
   "source": [
    "#### Conditional kernel density estimate"
   ]
  },
  {
   "cell_type": "code",
   "execution_count": null,
   "id": "9abba234",
   "metadata": {
    "ExecuteTime": {
     "end_time": "2023-11-28T15:36:09.182069Z",
     "start_time": "2023-11-28T15:36:08.160839Z"
    },
    "hidden": true
   },
   "outputs": [],
   "source": [
    "import seaborn as sns\n",
    "sns.set_theme(style=\"whitegrid\")\n",
    "\n",
    "# Load the diamonds dataset\n",
    "diamonds = sns.load_dataset(\"diamonds\")\n",
    "\n",
    "# Plot the distribution of clarity ratings, conditional on carat\n",
    "sns.displot(\n",
    "    data=diamonds,\n",
    "    x=\"carat\", hue=\"cut\",\n",
    "    kind=\"kde\", height=6,\n",
    "    multiple=\"fill\", clip=(0, None),\n",
    "    palette=\"ch:rot=-.25,hue=1,light=.75\",\n",
    ")"
   ]
  },
  {
   "cell_type": "markdown",
   "id": "a34c6860",
   "metadata": {
    "heading_collapsed": true
   },
   "source": [
    "#### Facetted ECDF plots"
   ]
  },
  {
   "cell_type": "code",
   "execution_count": null,
   "id": "8508d3a1",
   "metadata": {
    "ExecuteTime": {
     "end_time": "2023-11-28T15:36:10.209929Z",
     "start_time": "2023-11-28T15:36:09.184061Z"
    },
    "hidden": true
   },
   "outputs": [],
   "source": [
    "import seaborn as sns\n",
    "sns.set_theme(style=\"ticks\")\n",
    "mpg = sns.load_dataset(\"mpg\")\n",
    "\n",
    "colors = (250, 70, 50), (350, 70, 50)\n",
    "cmap = sns.blend_palette(colors, input=\"husl\", as_cmap=True)\n",
    "sns.displot(\n",
    "    mpg,\n",
    "    x=\"displacement\", col=\"origin\", hue=\"model_year\",\n",
    "    kind=\"ecdf\", aspect=.75, linewidth=2, palette=cmap,\n",
    ")"
   ]
  },
  {
   "cell_type": "markdown",
   "id": "5ca64f36",
   "metadata": {
    "heading_collapsed": true
   },
   "source": [
    "#### Multiple linear regression"
   ]
  },
  {
   "cell_type": "code",
   "execution_count": null,
   "id": "447bab30",
   "metadata": {
    "ExecuteTime": {
     "end_time": "2023-11-28T15:36:11.205647Z",
     "start_time": "2023-11-28T15:36:10.211927Z"
    },
    "hidden": true
   },
   "outputs": [],
   "source": [
    "import seaborn as sns\n",
    "sns.set_theme()\n",
    "\n",
    "# Load the penguins dataset\n",
    "penguins = sns.load_dataset(\"penguins\")\n",
    "\n",
    "# Plot sepal width as a function of sepal_length across days\n",
    "g = sns.lmplot(\n",
    "    data=penguins,\n",
    "    x=\"bill_length_mm\", y=\"bill_depth_mm\", hue=\"species\",\n",
    "    height=5\n",
    ")\n",
    "\n",
    "# Use more informative axis labels than are provided by default\n",
    "g.set_axis_labels(\"Snoot length (mm)\", \"Snoot depth (mm)\")"
   ]
  },
  {
   "cell_type": "markdown",
   "id": "7b85386d",
   "metadata": {
    "heading_collapsed": true
   },
   "source": [
    "#### Paired density and scatterplot matrix"
   ]
  },
  {
   "cell_type": "code",
   "execution_count": null,
   "id": "cf3a2af3",
   "metadata": {
    "ExecuteTime": {
     "end_time": "2023-11-28T15:36:16.344574Z",
     "start_time": "2023-11-28T15:36:11.207639Z"
    },
    "hidden": true
   },
   "outputs": [],
   "source": [
    "import seaborn as sns\n",
    "sns.set_theme(style=\"white\")\n",
    "\n",
    "df = sns.load_dataset(\"penguins\")\n",
    "\n",
    "g = sns.PairGrid(df, diag_sharey=False)\n",
    "g.map_upper(sns.scatterplot, s=15)\n",
    "g.map_lower(sns.kdeplot)\n",
    "g.map_diag(sns.kdeplot, lw=2)"
   ]
  },
  {
   "cell_type": "markdown",
   "id": "3e13ea2f",
   "metadata": {
    "heading_collapsed": true
   },
   "source": [
    "#### Paired categorical plots"
   ]
  },
  {
   "cell_type": "code",
   "execution_count": null,
   "id": "886b1c50",
   "metadata": {
    "ExecuteTime": {
     "end_time": "2023-11-28T15:36:17.333036Z",
     "start_time": "2023-11-28T15:36:16.345575Z"
    },
    "hidden": true
   },
   "outputs": [],
   "source": [
    "import seaborn as sns\n",
    "sns.set_theme(style=\"whitegrid\")\n",
    "\n",
    "# Load the example Titanic dataset\n",
    "titanic = sns.load_dataset(\"titanic\")\n",
    "\n",
    "# Set up a grid to plot survival probability against several variables\n",
    "g = sns.PairGrid(titanic, y_vars=\"survived\",\n",
    "                 x_vars=[\"class\", \"sex\", \"who\", \"alone\"],\n",
    "                 height=5, aspect=.5)\n",
    "\n",
    "# Draw a seaborn pointplot onto each Axes\n",
    "g.map(sns.pointplot, scale=1.3, errwidth=4, color=\"xkcd:plum\")\n",
    "g.set(ylim=(0, 1))\n",
    "sns.despine(fig=g.fig, left=True)"
   ]
  },
  {
   "cell_type": "markdown",
   "id": "9ad399b0",
   "metadata": {
    "heading_collapsed": true
   },
   "source": [
    "#### Dot plot with several variables"
   ]
  },
  {
   "cell_type": "code",
   "execution_count": null,
   "id": "8cd5e596",
   "metadata": {
    "ExecuteTime": {
     "end_time": "2023-11-28T15:36:22.217221Z",
     "start_time": "2023-11-28T15:36:17.335026Z"
    },
    "hidden": true
   },
   "outputs": [],
   "source": [
    "import seaborn as sns\n",
    "sns.set_theme(style=\"whitegrid\")\n",
    "\n",
    "# Load the dataset\n",
    "crashes = sns.load_dataset(\"car_crashes\")\n",
    "\n",
    "# Make the PairGrid\n",
    "g = sns.PairGrid(crashes.sort_values(\"total\", ascending=False),\n",
    "                 x_vars=crashes.columns[:-3], y_vars=[\"abbrev\"],\n",
    "                 height=10, aspect=.25)\n",
    "\n",
    "# Draw a dot plot using the stripplot function\n",
    "g.map(sns.stripplot, size=10, orient=\"h\", jitter=False,\n",
    "      palette=\"flare_r\", linewidth=1, edgecolor=\"w\")\n",
    "\n",
    "# Use the same x axis limits on all columns and add better labels\n",
    "g.set(xlim=(0, 25), xlabel=\"Crashes\", ylabel=\"\")\n",
    "\n",
    "# Use semantically meaningful titles for the columns\n",
    "titles = [\"Total crashes\", \"Speeding crashes\", \"Alcohol crashes\",\n",
    "          \"Not distracted crashes\", \"No previous crashes\"]\n",
    "\n",
    "for ax, title in zip(g.axes.flat, titles):\n",
    "\n",
    "    # Set a different title for each axes\n",
    "    ax.set(title=title)\n",
    "\n",
    "    # Make the grid horizontal instead of vertical\n",
    "    ax.xaxis.grid(False)\n",
    "    ax.yaxis.grid(True)\n",
    "\n",
    "sns.despine(left=True, bottom=True)"
   ]
  },
  {
   "cell_type": "markdown",
   "id": "d021f1cc",
   "metadata": {
    "heading_collapsed": true
   },
   "source": [
    "#### Color palette choices"
   ]
  },
  {
   "cell_type": "code",
   "execution_count": null,
   "id": "34d21ff3",
   "metadata": {
    "ExecuteTime": {
     "end_time": "2023-11-28T15:36:22.659449Z",
     "start_time": "2023-11-28T15:36:22.218240Z"
    },
    "hidden": true
   },
   "outputs": [],
   "source": [
    "import numpy as np\n",
    "import seaborn as sns\n",
    "import matplotlib.pyplot as plt\n",
    "sns.set_theme(style=\"white\", context=\"talk\")\n",
    "rs = np.random.RandomState(8)\n",
    "\n",
    "# Set up the matplotlib figure\n",
    "f, (ax1, ax2, ax3) = plt.subplots(3, 1, figsize=(7, 5), sharex=True)\n",
    "\n",
    "# Generate some sequential data\n",
    "x = np.array(list(\"ABCDEFGHIJ\"))\n",
    "y1 = np.arange(1, 11)\n",
    "sns.barplot(x=x, y=y1, palette=\"rocket\", ax=ax1)\n",
    "ax1.axhline(0, color=\"k\", clip_on=False)\n",
    "ax1.set_ylabel(\"Sequential\")\n",
    "\n",
    "# Center the data to make it diverging\n",
    "y2 = y1 - 5.5\n",
    "sns.barplot(x=x, y=y2, palette=\"vlag\", ax=ax2)\n",
    "ax2.axhline(0, color=\"k\", clip_on=False)\n",
    "ax2.set_ylabel(\"Diverging\")\n",
    "\n",
    "# Randomly reorder the data to make it qualitative\n",
    "y3 = rs.choice(y1, len(y1), replace=False)\n",
    "sns.barplot(x=x, y=y3, palette=\"deep\", ax=ax3)\n",
    "ax3.axhline(0, color=\"k\", clip_on=False)\n",
    "ax3.set_ylabel(\"Qualitative\")\n",
    "\n",
    "# Finalize the plot\n",
    "sns.despine(bottom=True)\n",
    "plt.setp(f.axes, yticks=[])\n",
    "plt.tight_layout(h_pad=2)"
   ]
  },
  {
   "cell_type": "markdown",
   "id": "0e5226c2",
   "metadata": {
    "heading_collapsed": true
   },
   "source": [
    "#### Different cubehelix palettes"
   ]
  },
  {
   "cell_type": "code",
   "execution_count": null,
   "id": "7a9ecc4d",
   "metadata": {
    "ExecuteTime": {
     "end_time": "2023-11-28T15:36:24.060702Z",
     "start_time": "2023-11-28T15:36:22.661463Z"
    },
    "hidden": true
   },
   "outputs": [],
   "source": [
    "import numpy as np\n",
    "import seaborn as sns\n",
    "import matplotlib.pyplot as plt\n",
    "\n",
    "sns.set_theme(style=\"white\")\n",
    "rs = np.random.RandomState(50)\n",
    "\n",
    "# Set up the matplotlib figure\n",
    "f, axes = plt.subplots(3, 3, figsize=(9, 9), sharex=True, sharey=True)\n",
    "\n",
    "# Rotate the starting point around the cubehelix hue circle\n",
    "for ax, s in zip(axes.flat, np.linspace(0, 3, 10)):\n",
    "\n",
    "    # Create a cubehelix colormap to use with kdeplot\n",
    "    cmap = sns.cubehelix_palette(start=s, light=1, as_cmap=True)\n",
    "\n",
    "    # Generate and plot a random bivariate dataset\n",
    "    x, y = rs.normal(size=(2, 50))\n",
    "    sns.kdeplot(\n",
    "        x=x, y=y,\n",
    "        cmap=cmap, fill=True,\n",
    "        clip=(-5, 5), cut=10,\n",
    "        thresh=0, levels=15,\n",
    "        ax=ax,\n",
    "    )\n",
    "    ax.set_axis_off()\n",
    "\n",
    "ax.set(xlim=(-3.5, 3.5), ylim=(-3.5, 3.5))\n",
    "f.subplots_adjust(0, 0, 1, 1, .08, .08)"
   ]
  },
  {
   "cell_type": "markdown",
   "id": "b0f42171",
   "metadata": {
    "heading_collapsed": true
   },
   "source": [
    "#### Horizontal bar plots"
   ]
  },
  {
   "cell_type": "code",
   "execution_count": null,
   "id": "11655522",
   "metadata": {
    "ExecuteTime": {
     "end_time": "2023-11-28T15:36:24.764833Z",
     "start_time": "2023-11-28T15:36:24.063695Z"
    },
    "hidden": true
   },
   "outputs": [],
   "source": [
    "import seaborn as sns\n",
    "import matplotlib.pyplot as plt\n",
    "sns.set_theme(style=\"whitegrid\")\n",
    "\n",
    "# Initialize the matplotlib figure\n",
    "f, ax = plt.subplots(figsize=(6, 15))\n",
    "\n",
    "# Load the example car crash dataset\n",
    "crashes = sns.load_dataset(\"car_crashes\").sort_values(\"total\", ascending=False)\n",
    "\n",
    "# Plot the total crashes\n",
    "sns.set_color_codes(\"pastel\")\n",
    "sns.barplot(x=\"total\", y=\"abbrev\", data=crashes,\n",
    "            label=\"Total\", color=\"b\")\n",
    "\n",
    "# Plot the crashes where alcohol was involved\n",
    "sns.set_color_codes(\"muted\")\n",
    "sns.barplot(x=\"alcohol\", y=\"abbrev\", data=crashes,\n",
    "            label=\"Alcohol-involved\", color=\"b\")\n",
    "\n",
    "# Add a legend and informative axis label\n",
    "ax.legend(ncol=2, loc=\"lower right\", frameon=True)\n",
    "ax.set(xlim=(0, 24), ylabel=\"\",\n",
    "       xlabel=\"Automobile collisions per billion miles\")\n",
    "sns.despine(left=True, bottom=True)"
   ]
  },
  {
   "cell_type": "markdown",
   "id": "e8eacbef",
   "metadata": {
    "heading_collapsed": true
   },
   "source": [
    "#### Plotting a three-way ANOVA"
   ]
  },
  {
   "cell_type": "code",
   "execution_count": null,
   "id": "af9208af",
   "metadata": {
    "ExecuteTime": {
     "end_time": "2023-11-28T15:36:25.987622Z",
     "start_time": "2023-11-28T15:36:24.766814Z"
    },
    "hidden": true
   },
   "outputs": [],
   "source": [
    "import seaborn as sns\n",
    "sns.set_theme(style=\"whitegrid\")\n",
    "\n",
    "# Load the example exercise dataset\n",
    "exercise = sns.load_dataset(\"exercise\")\n",
    "\n",
    "# Draw a pointplot to show pulse as a function of three categorical factors\n",
    "g = sns.catplot(\n",
    "    data=exercise, x=\"time\", y=\"pulse\", hue=\"kind\", col=\"diet\",\n",
    "    capsize=.2, palette=\"YlGnBu_d\", errorbar=\"se\",\n",
    "    kind=\"point\", height=6, aspect=.75,\n",
    ")\n",
    "g.despine(left=True)"
   ]
  },
  {
   "cell_type": "markdown",
   "id": "fe49814f",
   "metadata": {
    "heading_collapsed": true
   },
   "source": [
    "#### FacetGrid with custom projection"
   ]
  },
  {
   "cell_type": "code",
   "execution_count": null,
   "id": "8715b498",
   "metadata": {
    "ExecuteTime": {
     "end_time": "2023-11-28T15:36:27.693546Z",
     "start_time": "2023-11-28T15:36:25.989620Z"
    },
    "hidden": true
   },
   "outputs": [],
   "source": [
    "import numpy as np\n",
    "import pandas as pd\n",
    "import seaborn as sns\n",
    "\n",
    "sns.set_theme()\n",
    "\n",
    "# Generate an example radial datast\n",
    "r = np.linspace(0, 10, num=100)\n",
    "df = pd.DataFrame({'r': r, 'slow': r, 'medium': 2 * r, 'fast': 4 * r})\n",
    "\n",
    "# Convert the dataframe to long-form or \"tidy\" format\n",
    "df = pd.melt(df, id_vars=['r'], var_name='speed', value_name='theta')\n",
    "\n",
    "# Set up a grid of axes with a polar projection\n",
    "g = sns.FacetGrid(df, col=\"speed\", hue=\"speed\",\n",
    "                  subplot_kws=dict(projection='polar'), height=4.5,\n",
    "                  sharex=False, sharey=False, despine=False)\n",
    "\n",
    "# Draw a scatterplot onto each axes in the grid\n",
    "g.map(sns.scatterplot, \"theta\", \"r\")"
   ]
  },
  {
   "cell_type": "markdown",
   "id": "6c610961",
   "metadata": {
    "heading_collapsed": true
   },
   "source": [
    "#### Linear regression with marginal distributions"
   ]
  },
  {
   "cell_type": "code",
   "execution_count": null,
   "id": "79d1ac48",
   "metadata": {
    "ExecuteTime": {
     "end_time": "2023-11-28T15:36:28.469496Z",
     "start_time": "2023-11-28T15:36:27.694546Z"
    },
    "hidden": true
   },
   "outputs": [],
   "source": [
    "import seaborn as sns\n",
    "sns.set_theme(style=\"darkgrid\")\n",
    "\n",
    "tips = sns.load_dataset(\"tips\")\n",
    "g = sns.jointplot(x=\"total_bill\", y=\"tip\", data=tips,\n",
    "                  kind=\"reg\", truncate=False,\n",
    "                  xlim=(0, 60), ylim=(0, 12),\n",
    "                  color=\"m\", height=7)"
   ]
  },
  {
   "cell_type": "markdown",
   "id": "b8e80955",
   "metadata": {
    "heading_collapsed": true
   },
   "source": [
    "#### Plotting model residuals"
   ]
  },
  {
   "cell_type": "code",
   "execution_count": null,
   "id": "0d2ae69e",
   "metadata": {
    "ExecuteTime": {
     "end_time": "2023-11-28T15:36:28.714233Z",
     "start_time": "2023-11-28T15:36:28.471467Z"
    },
    "hidden": true
   },
   "outputs": [],
   "source": [
    "import numpy as np\n",
    "import seaborn as sns\n",
    "sns.set_theme(style=\"whitegrid\")\n",
    "\n",
    "# Make an example dataset with y ~ x\n",
    "rs = np.random.RandomState(7)\n",
    "x = rs.normal(2, 1, 75)\n",
    "y = 2 + 1.5 * x + rs.normal(0, 2, 75)\n",
    "\n",
    "# Plot the residuals after fitting a linear model\n",
    "sns.residplot(x=x, y=y, lowess=True, color=\"g\")"
   ]
  },
  {
   "cell_type": "markdown",
   "id": "166bbf2c",
   "metadata": {
    "heading_collapsed": true
   },
   "source": [
    "#### Scatterplot with varying point sizes and hues"
   ]
  },
  {
   "cell_type": "code",
   "execution_count": null,
   "id": "102f9c04",
   "metadata": {
    "ExecuteTime": {
     "end_time": "2023-11-28T15:36:29.723758Z",
     "start_time": "2023-11-28T15:36:28.716230Z"
    },
    "hidden": true
   },
   "outputs": [],
   "source": [
    "import seaborn as sns\n",
    "sns.set_theme(style=\"white\")\n",
    "\n",
    "# Load the example mpg dataset\n",
    "mpg = sns.load_dataset(\"mpg\")\n",
    "\n",
    "# Plot miles per gallon against horsepower with other semantics\n",
    "sns.relplot(x=\"horsepower\", y=\"mpg\", hue=\"origin\", size=\"weight\",\n",
    "            sizes=(40, 400), alpha=.5, palette=\"muted\",\n",
    "            height=6, data=mpg)"
   ]
  },
  {
   "cell_type": "markdown",
   "id": "2d59ba6b",
   "metadata": {
    "heading_collapsed": true
   },
   "source": [
    "#### Scatterplot with categorical variables"
   ]
  },
  {
   "cell_type": "code",
   "execution_count": null,
   "id": "c805abee",
   "metadata": {
    "ExecuteTime": {
     "end_time": "2023-11-28T15:36:30.517278Z",
     "start_time": "2023-11-28T15:36:29.725755Z"
    },
    "hidden": true
   },
   "outputs": [],
   "source": [
    "import seaborn as sns\n",
    "sns.set_theme(style=\"whitegrid\", palette=\"muted\")\n",
    "\n",
    "# Load the penguins dataset\n",
    "df = sns.load_dataset(\"penguins\")\n",
    "\n",
    "# Draw a categorical scatterplot to show each observation\n",
    "ax = sns.swarmplot(data=df, x=\"body_mass_g\", y=\"sex\", hue=\"species\")\n",
    "ax.set(ylabel=\"\")"
   ]
  },
  {
   "cell_type": "markdown",
   "id": "fce5b72b",
   "metadata": {
    "heading_collapsed": true
   },
   "source": [
    "#### Scatterplot Matrix"
   ]
  },
  {
   "cell_type": "code",
   "execution_count": null,
   "id": "3101d67e",
   "metadata": {
    "ExecuteTime": {
     "end_time": "2023-11-28T15:36:35.909116Z",
     "start_time": "2023-11-28T15:36:30.519274Z"
    },
    "hidden": true
   },
   "outputs": [],
   "source": [
    "import seaborn as sns\n",
    "sns.set_theme(style=\"ticks\")\n",
    "\n",
    "df = sns.load_dataset(\"penguins\")\n",
    "sns.pairplot(df, hue=\"species\")"
   ]
  },
  {
   "cell_type": "markdown",
   "id": "adf28eba",
   "metadata": {
    "heading_collapsed": true
   },
   "source": [
    "#### Scatterplot with continuous hues and sizes"
   ]
  },
  {
   "cell_type": "code",
   "execution_count": null,
   "id": "b5226297",
   "metadata": {
    "ExecuteTime": {
     "end_time": "2023-11-28T15:36:37.444424Z",
     "start_time": "2023-11-28T15:36:35.911123Z"
    },
    "hidden": true
   },
   "outputs": [],
   "source": [
    "import seaborn as sns\n",
    "sns.set_theme(style=\"whitegrid\")\n",
    "\n",
    "# Load the example planets dataset\n",
    "planets = sns.load_dataset(\"planets\")\n",
    "\n",
    "cmap = sns.cubehelix_palette(rot=-.2, as_cmap=True)\n",
    "g = sns.relplot(\n",
    "    data=planets,\n",
    "    x=\"distance\", y=\"orbital_period\",\n",
    "    hue=\"year\", size=\"mass\",\n",
    "    palette=cmap, sizes=(10, 200),\n",
    ")\n",
    "g.set(xscale=\"log\", yscale=\"log\")\n",
    "g.ax.xaxis.grid(True, \"minor\", linewidth=.25)\n",
    "g.ax.yaxis.grid(True, \"minor\", linewidth=.25)\n",
    "g.despine(left=True, bottom=True)"
   ]
  },
  {
   "cell_type": "markdown",
   "id": "9286cc01",
   "metadata": {
    "heading_collapsed": true
   },
   "source": [
    "#### Violinplots with observations"
   ]
  },
  {
   "cell_type": "code",
   "execution_count": null,
   "id": "6fac17ef",
   "metadata": {
    "ExecuteTime": {
     "end_time": "2023-11-28T15:36:37.800265Z",
     "start_time": "2023-11-28T15:36:37.446444Z"
    },
    "hidden": true
   },
   "outputs": [],
   "source": [
    "import numpy as np\n",
    "import seaborn as sns\n",
    "\n",
    "sns.set_theme()\n",
    "\n",
    "# Create a random dataset across several variables\n",
    "rs = np.random.default_rng(0)\n",
    "n, p = 40, 8\n",
    "d = rs.normal(0, 2, (n, p))\n",
    "d += np.log(np.arange(1, p + 1)) * -5 + 10\n",
    "\n",
    "# Show each distribution with both violins and points\n",
    "sns.violinplot(data=d, palette=\"light:g\", inner=\"points\", orient=\"h\")"
   ]
  },
  {
   "cell_type": "markdown",
   "id": "48754417",
   "metadata": {
    "heading_collapsed": true
   },
   "source": [
    "#### Smooth kernel density with marginal histograms"
   ]
  },
  {
   "cell_type": "code",
   "execution_count": null,
   "id": "b37c946e",
   "metadata": {
    "ExecuteTime": {
     "end_time": "2023-11-28T15:36:38.851293Z",
     "start_time": "2023-11-28T15:36:37.801264Z"
    },
    "hidden": true
   },
   "outputs": [],
   "source": [
    "import seaborn as sns\n",
    "sns.set_theme(style=\"white\")\n",
    "\n",
    "df = sns.load_dataset(\"penguins\")\n",
    "\n",
    "g = sns.JointGrid(data=df, x=\"body_mass_g\", y=\"bill_depth_mm\", space=0)\n",
    "g.plot_joint(sns.kdeplot,\n",
    "             fill=True, clip=((2200, 6800), (10, 25)),\n",
    "             thresh=0, levels=100, cmap=\"rocket\")\n",
    "g.plot_marginals(sns.histplot, color=\"#03051A\", alpha=1, bins=25)"
   ]
  },
  {
   "cell_type": "markdown",
   "id": "3191f235",
   "metadata": {
    "heading_collapsed": true
   },
   "source": [
    "#### Annotated heatmaps"
   ]
  },
  {
   "cell_type": "code",
   "execution_count": null,
   "id": "5a7a5ae5",
   "metadata": {
    "ExecuteTime": {
     "end_time": "2023-11-28T15:36:39.600990Z",
     "start_time": "2023-11-28T15:36:38.853286Z"
    },
    "hidden": true
   },
   "outputs": [],
   "source": [
    "import matplotlib.pyplot as plt\n",
    "import seaborn as sns\n",
    "sns.set_theme()\n",
    "\n",
    "# Carrega o conjunto de dados de exemplo de voos e converte para o formato longo\n",
    "flights_long = sns.load_dataset(\"flights\")\n",
    "flights = flights_long.pivot(index=\"month\", columns=\"year\", values=\"passengers\")\n",
    "\n",
    "# Desenha um mapa de calor com os valores numéricos em cada célula\n",
    "f, ax = plt.subplots(figsize=(9, 6))\n",
    "sns.heatmap(flights, annot=True, fmt=\"d\", linewidths=.5, ax=ax)\n"
   ]
  },
  {
   "cell_type": "markdown",
   "id": "8b47d3e7",
   "metadata": {
    "heading_collapsed": true
   },
   "source": [
    "#### Regression fit over a strip plot"
   ]
  },
  {
   "cell_type": "code",
   "execution_count": null,
   "id": "feac9a6b",
   "metadata": {
    "ExecuteTime": {
     "end_time": "2023-11-28T15:36:40.674787Z",
     "start_time": "2023-11-28T15:36:39.601991Z"
    },
    "hidden": true
   },
   "outputs": [],
   "source": [
    "import pandas as pd\n",
    "import seaborn as sns\n",
    "sns.set_theme()\n",
    "\n",
    "mpg = sns.load_dataset(\"mpg\")\n",
    "\n",
    "# Cria uma cópia temporária\n",
    "mpg_temp = mpg.copy()\n",
    "\n",
    "# Criar uma nova coluna 'weight_group' que representa o peso arredondado para o múltiplo mais próximo de 600.\n",
    "mpg_temp['weight_group'] = pd.cut(mpg_temp['weight'], range(0, int(mpg_temp['weight'].max()) + 600, 600))\n",
    "\n",
    "sns.catplot(\n",
    "    data=mpg_temp, x=\"cylinders\", y=\"acceleration\", hue=\"weight_group\",\n",
    "    zorder=1, palette='viridis'\n",
    ")\n",
    "sns.regplot(\n",
    "    data=mpg, x=\"cylinders\", y=\"acceleration\",\n",
    "    scatter=False, truncate=False, order=2, color=\".2\",\n",
    ")\n"
   ]
  },
  {
   "cell_type": "markdown",
   "id": "a310b171",
   "metadata": {
    "heading_collapsed": true
   },
   "source": [
    "#### Discovering structure in heatmap data"
   ]
  },
  {
   "cell_type": "code",
   "execution_count": null,
   "id": "2de506c0",
   "metadata": {
    "ExecuteTime": {
     "end_time": "2023-11-28T15:36:42.541120Z",
     "start_time": "2023-11-28T15:36:40.676785Z"
    },
    "hidden": true
   },
   "outputs": [],
   "source": [
    "import pandas as pd\n",
    "import seaborn as sns\n",
    "sns.set_theme()\n",
    "\n",
    "# Load the brain networks example dataset\n",
    "df = sns.load_dataset(\"brain_networks\", header=[0, 1, 2], index_col=0)\n",
    "\n",
    "# Select a subset of the networks\n",
    "used_networks = [1, 5, 6, 7, 8, 12, 13, 17]\n",
    "used_columns = (df.columns.get_level_values(\"network\")\n",
    "                          .astype(int)\n",
    "                          .isin(used_networks))\n",
    "df = df.loc[:, used_columns]\n",
    "\n",
    "# Create a categorical palette to identify the networks\n",
    "network_pal = sns.husl_palette(8, s=.45)\n",
    "network_lut = dict(zip(map(str, used_networks), network_pal))\n",
    "\n",
    "# Convert the palette to vectors that will be drawn on the side of the matrix\n",
    "networks = df.columns.get_level_values(\"network\")\n",
    "network_colors = pd.Series(networks, index=df.columns).map(network_lut)\n",
    "\n",
    "# Draw the full plot\n",
    "g = sns.clustermap(df.corr(), center=0, cmap=\"vlag\",\n",
    "                   row_colors=network_colors, col_colors=network_colors,\n",
    "                   dendrogram_ratio=(.1, .2),\n",
    "                   cbar_pos=(.02, .32, .03, .2),\n",
    "                   linewidths=.75, figsize=(12, 13))\n",
    "\n",
    "g.ax_row_dendrogram.remove()"
   ]
  },
  {
   "cell_type": "markdown",
   "id": "d585f58b",
   "metadata": {
    "heading_collapsed": true
   },
   "source": [
    "#### Trivariate histogram with two categorical variables"
   ]
  },
  {
   "cell_type": "code",
   "execution_count": null,
   "id": "edfc2dbe",
   "metadata": {
    "ExecuteTime": {
     "end_time": "2023-11-28T15:36:47.590338Z",
     "start_time": "2023-11-28T15:36:42.543117Z"
    },
    "hidden": true
   },
   "outputs": [],
   "source": [
    "import seaborn as sns\n",
    "sns.set_theme(style=\"dark\")\n",
    "\n",
    "diamonds = sns.load_dataset(\"diamonds\")\n",
    "sns.displot(\n",
    "    data=diamonds, x=\"price\", y=\"color\", col=\"clarity\",\n",
    "    log_scale=(True, False), col_wrap=4, height=4, aspect=.7,\n",
    ")"
   ]
  },
  {
   "cell_type": "markdown",
   "id": "29bb03a7",
   "metadata": {
    "heading_collapsed": true
   },
   "source": [
    "#### Small multiple time series"
   ]
  },
  {
   "cell_type": "code",
   "execution_count": null,
   "id": "d3be05eb",
   "metadata": {
    "ExecuteTime": {
     "end_time": "2023-11-28T15:36:51.187337Z",
     "start_time": "2023-11-28T15:36:47.592335Z"
    },
    "hidden": true
   },
   "outputs": [],
   "source": [
    "import seaborn as sns\n",
    "\n",
    "sns.set_theme(style=\"dark\")\n",
    "flights = sns.load_dataset(\"flights\")\n",
    "\n",
    "# Plot each year's time series in its own facet\n",
    "g = sns.relplot(\n",
    "    data=flights,\n",
    "    x=\"month\", y=\"passengers\", col=\"year\", hue=\"year\",\n",
    "    kind=\"line\", palette=\"crest\", linewidth=4, zorder=5,\n",
    "    col_wrap=3, height=2, aspect=1.5, legend=False,\n",
    ")\n",
    "\n",
    "# Iterate over each subplot to customize further\n",
    "for year, ax in g.axes_dict.items():\n",
    "\n",
    "    # Add the title as an annotation within the plot\n",
    "    ax.text(.8, .85, year, transform=ax.transAxes, fontweight=\"bold\")\n",
    "\n",
    "    # Plot every year's time series in the background\n",
    "    sns.lineplot(\n",
    "        data=flights, x=\"month\", y=\"passengers\", units=\"year\",\n",
    "        estimator=None, color=\".7\", linewidth=1, ax=ax,\n",
    "    )\n",
    "\n",
    "# Reduce the frequency of the x axis ticks\n",
    "ax.set_xticks(ax.get_xticks()[::2])\n",
    "\n",
    "# Tweak the supporting aspects of the plot\n",
    "g.set_titles(\"\")\n",
    "g.set_axis_labels(\"\", \"Passengers\")\n",
    "g.tight_layout()"
   ]
  },
  {
   "cell_type": "markdown",
   "id": "c111ee43",
   "metadata": {
    "heading_collapsed": true
   },
   "source": [
    "#### Lineplot from a wide-form dataset"
   ]
  },
  {
   "cell_type": "code",
   "execution_count": null,
   "id": "030a5563",
   "metadata": {
    "ExecuteTime": {
     "end_time": "2023-11-28T15:36:51.687088Z",
     "start_time": "2023-11-28T15:36:51.189338Z"
    },
    "hidden": true
   },
   "outputs": [],
   "source": [
    "import numpy as np\n",
    "import pandas as pd\n",
    "import seaborn as sns\n",
    "sns.set_theme(style=\"whitegrid\")\n",
    "\n",
    "rs = np.random.RandomState(365)\n",
    "values = rs.randn(365, 4).cumsum(axis=0)\n",
    "dates = pd.date_range(\"1 1 2016\", periods=365, freq=\"D\")\n",
    "data = pd.DataFrame(values, dates, columns=[\"A\", \"B\", \"C\", \"D\"])\n",
    "data = data.rolling(7).mean()\n",
    "\n",
    "sns.lineplot(data=data, palette=\"tab10\", linewidth=2.5)"
   ]
  },
  {
   "cell_type": "markdown",
   "id": "84aba70c",
   "metadata": {
    "heading_collapsed": true
   },
   "source": [
    "#### Violinplot from a wide-form dataset"
   ]
  },
  {
   "cell_type": "code",
   "execution_count": null,
   "id": "af2b1d1b",
   "metadata": {
    "ExecuteTime": {
     "end_time": "2023-11-28T15:36:52.178081Z",
     "start_time": "2023-11-28T15:36:51.688589Z"
    },
    "hidden": true,
    "scrolled": true
   },
   "outputs": [],
   "source": [
    "import seaborn as sns\n",
    "import matplotlib.pyplot as plt\n",
    "sns.set_theme(style=\"whitegrid\")\n",
    "\n",
    "# Load the example dataset of brain network correlations\n",
    "df = sns.load_dataset(\"brain_networks\", header=[0, 1, 2], index_col=0)\n",
    "\n",
    "# Pull out a specific subset of networks\n",
    "used_networks = [1, 3, 4, 5, 6, 7, 8, 11, 12, 13, 16, 17]\n",
    "used_columns = (df.columns.get_level_values(\"network\")\n",
    "                          .astype(int)\n",
    "                          .isin(used_networks))\n",
    "df = df.loc[:, used_columns]\n",
    "\n",
    "# Compute the correlation matrix and average over networks\n",
    "corr_df = df.corr().groupby(level=\"network\").mean()\n",
    "corr_df.index = corr_df.index.astype(int)\n",
    "corr_df = corr_df.sort_index().T\n",
    "\n",
    "# Set up the matplotlib figure\n",
    "f, ax = plt.subplots(figsize=(11, 6))\n",
    "\n",
    "# Draw a violinplot with a narrower bandwidth than the default\n",
    "sns.violinplot(data=corr_df, palette=\"Set3\", bw=.2, cut=1, linewidth=1)\n",
    "\n",
    "# Finalize the figure\n",
    "ax.set(ylim=(-.7, 1.05))\n",
    "sns.despine(left=True, bottom=True)"
   ]
  },
  {
   "cell_type": "markdown",
   "id": "84191d4e",
   "metadata": {},
   "source": [
    "### <div style=\"margin-top: -20px;\">\n",
    "<hr style=\"border: 2px solid blue;\">\n",
    "\n",
    "<font color='blue'><span style=\"font-size: 18px;\"><strong>24.3.2 Aplicando Diversos Gráficos a Um Mesmo Dataset</strong></span></font>\n",
    "\n",
    "<hr style=\"border: 2px solid blue;\">\n",
    "</div>"
   ]
  },
  {
   "cell_type": "markdown",
   "id": "c5e1bcd2",
   "metadata": {},
   "source": [
    "Para o exemplos a seguir utilizaremos o dataset \"tips\" visto anteriormente."
   ]
  },
  {
   "cell_type": "code",
   "execution_count": 15,
   "id": "ace05a21",
   "metadata": {
    "ExecuteTime": {
     "end_time": "2023-11-28T20:27:00.689829Z",
     "start_time": "2023-11-28T20:27:00.633850Z"
    }
   },
   "outputs": [
    {
     "data": {
      "text/html": [
       "<div>\n",
       "<style scoped>\n",
       "    .dataframe tbody tr th:only-of-type {\n",
       "        vertical-align: middle;\n",
       "    }\n",
       "\n",
       "    .dataframe tbody tr th {\n",
       "        vertical-align: top;\n",
       "    }\n",
       "\n",
       "    .dataframe thead th {\n",
       "        text-align: right;\n",
       "    }\n",
       "</style>\n",
       "<table border=\"1\" class=\"dataframe\">\n",
       "  <thead>\n",
       "    <tr style=\"text-align: right;\">\n",
       "      <th></th>\n",
       "      <th>total_bill</th>\n",
       "      <th>tip</th>\n",
       "      <th>sex</th>\n",
       "      <th>smoker</th>\n",
       "      <th>day</th>\n",
       "      <th>time</th>\n",
       "      <th>size</th>\n",
       "    </tr>\n",
       "  </thead>\n",
       "  <tbody>\n",
       "    <tr>\n",
       "      <th>0</th>\n",
       "      <td>16.99</td>\n",
       "      <td>1.01</td>\n",
       "      <td>Female</td>\n",
       "      <td>No</td>\n",
       "      <td>Sun</td>\n",
       "      <td>Dinner</td>\n",
       "      <td>2</td>\n",
       "    </tr>\n",
       "    <tr>\n",
       "      <th>1</th>\n",
       "      <td>10.34</td>\n",
       "      <td>1.66</td>\n",
       "      <td>Male</td>\n",
       "      <td>No</td>\n",
       "      <td>Sun</td>\n",
       "      <td>Dinner</td>\n",
       "      <td>3</td>\n",
       "    </tr>\n",
       "    <tr>\n",
       "      <th>2</th>\n",
       "      <td>21.01</td>\n",
       "      <td>3.50</td>\n",
       "      <td>Male</td>\n",
       "      <td>No</td>\n",
       "      <td>Sun</td>\n",
       "      <td>Dinner</td>\n",
       "      <td>3</td>\n",
       "    </tr>\n",
       "    <tr>\n",
       "      <th>3</th>\n",
       "      <td>23.68</td>\n",
       "      <td>3.31</td>\n",
       "      <td>Male</td>\n",
       "      <td>No</td>\n",
       "      <td>Sun</td>\n",
       "      <td>Dinner</td>\n",
       "      <td>2</td>\n",
       "    </tr>\n",
       "    <tr>\n",
       "      <th>4</th>\n",
       "      <td>24.59</td>\n",
       "      <td>3.61</td>\n",
       "      <td>Female</td>\n",
       "      <td>No</td>\n",
       "      <td>Sun</td>\n",
       "      <td>Dinner</td>\n",
       "      <td>4</td>\n",
       "    </tr>\n",
       "    <tr>\n",
       "      <th>5</th>\n",
       "      <td>25.29</td>\n",
       "      <td>4.71</td>\n",
       "      <td>Male</td>\n",
       "      <td>No</td>\n",
       "      <td>Sun</td>\n",
       "      <td>Dinner</td>\n",
       "      <td>4</td>\n",
       "    </tr>\n",
       "    <tr>\n",
       "      <th>6</th>\n",
       "      <td>8.77</td>\n",
       "      <td>2.00</td>\n",
       "      <td>Male</td>\n",
       "      <td>No</td>\n",
       "      <td>Sun</td>\n",
       "      <td>Dinner</td>\n",
       "      <td>2</td>\n",
       "    </tr>\n",
       "    <tr>\n",
       "      <th>7</th>\n",
       "      <td>26.88</td>\n",
       "      <td>3.12</td>\n",
       "      <td>Male</td>\n",
       "      <td>No</td>\n",
       "      <td>Sun</td>\n",
       "      <td>Dinner</td>\n",
       "      <td>4</td>\n",
       "    </tr>\n",
       "    <tr>\n",
       "      <th>8</th>\n",
       "      <td>15.04</td>\n",
       "      <td>1.96</td>\n",
       "      <td>Male</td>\n",
       "      <td>No</td>\n",
       "      <td>Sun</td>\n",
       "      <td>Dinner</td>\n",
       "      <td>2</td>\n",
       "    </tr>\n",
       "    <tr>\n",
       "      <th>9</th>\n",
       "      <td>14.78</td>\n",
       "      <td>3.23</td>\n",
       "      <td>Male</td>\n",
       "      <td>No</td>\n",
       "      <td>Sun</td>\n",
       "      <td>Dinner</td>\n",
       "      <td>2</td>\n",
       "    </tr>\n",
       "    <tr>\n",
       "      <th>10</th>\n",
       "      <td>10.27</td>\n",
       "      <td>1.71</td>\n",
       "      <td>Male</td>\n",
       "      <td>No</td>\n",
       "      <td>Sun</td>\n",
       "      <td>Dinner</td>\n",
       "      <td>2</td>\n",
       "    </tr>\n",
       "    <tr>\n",
       "      <th>11</th>\n",
       "      <td>35.26</td>\n",
       "      <td>5.00</td>\n",
       "      <td>Female</td>\n",
       "      <td>No</td>\n",
       "      <td>Sun</td>\n",
       "      <td>Dinner</td>\n",
       "      <td>4</td>\n",
       "    </tr>\n",
       "    <tr>\n",
       "      <th>12</th>\n",
       "      <td>15.42</td>\n",
       "      <td>1.57</td>\n",
       "      <td>Male</td>\n",
       "      <td>No</td>\n",
       "      <td>Sun</td>\n",
       "      <td>Dinner</td>\n",
       "      <td>2</td>\n",
       "    </tr>\n",
       "    <tr>\n",
       "      <th>13</th>\n",
       "      <td>18.43</td>\n",
       "      <td>3.00</td>\n",
       "      <td>Male</td>\n",
       "      <td>No</td>\n",
       "      <td>Sun</td>\n",
       "      <td>Dinner</td>\n",
       "      <td>4</td>\n",
       "    </tr>\n",
       "    <tr>\n",
       "      <th>14</th>\n",
       "      <td>14.83</td>\n",
       "      <td>3.02</td>\n",
       "      <td>Female</td>\n",
       "      <td>No</td>\n",
       "      <td>Sun</td>\n",
       "      <td>Dinner</td>\n",
       "      <td>2</td>\n",
       "    </tr>\n",
       "    <tr>\n",
       "      <th>15</th>\n",
       "      <td>21.58</td>\n",
       "      <td>3.92</td>\n",
       "      <td>Male</td>\n",
       "      <td>No</td>\n",
       "      <td>Sun</td>\n",
       "      <td>Dinner</td>\n",
       "      <td>2</td>\n",
       "    </tr>\n",
       "    <tr>\n",
       "      <th>16</th>\n",
       "      <td>10.33</td>\n",
       "      <td>1.67</td>\n",
       "      <td>Female</td>\n",
       "      <td>No</td>\n",
       "      <td>Sun</td>\n",
       "      <td>Dinner</td>\n",
       "      <td>3</td>\n",
       "    </tr>\n",
       "    <tr>\n",
       "      <th>17</th>\n",
       "      <td>16.29</td>\n",
       "      <td>3.71</td>\n",
       "      <td>Male</td>\n",
       "      <td>No</td>\n",
       "      <td>Sun</td>\n",
       "      <td>Dinner</td>\n",
       "      <td>3</td>\n",
       "    </tr>\n",
       "    <tr>\n",
       "      <th>18</th>\n",
       "      <td>16.97</td>\n",
       "      <td>3.50</td>\n",
       "      <td>Female</td>\n",
       "      <td>No</td>\n",
       "      <td>Sun</td>\n",
       "      <td>Dinner</td>\n",
       "      <td>3</td>\n",
       "    </tr>\n",
       "    <tr>\n",
       "      <th>19</th>\n",
       "      <td>20.65</td>\n",
       "      <td>3.35</td>\n",
       "      <td>Male</td>\n",
       "      <td>No</td>\n",
       "      <td>Sat</td>\n",
       "      <td>Dinner</td>\n",
       "      <td>3</td>\n",
       "    </tr>\n",
       "    <tr>\n",
       "      <th>20</th>\n",
       "      <td>17.92</td>\n",
       "      <td>4.08</td>\n",
       "      <td>Male</td>\n",
       "      <td>No</td>\n",
       "      <td>Sat</td>\n",
       "      <td>Dinner</td>\n",
       "      <td>2</td>\n",
       "    </tr>\n",
       "    <tr>\n",
       "      <th>21</th>\n",
       "      <td>20.29</td>\n",
       "      <td>2.75</td>\n",
       "      <td>Female</td>\n",
       "      <td>No</td>\n",
       "      <td>Sat</td>\n",
       "      <td>Dinner</td>\n",
       "      <td>2</td>\n",
       "    </tr>\n",
       "    <tr>\n",
       "      <th>22</th>\n",
       "      <td>15.77</td>\n",
       "      <td>2.23</td>\n",
       "      <td>Female</td>\n",
       "      <td>No</td>\n",
       "      <td>Sat</td>\n",
       "      <td>Dinner</td>\n",
       "      <td>2</td>\n",
       "    </tr>\n",
       "    <tr>\n",
       "      <th>23</th>\n",
       "      <td>39.42</td>\n",
       "      <td>7.58</td>\n",
       "      <td>Male</td>\n",
       "      <td>No</td>\n",
       "      <td>Sat</td>\n",
       "      <td>Dinner</td>\n",
       "      <td>4</td>\n",
       "    </tr>\n",
       "    <tr>\n",
       "      <th>24</th>\n",
       "      <td>19.82</td>\n",
       "      <td>3.18</td>\n",
       "      <td>Male</td>\n",
       "      <td>No</td>\n",
       "      <td>Sat</td>\n",
       "      <td>Dinner</td>\n",
       "      <td>2</td>\n",
       "    </tr>\n",
       "    <tr>\n",
       "      <th>25</th>\n",
       "      <td>17.81</td>\n",
       "      <td>2.34</td>\n",
       "      <td>Male</td>\n",
       "      <td>No</td>\n",
       "      <td>Sat</td>\n",
       "      <td>Dinner</td>\n",
       "      <td>4</td>\n",
       "    </tr>\n",
       "    <tr>\n",
       "      <th>26</th>\n",
       "      <td>13.37</td>\n",
       "      <td>2.00</td>\n",
       "      <td>Male</td>\n",
       "      <td>No</td>\n",
       "      <td>Sat</td>\n",
       "      <td>Dinner</td>\n",
       "      <td>2</td>\n",
       "    </tr>\n",
       "    <tr>\n",
       "      <th>27</th>\n",
       "      <td>12.69</td>\n",
       "      <td>2.00</td>\n",
       "      <td>Male</td>\n",
       "      <td>No</td>\n",
       "      <td>Sat</td>\n",
       "      <td>Dinner</td>\n",
       "      <td>2</td>\n",
       "    </tr>\n",
       "    <tr>\n",
       "      <th>28</th>\n",
       "      <td>21.70</td>\n",
       "      <td>4.30</td>\n",
       "      <td>Male</td>\n",
       "      <td>No</td>\n",
       "      <td>Sat</td>\n",
       "      <td>Dinner</td>\n",
       "      <td>2</td>\n",
       "    </tr>\n",
       "    <tr>\n",
       "      <th>29</th>\n",
       "      <td>19.65</td>\n",
       "      <td>3.00</td>\n",
       "      <td>Female</td>\n",
       "      <td>No</td>\n",
       "      <td>Sat</td>\n",
       "      <td>Dinner</td>\n",
       "      <td>2</td>\n",
       "    </tr>\n",
       "    <tr>\n",
       "      <th>30</th>\n",
       "      <td>9.55</td>\n",
       "      <td>1.45</td>\n",
       "      <td>Male</td>\n",
       "      <td>No</td>\n",
       "      <td>Sat</td>\n",
       "      <td>Dinner</td>\n",
       "      <td>2</td>\n",
       "    </tr>\n",
       "    <tr>\n",
       "      <th>31</th>\n",
       "      <td>18.35</td>\n",
       "      <td>2.50</td>\n",
       "      <td>Male</td>\n",
       "      <td>No</td>\n",
       "      <td>Sat</td>\n",
       "      <td>Dinner</td>\n",
       "      <td>4</td>\n",
       "    </tr>\n",
       "    <tr>\n",
       "      <th>32</th>\n",
       "      <td>15.06</td>\n",
       "      <td>3.00</td>\n",
       "      <td>Female</td>\n",
       "      <td>No</td>\n",
       "      <td>Sat</td>\n",
       "      <td>Dinner</td>\n",
       "      <td>2</td>\n",
       "    </tr>\n",
       "    <tr>\n",
       "      <th>33</th>\n",
       "      <td>20.69</td>\n",
       "      <td>2.45</td>\n",
       "      <td>Female</td>\n",
       "      <td>No</td>\n",
       "      <td>Sat</td>\n",
       "      <td>Dinner</td>\n",
       "      <td>4</td>\n",
       "    </tr>\n",
       "    <tr>\n",
       "      <th>34</th>\n",
       "      <td>17.78</td>\n",
       "      <td>3.27</td>\n",
       "      <td>Male</td>\n",
       "      <td>No</td>\n",
       "      <td>Sat</td>\n",
       "      <td>Dinner</td>\n",
       "      <td>2</td>\n",
       "    </tr>\n",
       "    <tr>\n",
       "      <th>35</th>\n",
       "      <td>24.06</td>\n",
       "      <td>3.60</td>\n",
       "      <td>Male</td>\n",
       "      <td>No</td>\n",
       "      <td>Sat</td>\n",
       "      <td>Dinner</td>\n",
       "      <td>3</td>\n",
       "    </tr>\n",
       "    <tr>\n",
       "      <th>36</th>\n",
       "      <td>16.31</td>\n",
       "      <td>2.00</td>\n",
       "      <td>Male</td>\n",
       "      <td>No</td>\n",
       "      <td>Sat</td>\n",
       "      <td>Dinner</td>\n",
       "      <td>3</td>\n",
       "    </tr>\n",
       "    <tr>\n",
       "      <th>37</th>\n",
       "      <td>16.93</td>\n",
       "      <td>3.07</td>\n",
       "      <td>Female</td>\n",
       "      <td>No</td>\n",
       "      <td>Sat</td>\n",
       "      <td>Dinner</td>\n",
       "      <td>3</td>\n",
       "    </tr>\n",
       "    <tr>\n",
       "      <th>38</th>\n",
       "      <td>18.69</td>\n",
       "      <td>2.31</td>\n",
       "      <td>Male</td>\n",
       "      <td>No</td>\n",
       "      <td>Sat</td>\n",
       "      <td>Dinner</td>\n",
       "      <td>3</td>\n",
       "    </tr>\n",
       "    <tr>\n",
       "      <th>39</th>\n",
       "      <td>31.27</td>\n",
       "      <td>5.00</td>\n",
       "      <td>Male</td>\n",
       "      <td>No</td>\n",
       "      <td>Sat</td>\n",
       "      <td>Dinner</td>\n",
       "      <td>3</td>\n",
       "    </tr>\n",
       "    <tr>\n",
       "      <th>40</th>\n",
       "      <td>16.04</td>\n",
       "      <td>2.24</td>\n",
       "      <td>Male</td>\n",
       "      <td>No</td>\n",
       "      <td>Sat</td>\n",
       "      <td>Dinner</td>\n",
       "      <td>3</td>\n",
       "    </tr>\n",
       "    <tr>\n",
       "      <th>41</th>\n",
       "      <td>17.46</td>\n",
       "      <td>2.54</td>\n",
       "      <td>Male</td>\n",
       "      <td>No</td>\n",
       "      <td>Sun</td>\n",
       "      <td>Dinner</td>\n",
       "      <td>2</td>\n",
       "    </tr>\n",
       "    <tr>\n",
       "      <th>42</th>\n",
       "      <td>13.94</td>\n",
       "      <td>3.06</td>\n",
       "      <td>Male</td>\n",
       "      <td>No</td>\n",
       "      <td>Sun</td>\n",
       "      <td>Dinner</td>\n",
       "      <td>2</td>\n",
       "    </tr>\n",
       "    <tr>\n",
       "      <th>43</th>\n",
       "      <td>9.68</td>\n",
       "      <td>1.32</td>\n",
       "      <td>Male</td>\n",
       "      <td>No</td>\n",
       "      <td>Sun</td>\n",
       "      <td>Dinner</td>\n",
       "      <td>2</td>\n",
       "    </tr>\n",
       "    <tr>\n",
       "      <th>44</th>\n",
       "      <td>30.40</td>\n",
       "      <td>5.60</td>\n",
       "      <td>Male</td>\n",
       "      <td>No</td>\n",
       "      <td>Sun</td>\n",
       "      <td>Dinner</td>\n",
       "      <td>4</td>\n",
       "    </tr>\n",
       "    <tr>\n",
       "      <th>45</th>\n",
       "      <td>18.29</td>\n",
       "      <td>3.00</td>\n",
       "      <td>Male</td>\n",
       "      <td>No</td>\n",
       "      <td>Sun</td>\n",
       "      <td>Dinner</td>\n",
       "      <td>2</td>\n",
       "    </tr>\n",
       "    <tr>\n",
       "      <th>46</th>\n",
       "      <td>22.23</td>\n",
       "      <td>5.00</td>\n",
       "      <td>Male</td>\n",
       "      <td>No</td>\n",
       "      <td>Sun</td>\n",
       "      <td>Dinner</td>\n",
       "      <td>2</td>\n",
       "    </tr>\n",
       "    <tr>\n",
       "      <th>47</th>\n",
       "      <td>32.40</td>\n",
       "      <td>6.00</td>\n",
       "      <td>Male</td>\n",
       "      <td>No</td>\n",
       "      <td>Sun</td>\n",
       "      <td>Dinner</td>\n",
       "      <td>4</td>\n",
       "    </tr>\n",
       "    <tr>\n",
       "      <th>48</th>\n",
       "      <td>28.55</td>\n",
       "      <td>2.05</td>\n",
       "      <td>Male</td>\n",
       "      <td>No</td>\n",
       "      <td>Sun</td>\n",
       "      <td>Dinner</td>\n",
       "      <td>3</td>\n",
       "    </tr>\n",
       "    <tr>\n",
       "      <th>49</th>\n",
       "      <td>18.04</td>\n",
       "      <td>3.00</td>\n",
       "      <td>Male</td>\n",
       "      <td>No</td>\n",
       "      <td>Sun</td>\n",
       "      <td>Dinner</td>\n",
       "      <td>2</td>\n",
       "    </tr>\n",
       "    <tr>\n",
       "      <th>50</th>\n",
       "      <td>12.54</td>\n",
       "      <td>2.50</td>\n",
       "      <td>Male</td>\n",
       "      <td>No</td>\n",
       "      <td>Sun</td>\n",
       "      <td>Dinner</td>\n",
       "      <td>2</td>\n",
       "    </tr>\n",
       "    <tr>\n",
       "      <th>51</th>\n",
       "      <td>10.29</td>\n",
       "      <td>2.60</td>\n",
       "      <td>Female</td>\n",
       "      <td>No</td>\n",
       "      <td>Sun</td>\n",
       "      <td>Dinner</td>\n",
       "      <td>2</td>\n",
       "    </tr>\n",
       "    <tr>\n",
       "      <th>52</th>\n",
       "      <td>34.81</td>\n",
       "      <td>5.20</td>\n",
       "      <td>Female</td>\n",
       "      <td>No</td>\n",
       "      <td>Sun</td>\n",
       "      <td>Dinner</td>\n",
       "      <td>4</td>\n",
       "    </tr>\n",
       "    <tr>\n",
       "      <th>53</th>\n",
       "      <td>9.94</td>\n",
       "      <td>1.56</td>\n",
       "      <td>Male</td>\n",
       "      <td>No</td>\n",
       "      <td>Sun</td>\n",
       "      <td>Dinner</td>\n",
       "      <td>2</td>\n",
       "    </tr>\n",
       "    <tr>\n",
       "      <th>54</th>\n",
       "      <td>25.56</td>\n",
       "      <td>4.34</td>\n",
       "      <td>Male</td>\n",
       "      <td>No</td>\n",
       "      <td>Sun</td>\n",
       "      <td>Dinner</td>\n",
       "      <td>4</td>\n",
       "    </tr>\n",
       "    <tr>\n",
       "      <th>55</th>\n",
       "      <td>19.49</td>\n",
       "      <td>3.51</td>\n",
       "      <td>Male</td>\n",
       "      <td>No</td>\n",
       "      <td>Sun</td>\n",
       "      <td>Dinner</td>\n",
       "      <td>2</td>\n",
       "    </tr>\n",
       "    <tr>\n",
       "      <th>56</th>\n",
       "      <td>38.01</td>\n",
       "      <td>3.00</td>\n",
       "      <td>Male</td>\n",
       "      <td>Yes</td>\n",
       "      <td>Sat</td>\n",
       "      <td>Dinner</td>\n",
       "      <td>4</td>\n",
       "    </tr>\n",
       "    <tr>\n",
       "      <th>57</th>\n",
       "      <td>26.41</td>\n",
       "      <td>1.50</td>\n",
       "      <td>Female</td>\n",
       "      <td>No</td>\n",
       "      <td>Sat</td>\n",
       "      <td>Dinner</td>\n",
       "      <td>2</td>\n",
       "    </tr>\n",
       "    <tr>\n",
       "      <th>58</th>\n",
       "      <td>11.24</td>\n",
       "      <td>1.76</td>\n",
       "      <td>Male</td>\n",
       "      <td>Yes</td>\n",
       "      <td>Sat</td>\n",
       "      <td>Dinner</td>\n",
       "      <td>2</td>\n",
       "    </tr>\n",
       "    <tr>\n",
       "      <th>59</th>\n",
       "      <td>48.27</td>\n",
       "      <td>6.73</td>\n",
       "      <td>Male</td>\n",
       "      <td>No</td>\n",
       "      <td>Sat</td>\n",
       "      <td>Dinner</td>\n",
       "      <td>4</td>\n",
       "    </tr>\n",
       "    <tr>\n",
       "      <th>60</th>\n",
       "      <td>20.29</td>\n",
       "      <td>3.21</td>\n",
       "      <td>Male</td>\n",
       "      <td>Yes</td>\n",
       "      <td>Sat</td>\n",
       "      <td>Dinner</td>\n",
       "      <td>2</td>\n",
       "    </tr>\n",
       "    <tr>\n",
       "      <th>61</th>\n",
       "      <td>13.81</td>\n",
       "      <td>2.00</td>\n",
       "      <td>Male</td>\n",
       "      <td>Yes</td>\n",
       "      <td>Sat</td>\n",
       "      <td>Dinner</td>\n",
       "      <td>2</td>\n",
       "    </tr>\n",
       "    <tr>\n",
       "      <th>62</th>\n",
       "      <td>11.02</td>\n",
       "      <td>1.98</td>\n",
       "      <td>Male</td>\n",
       "      <td>Yes</td>\n",
       "      <td>Sat</td>\n",
       "      <td>Dinner</td>\n",
       "      <td>2</td>\n",
       "    </tr>\n",
       "    <tr>\n",
       "      <th>63</th>\n",
       "      <td>18.29</td>\n",
       "      <td>3.76</td>\n",
       "      <td>Male</td>\n",
       "      <td>Yes</td>\n",
       "      <td>Sat</td>\n",
       "      <td>Dinner</td>\n",
       "      <td>4</td>\n",
       "    </tr>\n",
       "    <tr>\n",
       "      <th>64</th>\n",
       "      <td>17.59</td>\n",
       "      <td>2.64</td>\n",
       "      <td>Male</td>\n",
       "      <td>No</td>\n",
       "      <td>Sat</td>\n",
       "      <td>Dinner</td>\n",
       "      <td>3</td>\n",
       "    </tr>\n",
       "    <tr>\n",
       "      <th>65</th>\n",
       "      <td>20.08</td>\n",
       "      <td>3.15</td>\n",
       "      <td>Male</td>\n",
       "      <td>No</td>\n",
       "      <td>Sat</td>\n",
       "      <td>Dinner</td>\n",
       "      <td>3</td>\n",
       "    </tr>\n",
       "    <tr>\n",
       "      <th>66</th>\n",
       "      <td>16.45</td>\n",
       "      <td>2.47</td>\n",
       "      <td>Female</td>\n",
       "      <td>No</td>\n",
       "      <td>Sat</td>\n",
       "      <td>Dinner</td>\n",
       "      <td>2</td>\n",
       "    </tr>\n",
       "    <tr>\n",
       "      <th>67</th>\n",
       "      <td>3.07</td>\n",
       "      <td>1.00</td>\n",
       "      <td>Female</td>\n",
       "      <td>Yes</td>\n",
       "      <td>Sat</td>\n",
       "      <td>Dinner</td>\n",
       "      <td>1</td>\n",
       "    </tr>\n",
       "    <tr>\n",
       "      <th>68</th>\n",
       "      <td>20.23</td>\n",
       "      <td>2.01</td>\n",
       "      <td>Male</td>\n",
       "      <td>No</td>\n",
       "      <td>Sat</td>\n",
       "      <td>Dinner</td>\n",
       "      <td>2</td>\n",
       "    </tr>\n",
       "    <tr>\n",
       "      <th>69</th>\n",
       "      <td>15.01</td>\n",
       "      <td>2.09</td>\n",
       "      <td>Male</td>\n",
       "      <td>Yes</td>\n",
       "      <td>Sat</td>\n",
       "      <td>Dinner</td>\n",
       "      <td>2</td>\n",
       "    </tr>\n",
       "    <tr>\n",
       "      <th>70</th>\n",
       "      <td>12.02</td>\n",
       "      <td>1.97</td>\n",
       "      <td>Male</td>\n",
       "      <td>No</td>\n",
       "      <td>Sat</td>\n",
       "      <td>Dinner</td>\n",
       "      <td>2</td>\n",
       "    </tr>\n",
       "    <tr>\n",
       "      <th>71</th>\n",
       "      <td>17.07</td>\n",
       "      <td>3.00</td>\n",
       "      <td>Female</td>\n",
       "      <td>No</td>\n",
       "      <td>Sat</td>\n",
       "      <td>Dinner</td>\n",
       "      <td>3</td>\n",
       "    </tr>\n",
       "    <tr>\n",
       "      <th>72</th>\n",
       "      <td>26.86</td>\n",
       "      <td>3.14</td>\n",
       "      <td>Female</td>\n",
       "      <td>Yes</td>\n",
       "      <td>Sat</td>\n",
       "      <td>Dinner</td>\n",
       "      <td>2</td>\n",
       "    </tr>\n",
       "    <tr>\n",
       "      <th>73</th>\n",
       "      <td>25.28</td>\n",
       "      <td>5.00</td>\n",
       "      <td>Female</td>\n",
       "      <td>Yes</td>\n",
       "      <td>Sat</td>\n",
       "      <td>Dinner</td>\n",
       "      <td>2</td>\n",
       "    </tr>\n",
       "    <tr>\n",
       "      <th>74</th>\n",
       "      <td>14.73</td>\n",
       "      <td>2.20</td>\n",
       "      <td>Female</td>\n",
       "      <td>No</td>\n",
       "      <td>Sat</td>\n",
       "      <td>Dinner</td>\n",
       "      <td>2</td>\n",
       "    </tr>\n",
       "    <tr>\n",
       "      <th>75</th>\n",
       "      <td>10.51</td>\n",
       "      <td>1.25</td>\n",
       "      <td>Male</td>\n",
       "      <td>No</td>\n",
       "      <td>Sat</td>\n",
       "      <td>Dinner</td>\n",
       "      <td>2</td>\n",
       "    </tr>\n",
       "    <tr>\n",
       "      <th>76</th>\n",
       "      <td>17.92</td>\n",
       "      <td>3.08</td>\n",
       "      <td>Male</td>\n",
       "      <td>Yes</td>\n",
       "      <td>Sat</td>\n",
       "      <td>Dinner</td>\n",
       "      <td>2</td>\n",
       "    </tr>\n",
       "    <tr>\n",
       "      <th>77</th>\n",
       "      <td>27.20</td>\n",
       "      <td>4.00</td>\n",
       "      <td>Male</td>\n",
       "      <td>No</td>\n",
       "      <td>Thur</td>\n",
       "      <td>Lunch</td>\n",
       "      <td>4</td>\n",
       "    </tr>\n",
       "    <tr>\n",
       "      <th>78</th>\n",
       "      <td>22.76</td>\n",
       "      <td>3.00</td>\n",
       "      <td>Male</td>\n",
       "      <td>No</td>\n",
       "      <td>Thur</td>\n",
       "      <td>Lunch</td>\n",
       "      <td>2</td>\n",
       "    </tr>\n",
       "    <tr>\n",
       "      <th>79</th>\n",
       "      <td>17.29</td>\n",
       "      <td>2.71</td>\n",
       "      <td>Male</td>\n",
       "      <td>No</td>\n",
       "      <td>Thur</td>\n",
       "      <td>Lunch</td>\n",
       "      <td>2</td>\n",
       "    </tr>\n",
       "    <tr>\n",
       "      <th>80</th>\n",
       "      <td>19.44</td>\n",
       "      <td>3.00</td>\n",
       "      <td>Male</td>\n",
       "      <td>Yes</td>\n",
       "      <td>Thur</td>\n",
       "      <td>Lunch</td>\n",
       "      <td>2</td>\n",
       "    </tr>\n",
       "    <tr>\n",
       "      <th>81</th>\n",
       "      <td>16.66</td>\n",
       "      <td>3.40</td>\n",
       "      <td>Male</td>\n",
       "      <td>No</td>\n",
       "      <td>Thur</td>\n",
       "      <td>Lunch</td>\n",
       "      <td>2</td>\n",
       "    </tr>\n",
       "    <tr>\n",
       "      <th>82</th>\n",
       "      <td>10.07</td>\n",
       "      <td>1.83</td>\n",
       "      <td>Female</td>\n",
       "      <td>No</td>\n",
       "      <td>Thur</td>\n",
       "      <td>Lunch</td>\n",
       "      <td>1</td>\n",
       "    </tr>\n",
       "    <tr>\n",
       "      <th>83</th>\n",
       "      <td>32.68</td>\n",
       "      <td>5.00</td>\n",
       "      <td>Male</td>\n",
       "      <td>Yes</td>\n",
       "      <td>Thur</td>\n",
       "      <td>Lunch</td>\n",
       "      <td>2</td>\n",
       "    </tr>\n",
       "    <tr>\n",
       "      <th>84</th>\n",
       "      <td>15.98</td>\n",
       "      <td>2.03</td>\n",
       "      <td>Male</td>\n",
       "      <td>No</td>\n",
       "      <td>Thur</td>\n",
       "      <td>Lunch</td>\n",
       "      <td>2</td>\n",
       "    </tr>\n",
       "    <tr>\n",
       "      <th>85</th>\n",
       "      <td>34.83</td>\n",
       "      <td>5.17</td>\n",
       "      <td>Female</td>\n",
       "      <td>No</td>\n",
       "      <td>Thur</td>\n",
       "      <td>Lunch</td>\n",
       "      <td>4</td>\n",
       "    </tr>\n",
       "    <tr>\n",
       "      <th>86</th>\n",
       "      <td>13.03</td>\n",
       "      <td>2.00</td>\n",
       "      <td>Male</td>\n",
       "      <td>No</td>\n",
       "      <td>Thur</td>\n",
       "      <td>Lunch</td>\n",
       "      <td>2</td>\n",
       "    </tr>\n",
       "    <tr>\n",
       "      <th>87</th>\n",
       "      <td>18.28</td>\n",
       "      <td>4.00</td>\n",
       "      <td>Male</td>\n",
       "      <td>No</td>\n",
       "      <td>Thur</td>\n",
       "      <td>Lunch</td>\n",
       "      <td>2</td>\n",
       "    </tr>\n",
       "    <tr>\n",
       "      <th>88</th>\n",
       "      <td>24.71</td>\n",
       "      <td>5.85</td>\n",
       "      <td>Male</td>\n",
       "      <td>No</td>\n",
       "      <td>Thur</td>\n",
       "      <td>Lunch</td>\n",
       "      <td>2</td>\n",
       "    </tr>\n",
       "    <tr>\n",
       "      <th>89</th>\n",
       "      <td>21.16</td>\n",
       "      <td>3.00</td>\n",
       "      <td>Male</td>\n",
       "      <td>No</td>\n",
       "      <td>Thur</td>\n",
       "      <td>Lunch</td>\n",
       "      <td>2</td>\n",
       "    </tr>\n",
       "    <tr>\n",
       "      <th>90</th>\n",
       "      <td>28.97</td>\n",
       "      <td>3.00</td>\n",
       "      <td>Male</td>\n",
       "      <td>Yes</td>\n",
       "      <td>Fri</td>\n",
       "      <td>Dinner</td>\n",
       "      <td>2</td>\n",
       "    </tr>\n",
       "    <tr>\n",
       "      <th>91</th>\n",
       "      <td>22.49</td>\n",
       "      <td>3.50</td>\n",
       "      <td>Male</td>\n",
       "      <td>No</td>\n",
       "      <td>Fri</td>\n",
       "      <td>Dinner</td>\n",
       "      <td>2</td>\n",
       "    </tr>\n",
       "    <tr>\n",
       "      <th>92</th>\n",
       "      <td>5.75</td>\n",
       "      <td>1.00</td>\n",
       "      <td>Female</td>\n",
       "      <td>Yes</td>\n",
       "      <td>Fri</td>\n",
       "      <td>Dinner</td>\n",
       "      <td>2</td>\n",
       "    </tr>\n",
       "    <tr>\n",
       "      <th>93</th>\n",
       "      <td>16.32</td>\n",
       "      <td>4.30</td>\n",
       "      <td>Female</td>\n",
       "      <td>Yes</td>\n",
       "      <td>Fri</td>\n",
       "      <td>Dinner</td>\n",
       "      <td>2</td>\n",
       "    </tr>\n",
       "    <tr>\n",
       "      <th>94</th>\n",
       "      <td>22.75</td>\n",
       "      <td>3.25</td>\n",
       "      <td>Female</td>\n",
       "      <td>No</td>\n",
       "      <td>Fri</td>\n",
       "      <td>Dinner</td>\n",
       "      <td>2</td>\n",
       "    </tr>\n",
       "    <tr>\n",
       "      <th>95</th>\n",
       "      <td>40.17</td>\n",
       "      <td>4.73</td>\n",
       "      <td>Male</td>\n",
       "      <td>Yes</td>\n",
       "      <td>Fri</td>\n",
       "      <td>Dinner</td>\n",
       "      <td>4</td>\n",
       "    </tr>\n",
       "    <tr>\n",
       "      <th>96</th>\n",
       "      <td>27.28</td>\n",
       "      <td>4.00</td>\n",
       "      <td>Male</td>\n",
       "      <td>Yes</td>\n",
       "      <td>Fri</td>\n",
       "      <td>Dinner</td>\n",
       "      <td>2</td>\n",
       "    </tr>\n",
       "    <tr>\n",
       "      <th>97</th>\n",
       "      <td>12.03</td>\n",
       "      <td>1.50</td>\n",
       "      <td>Male</td>\n",
       "      <td>Yes</td>\n",
       "      <td>Fri</td>\n",
       "      <td>Dinner</td>\n",
       "      <td>2</td>\n",
       "    </tr>\n",
       "    <tr>\n",
       "      <th>98</th>\n",
       "      <td>21.01</td>\n",
       "      <td>3.00</td>\n",
       "      <td>Male</td>\n",
       "      <td>Yes</td>\n",
       "      <td>Fri</td>\n",
       "      <td>Dinner</td>\n",
       "      <td>2</td>\n",
       "    </tr>\n",
       "    <tr>\n",
       "      <th>99</th>\n",
       "      <td>12.46</td>\n",
       "      <td>1.50</td>\n",
       "      <td>Male</td>\n",
       "      <td>No</td>\n",
       "      <td>Fri</td>\n",
       "      <td>Dinner</td>\n",
       "      <td>2</td>\n",
       "    </tr>\n",
       "    <tr>\n",
       "      <th>100</th>\n",
       "      <td>11.35</td>\n",
       "      <td>2.50</td>\n",
       "      <td>Female</td>\n",
       "      <td>Yes</td>\n",
       "      <td>Fri</td>\n",
       "      <td>Dinner</td>\n",
       "      <td>2</td>\n",
       "    </tr>\n",
       "    <tr>\n",
       "      <th>101</th>\n",
       "      <td>15.38</td>\n",
       "      <td>3.00</td>\n",
       "      <td>Female</td>\n",
       "      <td>Yes</td>\n",
       "      <td>Fri</td>\n",
       "      <td>Dinner</td>\n",
       "      <td>2</td>\n",
       "    </tr>\n",
       "    <tr>\n",
       "      <th>102</th>\n",
       "      <td>44.30</td>\n",
       "      <td>2.50</td>\n",
       "      <td>Female</td>\n",
       "      <td>Yes</td>\n",
       "      <td>Sat</td>\n",
       "      <td>Dinner</td>\n",
       "      <td>3</td>\n",
       "    </tr>\n",
       "    <tr>\n",
       "      <th>103</th>\n",
       "      <td>22.42</td>\n",
       "      <td>3.48</td>\n",
       "      <td>Female</td>\n",
       "      <td>Yes</td>\n",
       "      <td>Sat</td>\n",
       "      <td>Dinner</td>\n",
       "      <td>2</td>\n",
       "    </tr>\n",
       "    <tr>\n",
       "      <th>104</th>\n",
       "      <td>20.92</td>\n",
       "      <td>4.08</td>\n",
       "      <td>Female</td>\n",
       "      <td>No</td>\n",
       "      <td>Sat</td>\n",
       "      <td>Dinner</td>\n",
       "      <td>2</td>\n",
       "    </tr>\n",
       "    <tr>\n",
       "      <th>105</th>\n",
       "      <td>15.36</td>\n",
       "      <td>1.64</td>\n",
       "      <td>Male</td>\n",
       "      <td>Yes</td>\n",
       "      <td>Sat</td>\n",
       "      <td>Dinner</td>\n",
       "      <td>2</td>\n",
       "    </tr>\n",
       "    <tr>\n",
       "      <th>106</th>\n",
       "      <td>20.49</td>\n",
       "      <td>4.06</td>\n",
       "      <td>Male</td>\n",
       "      <td>Yes</td>\n",
       "      <td>Sat</td>\n",
       "      <td>Dinner</td>\n",
       "      <td>2</td>\n",
       "    </tr>\n",
       "    <tr>\n",
       "      <th>107</th>\n",
       "      <td>25.21</td>\n",
       "      <td>4.29</td>\n",
       "      <td>Male</td>\n",
       "      <td>Yes</td>\n",
       "      <td>Sat</td>\n",
       "      <td>Dinner</td>\n",
       "      <td>2</td>\n",
       "    </tr>\n",
       "    <tr>\n",
       "      <th>108</th>\n",
       "      <td>18.24</td>\n",
       "      <td>3.76</td>\n",
       "      <td>Male</td>\n",
       "      <td>No</td>\n",
       "      <td>Sat</td>\n",
       "      <td>Dinner</td>\n",
       "      <td>2</td>\n",
       "    </tr>\n",
       "    <tr>\n",
       "      <th>109</th>\n",
       "      <td>14.31</td>\n",
       "      <td>4.00</td>\n",
       "      <td>Female</td>\n",
       "      <td>Yes</td>\n",
       "      <td>Sat</td>\n",
       "      <td>Dinner</td>\n",
       "      <td>2</td>\n",
       "    </tr>\n",
       "    <tr>\n",
       "      <th>110</th>\n",
       "      <td>14.00</td>\n",
       "      <td>3.00</td>\n",
       "      <td>Male</td>\n",
       "      <td>No</td>\n",
       "      <td>Sat</td>\n",
       "      <td>Dinner</td>\n",
       "      <td>2</td>\n",
       "    </tr>\n",
       "    <tr>\n",
       "      <th>111</th>\n",
       "      <td>7.25</td>\n",
       "      <td>1.00</td>\n",
       "      <td>Female</td>\n",
       "      <td>No</td>\n",
       "      <td>Sat</td>\n",
       "      <td>Dinner</td>\n",
       "      <td>1</td>\n",
       "    </tr>\n",
       "    <tr>\n",
       "      <th>112</th>\n",
       "      <td>38.07</td>\n",
       "      <td>4.00</td>\n",
       "      <td>Male</td>\n",
       "      <td>No</td>\n",
       "      <td>Sun</td>\n",
       "      <td>Dinner</td>\n",
       "      <td>3</td>\n",
       "    </tr>\n",
       "    <tr>\n",
       "      <th>113</th>\n",
       "      <td>23.95</td>\n",
       "      <td>2.55</td>\n",
       "      <td>Male</td>\n",
       "      <td>No</td>\n",
       "      <td>Sun</td>\n",
       "      <td>Dinner</td>\n",
       "      <td>2</td>\n",
       "    </tr>\n",
       "    <tr>\n",
       "      <th>114</th>\n",
       "      <td>25.71</td>\n",
       "      <td>4.00</td>\n",
       "      <td>Female</td>\n",
       "      <td>No</td>\n",
       "      <td>Sun</td>\n",
       "      <td>Dinner</td>\n",
       "      <td>3</td>\n",
       "    </tr>\n",
       "    <tr>\n",
       "      <th>115</th>\n",
       "      <td>17.31</td>\n",
       "      <td>3.50</td>\n",
       "      <td>Female</td>\n",
       "      <td>No</td>\n",
       "      <td>Sun</td>\n",
       "      <td>Dinner</td>\n",
       "      <td>2</td>\n",
       "    </tr>\n",
       "    <tr>\n",
       "      <th>116</th>\n",
       "      <td>29.93</td>\n",
       "      <td>5.07</td>\n",
       "      <td>Male</td>\n",
       "      <td>No</td>\n",
       "      <td>Sun</td>\n",
       "      <td>Dinner</td>\n",
       "      <td>4</td>\n",
       "    </tr>\n",
       "    <tr>\n",
       "      <th>117</th>\n",
       "      <td>10.65</td>\n",
       "      <td>1.50</td>\n",
       "      <td>Female</td>\n",
       "      <td>No</td>\n",
       "      <td>Thur</td>\n",
       "      <td>Lunch</td>\n",
       "      <td>2</td>\n",
       "    </tr>\n",
       "    <tr>\n",
       "      <th>118</th>\n",
       "      <td>12.43</td>\n",
       "      <td>1.80</td>\n",
       "      <td>Female</td>\n",
       "      <td>No</td>\n",
       "      <td>Thur</td>\n",
       "      <td>Lunch</td>\n",
       "      <td>2</td>\n",
       "    </tr>\n",
       "    <tr>\n",
       "      <th>119</th>\n",
       "      <td>24.08</td>\n",
       "      <td>2.92</td>\n",
       "      <td>Female</td>\n",
       "      <td>No</td>\n",
       "      <td>Thur</td>\n",
       "      <td>Lunch</td>\n",
       "      <td>4</td>\n",
       "    </tr>\n",
       "    <tr>\n",
       "      <th>120</th>\n",
       "      <td>11.69</td>\n",
       "      <td>2.31</td>\n",
       "      <td>Male</td>\n",
       "      <td>No</td>\n",
       "      <td>Thur</td>\n",
       "      <td>Lunch</td>\n",
       "      <td>2</td>\n",
       "    </tr>\n",
       "    <tr>\n",
       "      <th>121</th>\n",
       "      <td>13.42</td>\n",
       "      <td>1.68</td>\n",
       "      <td>Female</td>\n",
       "      <td>No</td>\n",
       "      <td>Thur</td>\n",
       "      <td>Lunch</td>\n",
       "      <td>2</td>\n",
       "    </tr>\n",
       "    <tr>\n",
       "      <th>122</th>\n",
       "      <td>14.26</td>\n",
       "      <td>2.50</td>\n",
       "      <td>Male</td>\n",
       "      <td>No</td>\n",
       "      <td>Thur</td>\n",
       "      <td>Lunch</td>\n",
       "      <td>2</td>\n",
       "    </tr>\n",
       "    <tr>\n",
       "      <th>123</th>\n",
       "      <td>15.95</td>\n",
       "      <td>2.00</td>\n",
       "      <td>Male</td>\n",
       "      <td>No</td>\n",
       "      <td>Thur</td>\n",
       "      <td>Lunch</td>\n",
       "      <td>2</td>\n",
       "    </tr>\n",
       "    <tr>\n",
       "      <th>124</th>\n",
       "      <td>12.48</td>\n",
       "      <td>2.52</td>\n",
       "      <td>Female</td>\n",
       "      <td>No</td>\n",
       "      <td>Thur</td>\n",
       "      <td>Lunch</td>\n",
       "      <td>2</td>\n",
       "    </tr>\n",
       "    <tr>\n",
       "      <th>125</th>\n",
       "      <td>29.80</td>\n",
       "      <td>4.20</td>\n",
       "      <td>Female</td>\n",
       "      <td>No</td>\n",
       "      <td>Thur</td>\n",
       "      <td>Lunch</td>\n",
       "      <td>6</td>\n",
       "    </tr>\n",
       "    <tr>\n",
       "      <th>126</th>\n",
       "      <td>8.52</td>\n",
       "      <td>1.48</td>\n",
       "      <td>Male</td>\n",
       "      <td>No</td>\n",
       "      <td>Thur</td>\n",
       "      <td>Lunch</td>\n",
       "      <td>2</td>\n",
       "    </tr>\n",
       "    <tr>\n",
       "      <th>127</th>\n",
       "      <td>14.52</td>\n",
       "      <td>2.00</td>\n",
       "      <td>Female</td>\n",
       "      <td>No</td>\n",
       "      <td>Thur</td>\n",
       "      <td>Lunch</td>\n",
       "      <td>2</td>\n",
       "    </tr>\n",
       "    <tr>\n",
       "      <th>128</th>\n",
       "      <td>11.38</td>\n",
       "      <td>2.00</td>\n",
       "      <td>Female</td>\n",
       "      <td>No</td>\n",
       "      <td>Thur</td>\n",
       "      <td>Lunch</td>\n",
       "      <td>2</td>\n",
       "    </tr>\n",
       "    <tr>\n",
       "      <th>129</th>\n",
       "      <td>22.82</td>\n",
       "      <td>2.18</td>\n",
       "      <td>Male</td>\n",
       "      <td>No</td>\n",
       "      <td>Thur</td>\n",
       "      <td>Lunch</td>\n",
       "      <td>3</td>\n",
       "    </tr>\n",
       "    <tr>\n",
       "      <th>130</th>\n",
       "      <td>19.08</td>\n",
       "      <td>1.50</td>\n",
       "      <td>Male</td>\n",
       "      <td>No</td>\n",
       "      <td>Thur</td>\n",
       "      <td>Lunch</td>\n",
       "      <td>2</td>\n",
       "    </tr>\n",
       "    <tr>\n",
       "      <th>131</th>\n",
       "      <td>20.27</td>\n",
       "      <td>2.83</td>\n",
       "      <td>Female</td>\n",
       "      <td>No</td>\n",
       "      <td>Thur</td>\n",
       "      <td>Lunch</td>\n",
       "      <td>2</td>\n",
       "    </tr>\n",
       "    <tr>\n",
       "      <th>132</th>\n",
       "      <td>11.17</td>\n",
       "      <td>1.50</td>\n",
       "      <td>Female</td>\n",
       "      <td>No</td>\n",
       "      <td>Thur</td>\n",
       "      <td>Lunch</td>\n",
       "      <td>2</td>\n",
       "    </tr>\n",
       "    <tr>\n",
       "      <th>133</th>\n",
       "      <td>12.26</td>\n",
       "      <td>2.00</td>\n",
       "      <td>Female</td>\n",
       "      <td>No</td>\n",
       "      <td>Thur</td>\n",
       "      <td>Lunch</td>\n",
       "      <td>2</td>\n",
       "    </tr>\n",
       "    <tr>\n",
       "      <th>134</th>\n",
       "      <td>18.26</td>\n",
       "      <td>3.25</td>\n",
       "      <td>Female</td>\n",
       "      <td>No</td>\n",
       "      <td>Thur</td>\n",
       "      <td>Lunch</td>\n",
       "      <td>2</td>\n",
       "    </tr>\n",
       "    <tr>\n",
       "      <th>135</th>\n",
       "      <td>8.51</td>\n",
       "      <td>1.25</td>\n",
       "      <td>Female</td>\n",
       "      <td>No</td>\n",
       "      <td>Thur</td>\n",
       "      <td>Lunch</td>\n",
       "      <td>2</td>\n",
       "    </tr>\n",
       "    <tr>\n",
       "      <th>136</th>\n",
       "      <td>10.33</td>\n",
       "      <td>2.00</td>\n",
       "      <td>Female</td>\n",
       "      <td>No</td>\n",
       "      <td>Thur</td>\n",
       "      <td>Lunch</td>\n",
       "      <td>2</td>\n",
       "    </tr>\n",
       "    <tr>\n",
       "      <th>137</th>\n",
       "      <td>14.15</td>\n",
       "      <td>2.00</td>\n",
       "      <td>Female</td>\n",
       "      <td>No</td>\n",
       "      <td>Thur</td>\n",
       "      <td>Lunch</td>\n",
       "      <td>2</td>\n",
       "    </tr>\n",
       "    <tr>\n",
       "      <th>138</th>\n",
       "      <td>16.00</td>\n",
       "      <td>2.00</td>\n",
       "      <td>Male</td>\n",
       "      <td>Yes</td>\n",
       "      <td>Thur</td>\n",
       "      <td>Lunch</td>\n",
       "      <td>2</td>\n",
       "    </tr>\n",
       "    <tr>\n",
       "      <th>139</th>\n",
       "      <td>13.16</td>\n",
       "      <td>2.75</td>\n",
       "      <td>Female</td>\n",
       "      <td>No</td>\n",
       "      <td>Thur</td>\n",
       "      <td>Lunch</td>\n",
       "      <td>2</td>\n",
       "    </tr>\n",
       "    <tr>\n",
       "      <th>140</th>\n",
       "      <td>17.47</td>\n",
       "      <td>3.50</td>\n",
       "      <td>Female</td>\n",
       "      <td>No</td>\n",
       "      <td>Thur</td>\n",
       "      <td>Lunch</td>\n",
       "      <td>2</td>\n",
       "    </tr>\n",
       "    <tr>\n",
       "      <th>141</th>\n",
       "      <td>34.30</td>\n",
       "      <td>6.70</td>\n",
       "      <td>Male</td>\n",
       "      <td>No</td>\n",
       "      <td>Thur</td>\n",
       "      <td>Lunch</td>\n",
       "      <td>6</td>\n",
       "    </tr>\n",
       "    <tr>\n",
       "      <th>142</th>\n",
       "      <td>41.19</td>\n",
       "      <td>5.00</td>\n",
       "      <td>Male</td>\n",
       "      <td>No</td>\n",
       "      <td>Thur</td>\n",
       "      <td>Lunch</td>\n",
       "      <td>5</td>\n",
       "    </tr>\n",
       "    <tr>\n",
       "      <th>143</th>\n",
       "      <td>27.05</td>\n",
       "      <td>5.00</td>\n",
       "      <td>Female</td>\n",
       "      <td>No</td>\n",
       "      <td>Thur</td>\n",
       "      <td>Lunch</td>\n",
       "      <td>6</td>\n",
       "    </tr>\n",
       "    <tr>\n",
       "      <th>144</th>\n",
       "      <td>16.43</td>\n",
       "      <td>2.30</td>\n",
       "      <td>Female</td>\n",
       "      <td>No</td>\n",
       "      <td>Thur</td>\n",
       "      <td>Lunch</td>\n",
       "      <td>2</td>\n",
       "    </tr>\n",
       "    <tr>\n",
       "      <th>145</th>\n",
       "      <td>8.35</td>\n",
       "      <td>1.50</td>\n",
       "      <td>Female</td>\n",
       "      <td>No</td>\n",
       "      <td>Thur</td>\n",
       "      <td>Lunch</td>\n",
       "      <td>2</td>\n",
       "    </tr>\n",
       "    <tr>\n",
       "      <th>146</th>\n",
       "      <td>18.64</td>\n",
       "      <td>1.36</td>\n",
       "      <td>Female</td>\n",
       "      <td>No</td>\n",
       "      <td>Thur</td>\n",
       "      <td>Lunch</td>\n",
       "      <td>3</td>\n",
       "    </tr>\n",
       "    <tr>\n",
       "      <th>147</th>\n",
       "      <td>11.87</td>\n",
       "      <td>1.63</td>\n",
       "      <td>Female</td>\n",
       "      <td>No</td>\n",
       "      <td>Thur</td>\n",
       "      <td>Lunch</td>\n",
       "      <td>2</td>\n",
       "    </tr>\n",
       "    <tr>\n",
       "      <th>148</th>\n",
       "      <td>9.78</td>\n",
       "      <td>1.73</td>\n",
       "      <td>Male</td>\n",
       "      <td>No</td>\n",
       "      <td>Thur</td>\n",
       "      <td>Lunch</td>\n",
       "      <td>2</td>\n",
       "    </tr>\n",
       "    <tr>\n",
       "      <th>149</th>\n",
       "      <td>7.51</td>\n",
       "      <td>2.00</td>\n",
       "      <td>Male</td>\n",
       "      <td>No</td>\n",
       "      <td>Thur</td>\n",
       "      <td>Lunch</td>\n",
       "      <td>2</td>\n",
       "    </tr>\n",
       "    <tr>\n",
       "      <th>150</th>\n",
       "      <td>14.07</td>\n",
       "      <td>2.50</td>\n",
       "      <td>Male</td>\n",
       "      <td>No</td>\n",
       "      <td>Sun</td>\n",
       "      <td>Dinner</td>\n",
       "      <td>2</td>\n",
       "    </tr>\n",
       "    <tr>\n",
       "      <th>151</th>\n",
       "      <td>13.13</td>\n",
       "      <td>2.00</td>\n",
       "      <td>Male</td>\n",
       "      <td>No</td>\n",
       "      <td>Sun</td>\n",
       "      <td>Dinner</td>\n",
       "      <td>2</td>\n",
       "    </tr>\n",
       "    <tr>\n",
       "      <th>152</th>\n",
       "      <td>17.26</td>\n",
       "      <td>2.74</td>\n",
       "      <td>Male</td>\n",
       "      <td>No</td>\n",
       "      <td>Sun</td>\n",
       "      <td>Dinner</td>\n",
       "      <td>3</td>\n",
       "    </tr>\n",
       "    <tr>\n",
       "      <th>153</th>\n",
       "      <td>24.55</td>\n",
       "      <td>2.00</td>\n",
       "      <td>Male</td>\n",
       "      <td>No</td>\n",
       "      <td>Sun</td>\n",
       "      <td>Dinner</td>\n",
       "      <td>4</td>\n",
       "    </tr>\n",
       "    <tr>\n",
       "      <th>154</th>\n",
       "      <td>19.77</td>\n",
       "      <td>2.00</td>\n",
       "      <td>Male</td>\n",
       "      <td>No</td>\n",
       "      <td>Sun</td>\n",
       "      <td>Dinner</td>\n",
       "      <td>4</td>\n",
       "    </tr>\n",
       "    <tr>\n",
       "      <th>155</th>\n",
       "      <td>29.85</td>\n",
       "      <td>5.14</td>\n",
       "      <td>Female</td>\n",
       "      <td>No</td>\n",
       "      <td>Sun</td>\n",
       "      <td>Dinner</td>\n",
       "      <td>5</td>\n",
       "    </tr>\n",
       "    <tr>\n",
       "      <th>156</th>\n",
       "      <td>48.17</td>\n",
       "      <td>5.00</td>\n",
       "      <td>Male</td>\n",
       "      <td>No</td>\n",
       "      <td>Sun</td>\n",
       "      <td>Dinner</td>\n",
       "      <td>6</td>\n",
       "    </tr>\n",
       "    <tr>\n",
       "      <th>157</th>\n",
       "      <td>25.00</td>\n",
       "      <td>3.75</td>\n",
       "      <td>Female</td>\n",
       "      <td>No</td>\n",
       "      <td>Sun</td>\n",
       "      <td>Dinner</td>\n",
       "      <td>4</td>\n",
       "    </tr>\n",
       "    <tr>\n",
       "      <th>158</th>\n",
       "      <td>13.39</td>\n",
       "      <td>2.61</td>\n",
       "      <td>Female</td>\n",
       "      <td>No</td>\n",
       "      <td>Sun</td>\n",
       "      <td>Dinner</td>\n",
       "      <td>2</td>\n",
       "    </tr>\n",
       "    <tr>\n",
       "      <th>159</th>\n",
       "      <td>16.49</td>\n",
       "      <td>2.00</td>\n",
       "      <td>Male</td>\n",
       "      <td>No</td>\n",
       "      <td>Sun</td>\n",
       "      <td>Dinner</td>\n",
       "      <td>4</td>\n",
       "    </tr>\n",
       "    <tr>\n",
       "      <th>160</th>\n",
       "      <td>21.50</td>\n",
       "      <td>3.50</td>\n",
       "      <td>Male</td>\n",
       "      <td>No</td>\n",
       "      <td>Sun</td>\n",
       "      <td>Dinner</td>\n",
       "      <td>4</td>\n",
       "    </tr>\n",
       "    <tr>\n",
       "      <th>161</th>\n",
       "      <td>12.66</td>\n",
       "      <td>2.50</td>\n",
       "      <td>Male</td>\n",
       "      <td>No</td>\n",
       "      <td>Sun</td>\n",
       "      <td>Dinner</td>\n",
       "      <td>2</td>\n",
       "    </tr>\n",
       "    <tr>\n",
       "      <th>162</th>\n",
       "      <td>16.21</td>\n",
       "      <td>2.00</td>\n",
       "      <td>Female</td>\n",
       "      <td>No</td>\n",
       "      <td>Sun</td>\n",
       "      <td>Dinner</td>\n",
       "      <td>3</td>\n",
       "    </tr>\n",
       "    <tr>\n",
       "      <th>163</th>\n",
       "      <td>13.81</td>\n",
       "      <td>2.00</td>\n",
       "      <td>Male</td>\n",
       "      <td>No</td>\n",
       "      <td>Sun</td>\n",
       "      <td>Dinner</td>\n",
       "      <td>2</td>\n",
       "    </tr>\n",
       "    <tr>\n",
       "      <th>164</th>\n",
       "      <td>17.51</td>\n",
       "      <td>3.00</td>\n",
       "      <td>Female</td>\n",
       "      <td>Yes</td>\n",
       "      <td>Sun</td>\n",
       "      <td>Dinner</td>\n",
       "      <td>2</td>\n",
       "    </tr>\n",
       "    <tr>\n",
       "      <th>165</th>\n",
       "      <td>24.52</td>\n",
       "      <td>3.48</td>\n",
       "      <td>Male</td>\n",
       "      <td>No</td>\n",
       "      <td>Sun</td>\n",
       "      <td>Dinner</td>\n",
       "      <td>3</td>\n",
       "    </tr>\n",
       "    <tr>\n",
       "      <th>166</th>\n",
       "      <td>20.76</td>\n",
       "      <td>2.24</td>\n",
       "      <td>Male</td>\n",
       "      <td>No</td>\n",
       "      <td>Sun</td>\n",
       "      <td>Dinner</td>\n",
       "      <td>2</td>\n",
       "    </tr>\n",
       "    <tr>\n",
       "      <th>167</th>\n",
       "      <td>31.71</td>\n",
       "      <td>4.50</td>\n",
       "      <td>Male</td>\n",
       "      <td>No</td>\n",
       "      <td>Sun</td>\n",
       "      <td>Dinner</td>\n",
       "      <td>4</td>\n",
       "    </tr>\n",
       "    <tr>\n",
       "      <th>168</th>\n",
       "      <td>10.59</td>\n",
       "      <td>1.61</td>\n",
       "      <td>Female</td>\n",
       "      <td>Yes</td>\n",
       "      <td>Sat</td>\n",
       "      <td>Dinner</td>\n",
       "      <td>2</td>\n",
       "    </tr>\n",
       "    <tr>\n",
       "      <th>169</th>\n",
       "      <td>10.63</td>\n",
       "      <td>2.00</td>\n",
       "      <td>Female</td>\n",
       "      <td>Yes</td>\n",
       "      <td>Sat</td>\n",
       "      <td>Dinner</td>\n",
       "      <td>2</td>\n",
       "    </tr>\n",
       "    <tr>\n",
       "      <th>170</th>\n",
       "      <td>50.81</td>\n",
       "      <td>10.00</td>\n",
       "      <td>Male</td>\n",
       "      <td>Yes</td>\n",
       "      <td>Sat</td>\n",
       "      <td>Dinner</td>\n",
       "      <td>3</td>\n",
       "    </tr>\n",
       "    <tr>\n",
       "      <th>171</th>\n",
       "      <td>15.81</td>\n",
       "      <td>3.16</td>\n",
       "      <td>Male</td>\n",
       "      <td>Yes</td>\n",
       "      <td>Sat</td>\n",
       "      <td>Dinner</td>\n",
       "      <td>2</td>\n",
       "    </tr>\n",
       "    <tr>\n",
       "      <th>172</th>\n",
       "      <td>7.25</td>\n",
       "      <td>5.15</td>\n",
       "      <td>Male</td>\n",
       "      <td>Yes</td>\n",
       "      <td>Sun</td>\n",
       "      <td>Dinner</td>\n",
       "      <td>2</td>\n",
       "    </tr>\n",
       "    <tr>\n",
       "      <th>173</th>\n",
       "      <td>31.85</td>\n",
       "      <td>3.18</td>\n",
       "      <td>Male</td>\n",
       "      <td>Yes</td>\n",
       "      <td>Sun</td>\n",
       "      <td>Dinner</td>\n",
       "      <td>2</td>\n",
       "    </tr>\n",
       "    <tr>\n",
       "      <th>174</th>\n",
       "      <td>16.82</td>\n",
       "      <td>4.00</td>\n",
       "      <td>Male</td>\n",
       "      <td>Yes</td>\n",
       "      <td>Sun</td>\n",
       "      <td>Dinner</td>\n",
       "      <td>2</td>\n",
       "    </tr>\n",
       "    <tr>\n",
       "      <th>175</th>\n",
       "      <td>32.90</td>\n",
       "      <td>3.11</td>\n",
       "      <td>Male</td>\n",
       "      <td>Yes</td>\n",
       "      <td>Sun</td>\n",
       "      <td>Dinner</td>\n",
       "      <td>2</td>\n",
       "    </tr>\n",
       "    <tr>\n",
       "      <th>176</th>\n",
       "      <td>17.89</td>\n",
       "      <td>2.00</td>\n",
       "      <td>Male</td>\n",
       "      <td>Yes</td>\n",
       "      <td>Sun</td>\n",
       "      <td>Dinner</td>\n",
       "      <td>2</td>\n",
       "    </tr>\n",
       "    <tr>\n",
       "      <th>177</th>\n",
       "      <td>14.48</td>\n",
       "      <td>2.00</td>\n",
       "      <td>Male</td>\n",
       "      <td>Yes</td>\n",
       "      <td>Sun</td>\n",
       "      <td>Dinner</td>\n",
       "      <td>2</td>\n",
       "    </tr>\n",
       "    <tr>\n",
       "      <th>178</th>\n",
       "      <td>9.60</td>\n",
       "      <td>4.00</td>\n",
       "      <td>Female</td>\n",
       "      <td>Yes</td>\n",
       "      <td>Sun</td>\n",
       "      <td>Dinner</td>\n",
       "      <td>2</td>\n",
       "    </tr>\n",
       "    <tr>\n",
       "      <th>179</th>\n",
       "      <td>34.63</td>\n",
       "      <td>3.55</td>\n",
       "      <td>Male</td>\n",
       "      <td>Yes</td>\n",
       "      <td>Sun</td>\n",
       "      <td>Dinner</td>\n",
       "      <td>2</td>\n",
       "    </tr>\n",
       "    <tr>\n",
       "      <th>180</th>\n",
       "      <td>34.65</td>\n",
       "      <td>3.68</td>\n",
       "      <td>Male</td>\n",
       "      <td>Yes</td>\n",
       "      <td>Sun</td>\n",
       "      <td>Dinner</td>\n",
       "      <td>4</td>\n",
       "    </tr>\n",
       "    <tr>\n",
       "      <th>181</th>\n",
       "      <td>23.33</td>\n",
       "      <td>5.65</td>\n",
       "      <td>Male</td>\n",
       "      <td>Yes</td>\n",
       "      <td>Sun</td>\n",
       "      <td>Dinner</td>\n",
       "      <td>2</td>\n",
       "    </tr>\n",
       "    <tr>\n",
       "      <th>182</th>\n",
       "      <td>45.35</td>\n",
       "      <td>3.50</td>\n",
       "      <td>Male</td>\n",
       "      <td>Yes</td>\n",
       "      <td>Sun</td>\n",
       "      <td>Dinner</td>\n",
       "      <td>3</td>\n",
       "    </tr>\n",
       "    <tr>\n",
       "      <th>183</th>\n",
       "      <td>23.17</td>\n",
       "      <td>6.50</td>\n",
       "      <td>Male</td>\n",
       "      <td>Yes</td>\n",
       "      <td>Sun</td>\n",
       "      <td>Dinner</td>\n",
       "      <td>4</td>\n",
       "    </tr>\n",
       "    <tr>\n",
       "      <th>184</th>\n",
       "      <td>40.55</td>\n",
       "      <td>3.00</td>\n",
       "      <td>Male</td>\n",
       "      <td>Yes</td>\n",
       "      <td>Sun</td>\n",
       "      <td>Dinner</td>\n",
       "      <td>2</td>\n",
       "    </tr>\n",
       "    <tr>\n",
       "      <th>185</th>\n",
       "      <td>20.69</td>\n",
       "      <td>5.00</td>\n",
       "      <td>Male</td>\n",
       "      <td>No</td>\n",
       "      <td>Sun</td>\n",
       "      <td>Dinner</td>\n",
       "      <td>5</td>\n",
       "    </tr>\n",
       "    <tr>\n",
       "      <th>186</th>\n",
       "      <td>20.90</td>\n",
       "      <td>3.50</td>\n",
       "      <td>Female</td>\n",
       "      <td>Yes</td>\n",
       "      <td>Sun</td>\n",
       "      <td>Dinner</td>\n",
       "      <td>3</td>\n",
       "    </tr>\n",
       "    <tr>\n",
       "      <th>187</th>\n",
       "      <td>30.46</td>\n",
       "      <td>2.00</td>\n",
       "      <td>Male</td>\n",
       "      <td>Yes</td>\n",
       "      <td>Sun</td>\n",
       "      <td>Dinner</td>\n",
       "      <td>5</td>\n",
       "    </tr>\n",
       "    <tr>\n",
       "      <th>188</th>\n",
       "      <td>18.15</td>\n",
       "      <td>3.50</td>\n",
       "      <td>Female</td>\n",
       "      <td>Yes</td>\n",
       "      <td>Sun</td>\n",
       "      <td>Dinner</td>\n",
       "      <td>3</td>\n",
       "    </tr>\n",
       "    <tr>\n",
       "      <th>189</th>\n",
       "      <td>23.10</td>\n",
       "      <td>4.00</td>\n",
       "      <td>Male</td>\n",
       "      <td>Yes</td>\n",
       "      <td>Sun</td>\n",
       "      <td>Dinner</td>\n",
       "      <td>3</td>\n",
       "    </tr>\n",
       "    <tr>\n",
       "      <th>190</th>\n",
       "      <td>15.69</td>\n",
       "      <td>1.50</td>\n",
       "      <td>Male</td>\n",
       "      <td>Yes</td>\n",
       "      <td>Sun</td>\n",
       "      <td>Dinner</td>\n",
       "      <td>2</td>\n",
       "    </tr>\n",
       "    <tr>\n",
       "      <th>191</th>\n",
       "      <td>19.81</td>\n",
       "      <td>4.19</td>\n",
       "      <td>Female</td>\n",
       "      <td>Yes</td>\n",
       "      <td>Thur</td>\n",
       "      <td>Lunch</td>\n",
       "      <td>2</td>\n",
       "    </tr>\n",
       "    <tr>\n",
       "      <th>192</th>\n",
       "      <td>28.44</td>\n",
       "      <td>2.56</td>\n",
       "      <td>Male</td>\n",
       "      <td>Yes</td>\n",
       "      <td>Thur</td>\n",
       "      <td>Lunch</td>\n",
       "      <td>2</td>\n",
       "    </tr>\n",
       "    <tr>\n",
       "      <th>193</th>\n",
       "      <td>15.48</td>\n",
       "      <td>2.02</td>\n",
       "      <td>Male</td>\n",
       "      <td>Yes</td>\n",
       "      <td>Thur</td>\n",
       "      <td>Lunch</td>\n",
       "      <td>2</td>\n",
       "    </tr>\n",
       "    <tr>\n",
       "      <th>194</th>\n",
       "      <td>16.58</td>\n",
       "      <td>4.00</td>\n",
       "      <td>Male</td>\n",
       "      <td>Yes</td>\n",
       "      <td>Thur</td>\n",
       "      <td>Lunch</td>\n",
       "      <td>2</td>\n",
       "    </tr>\n",
       "    <tr>\n",
       "      <th>195</th>\n",
       "      <td>7.56</td>\n",
       "      <td>1.44</td>\n",
       "      <td>Male</td>\n",
       "      <td>No</td>\n",
       "      <td>Thur</td>\n",
       "      <td>Lunch</td>\n",
       "      <td>2</td>\n",
       "    </tr>\n",
       "    <tr>\n",
       "      <th>196</th>\n",
       "      <td>10.34</td>\n",
       "      <td>2.00</td>\n",
       "      <td>Male</td>\n",
       "      <td>Yes</td>\n",
       "      <td>Thur</td>\n",
       "      <td>Lunch</td>\n",
       "      <td>2</td>\n",
       "    </tr>\n",
       "    <tr>\n",
       "      <th>197</th>\n",
       "      <td>43.11</td>\n",
       "      <td>5.00</td>\n",
       "      <td>Female</td>\n",
       "      <td>Yes</td>\n",
       "      <td>Thur</td>\n",
       "      <td>Lunch</td>\n",
       "      <td>4</td>\n",
       "    </tr>\n",
       "    <tr>\n",
       "      <th>198</th>\n",
       "      <td>13.00</td>\n",
       "      <td>2.00</td>\n",
       "      <td>Female</td>\n",
       "      <td>Yes</td>\n",
       "      <td>Thur</td>\n",
       "      <td>Lunch</td>\n",
       "      <td>2</td>\n",
       "    </tr>\n",
       "    <tr>\n",
       "      <th>199</th>\n",
       "      <td>13.51</td>\n",
       "      <td>2.00</td>\n",
       "      <td>Male</td>\n",
       "      <td>Yes</td>\n",
       "      <td>Thur</td>\n",
       "      <td>Lunch</td>\n",
       "      <td>2</td>\n",
       "    </tr>\n",
       "    <tr>\n",
       "      <th>200</th>\n",
       "      <td>18.71</td>\n",
       "      <td>4.00</td>\n",
       "      <td>Male</td>\n",
       "      <td>Yes</td>\n",
       "      <td>Thur</td>\n",
       "      <td>Lunch</td>\n",
       "      <td>3</td>\n",
       "    </tr>\n",
       "    <tr>\n",
       "      <th>201</th>\n",
       "      <td>12.74</td>\n",
       "      <td>2.01</td>\n",
       "      <td>Female</td>\n",
       "      <td>Yes</td>\n",
       "      <td>Thur</td>\n",
       "      <td>Lunch</td>\n",
       "      <td>2</td>\n",
       "    </tr>\n",
       "    <tr>\n",
       "      <th>202</th>\n",
       "      <td>13.00</td>\n",
       "      <td>2.00</td>\n",
       "      <td>Female</td>\n",
       "      <td>Yes</td>\n",
       "      <td>Thur</td>\n",
       "      <td>Lunch</td>\n",
       "      <td>2</td>\n",
       "    </tr>\n",
       "    <tr>\n",
       "      <th>203</th>\n",
       "      <td>16.40</td>\n",
       "      <td>2.50</td>\n",
       "      <td>Female</td>\n",
       "      <td>Yes</td>\n",
       "      <td>Thur</td>\n",
       "      <td>Lunch</td>\n",
       "      <td>2</td>\n",
       "    </tr>\n",
       "    <tr>\n",
       "      <th>204</th>\n",
       "      <td>20.53</td>\n",
       "      <td>4.00</td>\n",
       "      <td>Male</td>\n",
       "      <td>Yes</td>\n",
       "      <td>Thur</td>\n",
       "      <td>Lunch</td>\n",
       "      <td>4</td>\n",
       "    </tr>\n",
       "    <tr>\n",
       "      <th>205</th>\n",
       "      <td>16.47</td>\n",
       "      <td>3.23</td>\n",
       "      <td>Female</td>\n",
       "      <td>Yes</td>\n",
       "      <td>Thur</td>\n",
       "      <td>Lunch</td>\n",
       "      <td>3</td>\n",
       "    </tr>\n",
       "    <tr>\n",
       "      <th>206</th>\n",
       "      <td>26.59</td>\n",
       "      <td>3.41</td>\n",
       "      <td>Male</td>\n",
       "      <td>Yes</td>\n",
       "      <td>Sat</td>\n",
       "      <td>Dinner</td>\n",
       "      <td>3</td>\n",
       "    </tr>\n",
       "    <tr>\n",
       "      <th>207</th>\n",
       "      <td>38.73</td>\n",
       "      <td>3.00</td>\n",
       "      <td>Male</td>\n",
       "      <td>Yes</td>\n",
       "      <td>Sat</td>\n",
       "      <td>Dinner</td>\n",
       "      <td>4</td>\n",
       "    </tr>\n",
       "    <tr>\n",
       "      <th>208</th>\n",
       "      <td>24.27</td>\n",
       "      <td>2.03</td>\n",
       "      <td>Male</td>\n",
       "      <td>Yes</td>\n",
       "      <td>Sat</td>\n",
       "      <td>Dinner</td>\n",
       "      <td>2</td>\n",
       "    </tr>\n",
       "    <tr>\n",
       "      <th>209</th>\n",
       "      <td>12.76</td>\n",
       "      <td>2.23</td>\n",
       "      <td>Female</td>\n",
       "      <td>Yes</td>\n",
       "      <td>Sat</td>\n",
       "      <td>Dinner</td>\n",
       "      <td>2</td>\n",
       "    </tr>\n",
       "    <tr>\n",
       "      <th>210</th>\n",
       "      <td>30.06</td>\n",
       "      <td>2.00</td>\n",
       "      <td>Male</td>\n",
       "      <td>Yes</td>\n",
       "      <td>Sat</td>\n",
       "      <td>Dinner</td>\n",
       "      <td>3</td>\n",
       "    </tr>\n",
       "    <tr>\n",
       "      <th>211</th>\n",
       "      <td>25.89</td>\n",
       "      <td>5.16</td>\n",
       "      <td>Male</td>\n",
       "      <td>Yes</td>\n",
       "      <td>Sat</td>\n",
       "      <td>Dinner</td>\n",
       "      <td>4</td>\n",
       "    </tr>\n",
       "    <tr>\n",
       "      <th>212</th>\n",
       "      <td>48.33</td>\n",
       "      <td>9.00</td>\n",
       "      <td>Male</td>\n",
       "      <td>No</td>\n",
       "      <td>Sat</td>\n",
       "      <td>Dinner</td>\n",
       "      <td>4</td>\n",
       "    </tr>\n",
       "    <tr>\n",
       "      <th>213</th>\n",
       "      <td>13.27</td>\n",
       "      <td>2.50</td>\n",
       "      <td>Female</td>\n",
       "      <td>Yes</td>\n",
       "      <td>Sat</td>\n",
       "      <td>Dinner</td>\n",
       "      <td>2</td>\n",
       "    </tr>\n",
       "    <tr>\n",
       "      <th>214</th>\n",
       "      <td>28.17</td>\n",
       "      <td>6.50</td>\n",
       "      <td>Female</td>\n",
       "      <td>Yes</td>\n",
       "      <td>Sat</td>\n",
       "      <td>Dinner</td>\n",
       "      <td>3</td>\n",
       "    </tr>\n",
       "    <tr>\n",
       "      <th>215</th>\n",
       "      <td>12.90</td>\n",
       "      <td>1.10</td>\n",
       "      <td>Female</td>\n",
       "      <td>Yes</td>\n",
       "      <td>Sat</td>\n",
       "      <td>Dinner</td>\n",
       "      <td>2</td>\n",
       "    </tr>\n",
       "    <tr>\n",
       "      <th>216</th>\n",
       "      <td>28.15</td>\n",
       "      <td>3.00</td>\n",
       "      <td>Male</td>\n",
       "      <td>Yes</td>\n",
       "      <td>Sat</td>\n",
       "      <td>Dinner</td>\n",
       "      <td>5</td>\n",
       "    </tr>\n",
       "    <tr>\n",
       "      <th>217</th>\n",
       "      <td>11.59</td>\n",
       "      <td>1.50</td>\n",
       "      <td>Male</td>\n",
       "      <td>Yes</td>\n",
       "      <td>Sat</td>\n",
       "      <td>Dinner</td>\n",
       "      <td>2</td>\n",
       "    </tr>\n",
       "    <tr>\n",
       "      <th>218</th>\n",
       "      <td>7.74</td>\n",
       "      <td>1.44</td>\n",
       "      <td>Male</td>\n",
       "      <td>Yes</td>\n",
       "      <td>Sat</td>\n",
       "      <td>Dinner</td>\n",
       "      <td>2</td>\n",
       "    </tr>\n",
       "    <tr>\n",
       "      <th>219</th>\n",
       "      <td>30.14</td>\n",
       "      <td>3.09</td>\n",
       "      <td>Female</td>\n",
       "      <td>Yes</td>\n",
       "      <td>Sat</td>\n",
       "      <td>Dinner</td>\n",
       "      <td>4</td>\n",
       "    </tr>\n",
       "    <tr>\n",
       "      <th>220</th>\n",
       "      <td>12.16</td>\n",
       "      <td>2.20</td>\n",
       "      <td>Male</td>\n",
       "      <td>Yes</td>\n",
       "      <td>Fri</td>\n",
       "      <td>Lunch</td>\n",
       "      <td>2</td>\n",
       "    </tr>\n",
       "    <tr>\n",
       "      <th>221</th>\n",
       "      <td>13.42</td>\n",
       "      <td>3.48</td>\n",
       "      <td>Female</td>\n",
       "      <td>Yes</td>\n",
       "      <td>Fri</td>\n",
       "      <td>Lunch</td>\n",
       "      <td>2</td>\n",
       "    </tr>\n",
       "    <tr>\n",
       "      <th>222</th>\n",
       "      <td>8.58</td>\n",
       "      <td>1.92</td>\n",
       "      <td>Male</td>\n",
       "      <td>Yes</td>\n",
       "      <td>Fri</td>\n",
       "      <td>Lunch</td>\n",
       "      <td>1</td>\n",
       "    </tr>\n",
       "    <tr>\n",
       "      <th>223</th>\n",
       "      <td>15.98</td>\n",
       "      <td>3.00</td>\n",
       "      <td>Female</td>\n",
       "      <td>No</td>\n",
       "      <td>Fri</td>\n",
       "      <td>Lunch</td>\n",
       "      <td>3</td>\n",
       "    </tr>\n",
       "    <tr>\n",
       "      <th>224</th>\n",
       "      <td>13.42</td>\n",
       "      <td>1.58</td>\n",
       "      <td>Male</td>\n",
       "      <td>Yes</td>\n",
       "      <td>Fri</td>\n",
       "      <td>Lunch</td>\n",
       "      <td>2</td>\n",
       "    </tr>\n",
       "    <tr>\n",
       "      <th>225</th>\n",
       "      <td>16.27</td>\n",
       "      <td>2.50</td>\n",
       "      <td>Female</td>\n",
       "      <td>Yes</td>\n",
       "      <td>Fri</td>\n",
       "      <td>Lunch</td>\n",
       "      <td>2</td>\n",
       "    </tr>\n",
       "    <tr>\n",
       "      <th>226</th>\n",
       "      <td>10.09</td>\n",
       "      <td>2.00</td>\n",
       "      <td>Female</td>\n",
       "      <td>Yes</td>\n",
       "      <td>Fri</td>\n",
       "      <td>Lunch</td>\n",
       "      <td>2</td>\n",
       "    </tr>\n",
       "    <tr>\n",
       "      <th>227</th>\n",
       "      <td>20.45</td>\n",
       "      <td>3.00</td>\n",
       "      <td>Male</td>\n",
       "      <td>No</td>\n",
       "      <td>Sat</td>\n",
       "      <td>Dinner</td>\n",
       "      <td>4</td>\n",
       "    </tr>\n",
       "    <tr>\n",
       "      <th>228</th>\n",
       "      <td>13.28</td>\n",
       "      <td>2.72</td>\n",
       "      <td>Male</td>\n",
       "      <td>No</td>\n",
       "      <td>Sat</td>\n",
       "      <td>Dinner</td>\n",
       "      <td>2</td>\n",
       "    </tr>\n",
       "    <tr>\n",
       "      <th>229</th>\n",
       "      <td>22.12</td>\n",
       "      <td>2.88</td>\n",
       "      <td>Female</td>\n",
       "      <td>Yes</td>\n",
       "      <td>Sat</td>\n",
       "      <td>Dinner</td>\n",
       "      <td>2</td>\n",
       "    </tr>\n",
       "    <tr>\n",
       "      <th>230</th>\n",
       "      <td>24.01</td>\n",
       "      <td>2.00</td>\n",
       "      <td>Male</td>\n",
       "      <td>Yes</td>\n",
       "      <td>Sat</td>\n",
       "      <td>Dinner</td>\n",
       "      <td>4</td>\n",
       "    </tr>\n",
       "    <tr>\n",
       "      <th>231</th>\n",
       "      <td>15.69</td>\n",
       "      <td>3.00</td>\n",
       "      <td>Male</td>\n",
       "      <td>Yes</td>\n",
       "      <td>Sat</td>\n",
       "      <td>Dinner</td>\n",
       "      <td>3</td>\n",
       "    </tr>\n",
       "    <tr>\n",
       "      <th>232</th>\n",
       "      <td>11.61</td>\n",
       "      <td>3.39</td>\n",
       "      <td>Male</td>\n",
       "      <td>No</td>\n",
       "      <td>Sat</td>\n",
       "      <td>Dinner</td>\n",
       "      <td>2</td>\n",
       "    </tr>\n",
       "    <tr>\n",
       "      <th>233</th>\n",
       "      <td>10.77</td>\n",
       "      <td>1.47</td>\n",
       "      <td>Male</td>\n",
       "      <td>No</td>\n",
       "      <td>Sat</td>\n",
       "      <td>Dinner</td>\n",
       "      <td>2</td>\n",
       "    </tr>\n",
       "    <tr>\n",
       "      <th>234</th>\n",
       "      <td>15.53</td>\n",
       "      <td>3.00</td>\n",
       "      <td>Male</td>\n",
       "      <td>Yes</td>\n",
       "      <td>Sat</td>\n",
       "      <td>Dinner</td>\n",
       "      <td>2</td>\n",
       "    </tr>\n",
       "    <tr>\n",
       "      <th>235</th>\n",
       "      <td>10.07</td>\n",
       "      <td>1.25</td>\n",
       "      <td>Male</td>\n",
       "      <td>No</td>\n",
       "      <td>Sat</td>\n",
       "      <td>Dinner</td>\n",
       "      <td>2</td>\n",
       "    </tr>\n",
       "    <tr>\n",
       "      <th>236</th>\n",
       "      <td>12.60</td>\n",
       "      <td>1.00</td>\n",
       "      <td>Male</td>\n",
       "      <td>Yes</td>\n",
       "      <td>Sat</td>\n",
       "      <td>Dinner</td>\n",
       "      <td>2</td>\n",
       "    </tr>\n",
       "    <tr>\n",
       "      <th>237</th>\n",
       "      <td>32.83</td>\n",
       "      <td>1.17</td>\n",
       "      <td>Male</td>\n",
       "      <td>Yes</td>\n",
       "      <td>Sat</td>\n",
       "      <td>Dinner</td>\n",
       "      <td>2</td>\n",
       "    </tr>\n",
       "    <tr>\n",
       "      <th>238</th>\n",
       "      <td>35.83</td>\n",
       "      <td>4.67</td>\n",
       "      <td>Female</td>\n",
       "      <td>No</td>\n",
       "      <td>Sat</td>\n",
       "      <td>Dinner</td>\n",
       "      <td>3</td>\n",
       "    </tr>\n",
       "    <tr>\n",
       "      <th>239</th>\n",
       "      <td>29.03</td>\n",
       "      <td>5.92</td>\n",
       "      <td>Male</td>\n",
       "      <td>No</td>\n",
       "      <td>Sat</td>\n",
       "      <td>Dinner</td>\n",
       "      <td>3</td>\n",
       "    </tr>\n",
       "    <tr>\n",
       "      <th>240</th>\n",
       "      <td>27.18</td>\n",
       "      <td>2.00</td>\n",
       "      <td>Female</td>\n",
       "      <td>Yes</td>\n",
       "      <td>Sat</td>\n",
       "      <td>Dinner</td>\n",
       "      <td>2</td>\n",
       "    </tr>\n",
       "    <tr>\n",
       "      <th>241</th>\n",
       "      <td>22.67</td>\n",
       "      <td>2.00</td>\n",
       "      <td>Male</td>\n",
       "      <td>Yes</td>\n",
       "      <td>Sat</td>\n",
       "      <td>Dinner</td>\n",
       "      <td>2</td>\n",
       "    </tr>\n",
       "    <tr>\n",
       "      <th>242</th>\n",
       "      <td>17.82</td>\n",
       "      <td>1.75</td>\n",
       "      <td>Male</td>\n",
       "      <td>No</td>\n",
       "      <td>Sat</td>\n",
       "      <td>Dinner</td>\n",
       "      <td>2</td>\n",
       "    </tr>\n",
       "    <tr>\n",
       "      <th>243</th>\n",
       "      <td>18.78</td>\n",
       "      <td>3.00</td>\n",
       "      <td>Female</td>\n",
       "      <td>No</td>\n",
       "      <td>Thur</td>\n",
       "      <td>Dinner</td>\n",
       "      <td>2</td>\n",
       "    </tr>\n",
       "  </tbody>\n",
       "</table>\n",
       "</div>"
      ],
      "text/plain": [
       "     total_bill    tip     sex smoker   day    time  size\n",
       "0         16.99   1.01  Female     No   Sun  Dinner     2\n",
       "1         10.34   1.66    Male     No   Sun  Dinner     3\n",
       "2         21.01   3.50    Male     No   Sun  Dinner     3\n",
       "3         23.68   3.31    Male     No   Sun  Dinner     2\n",
       "4         24.59   3.61  Female     No   Sun  Dinner     4\n",
       "5         25.29   4.71    Male     No   Sun  Dinner     4\n",
       "6          8.77   2.00    Male     No   Sun  Dinner     2\n",
       "7         26.88   3.12    Male     No   Sun  Dinner     4\n",
       "8         15.04   1.96    Male     No   Sun  Dinner     2\n",
       "9         14.78   3.23    Male     No   Sun  Dinner     2\n",
       "10        10.27   1.71    Male     No   Sun  Dinner     2\n",
       "11        35.26   5.00  Female     No   Sun  Dinner     4\n",
       "12        15.42   1.57    Male     No   Sun  Dinner     2\n",
       "13        18.43   3.00    Male     No   Sun  Dinner     4\n",
       "14        14.83   3.02  Female     No   Sun  Dinner     2\n",
       "15        21.58   3.92    Male     No   Sun  Dinner     2\n",
       "16        10.33   1.67  Female     No   Sun  Dinner     3\n",
       "17        16.29   3.71    Male     No   Sun  Dinner     3\n",
       "18        16.97   3.50  Female     No   Sun  Dinner     3\n",
       "19        20.65   3.35    Male     No   Sat  Dinner     3\n",
       "20        17.92   4.08    Male     No   Sat  Dinner     2\n",
       "21        20.29   2.75  Female     No   Sat  Dinner     2\n",
       "22        15.77   2.23  Female     No   Sat  Dinner     2\n",
       "23        39.42   7.58    Male     No   Sat  Dinner     4\n",
       "24        19.82   3.18    Male     No   Sat  Dinner     2\n",
       "25        17.81   2.34    Male     No   Sat  Dinner     4\n",
       "26        13.37   2.00    Male     No   Sat  Dinner     2\n",
       "27        12.69   2.00    Male     No   Sat  Dinner     2\n",
       "28        21.70   4.30    Male     No   Sat  Dinner     2\n",
       "29        19.65   3.00  Female     No   Sat  Dinner     2\n",
       "30         9.55   1.45    Male     No   Sat  Dinner     2\n",
       "31        18.35   2.50    Male     No   Sat  Dinner     4\n",
       "32        15.06   3.00  Female     No   Sat  Dinner     2\n",
       "33        20.69   2.45  Female     No   Sat  Dinner     4\n",
       "34        17.78   3.27    Male     No   Sat  Dinner     2\n",
       "35        24.06   3.60    Male     No   Sat  Dinner     3\n",
       "36        16.31   2.00    Male     No   Sat  Dinner     3\n",
       "37        16.93   3.07  Female     No   Sat  Dinner     3\n",
       "38        18.69   2.31    Male     No   Sat  Dinner     3\n",
       "39        31.27   5.00    Male     No   Sat  Dinner     3\n",
       "40        16.04   2.24    Male     No   Sat  Dinner     3\n",
       "41        17.46   2.54    Male     No   Sun  Dinner     2\n",
       "42        13.94   3.06    Male     No   Sun  Dinner     2\n",
       "43         9.68   1.32    Male     No   Sun  Dinner     2\n",
       "44        30.40   5.60    Male     No   Sun  Dinner     4\n",
       "45        18.29   3.00    Male     No   Sun  Dinner     2\n",
       "46        22.23   5.00    Male     No   Sun  Dinner     2\n",
       "47        32.40   6.00    Male     No   Sun  Dinner     4\n",
       "48        28.55   2.05    Male     No   Sun  Dinner     3\n",
       "49        18.04   3.00    Male     No   Sun  Dinner     2\n",
       "50        12.54   2.50    Male     No   Sun  Dinner     2\n",
       "51        10.29   2.60  Female     No   Sun  Dinner     2\n",
       "52        34.81   5.20  Female     No   Sun  Dinner     4\n",
       "53         9.94   1.56    Male     No   Sun  Dinner     2\n",
       "54        25.56   4.34    Male     No   Sun  Dinner     4\n",
       "55        19.49   3.51    Male     No   Sun  Dinner     2\n",
       "56        38.01   3.00    Male    Yes   Sat  Dinner     4\n",
       "57        26.41   1.50  Female     No   Sat  Dinner     2\n",
       "58        11.24   1.76    Male    Yes   Sat  Dinner     2\n",
       "59        48.27   6.73    Male     No   Sat  Dinner     4\n",
       "60        20.29   3.21    Male    Yes   Sat  Dinner     2\n",
       "61        13.81   2.00    Male    Yes   Sat  Dinner     2\n",
       "62        11.02   1.98    Male    Yes   Sat  Dinner     2\n",
       "63        18.29   3.76    Male    Yes   Sat  Dinner     4\n",
       "64        17.59   2.64    Male     No   Sat  Dinner     3\n",
       "65        20.08   3.15    Male     No   Sat  Dinner     3\n",
       "66        16.45   2.47  Female     No   Sat  Dinner     2\n",
       "67         3.07   1.00  Female    Yes   Sat  Dinner     1\n",
       "68        20.23   2.01    Male     No   Sat  Dinner     2\n",
       "69        15.01   2.09    Male    Yes   Sat  Dinner     2\n",
       "70        12.02   1.97    Male     No   Sat  Dinner     2\n",
       "71        17.07   3.00  Female     No   Sat  Dinner     3\n",
       "72        26.86   3.14  Female    Yes   Sat  Dinner     2\n",
       "73        25.28   5.00  Female    Yes   Sat  Dinner     2\n",
       "74        14.73   2.20  Female     No   Sat  Dinner     2\n",
       "75        10.51   1.25    Male     No   Sat  Dinner     2\n",
       "76        17.92   3.08    Male    Yes   Sat  Dinner     2\n",
       "77        27.20   4.00    Male     No  Thur   Lunch     4\n",
       "78        22.76   3.00    Male     No  Thur   Lunch     2\n",
       "79        17.29   2.71    Male     No  Thur   Lunch     2\n",
       "80        19.44   3.00    Male    Yes  Thur   Lunch     2\n",
       "81        16.66   3.40    Male     No  Thur   Lunch     2\n",
       "82        10.07   1.83  Female     No  Thur   Lunch     1\n",
       "83        32.68   5.00    Male    Yes  Thur   Lunch     2\n",
       "84        15.98   2.03    Male     No  Thur   Lunch     2\n",
       "85        34.83   5.17  Female     No  Thur   Lunch     4\n",
       "86        13.03   2.00    Male     No  Thur   Lunch     2\n",
       "87        18.28   4.00    Male     No  Thur   Lunch     2\n",
       "88        24.71   5.85    Male     No  Thur   Lunch     2\n",
       "89        21.16   3.00    Male     No  Thur   Lunch     2\n",
       "90        28.97   3.00    Male    Yes   Fri  Dinner     2\n",
       "91        22.49   3.50    Male     No   Fri  Dinner     2\n",
       "92         5.75   1.00  Female    Yes   Fri  Dinner     2\n",
       "93        16.32   4.30  Female    Yes   Fri  Dinner     2\n",
       "94        22.75   3.25  Female     No   Fri  Dinner     2\n",
       "95        40.17   4.73    Male    Yes   Fri  Dinner     4\n",
       "96        27.28   4.00    Male    Yes   Fri  Dinner     2\n",
       "97        12.03   1.50    Male    Yes   Fri  Dinner     2\n",
       "98        21.01   3.00    Male    Yes   Fri  Dinner     2\n",
       "99        12.46   1.50    Male     No   Fri  Dinner     2\n",
       "100       11.35   2.50  Female    Yes   Fri  Dinner     2\n",
       "101       15.38   3.00  Female    Yes   Fri  Dinner     2\n",
       "102       44.30   2.50  Female    Yes   Sat  Dinner     3\n",
       "103       22.42   3.48  Female    Yes   Sat  Dinner     2\n",
       "104       20.92   4.08  Female     No   Sat  Dinner     2\n",
       "105       15.36   1.64    Male    Yes   Sat  Dinner     2\n",
       "106       20.49   4.06    Male    Yes   Sat  Dinner     2\n",
       "107       25.21   4.29    Male    Yes   Sat  Dinner     2\n",
       "108       18.24   3.76    Male     No   Sat  Dinner     2\n",
       "109       14.31   4.00  Female    Yes   Sat  Dinner     2\n",
       "110       14.00   3.00    Male     No   Sat  Dinner     2\n",
       "111        7.25   1.00  Female     No   Sat  Dinner     1\n",
       "112       38.07   4.00    Male     No   Sun  Dinner     3\n",
       "113       23.95   2.55    Male     No   Sun  Dinner     2\n",
       "114       25.71   4.00  Female     No   Sun  Dinner     3\n",
       "115       17.31   3.50  Female     No   Sun  Dinner     2\n",
       "116       29.93   5.07    Male     No   Sun  Dinner     4\n",
       "117       10.65   1.50  Female     No  Thur   Lunch     2\n",
       "118       12.43   1.80  Female     No  Thur   Lunch     2\n",
       "119       24.08   2.92  Female     No  Thur   Lunch     4\n",
       "120       11.69   2.31    Male     No  Thur   Lunch     2\n",
       "121       13.42   1.68  Female     No  Thur   Lunch     2\n",
       "122       14.26   2.50    Male     No  Thur   Lunch     2\n",
       "123       15.95   2.00    Male     No  Thur   Lunch     2\n",
       "124       12.48   2.52  Female     No  Thur   Lunch     2\n",
       "125       29.80   4.20  Female     No  Thur   Lunch     6\n",
       "126        8.52   1.48    Male     No  Thur   Lunch     2\n",
       "127       14.52   2.00  Female     No  Thur   Lunch     2\n",
       "128       11.38   2.00  Female     No  Thur   Lunch     2\n",
       "129       22.82   2.18    Male     No  Thur   Lunch     3\n",
       "130       19.08   1.50    Male     No  Thur   Lunch     2\n",
       "131       20.27   2.83  Female     No  Thur   Lunch     2\n",
       "132       11.17   1.50  Female     No  Thur   Lunch     2\n",
       "133       12.26   2.00  Female     No  Thur   Lunch     2\n",
       "134       18.26   3.25  Female     No  Thur   Lunch     2\n",
       "135        8.51   1.25  Female     No  Thur   Lunch     2\n",
       "136       10.33   2.00  Female     No  Thur   Lunch     2\n",
       "137       14.15   2.00  Female     No  Thur   Lunch     2\n",
       "138       16.00   2.00    Male    Yes  Thur   Lunch     2\n",
       "139       13.16   2.75  Female     No  Thur   Lunch     2\n",
       "140       17.47   3.50  Female     No  Thur   Lunch     2\n",
       "141       34.30   6.70    Male     No  Thur   Lunch     6\n",
       "142       41.19   5.00    Male     No  Thur   Lunch     5\n",
       "143       27.05   5.00  Female     No  Thur   Lunch     6\n",
       "144       16.43   2.30  Female     No  Thur   Lunch     2\n",
       "145        8.35   1.50  Female     No  Thur   Lunch     2\n",
       "146       18.64   1.36  Female     No  Thur   Lunch     3\n",
       "147       11.87   1.63  Female     No  Thur   Lunch     2\n",
       "148        9.78   1.73    Male     No  Thur   Lunch     2\n",
       "149        7.51   2.00    Male     No  Thur   Lunch     2\n",
       "150       14.07   2.50    Male     No   Sun  Dinner     2\n",
       "151       13.13   2.00    Male     No   Sun  Dinner     2\n",
       "152       17.26   2.74    Male     No   Sun  Dinner     3\n",
       "153       24.55   2.00    Male     No   Sun  Dinner     4\n",
       "154       19.77   2.00    Male     No   Sun  Dinner     4\n",
       "155       29.85   5.14  Female     No   Sun  Dinner     5\n",
       "156       48.17   5.00    Male     No   Sun  Dinner     6\n",
       "157       25.00   3.75  Female     No   Sun  Dinner     4\n",
       "158       13.39   2.61  Female     No   Sun  Dinner     2\n",
       "159       16.49   2.00    Male     No   Sun  Dinner     4\n",
       "160       21.50   3.50    Male     No   Sun  Dinner     4\n",
       "161       12.66   2.50    Male     No   Sun  Dinner     2\n",
       "162       16.21   2.00  Female     No   Sun  Dinner     3\n",
       "163       13.81   2.00    Male     No   Sun  Dinner     2\n",
       "164       17.51   3.00  Female    Yes   Sun  Dinner     2\n",
       "165       24.52   3.48    Male     No   Sun  Dinner     3\n",
       "166       20.76   2.24    Male     No   Sun  Dinner     2\n",
       "167       31.71   4.50    Male     No   Sun  Dinner     4\n",
       "168       10.59   1.61  Female    Yes   Sat  Dinner     2\n",
       "169       10.63   2.00  Female    Yes   Sat  Dinner     2\n",
       "170       50.81  10.00    Male    Yes   Sat  Dinner     3\n",
       "171       15.81   3.16    Male    Yes   Sat  Dinner     2\n",
       "172        7.25   5.15    Male    Yes   Sun  Dinner     2\n",
       "173       31.85   3.18    Male    Yes   Sun  Dinner     2\n",
       "174       16.82   4.00    Male    Yes   Sun  Dinner     2\n",
       "175       32.90   3.11    Male    Yes   Sun  Dinner     2\n",
       "176       17.89   2.00    Male    Yes   Sun  Dinner     2\n",
       "177       14.48   2.00    Male    Yes   Sun  Dinner     2\n",
       "178        9.60   4.00  Female    Yes   Sun  Dinner     2\n",
       "179       34.63   3.55    Male    Yes   Sun  Dinner     2\n",
       "180       34.65   3.68    Male    Yes   Sun  Dinner     4\n",
       "181       23.33   5.65    Male    Yes   Sun  Dinner     2\n",
       "182       45.35   3.50    Male    Yes   Sun  Dinner     3\n",
       "183       23.17   6.50    Male    Yes   Sun  Dinner     4\n",
       "184       40.55   3.00    Male    Yes   Sun  Dinner     2\n",
       "185       20.69   5.00    Male     No   Sun  Dinner     5\n",
       "186       20.90   3.50  Female    Yes   Sun  Dinner     3\n",
       "187       30.46   2.00    Male    Yes   Sun  Dinner     5\n",
       "188       18.15   3.50  Female    Yes   Sun  Dinner     3\n",
       "189       23.10   4.00    Male    Yes   Sun  Dinner     3\n",
       "190       15.69   1.50    Male    Yes   Sun  Dinner     2\n",
       "191       19.81   4.19  Female    Yes  Thur   Lunch     2\n",
       "192       28.44   2.56    Male    Yes  Thur   Lunch     2\n",
       "193       15.48   2.02    Male    Yes  Thur   Lunch     2\n",
       "194       16.58   4.00    Male    Yes  Thur   Lunch     2\n",
       "195        7.56   1.44    Male     No  Thur   Lunch     2\n",
       "196       10.34   2.00    Male    Yes  Thur   Lunch     2\n",
       "197       43.11   5.00  Female    Yes  Thur   Lunch     4\n",
       "198       13.00   2.00  Female    Yes  Thur   Lunch     2\n",
       "199       13.51   2.00    Male    Yes  Thur   Lunch     2\n",
       "200       18.71   4.00    Male    Yes  Thur   Lunch     3\n",
       "201       12.74   2.01  Female    Yes  Thur   Lunch     2\n",
       "202       13.00   2.00  Female    Yes  Thur   Lunch     2\n",
       "203       16.40   2.50  Female    Yes  Thur   Lunch     2\n",
       "204       20.53   4.00    Male    Yes  Thur   Lunch     4\n",
       "205       16.47   3.23  Female    Yes  Thur   Lunch     3\n",
       "206       26.59   3.41    Male    Yes   Sat  Dinner     3\n",
       "207       38.73   3.00    Male    Yes   Sat  Dinner     4\n",
       "208       24.27   2.03    Male    Yes   Sat  Dinner     2\n",
       "209       12.76   2.23  Female    Yes   Sat  Dinner     2\n",
       "210       30.06   2.00    Male    Yes   Sat  Dinner     3\n",
       "211       25.89   5.16    Male    Yes   Sat  Dinner     4\n",
       "212       48.33   9.00    Male     No   Sat  Dinner     4\n",
       "213       13.27   2.50  Female    Yes   Sat  Dinner     2\n",
       "214       28.17   6.50  Female    Yes   Sat  Dinner     3\n",
       "215       12.90   1.10  Female    Yes   Sat  Dinner     2\n",
       "216       28.15   3.00    Male    Yes   Sat  Dinner     5\n",
       "217       11.59   1.50    Male    Yes   Sat  Dinner     2\n",
       "218        7.74   1.44    Male    Yes   Sat  Dinner     2\n",
       "219       30.14   3.09  Female    Yes   Sat  Dinner     4\n",
       "220       12.16   2.20    Male    Yes   Fri   Lunch     2\n",
       "221       13.42   3.48  Female    Yes   Fri   Lunch     2\n",
       "222        8.58   1.92    Male    Yes   Fri   Lunch     1\n",
       "223       15.98   3.00  Female     No   Fri   Lunch     3\n",
       "224       13.42   1.58    Male    Yes   Fri   Lunch     2\n",
       "225       16.27   2.50  Female    Yes   Fri   Lunch     2\n",
       "226       10.09   2.00  Female    Yes   Fri   Lunch     2\n",
       "227       20.45   3.00    Male     No   Sat  Dinner     4\n",
       "228       13.28   2.72    Male     No   Sat  Dinner     2\n",
       "229       22.12   2.88  Female    Yes   Sat  Dinner     2\n",
       "230       24.01   2.00    Male    Yes   Sat  Dinner     4\n",
       "231       15.69   3.00    Male    Yes   Sat  Dinner     3\n",
       "232       11.61   3.39    Male     No   Sat  Dinner     2\n",
       "233       10.77   1.47    Male     No   Sat  Dinner     2\n",
       "234       15.53   3.00    Male    Yes   Sat  Dinner     2\n",
       "235       10.07   1.25    Male     No   Sat  Dinner     2\n",
       "236       12.60   1.00    Male    Yes   Sat  Dinner     2\n",
       "237       32.83   1.17    Male    Yes   Sat  Dinner     2\n",
       "238       35.83   4.67  Female     No   Sat  Dinner     3\n",
       "239       29.03   5.92    Male     No   Sat  Dinner     3\n",
       "240       27.18   2.00  Female    Yes   Sat  Dinner     2\n",
       "241       22.67   2.00    Male    Yes   Sat  Dinner     2\n",
       "242       17.82   1.75    Male     No   Sat  Dinner     2\n",
       "243       18.78   3.00  Female     No  Thur  Dinner     2"
      ]
     },
     "execution_count": 15,
     "metadata": {},
     "output_type": "execute_result"
    }
   ],
   "source": [
    "# Importando a biblioteca pandas\n",
    "import pandas as pd\n",
    "\n",
    "# Carregando o arquivo de dados CSV \"tips.csv\" e armazenando os dados no DataFrame 'tips'\n",
    "tips = pd.read_csv(\"tips.csv\")\n",
    "\n",
    "pd.set_option('display.max_rows', None)\n",
    "pd.set_option('display.max_columns', None)\n",
    "\n",
    "# Exibindo as primeiras linhas do DataFrame 'tips'\n",
    "tips.head(None)"
   ]
  },
  {
   "cell_type": "markdown",
   "id": "6e96805e",
   "metadata": {},
   "source": [
    "#### Histograma Univariado"
   ]
  },
  {
   "cell_type": "code",
   "execution_count": 16,
   "id": "801bdb43",
   "metadata": {
    "ExecuteTime": {
     "end_time": "2023-11-28T20:28:38.416311Z",
     "start_time": "2023-11-28T20:28:38.227082Z"
    }
   },
   "outputs": [
    {
     "data": {
      "text/plain": [
       "<Axes: xlabel='total_bill', ylabel='Count'>"
      ]
     },
     "execution_count": 16,
     "metadata": {},
     "output_type": "execute_result"
    },
    {
     "data": {
      "image/png": "[encoded data removed]",
      "text/plain": [
       "<Figure size 640x480 with 1 Axes>"
      ]
     },
     "metadata": {},
     "output_type": "display_data"
    }
   ],
   "source": [
    "import pandas as pd\n",
    "import seaborn as sns\n",
    "\n",
    "tips = pd.read_csv(\"tips.csv\")\n",
    "sns.histplot(data=tips, x=\"total_bill\")"
   ]
  },
  {
   "cell_type": "markdown",
   "id": "d62f1d99",
   "metadata": {},
   "source": [
    "#### Gráfico de Barras Univariado"
   ]
  },
  {
   "cell_type": "code",
   "execution_count": 17,
   "id": "981a5d81",
   "metadata": {
    "ExecuteTime": {
     "end_time": "2023-11-28T20:30:05.342981Z",
     "start_time": "2023-11-28T20:30:05.102615Z"
    }
   },
   "outputs": [
    {
     "data": {
      "text/plain": [
       "<Axes: xlabel='day', ylabel='total_bill'>"
      ]
     },
     "execution_count": 17,
     "metadata": {},
     "output_type": "execute_result"
    },
    {
     "data": {
      "image/png": "[encoded data removed]",
      "text/plain": [
       "<Figure size 640x480 with 1 Axes>"
      ]
     },
     "metadata": {},
     "output_type": "display_data"
    }
   ],
   "source": [
    "import pandas as pd\n",
    "import seaborn as sns\n",
    "\n",
    "tips = pd.read_csv(\"tips.csv\")\n",
    "sns.barplot(data=tips, x=\"day\", y=\"total_bill\")"
   ]
  },
  {
   "cell_type": "markdown",
   "id": "f5f8ccb3",
   "metadata": {},
   "source": [
    "#### Gráfico de Dispersão Bivariado"
   ]
  },
  {
   "cell_type": "code",
   "execution_count": 18,
   "id": "816c471f",
   "metadata": {
    "ExecuteTime": {
     "end_time": "2023-11-28T20:31:03.197590Z",
     "start_time": "2023-11-28T20:31:03.033066Z"
    }
   },
   "outputs": [
    {
     "data": {
      "text/plain": [
       "<Axes: xlabel='total_bill', ylabel='tip'>"
      ]
     },
     "execution_count": 18,
     "metadata": {},
     "output_type": "execute_result"
    },
    {
     "data": {
      "image/png": "[encoded data removed]",
      "text/plain": [
       "<Figure size 640x480 with 1 Axes>"
      ]
     },
     "metadata": {},
     "output_type": "display_data"
    }
   ],
   "source": [
    "import pandas as pd\n",
    "import seaborn as sns\n",
    "\n",
    "tips = pd.read_csv(\"tips.csv\")\n",
    "sns.scatterplot(data=tips, x=\"total_bill\", y=\"tip\")\n"
   ]
  },
  {
   "cell_type": "markdown",
   "id": "811f8324",
   "metadata": {},
   "source": [
    "#### Gráfico de Linha Univariado"
   ]
  },
  {
   "cell_type": "code",
   "execution_count": 19,
   "id": "00b3cdc6",
   "metadata": {
    "ExecuteTime": {
     "end_time": "2023-11-28T20:31:49.517562Z",
     "start_time": "2023-11-28T20:31:48.888073Z"
    }
   },
   "outputs": [
    {
     "data": {
      "text/plain": [
       "<Axes: xlabel='total_bill', ylabel='tip'>"
      ]
     },
     "execution_count": 19,
     "metadata": {},
     "output_type": "execute_result"
    },
    {
     "data": {
      "image/png": "[encoded data removed]",
      "text/plain": [
       "<Figure size 640x480 with 1 Axes>"
      ]
     },
     "metadata": {},
     "output_type": "display_data"
    }
   ],
   "source": [
    "import pandas as pd\n",
    "import seaborn as sns\n",
    "\n",
    "tips = pd.read_csv(\"tips.csv\")\n",
    "sns.lineplot(data=tips, x=\"total_bill\", y=\"tip\")"
   ]
  },
  {
   "cell_type": "markdown",
   "id": "0dcd44d7",
   "metadata": {},
   "source": [
    "#### Gráfico de Caixa Univariado"
   ]
  },
  {
   "cell_type": "code",
   "execution_count": 20,
   "id": "29308cf1",
   "metadata": {
    "ExecuteTime": {
     "end_time": "2023-11-28T20:32:45.808925Z",
     "start_time": "2023-11-28T20:32:45.652612Z"
    }
   },
   "outputs": [
    {
     "data": {
      "text/plain": [
       "<Axes: xlabel='day', ylabel='total_bill'>"
      ]
     },
     "execution_count": 20,
     "metadata": {},
     "output_type": "execute_result"
    },
    {
     "data": {
      "image/png": "[encoded data removed]",
      "text/plain": [
       "<Figure size 640x480 with 1 Axes>"
      ]
     },
     "metadata": {},
     "output_type": "display_data"
    }
   ],
   "source": [
    "import pandas as pd\n",
    "import seaborn as sns\n",
    "\n",
    "tips = pd.read_csv(\"tips.csv\")\n",
    "sns.boxplot(data=tips, x=\"day\", y=\"total_bill\")"
   ]
  },
  {
   "cell_type": "markdown",
   "id": "4ea1b4dd",
   "metadata": {},
   "source": [
    "#### Gráfico Violinplot Multivariado"
   ]
  },
  {
   "cell_type": "code",
   "execution_count": 21,
   "id": "56eefcc6",
   "metadata": {
    "ExecuteTime": {
     "end_time": "2023-11-28T20:33:49.735153Z",
     "start_time": "2023-11-28T20:33:49.521302Z"
    }
   },
   "outputs": [
    {
     "data": {
      "text/plain": [
       "<Axes: xlabel='day', ylabel='total_bill'>"
      ]
     },
     "execution_count": 21,
     "metadata": {},
     "output_type": "execute_result"
    },
    {
     "data": {
      "image/png": "[encoded data removed]",
      "text/plain": [
       "<Figure size 640x480 with 1 Axes>"
      ]
     },
     "metadata": {},
     "output_type": "display_data"
    }
   ],
   "source": [
    "import pandas as pd\n",
    "import seaborn as sns\n",
    "\n",
    "tips = pd.read_csv(\"tips.csv\")\n",
    "sns.violinplot(data=tips, x=\"day\", y=\"total_bill\")"
   ]
  },
  {
   "cell_type": "markdown",
   "id": "7425bb53",
   "metadata": {},
   "source": [
    "#### Gráfico de Dispersão Bivariado Com Regressão Linear"
   ]
  },
  {
   "cell_type": "code",
   "execution_count": 22,
   "id": "bd875181",
   "metadata": {
    "ExecuteTime": {
     "end_time": "2023-11-28T20:34:39.837155Z",
     "start_time": "2023-11-28T20:34:39.108977Z"
    }
   },
   "outputs": [
    {
     "data": {
      "text/plain": [
       "<seaborn.axisgrid.JointGrid at 0x2ce5cee32d0>"
      ]
     },
     "execution_count": 22,
     "metadata": {},
     "output_type": "execute_result"
    },
    {
     "data": {
      "image/png": "[encoded data removed]",
      "text/plain": [
       "<Figure size 600x600 with 3 Axes>"
      ]
     },
     "metadata": {},
     "output_type": "display_data"
    }
   ],
   "source": [
    "import pandas as pd\n",
    "import seaborn as sns\n",
    "\n",
    "tips = pd.read_csv(\"tips.csv\")\n",
    "sns.jointplot(data = tips, x = \"total_bill\", y = \"tip\", kind = 'reg')"
   ]
  },
  {
   "cell_type": "markdown",
   "id": "569bea26",
   "metadata": {},
   "source": [
    "#### Gráfico de Dispersão Com Subplots Condicionais"
   ]
  },
  {
   "cell_type": "code",
   "execution_count": 23,
   "id": "70adda65",
   "metadata": {
    "ExecuteTime": {
     "end_time": "2023-11-28T20:35:46.794614Z",
     "start_time": "2023-11-28T20:35:46.038708Z"
    }
   },
   "outputs": [
    {
     "name": "stderr",
     "output_type": "stream",
     "text": [
      "D:\\Anaconda\\Lib\\site-packages\\seaborn\\axisgrid.py:118: UserWarning: The figure layout has changed to tight\n",
      "  self._figure.tight_layout(*args, **kwargs)\n"
     ]
    },
    {
     "data": {
      "text/plain": [
       "<seaborn.axisgrid.FacetGrid at 0x2ce5d020610>"
      ]
     },
     "execution_count": 23,
     "metadata": {},
     "output_type": "execute_result"
    },
    {
     "data": {
      "image/png": "[encoded data removed]",
      "text/plain": [
       "<Figure size 1000x500 with 2 Axes>"
      ]
     },
     "metadata": {},
     "output_type": "display_data"
    }
   ],
   "source": [
    "import pandas as pd\n",
    "import seaborn as sns\n",
    "\n",
    "tips = pd.read_csv(\"tips.csv\")\n",
    "sns.lmplot(data = tips, x = \"total_bill\", y = \"tip\", col = \"sex\")"
   ]
  },
  {
   "cell_type": "code",
   "execution_count": 24,
   "id": "80c5f38e",
   "metadata": {
    "ExecuteTime": {
     "end_time": "2023-11-28T20:36:44.550636Z",
     "start_time": "2023-11-28T20:36:43.819541Z"
    }
   },
   "outputs": [
    {
     "name": "stderr",
     "output_type": "stream",
     "text": [
      "D:\\Anaconda\\Lib\\site-packages\\seaborn\\axisgrid.py:118: UserWarning: The figure layout has changed to tight\n",
      "  self._figure.tight_layout(*args, **kwargs)\n"
     ]
    },
    {
     "data": {
      "text/plain": [
       "<seaborn.axisgrid.FacetGrid at 0x2ce5d00ae10>"
      ]
     },
     "execution_count": 24,
     "metadata": {},
     "output_type": "execute_result"
    },
    {
     "data": {
      "image/png": "[encoded data removed]",
      "text/plain": [
       "<Figure size 1000x500 with 2 Axes>"
      ]
     },
     "metadata": {},
     "output_type": "display_data"
    }
   ],
   "source": [
    "sns.lmplot(data = tips, x = \"total_bill\", y = \"tip\", col = \"smoker\")"
   ]
  }
 ],
 "metadata": {
  "kernelspec": {
   "display_name": "Python 3 (ipykernel)",
   "language": "python",
   "name": "python3"
  },
  "language_info": {
   "codemirror_mode": {
    "name": "ipython",
    "version": 3
   },
   "file_extension": ".py",
   "mimetype": "text/x-python",
   "name": "python",
   "nbconvert_exporter": "python",
   "pygments_lexer": "ipython3",
   "version": "3.9.13"
  },
  "varInspector": {
   "cols": {
    "lenName": 16,
    "lenType": 16,
    "lenVar": 40
   },
   "kernels_config": {
    "python": {
     "delete_cmd_postfix": "",
     "delete_cmd_prefix": "del ",
     "library": "var_list.py",
     "varRefreshCmd": "print(var_dic_list())"
    },
    "r": {
     "delete_cmd_postfix": ") ",
     "delete_cmd_prefix": "rm(",
     "library": "var_list.r",
     "varRefreshCmd": "cat(var_dic_list()) "
    }
   },
   "types_to_exclude": [
    "module",
    "function",
    "builtin_function_or_method",
    "instance",
    "_Feature"
   ],
   "window_display": false
  }
 },
 "nbformat": 4,
 "nbformat_minor": 5
}
