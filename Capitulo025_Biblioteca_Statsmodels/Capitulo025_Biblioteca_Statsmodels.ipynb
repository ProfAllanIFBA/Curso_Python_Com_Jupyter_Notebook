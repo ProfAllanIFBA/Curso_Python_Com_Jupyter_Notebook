{
 "cells": [
  {
   "cell_type": "markdown",
   "id": "b42396bc",
   "metadata": {},
   "source": [
    "<center> <img src=\"logo_ifba.jpg\" alt=\"jpg_python\" width=\"100\" height=\"\"> </center>\n",
    "<br><br>\n",
    "<center> <img src=\"logo_coext.jpg\" alt=\"jpg_python\" width=\"200\" height=\"\"> </center>\n",
    "<br><br>\n",
    "<center><div style=\"text-align:center\">    <a href=\"https://colab.research.google.com/github/ProfAllanIFBA/Curso_Python_Com_Jupyter_Notebook/blob/main/Capitulo025_Biblioteca_Statsmodels/Capitulo025_Biblioteca_Statsmodels.ipynb\">Link Colab</a> \n",
    "</div><br><br></center>\n",
    "<div align=\"center\"><span style=\"font-size: 26px;\"><strong>Python Com Jupyter Notebook</strong></span></div><br><br>\n",
    "<center> <img src=\"python_gif.gif\" alt=\"gif_python\" width=\"80\"> </center>"
   ]
  },
  {
   "cell_type": "markdown",
   "id": "e31f5775",
   "metadata": {},
   "source": [
    "Este material apresenta uma explicação detalhada sobre o uso do software de programação em Python chamado Jupyter Notebook, com foco na análise de dados. Abordaremos desde estruturas básicas, como listas e dicionários, até estruturas mais complexas voltadas para a análise de dados, como pandas e seaborn, além de ferramentas destinadas à inteligência artificial.\n",
    "\n",
    "\n",
    "<font color='red'> <u>Este é um material de uso público e totalmente gratuito</u>. Contudo, eventuais edições são de responsabilidade de quem as fizer. </font>\n",
    "\n",
    "Você pode ajudar a melhorar este material!\n",
    "\n",
    "Contato e Sugestões: allansoares@ifba.edu.br.\n",
    "\n",
    "[**Equipe Executora**](https://github.com/ProfAllanIFBA/Curso_Python_Com_Jupyter_Notebook/blob/main/Capitulo000_Equipe/Capitulo000_Equipe.ipynb)"
   ]
  },
  {
   "cell_type": "markdown",
   "id": "c0c4b8a6",
   "metadata": {},
   "source": [
    "<div style=\"border: 2px solid black; padding: 10px; width: 100%; background-color: lightgray; display: flex; align-items: center;\">\n",
    "    <h1 style=\"color: red; text-align: center; margin: auto;\">\n",
    "        Capítulo 25 - Biblioteca Statsmodels\n",
    "    </h1>\n",
    "</div>\n",
    "\n",
    "<font color='red'></font>\n",
    "<a href=\"\"></a>"
   ]
  },
  {
   "cell_type": "markdown",
   "id": "bf141300",
   "metadata": {},
   "source": [
    "<u>Statsmodels</u> é uma biblioteca Python para análise estatística e modelagem. Ela oferece uma variedade de modelos estatísticos, ferramentas de diagnóstico de modelo e testes de hipóteses. Sua ênfase na inferência estatística permite explorar relacionamentos entre variáveis, identificar fatores significativos e realizar previsões com base nos dados. Com integração com outras bibliotecas populares, como NumPy, Pandas e Matplotlib, o Statsmodels é uma ferramenta poderosa para análise de dados e tomada de decisões baseadas em evidências estatísticas."
   ]
  },
  {
   "cell_type": "markdown",
   "id": "0863aa27",
   "metadata": {
    "ExecuteTime": {
     "end_time": "2023-06-29T18:25:27.539139Z",
     "start_time": "2023-06-29T18:25:27.533224Z"
    },
    "heading_collapsed": true
   },
   "source": [
    "## <div style=\"margin-top: -20px;\">\n",
    "<hr style=\"border: 2px solid blue;\">\n",
    "\n",
    "<font color='blue'><span style=\"font-size: 22px;\"><strong>25.1 Análises Estatísticas (Estudo de Caso)</strong></span></font>\n",
    "\n",
    "<hr style=\"border: 2px solid blue;\">\n",
    "</div>"
   ]
  },
  {
   "cell_type": "markdown",
   "id": "a94842ba",
   "metadata": {
    "hidden": true
   },
   "source": [
    "Seguiremos uma linha semelhante às apresentadas no endereço: https://scipy-lectures.org/packages/statistics/index.html. Para ilustrar e exemplificar os conceitos abordados, faremos uso dos dados contidos no arquivo CSV disponível em https://scipy-lectures.org/_downloads/brain_size.csv."
   ]
  },
  {
   "cell_type": "markdown",
   "id": "0359a926",
   "metadata": {
    "ExecuteTime": {
     "end_time": "2023-06-29T18:25:27.539139Z",
     "start_time": "2023-06-29T18:25:27.533224Z"
    },
    "heading_collapsed": true,
    "hidden": true
   },
   "source": [
    "### <div style=\"margin-top: -20px;\">\n",
    "<hr style=\"border: 2px solid blue;\">\n",
    "\n",
    "<font color='blue'><span style=\"font-size: 18px;\"><strong>25.1.1 Arquivo de Exemplificação</strong></span></font>\n",
    "\n",
    "<hr style=\"border: 2px solid blue;\">\n",
    "</div>"
   ]
  },
  {
   "cell_type": "code",
   "execution_count": 1,
   "id": "9c3ac6db",
   "metadata": {
    "ExecuteTime": {
     "end_time": "2023-07-03T22:25:56.270222Z",
     "start_time": "2023-07-03T22:25:55.797549Z"
    },
    "hidden": true
   },
   "outputs": [
    {
     "data": {
      "text/html": [
       "<div>\n",
       "<style scoped>\n",
       "    .dataframe tbody tr th:only-of-type {\n",
       "        vertical-align: middle;\n",
       "    }\n",
       "\n",
       "    .dataframe tbody tr th {\n",
       "        vertical-align: top;\n",
       "    }\n",
       "\n",
       "    .dataframe thead th {\n",
       "        text-align: right;\n",
       "    }\n",
       "</style>\n",
       "<table border=\"1\" class=\"dataframe\">\n",
       "  <thead>\n",
       "    <tr style=\"text-align: right;\">\n",
       "      <th></th>\n",
       "      <th>;\"Gender\";\"FSIQ\";\"VIQ\";\"PIQ\";\"Weight\";\"Height\";\"MRI_Count\"</th>\n",
       "    </tr>\n",
       "  </thead>\n",
       "  <tbody>\n",
       "    <tr>\n",
       "      <th>0</th>\n",
       "      <td>1;\"Female\";133;132;124;\"118\";\"64.5\";816932</td>\n",
       "    </tr>\n",
       "    <tr>\n",
       "      <th>1</th>\n",
       "      <td>2;\"Male\";140;150;124;\".\";\"72.5\";1001121</td>\n",
       "    </tr>\n",
       "    <tr>\n",
       "      <th>2</th>\n",
       "      <td>3;\"Male\";139;123;150;\"143\";\"73.3\";1038437</td>\n",
       "    </tr>\n",
       "    <tr>\n",
       "      <th>3</th>\n",
       "      <td>4;\"Male\";133;129;128;\"172\";\"68.8\";965353</td>\n",
       "    </tr>\n",
       "    <tr>\n",
       "      <th>4</th>\n",
       "      <td>5;\"Female\";137;132;134;\"147\";\"65.0\";951545</td>\n",
       "    </tr>\n",
       "    <tr>\n",
       "      <th>5</th>\n",
       "      <td>6;\"Female\";99;90;110;\"146\";\"69.0\";928799</td>\n",
       "    </tr>\n",
       "    <tr>\n",
       "      <th>6</th>\n",
       "      <td>7;\"Female\";138;136;131;\"138\";\"64.5\";991305</td>\n",
       "    </tr>\n",
       "    <tr>\n",
       "      <th>7</th>\n",
       "      <td>8;\"Female\";92;90;98;\"175\";\"66.0\";854258</td>\n",
       "    </tr>\n",
       "    <tr>\n",
       "      <th>8</th>\n",
       "      <td>9;\"Male\";89;93;84;\"134\";\"66.3\";904858</td>\n",
       "    </tr>\n",
       "    <tr>\n",
       "      <th>9</th>\n",
       "      <td>10;\"Male\";133;114;147;\"172\";\"68.8\";955466</td>\n",
       "    </tr>\n",
       "    <tr>\n",
       "      <th>10</th>\n",
       "      <td>11;\"Female\";132;129;124;\"118\";\"64.5\";833868</td>\n",
       "    </tr>\n",
       "    <tr>\n",
       "      <th>11</th>\n",
       "      <td>12;\"Male\";141;150;128;\"151\";\"70.0\";1079549</td>\n",
       "    </tr>\n",
       "    <tr>\n",
       "      <th>12</th>\n",
       "      <td>13;\"Male\";135;129;124;\"155\";\"69.0\";924059</td>\n",
       "    </tr>\n",
       "    <tr>\n",
       "      <th>13</th>\n",
       "      <td>14;\"Female\";140;120;147;\"155\";\"70.5\";856472</td>\n",
       "    </tr>\n",
       "    <tr>\n",
       "      <th>14</th>\n",
       "      <td>15;\"Female\";96;100;90;\"146\";\"66.0\";878897</td>\n",
       "    </tr>\n",
       "    <tr>\n",
       "      <th>15</th>\n",
       "      <td>16;\"Female\";83;71;96;\"135\";\"68.0\";865363</td>\n",
       "    </tr>\n",
       "    <tr>\n",
       "      <th>16</th>\n",
       "      <td>17;\"Female\";132;132;120;\"127\";\"68.5\";852244</td>\n",
       "    </tr>\n",
       "    <tr>\n",
       "      <th>17</th>\n",
       "      <td>18;\"Male\";100;96;102;\"178\";\"73.5\";945088</td>\n",
       "    </tr>\n",
       "    <tr>\n",
       "      <th>18</th>\n",
       "      <td>19;\"Female\";101;112;84;\"136\";\"66.3\";808020</td>\n",
       "    </tr>\n",
       "    <tr>\n",
       "      <th>19</th>\n",
       "      <td>20;\"Male\";80;77;86;\"180\";\"70.0\";889083</td>\n",
       "    </tr>\n",
       "    <tr>\n",
       "      <th>20</th>\n",
       "      <td>21;\"Male\";83;83;86;\".\";\".\";892420</td>\n",
       "    </tr>\n",
       "    <tr>\n",
       "      <th>21</th>\n",
       "      <td>22;\"Male\";97;107;84;\"186\";\"76.5\";905940</td>\n",
       "    </tr>\n",
       "    <tr>\n",
       "      <th>22</th>\n",
       "      <td>23;\"Female\";135;129;134;\"122\";\"62.0\";790619</td>\n",
       "    </tr>\n",
       "    <tr>\n",
       "      <th>23</th>\n",
       "      <td>24;\"Male\";139;145;128;\"132\";\"68.0\";955003</td>\n",
       "    </tr>\n",
       "    <tr>\n",
       "      <th>24</th>\n",
       "      <td>25;\"Female\";91;86;102;\"114\";\"63.0\";831772</td>\n",
       "    </tr>\n",
       "    <tr>\n",
       "      <th>25</th>\n",
       "      <td>26;\"Male\";141;145;131;\"171\";\"72.0\";935494</td>\n",
       "    </tr>\n",
       "    <tr>\n",
       "      <th>26</th>\n",
       "      <td>27;\"Female\";85;90;84;\"140\";\"68.0\";798612</td>\n",
       "    </tr>\n",
       "    <tr>\n",
       "      <th>27</th>\n",
       "      <td>28;\"Male\";103;96;110;\"187\";\"77.0\";1062462</td>\n",
       "    </tr>\n",
       "    <tr>\n",
       "      <th>28</th>\n",
       "      <td>29;\"Female\";77;83;72;\"106\";\"63.0\";793549</td>\n",
       "    </tr>\n",
       "    <tr>\n",
       "      <th>29</th>\n",
       "      <td>30;\"Female\";130;126;124;\"159\";\"66.5\";866662</td>\n",
       "    </tr>\n",
       "    <tr>\n",
       "      <th>30</th>\n",
       "      <td>31;\"Female\";133;126;132;\"127\";\"62.5\";857782</td>\n",
       "    </tr>\n",
       "    <tr>\n",
       "      <th>31</th>\n",
       "      <td>32;\"Male\";144;145;137;\"191\";\"67.0\";949589</td>\n",
       "    </tr>\n",
       "    <tr>\n",
       "      <th>32</th>\n",
       "      <td>33;\"Male\";103;96;110;\"192\";\"75.5\";997925</td>\n",
       "    </tr>\n",
       "    <tr>\n",
       "      <th>33</th>\n",
       "      <td>34;\"Male\";90;96;86;\"181\";\"69.0\";879987</td>\n",
       "    </tr>\n",
       "    <tr>\n",
       "      <th>34</th>\n",
       "      <td>35;\"Female\";83;90;81;\"143\";\"66.5\";834344</td>\n",
       "    </tr>\n",
       "    <tr>\n",
       "      <th>35</th>\n",
       "      <td>36;\"Female\";133;129;128;\"153\";\"66.5\";948066</td>\n",
       "    </tr>\n",
       "    <tr>\n",
       "      <th>36</th>\n",
       "      <td>37;\"Male\";140;150;124;\"144\";\"70.5\";949395</td>\n",
       "    </tr>\n",
       "    <tr>\n",
       "      <th>37</th>\n",
       "      <td>38;\"Female\";88;86;94;\"139\";\"64.5\";893983</td>\n",
       "    </tr>\n",
       "    <tr>\n",
       "      <th>38</th>\n",
       "      <td>39;\"Male\";81;90;74;\"148\";\"74.0\";930016</td>\n",
       "    </tr>\n",
       "    <tr>\n",
       "      <th>39</th>\n",
       "      <td>40;\"Male\";89;91;89;\"179\";\"75.5\";935863</td>\n",
       "    </tr>\n",
       "  </tbody>\n",
       "</table>\n",
       "</div>"
      ],
      "text/plain": [
       "   ;\"Gender\";\"FSIQ\";\"VIQ\";\"PIQ\";\"Weight\";\"Height\";\"MRI_Count\"\n",
       "0          1;\"Female\";133;132;124;\"118\";\"64.5\";816932        \n",
       "1             2;\"Male\";140;150;124;\".\";\"72.5\";1001121        \n",
       "2           3;\"Male\";139;123;150;\"143\";\"73.3\";1038437        \n",
       "3            4;\"Male\";133;129;128;\"172\";\"68.8\";965353        \n",
       "4          5;\"Female\";137;132;134;\"147\";\"65.0\";951545        \n",
       "5            6;\"Female\";99;90;110;\"146\";\"69.0\";928799        \n",
       "6          7;\"Female\";138;136;131;\"138\";\"64.5\";991305        \n",
       "7             8;\"Female\";92;90;98;\"175\";\"66.0\";854258        \n",
       "8               9;\"Male\";89;93;84;\"134\";\"66.3\";904858        \n",
       "9           10;\"Male\";133;114;147;\"172\";\"68.8\";955466        \n",
       "10        11;\"Female\";132;129;124;\"118\";\"64.5\";833868        \n",
       "11         12;\"Male\";141;150;128;\"151\";\"70.0\";1079549        \n",
       "12          13;\"Male\";135;129;124;\"155\";\"69.0\";924059        \n",
       "13        14;\"Female\";140;120;147;\"155\";\"70.5\";856472        \n",
       "14          15;\"Female\";96;100;90;\"146\";\"66.0\";878897        \n",
       "15           16;\"Female\";83;71;96;\"135\";\"68.0\";865363        \n",
       "16        17;\"Female\";132;132;120;\"127\";\"68.5\";852244        \n",
       "17           18;\"Male\";100;96;102;\"178\";\"73.5\";945088        \n",
       "18         19;\"Female\";101;112;84;\"136\";\"66.3\";808020        \n",
       "19             20;\"Male\";80;77;86;\"180\";\"70.0\";889083        \n",
       "20                  21;\"Male\";83;83;86;\".\";\".\";892420        \n",
       "21            22;\"Male\";97;107;84;\"186\";\"76.5\";905940        \n",
       "22        23;\"Female\";135;129;134;\"122\";\"62.0\";790619        \n",
       "23          24;\"Male\";139;145;128;\"132\";\"68.0\";955003        \n",
       "24          25;\"Female\";91;86;102;\"114\";\"63.0\";831772        \n",
       "25          26;\"Male\";141;145;131;\"171\";\"72.0\";935494        \n",
       "26           27;\"Female\";85;90;84;\"140\";\"68.0\";798612        \n",
       "27          28;\"Male\";103;96;110;\"187\";\"77.0\";1062462        \n",
       "28           29;\"Female\";77;83;72;\"106\";\"63.0\";793549        \n",
       "29        30;\"Female\";130;126;124;\"159\";\"66.5\";866662        \n",
       "30        31;\"Female\";133;126;132;\"127\";\"62.5\";857782        \n",
       "31          32;\"Male\";144;145;137;\"191\";\"67.0\";949589        \n",
       "32           33;\"Male\";103;96;110;\"192\";\"75.5\";997925        \n",
       "33             34;\"Male\";90;96;86;\"181\";\"69.0\";879987        \n",
       "34           35;\"Female\";83;90;81;\"143\";\"66.5\";834344        \n",
       "35        36;\"Female\";133;129;128;\"153\";\"66.5\";948066        \n",
       "36          37;\"Male\";140;150;124;\"144\";\"70.5\";949395        \n",
       "37           38;\"Female\";88;86;94;\"139\";\"64.5\";893983        \n",
       "38             39;\"Male\";81;90;74;\"148\";\"74.0\";930016        \n",
       "39             40;\"Male\";89;91;89;\"179\";\"75.5\";935863        "
      ]
     },
     "execution_count": 1,
     "metadata": {},
     "output_type": "execute_result"
    }
   ],
   "source": [
    "# Importando a biblioteca pandas como pd e lendo o arquivo CSV \"brain_size.csv\" para o DataFrame \"brain_size\".\n",
    "import pandas as pd\n",
    "\n",
    "# Armazenando o conteúdo do arquivo \"brain_size.csv\" na variável data\"\n",
    "data = pd.read_csv(\"brain_size.csv\")\n",
    "\n",
    "# Exibindo todas as linhas do DataFrame \"brain_size\" para ter uma visão geral dos dados.\n",
    "data.head(None)"
   ]
  },
  {
   "cell_type": "markdown",
   "id": "acbb5eb2",
   "metadata": {
    "ExecuteTime": {
     "end_time": "2023-06-29T18:19:53.252045Z",
     "start_time": "2023-06-29T18:19:53.228110Z"
    },
    "hidden": true
   },
   "source": [
    "Podemos ajustar ainda mais a visualização dos dados, considerando que eles estão separados por \";\" em vez de \",\". Além disso, é possível realizar um tratamento dos dados para que valores representados por \".\" sejam lidos como valores ausentes (NaN), indicando que esses dados estão faltando ou são inválidos."
   ]
  },
  {
   "cell_type": "code",
   "execution_count": 2,
   "id": "f9dafa61",
   "metadata": {
    "ExecuteTime": {
     "end_time": "2023-07-03T22:25:58.744034Z",
     "start_time": "2023-07-03T22:25:58.710971Z"
    },
    "hidden": true
   },
   "outputs": [
    {
     "data": {
      "text/html": [
       "<div>\n",
       "<style scoped>\n",
       "    .dataframe tbody tr th:only-of-type {\n",
       "        vertical-align: middle;\n",
       "    }\n",
       "\n",
       "    .dataframe tbody tr th {\n",
       "        vertical-align: top;\n",
       "    }\n",
       "\n",
       "    .dataframe thead th {\n",
       "        text-align: right;\n",
       "    }\n",
       "</style>\n",
       "<table border=\"1\" class=\"dataframe\">\n",
       "  <thead>\n",
       "    <tr style=\"text-align: right;\">\n",
       "      <th></th>\n",
       "      <th>Unnamed: 0</th>\n",
       "      <th>Gender</th>\n",
       "      <th>FSIQ</th>\n",
       "      <th>VIQ</th>\n",
       "      <th>PIQ</th>\n",
       "      <th>Weight</th>\n",
       "      <th>Height</th>\n",
       "      <th>MRI_Count</th>\n",
       "    </tr>\n",
       "  </thead>\n",
       "  <tbody>\n",
       "    <tr>\n",
       "      <th>0</th>\n",
       "      <td>1</td>\n",
       "      <td>Female</td>\n",
       "      <td>133</td>\n",
       "      <td>132</td>\n",
       "      <td>124</td>\n",
       "      <td>118.0</td>\n",
       "      <td>64.5</td>\n",
       "      <td>816932</td>\n",
       "    </tr>\n",
       "    <tr>\n",
       "      <th>1</th>\n",
       "      <td>2</td>\n",
       "      <td>Male</td>\n",
       "      <td>140</td>\n",
       "      <td>150</td>\n",
       "      <td>124</td>\n",
       "      <td>NaN</td>\n",
       "      <td>72.5</td>\n",
       "      <td>1001121</td>\n",
       "    </tr>\n",
       "    <tr>\n",
       "      <th>2</th>\n",
       "      <td>3</td>\n",
       "      <td>Male</td>\n",
       "      <td>139</td>\n",
       "      <td>123</td>\n",
       "      <td>150</td>\n",
       "      <td>143.0</td>\n",
       "      <td>73.3</td>\n",
       "      <td>1038437</td>\n",
       "    </tr>\n",
       "    <tr>\n",
       "      <th>3</th>\n",
       "      <td>4</td>\n",
       "      <td>Male</td>\n",
       "      <td>133</td>\n",
       "      <td>129</td>\n",
       "      <td>128</td>\n",
       "      <td>172.0</td>\n",
       "      <td>68.8</td>\n",
       "      <td>965353</td>\n",
       "    </tr>\n",
       "    <tr>\n",
       "      <th>4</th>\n",
       "      <td>5</td>\n",
       "      <td>Female</td>\n",
       "      <td>137</td>\n",
       "      <td>132</td>\n",
       "      <td>134</td>\n",
       "      <td>147.0</td>\n",
       "      <td>65.0</td>\n",
       "      <td>951545</td>\n",
       "    </tr>\n",
       "    <tr>\n",
       "      <th>5</th>\n",
       "      <td>6</td>\n",
       "      <td>Female</td>\n",
       "      <td>99</td>\n",
       "      <td>90</td>\n",
       "      <td>110</td>\n",
       "      <td>146.0</td>\n",
       "      <td>69.0</td>\n",
       "      <td>928799</td>\n",
       "    </tr>\n",
       "    <tr>\n",
       "      <th>6</th>\n",
       "      <td>7</td>\n",
       "      <td>Female</td>\n",
       "      <td>138</td>\n",
       "      <td>136</td>\n",
       "      <td>131</td>\n",
       "      <td>138.0</td>\n",
       "      <td>64.5</td>\n",
       "      <td>991305</td>\n",
       "    </tr>\n",
       "    <tr>\n",
       "      <th>7</th>\n",
       "      <td>8</td>\n",
       "      <td>Female</td>\n",
       "      <td>92</td>\n",
       "      <td>90</td>\n",
       "      <td>98</td>\n",
       "      <td>175.0</td>\n",
       "      <td>66.0</td>\n",
       "      <td>854258</td>\n",
       "    </tr>\n",
       "    <tr>\n",
       "      <th>8</th>\n",
       "      <td>9</td>\n",
       "      <td>Male</td>\n",
       "      <td>89</td>\n",
       "      <td>93</td>\n",
       "      <td>84</td>\n",
       "      <td>134.0</td>\n",
       "      <td>66.3</td>\n",
       "      <td>904858</td>\n",
       "    </tr>\n",
       "    <tr>\n",
       "      <th>9</th>\n",
       "      <td>10</td>\n",
       "      <td>Male</td>\n",
       "      <td>133</td>\n",
       "      <td>114</td>\n",
       "      <td>147</td>\n",
       "      <td>172.0</td>\n",
       "      <td>68.8</td>\n",
       "      <td>955466</td>\n",
       "    </tr>\n",
       "    <tr>\n",
       "      <th>10</th>\n",
       "      <td>11</td>\n",
       "      <td>Female</td>\n",
       "      <td>132</td>\n",
       "      <td>129</td>\n",
       "      <td>124</td>\n",
       "      <td>118.0</td>\n",
       "      <td>64.5</td>\n",
       "      <td>833868</td>\n",
       "    </tr>\n",
       "    <tr>\n",
       "      <th>11</th>\n",
       "      <td>12</td>\n",
       "      <td>Male</td>\n",
       "      <td>141</td>\n",
       "      <td>150</td>\n",
       "      <td>128</td>\n",
       "      <td>151.0</td>\n",
       "      <td>70.0</td>\n",
       "      <td>1079549</td>\n",
       "    </tr>\n",
       "    <tr>\n",
       "      <th>12</th>\n",
       "      <td>13</td>\n",
       "      <td>Male</td>\n",
       "      <td>135</td>\n",
       "      <td>129</td>\n",
       "      <td>124</td>\n",
       "      <td>155.0</td>\n",
       "      <td>69.0</td>\n",
       "      <td>924059</td>\n",
       "    </tr>\n",
       "    <tr>\n",
       "      <th>13</th>\n",
       "      <td>14</td>\n",
       "      <td>Female</td>\n",
       "      <td>140</td>\n",
       "      <td>120</td>\n",
       "      <td>147</td>\n",
       "      <td>155.0</td>\n",
       "      <td>70.5</td>\n",
       "      <td>856472</td>\n",
       "    </tr>\n",
       "    <tr>\n",
       "      <th>14</th>\n",
       "      <td>15</td>\n",
       "      <td>Female</td>\n",
       "      <td>96</td>\n",
       "      <td>100</td>\n",
       "      <td>90</td>\n",
       "      <td>146.0</td>\n",
       "      <td>66.0</td>\n",
       "      <td>878897</td>\n",
       "    </tr>\n",
       "    <tr>\n",
       "      <th>15</th>\n",
       "      <td>16</td>\n",
       "      <td>Female</td>\n",
       "      <td>83</td>\n",
       "      <td>71</td>\n",
       "      <td>96</td>\n",
       "      <td>135.0</td>\n",
       "      <td>68.0</td>\n",
       "      <td>865363</td>\n",
       "    </tr>\n",
       "    <tr>\n",
       "      <th>16</th>\n",
       "      <td>17</td>\n",
       "      <td>Female</td>\n",
       "      <td>132</td>\n",
       "      <td>132</td>\n",
       "      <td>120</td>\n",
       "      <td>127.0</td>\n",
       "      <td>68.5</td>\n",
       "      <td>852244</td>\n",
       "    </tr>\n",
       "    <tr>\n",
       "      <th>17</th>\n",
       "      <td>18</td>\n",
       "      <td>Male</td>\n",
       "      <td>100</td>\n",
       "      <td>96</td>\n",
       "      <td>102</td>\n",
       "      <td>178.0</td>\n",
       "      <td>73.5</td>\n",
       "      <td>945088</td>\n",
       "    </tr>\n",
       "    <tr>\n",
       "      <th>18</th>\n",
       "      <td>19</td>\n",
       "      <td>Female</td>\n",
       "      <td>101</td>\n",
       "      <td>112</td>\n",
       "      <td>84</td>\n",
       "      <td>136.0</td>\n",
       "      <td>66.3</td>\n",
       "      <td>808020</td>\n",
       "    </tr>\n",
       "    <tr>\n",
       "      <th>19</th>\n",
       "      <td>20</td>\n",
       "      <td>Male</td>\n",
       "      <td>80</td>\n",
       "      <td>77</td>\n",
       "      <td>86</td>\n",
       "      <td>180.0</td>\n",
       "      <td>70.0</td>\n",
       "      <td>889083</td>\n",
       "    </tr>\n",
       "    <tr>\n",
       "      <th>20</th>\n",
       "      <td>21</td>\n",
       "      <td>Male</td>\n",
       "      <td>83</td>\n",
       "      <td>83</td>\n",
       "      <td>86</td>\n",
       "      <td>NaN</td>\n",
       "      <td>NaN</td>\n",
       "      <td>892420</td>\n",
       "    </tr>\n",
       "    <tr>\n",
       "      <th>21</th>\n",
       "      <td>22</td>\n",
       "      <td>Male</td>\n",
       "      <td>97</td>\n",
       "      <td>107</td>\n",
       "      <td>84</td>\n",
       "      <td>186.0</td>\n",
       "      <td>76.5</td>\n",
       "      <td>905940</td>\n",
       "    </tr>\n",
       "    <tr>\n",
       "      <th>22</th>\n",
       "      <td>23</td>\n",
       "      <td>Female</td>\n",
       "      <td>135</td>\n",
       "      <td>129</td>\n",
       "      <td>134</td>\n",
       "      <td>122.0</td>\n",
       "      <td>62.0</td>\n",
       "      <td>790619</td>\n",
       "    </tr>\n",
       "    <tr>\n",
       "      <th>23</th>\n",
       "      <td>24</td>\n",
       "      <td>Male</td>\n",
       "      <td>139</td>\n",
       "      <td>145</td>\n",
       "      <td>128</td>\n",
       "      <td>132.0</td>\n",
       "      <td>68.0</td>\n",
       "      <td>955003</td>\n",
       "    </tr>\n",
       "    <tr>\n",
       "      <th>24</th>\n",
       "      <td>25</td>\n",
       "      <td>Female</td>\n",
       "      <td>91</td>\n",
       "      <td>86</td>\n",
       "      <td>102</td>\n",
       "      <td>114.0</td>\n",
       "      <td>63.0</td>\n",
       "      <td>831772</td>\n",
       "    </tr>\n",
       "    <tr>\n",
       "      <th>25</th>\n",
       "      <td>26</td>\n",
       "      <td>Male</td>\n",
       "      <td>141</td>\n",
       "      <td>145</td>\n",
       "      <td>131</td>\n",
       "      <td>171.0</td>\n",
       "      <td>72.0</td>\n",
       "      <td>935494</td>\n",
       "    </tr>\n",
       "    <tr>\n",
       "      <th>26</th>\n",
       "      <td>27</td>\n",
       "      <td>Female</td>\n",
       "      <td>85</td>\n",
       "      <td>90</td>\n",
       "      <td>84</td>\n",
       "      <td>140.0</td>\n",
       "      <td>68.0</td>\n",
       "      <td>798612</td>\n",
       "    </tr>\n",
       "    <tr>\n",
       "      <th>27</th>\n",
       "      <td>28</td>\n",
       "      <td>Male</td>\n",
       "      <td>103</td>\n",
       "      <td>96</td>\n",
       "      <td>110</td>\n",
       "      <td>187.0</td>\n",
       "      <td>77.0</td>\n",
       "      <td>1062462</td>\n",
       "    </tr>\n",
       "    <tr>\n",
       "      <th>28</th>\n",
       "      <td>29</td>\n",
       "      <td>Female</td>\n",
       "      <td>77</td>\n",
       "      <td>83</td>\n",
       "      <td>72</td>\n",
       "      <td>106.0</td>\n",
       "      <td>63.0</td>\n",
       "      <td>793549</td>\n",
       "    </tr>\n",
       "    <tr>\n",
       "      <th>29</th>\n",
       "      <td>30</td>\n",
       "      <td>Female</td>\n",
       "      <td>130</td>\n",
       "      <td>126</td>\n",
       "      <td>124</td>\n",
       "      <td>159.0</td>\n",
       "      <td>66.5</td>\n",
       "      <td>866662</td>\n",
       "    </tr>\n",
       "    <tr>\n",
       "      <th>30</th>\n",
       "      <td>31</td>\n",
       "      <td>Female</td>\n",
       "      <td>133</td>\n",
       "      <td>126</td>\n",
       "      <td>132</td>\n",
       "      <td>127.0</td>\n",
       "      <td>62.5</td>\n",
       "      <td>857782</td>\n",
       "    </tr>\n",
       "    <tr>\n",
       "      <th>31</th>\n",
       "      <td>32</td>\n",
       "      <td>Male</td>\n",
       "      <td>144</td>\n",
       "      <td>145</td>\n",
       "      <td>137</td>\n",
       "      <td>191.0</td>\n",
       "      <td>67.0</td>\n",
       "      <td>949589</td>\n",
       "    </tr>\n",
       "    <tr>\n",
       "      <th>32</th>\n",
       "      <td>33</td>\n",
       "      <td>Male</td>\n",
       "      <td>103</td>\n",
       "      <td>96</td>\n",
       "      <td>110</td>\n",
       "      <td>192.0</td>\n",
       "      <td>75.5</td>\n",
       "      <td>997925</td>\n",
       "    </tr>\n",
       "    <tr>\n",
       "      <th>33</th>\n",
       "      <td>34</td>\n",
       "      <td>Male</td>\n",
       "      <td>90</td>\n",
       "      <td>96</td>\n",
       "      <td>86</td>\n",
       "      <td>181.0</td>\n",
       "      <td>69.0</td>\n",
       "      <td>879987</td>\n",
       "    </tr>\n",
       "    <tr>\n",
       "      <th>34</th>\n",
       "      <td>35</td>\n",
       "      <td>Female</td>\n",
       "      <td>83</td>\n",
       "      <td>90</td>\n",
       "      <td>81</td>\n",
       "      <td>143.0</td>\n",
       "      <td>66.5</td>\n",
       "      <td>834344</td>\n",
       "    </tr>\n",
       "    <tr>\n",
       "      <th>35</th>\n",
       "      <td>36</td>\n",
       "      <td>Female</td>\n",
       "      <td>133</td>\n",
       "      <td>129</td>\n",
       "      <td>128</td>\n",
       "      <td>153.0</td>\n",
       "      <td>66.5</td>\n",
       "      <td>948066</td>\n",
       "    </tr>\n",
       "    <tr>\n",
       "      <th>36</th>\n",
       "      <td>37</td>\n",
       "      <td>Male</td>\n",
       "      <td>140</td>\n",
       "      <td>150</td>\n",
       "      <td>124</td>\n",
       "      <td>144.0</td>\n",
       "      <td>70.5</td>\n",
       "      <td>949395</td>\n",
       "    </tr>\n",
       "    <tr>\n",
       "      <th>37</th>\n",
       "      <td>38</td>\n",
       "      <td>Female</td>\n",
       "      <td>88</td>\n",
       "      <td>86</td>\n",
       "      <td>94</td>\n",
       "      <td>139.0</td>\n",
       "      <td>64.5</td>\n",
       "      <td>893983</td>\n",
       "    </tr>\n",
       "    <tr>\n",
       "      <th>38</th>\n",
       "      <td>39</td>\n",
       "      <td>Male</td>\n",
       "      <td>81</td>\n",
       "      <td>90</td>\n",
       "      <td>74</td>\n",
       "      <td>148.0</td>\n",
       "      <td>74.0</td>\n",
       "      <td>930016</td>\n",
       "    </tr>\n",
       "    <tr>\n",
       "      <th>39</th>\n",
       "      <td>40</td>\n",
       "      <td>Male</td>\n",
       "      <td>89</td>\n",
       "      <td>91</td>\n",
       "      <td>89</td>\n",
       "      <td>179.0</td>\n",
       "      <td>75.5</td>\n",
       "      <td>935863</td>\n",
       "    </tr>\n",
       "  </tbody>\n",
       "</table>\n",
       "</div>"
      ],
      "text/plain": [
       "    Unnamed: 0  Gender  FSIQ  VIQ  PIQ  Weight  Height  MRI_Count\n",
       "0            1  Female   133  132  124   118.0    64.5     816932\n",
       "1            2    Male   140  150  124     NaN    72.5    1001121\n",
       "2            3    Male   139  123  150   143.0    73.3    1038437\n",
       "3            4    Male   133  129  128   172.0    68.8     965353\n",
       "4            5  Female   137  132  134   147.0    65.0     951545\n",
       "5            6  Female    99   90  110   146.0    69.0     928799\n",
       "6            7  Female   138  136  131   138.0    64.5     991305\n",
       "7            8  Female    92   90   98   175.0    66.0     854258\n",
       "8            9    Male    89   93   84   134.0    66.3     904858\n",
       "9           10    Male   133  114  147   172.0    68.8     955466\n",
       "10          11  Female   132  129  124   118.0    64.5     833868\n",
       "11          12    Male   141  150  128   151.0    70.0    1079549\n",
       "12          13    Male   135  129  124   155.0    69.0     924059\n",
       "13          14  Female   140  120  147   155.0    70.5     856472\n",
       "14          15  Female    96  100   90   146.0    66.0     878897\n",
       "15          16  Female    83   71   96   135.0    68.0     865363\n",
       "16          17  Female   132  132  120   127.0    68.5     852244\n",
       "17          18    Male   100   96  102   178.0    73.5     945088\n",
       "18          19  Female   101  112   84   136.0    66.3     808020\n",
       "19          20    Male    80   77   86   180.0    70.0     889083\n",
       "20          21    Male    83   83   86     NaN     NaN     892420\n",
       "21          22    Male    97  107   84   186.0    76.5     905940\n",
       "22          23  Female   135  129  134   122.0    62.0     790619\n",
       "23          24    Male   139  145  128   132.0    68.0     955003\n",
       "24          25  Female    91   86  102   114.0    63.0     831772\n",
       "25          26    Male   141  145  131   171.0    72.0     935494\n",
       "26          27  Female    85   90   84   140.0    68.0     798612\n",
       "27          28    Male   103   96  110   187.0    77.0    1062462\n",
       "28          29  Female    77   83   72   106.0    63.0     793549\n",
       "29          30  Female   130  126  124   159.0    66.5     866662\n",
       "30          31  Female   133  126  132   127.0    62.5     857782\n",
       "31          32    Male   144  145  137   191.0    67.0     949589\n",
       "32          33    Male   103   96  110   192.0    75.5     997925\n",
       "33          34    Male    90   96   86   181.0    69.0     879987\n",
       "34          35  Female    83   90   81   143.0    66.5     834344\n",
       "35          36  Female   133  129  128   153.0    66.5     948066\n",
       "36          37    Male   140  150  124   144.0    70.5     949395\n",
       "37          38  Female    88   86   94   139.0    64.5     893983\n",
       "38          39    Male    81   90   74   148.0    74.0     930016\n",
       "39          40    Male    89   91   89   179.0    75.5     935863"
      ]
     },
     "execution_count": 2,
     "metadata": {},
     "output_type": "execute_result"
    }
   ],
   "source": [
    "# Ajustando o conteúdo do arquivo \"brain_size.csv\"\n",
    "data = pd.read_csv('brain_size.csv', sep=';', na_values=\".\")\n",
    "\n",
    "# Exibindo o conteúdo do DataFrame \"data\".\n",
    "data.head(None)"
   ]
  },
  {
   "cell_type": "markdown",
   "id": "6ce48c2b",
   "metadata": {
    "hidden": true
   },
   "source": [
    "No arquivo CSV fornecido no link https://scipy-lectures.org/_downloads/brain_size.csv, os parâmetros representam as seguintes informações:\n",
    "\n",
    "- **Unnamed: 0**: Essa coluna é uma numeração de índice que não possui um rótulo específico. Geralmente, os dados importados de um arquivo CSV têm uma coluna de índice padrão que pode ser renomeada ou ignorada, dependendo da necessidade do usuário.\n",
    "- **Gender**: Esta coluna indica o gênero das pessoas registradas nos dados. Pode conter informações sobre se a pessoa é do sexo masculino ou feminino.\n",
    "- **FSIQ**: Essa coluna representa o Quociente de Inteligência em Escala Total (FSIQ - Full Scale Intelligence Quotient) das pessoas. O FSIQ é uma medida geral do desempenho intelectual, que avalia habilidades cognitivas, como raciocínio lógico, memória, habilidades verbais e habilidades visuais.\n",
    "- **VIQ**: Essa coluna representa o Quociente de Inteligência Verbal (VIQ - Verbal Intelligence Quotient) das pessoas. O VIQ avalia habilidades verbais e linguísticas, como compreensão verbal, vocabulário e fluência verbal.\n",
    "- **PIQ**: Essa coluna representa o Quociente de Inteligência Perceptual (PIQ - Perceptual Intelligence Quotient) das pessoas. O PIQ avalia habilidades perceptuais e de raciocínio visual, como raciocínio espacial, habilidades de manipulação de objetos e resolução de problemas visuais.\n",
    "- **Weight:** Essa coluna indica o peso das pessoas registradas nos dados. Pode ser uma medida de peso em uma determinada unidade, como quilogramas ou libras.\n",
    "- **Height**: Esta coluna indica a altura das pessoas registradas nos dados. Pode ser uma medida de altura em uma determinada unidade, como centímetros ou polegadas.\n",
    "- **MRI_Count**: Essa coluna representa a contagem de imagens de ressonância magnética (MRI - Magnetic Resonance Imaging) do cérebro das pessoas. Essa medida pode ser uma indicação do tamanho ou volume do cérebro."
   ]
  },
  {
   "cell_type": "markdown",
   "id": "7d8410da",
   "metadata": {
    "hidden": true
   },
   "source": [
    "A seguir, apresentaremos algumas consultas básicas realizadas em um arquivo CSV. Muitas delas já foram abordadas anteriormente. O objetivo aqui é observar como essas medidas podem auxiliar na compreensão de um conjunto de dados. Obviamente, nem todas podem ser adequadas aos dados \"brain_size.csv\"."
   ]
  },
  {
   "cell_type": "code",
   "execution_count": 3,
   "id": "58602c09",
   "metadata": {
    "ExecuteTime": {
     "end_time": "2023-07-03T22:26:01.740813Z",
     "start_time": "2023-07-03T22:26:01.725873Z"
    },
    "hidden": true
   },
   "outputs": [
    {
     "data": {
      "text/html": [
       "<div>\n",
       "<style scoped>\n",
       "    .dataframe tbody tr th:only-of-type {\n",
       "        vertical-align: middle;\n",
       "    }\n",
       "\n",
       "    .dataframe tbody tr th {\n",
       "        vertical-align: top;\n",
       "    }\n",
       "\n",
       "    .dataframe thead th {\n",
       "        text-align: right;\n",
       "    }\n",
       "</style>\n",
       "<table border=\"1\" class=\"dataframe\">\n",
       "  <thead>\n",
       "    <tr style=\"text-align: right;\">\n",
       "      <th></th>\n",
       "      <th>Unnamed: 0</th>\n",
       "      <th>Gender</th>\n",
       "      <th>FSIQ</th>\n",
       "      <th>VIQ</th>\n",
       "      <th>PIQ</th>\n",
       "      <th>Weight</th>\n",
       "      <th>Height</th>\n",
       "      <th>MRI_Count</th>\n",
       "    </tr>\n",
       "  </thead>\n",
       "  <tbody>\n",
       "    <tr>\n",
       "      <th>0</th>\n",
       "      <td>1</td>\n",
       "      <td>Female</td>\n",
       "      <td>133</td>\n",
       "      <td>132</td>\n",
       "      <td>124</td>\n",
       "      <td>118.0</td>\n",
       "      <td>64.5</td>\n",
       "      <td>816932</td>\n",
       "    </tr>\n",
       "    <tr>\n",
       "      <th>1</th>\n",
       "      <td>2</td>\n",
       "      <td>Male</td>\n",
       "      <td>140</td>\n",
       "      <td>150</td>\n",
       "      <td>124</td>\n",
       "      <td>NaN</td>\n",
       "      <td>72.5</td>\n",
       "      <td>1001121</td>\n",
       "    </tr>\n",
       "    <tr>\n",
       "      <th>2</th>\n",
       "      <td>3</td>\n",
       "      <td>Male</td>\n",
       "      <td>139</td>\n",
       "      <td>123</td>\n",
       "      <td>150</td>\n",
       "      <td>143.0</td>\n",
       "      <td>73.3</td>\n",
       "      <td>1038437</td>\n",
       "    </tr>\n",
       "    <tr>\n",
       "      <th>3</th>\n",
       "      <td>4</td>\n",
       "      <td>Male</td>\n",
       "      <td>133</td>\n",
       "      <td>129</td>\n",
       "      <td>128</td>\n",
       "      <td>172.0</td>\n",
       "      <td>68.8</td>\n",
       "      <td>965353</td>\n",
       "    </tr>\n",
       "    <tr>\n",
       "      <th>4</th>\n",
       "      <td>5</td>\n",
       "      <td>Female</td>\n",
       "      <td>137</td>\n",
       "      <td>132</td>\n",
       "      <td>134</td>\n",
       "      <td>147.0</td>\n",
       "      <td>65.0</td>\n",
       "      <td>951545</td>\n",
       "    </tr>\n",
       "  </tbody>\n",
       "</table>\n",
       "</div>"
      ],
      "text/plain": [
       "   Unnamed: 0  Gender  FSIQ  VIQ  PIQ  Weight  Height  MRI_Count\n",
       "0           1  Female   133  132  124   118.0    64.5     816932\n",
       "1           2    Male   140  150  124     NaN    72.5    1001121\n",
       "2           3    Male   139  123  150   143.0    73.3    1038437\n",
       "3           4    Male   133  129  128   172.0    68.8     965353\n",
       "4           5  Female   137  132  134   147.0    65.0     951545"
      ]
     },
     "execution_count": 3,
     "metadata": {},
     "output_type": "execute_result"
    }
   ],
   "source": [
    "# Importando a biblioteca pandas como pd e lendo o arquivo CSV \"brain_size.csv\" para o DataFrame \"brain_size\".\n",
    "import pandas as pd\n",
    "\n",
    "# Arquivo \"brain_size.csv\" ajustado\n",
    "data = pd.read_csv('brain_size.csv', sep=';', na_values=\".\")\n",
    "\n",
    "# Visualizando o dataframe \"data\"\n",
    "data.head(5)"
   ]
  },
  {
   "cell_type": "markdown",
   "id": "227b74b1",
   "metadata": {
    "heading_collapsed": true,
    "hidden": true
   },
   "source": [
    "### <div style=\"margin-top: -20px;\">\n",
    "<hr style=\"border: 2px solid blue;\">\n",
    "\n",
    "<font color='blue'><span style=\"font-size: 18px;\"><strong>25.1.2 Medidas Informações, Medidas Estatísticas e Graficos Associada ao Arquivo de Exemplificação</strong></span></font>\n",
    "\n",
    "<hr style=\"border: 2px solid blue;\">\n",
    "</div>"
   ]
  },
  {
   "cell_type": "markdown",
   "id": "48f750ab",
   "metadata": {
    "heading_collapsed": true,
    "hidden": true
   },
   "source": [
    "#### Exibindo o número de linhas e colunas"
   ]
  },
  {
   "cell_type": "code",
   "execution_count": 4,
   "id": "e56118c2",
   "metadata": {
    "ExecuteTime": {
     "end_time": "2023-07-03T22:26:03.357722Z",
     "start_time": "2023-07-03T22:26:03.349744Z"
    },
    "hidden": true
   },
   "outputs": [
    {
     "name": "stdout",
     "output_type": "stream",
     "text": [
      "40\n",
      "8\n"
     ]
    }
   ],
   "source": [
    "# Importando a biblioteca pandas como pd e lendo o arquivo CSV \"brain_size.csv\" para o DataFrame \"brain_size\".\n",
    "import pandas as pd\n",
    "\n",
    "# Arquivo \"brain_size.csv\" ajustado\n",
    "data = pd.read_csv('brain_size.csv', sep=';', na_values=\".\")\n",
    "\n",
    "# Obtendo o número de linhas e de colunas\n",
    "n_linhas = data.shape[0]\n",
    "n_colunas = data.shape[1]\n",
    "\n",
    "# Imprimindo número de linhas e número de colunas\n",
    "print(n_linhas)\n",
    "print(n_colunas)"
   ]
  },
  {
   "cell_type": "markdown",
   "id": "00f1e39d",
   "metadata": {
    "heading_collapsed": true,
    "hidden": true
   },
   "source": [
    "#### Exibindo os rótulos das colunas"
   ]
  },
  {
   "cell_type": "code",
   "execution_count": 5,
   "id": "81fc31a6",
   "metadata": {
    "ExecuteTime": {
     "end_time": "2023-07-03T22:26:04.886733Z",
     "start_time": "2023-07-03T22:26:04.877748Z"
    },
    "hidden": true
   },
   "outputs": [
    {
     "data": {
      "text/plain": [
       "Index(['Unnamed: 0', 'Gender', 'FSIQ', 'VIQ', 'PIQ', 'Weight', 'Height',\n",
       "       'MRI_Count'],\n",
       "      dtype='object')"
      ]
     },
     "execution_count": 5,
     "metadata": {},
     "output_type": "execute_result"
    }
   ],
   "source": [
    "# Importando a biblioteca pandas como pd e lendo o arquivo CSV \"brain_size.csv\" para o DataFrame \"brain_size\".\n",
    "import pandas as pd\n",
    "\n",
    "# Arquivo \"brain_size.csv\" ajustado\n",
    "data = pd.read_csv('brain_size.csv', sep=';', na_values=\".\")\n",
    "\n",
    "# Rótulos das colunas do dataframe \"data\"\n",
    "data.columns"
   ]
  },
  {
   "cell_type": "markdown",
   "id": "37cbc244",
   "metadata": {
    "ExecuteTime": {
     "end_time": "2023-06-29T18:40:53.704594Z",
     "start_time": "2023-06-29T18:40:53.700594Z"
    },
    "heading_collapsed": true,
    "hidden": true
   },
   "source": [
    "#### Exibindo dados de uma ou mais colunas"
   ]
  },
  {
   "cell_type": "code",
   "execution_count": 6,
   "id": "c9985c38",
   "metadata": {
    "ExecuteTime": {
     "end_time": "2023-07-03T22:26:06.576711Z",
     "start_time": "2023-07-03T22:26:06.565737Z"
    },
    "hidden": true
   },
   "outputs": [
    {
     "data": {
      "text/html": [
       "<div>\n",
       "<style scoped>\n",
       "    .dataframe tbody tr th:only-of-type {\n",
       "        vertical-align: middle;\n",
       "    }\n",
       "\n",
       "    .dataframe tbody tr th {\n",
       "        vertical-align: top;\n",
       "    }\n",
       "\n",
       "    .dataframe thead th {\n",
       "        text-align: right;\n",
       "    }\n",
       "</style>\n",
       "<table border=\"1\" class=\"dataframe\">\n",
       "  <thead>\n",
       "    <tr style=\"text-align: right;\">\n",
       "      <th></th>\n",
       "      <th>Gender</th>\n",
       "    </tr>\n",
       "  </thead>\n",
       "  <tbody>\n",
       "    <tr>\n",
       "      <th>0</th>\n",
       "      <td>Female</td>\n",
       "    </tr>\n",
       "    <tr>\n",
       "      <th>1</th>\n",
       "      <td>Male</td>\n",
       "    </tr>\n",
       "    <tr>\n",
       "      <th>2</th>\n",
       "      <td>Male</td>\n",
       "    </tr>\n",
       "    <tr>\n",
       "      <th>3</th>\n",
       "      <td>Male</td>\n",
       "    </tr>\n",
       "    <tr>\n",
       "      <th>4</th>\n",
       "      <td>Female</td>\n",
       "    </tr>\n",
       "  </tbody>\n",
       "</table>\n",
       "</div>"
      ],
      "text/plain": [
       "   Gender\n",
       "0  Female\n",
       "1    Male\n",
       "2    Male\n",
       "3    Male\n",
       "4  Female"
      ]
     },
     "execution_count": 6,
     "metadata": {},
     "output_type": "execute_result"
    }
   ],
   "source": [
    "# Importando a biblioteca pandas como pd e lendo o arquivo CSV \"brain_size.csv\" para o DataFrame \"brain_size\".\n",
    "import pandas as pd\n",
    "\n",
    "# Arquivo \"brain_size.csv\" ajustado\n",
    "data = pd.read_csv('brain_size.csv', sep=';', na_values=\".\")\n",
    "\n",
    "# Dados da referente a uma coluna\n",
    "pd.DataFrame(data[\"Gender\"].head(5))"
   ]
  },
  {
   "cell_type": "code",
   "execution_count": 7,
   "id": "9ae6b520",
   "metadata": {
    "ExecuteTime": {
     "end_time": "2023-07-03T22:26:07.547703Z",
     "start_time": "2023-07-03T22:26:07.533738Z"
    },
    "hidden": true,
    "scrolled": true
   },
   "outputs": [
    {
     "data": {
      "text/html": [
       "<div>\n",
       "<style scoped>\n",
       "    .dataframe tbody tr th:only-of-type {\n",
       "        vertical-align: middle;\n",
       "    }\n",
       "\n",
       "    .dataframe tbody tr th {\n",
       "        vertical-align: top;\n",
       "    }\n",
       "\n",
       "    .dataframe thead th {\n",
       "        text-align: right;\n",
       "    }\n",
       "</style>\n",
       "<table border=\"1\" class=\"dataframe\">\n",
       "  <thead>\n",
       "    <tr style=\"text-align: right;\">\n",
       "      <th></th>\n",
       "      <th>Gender</th>\n",
       "      <th>FSIQ</th>\n",
       "    </tr>\n",
       "  </thead>\n",
       "  <tbody>\n",
       "    <tr>\n",
       "      <th>0</th>\n",
       "      <td>Female</td>\n",
       "      <td>133</td>\n",
       "    </tr>\n",
       "    <tr>\n",
       "      <th>1</th>\n",
       "      <td>Male</td>\n",
       "      <td>140</td>\n",
       "    </tr>\n",
       "    <tr>\n",
       "      <th>2</th>\n",
       "      <td>Male</td>\n",
       "      <td>139</td>\n",
       "    </tr>\n",
       "    <tr>\n",
       "      <th>3</th>\n",
       "      <td>Male</td>\n",
       "      <td>133</td>\n",
       "    </tr>\n",
       "    <tr>\n",
       "      <th>4</th>\n",
       "      <td>Female</td>\n",
       "      <td>137</td>\n",
       "    </tr>\n",
       "  </tbody>\n",
       "</table>\n",
       "</div>"
      ],
      "text/plain": [
       "   Gender  FSIQ\n",
       "0  Female   133\n",
       "1    Male   140\n",
       "2    Male   139\n",
       "3    Male   133\n",
       "4  Female   137"
      ]
     },
     "execution_count": 7,
     "metadata": {},
     "output_type": "execute_result"
    }
   ],
   "source": [
    "# Importando a biblioteca pandas como pd e lendo o arquivo CSV \"brain_size.csv\" para o DataFrame \"brain_size\".\n",
    "import pandas as pd\n",
    "\n",
    "# Arquivo \"brain_size.csv\" ajustado\n",
    "data = pd.read_csv('brain_size.csv', sep=';', na_values=\".\")\n",
    "\n",
    "# Dados da referente a duas colunas\n",
    "pd.DataFrame(data[[\"Gender\",\"FSIQ\"]].head(5))"
   ]
  },
  {
   "cell_type": "markdown",
   "id": "cc71d98e",
   "metadata": {
    "ExecuteTime": {
     "end_time": "2023-06-29T22:09:38.278673Z",
     "start_time": "2023-06-29T22:09:38.274662Z"
    },
    "heading_collapsed": true,
    "hidden": true
   },
   "source": [
    "#### Extraindo informações das colunas"
   ]
  },
  {
   "cell_type": "code",
   "execution_count": 8,
   "id": "a3d4b709",
   "metadata": {
    "ExecuteTime": {
     "end_time": "2023-07-03T22:26:09.026687Z",
     "start_time": "2023-07-03T22:26:09.013723Z"
    },
    "hidden": true
   },
   "outputs": [
    {
     "name": "stdout",
     "output_type": "stream",
     "text": [
      "<class 'pandas.core.frame.DataFrame'>\n",
      "RangeIndex: 40 entries, 0 to 39\n",
      "Data columns (total 8 columns):\n",
      " #   Column      Non-Null Count  Dtype  \n",
      "---  ------      --------------  -----  \n",
      " 0   Unnamed: 0  40 non-null     int64  \n",
      " 1   Gender      40 non-null     object \n",
      " 2   FSIQ        40 non-null     int64  \n",
      " 3   VIQ         40 non-null     int64  \n",
      " 4   PIQ         40 non-null     int64  \n",
      " 5   Weight      38 non-null     float64\n",
      " 6   Height      39 non-null     float64\n",
      " 7   MRI_Count   40 non-null     int64  \n",
      "dtypes: float64(2), int64(5), object(1)\n",
      "memory usage: 2.6+ KB\n"
     ]
    }
   ],
   "source": [
    "# Importando a biblioteca pandas como pd\n",
    "import pandas as pd\n",
    "\n",
    "# Arquivo \"brain_size.csv\" ajustado\n",
    "data = pd.read_csv('brain_size.csv', sep=';', na_values=\".\")\n",
    "\n",
    "# Obter informações sobre as colunas\n",
    "data.info()"
   ]
  },
  {
   "cell_type": "markdown",
   "id": "d787819e",
   "metadata": {
    "hidden": true
   },
   "source": [
    "Note que nas colunas \"Weight\" e \"Height\" existem valores encarados como nulos ou inexistentes uma vez que temos 40 dados mas foram apontados 38 e 39 nas linhas 5 e 6 respectivamente."
   ]
  },
  {
   "cell_type": "markdown",
   "id": "6be81584",
   "metadata": {
    "heading_collapsed": true,
    "hidden": true
   },
   "source": [
    "#### Calculando medidas estatísticas básiscas"
   ]
  },
  {
   "cell_type": "markdown",
   "id": "95e6d6e3",
   "metadata": {
    "hidden": true
   },
   "source": [
    "Vejamos agora algumas das medidas estatísticas básicas mais comumente utilizadas na análise de dados. É importante ressaltar que nem todas essas medidas podem ser aplicáveis aos dados contidos no arquivo \"brain_size.csv\". Em casos em que essas medidas não se adequam aos dados em questão, a interpretação dos resultados pode requerer informações adicionais que não estão disponíveis neste material."
   ]
  },
  {
   "cell_type": "markdown",
   "id": "3f8773db",
   "metadata": {
    "heading_collapsed": true,
    "hidden": true
   },
   "source": [
    "##### Média (mean())"
   ]
  },
  {
   "cell_type": "markdown",
   "id": "6380b00d",
   "metadata": {
    "hidden": true
   },
   "source": [
    "A <u>média</u> é uma medida de tendência central que representa o valor médio de um conjunto de dados. É calculada somando todos os valores e dividindo pelo número total de observações. A média é sensível a valores extremos, pois leva em consideração todos os valores no cálculo."
   ]
  },
  {
   "cell_type": "code",
   "execution_count": 9,
   "id": "4e02896d",
   "metadata": {
    "ExecuteTime": {
     "end_time": "2023-07-03T22:26:12.910902Z",
     "start_time": "2023-07-03T22:26:12.901927Z"
    },
    "hidden": true
   },
   "outputs": [
    {
     "name": "stdout",
     "output_type": "stream",
     "text": [
      "O Quociente de Inteligência Verbal médido do sexo masculino é: 115.25.\n"
     ]
    }
   ],
   "source": [
    "# Importando a biblioteca pandas como pd\n",
    "import pandas as pd\n",
    "\n",
    "# Arquivo \"brain_size.csv\" ajustado\n",
    "data = pd.read_csv('brain_size.csv', sep=';', na_values=\".\")\n",
    "\n",
    "# Média do Quociente de Inteligência Verbal do sexo masculino\n",
    "media_male_VIQ = data[data['Gender'] == 'Male']['VIQ'].mean()\n",
    "\n",
    "# Impressão da média\n",
    "print(f'O Quociente de Inteligência Verbal médido do sexo masculino é: {round(media_male_VIQ,2)}.')"
   ]
  },
  {
   "cell_type": "markdown",
   "id": "744ead1c",
   "metadata": {
    "hidden": true
   },
   "source": [
    "Uma média comumente utilizada é a <u>média ponderada</u>. Nesse tipo de média, cada valor é multiplicado pelo seu peso correspondente e, em seguida, a soma dos produtos é dividida pela soma dos pesos. No entanto, para fins de demonstração, vamos usar um exemplo diferente, uma vez que os valores não estão agrupados ou não possuem pesos atribuídos."
   ]
  },
  {
   "cell_type": "code",
   "execution_count": 10,
   "id": "845e022b",
   "metadata": {
    "ExecuteTime": {
     "end_time": "2023-07-03T22:26:14.242702Z",
     "start_time": "2023-07-03T22:26:14.237718Z"
    },
    "hidden": true
   },
   "outputs": [
    {
     "name": "stdout",
     "output_type": "stream",
     "text": [
      "A média ponderada das notas é: 7.86\n"
     ]
    }
   ],
   "source": [
    "import numpy as np\n",
    "\n",
    "# Dados de exemplo - notas e pesos\n",
    "notas = [7.5, 8.2, 6.8, 9.1, 7.0]\n",
    "pesos = [0.2, 0.3, 0.1, 0.2, 0.2]\n",
    "\n",
    "# Cálculo da média ponderada usando numpy\n",
    "media_ponderada = np.average(notas, weights=pesos)\n",
    "\n",
    "# Impressão da média ponderada\n",
    "print(f\"A média ponderada das notas é: {media_ponderada:.2f}\")"
   ]
  },
  {
   "cell_type": "markdown",
   "id": "2fb34371",
   "metadata": {
    "heading_collapsed": true,
    "hidden": true
   },
   "source": [
    "##### Mediana (median())"
   ]
  },
  {
   "cell_type": "markdown",
   "id": "614cc028",
   "metadata": {
    "hidden": true
   },
   "source": [
    "A <u>mediana</u> é o valor central de um conjunto de dados ordenado. Ela divide os dados em duas partes iguais, onde metade dos valores está acima e metade está abaixo dela. A mediana é menos sensível a valores extremos do que a média.\n"
   ]
  },
  {
   "cell_type": "code",
   "execution_count": 11,
   "id": "797c1a67",
   "metadata": {
    "ExecuteTime": {
     "end_time": "2023-07-03T22:26:15.910972Z",
     "start_time": "2023-07-03T22:26:15.900976Z"
    },
    "hidden": true
   },
   "outputs": [
    {
     "name": "stdout",
     "output_type": "stream",
     "text": [
      "A mediana do Quociente de Inteligência Verbal do sexo masculino é: 110.5.\n"
     ]
    }
   ],
   "source": [
    "import pandas as pd\n",
    "\n",
    "# Arquivo \"brain_size.csv\" ajustado\n",
    "data = pd.read_csv('brain_size.csv', sep=';', na_values=\".\")\n",
    "\n",
    "# Mediana do Quociente de Inteligência Verbal do sexo masculino\n",
    "mediana_male_VIQ = data[data['Gender'] == 'Male']['VIQ'].median()\n",
    "\n",
    "# Impressão da mediana\n",
    "print(f\"A mediana do Quociente de Inteligência Verbal do sexo masculino é: {round(mediana_male_VIQ, 2)}.\")"
   ]
  },
  {
   "cell_type": "markdown",
   "id": "6fb99260",
   "metadata": {
    "heading_collapsed": true,
    "hidden": true
   },
   "source": [
    "##### Moda (mode())"
   ]
  },
  {
   "cell_type": "markdown",
   "id": "c869b500",
   "metadata": {
    "hidden": true
   },
   "source": [
    "A <u>moda</u> é o valor que ocorre com mais frequência em um conjunto de dados. Pode haver uma única moda (unimodal) ou múltiplas modas (multimodal). A moda é útil quando se deseja identificar o valor mais comum ou frequente."
   ]
  },
  {
   "cell_type": "code",
   "execution_count": 12,
   "id": "a0578ac7",
   "metadata": {
    "ExecuteTime": {
     "end_time": "2023-07-03T22:26:17.704844Z",
     "start_time": "2023-07-03T22:26:17.693873Z"
    },
    "hidden": true
   },
   "outputs": [
    {
     "name": "stdout",
     "output_type": "stream",
     "text": [
      "A moda do Quociente de Inteligência Verbal do sexo masculino é: 96\n"
     ]
    }
   ],
   "source": [
    "import pandas as pd\n",
    "\n",
    "# Arquivo \"brain_size.csv\" ajustado\n",
    "data = pd.read_csv('brain_size.csv', sep=';', na_values=\".\")\n",
    "\n",
    "# Moda do Quociente de Inteligência Verbal do sexo masculino\n",
    "moda_male_VIQ = data[data['Gender'] == 'Male']['VIQ'].mode()\n",
    "\n",
    "# Verificar se há múltiplas modas (empates)\n",
    "if len(moda_male_VIQ) > 0:\n",
    "    # Selecionar a primeira moda (moda principal)\n",
    "    moda_principal_male_VIQ = moda_male_VIQ[0]\n",
    "    print(f\"A moda do Quociente de Inteligência Verbal do sexo masculino é: {moda_principal_male_VIQ}\")\n",
    "else:\n",
    "    print(\"Não há moda definida para o Quociente de Inteligência Verbal do sexo masculino.\")\n"
   ]
  },
  {
   "cell_type": "markdown",
   "id": "8dc0c8c5",
   "metadata": {
    "heading_collapsed": true,
    "hidden": true
   },
   "source": [
    "##### Desvio padrão (std())"
   ]
  },
  {
   "cell_type": "markdown",
   "id": "b2bdca83",
   "metadata": {
    "hidden": true
   },
   "source": [
    "O <u>desvio padrão</u> é uma medida de dispersão que indica o quão distantes os valores estão da média. Ele mede a variabilidade dos dados em relação à média. Valores maiores de desvio padrão indicam uma maior dispersão dos dados em torno da média."
   ]
  },
  {
   "cell_type": "code",
   "execution_count": 13,
   "id": "11ae538e",
   "metadata": {
    "ExecuteTime": {
     "end_time": "2023-07-03T22:26:19.861750Z",
     "start_time": "2023-07-03T22:26:19.853758Z"
    },
    "hidden": true
   },
   "outputs": [
    {
     "name": "stdout",
     "output_type": "stream",
     "text": [
      "O desvio padrão do Quociente de Inteligência Verbal (VIQ) é: 23.62\n"
     ]
    }
   ],
   "source": [
    "import pandas as pd\n",
    "\n",
    "# Arquivo \"brain_size.csv\" ajustado\n",
    "data = pd.read_csv('brain_size.csv', sep=';', na_values=\".\")\n",
    "\n",
    "# Desvio padrão do Quociente de Inteligência Verbal (VIQ)\n",
    "desvio_padrao_VIQ = data['VIQ'].std()\n",
    "\n",
    "# Impressão do desvio padrão\n",
    "print(f\"O desvio padrão do Quociente de Inteligência Verbal (VIQ) é: {round(desvio_padrao_VIQ, 2)}\")"
   ]
  },
  {
   "cell_type": "markdown",
   "id": "52f3cf34",
   "metadata": {
    "heading_collapsed": true,
    "hidden": true
   },
   "source": [
    "##### Variância (var())"
   ]
  },
  {
   "cell_type": "markdown",
   "id": "590ff253",
   "metadata": {
    "hidden": true
   },
   "source": [
    "A <u>variância</u> é uma medida de dispersão que indica a média dos quadrados das diferenças entre cada valor e a média. Ela fornece uma medida da variabilidade total dos dados."
   ]
  },
  {
   "cell_type": "code",
   "execution_count": 14,
   "id": "b8975824",
   "metadata": {
    "ExecuteTime": {
     "end_time": "2023-07-03T22:26:21.693806Z",
     "start_time": "2023-07-03T22:26:21.685827Z"
    },
    "hidden": true
   },
   "outputs": [
    {
     "name": "stdout",
     "output_type": "stream",
     "text": [
      "A variância do Quociente de Inteligência Verbal (VIQ) é: 557.72\n"
     ]
    }
   ],
   "source": [
    "import pandas as pd\n",
    "\n",
    "# Arquivo \"brain_size.csv\" ajustado\n",
    "data = pd.read_csv('brain_size.csv', sep=';', na_values=\".\")\n",
    "\n",
    "# Variância do Quociente de Inteligência Verbal (VIQ)\n",
    "variancia_VIQ = data['VIQ'].var()\n",
    "\n",
    "# Impressão da variância\n",
    "print(f\"A variância do Quociente de Inteligência Verbal (VIQ) é: {round(variancia_VIQ, 2)}\")"
   ]
  },
  {
   "cell_type": "markdown",
   "id": "19a842bb",
   "metadata": {
    "heading_collapsed": true,
    "hidden": true
   },
   "source": [
    "##### Quartis, Decis e Percentis (quantile())"
   ]
  },
  {
   "cell_type": "markdown",
   "id": "d8c30a54",
   "metadata": {
    "hidden": true
   },
   "source": [
    "Os <u>quartis</u> dividem os dados em quartis (quartiles), fornecendo uma medida da distribuição dos dados em quartos. O primeiro quartil (25%) é o valor abaixo do qual 25% dos dados estão, o segundo quartil (50%) é a mediana e o terceiro quartil (75%) é o valor abaixo do qual 75% dos dados estão."
   ]
  },
  {
   "cell_type": "code",
   "execution_count": 15,
   "id": "e6705c2e",
   "metadata": {
    "ExecuteTime": {
     "end_time": "2023-07-03T22:26:23.489665Z",
     "start_time": "2023-07-03T22:26:23.477697Z"
    },
    "hidden": true
   },
   "outputs": [
    {
     "name": "stdout",
     "output_type": "stream",
     "text": [
      "Primeiro quartil (Q1): 90.0\n",
      "Segundo quartil (Q2/Mediana): 113.0\n",
      "Terceiro quartil (Q3): 129.75\n"
     ]
    }
   ],
   "source": [
    "import pandas as pd\n",
    "\n",
    "# Arquivo \"brain_size.csv\" ajustado\n",
    "data = pd.read_csv('brain_size.csv', sep=';', na_values=\".\")\n",
    "\n",
    "# Quartis do Quociente de Inteligência Verbal (VIQ)\n",
    "quartil_25 = data['VIQ'].quantile(0.25)\n",
    "quartil_50 = data['VIQ'].quantile(0.5)\n",
    "quartil_75 = data['VIQ'].quantile(0.75)\n",
    "\n",
    "# Impressão dos quartis\n",
    "print(f\"Primeiro quartil (Q1): {quartil_25}\")\n",
    "print(f\"Segundo quartil (Q2/Mediana): {quartil_50}\")\n",
    "print(f\"Terceiro quartil (Q3): {quartil_75}\")\n"
   ]
  },
  {
   "cell_type": "markdown",
   "id": "cb1a1d26",
   "metadata": {
    "hidden": true
   },
   "source": [
    "Acrescentando as linhas de código a seguir é possível obtermos o <u>intervalo interquatílico</u>. Tal valor corresponde à diferença entre o terceiro quartil (Q3) e o primeiro quartil (Q1), ou seja, IQR = Q3 - Q1. É uma medida de dispersão que indica a variabilidade dos dados dentro do intervalo central."
   ]
  },
  {
   "cell_type": "code",
   "execution_count": 16,
   "id": "6a83c5d2",
   "metadata": {
    "ExecuteTime": {
     "end_time": "2023-07-03T22:26:24.595852Z",
     "start_time": "2023-07-03T22:26:24.589866Z"
    },
    "hidden": true
   },
   "outputs": [
    {
     "name": "stdout",
     "output_type": "stream",
     "text": [
      "O intervalo interquartil (IQR) do Quociente de Inteligência Verbal (VIQ) é: 39.75\n"
     ]
    }
   ],
   "source": [
    "# Cálculo do intervalo interquartil (IQR) do Quociente de Inteligência Verbal (VIQ)\n",
    "IQR = quartil_75 - quartil_25\n",
    "\n",
    "# Impressão do intervalo interquartil\n",
    "print(f\"O intervalo interquartil (IQR) do Quociente de Inteligência Verbal (VIQ) é: {IQR}\")"
   ]
  },
  {
   "cell_type": "markdown",
   "id": "7380d1b7",
   "metadata": {
    "hidden": true
   },
   "source": [
    "Pode-se repassar os valores 0.25, 0.5 e 0.75 para qualquer valor entre 0 e 1. Por exemplo, para o cálculo dos decis usamos 0.1, 0.2, 0.3, ..., 0.9. Para o dos percentis usamos 0.01, 0.02, 0.03, ..., 0.99."
   ]
  },
  {
   "cell_type": "markdown",
   "id": "0baf4e74",
   "metadata": {
    "heading_collapsed": true,
    "hidden": true
   },
   "source": [
    "##### Extremos (max() e min())"
   ]
  },
  {
   "cell_type": "markdown",
   "id": "a8caded4",
   "metadata": {
    "hidden": true
   },
   "source": [
    "Retorna o valores <u>máximo</u> e <u>mínimo</u> do conjunto de dados, ou seja, o valor mais baixo presente nos dados."
   ]
  },
  {
   "cell_type": "code",
   "execution_count": 17,
   "id": "d7d3cb57",
   "metadata": {
    "ExecuteTime": {
     "end_time": "2023-07-03T22:26:26.702734Z",
     "start_time": "2023-07-03T22:26:26.694732Z"
    },
    "hidden": true
   },
   "outputs": [
    {
     "name": "stdout",
     "output_type": "stream",
     "text": [
      "O valor máximo do Quociente de Inteligência Verbal (VIQ) é: 150\n",
      "O valor mínimo do Quociente de Inteligência Verbal (VIQ) é: 71\n"
     ]
    }
   ],
   "source": [
    "import pandas as pd\n",
    "\n",
    "# Arquivo \"brain_size.csv\" ajustado\n",
    "data = pd.read_csv('brain_size.csv', sep=';', na_values=\".\")\n",
    "\n",
    "# Valor máximo e mínimo do Quociente de Inteligência Verbal (VIQ)\n",
    "valor_maximo_VIQ = data['VIQ'].max()\n",
    "valor_minimo_VIQ = data['VIQ'].min()\n",
    "\n",
    "# Impressão do valor máximo e mínimo\n",
    "print(f\"O valor máximo do Quociente de Inteligência Verbal (VIQ) é: {valor_maximo_VIQ}\")\n",
    "print(f\"O valor mínimo do Quociente de Inteligência Verbal (VIQ) é: {valor_minimo_VIQ}\")\n"
   ]
  },
  {
   "cell_type": "markdown",
   "id": "bcc4322b",
   "metadata": {
    "hidden": true
   },
   "source": [
    "Pode-se calcular a <u>amplitude dos dados</u>, acrescentando as seguintes linhas ao código anterior."
   ]
  },
  {
   "cell_type": "code",
   "execution_count": 18,
   "id": "94c21794",
   "metadata": {
    "ExecuteTime": {
     "end_time": "2023-07-03T22:26:27.745678Z",
     "start_time": "2023-07-03T22:26:27.741666Z"
    },
    "hidden": true
   },
   "outputs": [
    {
     "name": "stdout",
     "output_type": "stream",
     "text": [
      "A amplitude do Quociente de Inteligência Verbal (VIQ) é: 79\n"
     ]
    }
   ],
   "source": [
    "# Amplitude do Quociente de Inteligência Verbal (VIQ)\n",
    "amplitude_VIQ = valor_maximo_VIQ - valor_minimo_VIQ\n",
    "\n",
    "# Impressão da amplitude\n",
    "print(f\"A amplitude do Quociente de Inteligência Verbal (VIQ) é: {amplitude_VIQ}\")"
   ]
  },
  {
   "cell_type": "markdown",
   "id": "ce4c1d55",
   "metadata": {
    "heading_collapsed": true,
    "hidden": true
   },
   "source": [
    "##### Coeficiente de Variação (std() / mean())"
   ]
  },
  {
   "cell_type": "markdown",
   "id": "1bf45012",
   "metadata": {
    "hidden": true
   },
   "source": [
    "É uma medida relativa de variabilidade, expressa como uma porcentagem. É calculado como o desvio padrão dividido pela média e multiplicado por 100. Indica a variabilidade em relação à magnitude dos dados."
   ]
  },
  {
   "cell_type": "code",
   "execution_count": 19,
   "id": "87b502e0",
   "metadata": {
    "ExecuteTime": {
     "end_time": "2023-07-03T22:26:29.237804Z",
     "start_time": "2023-07-03T22:26:29.229849Z"
    },
    "hidden": true
   },
   "outputs": [
    {
     "name": "stdout",
     "output_type": "stream",
     "text": [
      "O coeficiente de variação do Quociente de Inteligência Verbal (VIQ) é: 21.02%\n"
     ]
    }
   ],
   "source": [
    "import pandas as pd\n",
    "\n",
    "# Arquivo \"brain_size.csv\" ajustado\n",
    "data = pd.read_csv('brain_size.csv', sep=';', na_values=\".\")\n",
    "\n",
    "# Cálculo do coeficiente de variação do Quociente de Inteligência Verbal (VIQ)\n",
    "desvio_padrao_VIQ = data['VIQ'].std()\n",
    "media_VIQ = data['VIQ'].mean()\n",
    "coeficiente_variacao_VIQ = (desvio_padrao_VIQ / media_VIQ) * 100\n",
    "\n",
    "# Impressão do coeficiente de variação\n",
    "print(f\"O coeficiente de variação do Quociente de Inteligência Verbal (VIQ) é: {coeficiente_variacao_VIQ:.2f}%\")"
   ]
  },
  {
   "cell_type": "markdown",
   "id": "beb4e37d",
   "metadata": {
    "heading_collapsed": true,
    "hidden": true
   },
   "source": [
    "##### Skewness (skew())"
   ]
  },
  {
   "cell_type": "markdown",
   "id": "9e38d3dc",
   "metadata": {
    "hidden": true
   },
   "source": [
    "A <u>skewness</u> mede a assimetria da distribuição dos dados. Um valor de skewness próximo a zero indica uma distribuição simétrica, enquanto valores positivos ou negativos indicam assimetria positiva ou negativa, respectivamente."
   ]
  },
  {
   "cell_type": "code",
   "execution_count": 20,
   "id": "cfdd46e6",
   "metadata": {
    "ExecuteTime": {
     "end_time": "2023-07-03T22:26:30.622746Z",
     "start_time": "2023-07-03T22:26:30.613770Z"
    },
    "hidden": true
   },
   "outputs": [
    {
     "name": "stdout",
     "output_type": "stream",
     "text": [
      "A assimetria do Quociente de Inteligência Verbal (VIQ) é: 0.07\n"
     ]
    }
   ],
   "source": [
    "import pandas as pd\n",
    "\n",
    "# Arquivo \"brain_size.csv\" ajustado\n",
    "data = pd.read_csv('brain_size.csv', sep=';', na_values=\".\")\n",
    "\n",
    "# Cálculo da assimetria (skewness) do Quociente de Inteligência Verbal (VIQ)\n",
    "assimetria_VIQ = data['VIQ'].skew()\n",
    "\n",
    "# Impressão da assimetria\n",
    "print(f\"A assimetria do Quociente de Inteligência Verbal (VIQ) é: {assimetria_VIQ:.2f}\")"
   ]
  },
  {
   "cell_type": "markdown",
   "id": "bd333c42",
   "metadata": {
    "heading_collapsed": true,
    "hidden": true
   },
   "source": [
    "##### Kurtosis (kurtosis())"
   ]
  },
  {
   "cell_type": "markdown",
   "id": "fa75311e",
   "metadata": {
    "hidden": true
   },
   "source": [
    "A <u>Kurtosis</u> mede a forma da distribuição dos dados em relação à distribuição normal. Um valor de kurtosis maior do que zero indica uma distribuição mais pesada nas caudas em comparação com a distribuição normal (mesocúrtica), enquanto um valor menor do que zero indica uma distribuição mais leve nas caudas (platicúrtica)."
   ]
  },
  {
   "cell_type": "code",
   "execution_count": 21,
   "id": "3f4e1f3a",
   "metadata": {
    "ExecuteTime": {
     "end_time": "2023-07-03T22:26:31.950677Z",
     "start_time": "2023-07-03T22:26:31.940725Z"
    },
    "hidden": true
   },
   "outputs": [
    {
     "name": "stdout",
     "output_type": "stream",
     "text": [
      "A assimetria do Quociente de Inteligência Verbal (VIQ) é: 0.07\n"
     ]
    }
   ],
   "source": [
    "import pandas as pd\n",
    "\n",
    "# Arquivo \"brain_size.csv\" ajustado\n",
    "data = pd.read_csv('brain_size.csv', sep=';', na_values=\".\")\n",
    "\n",
    "# Cálculo da assimetria (skewness) do Quociente de Inteligência Verbal (VIQ)\n",
    "assimetria_VIQ = data['VIQ'].skew()\n",
    "\n",
    "# Impressão da assimetria\n",
    "print(f\"A assimetria do Quociente de Inteligência Verbal (VIQ) é: {assimetria_VIQ:.2f}\")"
   ]
  },
  {
   "cell_type": "markdown",
   "id": "1fd81990",
   "metadata": {
    "heading_collapsed": true,
    "hidden": true
   },
   "source": [
    "##### Média geométrica (gmean())"
   ]
  },
  {
   "cell_type": "markdown",
   "id": "cc2e3440",
   "metadata": {
    "hidden": true
   },
   "source": [
    "A <u>média geométrica</u> de um conjunto de dados é a raiz n-ésima do produto de todos os valores, onde n é o número de elementos. Ela é frequentemente utilizada para calcular o crescimento médio ao longo de vários períodos, como taxas de retorno em investimentos financeiros ou taxas de crescimento em dados populacionais."
   ]
  },
  {
   "cell_type": "code",
   "execution_count": 22,
   "id": "ef0b11bb",
   "metadata": {
    "ExecuteTime": {
     "end_time": "2023-07-03T22:26:33.841128Z",
     "start_time": "2023-07-03T22:26:33.285811Z"
    },
    "hidden": true
   },
   "outputs": [
    {
     "name": "stdout",
     "output_type": "stream",
     "text": [
      "A média geométrica do Quociente de Inteligência Verbal (VIQ) é: 109.89\n"
     ]
    }
   ],
   "source": [
    "import pandas as pd\n",
    "from scipy.stats import gmean\n",
    "\n",
    "# Arquivo \"brain_size.csv\" ajustado\n",
    "data = pd.read_csv('brain_size.csv', sep=';', na_values=\".\")\n",
    "\n",
    "# Cálculo da média geométrica do Quociente de Inteligência Verbal (VIQ)\n",
    "media_geom_VIQ = gmean(data['VIQ'].dropna())\n",
    "\n",
    "# Impressão da média geométrica\n",
    "print(f\"A média geométrica do Quociente de Inteligência Verbal (VIQ) é: {media_geom_VIQ:.2f}\")"
   ]
  },
  {
   "cell_type": "markdown",
   "id": "dcd6c786",
   "metadata": {
    "heading_collapsed": true,
    "hidden": true
   },
   "source": [
    "##### Média harmônica (harmonic_mean())"
   ]
  },
  {
   "cell_type": "markdown",
   "id": "c83a1e61",
   "metadata": {
    "hidden": true
   },
   "source": [
    "Calcula a média harmônica de um conjunto de dados, que é o inverso da média dos inversos dos valores. É especialmente útil quando se lida com taxas ou proporções."
   ]
  },
  {
   "cell_type": "code",
   "execution_count": 23,
   "id": "e006ef83",
   "metadata": {
    "ExecuteTime": {
     "end_time": "2023-07-03T22:26:34.718734Z",
     "start_time": "2023-07-03T22:26:34.709762Z"
    },
    "hidden": true
   },
   "outputs": [
    {
     "name": "stdout",
     "output_type": "stream",
     "text": [
      "A média harmônica do Quociente de Inteligência Verbal (VIQ) é: 107.44\n"
     ]
    }
   ],
   "source": [
    "import pandas as pd\n",
    "from scipy.stats import hmean\n",
    "\n",
    "# Arquivo \"brain_size.csv\" ajustado\n",
    "data = pd.read_csv('brain_size.csv', sep=';', na_values=\".\")\n",
    "\n",
    "# Cálculo da média harmônica do Quociente de Inteligência Verbal (VIQ)\n",
    "media_harm_VIQ = hmean(data['VIQ'].dropna())\n",
    "\n",
    "# Impressão da média harmônica\n",
    "print(f\"A média harmônica do Quociente de Inteligência Verbal (VIQ) é: {media_harm_VIQ:.2f}\")"
   ]
  },
  {
   "cell_type": "markdown",
   "id": "d49795fc",
   "metadata": {
    "heading_collapsed": true,
    "hidden": true
   },
   "source": [
    "##### Coeficiente de correlação linear (corr())"
   ]
  },
  {
   "cell_type": "markdown",
   "id": "72b89b80",
   "metadata": {
    "hidden": true
   },
   "source": [
    "O <u>coeficiente de correlação linear</u> é uma medida estatística que quantifica a relação linear entre duas variáveis. Ele indica a força e a direção dessa relação. O coeficiente de correlação varia de -1 a 1, sendo:\n",
    "\n",
    "- Um coeficiente de correlação próximo de 1 indica uma correlação positiva forte, ou seja, as duas variáveis têm uma relação linear positiva, aumentando juntas.\n",
    "- Um coeficiente de correlação próximo de -1 indica uma correlação negativa forte, ou seja, as duas variáveis têm uma relação linear negativa, uma variável aumenta enquanto a outra diminui.\n",
    "- Um coeficiente de correlação próximo de 0 indica uma correlação fraca ou inexistente, ou seja, não há uma relação linear forte entre as variáveis.\n",
    "\n",
    "O coeficiente de correlação é amplamente utilizado para analisar a associação entre variáveis em diversos campos, como estatística, ciências sociais, ciências naturais, finanças, entre outros. Ele permite avaliar o grau de dependência entre duas variáveis e auxilia na identificação de padrões, tendências e possíveis relações causais."
   ]
  },
  {
   "cell_type": "code",
   "execution_count": 24,
   "id": "8a7a2220",
   "metadata": {
    "ExecuteTime": {
     "end_time": "2023-07-03T22:26:36.084672Z",
     "start_time": "2023-07-03T22:26:36.068714Z"
    },
    "hidden": true
   },
   "outputs": [
    {
     "name": "stdout",
     "output_type": "stream",
     "text": [
      "O coeficiente de correlação entre o Quociente de Inteligência Verbal (VIQ) e o Peso (Weight) é: -0.08\n"
     ]
    }
   ],
   "source": [
    "import pandas as pd\n",
    "\n",
    "# Arquivo \"brain_size.csv\" ajustado\n",
    "data = pd.read_csv('brain_size.csv', sep=';', na_values=\".\")\n",
    "\n",
    "# Cálculo do coeficiente de correlação entre o Quociente de Inteligência Verbal (VIQ) e o Peso (Weight)\n",
    "coef_corr = data['VIQ'].corr(data['Weight'])\n",
    "\n",
    "# Impressão do coeficiente de correlação\n",
    "print(f\"O coeficiente de correlação entre o Quociente de Inteligência Verbal (VIQ) e o Peso (Weight) é: {coef_corr:.2f}\")"
   ]
  },
  {
   "cell_type": "markdown",
   "id": "8a2fbdd8",
   "metadata": {
    "hidden": true
   },
   "source": [
    "*É importante destacar que o coeficiente de correlação mede apenas a relação linear entre as variáveis e não captura outros tipos de relações não lineares. Além disso, o coeficiente de correlação não implica causalidade, ou seja, não indica que uma variável causa diretamente a mudança na outra, apenas revela a associação estatística entre elas.*"
   ]
  },
  {
   "cell_type": "markdown",
   "id": "273d162c",
   "metadata": {
    "heading_collapsed": true,
    "hidden": true
   },
   "source": [
    "##### Teste de normalidade (normaltest())"
   ]
  },
  {
   "cell_type": "markdown",
   "id": "aed5da8e",
   "metadata": {
    "hidden": true
   },
   "source": [
    "O <u>teste de normalidade</u> verifica se uma amostra segue uma distribuição normal. Retorna um valor de teste e um valor-p (p-value) para avaliar a normalidade dos dados."
   ]
  },
  {
   "cell_type": "code",
   "execution_count": 25,
   "id": "2a7bff91",
   "metadata": {
    "ExecuteTime": {
     "end_time": "2023-07-03T22:26:39.352396Z",
     "start_time": "2023-07-03T22:26:39.285802Z"
    },
    "hidden": true
   },
   "outputs": [
    {
     "name": "stdout",
     "output_type": "stream",
     "text": [
      "A distribuição não é normal.\n"
     ]
    }
   ],
   "source": [
    "import pandas as pd\n",
    "from scipy.stats import normaltest\n",
    "\n",
    "# Arquivo \"brain_size.csv\" ajustado\n",
    "data = pd.read_csv('brain_size.csv', sep=';', na_values=\".\")\n",
    "\n",
    "# Realização do teste de normalidade no Quociente de Inteligência Verbal (VIQ)\n",
    "statistic, p_value = normaltest(data['VIQ'].dropna())\n",
    "\n",
    "# Impressão do resultado do teste de normalidade\n",
    "if p_value < 0.05:\n",
    "    print(\"A distribuição não é normal.\")\n",
    "else:\n",
    "    print(\"A distribuição é normal.\")"
   ]
  },
  {
   "cell_type": "markdown",
   "id": "9e979ee5",
   "metadata": {
    "heading_collapsed": true,
    "hidden": true
   },
   "source": [
    "#### Usando a função describe()"
   ]
  },
  {
   "cell_type": "markdown",
   "id": "d46774af",
   "metadata": {
    "hidden": true
   },
   "source": [
    "A função <u>describe</u> é bastante útil, pois fornece um resumo estatístico dos dados, incluindo estatísticas descritivas como contagem, média, desvio padrão, valores mínimo e máximo, além dos quartis. Isso permite uma rápida visualização e compreensão das principais características dos dados, como sua distribuição, tendência central e dispersão, auxiliando na análise exploratória e na identificação de possíveis padrões ou anomalias nos dados."
   ]
  },
  {
   "cell_type": "code",
   "execution_count": 26,
   "id": "5b184089",
   "metadata": {
    "ExecuteTime": {
     "end_time": "2023-07-03T22:26:40.904366Z",
     "start_time": "2023-07-03T22:26:40.860691Z"
    },
    "hidden": true
   },
   "outputs": [
    {
     "data": {
      "text/html": [
       "<div>\n",
       "<style scoped>\n",
       "    .dataframe tbody tr th:only-of-type {\n",
       "        vertical-align: middle;\n",
       "    }\n",
       "\n",
       "    .dataframe tbody tr th {\n",
       "        vertical-align: top;\n",
       "    }\n",
       "\n",
       "    .dataframe thead th {\n",
       "        text-align: right;\n",
       "    }\n",
       "</style>\n",
       "<table border=\"1\" class=\"dataframe\">\n",
       "  <thead>\n",
       "    <tr style=\"text-align: right;\">\n",
       "      <th></th>\n",
       "      <th>Unnamed: 0</th>\n",
       "      <th>FSIQ</th>\n",
       "      <th>VIQ</th>\n",
       "      <th>PIQ</th>\n",
       "      <th>Weight</th>\n",
       "      <th>Height</th>\n",
       "      <th>MRI_Count</th>\n",
       "    </tr>\n",
       "  </thead>\n",
       "  <tbody>\n",
       "    <tr>\n",
       "      <th>count</th>\n",
       "      <td>40.000000</td>\n",
       "      <td>40.000000</td>\n",
       "      <td>40.000000</td>\n",
       "      <td>40.00000</td>\n",
       "      <td>38.000000</td>\n",
       "      <td>39.000000</td>\n",
       "      <td>4.000000e+01</td>\n",
       "    </tr>\n",
       "    <tr>\n",
       "      <th>mean</th>\n",
       "      <td>20.500000</td>\n",
       "      <td>113.450000</td>\n",
       "      <td>112.350000</td>\n",
       "      <td>111.02500</td>\n",
       "      <td>151.052632</td>\n",
       "      <td>68.525641</td>\n",
       "      <td>9.087550e+05</td>\n",
       "    </tr>\n",
       "    <tr>\n",
       "      <th>std</th>\n",
       "      <td>11.690452</td>\n",
       "      <td>24.082071</td>\n",
       "      <td>23.616107</td>\n",
       "      <td>22.47105</td>\n",
       "      <td>23.478509</td>\n",
       "      <td>3.994649</td>\n",
       "      <td>7.228205e+04</td>\n",
       "    </tr>\n",
       "    <tr>\n",
       "      <th>min</th>\n",
       "      <td>1.000000</td>\n",
       "      <td>77.000000</td>\n",
       "      <td>71.000000</td>\n",
       "      <td>72.00000</td>\n",
       "      <td>106.000000</td>\n",
       "      <td>62.000000</td>\n",
       "      <td>7.906190e+05</td>\n",
       "    </tr>\n",
       "    <tr>\n",
       "      <th>25%</th>\n",
       "      <td>10.750000</td>\n",
       "      <td>89.750000</td>\n",
       "      <td>90.000000</td>\n",
       "      <td>88.25000</td>\n",
       "      <td>135.250000</td>\n",
       "      <td>66.000000</td>\n",
       "      <td>8.559185e+05</td>\n",
       "    </tr>\n",
       "    <tr>\n",
       "      <th>50%</th>\n",
       "      <td>20.500000</td>\n",
       "      <td>116.500000</td>\n",
       "      <td>113.000000</td>\n",
       "      <td>115.00000</td>\n",
       "      <td>146.500000</td>\n",
       "      <td>68.000000</td>\n",
       "      <td>9.053990e+05</td>\n",
       "    </tr>\n",
       "    <tr>\n",
       "      <th>75%</th>\n",
       "      <td>30.250000</td>\n",
       "      <td>135.500000</td>\n",
       "      <td>129.750000</td>\n",
       "      <td>128.00000</td>\n",
       "      <td>172.000000</td>\n",
       "      <td>70.500000</td>\n",
       "      <td>9.500780e+05</td>\n",
       "    </tr>\n",
       "    <tr>\n",
       "      <th>max</th>\n",
       "      <td>40.000000</td>\n",
       "      <td>144.000000</td>\n",
       "      <td>150.000000</td>\n",
       "      <td>150.00000</td>\n",
       "      <td>192.000000</td>\n",
       "      <td>77.000000</td>\n",
       "      <td>1.079549e+06</td>\n",
       "    </tr>\n",
       "  </tbody>\n",
       "</table>\n",
       "</div>"
      ],
      "text/plain": [
       "       Unnamed: 0        FSIQ         VIQ        PIQ      Weight     Height  \\\n",
       "count   40.000000   40.000000   40.000000   40.00000   38.000000  39.000000   \n",
       "mean    20.500000  113.450000  112.350000  111.02500  151.052632  68.525641   \n",
       "std     11.690452   24.082071   23.616107   22.47105   23.478509   3.994649   \n",
       "min      1.000000   77.000000   71.000000   72.00000  106.000000  62.000000   \n",
       "25%     10.750000   89.750000   90.000000   88.25000  135.250000  66.000000   \n",
       "50%     20.500000  116.500000  113.000000  115.00000  146.500000  68.000000   \n",
       "75%     30.250000  135.500000  129.750000  128.00000  172.000000  70.500000   \n",
       "max     40.000000  144.000000  150.000000  150.00000  192.000000  77.000000   \n",
       "\n",
       "          MRI_Count  \n",
       "count  4.000000e+01  \n",
       "mean   9.087550e+05  \n",
       "std    7.228205e+04  \n",
       "min    7.906190e+05  \n",
       "25%    8.559185e+05  \n",
       "50%    9.053990e+05  \n",
       "75%    9.500780e+05  \n",
       "max    1.079549e+06  "
      ]
     },
     "execution_count": 26,
     "metadata": {},
     "output_type": "execute_result"
    }
   ],
   "source": [
    "# Importando a biblioteca pandas como pd e lendo o arquivo CSV \"brain_size.csv\" para o DataFrame \"brain_size\".\n",
    "import pandas as pd\n",
    "\n",
    "# Arquivo \"brain_size.csv\" ajustado\n",
    "data = pd.read_csv('brain_size.csv', sep=';', na_values=\".\")\n",
    "\n",
    "# Aplicando a função describe ao dataframe \"data\"\n",
    "data.describe()"
   ]
  },
  {
   "cell_type": "markdown",
   "id": "2e2d3994",
   "metadata": {
    "hidden": true
   },
   "source": [
    "Note que nem todos os cálculos fornecidos fazem sentido. Por exemplo, os valores associados ao rótulo \"Unnamed: 0\" não são relevantes para a análise. Portanto, uma alternativa viável é considerar apenas algumas das variáveis disponíveis para os cálculos estatísticos, focando naquelas que são mais significativas e relevantes para o objetivo da análise."
   ]
  },
  {
   "cell_type": "code",
   "execution_count": 1,
   "id": "d594bc88",
   "metadata": {
    "ExecuteTime": {
     "end_time": "2023-09-17T21:38:41.487675Z",
     "start_time": "2023-09-17T21:38:40.882064Z"
    },
    "hidden": true
   },
   "outputs": [
    {
     "data": {
      "text/html": [
       "<div>\n",
       "<style scoped>\n",
       "    .dataframe tbody tr th:only-of-type {\n",
       "        vertical-align: middle;\n",
       "    }\n",
       "\n",
       "    .dataframe tbody tr th {\n",
       "        vertical-align: top;\n",
       "    }\n",
       "\n",
       "    .dataframe thead th {\n",
       "        text-align: right;\n",
       "    }\n",
       "</style>\n",
       "<table border=\"1\" class=\"dataframe\">\n",
       "  <thead>\n",
       "    <tr style=\"text-align: right;\">\n",
       "      <th></th>\n",
       "      <th>FSIQ</th>\n",
       "    </tr>\n",
       "  </thead>\n",
       "  <tbody>\n",
       "    <tr>\n",
       "      <th>count</th>\n",
       "      <td>40.000000</td>\n",
       "    </tr>\n",
       "    <tr>\n",
       "      <th>mean</th>\n",
       "      <td>113.450000</td>\n",
       "    </tr>\n",
       "    <tr>\n",
       "      <th>std</th>\n",
       "      <td>24.082071</td>\n",
       "    </tr>\n",
       "    <tr>\n",
       "      <th>min</th>\n",
       "      <td>77.000000</td>\n",
       "    </tr>\n",
       "    <tr>\n",
       "      <th>25%</th>\n",
       "      <td>89.750000</td>\n",
       "    </tr>\n",
       "    <tr>\n",
       "      <th>50%</th>\n",
       "      <td>116.500000</td>\n",
       "    </tr>\n",
       "    <tr>\n",
       "      <th>75%</th>\n",
       "      <td>135.500000</td>\n",
       "    </tr>\n",
       "    <tr>\n",
       "      <th>max</th>\n",
       "      <td>144.000000</td>\n",
       "    </tr>\n",
       "  </tbody>\n",
       "</table>\n",
       "</div>"
      ],
      "text/plain": [
       "             FSIQ\n",
       "count   40.000000\n",
       "mean   113.450000\n",
       "std     24.082071\n",
       "min     77.000000\n",
       "25%     89.750000\n",
       "50%    116.500000\n",
       "75%    135.500000\n",
       "max    144.000000"
      ]
     },
     "execution_count": 1,
     "metadata": {},
     "output_type": "execute_result"
    }
   ],
   "source": [
    "# Importando a biblioteca pandas como pd e lendo o arquivo CSV \"brain_size.csv\" para o DataFrame \"brain_size\".\n",
    "import pandas as pd\n",
    "\n",
    "# Arquivo \"brain_size.csv\" ajustado\n",
    "data = pd.read_csv('brain_size.csv', sep=';', na_values=\".\")\n",
    "\n",
    "pd.DataFrame(data[\"FSIQ\"].describe())"
   ]
  },
  {
   "cell_type": "code",
   "execution_count": 28,
   "id": "ca6b172d",
   "metadata": {
    "ExecuteTime": {
     "end_time": "2023-07-03T22:26:42.302073Z",
     "start_time": "2023-07-03T22:26:42.285118Z"
    },
    "hidden": true
   },
   "outputs": [
    {
     "data": {
      "text/html": [
       "<div>\n",
       "<style scoped>\n",
       "    .dataframe tbody tr th:only-of-type {\n",
       "        vertical-align: middle;\n",
       "    }\n",
       "\n",
       "    .dataframe tbody tr th {\n",
       "        vertical-align: top;\n",
       "    }\n",
       "\n",
       "    .dataframe thead th {\n",
       "        text-align: right;\n",
       "    }\n",
       "</style>\n",
       "<table border=\"1\" class=\"dataframe\">\n",
       "  <thead>\n",
       "    <tr style=\"text-align: right;\">\n",
       "      <th></th>\n",
       "      <th>FSIQ</th>\n",
       "      <th>VIQ</th>\n",
       "    </tr>\n",
       "  </thead>\n",
       "  <tbody>\n",
       "    <tr>\n",
       "      <th>count</th>\n",
       "      <td>40.000000</td>\n",
       "      <td>40.000000</td>\n",
       "    </tr>\n",
       "    <tr>\n",
       "      <th>mean</th>\n",
       "      <td>113.450000</td>\n",
       "      <td>112.350000</td>\n",
       "    </tr>\n",
       "    <tr>\n",
       "      <th>std</th>\n",
       "      <td>24.082071</td>\n",
       "      <td>23.616107</td>\n",
       "    </tr>\n",
       "    <tr>\n",
       "      <th>min</th>\n",
       "      <td>77.000000</td>\n",
       "      <td>71.000000</td>\n",
       "    </tr>\n",
       "    <tr>\n",
       "      <th>25%</th>\n",
       "      <td>89.750000</td>\n",
       "      <td>90.000000</td>\n",
       "    </tr>\n",
       "    <tr>\n",
       "      <th>50%</th>\n",
       "      <td>116.500000</td>\n",
       "      <td>113.000000</td>\n",
       "    </tr>\n",
       "    <tr>\n",
       "      <th>75%</th>\n",
       "      <td>135.500000</td>\n",
       "      <td>129.750000</td>\n",
       "    </tr>\n",
       "    <tr>\n",
       "      <th>max</th>\n",
       "      <td>144.000000</td>\n",
       "      <td>150.000000</td>\n",
       "    </tr>\n",
       "  </tbody>\n",
       "</table>\n",
       "</div>"
      ],
      "text/plain": [
       "             FSIQ         VIQ\n",
       "count   40.000000   40.000000\n",
       "mean   113.450000  112.350000\n",
       "std     24.082071   23.616107\n",
       "min     77.000000   71.000000\n",
       "25%     89.750000   90.000000\n",
       "50%    116.500000  113.000000\n",
       "75%    135.500000  129.750000\n",
       "max    144.000000  150.000000"
      ]
     },
     "execution_count": 28,
     "metadata": {},
     "output_type": "execute_result"
    }
   ],
   "source": [
    "# Importando a biblioteca pandas como pd e lendo o arquivo CSV \"brain_size.csv\" para o DataFrame \"brain_size\".\n",
    "import pandas as pd\n",
    "\n",
    "# Arquivo \"brain_size.csv\" ajustado\n",
    "data = pd.read_csv('brain_size.csv', sep=';', na_values=\".\")\n",
    "\n",
    "# Aplicando ao função describe aow parâmetrow \"FSIQ\" e \"VIQ\"\n",
    "pd.DataFrame(data[[\"FSIQ\",\"VIQ\"]].describe())"
   ]
  },
  {
   "cell_type": "markdown",
   "id": "f1a4ff37",
   "metadata": {
    "heading_collapsed": true,
    "hidden": true
   },
   "source": [
    "#### Usando a função groupby()"
   ]
  },
  {
   "cell_type": "markdown",
   "id": "0ee2f95d",
   "metadata": {
    "hidden": true
   },
   "source": [
    "<u>Groupby</u> é uma função versátil e fácil de usar que ajuda a obter uma visão geral dos dados. Isso torna mais fácil explorar o conjunto de dados e revelar os relacionamentos entre as variáveis."
   ]
  },
  {
   "cell_type": "code",
   "execution_count": 29,
   "id": "d1cd77c9",
   "metadata": {
    "ExecuteTime": {
     "end_time": "2023-07-03T22:26:43.711811Z",
     "start_time": "2023-07-03T22:26:43.701839Z"
    },
    "hidden": true
   },
   "outputs": [
    {
     "name": "stdout",
     "output_type": "stream",
     "text": [
      "('Female', 109.45)\n",
      "('Male', 115.25)\n"
     ]
    }
   ],
   "source": [
    "# Importando a biblioteca pandas com o alias 'pd'\n",
    "import pandas as pd\n",
    "\n",
    "# Arquivo \"brain_size.csv\" ajustado\n",
    "data = pd.read_csv('brain_size.csv', sep=';', na_values=\".\")\n",
    "\n",
    "# Agrupando o DataFrame \"data\" por 'Gender' e armazenando o resultado na variável \"groupby_gender\".\n",
    "groupby_gender = data.groupby('Gender')\n",
    "\n",
    "# Calculando e imprimindo a média de 'VIQ' de cada sexo\n",
    "for gender, value in groupby_gender['VIQ']:\n",
    "    print((gender, value.mean()))\n"
   ]
  },
  {
   "cell_type": "markdown",
   "id": "49b4fd95",
   "metadata": {
    "ExecuteTime": {
     "end_time": "2023-06-30T14:35:42.547973Z",
     "start_time": "2023-06-30T14:35:42.542963Z"
    },
    "heading_collapsed": true,
    "hidden": true
   },
   "source": [
    "#### Aproximação funcional via Análise de Regressão"
   ]
  },
  {
   "cell_type": "markdown",
   "id": "f3a54698",
   "metadata": {
    "ExecuteTime": {
     "end_time": "2023-06-30T15:00:14.815629Z",
     "start_time": "2023-06-30T15:00:14.809645Z"
    },
    "hidden": true
   },
   "source": [
    "A aproximação por análise dos diferentes tipos de <u>modelos de regressão</u> é uma abordagem utilizada para descrever e entender as relações entre variáveis em um conjunto de dados. Esses modelos são úteis para fazer previsões, estimar parâmetros e identificar padrões nos dados. Vejamos alguns deles:"
   ]
  },
  {
   "cell_type": "markdown",
   "id": "886e9454",
   "metadata": {
    "hidden": true
   },
   "source": [
    "##### Regressão Linear"
   ]
  },
  {
   "cell_type": "markdown",
   "id": "bb89e29b",
   "metadata": {
    "hidden": true
   },
   "source": [
    "A <u>regressão linear</u> é um modelo simples que assume uma relação linear entre as variáveis. A fórmula geral da regressão linear é dada por:\n",
    "\n",
    "$$ y = \\beta_{0} + \\beta_{1}x $$"
   ]
  },
  {
   "cell_type": "markdown",
   "id": "be0f9f2a",
   "metadata": {
    "hidden": true
   },
   "source": [
    "O <u>coeficiente de determinação</u>, representado por $\\rho^2$, varia de 0 a 1 e possui a seguinte interpretação:\n",
    "\n",
    "- Um valor próximo de 1 indica um ajuste mais preciso do modelo aos dados e uma maior capacidade do modelo de explicar a variação observada nos dados.\n",
    "\n",
    "- Um valor de coeficiente de determinação igual a 0 indica que o modelo não consegue explicar a variação dos dados e a relação entre as variáveis não pode ser representada adequadamente pela reta de regressão.\n",
    "\n",
    "O coeficiente de determinação é uma medida importante na avaliação da qualidade do ajuste do modelo aos dados, pois nos fornece uma indicação de quanto da variação total dos dados é explicada pelo modelo."
   ]
  },
  {
   "cell_type": "markdown",
   "id": "c1753c63",
   "metadata": {
    "hidden": true
   },
   "source": [
    "O <u>coeficiente de correlação</u>, $\\rho$, associado ao coeficiente de determinação é tal que:\n",
    "\n",
    "- Um valor de $\\rho$ próximo de 1 indica um bom ajuste do modelo aos dados e uma forte correlação positiva entre as variáveis. Isso significa que o modelo consegue explicar uma grande parte da variação observada nos dados e há uma tendência clara de aumento ou diminuição conjunta das variáveis.\n",
    "\n",
    "- Um valor de $\\rho$ próximo de -1 indica um bom ajuste do modelo aos dados e uma forte correlação negativa entre as variáveis. Isso significa que o modelo consegue explicar uma grande parte da variação observada nos dados e há uma tendência clara de comportamento oposto entre as variáveis.\n",
    "\n",
    "- Um valor de $\\rho$ próximo de 0 indica uma baixa correlação entre as variáveis ou até mesmo a ausência de correlação. Isso significa que o modelo não consegue explicar a variação observada nos dados e não há uma relação linear significativa entre as variáveis.\n",
    "\n",
    "Portanto, o coeficiente de correlação nos fornece informações sobre a qualidade do ajuste do modelo e a presença e direção da correlação entre as variáveis."
   ]
  },
  {
   "cell_type": "code",
   "execution_count": 30,
   "id": "4dc7583e",
   "metadata": {
    "ExecuteTime": {
     "end_time": "2023-07-03T22:26:51.491010Z",
     "start_time": "2023-07-03T22:26:46.821808Z"
    },
    "hidden": true
   },
   "outputs": [
    {
     "name": "stdout",
     "output_type": "stream",
     "text": [
      "Linear Regression\n",
      "y = 0.9283x + 7.0318\n",
      "Coefficient of Determination: 0.8961\n"
     ]
    },
    {
     "data": {
      "image/png": "[encoded data removed]",
      "text/plain": [
       "<Figure size 640x480 with 1 Axes>"
      ]
     },
     "metadata": {},
     "output_type": "display_data"
    }
   ],
   "source": [
    "# Importando módulos necessários\n",
    "import numpy as np\n",
    "import statsmodels.api as sm\n",
    "import matplotlib.pyplot as plt\n",
    "import pandas as pd\n",
    "\n",
    "# Arquivo \"brain_size.csv\" ajustado\n",
    "data = pd.read_csv('brain_size.csv', sep=';', na_values=\".\")\n",
    "\n",
    "# Dados de exemplo\n",
    "x = list(data[\"FSIQ\"])\n",
    "y = list(data[\"VIQ\"])\n",
    "\n",
    "# Adicionando uma constante aos dados de x\n",
    "x = sm.add_constant(x)\n",
    "\n",
    "# Criando o modelo de regressão linear\n",
    "model = sm.OLS(y, x)\n",
    "\n",
    "# Ajustando o modelo aos dados\n",
    "results = model.fit()\n",
    "\n",
    "# Obtendo os coeficientes e o coeficiente de determinação\n",
    "intercept, slope = results.params\n",
    "r_squared = results.rsquared\n",
    "\n",
    "# Imprimindo os resultados\n",
    "print(\"Linear Regression\")\n",
    "print(f\"y = {slope:.4f}x + {intercept:.4f}\")\n",
    "print(f\"Coefficient of Determination: {r_squared:.4f}\")\n",
    "\n",
    "# Gerando os valores preditos da regressão\n",
    "x_pred = np.linspace(min(x[:, 1]), max(x[:, 1]), 100)\n",
    "x_pred = sm.add_constant(x_pred)\n",
    "y_pred = results.predict(x_pred)\n",
    "\n",
    "# Plotando o gráfico\n",
    "plt.scatter(x[:, 1], y)\n",
    "plt.plot(x_pred[:, 1], y_pred, color='red', label='Linear Regression')\n",
    "plt.xlabel('x')\n",
    "plt.ylabel('y')\n",
    "plt.title('Linear Regression')\n",
    "plt.legend()\n",
    "plt.show()"
   ]
  },
  {
   "cell_type": "markdown",
   "id": "31257aa2",
   "metadata": {
    "hidden": true
   },
   "source": [
    "Substitua as linhas \"x = list(data[\"FSIQ\"])\" e \"y = list(data[\"VIQ\"])\" por \"x = list(data[data[\"Gender\"] == \"Male\"][\"FSIQ\"])\" e \"y = list(data[data[\"Gender\"] == \"Male\"][\"VIQ\"])\" para as análises de regressão tendo em vista indivíduos do sexo masculino (Male)."
   ]
  },
  {
   "cell_type": "markdown",
   "id": "0c02edcb",
   "metadata": {
    "hidden": true
   },
   "source": [
    "##### Regressão quadrática"
   ]
  },
  {
   "cell_type": "markdown",
   "id": "2a63692f",
   "metadata": {
    "hidden": true
   },
   "source": [
    "A <u>regressão quadrática</u> leva em consideração uma relação quadrática entre as variáveis. A fórmula geral da regressão quadrática é dada por:\n",
    "\n",
    "$$ y = \\beta_{0} + \\beta_{1}x + \\beta_{2}x^{2} $$"
   ]
  },
  {
   "cell_type": "code",
   "execution_count": 31,
   "id": "58655773",
   "metadata": {
    "ExecuteTime": {
     "end_time": "2023-07-03T22:26:55.791611Z",
     "start_time": "2023-07-03T22:26:55.605850Z"
    },
    "hidden": true
   },
   "outputs": [
    {
     "name": "stdout",
     "output_type": "stream",
     "text": [
      "Quadratic Regression\n",
      "y = 0.0054x^2 + -0.2766x + 71.4697\n",
      "Coefficient of Determination: 0.9002\n"
     ]
    },
    {
     "data": {
      "image/png": "[encoded data removed]",
      "text/plain": [
       "<Figure size 640x480 with 1 Axes>"
      ]
     },
     "metadata": {},
     "output_type": "display_data"
    }
   ],
   "source": [
    "# Importando módulos necessários\n",
    "import numpy as np\n",
    "import statsmodels.api as sm\n",
    "import matplotlib.pyplot as plt\n",
    "import pandas as pd\n",
    "\n",
    "# Arquivo \"brain_size.csv\" ajustado\n",
    "data = pd.read_csv('brain_size.csv', sep=';', na_values=\".\")\n",
    "\n",
    "# Dados de exemplo\n",
    "x = list(data[\"FSIQ\"])\n",
    "y = list(data[\"VIQ\"])\n",
    "\n",
    "# Criando o array de features polinomiais\n",
    "x_poly = np.column_stack((x, np.square(x)))\n",
    "\n",
    "# Adicionando uma constante aos dados de x_poly\n",
    "x_poly = sm.add_constant(x_poly)\n",
    "\n",
    "# Criando o modelo de regressão quadrática\n",
    "model = sm.OLS(y, x_poly)\n",
    "\n",
    "# Ajustando o modelo aos dados\n",
    "results = model.fit()\n",
    "\n",
    "# Obtendo os coeficientes e o coeficiente de determinação\n",
    "intercept, slope_1, slope_2 = results.params\n",
    "r_squared = results.rsquared\n",
    "\n",
    "# Imprimindo os resultados\n",
    "print(\"Quadratic Regression\")\n",
    "print(f\"y = {slope_2:.4f}x^2 + {slope_1:.4f}x + {intercept:.4f}\")\n",
    "print(f\"Coefficient of Determination: {r_squared:.4f}\")\n",
    "\n",
    "# Gerando os valores preditos da regressão\n",
    "x_pred = np.linspace(min(x), max(x), 100)\n",
    "x_pred_poly = np.column_stack((x_pred, np.square(x_pred)))\n",
    "x_pred_poly = sm.add_constant(x_pred_poly)\n",
    "y_pred = results.predict(x_pred_poly)\n",
    "\n",
    "# Plotando o gráfico\n",
    "plt.scatter(x, y)\n",
    "plt.plot(x_pred, y_pred, color='red', label='Quadratic Regression')\n",
    "plt.xlabel('x')\n",
    "plt.ylabel('y')\n",
    "plt.legend()\n",
    "plt.show()"
   ]
  },
  {
   "cell_type": "markdown",
   "id": "323e5f42",
   "metadata": {
    "hidden": true
   },
   "source": [
    "##### Regressão cúbica"
   ]
  },
  {
   "cell_type": "markdown",
   "id": "d6572e95",
   "metadata": {
    "ExecuteTime": {
     "end_time": "2023-06-30T19:28:15.211617Z",
     "start_time": "2023-06-30T19:28:15.200442Z"
    },
    "hidden": true
   },
   "source": [
    "A <u>regressão cúbica</u> considera uma relação cúbica entre as variáveis. A fórmula geral da regressão cúbica é dada por:\n",
    "\n",
    "$$ y = \\beta_{0} + \\beta_{1}x + \\beta_{2}x^{2} + \\beta_{3}x^{3} $$"
   ]
  },
  {
   "cell_type": "code",
   "execution_count": 32,
   "id": "3d83baef",
   "metadata": {
    "ExecuteTime": {
     "end_time": "2023-07-03T22:26:57.661116Z",
     "start_time": "2023-07-03T22:26:57.437781Z"
    },
    "hidden": true
   },
   "outputs": [
    {
     "name": "stdout",
     "output_type": "stream",
     "text": [
      "Cubic Regression\n",
      "y = 0.0003x^3 + -0.0983x^2 + 10.7866x + -314.2855\n",
      "Coefficient of Determination: 0.9057\n"
     ]
    },
    {
     "data": {
      "image/png": "[encoded data removed]",
      "text/plain": [
       "<Figure size 640x480 with 1 Axes>"
      ]
     },
     "metadata": {},
     "output_type": "display_data"
    }
   ],
   "source": [
    "# Importando módulos necessários\n",
    "import numpy as np\n",
    "import statsmodels.api as sm\n",
    "import matplotlib.pyplot as plt\n",
    "import pandas as pd\n",
    "\n",
    "# Arquivo \"brain_size.csv\" ajustado\n",
    "data = pd.read_csv('brain_size.csv', sep=';', na_values=\".\")\n",
    "\n",
    "# Dados de exemplo\n",
    "x = list(data[\"FSIQ\"])\n",
    "y = list(data[\"VIQ\"])\n",
    "\n",
    "# Criando o array de features polinomiais\n",
    "x_poly = np.column_stack((x, np.square(x), np.power(x, 3)))\n",
    "\n",
    "# Adicionando uma constante aos dados de x_poly\n",
    "x_poly = sm.add_constant(x_poly)\n",
    "\n",
    "# Criando o modelo de regressão cúbica\n",
    "model = sm.OLS(y, x_poly)\n",
    "\n",
    "# Ajustando o modelo aos dados\n",
    "results = model.fit()\n",
    "\n",
    "# Obtendo os coeficientes e o coeficiente de determinação\n",
    "intercept, slope_1, slope_2, slope_3 = results.params\n",
    "r_squared = results.rsquared\n",
    "\n",
    "# Imprimindo os resultados\n",
    "print(\"Cubic Regression\")\n",
    "print(f\"y = {slope_3:.4f}x^3 + {slope_2:.4f}x^2 + {slope_1:.4f}x + {intercept:.4f}\")\n",
    "print(f\"Coefficient of Determination: {r_squared:.4f}\")\n",
    "\n",
    "# Plotando a curva de regressão\n",
    "x_plot = np.linspace(min(x), max(x), 100)\n",
    "x_plot_poly = np.column_stack((x_plot, np.square(x_plot), np.power(x_plot, 3)))\n",
    "x_plot_poly = sm.add_constant(x_plot_poly)\n",
    "y_plot = np.dot(x_plot_poly, results.params)\n",
    "\n",
    "plt.scatter(x, y)\n",
    "plt.plot(x_plot, y_plot, color='red', label='Regressão Cúbica')\n",
    "plt.xlabel('x')\n",
    "plt.ylabel('y')\n",
    "plt.title('Regressão Cúbica')\n",
    "plt.legend()\n",
    "plt.show()"
   ]
  },
  {
   "cell_type": "markdown",
   "id": "1ed2a7ef",
   "metadata": {
    "hidden": true
   },
   "source": [
    "##### Power regression"
   ]
  },
  {
   "cell_type": "markdown",
   "id": "97ffc29b",
   "metadata": {
    "hidden": true
   },
   "source": [
    "A <u>regressão potência</u>(power regression) é utilizada quando há uma relação exponencial entre as variáveis. A fórmula geral da regressão potência é dada por:\n",
    "\n",
    "$$ y = \\beta_{0}x^{\\beta_{1}} $$"
   ]
  },
  {
   "cell_type": "code",
   "execution_count": 33,
   "id": "60cf828d",
   "metadata": {
    "ExecuteTime": {
     "end_time": "2023-07-03T22:26:59.423184Z",
     "start_time": "2023-07-03T22:26:59.133788Z"
    },
    "hidden": true
   },
   "outputs": [
    {
     "name": "stdout",
     "output_type": "stream",
     "text": [
      "Power Regression\n",
      "y = 1.4033x^0.9262\n",
      "Coefficient of Determination: 0.8981\n"
     ]
    },
    {
     "data": {
      "image/png": "[encoded data removed]",
      "text/plain": [
       "<Figure size 640x480 with 1 Axes>"
      ]
     },
     "metadata": {},
     "output_type": "display_data"
    }
   ],
   "source": [
    "# Importando módulos necessários\n",
    "import numpy as np\n",
    "import statsmodels.api as sm\n",
    "import matplotlib.pyplot as plt\n",
    "import pandas as pd\n",
    "\n",
    "# Arquivo \"brain_size.csv\" ajustado\n",
    "data = pd.read_csv('brain_size.csv', sep=';', na_values=\".\")\n",
    "\n",
    "# Dados de exemplo\n",
    "x = list(data[\"FSIQ\"])\n",
    "y = list(data[\"VIQ\"])\n",
    "\n",
    "# Transformando os dados em arrays numpy\n",
    "x = np.array(x)\n",
    "y = np.array(y)\n",
    "\n",
    "# Aplicando a regressão de potência usando logaritmo nos dados\n",
    "log_x = np.log(x)\n",
    "log_y = np.log(y)\n",
    "\n",
    "# Criando o modelo de regressão de potência\n",
    "model = sm.OLS(log_y, sm.add_constant(log_x))\n",
    "\n",
    "# Ajustando o modelo aos dados\n",
    "results = model.fit()\n",
    "\n",
    "# Obtendo os coeficientes e o coeficiente de determinação\n",
    "intercept, slope = results.params\n",
    "r_squared = results.rsquared\n",
    "\n",
    "# Imprimindo os resultados\n",
    "print(\"Power Regression\")\n",
    "print(f\"y = {np.exp(intercept):.4f}x^{slope:.4f}\")\n",
    "print(f\"Coefficient of Determination: {r_squared:.4f}\")\n",
    "\n",
    "# Plotando a curva de regressão\n",
    "x_plot = np.linspace(min(x), max(x), 100)\n",
    "log_x_plot = np.log(x_plot)\n",
    "log_x_plot = sm.add_constant(log_x_plot)\n",
    "log_y_plot = np.dot(log_x_plot, results.params)\n",
    "y_plot = np.exp(log_y_plot)\n",
    "\n",
    "plt.scatter(x, y)\n",
    "plt.plot(x_plot, y_plot, color='red', label='Regressão de Potência')\n",
    "plt.xlabel('x')\n",
    "plt.ylabel('y')\n",
    "plt.title('Regressão de Potência')\n",
    "plt.legend()\n",
    "plt.show()"
   ]
  },
  {
   "cell_type": "markdown",
   "id": "8a56059a",
   "metadata": {
    "hidden": true
   },
   "source": [
    "##### Regressão exponencial"
   ]
  },
  {
   "cell_type": "markdown",
   "id": "2812ade7",
   "metadata": {
    "hidden": true
   },
   "source": [
    "A <u>regressão exponencial</u> é utilizada quando há uma relação exponencial entre as variáveis. A fórmula geral da regressão exponencial é dada por:\n",
    "\n",
    "$$ y = e^{\\beta_{0} + \\beta_{1}x} $$"
   ]
  },
  {
   "cell_type": "markdown",
   "id": "70f35758",
   "metadata": {
    "hidden": true
   },
   "source": [
    "É comum encontrarmos a fórmula acima na forma $y =  \\beta_{0}'e^{\\beta_{1}x}$ com $\\beta_{0}' = e^{\\beta_{0}}$."
   ]
  },
  {
   "cell_type": "code",
   "execution_count": 34,
   "id": "184cd090",
   "metadata": {
    "ExecuteTime": {
     "end_time": "2023-07-03T22:27:01.854377Z",
     "start_time": "2023-07-03T22:27:01.637604Z"
    },
    "hidden": true
   },
   "outputs": [
    {
     "name": "stdout",
     "output_type": "stream",
     "text": [
      "Exponential Regression\n",
      "y = e^(3.7398 + 0.0085 * x)\n",
      "Coefficient of Determination: 0.9012\n"
     ]
    },
    {
     "data": {
      "image/png": "[encoded data removed]",
      "text/plain": [
       "<Figure size 640x480 with 1 Axes>"
      ]
     },
     "metadata": {},
     "output_type": "display_data"
    }
   ],
   "source": [
    "# Importando módulos necessários\n",
    "import numpy as np\n",
    "import statsmodels.api as sm\n",
    "import matplotlib.pyplot as plt\n",
    "import pandas as pd\n",
    "\n",
    "# Arquivo \"brain_size.csv\" ajustado\n",
    "data = pd.read_csv('brain_size.csv', sep=';', na_values=\".\")\n",
    "\n",
    "# Dados de exemplo\n",
    "x = list(data[\"FSIQ\"])\n",
    "y = list(data[\"VIQ\"])\n",
    "\n",
    "# Transformando os dados em arrays numpy\n",
    "x = np.array(x)\n",
    "y = np.array(y)\n",
    "\n",
    "# Aplicando a regressão exponencial usando logaritmo nos dados\n",
    "log_y = np.log(y)\n",
    "\n",
    "# Criando o modelo de regressão exponencial\n",
    "model = sm.OLS(log_y, sm.add_constant(x))\n",
    "\n",
    "# Ajustando o modelo aos dados\n",
    "results = model.fit()\n",
    "\n",
    "# Obtendo os coeficientes e o coeficiente de determinação\n",
    "intercept, slope = results.params\n",
    "r_squared = results.rsquared\n",
    "\n",
    "# Imprimindo os resultados\n",
    "print(\"Exponential Regression\")\n",
    "print(f\"y = e^({intercept:.4f} + {slope:.4f} * x)\")\n",
    "print(f\"Coefficient of Determination: {r_squared:.4f}\")\n",
    "\n",
    "# Plotando a curva de regressão\n",
    "x_plot = np.linspace(min(x), max(x), 100)\n",
    "y_plot = np.exp(intercept) * np.exp(slope * x_plot)\n",
    "\n",
    "plt.scatter(x, y)\n",
    "plt.plot(x_plot, y_plot, color='red', label='Regressão exponencial')\n",
    "plt.xlabel('x')\n",
    "plt.ylabel('y')\n",
    "plt.title('Regressão exponencial')\n",
    "plt.legend()\n",
    "plt.show()"
   ]
  },
  {
   "cell_type": "markdown",
   "id": "e8547738",
   "metadata": {
    "hidden": true
   },
   "source": [
    "##### Regressão logarítmica"
   ]
  },
  {
   "cell_type": "markdown",
   "id": "c794d137",
   "metadata": {
    "hidden": true
   },
   "source": [
    "A <u>regressão logarítmica</u> é utilizada quando há uma relação logarítmica entre as variáveis. A fórmula geral da regressão logarítmica é dada por:\n",
    "\n",
    "$$ y = \\beta_{0} + \\beta_{1}\\ln(x) $$"
   ]
  },
  {
   "cell_type": "code",
   "execution_count": 35,
   "id": "acde71b4",
   "metadata": {
    "ExecuteTime": {
     "end_time": "2023-07-03T22:27:03.601780Z",
     "start_time": "2023-07-03T22:27:03.389751Z"
    },
    "hidden": true
   },
   "outputs": [
    {
     "name": "stdout",
     "output_type": "stream",
     "text": [
      "Logarithmic Regression\n",
      "y = -364.6383 + 101.3067 * ln(x)\n",
      "Coefficient of Determination: 0.8872\n"
     ]
    },
    {
     "data": {
      "image/png": "[encoded data removed]",
      "text/plain": [
       "<Figure size 640x480 with 1 Axes>"
      ]
     },
     "metadata": {},
     "output_type": "display_data"
    }
   ],
   "source": [
    "# Importando módulos necessários\n",
    "import numpy as np\n",
    "import statsmodels.api as sm\n",
    "import matplotlib.pyplot as plt\n",
    "import pandas as pd\n",
    "\n",
    "# Arquivo \"brain_size.csv\" ajustado\n",
    "data = pd.read_csv('brain_size.csv', sep=';', na_values=\".\")\n",
    "\n",
    "# Dados de exemplo\n",
    "x = list(data[\"FSIQ\"])\n",
    "y = list(data[\"VIQ\"])\n",
    "\n",
    "# Transformando os dados em arrays numpy\n",
    "x = np.array(x)\n",
    "y = np.array(y)\n",
    "\n",
    "# Aplicando a regressão logarítmica usando logaritmo nos dados\n",
    "log_x = np.log(x)\n",
    "\n",
    "# Criando o modelo de regressão logarítmica\n",
    "model = sm.OLS(y, sm.add_constant(log_x))\n",
    "\n",
    "# Ajustando o modelo aos dados\n",
    "results = model.fit()\n",
    "\n",
    "# Obtendo os coeficientes e o coeficiente de determinação\n",
    "intercept, slope = results.params\n",
    "r_squared = results.rsquared\n",
    "\n",
    "# Imprimindo os resultados\n",
    "print(\"Logarithmic Regression\")\n",
    "print(f\"y = {intercept:.4f} + {slope:.4f} * ln(x)\")\n",
    "print(f\"Coefficient of Determination: {r_squared:.4f}\")\n",
    "\n",
    "# Plotando a curva de regressão\n",
    "x_plot = np.linspace(min(x), max(x), 100)\n",
    "log_x_plot = np.log(x_plot)\n",
    "log_x_plot = sm.add_constant(log_x_plot)\n",
    "y_plot = np.dot(log_x_plot, results.params)\n",
    "\n",
    "plt.scatter(x, y)\n",
    "plt.plot(x_plot, y_plot, color='red', label='Regressão logarítmica')\n",
    "plt.xlabel('x')\n",
    "plt.ylabel('y')\n",
    "plt.title('Regressão logarítmica')\n",
    "plt.legend()\n",
    "plt.show()"
   ]
  },
  {
   "cell_type": "markdown",
   "id": "84822274",
   "metadata": {
    "hidden": true
   },
   "source": [
    "##### Regressão hiperbólica"
   ]
  },
  {
   "cell_type": "markdown",
   "id": "ff5175a0",
   "metadata": {
    "hidden": true
   },
   "source": [
    "A <u>regressão hiperbólica</u> é usada quando há uma relação hiperbólica entre as variáveis. A fórmula geral da regressão hiperbólica é dada por:\n",
    "\n",
    "$$ y = \\frac{\\beta_{0}}{\\beta_{1} + x} $$"
   ]
  },
  {
   "cell_type": "code",
   "execution_count": 36,
   "id": "e9747193",
   "metadata": {
    "ExecuteTime": {
     "end_time": "2023-07-03T22:27:05.331511Z",
     "start_time": "2023-07-03T22:27:05.116804Z"
    },
    "hidden": true
   },
   "outputs": [
    {
     "name": "stdout",
     "output_type": "stream",
     "text": [
      "Hyperbolic Regression\n",
      "y = 211.6730 + -10753.9935 / x\n",
      "Coefficient of Determination: 0.8721\n"
     ]
    },
    {
     "data": {
      "image/png": "[encoded data removed]",
      "text/plain": [
       "<Figure size 640x480 with 1 Axes>"
      ]
     },
     "metadata": {},
     "output_type": "display_data"
    }
   ],
   "source": [
    "# Importando módulos necessários\n",
    "import numpy as np\n",
    "import statsmodels.api as sm\n",
    "import matplotlib.pyplot as plt\n",
    "import pandas as pd\n",
    "\n",
    "# Arquivo \"brain_size.csv\" ajustado\n",
    "data = pd.read_csv('brain_size.csv', sep=';', na_values=\".\")\n",
    "\n",
    "# Dados de exemplo\n",
    "x = list(data[\"FSIQ\"])\n",
    "y = list(data[\"VIQ\"])\n",
    "\n",
    "# Transformando os dados em arrays numpy\n",
    "x = np.array(x)\n",
    "y = np.array(y)\n",
    "\n",
    "# Aplicando a regressão hiperbólica usando inverso dos dados\n",
    "inv_x = 1 / x\n",
    "\n",
    "# Criando o modelo de regressão hiperbólica\n",
    "model = sm.OLS(y, sm.add_constant(inv_x))\n",
    "\n",
    "# Ajustando o modelo aos dados\n",
    "results = model.fit()\n",
    "\n",
    "# Obtendo os coeficientes e o coeficiente de determinação\n",
    "intercept, slope = results.params\n",
    "r_squared = results.rsquared\n",
    "\n",
    "# Imprimindo os resultados\n",
    "print(\"Hyperbolic Regression\")\n",
    "print(f\"y = {intercept:.4f} + {slope:.4f} / x\")\n",
    "print(f\"Coefficient of Determination: {r_squared:.4f}\")\n",
    "\n",
    "# Plotando a curva de regressão\n",
    "x_plot = np.linspace(min(x), max(x), 100)\n",
    "inv_x_plot = 1 / x_plot\n",
    "inv_x_plot = sm.add_constant(inv_x_plot)\n",
    "y_plot = np.dot(inv_x_plot, results.params)\n",
    "\n",
    "plt.scatter(x, y)\n",
    "plt.plot(x_plot, y_plot, color='red', label='Regressão hiperbólica')\n",
    "plt.xlabel('x')\n",
    "plt.ylabel('y')\n",
    "plt.title('Regressão hiperbólica')\n",
    "plt.legend()\n",
    "plt.show()"
   ]
  },
  {
   "cell_type": "markdown",
   "id": "a47faa96",
   "metadata": {
    "heading_collapsed": true,
    "hidden": true
   },
   "source": [
    "#### Análise Univariada"
   ]
  },
  {
   "cell_type": "code",
   "execution_count": 37,
   "id": "8650ab1c",
   "metadata": {
    "ExecuteTime": {
     "end_time": "2023-07-03T22:27:06.740157Z",
     "start_time": "2023-07-03T22:27:06.412616Z"
    },
    "hidden": true
   },
   "outputs": [
    {
     "data": {
      "image/png": "[encoded data removed]",
      "text/plain": [
       "<Figure size 640x480 with 1 Axes>"
      ]
     },
     "metadata": {},
     "output_type": "display_data"
    },
    {
     "data": {
      "image/png": "[encoded data removed]",
      "text/plain": [
       "<Figure size 640x480 with 1 Axes>"
      ]
     },
     "metadata": {},
     "output_type": "display_data"
    }
   ],
   "source": [
    "# Importando as bibliotecas necessárias\n",
    "import pandas as pd\n",
    "import matplotlib.pyplot as plt\n",
    "\n",
    "# Arquivo \"brain_size.csv\" ajustado\n",
    "data = pd.read_csv('brain_size.csv', sep=';', na_values=\".\")\n",
    "\n",
    "# Histograma de 'Weight'\n",
    "plt.hist(data['Weight'].dropna(), bins=10)\n",
    "plt.xlabel('Weight')\n",
    "plt.ylabel('Count')\n",
    "plt.show()\n",
    "\n",
    "# Gráfico de barras de 'Gender'\n",
    "data['Gender'].value_counts().plot(kind='bar')\n",
    "plt.xlabel('Gender')\n",
    "plt.ylabel('Count')\n",
    "plt.show()"
   ]
  },
  {
   "cell_type": "markdown",
   "id": "75e6e94d",
   "metadata": {
    "heading_collapsed": true,
    "hidden": true
   },
   "source": [
    "#### Análise Bivariada"
   ]
  },
  {
   "cell_type": "code",
   "execution_count": 2,
   "id": "9b9784c3",
   "metadata": {
    "ExecuteTime": {
     "end_time": "2023-11-27T14:06:18.461434Z",
     "start_time": "2023-11-27T14:06:17.570078Z"
    },
    "hidden": true
   },
   "outputs": [
    {
     "data": {
      "image/png": "[encoded data removed]",
      "text/plain": [
       "<Figure size 640x480 with 1 Axes>"
      ]
     },
     "metadata": {},
     "output_type": "display_data"
    },
    {
     "data": {
      "image/png": "[encoded data removed]",
      "text/plain": [
       "<Figure size 640x480 with 1 Axes>"
      ]
     },
     "metadata": {},
     "output_type": "display_data"
    }
   ],
   "source": [
    "# Importando as bibliotecas necessárias\n",
    "import pandas as pd\n",
    "import matplotlib.pyplot as plt\n",
    "import seaborn as sns\n",
    "\n",
    "# Arquivo \"brain_size.csv\" ajustado\n",
    "data = pd.read_csv('brain_size.csv', sep=';', na_values=\".\")\n",
    "# Scatter plot de 'Weight' em relação a 'Height'\n",
    "plt.scatter(data['Height'], data['Weight'])\n",
    "plt.xlabel('Height')\n",
    "plt.ylabel('Weight')\n",
    "plt.show()\n",
    "\n",
    "# Box plot de 'Gender' em relação a 'VIQ'\n",
    "sns.boxplot(x='Gender', y='VIQ', data=data)\n",
    "plt.xlabel('Gender')\n",
    "plt.ylabel('VIQ')\n",
    "plt.show()"
   ]
  },
  {
   "cell_type": "markdown",
   "id": "14353547",
   "metadata": {
    "heading_collapsed": true,
    "hidden": true
   },
   "source": [
    "#### Correlação"
   ]
  },
  {
   "cell_type": "code",
   "execution_count": 39,
   "id": "b42a0b69",
   "metadata": {
    "ExecuteTime": {
     "end_time": "2023-07-03T22:27:09.075104Z",
     "start_time": "2023-07-03T22:27:08.637626Z"
    },
    "hidden": true
   },
   "outputs": [
    {
     "data": {
      "image/png": "[encoded data removed]",
      "text/plain": [
       "<Figure size 640x480 with 2 Axes>"
      ]
     },
     "metadata": {},
     "output_type": "display_data"
    }
   ],
   "source": [
    "# Importando bibliotecas necessárias\n",
    "import pandas as pd\n",
    "import matplotlib.pyplot as plt\n",
    "import seaborn as sns\n",
    "\n",
    "# Importando o arquivo \"brain_size.csv\" e ajustando os valores ausentes\n",
    "data = pd.read_csv('brain_size.csv', sep=';', na_values=\".\")\n",
    "\n",
    "# Selecionando apenas as colunas numéricas para calcular a matriz de correlação\n",
    "numeric_columns = data.select_dtypes(include='number')\n",
    "\n",
    "# Calculando a matriz de correlação\n",
    "correlation_matrix = numeric_columns.corr()\n",
    "\n",
    "# Plotando o mapa de calor da matriz de correlação\n",
    "sns.heatmap(correlation_matrix, annot=True, cmap='coolwarm')\n",
    "plt.title('Correlation Matrix')\n",
    "plt.show()"
   ]
  },
  {
   "cell_type": "markdown",
   "id": "beaf927a",
   "metadata": {
    "heading_collapsed": true,
    "hidden": true
   },
   "source": [
    "#### Teste de Hipótese"
   ]
  },
  {
   "cell_type": "code",
   "execution_count": 40,
   "id": "348ec24d",
   "metadata": {
    "ExecuteTime": {
     "end_time": "2023-07-03T22:27:10.154411Z",
     "start_time": "2023-07-03T22:27:10.101757Z"
    },
    "hidden": true
   },
   "outputs": [
    {
     "name": "stdout",
     "output_type": "stream",
     "text": [
      "Não há diferença significativa entre os gêneros\n"
     ]
    }
   ],
   "source": [
    "# Importando bibliotecas necessárias\n",
    "from scipy.stats import ttest_ind\n",
    "import pandas as pd\n",
    "\n",
    "# Importando o arquivo \"brain_size.csv\" e ajustando os valores ausentes\n",
    "data = pd.read_csv('brain_size.csv', sep=';', na_values=\".\")\n",
    "\n",
    "# Filtrando os dados de 'VIQ' para o gênero masculino\n",
    "male_viq = data[data['Gender'] == 'Male']['VIQ']\n",
    "\n",
    "# Filtrando os dados de 'VIQ' para o gênero feminino\n",
    "female_viq = data[data['Gender'] == 'Female']['VIQ']\n",
    "\n",
    "# Realizando o teste t independente\n",
    "t_statistic, p_value = ttest_ind(male_viq, female_viq, equal_var=False)\n",
    "\n",
    "# Verificando se o valor de p é menor que 0.05 (nível de significância de 5%)\n",
    "if p_value < 0.05:\n",
    "    print(\"Diferença significativa entre os gêneros\")\n",
    "else:\n",
    "    print(\"Não há diferença significativa entre os gêneros\")\n"
   ]
  },
  {
   "cell_type": "markdown",
   "id": "cab35898",
   "metadata": {
    "heading_collapsed": true,
    "hidden": true
   },
   "source": [
    "#### Regressão Linear Completa"
   ]
  },
  {
   "cell_type": "code",
   "execution_count": 41,
   "id": "803d639e",
   "metadata": {
    "ExecuteTime": {
     "end_time": "2023-07-03T22:27:11.907588Z",
     "start_time": "2023-07-03T22:27:11.836649Z"
    },
    "hidden": true
   },
   "outputs": [
    {
     "name": "stdout",
     "output_type": "stream",
     "text": [
      "                            OLS Regression Results                            \n",
      "==============================================================================\n",
      "Dep. Variable:                   FSIQ   R-squared:                       0.896\n",
      "Model:                            OLS   Adj. R-squared:                  0.893\n",
      "Method:                 Least Squares   F-statistic:                     327.8\n",
      "Date:                Mon, 03 Jul 2023   Prob (F-statistic):           2.79e-20\n",
      "Time:                        19:27:11   Log-Likelihood:                -138.22\n",
      "No. Observations:                  40   AIC:                             280.4\n",
      "Df Residuals:                      38   BIC:                             283.8\n",
      "Df Model:                           1                                         \n",
      "Covariance Type:            nonrobust                                         \n",
      "==============================================================================\n",
      "                 coef    std err          t      P>|t|      [0.025      0.975]\n",
      "------------------------------------------------------------------------------\n",
      "const          4.9967      6.118      0.817      0.419      -7.388      17.381\n",
      "VIQ            0.9653      0.053     18.106      0.000       0.857       1.073\n",
      "==============================================================================\n",
      "Omnibus:                        2.143   Durbin-Watson:                   2.362\n",
      "Prob(Omnibus):                  0.343   Jarque-Bera (JB):                1.670\n",
      "Skew:                           0.500   Prob(JB):                        0.434\n",
      "Kurtosis:                       2.943   Cond. No.                         565.\n",
      "==============================================================================\n",
      "\n",
      "Notes:\n",
      "[1] Standard Errors assume that the covariance matrix of the errors is correctly specified.\n"
     ]
    }
   ],
   "source": [
    "# Importando bibliotecas necessárias\n",
    "import statsmodels.api as sm\n",
    "import pandas as pd\n",
    "\n",
    "# Importando o arquivo \"brain_size.csv\" e ajustando os valores ausentes\n",
    "data = pd.read_csv('brain_size.csv', sep=';', na_values=\".\")\n",
    "\n",
    "# Definindo a variável independente X como 'VIQ' com uma coluna constante adicionada\n",
    "X = sm.add_constant(data['VIQ'])\n",
    "\n",
    "# Definindo a variável dependente y como 'FSIQ'\n",
    "y = data['FSIQ']\n",
    "\n",
    "# Criando o modelo de regressão linear com OLS\n",
    "model = sm.OLS(y, X)\n",
    "\n",
    "# Ajustando o modelo aos dados\n",
    "results = model.fit()\n",
    "\n",
    "# Imprimindo um resumo dos resultados do modelo\n",
    "print(results.summary())\n"
   ]
  },
  {
   "cell_type": "markdown",
   "id": "635aa785",
   "metadata": {
    "heading_collapsed": true,
    "hidden": true
   },
   "source": [
    "#### Análise de Variância"
   ]
  },
  {
   "cell_type": "code",
   "execution_count": 42,
   "id": "e70b54b6",
   "metadata": {
    "ExecuteTime": {
     "end_time": "2023-07-03T22:27:12.935596Z",
     "start_time": "2023-07-03T22:27:12.924649Z"
    },
    "hidden": true
   },
   "outputs": [
    {
     "name": "stdout",
     "output_type": "stream",
     "text": [
      "Não há diferenças significativas nas médias\n"
     ]
    }
   ],
   "source": [
    "# Importando bibliotecas necessárias\n",
    "from scipy.stats import f_oneway\n",
    "import pandas as pd\n",
    "\n",
    "# Importando o arquivo \"brain_size.csv\" e ajustando os valores ausentes\n",
    "data = pd.read_csv('brain_size.csv', sep=';', na_values=\".\")\n",
    "\n",
    "# Agrupando os dados por gênero e convertendo os valores de PIQ em uma lista para cada grupo\n",
    "grouped_data = data.groupby('Gender')['PIQ'].apply(list)\n",
    "\n",
    "# Realizando o teste ANOVA (Análise de Variância)\n",
    "f_statistic, p_value = f_oneway(*grouped_data)\n",
    "\n",
    "# Verificando se o valor de p é menor que 0.05 (nível de significância de 5%)\n",
    "if p_value < 0.05:\n",
    "    print(\"Diferenças significativas nas médias\")\n",
    "else:\n",
    "    print(\"Não há diferenças significativas nas médias\")\n"
   ]
  },
  {
   "cell_type": "markdown",
   "id": "0ce6a553",
   "metadata": {
    "heading_collapsed": true,
    "hidden": true
   },
   "source": [
    "#### Análise de Regressão Múltipla"
   ]
  },
  {
   "cell_type": "code",
   "execution_count": 43,
   "id": "486d4a5a",
   "metadata": {
    "ExecuteTime": {
     "end_time": "2023-07-03T22:27:15.857576Z",
     "start_time": "2023-07-03T22:27:14.565722Z"
    },
    "hidden": true
   },
   "outputs": [
    {
     "name": "stdout",
     "output_type": "stream",
     "text": [
      "                            OLS Regression Results                            \n",
      "==============================================================================\n",
      "Dep. Variable:                    VIQ   R-squared:                       0.241\n",
      "Model:                            OLS   Adj. R-squared:                  0.178\n",
      "Method:                 Least Squares   F-statistic:                     3.819\n",
      "Date:                Mon, 03 Jul 2023   Prob (F-statistic):             0.0179\n",
      "Time:                        19:27:15   Log-Likelihood:                -177.20\n",
      "No. Observations:                  40   AIC:                             362.4\n",
      "Df Residuals:                      36   BIC:                             369.2\n",
      "Df Model:                           3                                         \n",
      "Covariance Type:            nonrobust                                         \n",
      "==============================================================================\n",
      "                 coef    std err          t      P>|t|      [0.025      0.975]\n",
      "------------------------------------------------------------------------------\n",
      "const         91.3244     66.214      1.379      0.176     -42.963     225.612\n",
      "Weight        -0.1526      0.210     -0.728      0.471      -0.578       0.272\n",
      "Height        -2.0185      1.315     -1.534      0.134      -4.686       0.649\n",
      "MRI_Count      0.0002      6e-05      3.343      0.002    7.89e-05       0.000\n",
      "==============================================================================\n",
      "Omnibus:                        7.956   Durbin-Watson:                   2.051\n",
      "Prob(Omnibus):                  0.019   Jarque-Bera (JB):                2.349\n",
      "Skew:                           0.008   Prob(JB):                        0.309\n",
      "Kurtosis:                       1.813   Cond. No.                     1.78e+07\n",
      "==============================================================================\n",
      "\n",
      "Notes:\n",
      "[1] Standard Errors assume that the covariance matrix of the errors is correctly specified.\n",
      "[2] The condition number is large, 1.78e+07. This might indicate that there are\n",
      "strong multicollinearity or other numerical problems.\n"
     ]
    }
   ],
   "source": [
    "# Importando bibliotecas necessárias\n",
    "import statsmodels.api as sm\n",
    "import pandas as pd\n",
    "from sklearn.impute import SimpleImputer\n",
    "\n",
    "# Importando o arquivo \"brain_size.csv\" e ajustando os valores ausentes\n",
    "data = pd.read_csv('brain_size.csv', sep=';', na_values=\".\")\n",
    "\n",
    "# Preenchendo os valores ausentes com a média\n",
    "imputer = SimpleImputer(strategy='mean')\n",
    "data[['Weight', 'Height', 'MRI_Count']] = imputer.fit_transform(data[['Weight', 'Height', 'MRI_Count']])\n",
    "\n",
    "# Definindo as variáveis independentes e dependentes\n",
    "X = data[['Weight', 'Height', 'MRI_Count']]\n",
    "y = data['VIQ']\n",
    "\n",
    "# Adicionando a constante\n",
    "X = sm.add_constant(X)\n",
    "\n",
    "# Ajustando o modelo de regressão linear\n",
    "model = sm.OLS(y, X)\n",
    "results = model.fit()\n",
    "\n",
    "print(results.summary())"
   ]
  }
 ],
 "metadata": {
  "kernelspec": {
   "display_name": "Python 3 (ipykernel)",
   "language": "python",
   "name": "python3"
  },
  "language_info": {
   "codemirror_mode": {
    "name": "ipython",
    "version": 3
   },
   "file_extension": ".py",
   "mimetype": "text/x-python",
   "name": "python",
   "nbconvert_exporter": "python",
   "pygments_lexer": "ipython3",
   "version": "3.11.5"
  },
  "varInspector": {
   "cols": {
    "lenName": 16,
    "lenType": 16,
    "lenVar": 40
   },
   "kernels_config": {
    "python": {
     "delete_cmd_postfix": "",
     "delete_cmd_prefix": "del ",
     "library": "var_list.py",
     "varRefreshCmd": "print(var_dic_list())"
    },
    "r": {
     "delete_cmd_postfix": ") ",
     "delete_cmd_prefix": "rm(",
     "library": "var_list.r",
     "varRefreshCmd": "cat(var_dic_list()) "
    }
   },
   "types_to_exclude": [
    "module",
    "function",
    "builtin_function_or_method",
    "instance",
    "_Feature"
   ],
   "window_display": false
  }
 },
 "nbformat": 4,
 "nbformat_minor": 5
}
