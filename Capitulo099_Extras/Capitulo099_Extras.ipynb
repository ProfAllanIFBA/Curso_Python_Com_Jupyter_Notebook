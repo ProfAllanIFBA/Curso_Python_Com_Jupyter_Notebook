{
 "cells": [
  {
   "cell_type": "markdown",
   "id": "d58c273f",
   "metadata": {},
   "source": [
    "<center> <img src=\"logo_ifba.jpg\" alt=\"jpg_python\" width=\"100\" height=\"\"> </center>\n",
    "<br><br>\n",
    "<center> <img src=\"logo_coext.jpg\" alt=\"jpg_python\" width=\"200\" height=\"\"> </center>\n",
    "<br><br>\n",
    "<div align=\"center\"><span style=\"font-size: 26px;\"><strong>Python Com Jupyter Notebook</strong></span></div><br><br>\n",
    "<center><div style=\"text-align:center\">    <a href=\"https://colab.research.google.com/github/ProfAllanIFBA/Curso_Python_Com_Jupyter_Notebook/blob/main/Capitulo099_Extras/Capitulo099_Extras.ipynb\">Link Colab</a> \n",
    "</div><br><br></center>\n",
    "<center> <img src=\"python_gif.gif\" alt=\"gif_python\" width=\"80\"> </center>"
   ]
  },
  {
   "cell_type": "markdown",
   "id": "bddb16d0",
   "metadata": {},
   "source": [
    "Este material apresenta uma explicação detalhada sobre o uso do software de programação em Python chamado Jupyter Notebook, com foco na análise de dados. Abordaremos desde estruturas básicas, como listas e dicionários, até estruturas mais complexas voltadas para a análise de dados, como pandas e seaborn, além de ferramentas destinadas à inteligência artificial.\n",
    "\n",
    "\n",
    "<font color='red'> <u>Este é um material de uso público e totalmente gratuito</u>. Contudo, eventuais edições são de responsabilidade de quem as fizer. </font>\n",
    "\n",
    "Você pode ajudar a melhorar este material!\n",
    "\n",
    "Contato e Sugestões: allansoares@ifba.edu.br.\n",
    "\n",
    "[**Equipe Executora**](https://github.com/ProfAllanIFBA/Curso_Python_Com_Jupyter_Notebook/blob/main/Capitulo000_Equipe/Capitulo000_Equipe.ipynb)"
   ]
  },
  {
   "cell_type": "markdown",
   "id": "d5f91171",
   "metadata": {},
   "source": [
    "<div style=\"border: 2px solid black; padding: 10px; width: 100%; background-color: lightgray; display: flex; align-items: center;\">\n",
    "    <h1 style=\"color: red; text-align: center; margin: auto;\">\n",
    "        Capítulo 99: Extras\n",
    "    </h1>\n",
    "</div>\n",
    "\n",
    "<font color='red'></font>\n",
    "<a href=\"\"></a>"
   ]
  },
  {
   "cell_type": "markdown",
   "id": "ebd8f8a0",
   "metadata": {},
   "source": [
    "Este capítulo é dedicado a acréscimos no material principal do curso **Python com Jupyter Notebook**. Esses acréscimos foram realizados após a gravação dos vídeos, e, por isso, não foram incluídos no capítulo correspondente."
   ]
  },
  {
   "cell_type": "markdown",
   "id": "9d562535",
   "metadata": {},
   "source": [
    "<div style=\"border: 2px solid black; padding: 10px; width: 100%; background-color: lightgray; display: flex; align-items: center;\">\n",
    "    <h1 style=\"color: red; text-align: center; margin: auto; font-size: 20px;\">\n",
    "        Capítulo 3: Personalização do Ambiente Jupyter Notebook\n",
    "    </h1>\n",
    "</div>\n",
    "\n",
    "<font color='red'></font>\n",
    "<a href=\"\"></a>"
   ]
  },
  {
   "cell_type": "markdown",
   "id": "7b8bf87a",
   "metadata": {},
   "source": [
    "### Inserção de Imagem/Gif com Hyperlink <a id=\"âncora\"></a>"
   ]
  },
  {
   "cell_type": "markdown",
   "id": "11baff0c",
   "metadata": {},
   "source": [
    "Podemos colocar um hyperlink em uma imagem ou gif. Por exemplo, ao clicar no gif a seguir você será redirecionado à playlist do curso **Python Com Jupyter Notebook**:\n",
    "<a href=\"https://youtube.com/playlist?list=PL8aWdrmfXHiJqBB9ABjRunAiPItBbd_FX&si=mvZJOi0LBUHBhegL\">\n",
    "  <img src=\"youtube.gif\" alt=\"gif_python\" width=\"80\">\n",
    "</a>\n",
    "*Clique duas vezes na parte do texto para ver a codificação*."
   ]
  },
  {
   "cell_type": "markdown",
   "id": "cb313ba9",
   "metadata": {},
   "source": [
    "### Ancoragem de Células"
   ]
  },
  {
   "cell_type": "markdown",
   "id": "46e9f828",
   "metadata": {},
   "source": [
    "Em muitas situações, precisamos navegar por um documento extenso, indo, por exemplo, do índice a um ponto específico do texto. Usar a barra de rolagem nem sempre é a maneira mais eficiente, pois requer que busquemos manualmente o tópico ou seção desejados, o que pode ser demorado e impreciso, especialmente em documentos longos. Contudo, podemos simplificar e agilizar esse processo utilizando a **ancoragem de células**. Essa técnica nos permite criar links diretos para partes específicas do documento, facilitando o acesso imediato a seções ou informações relevantes com apenas um clique. Além de melhorar significativamente a navegabilidade e acessibilidade do documento, a ancoragem também contribui para uma experiência de leitura mais organizada e focada, permitindo aos leitores saltar diretamente para as informações que mais lhes interessam sem distrações. Vejamos os passos:"
   ]
  },
  {
   "cell_type": "markdown",
   "id": "081eb7ef",
   "metadata": {},
   "source": [
    "**Passo 1**: Em uma célula markdown, insira **\\<a id=\"nome_da_ancora\">\\</a>**. Isso servirá como uma espécie de endereço para a célula em questão, permitindo que você retorne a ela mais tarde."
   ]
  },
  {
   "cell_type": "markdown",
   "id": "7ce4a038",
   "metadata": {},
   "source": [
    "**Passo 2**: Em uma segunda célula, crie o link para a âncora usando \n",
    "**\\[Vá para a seção desejada\\](#nome_da_ancora)**. Ao clicar no link que aparecerá você será redirecionado à célula contendo a âncora."
   ]
  },
  {
   "cell_type": "markdown",
   "id": "89d3335b",
   "metadata": {},
   "source": [
    "Por exemplo, o link apresentado a seguir o levará para o tópico **Inserção de Imagem/Gif com Hyperlink**."
   ]
  },
  {
   "cell_type": "markdown",
   "id": "de2629e5",
   "metadata": {
    "ExecuteTime": {
     "end_time": "2024-02-17T12:35:11.871060Z",
     "start_time": "2024-02-17T12:35:11.223579Z"
    }
   },
   "source": [
    "[Inserção de Imagem/Gif com Hyperlink](#âncora)"
   ]
  },
  {
   "cell_type": "markdown",
   "id": "f79a0a93",
   "metadata": {},
   "source": [
    "### Abrindo Um Arquivo ou Um Executável"
   ]
  },
  {
   "cell_type": "markdown",
   "id": "cd3201c5",
   "metadata": {},
   "source": [
    "Frequentemente, ao trabalhar no ambiente Jupyter, nos deparamos com a necessidade de alternar entre janelas para abrir um arquivo ou executar um programa localizado em outro diretório. No entanto, se o arquivo ou executável estiver no mesmo repositório do seu notebook Jupyter, é possível abri-lo ou executá-lo diretamente, utilizando os seguintes comandos (*Windows*):"
   ]
  },
  {
   "cell_type": "code",
   "execution_count": null,
   "id": "aaca8d32",
   "metadata": {
    "ExecuteTime": {
     "end_time": "2024-02-17T12:45:07.388596Z",
     "start_time": "2024-02-17T12:45:07.219496Z"
    }
   },
   "outputs": [],
   "source": [
    "import os\n",
    "\n",
    "# O arquivo 'Arquivo_Externo.docx' deve estar no repistório do seu notebook Jupyter\n",
    "\n",
    "os.system('start Arquivo_Externo.docx') "
   ]
  },
  {
   "cell_type": "code",
   "execution_count": null,
   "id": "5d0d5582",
   "metadata": {
    "ExecuteTime": {
     "end_time": "2024-02-17T12:45:14.694525Z",
     "start_time": "2024-02-17T12:45:14.588785Z"
    }
   },
   "outputs": [],
   "source": [
    "import os\n",
    "\n",
    "# O arquivo 'Calculadora.exe' deve estar no repistório do seu notebook Jupyter\n",
    "\n",
    "os.system('start Calculadora.exe')"
   ]
  },
  {
   "cell_type": "markdown",
   "id": "92c26a01",
   "metadata": {},
   "source": [
    "<div style=\"border: 2px solid black; padding: 10px; width: 100%; background-color: lightgray; display: flex; align-items: center;\">\n",
    "    <h1 style=\"color: red; text-align: center; margin: auto; font-size: 20px;\">\n",
    "        Capítulo 4: A Função Print\n",
    "    </h1>\n",
    "</div>\n",
    "\n",
    "<font color='red'></font>\n",
    "<a href=\"\"></a>"
   ]
  },
  {
   "cell_type": "markdown",
   "id": "ecfeaca5",
   "metadata": {},
   "source": [
    "No Python, o **print()** é uma função que você pode usar para exibir mensagens na saída padrão. Dentro do contexto do **print()**, você pode usar diferentes formas de strings: strings normais, strings formatadas (***f-strings***), strings raw (***r-strings***), e uma combinação de raw e formatadas (***rf-strings*** ou ***fr-strings***). Vamos detalhar cada uma:"
   ]
  },
  {
   "cell_type": "markdown",
   "id": "257f305d",
   "metadata": {},
   "source": [
    "### F-strings (já abordada)"
   ]
  },
  {
   "cell_type": "markdown",
   "id": "4d5122fa",
   "metadata": {},
   "source": [
    "As **f-strings**, introduzidas no Python $3.6$, oferecem uma maneira conveniente e eficiente de formatar strings. Você antecede a stringo com a letra 'f' e pode diretamente incorporar expressões Python dentro de chaves '\\{ \\}' que serão avaliadas em tempo de execução. F-strings são úteis para construir dinamicamente, incorporando variáveis e expressões Python diretamente dentro da string."
   ]
  },
  {
   "cell_type": "code",
   "execution_count": null,
   "id": "9b06bafa",
   "metadata": {
    "ExecuteTime": {
     "end_time": "2024-02-17T13:11:49.920542Z",
     "start_time": "2024-02-17T13:11:49.916274Z"
    }
   },
   "outputs": [],
   "source": [
    "nome = \"Mundo\"\n",
    "print(f\"Olá, {nome}!\")"
   ]
  },
  {
   "cell_type": "markdown",
   "id": "f2ad56ed",
   "metadata": {},
   "source": [
    "### R-strings"
   ]
  },
  {
   "cell_type": "markdown",
   "id": "2b91e800",
   "metadata": {},
   "source": [
    "As **r-strings**, ou strings raw, são precedidas pela letra 'r' e instruem o Python a tratar **backslashes** ('\\\\') como caracteres literais, em vez de interpretá-los como início de sequências de escape. Elas são extremamente úteis ao lidar com strings que contêm muitos backslashes, tais como expressões regulares e caminhos de arquivos no Windows, eliminando a necessidade de duplicar os backslashes. Isso pode ser visto como uma forma de 'impressão literal'. Em termos mais simples, o uso de uma r-string em um comando print(r'expressão') permite imprimir o texto exatamente como ele aparece, incluindo os caracteres de escape, sem interpretá-los de forma especial. O prefixo 'r' antes da string sinaliza ao Python para tratar os backslashes () como caracteres literais, não como parte de sequências de escape."
   ]
  },
  {
   "cell_type": "code",
   "execution_count": null,
   "id": "248372ee",
   "metadata": {
    "ExecuteTime": {
     "end_time": "2024-02-17T13:17:03.942737Z",
     "start_time": "2024-02-17T13:17:03.937260Z"
    }
   },
   "outputs": [],
   "source": [
    "# Tetantiva\n",
    "\n",
    "print(\"C:\\Usuários\\Nome\")"
   ]
  },
  {
   "cell_type": "code",
   "execution_count": null,
   "id": "206eab18",
   "metadata": {
    "ExecuteTime": {
     "end_time": "2024-02-17T13:17:25.135234Z",
     "start_time": "2024-02-17T13:17:25.131057Z"
    }
   },
   "outputs": [],
   "source": [
    "# Usando r-string\n",
    "\n",
    "print(r\"C:\\Usuários\\Nome\")"
   ]
  },
  {
   "cell_type": "code",
   "execution_count": null,
   "id": "5aa8cd3d",
   "metadata": {
    "ExecuteTime": {
     "end_time": "2024-02-17T13:23:19.157049Z",
     "start_time": "2024-02-17T13:23:19.152838Z"
    }
   },
   "outputs": [],
   "source": [
    "# Mais um exemplo\n",
    "\n",
    "nome1 = 'Lara \\n Soares \\n'\n",
    "nome2 = r'Lara \\n Soares'\n",
    "\n",
    "print(nome1)\n",
    "print(nome2)"
   ]
  },
  {
   "cell_type": "markdown",
   "id": "6d717a68",
   "metadata": {
    "ExecuteTime": {
     "end_time": "2024-02-17T13:24:14.518146Z",
     "start_time": "2024-02-17T13:24:14.514118Z"
    }
   },
   "source": [
    "### FR-strings (ou RF-strings)"
   ]
  },
  {
   "cell_type": "markdown",
   "id": "644edb2b",
   "metadata": {},
   "source": [
    "Combina as funcionalidades das **f-strings** e **r-strings**. Você pode usar 'fr' ou 'rf' antes das aspas da string para aplicar ambos os comportamentos. É útil quando você precisa inserir variáveis ou expressões em uma string que também contém backslashes, como ao trabalhar com expressões regulares que são geradas dinamicamente ou caminhos de arquivo que incluem variáveis."
   ]
  },
  {
   "cell_type": "code",
   "execution_count": null,
   "id": "722979d1",
   "metadata": {
    "ExecuteTime": {
     "end_time": "2024-02-17T13:41:41.358472Z",
     "start_time": "2024-02-17T13:41:41.354468Z"
    }
   },
   "outputs": [],
   "source": [
    "nome_arquivo = \"relatório\"\n",
    "print(fr\"C:\\Dados\\{nome_arquivo}.txt\")"
   ]
  },
  {
   "cell_type": "markdown",
   "id": "f586c6dd",
   "metadata": {},
   "source": [
    "### R,F,FR-strings e LaTex"
   ]
  },
  {
   "cell_type": "markdown",
   "id": "19537868",
   "metadata": {},
   "source": [
    "Podemos utilizar a biblioteca IPython para exibir expressões em LaTex. Isso permite que você apresente fórmulas matemáticas de forma elegante, aproveitando a renderização do LaTex. Vejamos um exemplo de como imprimir a expressão LaTex '$\\frac{x^{2}+1}{\\sqrt{x}}$' (em LaTex dada por '\\$ \\\\frac\\{x^{2}+1\\}\\{\\sqrt{x}\\} \\\\$'):"
   ]
  },
  {
   "cell_type": "code",
   "execution_count": null,
   "id": "049b1284",
   "metadata": {
    "ExecuteTime": {
     "end_time": "2024-02-17T13:39:35.685499Z",
     "start_time": "2024-02-17T13:39:35.679728Z"
    }
   },
   "outputs": [],
   "source": [
    "from IPython.display import Latex\n",
    "\n",
    "# Exibir uma expressão LaTeX\n",
    "display(Latex(r'\\[ \\frac{x^{2}+1}{\\sqrt{x}} \\]'))"
   ]
  },
  {
   "cell_type": "markdown",
   "id": "9367a658",
   "metadata": {},
   "source": [
    "ou"
   ]
  },
  {
   "cell_type": "code",
   "execution_count": 6,
   "id": "d588462f",
   "metadata": {
    "ExecuteTime": {
     "end_time": "2024-02-17T13:59:34.310422Z",
     "start_time": "2024-02-17T13:59:34.304356Z"
    }
   },
   "outputs": [
    {
     "data": {
      "text/latex": [
       "$\\displaystyle \\frac{x^{2}+1}{\\sqrt{x}}$"
      ],
      "text/plain": [
       "<IPython.core.display.Math object>"
      ]
     },
     "metadata": {},
     "output_type": "display_data"
    }
   ],
   "source": [
    "from IPython.display import display, Math\n",
    "\n",
    "# Exibir uma expressão LaTeX\n",
    "display(Math(r'\\frac{x^{2}+1}{\\sqrt{x}}'))"
   ]
  },
  {
   "cell_type": "markdown",
   "id": "ecb59702",
   "metadata": {},
   "source": [
    "É possível combinar variáveis Python com expressões LaTeX no Jupyter Notebook utilizando **display** e **Math** da biblioteca IPython. Para isso, deve-se formatar a string de entrada para Math usando f-strings do Python (disponíveis a partir do Python 3.6). Isso permite a inserção direta de valores de variáveis na expressão LaTeX. Contudo, ao empregar f-strings com expressões LaTeX, é necessário atentar para as chaves duplas ('{{' e '}}'), comuns no LaTeX, pois podem ser interpretadas como parte da sintaxe de formatação das f-strings. Para incluir chaves literalmente em uma f-string, é preciso duplicá-las."
   ]
  },
  {
   "cell_type": "code",
   "execution_count": 3,
   "id": "eb05b5f5",
   "metadata": {
    "ExecuteTime": {
     "end_time": "2024-02-17T13:51:09.053012Z",
     "start_time": "2024-02-17T13:51:09.047123Z"
    }
   },
   "outputs": [
    {
     "data": {
      "text/latex": [
       "$\\displaystyle \\frac{x^{ 3 }+1}{\\sqrt[ 4 ]{x}}$"
      ],
      "text/plain": [
       "<IPython.core.display.Math object>"
      ]
     },
     "metadata": {},
     "output_type": "display_data"
    }
   ],
   "source": [
    "from IPython.display import display, Math\n",
    "\n",
    "n = 3\n",
    "\n",
    "# Usando f-string para inserir variáveis em uma expressão LaTeX\n",
    "display(Math(rf'\\frac{{x^{{ {n} }}+1}}{{\\sqrt[ {n+1} ]{{x}}}}'))"
   ]
  }
 ],
 "metadata": {
  "kernelspec": {
   "display_name": "Python 3 (ipykernel)",
   "language": "python",
   "name": "python3"
  },
  "language_info": {
   "codemirror_mode": {
    "name": "ipython",
    "version": 3
   },
   "file_extension": ".py",
   "mimetype": "text/x-python",
   "name": "python",
   "nbconvert_exporter": "python",
   "pygments_lexer": "ipython3",
   "version": "3.11.5"
  }
 },
 "nbformat": 4,
 "nbformat_minor": 5
}
