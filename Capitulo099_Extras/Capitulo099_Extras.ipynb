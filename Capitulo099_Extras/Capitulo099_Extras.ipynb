{
 "cells": [
  {
   "cell_type": "markdown",
   "id": "d58c273f",
   "metadata": {},
   "source": [
    "<center> <img src=\"logo_ifba.jpg\" alt=\"jpg_python\" width=\"100\" height=\"\"> </center>\n",
    "<br><br>\n",
    "<center> <img src=\"logo_coext.jpg\" alt=\"jpg_python\" width=\"200\" height=\"\"> </center>\n",
    "<br><br>\n",
    "<div align=\"center\"><span style=\"font-size: 26px;\"><strong>Python Com Jupyter Notebook</strong></span></div><br><br>\n",
    "<center><div style=\"text-align:center\">    <a href=\"https://colab.research.google.com/github/ProfAllanIFBA/Curso_Python_Com_Jupyter_Notebook/blob/main/Capitulo099_Extras/Capitulo099_Extras.ipynb\">Link Colab</a> \n",
    "</div><br><br></center>\n",
    "<center> <img src=\"python_gif.gif\" alt=\"gif_python\" width=\"80\"> </center>"
   ]
  },
  {
   "cell_type": "markdown",
   "id": "bddb16d0",
   "metadata": {},
   "source": [
    "Este material apresenta uma explicação detalhada sobre o uso do software de programação em Python chamado Jupyter Notebook, com foco na análise de dados. Abordaremos desde estruturas básicas, como listas e dicionários, até estruturas mais complexas voltadas para a análise de dados, como pandas e seaborn, além de ferramentas destinadas à inteligência artificial.\n",
    "\n",
    "\n",
    "<font color='red'> <u>Este é um material de uso público e totalmente gratuito</u>. Contudo, eventuais edições são de responsabilidade de quem as fizer. </font>\n",
    "\n",
    "Você pode ajudar a melhorar este material!\n",
    "\n",
    "Contato e Sugestões: allansoares@ifba.edu.br.\n",
    "\n",
    "[**Equipe Executora**](https://github.com/ProfAllanIFBA/Curso_Python_Com_Jupyter_Notebook/blob/main/Capitulo000_Equipe/Capitulo000_Equipe.ipynb)"
   ]
  },
  {
   "cell_type": "markdown",
   "id": "d5f91171",
   "metadata": {},
   "source": [
    "<div style=\"border: 2px solid black; padding: 10px; width: 100%; background-color: lightgray; display: flex; align-items: center;\">\n",
    "    <h1 style=\"color: red; text-align: center; margin: auto;\">\n",
    "        Capítulo 99: Extras\n",
    "    </h1>\n",
    "</div>\n",
    "\n",
    "<font color='red'></font>\n",
    "<a href=\"\"></a>"
   ]
  },
  {
   "cell_type": "markdown",
   "id": "ebd8f8a0",
   "metadata": {},
   "source": [
    "Este capítulo é dedicado a acréscimos no material principal do curso **Python com Jupyter Notebook**. Esses acréscimos foram realizados após a gravação dos vídeos, e, por isso, não foram incluídos no capítulo correspondente."
   ]
  },
  {
   "cell_type": "markdown",
   "id": "9d562535",
   "metadata": {},
   "source": [
    "<div style=\"border: 2px solid black; padding: 10px; width: 100%; background-color: lightgray; display: flex; align-items: center;\">\n",
    "    <h1 style=\"color: red; text-align: center; margin: auto; font-size: 20px;\">\n",
    "        Capítulo 3: Personalização do Ambiente Jupyter Notebook\n",
    "    </h1>\n",
    "</div>\n",
    "\n",
    "<font color='red'></font>\n",
    "<a href=\"\"></a>"
   ]
  },
  {
   "cell_type": "markdown",
   "id": "ac76777a",
   "metadata": {},
   "source": [
    "## <div style=\"margin-top: -20px;\">\n",
    "<hr style=\"border: 2px solid blue;\">\n",
    "\n",
    "<font color='blue'><span style=\"font-size: 22px;\"><strong>3.4+ Inserção de Imagens e Hyperlinks</strong></span></font>\n",
    "\n",
    "<hr style=\"border: 2px solid blue;\">\n",
    "</div>"
   ]
  },
  {
   "cell_type": "markdown",
   "id": "7b8bf87a",
   "metadata": {},
   "source": [
    "### Inserção de Imagem/Gif com Hyperlink <a id=\"âncora\"></a>"
   ]
  },
  {
   "cell_type": "markdown",
   "id": "11baff0c",
   "metadata": {},
   "source": [
    "Podemos colocar um hyperlink em uma imagem ou gif. Por exemplo, ao clicar no gif a seguir você será redirecionado à playlist do curso **Python Com Jupyter Notebook**:\n",
    "<a href=\"https://youtube.com/playlist?list=PL8aWdrmfXHiJqBB9ABjRunAiPItBbd_FX&si=mvZJOi0LBUHBhegL\">\n",
    "  <img src=\"youtube.gif\" alt=\"gif_python\" width=\"80\">\n",
    "</a>\n",
    "*Clique duas vezes na parte do texto para ver a codificação*."
   ]
  },
  {
   "cell_type": "markdown",
   "id": "cb313ba9",
   "metadata": {},
   "source": [
    "### Ancoragem de Células"
   ]
  },
  {
   "cell_type": "markdown",
   "id": "46e9f828",
   "metadata": {},
   "source": [
    "Em muitas situações, precisamos navegar por um documento extenso, indo, por exemplo, do índice a um ponto específico do texto. Usar a barra de rolagem nem sempre é a maneira mais eficiente, pois requer que busquemos manualmente o tópico ou seção desejados, o que pode ser demorado e impreciso, especialmente em documentos longos. Contudo, podemos simplificar e agilizar esse processo utilizando a **ancoragem de células**. Essa técnica nos permite criar links diretos para partes específicas do documento, facilitando o acesso imediato a seções ou informações relevantes com apenas um clique. Além de melhorar significativamente a navegabilidade e acessibilidade do documento, a ancoragem também contribui para uma experiência de leitura mais organizada e focada, permitindo aos leitores saltar diretamente para as informações que mais lhes interessam sem distrações. Vejamos os passos:"
   ]
  },
  {
   "cell_type": "markdown",
   "id": "081eb7ef",
   "metadata": {},
   "source": [
    "**Passo 1**: Em uma célula markdown, insira **\\<a id=\"nome_da_ancora\">\\</a>**. Isso servirá como uma espécie de endereço para a célula em questão, permitindo que você retorne a ela mais tarde."
   ]
  },
  {
   "cell_type": "markdown",
   "id": "7ce4a038",
   "metadata": {},
   "source": [
    "**Passo 2**: Em uma segunda célula, crie o link para a âncora usando \n",
    "**\\[Vá para a seção desejada\\](#nome_da_ancora)**. Ao clicar no link que aparecerá você será redirecionado à célula contendo a âncora."
   ]
  },
  {
   "cell_type": "markdown",
   "id": "89d3335b",
   "metadata": {},
   "source": [
    "Por exemplo, o link apresentado a seguir o levará para o tópico **Inserção de Imagem/Gif com Hyperlink**."
   ]
  },
  {
   "cell_type": "markdown",
   "id": "de2629e5",
   "metadata": {
    "ExecuteTime": {
     "end_time": "2024-02-17T12:35:11.871060Z",
     "start_time": "2024-02-17T12:35:11.223579Z"
    }
   },
   "source": [
    "[Inserção de Imagem/Gif com Hyperlink](#âncora)"
   ]
  },
  {
   "cell_type": "markdown",
   "id": "f79a0a93",
   "metadata": {},
   "source": [
    "### Abrindo Um Arquivo ou Um Executável"
   ]
  },
  {
   "cell_type": "markdown",
   "id": "cd3201c5",
   "metadata": {},
   "source": [
    "Frequentemente, ao trabalhar no ambiente Jupyter, nos deparamos com a necessidade de alternar entre janelas para abrir um arquivo ou executar um programa localizado em outro diretório. No entanto, se o arquivo ou executável estiver no mesmo repositório do seu notebook Jupyter, é possível abri-lo ou executá-lo diretamente, utilizando os seguintes comandos (*Windows*):"
   ]
  },
  {
   "cell_type": "code",
   "execution_count": 1,
   "id": "aaca8d32",
   "metadata": {
    "ExecuteTime": {
     "end_time": "2024-02-17T12:45:07.388596Z",
     "start_time": "2024-02-17T12:45:07.219496Z"
    }
   },
   "outputs": [
    {
     "data": {
      "text/plain": [
       "0"
      ]
     },
     "execution_count": 1,
     "metadata": {},
     "output_type": "execute_result"
    }
   ],
   "source": [
    "import os\n",
    "\n",
    "# O arquivo 'Arquivo_Externo.docx' deve estar no repistório do seu notebook Jupyter\n",
    "\n",
    "os.system('start Arquivo_Externo.docx') "
   ]
  },
  {
   "cell_type": "code",
   "execution_count": 2,
   "id": "5d0d5582",
   "metadata": {
    "ExecuteTime": {
     "end_time": "2024-02-17T12:45:14.694525Z",
     "start_time": "2024-02-17T12:45:14.588785Z"
    }
   },
   "outputs": [
    {
     "data": {
      "text/plain": [
       "0"
      ]
     },
     "execution_count": 2,
     "metadata": {},
     "output_type": "execute_result"
    }
   ],
   "source": [
    "import os\n",
    "\n",
    "# O arquivo 'Calculadora.exe' deve estar no repistório do seu notebook Jupyter\n",
    "\n",
    "os.system('start Calculadora.exe')"
   ]
  },
  {
   "cell_type": "code",
   "execution_count": null,
   "id": "0cb645bc",
   "metadata": {},
   "outputs": [],
   "source": []
  },
  {
   "cell_type": "code",
   "execution_count": null,
   "id": "7d34c532",
   "metadata": {},
   "outputs": [],
   "source": []
  }
 ],
 "metadata": {
  "kernelspec": {
   "display_name": "Python 3 (ipykernel)",
   "language": "python",
   "name": "python3"
  },
  "language_info": {
   "codemirror_mode": {
    "name": "ipython",
    "version": 3
   },
   "file_extension": ".py",
   "mimetype": "text/x-python",
   "name": "python",
   "nbconvert_exporter": "python",
   "pygments_lexer": "ipython3",
   "version": "3.11.5"
  }
 },
 "nbformat": 4,
 "nbformat_minor": 5
}
